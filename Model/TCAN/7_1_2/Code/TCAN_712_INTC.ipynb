{
  "cells": [
    {
      "cell_type": "markdown",
      "source": [
        "## Preparation"
      ],
      "metadata": {
        "id": "Ty-2HmFfAEUU"
      },
      "id": "Ty-2HmFfAEUU"
    },
    {
      "cell_type": "markdown",
      "source": [
        "### Download the optimization support library package"
      ],
      "metadata": {
        "id": "wCHCM3ifASoq"
      },
      "id": "wCHCM3ifASoq"
    },
    {
      "cell_type": "code",
      "source": [
        "!pip install optuna"
      ],
      "metadata": {
        "colab": {
          "base_uri": "https://localhost:8080/"
        },
        "id": "h-uK9HgR9_AM",
        "outputId": "5a0b70b9-103a-49d3-e553-7fdd83bcfaff"
      },
      "id": "h-uK9HgR9_AM",
      "execution_count": 1,
      "outputs": [
        {
          "output_type": "stream",
          "name": "stdout",
          "text": [
            "Looking in indexes: https://pypi.org/simple, https://us-python.pkg.dev/colab-wheels/public/simple/\n",
            "Collecting optuna\n",
            "  Downloading optuna-3.2.0-py3-none-any.whl (390 kB)\n",
            "\u001b[2K     \u001b[90m━━━━━━━━━━━━━━━━━━━━━━━━━━━━━━━━━━━━━━━\u001b[0m \u001b[32m390.6/390.6 kB\u001b[0m \u001b[31m6.7 MB/s\u001b[0m eta \u001b[36m0:00:00\u001b[0m\n",
            "\u001b[?25hCollecting alembic>=1.5.0 (from optuna)\n",
            "  Downloading alembic-1.11.1-py3-none-any.whl (224 kB)\n",
            "\u001b[2K     \u001b[90m━━━━━━━━━━━━━━━━━━━━━━━━━━━━━━━━━━━━━━\u001b[0m \u001b[32m224.5/224.5 kB\u001b[0m \u001b[31m22.7 MB/s\u001b[0m eta \u001b[36m0:00:00\u001b[0m\n",
            "\u001b[?25hCollecting cmaes>=0.9.1 (from optuna)\n",
            "  Downloading cmaes-0.9.1-py3-none-any.whl (21 kB)\n",
            "Collecting colorlog (from optuna)\n",
            "  Downloading colorlog-6.7.0-py2.py3-none-any.whl (11 kB)\n",
            "Requirement already satisfied: numpy in /usr/local/lib/python3.10/dist-packages (from optuna) (1.22.4)\n",
            "Requirement already satisfied: packaging>=20.0 in /usr/local/lib/python3.10/dist-packages (from optuna) (23.1)\n",
            "Requirement already satisfied: sqlalchemy>=1.3.0 in /usr/local/lib/python3.10/dist-packages (from optuna) (2.0.10)\n",
            "Requirement already satisfied: tqdm in /usr/local/lib/python3.10/dist-packages (from optuna) (4.65.0)\n",
            "Requirement already satisfied: PyYAML in /usr/local/lib/python3.10/dist-packages (from optuna) (6.0)\n",
            "Collecting Mako (from alembic>=1.5.0->optuna)\n",
            "  Downloading Mako-1.2.4-py3-none-any.whl (78 kB)\n",
            "\u001b[2K     \u001b[90m━━━━━━━━━━━━━━━━━━━━━━━━━━━━━━━━━━━━━━━━\u001b[0m \u001b[32m78.7/78.7 kB\u001b[0m \u001b[31m9.3 MB/s\u001b[0m eta \u001b[36m0:00:00\u001b[0m\n",
            "\u001b[?25hRequirement already satisfied: typing-extensions>=4 in /usr/local/lib/python3.10/dist-packages (from alembic>=1.5.0->optuna) (4.5.0)\n",
            "Requirement already satisfied: greenlet!=0.4.17 in /usr/local/lib/python3.10/dist-packages (from sqlalchemy>=1.3.0->optuna) (2.0.2)\n",
            "Requirement already satisfied: MarkupSafe>=0.9.2 in /usr/local/lib/python3.10/dist-packages (from Mako->alembic>=1.5.0->optuna) (2.1.2)\n",
            "Installing collected packages: Mako, colorlog, cmaes, alembic, optuna\n",
            "Successfully installed Mako-1.2.4 alembic-1.11.1 cmaes-0.9.1 colorlog-6.7.0 optuna-3.2.0\n"
          ]
        }
      ]
    },
    {
      "cell_type": "markdown",
      "source": [
        "### Connect to Google Drive"
      ],
      "metadata": {
        "id": "-yVNLlKiAkLO"
      },
      "id": "-yVNLlKiAkLO"
    },
    {
      "cell_type": "code",
      "source": [
        "from google.colab import drive\n",
        "drive.mount('/content/drive', force_remount=True)"
      ],
      "metadata": {
        "colab": {
          "base_uri": "https://localhost:8080/"
        },
        "id": "O32NLGXv96h9",
        "outputId": "4412d32a-a434-45a1-80df-3f7829823e78"
      },
      "id": "O32NLGXv96h9",
      "execution_count": 2,
      "outputs": [
        {
          "output_type": "stream",
          "name": "stdout",
          "text": [
            "Mounted at /content/drive\n"
          ]
        }
      ]
    },
    {
      "cell_type": "markdown",
      "source": [
        "## Import Libraries"
      ],
      "metadata": {
        "id": "W53Qynm-ZVZt"
      },
      "id": "W53Qynm-ZVZt"
    },
    {
      "cell_type": "code",
      "execution_count": 3,
      "id": "87d177e7",
      "metadata": {
        "id": "87d177e7"
      },
      "outputs": [],
      "source": [
        "# Library to support working with data\n",
        "import numpy as np\n",
        "import pandas as pd\n",
        "\n",
        "# Graphing support library\n",
        "import matplotlib.pyplot as plt\n",
        "\n",
        "# Data Normalization Support Library\n",
        "from sklearn.preprocessing import MinMaxScaler\n",
        "\n",
        "# Library to support building Temporal Convolutional Attention Networks models\n",
        "from tensorflow.keras.models import Model\n",
        "from tensorflow.keras.optimizers import Adam\n",
        "from tensorflow.keras.callbacks import EarlyStopping\n",
        "from tensorflow.keras.layers import Dense, Flatten, Conv1D, MaxPooling1D, GlobalMaxPooling1D, Dropout, SpatialDropout1D\n",
        "from tensorflow.keras.layers import Layer, RepeatVector, concatenate, Reshape, Input, Concatenate, Permute, Multiply, Add, Activation\n",
        "\n",
        "# Performance metrics calculation support library\n",
        "from sklearn.metrics import mean_squared_error, mean_absolute_percentage_error, mean_squared_log_error\n",
        "\n",
        "# Parameter optimization support library\n",
        "import optuna\n",
        "\n",
        "# Support library to ignore warnings\n",
        "import warnings\n",
        "warnings.filterwarnings(\"ignore\")\n",
        "\n",
        "# Support library to load models and data\n",
        "from keras.utils import custom_object_scope\n",
        "from tensorflow.keras.models import load_model"
      ]
    },
    {
      "cell_type": "markdown",
      "source": [
        "## Data preprocessing"
      ],
      "metadata": {
        "id": "-DlshO-2cJbs"
      },
      "id": "-DlshO-2cJbs"
    },
    {
      "cell_type": "markdown",
      "source": [
        "### Read data"
      ],
      "metadata": {
        "id": "ezxH2qTIcLnT"
      },
      "id": "ezxH2qTIcLnT"
    },
    {
      "cell_type": "code",
      "execution_count": 4,
      "id": "77ce5605",
      "metadata": {
        "colab": {
          "base_uri": "https://localhost:8080/",
          "height": 423
        },
        "id": "77ce5605",
        "outputId": "65294be3-b075-4af4-add6-922419cba8cb"
      },
      "outputs": [
        {
          "output_type": "execute_result",
          "data": {
            "text/plain": [
              "            Date       Open       High        Low      Close  Adj Close  \\\n",
              "0     2019-01-02  45.959999  47.470001  45.770000  47.080002  41.343937   \n",
              "1     2019-01-03  46.150002  46.279999  44.389999  44.490002  39.069477   \n",
              "2     2019-01-04  45.840000  47.570000  45.540001  47.220001  41.466869   \n",
              "3     2019-01-07  47.099998  48.000000  46.750000  47.439999  41.660065   \n",
              "4     2019-01-08  47.799999  48.029999  46.779999  47.740002  41.923512   \n",
              "...          ...        ...        ...        ...        ...        ...   \n",
              "1114  2023-06-06  29.770000  31.450001  29.700001  30.959999  30.959999   \n",
              "1115  2023-06-07  31.030001  31.370001  30.930000  31.280001  31.280001   \n",
              "1116  2023-06-08  31.430000  31.850000  31.059999  31.820000  31.820000   \n",
              "1117  2023-06-09  31.930000  31.990000  30.680000  31.340000  31.340000   \n",
              "1118  2023-06-12  31.400000  33.299999  31.360001  33.070000  33.070000   \n",
              "\n",
              "        Volume  \n",
              "0     18774600  \n",
              "1     32267300  \n",
              "2     35447300  \n",
              "3     22736800  \n",
              "4     22749200  \n",
              "...        ...  \n",
              "1114  42295300  \n",
              "1115  39098000  \n",
              "1116  35199000  \n",
              "1117  40218000  \n",
              "1118  59881600  \n",
              "\n",
              "[1119 rows x 7 columns]"
            ],
            "text/html": [
              "\n",
              "  <div id=\"df-39204cd6-b357-4528-b933-d6c37697de12\">\n",
              "    <div class=\"colab-df-container\">\n",
              "      <div>\n",
              "<style scoped>\n",
              "    .dataframe tbody tr th:only-of-type {\n",
              "        vertical-align: middle;\n",
              "    }\n",
              "\n",
              "    .dataframe tbody tr th {\n",
              "        vertical-align: top;\n",
              "    }\n",
              "\n",
              "    .dataframe thead th {\n",
              "        text-align: right;\n",
              "    }\n",
              "</style>\n",
              "<table border=\"1\" class=\"dataframe\">\n",
              "  <thead>\n",
              "    <tr style=\"text-align: right;\">\n",
              "      <th></th>\n",
              "      <th>Date</th>\n",
              "      <th>Open</th>\n",
              "      <th>High</th>\n",
              "      <th>Low</th>\n",
              "      <th>Close</th>\n",
              "      <th>Adj Close</th>\n",
              "      <th>Volume</th>\n",
              "    </tr>\n",
              "  </thead>\n",
              "  <tbody>\n",
              "    <tr>\n",
              "      <th>0</th>\n",
              "      <td>2019-01-02</td>\n",
              "      <td>45.959999</td>\n",
              "      <td>47.470001</td>\n",
              "      <td>45.770000</td>\n",
              "      <td>47.080002</td>\n",
              "      <td>41.343937</td>\n",
              "      <td>18774600</td>\n",
              "    </tr>\n",
              "    <tr>\n",
              "      <th>1</th>\n",
              "      <td>2019-01-03</td>\n",
              "      <td>46.150002</td>\n",
              "      <td>46.279999</td>\n",
              "      <td>44.389999</td>\n",
              "      <td>44.490002</td>\n",
              "      <td>39.069477</td>\n",
              "      <td>32267300</td>\n",
              "    </tr>\n",
              "    <tr>\n",
              "      <th>2</th>\n",
              "      <td>2019-01-04</td>\n",
              "      <td>45.840000</td>\n",
              "      <td>47.570000</td>\n",
              "      <td>45.540001</td>\n",
              "      <td>47.220001</td>\n",
              "      <td>41.466869</td>\n",
              "      <td>35447300</td>\n",
              "    </tr>\n",
              "    <tr>\n",
              "      <th>3</th>\n",
              "      <td>2019-01-07</td>\n",
              "      <td>47.099998</td>\n",
              "      <td>48.000000</td>\n",
              "      <td>46.750000</td>\n",
              "      <td>47.439999</td>\n",
              "      <td>41.660065</td>\n",
              "      <td>22736800</td>\n",
              "    </tr>\n",
              "    <tr>\n",
              "      <th>4</th>\n",
              "      <td>2019-01-08</td>\n",
              "      <td>47.799999</td>\n",
              "      <td>48.029999</td>\n",
              "      <td>46.779999</td>\n",
              "      <td>47.740002</td>\n",
              "      <td>41.923512</td>\n",
              "      <td>22749200</td>\n",
              "    </tr>\n",
              "    <tr>\n",
              "      <th>...</th>\n",
              "      <td>...</td>\n",
              "      <td>...</td>\n",
              "      <td>...</td>\n",
              "      <td>...</td>\n",
              "      <td>...</td>\n",
              "      <td>...</td>\n",
              "      <td>...</td>\n",
              "    </tr>\n",
              "    <tr>\n",
              "      <th>1114</th>\n",
              "      <td>2023-06-06</td>\n",
              "      <td>29.770000</td>\n",
              "      <td>31.450001</td>\n",
              "      <td>29.700001</td>\n",
              "      <td>30.959999</td>\n",
              "      <td>30.959999</td>\n",
              "      <td>42295300</td>\n",
              "    </tr>\n",
              "    <tr>\n",
              "      <th>1115</th>\n",
              "      <td>2023-06-07</td>\n",
              "      <td>31.030001</td>\n",
              "      <td>31.370001</td>\n",
              "      <td>30.930000</td>\n",
              "      <td>31.280001</td>\n",
              "      <td>31.280001</td>\n",
              "      <td>39098000</td>\n",
              "    </tr>\n",
              "    <tr>\n",
              "      <th>1116</th>\n",
              "      <td>2023-06-08</td>\n",
              "      <td>31.430000</td>\n",
              "      <td>31.850000</td>\n",
              "      <td>31.059999</td>\n",
              "      <td>31.820000</td>\n",
              "      <td>31.820000</td>\n",
              "      <td>35199000</td>\n",
              "    </tr>\n",
              "    <tr>\n",
              "      <th>1117</th>\n",
              "      <td>2023-06-09</td>\n",
              "      <td>31.930000</td>\n",
              "      <td>31.990000</td>\n",
              "      <td>30.680000</td>\n",
              "      <td>31.340000</td>\n",
              "      <td>31.340000</td>\n",
              "      <td>40218000</td>\n",
              "    </tr>\n",
              "    <tr>\n",
              "      <th>1118</th>\n",
              "      <td>2023-06-12</td>\n",
              "      <td>31.400000</td>\n",
              "      <td>33.299999</td>\n",
              "      <td>31.360001</td>\n",
              "      <td>33.070000</td>\n",
              "      <td>33.070000</td>\n",
              "      <td>59881600</td>\n",
              "    </tr>\n",
              "  </tbody>\n",
              "</table>\n",
              "<p>1119 rows × 7 columns</p>\n",
              "</div>\n",
              "      <button class=\"colab-df-convert\" onclick=\"convertToInteractive('df-39204cd6-b357-4528-b933-d6c37697de12')\"\n",
              "              title=\"Convert this dataframe to an interactive table.\"\n",
              "              style=\"display:none;\">\n",
              "        \n",
              "  <svg xmlns=\"http://www.w3.org/2000/svg\" height=\"24px\"viewBox=\"0 0 24 24\"\n",
              "       width=\"24px\">\n",
              "    <path d=\"M0 0h24v24H0V0z\" fill=\"none\"/>\n",
              "    <path d=\"M18.56 5.44l.94 2.06.94-2.06 2.06-.94-2.06-.94-.94-2.06-.94 2.06-2.06.94zm-11 1L8.5 8.5l.94-2.06 2.06-.94-2.06-.94L8.5 2.5l-.94 2.06-2.06.94zm10 10l.94 2.06.94-2.06 2.06-.94-2.06-.94-.94-2.06-.94 2.06-2.06.94z\"/><path d=\"M17.41 7.96l-1.37-1.37c-.4-.4-.92-.59-1.43-.59-.52 0-1.04.2-1.43.59L10.3 9.45l-7.72 7.72c-.78.78-.78 2.05 0 2.83L4 21.41c.39.39.9.59 1.41.59.51 0 1.02-.2 1.41-.59l7.78-7.78 2.81-2.81c.8-.78.8-2.07 0-2.86zM5.41 20L4 18.59l7.72-7.72 1.47 1.35L5.41 20z\"/>\n",
              "  </svg>\n",
              "      </button>\n",
              "      \n",
              "  <style>\n",
              "    .colab-df-container {\n",
              "      display:flex;\n",
              "      flex-wrap:wrap;\n",
              "      gap: 12px;\n",
              "    }\n",
              "\n",
              "    .colab-df-convert {\n",
              "      background-color: #E8F0FE;\n",
              "      border: none;\n",
              "      border-radius: 50%;\n",
              "      cursor: pointer;\n",
              "      display: none;\n",
              "      fill: #1967D2;\n",
              "      height: 32px;\n",
              "      padding: 0 0 0 0;\n",
              "      width: 32px;\n",
              "    }\n",
              "\n",
              "    .colab-df-convert:hover {\n",
              "      background-color: #E2EBFA;\n",
              "      box-shadow: 0px 1px 2px rgba(60, 64, 67, 0.3), 0px 1px 3px 1px rgba(60, 64, 67, 0.15);\n",
              "      fill: #174EA6;\n",
              "    }\n",
              "\n",
              "    [theme=dark] .colab-df-convert {\n",
              "      background-color: #3B4455;\n",
              "      fill: #D2E3FC;\n",
              "    }\n",
              "\n",
              "    [theme=dark] .colab-df-convert:hover {\n",
              "      background-color: #434B5C;\n",
              "      box-shadow: 0px 1px 3px 1px rgba(0, 0, 0, 0.15);\n",
              "      filter: drop-shadow(0px 1px 2px rgba(0, 0, 0, 0.3));\n",
              "      fill: #FFFFFF;\n",
              "    }\n",
              "  </style>\n",
              "\n",
              "      <script>\n",
              "        const buttonEl =\n",
              "          document.querySelector('#df-39204cd6-b357-4528-b933-d6c37697de12 button.colab-df-convert');\n",
              "        buttonEl.style.display =\n",
              "          google.colab.kernel.accessAllowed ? 'block' : 'none';\n",
              "\n",
              "        async function convertToInteractive(key) {\n",
              "          const element = document.querySelector('#df-39204cd6-b357-4528-b933-d6c37697de12');\n",
              "          const dataTable =\n",
              "            await google.colab.kernel.invokeFunction('convertToInteractive',\n",
              "                                                     [key], {});\n",
              "          if (!dataTable) return;\n",
              "\n",
              "          const docLinkHtml = 'Like what you see? Visit the ' +\n",
              "            '<a target=\"_blank\" href=https://colab.research.google.com/notebooks/data_table.ipynb>data table notebook</a>'\n",
              "            + ' to learn more about interactive tables.';\n",
              "          element.innerHTML = '';\n",
              "          dataTable['output_type'] = 'display_data';\n",
              "          await google.colab.output.renderOutput(dataTable, element);\n",
              "          const docLink = document.createElement('div');\n",
              "          docLink.innerHTML = docLinkHtml;\n",
              "          element.appendChild(docLink);\n",
              "        }\n",
              "      </script>\n",
              "    </div>\n",
              "  </div>\n",
              "  "
            ]
          },
          "metadata": {},
          "execution_count": 4
        }
      ],
      "source": [
        "# Load data\n",
        "df = pd.read_csv('INTC.csv')\n",
        "df"
      ]
    },
    {
      "cell_type": "markdown",
      "source": [
        "### Reset index"
      ],
      "metadata": {
        "id": "muKE0gL7cQs2"
      },
      "id": "muKE0gL7cQs2"
    },
    {
      "cell_type": "code",
      "source": [
        "# Convert the 'Date' column to datetime format\n",
        "df['Date'] = pd.to_datetime(df['Date'])\n",
        "\n",
        "# Set the 'Date' column as the index value\n",
        "df.set_index('Date', inplace=True)"
      ],
      "metadata": {
        "id": "vG4wgXOK2soU"
      },
      "id": "vG4wgXOK2soU",
      "execution_count": 5,
      "outputs": []
    },
    {
      "cell_type": "code",
      "source": [
        "# Select column 'Close'\n",
        "df_Close = df[['Close']]\n",
        "df_Close = df_Close.reset_index(drop=True)"
      ],
      "metadata": {
        "id": "DBeiREWjJ00j"
      },
      "id": "DBeiREWjJ00j",
      "execution_count": 6,
      "outputs": []
    },
    {
      "cell_type": "markdown",
      "source": [
        "### Data normalization"
      ],
      "metadata": {
        "id": "m9vvIvolcch8"
      },
      "id": "m9vvIvolcch8"
    },
    {
      "cell_type": "code",
      "execution_count": 7,
      "id": "b0cde421",
      "metadata": {
        "id": "b0cde421"
      },
      "outputs": [],
      "source": [
        "# Min-max normalization\n",
        "scaler = MinMaxScaler(feature_range=(0, 1))\n",
        "data_scaled = scaler.fit_transform(np.array(df_Close))"
      ]
    },
    {
      "cell_type": "markdown",
      "source": [
        "### Data splitting"
      ],
      "metadata": {
        "id": "WEnB5G3fcqPg"
      },
      "id": "WEnB5G3fcqPg"
    },
    {
      "cell_type": "code",
      "execution_count": 8,
      "id": "f29f31b1",
      "metadata": {
        "id": "f29f31b1"
      },
      "outputs": [],
      "source": [
        "# Split the data into train, validation, and test dataset in a ratio of 7:1:2\n",
        "train_size = int(len(data_scaled) * 0.7)\n",
        "val_size = int(len(data_scaled) * 0.1)\n",
        "test_size = len(data_scaled) - train_size - val_size\n",
        "\n",
        "train_data = data_scaled[: train_size]\n",
        "val_data = data_scaled[train_size : train_size + val_size]\n",
        "test_data = data_scaled[train_size + val_size :]"
      ]
    },
    {
      "cell_type": "markdown",
      "source": [
        "## Model training and testing"
      ],
      "metadata": {
        "id": "-IFkvqKRgmQX"
      },
      "id": "-IFkvqKRgmQX"
    },
    {
      "cell_type": "code",
      "execution_count": 9,
      "id": "224ff73f",
      "metadata": {
        "id": "224ff73f"
      },
      "outputs": [],
      "source": [
        "# Generating data using the window sliding method\n",
        "def create_dataset(data, window_size):\n",
        "    windows, targets = [], []\n",
        "    for i in range(len(data) - window_size):\n",
        "        windows.append(data[i : (i + window_size), 0])\n",
        "        targets.append(data[i + window_size, 0])\n",
        "    return np.array(windows), np.array(targets)"
      ]
    },
    {
      "cell_type": "markdown",
      "source": [
        "### Building TCANs model"
      ],
      "metadata": {
        "id": "hRDWcZQ0jcRX"
      },
      "id": "hRDWcZQ0jcRX"
    },
    {
      "cell_type": "code",
      "execution_count": 10,
      "id": "HxKvihCf3-C1",
      "metadata": {
        "id": "HxKvihCf3-C1"
      },
      "outputs": [],
      "source": [
        "# Constructing sparse attention layer\n",
        "class AttentionLayer(Layer):\n",
        "    def __init__(self, attention_dim):\n",
        "        super(AttentionLayer, self).__init__()\n",
        "        self.attention_dim = attention_dim\n",
        "\n",
        "    def build(self, input_shape):\n",
        "        self.W1 = Dense(units=self.attention_dim, activation='tanh')\n",
        "        self.W2 = Dense(units=1, activation='linear')\n",
        "        super(AttentionLayer, self).build(input_shape)\n",
        "\n",
        "    def call(self, x):\n",
        "        score = self.W2(self.W1(x))\n",
        "        score = Flatten()(score)\n",
        "        score = Activation('softmax')(score)\n",
        "        score = RepeatVector(x.shape[-1])(score)\n",
        "        score = Permute([2, 1])(score)\n",
        "        return Multiply()([x, score])\n",
        "\n",
        "    def compute_output_shape(self, input_shape):\n",
        "        return input_shape"
      ]
    },
    {
      "cell_type": "code",
      "execution_count": 11,
      "id": "d01b50ee",
      "metadata": {
        "id": "d01b50ee"
      },
      "outputs": [],
      "source": [
        "# Build TCAN model\n",
        "def build_tcan(window_size, input_dim=1, tcn_filters=64, tcn_kernel_size=2, dropout_rate=0.2, attention_dim=16):\n",
        "    inputs = Input(shape=(window_size, input_dim))\n",
        "    x = inputs\n",
        "    x = Conv1D(filters=tcn_filters, kernel_size=tcn_kernel_size, padding='same', activation='relu')(x)\n",
        "    x = SpatialDropout1D(rate=dropout_rate)(x)\n",
        "    x = Conv1D(filters=tcn_filters, kernel_size=tcn_kernel_size, padding='same', activation='relu')(x)\n",
        "    x = SpatialDropout1D(rate=dropout_rate)(x)\n",
        "\n",
        "    # Additive Attention\n",
        "    att = AttentionLayer(attention_dim)(x)\n",
        "    max_pool_att = GlobalMaxPooling1D()(att)\n",
        "    max_pool_x = GlobalMaxPooling1D()(x)\n",
        "    x = concatenate([max_pool_att, max_pool_x])\n",
        "\n",
        "    outputs = Dense(1)(x)\n",
        "\n",
        "    model = Model(inputs=inputs, outputs=outputs)\n",
        "    optimizer = Adam(learning_rate=0.001)\n",
        "    model.compile(loss='mean_absolute_error', optimizer=optimizer)\n",
        "\n",
        "    return model"
      ]
    },
    {
      "cell_type": "markdown",
      "source": [
        "### Learning process with combined parameter optimization"
      ],
      "metadata": {
        "id": "kfSIcYf1jyjU"
      },
      "id": "kfSIcYf1jyjU"
    },
    {
      "cell_type": "code",
      "execution_count": null,
      "id": "690ac169",
      "metadata": {
        "id": "690ac169"
      },
      "outputs": [],
      "source": [
        "# Initialization of optimization parameters\n",
        "best_mse = float('inf')\n",
        "best_model = None\n",
        "best_window_size = None\n",
        "best_train_windows = None\n",
        "best_train_targets = None\n",
        "best_test_windows = None\n",
        "best_test_targets = None\n",
        "best_val_windows = None\n",
        "best_val_targets = None\n",
        "best_y_pred = None\n",
        "best_mape = np.inf\n",
        "best_rmse = np.inf\n",
        "best_msle = np.inf"
      ]
    },
    {
      "cell_type": "code",
      "source": [
        "# Define the objective function for Optuna optimization\n",
        "def objective(trial):\n",
        "  global best_mse, best_model, best_window_size, best_train_windows\n",
        "  global best_train_targets, best_test_windows, best_test_targets, best_val_windows\n",
        "  global best_val_targets, best_y_pred, best_mape, best_rmse, best_msle\n",
        "\n",
        "  # Define the search space for hyperparameters\n",
        "  window_size = trial.suggest_int(\"window_size\", 10, 100)\n",
        "  tcn_filters = trial.suggest_int(\"tcn_filters\", 32, 128)\n",
        "  tcn_kernel_size = trial.suggest_int(\"tcn_kernel_size\", 2, 5)\n",
        "  dropout_rate = trial.suggest_float(\"dropout_rate\", 0.1, 0.5)\n",
        "  attention_dim = trial.suggest_int(\"attention_dim\", 8, 32)\n",
        "\n",
        "  # Build the TCAN model with the suggested hyperparameters\n",
        "  model = build_tcan(window_size,\n",
        "                     tcn_filters = tcn_filters,\n",
        "                     tcn_kernel_size = tcn_kernel_size,\n",
        "                     dropout_rate = dropout_rate,\n",
        "                     attention_dim = attention_dim)\n",
        "\n",
        "  val_last_window_size = val_data[-window_size:]\n",
        "  test_data_extended = np.concatenate((val_last_window_size, test_data), axis=0)\n",
        "\n",
        "  train_windows, train_targets = create_dataset(train_data, window_size)\n",
        "  val_windows, val_targets = create_dataset(val_data, window_size)\n",
        "  test_windows, test_targets = create_dataset(test_data_extended, window_size)\n",
        "\n",
        "  # Train the model\n",
        "  early_stop = EarlyStopping(monitor='val_loss', patience=5)\n",
        "  model.fit(train_windows, train_targets,\n",
        "            epochs=50, batch_size=32,\n",
        "            validation_data=(val_windows, val_targets),\n",
        "            shuffle=False, callbacks=[early_stop], verbose=0)\n",
        "\n",
        "  # Testing the model on Test dataset\n",
        "  y_pred = model.predict(test_windows)\n",
        "\n",
        "  # Evaluate on MAPE, RMSE, MSLE\n",
        "  temp_test_targets = test_targets\n",
        "  temp_test_targets = scaler.inverse_transform(temp_test_targets.reshape(-1, 1))\n",
        "  y_pred = scaler.inverse_transform(y_pred)\n",
        "\n",
        "  mse = mean_squared_error(temp_test_targets, y_pred)\n",
        "  rmse = np.sqrt(mse)\n",
        "  mape = mean_absolute_percentage_error(temp_test_targets, y_pred)\n",
        "  msle = mean_squared_log_error(temp_test_targets, y_pred)\n",
        "\n",
        "  # Save the best model and related information\n",
        "  if mse < best_mse or best_mse is None:\n",
        "    best_model = model\n",
        "    best_window_size = window_size\n",
        "    best_y_pred = y_pred\n",
        "    best_train_windows = train_windows\n",
        "    best_train_targets = train_targets\n",
        "    best_test_windows = test_windows\n",
        "    best_test_targets = test_targets\n",
        "    best_val_windows = val_windows\n",
        "    best_val_targets = val_targets\n",
        "    best_rmse = rmse\n",
        "    best_mape = mape\n",
        "    best_msle = msle\n",
        "    best_mse = mse\n",
        "\n",
        "  return mse"
      ],
      "metadata": {
        "id": "m3MDjWCd-kl8"
      },
      "id": "m3MDjWCd-kl8",
      "execution_count": null,
      "outputs": []
    },
    {
      "cell_type": "code",
      "source": [
        "# Define the search space for the hyperparameters\n",
        "study = optuna.create_study(direction=\"minimize\")\n",
        "study.optimize(objective, n_trials=100)"
      ],
      "metadata": {
        "colab": {
          "base_uri": "https://localhost:8080/"
        },
        "id": "tAQaYsmr-mkW",
        "outputId": "c597d6e0-2c9d-4f4d-9387-fac725793e96"
      },
      "id": "tAQaYsmr-mkW",
      "execution_count": null,
      "outputs": [
        {
          "output_type": "stream",
          "name": "stderr",
          "text": [
            "[I 2023-06-17 00:14:12,472] A new study created in memory with name: no-name-e9fdf6a5-685f-4ec9-93a2-dbc366312878\n"
          ]
        },
        {
          "output_type": "stream",
          "name": "stdout",
          "text": [
            "8/8 [==============================] - 0s 4ms/step\n"
          ]
        },
        {
          "output_type": "stream",
          "name": "stderr",
          "text": [
            "[I 2023-06-17 00:14:35,890] Trial 0 finished with value: 89.62931613761612 and parameters: {'window_size': 91, 'tcn_filters': 72, 'tcn_kernel_size': 5, 'dropout_rate': 0.49332150860007373, 'attention_dim': 28}. Best is trial 0 with value: 89.62931613761612.\n"
          ]
        },
        {
          "output_type": "stream",
          "name": "stdout",
          "text": [
            "8/8 [==============================] - 0s 4ms/step\n"
          ]
        },
        {
          "output_type": "stream",
          "name": "stderr",
          "text": [
            "[I 2023-06-17 00:14:40,680] Trial 1 finished with value: 92.28042695074669 and parameters: {'window_size': 90, 'tcn_filters': 45, 'tcn_kernel_size': 4, 'dropout_rate': 0.4994775233269291, 'attention_dim': 29}. Best is trial 0 with value: 89.62931613761612.\n"
          ]
        },
        {
          "output_type": "stream",
          "name": "stdout",
          "text": [
            "8/8 [==============================] - 0s 7ms/step\n"
          ]
        },
        {
          "output_type": "stream",
          "name": "stderr",
          "text": [
            "[I 2023-06-17 00:14:52,256] Trial 2 finished with value: 22.40075635281199 and parameters: {'window_size': 78, 'tcn_filters': 110, 'tcn_kernel_size': 5, 'dropout_rate': 0.32423857643155396, 'attention_dim': 22}. Best is trial 2 with value: 22.40075635281199.\n"
          ]
        },
        {
          "output_type": "stream",
          "name": "stdout",
          "text": [
            "8/8 [==============================] - 0s 3ms/step\n"
          ]
        },
        {
          "output_type": "stream",
          "name": "stderr",
          "text": [
            "[I 2023-06-17 00:14:59,903] Trial 3 finished with value: 52.460097654504686 and parameters: {'window_size': 51, 'tcn_filters': 65, 'tcn_kernel_size': 3, 'dropout_rate': 0.19109730415913917, 'attention_dim': 22}. Best is trial 2 with value: 22.40075635281199.\n"
          ]
        },
        {
          "output_type": "stream",
          "name": "stdout",
          "text": [
            "8/8 [==============================] - 0s 3ms/step\n"
          ]
        },
        {
          "output_type": "stream",
          "name": "stderr",
          "text": [
            "[I 2023-06-17 00:15:11,448] Trial 4 finished with value: 117.95502550855225 and parameters: {'window_size': 73, 'tcn_filters': 54, 'tcn_kernel_size': 3, 'dropout_rate': 0.3606665220050814, 'attention_dim': 31}. Best is trial 2 with value: 22.40075635281199.\n"
          ]
        },
        {
          "output_type": "stream",
          "name": "stdout",
          "text": [
            "8/8 [==============================] - 0s 3ms/step\n"
          ]
        },
        {
          "output_type": "stream",
          "name": "stderr",
          "text": [
            "[I 2023-06-17 00:15:16,725] Trial 5 finished with value: 5.577081574581174 and parameters: {'window_size': 18, 'tcn_filters': 112, 'tcn_kernel_size': 4, 'dropout_rate': 0.11556771693066659, 'attention_dim': 10}. Best is trial 5 with value: 5.577081574581174.\n"
          ]
        },
        {
          "output_type": "stream",
          "name": "stdout",
          "text": [
            "8/8 [==============================] - 0s 5ms/step\n"
          ]
        },
        {
          "output_type": "stream",
          "name": "stderr",
          "text": [
            "[I 2023-06-17 00:15:28,276] Trial 6 finished with value: 24.212090638797793 and parameters: {'window_size': 97, 'tcn_filters': 73, 'tcn_kernel_size': 4, 'dropout_rate': 0.1958718363789163, 'attention_dim': 25}. Best is trial 5 with value: 5.577081574581174.\n"
          ]
        },
        {
          "output_type": "stream",
          "name": "stdout",
          "text": [
            "8/8 [==============================] - 0s 2ms/step\n"
          ]
        },
        {
          "output_type": "stream",
          "name": "stderr",
          "text": [
            "[I 2023-06-17 00:15:31,083] Trial 7 finished with value: 80.58290539182632 and parameters: {'window_size': 28, 'tcn_filters': 48, 'tcn_kernel_size': 3, 'dropout_rate': 0.4329055582259762, 'attention_dim': 13}. Best is trial 5 with value: 5.577081574581174.\n"
          ]
        },
        {
          "output_type": "stream",
          "name": "stdout",
          "text": [
            "8/8 [==============================] - 0s 4ms/step\n"
          ]
        },
        {
          "output_type": "stream",
          "name": "stderr",
          "text": [
            "[I 2023-06-17 00:15:41,740] Trial 8 finished with value: 43.98165814698978 and parameters: {'window_size': 77, 'tcn_filters': 116, 'tcn_kernel_size': 2, 'dropout_rate': 0.2988242889433316, 'attention_dim': 12}. Best is trial 5 with value: 5.577081574581174.\n"
          ]
        },
        {
          "output_type": "stream",
          "name": "stdout",
          "text": [
            "8/8 [==============================] - 0s 5ms/step\n"
          ]
        },
        {
          "output_type": "stream",
          "name": "stderr",
          "text": [
            "[I 2023-06-17 00:15:47,215] Trial 9 finished with value: 18.354710765913847 and parameters: {'window_size': 27, 'tcn_filters': 116, 'tcn_kernel_size': 2, 'dropout_rate': 0.14919559321307654, 'attention_dim': 18}. Best is trial 5 with value: 5.577081574581174.\n"
          ]
        },
        {
          "output_type": "stream",
          "name": "stdout",
          "text": [
            "8/8 [==============================] - 0s 2ms/step\n"
          ]
        },
        {
          "output_type": "stream",
          "name": "stderr",
          "text": [
            "[I 2023-06-17 00:15:53,966] Trial 10 finished with value: 23.313603776806 and parameters: {'window_size': 10, 'tcn_filters': 93, 'tcn_kernel_size': 4, 'dropout_rate': 0.1295822860779596, 'attention_dim': 8}. Best is trial 5 with value: 5.577081574581174.\n"
          ]
        },
        {
          "output_type": "stream",
          "name": "stdout",
          "text": [
            "8/8 [==============================] - 0s 4ms/step\n"
          ]
        },
        {
          "output_type": "stream",
          "name": "stderr",
          "text": [
            "[I 2023-06-17 00:15:59,277] Trial 11 finished with value: 8.144344445789022 and parameters: {'window_size': 31, 'tcn_filters': 128, 'tcn_kernel_size': 2, 'dropout_rate': 0.11316143346987853, 'attention_dim': 16}. Best is trial 5 with value: 5.577081574581174.\n"
          ]
        },
        {
          "output_type": "stream",
          "name": "stdout",
          "text": [
            "8/8 [==============================] - 0s 3ms/step\n"
          ]
        },
        {
          "output_type": "stream",
          "name": "stderr",
          "text": [
            "[I 2023-06-17 00:16:06,880] Trial 12 finished with value: 13.731766977137683 and parameters: {'window_size': 37, 'tcn_filters': 125, 'tcn_kernel_size': 2, 'dropout_rate': 0.10251014317556151, 'attention_dim': 15}. Best is trial 5 with value: 5.577081574581174.\n"
          ]
        },
        {
          "output_type": "stream",
          "name": "stdout",
          "text": [
            "8/8 [==============================] - 0s 3ms/step\n"
          ]
        },
        {
          "output_type": "stream",
          "name": "stderr",
          "text": [
            "[I 2023-06-17 00:16:12,225] Trial 13 finished with value: 23.72114108103544 and parameters: {'window_size': 10, 'tcn_filters': 97, 'tcn_kernel_size': 4, 'dropout_rate': 0.21856814315696965, 'attention_dim': 8}. Best is trial 5 with value: 5.577081574581174.\n"
          ]
        },
        {
          "output_type": "stream",
          "name": "stdout",
          "text": [
            "8/8 [==============================] - 0s 5ms/step\n"
          ]
        },
        {
          "output_type": "stream",
          "name": "stderr",
          "text": [
            "[I 2023-06-17 00:16:19,040] Trial 14 finished with value: 11.140440573216361 and parameters: {'window_size': 42, 'tcn_filters': 128, 'tcn_kernel_size': 3, 'dropout_rate': 0.11742392309109029, 'attention_dim': 17}. Best is trial 5 with value: 5.577081574581174.\n"
          ]
        },
        {
          "output_type": "stream",
          "name": "stdout",
          "text": [
            "8/8 [==============================] - 0s 3ms/step\n"
          ]
        },
        {
          "output_type": "stream",
          "name": "stderr",
          "text": [
            "[I 2023-06-17 00:16:23,444] Trial 15 finished with value: 19.16090032611232 and parameters: {'window_size': 21, 'tcn_filters': 89, 'tcn_kernel_size': 5, 'dropout_rate': 0.23883086500074233, 'attention_dim': 11}. Best is trial 5 with value: 5.577081574581174.\n"
          ]
        },
        {
          "output_type": "stream",
          "name": "stdout",
          "text": [
            "8/8 [==============================] - 0s 5ms/step\n"
          ]
        },
        {
          "output_type": "stream",
          "name": "stderr",
          "text": [
            "[I 2023-06-17 00:16:33,191] Trial 16 finished with value: 30.60773039548091 and parameters: {'window_size': 59, 'tcn_filters': 105, 'tcn_kernel_size': 2, 'dropout_rate': 0.15461534752465128, 'attention_dim': 15}. Best is trial 5 with value: 5.577081574581174.\n"
          ]
        },
        {
          "output_type": "stream",
          "name": "stdout",
          "text": [
            "8/8 [==============================] - 0s 3ms/step\n"
          ]
        },
        {
          "output_type": "stream",
          "name": "stderr",
          "text": [
            "[I 2023-06-17 00:16:44,892] Trial 17 finished with value: 12.241358810929256 and parameters: {'window_size': 42, 'tcn_filters': 103, 'tcn_kernel_size': 3, 'dropout_rate': 0.10296848775451051, 'attention_dim': 20}. Best is trial 5 with value: 5.577081574581174.\n"
          ]
        },
        {
          "output_type": "stream",
          "name": "stdout",
          "text": [
            "8/8 [==============================] - 0s 4ms/step\n"
          ]
        },
        {
          "output_type": "stream",
          "name": "stderr",
          "text": [
            "[I 2023-06-17 00:16:51,384] Trial 18 finished with value: 14.538243271762537 and parameters: {'window_size': 20, 'tcn_filters': 119, 'tcn_kernel_size': 4, 'dropout_rate': 0.15858919364607563, 'attention_dim': 11}. Best is trial 5 with value: 5.577081574581174.\n"
          ]
        },
        {
          "output_type": "stream",
          "name": "stdout",
          "text": [
            "8/8 [==============================] - 0s 2ms/step\n"
          ]
        },
        {
          "output_type": "stream",
          "name": "stderr",
          "text": [
            "[I 2023-06-17 00:16:58,052] Trial 19 finished with value: 43.736135154642916 and parameters: {'window_size': 53, 'tcn_filters': 34, 'tcn_kernel_size': 5, 'dropout_rate': 0.2557652533050917, 'attention_dim': 15}. Best is trial 5 with value: 5.577081574581174.\n"
          ]
        },
        {
          "output_type": "stream",
          "name": "stdout",
          "text": [
            "8/8 [==============================] - 0s 4ms/step\n"
          ]
        },
        {
          "output_type": "stream",
          "name": "stderr",
          "text": [
            "[I 2023-06-17 00:17:03,424] Trial 20 finished with value: 17.942964556080316 and parameters: {'window_size': 32, 'tcn_filters': 82, 'tcn_kernel_size': 2, 'dropout_rate': 0.16984352104109515, 'attention_dim': 10}. Best is trial 5 with value: 5.577081574581174.\n"
          ]
        },
        {
          "output_type": "stream",
          "name": "stdout",
          "text": [
            "8/8 [==============================] - 0s 4ms/step\n"
          ]
        },
        {
          "output_type": "stream",
          "name": "stderr",
          "text": [
            "[I 2023-06-17 00:17:10,790] Trial 21 finished with value: 10.712095134970095 and parameters: {'window_size': 44, 'tcn_filters': 128, 'tcn_kernel_size': 3, 'dropout_rate': 0.10392043655338092, 'attention_dim': 18}. Best is trial 5 with value: 5.577081574581174.\n"
          ]
        },
        {
          "output_type": "stream",
          "name": "stdout",
          "text": [
            "8/8 [==============================] - 0s 4ms/step\n"
          ]
        },
        {
          "output_type": "stream",
          "name": "stderr",
          "text": [
            "[I 2023-06-17 00:17:16,713] Trial 22 finished with value: 9.583195710296224 and parameters: {'window_size': 20, 'tcn_filters': 128, 'tcn_kernel_size': 3, 'dropout_rate': 0.1025408566846418, 'attention_dim': 18}. Best is trial 5 with value: 5.577081574581174.\n"
          ]
        },
        {
          "output_type": "stream",
          "name": "stdout",
          "text": [
            "8/8 [==============================] - 0s 3ms/step\n"
          ]
        },
        {
          "output_type": "stream",
          "name": "stderr",
          "text": [
            "[I 2023-06-17 00:17:23,367] Trial 23 finished with value: 8.897279675679721 and parameters: {'window_size': 18, 'tcn_filters': 119, 'tcn_kernel_size': 4, 'dropout_rate': 0.1396575597851183, 'attention_dim': 20}. Best is trial 5 with value: 5.577081574581174.\n"
          ]
        },
        {
          "output_type": "stream",
          "name": "stdout",
          "text": [
            "8/8 [==============================] - 0s 3ms/step\n"
          ]
        },
        {
          "output_type": "stream",
          "name": "stderr",
          "text": [
            "[I 2023-06-17 00:17:27,313] Trial 24 finished with value: 6.7615778241299145 and parameters: {'window_size': 16, 'tcn_filters': 110, 'tcn_kernel_size': 4, 'dropout_rate': 0.14691805416647577, 'attention_dim': 21}. Best is trial 5 with value: 5.577081574581174.\n"
          ]
        },
        {
          "output_type": "stream",
          "name": "stdout",
          "text": [
            "8/8 [==============================] - 0s 3ms/step\n"
          ]
        },
        {
          "output_type": "stream",
          "name": "stderr",
          "text": [
            "[I 2023-06-17 00:17:34,039] Trial 25 finished with value: 8.768388441927705 and parameters: {'window_size': 14, 'tcn_filters': 110, 'tcn_kernel_size': 4, 'dropout_rate': 0.17214252452148837, 'attention_dim': 25}. Best is trial 5 with value: 5.577081574581174.\n"
          ]
        },
        {
          "output_type": "stream",
          "name": "stdout",
          "text": [
            "8/8 [==============================] - 0s 3ms/step\n"
          ]
        },
        {
          "output_type": "stream",
          "name": "stderr",
          "text": [
            "[I 2023-06-17 00:17:40,444] Trial 26 finished with value: 8.613902094375536 and parameters: {'window_size': 29, 'tcn_filters': 100, 'tcn_kernel_size': 4, 'dropout_rate': 0.14337489325206335, 'attention_dim': 24}. Best is trial 5 with value: 5.577081574581174.\n"
          ]
        },
        {
          "output_type": "stream",
          "name": "stdout",
          "text": [
            "8/8 [==============================] - 0s 5ms/step\n"
          ]
        },
        {
          "output_type": "stream",
          "name": "stderr",
          "text": [
            "[I 2023-06-17 00:17:52,361] Trial 27 finished with value: 13.762100413490446 and parameters: {'window_size': 36, 'tcn_filters': 109, 'tcn_kernel_size': 5, 'dropout_rate': 0.19324361802511786, 'attention_dim': 13}. Best is trial 5 with value: 5.577081574581174.\n"
          ]
        },
        {
          "output_type": "stream",
          "name": "stdout",
          "text": [
            "8/8 [==============================] - 0s 4ms/step\n"
          ]
        },
        {
          "output_type": "stream",
          "name": "stderr",
          "text": [
            "[I 2023-06-17 00:17:58,185] Trial 28 finished with value: 13.551462427238548 and parameters: {'window_size': 62, 'tcn_filters': 87, 'tcn_kernel_size': 4, 'dropout_rate': 0.13420497542897414, 'attention_dim': 21}. Best is trial 5 with value: 5.577081574581174.\n"
          ]
        },
        {
          "output_type": "stream",
          "name": "stdout",
          "text": [
            "8/8 [==============================] - 0s 4ms/step\n"
          ]
        },
        {
          "output_type": "stream",
          "name": "stderr",
          "text": [
            "[I 2023-06-17 00:18:05,168] Trial 29 finished with value: 7.253749709856114 and parameters: {'window_size': 24, 'tcn_filters': 121, 'tcn_kernel_size': 5, 'dropout_rate': 0.13108658241323903, 'attention_dim': 16}. Best is trial 5 with value: 5.577081574581174.\n"
          ]
        },
        {
          "output_type": "stream",
          "name": "stdout",
          "text": [
            "8/8 [==============================] - 0s 3ms/step\n"
          ]
        },
        {
          "output_type": "stream",
          "name": "stderr",
          "text": [
            "[I 2023-06-17 00:18:12,473] Trial 30 finished with value: 27.452180197252122 and parameters: {'window_size': 24, 'tcn_filters': 97, 'tcn_kernel_size': 5, 'dropout_rate': 0.21954154129409015, 'attention_dim': 27}. Best is trial 5 with value: 5.577081574581174.\n"
          ]
        },
        {
          "output_type": "stream",
          "name": "stdout",
          "text": [
            "8/8 [==============================] - 0s 4ms/step\n"
          ]
        },
        {
          "output_type": "stream",
          "name": "stderr",
          "text": [
            "[I 2023-06-17 00:18:16,453] Trial 31 finished with value: 6.056314357155528 and parameters: {'window_size': 16, 'tcn_filters': 119, 'tcn_kernel_size': 5, 'dropout_rate': 0.1296403740124412, 'attention_dim': 16}. Best is trial 5 with value: 5.577081574581174.\n"
          ]
        },
        {
          "output_type": "stream",
          "name": "stdout",
          "text": [
            "8/8 [==============================] - 0s 5ms/step\n"
          ]
        },
        {
          "output_type": "stream",
          "name": "stderr",
          "text": [
            "[I 2023-06-17 00:18:23,554] Trial 32 finished with value: 22.14858091218969 and parameters: {'window_size': 16, 'tcn_filters': 119, 'tcn_kernel_size': 5, 'dropout_rate': 0.17776710921172734, 'attention_dim': 14}. Best is trial 5 with value: 5.577081574581174.\n"
          ]
        },
        {
          "output_type": "stream",
          "name": "stdout",
          "text": [
            "8/8 [==============================] - 0s 3ms/step\n"
          ]
        },
        {
          "output_type": "stream",
          "name": "stderr",
          "text": [
            "[I 2023-06-17 00:18:30,410] Trial 33 finished with value: 8.81376219918364 and parameters: {'window_size': 14, 'tcn_filters': 112, 'tcn_kernel_size': 5, 'dropout_rate': 0.13280244061546584, 'attention_dim': 20}. Best is trial 5 with value: 5.577081574581174.\n"
          ]
        },
        {
          "output_type": "stream",
          "name": "stdout",
          "text": [
            "8/8 [==============================] - 0s 3ms/step\n"
          ]
        },
        {
          "output_type": "stream",
          "name": "stderr",
          "text": [
            "[I 2023-06-17 00:18:36,889] Trial 34 finished with value: 12.610987487140717 and parameters: {'window_size': 24, 'tcn_filters': 105, 'tcn_kernel_size': 5, 'dropout_rate': 0.16082636401044592, 'attention_dim': 23}. Best is trial 5 with value: 5.577081574581174.\n"
          ]
        },
        {
          "output_type": "stream",
          "name": "stdout",
          "text": [
            "8/8 [==============================] - 0s 3ms/step\n"
          ]
        },
        {
          "output_type": "stream",
          "name": "stderr",
          "text": [
            "[I 2023-06-17 00:18:40,811] Trial 35 finished with value: 11.955740966720175 and parameters: {'window_size': 10, 'tcn_filters': 123, 'tcn_kernel_size': 5, 'dropout_rate': 0.127826145187668, 'attention_dim': 10}. Best is trial 5 with value: 5.577081574581174.\n"
          ]
        },
        {
          "output_type": "stream",
          "name": "stdout",
          "text": [
            "8/8 [==============================] - 0s 5ms/step\n"
          ]
        },
        {
          "output_type": "stream",
          "name": "stderr",
          "text": [
            "[I 2023-06-17 00:18:47,292] Trial 36 finished with value: 9.211329807995618 and parameters: {'window_size': 34, 'tcn_filters': 113, 'tcn_kernel_size': 5, 'dropout_rate': 0.17840036750633864, 'attention_dim': 19}. Best is trial 5 with value: 5.577081574581174.\n"
          ]
        },
        {
          "output_type": "stream",
          "name": "stdout",
          "text": [
            "8/8 [==============================] - 0s 6ms/step\n"
          ]
        },
        {
          "output_type": "stream",
          "name": "stderr",
          "text": [
            "[I 2023-06-17 00:19:02,678] Trial 37 finished with value: 15.454498281355182 and parameters: {'window_size': 68, 'tcn_filters': 107, 'tcn_kernel_size': 4, 'dropout_rate': 0.20394617970671547, 'attention_dim': 22}. Best is trial 5 with value: 5.577081574581174.\n"
          ]
        },
        {
          "output_type": "stream",
          "name": "stdout",
          "text": [
            "8/8 [==============================] - 0s 2ms/step\n"
          ]
        },
        {
          "output_type": "stream",
          "name": "stderr",
          "text": [
            "[I 2023-06-17 00:19:07,725] Trial 38 finished with value: 17.598922593045987 and parameters: {'window_size': 23, 'tcn_filters': 60, 'tcn_kernel_size': 5, 'dropout_rate': 0.15410353464662388, 'attention_dim': 29}. Best is trial 5 with value: 5.577081574581174.\n"
          ]
        },
        {
          "output_type": "stream",
          "name": "stdout",
          "text": [
            "8/8 [==============================] - 0s 7ms/step\n"
          ]
        },
        {
          "output_type": "stream",
          "name": "stderr",
          "text": [
            "[I 2023-06-17 00:19:19,354] Trial 39 finished with value: 11.092242874301853 and parameters: {'window_size': 84, 'tcn_filters': 122, 'tcn_kernel_size': 4, 'dropout_rate': 0.12373076553213751, 'attention_dim': 17}. Best is trial 5 with value: 5.577081574581174.\n"
          ]
        },
        {
          "output_type": "stream",
          "name": "stdout",
          "text": [
            "8/8 [==============================] - 0s 4ms/step\n"
          ]
        },
        {
          "output_type": "stream",
          "name": "stderr",
          "text": [
            "[I 2023-06-17 00:19:25,972] Trial 40 finished with value: 16.59952484596323 and parameters: {'window_size': 15, 'tcn_filters': 115, 'tcn_kernel_size': 4, 'dropout_rate': 0.18561858334935322, 'attention_dim': 13}. Best is trial 5 with value: 5.577081574581174.\n"
          ]
        },
        {
          "output_type": "stream",
          "name": "stdout",
          "text": [
            "8/8 [==============================] - 0s 3ms/step\n"
          ]
        },
        {
          "output_type": "stream",
          "name": "stderr",
          "text": [
            "[I 2023-06-17 00:19:32,555] Trial 41 finished with value: 9.418081589841586 and parameters: {'window_size': 28, 'tcn_filters': 122, 'tcn_kernel_size': 3, 'dropout_rate': 0.12038449723935499, 'attention_dim': 16}. Best is trial 5 with value: 5.577081574581174.\n"
          ]
        },
        {
          "output_type": "stream",
          "name": "stdout",
          "text": [
            "8/8 [==============================] - 0s 4ms/step\n"
          ]
        },
        {
          "output_type": "stream",
          "name": "stderr",
          "text": [
            "[I 2023-06-17 00:19:41,274] Trial 42 finished with value: 16.212007840245402 and parameters: {'window_size': 31, 'tcn_filters': 116, 'tcn_kernel_size': 5, 'dropout_rate': 0.14945423815251604, 'attention_dim': 16}. Best is trial 5 with value: 5.577081574581174.\n"
          ]
        },
        {
          "output_type": "stream",
          "name": "stdout",
          "text": [
            "8/8 [==============================] - 0s 2ms/step\n"
          ]
        },
        {
          "output_type": "stream",
          "name": "stderr",
          "text": [
            "[I 2023-06-17 00:19:52,848] Trial 43 finished with value: 24.316949999875785 and parameters: {'window_size': 26, 'tcn_filters': 78, 'tcn_kernel_size': 4, 'dropout_rate': 0.12061853265415677, 'attention_dim': 14}. Best is trial 5 with value: 5.577081574581174.\n"
          ]
        },
        {
          "output_type": "stream",
          "name": "stdout",
          "text": [
            "8/8 [==============================] - 0s 4ms/step\n"
          ]
        },
        {
          "output_type": "stream",
          "name": "stderr",
          "text": [
            "[I 2023-06-17 00:19:59,369] Trial 44 finished with value: 7.848349189009484 and parameters: {'window_size': 47, 'tcn_filters': 123, 'tcn_kernel_size': 3, 'dropout_rate': 0.10071081600233862, 'attention_dim': 17}. Best is trial 5 with value: 5.577081574581174.\n"
          ]
        },
        {
          "output_type": "stream",
          "name": "stdout",
          "text": [
            "8/8 [==============================] - 0s 4ms/step\n"
          ]
        },
        {
          "output_type": "stream",
          "name": "stderr",
          "text": [
            "[I 2023-06-17 00:20:11,765] Trial 45 finished with value: 18.500983283953534 and parameters: {'window_size': 45, 'tcn_filters': 100, 'tcn_kernel_size': 3, 'dropout_rate': 0.13891504348917227, 'attention_dim': 19}. Best is trial 5 with value: 5.577081574581174.\n"
          ]
        },
        {
          "output_type": "stream",
          "name": "stdout",
          "text": [
            "8/8 [==============================] - 0s 4ms/step\n"
          ]
        },
        {
          "output_type": "stream",
          "name": "stderr",
          "text": [
            "[I 2023-06-17 00:20:23,421] Trial 46 finished with value: 11.340840191163617 and parameters: {'window_size': 39, 'tcn_filters': 112, 'tcn_kernel_size': 3, 'dropout_rate': 0.10186314853604729, 'attention_dim': 9}. Best is trial 5 with value: 5.577081574581174.\n"
          ]
        },
        {
          "output_type": "stream",
          "name": "stdout",
          "text": [
            "8/8 [==============================] - 0s 5ms/step\n"
          ]
        },
        {
          "output_type": "stream",
          "name": "stderr",
          "text": [
            "[I 2023-06-17 00:20:35,036] Trial 47 finished with value: 6.967619451026504 and parameters: {'window_size': 49, 'tcn_filters': 123, 'tcn_kernel_size': 4, 'dropout_rate': 0.12001324565529707, 'attention_dim': 31}. Best is trial 5 with value: 5.577081574581174.\n"
          ]
        },
        {
          "output_type": "stream",
          "name": "stdout",
          "text": [
            "8/8 [==============================] - 0s 2ms/step\n"
          ]
        },
        {
          "output_type": "stream",
          "name": "stderr",
          "text": [
            "[I 2023-06-17 00:20:39,349] Trial 48 finished with value: 25.564944101491395 and parameters: {'window_size': 13, 'tcn_filters': 68, 'tcn_kernel_size': 4, 'dropout_rate': 0.16855810697798257, 'attention_dim': 32}. Best is trial 5 with value: 5.577081574581174.\n"
          ]
        },
        {
          "output_type": "stream",
          "name": "stdout",
          "text": [
            "8/8 [==============================] - 0s 5ms/step\n"
          ]
        },
        {
          "output_type": "stream",
          "name": "stderr",
          "text": [
            "[I 2023-06-17 00:20:47,120] Trial 49 finished with value: 9.995525116262586 and parameters: {'window_size': 49, 'tcn_filters': 118, 'tcn_kernel_size': 4, 'dropout_rate': 0.14127462502738772, 'attention_dim': 28}. Best is trial 5 with value: 5.577081574581174.\n"
          ]
        },
        {
          "output_type": "stream",
          "name": "stdout",
          "text": [
            "8/8 [==============================] - 0s 6ms/step\n"
          ]
        },
        {
          "output_type": "stream",
          "name": "stderr",
          "text": [
            "[I 2023-06-17 00:20:58,722] Trial 50 finished with value: 27.09368913666846 and parameters: {'window_size': 96, 'tcn_filters': 91, 'tcn_kernel_size': 4, 'dropout_rate': 0.12033984832984483, 'attention_dim': 30}. Best is trial 5 with value: 5.577081574581174.\n"
          ]
        },
        {
          "output_type": "stream",
          "name": "stdout",
          "text": [
            "8/8 [==============================] - 0s 5ms/step\n"
          ]
        },
        {
          "output_type": "stream",
          "name": "stderr",
          "text": [
            "[I 2023-06-17 00:21:10,277] Trial 51 finished with value: 15.85978988217829 and parameters: {'window_size': 61, 'tcn_filters': 124, 'tcn_kernel_size': 3, 'dropout_rate': 0.11552834601804458, 'attention_dim': 12}. Best is trial 5 with value: 5.577081574581174.\n"
          ]
        },
        {
          "output_type": "stream",
          "name": "stdout",
          "text": [
            "8/8 [==============================] - 0s 3ms/step\n"
          ]
        },
        {
          "output_type": "stream",
          "name": "stderr",
          "text": [
            "[I 2023-06-17 00:21:16,731] Trial 52 finished with value: 13.198379463700542 and parameters: {'window_size': 19, 'tcn_filters': 124, 'tcn_kernel_size': 4, 'dropout_rate': 0.15662917764390835, 'attention_dim': 26}. Best is trial 5 with value: 5.577081574581174.\n"
          ]
        },
        {
          "output_type": "stream",
          "name": "stdout",
          "text": [
            "8/8 [==============================] - 0s 7ms/step\n"
          ]
        },
        {
          "output_type": "stream",
          "name": "stderr",
          "text": [
            "[I 2023-06-17 00:21:29,351] Trial 53 finished with value: 11.435357971368962 and parameters: {'window_size': 56, 'tcn_filters': 120, 'tcn_kernel_size': 5, 'dropout_rate': 0.1290010367873726, 'attention_dim': 17}. Best is trial 5 with value: 5.577081574581174.\n"
          ]
        },
        {
          "output_type": "stream",
          "name": "stdout",
          "text": [
            "8/8 [==============================] - 0s 5ms/step\n"
          ]
        },
        {
          "output_type": "stream",
          "name": "stderr",
          "text": [
            "[I 2023-06-17 00:21:40,944] Trial 54 finished with value: 10.5252466043423 and parameters: {'window_size': 50, 'tcn_filters': 115, 'tcn_kernel_size': 3, 'dropout_rate': 0.1014533691674911, 'attention_dim': 14}. Best is trial 5 with value: 5.577081574581174.\n"
          ]
        },
        {
          "output_type": "stream",
          "name": "stdout",
          "text": [
            "8/8 [==============================] - 0s 5ms/step\n"
          ]
        },
        {
          "output_type": "stream",
          "name": "stderr",
          "text": [
            "[I 2023-06-17 00:21:51,963] Trial 55 finished with value: 13.903700108854586 and parameters: {'window_size': 66, 'tcn_filters': 108, 'tcn_kernel_size': 4, 'dropout_rate': 0.14863265424115849, 'attention_dim': 23}. Best is trial 5 with value: 5.577081574581174.\n"
          ]
        },
        {
          "output_type": "stream",
          "name": "stdout",
          "text": [
            "8/8 [==============================] - 0s 8ms/step\n"
          ]
        },
        {
          "output_type": "stream",
          "name": "stderr",
          "text": [
            "[I 2023-06-17 00:22:03,674] Trial 56 finished with value: 15.984354055206147 and parameters: {'window_size': 46, 'tcn_filters': 127, 'tcn_kernel_size': 5, 'dropout_rate': 0.1674172675916258, 'attention_dim': 21}. Best is trial 5 with value: 5.577081574581174.\n"
          ]
        },
        {
          "output_type": "stream",
          "name": "stdout",
          "text": [
            "8/8 [==============================] - 0s 3ms/step\n"
          ]
        },
        {
          "output_type": "stream",
          "name": "stderr",
          "text": [
            "[I 2023-06-17 00:22:10,210] Trial 57 finished with value: 15.655326210850735 and parameters: {'window_size': 10, 'tcn_filters': 104, 'tcn_kernel_size': 3, 'dropout_rate': 0.11488566673511955, 'attention_dim': 15}. Best is trial 5 with value: 5.577081574581174.\n"
          ]
        },
        {
          "output_type": "stream",
          "name": "stdout",
          "text": [
            "8/8 [==============================] - 0s 6ms/step\n"
          ]
        },
        {
          "output_type": "stream",
          "name": "stderr",
          "text": [
            "[I 2023-06-17 00:22:22,218] Trial 58 finished with value: 19.700650564178396 and parameters: {'window_size': 40, 'tcn_filters': 114, 'tcn_kernel_size': 4, 'dropout_rate': 0.13800189604571206, 'attention_dim': 19}. Best is trial 5 with value: 5.577081574581174.\n"
          ]
        },
        {
          "output_type": "stream",
          "name": "stdout",
          "text": [
            "8/8 [==============================] - 0s 6ms/step\n"
          ]
        },
        {
          "output_type": "stream",
          "name": "stderr",
          "text": [
            "[I 2023-06-17 00:22:33,432] Trial 59 finished with value: 26.65861745297427 and parameters: {'window_size': 55, 'tcn_filters': 121, 'tcn_kernel_size': 5, 'dropout_rate': 0.11339862580320112, 'attention_dim': 17}. Best is trial 5 with value: 5.577081574581174.\n"
          ]
        },
        {
          "output_type": "stream",
          "name": "stdout",
          "text": [
            "8/8 [==============================] - 0s 2ms/step\n"
          ]
        },
        {
          "output_type": "stream",
          "name": "stderr",
          "text": [
            "[I 2023-06-17 00:22:39,838] Trial 60 finished with value: 11.100314818058823 and parameters: {'window_size': 18, 'tcn_filters': 110, 'tcn_kernel_size': 4, 'dropout_rate': 0.18891175697346552, 'attention_dim': 12}. Best is trial 5 with value: 5.577081574581174.\n"
          ]
        },
        {
          "output_type": "stream",
          "name": "stdout",
          "text": [
            "8/8 [==============================] - 0s 3ms/step\n"
          ]
        },
        {
          "output_type": "stream",
          "name": "stderr",
          "text": [
            "[I 2023-06-17 00:22:46,852] Trial 61 finished with value: 12.340494059293652 and parameters: {'window_size': 22, 'tcn_filters': 126, 'tcn_kernel_size': 2, 'dropout_rate': 0.10087735957246391, 'attention_dim': 16}. Best is trial 5 with value: 5.577081574581174.\n"
          ]
        },
        {
          "output_type": "stream",
          "name": "stdout",
          "text": [
            "8/8 [==============================] - 0s 3ms/step\n"
          ]
        },
        {
          "output_type": "stream",
          "name": "stderr",
          "text": [
            "[I 2023-06-17 00:22:53,256] Trial 62 finished with value: 13.5722769257063 and parameters: {'window_size': 30, 'tcn_filters': 117, 'tcn_kernel_size': 2, 'dropout_rate': 0.13111934901027233, 'attention_dim': 16}. Best is trial 5 with value: 5.577081574581174.\n"
          ]
        },
        {
          "output_type": "stream",
          "name": "stdout",
          "text": [
            "8/8 [==============================] - 0s 3ms/step\n"
          ]
        },
        {
          "output_type": "stream",
          "name": "stderr",
          "text": [
            "[I 2023-06-17 00:22:59,746] Trial 63 finished with value: 19.48967212510039 and parameters: {'window_size': 26, 'tcn_filters': 124, 'tcn_kernel_size': 2, 'dropout_rate': 0.14934050436633953, 'attention_dim': 18}. Best is trial 5 with value: 5.577081574581174.\n"
          ]
        },
        {
          "output_type": "stream",
          "name": "stdout",
          "text": [
            "8/8 [==============================] - 0s 4ms/step\n"
          ]
        },
        {
          "output_type": "stream",
          "name": "stderr",
          "text": [
            "[I 2023-06-17 00:23:11,503] Trial 64 finished with value: 8.485944001442347 and parameters: {'window_size': 34, 'tcn_filters': 126, 'tcn_kernel_size': 2, 'dropout_rate': 0.11446381613773393, 'attention_dim': 15}. Best is trial 5 with value: 5.577081574581174.\n"
          ]
        },
        {
          "output_type": "stream",
          "name": "stdout",
          "text": [
            "8/8 [==============================] - 0s 3ms/step\n"
          ]
        },
        {
          "output_type": "stream",
          "name": "stderr",
          "text": [
            "[I 2023-06-17 00:23:17,756] Trial 65 finished with value: 9.061304121281154 and parameters: {'window_size': 17, 'tcn_filters': 119, 'tcn_kernel_size': 4, 'dropout_rate': 0.160430725692632, 'attention_dim': 11}. Best is trial 5 with value: 5.577081574581174.\n"
          ]
        },
        {
          "output_type": "stream",
          "name": "stdout",
          "text": [
            "8/8 [==============================] - 0s 2ms/step\n"
          ]
        },
        {
          "output_type": "stream",
          "name": "stderr",
          "text": [
            "[I 2023-06-17 00:23:24,517] Trial 66 finished with value: 16.21156307052846 and parameters: {'window_size': 13, 'tcn_filters': 112, 'tcn_kernel_size': 2, 'dropout_rate': 0.13212525026005692, 'attention_dim': 8}. Best is trial 5 with value: 5.577081574581174.\n"
          ]
        },
        {
          "output_type": "stream",
          "name": "stdout",
          "text": [
            "8/8 [==============================] - 0s 3ms/step\n"
          ]
        },
        {
          "output_type": "stream",
          "name": "stderr",
          "text": [
            "[I 2023-06-17 00:23:31,016] Trial 67 finished with value: 12.107131421012786 and parameters: {'window_size': 21, 'tcn_filters': 101, 'tcn_kernel_size': 5, 'dropout_rate': 0.11306899175600782, 'attention_dim': 14}. Best is trial 5 with value: 5.577081574581174.\n"
          ]
        },
        {
          "output_type": "stream",
          "name": "stdout",
          "text": [
            "8/8 [==============================] - 1s 4ms/step\n"
          ]
        },
        {
          "output_type": "stream",
          "name": "stderr",
          "text": [
            "[I 2023-06-17 00:23:37,536] Trial 68 finished with value: 14.561554908649773 and parameters: {'window_size': 48, 'tcn_filters': 95, 'tcn_kernel_size': 3, 'dropout_rate': 0.14099698048345724, 'attention_dim': 18}. Best is trial 5 with value: 5.577081574581174.\n"
          ]
        },
        {
          "output_type": "stream",
          "name": "stdout",
          "text": [
            "8/8 [==============================] - 0s 4ms/step\n"
          ]
        },
        {
          "output_type": "stream",
          "name": "stderr",
          "text": [
            "[I 2023-06-17 00:23:45,226] Trial 69 finished with value: 9.210862617363697 and parameters: {'window_size': 35, 'tcn_filters': 121, 'tcn_kernel_size': 4, 'dropout_rate': 0.1768477238910363, 'attention_dim': 21}. Best is trial 5 with value: 5.577081574581174.\n"
          ]
        },
        {
          "output_type": "stream",
          "name": "stdout",
          "text": [
            "8/8 [==============================] - 0s 4ms/step\n"
          ]
        },
        {
          "output_type": "stream",
          "name": "stderr",
          "text": [
            "[I 2023-06-17 00:23:56,837] Trial 70 finished with value: 10.650164619486109 and parameters: {'window_size': 38, 'tcn_filters': 107, 'tcn_kernel_size': 5, 'dropout_rate': 0.1261424036611943, 'attention_dim': 25}. Best is trial 5 with value: 5.577081574581174.\n"
          ]
        },
        {
          "output_type": "stream",
          "name": "stdout",
          "text": [
            "8/8 [==============================] - 0s 3ms/step\n"
          ]
        },
        {
          "output_type": "stream",
          "name": "stderr",
          "text": [
            "[I 2023-06-17 00:24:00,730] Trial 71 finished with value: 15.96677454040828 and parameters: {'window_size': 32, 'tcn_filters': 128, 'tcn_kernel_size': 2, 'dropout_rate': 0.11067460614738402, 'attention_dim': 15}. Best is trial 5 with value: 5.577081574581174.\n"
          ]
        },
        {
          "output_type": "stream",
          "name": "stdout",
          "text": [
            "8/8 [==============================] - 0s 4ms/step\n"
          ]
        },
        {
          "output_type": "stream",
          "name": "stderr",
          "text": [
            "[I 2023-06-17 00:24:07,426] Trial 72 finished with value: 9.038116686897501 and parameters: {'window_size': 41, 'tcn_filters': 128, 'tcn_kernel_size': 2, 'dropout_rate': 0.11034447512526786, 'attention_dim': 15}. Best is trial 5 with value: 5.577081574581174.\n"
          ]
        },
        {
          "output_type": "stream",
          "name": "stdout",
          "text": [
            "8/8 [==============================] - 0s 3ms/step\n"
          ]
        },
        {
          "output_type": "stream",
          "name": "stderr",
          "text": [
            "[I 2023-06-17 00:24:13,855] Trial 73 finished with value: 9.029424148210701 and parameters: {'window_size': 25, 'tcn_filters': 124, 'tcn_kernel_size': 2, 'dropout_rate': 0.12195037824715714, 'attention_dim': 13}. Best is trial 5 with value: 5.577081574581174.\n"
          ]
        },
        {
          "output_type": "stream",
          "name": "stdout",
          "text": [
            "8/8 [==============================] - 0s 3ms/step\n"
          ]
        },
        {
          "output_type": "stream",
          "name": "stderr",
          "text": [
            "[I 2023-06-17 00:24:21,485] Trial 74 finished with value: 29.131329582754155 and parameters: {'window_size': 32, 'tcn_filters': 117, 'tcn_kernel_size': 2, 'dropout_rate': 0.1490791470473789, 'attention_dim': 17}. Best is trial 5 with value: 5.577081574581174.\n"
          ]
        },
        {
          "output_type": "stream",
          "name": "stdout",
          "text": [
            "8/8 [==============================] - 0s 2ms/step\n"
          ]
        },
        {
          "output_type": "stream",
          "name": "stderr",
          "text": [
            "[I 2023-06-17 00:24:24,062] Trial 75 finished with value: 66.402517680455 and parameters: {'window_size': 53, 'tcn_filters': 44, 'tcn_kernel_size': 2, 'dropout_rate': 0.11040930335013618, 'attention_dim': 16}. Best is trial 5 with value: 5.577081574581174.\n"
          ]
        },
        {
          "output_type": "stream",
          "name": "stdout",
          "text": [
            "8/8 [==============================] - 0s 5ms/step\n"
          ]
        },
        {
          "output_type": "stream",
          "name": "stderr",
          "text": [
            "[I 2023-06-17 00:24:30,103] Trial 76 finished with value: 12.72149473524599 and parameters: {'window_size': 28, 'tcn_filters': 125, 'tcn_kernel_size': 3, 'dropout_rate': 0.16160909701491705, 'attention_dim': 19}. Best is trial 5 with value: 5.577081574581174.\n"
          ]
        },
        {
          "output_type": "stream",
          "name": "stdout",
          "text": [
            "8/8 [==============================] - 0s 3ms/step\n"
          ]
        },
        {
          "output_type": "stream",
          "name": "stderr",
          "text": [
            "[I 2023-06-17 00:24:37,826] Trial 77 finished with value: 12.13633662343309 and parameters: {'window_size': 21, 'tcn_filters': 121, 'tcn_kernel_size': 4, 'dropout_rate': 0.1329113846202784, 'attention_dim': 10}. Best is trial 5 with value: 5.577081574581174.\n"
          ]
        },
        {
          "output_type": "stream",
          "name": "stdout",
          "text": [
            "8/8 [==============================] - 0s 4ms/step\n"
          ]
        },
        {
          "output_type": "stream",
          "name": "stderr",
          "text": [
            "[I 2023-06-17 00:24:49,646] Trial 78 finished with value: 17.725197972619455 and parameters: {'window_size': 44, 'tcn_filters': 118, 'tcn_kernel_size': 2, 'dropout_rate': 0.14141369804482917, 'attention_dim': 9}. Best is trial 5 with value: 5.577081574581174.\n"
          ]
        },
        {
          "output_type": "stream",
          "name": "stdout",
          "text": [
            "8/8 [==============================] - 0s 3ms/step\n"
          ]
        },
        {
          "output_type": "stream",
          "name": "stderr",
          "text": [
            "[I 2023-06-17 00:24:55,973] Trial 79 finished with value: 12.064173946039125 and parameters: {'window_size': 12, 'tcn_filters': 114, 'tcn_kernel_size': 5, 'dropout_rate': 0.10168393264069094, 'attention_dim': 18}. Best is trial 5 with value: 5.577081574581174.\n"
          ]
        },
        {
          "output_type": "stream",
          "name": "stdout",
          "text": [
            "8/8 [==============================] - 0s 4ms/step\n"
          ]
        },
        {
          "output_type": "stream",
          "name": "stderr",
          "text": [
            "[I 2023-06-17 00:25:02,581] Trial 80 finished with value: 8.21094203565999 and parameters: {'window_size': 35, 'tcn_filters': 111, 'tcn_kernel_size': 4, 'dropout_rate': 0.1235383077576658, 'attention_dim': 14}. Best is trial 5 with value: 5.577081574581174.\n"
          ]
        },
        {
          "output_type": "stream",
          "name": "stdout",
          "text": [
            "8/8 [==============================] - 0s 6ms/step\n"
          ]
        },
        {
          "output_type": "stream",
          "name": "stderr",
          "text": [
            "[I 2023-06-17 00:25:09,593] Trial 81 finished with value: 15.411239839309033 and parameters: {'window_size': 34, 'tcn_filters': 126, 'tcn_kernel_size': 4, 'dropout_rate': 0.1234138405446856, 'attention_dim': 14}. Best is trial 5 with value: 5.577081574581174.\n"
          ]
        },
        {
          "output_type": "stream",
          "name": "stdout",
          "text": [
            "8/8 [==============================] - 0s 3ms/step\n"
          ]
        },
        {
          "output_type": "stream",
          "name": "stderr",
          "text": [
            "[I 2023-06-17 00:25:16,388] Trial 82 finished with value: 8.326441770300217 and parameters: {'window_size': 36, 'tcn_filters': 111, 'tcn_kernel_size': 4, 'dropout_rate': 0.12545344483344906, 'attention_dim': 13}. Best is trial 5 with value: 5.577081574581174.\n"
          ]
        },
        {
          "output_type": "stream",
          "name": "stdout",
          "text": [
            "8/8 [==============================] - 0s 4ms/step\n"
          ]
        },
        {
          "output_type": "stream",
          "name": "stderr",
          "text": [
            "[I 2023-06-17 00:25:26,902] Trial 83 finished with value: 15.386500519708449 and parameters: {'window_size': 37, 'tcn_filters': 111, 'tcn_kernel_size': 4, 'dropout_rate': 0.12798262865004367, 'attention_dim': 12}. Best is trial 5 with value: 5.577081574581174.\n"
          ]
        },
        {
          "output_type": "stream",
          "name": "stdout",
          "text": [
            "8/8 [==============================] - 0s 3ms/step\n"
          ]
        },
        {
          "output_type": "stream",
          "name": "stderr",
          "text": [
            "[I 2023-06-17 00:25:33,378] Trial 84 finished with value: 7.4149959536971455 and parameters: {'window_size': 16, 'tcn_filters': 106, 'tcn_kernel_size': 4, 'dropout_rate': 0.14605077171890515, 'attention_dim': 11}. Best is trial 5 with value: 5.577081574581174.\n"
          ]
        },
        {
          "output_type": "stream",
          "name": "stdout",
          "text": [
            "8/8 [==============================] - 0s 3ms/step\n"
          ]
        },
        {
          "output_type": "stream",
          "name": "stderr",
          "text": [
            "[I 2023-06-17 00:25:38,710] Trial 85 finished with value: 8.782849982620977 and parameters: {'window_size': 15, 'tcn_filters': 105, 'tcn_kernel_size': 4, 'dropout_rate': 0.14522555833680045, 'attention_dim': 9}. Best is trial 5 with value: 5.577081574581174.\n"
          ]
        },
        {
          "output_type": "stream",
          "name": "stdout",
          "text": [
            "8/8 [==============================] - 0s 3ms/step\n"
          ]
        },
        {
          "output_type": "stream",
          "name": "stderr",
          "text": [
            "[I 2023-06-17 00:25:42,459] Trial 86 finished with value: 7.647889169924535 and parameters: {'window_size': 18, 'tcn_filters': 108, 'tcn_kernel_size': 4, 'dropout_rate': 0.15689971503822156, 'attention_dim': 11}. Best is trial 5 with value: 5.577081574581174.\n"
          ]
        },
        {
          "output_type": "stream",
          "name": "stdout",
          "text": [
            "8/8 [==============================] - 0s 5ms/step\n"
          ]
        },
        {
          "output_type": "stream",
          "name": "stderr",
          "text": [
            "[I 2023-06-17 00:25:46,190] Trial 87 finished with value: 5.729438698752819 and parameters: {'window_size': 20, 'tcn_filters': 107, 'tcn_kernel_size': 4, 'dropout_rate': 0.16569394239524415, 'attention_dim': 11}. Best is trial 5 with value: 5.577081574581174.\n"
          ]
        },
        {
          "output_type": "stream",
          "name": "stdout",
          "text": [
            "8/8 [==============================] - 0s 3ms/step\n"
          ]
        },
        {
          "output_type": "stream",
          "name": "stderr",
          "text": [
            "[I 2023-06-17 00:25:53,199] Trial 88 finished with value: 9.122455951249274 and parameters: {'window_size': 16, 'tcn_filters': 102, 'tcn_kernel_size': 4, 'dropout_rate': 0.1709169194372431, 'attention_dim': 11}. Best is trial 5 with value: 5.577081574581174.\n"
          ]
        },
        {
          "output_type": "stream",
          "name": "stdout",
          "text": [
            "8/8 [==============================] - 0s 3ms/step\n"
          ]
        },
        {
          "output_type": "stream",
          "name": "stderr",
          "text": [
            "[I 2023-06-17 00:25:58,969] Trial 89 finished with value: 20.07113960973693 and parameters: {'window_size': 18, 'tcn_filters': 107, 'tcn_kernel_size': 4, 'dropout_rate': 0.1570769226335015, 'attention_dim': 10}. Best is trial 5 with value: 5.577081574581174.\n"
          ]
        },
        {
          "output_type": "stream",
          "name": "stdout",
          "text": [
            "8/8 [==============================] - 0s 2ms/step\n"
          ]
        },
        {
          "output_type": "stream",
          "name": "stderr",
          "text": [
            "[I 2023-06-17 00:26:05,460] Trial 90 finished with value: 16.771076470468326 and parameters: {'window_size': 12, 'tcn_filters': 83, 'tcn_kernel_size': 4, 'dropout_rate': 0.17937574022783373, 'attention_dim': 11}. Best is trial 5 with value: 5.577081574581174.\n"
          ]
        },
        {
          "output_type": "stream",
          "name": "stdout",
          "text": [
            "8/8 [==============================] - 0s 3ms/step\n"
          ]
        },
        {
          "output_type": "stream",
          "name": "stderr",
          "text": [
            "[I 2023-06-17 00:26:17,042] Trial 91 finished with value: 22.788811071827244 and parameters: {'window_size': 23, 'tcn_filters': 114, 'tcn_kernel_size': 4, 'dropout_rate': 0.13656209741035186, 'attention_dim': 9}. Best is trial 5 with value: 5.577081574581174.\n"
          ]
        },
        {
          "output_type": "stream",
          "name": "stdout",
          "text": [
            "8/8 [==============================] - 0s 3ms/step\n"
          ]
        },
        {
          "output_type": "stream",
          "name": "stderr",
          "text": [
            "[I 2023-06-17 00:26:23,455] Trial 92 finished with value: 8.01054635359263 and parameters: {'window_size': 20, 'tcn_filters': 116, 'tcn_kernel_size': 4, 'dropout_rate': 0.15213752443029416, 'attention_dim': 10}. Best is trial 5 with value: 5.577081574581174.\n"
          ]
        },
        {
          "output_type": "stream",
          "name": "stdout",
          "text": [
            "8/8 [==============================] - 0s 3ms/step\n"
          ]
        },
        {
          "output_type": "stream",
          "name": "stderr",
          "text": [
            "[I 2023-06-17 00:26:29,545] Trial 93 finished with value: 13.62323913508143 and parameters: {'window_size': 19, 'tcn_filters': 96, 'tcn_kernel_size': 4, 'dropout_rate': 0.1488128964071616, 'attention_dim': 10}. Best is trial 5 with value: 5.577081574581174.\n"
          ]
        },
        {
          "output_type": "stream",
          "name": "stdout",
          "text": [
            "8/8 [==============================] - 0s 4ms/step\n"
          ]
        },
        {
          "output_type": "stream",
          "name": "stderr",
          "text": [
            "[I 2023-06-17 00:26:33,503] Trial 94 finished with value: 9.166248320330824 and parameters: {'window_size': 16, 'tcn_filters': 109, 'tcn_kernel_size': 4, 'dropout_rate': 0.16871479649316795, 'attention_dim': 12}. Best is trial 5 with value: 5.577081574581174.\n"
          ]
        },
        {
          "output_type": "stream",
          "name": "stdout",
          "text": [
            "8/8 [==============================] - 0s 3ms/step\n"
          ]
        },
        {
          "output_type": "stream",
          "name": "stderr",
          "text": [
            "[I 2023-06-17 00:26:41,791] Trial 95 finished with value: 46.333181408075035 and parameters: {'window_size': 20, 'tcn_filters': 99, 'tcn_kernel_size': 4, 'dropout_rate': 0.1992389140133224, 'attention_dim': 8}. Best is trial 5 with value: 5.577081574581174.\n"
          ]
        },
        {
          "output_type": "stream",
          "name": "stdout",
          "text": [
            "8/8 [==============================] - 0s 3ms/step\n"
          ]
        },
        {
          "output_type": "stream",
          "name": "stderr",
          "text": [
            "[I 2023-06-17 00:26:48,273] Trial 96 finished with value: 15.658328867548036 and parameters: {'window_size': 24, 'tcn_filters': 116, 'tcn_kernel_size': 4, 'dropout_rate': 0.16232823216568093, 'attention_dim': 11}. Best is trial 5 with value: 5.577081574581174.\n"
          ]
        },
        {
          "output_type": "stream",
          "name": "stdout",
          "text": [
            "8/8 [==============================] - 0s 2ms/step\n"
          ]
        },
        {
          "output_type": "stream",
          "name": "stderr",
          "text": [
            "[I 2023-06-17 00:26:54,706] Trial 97 finished with value: 10.72838046929113 and parameters: {'window_size': 14, 'tcn_filters': 106, 'tcn_kernel_size': 4, 'dropout_rate': 0.1549695575899029, 'attention_dim': 13}. Best is trial 5 with value: 5.577081574581174.\n"
          ]
        },
        {
          "output_type": "stream",
          "name": "stdout",
          "text": [
            "8/8 [==============================] - 0s 6ms/step\n"
          ]
        },
        {
          "output_type": "stream",
          "name": "stderr",
          "text": [
            "[I 2023-06-17 00:27:02,122] Trial 98 finished with value: 10.890520965031612 and parameters: {'window_size': 79, 'tcn_filters': 119, 'tcn_kernel_size': 3, 'dropout_rate': 0.13677847517334918, 'attention_dim': 9}. Best is trial 5 with value: 5.577081574581174.\n"
          ]
        },
        {
          "output_type": "stream",
          "name": "stdout",
          "text": [
            "8/8 [==============================] - 0s 3ms/step\n"
          ]
        },
        {
          "output_type": "stream",
          "name": "stderr",
          "text": [
            "[I 2023-06-17 00:27:08,537] Trial 99 finished with value: 14.85115053629303 and parameters: {'window_size': 10, 'tcn_filters': 104, 'tcn_kernel_size': 5, 'dropout_rate': 0.18204154608399775, 'attention_dim': 11}. Best is trial 5 with value: 5.577081574581174.\n"
          ]
        }
      ]
    },
    {
      "cell_type": "code",
      "source": [
        "# Display the optimal set of parameters\n",
        "best_params = study.best_params\n",
        "print(\"Best Hyperparameters:\", best_params)"
      ],
      "metadata": {
        "colab": {
          "base_uri": "https://localhost:8080/"
        },
        "id": "MIC7AbkU-qLy",
        "outputId": "5cf2ad7b-1d35-499d-dc3b-6caaf58c5b29"
      },
      "id": "MIC7AbkU-qLy",
      "execution_count": null,
      "outputs": [
        {
          "output_type": "stream",
          "name": "stdout",
          "text": [
            "Best Hyperparameters: {'window_size': 18, 'tcn_filters': 112, 'tcn_kernel_size': 4, 'dropout_rate': 0.11556771693066659, 'attention_dim': 10}\n"
          ]
        }
      ]
    },
    {
      "cell_type": "code",
      "source": [
        "# Evaluate the accuracy of test\n",
        "print(f\"MAPE on Test dataset: \", best_mape)\n",
        "print(f\"RMSE on Test dataset: \", best_rmse)\n",
        "print(f\"MSLE on Test dataset: \", best_msle)"
      ],
      "metadata": {
        "colab": {
          "base_uri": "https://localhost:8080/"
        },
        "id": "gIcsWJky-scK",
        "outputId": "65b2b1a7-b2e6-42b4-97dc-f52158d3a7da"
      },
      "id": "gIcsWJky-scK",
      "execution_count": null,
      "outputs": [
        {
          "output_type": "stream",
          "name": "stdout",
          "text": [
            "MAPE on Test dataset:  0.0718720930321849\n",
            "RMSE on Test dataset:  2.3615845474132775\n",
            "MSLE on Test dataset:  0.006214744806929436\n"
          ]
        }
      ]
    },
    {
      "cell_type": "markdown",
      "source": [
        "### Save and Load the best model and related information"
      ],
      "metadata": {
        "id": "LAq2jnXOj6aI"
      },
      "id": "LAq2jnXOj6aI"
    },
    {
      "cell_type": "code",
      "source": [
        "# Save the best model and related information\n",
        "best_model.save('/content/drive/MyDrive/Colab Notebooks/Business Data Analysis/INTC/7:1:2/best_model.h5')\n",
        "\n",
        "np.save('/content/drive/MyDrive/Colab Notebooks/Business Data Analysis/INTC/7:1:2/best_window_size.npy', best_window_size)\n",
        "np.save('/content/drive/MyDrive/Colab Notebooks/Business Data Analysis/INTC/7:1:2/best_train_windows.npy', best_train_windows)\n",
        "np.save('/content/drive/MyDrive/Colab Notebooks/Business Data Analysis/INTC/7:1:2/best_train_targets.npy', best_train_targets)\n",
        "np.save('/content/drive/MyDrive/Colab Notebooks/Business Data Analysis/INTC/7:1:2/best_test_windows.npy', best_test_windows)\n",
        "np.save('/content/drive/MyDrive/Colab Notebooks/Business Data Analysis/INTC/7:1:2/best_test_targets.npy', best_test_targets)\n",
        "np.save('/content/drive/MyDrive/Colab Notebooks/Business Data Analysis/INTC/7:1:2/best_val_windows.npy', best_val_windows)\n",
        "np.save('/content/drive/MyDrive/Colab Notebooks/Business Data Analysis/INTC/7:1:2/best_val_targets.npy', best_val_targets)\n",
        "\n",
        "np.save('/content/drive/MyDrive/Colab Notebooks/Business Data Analysis/INTC/7:1:2/best_y_pred.npy', best_y_pred)\n",
        "\n",
        "np.save('/content/drive/MyDrive/Colab Notebooks/Business Data Analysis/INTC/7:1:2/best_mse.npy', best_mse)\n",
        "np.save('/content/drive/MyDrive/Colab Notebooks/Business Data Analysis/INTC/7:1:2/best_rmse.npy', best_rmse)\n",
        "np.save('/content/drive/MyDrive/Colab Notebooks/Business Data Analysis/INTC/7:1:2/best_mape.npy', best_mape)\n",
        "np.save('/content/drive/MyDrive/Colab Notebooks/Business Data Analysis/INTC/7:1:2/best_msle.npy', best_msle)"
      ],
      "metadata": {
        "id": "VOV_a65HsGiB"
      },
      "id": "VOV_a65HsGiB",
      "execution_count": null,
      "outputs": []
    },
    {
      "cell_type": "code",
      "source": [
        "# Load the best model and related information\n",
        "with custom_object_scope({'AttentionLayer': AttentionLayer}):\n",
        "    loaded_best_model = load_model('/content/drive/MyDrive/Colab Notebooks/Business Data Analysis/INTC/7:1:2/best_model.h5')\n",
        "\n",
        "loaded_best_window_size = np.load('/content/drive/MyDrive/Colab Notebooks/Business Data Analysis/INTC/7:1:2/best_window_size.npy')\n",
        "loaded_best_train_windows = np.load('/content/drive/MyDrive/Colab Notebooks/Business Data Analysis/INTC/7:1:2/best_train_windows.npy')\n",
        "loaded_best_train_targets = np.load('/content/drive/MyDrive/Colab Notebooks/Business Data Analysis/INTC/7:1:2/best_train_targets.npy')\n",
        "loaded_best_test_windows = np.load('/content/drive/MyDrive/Colab Notebooks/Business Data Analysis/INTC/7:1:2/best_test_windows.npy')\n",
        "loaded_best_test_targets = np.load('/content/drive/MyDrive/Colab Notebooks/Business Data Analysis/INTC/7:1:2/best_test_targets.npy')\n",
        "loaded_best_val_windows = np.load('/content/drive/MyDrive/Colab Notebooks/Business Data Analysis/INTC/7:1:2/best_val_windows.npy')\n",
        "loaded_best_val_targets = np.load('/content/drive/MyDrive/Colab Notebooks/Business Data Analysis/INTC/7:1:2/best_val_targets.npy')\n",
        "\n",
        "loaded_best_y_pred = np.load('/content/drive/MyDrive/Colab Notebooks/Business Data Analysis/INTC/7:1:2/best_y_pred.npy')\n",
        "\n",
        "loaded_best_mse = np.load('/content/drive/MyDrive/Colab Notebooks/Business Data Analysis/INTC/7:1:2/best_mse.npy').item()\n",
        "loaded_best_rmse = np.load('/content/drive/MyDrive/Colab Notebooks/Business Data Analysis/INTC/7:1:2/best_rmse.npy').item()\n",
        "loaded_best_mape = np.load('/content/drive/MyDrive/Colab Notebooks/Business Data Analysis/INTC/7:1:2/best_mape.npy').item()\n",
        "loaded_best_msle = np.load('/content/drive/MyDrive/Colab Notebooks/Business Data Analysis/INTC/7:1:2/best_msle.npy').item()"
      ],
      "metadata": {
        "id": "CYIqqiJn-7Jp"
      },
      "id": "CYIqqiJn-7Jp",
      "execution_count": 12,
      "outputs": []
    },
    {
      "cell_type": "markdown",
      "source": [
        "### Evaluate on Validate dataset"
      ],
      "metadata": {
        "id": "soDshLQKcdfQ"
      },
      "id": "soDshLQKcdfQ"
    },
    {
      "cell_type": "code",
      "source": [
        "train_last_window_size = train_data[-loaded_best_window_size:]\n",
        "val_data_extended = np.concatenate((train_last_window_size, val_data), axis=0)\n",
        "\n",
        "val_windows, val_targets = create_dataset(val_data_extended, loaded_best_window_size)"
      ],
      "metadata": {
        "id": "4buD8rOocm5F"
      },
      "id": "4buD8rOocm5F",
      "execution_count": 13,
      "outputs": []
    },
    {
      "cell_type": "code",
      "source": [
        "# Testing the model on Validate dataset\n",
        "y_pred_val = loaded_best_model.predict(val_windows)"
      ],
      "metadata": {
        "colab": {
          "base_uri": "https://localhost:8080/"
        },
        "id": "bN73NiAMcodu",
        "outputId": "8c4a8afe-b988-4404-a3a7-48bef7b5b20c"
      },
      "id": "bN73NiAMcodu",
      "execution_count": 14,
      "outputs": [
        {
          "output_type": "stream",
          "name": "stdout",
          "text": [
            "4/4 [==============================] - 0s 5ms/step\n"
          ]
        }
      ]
    },
    {
      "cell_type": "code",
      "source": [
        "# Evaluate on MAPE, RMSE, MSLE\n",
        "val_targets = scaler.inverse_transform(val_targets.reshape(-1, 1))\n",
        "y_pred_val = scaler.inverse_transform(y_pred_val)\n",
        "\n",
        "mse = mean_squared_error(val_targets, y_pred_val)\n",
        "rmse = np.sqrt(mse)\n",
        "mape = mean_absolute_percentage_error(val_targets, y_pred_val)\n",
        "msle = mean_squared_log_error(val_targets, y_pred_val)"
      ],
      "metadata": {
        "id": "RgkBBobzcp4B"
      },
      "id": "RgkBBobzcp4B",
      "execution_count": 15,
      "outputs": []
    },
    {
      "cell_type": "code",
      "source": [
        "# Evaluate the accuracy of test\n",
        "print(f\"MAPE on Validate dataset: \", mape)\n",
        "print(f\"RMSE on Validate dataset: \", rmse)\n",
        "print(f\"MSLE on Validate dataset: \", msle)"
      ],
      "metadata": {
        "colab": {
          "base_uri": "https://localhost:8080/"
        },
        "id": "qwP2bp9gcsFB",
        "outputId": "18e52524-ce78-459d-fbba-44ce336cd336"
      },
      "id": "qwP2bp9gcsFB",
      "execution_count": 16,
      "outputs": [
        {
          "output_type": "stream",
          "name": "stdout",
          "text": [
            "MAPE on Validate dataset:  0.02132718486534588\n",
            "RMSE on Validate dataset:  1.1610865404600883\n",
            "MSLE on Validate dataset:  0.0006612745957606574\n"
          ]
        }
      ]
    },
    {
      "cell_type": "markdown",
      "source": [
        "## Predicting the next 30 days"
      ],
      "metadata": {
        "id": "ZV6VbX2qiTJ2"
      },
      "id": "ZV6VbX2qiTJ2"
    },
    {
      "cell_type": "markdown",
      "source": [
        "### Preparing the forecast date index"
      ],
      "metadata": {
        "id": "KheB_eYIiU4b"
      },
      "id": "KheB_eYIiU4b"
    },
    {
      "cell_type": "code",
      "source": [
        "# Get the last date from the current index\n",
        "last_date = df.index[-1]\n",
        "\n",
        "# Add one day to the last date\n",
        "next_date = last_date + pd.DateOffset(days=1)\n",
        "\n",
        "# Create a list of indices starting from the next date for 30 days\n",
        "index_next_30_days = pd.date_range(start=next_date, periods=30).tolist()"
      ],
      "metadata": {
        "id": "nEQ97NJuiPPW"
      },
      "id": "nEQ97NJuiPPW",
      "execution_count": 17,
      "outputs": []
    },
    {
      "cell_type": "markdown",
      "source": [
        "## Prediction process"
      ],
      "metadata": {
        "id": "35CEaBcIiX6-"
      },
      "id": "35CEaBcIiX6-"
    },
    {
      "cell_type": "code",
      "execution_count": 18,
      "id": "45367300",
      "metadata": {
        "colab": {
          "base_uri": "https://localhost:8080/"
        },
        "id": "45367300",
        "outputId": "eba4e26e-69d9-461b-ca40-e2562104628f"
      },
      "outputs": [
        {
          "output_type": "stream",
          "name": "stdout",
          "text": [
            "1/1 [==============================] - 0s 160ms/step\n",
            "1/1 [==============================] - 0s 22ms/step\n",
            "1/1 [==============================] - 0s 21ms/step\n",
            "1/1 [==============================] - 0s 23ms/step\n",
            "1/1 [==============================] - 0s 22ms/step\n",
            "1/1 [==============================] - 0s 23ms/step\n",
            "1/1 [==============================] - 0s 28ms/step\n",
            "1/1 [==============================] - 0s 21ms/step\n",
            "1/1 [==============================] - 0s 21ms/step\n",
            "1/1 [==============================] - 0s 24ms/step\n",
            "1/1 [==============================] - 0s 22ms/step\n",
            "1/1 [==============================] - 0s 26ms/step\n",
            "1/1 [==============================] - 0s 21ms/step\n",
            "1/1 [==============================] - 0s 23ms/step\n",
            "1/1 [==============================] - 0s 22ms/step\n",
            "1/1 [==============================] - 0s 22ms/step\n",
            "1/1 [==============================] - 0s 22ms/step\n",
            "1/1 [==============================] - 0s 21ms/step\n",
            "1/1 [==============================] - 0s 22ms/step\n",
            "1/1 [==============================] - 0s 23ms/step\n",
            "1/1 [==============================] - 0s 24ms/step\n",
            "1/1 [==============================] - 0s 25ms/step\n",
            "1/1 [==============================] - 0s 24ms/step\n",
            "1/1 [==============================] - 0s 24ms/step\n",
            "1/1 [==============================] - 0s 25ms/step\n",
            "1/1 [==============================] - 0s 22ms/step\n",
            "1/1 [==============================] - 0s 22ms/step\n",
            "1/1 [==============================] - 0s 25ms/step\n",
            "1/1 [==============================] - 0s 21ms/step\n",
            "1/1 [==============================] - 0s 23ms/step\n"
          ]
        }
      ],
      "source": [
        "# Predict the closing price for the next 30 days\n",
        "last_sequence_days = np.array(data_scaled[-loaded_best_window_size:]).reshape(1, -1, 1)\n",
        "y_next_30_days = []\n",
        "\n",
        "for i in range(30):\n",
        "    # Predict the next day's closing price\n",
        "    next_day_pred = loaded_best_model.predict(last_sequence_days)\n",
        "\n",
        "    # Save prediction\n",
        "    y_next_30_days.append(next_day_pred[0][0])\n",
        "\n",
        "    # Update data for the next day\n",
        "    last_sequence_days = np.concatenate([last_sequence_days[:, 1:, :], next_day_pred.reshape(1, 1, 1)], axis=1)"
      ]
    },
    {
      "cell_type": "code",
      "source": [
        "print('Predicted closing prices for the next 30 days:')\n",
        "y_next_30_days = scaler.inverse_transform(np.array(y_next_30_days).reshape(-1, 1))\n",
        "print(y_next_30_days.flatten())"
      ],
      "metadata": {
        "id": "c42DFmmWmRHK",
        "colab": {
          "base_uri": "https://localhost:8080/"
        },
        "outputId": "fe8a8d2c-ef18-44bf-c7e5-1abc1d25bf29"
      },
      "id": "c42DFmmWmRHK",
      "execution_count": 19,
      "outputs": [
        {
          "output_type": "stream",
          "name": "stdout",
          "text": [
            "Predicted closing prices for the next 30 days:\n",
            "[33.280106 33.95333  34.51864  35.005913 35.51925  36.009384 36.478592\n",
            " 36.925575 37.364227 37.790916 38.192886 38.59235  38.98203  39.388012\n",
            " 39.760605 40.151592 40.51491  40.88006  41.231487 41.573605 41.906208\n",
            " 42.22786  42.53996  42.84241  43.13559  43.41985  43.695663 43.963226\n",
            " 44.222813 44.47478 ]\n"
          ]
        }
      ]
    },
    {
      "cell_type": "markdown",
      "source": [
        "## Visualization"
      ],
      "metadata": {
        "id": "ONh3k9wBids4"
      },
      "id": "ONh3k9wBids4"
    },
    {
      "cell_type": "code",
      "source": [
        "plt.figure(figsize=(12, 5))\n",
        "\n",
        "plt.plot(df.index[:train_size], scaler.inverse_transform(train_data))\n",
        "\n",
        "plt.plot(df.index[train_size : train_size + val_size], scaler.inverse_transform(val_data))\n",
        "\n",
        "plt.plot(df.index[train_size : train_size + val_size], y_pred_val)\n",
        "\n",
        "plt.plot(df.index[train_size + val_size : ], scaler.inverse_transform(test_data))\n",
        "\n",
        "plt.plot(df.index[train_size + val_size : ], loaded_best_y_pred)\n",
        "\n",
        "plt.plot(index_next_30_days, y_next_30_days)\n",
        "\n",
        "plt.legend(['Train', 'Validate', 'PredictValidate', 'Test', 'PredictTest', 'Next30Day'])\n",
        "\n",
        "plt.grid()\n",
        "plt.title(f\"Intel Corporation Closing Price Data from {df.index[0].strftime('%Y-%m-%d')} to {index_next_30_days[-1].strftime('%Y-%m-%d')}\")\n",
        "plt.xlabel(\"Date\")\n",
        "plt.ylabel(\"Close value\")\n",
        "plt.savefig('TCAN_712_INTC.png')\n",
        "plt.show()"
      ],
      "metadata": {
        "colab": {
          "base_uri": "https://localhost:8080/",
          "height": 487
        },
        "id": "KgMEXFr_ZYqb",
        "outputId": "60169e51-90d8-4728-c531-e1025ba26ee9"
      },
      "id": "KgMEXFr_ZYqb",
      "execution_count": 20,
      "outputs": [
        {
          "output_type": "display_data",
          "data": {
            "text/plain": [
              "<Figure size 1200x500 with 1 Axes>"
            ],
            "image/png": "[encoded data removed]"
          },
          "metadata": {}
        }
      ]
    }
  ],
  "metadata": {
    "colab": {
      "provenance": []
    },
    "kernelspec": {
      "display_name": "Python 3 (ipykernel)",
      "language": "python",
      "name": "python3"
    },
    "language_info": {
      "codemirror_mode": {
        "name": "ipython",
        "version": 3
      },
      "file_extension": ".py",
      "mimetype": "text/x-python",
      "name": "python",
      "nbconvert_exporter": "python",
      "pygments_lexer": "ipython3",
      "version": "3.9.13"
    }
  },
  "nbformat": 4,
  "nbformat_minor": 5
}