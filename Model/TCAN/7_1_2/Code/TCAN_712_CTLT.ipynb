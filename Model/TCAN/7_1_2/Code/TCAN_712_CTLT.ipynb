{
  "cells": [
    {
      "cell_type": "markdown",
      "source": [
        "## Preparation"
      ],
      "metadata": {
        "id": "Ty-2HmFfAEUU"
      },
      "id": "Ty-2HmFfAEUU"
    },
    {
      "cell_type": "markdown",
      "source": [
        "### Download the optimization support library package"
      ],
      "metadata": {
        "id": "wCHCM3ifASoq"
      },
      "id": "wCHCM3ifASoq"
    },
    {
      "cell_type": "code",
      "source": [
        "!pip install optuna"
      ],
      "metadata": {
        "colab": {
          "base_uri": "https://localhost:8080/"
        },
        "id": "h-uK9HgR9_AM",
        "outputId": "f97ad4d6-c93f-40b3-db8d-a7453509ff51"
      },
      "id": "h-uK9HgR9_AM",
      "execution_count": 1,
      "outputs": [
        {
          "output_type": "stream",
          "name": "stdout",
          "text": [
            "Looking in indexes: https://pypi.org/simple, https://us-python.pkg.dev/colab-wheels/public/simple/\n",
            "Collecting optuna\n",
            "  Downloading optuna-3.2.0-py3-none-any.whl (390 kB)\n",
            "\u001b[2K     \u001b[90m━━━━━━━━━━━━━━━━━━━━━━━━━━━━━━━━━━━━━━━\u001b[0m \u001b[32m390.6/390.6 kB\u001b[0m \u001b[31m7.3 MB/s\u001b[0m eta \u001b[36m0:00:00\u001b[0m\n",
            "\u001b[?25hCollecting alembic>=1.5.0 (from optuna)\n",
            "  Downloading alembic-1.11.1-py3-none-any.whl (224 kB)\n",
            "\u001b[2K     \u001b[90m━━━━━━━━━━━━━━━━━━━━━━━━━━━━━━━━━━━━━━\u001b[0m \u001b[32m224.5/224.5 kB\u001b[0m \u001b[31m16.6 MB/s\u001b[0m eta \u001b[36m0:00:00\u001b[0m\n",
            "\u001b[?25hCollecting cmaes>=0.9.1 (from optuna)\n",
            "  Downloading cmaes-0.9.1-py3-none-any.whl (21 kB)\n",
            "Collecting colorlog (from optuna)\n",
            "  Downloading colorlog-6.7.0-py2.py3-none-any.whl (11 kB)\n",
            "Requirement already satisfied: numpy in /usr/local/lib/python3.10/dist-packages (from optuna) (1.22.4)\n",
            "Requirement already satisfied: packaging>=20.0 in /usr/local/lib/python3.10/dist-packages (from optuna) (23.1)\n",
            "Requirement already satisfied: sqlalchemy>=1.3.0 in /usr/local/lib/python3.10/dist-packages (from optuna) (2.0.10)\n",
            "Requirement already satisfied: tqdm in /usr/local/lib/python3.10/dist-packages (from optuna) (4.65.0)\n",
            "Requirement already satisfied: PyYAML in /usr/local/lib/python3.10/dist-packages (from optuna) (6.0)\n",
            "Collecting Mako (from alembic>=1.5.0->optuna)\n",
            "  Downloading Mako-1.2.4-py3-none-any.whl (78 kB)\n",
            "\u001b[2K     \u001b[90m━━━━━━━━━━━━━━━━━━━━━━━━━━━━━━━━━━━━━━━━\u001b[0m \u001b[32m78.7/78.7 kB\u001b[0m \u001b[31m7.3 MB/s\u001b[0m eta \u001b[36m0:00:00\u001b[0m\n",
            "\u001b[?25hRequirement already satisfied: typing-extensions>=4 in /usr/local/lib/python3.10/dist-packages (from alembic>=1.5.0->optuna) (4.5.0)\n",
            "Requirement already satisfied: greenlet!=0.4.17 in /usr/local/lib/python3.10/dist-packages (from sqlalchemy>=1.3.0->optuna) (2.0.2)\n",
            "Requirement already satisfied: MarkupSafe>=0.9.2 in /usr/local/lib/python3.10/dist-packages (from Mako->alembic>=1.5.0->optuna) (2.1.2)\n",
            "Installing collected packages: Mako, colorlog, cmaes, alembic, optuna\n",
            "Successfully installed Mako-1.2.4 alembic-1.11.1 cmaes-0.9.1 colorlog-6.7.0 optuna-3.2.0\n"
          ]
        }
      ]
    },
    {
      "cell_type": "markdown",
      "source": [
        "### Connect to Google Drive"
      ],
      "metadata": {
        "id": "-yVNLlKiAkLO"
      },
      "id": "-yVNLlKiAkLO"
    },
    {
      "cell_type": "code",
      "source": [
        "from google.colab import drive\n",
        "drive.mount('/content/drive', force_remount=True)"
      ],
      "metadata": {
        "colab": {
          "base_uri": "https://localhost:8080/"
        },
        "id": "O32NLGXv96h9",
        "outputId": "49b8cb0d-62f5-4f25-c699-b92465795eec"
      },
      "id": "O32NLGXv96h9",
      "execution_count": 2,
      "outputs": [
        {
          "output_type": "stream",
          "name": "stdout",
          "text": [
            "Mounted at /content/drive\n"
          ]
        }
      ]
    },
    {
      "cell_type": "markdown",
      "source": [
        "## Import Libraries"
      ],
      "metadata": {
        "id": "W53Qynm-ZVZt"
      },
      "id": "W53Qynm-ZVZt"
    },
    {
      "cell_type": "code",
      "execution_count": 3,
      "id": "87d177e7",
      "metadata": {
        "id": "87d177e7"
      },
      "outputs": [],
      "source": [
        "# Library to support working with data\n",
        "import numpy as np\n",
        "import pandas as pd\n",
        "\n",
        "# Graphing support library\n",
        "import matplotlib.pyplot as plt\n",
        "\n",
        "# Data Normalization Support Library\n",
        "from sklearn.preprocessing import MinMaxScaler\n",
        "\n",
        "# Library to support building Temporal Convolutional Attention Networks models\n",
        "from tensorflow.keras.models import Model\n",
        "from tensorflow.keras.optimizers import Adam\n",
        "from tensorflow.keras.callbacks import EarlyStopping\n",
        "from tensorflow.keras.layers import Dense, Flatten, Conv1D, MaxPooling1D, GlobalMaxPooling1D, Dropout, SpatialDropout1D\n",
        "from tensorflow.keras.layers import Layer, RepeatVector, concatenate, Reshape, Input, Concatenate, Permute, Multiply, Add, Activation\n",
        "\n",
        "# Performance metrics calculation support library\n",
        "from sklearn.metrics import mean_squared_error, mean_absolute_percentage_error, mean_squared_log_error\n",
        "\n",
        "# Parameter optimization support library\n",
        "import optuna\n",
        "\n",
        "# Support library to ignore warnings\n",
        "import warnings\n",
        "warnings.filterwarnings(\"ignore\")\n",
        "\n",
        "# Support library to load models and data\n",
        "from keras.utils import custom_object_scope\n",
        "from tensorflow.keras.models import load_model"
      ]
    },
    {
      "cell_type": "markdown",
      "source": [
        "## Data preprocessing"
      ],
      "metadata": {
        "id": "-DlshO-2cJbs"
      },
      "id": "-DlshO-2cJbs"
    },
    {
      "cell_type": "markdown",
      "source": [
        "### Read data"
      ],
      "metadata": {
        "id": "ezxH2qTIcLnT"
      },
      "id": "ezxH2qTIcLnT"
    },
    {
      "cell_type": "code",
      "execution_count": 4,
      "id": "77ce5605",
      "metadata": {
        "colab": {
          "base_uri": "https://localhost:8080/",
          "height": 423
        },
        "id": "77ce5605",
        "outputId": "930e2719-3924-4186-cbc6-d8afcf27d5fa"
      },
      "outputs": [
        {
          "output_type": "execute_result",
          "data": {
            "text/plain": [
              "            Date       Open       High        Low      Close  Adj Close  \\\n",
              "0     2019-01-02  30.860001  31.260000  30.240000  30.910000  30.910000   \n",
              "1     2019-01-03  30.660000  30.660000  29.290001  29.840000  29.840000   \n",
              "2     2019-01-04  30.049999  31.360001  29.940001  31.080000  31.080000   \n",
              "3     2019-01-07  31.020000  32.180000  30.850000  32.000000  32.000000   \n",
              "4     2019-01-08  32.340000  33.060001  32.150002  32.790001  32.790001   \n",
              "...          ...        ...        ...        ...        ...        ...   \n",
              "1114  2023-06-06  37.910000  39.049999  37.580002  38.820000  38.820000   \n",
              "1115  2023-06-07  39.160000  40.029999  38.250000  39.959999  39.959999   \n",
              "1116  2023-06-08  39.700001  39.840000  36.750000  39.000000  39.000000   \n",
              "1117  2023-06-09  39.250000  40.110001  38.480000  38.810001  38.810001   \n",
              "1118  2023-06-12  40.490002  44.450001  40.410000  42.779999  42.779999   \n",
              "\n",
              "        Volume  \n",
              "0      1201700  \n",
              "1      1149900  \n",
              "2      3530400  \n",
              "3      1063400  \n",
              "4      1391000  \n",
              "...        ...  \n",
              "1114   2261700  \n",
              "1115   4382500  \n",
              "1116   9705500  \n",
              "1117   4493800  \n",
              "1118  10155800  \n",
              "\n",
              "[1119 rows x 7 columns]"
            ],
            "text/html": [
              "\n",
              "  <div id=\"df-6a9d5ba6-2d45-443f-98c0-eabd1ebc89c7\">\n",
              "    <div class=\"colab-df-container\">\n",
              "      <div>\n",
              "<style scoped>\n",
              "    .dataframe tbody tr th:only-of-type {\n",
              "        vertical-align: middle;\n",
              "    }\n",
              "\n",
              "    .dataframe tbody tr th {\n",
              "        vertical-align: top;\n",
              "    }\n",
              "\n",
              "    .dataframe thead th {\n",
              "        text-align: right;\n",
              "    }\n",
              "</style>\n",
              "<table border=\"1\" class=\"dataframe\">\n",
              "  <thead>\n",
              "    <tr style=\"text-align: right;\">\n",
              "      <th></th>\n",
              "      <th>Date</th>\n",
              "      <th>Open</th>\n",
              "      <th>High</th>\n",
              "      <th>Low</th>\n",
              "      <th>Close</th>\n",
              "      <th>Adj Close</th>\n",
              "      <th>Volume</th>\n",
              "    </tr>\n",
              "  </thead>\n",
              "  <tbody>\n",
              "    <tr>\n",
              "      <th>0</th>\n",
              "      <td>2019-01-02</td>\n",
              "      <td>30.860001</td>\n",
              "      <td>31.260000</td>\n",
              "      <td>30.240000</td>\n",
              "      <td>30.910000</td>\n",
              "      <td>30.910000</td>\n",
              "      <td>1201700</td>\n",
              "    </tr>\n",
              "    <tr>\n",
              "      <th>1</th>\n",
              "      <td>2019-01-03</td>\n",
              "      <td>30.660000</td>\n",
              "      <td>30.660000</td>\n",
              "      <td>29.290001</td>\n",
              "      <td>29.840000</td>\n",
              "      <td>29.840000</td>\n",
              "      <td>1149900</td>\n",
              "    </tr>\n",
              "    <tr>\n",
              "      <th>2</th>\n",
              "      <td>2019-01-04</td>\n",
              "      <td>30.049999</td>\n",
              "      <td>31.360001</td>\n",
              "      <td>29.940001</td>\n",
              "      <td>31.080000</td>\n",
              "      <td>31.080000</td>\n",
              "      <td>3530400</td>\n",
              "    </tr>\n",
              "    <tr>\n",
              "      <th>3</th>\n",
              "      <td>2019-01-07</td>\n",
              "      <td>31.020000</td>\n",
              "      <td>32.180000</td>\n",
              "      <td>30.850000</td>\n",
              "      <td>32.000000</td>\n",
              "      <td>32.000000</td>\n",
              "      <td>1063400</td>\n",
              "    </tr>\n",
              "    <tr>\n",
              "      <th>4</th>\n",
              "      <td>2019-01-08</td>\n",
              "      <td>32.340000</td>\n",
              "      <td>33.060001</td>\n",
              "      <td>32.150002</td>\n",
              "      <td>32.790001</td>\n",
              "      <td>32.790001</td>\n",
              "      <td>1391000</td>\n",
              "    </tr>\n",
              "    <tr>\n",
              "      <th>...</th>\n",
              "      <td>...</td>\n",
              "      <td>...</td>\n",
              "      <td>...</td>\n",
              "      <td>...</td>\n",
              "      <td>...</td>\n",
              "      <td>...</td>\n",
              "      <td>...</td>\n",
              "    </tr>\n",
              "    <tr>\n",
              "      <th>1114</th>\n",
              "      <td>2023-06-06</td>\n",
              "      <td>37.910000</td>\n",
              "      <td>39.049999</td>\n",
              "      <td>37.580002</td>\n",
              "      <td>38.820000</td>\n",
              "      <td>38.820000</td>\n",
              "      <td>2261700</td>\n",
              "    </tr>\n",
              "    <tr>\n",
              "      <th>1115</th>\n",
              "      <td>2023-06-07</td>\n",
              "      <td>39.160000</td>\n",
              "      <td>40.029999</td>\n",
              "      <td>38.250000</td>\n",
              "      <td>39.959999</td>\n",
              "      <td>39.959999</td>\n",
              "      <td>4382500</td>\n",
              "    </tr>\n",
              "    <tr>\n",
              "      <th>1116</th>\n",
              "      <td>2023-06-08</td>\n",
              "      <td>39.700001</td>\n",
              "      <td>39.840000</td>\n",
              "      <td>36.750000</td>\n",
              "      <td>39.000000</td>\n",
              "      <td>39.000000</td>\n",
              "      <td>9705500</td>\n",
              "    </tr>\n",
              "    <tr>\n",
              "      <th>1117</th>\n",
              "      <td>2023-06-09</td>\n",
              "      <td>39.250000</td>\n",
              "      <td>40.110001</td>\n",
              "      <td>38.480000</td>\n",
              "      <td>38.810001</td>\n",
              "      <td>38.810001</td>\n",
              "      <td>4493800</td>\n",
              "    </tr>\n",
              "    <tr>\n",
              "      <th>1118</th>\n",
              "      <td>2023-06-12</td>\n",
              "      <td>40.490002</td>\n",
              "      <td>44.450001</td>\n",
              "      <td>40.410000</td>\n",
              "      <td>42.779999</td>\n",
              "      <td>42.779999</td>\n",
              "      <td>10155800</td>\n",
              "    </tr>\n",
              "  </tbody>\n",
              "</table>\n",
              "<p>1119 rows × 7 columns</p>\n",
              "</div>\n",
              "      <button class=\"colab-df-convert\" onclick=\"convertToInteractive('df-6a9d5ba6-2d45-443f-98c0-eabd1ebc89c7')\"\n",
              "              title=\"Convert this dataframe to an interactive table.\"\n",
              "              style=\"display:none;\">\n",
              "        \n",
              "  <svg xmlns=\"http://www.w3.org/2000/svg\" height=\"24px\"viewBox=\"0 0 24 24\"\n",
              "       width=\"24px\">\n",
              "    <path d=\"M0 0h24v24H0V0z\" fill=\"none\"/>\n",
              "    <path d=\"M18.56 5.44l.94 2.06.94-2.06 2.06-.94-2.06-.94-.94-2.06-.94 2.06-2.06.94zm-11 1L8.5 8.5l.94-2.06 2.06-.94-2.06-.94L8.5 2.5l-.94 2.06-2.06.94zm10 10l.94 2.06.94-2.06 2.06-.94-2.06-.94-.94-2.06-.94 2.06-2.06.94z\"/><path d=\"M17.41 7.96l-1.37-1.37c-.4-.4-.92-.59-1.43-.59-.52 0-1.04.2-1.43.59L10.3 9.45l-7.72 7.72c-.78.78-.78 2.05 0 2.83L4 21.41c.39.39.9.59 1.41.59.51 0 1.02-.2 1.41-.59l7.78-7.78 2.81-2.81c.8-.78.8-2.07 0-2.86zM5.41 20L4 18.59l7.72-7.72 1.47 1.35L5.41 20z\"/>\n",
              "  </svg>\n",
              "      </button>\n",
              "      \n",
              "  <style>\n",
              "    .colab-df-container {\n",
              "      display:flex;\n",
              "      flex-wrap:wrap;\n",
              "      gap: 12px;\n",
              "    }\n",
              "\n",
              "    .colab-df-convert {\n",
              "      background-color: #E8F0FE;\n",
              "      border: none;\n",
              "      border-radius: 50%;\n",
              "      cursor: pointer;\n",
              "      display: none;\n",
              "      fill: #1967D2;\n",
              "      height: 32px;\n",
              "      padding: 0 0 0 0;\n",
              "      width: 32px;\n",
              "    }\n",
              "\n",
              "    .colab-df-convert:hover {\n",
              "      background-color: #E2EBFA;\n",
              "      box-shadow: 0px 1px 2px rgba(60, 64, 67, 0.3), 0px 1px 3px 1px rgba(60, 64, 67, 0.15);\n",
              "      fill: #174EA6;\n",
              "    }\n",
              "\n",
              "    [theme=dark] .colab-df-convert {\n",
              "      background-color: #3B4455;\n",
              "      fill: #D2E3FC;\n",
              "    }\n",
              "\n",
              "    [theme=dark] .colab-df-convert:hover {\n",
              "      background-color: #434B5C;\n",
              "      box-shadow: 0px 1px 3px 1px rgba(0, 0, 0, 0.15);\n",
              "      filter: drop-shadow(0px 1px 2px rgba(0, 0, 0, 0.3));\n",
              "      fill: #FFFFFF;\n",
              "    }\n",
              "  </style>\n",
              "\n",
              "      <script>\n",
              "        const buttonEl =\n",
              "          document.querySelector('#df-6a9d5ba6-2d45-443f-98c0-eabd1ebc89c7 button.colab-df-convert');\n",
              "        buttonEl.style.display =\n",
              "          google.colab.kernel.accessAllowed ? 'block' : 'none';\n",
              "\n",
              "        async function convertToInteractive(key) {\n",
              "          const element = document.querySelector('#df-6a9d5ba6-2d45-443f-98c0-eabd1ebc89c7');\n",
              "          const dataTable =\n",
              "            await google.colab.kernel.invokeFunction('convertToInteractive',\n",
              "                                                     [key], {});\n",
              "          if (!dataTable) return;\n",
              "\n",
              "          const docLinkHtml = 'Like what you see? Visit the ' +\n",
              "            '<a target=\"_blank\" href=https://colab.research.google.com/notebooks/data_table.ipynb>data table notebook</a>'\n",
              "            + ' to learn more about interactive tables.';\n",
              "          element.innerHTML = '';\n",
              "          dataTable['output_type'] = 'display_data';\n",
              "          await google.colab.output.renderOutput(dataTable, element);\n",
              "          const docLink = document.createElement('div');\n",
              "          docLink.innerHTML = docLinkHtml;\n",
              "          element.appendChild(docLink);\n",
              "        }\n",
              "      </script>\n",
              "    </div>\n",
              "  </div>\n",
              "  "
            ]
          },
          "metadata": {},
          "execution_count": 4
        }
      ],
      "source": [
        "# Load data\n",
        "df = pd.read_csv('CTLT.csv')\n",
        "df"
      ]
    },
    {
      "cell_type": "markdown",
      "source": [
        "### Reset index"
      ],
      "metadata": {
        "id": "muKE0gL7cQs2"
      },
      "id": "muKE0gL7cQs2"
    },
    {
      "cell_type": "code",
      "source": [
        "# Convert the 'Date' column to datetime format\n",
        "df['Date'] = pd.to_datetime(df['Date'])\n",
        "\n",
        "# Set the 'Date' column as the index value\n",
        "df.set_index('Date', inplace=True)"
      ],
      "metadata": {
        "id": "vG4wgXOK2soU"
      },
      "id": "vG4wgXOK2soU",
      "execution_count": 5,
      "outputs": []
    },
    {
      "cell_type": "code",
      "source": [
        "# Select column 'Close'\n",
        "df_Close = df[['Close']]\n",
        "df_Close = df_Close.reset_index(drop=True)"
      ],
      "metadata": {
        "id": "DBeiREWjJ00j"
      },
      "id": "DBeiREWjJ00j",
      "execution_count": 6,
      "outputs": []
    },
    {
      "cell_type": "markdown",
      "source": [
        "### Data normalization"
      ],
      "metadata": {
        "id": "m9vvIvolcch8"
      },
      "id": "m9vvIvolcch8"
    },
    {
      "cell_type": "code",
      "execution_count": 7,
      "id": "b0cde421",
      "metadata": {
        "id": "b0cde421"
      },
      "outputs": [],
      "source": [
        "# Min-max normalization\n",
        "scaler = MinMaxScaler(feature_range=(0, 1))\n",
        "data_scaled = scaler.fit_transform(np.array(df_Close))"
      ]
    },
    {
      "cell_type": "markdown",
      "source": [
        "### Data splitting"
      ],
      "metadata": {
        "id": "WEnB5G3fcqPg"
      },
      "id": "WEnB5G3fcqPg"
    },
    {
      "cell_type": "code",
      "execution_count": 8,
      "id": "f29f31b1",
      "metadata": {
        "id": "f29f31b1"
      },
      "outputs": [],
      "source": [
        "# Split the data into train, validation, and test dataset in a ratio of 7:1:2\n",
        "train_size = int(len(data_scaled) * 0.7)\n",
        "val_size = int(len(data_scaled) * 0.1)\n",
        "test_size = len(data_scaled) - train_size - val_size\n",
        "\n",
        "train_data = data_scaled[: train_size]\n",
        "val_data = data_scaled[train_size : train_size + val_size]\n",
        "test_data = data_scaled[train_size + val_size :]"
      ]
    },
    {
      "cell_type": "markdown",
      "source": [
        "## Model training and testing"
      ],
      "metadata": {
        "id": "-IFkvqKRgmQX"
      },
      "id": "-IFkvqKRgmQX"
    },
    {
      "cell_type": "code",
      "execution_count": 9,
      "id": "224ff73f",
      "metadata": {
        "id": "224ff73f"
      },
      "outputs": [],
      "source": [
        "# Generating data using the window sliding method\n",
        "def create_dataset(data, window_size):\n",
        "    windows, targets = [], []\n",
        "    for i in range(len(data) - window_size):\n",
        "        windows.append(data[i : (i + window_size), 0])\n",
        "        targets.append(data[i + window_size, 0])\n",
        "    return np.array(windows), np.array(targets)"
      ]
    },
    {
      "cell_type": "markdown",
      "source": [
        "### Building TCANs model"
      ],
      "metadata": {
        "id": "hRDWcZQ0jcRX"
      },
      "id": "hRDWcZQ0jcRX"
    },
    {
      "cell_type": "code",
      "execution_count": 10,
      "id": "HxKvihCf3-C1",
      "metadata": {
        "id": "HxKvihCf3-C1"
      },
      "outputs": [],
      "source": [
        "# Constructing sparse attention layer\n",
        "class AttentionLayer(Layer):\n",
        "    def __init__(self, attention_dim):\n",
        "        super(AttentionLayer, self).__init__()\n",
        "        self.attention_dim = attention_dim\n",
        "\n",
        "    def build(self, input_shape):\n",
        "        self.W1 = Dense(units=self.attention_dim, activation='tanh')\n",
        "        self.W2 = Dense(units=1, activation='linear')\n",
        "        super(AttentionLayer, self).build(input_shape)\n",
        "\n",
        "    def call(self, x):\n",
        "        score = self.W2(self.W1(x))\n",
        "        score = Flatten()(score)\n",
        "        score = Activation('softmax')(score)\n",
        "        score = RepeatVector(x.shape[-1])(score)\n",
        "        score = Permute([2, 1])(score)\n",
        "        return Multiply()([x, score])\n",
        "\n",
        "    def compute_output_shape(self, input_shape):\n",
        "        return input_shape"
      ]
    },
    {
      "cell_type": "code",
      "execution_count": 11,
      "id": "d01b50ee",
      "metadata": {
        "id": "d01b50ee"
      },
      "outputs": [],
      "source": [
        "# Build TCAN model\n",
        "def build_tcan(window_size, input_dim=1, tcn_filters=64, tcn_kernel_size=2, dropout_rate=0.2, attention_dim=16):\n",
        "    inputs = Input(shape=(window_size, input_dim))\n",
        "    x = inputs\n",
        "    x = Conv1D(filters=tcn_filters, kernel_size=tcn_kernel_size, padding='same', activation='relu')(x)\n",
        "    x = SpatialDropout1D(rate=dropout_rate)(x)\n",
        "    x = Conv1D(filters=tcn_filters, kernel_size=tcn_kernel_size, padding='same', activation='relu')(x)\n",
        "    x = SpatialDropout1D(rate=dropout_rate)(x)\n",
        "\n",
        "    # Additive Attention\n",
        "    att = AttentionLayer(attention_dim)(x)\n",
        "    max_pool_att = GlobalMaxPooling1D()(att)\n",
        "    max_pool_x = GlobalMaxPooling1D()(x)\n",
        "    x = concatenate([max_pool_att, max_pool_x])\n",
        "\n",
        "    outputs = Dense(1)(x)\n",
        "\n",
        "    model = Model(inputs=inputs, outputs=outputs)\n",
        "    optimizer = Adam(learning_rate=0.001)\n",
        "    model.compile(loss='mean_absolute_error', optimizer=optimizer)\n",
        "\n",
        "    return model"
      ]
    },
    {
      "cell_type": "markdown",
      "source": [
        "### Learning process with combined parameter optimization"
      ],
      "metadata": {
        "id": "kfSIcYf1jyjU"
      },
      "id": "kfSIcYf1jyjU"
    },
    {
      "cell_type": "code",
      "execution_count": null,
      "id": "690ac169",
      "metadata": {
        "id": "690ac169"
      },
      "outputs": [],
      "source": [
        "# Initialization of optimization parameters\n",
        "best_mse = float('inf')\n",
        "best_model = None\n",
        "best_window_size = None\n",
        "best_train_windows = None\n",
        "best_train_targets = None\n",
        "best_test_windows = None\n",
        "best_test_targets = None\n",
        "best_val_windows = None\n",
        "best_val_targets = None\n",
        "best_y_pred = None\n",
        "best_mape = np.inf\n",
        "best_rmse = np.inf\n",
        "best_msle = np.inf"
      ]
    },
    {
      "cell_type": "code",
      "source": [
        "# Define the objective function for Optuna optimization\n",
        "def objective(trial):\n",
        "  global best_mse, best_model, best_window_size, best_train_windows\n",
        "  global best_train_targets, best_test_windows, best_test_targets, best_val_windows\n",
        "  global best_val_targets, best_y_pred, best_mape, best_rmse, best_msle\n",
        "\n",
        "  # Define the search space for hyperparameters\n",
        "  window_size = trial.suggest_int(\"window_size\", 10, 100)\n",
        "  tcn_filters = trial.suggest_int(\"tcn_filters\", 32, 128)\n",
        "  tcn_kernel_size = trial.suggest_int(\"tcn_kernel_size\", 2, 5)\n",
        "  dropout_rate = trial.suggest_float(\"dropout_rate\", 0.1, 0.5)\n",
        "  attention_dim = trial.suggest_int(\"attention_dim\", 8, 32)\n",
        "\n",
        "  # Build the TCAN model with the suggested hyperparameters\n",
        "  model = build_tcan(window_size,\n",
        "                     tcn_filters = tcn_filters,\n",
        "                     tcn_kernel_size = tcn_kernel_size,\n",
        "                     dropout_rate = dropout_rate,\n",
        "                     attention_dim = attention_dim)\n",
        "\n",
        "  val_last_window_size = val_data[-window_size:]\n",
        "  test_data_extended = np.concatenate((val_last_window_size, test_data), axis=0)\n",
        "\n",
        "  train_windows, train_targets = create_dataset(train_data, window_size)\n",
        "  val_windows, val_targets = create_dataset(val_data, window_size)\n",
        "  test_windows, test_targets = create_dataset(test_data_extended, window_size)\n",
        "\n",
        "  # Train the model\n",
        "  early_stop = EarlyStopping(monitor='val_loss', patience=5)\n",
        "  model.fit(train_windows, train_targets,\n",
        "            epochs=50, batch_size=32,\n",
        "            validation_data=(val_windows, val_targets),\n",
        "            shuffle=False, callbacks=[early_stop], verbose=0)\n",
        "\n",
        "  # Testing the model on Test dataset\n",
        "  y_pred = model.predict(test_windows)\n",
        "\n",
        "  # Evaluate on MAPE, RMSE, MSLE\n",
        "  temp_test_targets = test_targets\n",
        "  temp_test_targets = scaler.inverse_transform(temp_test_targets.reshape(-1, 1))\n",
        "  y_pred = scaler.inverse_transform(y_pred)\n",
        "\n",
        "  mse = mean_squared_error(temp_test_targets, y_pred)\n",
        "  rmse = np.sqrt(mse)\n",
        "  mape = mean_absolute_percentage_error(temp_test_targets, y_pred)\n",
        "  msle = mean_squared_log_error(temp_test_targets, y_pred)\n",
        "\n",
        "  # Save the best model and related information\n",
        "  if mse < best_mse or best_mse is None:\n",
        "    best_model = model\n",
        "    best_window_size = window_size\n",
        "    best_y_pred = y_pred\n",
        "    best_train_windows = train_windows\n",
        "    best_train_targets = train_targets\n",
        "    best_test_windows = test_windows\n",
        "    best_test_targets = test_targets\n",
        "    best_val_windows = val_windows\n",
        "    best_val_targets = val_targets\n",
        "    best_rmse = rmse\n",
        "    best_mape = mape\n",
        "    best_msle = msle\n",
        "    best_mse = mse\n",
        "\n",
        "  return mse"
      ],
      "metadata": {
        "id": "m3MDjWCd-kl8"
      },
      "id": "m3MDjWCd-kl8",
      "execution_count": null,
      "outputs": []
    },
    {
      "cell_type": "code",
      "source": [
        "# Define the search space for the hyperparameters\n",
        "study = optuna.create_study(direction=\"minimize\")\n",
        "study.optimize(objective, n_trials=100)"
      ],
      "metadata": {
        "colab": {
          "base_uri": "https://localhost:8080/"
        },
        "id": "tAQaYsmr-mkW",
        "outputId": "61f6e181-2dff-4af5-c737-63af5d93a5c6"
      },
      "id": "tAQaYsmr-mkW",
      "execution_count": null,
      "outputs": [
        {
          "output_type": "stream",
          "name": "stderr",
          "text": [
            "[I 2023-06-16 23:58:31,049] A new study created in memory with name: no-name-7c3c83fd-8081-4e44-a853-21a00eb5d3f6\n"
          ]
        },
        {
          "output_type": "stream",
          "name": "stdout",
          "text": [
            "8/8 [==============================] - 1s 7ms/step\n"
          ]
        },
        {
          "output_type": "stream",
          "name": "stderr",
          "text": [
            "[I 2023-06-16 23:58:44,523] Trial 0 finished with value: 237.42058107845685 and parameters: {'window_size': 72, 'tcn_filters': 58, 'tcn_kernel_size': 5, 'dropout_rate': 0.4471540094046583, 'attention_dim': 31}. Best is trial 0 with value: 237.42058107845685.\n"
          ]
        },
        {
          "output_type": "stream",
          "name": "stdout",
          "text": [
            "8/8 [==============================] - 0s 3ms/step\n"
          ]
        },
        {
          "output_type": "stream",
          "name": "stderr",
          "text": [
            "[I 2023-06-16 23:58:56,915] Trial 1 finished with value: 99.37954049871287 and parameters: {'window_size': 26, 'tcn_filters': 119, 'tcn_kernel_size': 2, 'dropout_rate': 0.32748291127255014, 'attention_dim': 30}. Best is trial 1 with value: 99.37954049871287.\n"
          ]
        },
        {
          "output_type": "stream",
          "name": "stdout",
          "text": [
            "8/8 [==============================] - 0s 2ms/step\n"
          ]
        },
        {
          "output_type": "stream",
          "name": "stderr",
          "text": [
            "[I 2023-06-16 23:59:03,192] Trial 2 finished with value: 46.955349109194714 and parameters: {'window_size': 15, 'tcn_filters': 77, 'tcn_kernel_size': 5, 'dropout_rate': 0.2950767644484159, 'attention_dim': 8}. Best is trial 2 with value: 46.955349109194714.\n"
          ]
        },
        {
          "output_type": "stream",
          "name": "stdout",
          "text": [
            "8/8 [==============================] - 0s 3ms/step\n"
          ]
        },
        {
          "output_type": "stream",
          "name": "stderr",
          "text": [
            "[I 2023-06-16 23:59:07,127] Trial 3 finished with value: 127.94167543837374 and parameters: {'window_size': 25, 'tcn_filters': 33, 'tcn_kernel_size': 5, 'dropout_rate': 0.4087699688975541, 'attention_dim': 10}. Best is trial 2 with value: 46.955349109194714.\n"
          ]
        },
        {
          "output_type": "stream",
          "name": "stdout",
          "text": [
            "8/8 [==============================] - 0s 8ms/step\n"
          ]
        },
        {
          "output_type": "stream",
          "name": "stderr",
          "text": [
            "[I 2023-06-16 23:59:18,781] Trial 4 finished with value: 142.68049047932476 and parameters: {'window_size': 71, 'tcn_filters': 115, 'tcn_kernel_size': 3, 'dropout_rate': 0.2682657093414769, 'attention_dim': 14}. Best is trial 2 with value: 46.955349109194714.\n"
          ]
        },
        {
          "output_type": "stream",
          "name": "stdout",
          "text": [
            "8/8 [==============================] - 0s 2ms/step\n"
          ]
        },
        {
          "output_type": "stream",
          "name": "stderr",
          "text": [
            "[I 2023-06-16 23:59:21,825] Trial 5 finished with value: 123.63420383349853 and parameters: {'window_size': 33, 'tcn_filters': 36, 'tcn_kernel_size': 4, 'dropout_rate': 0.4944056974398118, 'attention_dim': 18}. Best is trial 2 with value: 46.955349109194714.\n"
          ]
        },
        {
          "output_type": "stream",
          "name": "stdout",
          "text": [
            "8/8 [==============================] - 0s 6ms/step\n"
          ]
        },
        {
          "output_type": "stream",
          "name": "stderr",
          "text": [
            "[I 2023-06-16 23:59:33,357] Trial 6 finished with value: 179.89694339335082 and parameters: {'window_size': 83, 'tcn_filters': 87, 'tcn_kernel_size': 5, 'dropout_rate': 0.47483521978245125, 'attention_dim': 21}. Best is trial 2 with value: 46.955349109194714.\n"
          ]
        },
        {
          "output_type": "stream",
          "name": "stdout",
          "text": [
            "8/8 [==============================] - 0s 5ms/step\n"
          ]
        },
        {
          "output_type": "stream",
          "name": "stderr",
          "text": [
            "[I 2023-06-16 23:59:38,992] Trial 7 finished with value: 239.53177254086935 and parameters: {'window_size': 83, 'tcn_filters': 109, 'tcn_kernel_size': 3, 'dropout_rate': 0.4750630818737195, 'attention_dim': 17}. Best is trial 2 with value: 46.955349109194714.\n"
          ]
        },
        {
          "output_type": "stream",
          "name": "stdout",
          "text": [
            "8/8 [==============================] - 0s 3ms/step\n"
          ]
        },
        {
          "output_type": "stream",
          "name": "stderr",
          "text": [
            "[I 2023-06-16 23:59:45,432] Trial 8 finished with value: 49.575691897010174 and parameters: {'window_size': 17, 'tcn_filters': 93, 'tcn_kernel_size': 3, 'dropout_rate': 0.21981309106872265, 'attention_dim': 23}. Best is trial 2 with value: 46.955349109194714.\n"
          ]
        },
        {
          "output_type": "stream",
          "name": "stdout",
          "text": [
            "8/8 [==============================] - 0s 2ms/step\n"
          ]
        },
        {
          "output_type": "stream",
          "name": "stderr",
          "text": [
            "[I 2023-06-16 23:59:51,123] Trial 9 finished with value: 51.37938149560459 and parameters: {'window_size': 20, 'tcn_filters': 49, 'tcn_kernel_size': 4, 'dropout_rate': 0.2357260008993598, 'attention_dim': 19}. Best is trial 2 with value: 46.955349109194714.\n"
          ]
        },
        {
          "output_type": "stream",
          "name": "stdout",
          "text": [
            "8/8 [==============================] - 0s 3ms/step\n"
          ]
        },
        {
          "output_type": "stream",
          "name": "stderr",
          "text": [
            "[I 2023-06-16 23:59:57,573] Trial 10 finished with value: 199.34916199557497 and parameters: {'window_size': 48, 'tcn_filters': 70, 'tcn_kernel_size': 4, 'dropout_rate': 0.1209931627661511, 'attention_dim': 8}. Best is trial 2 with value: 46.955349109194714.\n"
          ]
        },
        {
          "output_type": "stream",
          "name": "stdout",
          "text": [
            "8/8 [==============================] - 0s 3ms/step\n"
          ]
        },
        {
          "output_type": "stream",
          "name": "stderr",
          "text": [
            "[I 2023-06-17 00:00:00,202] Trial 11 finished with value: 92.33805367409103 and parameters: {'window_size': 10, 'tcn_filters': 87, 'tcn_kernel_size': 2, 'dropout_rate': 0.19779325415474708, 'attention_dim': 24}. Best is trial 2 with value: 46.955349109194714.\n"
          ]
        },
        {
          "output_type": "stream",
          "name": "stdout",
          "text": [
            "8/8 [==============================] - 0s 4ms/step\n"
          ]
        },
        {
          "output_type": "stream",
          "name": "stderr",
          "text": [
            "[I 2023-06-17 00:00:04,176] Trial 12 finished with value: 97.78817874743451 and parameters: {'window_size': 41, 'tcn_filters': 97, 'tcn_kernel_size': 3, 'dropout_rate': 0.33210182843626795, 'attention_dim': 25}. Best is trial 2 with value: 46.955349109194714.\n"
          ]
        },
        {
          "output_type": "stream",
          "name": "stdout",
          "text": [
            "8/8 [==============================] - 0s 2ms/step\n"
          ]
        },
        {
          "output_type": "stream",
          "name": "stderr",
          "text": [
            "[I 2023-06-17 00:00:08,713] Trial 13 finished with value: 56.86663699031852 and parameters: {'window_size': 12, 'tcn_filters': 73, 'tcn_kernel_size': 3, 'dropout_rate': 0.19560656445029695, 'attention_dim': 13}. Best is trial 2 with value: 46.955349109194714.\n"
          ]
        },
        {
          "output_type": "stream",
          "name": "stdout",
          "text": [
            "8/8 [==============================] - 0s 4ms/step\n"
          ]
        },
        {
          "output_type": "stream",
          "name": "stderr",
          "text": [
            "[I 2023-06-17 00:00:15,386] Trial 14 finished with value: 193.07104258166373 and parameters: {'window_size': 58, 'tcn_filters': 96, 'tcn_kernel_size': 4, 'dropout_rate': 0.29678429535973977, 'attention_dim': 26}. Best is trial 2 with value: 46.955349109194714.\n"
          ]
        },
        {
          "output_type": "stream",
          "name": "stdout",
          "text": [
            "8/8 [==============================] - 0s 3ms/step\n"
          ]
        },
        {
          "output_type": "stream",
          "name": "stderr",
          "text": [
            "[I 2023-06-17 00:00:27,048] Trial 15 finished with value: 127.08185755897746 and parameters: {'window_size': 38, 'tcn_filters': 62, 'tcn_kernel_size': 2, 'dropout_rate': 0.10780512352617624, 'attention_dim': 22}. Best is trial 2 with value: 46.955349109194714.\n"
          ]
        },
        {
          "output_type": "stream",
          "name": "stdout",
          "text": [
            "8/8 [==============================] - 0s 5ms/step\n"
          ]
        },
        {
          "output_type": "stream",
          "name": "stderr",
          "text": [
            "[I 2023-06-17 00:00:38,651] Trial 16 finished with value: 132.88611804891144 and parameters: {'window_size': 54, 'tcn_filters': 101, 'tcn_kernel_size': 5, 'dropout_rate': 0.3727605596806966, 'attention_dim': 14}. Best is trial 2 with value: 46.955349109194714.\n"
          ]
        },
        {
          "output_type": "stream",
          "name": "stdout",
          "text": [
            "8/8 [==============================] - 0s 3ms/step\n"
          ]
        },
        {
          "output_type": "stream",
          "name": "stderr",
          "text": [
            "[I 2023-06-17 00:00:43,511] Trial 17 finished with value: 42.351519508414604 and parameters: {'window_size': 19, 'tcn_filters': 81, 'tcn_kernel_size': 4, 'dropout_rate': 0.2575469609224233, 'attention_dim': 27}. Best is trial 17 with value: 42.351519508414604.\n"
          ]
        },
        {
          "output_type": "stream",
          "name": "stdout",
          "text": [
            "8/8 [==============================] - 0s 5ms/step\n"
          ]
        },
        {
          "output_type": "stream",
          "name": "stderr",
          "text": [
            "[I 2023-06-17 00:01:05,363] Trial 18 finished with value: 247.81848922687814 and parameters: {'window_size': 98, 'tcn_filters': 72, 'tcn_kernel_size': 5, 'dropout_rate': 0.2712420807481028, 'attention_dim': 28}. Best is trial 17 with value: 42.351519508414604.\n"
          ]
        },
        {
          "output_type": "stream",
          "name": "stdout",
          "text": [
            "8/8 [==============================] - 0s 4ms/step\n"
          ]
        },
        {
          "output_type": "stream",
          "name": "stderr",
          "text": [
            "[I 2023-06-17 00:01:17,029] Trial 19 finished with value: 67.8758851231368 and parameters: {'window_size': 31, 'tcn_filters': 126, 'tcn_kernel_size': 4, 'dropout_rate': 0.3736200162004141, 'attention_dim': 28}. Best is trial 17 with value: 42.351519508414604.\n"
          ]
        },
        {
          "output_type": "stream",
          "name": "stdout",
          "text": [
            "8/8 [==============================] - 0s 5ms/step\n"
          ]
        },
        {
          "output_type": "stream",
          "name": "stderr",
          "text": [
            "[I 2023-06-17 00:01:23,578] Trial 20 finished with value: 162.17888838436372 and parameters: {'window_size': 43, 'tcn_filters': 81, 'tcn_kernel_size': 5, 'dropout_rate': 0.15116969610311026, 'attention_dim': 32}. Best is trial 17 with value: 42.351519508414604.\n"
          ]
        },
        {
          "output_type": "stream",
          "name": "stdout",
          "text": [
            "8/8 [==============================] - 0s 3ms/step\n"
          ]
        },
        {
          "output_type": "stream",
          "name": "stderr",
          "text": [
            "[I 2023-06-17 00:01:31,068] Trial 21 finished with value: 42.16648950265465 and parameters: {'window_size': 18, 'tcn_filters': 89, 'tcn_kernel_size': 3, 'dropout_rate': 0.22285641919385127, 'attention_dim': 23}. Best is trial 21 with value: 42.16648950265465.\n"
          ]
        },
        {
          "output_type": "stream",
          "name": "stdout",
          "text": [
            "8/8 [==============================] - 0s 3ms/step\n"
          ]
        },
        {
          "output_type": "stream",
          "name": "stderr",
          "text": [
            "[I 2023-06-17 00:01:42,701] Trial 22 finished with value: 36.70387522291682 and parameters: {'window_size': 20, 'tcn_filters': 81, 'tcn_kernel_size': 4, 'dropout_rate': 0.24822416967027414, 'attention_dim': 27}. Best is trial 22 with value: 36.70387522291682.\n"
          ]
        },
        {
          "output_type": "stream",
          "name": "stdout",
          "text": [
            "8/8 [==============================] - 0s 5ms/step\n"
          ]
        },
        {
          "output_type": "stream",
          "name": "stderr",
          "text": [
            "[I 2023-06-17 00:01:49,267] Trial 23 finished with value: 65.0000617294742 and parameters: {'window_size': 25, 'tcn_filters': 84, 'tcn_kernel_size': 4, 'dropout_rate': 0.24031940639793045, 'attention_dim': 27}. Best is trial 22 with value: 36.70387522291682.\n"
          ]
        },
        {
          "output_type": "stream",
          "name": "stdout",
          "text": [
            "8/8 [==============================] - 0s 4ms/step\n"
          ]
        },
        {
          "output_type": "stream",
          "name": "stderr",
          "text": [
            "[I 2023-06-17 00:01:53,153] Trial 24 finished with value: 358.16814841956216 and parameters: {'window_size': 31, 'tcn_filters': 105, 'tcn_kernel_size': 4, 'dropout_rate': 0.1733041291550782, 'attention_dim': 30}. Best is trial 22 with value: 36.70387522291682.\n"
          ]
        },
        {
          "output_type": "stream",
          "name": "stdout",
          "text": [
            "8/8 [==============================] - 0s 2ms/step\n"
          ]
        },
        {
          "output_type": "stream",
          "name": "stderr",
          "text": [
            "[I 2023-06-17 00:01:59,627] Trial 25 finished with value: 58.79944392436185 and parameters: {'window_size': 19, 'tcn_filters': 67, 'tcn_kernel_size': 3, 'dropout_rate': 0.2603817772499956, 'attention_dim': 25}. Best is trial 22 with value: 36.70387522291682.\n"
          ]
        },
        {
          "output_type": "stream",
          "name": "stdout",
          "text": [
            "8/8 [==============================] - 0s 2ms/step\n"
          ]
        },
        {
          "output_type": "stream",
          "name": "stderr",
          "text": [
            "[I 2023-06-17 00:02:06,139] Trial 26 finished with value: 52.044862330175356 and parameters: {'window_size': 10, 'tcn_filters': 56, 'tcn_kernel_size': 4, 'dropout_rate': 0.20879278446485916, 'attention_dim': 29}. Best is trial 22 with value: 36.70387522291682.\n"
          ]
        },
        {
          "output_type": "stream",
          "name": "stdout",
          "text": [
            "8/8 [==============================] - 0s 2ms/step\n"
          ]
        },
        {
          "output_type": "stream",
          "name": "stderr",
          "text": [
            "[I 2023-06-17 00:02:10,101] Trial 27 finished with value: 130.6034499312783 and parameters: {'window_size': 22, 'tcn_filters': 88, 'tcn_kernel_size': 3, 'dropout_rate': 0.24740953583614758, 'attention_dim': 21}. Best is trial 22 with value: 36.70387522291682.\n"
          ]
        },
        {
          "output_type": "stream",
          "name": "stdout",
          "text": [
            "8/8 [==============================] - 0s 4ms/step\n"
          ]
        },
        {
          "output_type": "stream",
          "name": "stderr",
          "text": [
            "[I 2023-06-17 00:02:16,593] Trial 28 finished with value: 126.59532699444608 and parameters: {'window_size': 35, 'tcn_filters': 77, 'tcn_kernel_size': 4, 'dropout_rate': 0.2224674779254009, 'attention_dim': 23}. Best is trial 22 with value: 36.70387522291682.\n"
          ]
        },
        {
          "output_type": "stream",
          "name": "stdout",
          "text": [
            "8/8 [==============================] - 0s 4ms/step\n"
          ]
        },
        {
          "output_type": "stream",
          "name": "stderr",
          "text": [
            "[I 2023-06-17 00:02:29,036] Trial 29 finished with value: 164.2313128480663 and parameters: {'window_size': 48, 'tcn_filters': 60, 'tcn_kernel_size': 3, 'dropout_rate': 0.18301279425702435, 'attention_dim': 32}. Best is trial 22 with value: 36.70387522291682.\n"
          ]
        },
        {
          "output_type": "stream",
          "name": "stdout",
          "text": [
            "8/8 [==============================] - 0s 3ms/step\n"
          ]
        },
        {
          "output_type": "stream",
          "name": "stderr",
          "text": [
            "[I 2023-06-17 00:02:35,610] Trial 30 finished with value: 244.17711356696796 and parameters: {'window_size': 64, 'tcn_filters': 52, 'tcn_kernel_size': 2, 'dropout_rate': 0.16946477319675107, 'attention_dim': 26}. Best is trial 22 with value: 36.70387522291682.\n"
          ]
        },
        {
          "output_type": "stream",
          "name": "stdout",
          "text": [
            "8/8 [==============================] - 0s 3ms/step\n"
          ]
        },
        {
          "output_type": "stream",
          "name": "stderr",
          "text": [
            "[I 2023-06-17 00:02:42,134] Trial 31 finished with value: 44.89862189160405 and parameters: {'window_size': 17, 'tcn_filters': 80, 'tcn_kernel_size': 5, 'dropout_rate': 0.3033597521963987, 'attention_dim': 16}. Best is trial 22 with value: 36.70387522291682.\n"
          ]
        },
        {
          "output_type": "stream",
          "name": "stdout",
          "text": [
            "8/8 [==============================] - 0s 3ms/step\n"
          ]
        },
        {
          "output_type": "stream",
          "name": "stderr",
          "text": [
            "[I 2023-06-17 00:02:48,699] Trial 32 finished with value: 59.43615337045419 and parameters: {'window_size': 25, 'tcn_filters': 92, 'tcn_kernel_size': 5, 'dropout_rate': 0.27321775135098547, 'attention_dim': 16}. Best is trial 22 with value: 36.70387522291682.\n"
          ]
        },
        {
          "output_type": "stream",
          "name": "stdout",
          "text": [
            "8/8 [==============================] - 0s 2ms/step\n"
          ]
        },
        {
          "output_type": "stream",
          "name": "stderr",
          "text": [
            "[I 2023-06-17 00:02:55,167] Trial 33 finished with value: 94.36827596991255 and parameters: {'window_size': 17, 'tcn_filters': 80, 'tcn_kernel_size': 4, 'dropout_rate': 0.3095522758297194, 'attention_dim': 20}. Best is trial 22 with value: 36.70387522291682.\n"
          ]
        },
        {
          "output_type": "stream",
          "name": "stdout",
          "text": [
            "8/8 [==============================] - 0s 3ms/step\n"
          ]
        },
        {
          "output_type": "stream",
          "name": "stderr",
          "text": [
            "[I 2023-06-17 00:03:00,855] Trial 34 finished with value: 133.21052822179254 and parameters: {'window_size': 29, 'tcn_filters': 66, 'tcn_kernel_size': 5, 'dropout_rate': 0.22941299422412476, 'attention_dim': 30}. Best is trial 22 with value: 36.70387522291682.\n"
          ]
        },
        {
          "output_type": "stream",
          "name": "stdout",
          "text": [
            "8/8 [==============================] - 0s 2ms/step\n"
          ]
        },
        {
          "output_type": "stream",
          "name": "stderr",
          "text": [
            "[I 2023-06-17 00:03:06,389] Trial 35 finished with value: 49.84813099297965 and parameters: {'window_size': 16, 'tcn_filters': 76, 'tcn_kernel_size': 4, 'dropout_rate': 0.2854916702746225, 'attention_dim': 12}. Best is trial 22 with value: 36.70387522291682.\n"
          ]
        },
        {
          "output_type": "stream",
          "name": "stdout",
          "text": [
            "8/8 [==============================] - 0s 3ms/step\n"
          ]
        },
        {
          "output_type": "stream",
          "name": "stderr",
          "text": [
            "[I 2023-06-17 00:03:12,856] Trial 36 finished with value: 102.30092172223793 and parameters: {'window_size': 23, 'tcn_filters': 82, 'tcn_kernel_size': 5, 'dropout_rate': 0.2507305290132351, 'attention_dim': 16}. Best is trial 22 with value: 36.70387522291682.\n"
          ]
        },
        {
          "output_type": "stream",
          "name": "stdout",
          "text": [
            "8/8 [==============================] - 0s 3ms/step\n"
          ]
        },
        {
          "output_type": "stream",
          "name": "stderr",
          "text": [
            "[I 2023-06-17 00:03:20,476] Trial 37 finished with value: 83.10672616067235 and parameters: {'window_size': 27, 'tcn_filters': 111, 'tcn_kernel_size': 3, 'dropout_rate': 0.3197229227672506, 'attention_dim': 27}. Best is trial 22 with value: 36.70387522291682.\n"
          ]
        },
        {
          "output_type": "stream",
          "name": "stdout",
          "text": [
            "8/8 [==============================] - 0s 3ms/step\n"
          ]
        },
        {
          "output_type": "stream",
          "name": "stderr",
          "text": [
            "[I 2023-06-17 00:03:25,984] Trial 38 finished with value: 30.17042778158575 and parameters: {'window_size': 15, 'tcn_filters': 103, 'tcn_kernel_size': 4, 'dropout_rate': 0.28777412244961204, 'attention_dim': 24}. Best is trial 38 with value: 30.17042778158575.\n"
          ]
        },
        {
          "output_type": "stream",
          "name": "stdout",
          "text": [
            "8/8 [==============================] - 0s 5ms/step\n"
          ]
        },
        {
          "output_type": "stream",
          "name": "stderr",
          "text": [
            "[I 2023-06-17 00:03:30,483] Trial 39 finished with value: 51.16253045636564 and parameters: {'window_size': 13, 'tcn_filters': 103, 'tcn_kernel_size': 4, 'dropout_rate': 0.2567802342260326, 'attention_dim': 24}. Best is trial 38 with value: 30.17042778158575.\n"
          ]
        },
        {
          "output_type": "stream",
          "name": "stdout",
          "text": [
            "8/8 [==============================] - 0s 4ms/step\n"
          ]
        },
        {
          "output_type": "stream",
          "name": "stderr",
          "text": [
            "[I 2023-06-17 00:03:37,546] Trial 40 finished with value: 160.48304684796773 and parameters: {'window_size': 36, 'tcn_filters': 120, 'tcn_kernel_size': 3, 'dropout_rate': 0.2821229293099965, 'attention_dim': 22}. Best is trial 38 with value: 30.17042778158575.\n"
          ]
        },
        {
          "output_type": "stream",
          "name": "stdout",
          "text": [
            "8/8 [==============================] - 0s 3ms/step\n"
          ]
        },
        {
          "output_type": "stream",
          "name": "stderr",
          "text": [
            "[I 2023-06-17 00:03:42,782] Trial 41 finished with value: 109.19150832610987 and parameters: {'window_size': 19, 'tcn_filters': 91, 'tcn_kernel_size': 4, 'dropout_rate': 0.2976790890336035, 'attention_dim': 19}. Best is trial 38 with value: 30.17042778158575.\n"
          ]
        },
        {
          "output_type": "stream",
          "name": "stdout",
          "text": [
            "8/8 [==============================] - 0s 2ms/step\n"
          ]
        },
        {
          "output_type": "stream",
          "name": "stderr",
          "text": [
            "[I 2023-06-17 00:03:49,548] Trial 42 finished with value: 167.3763829242849 and parameters: {'window_size': 13, 'tcn_filters': 97, 'tcn_kernel_size': 4, 'dropout_rate': 0.2203477976212889, 'attention_dim': 25}. Best is trial 38 with value: 30.17042778158575.\n"
          ]
        },
        {
          "output_type": "stream",
          "name": "stdout",
          "text": [
            "8/8 [==============================] - 0s 3ms/step\n"
          ]
        },
        {
          "output_type": "stream",
          "name": "stderr",
          "text": [
            "[I 2023-06-17 00:03:55,974] Trial 43 finished with value: 121.87208722750259 and parameters: {'window_size': 20, 'tcn_filters': 86, 'tcn_kernel_size': 5, 'dropout_rate': 0.2673706898772815, 'attention_dim': 23}. Best is trial 38 with value: 30.17042778158575.\n"
          ]
        },
        {
          "output_type": "stream",
          "name": "stdout",
          "text": [
            "8/8 [==============================] - 0s 3ms/step\n"
          ]
        },
        {
          "output_type": "stream",
          "name": "stderr",
          "text": [
            "[I 2023-06-17 00:04:02,878] Trial 44 finished with value: 26.77964985356266 and parameters: {'window_size': 16, 'tcn_filters': 78, 'tcn_kernel_size': 4, 'dropout_rate': 0.24291776530179549, 'attention_dim': 28}. Best is trial 44 with value: 26.77964985356266.\n"
          ]
        },
        {
          "output_type": "stream",
          "name": "stdout",
          "text": [
            "8/8 [==============================] - 0s 4ms/step\n"
          ]
        },
        {
          "output_type": "stream",
          "name": "stderr",
          "text": [
            "[I 2023-06-17 00:04:09,381] Trial 45 finished with value: 82.56770399860784 and parameters: {'window_size': 28, 'tcn_filters': 109, 'tcn_kernel_size': 4, 'dropout_rate': 0.24048297286589868, 'attention_dim': 29}. Best is trial 44 with value: 26.77964985356266.\n"
          ]
        },
        {
          "output_type": "stream",
          "name": "stdout",
          "text": [
            "8/8 [==============================] - 0s 2ms/step\n"
          ]
        },
        {
          "output_type": "stream",
          "name": "stderr",
          "text": [
            "[I 2023-06-17 00:04:14,726] Trial 46 finished with value: 94.64524921765367 and parameters: {'window_size': 10, 'tcn_filters': 40, 'tcn_kernel_size': 4, 'dropout_rate': 0.20643445869547355, 'attention_dim': 27}. Best is trial 44 with value: 26.77964985356266.\n"
          ]
        },
        {
          "output_type": "stream",
          "name": "stdout",
          "text": [
            "8/8 [==============================] - 0s 3ms/step\n"
          ]
        },
        {
          "output_type": "stream",
          "name": "stderr",
          "text": [
            "[I 2023-06-17 00:04:19,384] Trial 47 finished with value: 119.05294428494253 and parameters: {'window_size': 22, 'tcn_filters': 75, 'tcn_kernel_size': 4, 'dropout_rate': 0.23202988839618743, 'attention_dim': 26}. Best is trial 44 with value: 26.77964985356266.\n"
          ]
        },
        {
          "output_type": "stream",
          "name": "stdout",
          "text": [
            "8/8 [==============================] - 0s 3ms/step\n"
          ]
        },
        {
          "output_type": "stream",
          "name": "stderr",
          "text": [
            "[I 2023-06-17 00:04:25,740] Trial 48 finished with value: 86.8646762110097 and parameters: {'window_size': 15, 'tcn_filters': 99, 'tcn_kernel_size': 3, 'dropout_rate': 0.25565820403860384, 'attention_dim': 24}. Best is trial 44 with value: 26.77964985356266.\n"
          ]
        },
        {
          "output_type": "stream",
          "name": "stdout",
          "text": [
            "8/8 [==============================] - 0s 6ms/step\n"
          ]
        },
        {
          "output_type": "stream",
          "name": "stderr",
          "text": [
            "[I 2023-06-17 00:04:32,661] Trial 49 finished with value: 127.50645580331438 and parameters: {'window_size': 77, 'tcn_filters': 92, 'tcn_kernel_size': 4, 'dropout_rate': 0.28289474883153964, 'attention_dim': 31}. Best is trial 44 with value: 26.77964985356266.\n"
          ]
        },
        {
          "output_type": "stream",
          "name": "stdout",
          "text": [
            "8/8 [==============================] - 0s 4ms/step\n"
          ]
        },
        {
          "output_type": "stream",
          "name": "stderr",
          "text": [
            "[I 2023-06-17 00:04:39,188] Trial 50 finished with value: 273.5178179474739 and parameters: {'window_size': 39, 'tcn_filters': 88, 'tcn_kernel_size': 3, 'dropout_rate': 0.2109718913544986, 'attention_dim': 29}. Best is trial 44 with value: 26.77964985356266.\n"
          ]
        },
        {
          "output_type": "stream",
          "name": "stdout",
          "text": [
            "8/8 [==============================] - 0s 2ms/step\n"
          ]
        },
        {
          "output_type": "stream",
          "name": "stderr",
          "text": [
            "[I 2023-06-17 00:04:43,664] Trial 51 finished with value: 54.96157490398394 and parameters: {'window_size': 15, 'tcn_filters': 68, 'tcn_kernel_size': 4, 'dropout_rate': 0.33148407574374256, 'attention_dim': 28}. Best is trial 44 with value: 26.77964985356266.\n"
          ]
        },
        {
          "output_type": "stream",
          "name": "stdout",
          "text": [
            "8/8 [==============================] - 0s 4ms/step\n"
          ]
        },
        {
          "output_type": "stream",
          "name": "stderr",
          "text": [
            "[I 2023-06-17 00:04:50,174] Trial 52 finished with value: 41.66102439321909 and parameters: {'window_size': 19, 'tcn_filters': 78, 'tcn_kernel_size': 5, 'dropout_rate': 0.3103382145953492, 'attention_dim': 21}. Best is trial 44 with value: 26.77964985356266.\n"
          ]
        },
        {
          "output_type": "stream",
          "name": "stdout",
          "text": [
            "8/8 [==============================] - 0s 3ms/step\n"
          ]
        },
        {
          "output_type": "stream",
          "name": "stderr",
          "text": [
            "[I 2023-06-17 00:05:01,781] Trial 53 finished with value: 32.66453129252739 and parameters: {'window_size': 23, 'tcn_filters': 71, 'tcn_kernel_size': 4, 'dropout_rate': 0.26943489965653766, 'attention_dim': 22}. Best is trial 44 with value: 26.77964985356266.\n"
          ]
        },
        {
          "output_type": "stream",
          "name": "stdout",
          "text": [
            "8/8 [==============================] - 0s 2ms/step\n"
          ]
        },
        {
          "output_type": "stream",
          "name": "stderr",
          "text": [
            "[I 2023-06-17 00:05:08,071] Trial 54 finished with value: 83.52737672120905 and parameters: {'window_size': 25, 'tcn_filters': 64, 'tcn_kernel_size': 3, 'dropout_rate': 0.2862680520792824, 'attention_dim': 21}. Best is trial 44 with value: 26.77964985356266.\n"
          ]
        },
        {
          "output_type": "stream",
          "name": "stdout",
          "text": [
            "8/8 [==============================] - 0s 3ms/step\n"
          ]
        },
        {
          "output_type": "stream",
          "name": "stderr",
          "text": [
            "[I 2023-06-17 00:05:19,756] Trial 55 finished with value: 152.450647120107 and parameters: {'window_size': 32, 'tcn_filters': 70, 'tcn_kernel_size': 5, 'dropout_rate': 0.30975111085451223, 'attention_dim': 19}. Best is trial 44 with value: 26.77964985356266.\n"
          ]
        },
        {
          "output_type": "stream",
          "name": "stdout",
          "text": [
            "8/8 [==============================] - 0s 3ms/step\n"
          ]
        },
        {
          "output_type": "stream",
          "name": "stderr",
          "text": [
            "[I 2023-06-17 00:05:23,964] Trial 56 finished with value: 52.3870327991967 and parameters: {'window_size': 22, 'tcn_filters': 74, 'tcn_kernel_size': 4, 'dropout_rate': 0.3428988686679924, 'attention_dim': 22}. Best is trial 44 with value: 26.77964985356266.\n"
          ]
        },
        {
          "output_type": "stream",
          "name": "stdout",
          "text": [
            "8/8 [==============================] - 0s 2ms/step\n"
          ]
        },
        {
          "output_type": "stream",
          "name": "stderr",
          "text": [
            "[I 2023-06-17 00:05:30,840] Trial 57 finished with value: 28.292046554399548 and parameters: {'window_size': 13, 'tcn_filters': 77, 'tcn_kernel_size': 2, 'dropout_rate': 0.2713593383110245, 'attention_dim': 23}. Best is trial 44 with value: 26.77964985356266.\n"
          ]
        },
        {
          "output_type": "stream",
          "name": "stdout",
          "text": [
            "8/8 [==============================] - 0s 2ms/step\n"
          ]
        },
        {
          "output_type": "stream",
          "name": "stderr",
          "text": [
            "[I 2023-06-17 00:05:34,847] Trial 58 finished with value: 47.29736157527098 and parameters: {'window_size': 14, 'tcn_filters': 57, 'tcn_kernel_size': 2, 'dropout_rate': 0.26918540276498654, 'attention_dim': 20}. Best is trial 44 with value: 26.77964985356266.\n"
          ]
        },
        {
          "output_type": "stream",
          "name": "stdout",
          "text": [
            "8/8 [==============================] - 0s 4ms/step\n"
          ]
        },
        {
          "output_type": "stream",
          "name": "stderr",
          "text": [
            "[I 2023-06-17 00:05:41,493] Trial 59 finished with value: 344.52450524559515 and parameters: {'window_size': 99, 'tcn_filters': 71, 'tcn_kernel_size': 2, 'dropout_rate': 0.2931558739502229, 'attention_dim': 25}. Best is trial 44 with value: 26.77964985356266.\n"
          ]
        },
        {
          "output_type": "stream",
          "name": "stdout",
          "text": [
            "8/8 [==============================] - 0s 4ms/step\n"
          ]
        },
        {
          "output_type": "stream",
          "name": "stderr",
          "text": [
            "[I 2023-06-17 00:05:48,022] Trial 60 finished with value: 102.22093194502612 and parameters: {'window_size': 29, 'tcn_filters': 83, 'tcn_kernel_size': 4, 'dropout_rate': 0.2462010316980115, 'attention_dim': 22}. Best is trial 44 with value: 26.77964985356266.\n"
          ]
        },
        {
          "output_type": "stream",
          "name": "stdout",
          "text": [
            "8/8 [==============================] - 0s 3ms/step\n"
          ]
        },
        {
          "output_type": "stream",
          "name": "stderr",
          "text": [
            "[I 2023-06-17 00:05:54,645] Trial 61 finished with value: 42.254481577729514 and parameters: {'window_size': 11, 'tcn_filters': 78, 'tcn_kernel_size': 2, 'dropout_rate': 0.2323052050597441, 'attention_dim': 23}. Best is trial 44 with value: 26.77964985356266.\n"
          ]
        },
        {
          "output_type": "stream",
          "name": "stdout",
          "text": [
            "8/8 [==============================] - 0s 3ms/step\n"
          ]
        },
        {
          "output_type": "stream",
          "name": "stderr",
          "text": [
            "[I 2023-06-17 00:06:07,355] Trial 62 finished with value: 51.82177351995534 and parameters: {'window_size': 20, 'tcn_filters': 85, 'tcn_kernel_size': 2, 'dropout_rate': 0.26312713312306824, 'attention_dim': 24}. Best is trial 44 with value: 26.77964985356266.\n"
          ]
        },
        {
          "output_type": "stream",
          "name": "stdout",
          "text": [
            "8/8 [==============================] - 0s 4ms/step\n"
          ]
        },
        {
          "output_type": "stream",
          "name": "stderr",
          "text": [
            "[I 2023-06-17 00:06:13,981] Trial 63 finished with value: 51.68840940389116 and parameters: {'window_size': 17, 'tcn_filters': 95, 'tcn_kernel_size': 4, 'dropout_rate': 0.27363486379124413, 'attention_dim': 20}. Best is trial 44 with value: 26.77964985356266.\n"
          ]
        },
        {
          "output_type": "stream",
          "name": "stdout",
          "text": [
            "8/8 [==============================] - 0s 4ms/step\n"
          ]
        },
        {
          "output_type": "stream",
          "name": "stderr",
          "text": [
            "[I 2023-06-17 00:06:19,987] Trial 64 finished with value: 190.75937280039366 and parameters: {'window_size': 23, 'tcn_filters': 78, 'tcn_kernel_size': 3, 'dropout_rate': 0.24304337455076688, 'attention_dim': 21}. Best is trial 44 with value: 26.77964985356266.\n"
          ]
        },
        {
          "output_type": "stream",
          "name": "stdout",
          "text": [
            "8/8 [==============================] - 0s 3ms/step\n"
          ]
        },
        {
          "output_type": "stream",
          "name": "stderr",
          "text": [
            "[I 2023-06-17 00:06:24,029] Trial 65 finished with value: 197.10477714321053 and parameters: {'window_size': 12, 'tcn_filters': 89, 'tcn_kernel_size': 4, 'dropout_rate': 0.22133658795884628, 'attention_dim': 26}. Best is trial 44 with value: 26.77964985356266.\n"
          ]
        },
        {
          "output_type": "stream",
          "name": "stdout",
          "text": [
            "8/8 [==============================] - 0s 3ms/step\n"
          ]
        },
        {
          "output_type": "stream",
          "name": "stderr",
          "text": [
            "[I 2023-06-17 00:06:30,582] Trial 66 finished with value: 129.12853481382953 and parameters: {'window_size': 19, 'tcn_filters': 72, 'tcn_kernel_size': 5, 'dropout_rate': 0.27870715514422184, 'attention_dim': 18}. Best is trial 44 with value: 26.77964985356266.\n"
          ]
        },
        {
          "output_type": "stream",
          "name": "stdout",
          "text": [
            "8/8 [==============================] - 0s 3ms/step\n"
          ]
        },
        {
          "output_type": "stream",
          "name": "stderr",
          "text": [
            "[I 2023-06-17 00:06:36,391] Trial 67 finished with value: 62.1932321836941 and parameters: {'window_size': 26, 'tcn_filters': 84, 'tcn_kernel_size': 3, 'dropout_rate': 0.2966745207177641, 'attention_dim': 23}. Best is trial 44 with value: 26.77964985356266.\n"
          ]
        },
        {
          "output_type": "stream",
          "name": "stdout",
          "text": [
            "8/8 [==============================] - 0s 7ms/step\n"
          ]
        },
        {
          "output_type": "stream",
          "name": "stderr",
          "text": [
            "[I 2023-06-17 00:06:42,210] Trial 68 finished with value: 405.93032277461015 and parameters: {'window_size': 90, 'tcn_filters': 63, 'tcn_kernel_size': 2, 'dropout_rate': 0.25404940345764865, 'attention_dim': 25}. Best is trial 44 with value: 26.77964985356266.\n"
          ]
        },
        {
          "output_type": "stream",
          "name": "stdout",
          "text": [
            "8/8 [==============================] - 0s 4ms/step\n"
          ]
        },
        {
          "output_type": "stream",
          "name": "stderr",
          "text": [
            "[I 2023-06-17 00:06:48,902] Trial 69 finished with value: 134.02514130010047 and parameters: {'window_size': 34, 'tcn_filters': 79, 'tcn_kernel_size': 4, 'dropout_rate': 0.23524537626458397, 'attention_dim': 24}. Best is trial 44 with value: 26.77964985356266.\n"
          ]
        },
        {
          "output_type": "stream",
          "name": "stdout",
          "text": [
            "8/8 [==============================] - 0s 6ms/step\n"
          ]
        },
        {
          "output_type": "stream",
          "name": "stderr",
          "text": [
            "[I 2023-06-17 00:07:01,742] Trial 70 finished with value: 149.06825713745232 and parameters: {'window_size': 58, 'tcn_filters': 117, 'tcn_kernel_size': 5, 'dropout_rate': 0.31758345676091826, 'attention_dim': 21}. Best is trial 44 with value: 26.77964985356266.\n"
          ]
        },
        {
          "output_type": "stream",
          "name": "stdout",
          "text": [
            "8/8 [==============================] - 0s 3ms/step\n"
          ]
        },
        {
          "output_type": "stream",
          "name": "stderr",
          "text": [
            "[I 2023-06-17 00:07:05,731] Trial 71 finished with value: 61.064317878161596 and parameters: {'window_size': 10, 'tcn_filters': 77, 'tcn_kernel_size': 2, 'dropout_rate': 0.2256523990280891, 'attention_dim': 23}. Best is trial 44 with value: 26.77964985356266.\n"
          ]
        },
        {
          "output_type": "stream",
          "name": "stdout",
          "text": [
            "8/8 [==============================] - 0s 3ms/step\n"
          ]
        },
        {
          "output_type": "stream",
          "name": "stderr",
          "text": [
            "[I 2023-06-17 00:07:12,740] Trial 72 finished with value: 55.535490921481994 and parameters: {'window_size': 13, 'tcn_filters': 69, 'tcn_kernel_size': 2, 'dropout_rate': 0.2388936378273683, 'attention_dim': 22}. Best is trial 44 with value: 26.77964985356266.\n"
          ]
        },
        {
          "output_type": "stream",
          "name": "stdout",
          "text": [
            "8/8 [==============================] - 0s 4ms/step\n"
          ]
        },
        {
          "output_type": "stream",
          "name": "stderr",
          "text": [
            "[I 2023-06-17 00:07:19,427] Trial 73 finished with value: 41.93861770476066 and parameters: {'window_size': 18, 'tcn_filters': 79, 'tcn_kernel_size': 2, 'dropout_rate': 0.2659541170623599, 'attention_dim': 23}. Best is trial 44 with value: 26.77964985356266.\n"
          ]
        },
        {
          "output_type": "stream",
          "name": "stdout",
          "text": [
            "8/8 [==============================] - 0s 2ms/step\n"
          ]
        },
        {
          "output_type": "stream",
          "name": "stderr",
          "text": [
            "[I 2023-06-17 00:07:23,881] Trial 74 finished with value: 42.426232266190006 and parameters: {'window_size': 17, 'tcn_filters': 74, 'tcn_kernel_size': 2, 'dropout_rate': 0.27294744729956527, 'attention_dim': 24}. Best is trial 44 with value: 26.77964985356266.\n"
          ]
        },
        {
          "output_type": "stream",
          "name": "stdout",
          "text": [
            "8/8 [==============================] - 0s 3ms/step\n"
          ]
        },
        {
          "output_type": "stream",
          "name": "stderr",
          "text": [
            "[I 2023-06-17 00:07:28,818] Trial 75 finished with value: 126.13238255410843 and parameters: {'window_size': 23, 'tcn_filters': 65, 'tcn_kernel_size': 2, 'dropout_rate': 0.25817382314571335, 'attention_dim': 26}. Best is trial 44 with value: 26.77964985356266.\n"
          ]
        },
        {
          "output_type": "stream",
          "name": "stdout",
          "text": [
            "8/8 [==============================] - 0s 4ms/step\n"
          ]
        },
        {
          "output_type": "stream",
          "name": "stderr",
          "text": [
            "[I 2023-06-17 00:07:32,802] Trial 76 finished with value: 124.5818693810966 and parameters: {'window_size': 20, 'tcn_filters': 81, 'tcn_kernel_size': 4, 'dropout_rate': 0.2617634627273542, 'attention_dim': 18}. Best is trial 44 with value: 26.77964985356266.\n"
          ]
        },
        {
          "output_type": "stream",
          "name": "stdout",
          "text": [
            "8/8 [==============================] - 0s 3ms/step\n"
          ]
        },
        {
          "output_type": "stream",
          "name": "stderr",
          "text": [
            "[I 2023-06-17 00:07:37,762] Trial 77 finished with value: 56.66697909833731 and parameters: {'window_size': 15, 'tcn_filters': 106, 'tcn_kernel_size': 2, 'dropout_rate': 0.28945915564051217, 'attention_dim': 22}. Best is trial 44 with value: 26.77964985356266.\n"
          ]
        },
        {
          "output_type": "stream",
          "name": "stdout",
          "text": [
            "8/8 [==============================] - 1s 5ms/step\n"
          ]
        },
        {
          "output_type": "stream",
          "name": "stderr",
          "text": [
            "[I 2023-06-17 00:07:45,567] Trial 78 finished with value: 262.38208964273 and parameters: {'window_size': 69, 'tcn_filters': 90, 'tcn_kernel_size': 3, 'dropout_rate': 0.30437234459429663, 'attention_dim': 28}. Best is trial 44 with value: 26.77964985356266.\n"
          ]
        },
        {
          "output_type": "stream",
          "name": "stdout",
          "text": [
            "8/8 [==============================] - 0s 6ms/step\n"
          ]
        },
        {
          "output_type": "stream",
          "name": "stderr",
          "text": [
            "[I 2023-06-17 00:07:57,775] Trial 79 finished with value: 150.40614009993 and parameters: {'window_size': 47, 'tcn_filters': 86, 'tcn_kernel_size': 4, 'dropout_rate': 0.24626599959203788, 'attention_dim': 20}. Best is trial 44 with value: 26.77964985356266.\n"
          ]
        },
        {
          "output_type": "stream",
          "name": "stdout",
          "text": [
            "8/8 [==============================] - 0s 3ms/step\n"
          ]
        },
        {
          "output_type": "stream",
          "name": "stderr",
          "text": [
            "[I 2023-06-17 00:08:02,194] Trial 80 finished with value: 115.3627854596817 and parameters: {'window_size': 17, 'tcn_filters': 73, 'tcn_kernel_size': 4, 'dropout_rate': 0.2753799344970948, 'attention_dim': 21}. Best is trial 44 with value: 26.77964985356266.\n"
          ]
        },
        {
          "output_type": "stream",
          "name": "stdout",
          "text": [
            "8/8 [==============================] - 0s 3ms/step\n"
          ]
        },
        {
          "output_type": "stream",
          "name": "stderr",
          "text": [
            "[I 2023-06-17 00:08:08,816] Trial 81 finished with value: 70.05470391094103 and parameters: {'window_size': 11, 'tcn_filters': 77, 'tcn_kernel_size': 2, 'dropout_rate': 0.23160602088315757, 'attention_dim': 23}. Best is trial 44 with value: 26.77964985356266.\n"
          ]
        },
        {
          "output_type": "stream",
          "name": "stdout",
          "text": [
            "8/8 [==============================] - 0s 3ms/step\n"
          ]
        },
        {
          "output_type": "stream",
          "name": "stderr",
          "text": [
            "[I 2023-06-17 00:08:16,828] Trial 82 finished with value: 39.56920258220092 and parameters: {'window_size': 12, 'tcn_filters': 79, 'tcn_kernel_size': 2, 'dropout_rate': 0.21612448415156368, 'attention_dim': 23}. Best is trial 44 with value: 26.77964985356266.\n"
          ]
        },
        {
          "output_type": "stream",
          "name": "stdout",
          "text": [
            "8/8 [==============================] - 0s 3ms/step\n"
          ]
        },
        {
          "output_type": "stream",
          "name": "stderr",
          "text": [
            "[I 2023-06-17 00:08:23,548] Trial 83 finished with value: 59.583811366382065 and parameters: {'window_size': 14, 'tcn_filters': 82, 'tcn_kernel_size': 2, 'dropout_rate': 0.21118970968963774, 'attention_dim': 25}. Best is trial 44 with value: 26.77964985356266.\n"
          ]
        },
        {
          "output_type": "stream",
          "name": "stdout",
          "text": [
            "8/8 [==============================] - 0s 3ms/step\n"
          ]
        },
        {
          "output_type": "stream",
          "name": "stderr",
          "text": [
            "[I 2023-06-17 00:08:30,572] Trial 84 finished with value: 47.440793045611024 and parameters: {'window_size': 19, 'tcn_filters': 84, 'tcn_kernel_size': 2, 'dropout_rate': 0.20049384774771684, 'attention_dim': 24}. Best is trial 44 with value: 26.77964985356266.\n"
          ]
        },
        {
          "output_type": "stream",
          "name": "stdout",
          "text": [
            "8/8 [==============================] - 0s 4ms/step\n"
          ]
        },
        {
          "output_type": "stream",
          "name": "stderr",
          "text": [
            "[I 2023-06-17 00:08:36,592] Trial 85 finished with value: 80.14680773176353 and parameters: {'window_size': 24, 'tcn_filters': 61, 'tcn_kernel_size': 2, 'dropout_rate': 0.21688136634024843, 'attention_dim': 19}. Best is trial 44 with value: 26.77964985356266.\n"
          ]
        },
        {
          "output_type": "stream",
          "name": "stdout",
          "text": [
            "8/8 [==============================] - 0s 4ms/step\n"
          ]
        },
        {
          "output_type": "stream",
          "name": "stderr",
          "text": [
            "[I 2023-06-17 00:08:43,518] Trial 86 finished with value: 48.02444899686526 and parameters: {'window_size': 30, 'tcn_filters': 94, 'tcn_kernel_size': 4, 'dropout_rate': 0.24989313148321451, 'attention_dim': 27}. Best is trial 44 with value: 26.77964985356266.\n"
          ]
        },
        {
          "output_type": "stream",
          "name": "stdout",
          "text": [
            "8/8 [==============================] - 0s 5ms/step\n"
          ]
        },
        {
          "output_type": "stream",
          "name": "stderr",
          "text": [
            "[I 2023-06-17 00:08:51,063] Trial 87 finished with value: 176.19280325376502 and parameters: {'window_size': 21, 'tcn_filters': 127, 'tcn_kernel_size': 2, 'dropout_rate': 0.26569140525574353, 'attention_dim': 22}. Best is trial 44 with value: 26.77964985356266.\n"
          ]
        },
        {
          "output_type": "stream",
          "name": "stdout",
          "text": [
            "8/8 [==============================] - 0s 3ms/step\n"
          ]
        },
        {
          "output_type": "stream",
          "name": "stderr",
          "text": [
            "[I 2023-06-17 00:08:55,208] Trial 88 finished with value: 58.71948305328506 and parameters: {'window_size': 18, 'tcn_filters': 75, 'tcn_kernel_size': 3, 'dropout_rate': 0.2893847533512478, 'attention_dim': 31}. Best is trial 44 with value: 26.77964985356266.\n"
          ]
        },
        {
          "output_type": "stream",
          "name": "stdout",
          "text": [
            "8/8 [==============================] - 0s 3ms/step\n"
          ]
        },
        {
          "output_type": "stream",
          "name": "stderr",
          "text": [
            "[I 2023-06-17 00:08:59,291] Trial 89 finished with value: 103.51099848268883 and parameters: {'window_size': 15, 'tcn_filters': 79, 'tcn_kernel_size': 5, 'dropout_rate': 0.2809396014064548, 'attention_dim': 26}. Best is trial 44 with value: 26.77964985356266.\n"
          ]
        },
        {
          "output_type": "stream",
          "name": "stdout",
          "text": [
            "8/8 [==============================] - 0s 5ms/step\n"
          ]
        },
        {
          "output_type": "stream",
          "name": "stderr",
          "text": [
            "[I 2023-06-17 00:09:11,286] Trial 90 finished with value: 194.94150954172034 and parameters: {'window_size': 27, 'tcn_filters': 100, 'tcn_kernel_size': 4, 'dropout_rate': 0.19637245216617943, 'attention_dim': 23}. Best is trial 44 with value: 26.77964985356266.\n"
          ]
        },
        {
          "output_type": "stream",
          "name": "stdout",
          "text": [
            "8/8 [==============================] - 0s 3ms/step\n"
          ]
        },
        {
          "output_type": "stream",
          "name": "stderr",
          "text": [
            "[I 2023-06-17 00:09:17,919] Trial 91 finished with value: 36.289279616526386 and parameters: {'window_size': 13, 'tcn_filters': 71, 'tcn_kernel_size': 2, 'dropout_rate': 0.22918548907278796, 'attention_dim': 23}. Best is trial 44 with value: 26.77964985356266.\n"
          ]
        },
        {
          "output_type": "stream",
          "name": "stdout",
          "text": [
            "8/8 [==============================] - 0s 2ms/step\n"
          ]
        },
        {
          "output_type": "stream",
          "name": "stderr",
          "text": [
            "[I 2023-06-17 00:09:22,370] Trial 92 finished with value: 90.65523655454886 and parameters: {'window_size': 12, 'tcn_filters': 76, 'tcn_kernel_size': 2, 'dropout_rate': 0.22679971351314934, 'attention_dim': 9}. Best is trial 44 with value: 26.77964985356266.\n"
          ]
        },
        {
          "output_type": "stream",
          "name": "stdout",
          "text": [
            "8/8 [==============================] - 0s 3ms/step\n"
          ]
        },
        {
          "output_type": "stream",
          "name": "stderr",
          "text": [
            "[I 2023-06-17 00:09:28,965] Trial 93 finished with value: 71.30637577030012 and parameters: {'window_size': 16, 'tcn_filters': 67, 'tcn_kernel_size': 2, 'dropout_rate': 0.2513915415439352, 'attention_dim': 22}. Best is trial 44 with value: 26.77964985356266.\n"
          ]
        },
        {
          "output_type": "stream",
          "name": "stdout",
          "text": [
            "8/8 [==============================] - 0s 2ms/step\n"
          ]
        },
        {
          "output_type": "stream",
          "name": "stderr",
          "text": [
            "[I 2023-06-17 00:09:33,732] Trial 94 finished with value: 71.46727313935696 and parameters: {'window_size': 14, 'tcn_filters': 81, 'tcn_kernel_size': 2, 'dropout_rate': 0.24048652885414812, 'attention_dim': 25}. Best is trial 44 with value: 26.77964985356266.\n"
          ]
        },
        {
          "output_type": "stream",
          "name": "stdout",
          "text": [
            "8/8 [==============================] - 0s 3ms/step\n"
          ]
        },
        {
          "output_type": "stream",
          "name": "stderr",
          "text": [
            "[I 2023-06-17 00:09:43,109] Trial 95 finished with value: 42.488912357431886 and parameters: {'window_size': 22, 'tcn_filters': 73, 'tcn_kernel_size': 2, 'dropout_rate': 0.26156141630995655, 'attention_dim': 21}. Best is trial 44 with value: 26.77964985356266.\n"
          ]
        },
        {
          "output_type": "stream",
          "name": "stdout",
          "text": [
            "8/8 [==============================] - 0s 2ms/step\n"
          ]
        },
        {
          "output_type": "stream",
          "name": "stderr",
          "text": [
            "[I 2023-06-17 00:09:49,774] Trial 96 finished with value: 30.7350070501254 and parameters: {'window_size': 12, 'tcn_filters': 71, 'tcn_kernel_size': 2, 'dropout_rate': 0.22084772263288457, 'attention_dim': 24}. Best is trial 44 with value: 26.77964985356266.\n"
          ]
        },
        {
          "output_type": "stream",
          "name": "stdout",
          "text": [
            "8/8 [==============================] - 0s 3ms/step\n"
          ]
        },
        {
          "output_type": "stream",
          "name": "stderr",
          "text": [
            "[I 2023-06-17 00:09:55,871] Trial 97 finished with value: 36.36402092524559 and parameters: {'window_size': 12, 'tcn_filters': 71, 'tcn_kernel_size': 2, 'dropout_rate': 0.18746341160339294, 'attention_dim': 24}. Best is trial 44 with value: 26.77964985356266.\n"
          ]
        },
        {
          "output_type": "stream",
          "name": "stdout",
          "text": [
            "8/8 [==============================] - 0s 2ms/step\n"
          ]
        },
        {
          "output_type": "stream",
          "name": "stderr",
          "text": [
            "[I 2023-06-17 00:09:59,864] Trial 98 finished with value: 32.17535233332886 and parameters: {'window_size': 10, 'tcn_filters': 70, 'tcn_kernel_size': 2, 'dropout_rate': 0.18735320085212528, 'attention_dim': 24}. Best is trial 44 with value: 26.77964985356266.\n"
          ]
        },
        {
          "output_type": "stream",
          "name": "stdout",
          "text": [
            "8/8 [==============================] - 0s 3ms/step\n"
          ]
        },
        {
          "output_type": "stream",
          "name": "stderr",
          "text": [
            "[I 2023-06-17 00:10:05,746] Trial 99 finished with value: 41.175902659781485 and parameters: {'window_size': 10, 'tcn_filters': 69, 'tcn_kernel_size': 2, 'dropout_rate': 0.1828213500074556, 'attention_dim': 24}. Best is trial 44 with value: 26.77964985356266.\n"
          ]
        }
      ]
    },
    {
      "cell_type": "code",
      "source": [
        "# Display the optimal set of parameters\n",
        "best_params = study.best_params\n",
        "print(\"Best Hyperparameters:\", best_params)"
      ],
      "metadata": {
        "colab": {
          "base_uri": "https://localhost:8080/"
        },
        "id": "MIC7AbkU-qLy",
        "outputId": "2e3641a5-d8a3-44e9-a44b-10ff9e2e810e"
      },
      "id": "MIC7AbkU-qLy",
      "execution_count": null,
      "outputs": [
        {
          "output_type": "stream",
          "name": "stdout",
          "text": [
            "Best Hyperparameters: {'window_size': 16, 'tcn_filters': 78, 'tcn_kernel_size': 4, 'dropout_rate': 0.24291776530179549, 'attention_dim': 28}\n"
          ]
        }
      ]
    },
    {
      "cell_type": "code",
      "source": [
        "# Evaluate the accuracy of test\n",
        "print(f\"MAPE on Test dataset: \", best_mape)\n",
        "print(f\"RMSE on Test dataset: \", best_rmse)\n",
        "print(f\"MSLE on Test dataset: \", best_msle)"
      ],
      "metadata": {
        "colab": {
          "base_uri": "https://localhost:8080/"
        },
        "id": "gIcsWJky-scK",
        "outputId": "9de2f320-d3c1-4eff-c328-22f6db77b207"
      },
      "id": "gIcsWJky-scK",
      "execution_count": null,
      "outputs": [
        {
          "output_type": "stream",
          "name": "stdout",
          "text": [
            "MAPE on Test dataset:  0.07850866928329849\n",
            "RMSE on Test dataset:  5.174905782095231\n",
            "MSLE on Test dataset:  0.009938506271828525\n"
          ]
        }
      ]
    },
    {
      "cell_type": "markdown",
      "source": [
        "### Save and Load the best model and related information"
      ],
      "metadata": {
        "id": "LAq2jnXOj6aI"
      },
      "id": "LAq2jnXOj6aI"
    },
    {
      "cell_type": "code",
      "source": [
        "# Save the best model and related information\n",
        "best_model.save('/content/drive/MyDrive/Colab Notebooks/Business Data Analysis/CTLT/7:1:2/best_model.h5')\n",
        "\n",
        "np.save('/content/drive/MyDrive/Colab Notebooks/Business Data Analysis/CTLT/7:1:2/best_window_size.npy', best_window_size)\n",
        "np.save('/content/drive/MyDrive/Colab Notebooks/Business Data Analysis/CTLT/7:1:2/best_train_windows.npy', best_train_windows)\n",
        "np.save('/content/drive/MyDrive/Colab Notebooks/Business Data Analysis/CTLT/7:1:2/best_train_targets.npy', best_train_targets)\n",
        "np.save('/content/drive/MyDrive/Colab Notebooks/Business Data Analysis/CTLT/7:1:2/best_test_windows.npy', best_test_windows)\n",
        "np.save('/content/drive/MyDrive/Colab Notebooks/Business Data Analysis/CTLT/7:1:2/best_test_targets.npy', best_test_targets)\n",
        "np.save('/content/drive/MyDrive/Colab Notebooks/Business Data Analysis/CTLT/7:1:2/best_val_windows.npy', best_val_windows)\n",
        "np.save('/content/drive/MyDrive/Colab Notebooks/Business Data Analysis/CTLT/7:1:2/best_val_targets.npy', best_val_targets)\n",
        "\n",
        "np.save('/content/drive/MyDrive/Colab Notebooks/Business Data Analysis/CTLT/7:1:2/best_y_pred.npy', best_y_pred)\n",
        "\n",
        "np.save('/content/drive/MyDrive/Colab Notebooks/Business Data Analysis/CTLT/7:1:2/best_mse.npy', best_mse)\n",
        "np.save('/content/drive/MyDrive/Colab Notebooks/Business Data Analysis/CTLT/7:1:2/best_rmse.npy', best_rmse)\n",
        "np.save('/content/drive/MyDrive/Colab Notebooks/Business Data Analysis/CTLT/7:1:2/best_mape.npy', best_mape)\n",
        "np.save('/content/drive/MyDrive/Colab Notebooks/Business Data Analysis/CTLT/7:1:2/best_msle.npy', best_msle)"
      ],
      "metadata": {
        "id": "VOV_a65HsGiB"
      },
      "id": "VOV_a65HsGiB",
      "execution_count": null,
      "outputs": []
    },
    {
      "cell_type": "code",
      "source": [
        "# Load the best model and related information\n",
        "with custom_object_scope({'AttentionLayer': AttentionLayer}):\n",
        "    loaded_best_model = load_model('/content/drive/MyDrive/Colab Notebooks/Business Data Analysis/CTLT/7:1:2/best_model.h5')\n",
        "\n",
        "loaded_best_window_size = np.load('/content/drive/MyDrive/Colab Notebooks/Business Data Analysis/CTLT/7:1:2/best_window_size.npy')\n",
        "loaded_best_train_windows = np.load('/content/drive/MyDrive/Colab Notebooks/Business Data Analysis/CTLT/7:1:2/best_train_windows.npy')\n",
        "loaded_best_train_targets = np.load('/content/drive/MyDrive/Colab Notebooks/Business Data Analysis/CTLT/7:1:2/best_train_targets.npy')\n",
        "loaded_best_test_windows = np.load('/content/drive/MyDrive/Colab Notebooks/Business Data Analysis/CTLT/7:1:2/best_test_windows.npy')\n",
        "loaded_best_test_targets = np.load('/content/drive/MyDrive/Colab Notebooks/Business Data Analysis/CTLT/7:1:2/best_test_targets.npy')\n",
        "loaded_best_val_windows = np.load('/content/drive/MyDrive/Colab Notebooks/Business Data Analysis/CTLT/7:1:2/best_val_windows.npy')\n",
        "loaded_best_val_targets = np.load('/content/drive/MyDrive/Colab Notebooks/Business Data Analysis/CTLT/7:1:2/best_val_targets.npy')\n",
        "\n",
        "loaded_best_y_pred = np.load('/content/drive/MyDrive/Colab Notebooks/Business Data Analysis/CTLT/7:1:2/best_y_pred.npy')\n",
        "\n",
        "loaded_best_mse = np.load('/content/drive/MyDrive/Colab Notebooks/Business Data Analysis/CTLT/7:1:2/best_mse.npy').item()\n",
        "loaded_best_rmse = np.load('/content/drive/MyDrive/Colab Notebooks/Business Data Analysis/CTLT/7:1:2/best_rmse.npy').item()\n",
        "loaded_best_mape = np.load('/content/drive/MyDrive/Colab Notebooks/Business Data Analysis/CTLT/7:1:2/best_mape.npy').item()\n",
        "loaded_best_msle = np.load('/content/drive/MyDrive/Colab Notebooks/Business Data Analysis/CTLT/7:1:2/best_msle.npy').item()"
      ],
      "metadata": {
        "id": "CYIqqiJn-7Jp"
      },
      "id": "CYIqqiJn-7Jp",
      "execution_count": 12,
      "outputs": []
    },
    {
      "cell_type": "markdown",
      "source": [
        "### Evaluate on Validate dataset"
      ],
      "metadata": {
        "id": "UAdbHb5yW24G"
      },
      "id": "UAdbHb5yW24G"
    },
    {
      "cell_type": "code",
      "source": [
        "train_last_window_size = train_data[-loaded_best_window_size:]\n",
        "val_data_extended = np.concatenate((train_last_window_size, val_data), axis=0)\n",
        "\n",
        "val_windows, val_targets = create_dataset(val_data_extended, loaded_best_window_size)"
      ],
      "metadata": {
        "id": "IM7nnsl7W_w1"
      },
      "id": "IM7nnsl7W_w1",
      "execution_count": 14,
      "outputs": []
    },
    {
      "cell_type": "code",
      "source": [
        "# Testing the model on Validate dataset\n",
        "y_pred_val = loaded_best_model.predict(val_windows)"
      ],
      "metadata": {
        "colab": {
          "base_uri": "https://localhost:8080/"
        },
        "id": "Na8ejgffXMmV",
        "outputId": "f2fbe44f-238a-4ef2-b79b-b27498ae7437"
      },
      "id": "Na8ejgffXMmV",
      "execution_count": 16,
      "outputs": [
        {
          "output_type": "stream",
          "name": "stdout",
          "text": [
            "4/4 [==============================] - 1s 5ms/step\n"
          ]
        }
      ]
    },
    {
      "cell_type": "code",
      "source": [
        "# Evaluate on MAPE, RMSE, MSLE\n",
        "val_targets = scaler.inverse_transform(val_targets.reshape(-1, 1))\n",
        "y_pred_val = scaler.inverse_transform(y_pred_val)\n",
        "\n",
        "mse = mean_squared_error(val_targets, y_pred_val)\n",
        "rmse = np.sqrt(mse)\n",
        "mape = mean_absolute_percentage_error(val_targets, y_pred_val)\n",
        "msle = mean_squared_log_error(val_targets, y_pred_val)"
      ],
      "metadata": {
        "id": "cv-8_zG5bnQ-"
      },
      "id": "cv-8_zG5bnQ-",
      "execution_count": 17,
      "outputs": []
    },
    {
      "cell_type": "code",
      "source": [
        "# Evaluate the accuracy of test\n",
        "print(f\"MAPE on Validate dataset: \", mape)\n",
        "print(f\"RMSE on Validate dataset: \", rmse)\n",
        "print(f\"MSLE on Validate dataset: \", msle)"
      ],
      "metadata": {
        "colab": {
          "base_uri": "https://localhost:8080/"
        },
        "id": "Xr-xxGIBXXKK",
        "outputId": "8afe804c-e0a1-4365-ad61-1b464617b053"
      },
      "id": "Xr-xxGIBXXKK",
      "execution_count": 18,
      "outputs": [
        {
          "output_type": "stream",
          "name": "stdout",
          "text": [
            "MAPE on Validate dataset:  0.025426989899793768\n",
            "RMSE on Validate dataset:  3.3530540795014265\n",
            "MSLE on Validate dataset:  0.0010832495356202494\n"
          ]
        }
      ]
    },
    {
      "cell_type": "markdown",
      "source": [
        "## Predicting the next 30 days"
      ],
      "metadata": {
        "id": "ZV6VbX2qiTJ2"
      },
      "id": "ZV6VbX2qiTJ2"
    },
    {
      "cell_type": "markdown",
      "source": [
        "### Preparing the forecast date index"
      ],
      "metadata": {
        "id": "KheB_eYIiU4b"
      },
      "id": "KheB_eYIiU4b"
    },
    {
      "cell_type": "code",
      "source": [
        "# Get the last date from the current index\n",
        "last_date = df.index[-1]\n",
        "\n",
        "# Add one day to the last date\n",
        "next_date = last_date + pd.DateOffset(days=1)\n",
        "\n",
        "# Create a list of indices starting from the next date for 30 days\n",
        "index_next_30_days = pd.date_range(start=next_date, periods=30).tolist()"
      ],
      "metadata": {
        "id": "nEQ97NJuiPPW"
      },
      "id": "nEQ97NJuiPPW",
      "execution_count": 19,
      "outputs": []
    },
    {
      "cell_type": "markdown",
      "source": [
        "## Prediction process"
      ],
      "metadata": {
        "id": "35CEaBcIiX6-"
      },
      "id": "35CEaBcIiX6-"
    },
    {
      "cell_type": "code",
      "execution_count": 20,
      "id": "45367300",
      "metadata": {
        "colab": {
          "base_uri": "https://localhost:8080/"
        },
        "id": "45367300",
        "outputId": "58e128f7-909c-4a53-b9bc-9f8e0d0f7b44"
      },
      "outputs": [
        {
          "output_type": "stream",
          "name": "stdout",
          "text": [
            "1/1 [==============================] - 0s 169ms/step\n",
            "1/1 [==============================] - 0s 23ms/step\n",
            "1/1 [==============================] - 0s 23ms/step\n",
            "1/1 [==============================] - 0s 26ms/step\n",
            "1/1 [==============================] - 0s 24ms/step\n",
            "1/1 [==============================] - 0s 22ms/step\n",
            "1/1 [==============================] - 0s 29ms/step\n",
            "1/1 [==============================] - 0s 23ms/step\n",
            "1/1 [==============================] - 0s 24ms/step\n",
            "1/1 [==============================] - 0s 27ms/step\n",
            "1/1 [==============================] - 0s 22ms/step\n",
            "1/1 [==============================] - 0s 22ms/step\n",
            "1/1 [==============================] - 0s 23ms/step\n",
            "1/1 [==============================] - 0s 23ms/step\n",
            "1/1 [==============================] - 0s 27ms/step\n",
            "1/1 [==============================] - 0s 23ms/step\n",
            "1/1 [==============================] - 0s 22ms/step\n",
            "1/1 [==============================] - 0s 23ms/step\n",
            "1/1 [==============================] - 0s 27ms/step\n",
            "1/1 [==============================] - 0s 23ms/step\n",
            "1/1 [==============================] - 0s 22ms/step\n",
            "1/1 [==============================] - 0s 24ms/step\n",
            "1/1 [==============================] - 0s 26ms/step\n",
            "1/1 [==============================] - 0s 26ms/step\n",
            "1/1 [==============================] - 0s 22ms/step\n",
            "1/1 [==============================] - 0s 24ms/step\n",
            "1/1 [==============================] - 0s 23ms/step\n",
            "1/1 [==============================] - 0s 29ms/step\n",
            "1/1 [==============================] - 0s 24ms/step\n",
            "1/1 [==============================] - 0s 24ms/step\n"
          ]
        }
      ],
      "source": [
        "# Predict the closing price for the next 30 days\n",
        "last_sequence_days = np.array(data_scaled[-loaded_best_window_size:]).reshape(1, -1, 1)\n",
        "y_next_30_days = []\n",
        "\n",
        "for i in range(30):\n",
        "    # Predict the next day's closing price\n",
        "    next_day_pred = loaded_best_model.predict(last_sequence_days)\n",
        "\n",
        "    # Save prediction\n",
        "    y_next_30_days.append(next_day_pred[0][0])\n",
        "\n",
        "    # Update data for the next day\n",
        "    last_sequence_days = np.concatenate([last_sequence_days[:, 1:, :], next_day_pred.reshape(1, 1, 1)], axis=1)"
      ]
    },
    {
      "cell_type": "code",
      "source": [
        "print('Predicted closing prices for the next 30 days:')\n",
        "y_next_30_days = scaler.inverse_transform(np.array(y_next_30_days).reshape(-1, 1))\n",
        "print(y_next_30_days.flatten())"
      ],
      "metadata": {
        "id": "3ncvl1BxmTdL",
        "colab": {
          "base_uri": "https://localhost:8080/"
        },
        "outputId": "6b84bdb0-3899-4a8a-cbe2-d8440deb76b5"
      },
      "id": "3ncvl1BxmTdL",
      "execution_count": 21,
      "outputs": [
        {
          "output_type": "stream",
          "name": "stdout",
          "text": [
            "Predicted closing prices for the next 30 days:\n",
            "[39.94374  39.74101  39.68482  39.64775  39.610226 39.6065   39.59937\n",
            " 39.60045  39.593998 39.600147 39.61161  39.595074 39.60697  39.654224\n",
            " 39.64055  39.643173 39.621765 39.61839  39.616577 39.615776 39.615116\n",
            " 39.61495  39.6147   39.6148   39.614815 39.614426 39.614605 39.61494\n",
            " 39.61495  39.615383]\n"
          ]
        }
      ]
    },
    {
      "cell_type": "markdown",
      "source": [
        "## Visualization"
      ],
      "metadata": {
        "id": "ONh3k9wBids4"
      },
      "id": "ONh3k9wBids4"
    },
    {
      "cell_type": "code",
      "source": [
        "plt.figure(figsize=(12, 5))\n",
        "\n",
        "plt.plot(df.index[:train_size], scaler.inverse_transform(train_data))\n",
        "\n",
        "plt.plot(df.index[train_size : train_size + val_size], scaler.inverse_transform(val_data))\n",
        "\n",
        "plt.plot(df.index[train_size : train_size + val_size], y_pred_val)\n",
        "\n",
        "plt.plot(df.index[train_size + val_size : ], scaler.inverse_transform(test_data))\n",
        "\n",
        "plt.plot(df.index[train_size + val_size : ], loaded_best_y_pred)\n",
        "\n",
        "plt.plot(index_next_30_days, y_next_30_days)\n",
        "\n",
        "plt.legend(['Train', 'Validate', 'PredictValidate', 'Test', 'PredictTest', 'Next30Day'])\n",
        "\n",
        "plt.grid()\n",
        "plt.title(f\"Catalent Closing Price Data from {df.index[0].strftime('%Y-%m-%d')} to {index_next_30_days[-1].strftime('%Y-%m-%d')}\")\n",
        "plt.xlabel(\"Date\")\n",
        "plt.ylabel(\"Close value\")\n",
        "plt.savefig('TCAN_712_CTLT.png')\n",
        "plt.show()"
      ],
      "metadata": {
        "id": "NwtqPyJeMaGL",
        "colab": {
          "base_uri": "https://localhost:8080/",
          "height": 487
        },
        "outputId": "c8024dc3-babd-4604-ec57-0bbc1206f122"
      },
      "id": "NwtqPyJeMaGL",
      "execution_count": 22,
      "outputs": [
        {
          "output_type": "display_data",
          "data": {
            "text/plain": [
              "<Figure size 1200x500 with 1 Axes>"
            ],
            "image/png": "[encoded data removed]"
          },
          "metadata": {}
        }
      ]
    }
  ],
  "metadata": {
    "colab": {
      "provenance": []
    },
    "kernelspec": {
      "display_name": "Python 3 (ipykernel)",
      "language": "python",
      "name": "python3"
    },
    "language_info": {
      "codemirror_mode": {
        "name": "ipython",
        "version": 3
      },
      "file_extension": ".py",
      "mimetype": "text/x-python",
      "name": "python",
      "nbconvert_exporter": "python",
      "pygments_lexer": "ipython3",
      "version": "3.9.13"
    }
  },
  "nbformat": 4,
  "nbformat_minor": 5
}