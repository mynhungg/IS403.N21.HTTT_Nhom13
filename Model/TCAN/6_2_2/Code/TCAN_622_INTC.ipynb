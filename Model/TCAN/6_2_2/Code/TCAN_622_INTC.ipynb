{
  "cells": [
    {
      "cell_type": "markdown",
      "source": [
        "## Preparation"
      ],
      "metadata": {
        "id": "Ty-2HmFfAEUU"
      },
      "id": "Ty-2HmFfAEUU"
    },
    {
      "cell_type": "markdown",
      "source": [
        "### Download the optimization support library package"
      ],
      "metadata": {
        "id": "wCHCM3ifASoq"
      },
      "id": "wCHCM3ifASoq"
    },
    {
      "cell_type": "code",
      "source": [
        "!pip install optuna"
      ],
      "metadata": {
        "colab": {
          "base_uri": "https://localhost:8080/"
        },
        "id": "h-uK9HgR9_AM",
        "outputId": "698f123a-c84e-4656-bfae-4d9ce52d78ee"
      },
      "id": "h-uK9HgR9_AM",
      "execution_count": 1,
      "outputs": [
        {
          "output_type": "stream",
          "name": "stdout",
          "text": [
            "Looking in indexes: https://pypi.org/simple, https://us-python.pkg.dev/colab-wheels/public/simple/\n",
            "Collecting optuna\n",
            "  Downloading optuna-3.2.0-py3-none-any.whl (390 kB)\n",
            "\u001b[2K     \u001b[90m━━━━━━━━━━━━━━━━━━━━━━━━━━━━━━━━━━━━━━━\u001b[0m \u001b[32m390.6/390.6 kB\u001b[0m \u001b[31m6.2 MB/s\u001b[0m eta \u001b[36m0:00:00\u001b[0m\n",
            "\u001b[?25hCollecting alembic>=1.5.0 (from optuna)\n",
            "  Downloading alembic-1.11.1-py3-none-any.whl (224 kB)\n",
            "\u001b[2K     \u001b[90m━━━━━━━━━━━━━━━━━━━━━━━━━━━━━━━━━━━━━━\u001b[0m \u001b[32m224.5/224.5 kB\u001b[0m \u001b[31m16.4 MB/s\u001b[0m eta \u001b[36m0:00:00\u001b[0m\n",
            "\u001b[?25hCollecting cmaes>=0.9.1 (from optuna)\n",
            "  Downloading cmaes-0.9.1-py3-none-any.whl (21 kB)\n",
            "Collecting colorlog (from optuna)\n",
            "  Downloading colorlog-6.7.0-py2.py3-none-any.whl (11 kB)\n",
            "Requirement already satisfied: numpy in /usr/local/lib/python3.10/dist-packages (from optuna) (1.22.4)\n",
            "Requirement already satisfied: packaging>=20.0 in /usr/local/lib/python3.10/dist-packages (from optuna) (23.1)\n",
            "Requirement already satisfied: sqlalchemy>=1.3.0 in /usr/local/lib/python3.10/dist-packages (from optuna) (2.0.10)\n",
            "Requirement already satisfied: tqdm in /usr/local/lib/python3.10/dist-packages (from optuna) (4.65.0)\n",
            "Requirement already satisfied: PyYAML in /usr/local/lib/python3.10/dist-packages (from optuna) (6.0)\n",
            "Collecting Mako (from alembic>=1.5.0->optuna)\n",
            "  Downloading Mako-1.2.4-py3-none-any.whl (78 kB)\n",
            "\u001b[2K     \u001b[90m━━━━━━━━━━━━━━━━━━━━━━━━━━━━━━━━━━━━━━━━\u001b[0m \u001b[32m78.7/78.7 kB\u001b[0m \u001b[31m5.6 MB/s\u001b[0m eta \u001b[36m0:00:00\u001b[0m\n",
            "\u001b[?25hRequirement already satisfied: typing-extensions>=4 in /usr/local/lib/python3.10/dist-packages (from alembic>=1.5.0->optuna) (4.5.0)\n",
            "Requirement already satisfied: greenlet!=0.4.17 in /usr/local/lib/python3.10/dist-packages (from sqlalchemy>=1.3.0->optuna) (2.0.2)\n",
            "Requirement already satisfied: MarkupSafe>=0.9.2 in /usr/local/lib/python3.10/dist-packages (from Mako->alembic>=1.5.0->optuna) (2.1.2)\n",
            "Installing collected packages: Mako, colorlog, cmaes, alembic, optuna\n",
            "Successfully installed Mako-1.2.4 alembic-1.11.1 cmaes-0.9.1 colorlog-6.7.0 optuna-3.2.0\n"
          ]
        }
      ]
    },
    {
      "cell_type": "markdown",
      "source": [
        "### Connect to Google Drive"
      ],
      "metadata": {
        "id": "-yVNLlKiAkLO"
      },
      "id": "-yVNLlKiAkLO"
    },
    {
      "cell_type": "code",
      "source": [
        "from google.colab import drive\n",
        "drive.mount('/content/drive', force_remount=True)"
      ],
      "metadata": {
        "colab": {
          "base_uri": "https://localhost:8080/"
        },
        "id": "O32NLGXv96h9",
        "outputId": "1e6822a0-3051-4ff6-f5ac-8f6a309a7244"
      },
      "id": "O32NLGXv96h9",
      "execution_count": 2,
      "outputs": [
        {
          "output_type": "stream",
          "name": "stdout",
          "text": [
            "Mounted at /content/drive\n"
          ]
        }
      ]
    },
    {
      "cell_type": "markdown",
      "source": [
        "## Import Libraries"
      ],
      "metadata": {
        "id": "W53Qynm-ZVZt"
      },
      "id": "W53Qynm-ZVZt"
    },
    {
      "cell_type": "code",
      "execution_count": 3,
      "id": "87d177e7",
      "metadata": {
        "id": "87d177e7"
      },
      "outputs": [],
      "source": [
        "# Library to support working with data\n",
        "import numpy as np\n",
        "import pandas as pd\n",
        "\n",
        "# Graphing support library\n",
        "import matplotlib.pyplot as plt\n",
        "\n",
        "# Data Normalization Support Library\n",
        "from sklearn.preprocessing import MinMaxScaler\n",
        "\n",
        "# Library to support building Temporal Convolutional Attention Networks models\n",
        "from tensorflow.keras.models import Model\n",
        "from tensorflow.keras.optimizers import Adam\n",
        "from tensorflow.keras.callbacks import EarlyStopping\n",
        "from tensorflow.keras.layers import Dense, Flatten, Conv1D, MaxPooling1D, GlobalMaxPooling1D, Dropout, SpatialDropout1D\n",
        "from tensorflow.keras.layers import Layer, RepeatVector, concatenate, Reshape, Input, Concatenate, Permute, Multiply, Add, Activation\n",
        "\n",
        "# Performance metrics calculation support library\n",
        "from sklearn.metrics import mean_squared_error, mean_absolute_percentage_error, mean_squared_log_error\n",
        "\n",
        "# Parameter optimization support library\n",
        "import optuna\n",
        "\n",
        "# Support library to ignore warnings\n",
        "import warnings\n",
        "warnings.filterwarnings(\"ignore\")\n",
        "\n",
        "# Support library to load models and data\n",
        "from keras.utils import custom_object_scope\n",
        "from tensorflow.keras.models import load_model"
      ]
    },
    {
      "cell_type": "markdown",
      "source": [
        "## Data preprocessing"
      ],
      "metadata": {
        "id": "-DlshO-2cJbs"
      },
      "id": "-DlshO-2cJbs"
    },
    {
      "cell_type": "markdown",
      "source": [
        "### Read data"
      ],
      "metadata": {
        "id": "ezxH2qTIcLnT"
      },
      "id": "ezxH2qTIcLnT"
    },
    {
      "cell_type": "code",
      "execution_count": 4,
      "id": "77ce5605",
      "metadata": {
        "colab": {
          "base_uri": "https://localhost:8080/",
          "height": 423
        },
        "id": "77ce5605",
        "outputId": "c01849cf-dfd3-423e-ee4c-4565f68e914d"
      },
      "outputs": [
        {
          "output_type": "execute_result",
          "data": {
            "text/plain": [
              "            Date       Open       High        Low      Close  Adj Close  \\\n",
              "0     2019-01-02  45.959999  47.470001  45.770000  47.080002  41.343937   \n",
              "1     2019-01-03  46.150002  46.279999  44.389999  44.490002  39.069477   \n",
              "2     2019-01-04  45.840000  47.570000  45.540001  47.220001  41.466869   \n",
              "3     2019-01-07  47.099998  48.000000  46.750000  47.439999  41.660065   \n",
              "4     2019-01-08  47.799999  48.029999  46.779999  47.740002  41.923512   \n",
              "...          ...        ...        ...        ...        ...        ...   \n",
              "1114  2023-06-06  29.770000  31.450001  29.700001  30.959999  30.959999   \n",
              "1115  2023-06-07  31.030001  31.370001  30.930000  31.280001  31.280001   \n",
              "1116  2023-06-08  31.430000  31.850000  31.059999  31.820000  31.820000   \n",
              "1117  2023-06-09  31.930000  31.990000  30.680000  31.340000  31.340000   \n",
              "1118  2023-06-12  31.400000  33.299999  31.360001  33.070000  33.070000   \n",
              "\n",
              "        Volume  \n",
              "0     18774600  \n",
              "1     32267300  \n",
              "2     35447300  \n",
              "3     22736800  \n",
              "4     22749200  \n",
              "...        ...  \n",
              "1114  42295300  \n",
              "1115  39098000  \n",
              "1116  35199000  \n",
              "1117  40218000  \n",
              "1118  59881600  \n",
              "\n",
              "[1119 rows x 7 columns]"
            ],
            "text/html": [
              "\n",
              "  <div id=\"df-a5d1eddf-3cc9-4fb7-b5a1-f6b9b5535422\">\n",
              "    <div class=\"colab-df-container\">\n",
              "      <div>\n",
              "<style scoped>\n",
              "    .dataframe tbody tr th:only-of-type {\n",
              "        vertical-align: middle;\n",
              "    }\n",
              "\n",
              "    .dataframe tbody tr th {\n",
              "        vertical-align: top;\n",
              "    }\n",
              "\n",
              "    .dataframe thead th {\n",
              "        text-align: right;\n",
              "    }\n",
              "</style>\n",
              "<table border=\"1\" class=\"dataframe\">\n",
              "  <thead>\n",
              "    <tr style=\"text-align: right;\">\n",
              "      <th></th>\n",
              "      <th>Date</th>\n",
              "      <th>Open</th>\n",
              "      <th>High</th>\n",
              "      <th>Low</th>\n",
              "      <th>Close</th>\n",
              "      <th>Adj Close</th>\n",
              "      <th>Volume</th>\n",
              "    </tr>\n",
              "  </thead>\n",
              "  <tbody>\n",
              "    <tr>\n",
              "      <th>0</th>\n",
              "      <td>2019-01-02</td>\n",
              "      <td>45.959999</td>\n",
              "      <td>47.470001</td>\n",
              "      <td>45.770000</td>\n",
              "      <td>47.080002</td>\n",
              "      <td>41.343937</td>\n",
              "      <td>18774600</td>\n",
              "    </tr>\n",
              "    <tr>\n",
              "      <th>1</th>\n",
              "      <td>2019-01-03</td>\n",
              "      <td>46.150002</td>\n",
              "      <td>46.279999</td>\n",
              "      <td>44.389999</td>\n",
              "      <td>44.490002</td>\n",
              "      <td>39.069477</td>\n",
              "      <td>32267300</td>\n",
              "    </tr>\n",
              "    <tr>\n",
              "      <th>2</th>\n",
              "      <td>2019-01-04</td>\n",
              "      <td>45.840000</td>\n",
              "      <td>47.570000</td>\n",
              "      <td>45.540001</td>\n",
              "      <td>47.220001</td>\n",
              "      <td>41.466869</td>\n",
              "      <td>35447300</td>\n",
              "    </tr>\n",
              "    <tr>\n",
              "      <th>3</th>\n",
              "      <td>2019-01-07</td>\n",
              "      <td>47.099998</td>\n",
              "      <td>48.000000</td>\n",
              "      <td>46.750000</td>\n",
              "      <td>47.439999</td>\n",
              "      <td>41.660065</td>\n",
              "      <td>22736800</td>\n",
              "    </tr>\n",
              "    <tr>\n",
              "      <th>4</th>\n",
              "      <td>2019-01-08</td>\n",
              "      <td>47.799999</td>\n",
              "      <td>48.029999</td>\n",
              "      <td>46.779999</td>\n",
              "      <td>47.740002</td>\n",
              "      <td>41.923512</td>\n",
              "      <td>22749200</td>\n",
              "    </tr>\n",
              "    <tr>\n",
              "      <th>...</th>\n",
              "      <td>...</td>\n",
              "      <td>...</td>\n",
              "      <td>...</td>\n",
              "      <td>...</td>\n",
              "      <td>...</td>\n",
              "      <td>...</td>\n",
              "      <td>...</td>\n",
              "    </tr>\n",
              "    <tr>\n",
              "      <th>1114</th>\n",
              "      <td>2023-06-06</td>\n",
              "      <td>29.770000</td>\n",
              "      <td>31.450001</td>\n",
              "      <td>29.700001</td>\n",
              "      <td>30.959999</td>\n",
              "      <td>30.959999</td>\n",
              "      <td>42295300</td>\n",
              "    </tr>\n",
              "    <tr>\n",
              "      <th>1115</th>\n",
              "      <td>2023-06-07</td>\n",
              "      <td>31.030001</td>\n",
              "      <td>31.370001</td>\n",
              "      <td>30.930000</td>\n",
              "      <td>31.280001</td>\n",
              "      <td>31.280001</td>\n",
              "      <td>39098000</td>\n",
              "    </tr>\n",
              "    <tr>\n",
              "      <th>1116</th>\n",
              "      <td>2023-06-08</td>\n",
              "      <td>31.430000</td>\n",
              "      <td>31.850000</td>\n",
              "      <td>31.059999</td>\n",
              "      <td>31.820000</td>\n",
              "      <td>31.820000</td>\n",
              "      <td>35199000</td>\n",
              "    </tr>\n",
              "    <tr>\n",
              "      <th>1117</th>\n",
              "      <td>2023-06-09</td>\n",
              "      <td>31.930000</td>\n",
              "      <td>31.990000</td>\n",
              "      <td>30.680000</td>\n",
              "      <td>31.340000</td>\n",
              "      <td>31.340000</td>\n",
              "      <td>40218000</td>\n",
              "    </tr>\n",
              "    <tr>\n",
              "      <th>1118</th>\n",
              "      <td>2023-06-12</td>\n",
              "      <td>31.400000</td>\n",
              "      <td>33.299999</td>\n",
              "      <td>31.360001</td>\n",
              "      <td>33.070000</td>\n",
              "      <td>33.070000</td>\n",
              "      <td>59881600</td>\n",
              "    </tr>\n",
              "  </tbody>\n",
              "</table>\n",
              "<p>1119 rows × 7 columns</p>\n",
              "</div>\n",
              "      <button class=\"colab-df-convert\" onclick=\"convertToInteractive('df-a5d1eddf-3cc9-4fb7-b5a1-f6b9b5535422')\"\n",
              "              title=\"Convert this dataframe to an interactive table.\"\n",
              "              style=\"display:none;\">\n",
              "        \n",
              "  <svg xmlns=\"http://www.w3.org/2000/svg\" height=\"24px\"viewBox=\"0 0 24 24\"\n",
              "       width=\"24px\">\n",
              "    <path d=\"M0 0h24v24H0V0z\" fill=\"none\"/>\n",
              "    <path d=\"M18.56 5.44l.94 2.06.94-2.06 2.06-.94-2.06-.94-.94-2.06-.94 2.06-2.06.94zm-11 1L8.5 8.5l.94-2.06 2.06-.94-2.06-.94L8.5 2.5l-.94 2.06-2.06.94zm10 10l.94 2.06.94-2.06 2.06-.94-2.06-.94-.94-2.06-.94 2.06-2.06.94z\"/><path d=\"M17.41 7.96l-1.37-1.37c-.4-.4-.92-.59-1.43-.59-.52 0-1.04.2-1.43.59L10.3 9.45l-7.72 7.72c-.78.78-.78 2.05 0 2.83L4 21.41c.39.39.9.59 1.41.59.51 0 1.02-.2 1.41-.59l7.78-7.78 2.81-2.81c.8-.78.8-2.07 0-2.86zM5.41 20L4 18.59l7.72-7.72 1.47 1.35L5.41 20z\"/>\n",
              "  </svg>\n",
              "      </button>\n",
              "      \n",
              "  <style>\n",
              "    .colab-df-container {\n",
              "      display:flex;\n",
              "      flex-wrap:wrap;\n",
              "      gap: 12px;\n",
              "    }\n",
              "\n",
              "    .colab-df-convert {\n",
              "      background-color: #E8F0FE;\n",
              "      border: none;\n",
              "      border-radius: 50%;\n",
              "      cursor: pointer;\n",
              "      display: none;\n",
              "      fill: #1967D2;\n",
              "      height: 32px;\n",
              "      padding: 0 0 0 0;\n",
              "      width: 32px;\n",
              "    }\n",
              "\n",
              "    .colab-df-convert:hover {\n",
              "      background-color: #E2EBFA;\n",
              "      box-shadow: 0px 1px 2px rgba(60, 64, 67, 0.3), 0px 1px 3px 1px rgba(60, 64, 67, 0.15);\n",
              "      fill: #174EA6;\n",
              "    }\n",
              "\n",
              "    [theme=dark] .colab-df-convert {\n",
              "      background-color: #3B4455;\n",
              "      fill: #D2E3FC;\n",
              "    }\n",
              "\n",
              "    [theme=dark] .colab-df-convert:hover {\n",
              "      background-color: #434B5C;\n",
              "      box-shadow: 0px 1px 3px 1px rgba(0, 0, 0, 0.15);\n",
              "      filter: drop-shadow(0px 1px 2px rgba(0, 0, 0, 0.3));\n",
              "      fill: #FFFFFF;\n",
              "    }\n",
              "  </style>\n",
              "\n",
              "      <script>\n",
              "        const buttonEl =\n",
              "          document.querySelector('#df-a5d1eddf-3cc9-4fb7-b5a1-f6b9b5535422 button.colab-df-convert');\n",
              "        buttonEl.style.display =\n",
              "          google.colab.kernel.accessAllowed ? 'block' : 'none';\n",
              "\n",
              "        async function convertToInteractive(key) {\n",
              "          const element = document.querySelector('#df-a5d1eddf-3cc9-4fb7-b5a1-f6b9b5535422');\n",
              "          const dataTable =\n",
              "            await google.colab.kernel.invokeFunction('convertToInteractive',\n",
              "                                                     [key], {});\n",
              "          if (!dataTable) return;\n",
              "\n",
              "          const docLinkHtml = 'Like what you see? Visit the ' +\n",
              "            '<a target=\"_blank\" href=https://colab.research.google.com/notebooks/data_table.ipynb>data table notebook</a>'\n",
              "            + ' to learn more about interactive tables.';\n",
              "          element.innerHTML = '';\n",
              "          dataTable['output_type'] = 'display_data';\n",
              "          await google.colab.output.renderOutput(dataTable, element);\n",
              "          const docLink = document.createElement('div');\n",
              "          docLink.innerHTML = docLinkHtml;\n",
              "          element.appendChild(docLink);\n",
              "        }\n",
              "      </script>\n",
              "    </div>\n",
              "  </div>\n",
              "  "
            ]
          },
          "metadata": {},
          "execution_count": 4
        }
      ],
      "source": [
        "# Load data\n",
        "df = pd.read_csv('INTC.csv')\n",
        "df"
      ]
    },
    {
      "cell_type": "markdown",
      "source": [
        "### Reset index"
      ],
      "metadata": {
        "id": "muKE0gL7cQs2"
      },
      "id": "muKE0gL7cQs2"
    },
    {
      "cell_type": "code",
      "source": [
        "# Convert the 'Date' column to datetime format\n",
        "df['Date'] = pd.to_datetime(df['Date'])\n",
        "\n",
        "# Set the 'Date' column as the index value\n",
        "df.set_index('Date', inplace=True)"
      ],
      "metadata": {
        "id": "vG4wgXOK2soU"
      },
      "id": "vG4wgXOK2soU",
      "execution_count": 5,
      "outputs": []
    },
    {
      "cell_type": "code",
      "source": [
        "# Select column 'Close'\n",
        "df_Close = df[['Close']]\n",
        "df_Close = df_Close.reset_index(drop=True)"
      ],
      "metadata": {
        "id": "DBeiREWjJ00j"
      },
      "id": "DBeiREWjJ00j",
      "execution_count": 6,
      "outputs": []
    },
    {
      "cell_type": "markdown",
      "source": [
        "### Data normalization"
      ],
      "metadata": {
        "id": "m9vvIvolcch8"
      },
      "id": "m9vvIvolcch8"
    },
    {
      "cell_type": "code",
      "execution_count": 7,
      "id": "b0cde421",
      "metadata": {
        "id": "b0cde421"
      },
      "outputs": [],
      "source": [
        "# Min-max normalization\n",
        "scaler = MinMaxScaler(feature_range=(0, 1))\n",
        "data_scaled = scaler.fit_transform(np.array(df_Close))"
      ]
    },
    {
      "cell_type": "markdown",
      "source": [
        "### Data splitting"
      ],
      "metadata": {
        "id": "WEnB5G3fcqPg"
      },
      "id": "WEnB5G3fcqPg"
    },
    {
      "cell_type": "code",
      "execution_count": 8,
      "id": "f29f31b1",
      "metadata": {
        "id": "f29f31b1"
      },
      "outputs": [],
      "source": [
        "# Split the data into train, validation, and test dataset in a ratio of 6:2:2\n",
        "train_size = int(len(data_scaled) * 0.6)\n",
        "val_size = int(len(data_scaled) * 0.2)\n",
        "test_size = len(data_scaled) - train_size - val_size\n",
        "\n",
        "train_data = data_scaled[: train_size]\n",
        "val_data = data_scaled[train_size : train_size + val_size]\n",
        "test_data = data_scaled[train_size + val_size :]"
      ]
    },
    {
      "cell_type": "markdown",
      "source": [
        "## Model training and testing"
      ],
      "metadata": {
        "id": "-IFkvqKRgmQX"
      },
      "id": "-IFkvqKRgmQX"
    },
    {
      "cell_type": "code",
      "execution_count": 9,
      "id": "224ff73f",
      "metadata": {
        "id": "224ff73f"
      },
      "outputs": [],
      "source": [
        "# Generating data using the window sliding method\n",
        "def create_dataset(data, window_size):\n",
        "    windows, targets = [], []\n",
        "    for i in range(len(data) - window_size):\n",
        "        windows.append(data[i : (i + window_size), 0])\n",
        "        targets.append(data[i + window_size, 0])\n",
        "    return np.array(windows), np.array(targets)"
      ]
    },
    {
      "cell_type": "markdown",
      "source": [
        "### Building TCANs model"
      ],
      "metadata": {
        "id": "hRDWcZQ0jcRX"
      },
      "id": "hRDWcZQ0jcRX"
    },
    {
      "cell_type": "code",
      "execution_count": 10,
      "id": "HxKvihCf3-C1",
      "metadata": {
        "id": "HxKvihCf3-C1"
      },
      "outputs": [],
      "source": [
        "# Constructing sparse attention layer\n",
        "class AttentionLayer(Layer):\n",
        "    def __init__(self, attention_dim):\n",
        "        super(AttentionLayer, self).__init__()\n",
        "        self.attention_dim = attention_dim\n",
        "\n",
        "    def build(self, input_shape):\n",
        "        self.W1 = Dense(units=self.attention_dim, activation='tanh')\n",
        "        self.W2 = Dense(units=1, activation='linear')\n",
        "        super(AttentionLayer, self).build(input_shape)\n",
        "\n",
        "    def call(self, x):\n",
        "        score = self.W2(self.W1(x))\n",
        "        score = Flatten()(score)\n",
        "        score = Activation('softmax')(score)\n",
        "        score = RepeatVector(x.shape[-1])(score)\n",
        "        score = Permute([2, 1])(score)\n",
        "        return Multiply()([x, score])\n",
        "\n",
        "    def compute_output_shape(self, input_shape):\n",
        "        return input_shape"
      ]
    },
    {
      "cell_type": "code",
      "execution_count": 11,
      "id": "d01b50ee",
      "metadata": {
        "id": "d01b50ee"
      },
      "outputs": [],
      "source": [
        "# Build TCAN model\n",
        "def build_tcan(window_size, input_dim=1, tcn_filters=64, tcn_kernel_size=2, dropout_rate=0.2, attention_dim=16):\n",
        "    inputs = Input(shape=(window_size, input_dim))\n",
        "    x = inputs\n",
        "    x = Conv1D(filters=tcn_filters, kernel_size=tcn_kernel_size, padding='same', activation='relu')(x)\n",
        "    x = SpatialDropout1D(rate=dropout_rate)(x)\n",
        "    x = Conv1D(filters=tcn_filters, kernel_size=tcn_kernel_size, padding='same', activation='relu')(x)\n",
        "    x = SpatialDropout1D(rate=dropout_rate)(x)\n",
        "\n",
        "    # Additive Attention\n",
        "    att = AttentionLayer(attention_dim)(x)\n",
        "    max_pool_att = GlobalMaxPooling1D()(att)\n",
        "    max_pool_x = GlobalMaxPooling1D()(x)\n",
        "    x = concatenate([max_pool_att, max_pool_x])\n",
        "\n",
        "    outputs = Dense(1)(x)\n",
        "\n",
        "    model = Model(inputs=inputs, outputs=outputs)\n",
        "    optimizer = Adam(learning_rate=0.001)\n",
        "    model.compile(loss='mean_absolute_error', optimizer=optimizer)\n",
        "\n",
        "    return model"
      ]
    },
    {
      "cell_type": "markdown",
      "source": [
        "### Learning process with combined parameter optimization"
      ],
      "metadata": {
        "id": "kfSIcYf1jyjU"
      },
      "id": "kfSIcYf1jyjU"
    },
    {
      "cell_type": "code",
      "execution_count": null,
      "id": "690ac169",
      "metadata": {
        "id": "690ac169"
      },
      "outputs": [],
      "source": [
        "# Initialization of optimization parameters\n",
        "best_mse = float('inf')\n",
        "best_model = None\n",
        "best_window_size = None\n",
        "best_train_windows = None\n",
        "best_train_targets = None\n",
        "best_test_windows = None\n",
        "best_test_targets = None\n",
        "best_val_windows = None\n",
        "best_val_targets = None\n",
        "best_y_pred = None\n",
        "best_mape = np.inf\n",
        "best_rmse = np.inf\n",
        "best_msle = np.inf"
      ]
    },
    {
      "cell_type": "code",
      "source": [
        "# Define the objective function for Optuna optimization\n",
        "def objective(trial):\n",
        "  global best_mse, best_model, best_window_size, best_train_windows\n",
        "  global best_train_targets, best_test_windows, best_test_targets, best_val_windows\n",
        "  global best_val_targets, best_y_pred, best_mape, best_rmse, best_msle\n",
        "\n",
        "  # Define the search space for hyperparameters\n",
        "  window_size = trial.suggest_int(\"window_size\", 10, 100)\n",
        "  tcn_filters = trial.suggest_int(\"tcn_filters\", 32, 128)\n",
        "  tcn_kernel_size = trial.suggest_int(\"tcn_kernel_size\", 2, 5)\n",
        "  dropout_rate = trial.suggest_float(\"dropout_rate\", 0.1, 0.5)\n",
        "  attention_dim = trial.suggest_int(\"attention_dim\", 8, 32)\n",
        "\n",
        "  # Build the TCAN model with the suggested hyperparameters\n",
        "  model = build_tcan(window_size,\n",
        "                     tcn_filters = tcn_filters,\n",
        "                     tcn_kernel_size = tcn_kernel_size,\n",
        "                     dropout_rate = dropout_rate,\n",
        "                     attention_dim = attention_dim)\n",
        "\n",
        "  val_last_window_size = val_data[-window_size:]\n",
        "  test_data_extended = np.concatenate((val_last_window_size, test_data), axis=0)\n",
        "\n",
        "  train_windows, train_targets = create_dataset(train_data, window_size)\n",
        "  val_windows, val_targets = create_dataset(val_data, window_size)\n",
        "  test_windows, test_targets = create_dataset(test_data_extended, window_size)\n",
        "\n",
        "  # Train the model\n",
        "  early_stop = EarlyStopping(monitor='val_loss', patience=5)\n",
        "  model.fit(train_windows, train_targets,\n",
        "            epochs=50, batch_size=32,\n",
        "            validation_data=(val_windows, val_targets),\n",
        "            shuffle=False, callbacks=[early_stop], verbose=0)\n",
        "\n",
        "  # Testing the model on Test dataset\n",
        "  y_pred = model.predict(test_windows)\n",
        "\n",
        "  # Evaluate on MAPE, RMSE, MSLE\n",
        "  temp_test_targets = test_targets\n",
        "  temp_test_targets = scaler.inverse_transform(temp_test_targets.reshape(-1, 1))\n",
        "  y_pred = scaler.inverse_transform(y_pred)\n",
        "\n",
        "  mse = mean_squared_error(temp_test_targets, y_pred)\n",
        "  rmse = np.sqrt(mse)\n",
        "  mape = mean_absolute_percentage_error(temp_test_targets, y_pred)\n",
        "  msle = mean_squared_log_error(temp_test_targets, y_pred)\n",
        "\n",
        "  # Save the best model and related information\n",
        "  if mse < best_mse or best_mse is None:\n",
        "    best_model = model\n",
        "    best_window_size = window_size\n",
        "    best_y_pred = y_pred\n",
        "    best_train_windows = train_windows\n",
        "    best_train_targets = train_targets\n",
        "    best_test_windows = test_windows\n",
        "    best_test_targets = test_targets\n",
        "    best_val_windows = val_windows\n",
        "    best_val_targets = val_targets\n",
        "    best_rmse = rmse\n",
        "    best_mape = mape\n",
        "    best_msle = msle\n",
        "    best_mse = mse\n",
        "\n",
        "  return mse"
      ],
      "metadata": {
        "id": "m3MDjWCd-kl8"
      },
      "id": "m3MDjWCd-kl8",
      "execution_count": null,
      "outputs": []
    },
    {
      "cell_type": "code",
      "source": [
        "# Define the search space for the hyperparameters\n",
        "study = optuna.create_study(direction=\"minimize\")\n",
        "study.optimize(objective, n_trials=100)"
      ],
      "metadata": {
        "colab": {
          "base_uri": "https://localhost:8080/"
        },
        "id": "tAQaYsmr-mkW",
        "outputId": "88c3bc34-ea50-4f5a-e9b0-56c8401a975b"
      },
      "id": "tAQaYsmr-mkW",
      "execution_count": null,
      "outputs": [
        {
          "output_type": "stream",
          "name": "stderr",
          "text": [
            "[I 2023-06-17 01:23:15,928] A new study created in memory with name: no-name-dea391ca-7ae8-4d3c-a988-3028d2841245\n"
          ]
        },
        {
          "output_type": "stream",
          "name": "stdout",
          "text": [
            "8/8 [==============================] - 1s 8ms/step\n"
          ]
        },
        {
          "output_type": "stream",
          "name": "stderr",
          "text": [
            "[I 2023-06-17 01:23:31,241] Trial 0 finished with value: 30.27921853792397 and parameters: {'window_size': 31, 'tcn_filters': 70, 'tcn_kernel_size': 5, 'dropout_rate': 0.3493115720023663, 'attention_dim': 15}. Best is trial 0 with value: 30.27921853792397.\n"
          ]
        },
        {
          "output_type": "stream",
          "name": "stdout",
          "text": [
            "8/8 [==============================] - 0s 4ms/step\n"
          ]
        },
        {
          "output_type": "stream",
          "name": "stderr",
          "text": [
            "[I 2023-06-17 01:23:39,611] Trial 1 finished with value: 65.82594049112322 and parameters: {'window_size': 16, 'tcn_filters': 50, 'tcn_kernel_size': 4, 'dropout_rate': 0.43044063793612264, 'attention_dim': 29}. Best is trial 0 with value: 30.27921853792397.\n"
          ]
        },
        {
          "output_type": "stream",
          "name": "stdout",
          "text": [
            "8/8 [==============================] - 0s 4ms/step\n"
          ]
        },
        {
          "output_type": "stream",
          "name": "stderr",
          "text": [
            "[I 2023-06-17 01:23:49,109] Trial 2 finished with value: 66.64753048738656 and parameters: {'window_size': 44, 'tcn_filters': 50, 'tcn_kernel_size': 5, 'dropout_rate': 0.3142572024043999, 'attention_dim': 26}. Best is trial 0 with value: 30.27921853792397.\n"
          ]
        },
        {
          "output_type": "stream",
          "name": "stdout",
          "text": [
            "8/8 [==============================] - 0s 4ms/step\n"
          ]
        },
        {
          "output_type": "stream",
          "name": "stderr",
          "text": [
            "[I 2023-06-17 01:23:57,721] Trial 3 finished with value: 35.323761930242455 and parameters: {'window_size': 16, 'tcn_filters': 108, 'tcn_kernel_size': 4, 'dropout_rate': 0.34706826817530256, 'attention_dim': 17}. Best is trial 0 with value: 30.27921853792397.\n"
          ]
        },
        {
          "output_type": "stream",
          "name": "stdout",
          "text": [
            "8/8 [==============================] - 0s 11ms/step\n"
          ]
        },
        {
          "output_type": "stream",
          "name": "stderr",
          "text": [
            "[I 2023-06-17 01:24:18,626] Trial 4 finished with value: 23.669169432510376 and parameters: {'window_size': 78, 'tcn_filters': 123, 'tcn_kernel_size': 5, 'dropout_rate': 0.3533211979556231, 'attention_dim': 13}. Best is trial 4 with value: 23.669169432510376.\n"
          ]
        },
        {
          "output_type": "stream",
          "name": "stdout",
          "text": [
            "8/8 [==============================] - 0s 6ms/step\n"
          ]
        },
        {
          "output_type": "stream",
          "name": "stderr",
          "text": [
            "[I 2023-06-17 01:24:30,221] Trial 5 finished with value: 57.360173779561045 and parameters: {'window_size': 42, 'tcn_filters': 106, 'tcn_kernel_size': 3, 'dropout_rate': 0.4627040515200982, 'attention_dim': 31}. Best is trial 4 with value: 23.669169432510376.\n"
          ]
        },
        {
          "output_type": "stream",
          "name": "stdout",
          "text": [
            "8/8 [==============================] - 0s 5ms/step\n"
          ]
        },
        {
          "output_type": "stream",
          "name": "stderr",
          "text": [
            "[I 2023-06-17 01:24:42,328] Trial 6 finished with value: 89.53222625273858 and parameters: {'window_size': 86, 'tcn_filters': 52, 'tcn_kernel_size': 4, 'dropout_rate': 0.4793936367519336, 'attention_dim': 24}. Best is trial 4 with value: 23.669169432510376.\n"
          ]
        },
        {
          "output_type": "stream",
          "name": "stdout",
          "text": [
            "8/8 [==============================] - 0s 6ms/step\n"
          ]
        },
        {
          "output_type": "stream",
          "name": "stderr",
          "text": [
            "[I 2023-06-17 01:24:53,800] Trial 7 finished with value: 41.70577568512461 and parameters: {'window_size': 95, 'tcn_filters': 72, 'tcn_kernel_size': 4, 'dropout_rate': 0.43170114861566733, 'attention_dim': 16}. Best is trial 4 with value: 23.669169432510376.\n"
          ]
        },
        {
          "output_type": "stream",
          "name": "stdout",
          "text": [
            "8/8 [==============================] - 0s 19ms/step\n"
          ]
        },
        {
          "output_type": "stream",
          "name": "stderr",
          "text": [
            "[I 2023-06-17 01:25:16,894] Trial 8 finished with value: 38.744573349392624 and parameters: {'window_size': 87, 'tcn_filters': 128, 'tcn_kernel_size': 5, 'dropout_rate': 0.34594575270703265, 'attention_dim': 22}. Best is trial 4 with value: 23.669169432510376.\n"
          ]
        },
        {
          "output_type": "stream",
          "name": "stdout",
          "text": [
            "8/8 [==============================] - 0s 12ms/step\n"
          ]
        },
        {
          "output_type": "stream",
          "name": "stderr",
          "text": [
            "[I 2023-06-17 01:25:33,040] Trial 9 finished with value: 23.982063386053426 and parameters: {'window_size': 76, 'tcn_filters': 88, 'tcn_kernel_size': 5, 'dropout_rate': 0.2754739833330946, 'attention_dim': 15}. Best is trial 4 with value: 23.669169432510376.\n"
          ]
        },
        {
          "output_type": "stream",
          "name": "stdout",
          "text": [
            "8/8 [==============================] - 0s 11ms/step\n"
          ]
        },
        {
          "output_type": "stream",
          "name": "stderr",
          "text": [
            "[I 2023-06-17 01:25:45,983] Trial 10 finished with value: 17.062490625774117 and parameters: {'window_size': 66, 'tcn_filters': 124, 'tcn_kernel_size': 2, 'dropout_rate': 0.16179557274217193, 'attention_dim': 9}. Best is trial 10 with value: 17.062490625774117.\n"
          ]
        },
        {
          "output_type": "stream",
          "name": "stdout",
          "text": [
            "8/8 [==============================] - 0s 6ms/step\n"
          ]
        },
        {
          "output_type": "stream",
          "name": "stderr",
          "text": [
            "[I 2023-06-17 01:25:58,881] Trial 11 finished with value: 21.453401840306615 and parameters: {'window_size': 67, 'tcn_filters': 128, 'tcn_kernel_size': 2, 'dropout_rate': 0.1386492380517726, 'attention_dim': 8}. Best is trial 10 with value: 17.062490625774117.\n"
          ]
        },
        {
          "output_type": "stream",
          "name": "stdout",
          "text": [
            "8/8 [==============================] - 0s 6ms/step\n"
          ]
        },
        {
          "output_type": "stream",
          "name": "stderr",
          "text": [
            "[I 2023-06-17 01:26:12,428] Trial 12 finished with value: 13.461845361894868 and parameters: {'window_size': 62, 'tcn_filters': 109, 'tcn_kernel_size': 2, 'dropout_rate': 0.12581668166507756, 'attention_dim': 8}. Best is trial 12 with value: 13.461845361894868.\n"
          ]
        },
        {
          "output_type": "stream",
          "name": "stdout",
          "text": [
            "8/8 [==============================] - 0s 6ms/step\n"
          ]
        },
        {
          "output_type": "stream",
          "name": "stderr",
          "text": [
            "[I 2023-06-17 01:26:24,912] Trial 13 finished with value: 12.255525635111995 and parameters: {'window_size': 58, 'tcn_filters': 105, 'tcn_kernel_size': 2, 'dropout_rate': 0.10288204112888172, 'attention_dim': 8}. Best is trial 13 with value: 12.255525635111995.\n"
          ]
        },
        {
          "output_type": "stream",
          "name": "stdout",
          "text": [
            "8/8 [==============================] - 0s 6ms/step\n"
          ]
        },
        {
          "output_type": "stream",
          "name": "stderr",
          "text": [
            "[I 2023-06-17 01:26:37,102] Trial 14 finished with value: 10.006244191461992 and parameters: {'window_size': 51, 'tcn_filters': 98, 'tcn_kernel_size': 2, 'dropout_rate': 0.10914337274749114, 'attention_dim': 11}. Best is trial 14 with value: 10.006244191461992.\n"
          ]
        },
        {
          "output_type": "stream",
          "name": "stdout",
          "text": [
            "8/8 [==============================] - 0s 5ms/step\n"
          ]
        },
        {
          "output_type": "stream",
          "name": "stderr",
          "text": [
            "[I 2023-06-17 01:26:49,247] Trial 15 finished with value: 9.254544663222509 and parameters: {'window_size': 50, 'tcn_filters': 91, 'tcn_kernel_size': 3, 'dropout_rate': 0.1037062121846968, 'attention_dim': 12}. Best is trial 15 with value: 9.254544663222509.\n"
          ]
        },
        {
          "output_type": "stream",
          "name": "stdout",
          "text": [
            "8/8 [==============================] - 0s 5ms/step\n"
          ]
        },
        {
          "output_type": "stream",
          "name": "stderr",
          "text": [
            "[I 2023-06-17 01:27:01,388] Trial 16 finished with value: 32.99677988985026 and parameters: {'window_size': 45, 'tcn_filters': 88, 'tcn_kernel_size': 3, 'dropout_rate': 0.18029046395611342, 'attention_dim': 12}. Best is trial 15 with value: 9.254544663222509.\n"
          ]
        },
        {
          "output_type": "stream",
          "name": "stdout",
          "text": [
            "8/8 [==============================] - 0s 3ms/step\n"
          ]
        },
        {
          "output_type": "stream",
          "name": "stderr",
          "text": [
            "[I 2023-06-17 01:27:04,485] Trial 17 finished with value: 72.8353706731356 and parameters: {'window_size': 31, 'tcn_filters': 32, 'tcn_kernel_size': 3, 'dropout_rate': 0.20016000218763152, 'attention_dim': 19}. Best is trial 15 with value: 9.254544663222509.\n"
          ]
        },
        {
          "output_type": "stream",
          "name": "stdout",
          "text": [
            "8/8 [==============================] - 0s 5ms/step\n"
          ]
        },
        {
          "output_type": "stream",
          "name": "stderr",
          "text": [
            "[I 2023-06-17 01:27:16,683] Trial 18 finished with value: 8.31713616749879 and parameters: {'window_size': 51, 'tcn_filters': 94, 'tcn_kernel_size': 3, 'dropout_rate': 0.10320873795480628, 'attention_dim': 12}. Best is trial 18 with value: 8.31713616749879.\n"
          ]
        },
        {
          "output_type": "stream",
          "name": "stdout",
          "text": [
            "8/8 [==============================] - 0s 5ms/step\n"
          ]
        },
        {
          "output_type": "stream",
          "name": "stderr",
          "text": [
            "[I 2023-06-17 01:27:28,863] Trial 19 finished with value: 16.634924982488748 and parameters: {'window_size': 29, 'tcn_filters': 82, 'tcn_kernel_size': 3, 'dropout_rate': 0.2122738352256472, 'attention_dim': 19}. Best is trial 18 with value: 8.31713616749879.\n"
          ]
        },
        {
          "output_type": "stream",
          "name": "stdout",
          "text": [
            "8/8 [==============================] - 0s 5ms/step\n"
          ]
        },
        {
          "output_type": "stream",
          "name": "stderr",
          "text": [
            "[I 2023-06-17 01:27:41,794] Trial 20 finished with value: 44.57189839538987 and parameters: {'window_size': 53, 'tcn_filters': 65, 'tcn_kernel_size': 3, 'dropout_rate': 0.23912781484675436, 'attention_dim': 13}. Best is trial 18 with value: 8.31713616749879.\n"
          ]
        },
        {
          "output_type": "stream",
          "name": "stdout",
          "text": [
            "8/8 [==============================] - 0s 10ms/step\n"
          ]
        },
        {
          "output_type": "stream",
          "name": "stderr",
          "text": [
            "[I 2023-06-17 01:27:54,290] Trial 21 finished with value: 17.89465710373952 and parameters: {'window_size': 52, 'tcn_filters': 94, 'tcn_kernel_size': 2, 'dropout_rate': 0.1050084841942752, 'attention_dim': 11}. Best is trial 18 with value: 8.31713616749879.\n"
          ]
        },
        {
          "output_type": "stream",
          "name": "stdout",
          "text": [
            "8/8 [==============================] - 0s 5ms/step\n"
          ]
        },
        {
          "output_type": "stream",
          "name": "stderr",
          "text": [
            "[I 2023-06-17 01:28:07,312] Trial 22 finished with value: 13.202776052717725 and parameters: {'window_size': 39, 'tcn_filters': 97, 'tcn_kernel_size': 3, 'dropout_rate': 0.1454277677077724, 'attention_dim': 11}. Best is trial 18 with value: 8.31713616749879.\n"
          ]
        },
        {
          "output_type": "stream",
          "name": "stdout",
          "text": [
            "8/8 [==============================] - 0s 6ms/step\n"
          ]
        },
        {
          "output_type": "stream",
          "name": "stderr",
          "text": [
            "[I 2023-06-17 01:28:19,991] Trial 23 finished with value: 29.41026568867018 and parameters: {'window_size': 49, 'tcn_filters': 98, 'tcn_kernel_size': 2, 'dropout_rate': 0.16489905566277296, 'attention_dim': 10}. Best is trial 18 with value: 8.31713616749879.\n"
          ]
        },
        {
          "output_type": "stream",
          "name": "stdout",
          "text": [
            "8/8 [==============================] - 0s 5ms/step\n"
          ]
        },
        {
          "output_type": "stream",
          "name": "stderr",
          "text": [
            "[I 2023-06-17 01:28:32,141] Trial 24 finished with value: 7.493967399908384 and parameters: {'window_size': 36, 'tcn_filters': 117, 'tcn_kernel_size': 3, 'dropout_rate': 0.10814284842325915, 'attention_dim': 14}. Best is trial 24 with value: 7.493967399908384.\n"
          ]
        },
        {
          "output_type": "stream",
          "name": "stdout",
          "text": [
            "8/8 [==============================] - 0s 6ms/step\n"
          ]
        },
        {
          "output_type": "stream",
          "name": "stderr",
          "text": [
            "[I 2023-06-17 01:28:38,632] Trial 25 finished with value: 8.502712724629378 and parameters: {'window_size': 27, 'tcn_filters': 114, 'tcn_kernel_size': 3, 'dropout_rate': 0.13292739414068283, 'attention_dim': 14}. Best is trial 24 with value: 7.493967399908384.\n"
          ]
        },
        {
          "output_type": "stream",
          "name": "stdout",
          "text": [
            "8/8 [==============================] - 0s 4ms/step\n"
          ]
        },
        {
          "output_type": "stream",
          "name": "stderr",
          "text": [
            "[I 2023-06-17 01:28:48,599] Trial 26 finished with value: 8.287544470429166 and parameters: {'window_size': 23, 'tcn_filters': 116, 'tcn_kernel_size': 3, 'dropout_rate': 0.146788394270864, 'attention_dim': 17}. Best is trial 24 with value: 7.493967399908384.\n"
          ]
        },
        {
          "output_type": "stream",
          "name": "stdout",
          "text": [
            "8/8 [==============================] - 0s 4ms/step\n"
          ]
        },
        {
          "output_type": "stream",
          "name": "stderr",
          "text": [
            "[I 2023-06-17 01:29:00,784] Trial 27 finished with value: 10.533677645647998 and parameters: {'window_size': 10, 'tcn_filters': 116, 'tcn_kernel_size': 4, 'dropout_rate': 0.16570690718212744, 'attention_dim': 17}. Best is trial 24 with value: 7.493967399908384.\n"
          ]
        },
        {
          "output_type": "stream",
          "name": "stdout",
          "text": [
            "8/8 [==============================] - 1s 5ms/step\n"
          ]
        },
        {
          "output_type": "stream",
          "name": "stderr",
          "text": [
            "[I 2023-06-17 01:29:13,591] Trial 28 finished with value: 16.091910269185917 and parameters: {'window_size': 22, 'tcn_filters': 116, 'tcn_kernel_size': 3, 'dropout_rate': 0.20165961459873466, 'attention_dim': 20}. Best is trial 24 with value: 7.493967399908384.\n"
          ]
        },
        {
          "output_type": "stream",
          "name": "stdout",
          "text": [
            "8/8 [==============================] - 0s 4ms/step\n"
          ]
        },
        {
          "output_type": "stream",
          "name": "stderr",
          "text": [
            "[I 2023-06-17 01:29:25,907] Trial 29 finished with value: 9.13437919760302 and parameters: {'window_size': 36, 'tcn_filters': 77, 'tcn_kernel_size': 4, 'dropout_rate': 0.14191549552732685, 'attention_dim': 22}. Best is trial 24 with value: 7.493967399908384.\n"
          ]
        },
        {
          "output_type": "stream",
          "name": "stdout",
          "text": [
            "8/8 [==============================] - 0s 5ms/step\n"
          ]
        },
        {
          "output_type": "stream",
          "name": "stderr",
          "text": [
            "[I 2023-06-17 01:29:39,588] Trial 30 finished with value: 20.695980573087354 and parameters: {'window_size': 35, 'tcn_filters': 119, 'tcn_kernel_size': 3, 'dropout_rate': 0.1827123164406676, 'attention_dim': 15}. Best is trial 24 with value: 7.493967399908384.\n"
          ]
        },
        {
          "output_type": "stream",
          "name": "stdout",
          "text": [
            "8/8 [==============================] - 0s 4ms/step\n"
          ]
        },
        {
          "output_type": "stream",
          "name": "stderr",
          "text": [
            "[I 2023-06-17 01:29:45,879] Trial 31 finished with value: 5.600099903635085 and parameters: {'window_size': 25, 'tcn_filters': 114, 'tcn_kernel_size': 3, 'dropout_rate': 0.13175479750070856, 'attention_dim': 14}. Best is trial 31 with value: 5.600099903635085.\n"
          ]
        },
        {
          "output_type": "stream",
          "name": "stdout",
          "text": [
            "8/8 [==============================] - 0s 4ms/step\n"
          ]
        },
        {
          "output_type": "stream",
          "name": "stderr",
          "text": [
            "[I 2023-06-17 01:29:53,936] Trial 32 finished with value: 8.821160008725705 and parameters: {'window_size': 22, 'tcn_filters': 104, 'tcn_kernel_size': 3, 'dropout_rate': 0.12666372566802978, 'attention_dim': 17}. Best is trial 31 with value: 5.600099903635085.\n"
          ]
        },
        {
          "output_type": "stream",
          "name": "stdout",
          "text": [
            "8/8 [==============================] - 0s 4ms/step\n"
          ]
        },
        {
          "output_type": "stream",
          "name": "stderr",
          "text": [
            "[I 2023-06-17 01:30:02,311] Trial 33 finished with value: 8.28370451946223 and parameters: {'window_size': 24, 'tcn_filters': 111, 'tcn_kernel_size': 3, 'dropout_rate': 0.15308457050189944, 'attention_dim': 14}. Best is trial 31 with value: 5.600099903635085.\n"
          ]
        },
        {
          "output_type": "stream",
          "name": "stdout",
          "text": [
            "8/8 [==============================] - 0s 5ms/step\n"
          ]
        },
        {
          "output_type": "stream",
          "name": "stderr",
          "text": [
            "[I 2023-06-17 01:30:15,103] Trial 34 finished with value: 18.897529140000973 and parameters: {'window_size': 21, 'tcn_filters': 111, 'tcn_kernel_size': 3, 'dropout_rate': 0.15404749866507955, 'attention_dim': 18}. Best is trial 31 with value: 5.600099903635085.\n"
          ]
        },
        {
          "output_type": "stream",
          "name": "stdout",
          "text": [
            "8/8 [==============================] - 0s 4ms/step\n"
          ]
        },
        {
          "output_type": "stream",
          "name": "stderr",
          "text": [
            "[I 2023-06-17 01:30:27,237] Trial 35 finished with value: 22.818985289623395 and parameters: {'window_size': 10, 'tcn_filters': 121, 'tcn_kernel_size': 4, 'dropout_rate': 0.23331451147037274, 'attention_dim': 15}. Best is trial 31 with value: 5.600099903635085.\n"
          ]
        },
        {
          "output_type": "stream",
          "name": "stdout",
          "text": [
            "8/8 [==============================] - 0s 4ms/step\n"
          ]
        },
        {
          "output_type": "stream",
          "name": "stderr",
          "text": [
            "[I 2023-06-17 01:30:32,486] Trial 36 finished with value: 5.302183996812009 and parameters: {'window_size': 15, 'tcn_filters': 102, 'tcn_kernel_size': 4, 'dropout_rate': 0.1812897759013061, 'attention_dim': 14}. Best is trial 36 with value: 5.302183996812009.\n"
          ]
        },
        {
          "output_type": "stream",
          "name": "stdout",
          "text": [
            "8/8 [==============================] - 0s 4ms/step\n"
          ]
        },
        {
          "output_type": "stream",
          "name": "stderr",
          "text": [
            "[I 2023-06-17 01:30:45,994] Trial 37 finished with value: 15.002957334514019 and parameters: {'window_size': 16, 'tcn_filters': 101, 'tcn_kernel_size': 4, 'dropout_rate': 0.18210879398060148, 'attention_dim': 28}. Best is trial 36 with value: 5.302183996812009.\n"
          ]
        },
        {
          "output_type": "stream",
          "name": "stdout",
          "text": [
            "8/8 [==============================] - 0s 4ms/step\n"
          ]
        },
        {
          "output_type": "stream",
          "name": "stderr",
          "text": [
            "[I 2023-06-17 01:30:56,139] Trial 38 finished with value: 12.565806126506006 and parameters: {'window_size': 16, 'tcn_filters': 110, 'tcn_kernel_size': 4, 'dropout_rate': 0.1302860361417965, 'attention_dim': 14}. Best is trial 36 with value: 5.302183996812009.\n"
          ]
        },
        {
          "output_type": "stream",
          "name": "stdout",
          "text": [
            "8/8 [==============================] - 0s 6ms/step\n"
          ]
        },
        {
          "output_type": "stream",
          "name": "stderr",
          "text": [
            "[I 2023-06-17 01:31:07,036] Trial 39 finished with value: 11.906168265012493 and parameters: {'window_size': 26, 'tcn_filters': 123, 'tcn_kernel_size': 4, 'dropout_rate': 0.17582277092465873, 'attention_dim': 22}. Best is trial 36 with value: 5.302183996812009.\n"
          ]
        },
        {
          "output_type": "stream",
          "name": "stdout",
          "text": [
            "8/8 [==============================] - 0s 7ms/step\n"
          ]
        },
        {
          "output_type": "stream",
          "name": "stderr",
          "text": [
            "[I 2023-06-17 01:31:22,504] Trial 40 finished with value: 14.733955082159182 and parameters: {'window_size': 33, 'tcn_filters': 105, 'tcn_kernel_size': 5, 'dropout_rate': 0.15618688326682884, 'attention_dim': 14}. Best is trial 36 with value: 5.302183996812009.\n"
          ]
        },
        {
          "output_type": "stream",
          "name": "stdout",
          "text": [
            "8/8 [==============================] - 0s 4ms/step\n"
          ]
        },
        {
          "output_type": "stream",
          "name": "stderr",
          "text": [
            "[I 2023-06-17 01:31:34,667] Trial 41 finished with value: 8.456364306401257 and parameters: {'window_size': 21, 'tcn_filters': 114, 'tcn_kernel_size': 3, 'dropout_rate': 0.12376239014787996, 'attention_dim': 16}. Best is trial 36 with value: 5.302183996812009.\n"
          ]
        },
        {
          "output_type": "stream",
          "name": "stdout",
          "text": [
            "8/8 [==============================] - 0s 7ms/step\n"
          ]
        },
        {
          "output_type": "stream",
          "name": "stderr",
          "text": [
            "[I 2023-06-17 01:31:46,962] Trial 42 finished with value: 20.06736223851596 and parameters: {'window_size': 25, 'tcn_filters': 118, 'tcn_kernel_size': 3, 'dropout_rate': 0.14965095875851622, 'attention_dim': 18}. Best is trial 36 with value: 5.302183996812009.\n"
          ]
        },
        {
          "output_type": "stream",
          "name": "stdout",
          "text": [
            "8/8 [==============================] - 0s 4ms/step\n"
          ]
        },
        {
          "output_type": "stream",
          "name": "stderr",
          "text": [
            "[I 2023-06-17 01:31:53,961] Trial 43 finished with value: 11.59645309414025 and parameters: {'window_size': 14, 'tcn_filters': 125, 'tcn_kernel_size': 3, 'dropout_rate': 0.15269544425331177, 'attention_dim': 16}. Best is trial 36 with value: 5.302183996812009.\n"
          ]
        },
        {
          "output_type": "stream",
          "name": "stdout",
          "text": [
            "8/8 [==============================] - 0s 6ms/step\n"
          ]
        },
        {
          "output_type": "stream",
          "name": "stderr",
          "text": [
            "[I 2023-06-17 01:32:07,241] Trial 44 finished with value: 10.726690515515644 and parameters: {'window_size': 40, 'tcn_filters': 110, 'tcn_kernel_size': 4, 'dropout_rate': 0.12564642479146043, 'attention_dim': 13}. Best is trial 36 with value: 5.302183996812009.\n"
          ]
        },
        {
          "output_type": "stream",
          "name": "stdout",
          "text": [
            "8/8 [==============================] - 0s 5ms/step\n"
          ]
        },
        {
          "output_type": "stream",
          "name": "stderr",
          "text": [
            "[I 2023-06-17 01:32:15,242] Trial 45 finished with value: 7.912067630129874 and parameters: {'window_size': 16, 'tcn_filters': 103, 'tcn_kernel_size': 3, 'dropout_rate': 0.11888601601708314, 'attention_dim': 16}. Best is trial 36 with value: 5.302183996812009.\n"
          ]
        },
        {
          "output_type": "stream",
          "name": "stdout",
          "text": [
            "8/8 [==============================] - 0s 4ms/step\n"
          ]
        },
        {
          "output_type": "stream",
          "name": "stderr",
          "text": [
            "[I 2023-06-17 01:32:22,492] Trial 46 finished with value: 12.231303668111181 and parameters: {'window_size': 18, 'tcn_filters': 102, 'tcn_kernel_size': 4, 'dropout_rate': 0.11658569822403339, 'attention_dim': 10}. Best is trial 36 with value: 5.302183996812009.\n"
          ]
        },
        {
          "output_type": "stream",
          "name": "stdout",
          "text": [
            "8/8 [==============================] - 0s 4ms/step\n"
          ]
        },
        {
          "output_type": "stream",
          "name": "stderr",
          "text": [
            "[I 2023-06-17 01:32:34,730] Trial 47 finished with value: 12.53332344249057 and parameters: {'window_size': 12, 'tcn_filters': 83, 'tcn_kernel_size': 3, 'dropout_rate': 0.11849813013605207, 'attention_dim': 14}. Best is trial 36 with value: 5.302183996812009.\n"
          ]
        },
        {
          "output_type": "stream",
          "name": "stdout",
          "text": [
            "8/8 [==============================] - 0s 7ms/step\n"
          ]
        },
        {
          "output_type": "stream",
          "name": "stderr",
          "text": [
            "[I 2023-06-17 01:32:41,976] Trial 48 finished with value: 8.580978222021512 and parameters: {'window_size': 19, 'tcn_filters': 65, 'tcn_kernel_size': 4, 'dropout_rate': 0.13667112858966843, 'attention_dim': 20}. Best is trial 36 with value: 5.302183996812009.\n"
          ]
        },
        {
          "output_type": "stream",
          "name": "stdout",
          "text": [
            "8/8 [==============================] - 0s 4ms/step\n"
          ]
        },
        {
          "output_type": "stream",
          "name": "stderr",
          "text": [
            "[I 2023-06-17 01:32:53,475] Trial 49 finished with value: 11.440721436312137 and parameters: {'window_size': 28, 'tcn_filters': 109, 'tcn_kernel_size': 2, 'dropout_rate': 0.16850783360051105, 'attention_dim': 32}. Best is trial 36 with value: 5.302183996812009.\n"
          ]
        },
        {
          "output_type": "stream",
          "name": "stdout",
          "text": [
            "8/8 [==============================] - 0s 6ms/step\n"
          ]
        },
        {
          "output_type": "stream",
          "name": "stderr",
          "text": [
            "[I 2023-06-17 01:33:16,648] Trial 50 finished with value: 23.204081790568292 and parameters: {'window_size': 44, 'tcn_filters': 101, 'tcn_kernel_size': 3, 'dropout_rate': 0.1031319460736865, 'attention_dim': 15}. Best is trial 36 with value: 5.302183996812009.\n"
          ]
        },
        {
          "output_type": "stream",
          "name": "stdout",
          "text": [
            "8/8 [==============================] - 0s 4ms/step\n"
          ]
        },
        {
          "output_type": "stream",
          "name": "stderr",
          "text": [
            "[I 2023-06-17 01:33:29,258] Trial 51 finished with value: 34.35937744911946 and parameters: {'window_size': 25, 'tcn_filters': 112, 'tcn_kernel_size': 3, 'dropout_rate': 0.14640871521212415, 'attention_dim': 16}. Best is trial 36 with value: 5.302183996812009.\n"
          ]
        },
        {
          "output_type": "stream",
          "name": "stdout",
          "text": [
            "8/8 [==============================] - 0s 6ms/step\n"
          ]
        },
        {
          "output_type": "stream",
          "name": "stderr",
          "text": [
            "[I 2023-06-17 01:33:39,988] Trial 52 finished with value: 11.409014257768781 and parameters: {'window_size': 32, 'tcn_filters': 128, 'tcn_kernel_size': 3, 'dropout_rate': 0.11880404456753094, 'attention_dim': 17}. Best is trial 36 with value: 5.302183996812009.\n"
          ]
        },
        {
          "output_type": "stream",
          "name": "stdout",
          "text": [
            "8/8 [==============================] - 0s 4ms/step\n"
          ]
        },
        {
          "output_type": "stream",
          "name": "stderr",
          "text": [
            "[I 2023-06-17 01:33:49,365] Trial 53 finished with value: 13.351430634672163 and parameters: {'window_size': 14, 'tcn_filters': 120, 'tcn_kernel_size': 3, 'dropout_rate': 0.1338843297358932, 'attention_dim': 13}. Best is trial 36 with value: 5.302183996812009.\n"
          ]
        },
        {
          "output_type": "stream",
          "name": "stdout",
          "text": [
            "8/8 [==============================] - 0s 4ms/step\n"
          ]
        },
        {
          "output_type": "stream",
          "name": "stderr",
          "text": [
            "[I 2023-06-17 01:33:57,590] Trial 54 finished with value: 15.735317593886368 and parameters: {'window_size': 24, 'tcn_filters': 107, 'tcn_kernel_size': 3, 'dropout_rate': 0.19326757248238113, 'attention_dim': 18}. Best is trial 36 with value: 5.302183996812009.\n"
          ]
        },
        {
          "output_type": "stream",
          "name": "stdout",
          "text": [
            "8/8 [==============================] - 0s 17ms/step\n"
          ]
        },
        {
          "output_type": "stream",
          "name": "stderr",
          "text": [
            "[I 2023-06-17 01:34:20,367] Trial 55 finished with value: 14.315836904721332 and parameters: {'window_size': 100, 'tcn_filters': 117, 'tcn_kernel_size': 3, 'dropout_rate': 0.10043099282003044, 'attention_dim': 12}. Best is trial 36 with value: 5.302183996812009.\n"
          ]
        },
        {
          "output_type": "stream",
          "name": "stdout",
          "text": [
            "8/8 [==============================] - 0s 7ms/step\n"
          ]
        },
        {
          "output_type": "stream",
          "name": "stderr",
          "text": [
            "[I 2023-06-17 01:34:33,123] Trial 56 finished with value: 8.309709239191628 and parameters: {'window_size': 30, 'tcn_filters': 123, 'tcn_kernel_size': 3, 'dropout_rate': 0.16533410406163773, 'attention_dim': 15}. Best is trial 36 with value: 5.302183996812009.\n"
          ]
        },
        {
          "output_type": "stream",
          "name": "stdout",
          "text": [
            "8/8 [==============================] - 0s 3ms/step\n"
          ]
        },
        {
          "output_type": "stream",
          "name": "stderr",
          "text": [
            "[I 2023-06-17 01:34:40,851] Trial 57 finished with value: 12.159199709360966 and parameters: {'window_size': 17, 'tcn_filters': 94, 'tcn_kernel_size': 2, 'dropout_rate': 0.14035766575198572, 'attention_dim': 19}. Best is trial 36 with value: 5.302183996812009.\n"
          ]
        },
        {
          "output_type": "stream",
          "name": "stdout",
          "text": [
            "8/8 [==============================] - 0s 4ms/step\n"
          ]
        },
        {
          "output_type": "stream",
          "name": "stderr",
          "text": [
            "[I 2023-06-17 01:34:52,970] Trial 58 finished with value: 10.687207460685304 and parameters: {'window_size': 20, 'tcn_filters': 113, 'tcn_kernel_size': 3, 'dropout_rate': 0.15715288992830653, 'attention_dim': 13}. Best is trial 36 with value: 5.302183996812009.\n"
          ]
        },
        {
          "output_type": "stream",
          "name": "stdout",
          "text": [
            "8/8 [==============================] - 0s 5ms/step\n"
          ]
        },
        {
          "output_type": "stream",
          "name": "stderr",
          "text": [
            "[I 2023-06-17 01:35:00,087] Trial 59 finished with value: 12.718184422344972 and parameters: {'window_size': 38, 'tcn_filters': 43, 'tcn_kernel_size': 5, 'dropout_rate': 0.11497166394140194, 'attention_dim': 16}. Best is trial 36 with value: 5.302183996812009.\n"
          ]
        },
        {
          "output_type": "stream",
          "name": "stdout",
          "text": [
            "8/8 [==============================] - 0s 3ms/step\n"
          ]
        },
        {
          "output_type": "stream",
          "name": "stderr",
          "text": [
            "[I 2023-06-17 01:35:07,861] Trial 60 finished with value: 15.519807697957221 and parameters: {'window_size': 12, 'tcn_filters': 91, 'tcn_kernel_size': 3, 'dropout_rate': 0.17840369288564953, 'attention_dim': 10}. Best is trial 36 with value: 5.302183996812009.\n"
          ]
        },
        {
          "output_type": "stream",
          "name": "stdout",
          "text": [
            "8/8 [==============================] - 1s 6ms/step\n"
          ]
        },
        {
          "output_type": "stream",
          "name": "stderr",
          "text": [
            "[I 2023-06-17 01:35:20,723] Trial 61 finished with value: 7.830741077811774 and parameters: {'window_size': 30, 'tcn_filters': 125, 'tcn_kernel_size': 3, 'dropout_rate': 0.16542243760103106, 'attention_dim': 15}. Best is trial 36 with value: 5.302183996812009.\n"
          ]
        },
        {
          "output_type": "stream",
          "name": "stdout",
          "text": [
            "8/8 [==============================] - 0s 9ms/step\n"
          ]
        },
        {
          "output_type": "stream",
          "name": "stderr",
          "text": [
            "[I 2023-06-17 01:35:43,516] Trial 62 finished with value: 7.058909213650246 and parameters: {'window_size': 30, 'tcn_filters': 125, 'tcn_kernel_size': 3, 'dropout_rate': 0.1441850184813434, 'attention_dim': 14}. Best is trial 36 with value: 5.302183996812009.\n"
          ]
        },
        {
          "output_type": "stream",
          "name": "stdout",
          "text": [
            "8/8 [==============================] - 0s 6ms/step\n"
          ]
        },
        {
          "output_type": "stream",
          "name": "stderr",
          "text": [
            "[I 2023-06-17 01:35:54,162] Trial 63 finished with value: 9.808788101248002 and parameters: {'window_size': 34, 'tcn_filters': 121, 'tcn_kernel_size': 3, 'dropout_rate': 0.11300023215912408, 'attention_dim': 12}. Best is trial 36 with value: 5.302183996812009.\n"
          ]
        },
        {
          "output_type": "stream",
          "name": "stdout",
          "text": [
            "8/8 [==============================] - 0s 5ms/step\n"
          ]
        },
        {
          "output_type": "stream",
          "name": "stderr",
          "text": [
            "[I 2023-06-17 01:36:06,372] Trial 64 finished with value: 18.931492915972452 and parameters: {'window_size': 30, 'tcn_filters': 126, 'tcn_kernel_size': 3, 'dropout_rate': 0.19337187829208857, 'attention_dim': 14}. Best is trial 36 with value: 5.302183996812009.\n"
          ]
        },
        {
          "output_type": "stream",
          "name": "stdout",
          "text": [
            "8/8 [==============================] - 0s 6ms/step\n"
          ]
        },
        {
          "output_type": "stream",
          "name": "stderr",
          "text": [
            "[I 2023-06-17 01:36:18,583] Trial 65 finished with value: 10.3276149219583 and parameters: {'window_size': 46, 'tcn_filters': 128, 'tcn_kernel_size': 3, 'dropout_rate': 0.1351957603951616, 'attention_dim': 11}. Best is trial 36 with value: 5.302183996812009.\n"
          ]
        },
        {
          "output_type": "stream",
          "name": "stdout",
          "text": [
            "8/8 [==============================] - 0s 6ms/step\n"
          ]
        },
        {
          "output_type": "stream",
          "name": "stderr",
          "text": [
            "[I 2023-06-17 01:36:27,192] Trial 66 finished with value: 23.534703591002536 and parameters: {'window_size': 28, 'tcn_filters': 107, 'tcn_kernel_size': 2, 'dropout_rate': 0.16839122657833921, 'attention_dim': 13}. Best is trial 36 with value: 5.302183996812009.\n"
          ]
        },
        {
          "output_type": "stream",
          "name": "stdout",
          "text": [
            "8/8 [==============================] - 0s 9ms/step\n"
          ]
        },
        {
          "output_type": "stream",
          "name": "stderr",
          "text": [
            "[I 2023-06-17 01:36:40,177] Trial 67 finished with value: 6.2878656769668435 and parameters: {'window_size': 36, 'tcn_filters': 122, 'tcn_kernel_size': 3, 'dropout_rate': 0.14160157265899914, 'attention_dim': 15}. Best is trial 36 with value: 5.302183996812009.\n"
          ]
        },
        {
          "output_type": "stream",
          "name": "stdout",
          "text": [
            "8/8 [==============================] - 0s 12ms/step\n"
          ]
        },
        {
          "output_type": "stream",
          "name": "stderr",
          "text": [
            "[I 2023-06-17 01:36:56,072] Trial 68 finished with value: 13.951862377581195 and parameters: {'window_size': 57, 'tcn_filters': 123, 'tcn_kernel_size': 3, 'dropout_rate': 0.11235334378336986, 'attention_dim': 15}. Best is trial 36 with value: 5.302183996812009.\n"
          ]
        },
        {
          "output_type": "stream",
          "name": "stdout",
          "text": [
            "8/8 [==============================] - 0s 10ms/step\n"
          ]
        },
        {
          "output_type": "stream",
          "name": "stderr",
          "text": [
            "[I 2023-06-17 01:37:08,786] Trial 69 finished with value: 7.379756521612073 and parameters: {'window_size': 36, 'tcn_filters': 120, 'tcn_kernel_size': 4, 'dropout_rate': 0.12695703124991292, 'attention_dim': 9}. Best is trial 36 with value: 5.302183996812009.\n"
          ]
        },
        {
          "output_type": "stream",
          "name": "stdout",
          "text": [
            "8/8 [==============================] - 0s 10ms/step\n"
          ]
        },
        {
          "output_type": "stream",
          "name": "stderr",
          "text": [
            "[I 2023-06-17 01:37:22,803] Trial 70 finished with value: 15.2284918275454 and parameters: {'window_size': 37, 'tcn_filters': 119, 'tcn_kernel_size': 4, 'dropout_rate': 0.21996752368200384, 'attention_dim': 9}. Best is trial 36 with value: 5.302183996812009.\n"
          ]
        },
        {
          "output_type": "stream",
          "name": "stdout",
          "text": [
            "8/8 [==============================] - 0s 6ms/step\n"
          ]
        },
        {
          "output_type": "stream",
          "name": "stderr",
          "text": [
            "[I 2023-06-17 01:37:32,885] Trial 71 finished with value: 8.892679310113888 and parameters: {'window_size': 40, 'tcn_filters': 115, 'tcn_kernel_size': 4, 'dropout_rate': 0.13044936260874468, 'attention_dim': 24}. Best is trial 36 with value: 5.302183996812009.\n"
          ]
        },
        {
          "output_type": "stream",
          "name": "stdout",
          "text": [
            "8/8 [==============================] - 0s 7ms/step\n"
          ]
        },
        {
          "output_type": "stream",
          "name": "stderr",
          "text": [
            "[I 2023-06-17 01:37:55,429] Trial 72 finished with value: 10.584701542719833 and parameters: {'window_size': 47, 'tcn_filters': 126, 'tcn_kernel_size': 4, 'dropout_rate': 0.13826412262969764, 'attention_dim': 9}. Best is trial 36 with value: 5.302183996812009.\n"
          ]
        },
        {
          "output_type": "stream",
          "name": "stdout",
          "text": [
            "8/8 [==============================] - 0s 13ms/step\n"
          ]
        },
        {
          "output_type": "stream",
          "name": "stderr",
          "text": [
            "[I 2023-06-17 01:38:07,751] Trial 73 finished with value: 5.8984220830554985 and parameters: {'window_size': 42, 'tcn_filters': 121, 'tcn_kernel_size': 4, 'dropout_rate': 0.10055833696764621, 'attention_dim': 12}. Best is trial 36 with value: 5.302183996812009.\n"
          ]
        },
        {
          "output_type": "stream",
          "name": "stdout",
          "text": [
            "8/8 [==============================] - 0s 7ms/step\n"
          ]
        },
        {
          "output_type": "stream",
          "name": "stderr",
          "text": [
            "[I 2023-06-17 01:38:30,943] Trial 74 finished with value: 14.696221261615953 and parameters: {'window_size': 44, 'tcn_filters': 121, 'tcn_kernel_size': 4, 'dropout_rate': 0.10433227826473843, 'attention_dim': 10}. Best is trial 36 with value: 5.302183996812009.\n"
          ]
        },
        {
          "output_type": "stream",
          "name": "stdout",
          "text": [
            "8/8 [==============================] - 0s 7ms/step\n"
          ]
        },
        {
          "output_type": "stream",
          "name": "stderr",
          "text": [
            "[I 2023-06-17 01:38:43,567] Trial 75 finished with value: 9.097075286148566 and parameters: {'window_size': 41, 'tcn_filters': 125, 'tcn_kernel_size': 4, 'dropout_rate': 0.14173603388252148, 'attention_dim': 13}. Best is trial 36 with value: 5.302183996812009.\n"
          ]
        },
        {
          "output_type": "stream",
          "name": "stdout",
          "text": [
            "8/8 [==============================] - 0s 6ms/step\n"
          ]
        },
        {
          "output_type": "stream",
          "name": "stderr",
          "text": [
            "[I 2023-06-17 01:38:59,954] Trial 76 finished with value: 17.731543643880634 and parameters: {'window_size': 34, 'tcn_filters': 118, 'tcn_kernel_size': 4, 'dropout_rate': 0.161315197825037, 'attention_dim': 12}. Best is trial 36 with value: 5.302183996812009.\n"
          ]
        },
        {
          "output_type": "stream",
          "name": "stdout",
          "text": [
            "8/8 [==============================] - 0s 8ms/step\n"
          ]
        },
        {
          "output_type": "stream",
          "name": "stderr",
          "text": [
            "[I 2023-06-17 01:39:22,448] Trial 77 finished with value: 16.705727520540822 and parameters: {'window_size': 43, 'tcn_filters': 122, 'tcn_kernel_size': 5, 'dropout_rate': 0.12749744027400295, 'attention_dim': 8}. Best is trial 36 with value: 5.302183996812009.\n"
          ]
        },
        {
          "output_type": "stream",
          "name": "stdout",
          "text": [
            "8/8 [==============================] - 0s 6ms/step\n"
          ]
        },
        {
          "output_type": "stream",
          "name": "stderr",
          "text": [
            "[I 2023-06-17 01:39:35,306] Trial 78 finished with value: 3.988107269542754 and parameters: {'window_size': 35, 'tcn_filters': 114, 'tcn_kernel_size': 4, 'dropout_rate': 0.11188832588888749, 'attention_dim': 11}. Best is trial 78 with value: 3.988107269542754.\n"
          ]
        },
        {
          "output_type": "stream",
          "name": "stdout",
          "text": [
            "8/8 [==============================] - 0s 6ms/step\n"
          ]
        },
        {
          "output_type": "stream",
          "name": "stderr",
          "text": [
            "[I 2023-06-17 01:39:57,976] Trial 79 finished with value: 7.326316843227788 and parameters: {'window_size': 37, 'tcn_filters': 113, 'tcn_kernel_size': 4, 'dropout_rate': 0.10800017304866062, 'attention_dim': 11}. Best is trial 78 with value: 3.988107269542754.\n"
          ]
        },
        {
          "output_type": "stream",
          "name": "stdout",
          "text": [
            "8/8 [==============================] - 0s 6ms/step\n"
          ]
        },
        {
          "output_type": "stream",
          "name": "stderr",
          "text": [
            "[I 2023-06-17 01:40:12,020] Trial 80 finished with value: 9.37111938376632 and parameters: {'window_size': 37, 'tcn_filters': 114, 'tcn_kernel_size': 4, 'dropout_rate': 0.10151475242266345, 'attention_dim': 11}. Best is trial 78 with value: 3.988107269542754.\n"
          ]
        },
        {
          "output_type": "stream",
          "name": "stdout",
          "text": [
            "8/8 [==============================] - 0s 6ms/step\n"
          ]
        },
        {
          "output_type": "stream",
          "name": "stderr",
          "text": [
            "[I 2023-06-17 01:40:22,773] Trial 81 finished with value: 3.9526747590898856 and parameters: {'window_size': 35, 'tcn_filters': 117, 'tcn_kernel_size': 4, 'dropout_rate': 0.11316543946859231, 'attention_dim': 11}. Best is trial 81 with value: 3.9526747590898856.\n"
          ]
        },
        {
          "output_type": "stream",
          "name": "stdout",
          "text": [
            "8/8 [==============================] - 0s 5ms/step\n"
          ]
        },
        {
          "output_type": "stream",
          "name": "stderr",
          "text": [
            "[I 2023-06-17 01:40:45,221] Trial 82 finished with value: 13.180604874144617 and parameters: {'window_size': 33, 'tcn_filters': 119, 'tcn_kernel_size': 4, 'dropout_rate': 0.11391210210896395, 'attention_dim': 9}. Best is trial 81 with value: 3.9526747590898856.\n"
          ]
        },
        {
          "output_type": "stream",
          "name": "stdout",
          "text": [
            "8/8 [==============================] - 0s 11ms/step\n"
          ]
        },
        {
          "output_type": "stream",
          "name": "stderr",
          "text": [
            "[I 2023-06-17 01:41:07,729] Trial 83 finished with value: 18.789467845921415 and parameters: {'window_size': 76, 'tcn_filters': 112, 'tcn_kernel_size': 4, 'dropout_rate': 0.12425111588209876, 'attention_dim': 11}. Best is trial 81 with value: 3.9526747590898856.\n"
          ]
        },
        {
          "output_type": "stream",
          "name": "stdout",
          "text": [
            "8/8 [==============================] - 0s 6ms/step\n"
          ]
        },
        {
          "output_type": "stream",
          "name": "stderr",
          "text": [
            "[I 2023-06-17 01:41:18,709] Trial 84 finished with value: 8.225888997067095 and parameters: {'window_size': 42, 'tcn_filters': 116, 'tcn_kernel_size': 4, 'dropout_rate': 0.14779043122197152, 'attention_dim': 10}. Best is trial 81 with value: 3.9526747590898856.\n"
          ]
        },
        {
          "output_type": "stream",
          "name": "stdout",
          "text": [
            "8/8 [==============================] - 0s 5ms/step\n"
          ]
        },
        {
          "output_type": "stream",
          "name": "stderr",
          "text": [
            "[I 2023-06-17 01:41:30,809] Trial 85 finished with value: 9.749236135237695 and parameters: {'window_size': 39, 'tcn_filters': 108, 'tcn_kernel_size': 4, 'dropout_rate': 0.12156470495463498, 'attention_dim': 9}. Best is trial 81 with value: 3.9526747590898856.\n"
          ]
        },
        {
          "output_type": "stream",
          "name": "stdout",
          "text": [
            "8/8 [==============================] - 0s 6ms/step\n"
          ]
        },
        {
          "output_type": "stream",
          "name": "stderr",
          "text": [
            "[I 2023-06-17 01:41:42,987] Trial 86 finished with value: 8.058760305568459 and parameters: {'window_size': 35, 'tcn_filters': 114, 'tcn_kernel_size': 4, 'dropout_rate': 0.13069467175317234, 'attention_dim': 8}. Best is trial 81 with value: 3.9526747590898856.\n"
          ]
        },
        {
          "output_type": "stream",
          "name": "stdout",
          "text": [
            "8/8 [==============================] - 0s 15ms/step\n"
          ]
        },
        {
          "output_type": "stream",
          "name": "stderr",
          "text": [
            "[I 2023-06-17 01:42:05,709] Trial 87 finished with value: 11.508787686474708 and parameters: {'window_size': 69, 'tcn_filters': 120, 'tcn_kernel_size': 4, 'dropout_rate': 0.11217899454007738, 'attention_dim': 12}. Best is trial 81 with value: 3.9526747590898856.\n"
          ]
        },
        {
          "output_type": "stream",
          "name": "stdout",
          "text": [
            "8/8 [==============================] - 0s 6ms/step\n"
          ]
        },
        {
          "output_type": "stream",
          "name": "stderr",
          "text": [
            "[I 2023-06-17 01:42:15,506] Trial 88 finished with value: 9.978490772503271 and parameters: {'window_size': 49, 'tcn_filters': 99, 'tcn_kernel_size': 4, 'dropout_rate': 0.14666113063563097, 'attention_dim': 10}. Best is trial 81 with value: 3.9526747590898856.\n"
          ]
        },
        {
          "output_type": "stream",
          "name": "stdout",
          "text": [
            "8/8 [==============================] - 0s 6ms/step\n"
          ]
        },
        {
          "output_type": "stream",
          "name": "stderr",
          "text": [
            "[I 2023-06-17 01:42:25,311] Trial 89 finished with value: 4.724418176523931 and parameters: {'window_size': 32, 'tcn_filters': 128, 'tcn_kernel_size': 4, 'dropout_rate': 0.11066488812601148, 'attention_dim': 11}. Best is trial 81 with value: 3.9526747590898856.\n"
          ]
        },
        {
          "output_type": "stream",
          "name": "stdout",
          "text": [
            "8/8 [==============================] - 0s 5ms/step\n"
          ]
        },
        {
          "output_type": "stream",
          "name": "stderr",
          "text": [
            "[I 2023-06-17 01:42:41,574] Trial 90 finished with value: 14.109740320256842 and parameters: {'window_size': 27, 'tcn_filters': 128, 'tcn_kernel_size': 4, 'dropout_rate': 0.11028304698579448, 'attention_dim': 11}. Best is trial 81 with value: 3.9526747590898856.\n"
          ]
        },
        {
          "output_type": "stream",
          "name": "stdout",
          "text": [
            "8/8 [==============================] - 0s 10ms/step\n"
          ]
        },
        {
          "output_type": "stream",
          "name": "stderr",
          "text": [
            "[I 2023-06-17 01:43:04,156] Trial 91 finished with value: 12.93850903880881 and parameters: {'window_size': 32, 'tcn_filters': 123, 'tcn_kernel_size': 4, 'dropout_rate': 0.12333263236482721, 'attention_dim': 11}. Best is trial 81 with value: 3.9526747590898856.\n"
          ]
        },
        {
          "output_type": "stream",
          "name": "stdout",
          "text": [
            "8/8 [==============================] - 0s 9ms/step\n"
          ]
        },
        {
          "output_type": "stream",
          "name": "stderr",
          "text": [
            "[I 2023-06-17 01:43:17,151] Trial 92 finished with value: 5.75477704739675 and parameters: {'window_size': 36, 'tcn_filters': 118, 'tcn_kernel_size': 4, 'dropout_rate': 0.10129192692507018, 'attention_dim': 13}. Best is trial 81 with value: 3.9526747590898856.\n"
          ]
        },
        {
          "output_type": "stream",
          "name": "stdout",
          "text": [
            "8/8 [==============================] - 0s 6ms/step\n"
          ]
        },
        {
          "output_type": "stream",
          "name": "stderr",
          "text": [
            "[I 2023-06-17 01:43:28,128] Trial 93 finished with value: 7.275771617281595 and parameters: {'window_size': 31, 'tcn_filters': 117, 'tcn_kernel_size': 4, 'dropout_rate': 0.10183286385682061, 'attention_dim': 13}. Best is trial 81 with value: 3.9526747590898856.\n"
          ]
        },
        {
          "output_type": "stream",
          "name": "stdout",
          "text": [
            "8/8 [==============================] - 0s 5ms/step\n"
          ]
        },
        {
          "output_type": "stream",
          "name": "stderr",
          "text": [
            "[I 2023-06-17 01:43:38,874] Trial 94 finished with value: 5.75618114603612 and parameters: {'window_size': 31, 'tcn_filters': 117, 'tcn_kernel_size': 4, 'dropout_rate': 0.10318773677548401, 'attention_dim': 13}. Best is trial 81 with value: 3.9526747590898856.\n"
          ]
        },
        {
          "output_type": "stream",
          "name": "stdout",
          "text": [
            "8/8 [==============================] - 0s 6ms/step\n"
          ]
        },
        {
          "output_type": "stream",
          "name": "stderr",
          "text": [
            "[I 2023-06-17 01:43:52,091] Trial 95 finished with value: 8.405545442369098 and parameters: {'window_size': 29, 'tcn_filters': 125, 'tcn_kernel_size': 4, 'dropout_rate': 0.13634007751829602, 'attention_dim': 12}. Best is trial 81 with value: 3.9526747590898856.\n"
          ]
        },
        {
          "output_type": "stream",
          "name": "stdout",
          "text": [
            "8/8 [==============================] - 0s 8ms/step\n"
          ]
        },
        {
          "output_type": "stream",
          "name": "stderr",
          "text": [
            "[I 2023-06-17 01:44:01,574] Trial 96 finished with value: 10.795511254291899 and parameters: {'window_size': 27, 'tcn_filters': 110, 'tcn_kernel_size': 5, 'dropout_rate': 0.1181724371456395, 'attention_dim': 14}. Best is trial 81 with value: 3.9526747590898856.\n"
          ]
        },
        {
          "output_type": "stream",
          "name": "stdout",
          "text": [
            "8/8 [==============================] - 0s 5ms/step\n"
          ]
        },
        {
          "output_type": "stream",
          "name": "stderr",
          "text": [
            "[I 2023-06-17 01:44:09,400] Trial 97 finished with value: 6.389927989731538 and parameters: {'window_size': 23, 'tcn_filters': 127, 'tcn_kernel_size': 4, 'dropout_rate': 0.10091223567376187, 'attention_dim': 13}. Best is trial 81 with value: 3.9526747590898856.\n"
          ]
        },
        {
          "output_type": "stream",
          "name": "stdout",
          "text": [
            "8/8 [==============================] - 0s 5ms/step\n"
          ]
        },
        {
          "output_type": "stream",
          "name": "stderr",
          "text": [
            "[I 2023-06-17 01:44:21,610] Trial 98 finished with value: 8.076271279819055 and parameters: {'window_size': 23, 'tcn_filters': 105, 'tcn_kernel_size': 4, 'dropout_rate': 0.10105344289656236, 'attention_dim': 12}. Best is trial 81 with value: 3.9526747590898856.\n"
          ]
        },
        {
          "output_type": "stream",
          "name": "stdout",
          "text": [
            "8/8 [==============================] - 0s 5ms/step\n"
          ]
        },
        {
          "output_type": "stream",
          "name": "stderr",
          "text": [
            "[I 2023-06-17 01:44:28,287] Trial 99 finished with value: 5.0377940699927075 and parameters: {'window_size': 19, 'tcn_filters': 122, 'tcn_kernel_size': 4, 'dropout_rate': 0.11129908017688149, 'attention_dim': 13}. Best is trial 81 with value: 3.9526747590898856.\n"
          ]
        }
      ]
    },
    {
      "cell_type": "code",
      "source": [
        "# Display the optimal set of parameters\n",
        "best_params = study.best_params\n",
        "print(\"Best Hyperparameters:\", best_params)"
      ],
      "metadata": {
        "colab": {
          "base_uri": "https://localhost:8080/"
        },
        "id": "MIC7AbkU-qLy",
        "outputId": "2557e234-923c-4522-a459-b03bf17a7326"
      },
      "id": "MIC7AbkU-qLy",
      "execution_count": null,
      "outputs": [
        {
          "output_type": "stream",
          "name": "stdout",
          "text": [
            "Best Hyperparameters: {'window_size': 35, 'tcn_filters': 117, 'tcn_kernel_size': 4, 'dropout_rate': 0.11316543946859231, 'attention_dim': 11}\n"
          ]
        }
      ]
    },
    {
      "cell_type": "code",
      "source": [
        "# Evaluate the accuracy of test\n",
        "print(f\"MAPE on Test dataset: \", best_mape)\n",
        "print(f\"RMSE on Test dataset: \", best_rmse)\n",
        "print(f\"MSLE on Test dataset: \", best_msle)"
      ],
      "metadata": {
        "colab": {
          "base_uri": "https://localhost:8080/"
        },
        "id": "gIcsWJky-scK",
        "outputId": "eb64e8ab-af6f-42cb-fc90-33b3c7656398"
      },
      "id": "gIcsWJky-scK",
      "execution_count": null,
      "outputs": [
        {
          "output_type": "stream",
          "name": "stdout",
          "text": [
            "MAPE on Test dataset:  0.05316103589837038\n",
            "RMSE on Test dataset:  1.9881334862352391\n",
            "MSLE on Test dataset:  0.004514576441700273\n"
          ]
        }
      ]
    },
    {
      "cell_type": "markdown",
      "source": [
        "### Save and Load the best model and related information"
      ],
      "metadata": {
        "id": "LAq2jnXOj6aI"
      },
      "id": "LAq2jnXOj6aI"
    },
    {
      "cell_type": "code",
      "source": [
        "# Save the best model and related information\n",
        "best_model.save('/content/drive/MyDrive/Colab Notebooks/Business Data Analysis/INTC/6:2:2/best_model.h5')\n",
        "\n",
        "np.save('/content/drive/MyDrive/Colab Notebooks/Business Data Analysis/INTC/6:2:2/best_window_size.npy', best_window_size)\n",
        "np.save('/content/drive/MyDrive/Colab Notebooks/Business Data Analysis/INTC/6:2:2/best_train_windows.npy', best_train_windows)\n",
        "np.save('/content/drive/MyDrive/Colab Notebooks/Business Data Analysis/INTC/6:2:2/best_train_targets.npy', best_train_targets)\n",
        "np.save('/content/drive/MyDrive/Colab Notebooks/Business Data Analysis/INTC/6:2:2/best_test_windows.npy', best_test_windows)\n",
        "np.save('/content/drive/MyDrive/Colab Notebooks/Business Data Analysis/INTC/6:2:2/best_test_targets.npy', best_test_targets)\n",
        "np.save('/content/drive/MyDrive/Colab Notebooks/Business Data Analysis/INTC/6:2:2/best_val_windows.npy', best_val_windows)\n",
        "np.save('/content/drive/MyDrive/Colab Notebooks/Business Data Analysis/INTC/6:2:2/best_val_targets.npy', best_val_targets)\n",
        "\n",
        "np.save('/content/drive/MyDrive/Colab Notebooks/Business Data Analysis/INTC/6:2:2/best_y_pred.npy', best_y_pred)\n",
        "\n",
        "np.save('/content/drive/MyDrive/Colab Notebooks/Business Data Analysis/INTC/6:2:2/best_mse.npy', best_mse)\n",
        "np.save('/content/drive/MyDrive/Colab Notebooks/Business Data Analysis/INTC/6:2:2/best_rmse.npy', best_rmse)\n",
        "np.save('/content/drive/MyDrive/Colab Notebooks/Business Data Analysis/INTC/6:2:2/best_mape.npy', best_mape)\n",
        "np.save('/content/drive/MyDrive/Colab Notebooks/Business Data Analysis/INTC/6:2:2/best_msle.npy', best_msle)"
      ],
      "metadata": {
        "id": "VOV_a65HsGiB"
      },
      "id": "VOV_a65HsGiB",
      "execution_count": null,
      "outputs": []
    },
    {
      "cell_type": "code",
      "source": [
        "# Load the best model and related information\n",
        "with custom_object_scope({'AttentionLayer': AttentionLayer}):\n",
        "    loaded_best_model = load_model('/content/drive/MyDrive/Colab Notebooks/Business Data Analysis/INTC/6:2:2/best_model.h5')\n",
        "\n",
        "loaded_best_window_size = np.load('/content/drive/MyDrive/Colab Notebooks/Business Data Analysis/INTC/6:2:2/best_window_size.npy')\n",
        "loaded_best_train_windows = np.load('/content/drive/MyDrive/Colab Notebooks/Business Data Analysis/INTC/6:2:2/best_train_windows.npy')\n",
        "loaded_best_train_targets = np.load('/content/drive/MyDrive/Colab Notebooks/Business Data Analysis/INTC/6:2:2/best_train_targets.npy')\n",
        "loaded_best_test_windows = np.load('/content/drive/MyDrive/Colab Notebooks/Business Data Analysis/INTC/6:2:2/best_test_windows.npy')\n",
        "loaded_best_test_targets = np.load('/content/drive/MyDrive/Colab Notebooks/Business Data Analysis/INTC/6:2:2/best_test_targets.npy')\n",
        "loaded_best_val_windows = np.load('/content/drive/MyDrive/Colab Notebooks/Business Data Analysis/INTC/6:2:2/best_val_windows.npy')\n",
        "loaded_best_val_targets = np.load('/content/drive/MyDrive/Colab Notebooks/Business Data Analysis/INTC/6:2:2/best_val_targets.npy')\n",
        "\n",
        "loaded_best_y_pred = np.load('/content/drive/MyDrive/Colab Notebooks/Business Data Analysis/INTC/6:2:2/best_y_pred.npy')\n",
        "\n",
        "loaded_best_mse = np.load('/content/drive/MyDrive/Colab Notebooks/Business Data Analysis/INTC/6:2:2/best_mse.npy').item()\n",
        "loaded_best_rmse = np.load('/content/drive/MyDrive/Colab Notebooks/Business Data Analysis/INTC/6:2:2/best_rmse.npy').item()\n",
        "loaded_best_mape = np.load('/content/drive/MyDrive/Colab Notebooks/Business Data Analysis/INTC/6:2:2/best_mape.npy').item()\n",
        "loaded_best_msle = np.load('/content/drive/MyDrive/Colab Notebooks/Business Data Analysis/INTC/6:2:2/best_msle.npy').item()"
      ],
      "metadata": {
        "id": "CYIqqiJn-7Jp"
      },
      "id": "CYIqqiJn-7Jp",
      "execution_count": 12,
      "outputs": []
    },
    {
      "cell_type": "markdown",
      "source": [
        "### Evaluate on Validate dataset"
      ],
      "metadata": {
        "id": "ZRs4rcIbdEqV"
      },
      "id": "ZRs4rcIbdEqV"
    },
    {
      "cell_type": "code",
      "source": [
        "train_last_window_size = train_data[-loaded_best_window_size:]\n",
        "val_data_extended = np.concatenate((train_last_window_size, val_data), axis=0)\n",
        "\n",
        "val_windows, val_targets = create_dataset(val_data_extended, loaded_best_window_size)"
      ],
      "metadata": {
        "id": "akKtj1aEdKRl"
      },
      "id": "akKtj1aEdKRl",
      "execution_count": 13,
      "outputs": []
    },
    {
      "cell_type": "code",
      "source": [
        "# Testing the model on Validate dataset\n",
        "y_pred_val = loaded_best_model.predict(val_windows)"
      ],
      "metadata": {
        "colab": {
          "base_uri": "https://localhost:8080/"
        },
        "id": "97IAFFO3dOEt",
        "outputId": "df67cc49-0537-42e0-c9b7-98a4f7aa7d66"
      },
      "id": "97IAFFO3dOEt",
      "execution_count": 14,
      "outputs": [
        {
          "output_type": "stream",
          "name": "stdout",
          "text": [
            "7/7 [==============================] - 0s 7ms/step\n"
          ]
        }
      ]
    },
    {
      "cell_type": "code",
      "source": [
        "# Evaluate on MAPE, RMSE, MSLE\n",
        "val_targets = scaler.inverse_transform(val_targets.reshape(-1, 1))\n",
        "y_pred_val = scaler.inverse_transform(y_pred_val)\n",
        "\n",
        "mse = mean_squared_error(val_targets, y_pred_val)\n",
        "rmse = np.sqrt(mse)\n",
        "mape = mean_absolute_percentage_error(val_targets, y_pred_val)\n",
        "msle = mean_squared_log_error(val_targets, y_pred_val)"
      ],
      "metadata": {
        "id": "vHrKWispdRVd"
      },
      "id": "vHrKWispdRVd",
      "execution_count": 15,
      "outputs": []
    },
    {
      "cell_type": "code",
      "source": [
        "# Evaluate the accuracy of test\n",
        "print(f\"MAPE on Validate dataset: \", mape)\n",
        "print(f\"RMSE on Validate dataset: \", rmse)\n",
        "print(f\"MSLE on Validate dataset: \", msle)"
      ],
      "metadata": {
        "colab": {
          "base_uri": "https://localhost:8080/"
        },
        "id": "uV19ZUJgdW2i",
        "outputId": "668fa00c-2f74-472d-cb1d-00ab32193998"
      },
      "id": "uV19ZUJgdW2i",
      "execution_count": 16,
      "outputs": [
        {
          "output_type": "stream",
          "name": "stdout",
          "text": [
            "MAPE on Validate dataset:  0.016731903132916937\n",
            "RMSE on Validate dataset:  1.0716438830591548\n",
            "MSLE on Validate dataset:  0.0004857041020416086\n"
          ]
        }
      ]
    },
    {
      "cell_type": "markdown",
      "source": [
        "## Predicting the next 30 days"
      ],
      "metadata": {
        "id": "ZV6VbX2qiTJ2"
      },
      "id": "ZV6VbX2qiTJ2"
    },
    {
      "cell_type": "markdown",
      "source": [
        "### Preparing the forecast date index"
      ],
      "metadata": {
        "id": "KheB_eYIiU4b"
      },
      "id": "KheB_eYIiU4b"
    },
    {
      "cell_type": "code",
      "source": [
        "# Get the last date from the current index\n",
        "last_date = df.index[-1]\n",
        "\n",
        "# Add one day to the last date\n",
        "next_date = last_date + pd.DateOffset(days=1)\n",
        "\n",
        "# Create a list of indices starting from the next date for 30 days\n",
        "index_next_30_days = pd.date_range(start=next_date, periods=30).tolist()"
      ],
      "metadata": {
        "id": "nEQ97NJuiPPW"
      },
      "id": "nEQ97NJuiPPW",
      "execution_count": 17,
      "outputs": []
    },
    {
      "cell_type": "markdown",
      "source": [
        "## Prediction process"
      ],
      "metadata": {
        "id": "35CEaBcIiX6-"
      },
      "id": "35CEaBcIiX6-"
    },
    {
      "cell_type": "code",
      "execution_count": 18,
      "id": "45367300",
      "metadata": {
        "colab": {
          "base_uri": "https://localhost:8080/"
        },
        "id": "45367300",
        "outputId": "b889fa70-b09a-4d3c-f3de-e44f44c8237a"
      },
      "outputs": [
        {
          "output_type": "stream",
          "name": "stdout",
          "text": [
            "1/1 [==============================] - 0s 158ms/step\n",
            "1/1 [==============================] - 0s 21ms/step\n",
            "1/1 [==============================] - 0s 22ms/step\n",
            "1/1 [==============================] - 0s 21ms/step\n",
            "1/1 [==============================] - 0s 21ms/step\n",
            "1/1 [==============================] - 0s 25ms/step\n",
            "1/1 [==============================] - 0s 25ms/step\n",
            "1/1 [==============================] - 0s 22ms/step\n",
            "1/1 [==============================] - 0s 22ms/step\n",
            "1/1 [==============================] - 0s 21ms/step\n",
            "1/1 [==============================] - 0s 23ms/step\n",
            "1/1 [==============================] - 0s 25ms/step\n",
            "1/1 [==============================] - 0s 23ms/step\n",
            "1/1 [==============================] - 0s 25ms/step\n",
            "1/1 [==============================] - 0s 24ms/step\n",
            "1/1 [==============================] - 0s 24ms/step\n",
            "1/1 [==============================] - 0s 26ms/step\n",
            "1/1 [==============================] - 0s 23ms/step\n",
            "1/1 [==============================] - 0s 22ms/step\n",
            "1/1 [==============================] - 0s 27ms/step\n",
            "1/1 [==============================] - 0s 25ms/step\n",
            "1/1 [==============================] - 0s 25ms/step\n",
            "1/1 [==============================] - 0s 28ms/step\n",
            "1/1 [==============================] - 0s 29ms/step\n",
            "1/1 [==============================] - 0s 35ms/step\n",
            "1/1 [==============================] - 0s 37ms/step\n",
            "1/1 [==============================] - 0s 26ms/step\n",
            "1/1 [==============================] - 0s 27ms/step\n",
            "1/1 [==============================] - 0s 28ms/step\n",
            "1/1 [==============================] - 0s 27ms/step\n"
          ]
        }
      ],
      "source": [
        "# Predict the closing price for the next 30 days\n",
        "last_sequence_days = np.array(data_scaled[-loaded_best_window_size:]).reshape(1, -1, 1)\n",
        "y_next_30_days = []\n",
        "\n",
        "for i in range(30):\n",
        "    # Predict the next day's closing price\n",
        "    next_day_pred = loaded_best_model.predict(last_sequence_days)\n",
        "\n",
        "    # Save prediction\n",
        "    y_next_30_days.append(next_day_pred[0][0])\n",
        "\n",
        "    # Update data for the next day\n",
        "    last_sequence_days = np.concatenate([last_sequence_days[:, 1:, :], next_day_pred.reshape(1, 1, 1)], axis=1)"
      ]
    },
    {
      "cell_type": "code",
      "source": [
        "print('Predicted closing prices for the next 30 days:')\n",
        "y_next_30_days = scaler.inverse_transform(np.array(y_next_30_days).reshape(-1, 1))\n",
        "print(y_next_30_days.flatten())"
      ],
      "metadata": {
        "id": "7Gsc5obpmoyl",
        "colab": {
          "base_uri": "https://localhost:8080/"
        },
        "outputId": "0a6224e1-bad0-46bf-d9db-f0c296045764"
      },
      "id": "7Gsc5obpmoyl",
      "execution_count": 19,
      "outputs": [
        {
          "output_type": "stream",
          "name": "stdout",
          "text": [
            "Predicted closing prices for the next 30 days:\n",
            "[32.193726 32.010593 31.768093 31.467823 31.203133 30.981943 30.807098\n",
            " 30.690453 30.59319  30.505924 30.443623 30.395247 30.338762 30.30683\n",
            " 30.298096 30.279564 30.2637   30.261993 30.277878 30.296593 30.298786\n",
            " 30.2934   30.262169 30.243883 30.27519  30.32568  30.380806 30.36106\n",
            " 30.340948 30.349092]\n"
          ]
        }
      ]
    },
    {
      "cell_type": "markdown",
      "source": [
        "## Visualization"
      ],
      "metadata": {
        "id": "ONh3k9wBids4"
      },
      "id": "ONh3k9wBids4"
    },
    {
      "cell_type": "code",
      "source": [
        "plt.figure(figsize=(12, 5))\n",
        "\n",
        "plt.plot(df.index[:train_size], scaler.inverse_transform(train_data))\n",
        "\n",
        "plt.plot(df.index[train_size : train_size + val_size], scaler.inverse_transform(val_data))\n",
        "\n",
        "plt.plot(df.index[train_size : train_size + val_size], y_pred_val)\n",
        "\n",
        "plt.plot(df.index[train_size + val_size : ], scaler.inverse_transform(test_data))\n",
        "\n",
        "plt.plot(df.index[train_size + val_size : ], loaded_best_y_pred)\n",
        "\n",
        "plt.plot(index_next_30_days, y_next_30_days)\n",
        "\n",
        "plt.legend(['Train', 'Validate', 'PredictValidate', 'Test', 'PredictTest', 'Next30Day'])\n",
        "\n",
        "plt.grid()\n",
        "plt.title(f\"Intel Corporation Closing Price Data from {df.index[0].strftime('%Y-%m-%d')} to {index_next_30_days[-1].strftime('%Y-%m-%d')}\")\n",
        "plt.xlabel(\"Date\")\n",
        "plt.ylabel(\"Close value\")\n",
        "plt.savefig('TCAN_622_INTC.png')\n",
        "plt.show()"
      ],
      "metadata": {
        "id": "NwtqPyJeMaGL",
        "colab": {
          "base_uri": "https://localhost:8080/",
          "height": 487
        },
        "outputId": "8064bab6-b4e8-4bc5-94cd-3539fe5e878b"
      },
      "id": "NwtqPyJeMaGL",
      "execution_count": 20,
      "outputs": [
        {
          "output_type": "display_data",
          "data": {
            "text/plain": [
              "<Figure size 1200x500 with 1 Axes>"
            ],
            "image/png": "[encoded data removed]"
          },
          "metadata": {}
        }
      ]
    }
  ],
  "metadata": {
    "colab": {
      "provenance": []
    },
    "kernelspec": {
      "display_name": "Python 3 (ipykernel)",
      "language": "python",
      "name": "python3"
    },
    "language_info": {
      "codemirror_mode": {
        "name": "ipython",
        "version": 3
      },
      "file_extension": ".py",
      "mimetype": "text/x-python",
      "name": "python",
      "nbconvert_exporter": "python",
      "pygments_lexer": "ipython3",
      "version": "3.9.13"
    }
  },
  "nbformat": 4,
  "nbformat_minor": 5
}