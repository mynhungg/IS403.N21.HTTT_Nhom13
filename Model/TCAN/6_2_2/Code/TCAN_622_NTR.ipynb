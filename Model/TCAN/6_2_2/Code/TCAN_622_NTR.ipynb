{
  "cells": [
    {
      "cell_type": "markdown",
      "source": [
        "## Preparation"
      ],
      "metadata": {
        "id": "Ty-2HmFfAEUU"
      },
      "id": "Ty-2HmFfAEUU"
    },
    {
      "cell_type": "markdown",
      "source": [
        "### Download the optimization support library package"
      ],
      "metadata": {
        "id": "wCHCM3ifASoq"
      },
      "id": "wCHCM3ifASoq"
    },
    {
      "cell_type": "code",
      "source": [
        "!pip install optuna"
      ],
      "metadata": {
        "colab": {
          "base_uri": "https://localhost:8080/"
        },
        "id": "h-uK9HgR9_AM",
        "outputId": "7ba9631c-60c4-492e-dd72-de4508359857"
      },
      "id": "h-uK9HgR9_AM",
      "execution_count": 1,
      "outputs": [
        {
          "output_type": "stream",
          "name": "stdout",
          "text": [
            "Looking in indexes: https://pypi.org/simple, https://us-python.pkg.dev/colab-wheels/public/simple/\n",
            "Collecting optuna\n",
            "  Downloading optuna-3.2.0-py3-none-any.whl (390 kB)\n",
            "\u001b[2K     \u001b[90m━━━━━━━━━━━━━━━━━━━━━━━━━━━━━━━━━━━━━━━\u001b[0m \u001b[32m390.6/390.6 kB\u001b[0m \u001b[31m8.5 MB/s\u001b[0m eta \u001b[36m0:00:00\u001b[0m\n",
            "\u001b[?25hCollecting alembic>=1.5.0 (from optuna)\n",
            "  Downloading alembic-1.11.1-py3-none-any.whl (224 kB)\n",
            "\u001b[2K     \u001b[90m━━━━━━━━━━━━━━━━━━━━━━━━━━━━━━━━━━━━━━\u001b[0m \u001b[32m224.5/224.5 kB\u001b[0m \u001b[31m28.6 MB/s\u001b[0m eta \u001b[36m0:00:00\u001b[0m\n",
            "\u001b[?25hCollecting cmaes>=0.9.1 (from optuna)\n",
            "  Downloading cmaes-0.9.1-py3-none-any.whl (21 kB)\n",
            "Collecting colorlog (from optuna)\n",
            "  Downloading colorlog-6.7.0-py2.py3-none-any.whl (11 kB)\n",
            "Requirement already satisfied: numpy in /usr/local/lib/python3.10/dist-packages (from optuna) (1.22.4)\n",
            "Requirement already satisfied: packaging>=20.0 in /usr/local/lib/python3.10/dist-packages (from optuna) (23.1)\n",
            "Requirement already satisfied: sqlalchemy>=1.3.0 in /usr/local/lib/python3.10/dist-packages (from optuna) (2.0.10)\n",
            "Requirement already satisfied: tqdm in /usr/local/lib/python3.10/dist-packages (from optuna) (4.65.0)\n",
            "Requirement already satisfied: PyYAML in /usr/local/lib/python3.10/dist-packages (from optuna) (6.0)\n",
            "Collecting Mako (from alembic>=1.5.0->optuna)\n",
            "  Downloading Mako-1.2.4-py3-none-any.whl (78 kB)\n",
            "\u001b[2K     \u001b[90m━━━━━━━━━━━━━━━━━━━━━━━━━━━━━━━━━━━━━━━━\u001b[0m \u001b[32m78.7/78.7 kB\u001b[0m \u001b[31m11.0 MB/s\u001b[0m eta \u001b[36m0:00:00\u001b[0m\n",
            "\u001b[?25hRequirement already satisfied: typing-extensions>=4 in /usr/local/lib/python3.10/dist-packages (from alembic>=1.5.0->optuna) (4.5.0)\n",
            "Requirement already satisfied: greenlet!=0.4.17 in /usr/local/lib/python3.10/dist-packages (from sqlalchemy>=1.3.0->optuna) (2.0.2)\n",
            "Requirement already satisfied: MarkupSafe>=0.9.2 in /usr/local/lib/python3.10/dist-packages (from Mako->alembic>=1.5.0->optuna) (2.1.2)\n",
            "Installing collected packages: Mako, colorlog, cmaes, alembic, optuna\n",
            "Successfully installed Mako-1.2.4 alembic-1.11.1 cmaes-0.9.1 colorlog-6.7.0 optuna-3.2.0\n"
          ]
        }
      ]
    },
    {
      "cell_type": "markdown",
      "source": [
        "### Connect to Google Drive"
      ],
      "metadata": {
        "id": "-yVNLlKiAkLO"
      },
      "id": "-yVNLlKiAkLO"
    },
    {
      "cell_type": "code",
      "source": [
        "from google.colab import drive\n",
        "drive.mount('/content/drive', force_remount=True)"
      ],
      "metadata": {
        "colab": {
          "base_uri": "https://localhost:8080/"
        },
        "id": "O32NLGXv96h9",
        "outputId": "6bddd8cf-2468-461a-982b-0fb6439dccf5"
      },
      "id": "O32NLGXv96h9",
      "execution_count": 2,
      "outputs": [
        {
          "output_type": "stream",
          "name": "stdout",
          "text": [
            "Mounted at /content/drive\n"
          ]
        }
      ]
    },
    {
      "cell_type": "markdown",
      "source": [
        "## Import Libraries"
      ],
      "metadata": {
        "id": "W53Qynm-ZVZt"
      },
      "id": "W53Qynm-ZVZt"
    },
    {
      "cell_type": "code",
      "execution_count": 3,
      "id": "87d177e7",
      "metadata": {
        "id": "87d177e7"
      },
      "outputs": [],
      "source": [
        "# Library to support working with data\n",
        "import numpy as np\n",
        "import pandas as pd\n",
        "\n",
        "# Graphing support library\n",
        "import matplotlib.pyplot as plt\n",
        "\n",
        "# Data Normalization Support Library\n",
        "from sklearn.preprocessing import MinMaxScaler\n",
        "\n",
        "# Library to support building Temporal Convolutional Attention Networks models\n",
        "from tensorflow.keras.models import Model\n",
        "from tensorflow.keras.optimizers import Adam\n",
        "from tensorflow.keras.callbacks import EarlyStopping\n",
        "from tensorflow.keras.layers import Dense, Flatten, Conv1D, MaxPooling1D, GlobalMaxPooling1D, Dropout, SpatialDropout1D\n",
        "from tensorflow.keras.layers import Layer, RepeatVector, concatenate, Reshape, Input, Concatenate, Permute, Multiply, Add, Activation\n",
        "\n",
        "# Performance metrics calculation support library\n",
        "from sklearn.metrics import mean_squared_error, mean_absolute_percentage_error, mean_squared_log_error\n",
        "\n",
        "# Parameter optimization support library\n",
        "import optuna\n",
        "\n",
        "# Support library to ignore warnings\n",
        "import warnings\n",
        "warnings.filterwarnings(\"ignore\")\n",
        "\n",
        "# Support library to load models and data\n",
        "from keras.utils import custom_object_scope\n",
        "from tensorflow.keras.models import load_model"
      ]
    },
    {
      "cell_type": "markdown",
      "source": [
        "## Data preprocessing"
      ],
      "metadata": {
        "id": "-DlshO-2cJbs"
      },
      "id": "-DlshO-2cJbs"
    },
    {
      "cell_type": "markdown",
      "source": [
        "### Read data"
      ],
      "metadata": {
        "id": "ezxH2qTIcLnT"
      },
      "id": "ezxH2qTIcLnT"
    },
    {
      "cell_type": "code",
      "execution_count": 4,
      "id": "77ce5605",
      "metadata": {
        "colab": {
          "base_uri": "https://localhost:8080/",
          "height": 423
        },
        "id": "77ce5605",
        "outputId": "d198b57d-fead-4018-8c01-94242ab8a39a"
      },
      "outputs": [
        {
          "output_type": "execute_result",
          "data": {
            "text/plain": [
              "            Date       Open       High        Low      Close  Adj Close  \\\n",
              "0     2019-01-02  46.209999  46.990002  45.855000  46.259998  40.076595   \n",
              "1     2019-01-03  46.000000  46.099998  44.882999  45.049999  39.028339   \n",
              "2     2019-01-04  45.950001  47.180000  45.880001  47.130001  40.830315   \n",
              "3     2019-01-07  47.310001  48.110001  46.840000  47.740002  41.358772   \n",
              "4     2019-01-08  48.709999  49.480000  48.520000  49.209999  42.632286   \n",
              "...          ...        ...        ...        ...        ...        ...   \n",
              "1114  2023-06-06  53.000000  57.294998  52.820000  57.220001  57.220001   \n",
              "1115  2023-06-07  57.610001  59.750000  57.520000  59.340000  59.340000   \n",
              "1116  2023-06-08  59.400002  60.080002  57.910000  58.939999  58.939999   \n",
              "1117  2023-06-09  58.959999  59.349998  58.290001  58.790001  58.790001   \n",
              "1118  2023-06-12  58.279999  59.650002  58.279999  59.610001  59.610001   \n",
              "\n",
              "       Volume  \n",
              "0     1289100  \n",
              "1     1158800  \n",
              "2     1538500  \n",
              "3      954700  \n",
              "4     1921800  \n",
              "...       ...  \n",
              "1114  6397900  \n",
              "1115  2925500  \n",
              "1116  2828400  \n",
              "1117  1686600  \n",
              "1118  1563100  \n",
              "\n",
              "[1119 rows x 7 columns]"
            ],
            "text/html": [
              "\n",
              "  <div id=\"df-31913730-8504-4794-a242-5e1db2135850\">\n",
              "    <div class=\"colab-df-container\">\n",
              "      <div>\n",
              "<style scoped>\n",
              "    .dataframe tbody tr th:only-of-type {\n",
              "        vertical-align: middle;\n",
              "    }\n",
              "\n",
              "    .dataframe tbody tr th {\n",
              "        vertical-align: top;\n",
              "    }\n",
              "\n",
              "    .dataframe thead th {\n",
              "        text-align: right;\n",
              "    }\n",
              "</style>\n",
              "<table border=\"1\" class=\"dataframe\">\n",
              "  <thead>\n",
              "    <tr style=\"text-align: right;\">\n",
              "      <th></th>\n",
              "      <th>Date</th>\n",
              "      <th>Open</th>\n",
              "      <th>High</th>\n",
              "      <th>Low</th>\n",
              "      <th>Close</th>\n",
              "      <th>Adj Close</th>\n",
              "      <th>Volume</th>\n",
              "    </tr>\n",
              "  </thead>\n",
              "  <tbody>\n",
              "    <tr>\n",
              "      <th>0</th>\n",
              "      <td>2019-01-02</td>\n",
              "      <td>46.209999</td>\n",
              "      <td>46.990002</td>\n",
              "      <td>45.855000</td>\n",
              "      <td>46.259998</td>\n",
              "      <td>40.076595</td>\n",
              "      <td>1289100</td>\n",
              "    </tr>\n",
              "    <tr>\n",
              "      <th>1</th>\n",
              "      <td>2019-01-03</td>\n",
              "      <td>46.000000</td>\n",
              "      <td>46.099998</td>\n",
              "      <td>44.882999</td>\n",
              "      <td>45.049999</td>\n",
              "      <td>39.028339</td>\n",
              "      <td>1158800</td>\n",
              "    </tr>\n",
              "    <tr>\n",
              "      <th>2</th>\n",
              "      <td>2019-01-04</td>\n",
              "      <td>45.950001</td>\n",
              "      <td>47.180000</td>\n",
              "      <td>45.880001</td>\n",
              "      <td>47.130001</td>\n",
              "      <td>40.830315</td>\n",
              "      <td>1538500</td>\n",
              "    </tr>\n",
              "    <tr>\n",
              "      <th>3</th>\n",
              "      <td>2019-01-07</td>\n",
              "      <td>47.310001</td>\n",
              "      <td>48.110001</td>\n",
              "      <td>46.840000</td>\n",
              "      <td>47.740002</td>\n",
              "      <td>41.358772</td>\n",
              "      <td>954700</td>\n",
              "    </tr>\n",
              "    <tr>\n",
              "      <th>4</th>\n",
              "      <td>2019-01-08</td>\n",
              "      <td>48.709999</td>\n",
              "      <td>49.480000</td>\n",
              "      <td>48.520000</td>\n",
              "      <td>49.209999</td>\n",
              "      <td>42.632286</td>\n",
              "      <td>1921800</td>\n",
              "    </tr>\n",
              "    <tr>\n",
              "      <th>...</th>\n",
              "      <td>...</td>\n",
              "      <td>...</td>\n",
              "      <td>...</td>\n",
              "      <td>...</td>\n",
              "      <td>...</td>\n",
              "      <td>...</td>\n",
              "      <td>...</td>\n",
              "    </tr>\n",
              "    <tr>\n",
              "      <th>1114</th>\n",
              "      <td>2023-06-06</td>\n",
              "      <td>53.000000</td>\n",
              "      <td>57.294998</td>\n",
              "      <td>52.820000</td>\n",
              "      <td>57.220001</td>\n",
              "      <td>57.220001</td>\n",
              "      <td>6397900</td>\n",
              "    </tr>\n",
              "    <tr>\n",
              "      <th>1115</th>\n",
              "      <td>2023-06-07</td>\n",
              "      <td>57.610001</td>\n",
              "      <td>59.750000</td>\n",
              "      <td>57.520000</td>\n",
              "      <td>59.340000</td>\n",
              "      <td>59.340000</td>\n",
              "      <td>2925500</td>\n",
              "    </tr>\n",
              "    <tr>\n",
              "      <th>1116</th>\n",
              "      <td>2023-06-08</td>\n",
              "      <td>59.400002</td>\n",
              "      <td>60.080002</td>\n",
              "      <td>57.910000</td>\n",
              "      <td>58.939999</td>\n",
              "      <td>58.939999</td>\n",
              "      <td>2828400</td>\n",
              "    </tr>\n",
              "    <tr>\n",
              "      <th>1117</th>\n",
              "      <td>2023-06-09</td>\n",
              "      <td>58.959999</td>\n",
              "      <td>59.349998</td>\n",
              "      <td>58.290001</td>\n",
              "      <td>58.790001</td>\n",
              "      <td>58.790001</td>\n",
              "      <td>1686600</td>\n",
              "    </tr>\n",
              "    <tr>\n",
              "      <th>1118</th>\n",
              "      <td>2023-06-12</td>\n",
              "      <td>58.279999</td>\n",
              "      <td>59.650002</td>\n",
              "      <td>58.279999</td>\n",
              "      <td>59.610001</td>\n",
              "      <td>59.610001</td>\n",
              "      <td>1563100</td>\n",
              "    </tr>\n",
              "  </tbody>\n",
              "</table>\n",
              "<p>1119 rows × 7 columns</p>\n",
              "</div>\n",
              "      <button class=\"colab-df-convert\" onclick=\"convertToInteractive('df-31913730-8504-4794-a242-5e1db2135850')\"\n",
              "              title=\"Convert this dataframe to an interactive table.\"\n",
              "              style=\"display:none;\">\n",
              "        \n",
              "  <svg xmlns=\"http://www.w3.org/2000/svg\" height=\"24px\"viewBox=\"0 0 24 24\"\n",
              "       width=\"24px\">\n",
              "    <path d=\"M0 0h24v24H0V0z\" fill=\"none\"/>\n",
              "    <path d=\"M18.56 5.44l.94 2.06.94-2.06 2.06-.94-2.06-.94-.94-2.06-.94 2.06-2.06.94zm-11 1L8.5 8.5l.94-2.06 2.06-.94-2.06-.94L8.5 2.5l-.94 2.06-2.06.94zm10 10l.94 2.06.94-2.06 2.06-.94-2.06-.94-.94-2.06-.94 2.06-2.06.94z\"/><path d=\"M17.41 7.96l-1.37-1.37c-.4-.4-.92-.59-1.43-.59-.52 0-1.04.2-1.43.59L10.3 9.45l-7.72 7.72c-.78.78-.78 2.05 0 2.83L4 21.41c.39.39.9.59 1.41.59.51 0 1.02-.2 1.41-.59l7.78-7.78 2.81-2.81c.8-.78.8-2.07 0-2.86zM5.41 20L4 18.59l7.72-7.72 1.47 1.35L5.41 20z\"/>\n",
              "  </svg>\n",
              "      </button>\n",
              "      \n",
              "  <style>\n",
              "    .colab-df-container {\n",
              "      display:flex;\n",
              "      flex-wrap:wrap;\n",
              "      gap: 12px;\n",
              "    }\n",
              "\n",
              "    .colab-df-convert {\n",
              "      background-color: #E8F0FE;\n",
              "      border: none;\n",
              "      border-radius: 50%;\n",
              "      cursor: pointer;\n",
              "      display: none;\n",
              "      fill: #1967D2;\n",
              "      height: 32px;\n",
              "      padding: 0 0 0 0;\n",
              "      width: 32px;\n",
              "    }\n",
              "\n",
              "    .colab-df-convert:hover {\n",
              "      background-color: #E2EBFA;\n",
              "      box-shadow: 0px 1px 2px rgba(60, 64, 67, 0.3), 0px 1px 3px 1px rgba(60, 64, 67, 0.15);\n",
              "      fill: #174EA6;\n",
              "    }\n",
              "\n",
              "    [theme=dark] .colab-df-convert {\n",
              "      background-color: #3B4455;\n",
              "      fill: #D2E3FC;\n",
              "    }\n",
              "\n",
              "    [theme=dark] .colab-df-convert:hover {\n",
              "      background-color: #434B5C;\n",
              "      box-shadow: 0px 1px 3px 1px rgba(0, 0, 0, 0.15);\n",
              "      filter: drop-shadow(0px 1px 2px rgba(0, 0, 0, 0.3));\n",
              "      fill: #FFFFFF;\n",
              "    }\n",
              "  </style>\n",
              "\n",
              "      <script>\n",
              "        const buttonEl =\n",
              "          document.querySelector('#df-31913730-8504-4794-a242-5e1db2135850 button.colab-df-convert');\n",
              "        buttonEl.style.display =\n",
              "          google.colab.kernel.accessAllowed ? 'block' : 'none';\n",
              "\n",
              "        async function convertToInteractive(key) {\n",
              "          const element = document.querySelector('#df-31913730-8504-4794-a242-5e1db2135850');\n",
              "          const dataTable =\n",
              "            await google.colab.kernel.invokeFunction('convertToInteractive',\n",
              "                                                     [key], {});\n",
              "          if (!dataTable) return;\n",
              "\n",
              "          const docLinkHtml = 'Like what you see? Visit the ' +\n",
              "            '<a target=\"_blank\" href=https://colab.research.google.com/notebooks/data_table.ipynb>data table notebook</a>'\n",
              "            + ' to learn more about interactive tables.';\n",
              "          element.innerHTML = '';\n",
              "          dataTable['output_type'] = 'display_data';\n",
              "          await google.colab.output.renderOutput(dataTable, element);\n",
              "          const docLink = document.createElement('div');\n",
              "          docLink.innerHTML = docLinkHtml;\n",
              "          element.appendChild(docLink);\n",
              "        }\n",
              "      </script>\n",
              "    </div>\n",
              "  </div>\n",
              "  "
            ]
          },
          "metadata": {},
          "execution_count": 4
        }
      ],
      "source": [
        "# Load data\n",
        "df = pd.read_csv('NTR.csv')\n",
        "df"
      ]
    },
    {
      "cell_type": "markdown",
      "source": [
        "### Reset index"
      ],
      "metadata": {
        "id": "muKE0gL7cQs2"
      },
      "id": "muKE0gL7cQs2"
    },
    {
      "cell_type": "code",
      "source": [
        "# Convert the 'Date' column to datetime format\n",
        "df['Date'] = pd.to_datetime(df['Date'])\n",
        "\n",
        "# Set the 'Date' column as the index value\n",
        "df.set_index('Date', inplace=True)"
      ],
      "metadata": {
        "id": "vG4wgXOK2soU"
      },
      "id": "vG4wgXOK2soU",
      "execution_count": 5,
      "outputs": []
    },
    {
      "cell_type": "code",
      "source": [
        "# Select column 'Close'\n",
        "df_Close = df[['Close']]\n",
        "df_Close = df_Close.reset_index(drop=True)"
      ],
      "metadata": {
        "id": "DBeiREWjJ00j"
      },
      "id": "DBeiREWjJ00j",
      "execution_count": 6,
      "outputs": []
    },
    {
      "cell_type": "markdown",
      "source": [
        "### Data normalization"
      ],
      "metadata": {
        "id": "m9vvIvolcch8"
      },
      "id": "m9vvIvolcch8"
    },
    {
      "cell_type": "code",
      "execution_count": 7,
      "id": "b0cde421",
      "metadata": {
        "id": "b0cde421"
      },
      "outputs": [],
      "source": [
        "# Min-max normalization\n",
        "scaler = MinMaxScaler(feature_range=(0, 1))\n",
        "data_scaled = scaler.fit_transform(np.array(df_Close))"
      ]
    },
    {
      "cell_type": "markdown",
      "source": [
        "### Data splitting"
      ],
      "metadata": {
        "id": "WEnB5G3fcqPg"
      },
      "id": "WEnB5G3fcqPg"
    },
    {
      "cell_type": "code",
      "execution_count": 8,
      "id": "f29f31b1",
      "metadata": {
        "id": "f29f31b1"
      },
      "outputs": [],
      "source": [
        "# Split the data into train, validation, and test dataset in a ratio of 6:2:2\n",
        "train_size = int(len(data_scaled) * 0.6)\n",
        "val_size = int(len(data_scaled) * 0.2)\n",
        "test_size = len(data_scaled) - train_size - val_size\n",
        "\n",
        "train_data = data_scaled[: train_size]\n",
        "val_data = data_scaled[train_size : train_size + val_size]\n",
        "test_data = data_scaled[train_size + val_size :]"
      ]
    },
    {
      "cell_type": "markdown",
      "source": [
        "## Model training and testing"
      ],
      "metadata": {
        "id": "-IFkvqKRgmQX"
      },
      "id": "-IFkvqKRgmQX"
    },
    {
      "cell_type": "code",
      "execution_count": 9,
      "id": "224ff73f",
      "metadata": {
        "id": "224ff73f"
      },
      "outputs": [],
      "source": [
        "# Generating data using the window sliding method\n",
        "def create_dataset(data, window_size):\n",
        "    windows, targets = [], []\n",
        "    for i in range(len(data) - window_size):\n",
        "        windows.append(data[i : (i + window_size), 0])\n",
        "        targets.append(data[i + window_size, 0])\n",
        "    return np.array(windows), np.array(targets)"
      ]
    },
    {
      "cell_type": "markdown",
      "source": [
        "### Building TCANs model"
      ],
      "metadata": {
        "id": "hRDWcZQ0jcRX"
      },
      "id": "hRDWcZQ0jcRX"
    },
    {
      "cell_type": "code",
      "execution_count": 10,
      "id": "HxKvihCf3-C1",
      "metadata": {
        "id": "HxKvihCf3-C1"
      },
      "outputs": [],
      "source": [
        "# Constructing sparse attention layer\n",
        "class AttentionLayer(Layer):\n",
        "    def __init__(self, attention_dim):\n",
        "        super(AttentionLayer, self).__init__()\n",
        "        self.attention_dim = attention_dim\n",
        "\n",
        "    def build(self, input_shape):\n",
        "        self.W1 = Dense(units=self.attention_dim, activation='tanh')\n",
        "        self.W2 = Dense(units=1, activation='linear')\n",
        "        super(AttentionLayer, self).build(input_shape)\n",
        "\n",
        "    def call(self, x):\n",
        "        score = self.W2(self.W1(x))\n",
        "        score = Flatten()(score)\n",
        "        score = Activation('softmax')(score)\n",
        "        score = RepeatVector(x.shape[-1])(score)\n",
        "        score = Permute([2, 1])(score)\n",
        "        return Multiply()([x, score])\n",
        "\n",
        "    def compute_output_shape(self, input_shape):\n",
        "        return input_shape"
      ]
    },
    {
      "cell_type": "code",
      "execution_count": 11,
      "id": "d01b50ee",
      "metadata": {
        "id": "d01b50ee"
      },
      "outputs": [],
      "source": [
        "# Build TCAN model\n",
        "def build_tcan(window_size, input_dim=1, tcn_filters=64, tcn_kernel_size=2, dropout_rate=0.2, attention_dim=16):\n",
        "    inputs = Input(shape=(window_size, input_dim))\n",
        "    x = inputs\n",
        "    x = Conv1D(filters=tcn_filters, kernel_size=tcn_kernel_size, padding='same', activation='relu')(x)\n",
        "    x = SpatialDropout1D(rate=dropout_rate)(x)\n",
        "    x = Conv1D(filters=tcn_filters, kernel_size=tcn_kernel_size, padding='same', activation='relu')(x)\n",
        "    x = SpatialDropout1D(rate=dropout_rate)(x)\n",
        "\n",
        "    # Additive Attention\n",
        "    att = AttentionLayer(attention_dim)(x)\n",
        "    max_pool_att = GlobalMaxPooling1D()(att)\n",
        "    max_pool_x = GlobalMaxPooling1D()(x)\n",
        "    x = concatenate([max_pool_att, max_pool_x])\n",
        "\n",
        "    outputs = Dense(1)(x)\n",
        "\n",
        "    model = Model(inputs=inputs, outputs=outputs)\n",
        "    optimizer = Adam(learning_rate=0.001)\n",
        "    model.compile(loss='mean_absolute_error', optimizer=optimizer)\n",
        "\n",
        "    return model"
      ]
    },
    {
      "cell_type": "markdown",
      "source": [
        "### Learning process with combined parameter optimization"
      ],
      "metadata": {
        "id": "kfSIcYf1jyjU"
      },
      "id": "kfSIcYf1jyjU"
    },
    {
      "cell_type": "code",
      "execution_count": null,
      "id": "690ac169",
      "metadata": {
        "id": "690ac169"
      },
      "outputs": [],
      "source": [
        "# Initialization of optimization parameters\n",
        "best_mse = float('inf')\n",
        "best_model = None\n",
        "best_window_size = None\n",
        "best_train_windows = None\n",
        "best_train_targets = None\n",
        "best_test_windows = None\n",
        "best_test_targets = None\n",
        "best_val_windows = None\n",
        "best_val_targets = None\n",
        "best_y_pred = None\n",
        "best_mape = np.inf\n",
        "best_rmse = np.inf\n",
        "best_msle = np.inf"
      ]
    },
    {
      "cell_type": "code",
      "source": [
        "# Define the objective function for Optuna optimization\n",
        "def objective(trial):\n",
        "  global best_mse, best_model, best_window_size, best_train_windows\n",
        "  global best_train_targets, best_test_windows, best_test_targets, best_val_windows\n",
        "  global best_val_targets, best_y_pred, best_mape, best_rmse, best_msle\n",
        "\n",
        "  # Define the search space for hyperparameters\n",
        "  window_size = trial.suggest_int(\"window_size\", 10, 100)\n",
        "  tcn_filters = trial.suggest_int(\"tcn_filters\", 32, 128)\n",
        "  tcn_kernel_size = trial.suggest_int(\"tcn_kernel_size\", 2, 5)\n",
        "  dropout_rate = trial.suggest_float(\"dropout_rate\", 0.1, 0.5)\n",
        "  attention_dim = trial.suggest_int(\"attention_dim\", 8, 32)\n",
        "\n",
        "  # Build the TCAN model with the suggested hyperparameters\n",
        "  model = build_tcan(window_size,\n",
        "                     tcn_filters = tcn_filters,\n",
        "                     tcn_kernel_size = tcn_kernel_size,\n",
        "                     dropout_rate = dropout_rate,\n",
        "                     attention_dim = attention_dim)\n",
        "\n",
        "  val_last_window_size = val_data[-window_size:]\n",
        "  test_data_extended = np.concatenate((val_last_window_size, test_data), axis=0)\n",
        "\n",
        "  train_windows, train_targets = create_dataset(train_data, window_size)\n",
        "  val_windows, val_targets = create_dataset(val_data, window_size)\n",
        "  test_windows, test_targets = create_dataset(test_data_extended, window_size)\n",
        "\n",
        "  # Train the model\n",
        "  early_stop = EarlyStopping(monitor='val_loss', patience=5)\n",
        "  model.fit(train_windows, train_targets,\n",
        "            epochs=50, batch_size=32,\n",
        "            validation_data=(val_windows, val_targets),\n",
        "            shuffle=False, callbacks=[early_stop], verbose=0)\n",
        "\n",
        "  # Testing the model on Test dataset\n",
        "  y_pred = model.predict(test_windows)\n",
        "\n",
        "  # Evaluate on MAPE, RMSE, MSLE\n",
        "  temp_test_targets = test_targets\n",
        "  temp_test_targets = scaler.inverse_transform(temp_test_targets.reshape(-1, 1))\n",
        "  y_pred = scaler.inverse_transform(y_pred)\n",
        "\n",
        "  mse = mean_squared_error(temp_test_targets, y_pred)\n",
        "  rmse = np.sqrt(mse)\n",
        "  mape = mean_absolute_percentage_error(temp_test_targets, y_pred)\n",
        "  msle = mean_squared_log_error(temp_test_targets, y_pred)\n",
        "\n",
        "  # Save the best model and related information\n",
        "  if mse < best_mse or best_mse is None:\n",
        "    best_model = model\n",
        "    best_window_size = window_size\n",
        "    best_y_pred = y_pred\n",
        "    best_train_windows = train_windows\n",
        "    best_train_targets = train_targets\n",
        "    best_test_windows = test_windows\n",
        "    best_test_targets = test_targets\n",
        "    best_val_windows = val_windows\n",
        "    best_val_targets = val_targets\n",
        "    best_rmse = rmse\n",
        "    best_mape = mape\n",
        "    best_msle = msle\n",
        "    best_mse = mse\n",
        "\n",
        "  return mse"
      ],
      "metadata": {
        "id": "m3MDjWCd-kl8"
      },
      "id": "m3MDjWCd-kl8",
      "execution_count": null,
      "outputs": []
    },
    {
      "cell_type": "code",
      "source": [
        "# Define the search space for the hyperparameters\n",
        "study = optuna.create_study(direction=\"minimize\")\n",
        "study.optimize(objective, n_trials=100)"
      ],
      "metadata": {
        "colab": {
          "base_uri": "https://localhost:8080/"
        },
        "id": "tAQaYsmr-mkW",
        "outputId": "0801b5f7-746c-4606-e800-54e69e06981f"
      },
      "id": "tAQaYsmr-mkW",
      "execution_count": null,
      "outputs": [
        {
          "output_type": "stream",
          "name": "stderr",
          "text": [
            "[I 2023-06-17 01:52:30,105] A new study created in memory with name: no-name-689dab65-394d-4d21-8676-c123cfca4a5f\n"
          ]
        },
        {
          "output_type": "stream",
          "name": "stdout",
          "text": [
            "8/8 [==============================] - 0s 5ms/step\n"
          ]
        },
        {
          "output_type": "stream",
          "name": "stderr",
          "text": [
            "[I 2023-06-17 01:52:43,747] Trial 0 finished with value: 19.9534804320609 and parameters: {'window_size': 56, 'tcn_filters': 103, 'tcn_kernel_size': 2, 'dropout_rate': 0.11421263737433468, 'attention_dim': 12}. Best is trial 0 with value: 19.9534804320609.\n"
          ]
        },
        {
          "output_type": "stream",
          "name": "stdout",
          "text": [
            "8/8 [==============================] - 0s 3ms/step\n"
          ]
        },
        {
          "output_type": "stream",
          "name": "stderr",
          "text": [
            "[I 2023-06-17 01:52:53,762] Trial 1 finished with value: 8.056511549986164 and parameters: {'window_size': 66, 'tcn_filters': 110, 'tcn_kernel_size': 2, 'dropout_rate': 0.46134143984942755, 'attention_dim': 20}. Best is trial 1 with value: 8.056511549986164.\n"
          ]
        },
        {
          "output_type": "stream",
          "name": "stdout",
          "text": [
            "8/8 [==============================] - 0s 3ms/step\n"
          ]
        },
        {
          "output_type": "stream",
          "name": "stderr",
          "text": [
            "[I 2023-06-17 01:52:57,536] Trial 2 finished with value: 28.31602591249263 and parameters: {'window_size': 99, 'tcn_filters': 46, 'tcn_kernel_size': 5, 'dropout_rate': 0.24107304140329813, 'attention_dim': 17}. Best is trial 1 with value: 8.056511549986164.\n"
          ]
        },
        {
          "output_type": "stream",
          "name": "stdout",
          "text": [
            "8/8 [==============================] - 0s 4ms/step\n"
          ]
        },
        {
          "output_type": "stream",
          "name": "stderr",
          "text": [
            "[I 2023-06-17 01:53:03,907] Trial 3 finished with value: 6.816185953966694 and parameters: {'window_size': 47, 'tcn_filters': 73, 'tcn_kernel_size': 3, 'dropout_rate': 0.30781045528264084, 'attention_dim': 15}. Best is trial 3 with value: 6.816185953966694.\n"
          ]
        },
        {
          "output_type": "stream",
          "name": "stdout",
          "text": [
            "8/8 [==============================] - 0s 3ms/step\n"
          ]
        },
        {
          "output_type": "stream",
          "name": "stderr",
          "text": [
            "[I 2023-06-17 01:53:09,961] Trial 4 finished with value: 7.658873668848503 and parameters: {'window_size': 74, 'tcn_filters': 42, 'tcn_kernel_size': 3, 'dropout_rate': 0.26008008152528556, 'attention_dim': 24}. Best is trial 3 with value: 6.816185953966694.\n"
          ]
        },
        {
          "output_type": "stream",
          "name": "stdout",
          "text": [
            "8/8 [==============================] - 0s 5ms/step\n"
          ]
        },
        {
          "output_type": "stream",
          "name": "stderr",
          "text": [
            "[I 2023-06-17 01:53:22,042] Trial 5 finished with value: 6.266867906745552 and parameters: {'window_size': 88, 'tcn_filters': 122, 'tcn_kernel_size': 2, 'dropout_rate': 0.1277712351590893, 'attention_dim': 18}. Best is trial 5 with value: 6.266867906745552.\n"
          ]
        },
        {
          "output_type": "stream",
          "name": "stdout",
          "text": [
            "8/8 [==============================] - 0s 3ms/step\n"
          ]
        },
        {
          "output_type": "stream",
          "name": "stderr",
          "text": [
            "[I 2023-06-17 01:53:28,413] Trial 6 finished with value: 9.026373363721733 and parameters: {'window_size': 77, 'tcn_filters': 37, 'tcn_kernel_size': 4, 'dropout_rate': 0.13895824467684142, 'attention_dim': 18}. Best is trial 5 with value: 6.266867906745552.\n"
          ]
        },
        {
          "output_type": "stream",
          "name": "stdout",
          "text": [
            "8/8 [==============================] - 0s 4ms/step\n"
          ]
        },
        {
          "output_type": "stream",
          "name": "stderr",
          "text": [
            "[I 2023-06-17 01:53:35,255] Trial 7 finished with value: 6.716393278343607 and parameters: {'window_size': 74, 'tcn_filters': 90, 'tcn_kernel_size': 3, 'dropout_rate': 0.2814902575508243, 'attention_dim': 26}. Best is trial 5 with value: 6.266867906745552.\n"
          ]
        },
        {
          "output_type": "stream",
          "name": "stdout",
          "text": [
            "8/8 [==============================] - 0s 3ms/step\n"
          ]
        },
        {
          "output_type": "stream",
          "name": "stderr",
          "text": [
            "[I 2023-06-17 01:53:44,127] Trial 8 finished with value: 7.610750118802967 and parameters: {'window_size': 47, 'tcn_filters': 79, 'tcn_kernel_size': 5, 'dropout_rate': 0.1891575523839436, 'attention_dim': 11}. Best is trial 5 with value: 6.266867906745552.\n"
          ]
        },
        {
          "output_type": "stream",
          "name": "stdout",
          "text": [
            "8/8 [==============================] - 0s 2ms/step\n"
          ]
        },
        {
          "output_type": "stream",
          "name": "stderr",
          "text": [
            "[I 2023-06-17 01:53:47,918] Trial 9 finished with value: 21.756207177764153 and parameters: {'window_size': 36, 'tcn_filters': 49, 'tcn_kernel_size': 3, 'dropout_rate': 0.14949281578137696, 'attention_dim': 29}. Best is trial 5 with value: 6.266867906745552.\n"
          ]
        },
        {
          "output_type": "stream",
          "name": "stdout",
          "text": [
            "8/8 [==============================] - 0s 2ms/step\n"
          ]
        },
        {
          "output_type": "stream",
          "name": "stderr",
          "text": [
            "[I 2023-06-17 01:53:51,485] Trial 10 finished with value: 4.762973600978338 and parameters: {'window_size': 14, 'tcn_filters': 127, 'tcn_kernel_size': 2, 'dropout_rate': 0.35687967638757145, 'attention_dim': 8}. Best is trial 10 with value: 4.762973600978338.\n"
          ]
        },
        {
          "output_type": "stream",
          "name": "stdout",
          "text": [
            "8/8 [==============================] - 0s 2ms/step\n"
          ]
        },
        {
          "output_type": "stream",
          "name": "stderr",
          "text": [
            "[I 2023-06-17 01:53:56,287] Trial 11 finished with value: 5.899723770316905 and parameters: {'window_size': 10, 'tcn_filters': 128, 'tcn_kernel_size': 2, 'dropout_rate': 0.3489808802129577, 'attention_dim': 8}. Best is trial 10 with value: 4.762973600978338.\n"
          ]
        },
        {
          "output_type": "stream",
          "name": "stdout",
          "text": [
            "8/8 [==============================] - 1s 2ms/step\n"
          ]
        },
        {
          "output_type": "stream",
          "name": "stderr",
          "text": [
            "[I 2023-06-17 01:53:59,321] Trial 12 finished with value: 11.151887435686852 and parameters: {'window_size': 10, 'tcn_filters': 126, 'tcn_kernel_size': 2, 'dropout_rate': 0.36655017155591485, 'attention_dim': 9}. Best is trial 10 with value: 4.762973600978338.\n"
          ]
        },
        {
          "output_type": "stream",
          "name": "stdout",
          "text": [
            "8/8 [==============================] - 0s 2ms/step\n"
          ]
        },
        {
          "output_type": "stream",
          "name": "stderr",
          "text": [
            "[I 2023-06-17 01:54:03,122] Trial 13 finished with value: 6.761045288670383 and parameters: {'window_size': 11, 'tcn_filters': 109, 'tcn_kernel_size': 4, 'dropout_rate': 0.38579753280737655, 'attention_dim': 8}. Best is trial 10 with value: 4.762973600978338.\n"
          ]
        },
        {
          "output_type": "stream",
          "name": "stdout",
          "text": [
            "8/8 [==============================] - 0s 3ms/step\n"
          ]
        },
        {
          "output_type": "stream",
          "name": "stderr",
          "text": [
            "[I 2023-06-17 01:54:08,259] Trial 14 finished with value: 6.506845128719159 and parameters: {'window_size': 22, 'tcn_filters': 125, 'tcn_kernel_size': 2, 'dropout_rate': 0.352892530261968, 'attention_dim': 14}. Best is trial 10 with value: 4.762973600978338.\n"
          ]
        },
        {
          "output_type": "stream",
          "name": "stdout",
          "text": [
            "8/8 [==============================] - 0s 2ms/step\n"
          ]
        },
        {
          "output_type": "stream",
          "name": "stderr",
          "text": [
            "[I 2023-06-17 01:54:13,923] Trial 15 finished with value: 5.886352023536679 and parameters: {'window_size': 27, 'tcn_filters': 95, 'tcn_kernel_size': 2, 'dropout_rate': 0.4276931761485567, 'attention_dim': 11}. Best is trial 10 with value: 4.762973600978338.\n"
          ]
        },
        {
          "output_type": "stream",
          "name": "stdout",
          "text": [
            "8/8 [==============================] - 0s 3ms/step\n"
          ]
        },
        {
          "output_type": "stream",
          "name": "stderr",
          "text": [
            "[I 2023-06-17 01:54:25,336] Trial 16 finished with value: 10.101252315942313 and parameters: {'window_size': 30, 'tcn_filters': 93, 'tcn_kernel_size': 4, 'dropout_rate': 0.44072277579694963, 'attention_dim': 12}. Best is trial 10 with value: 4.762973600978338.\n"
          ]
        },
        {
          "output_type": "stream",
          "name": "stdout",
          "text": [
            "8/8 [==============================] - 0s 2ms/step\n"
          ]
        },
        {
          "output_type": "stream",
          "name": "stderr",
          "text": [
            "[I 2023-06-17 01:54:29,116] Trial 17 finished with value: 23.584270694785964 and parameters: {'window_size': 24, 'tcn_filters': 68, 'tcn_kernel_size': 3, 'dropout_rate': 0.48017121849288746, 'attention_dim': 23}. Best is trial 10 with value: 4.762973600978338.\n"
          ]
        },
        {
          "output_type": "stream",
          "name": "stdout",
          "text": [
            "8/8 [==============================] - 0s 2ms/step\n"
          ]
        },
        {
          "output_type": "stream",
          "name": "stderr",
          "text": [
            "[I 2023-06-17 01:54:35,874] Trial 18 finished with value: 6.718093240006745 and parameters: {'window_size': 33, 'tcn_filters': 59, 'tcn_kernel_size': 2, 'dropout_rate': 0.4218977046437693, 'attention_dim': 32}. Best is trial 10 with value: 4.762973600978338.\n"
          ]
        },
        {
          "output_type": "stream",
          "name": "stdout",
          "text": [
            "8/8 [==============================] - 0s 2ms/step\n"
          ]
        },
        {
          "output_type": "stream",
          "name": "stderr",
          "text": [
            "[I 2023-06-17 01:54:42,219] Trial 19 finished with value: 12.76466421721832 and parameters: {'window_size': 21, 'tcn_filters': 92, 'tcn_kernel_size': 3, 'dropout_rate': 0.4052441304255098, 'attention_dim': 14}. Best is trial 10 with value: 4.762973600978338.\n"
          ]
        },
        {
          "output_type": "stream",
          "name": "stdout",
          "text": [
            "8/8 [==============================] - 0s 3ms/step\n"
          ]
        },
        {
          "output_type": "stream",
          "name": "stderr",
          "text": [
            "[I 2023-06-17 01:54:53,732] Trial 20 finished with value: 7.358595697780094 and parameters: {'window_size': 42, 'tcn_filters': 116, 'tcn_kernel_size': 2, 'dropout_rate': 0.4964309432987093, 'attention_dim': 10}. Best is trial 10 with value: 4.762973600978338.\n"
          ]
        },
        {
          "output_type": "stream",
          "name": "stdout",
          "text": [
            "8/8 [==============================] - 0s 2ms/step\n"
          ]
        },
        {
          "output_type": "stream",
          "name": "stderr",
          "text": [
            "[I 2023-06-17 01:54:57,554] Trial 21 finished with value: 12.160436196446495 and parameters: {'window_size': 16, 'tcn_filters': 101, 'tcn_kernel_size': 2, 'dropout_rate': 0.34051190135400033, 'attention_dim': 9}. Best is trial 10 with value: 4.762973600978338.\n"
          ]
        },
        {
          "output_type": "stream",
          "name": "stdout",
          "text": [
            "8/8 [==============================] - 0s 3ms/step\n"
          ]
        },
        {
          "output_type": "stream",
          "name": "stderr",
          "text": [
            "[I 2023-06-17 01:55:05,073] Trial 22 finished with value: 8.58088541828595 and parameters: {'window_size': 26, 'tcn_filters': 117, 'tcn_kernel_size': 2, 'dropout_rate': 0.4195735306631548, 'attention_dim': 8}. Best is trial 10 with value: 4.762973600978338.\n"
          ]
        },
        {
          "output_type": "stream",
          "name": "stdout",
          "text": [
            "8/8 [==============================] - 0s 2ms/step\n"
          ]
        },
        {
          "output_type": "stream",
          "name": "stderr",
          "text": [
            "[I 2023-06-17 01:55:09,686] Trial 23 finished with value: 9.981837187438359 and parameters: {'window_size': 16, 'tcn_filters': 127, 'tcn_kernel_size': 2, 'dropout_rate': 0.32536355080812707, 'attention_dim': 12}. Best is trial 10 with value: 4.762973600978338.\n"
          ]
        },
        {
          "output_type": "stream",
          "name": "stdout",
          "text": [
            "8/8 [==============================] - 0s 3ms/step\n"
          ]
        },
        {
          "output_type": "stream",
          "name": "stderr",
          "text": [
            "[I 2023-06-17 01:55:12,808] Trial 24 finished with value: 15.098345945862766 and parameters: {'window_size': 10, 'tcn_filters': 113, 'tcn_kernel_size': 3, 'dropout_rate': 0.39266705166820093, 'attention_dim': 8}. Best is trial 10 with value: 4.762973600978338.\n"
          ]
        },
        {
          "output_type": "stream",
          "name": "stdout",
          "text": [
            "8/8 [==============================] - 0s 3ms/step\n"
          ]
        },
        {
          "output_type": "stream",
          "name": "stderr",
          "text": [
            "[I 2023-06-17 01:55:19,989] Trial 25 finished with value: 4.863792103569037 and parameters: {'window_size': 39, 'tcn_filters': 100, 'tcn_kernel_size': 2, 'dropout_rate': 0.3762696828690815, 'attention_dim': 15}. Best is trial 10 with value: 4.762973600978338.\n"
          ]
        },
        {
          "output_type": "stream",
          "name": "stdout",
          "text": [
            "8/8 [==============================] - 0s 4ms/step\n"
          ]
        },
        {
          "output_type": "stream",
          "name": "stderr",
          "text": [
            "[I 2023-06-17 01:55:26,440] Trial 26 finished with value: 16.947158888241216 and parameters: {'window_size': 39, 'tcn_filters': 83, 'tcn_kernel_size': 3, 'dropout_rate': 0.44794630735010876, 'attention_dim': 16}. Best is trial 10 with value: 4.762973600978338.\n"
          ]
        },
        {
          "output_type": "stream",
          "name": "stdout",
          "text": [
            "8/8 [==============================] - 0s 4ms/step\n"
          ]
        },
        {
          "output_type": "stream",
          "name": "stderr",
          "text": [
            "[I 2023-06-17 01:55:38,393] Trial 27 finished with value: 4.7129178166065016 and parameters: {'window_size': 52, 'tcn_filters': 103, 'tcn_kernel_size': 2, 'dropout_rate': 0.38032290446171313, 'attention_dim': 14}. Best is trial 27 with value: 4.7129178166065016.\n"
          ]
        },
        {
          "output_type": "stream",
          "name": "stdout",
          "text": [
            "8/8 [==============================] - 0s 6ms/step\n"
          ]
        },
        {
          "output_type": "stream",
          "name": "stderr",
          "text": [
            "[I 2023-06-17 01:55:50,762] Trial 28 finished with value: 7.606517736328551 and parameters: {'window_size': 59, 'tcn_filters': 103, 'tcn_kernel_size': 4, 'dropout_rate': 0.37554257668161317, 'attention_dim': 20}. Best is trial 27 with value: 4.7129178166065016.\n"
          ]
        },
        {
          "output_type": "stream",
          "name": "stdout",
          "text": [
            "8/8 [==============================] - 0s 3ms/step\n"
          ]
        },
        {
          "output_type": "stream",
          "name": "stderr",
          "text": [
            "[I 2023-06-17 01:56:01,805] Trial 29 finished with value: 5.799640301665046 and parameters: {'window_size': 52, 'tcn_filters': 103, 'tcn_kernel_size': 2, 'dropout_rate': 0.3159029142583243, 'attention_dim': 13}. Best is trial 27 with value: 4.7129178166065016.\n"
          ]
        },
        {
          "output_type": "stream",
          "name": "stdout",
          "text": [
            "8/8 [==============================] - 0s 3ms/step\n"
          ]
        },
        {
          "output_type": "stream",
          "name": "stderr",
          "text": [
            "[I 2023-06-17 01:56:07,566] Trial 30 finished with value: 8.50200686419159 and parameters: {'window_size': 55, 'tcn_filters': 84, 'tcn_kernel_size': 2, 'dropout_rate': 0.3924492618199537, 'attention_dim': 15}. Best is trial 27 with value: 4.7129178166065016.\n"
          ]
        },
        {
          "output_type": "stream",
          "name": "stdout",
          "text": [
            "8/8 [==============================] - 0s 3ms/step\n"
          ]
        },
        {
          "output_type": "stream",
          "name": "stderr",
          "text": [
            "[I 2023-06-17 01:56:18,317] Trial 31 finished with value: 6.974115667497218 and parameters: {'window_size': 60, 'tcn_filters': 100, 'tcn_kernel_size': 2, 'dropout_rate': 0.3179380451169173, 'attention_dim': 14}. Best is trial 27 with value: 4.7129178166065016.\n"
          ]
        },
        {
          "output_type": "stream",
          "name": "stdout",
          "text": [
            "8/8 [==============================] - 0s 4ms/step\n"
          ]
        },
        {
          "output_type": "stream",
          "name": "stderr",
          "text": [
            "[I 2023-06-17 01:56:29,865] Trial 32 finished with value: 8.239027773944565 and parameters: {'window_size': 51, 'tcn_filters': 109, 'tcn_kernel_size': 2, 'dropout_rate': 0.362458363525754, 'attention_dim': 13}. Best is trial 27 with value: 4.7129178166065016.\n"
          ]
        },
        {
          "output_type": "stream",
          "name": "stdout",
          "text": [
            "8/8 [==============================] - 0s 5ms/step\n"
          ]
        },
        {
          "output_type": "stream",
          "name": "stderr",
          "text": [
            "[I 2023-06-17 01:56:41,420] Trial 33 finished with value: 4.792739758918472 and parameters: {'window_size': 65, 'tcn_filters': 107, 'tcn_kernel_size': 2, 'dropout_rate': 0.3315062823433476, 'attention_dim': 19}. Best is trial 27 with value: 4.7129178166065016.\n"
          ]
        },
        {
          "output_type": "stream",
          "name": "stdout",
          "text": [
            "8/8 [==============================] - 0s 4ms/step\n"
          ]
        },
        {
          "output_type": "stream",
          "name": "stderr",
          "text": [
            "[I 2023-06-17 01:57:03,306] Trial 34 finished with value: 10.052951636055106 and parameters: {'window_size': 66, 'tcn_filters': 119, 'tcn_kernel_size': 2, 'dropout_rate': 0.3369895661038105, 'attention_dim': 21}. Best is trial 27 with value: 4.7129178166065016.\n"
          ]
        },
        {
          "output_type": "stream",
          "name": "stdout",
          "text": [
            "8/8 [==============================] - 0s 5ms/step\n"
          ]
        },
        {
          "output_type": "stream",
          "name": "stderr",
          "text": [
            "[I 2023-06-17 01:57:16,613] Trial 35 finished with value: 6.575754908087122 and parameters: {'window_size': 62, 'tcn_filters': 111, 'tcn_kernel_size': 3, 'dropout_rate': 0.2921531443912059, 'attention_dim': 17}. Best is trial 27 with value: 4.7129178166065016.\n"
          ]
        },
        {
          "output_type": "stream",
          "name": "stdout",
          "text": [
            "8/8 [==============================] - 0s 3ms/step\n"
          ]
        },
        {
          "output_type": "stream",
          "name": "stderr",
          "text": [
            "[I 2023-06-17 01:57:25,442] Trial 36 finished with value: 4.936133190779458 and parameters: {'window_size': 82, 'tcn_filters': 97, 'tcn_kernel_size': 2, 'dropout_rate': 0.3720025754839934, 'attention_dim': 20}. Best is trial 27 with value: 4.7129178166065016.\n"
          ]
        },
        {
          "output_type": "stream",
          "name": "stdout",
          "text": [
            "8/8 [==============================] - 0s 5ms/step\n"
          ]
        },
        {
          "output_type": "stream",
          "name": "stderr",
          "text": [
            "[I 2023-06-17 01:57:40,102] Trial 37 finished with value: 6.299776818839665 and parameters: {'window_size': 68, 'tcn_filters': 106, 'tcn_kernel_size': 5, 'dropout_rate': 0.3041653646270626, 'attention_dim': 19}. Best is trial 27 with value: 4.7129178166065016.\n"
          ]
        },
        {
          "output_type": "stream",
          "name": "stdout",
          "text": [
            "8/8 [==============================] - 0s 3ms/step\n"
          ]
        },
        {
          "output_type": "stream",
          "name": "stderr",
          "text": [
            "[I 2023-06-17 01:57:51,650] Trial 38 finished with value: 5.352130356063863 and parameters: {'window_size': 46, 'tcn_filters': 88, 'tcn_kernel_size': 3, 'dropout_rate': 0.2758373295069192, 'attention_dim': 22}. Best is trial 27 with value: 4.7129178166065016.\n"
          ]
        },
        {
          "output_type": "stream",
          "name": "stdout",
          "text": [
            "8/8 [==============================] - 0s 4ms/step\n"
          ]
        },
        {
          "output_type": "stream",
          "name": "stderr",
          "text": [
            "[I 2023-06-17 01:58:03,141] Trial 39 finished with value: 8.061233665303718 and parameters: {'window_size': 90, 'tcn_filters': 75, 'tcn_kernel_size': 2, 'dropout_rate': 0.3304595267988163, 'attention_dim': 25}. Best is trial 27 with value: 4.7129178166065016.\n"
          ]
        },
        {
          "output_type": "stream",
          "name": "stdout",
          "text": [
            "8/8 [==============================] - 0s 5ms/step\n"
          ]
        },
        {
          "output_type": "stream",
          "name": "stderr",
          "text": [
            "[I 2023-06-17 01:58:09,535] Trial 40 finished with value: 15.273070149600079 and parameters: {'window_size': 42, 'tcn_filters': 120, 'tcn_kernel_size': 3, 'dropout_rate': 0.4021223659440675, 'attention_dim': 16}. Best is trial 27 with value: 4.7129178166065016.\n"
          ]
        },
        {
          "output_type": "stream",
          "name": "stdout",
          "text": [
            "8/8 [==============================] - 0s 4ms/step\n"
          ]
        },
        {
          "output_type": "stream",
          "name": "stderr",
          "text": [
            "[I 2023-06-17 01:58:21,360] Trial 41 finished with value: 4.706089217058409 and parameters: {'window_size': 82, 'tcn_filters': 98, 'tcn_kernel_size': 2, 'dropout_rate': 0.37669978213998234, 'attention_dim': 19}. Best is trial 41 with value: 4.706089217058409.\n"
          ]
        },
        {
          "output_type": "stream",
          "name": "stdout",
          "text": [
            "8/8 [==============================] - 0s 4ms/step\n"
          ]
        },
        {
          "output_type": "stream",
          "name": "stderr",
          "text": [
            "[I 2023-06-17 01:58:33,063] Trial 42 finished with value: 8.164169704374237 and parameters: {'window_size': 89, 'tcn_filters': 97, 'tcn_kernel_size': 2, 'dropout_rate': 0.354483082321077, 'attention_dim': 18}. Best is trial 41 with value: 4.706089217058409.\n"
          ]
        },
        {
          "output_type": "stream",
          "name": "stdout",
          "text": [
            "8/8 [==============================] - 0s 4ms/step\n"
          ]
        },
        {
          "output_type": "stream",
          "name": "stderr",
          "text": [
            "[I 2023-06-17 01:58:42,730] Trial 43 finished with value: 6.658325772150692 and parameters: {'window_size': 94, 'tcn_filters': 87, 'tcn_kernel_size': 2, 'dropout_rate': 0.38347100996705613, 'attention_dim': 17}. Best is trial 41 with value: 4.706089217058409.\n"
          ]
        },
        {
          "output_type": "stream",
          "name": "stdout",
          "text": [
            "8/8 [==============================] - 0s 5ms/step\n"
          ]
        },
        {
          "output_type": "stream",
          "name": "stderr",
          "text": [
            "[I 2023-06-17 01:58:52,807] Trial 44 finished with value: 5.240541990523108 and parameters: {'window_size': 82, 'tcn_filters': 113, 'tcn_kernel_size': 2, 'dropout_rate': 0.3583921445416219, 'attention_dim': 19}. Best is trial 41 with value: 4.706089217058409.\n"
          ]
        },
        {
          "output_type": "stream",
          "name": "stdout",
          "text": [
            "8/8 [==============================] - 0s 4ms/step\n"
          ]
        },
        {
          "output_type": "stream",
          "name": "stderr",
          "text": [
            "[I 2023-06-17 01:59:04,867] Trial 45 finished with value: 4.778460499196799 and parameters: {'window_size': 74, 'tcn_filters': 105, 'tcn_kernel_size': 2, 'dropout_rate': 0.3373422638316212, 'attention_dim': 22}. Best is trial 41 with value: 4.706089217058409.\n"
          ]
        },
        {
          "output_type": "stream",
          "name": "stdout",
          "text": [
            "8/8 [==============================] - 0s 5ms/step\n"
          ]
        },
        {
          "output_type": "stream",
          "name": "stderr",
          "text": [
            "[I 2023-06-17 01:59:15,402] Trial 46 finished with value: 5.90033504693064 and parameters: {'window_size': 70, 'tcn_filters': 121, 'tcn_kernel_size': 2, 'dropout_rate': 0.30530987220163963, 'attention_dim': 27}. Best is trial 41 with value: 4.706089217058409.\n"
          ]
        },
        {
          "output_type": "stream",
          "name": "stdout",
          "text": [
            "8/8 [==============================] - 0s 5ms/step\n"
          ]
        },
        {
          "output_type": "stream",
          "name": "stderr",
          "text": [
            "[I 2023-06-17 01:59:23,452] Trial 47 finished with value: 6.846959971719792 and parameters: {'window_size': 77, 'tcn_filters': 107, 'tcn_kernel_size': 3, 'dropout_rate': 0.3370868228140084, 'attention_dim': 22}. Best is trial 41 with value: 4.706089217058409.\n"
          ]
        },
        {
          "output_type": "stream",
          "name": "stdout",
          "text": [
            "8/8 [==============================] - 0s 5ms/step\n"
          ]
        },
        {
          "output_type": "stream",
          "name": "stderr",
          "text": [
            "[I 2023-06-17 01:59:32,150] Trial 48 finished with value: 7.32657739082246 and parameters: {'window_size': 100, 'tcn_filters': 115, 'tcn_kernel_size': 2, 'dropout_rate': 0.34812482114873433, 'attention_dim': 24}. Best is trial 41 with value: 4.706089217058409.\n"
          ]
        },
        {
          "output_type": "stream",
          "name": "stdout",
          "text": [
            "8/8 [==============================] - 0s 6ms/step\n"
          ]
        },
        {
          "output_type": "stream",
          "name": "stderr",
          "text": [
            "[I 2023-06-17 01:59:43,647] Trial 49 finished with value: 5.617792943761671 and parameters: {'window_size': 73, 'tcn_filters': 106, 'tcn_kernel_size': 5, 'dropout_rate': 0.26757519355574716, 'attention_dim': 21}. Best is trial 41 with value: 4.706089217058409.\n"
          ]
        },
        {
          "output_type": "stream",
          "name": "stdout",
          "text": [
            "8/8 [==============================] - 0s 6ms/step\n"
          ]
        },
        {
          "output_type": "stream",
          "name": "stderr",
          "text": [
            "[I 2023-06-17 02:00:05,399] Trial 50 finished with value: 7.080520962023877 and parameters: {'window_size': 80, 'tcn_filters': 124, 'tcn_kernel_size': 2, 'dropout_rate': 0.3170223345783831, 'attention_dim': 19}. Best is trial 41 with value: 4.706089217058409.\n"
          ]
        },
        {
          "output_type": "stream",
          "name": "stdout",
          "text": [
            "8/8 [==============================] - 0s 4ms/step\n"
          ]
        },
        {
          "output_type": "stream",
          "name": "stderr",
          "text": [
            "[I 2023-06-17 02:00:17,206] Trial 51 finished with value: 8.109907074961056 and parameters: {'window_size': 84, 'tcn_filters': 100, 'tcn_kernel_size': 2, 'dropout_rate': 0.37278267468320136, 'attention_dim': 16}. Best is trial 41 with value: 4.706089217058409.\n"
          ]
        },
        {
          "output_type": "stream",
          "name": "stdout",
          "text": [
            "8/8 [==============================] - 0s 4ms/step\n"
          ]
        },
        {
          "output_type": "stream",
          "name": "stderr",
          "text": [
            "[I 2023-06-17 02:00:23,991] Trial 52 finished with value: 4.889850408438872 and parameters: {'window_size': 63, 'tcn_filters': 95, 'tcn_kernel_size': 2, 'dropout_rate': 0.40950575850218146, 'attention_dim': 18}. Best is trial 41 with value: 4.706089217058409.\n"
          ]
        },
        {
          "output_type": "stream",
          "name": "stdout",
          "text": [
            "8/8 [==============================] - 0s 4ms/step\n"
          ]
        },
        {
          "output_type": "stream",
          "name": "stderr",
          "text": [
            "[I 2023-06-17 02:00:34,520] Trial 53 finished with value: 4.782015013533815 and parameters: {'window_size': 71, 'tcn_filters': 91, 'tcn_kernel_size': 2, 'dropout_rate': 0.3846770283648555, 'attention_dim': 11}. Best is trial 41 with value: 4.706089217058409.\n"
          ]
        },
        {
          "output_type": "stream",
          "name": "stdout",
          "text": [
            "8/8 [==============================] - 0s 3ms/step\n"
          ]
        },
        {
          "output_type": "stream",
          "name": "stderr",
          "text": [
            "[I 2023-06-17 02:00:46,549] Trial 54 finished with value: 4.929314432245028 and parameters: {'window_size': 71, 'tcn_filters': 92, 'tcn_kernel_size': 2, 'dropout_rate': 0.36050796377923977, 'attention_dim': 11}. Best is trial 41 with value: 4.706089217058409.\n"
          ]
        },
        {
          "output_type": "stream",
          "name": "stdout",
          "text": [
            "8/8 [==============================] - 0s 4ms/step\n"
          ]
        },
        {
          "output_type": "stream",
          "name": "stderr",
          "text": [
            "[I 2023-06-17 02:00:52,965] Trial 55 finished with value: 6.1957297408448015 and parameters: {'window_size': 78, 'tcn_filters': 81, 'tcn_kernel_size': 2, 'dropout_rate': 0.39615979437759374, 'attention_dim': 10}. Best is trial 41 with value: 4.706089217058409.\n"
          ]
        },
        {
          "output_type": "stream",
          "name": "stdout",
          "text": [
            "8/8 [==============================] - 0s 4ms/step\n"
          ]
        },
        {
          "output_type": "stream",
          "name": "stderr",
          "text": [
            "[I 2023-06-17 02:01:00,182] Trial 56 finished with value: 12.535684561330953 and parameters: {'window_size': 66, 'tcn_filters': 89, 'tcn_kernel_size': 2, 'dropout_rate': 0.3429992185960465, 'attention_dim': 10}. Best is trial 41 with value: 4.706089217058409.\n"
          ]
        },
        {
          "output_type": "stream",
          "name": "stdout",
          "text": [
            "8/8 [==============================] - 0s 4ms/step\n"
          ]
        },
        {
          "output_type": "stream",
          "name": "stderr",
          "text": [
            "[I 2023-06-17 02:01:06,013] Trial 57 finished with value: 10.056150160300918 and parameters: {'window_size': 75, 'tcn_filters': 105, 'tcn_kernel_size': 2, 'dropout_rate': 0.387700609156569, 'attention_dim': 9}. Best is trial 41 with value: 4.706089217058409.\n"
          ]
        },
        {
          "output_type": "stream",
          "name": "stdout",
          "text": [
            "8/8 [==============================] - 0s 4ms/step\n"
          ]
        },
        {
          "output_type": "stream",
          "name": "stderr",
          "text": [
            "[I 2023-06-17 02:01:14,585] Trial 58 finished with value: 5.065452392592439 and parameters: {'window_size': 57, 'tcn_filters': 110, 'tcn_kernel_size': 3, 'dropout_rate': 0.3311009362907302, 'attention_dim': 24}. Best is trial 41 with value: 4.706089217058409.\n"
          ]
        },
        {
          "output_type": "stream",
          "name": "stdout",
          "text": [
            "8/8 [==============================] - 0s 4ms/step\n"
          ]
        },
        {
          "output_type": "stream",
          "name": "stderr",
          "text": [
            "[I 2023-06-17 02:01:19,725] Trial 59 finished with value: 8.75081926778881 and parameters: {'window_size': 85, 'tcn_filters': 76, 'tcn_kernel_size': 4, 'dropout_rate': 0.41520565194516373, 'attention_dim': 27}. Best is trial 41 with value: 4.706089217058409.\n"
          ]
        },
        {
          "output_type": "stream",
          "name": "stdout",
          "text": [
            "8/8 [==============================] - 0s 3ms/step\n"
          ]
        },
        {
          "output_type": "stream",
          "name": "stderr",
          "text": [
            "[I 2023-06-17 02:01:29,025] Trial 60 finished with value: 7.8258966278880875 and parameters: {'window_size': 96, 'tcn_filters': 55, 'tcn_kernel_size': 2, 'dropout_rate': 0.29118340179903357, 'attention_dim': 12}. Best is trial 41 with value: 4.706089217058409.\n"
          ]
        },
        {
          "output_type": "stream",
          "name": "stdout",
          "text": [
            "8/8 [==============================] - 0s 4ms/step\n"
          ]
        },
        {
          "output_type": "stream",
          "name": "stderr",
          "text": [
            "[I 2023-06-17 02:01:40,497] Trial 61 finished with value: 4.968980693477391 and parameters: {'window_size': 70, 'tcn_filters': 99, 'tcn_kernel_size': 2, 'dropout_rate': 0.3789066138241989, 'attention_dim': 13}. Best is trial 41 with value: 4.706089217058409.\n"
          ]
        },
        {
          "output_type": "stream",
          "name": "stdout",
          "text": [
            "8/8 [==============================] - 0s 3ms/step\n"
          ]
        },
        {
          "output_type": "stream",
          "name": "stderr",
          "text": [
            "[I 2023-06-17 02:01:47,438] Trial 62 finished with value: 21.772898553929373 and parameters: {'window_size': 64, 'tcn_filters': 95, 'tcn_kernel_size': 2, 'dropout_rate': 0.3720131688775055, 'attention_dim': 15}. Best is trial 41 with value: 4.706089217058409.\n"
          ]
        },
        {
          "output_type": "stream",
          "name": "stdout",
          "text": [
            "8/8 [==============================] - 0s 2ms/step\n"
          ]
        },
        {
          "output_type": "stream",
          "name": "stderr",
          "text": [
            "[I 2023-06-17 02:01:53,955] Trial 63 finished with value: 11.934903533489047 and parameters: {'window_size': 34, 'tcn_filters': 67, 'tcn_kernel_size': 2, 'dropout_rate': 0.34982291029498414, 'attention_dim': 11}. Best is trial 41 with value: 4.706089217058409.\n"
          ]
        },
        {
          "output_type": "stream",
          "name": "stdout",
          "text": [
            "8/8 [==============================] - 0s 2ms/step\n"
          ]
        },
        {
          "output_type": "stream",
          "name": "stderr",
          "text": [
            "[I 2023-06-17 02:01:57,705] Trial 64 finished with value: 11.789116595407757 and parameters: {'window_size': 53, 'tcn_filters': 32, 'tcn_kernel_size': 2, 'dropout_rate': 0.4340167360850111, 'attention_dim': 21}. Best is trial 41 with value: 4.706089217058409.\n"
          ]
        },
        {
          "output_type": "stream",
          "name": "stdout",
          "text": [
            "8/8 [==============================] - 0s 3ms/step\n"
          ]
        },
        {
          "output_type": "stream",
          "name": "stderr",
          "text": [
            "[I 2023-06-17 02:02:09,185] Trial 65 finished with value: 6.476803205214787 and parameters: {'window_size': 46, 'tcn_filters': 103, 'tcn_kernel_size': 2, 'dropout_rate': 0.3998416460374566, 'attention_dim': 17}. Best is trial 41 with value: 4.706089217058409.\n"
          ]
        },
        {
          "output_type": "stream",
          "name": "stdout",
          "text": [
            "8/8 [==============================] - 0s 2ms/step\n"
          ]
        },
        {
          "output_type": "stream",
          "name": "stderr",
          "text": [
            "[I 2023-06-17 02:02:15,522] Trial 66 finished with value: 7.274593182456463 and parameters: {'window_size': 20, 'tcn_filters': 91, 'tcn_kernel_size': 2, 'dropout_rate': 0.35949683894553214, 'attention_dim': 15}. Best is trial 41 with value: 4.706089217058409.\n"
          ]
        },
        {
          "output_type": "stream",
          "name": "stdout",
          "text": [
            "8/8 [==============================] - 0s 4ms/step\n"
          ]
        },
        {
          "output_type": "stream",
          "name": "stderr",
          "text": [
            "[I 2023-06-17 02:02:27,062] Trial 67 finished with value: 4.783167438785576 and parameters: {'window_size': 75, 'tcn_filters': 113, 'tcn_kernel_size': 2, 'dropout_rate': 0.37930266572059834, 'attention_dim': 9}. Best is trial 41 with value: 4.706089217058409.\n"
          ]
        },
        {
          "output_type": "stream",
          "name": "stdout",
          "text": [
            "8/8 [==============================] - 0s 5ms/step\n"
          ]
        },
        {
          "output_type": "stream",
          "name": "stderr",
          "text": [
            "[I 2023-06-17 02:02:38,574] Trial 68 finished with value: 4.822111479066619 and parameters: {'window_size': 75, 'tcn_filters': 111, 'tcn_kernel_size': 2, 'dropout_rate': 0.40923165752008384, 'attention_dim': 8}. Best is trial 41 with value: 4.706089217058409.\n"
          ]
        },
        {
          "output_type": "stream",
          "name": "stdout",
          "text": [
            "8/8 [==============================] - 0s 4ms/step\n"
          ]
        },
        {
          "output_type": "stream",
          "name": "stderr",
          "text": [
            "[I 2023-06-17 02:03:00,492] Trial 69 finished with value: 5.32124383882893 and parameters: {'window_size': 72, 'tcn_filters': 116, 'tcn_kernel_size': 2, 'dropout_rate': 0.32740857823047337, 'attention_dim': 9}. Best is trial 41 with value: 4.706089217058409.\n"
          ]
        },
        {
          "output_type": "stream",
          "name": "stdout",
          "text": [
            "8/8 [==============================] - 0s 7ms/step\n"
          ]
        },
        {
          "output_type": "stream",
          "name": "stderr",
          "text": [
            "[I 2023-06-17 02:03:12,919] Trial 70 finished with value: 33.225984925544005 and parameters: {'window_size': 85, 'tcn_filters': 123, 'tcn_kernel_size': 3, 'dropout_rate': 0.42692443904303146, 'attention_dim': 10}. Best is trial 41 with value: 4.706089217058409.\n"
          ]
        },
        {
          "output_type": "stream",
          "name": "stdout",
          "text": [
            "8/8 [==============================] - 0s 4ms/step\n"
          ]
        },
        {
          "output_type": "stream",
          "name": "stderr",
          "text": [
            "[I 2023-06-17 02:03:24,437] Trial 71 finished with value: 4.621401782894181 and parameters: {'window_size': 75, 'tcn_filters': 113, 'tcn_kernel_size': 2, 'dropout_rate': 0.41284166784834714, 'attention_dim': 8}. Best is trial 71 with value: 4.621401782894181.\n"
          ]
        },
        {
          "output_type": "stream",
          "name": "stdout",
          "text": [
            "8/8 [==============================] - 0s 4ms/step\n"
          ]
        },
        {
          "output_type": "stream",
          "name": "stderr",
          "text": [
            "[I 2023-06-17 02:03:33,969] Trial 72 finished with value: 7.260119663916523 and parameters: {'window_size': 68, 'tcn_filters': 118, 'tcn_kernel_size': 2, 'dropout_rate': 0.3851503373242948, 'attention_dim': 8}. Best is trial 71 with value: 4.621401782894181.\n"
          ]
        },
        {
          "output_type": "stream",
          "name": "stdout",
          "text": [
            "8/8 [==============================] - 0s 5ms/step\n"
          ]
        },
        {
          "output_type": "stream",
          "name": "stderr",
          "text": [
            "[I 2023-06-17 02:03:55,735] Trial 73 finished with value: 4.489363875168034 and parameters: {'window_size': 81, 'tcn_filters': 113, 'tcn_kernel_size': 2, 'dropout_rate': 0.3937049480702521, 'attention_dim': 9}. Best is trial 73 with value: 4.489363875168034.\n"
          ]
        },
        {
          "output_type": "stream",
          "name": "stdout",
          "text": [
            "8/8 [==============================] - 0s 5ms/step\n"
          ]
        },
        {
          "output_type": "stream",
          "name": "stderr",
          "text": [
            "[I 2023-06-17 02:04:06,793] Trial 74 finished with value: 8.05686656333439 and parameters: {'window_size': 81, 'tcn_filters': 112, 'tcn_kernel_size': 2, 'dropout_rate': 0.4169475865169956, 'attention_dim': 9}. Best is trial 73 with value: 4.489363875168034.\n"
          ]
        },
        {
          "output_type": "stream",
          "name": "stdout",
          "text": [
            "8/8 [==============================] - 0s 6ms/step\n"
          ]
        },
        {
          "output_type": "stream",
          "name": "stderr",
          "text": [
            "[I 2023-06-17 02:04:19,311] Trial 75 finished with value: 4.896497774589458 and parameters: {'window_size': 92, 'tcn_filters': 114, 'tcn_kernel_size': 2, 'dropout_rate': 0.36697014407445244, 'attention_dim': 9}. Best is trial 73 with value: 4.489363875168034.\n"
          ]
        },
        {
          "output_type": "stream",
          "name": "stdout",
          "text": [
            "8/8 [==============================] - 0s 5ms/step\n"
          ]
        },
        {
          "output_type": "stream",
          "name": "stderr",
          "text": [
            "[I 2023-06-17 02:04:31,108] Trial 76 finished with value: 4.555900615255916 and parameters: {'window_size': 87, 'tcn_filters': 127, 'tcn_kernel_size': 2, 'dropout_rate': 0.3947906685812063, 'attention_dim': 12}. Best is trial 73 with value: 4.489363875168034.\n"
          ]
        },
        {
          "output_type": "stream",
          "name": "stdout",
          "text": [
            "8/8 [==============================] - 0s 4ms/step\n"
          ]
        },
        {
          "output_type": "stream",
          "name": "stderr",
          "text": [
            "[I 2023-06-17 02:04:52,957] Trial 77 finished with value: 4.421581524750776 and parameters: {'window_size': 78, 'tcn_filters': 127, 'tcn_kernel_size': 2, 'dropout_rate': 0.3976806732478127, 'attention_dim': 12}. Best is trial 77 with value: 4.421581524750776.\n"
          ]
        },
        {
          "output_type": "stream",
          "name": "stdout",
          "text": [
            "8/8 [==============================] - 0s 6ms/step\n"
          ]
        },
        {
          "output_type": "stream",
          "name": "stderr",
          "text": [
            "[I 2023-06-17 02:05:04,487] Trial 78 finished with value: 5.290814977714308 and parameters: {'window_size': 86, 'tcn_filters': 128, 'tcn_kernel_size': 2, 'dropout_rate': 0.4465846307026289, 'attention_dim': 12}. Best is trial 77 with value: 4.421581524750776.\n"
          ]
        },
        {
          "output_type": "stream",
          "name": "stdout",
          "text": [
            "8/8 [==============================] - 0s 5ms/step\n"
          ]
        },
        {
          "output_type": "stream",
          "name": "stderr",
          "text": [
            "[I 2023-06-17 02:05:26,323] Trial 79 finished with value: 4.747197046803327 and parameters: {'window_size': 80, 'tcn_filters': 125, 'tcn_kernel_size': 2, 'dropout_rate': 0.3984177097943301, 'attention_dim': 14}. Best is trial 77 with value: 4.421581524750776.\n"
          ]
        },
        {
          "output_type": "stream",
          "name": "stdout",
          "text": [
            "8/8 [==============================] - 0s 5ms/step\n"
          ]
        },
        {
          "output_type": "stream",
          "name": "stderr",
          "text": [
            "[I 2023-06-17 02:05:34,200] Trial 80 finished with value: 6.432504473168548 and parameters: {'window_size': 87, 'tcn_filters': 126, 'tcn_kernel_size': 2, 'dropout_rate': 0.399330875429953, 'attention_dim': 13}. Best is trial 77 with value: 4.421581524750776.\n"
          ]
        },
        {
          "output_type": "stream",
          "name": "stdout",
          "text": [
            "8/8 [==============================] - 0s 4ms/step\n"
          ]
        },
        {
          "output_type": "stream",
          "name": "stderr",
          "text": [
            "[I 2023-06-17 02:05:45,712] Trial 81 finished with value: 12.865049609111269 and parameters: {'window_size': 79, 'tcn_filters': 123, 'tcn_kernel_size': 2, 'dropout_rate': 0.4068478142127195, 'attention_dim': 14}. Best is trial 77 with value: 4.421581524750776.\n"
          ]
        },
        {
          "output_type": "stream",
          "name": "stdout",
          "text": [
            "8/8 [==============================] - 0s 4ms/step\n"
          ]
        },
        {
          "output_type": "stream",
          "name": "stderr",
          "text": [
            "[I 2023-06-17 02:06:07,426] Trial 82 finished with value: 6.164260552167413 and parameters: {'window_size': 83, 'tcn_filters': 121, 'tcn_kernel_size': 2, 'dropout_rate': 0.39178861348269683, 'attention_dim': 10}. Best is trial 77 with value: 4.421581524750776.\n"
          ]
        },
        {
          "output_type": "stream",
          "name": "stdout",
          "text": [
            "8/8 [==============================] - 0s 5ms/step\n"
          ]
        },
        {
          "output_type": "stream",
          "name": "stderr",
          "text": [
            "[I 2023-06-17 02:06:17,811] Trial 83 finished with value: 4.9217488339721385 and parameters: {'window_size': 77, 'tcn_filters': 126, 'tcn_kernel_size': 2, 'dropout_rate': 0.4268035191293195, 'attention_dim': 32}. Best is trial 77 with value: 4.421581524750776.\n"
          ]
        },
        {
          "output_type": "stream",
          "name": "stdout",
          "text": [
            "8/8 [==============================] - 0s 4ms/step\n"
          ]
        },
        {
          "output_type": "stream",
          "name": "stderr",
          "text": [
            "[I 2023-06-17 02:06:31,580] Trial 84 finished with value: 6.121878642476305 and parameters: {'window_size': 89, 'tcn_filters': 119, 'tcn_kernel_size': 2, 'dropout_rate': 0.3648611578150605, 'attention_dim': 11}. Best is trial 77 with value: 4.421581524750776.\n"
          ]
        },
        {
          "output_type": "stream",
          "name": "stdout",
          "text": [
            "8/8 [==============================] - 0s 5ms/step\n"
          ]
        },
        {
          "output_type": "stream",
          "name": "stderr",
          "text": [
            "[I 2023-06-17 02:06:44,283] Trial 85 finished with value: 5.506895656423365 and parameters: {'window_size': 96, 'tcn_filters': 125, 'tcn_kernel_size': 2, 'dropout_rate': 0.4145198279589662, 'attention_dim': 8}. Best is trial 77 with value: 4.421581524750776.\n"
          ]
        },
        {
          "output_type": "stream",
          "name": "stdout",
          "text": [
            "8/8 [==============================] - 0s 5ms/step\n"
          ]
        },
        {
          "output_type": "stream",
          "name": "stderr",
          "text": [
            "[I 2023-06-17 02:06:55,752] Trial 86 finished with value: 9.956820437504975 and parameters: {'window_size': 91, 'tcn_filters': 128, 'tcn_kernel_size': 2, 'dropout_rate': 0.3956376025060438, 'attention_dim': 12}. Best is trial 77 with value: 4.421581524750776.\n"
          ]
        },
        {
          "output_type": "stream",
          "name": "stdout",
          "text": [
            "8/8 [==============================] - 0s 4ms/step\n"
          ]
        },
        {
          "output_type": "stream",
          "name": "stderr",
          "text": [
            "[I 2023-06-17 02:07:07,868] Trial 87 finished with value: 4.374868670378072 and parameters: {'window_size': 81, 'tcn_filters': 117, 'tcn_kernel_size': 2, 'dropout_rate': 0.35146625061508807, 'attention_dim': 14}. Best is trial 87 with value: 4.374868670378072.\n"
          ]
        },
        {
          "output_type": "stream",
          "name": "stdout",
          "text": [
            "8/8 [==============================] - 0s 9ms/step\n"
          ]
        },
        {
          "output_type": "stream",
          "name": "stderr",
          "text": [
            "[I 2023-06-17 02:07:19,530] Trial 88 finished with value: 5.393342098413678 and parameters: {'window_size': 81, 'tcn_filters': 117, 'tcn_kernel_size': 4, 'dropout_rate': 0.40458115027876174, 'attention_dim': 14}. Best is trial 87 with value: 4.374868670378072.\n"
          ]
        },
        {
          "output_type": "stream",
          "name": "stdout",
          "text": [
            "8/8 [==============================] - 0s 8ms/step\n"
          ]
        },
        {
          "output_type": "stream",
          "name": "stderr",
          "text": [
            "[I 2023-06-17 02:07:31,147] Trial 89 finished with value: 32.13522738367424 and parameters: {'window_size': 87, 'tcn_filters': 121, 'tcn_kernel_size': 3, 'dropout_rate': 0.4369875897951301, 'attention_dim': 13}. Best is trial 87 with value: 4.374868670378072.\n"
          ]
        },
        {
          "output_type": "stream",
          "name": "stdout",
          "text": [
            "8/8 [==============================] - 0s 5ms/step\n"
          ]
        },
        {
          "output_type": "stream",
          "name": "stderr",
          "text": [
            "[I 2023-06-17 02:07:39,538] Trial 90 finished with value: 4.7518348668809995 and parameters: {'window_size': 83, 'tcn_filters': 123, 'tcn_kernel_size': 2, 'dropout_rate': 0.4590644554308831, 'attention_dim': 16}. Best is trial 87 with value: 4.374868670378072.\n"
          ]
        },
        {
          "output_type": "stream",
          "name": "stdout",
          "text": [
            "8/8 [==============================] - 0s 5ms/step\n"
          ]
        },
        {
          "output_type": "stream",
          "name": "stderr",
          "text": [
            "[I 2023-06-17 02:07:50,707] Trial 91 finished with value: 7.727860735396516 and parameters: {'window_size': 84, 'tcn_filters': 123, 'tcn_kernel_size': 2, 'dropout_rate': 0.4623742588344388, 'attention_dim': 14}. Best is trial 87 with value: 4.374868670378072.\n"
          ]
        },
        {
          "output_type": "stream",
          "name": "stdout",
          "text": [
            "8/8 [==============================] - 0s 4ms/step\n"
          ]
        },
        {
          "output_type": "stream",
          "name": "stderr",
          "text": [
            "[I 2023-06-17 02:08:02,405] Trial 92 finished with value: 5.2292021146545835 and parameters: {'window_size': 80, 'tcn_filters': 119, 'tcn_kernel_size': 2, 'dropout_rate': 0.4198233923183292, 'attention_dim': 16}. Best is trial 87 with value: 4.374868670378072.\n"
          ]
        },
        {
          "output_type": "stream",
          "name": "stdout",
          "text": [
            "8/8 [==============================] - 0s 4ms/step\n"
          ]
        },
        {
          "output_type": "stream",
          "name": "stderr",
          "text": [
            "[I 2023-06-17 02:08:24,118] Trial 93 finished with value: 5.6748981873900295 and parameters: {'window_size': 79, 'tcn_filters': 124, 'tcn_kernel_size': 2, 'dropout_rate': 0.38733150632786906, 'attention_dim': 13}. Best is trial 87 with value: 4.374868670378072.\n"
          ]
        },
        {
          "output_type": "stream",
          "name": "stdout",
          "text": [
            "8/8 [==============================] - 0s 4ms/step\n"
          ]
        },
        {
          "output_type": "stream",
          "name": "stderr",
          "text": [
            "[I 2023-06-17 02:08:39,711] Trial 94 finished with value: 6.435088325930786 and parameters: {'window_size': 77, 'tcn_filters': 128, 'tcn_kernel_size': 2, 'dropout_rate': 0.37089342498270295, 'attention_dim': 15}. Best is trial 87 with value: 4.374868670378072.\n"
          ]
        },
        {
          "output_type": "stream",
          "name": "stdout",
          "text": [
            "8/8 [==============================] - 0s 5ms/step\n"
          ]
        },
        {
          "output_type": "stream",
          "name": "stderr",
          "text": [
            "[I 2023-06-17 02:08:52,313] Trial 95 finished with value: 5.545505516937019 and parameters: {'window_size': 92, 'tcn_filters': 115, 'tcn_kernel_size': 2, 'dropout_rate': 0.37803539722356505, 'attention_dim': 14}. Best is trial 87 with value: 4.374868670378072.\n"
          ]
        },
        {
          "output_type": "stream",
          "name": "stdout",
          "text": [
            "8/8 [==============================] - 0s 5ms/step\n"
          ]
        },
        {
          "output_type": "stream",
          "name": "stderr",
          "text": [
            "[I 2023-06-17 02:09:03,815] Trial 96 finished with value: 14.453106506826238 and parameters: {'window_size': 94, 'tcn_filters': 121, 'tcn_kernel_size': 2, 'dropout_rate': 0.35337750991011124, 'attention_dim': 17}. Best is trial 87 with value: 4.374868670378072.\n"
          ]
        },
        {
          "output_type": "stream",
          "name": "stdout",
          "text": [
            "8/8 [==============================] - 0s 5ms/step\n"
          ]
        },
        {
          "output_type": "stream",
          "name": "stderr",
          "text": [
            "[I 2023-06-17 02:09:10,509] Trial 97 finished with value: 10.159002642097569 and parameters: {'window_size': 30, 'tcn_filters': 109, 'tcn_kernel_size': 2, 'dropout_rate': 0.3990500209783124, 'attention_dim': 12}. Best is trial 87 with value: 4.374868670378072.\n"
          ]
        },
        {
          "output_type": "stream",
          "name": "stdout",
          "text": [
            "8/8 [==============================] - 0s 5ms/step\n"
          ]
        },
        {
          "output_type": "stream",
          "name": "stderr",
          "text": [
            "[I 2023-06-17 02:09:32,305] Trial 98 finished with value: 4.377943344013746 and parameters: {'window_size': 83, 'tcn_filters': 117, 'tcn_kernel_size': 2, 'dropout_rate': 0.3912585438619564, 'attention_dim': 10}. Best is trial 87 with value: 4.374868670378072.\n"
          ]
        },
        {
          "output_type": "stream",
          "name": "stdout",
          "text": [
            "8/8 [==============================] - 0s 4ms/step\n"
          ]
        },
        {
          "output_type": "stream",
          "name": "stderr",
          "text": [
            "[I 2023-06-17 02:09:42,183] Trial 99 finished with value: 14.534462015244118 and parameters: {'window_size': 83, 'tcn_filters': 117, 'tcn_kernel_size': 2, 'dropout_rate': 0.39366036843931745, 'attention_dim': 11}. Best is trial 87 with value: 4.374868670378072.\n"
          ]
        }
      ]
    },
    {
      "cell_type": "code",
      "source": [
        "# Display the optimal set of parameters\n",
        "best_params = study.best_params\n",
        "print(\"Best Hyperparameters:\", best_params)"
      ],
      "metadata": {
        "colab": {
          "base_uri": "https://localhost:8080/"
        },
        "id": "MIC7AbkU-qLy",
        "outputId": "f1d7d253-8824-47b3-b81e-ea84721e6d32"
      },
      "id": "MIC7AbkU-qLy",
      "execution_count": null,
      "outputs": [
        {
          "output_type": "stream",
          "name": "stdout",
          "text": [
            "Best Hyperparameters: {'window_size': 81, 'tcn_filters': 117, 'tcn_kernel_size': 2, 'dropout_rate': 0.35146625061508807, 'attention_dim': 14}\n"
          ]
        }
      ]
    },
    {
      "cell_type": "code",
      "source": [
        "# Evaluate the accuracy of test\n",
        "print(f\"MAPE on Test dataset: \", best_mape)\n",
        "print(f\"RMSE on Test dataset: \", best_rmse)\n",
        "print(f\"MSLE on Test dataset: \", best_msle)"
      ],
      "metadata": {
        "colab": {
          "base_uri": "https://localhost:8080/"
        },
        "id": "gIcsWJky-scK",
        "outputId": "6d214a74-8e14-425a-a535-72fb9f1cd3f5"
      },
      "id": "gIcsWJky-scK",
      "execution_count": null,
      "outputs": [
        {
          "output_type": "stream",
          "name": "stdout",
          "text": [
            "MAPE on Test dataset:  0.02008958508797945\n",
            "RMSE on Test dataset:  2.0916186723153127\n",
            "MSLE on Test dataset:  0.0006838188206257594\n"
          ]
        }
      ]
    },
    {
      "cell_type": "markdown",
      "source": [
        "### Save and Load the best model and related information"
      ],
      "metadata": {
        "id": "LAq2jnXOj6aI"
      },
      "id": "LAq2jnXOj6aI"
    },
    {
      "cell_type": "code",
      "source": [
        "# Save the best model and related information\n",
        "best_model.save('/content/drive/MyDrive/Colab Notebooks/Business Data Analysis/NTR/6:2:2/best_model.h5')\n",
        "\n",
        "np.save('/content/drive/MyDrive/Colab Notebooks/Business Data Analysis/NTR/6:2:2/best_window_size.npy', best_window_size)\n",
        "np.save('/content/drive/MyDrive/Colab Notebooks/Business Data Analysis/NTR/6:2:2/best_train_windows.npy', best_train_windows)\n",
        "np.save('/content/drive/MyDrive/Colab Notebooks/Business Data Analysis/NTR/6:2:2/best_train_targets.npy', best_train_targets)\n",
        "np.save('/content/drive/MyDrive/Colab Notebooks/Business Data Analysis/NTR/6:2:2/best_test_windows.npy', best_test_windows)\n",
        "np.save('/content/drive/MyDrive/Colab Notebooks/Business Data Analysis/NTR/6:2:2/best_test_targets.npy', best_test_targets)\n",
        "np.save('/content/drive/MyDrive/Colab Notebooks/Business Data Analysis/NTR/6:2:2/best_val_windows.npy', best_val_windows)\n",
        "np.save('/content/drive/MyDrive/Colab Notebooks/Business Data Analysis/NTR/6:2:2/best_val_targets.npy', best_val_targets)\n",
        "\n",
        "np.save('/content/drive/MyDrive/Colab Notebooks/Business Data Analysis/NTR/6:2:2/best_y_pred.npy', best_y_pred)\n",
        "\n",
        "np.save('/content/drive/MyDrive/Colab Notebooks/Business Data Analysis/NTR/6:2:2/best_mse.npy', best_mse)\n",
        "np.save('/content/drive/MyDrive/Colab Notebooks/Business Data Analysis/NTR/6:2:2/best_rmse.npy', best_rmse)\n",
        "np.save('/content/drive/MyDrive/Colab Notebooks/Business Data Analysis/NTR/6:2:2/best_mape.npy', best_mape)\n",
        "np.save('/content/drive/MyDrive/Colab Notebooks/Business Data Analysis/NTR/6:2:2/best_msle.npy', best_msle)"
      ],
      "metadata": {
        "id": "VOV_a65HsGiB"
      },
      "id": "VOV_a65HsGiB",
      "execution_count": null,
      "outputs": []
    },
    {
      "cell_type": "code",
      "source": [
        "# Load the best model and related information\n",
        "with custom_object_scope({'AttentionLayer': AttentionLayer}):\n",
        "    loaded_best_model = load_model('/content/drive/MyDrive/Colab Notebooks/Business Data Analysis/NTR/6:2:2/best_model.h5')\n",
        "\n",
        "loaded_best_window_size = np.load('/content/drive/MyDrive/Colab Notebooks/Business Data Analysis/NTR/6:2:2/best_window_size.npy')\n",
        "loaded_best_train_windows = np.load('/content/drive/MyDrive/Colab Notebooks/Business Data Analysis/NTR/6:2:2/best_train_windows.npy')\n",
        "loaded_best_train_targets = np.load('/content/drive/MyDrive/Colab Notebooks/Business Data Analysis/NTR/6:2:2/best_train_targets.npy')\n",
        "loaded_best_test_windows = np.load('/content/drive/MyDrive/Colab Notebooks/Business Data Analysis/NTR/6:2:2/best_test_windows.npy')\n",
        "loaded_best_test_targets = np.load('/content/drive/MyDrive/Colab Notebooks/Business Data Analysis/NTR/6:2:2/best_test_targets.npy')\n",
        "loaded_best_val_windows = np.load('/content/drive/MyDrive/Colab Notebooks/Business Data Analysis/NTR/6:2:2/best_val_windows.npy')\n",
        "loaded_best_val_targets = np.load('/content/drive/MyDrive/Colab Notebooks/Business Data Analysis/NTR/6:2:2/best_val_targets.npy')\n",
        "\n",
        "loaded_best_y_pred = np.load('/content/drive/MyDrive/Colab Notebooks/Business Data Analysis/NTR/6:2:2/best_y_pred.npy')\n",
        "\n",
        "loaded_best_mse = np.load('/content/drive/MyDrive/Colab Notebooks/Business Data Analysis/NTR/6:2:2/best_mse.npy').item()\n",
        "loaded_best_rmse = np.load('/content/drive/MyDrive/Colab Notebooks/Business Data Analysis/NTR/6:2:2/best_rmse.npy').item()\n",
        "loaded_best_mape = np.load('/content/drive/MyDrive/Colab Notebooks/Business Data Analysis/NTR/6:2:2/best_mape.npy').item()\n",
        "loaded_best_msle = np.load('/content/drive/MyDrive/Colab Notebooks/Business Data Analysis/NTR/6:2:2/best_msle.npy').item()"
      ],
      "metadata": {
        "id": "CYIqqiJn-7Jp"
      },
      "id": "CYIqqiJn-7Jp",
      "execution_count": 12,
      "outputs": []
    },
    {
      "cell_type": "markdown",
      "source": [
        "### Evaluate on Validate dataset"
      ],
      "metadata": {
        "id": "X81ALI7XdG7Y"
      },
      "id": "X81ALI7XdG7Y"
    },
    {
      "cell_type": "code",
      "source": [
        "train_last_window_size = train_data[-loaded_best_window_size:]\n",
        "val_data_extended = np.concatenate((train_last_window_size, val_data), axis=0)\n",
        "\n",
        "val_windows, val_targets = create_dataset(val_data_extended, loaded_best_window_size)"
      ],
      "metadata": {
        "id": "UHBhI8p8dLIn"
      },
      "id": "UHBhI8p8dLIn",
      "execution_count": 13,
      "outputs": []
    },
    {
      "cell_type": "code",
      "source": [
        "# Testing the model on Validate dataset\n",
        "y_pred_val = loaded_best_model.predict(val_windows)"
      ],
      "metadata": {
        "colab": {
          "base_uri": "https://localhost:8080/"
        },
        "id": "LUsA86EwdOpk",
        "outputId": "fb78153c-4c03-4959-a854-814fbf7167f7"
      },
      "id": "LUsA86EwdOpk",
      "execution_count": 14,
      "outputs": [
        {
          "output_type": "stream",
          "name": "stdout",
          "text": [
            "7/7 [==============================] - 0s 5ms/step\n"
          ]
        }
      ]
    },
    {
      "cell_type": "code",
      "source": [
        "# Evaluate on MAPE, RMSE, MSLE\n",
        "val_targets = scaler.inverse_transform(val_targets.reshape(-1, 1))\n",
        "y_pred_val = scaler.inverse_transform(y_pred_val)\n",
        "\n",
        "mse = mean_squared_error(val_targets, y_pred_val)\n",
        "rmse = np.sqrt(mse)\n",
        "mape = mean_absolute_percentage_error(val_targets, y_pred_val)\n",
        "msle = mean_squared_log_error(val_targets, y_pred_val)"
      ],
      "metadata": {
        "id": "YRxVFwM5dSXF"
      },
      "id": "YRxVFwM5dSXF",
      "execution_count": 15,
      "outputs": []
    },
    {
      "cell_type": "code",
      "source": [
        "# Evaluate the accuracy of test\n",
        "print(f\"MAPE on Validate dataset: \", mape)\n",
        "print(f\"RMSE on Validate dataset: \", rmse)\n",
        "print(f\"MSLE on Validate dataset: \", msle)"
      ],
      "metadata": {
        "colab": {
          "base_uri": "https://localhost:8080/"
        },
        "id": "oCHmT2_4dXmL",
        "outputId": "1842a376-fe5b-4a9f-e291-ad706c0688fc"
      },
      "id": "oCHmT2_4dXmL",
      "execution_count": 16,
      "outputs": [
        {
          "output_type": "stream",
          "name": "stdout",
          "text": [
            "MAPE on Validate dataset:  0.019718155233217814\n",
            "RMSE on Validate dataset:  2.267288113054747\n",
            "MSLE on Validate dataset:  0.0006506322554682437\n"
          ]
        }
      ]
    },
    {
      "cell_type": "markdown",
      "source": [
        "## Predicting the next 30 days"
      ],
      "metadata": {
        "id": "ZV6VbX2qiTJ2"
      },
      "id": "ZV6VbX2qiTJ2"
    },
    {
      "cell_type": "markdown",
      "source": [
        "### Preparing the forecast date index"
      ],
      "metadata": {
        "id": "KheB_eYIiU4b"
      },
      "id": "KheB_eYIiU4b"
    },
    {
      "cell_type": "code",
      "source": [
        "# Get the last date from the current index\n",
        "last_date = df.index[-1]\n",
        "\n",
        "# Add one day to the last date\n",
        "next_date = last_date + pd.DateOffset(days=1)\n",
        "\n",
        "# Create a list of indices starting from the next date for 30 days\n",
        "index_next_30_days = pd.date_range(start=next_date, periods=30).tolist()"
      ],
      "metadata": {
        "id": "nEQ97NJuiPPW"
      },
      "id": "nEQ97NJuiPPW",
      "execution_count": 17,
      "outputs": []
    },
    {
      "cell_type": "markdown",
      "source": [
        "## Prediction process"
      ],
      "metadata": {
        "id": "35CEaBcIiX6-"
      },
      "id": "35CEaBcIiX6-"
    },
    {
      "cell_type": "code",
      "execution_count": 18,
      "id": "45367300",
      "metadata": {
        "colab": {
          "base_uri": "https://localhost:8080/"
        },
        "id": "45367300",
        "outputId": "a130d21e-0ea1-4870-d054-5d75124bb8c3"
      },
      "outputs": [
        {
          "output_type": "stream",
          "name": "stdout",
          "text": [
            "1/1 [==============================] - 0s 105ms/step\n",
            "1/1 [==============================] - 0s 15ms/step\n",
            "1/1 [==============================] - 0s 16ms/step\n",
            "1/1 [==============================] - 0s 15ms/step\n",
            "1/1 [==============================] - 0s 15ms/step\n",
            "1/1 [==============================] - 0s 19ms/step\n",
            "1/1 [==============================] - 0s 19ms/step\n",
            "1/1 [==============================] - 0s 15ms/step\n",
            "1/1 [==============================] - 0s 16ms/step\n",
            "1/1 [==============================] - 0s 15ms/step\n",
            "1/1 [==============================] - 0s 14ms/step\n",
            "1/1 [==============================] - 0s 14ms/step\n",
            "1/1 [==============================] - 0s 14ms/step\n",
            "1/1 [==============================] - 0s 15ms/step\n",
            "1/1 [==============================] - 0s 15ms/step\n",
            "1/1 [==============================] - 0s 23ms/step\n",
            "1/1 [==============================] - 0s 15ms/step\n",
            "1/1 [==============================] - 0s 18ms/step\n",
            "1/1 [==============================] - 0s 15ms/step\n",
            "1/1 [==============================] - 0s 15ms/step\n",
            "1/1 [==============================] - 0s 14ms/step\n",
            "1/1 [==============================] - 0s 15ms/step\n",
            "1/1 [==============================] - 0s 15ms/step\n",
            "1/1 [==============================] - 0s 14ms/step\n",
            "1/1 [==============================] - 0s 15ms/step\n",
            "1/1 [==============================] - 0s 15ms/step\n",
            "1/1 [==============================] - 0s 15ms/step\n",
            "1/1 [==============================] - 0s 15ms/step\n",
            "1/1 [==============================] - 0s 19ms/step\n",
            "1/1 [==============================] - 0s 16ms/step\n"
          ]
        }
      ],
      "source": [
        "# Predict the closing price for the next 30 days\n",
        "last_sequence_days = np.array(data_scaled[-loaded_best_window_size:]).reshape(1, -1, 1)\n",
        "y_next_30_days = []\n",
        "\n",
        "for i in range(30):\n",
        "    # Predict the next day's closing price\n",
        "    next_day_pred = loaded_best_model.predict(last_sequence_days)\n",
        "\n",
        "    # Save prediction\n",
        "    y_next_30_days.append(next_day_pred[0][0])\n",
        "\n",
        "    # Update data for the next day\n",
        "    last_sequence_days = np.concatenate([last_sequence_days[:, 1:, :], next_day_pred.reshape(1, 1, 1)], axis=1)"
      ]
    },
    {
      "cell_type": "code",
      "source": [
        "print('Predicted closing prices for the next 30 days:')\n",
        "y_next_30_days = scaler.inverse_transform(np.array(y_next_30_days).reshape(-1, 1))\n",
        "print(y_next_30_days.flatten())"
      ],
      "metadata": {
        "id": "nOjX46-5mss1",
        "colab": {
          "base_uri": "https://localhost:8080/"
        },
        "outputId": "7fd8b31b-3b0f-425e-dbe7-6110fc15ac10"
      },
      "id": "nOjX46-5mss1",
      "execution_count": 19,
      "outputs": [
        {
          "output_type": "stream",
          "name": "stdout",
          "text": [
            "Predicted closing prices for the next 30 days:\n",
            "[60.038666 60.4508   60.84409  61.21944  61.577663 61.919544 62.24582\n",
            " 62.5572   62.854862 63.1157   63.3642   63.601864 63.827457 64.01201\n",
            " 64.17842  64.33348  64.482635 64.617455 64.74742  64.872444 64.99298\n",
            " 65.109184 65.22052  65.32788  65.431366 65.53113  65.627304 65.720024\n",
            " 65.809395 65.89557 ]\n"
          ]
        }
      ]
    },
    {
      "cell_type": "markdown",
      "source": [
        "## Visualization"
      ],
      "metadata": {
        "id": "ONh3k9wBids4"
      },
      "id": "ONh3k9wBids4"
    },
    {
      "cell_type": "code",
      "source": [
        "plt.figure(figsize=(12, 5))\n",
        "\n",
        "plt.plot(df.index[:train_size], scaler.inverse_transform(train_data))\n",
        "\n",
        "plt.plot(df.index[train_size : train_size + val_size], scaler.inverse_transform(val_data))\n",
        "\n",
        "plt.plot(df.index[train_size : train_size + val_size], y_pred_val)\n",
        "\n",
        "plt.plot(df.index[train_size + val_size : ], scaler.inverse_transform(test_data))\n",
        "\n",
        "plt.plot(df.index[train_size + val_size : ], loaded_best_y_pred)\n",
        "\n",
        "plt.plot(index_next_30_days, y_next_30_days)\n",
        "\n",
        "plt.legend(['Train', 'Validate', 'PredictValidate', 'Test', 'PredictTest', 'Next30Day'])\n",
        "\n",
        "plt.grid()\n",
        "plt.title(f\"Nutrien Closing Price Data from {df.index[0].strftime('%Y-%m-%d')} to {index_next_30_days[-1].strftime('%Y-%m-%d')}\")\n",
        "plt.xlabel(\"Date\")\n",
        "plt.ylabel(\"Close value\")\n",
        "plt.savefig('TCAN_622_NTR.png')\n",
        "plt.show()"
      ],
      "metadata": {
        "id": "NwtqPyJeMaGL",
        "colab": {
          "base_uri": "https://localhost:8080/",
          "height": 487
        },
        "outputId": "776e56fe-2488-4d51-d7d3-be78d3bcbceb"
      },
      "id": "NwtqPyJeMaGL",
      "execution_count": 20,
      "outputs": [
        {
          "output_type": "display_data",
          "data": {
            "text/plain": [
              "<Figure size 1200x500 with 1 Axes>"
            ],
            "image/png": "[encoded data removed]"
          },
          "metadata": {}
        }
      ]
    }
  ],
  "metadata": {
    "colab": {
      "provenance": []
    },
    "kernelspec": {
      "display_name": "Python 3 (ipykernel)",
      "language": "python",
      "name": "python3"
    },
    "language_info": {
      "codemirror_mode": {
        "name": "ipython",
        "version": 3
      },
      "file_extension": ".py",
      "mimetype": "text/x-python",
      "name": "python",
      "nbconvert_exporter": "python",
      "pygments_lexer": "ipython3",
      "version": "3.9.13"
    }
  },
  "nbformat": 4,
  "nbformat_minor": 5
}