{
  "cells": [
    {
      "cell_type": "markdown",
      "metadata": {
        "id": "VJCSP6hTadIo"
      },
      "source": [
        "## Import Libraries"
      ]
    },
    {
      "cell_type": "code",
      "source": [
        "from google.colab import drive\n",
        "drive.mount('/content/drive')"
      ],
      "metadata": {
        "colab": {
          "base_uri": "https://localhost:8080/"
        },
        "id": "Zp0igmwICOxe",
        "outputId": "25a430bb-4eeb-41d5-c7d1-ef94998c6bd8"
      },
      "execution_count": 279,
      "outputs": [
        {
          "output_type": "stream",
          "name": "stdout",
          "text": [
            "Drive already mounted at /content/drive; to attempt to forcibly remount, call drive.mount(\"/content/drive\", force_remount=True).\n"
          ]
        }
      ]
    },
    {
      "cell_type": "code",
      "execution_count": 280,
      "metadata": {
        "id": "oukZpJYTadIr"
      },
      "outputs": [],
      "source": [
        "# Library to support working with data\n",
        "import pandas as pd\n",
        "import numpy as np\n",
        "\n",
        "# Data Normalization Support Library\n",
        "from sklearn.preprocessing import MinMaxScaler\n",
        "\n",
        "# Training model\n",
        "from tensorflow.keras.models import Sequential\n",
        "from tensorflow.keras.layers import Dense, Dropout, LSTM\n",
        "from keras.models import load_model\n",
        "from keras.callbacks import ModelCheckpoint\n",
        "from keras.regularizers import l2\n",
        "\n",
        "from tensorflow.keras.callbacks import EarlyStopping\n",
        "\n",
        "# Performance metrics calculation support library\n",
        "from sklearn.metrics import mean_absolute_error, mean_squared_error, mean_absolute_percentage_error, mean_squared_log_error\n",
        "\n",
        "\n",
        "# Graphing support library\n",
        "from matplotlib import ticker\n",
        "import matplotlib.pyplot as plt"
      ]
    },
    {
      "cell_type": "markdown",
      "metadata": {
        "id": "A9kKLBX9adIs"
      },
      "source": [
        "## Data preprocessing"
      ]
    },
    {
      "cell_type": "markdown",
      "metadata": {
        "id": "BuvQgsr_CJdX"
      },
      "source": [
        "### Read data"
      ]
    },
    {
      "cell_type": "code",
      "execution_count": 281,
      "metadata": {
        "colab": {
          "base_uri": "https://localhost:8080/",
          "height": 423
        },
        "id": "NjGVhuL-adIs",
        "outputId": "97e487ed-2237-4d20-e9da-aa9fb834d4e4"
      },
      "outputs": [
        {
          "output_type": "execute_result",
          "data": {
            "text/plain": [
              "            Date       Open       High        Low      Close  Adj Close  \\\n",
              "0     2019-01-02  45.959999  47.470001  45.770000  47.080002  41.343937   \n",
              "1     2019-01-03  46.150002  46.279999  44.389999  44.490002  39.069477   \n",
              "2     2019-01-04  45.840000  47.570000  45.540001  47.220001  41.466869   \n",
              "3     2019-01-07  47.099998  48.000000  46.750000  47.439999  41.660065   \n",
              "4     2019-01-08  47.799999  48.029999  46.779999  47.740002  41.923512   \n",
              "...          ...        ...        ...        ...        ...        ...   \n",
              "1114  2023-06-06  29.770000  31.450001  29.700001  30.959999  30.959999   \n",
              "1115  2023-06-07  31.030001  31.370001  30.930000  31.280001  31.280001   \n",
              "1116  2023-06-08  31.430000  31.850000  31.059999  31.820000  31.820000   \n",
              "1117  2023-06-09  31.930000  31.990000  30.680000  31.340000  31.340000   \n",
              "1118  2023-06-12  31.400000  33.299999  31.360001  33.070000  33.070000   \n",
              "\n",
              "        Volume  \n",
              "0     18774600  \n",
              "1     32267300  \n",
              "2     35447300  \n",
              "3     22736800  \n",
              "4     22749200  \n",
              "...        ...  \n",
              "1114  42295300  \n",
              "1115  39098000  \n",
              "1116  35199000  \n",
              "1117  40218000  \n",
              "1118  59881600  \n",
              "\n",
              "[1119 rows x 7 columns]"
            ],
            "text/html": [
              "\n",
              "  <div id=\"df-ad4896e1-84e7-4926-8898-1d5ffad490c5\">\n",
              "    <div class=\"colab-df-container\">\n",
              "      <div>\n",
              "<style scoped>\n",
              "    .dataframe tbody tr th:only-of-type {\n",
              "        vertical-align: middle;\n",
              "    }\n",
              "\n",
              "    .dataframe tbody tr th {\n",
              "        vertical-align: top;\n",
              "    }\n",
              "\n",
              "    .dataframe thead th {\n",
              "        text-align: right;\n",
              "    }\n",
              "</style>\n",
              "<table border=\"1\" class=\"dataframe\">\n",
              "  <thead>\n",
              "    <tr style=\"text-align: right;\">\n",
              "      <th></th>\n",
              "      <th>Date</th>\n",
              "      <th>Open</th>\n",
              "      <th>High</th>\n",
              "      <th>Low</th>\n",
              "      <th>Close</th>\n",
              "      <th>Adj Close</th>\n",
              "      <th>Volume</th>\n",
              "    </tr>\n",
              "  </thead>\n",
              "  <tbody>\n",
              "    <tr>\n",
              "      <th>0</th>\n",
              "      <td>2019-01-02</td>\n",
              "      <td>45.959999</td>\n",
              "      <td>47.470001</td>\n",
              "      <td>45.770000</td>\n",
              "      <td>47.080002</td>\n",
              "      <td>41.343937</td>\n",
              "      <td>18774600</td>\n",
              "    </tr>\n",
              "    <tr>\n",
              "      <th>1</th>\n",
              "      <td>2019-01-03</td>\n",
              "      <td>46.150002</td>\n",
              "      <td>46.279999</td>\n",
              "      <td>44.389999</td>\n",
              "      <td>44.490002</td>\n",
              "      <td>39.069477</td>\n",
              "      <td>32267300</td>\n",
              "    </tr>\n",
              "    <tr>\n",
              "      <th>2</th>\n",
              "      <td>2019-01-04</td>\n",
              "      <td>45.840000</td>\n",
              "      <td>47.570000</td>\n",
              "      <td>45.540001</td>\n",
              "      <td>47.220001</td>\n",
              "      <td>41.466869</td>\n",
              "      <td>35447300</td>\n",
              "    </tr>\n",
              "    <tr>\n",
              "      <th>3</th>\n",
              "      <td>2019-01-07</td>\n",
              "      <td>47.099998</td>\n",
              "      <td>48.000000</td>\n",
              "      <td>46.750000</td>\n",
              "      <td>47.439999</td>\n",
              "      <td>41.660065</td>\n",
              "      <td>22736800</td>\n",
              "    </tr>\n",
              "    <tr>\n",
              "      <th>4</th>\n",
              "      <td>2019-01-08</td>\n",
              "      <td>47.799999</td>\n",
              "      <td>48.029999</td>\n",
              "      <td>46.779999</td>\n",
              "      <td>47.740002</td>\n",
              "      <td>41.923512</td>\n",
              "      <td>22749200</td>\n",
              "    </tr>\n",
              "    <tr>\n",
              "      <th>...</th>\n",
              "      <td>...</td>\n",
              "      <td>...</td>\n",
              "      <td>...</td>\n",
              "      <td>...</td>\n",
              "      <td>...</td>\n",
              "      <td>...</td>\n",
              "      <td>...</td>\n",
              "    </tr>\n",
              "    <tr>\n",
              "      <th>1114</th>\n",
              "      <td>2023-06-06</td>\n",
              "      <td>29.770000</td>\n",
              "      <td>31.450001</td>\n",
              "      <td>29.700001</td>\n",
              "      <td>30.959999</td>\n",
              "      <td>30.959999</td>\n",
              "      <td>42295300</td>\n",
              "    </tr>\n",
              "    <tr>\n",
              "      <th>1115</th>\n",
              "      <td>2023-06-07</td>\n",
              "      <td>31.030001</td>\n",
              "      <td>31.370001</td>\n",
              "      <td>30.930000</td>\n",
              "      <td>31.280001</td>\n",
              "      <td>31.280001</td>\n",
              "      <td>39098000</td>\n",
              "    </tr>\n",
              "    <tr>\n",
              "      <th>1116</th>\n",
              "      <td>2023-06-08</td>\n",
              "      <td>31.430000</td>\n",
              "      <td>31.850000</td>\n",
              "      <td>31.059999</td>\n",
              "      <td>31.820000</td>\n",
              "      <td>31.820000</td>\n",
              "      <td>35199000</td>\n",
              "    </tr>\n",
              "    <tr>\n",
              "      <th>1117</th>\n",
              "      <td>2023-06-09</td>\n",
              "      <td>31.930000</td>\n",
              "      <td>31.990000</td>\n",
              "      <td>30.680000</td>\n",
              "      <td>31.340000</td>\n",
              "      <td>31.340000</td>\n",
              "      <td>40218000</td>\n",
              "    </tr>\n",
              "    <tr>\n",
              "      <th>1118</th>\n",
              "      <td>2023-06-12</td>\n",
              "      <td>31.400000</td>\n",
              "      <td>33.299999</td>\n",
              "      <td>31.360001</td>\n",
              "      <td>33.070000</td>\n",
              "      <td>33.070000</td>\n",
              "      <td>59881600</td>\n",
              "    </tr>\n",
              "  </tbody>\n",
              "</table>\n",
              "<p>1119 rows × 7 columns</p>\n",
              "</div>\n",
              "      <button class=\"colab-df-convert\" onclick=\"convertToInteractive('df-ad4896e1-84e7-4926-8898-1d5ffad490c5')\"\n",
              "              title=\"Convert this dataframe to an interactive table.\"\n",
              "              style=\"display:none;\">\n",
              "        \n",
              "  <svg xmlns=\"http://www.w3.org/2000/svg\" height=\"24px\"viewBox=\"0 0 24 24\"\n",
              "       width=\"24px\">\n",
              "    <path d=\"M0 0h24v24H0V0z\" fill=\"none\"/>\n",
              "    <path d=\"M18.56 5.44l.94 2.06.94-2.06 2.06-.94-2.06-.94-.94-2.06-.94 2.06-2.06.94zm-11 1L8.5 8.5l.94-2.06 2.06-.94-2.06-.94L8.5 2.5l-.94 2.06-2.06.94zm10 10l.94 2.06.94-2.06 2.06-.94-2.06-.94-.94-2.06-.94 2.06-2.06.94z\"/><path d=\"M17.41 7.96l-1.37-1.37c-.4-.4-.92-.59-1.43-.59-.52 0-1.04.2-1.43.59L10.3 9.45l-7.72 7.72c-.78.78-.78 2.05 0 2.83L4 21.41c.39.39.9.59 1.41.59.51 0 1.02-.2 1.41-.59l7.78-7.78 2.81-2.81c.8-.78.8-2.07 0-2.86zM5.41 20L4 18.59l7.72-7.72 1.47 1.35L5.41 20z\"/>\n",
              "  </svg>\n",
              "      </button>\n",
              "      \n",
              "  <style>\n",
              "    .colab-df-container {\n",
              "      display:flex;\n",
              "      flex-wrap:wrap;\n",
              "      gap: 12px;\n",
              "    }\n",
              "\n",
              "    .colab-df-convert {\n",
              "      background-color: #E8F0FE;\n",
              "      border: none;\n",
              "      border-radius: 50%;\n",
              "      cursor: pointer;\n",
              "      display: none;\n",
              "      fill: #1967D2;\n",
              "      height: 32px;\n",
              "      padding: 0 0 0 0;\n",
              "      width: 32px;\n",
              "    }\n",
              "\n",
              "    .colab-df-convert:hover {\n",
              "      background-color: #E2EBFA;\n",
              "      box-shadow: 0px 1px 2px rgba(60, 64, 67, 0.3), 0px 1px 3px 1px rgba(60, 64, 67, 0.15);\n",
              "      fill: #174EA6;\n",
              "    }\n",
              "\n",
              "    [theme=dark] .colab-df-convert {\n",
              "      background-color: #3B4455;\n",
              "      fill: #D2E3FC;\n",
              "    }\n",
              "\n",
              "    [theme=dark] .colab-df-convert:hover {\n",
              "      background-color: #434B5C;\n",
              "      box-shadow: 0px 1px 3px 1px rgba(0, 0, 0, 0.15);\n",
              "      filter: drop-shadow(0px 1px 2px rgba(0, 0, 0, 0.3));\n",
              "      fill: #FFFFFF;\n",
              "    }\n",
              "  </style>\n",
              "\n",
              "      <script>\n",
              "        const buttonEl =\n",
              "          document.querySelector('#df-ad4896e1-84e7-4926-8898-1d5ffad490c5 button.colab-df-convert');\n",
              "        buttonEl.style.display =\n",
              "          google.colab.kernel.accessAllowed ? 'block' : 'none';\n",
              "\n",
              "        async function convertToInteractive(key) {\n",
              "          const element = document.querySelector('#df-ad4896e1-84e7-4926-8898-1d5ffad490c5');\n",
              "          const dataTable =\n",
              "            await google.colab.kernel.invokeFunction('convertToInteractive',\n",
              "                                                     [key], {});\n",
              "          if (!dataTable) return;\n",
              "\n",
              "          const docLinkHtml = 'Like what you see? Visit the ' +\n",
              "            '<a target=\"_blank\" href=https://colab.research.google.com/notebooks/data_table.ipynb>data table notebook</a>'\n",
              "            + ' to learn more about interactive tables.';\n",
              "          element.innerHTML = '';\n",
              "          dataTable['output_type'] = 'display_data';\n",
              "          await google.colab.output.renderOutput(dataTable, element);\n",
              "          const docLink = document.createElement('div');\n",
              "          docLink.innerHTML = docLinkHtml;\n",
              "          element.appendChild(docLink);\n",
              "        }\n",
              "      </script>\n",
              "    </div>\n",
              "  </div>\n",
              "  "
            ]
          },
          "metadata": {},
          "execution_count": 281
        }
      ],
      "source": [
        "df = pd.read_csv('/content/drive/MyDrive/Colab Notebooks/INTC.csv')\n",
        "df"
      ]
    },
    {
      "cell_type": "markdown",
      "metadata": {
        "id": "xs-f3v9aCJdY"
      },
      "source": [
        "### Reset index"
      ]
    },
    {
      "cell_type": "code",
      "execution_count": 282,
      "metadata": {
        "id": "110tZiAa7mEL"
      },
      "outputs": [],
      "source": [
        "# Convert the 'Date' column to datetime format\n",
        "df['Date'] = pd.to_datetime(df['Date'])\n",
        "\n",
        "# Set the 'Date' column as the index value\n",
        "df.set_index('Date', inplace=True)"
      ]
    },
    {
      "cell_type": "code",
      "execution_count": 283,
      "metadata": {
        "id": "BGQ6VDVYCJdY"
      },
      "outputs": [],
      "source": [
        "# Select column 'Close'\n",
        "df_Close = df[['Close']]\n",
        "df_Close = df_Close.reset_index(drop=True)"
      ]
    },
    {
      "cell_type": "markdown",
      "metadata": {
        "id": "-AWxBH2pCJdY"
      },
      "source": [
        "### Data normalization"
      ]
    },
    {
      "cell_type": "code",
      "execution_count": 284,
      "metadata": {
        "id": "hHf5Ai4mCJdY"
      },
      "outputs": [],
      "source": [
        "#  Scaler data\n",
        "scaler = MinMaxScaler(feature_range = (0, 1))\n",
        "df_scaled = scaler.fit_transform(np.array(df_Close))"
      ]
    },
    {
      "cell_type": "markdown",
      "metadata": {
        "id": "fntQAMvBCJdZ"
      },
      "source": [
        "### Data splitting"
      ]
    },
    {
      "cell_type": "code",
      "execution_count": 285,
      "metadata": {
        "id": "HYEdfOetCJdZ"
      },
      "outputs": [],
      "source": [
        "# Split the data into training, validation and test dataset in a ratio of 6:2:2\n",
        "train_size = int(len(df_scaled) * 0.7)\n",
        "val_size = int(len(df_scaled) * 0.2)\n",
        "test_size = len(df_scaled) - train_size - val_size\n",
        "\n",
        "train_data = df_scaled[0 : train_size, :]\n",
        "val_data = df_scaled[train_size : train_size + val_size, :]\n",
        "test_data = df_scaled[train_size + val_size : len(df_scaled), :]"
      ]
    },
    {
      "cell_type": "markdown",
      "metadata": {
        "id": "AUt38HMyCJdZ"
      },
      "source": [
        "## Model training and testing"
      ]
    },
    {
      "cell_type": "code",
      "execution_count": 286,
      "metadata": {
        "id": "w0Z_twgFCJdZ"
      },
      "outputs": [],
      "source": [
        "# Create Dataset\n",
        "import numpy\n",
        "# convert an array of values into a dataset matrix\n",
        "def create_dataset(dataset, time_step=1):\n",
        "\tdataX, dataY = [], []\n",
        "\tfor i in range(len(dataset)-time_step):\n",
        "\t\ta = dataset[i:(i+time_step), 0]   ###i=0, X=0,1,2,3-----99   Y=100\n",
        "\t\tdataX.append(a)\n",
        "\t\tdataY.append(dataset[i + time_step, 0])\n",
        "\treturn numpy.array(dataX), numpy.array(dataY)"
      ]
    },
    {
      "cell_type": "code",
      "execution_count": 287,
      "metadata": {
        "id": "0EgHm83jCJdZ"
      },
      "outputs": [],
      "source": [
        "# Add data for train, validation and test set\n",
        "time_step = 30\n",
        "X_train, y_train = create_dataset(train_data, time_step)\n",
        "X_val, y_val = create_dataset(val_data, time_step)\n",
        "X_test, ytest = create_dataset(test_data, time_step)"
      ]
    },
    {
      "cell_type": "code",
      "execution_count": 288,
      "metadata": {
        "id": "jVA9NjsFCJda"
      },
      "outputs": [],
      "source": [
        "# Make input for DFNN\n",
        "X_train = X_train.reshape(X_train.shape[0], X_train.shape[1] , 1)\n",
        "X_val = X_val.reshape(X_val.shape[0], X_val.shape[1] , 1)\n",
        "X_test = X_test.reshape(X_test.shape[0], X_test.shape[1] , 1)"
      ]
    },
    {
      "cell_type": "markdown",
      "metadata": {
        "id": "6DIeuE1bCJda"
      },
      "source": [
        "### Training process"
      ]
    },
    {
      "cell_type": "markdown",
      "source": [
        "#### Optimization"
      ],
      "metadata": {
        "id": "hrolrU0mDWTW"
      }
    },
    {
      "cell_type": "code",
      "source": [
        "from sklearn.model_selection import GridSearchCV\n",
        "from sklearn.neural_network import MLPRegressor"
      ],
      "metadata": {
        "id": "FYCMwoGKDYcE"
      },
      "execution_count": 289,
      "outputs": []
    },
    {
      "cell_type": "code",
      "source": [
        "# Reshape x_train, x_test, x_val to 2 dimensions\n",
        "X_train_2d = X_train.reshape(X_train.shape[0], -1)\n",
        "X_test_2d = X_test.reshape(X_test.shape[0], -1)\n",
        "X_val_2d = X_val.reshape(X_val.shape[0], -1)"
      ],
      "metadata": {
        "id": "sSjosl2dD_VR"
      },
      "execution_count": 290,
      "outputs": []
    },
    {
      "cell_type": "code",
      "source": [
        "# Define the parameter grid\n",
        "param_grid = {\n",
        "    'hidden_layer_sizes': [(64,), (128,), (256,), (128, 64), (64, 32, 16), (128,64, 32)],\n",
        "    'activation': ['relu'],\n",
        "    'learning_rate': ['constant', 'adaptive'],\n",
        "}"
      ],
      "metadata": {
        "id": "VaBHJdX7DY8_"
      },
      "execution_count": 291,
      "outputs": []
    },
    {
      "cell_type": "code",
      "source": [
        "# Create the model\n",
        "model = MLPRegressor()"
      ],
      "metadata": {
        "id": "SMqEguJcDipR"
      },
      "execution_count": 292,
      "outputs": []
    },
    {
      "cell_type": "code",
      "source": [
        "# Create the GridSearchCV object\n",
        "grid_search = GridSearchCV(model, param_grid, scoring='neg_mean_squared_error', cv=5)\n"
      ],
      "metadata": {
        "id": "PDIKwNYoDm8J"
      },
      "execution_count": 293,
      "outputs": []
    },
    {
      "cell_type": "code",
      "source": [
        "# Fit the grid search to the training data\n",
        "grid_search.fit(X_train_2d, y_train)"
      ],
      "metadata": {
        "colab": {
          "base_uri": "https://localhost:8080/",
          "height": 115
        },
        "id": "7IwpY2EHDpMt",
        "outputId": "8d921bcf-2312-4df3-ca13-d8a748056261"
      },
      "execution_count": 294,
      "outputs": [
        {
          "output_type": "execute_result",
          "data": {
            "text/plain": [
              "GridSearchCV(cv=5, estimator=MLPRegressor(),\n",
              "             param_grid={'activation': ['relu'],\n",
              "                         'hidden_layer_sizes': [(64,), (128,), (256,),\n",
              "                                                (128, 64), (64, 32, 16),\n",
              "                                                (128, 64, 32)],\n",
              "                         'learning_rate': ['constant', 'adaptive']},\n",
              "             scoring='neg_mean_squared_error')"
            ],
            "text/html": [
              "<style>#sk-container-id-21 {color: black;background-color: white;}#sk-container-id-21 pre{padding: 0;}#sk-container-id-21 div.sk-toggleable {background-color: white;}#sk-container-id-21 label.sk-toggleable__label {cursor: pointer;display: block;width: 100%;margin-bottom: 0;padding: 0.3em;box-sizing: border-box;text-align: center;}#sk-container-id-21 label.sk-toggleable__label-arrow:before {content: \"▸\";float: left;margin-right: 0.25em;color: #696969;}#sk-container-id-21 label.sk-toggleable__label-arrow:hover:before {color: black;}#sk-container-id-21 div.sk-estimator:hover label.sk-toggleable__label-arrow:before {color: black;}#sk-container-id-21 div.sk-toggleable__content {max-height: 0;max-width: 0;overflow: hidden;text-align: left;background-color: #f0f8ff;}#sk-container-id-21 div.sk-toggleable__content pre {margin: 0.2em;color: black;border-radius: 0.25em;background-color: #f0f8ff;}#sk-container-id-21 input.sk-toggleable__control:checked~div.sk-toggleable__content {max-height: 200px;max-width: 100%;overflow: auto;}#sk-container-id-21 input.sk-toggleable__control:checked~label.sk-toggleable__label-arrow:before {content: \"▾\";}#sk-container-id-21 div.sk-estimator input.sk-toggleable__control:checked~label.sk-toggleable__label {background-color: #d4ebff;}#sk-container-id-21 div.sk-label input.sk-toggleable__control:checked~label.sk-toggleable__label {background-color: #d4ebff;}#sk-container-id-21 input.sk-hidden--visually {border: 0;clip: rect(1px 1px 1px 1px);clip: rect(1px, 1px, 1px, 1px);height: 1px;margin: -1px;overflow: hidden;padding: 0;position: absolute;width: 1px;}#sk-container-id-21 div.sk-estimator {font-family: monospace;background-color: #f0f8ff;border: 1px dotted black;border-radius: 0.25em;box-sizing: border-box;margin-bottom: 0.5em;}#sk-container-id-21 div.sk-estimator:hover {background-color: #d4ebff;}#sk-container-id-21 div.sk-parallel-item::after {content: \"\";width: 100%;border-bottom: 1px solid gray;flex-grow: 1;}#sk-container-id-21 div.sk-label:hover label.sk-toggleable__label {background-color: #d4ebff;}#sk-container-id-21 div.sk-serial::before {content: \"\";position: absolute;border-left: 1px solid gray;box-sizing: border-box;top: 0;bottom: 0;left: 50%;z-index: 0;}#sk-container-id-21 div.sk-serial {display: flex;flex-direction: column;align-items: center;background-color: white;padding-right: 0.2em;padding-left: 0.2em;position: relative;}#sk-container-id-21 div.sk-item {position: relative;z-index: 1;}#sk-container-id-21 div.sk-parallel {display: flex;align-items: stretch;justify-content: center;background-color: white;position: relative;}#sk-container-id-21 div.sk-item::before, #sk-container-id-21 div.sk-parallel-item::before {content: \"\";position: absolute;border-left: 1px solid gray;box-sizing: border-box;top: 0;bottom: 0;left: 50%;z-index: -1;}#sk-container-id-21 div.sk-parallel-item {display: flex;flex-direction: column;z-index: 1;position: relative;background-color: white;}#sk-container-id-21 div.sk-parallel-item:first-child::after {align-self: flex-end;width: 50%;}#sk-container-id-21 div.sk-parallel-item:last-child::after {align-self: flex-start;width: 50%;}#sk-container-id-21 div.sk-parallel-item:only-child::after {width: 0;}#sk-container-id-21 div.sk-dashed-wrapped {border: 1px dashed gray;margin: 0 0.4em 0.5em 0.4em;box-sizing: border-box;padding-bottom: 0.4em;background-color: white;}#sk-container-id-21 div.sk-label label {font-family: monospace;font-weight: bold;display: inline-block;line-height: 1.2em;}#sk-container-id-21 div.sk-label-container {text-align: center;}#sk-container-id-21 div.sk-container {/* jupyter's `normalize.less` sets `[hidden] { display: none; }` but bootstrap.min.css set `[hidden] { display: none !important; }` so we also need the `!important` here to be able to override the default hidden behavior on the sphinx rendered scikit-learn.org. See: https://github.com/scikit-learn/scikit-learn/issues/21755 */display: inline-block !important;position: relative;}#sk-container-id-21 div.sk-text-repr-fallback {display: none;}</style><div id=\"sk-container-id-21\" class=\"sk-top-container\"><div class=\"sk-text-repr-fallback\"><pre>GridSearchCV(cv=5, estimator=MLPRegressor(),\n",
              "             param_grid={&#x27;activation&#x27;: [&#x27;relu&#x27;],\n",
              "                         &#x27;hidden_layer_sizes&#x27;: [(64,), (128,), (256,),\n",
              "                                                (128, 64), (64, 32, 16),\n",
              "                                                (128, 64, 32)],\n",
              "                         &#x27;learning_rate&#x27;: [&#x27;constant&#x27;, &#x27;adaptive&#x27;]},\n",
              "             scoring=&#x27;neg_mean_squared_error&#x27;)</pre><b>In a Jupyter environment, please rerun this cell to show the HTML representation or trust the notebook. <br />On GitHub, the HTML representation is unable to render, please try loading this page with nbviewer.org.</b></div><div class=\"sk-container\" hidden><div class=\"sk-item sk-dashed-wrapped\"><div class=\"sk-label-container\"><div class=\"sk-label sk-toggleable\"><input class=\"sk-toggleable__control sk-hidden--visually\" id=\"sk-estimator-id-41\" type=\"checkbox\" ><label for=\"sk-estimator-id-41\" class=\"sk-toggleable__label sk-toggleable__label-arrow\">GridSearchCV</label><div class=\"sk-toggleable__content\"><pre>GridSearchCV(cv=5, estimator=MLPRegressor(),\n",
              "             param_grid={&#x27;activation&#x27;: [&#x27;relu&#x27;],\n",
              "                         &#x27;hidden_layer_sizes&#x27;: [(64,), (128,), (256,),\n",
              "                                                (128, 64), (64, 32, 16),\n",
              "                                                (128, 64, 32)],\n",
              "                         &#x27;learning_rate&#x27;: [&#x27;constant&#x27;, &#x27;adaptive&#x27;]},\n",
              "             scoring=&#x27;neg_mean_squared_error&#x27;)</pre></div></div></div><div class=\"sk-parallel\"><div class=\"sk-parallel-item\"><div class=\"sk-item\"><div class=\"sk-label-container\"><div class=\"sk-label sk-toggleable\"><input class=\"sk-toggleable__control sk-hidden--visually\" id=\"sk-estimator-id-42\" type=\"checkbox\" ><label for=\"sk-estimator-id-42\" class=\"sk-toggleable__label sk-toggleable__label-arrow\">estimator: MLPRegressor</label><div class=\"sk-toggleable__content\"><pre>MLPRegressor()</pre></div></div></div><div class=\"sk-serial\"><div class=\"sk-item\"><div class=\"sk-estimator sk-toggleable\"><input class=\"sk-toggleable__control sk-hidden--visually\" id=\"sk-estimator-id-43\" type=\"checkbox\" ><label for=\"sk-estimator-id-43\" class=\"sk-toggleable__label sk-toggleable__label-arrow\">MLPRegressor</label><div class=\"sk-toggleable__content\"><pre>MLPRegressor()</pre></div></div></div></div></div></div></div></div></div></div>"
            ]
          },
          "metadata": {},
          "execution_count": 294
        }
      ]
    },
    {
      "cell_type": "code",
      "source": [
        "# Get the best parameters and best score\n",
        "best_params = grid_search.best_params_\n",
        "best_score = grid_search.best_score_\n",
        "\n",
        "# Print parameters and best score\n",
        "print(f'Params: ',best_params)\n",
        "print(f'Best score:',best_score)"
      ],
      "metadata": {
        "colab": {
          "base_uri": "https://localhost:8080/"
        },
        "id": "KyfmWupZET-H",
        "outputId": "e26cd9ef-fe17-41c3-f8a6-de7396b8189b"
      },
      "execution_count": 295,
      "outputs": [
        {
          "output_type": "stream",
          "name": "stdout",
          "text": [
            "Params:  {'activation': 'relu', 'hidden_layer_sizes': (128,), 'learning_rate': 'adaptive'}\n",
            "Best score: -0.002733775705813392\n"
          ]
        }
      ]
    },
    {
      "cell_type": "code",
      "source": [
        "# Create the model with the best parameters\n",
        "best_model = MLPRegressor(hidden_layer_sizes=best_params['hidden_layer_sizes'], activation=best_params['activation'], learning_rate=best_params['learning_rate'])"
      ],
      "metadata": {
        "id": "cwCQ_l4JEuTy"
      },
      "execution_count": 296,
      "outputs": []
    },
    {
      "cell_type": "code",
      "source": [
        "# Train the best model\n",
        "best_model.fit(X_train_2d, y_train )"
      ],
      "metadata": {
        "colab": {
          "base_uri": "https://localhost:8080/",
          "height": 74
        },
        "id": "M0Kc88uAFAcw",
        "outputId": "f9191a48-3c16-4991-f8ed-8f403ada8f12"
      },
      "execution_count": 297,
      "outputs": [
        {
          "output_type": "execute_result",
          "data": {
            "text/plain": [
              "MLPRegressor(hidden_layer_sizes=(128,), learning_rate='adaptive')"
            ],
            "text/html": [
              "<style>#sk-container-id-22 {color: black;background-color: white;}#sk-container-id-22 pre{padding: 0;}#sk-container-id-22 div.sk-toggleable {background-color: white;}#sk-container-id-22 label.sk-toggleable__label {cursor: pointer;display: block;width: 100%;margin-bottom: 0;padding: 0.3em;box-sizing: border-box;text-align: center;}#sk-container-id-22 label.sk-toggleable__label-arrow:before {content: \"▸\";float: left;margin-right: 0.25em;color: #696969;}#sk-container-id-22 label.sk-toggleable__label-arrow:hover:before {color: black;}#sk-container-id-22 div.sk-estimator:hover label.sk-toggleable__label-arrow:before {color: black;}#sk-container-id-22 div.sk-toggleable__content {max-height: 0;max-width: 0;overflow: hidden;text-align: left;background-color: #f0f8ff;}#sk-container-id-22 div.sk-toggleable__content pre {margin: 0.2em;color: black;border-radius: 0.25em;background-color: #f0f8ff;}#sk-container-id-22 input.sk-toggleable__control:checked~div.sk-toggleable__content {max-height: 200px;max-width: 100%;overflow: auto;}#sk-container-id-22 input.sk-toggleable__control:checked~label.sk-toggleable__label-arrow:before {content: \"▾\";}#sk-container-id-22 div.sk-estimator input.sk-toggleable__control:checked~label.sk-toggleable__label {background-color: #d4ebff;}#sk-container-id-22 div.sk-label input.sk-toggleable__control:checked~label.sk-toggleable__label {background-color: #d4ebff;}#sk-container-id-22 input.sk-hidden--visually {border: 0;clip: rect(1px 1px 1px 1px);clip: rect(1px, 1px, 1px, 1px);height: 1px;margin: -1px;overflow: hidden;padding: 0;position: absolute;width: 1px;}#sk-container-id-22 div.sk-estimator {font-family: monospace;background-color: #f0f8ff;border: 1px dotted black;border-radius: 0.25em;box-sizing: border-box;margin-bottom: 0.5em;}#sk-container-id-22 div.sk-estimator:hover {background-color: #d4ebff;}#sk-container-id-22 div.sk-parallel-item::after {content: \"\";width: 100%;border-bottom: 1px solid gray;flex-grow: 1;}#sk-container-id-22 div.sk-label:hover label.sk-toggleable__label {background-color: #d4ebff;}#sk-container-id-22 div.sk-serial::before {content: \"\";position: absolute;border-left: 1px solid gray;box-sizing: border-box;top: 0;bottom: 0;left: 50%;z-index: 0;}#sk-container-id-22 div.sk-serial {display: flex;flex-direction: column;align-items: center;background-color: white;padding-right: 0.2em;padding-left: 0.2em;position: relative;}#sk-container-id-22 div.sk-item {position: relative;z-index: 1;}#sk-container-id-22 div.sk-parallel {display: flex;align-items: stretch;justify-content: center;background-color: white;position: relative;}#sk-container-id-22 div.sk-item::before, #sk-container-id-22 div.sk-parallel-item::before {content: \"\";position: absolute;border-left: 1px solid gray;box-sizing: border-box;top: 0;bottom: 0;left: 50%;z-index: -1;}#sk-container-id-22 div.sk-parallel-item {display: flex;flex-direction: column;z-index: 1;position: relative;background-color: white;}#sk-container-id-22 div.sk-parallel-item:first-child::after {align-self: flex-end;width: 50%;}#sk-container-id-22 div.sk-parallel-item:last-child::after {align-self: flex-start;width: 50%;}#sk-container-id-22 div.sk-parallel-item:only-child::after {width: 0;}#sk-container-id-22 div.sk-dashed-wrapped {border: 1px dashed gray;margin: 0 0.4em 0.5em 0.4em;box-sizing: border-box;padding-bottom: 0.4em;background-color: white;}#sk-container-id-22 div.sk-label label {font-family: monospace;font-weight: bold;display: inline-block;line-height: 1.2em;}#sk-container-id-22 div.sk-label-container {text-align: center;}#sk-container-id-22 div.sk-container {/* jupyter's `normalize.less` sets `[hidden] { display: none; }` but bootstrap.min.css set `[hidden] { display: none !important; }` so we also need the `!important` here to be able to override the default hidden behavior on the sphinx rendered scikit-learn.org. See: https://github.com/scikit-learn/scikit-learn/issues/21755 */display: inline-block !important;position: relative;}#sk-container-id-22 div.sk-text-repr-fallback {display: none;}</style><div id=\"sk-container-id-22\" class=\"sk-top-container\"><div class=\"sk-text-repr-fallback\"><pre>MLPRegressor(hidden_layer_sizes=(128,), learning_rate=&#x27;adaptive&#x27;)</pre><b>In a Jupyter environment, please rerun this cell to show the HTML representation or trust the notebook. <br />On GitHub, the HTML representation is unable to render, please try loading this page with nbviewer.org.</b></div><div class=\"sk-container\" hidden><div class=\"sk-item\"><div class=\"sk-estimator sk-toggleable\"><input class=\"sk-toggleable__control sk-hidden--visually\" id=\"sk-estimator-id-44\" type=\"checkbox\" checked><label for=\"sk-estimator-id-44\" class=\"sk-toggleable__label sk-toggleable__label-arrow\">MLPRegressor</label><div class=\"sk-toggleable__content\"><pre>MLPRegressor(hidden_layer_sizes=(128,), learning_rate=&#x27;adaptive&#x27;)</pre></div></div></div></div></div>"
            ]
          },
          "metadata": {},
          "execution_count": 297
        }
      ]
    },
    {
      "cell_type": "markdown",
      "metadata": {
        "id": "gaxEw-nsCJdb"
      },
      "source": [
        "### Validate Processing"
      ]
    },
    {
      "cell_type": "code",
      "execution_count": 298,
      "metadata": {
        "id": "zQmHJAXxCJdb"
      },
      "outputs": [],
      "source": [
        "train_predict=best_model.predict(X_train_2d)\n",
        "y_pred_val=best_model.predict(X_val_2d)"
      ]
    },
    {
      "cell_type": "markdown",
      "metadata": {
        "id": "7-0XkExBCJdb"
      },
      "source": [
        "### Testing Processing"
      ]
    },
    {
      "cell_type": "code",
      "execution_count": 299,
      "metadata": {
        "id": "mQ3qCwUBCJdb"
      },
      "outputs": [],
      "source": [
        "y_pred=best_model.predict(X_test_2d)"
      ]
    },
    {
      "cell_type": "code",
      "source": [
        "# Evaluate the accuracy of test\n",
        "test_mape = mean_absolute_percentage_error(y_pred, ytest)\n",
        "test_mse = mean_squared_error(y_pred, ytest)\n",
        "test_rmse = np.sqrt(test_mse)\n",
        "test_msle = mean_squared_log_error(y_pred, ytest)\n",
        "\n",
        "print(f\"Testing MAPE: \", test_mape)\n",
        "print(f\"Testing RMSE: \", test_rmse)\n",
        "print(f\"Testing MSLE: \", test_msle)"
      ],
      "metadata": {
        "colab": {
          "base_uri": "https://localhost:8080/"
        },
        "id": "8y6JgFJCIfWW",
        "outputId": "07338bc3-55e6-41ec-fd9b-3863cbd5cd5a"
      },
      "execution_count": 300,
      "outputs": [
        {
          "output_type": "stream",
          "name": "stdout",
          "text": [
            "Testing MAPE:  0.45976013170501995\n",
            "Testing RMSE:  0.0942580350302077\n",
            "Testing MSLE:  0.007042636670527294\n"
          ]
        }
      ]
    },
    {
      "cell_type": "markdown",
      "source": [
        "### Inverse"
      ],
      "metadata": {
        "id": "h9aGfZfXNzkT"
      }
    },
    {
      "cell_type": "code",
      "source": [
        "\n",
        "train_predict = scaler.inverse_transform(train_predict.reshape(-1, 1))\n",
        "test_data = scaler.inverse_transform(test_data.reshape(-1, 1))\n",
        "\n",
        "y_pred = scaler.inverse_transform(y_pred.reshape(-1, 1))\n",
        "y_pred_val = scaler.inverse_transform(y_pred_val.reshape(-1, 1))\n",
        "ytest = scaler.inverse_transform(ytest.reshape(-1, 1))\n",
        "y_val = scaler.inverse_transform(y_val.reshape(-1, 1))"
      ],
      "metadata": {
        "id": "NCz-W_r6IL5A"
      },
      "execution_count": 301,
      "outputs": []
    },
    {
      "cell_type": "markdown",
      "metadata": {
        "id": "I7PlKUm9CJdc"
      },
      "source": [
        "### Evaluate Model"
      ]
    },
    {
      "cell_type": "code",
      "execution_count": 302,
      "metadata": {
        "colab": {
          "base_uri": "https://localhost:8080/"
        },
        "id": "0dsfaTC7CJdc",
        "outputId": "ad22f6a1-b0af-43e0-84c9-324b6639cdb1"
      },
      "outputs": [
        {
          "output_type": "stream",
          "name": "stdout",
          "text": [
            "Validation MAPE:  0.0807374370492111\n",
            "Validation RMSE:  3.5342211722118155\n",
            "Validation MSLE:  0.012273315551646772\n"
          ]
        }
      ],
      "source": [
        "# Evaluate the accuracy of validation\n",
        "val_mape = mean_absolute_percentage_error(y_pred_val, y_val)\n",
        "val_mse = mean_squared_error(y_pred_val, y_val)\n",
        "val_rmse = np.sqrt(val_mse)\n",
        "val_msle = mean_squared_log_error(y_pred_val, y_val)\n",
        "\n",
        "print(f\"Validation MAPE: \", val_mape)\n",
        "print(f\"Validation RMSE: \", val_rmse)\n",
        "print(f\"Validation MSLE: \", val_msle)"
      ]
    },
    {
      "cell_type": "code",
      "execution_count": 303,
      "metadata": {
        "colab": {
          "base_uri": "https://localhost:8080/"
        },
        "id": "jfUGyt_2CJdc",
        "outputId": "bed9c7b3-363a-4b68-d6ee-aa4583bf7935"
      },
      "outputs": [
        {
          "output_type": "stream",
          "name": "stdout",
          "text": [
            "Testing MAPE:  0.11256225883057445\n",
            "Testing RMSE:  4.106822680524184\n",
            "Testing MSLE:  0.01732205846438718\n"
          ]
        }
      ],
      "source": [
        "# Evaluate the accuracy of test\n",
        "test_mape = mean_absolute_percentage_error(y_pred, ytest)\n",
        "test_mse = mean_squared_error(y_pred, ytest)\n",
        "test_rmse = np.sqrt(test_mse)\n",
        "test_msle = mean_squared_log_error(y_pred, ytest)\n",
        "\n",
        "print(f\"Testing MAPE: \", test_mape)\n",
        "print(f\"Testing RMSE: \", test_rmse)\n",
        "print(f\"Testing MSLE: \", test_msle)"
      ]
    },
    {
      "cell_type": "markdown",
      "metadata": {
        "id": "KckGDfMHCJdc"
      },
      "source": [
        "## Predicting the next 30 days"
      ]
    },
    {
      "cell_type": "markdown",
      "metadata": {
        "id": "Yk_IZcV8CJdc"
      },
      "source": [
        "### Preparing the prediction data"
      ]
    },
    {
      "cell_type": "code",
      "execution_count": 304,
      "metadata": {
        "id": "b300n-rPCJdc"
      },
      "outputs": [],
      "source": [
        "x_input = val_data[5:].reshape(1,-1)\n",
        "temp_input = list(x_input)\n",
        "temp_input = temp_input[0].tolist()\n",
        "\n",
        "# Reshape x_train, x_test, x_val to 2 dimensions\n",
        "#X_train_2d = X_train.reshape(X_train.shape[0], -1)\n",
        "\n",
        "# Define i\n",
        "i = 0\n",
        "\n",
        "# List storage value for next 30 days\n",
        "prediction_next30_days = []\n",
        "\n",
        "while(i < 30):\n",
        "    if(len(temp_input) > time_step):\n",
        "        x_input = np.array(temp_input[-time_step:])\n",
        "\n",
        "        x_input = x_input.reshape((1, time_step, 1))\n",
        "        x_input = x_input.reshape((x_input.shape[0], x_input.shape[1]))\n",
        "\n",
        "        y_hat = best_model.predict(x_input)\n",
        "\n",
        "        temp_input.extend(y_hat.tolist())\n",
        "        temp_input = temp_input[1:]\n",
        "\n",
        "        prediction_next30_days.extend(y_hat.tolist())\n",
        "        i = i + 1\n",
        "    else:\n",
        "        x_input = x_input.reshape((1, time_step, 1))\n",
        "        y_hat = model.predict(x_input, verbose = 0)\n",
        "\n",
        "        temp_input.extend(y_hat.tolist())\n",
        "\n",
        "        prediction_next30_days.extend(y_hat.tolist())\n",
        "        i = i + 1"
      ]
    },
    {
      "cell_type": "code",
      "execution_count": 305,
      "metadata": {
        "colab": {
          "base_uri": "https://localhost:8080/"
        },
        "id": "JDORQyuSCJdc",
        "outputId": "3a763269-2183-4f99-b31d-dc22eb06cd6f"
      },
      "outputs": [
        {
          "output_type": "stream",
          "name": "stdout",
          "text": [
            "[0.16845462571313258, 0.17555253342000704, 0.19217679635222085, 0.21154154213317378, 0.2113777347691746, 0.22580667137569116, 0.23407357709486154, 0.267824392867325, 0.26999454580403, 0.25814407819237184, 0.27708522516827533, 0.24023248122264484, 0.24730004333897765, 0.2816788438601162, 0.262991504987424, 0.2609950676775645, 0.23009272498494454, 0.23020351477011675, 0.20917700049345722, 0.2125795210203727, 0.24437269962577834, 0.20414205686385514, 0.20198231967714464, 0.19005043919920725, 0.16698019609348339, 0.1944406300947962, 0.18417894437445814, 0.21119951395207326, 0.19450449462390806, 0.1828758459942357]\n"
          ]
        }
      ],
      "source": [
        "# Print predict next 30 days\n",
        "print(prediction_next30_days)"
      ]
    },
    {
      "cell_type": "markdown",
      "metadata": {
        "id": "uLkThOWiCJdd"
      },
      "source": [
        "### Preparing the forecast date index"
      ]
    },
    {
      "cell_type": "code",
      "execution_count": 306,
      "metadata": {
        "id": "Vf1swdn-CJdd"
      },
      "outputs": [],
      "source": [
        "# Get the last date from the current index\n",
        "last_date = df.index.max()\n",
        "\n",
        "# Create a list of indices starting from the next date for 30 days\n",
        "future_dates = pd.date_range(start=pd.to_datetime(last_date) + pd.DateOffset(days=1), periods=30, freq='D')"
      ]
    },
    {
      "cell_type": "code",
      "execution_count": 307,
      "metadata": {
        "id": "NlwVnCLsCJdd"
      },
      "outputs": [],
      "source": [
        "# Convert from list to array\n",
        "prediction_next30_days = np.array(prediction_next30_days)\n",
        "\n",
        "# Convert to normal values from 0, 1\n",
        "prediction_next30_days = scaler.inverse_transform(prediction_next30_days.reshape(-1,1))"
      ]
    },
    {
      "cell_type": "markdown",
      "metadata": {
        "id": "7__ZhiaWCJdd"
      },
      "source": [
        "## Visualization"
      ]
    },
    {
      "cell_type": "code",
      "execution_count": 308,
      "metadata": {
        "colab": {
          "base_uri": "https://localhost:8080/",
          "height": 400
        },
        "id": "QIwSFshrCJdd",
        "outputId": "c38698ee-96e8-494d-c13d-81ac52e61612"
      },
      "outputs": [
        {
          "output_type": "display_data",
          "data": {
            "text/plain": [
              "<Figure size 1600x500 with 1 Axes>"
            ],
            "image/png": "[encoded data removed]"
          },
          "metadata": {}
        }
      ],
      "source": [
        "# Visualization\n",
        "plt.figure(figsize=(16, 5))\n",
        "\n",
        "plt.plot(df.index[:train_size], scaler.inverse_transform(train_data))\n",
        "\n",
        "plt.plot(df.index[train_size : train_size + val_size], scaler.inverse_transform(val_data))\n",
        "\n",
        "plt.plot(df.index[train_size + val_size : ], test_data)\n",
        "plt.plot(df.index[train_size + val_size + time_step: ], y_pred)\n",
        "\n",
        "plt.plot(future_dates, prediction_next30_days)\n",
        "\n",
        "plt.legend(['Train','Validate','Test','PredictTest','Next30days'])\n",
        "\n",
        "plt.grid()\n",
        "plt.title(f\"Intel Corporation Closing Price Data from 2019-01-02 to 2023-07-12\")\n",
        "plt.xlabel(\"Date\")\n",
        "plt.ylabel(\"Close value\")\n",
        "#plt.savefig('../Image/DFNN_712_INTC.png')\n",
        "plt.show()"
      ]
    }
  ],
  "metadata": {
    "colab": {
      "provenance": [],
      "gpuType": "T4"
    },
    "kernelspec": {
      "display_name": "Python 3",
      "name": "python3"
    },
    "language_info": {
      "codemirror_mode": {
        "name": "ipython",
        "version": 3
      },
      "file_extension": ".py",
      "mimetype": "text/x-python",
      "name": "python",
      "nbconvert_exporter": "python",
      "pygments_lexer": "ipython3",
      "version": "3.10.9"
    },
    "orig_nbformat": 4,
    "accelerator": "GPU"
  },
  "nbformat": 4,
  "nbformat_minor": 0
}