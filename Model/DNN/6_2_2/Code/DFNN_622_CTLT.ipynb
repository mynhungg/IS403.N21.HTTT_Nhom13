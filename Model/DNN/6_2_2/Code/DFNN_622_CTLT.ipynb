{
  "cells": [
    {
      "attachments": {},
      "cell_type": "markdown",
      "metadata": {
        "id": "VJCSP6hTadIo"
      },
      "source": [
        "## Import Libraries"
      ]
    },
    {
      "cell_type": "code",
      "execution_count": 64,
      "metadata": {
        "id": "oukZpJYTadIr"
      },
      "outputs": [],
      "source": [
        "# Library to support working with data\n",
        "import pandas as pd\n",
        "import numpy as np\n",
        "\n",
        "# Data Normalization Support Library\n",
        "from sklearn.preprocessing import MinMaxScaler\n",
        "\n",
        "# Training model\n",
        "from tensorflow.keras.models import Sequential\n",
        "from tensorflow.keras.layers import Dense, Dropout, LSTM\n",
        "from keras.models import load_model\n",
        "from keras.callbacks import ModelCheckpoint\n",
        "from keras.regularizers import l2\n",
        "\n",
        "from tensorflow.keras.callbacks import EarlyStopping\n",
        "\n",
        "# Performance metrics calculation support library\n",
        "from sklearn.metrics import mean_absolute_error, mean_squared_error, mean_absolute_percentage_error, mean_squared_log_error\n",
        "\n",
        "\n",
        "# Graphing support library\n",
        "from matplotlib import ticker\n",
        "import matplotlib.pyplot as plt"
      ]
    },
    {
      "attachments": {},
      "cell_type": "markdown",
      "metadata": {
        "id": "A9kKLBX9adIs"
      },
      "source": [
        "## Data preprocessing"
      ]
    },
    {
      "attachments": {},
      "cell_type": "markdown",
      "metadata": {},
      "source": [
        "### Read data"
      ]
    },
    {
      "cell_type": "code",
      "execution_count": 65,
      "metadata": {
        "colab": {
          "base_uri": "https://localhost:8080/",
          "height": 423
        },
        "id": "NjGVhuL-adIs",
        "outputId": "a8532212-1e13-492f-c24f-22dfbe9bdd19"
      },
      "outputs": [
        {
          "data": {
            "text/html": [
              "<div>\n",
              "<style scoped>\n",
              "    .dataframe tbody tr th:only-of-type {\n",
              "        vertical-align: middle;\n",
              "    }\n",
              "\n",
              "    .dataframe tbody tr th {\n",
              "        vertical-align: top;\n",
              "    }\n",
              "\n",
              "    .dataframe thead th {\n",
              "        text-align: right;\n",
              "    }\n",
              "</style>\n",
              "<table border=\"1\" class=\"dataframe\">\n",
              "  <thead>\n",
              "    <tr style=\"text-align: right;\">\n",
              "      <th></th>\n",
              "      <th>Date</th>\n",
              "      <th>Open</th>\n",
              "      <th>High</th>\n",
              "      <th>Low</th>\n",
              "      <th>Close</th>\n",
              "      <th>Adj Close</th>\n",
              "      <th>Volume</th>\n",
              "    </tr>\n",
              "  </thead>\n",
              "  <tbody>\n",
              "    <tr>\n",
              "      <th>0</th>\n",
              "      <td>2019-01-02</td>\n",
              "      <td>30.860001</td>\n",
              "      <td>31.260000</td>\n",
              "      <td>30.240000</td>\n",
              "      <td>30.910000</td>\n",
              "      <td>30.910000</td>\n",
              "      <td>1201700</td>\n",
              "    </tr>\n",
              "    <tr>\n",
              "      <th>1</th>\n",
              "      <td>2019-01-03</td>\n",
              "      <td>30.660000</td>\n",
              "      <td>30.660000</td>\n",
              "      <td>29.290001</td>\n",
              "      <td>29.840000</td>\n",
              "      <td>29.840000</td>\n",
              "      <td>1149900</td>\n",
              "    </tr>\n",
              "    <tr>\n",
              "      <th>2</th>\n",
              "      <td>2019-01-04</td>\n",
              "      <td>30.049999</td>\n",
              "      <td>31.360001</td>\n",
              "      <td>29.940001</td>\n",
              "      <td>31.080000</td>\n",
              "      <td>31.080000</td>\n",
              "      <td>3530400</td>\n",
              "    </tr>\n",
              "    <tr>\n",
              "      <th>3</th>\n",
              "      <td>2019-01-07</td>\n",
              "      <td>31.020000</td>\n",
              "      <td>32.180000</td>\n",
              "      <td>30.850000</td>\n",
              "      <td>32.000000</td>\n",
              "      <td>32.000000</td>\n",
              "      <td>1063400</td>\n",
              "    </tr>\n",
              "    <tr>\n",
              "      <th>4</th>\n",
              "      <td>2019-01-08</td>\n",
              "      <td>32.340000</td>\n",
              "      <td>33.060001</td>\n",
              "      <td>32.150002</td>\n",
              "      <td>32.790001</td>\n",
              "      <td>32.790001</td>\n",
              "      <td>1391000</td>\n",
              "    </tr>\n",
              "    <tr>\n",
              "      <th>...</th>\n",
              "      <td>...</td>\n",
              "      <td>...</td>\n",
              "      <td>...</td>\n",
              "      <td>...</td>\n",
              "      <td>...</td>\n",
              "      <td>...</td>\n",
              "      <td>...</td>\n",
              "    </tr>\n",
              "    <tr>\n",
              "      <th>1114</th>\n",
              "      <td>2023-06-06</td>\n",
              "      <td>37.910000</td>\n",
              "      <td>39.049999</td>\n",
              "      <td>37.580002</td>\n",
              "      <td>38.820000</td>\n",
              "      <td>38.820000</td>\n",
              "      <td>2261700</td>\n",
              "    </tr>\n",
              "    <tr>\n",
              "      <th>1115</th>\n",
              "      <td>2023-06-07</td>\n",
              "      <td>39.160000</td>\n",
              "      <td>40.029999</td>\n",
              "      <td>38.250000</td>\n",
              "      <td>39.959999</td>\n",
              "      <td>39.959999</td>\n",
              "      <td>4382500</td>\n",
              "    </tr>\n",
              "    <tr>\n",
              "      <th>1116</th>\n",
              "      <td>2023-06-08</td>\n",
              "      <td>39.700001</td>\n",
              "      <td>39.840000</td>\n",
              "      <td>36.750000</td>\n",
              "      <td>39.000000</td>\n",
              "      <td>39.000000</td>\n",
              "      <td>9705500</td>\n",
              "    </tr>\n",
              "    <tr>\n",
              "      <th>1117</th>\n",
              "      <td>2023-06-09</td>\n",
              "      <td>39.250000</td>\n",
              "      <td>40.110001</td>\n",
              "      <td>38.480000</td>\n",
              "      <td>38.810001</td>\n",
              "      <td>38.810001</td>\n",
              "      <td>4493800</td>\n",
              "    </tr>\n",
              "    <tr>\n",
              "      <th>1118</th>\n",
              "      <td>2023-06-12</td>\n",
              "      <td>40.490002</td>\n",
              "      <td>44.450001</td>\n",
              "      <td>40.410000</td>\n",
              "      <td>42.779999</td>\n",
              "      <td>42.779999</td>\n",
              "      <td>10155800</td>\n",
              "    </tr>\n",
              "  </tbody>\n",
              "</table>\n",
              "<p>1119 rows × 7 columns</p>\n",
              "</div>"
            ],
            "text/plain": [
              "            Date       Open       High        Low      Close  Adj Close  \\\n",
              "0     2019-01-02  30.860001  31.260000  30.240000  30.910000  30.910000   \n",
              "1     2019-01-03  30.660000  30.660000  29.290001  29.840000  29.840000   \n",
              "2     2019-01-04  30.049999  31.360001  29.940001  31.080000  31.080000   \n",
              "3     2019-01-07  31.020000  32.180000  30.850000  32.000000  32.000000   \n",
              "4     2019-01-08  32.340000  33.060001  32.150002  32.790001  32.790001   \n",
              "...          ...        ...        ...        ...        ...        ...   \n",
              "1114  2023-06-06  37.910000  39.049999  37.580002  38.820000  38.820000   \n",
              "1115  2023-06-07  39.160000  40.029999  38.250000  39.959999  39.959999   \n",
              "1116  2023-06-08  39.700001  39.840000  36.750000  39.000000  39.000000   \n",
              "1117  2023-06-09  39.250000  40.110001  38.480000  38.810001  38.810001   \n",
              "1118  2023-06-12  40.490002  44.450001  40.410000  42.779999  42.779999   \n",
              "\n",
              "        Volume  \n",
              "0      1201700  \n",
              "1      1149900  \n",
              "2      3530400  \n",
              "3      1063400  \n",
              "4      1391000  \n",
              "...        ...  \n",
              "1114   2261700  \n",
              "1115   4382500  \n",
              "1116   9705500  \n",
              "1117   4493800  \n",
              "1118  10155800  \n",
              "\n",
              "[1119 rows x 7 columns]"
            ]
          },
          "execution_count": 65,
          "metadata": {},
          "output_type": "execute_result"
        }
      ],
      "source": [
        "df = pd.read_csv('../../../../Dataset/CTLT.csv')\n",
        "df"
      ]
    },
    {
      "attachments": {},
      "cell_type": "markdown",
      "metadata": {},
      "source": [
        "### Reset index"
      ]
    },
    {
      "cell_type": "code",
      "execution_count": 66,
      "metadata": {
        "id": "110tZiAa7mEL"
      },
      "outputs": [],
      "source": [
        "# Convert the 'Date' column to datetime format\n",
        "df['Date'] = pd.to_datetime(df['Date'])\n",
        "\n",
        "# Set the 'Date' column as the index value\n",
        "df.set_index('Date', inplace=True)"
      ]
    },
    {
      "cell_type": "code",
      "execution_count": 67,
      "metadata": {},
      "outputs": [],
      "source": [
        "# Select column 'Close'\n",
        "df_Close = df[['Close']]\n",
        "df_Close = df_Close.reset_index(drop=True)"
      ]
    },
    {
      "attachments": {},
      "cell_type": "markdown",
      "metadata": {},
      "source": [
        "### Data normalization"
      ]
    },
    {
      "cell_type": "code",
      "execution_count": 68,
      "metadata": {},
      "outputs": [],
      "source": [
        "#  Scaler data\n",
        "scaler = MinMaxScaler(feature_range = (0, 1))\n",
        "df_scaled = scaler.fit_transform(np.array(df_Close))"
      ]
    },
    {
      "attachments": {},
      "cell_type": "markdown",
      "metadata": {},
      "source": [
        "### Data splitting"
      ]
    },
    {
      "cell_type": "code",
      "execution_count": 69,
      "metadata": {},
      "outputs": [],
      "source": [
        "# Split the data into training, validation and test dataset in a ratio of 6:2:2\n",
        "train_size = int(len(df_scaled) * 0.6)\n",
        "val_size = int(len(df_scaled) * 0.2)\n",
        "test_size = len(df_scaled) - train_size - val_size\n",
        "\n",
        "train_data = df_scaled[0 : train_size, :]\n",
        "val_data = df_scaled[train_size : train_size + val_size, :]\n",
        "test_data = df_scaled[train_size + val_size : len(df_scaled), :]"
      ]
    },
    {
      "attachments": {},
      "cell_type": "markdown",
      "metadata": {},
      "source": [
        "## Model training and testing"
      ]
    },
    {
      "cell_type": "code",
      "execution_count": 70,
      "metadata": {},
      "outputs": [],
      "source": [
        "# Create Dataset\n",
        "import numpy\n",
        "# convert an array of values into a dataset matrix\n",
        "def create_dataset(dataset, time_step=1):\n",
        "\tdataX, dataY = [], []\n",
        "\tfor i in range(len(dataset)-time_step):\n",
        "\t\ta = dataset[i:(i+time_step), 0]   ###i=0, X=0,1,2,3-----99   Y=100 \n",
        "\t\tdataX.append(a)\n",
        "\t\tdataY.append(dataset[i + time_step, 0])\n",
        "\treturn numpy.array(dataX), numpy.array(dataY)"
      ]
    },
    {
      "cell_type": "code",
      "execution_count": 71,
      "metadata": {},
      "outputs": [],
      "source": [
        "# Add data for train, validation and test set\n",
        "time_step = 30\n",
        "X_train, y_train = create_dataset(train_data, time_step)\n",
        "X_val, y_val = create_dataset(val_data, time_step)\n",
        "X_test, ytest = create_dataset(test_data, time_step)"
      ]
    },
    {
      "cell_type": "code",
      "execution_count": 72,
      "metadata": {},
      "outputs": [],
      "source": [
        "# Make input for DFNN\n",
        "X_train = X_train.reshape(X_train.shape[0], X_train.shape[1] , 1)\n",
        "X_val = X_val.reshape(X_val.shape[0], X_val.shape[1] , 1)\n",
        "X_test = X_test.reshape(X_test.shape[0], X_test.shape[1] , 1)"
      ]
    },
    {
      "attachments": {},
      "cell_type": "markdown",
      "metadata": {},
      "source": [
        "### Training process"
      ]
    },
    {
      "cell_type": "code",
      "execution_count": 73,
      "metadata": {},
      "outputs": [],
      "source": [
        "model = Sequential()\n",
        "\n",
        "model.add(Dense(128, input_dim=time_step, activation='relu'))\n",
        "\n",
        "model.add(Dense(64, activation='relu'))\n",
        "\n",
        "model.add(Dense(32, activation='relu'))\n",
        "\n",
        "model.add(Dense(1, activation='linear'))\n",
        "\n",
        "model.compile(loss='mean_squared_error', optimizer='adam') "
      ]
    },
    {
      "cell_type": "code",
      "execution_count": 74,
      "metadata": {},
      "outputs": [
        {
          "name": "stdout",
          "output_type": "stream",
          "text": [
            "Epoch 1/100\n",
            "21/21 [==============================] - 1s 16ms/step - loss: 0.0143 - val_loss: 0.0045\n",
            "Epoch 2/100\n",
            "21/21 [==============================] - ETA: 0s - loss: 0.0019"
          ]
        },
        {
          "name": "stdout",
          "output_type": "stream",
          "text": [
            "21/21 [==============================] - 0s 5ms/step - loss: 0.0019 - val_loss: 0.0030\n",
            "Epoch 3/100\n",
            "21/21 [==============================] - 0s 5ms/step - loss: 9.9268e-04 - val_loss: 0.0020\n",
            "Epoch 4/100\n",
            "21/21 [==============================] - 0s 5ms/step - loss: 9.0897e-04 - val_loss: 0.0019\n",
            "Epoch 5/100\n",
            "21/21 [==============================] - 0s 5ms/step - loss: 0.0010 - val_loss: 0.0021\n",
            "Epoch 6/100\n",
            "21/21 [==============================] - 0s 6ms/step - loss: 8.3739e-04 - val_loss: 0.0025\n",
            "Epoch 7/100\n",
            "21/21 [==============================] - 0s 6ms/step - loss: 0.0010 - val_loss: 0.0018\n",
            "Epoch 8/100\n",
            "21/21 [==============================] - 0s 6ms/step - loss: 7.6786e-04 - val_loss: 0.0016\n",
            "Epoch 9/100\n",
            "21/21 [==============================] - 0s 6ms/step - loss: 6.2664e-04 - val_loss: 0.0022\n",
            "Epoch 10/100\n",
            "21/21 [==============================] - 0s 8ms/step - loss: 5.8613e-04 - val_loss: 0.0015\n",
            "Epoch 11/100\n",
            "21/21 [==============================] - 0s 5ms/step - loss: 6.1003e-04 - val_loss: 0.0015\n",
            "Epoch 12/100\n",
            "21/21 [==============================] - 0s 6ms/step - loss: 5.9674e-04 - val_loss: 0.0014\n",
            "Epoch 13/100\n",
            "21/21 [==============================] - 0s 6ms/step - loss: 5.0885e-04 - val_loss: 0.0015\n",
            "Epoch 14/100\n",
            "21/21 [==============================] - 0s 5ms/step - loss: 7.1249e-04 - val_loss: 0.0030\n",
            "Epoch 15/100\n",
            "21/21 [==============================] - 0s 5ms/step - loss: 6.4201e-04 - val_loss: 0.0013\n",
            "Epoch 16/100\n",
            "21/21 [==============================] - 0s 6ms/step - loss: 4.6708e-04 - val_loss: 0.0022\n",
            "Epoch 17/100\n",
            "21/21 [==============================] - 0s 6ms/step - loss: 4.5666e-04 - val_loss: 0.0013\n",
            "Epoch 18/100\n",
            "21/21 [==============================] - 0s 7ms/step - loss: 4.4259e-04 - val_loss: 0.0012\n",
            "Epoch 19/100\n",
            "21/21 [==============================] - 0s 6ms/step - loss: 4.8931e-04 - val_loss: 0.0012\n",
            "Epoch 20/100\n",
            "21/21 [==============================] - 0s 8ms/step - loss: 4.6211e-04 - val_loss: 0.0015\n",
            "Epoch 21/100\n",
            "21/21 [==============================] - 0s 8ms/step - loss: 5.4586e-04 - val_loss: 0.0016\n",
            "Epoch 22/100\n",
            "21/21 [==============================] - 0s 8ms/step - loss: 5.0303e-04 - val_loss: 0.0019\n",
            "Epoch 23/100\n",
            "21/21 [==============================] - 0s 7ms/step - loss: 4.5032e-04 - val_loss: 0.0011\n",
            "Epoch 24/100\n",
            "21/21 [==============================] - 0s 11ms/step - loss: 6.4423e-04 - val_loss: 0.0036\n",
            "Epoch 25/100\n",
            "21/21 [==============================] - 0s 9ms/step - loss: 5.7391e-04 - val_loss: 0.0023\n",
            "Epoch 26/100\n",
            "21/21 [==============================] - 0s 8ms/step - loss: 9.7805e-04 - val_loss: 0.0045\n",
            "Epoch 27/100\n",
            "21/21 [==============================] - 0s 7ms/step - loss: 0.0011 - val_loss: 0.0082\n",
            "Epoch 28/100\n",
            "21/21 [==============================] - 0s 7ms/step - loss: 0.0012 - val_loss: 0.0014\n"
          ]
        }
      ],
      "source": [
        "history = model.fit(X_train, y_train, epochs=100, batch_size=32, validation_data=(X_val, y_val),\n",
        "                    callbacks=[EarlyStopping(monitor='val_loss', patience=5)], verbose=1)"
      ]
    },
    {
      "attachments": {},
      "cell_type": "markdown",
      "metadata": {},
      "source": [
        "### Validate Processing"
      ]
    },
    {
      "cell_type": "code",
      "execution_count": 75,
      "metadata": {},
      "outputs": [
        {
          "name": "stdout",
          "output_type": "stream",
          "text": [
            "21/21 [==============================] - 0s 4ms/step\n"
          ]
        },
        {
          "name": "stdout",
          "output_type": "stream",
          "text": [
            "7/7 [==============================] - 0s 3ms/step\n"
          ]
        }
      ],
      "source": [
        "train_predict=model.predict(X_train)\n",
        "y_pred_val=model.predict(X_val)"
      ]
    },
    {
      "attachments": {},
      "cell_type": "markdown",
      "metadata": {},
      "source": [
        "### Testing Processing"
      ]
    },
    {
      "cell_type": "code",
      "execution_count": 76,
      "metadata": {},
      "outputs": [
        {
          "name": "stdout",
          "output_type": "stream",
          "text": [
            "7/7 [==============================] - 0s 3ms/step\n"
          ]
        }
      ],
      "source": [
        "y_pred=model.predict(X_test)"
      ]
    },
    {
      "cell_type": "code",
      "execution_count": 77,
      "metadata": {},
      "outputs": [],
      "source": [
        "train_predict=scaler.inverse_transform(train_predict)\n",
        "y_pred=scaler.inverse_transform(y_pred)\n",
        "y_pred_val=scaler.inverse_transform(y_pred_val)"
      ]
    },
    {
      "attachments": {},
      "cell_type": "markdown",
      "metadata": {},
      "source": [
        "### Evaluate Model"
      ]
    },
    {
      "cell_type": "code",
      "execution_count": 78,
      "metadata": {},
      "outputs": [
        {
          "name": "stdout",
          "output_type": "stream",
          "text": [
            "Validation MAPE:  0.9934013094103551\n",
            "Validation RMSE:  108.27576674548632\n",
            "Validation MSLE:  17.21698175463545\n"
          ]
        }
      ],
      "source": [
        "# Evaluate the accuracy of validation\n",
        "val_mape = mean_absolute_percentage_error(y_pred_val, y_val)\n",
        "val_mse = mean_squared_error(y_pred_val, y_val)\n",
        "val_rmse = np.sqrt(val_mse)\n",
        "val_msle = mean_squared_log_error(y_pred_val, y_val)\n",
        "\n",
        "print(f\"Validation MAPE: \", val_mape)\n",
        "print(f\"Validation RMSE: \", val_rmse)\n",
        "print(f\"Validation MSLE: \", val_msle)"
      ]
    },
    {
      "cell_type": "code",
      "execution_count": 79,
      "metadata": {},
      "outputs": [
        {
          "name": "stdout",
          "output_type": "stream",
          "text": [
            "Testing MAPE:  0.9961171445467483\n",
            "Testing RMSE:  59.995901674916524\n",
            "Testing MSLE:  14.792172706338883\n"
          ]
        }
      ],
      "source": [
        "# Evaluate the accuracy of test\n",
        "test_mape = mean_absolute_percentage_error(y_pred, ytest)\n",
        "test_mse = mean_squared_error(y_pred, ytest)\n",
        "test_rmse = np.sqrt(test_mse)\n",
        "test_msle = mean_squared_log_error(y_pred, ytest)\n",
        "\n",
        "print(f\"Testing MAPE: \", test_mape)\n",
        "print(f\"Testing RMSE: \", test_rmse)\n",
        "print(f\"Testing MSLE: \", test_msle)"
      ]
    },
    {
      "attachments": {},
      "cell_type": "markdown",
      "metadata": {},
      "source": [
        "## Predicting the next 30 days"
      ]
    },
    {
      "attachments": {},
      "cell_type": "markdown",
      "metadata": {},
      "source": [
        "### Preparing the prediction data"
      ]
    },
    {
      "cell_type": "code",
      "execution_count": 80,
      "metadata": {},
      "outputs": [],
      "source": [
        "x_input = val_data[5:].reshape(1,-1)\n",
        "temp_input = list(x_input)\n",
        "temp_input = temp_input[0].tolist()\n",
        "\n",
        "# Define i\n",
        "i = 0\n",
        "\n",
        "# List storage value for next 30 days\n",
        "prediction_next30_days = []\n",
        "\n",
        "while(i < 30):\n",
        "    if(len(temp_input) > time_step):\n",
        "        x_input = np.array(temp_input[-time_step:])\n",
        "\n",
        "        x_input = x_input.reshape((1, time_step, 1))\n",
        "        y_hat = model.predict(x_input, verbose=0)\n",
        "\n",
        "        temp_input.extend(y_hat[0].tolist())\n",
        "        temp_input = temp_input[1:]\n",
        "\n",
        "        prediction_next30_days.extend(y_hat.tolist())\n",
        "        i = i + 1\n",
        "    else:\n",
        "        x_input = x_input.reshape((1, time_step, 1))\n",
        "        y_hat = model.predict(x_input, verbose = 0)\n",
        "\n",
        "        temp_input.extend(y_hat[0].tolist())\n",
        "\n",
        "        prediction_next30_days.extend(y_hat.tolist())\n",
        "        i = i + 1"
      ]
    },
    {
      "cell_type": "code",
      "execution_count": 81,
      "metadata": {},
      "outputs": [
        {
          "name": "stdout",
          "output_type": "stream",
          "text": [
            "[[0.6491425037384033], [0.6417430639266968], [0.6264720559120178], [0.6171296834945679], [0.6035022735595703], [0.5956516265869141], [0.5849252939224243], [0.5763468742370605], [0.5706011056900024], [0.5645399689674377], [0.5624071955680847], [0.562368631362915], [0.5435191988945007], [0.5379829406738281], [0.5255023837089539], [0.5125719308853149], [0.5039793252944946], [0.4990098178386688], [0.4982251524925232], [0.5000520944595337], [0.501130223274231], [0.49869242310523987], [0.48903074860572815], [0.4810658097267151], [0.4700051248073578], [0.46010252833366394], [0.4556920826435089], [0.45097485184669495], [0.45175331830978394], [0.44984543323516846]]\n"
          ]
        }
      ],
      "source": [
        "# Print predict next 30 days\n",
        "print(prediction_next30_days)"
      ]
    },
    {
      "attachments": {},
      "cell_type": "markdown",
      "metadata": {},
      "source": [
        "### Preparing the forecast date index"
      ]
    },
    {
      "cell_type": "code",
      "execution_count": 82,
      "metadata": {},
      "outputs": [],
      "source": [
        "# Get the last date from the current index\n",
        "last_date = df.index.max()\n",
        "\n",
        "# Create a list of indices starting from the next date for 30 days\n",
        "future_dates = pd.date_range(start=pd.to_datetime(last_date) + pd.DateOffset(days=1), periods=30, freq='D')"
      ]
    },
    {
      "cell_type": "code",
      "execution_count": 83,
      "metadata": {},
      "outputs": [],
      "source": [
        "# Convert from list to array\n",
        "prediction_next30_days = np.array(prediction_next30_days)\n",
        "\n",
        "# Convert to normal values from 0, 1\n",
        "prediction_next30_days = scaler.inverse_transform(prediction_next30_days).reshape(-1)"
      ]
    },
    {
      "attachments": {},
      "cell_type": "markdown",
      "metadata": {},
      "source": [
        "## Visualization"
      ]
    },
    {
      "cell_type": "code",
      "execution_count": 84,
      "metadata": {},
      "outputs": [
        {
          "data": {
            "image/png": "[encoded data removed]",
            "text/plain": [
              "<Figure size 1600x500 with 1 Axes>"
            ]
          },
          "metadata": {},
          "output_type": "display_data"
        }
      ],
      "source": [
        "# Visualization\n",
        "plt.figure(figsize=(16, 5))\n",
        "\n",
        "plt.plot(df.index[:train_size], scaler.inverse_transform(train_data))\n",
        "\n",
        "plt.plot(df.index[train_size : train_size + val_size], scaler.inverse_transform(val_data))\n",
        "\n",
        "plt.plot(df.index[train_size + val_size : ], scaler.inverse_transform(test_data))\n",
        "\n",
        "plt.plot(df.index[train_size + val_size + time_step: ], y_pred)\n",
        "\n",
        "plt.plot(future_dates, prediction_next30_days)\n",
        "\n",
        "plt.legend(['Train','Validate','Test','PredictTest','Next30days'])\n",
        "\n",
        "plt.grid()\n",
        "plt.title(f\"Catalent Closing Price Data from 2019-01-02 to 2023-07-12\")\n",
        "plt.xlabel(\"Date\")\n",
        "plt.ylabel(\"Close value\")\n",
        "plt.savefig('../Image/DFNN_622_CTLT.png')\n",
        "plt.show()"
      ]
    }
  ],
  "metadata": {
    "colab": {
      "provenance": []
    },
    "kernelspec": {
      "display_name": "user_env",
      "language": "python",
      "name": "python3"
    },
    "language_info": {
      "codemirror_mode": {
        "name": "ipython",
        "version": 3
      },
      "file_extension": ".py",
      "mimetype": "text/x-python",
      "name": "python",
      "nbconvert_exporter": "python",
      "pygments_lexer": "ipython3",
      "version": "3.10.9"
    },
    "orig_nbformat": 4
  },
  "nbformat": 4,
  "nbformat_minor": 0
}
