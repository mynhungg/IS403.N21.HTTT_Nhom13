{
  "cells": [
    {
      "cell_type": "markdown",
      "metadata": {
        "id": "VJCSP6hTadIo"
      },
      "source": [
        "## Import Libraries"
      ]
    },
    {
      "cell_type": "code",
      "execution_count": 1,
      "metadata": {
        "colab": {
          "base_uri": "https://localhost:8080/"
        },
        "id": "Zp0igmwICOxe",
        "outputId": "81a0fe35-9e0c-4f94-9537-3a9aab72f30c"
      },
      "outputs": [
        {
          "output_type": "stream",
          "name": "stdout",
          "text": [
            "Mounted at /content/drive\n"
          ]
        }
      ],
      "source": [
        "from google.colab import drive\n",
        "drive.mount('/content/drive', force_remount=True)"
      ]
    },
    {
      "cell_type": "code",
      "execution_count": 2,
      "metadata": {
        "id": "oukZpJYTadIr"
      },
      "outputs": [],
      "source": [
        "# Library to support working with data\n",
        "import pandas as pd\n",
        "import numpy as np\n",
        "\n",
        "# Data Normalization Support Library\n",
        "from sklearn.preprocessing import MinMaxScaler\n",
        "\n",
        "# Training model\n",
        "from tensorflow.keras.models import Sequential\n",
        "from tensorflow.keras.layers import Dense, Dropout, LSTM\n",
        "from keras.models import load_model\n",
        "from keras.callbacks import ModelCheckpoint\n",
        "from keras.regularizers import l2\n",
        "\n",
        "from tensorflow.keras.callbacks import EarlyStopping\n",
        "\n",
        "# Performance metrics calculation support library\n",
        "from sklearn.metrics import mean_absolute_error, mean_squared_error, mean_absolute_percentage_error, mean_squared_log_error\n",
        "\n",
        "\n",
        "# Graphing support library\n",
        "from matplotlib import ticker\n",
        "import matplotlib.pyplot as plt\n",
        "\n",
        "import warnings\n",
        "warnings.filterwarnings(\"ignore\")"
      ]
    },
    {
      "cell_type": "markdown",
      "metadata": {
        "id": "A9kKLBX9adIs"
      },
      "source": [
        "## Data preprocessing"
      ]
    },
    {
      "cell_type": "markdown",
      "metadata": {
        "id": "BuvQgsr_CJdX"
      },
      "source": [
        "### Read data"
      ]
    },
    {
      "cell_type": "code",
      "execution_count": 3,
      "metadata": {
        "colab": {
          "base_uri": "https://localhost:8080/",
          "height": 424
        },
        "id": "NjGVhuL-adIs",
        "outputId": "912160ad-0402-43a8-d1aa-cc232c1f0a7e"
      },
      "outputs": [
        {
          "output_type": "execute_result",
          "data": {
            "text/plain": [
              "            Date       Open       High        Low      Close  Adj Close  \\\n",
              "0     2019-01-02  30.860001  31.260000  30.240000  30.910000  30.910000   \n",
              "1     2019-01-03  30.660000  30.660000  29.290001  29.840000  29.840000   \n",
              "2     2019-01-04  30.049999  31.360001  29.940001  31.080000  31.080000   \n",
              "3     2019-01-07  31.020000  32.180000  30.850000  32.000000  32.000000   \n",
              "4     2019-01-08  32.340000  33.060001  32.150002  32.790001  32.790001   \n",
              "...          ...        ...        ...        ...        ...        ...   \n",
              "1114  2023-06-06  37.910000  39.049999  37.580002  38.820000  38.820000   \n",
              "1115  2023-06-07  39.160000  40.029999  38.250000  39.959999  39.959999   \n",
              "1116  2023-06-08  39.700001  39.840000  36.750000  39.000000  39.000000   \n",
              "1117  2023-06-09  39.250000  40.110001  38.480000  38.810001  38.810001   \n",
              "1118  2023-06-12  40.490002  44.450001  40.410000  42.779999  42.779999   \n",
              "\n",
              "        Volume  \n",
              "0      1201700  \n",
              "1      1149900  \n",
              "2      3530400  \n",
              "3      1063400  \n",
              "4      1391000  \n",
              "...        ...  \n",
              "1114   2261700  \n",
              "1115   4382500  \n",
              "1116   9705500  \n",
              "1117   4493800  \n",
              "1118  10155800  \n",
              "\n",
              "[1119 rows x 7 columns]"
            ],
            "text/html": [
              "\n",
              "  <div id=\"df-7da532df-f776-4032-a42c-4c7686d55e82\">\n",
              "    <div class=\"colab-df-container\">\n",
              "      <div>\n",
              "<style scoped>\n",
              "    .dataframe tbody tr th:only-of-type {\n",
              "        vertical-align: middle;\n",
              "    }\n",
              "\n",
              "    .dataframe tbody tr th {\n",
              "        vertical-align: top;\n",
              "    }\n",
              "\n",
              "    .dataframe thead th {\n",
              "        text-align: right;\n",
              "    }\n",
              "</style>\n",
              "<table border=\"1\" class=\"dataframe\">\n",
              "  <thead>\n",
              "    <tr style=\"text-align: right;\">\n",
              "      <th></th>\n",
              "      <th>Date</th>\n",
              "      <th>Open</th>\n",
              "      <th>High</th>\n",
              "      <th>Low</th>\n",
              "      <th>Close</th>\n",
              "      <th>Adj Close</th>\n",
              "      <th>Volume</th>\n",
              "    </tr>\n",
              "  </thead>\n",
              "  <tbody>\n",
              "    <tr>\n",
              "      <th>0</th>\n",
              "      <td>2019-01-02</td>\n",
              "      <td>30.860001</td>\n",
              "      <td>31.260000</td>\n",
              "      <td>30.240000</td>\n",
              "      <td>30.910000</td>\n",
              "      <td>30.910000</td>\n",
              "      <td>1201700</td>\n",
              "    </tr>\n",
              "    <tr>\n",
              "      <th>1</th>\n",
              "      <td>2019-01-03</td>\n",
              "      <td>30.660000</td>\n",
              "      <td>30.660000</td>\n",
              "      <td>29.290001</td>\n",
              "      <td>29.840000</td>\n",
              "      <td>29.840000</td>\n",
              "      <td>1149900</td>\n",
              "    </tr>\n",
              "    <tr>\n",
              "      <th>2</th>\n",
              "      <td>2019-01-04</td>\n",
              "      <td>30.049999</td>\n",
              "      <td>31.360001</td>\n",
              "      <td>29.940001</td>\n",
              "      <td>31.080000</td>\n",
              "      <td>31.080000</td>\n",
              "      <td>3530400</td>\n",
              "    </tr>\n",
              "    <tr>\n",
              "      <th>3</th>\n",
              "      <td>2019-01-07</td>\n",
              "      <td>31.020000</td>\n",
              "      <td>32.180000</td>\n",
              "      <td>30.850000</td>\n",
              "      <td>32.000000</td>\n",
              "      <td>32.000000</td>\n",
              "      <td>1063400</td>\n",
              "    </tr>\n",
              "    <tr>\n",
              "      <th>4</th>\n",
              "      <td>2019-01-08</td>\n",
              "      <td>32.340000</td>\n",
              "      <td>33.060001</td>\n",
              "      <td>32.150002</td>\n",
              "      <td>32.790001</td>\n",
              "      <td>32.790001</td>\n",
              "      <td>1391000</td>\n",
              "    </tr>\n",
              "    <tr>\n",
              "      <th>...</th>\n",
              "      <td>...</td>\n",
              "      <td>...</td>\n",
              "      <td>...</td>\n",
              "      <td>...</td>\n",
              "      <td>...</td>\n",
              "      <td>...</td>\n",
              "      <td>...</td>\n",
              "    </tr>\n",
              "    <tr>\n",
              "      <th>1114</th>\n",
              "      <td>2023-06-06</td>\n",
              "      <td>37.910000</td>\n",
              "      <td>39.049999</td>\n",
              "      <td>37.580002</td>\n",
              "      <td>38.820000</td>\n",
              "      <td>38.820000</td>\n",
              "      <td>2261700</td>\n",
              "    </tr>\n",
              "    <tr>\n",
              "      <th>1115</th>\n",
              "      <td>2023-06-07</td>\n",
              "      <td>39.160000</td>\n",
              "      <td>40.029999</td>\n",
              "      <td>38.250000</td>\n",
              "      <td>39.959999</td>\n",
              "      <td>39.959999</td>\n",
              "      <td>4382500</td>\n",
              "    </tr>\n",
              "    <tr>\n",
              "      <th>1116</th>\n",
              "      <td>2023-06-08</td>\n",
              "      <td>39.700001</td>\n",
              "      <td>39.840000</td>\n",
              "      <td>36.750000</td>\n",
              "      <td>39.000000</td>\n",
              "      <td>39.000000</td>\n",
              "      <td>9705500</td>\n",
              "    </tr>\n",
              "    <tr>\n",
              "      <th>1117</th>\n",
              "      <td>2023-06-09</td>\n",
              "      <td>39.250000</td>\n",
              "      <td>40.110001</td>\n",
              "      <td>38.480000</td>\n",
              "      <td>38.810001</td>\n",
              "      <td>38.810001</td>\n",
              "      <td>4493800</td>\n",
              "    </tr>\n",
              "    <tr>\n",
              "      <th>1118</th>\n",
              "      <td>2023-06-12</td>\n",
              "      <td>40.490002</td>\n",
              "      <td>44.450001</td>\n",
              "      <td>40.410000</td>\n",
              "      <td>42.779999</td>\n",
              "      <td>42.779999</td>\n",
              "      <td>10155800</td>\n",
              "    </tr>\n",
              "  </tbody>\n",
              "</table>\n",
              "<p>1119 rows × 7 columns</p>\n",
              "</div>\n",
              "      <button class=\"colab-df-convert\" onclick=\"convertToInteractive('df-7da532df-f776-4032-a42c-4c7686d55e82')\"\n",
              "              title=\"Convert this dataframe to an interactive table.\"\n",
              "              style=\"display:none;\">\n",
              "        \n",
              "  <svg xmlns=\"http://www.w3.org/2000/svg\" height=\"24px\"viewBox=\"0 0 24 24\"\n",
              "       width=\"24px\">\n",
              "    <path d=\"M0 0h24v24H0V0z\" fill=\"none\"/>\n",
              "    <path d=\"M18.56 5.44l.94 2.06.94-2.06 2.06-.94-2.06-.94-.94-2.06-.94 2.06-2.06.94zm-11 1L8.5 8.5l.94-2.06 2.06-.94-2.06-.94L8.5 2.5l-.94 2.06-2.06.94zm10 10l.94 2.06.94-2.06 2.06-.94-2.06-.94-.94-2.06-.94 2.06-2.06.94z\"/><path d=\"M17.41 7.96l-1.37-1.37c-.4-.4-.92-.59-1.43-.59-.52 0-1.04.2-1.43.59L10.3 9.45l-7.72 7.72c-.78.78-.78 2.05 0 2.83L4 21.41c.39.39.9.59 1.41.59.51 0 1.02-.2 1.41-.59l7.78-7.78 2.81-2.81c.8-.78.8-2.07 0-2.86zM5.41 20L4 18.59l7.72-7.72 1.47 1.35L5.41 20z\"/>\n",
              "  </svg>\n",
              "      </button>\n",
              "      \n",
              "  <style>\n",
              "    .colab-df-container {\n",
              "      display:flex;\n",
              "      flex-wrap:wrap;\n",
              "      gap: 12px;\n",
              "    }\n",
              "\n",
              "    .colab-df-convert {\n",
              "      background-color: #E8F0FE;\n",
              "      border: none;\n",
              "      border-radius: 50%;\n",
              "      cursor: pointer;\n",
              "      display: none;\n",
              "      fill: #1967D2;\n",
              "      height: 32px;\n",
              "      padding: 0 0 0 0;\n",
              "      width: 32px;\n",
              "    }\n",
              "\n",
              "    .colab-df-convert:hover {\n",
              "      background-color: #E2EBFA;\n",
              "      box-shadow: 0px 1px 2px rgba(60, 64, 67, 0.3), 0px 1px 3px 1px rgba(60, 64, 67, 0.15);\n",
              "      fill: #174EA6;\n",
              "    }\n",
              "\n",
              "    [theme=dark] .colab-df-convert {\n",
              "      background-color: #3B4455;\n",
              "      fill: #D2E3FC;\n",
              "    }\n",
              "\n",
              "    [theme=dark] .colab-df-convert:hover {\n",
              "      background-color: #434B5C;\n",
              "      box-shadow: 0px 1px 3px 1px rgba(0, 0, 0, 0.15);\n",
              "      filter: drop-shadow(0px 1px 2px rgba(0, 0, 0, 0.3));\n",
              "      fill: #FFFFFF;\n",
              "    }\n",
              "  </style>\n",
              "\n",
              "      <script>\n",
              "        const buttonEl =\n",
              "          document.querySelector('#df-7da532df-f776-4032-a42c-4c7686d55e82 button.colab-df-convert');\n",
              "        buttonEl.style.display =\n",
              "          google.colab.kernel.accessAllowed ? 'block' : 'none';\n",
              "\n",
              "        async function convertToInteractive(key) {\n",
              "          const element = document.querySelector('#df-7da532df-f776-4032-a42c-4c7686d55e82');\n",
              "          const dataTable =\n",
              "            await google.colab.kernel.invokeFunction('convertToInteractive',\n",
              "                                                     [key], {});\n",
              "          if (!dataTable) return;\n",
              "\n",
              "          const docLinkHtml = 'Like what you see? Visit the ' +\n",
              "            '<a target=\"_blank\" href=https://colab.research.google.com/notebooks/data_table.ipynb>data table notebook</a>'\n",
              "            + ' to learn more about interactive tables.';\n",
              "          element.innerHTML = '';\n",
              "          dataTable['output_type'] = 'display_data';\n",
              "          await google.colab.output.renderOutput(dataTable, element);\n",
              "          const docLink = document.createElement('div');\n",
              "          docLink.innerHTML = docLinkHtml;\n",
              "          element.appendChild(docLink);\n",
              "        }\n",
              "      </script>\n",
              "    </div>\n",
              "  </div>\n",
              "  "
            ]
          },
          "metadata": {},
          "execution_count": 3
        }
      ],
      "source": [
        "df = pd.read_csv('/content/drive/MyDrive/Colab Notebooks/CTLT.csv')\n",
        "df"
      ]
    },
    {
      "cell_type": "markdown",
      "metadata": {
        "id": "xs-f3v9aCJdY"
      },
      "source": [
        "### Reset index"
      ]
    },
    {
      "cell_type": "code",
      "execution_count": 4,
      "metadata": {
        "id": "110tZiAa7mEL"
      },
      "outputs": [],
      "source": [
        "# Convert the 'Date' column to datetime format\n",
        "df['Date'] = pd.to_datetime(df['Date'])\n",
        "\n",
        "# Set the 'Date' column as the index value\n",
        "df.set_index('Date', inplace=True)"
      ]
    },
    {
      "cell_type": "code",
      "execution_count": 5,
      "metadata": {
        "id": "BGQ6VDVYCJdY"
      },
      "outputs": [],
      "source": [
        "# Select column 'Close'\n",
        "df_Close = df[['Close']]\n",
        "df_Close = df_Close.reset_index(drop=True)"
      ]
    },
    {
      "cell_type": "markdown",
      "metadata": {
        "id": "-AWxBH2pCJdY"
      },
      "source": [
        "### Data normalization"
      ]
    },
    {
      "cell_type": "code",
      "execution_count": 6,
      "metadata": {
        "id": "hHf5Ai4mCJdY"
      },
      "outputs": [],
      "source": [
        "#  Scaler data\n",
        "scaler = MinMaxScaler(feature_range = (0, 1))\n",
        "df_scaled = scaler.fit_transform(np.array(df_Close))"
      ]
    },
    {
      "cell_type": "markdown",
      "metadata": {
        "id": "fntQAMvBCJdZ"
      },
      "source": [
        "### Data splitting"
      ]
    },
    {
      "cell_type": "code",
      "execution_count": 7,
      "metadata": {
        "id": "HYEdfOetCJdZ"
      },
      "outputs": [],
      "source": [
        "# Split the data into training, validation and test dataset in a ratio of 6:2:2\n",
        "train_size = int(len(df_scaled) * 0.6)\n",
        "val_size = int(len(df_scaled) * 0.2)\n",
        "test_size = len(df_scaled) - train_size - val_size\n",
        "\n",
        "train_data = df_scaled[0 : train_size, :]\n",
        "val_data = df_scaled[train_size : train_size + val_size, :]\n",
        "test_data = df_scaled[train_size + val_size : len(df_scaled), :]"
      ]
    },
    {
      "cell_type": "markdown",
      "metadata": {
        "id": "AUt38HMyCJdZ"
      },
      "source": [
        "## Model training and testing"
      ]
    },
    {
      "cell_type": "code",
      "execution_count": 8,
      "metadata": {
        "id": "w0Z_twgFCJdZ"
      },
      "outputs": [],
      "source": [
        "# Create Dataset\n",
        "import numpy\n",
        "# convert an array of values into a dataset matrix\n",
        "def create_dataset(dataset, time_step=1):\n",
        "\tdataX, dataY = [], []\n",
        "\tfor i in range(len(dataset)-time_step):\n",
        "\t\ta = dataset[i:(i+time_step), 0]   ###i=0, X=0,1,2,3-----99   Y=100\n",
        "\t\tdataX.append(a)\n",
        "\t\tdataY.append(dataset[i + time_step, 0])\n",
        "\treturn numpy.array(dataX), numpy.array(dataY)"
      ]
    },
    {
      "cell_type": "code",
      "execution_count": 9,
      "metadata": {
        "id": "0EgHm83jCJdZ"
      },
      "outputs": [],
      "source": [
        "# Add data for train, validation and test set\n",
        "time_step = 30\n",
        "\n",
        "val_last_windowsize = val_data[-time_step:]\n",
        "test_data_extended = np.concatenate((val_last_windowsize, test_data), axis=0)\n",
        "\n",
        "X_train, y_train = create_dataset(train_data, time_step)\n",
        "X_val, y_val = create_dataset(val_data, time_step)\n",
        "X_test, ytest = create_dataset(test_data_extended, time_step)"
      ]
    },
    {
      "cell_type": "code",
      "execution_count": 10,
      "metadata": {
        "id": "jVA9NjsFCJda"
      },
      "outputs": [],
      "source": [
        "# Make input for DFNN\n",
        "X_train = X_train.reshape(X_train.shape[0], X_train.shape[1] , 1)\n",
        "X_val = X_val.reshape(X_val.shape[0], X_val.shape[1] , 1)\n",
        "X_test = X_test.reshape(X_test.shape[0], X_test.shape[1] , 1)"
      ]
    },
    {
      "cell_type": "markdown",
      "metadata": {
        "id": "6DIeuE1bCJda"
      },
      "source": [
        "### Training process"
      ]
    },
    {
      "cell_type": "markdown",
      "metadata": {
        "id": "hrolrU0mDWTW"
      },
      "source": [
        "#### Optimization"
      ]
    },
    {
      "cell_type": "code",
      "execution_count": 11,
      "metadata": {
        "id": "FYCMwoGKDYcE"
      },
      "outputs": [],
      "source": [
        "from sklearn.model_selection import GridSearchCV\n",
        "from sklearn.neural_network import MLPRegressor"
      ]
    },
    {
      "cell_type": "code",
      "execution_count": 12,
      "metadata": {
        "id": "sSjosl2dD_VR"
      },
      "outputs": [],
      "source": [
        "# Reshape x_train, x_test, x_val to 2 dimensions\n",
        "X_train_2d = X_train.reshape(X_train.shape[0], -1)\n",
        "X_test_2d = X_test.reshape(X_test.shape[0], -1)\n",
        "X_val_2d = X_val.reshape(X_val.shape[0], -1)"
      ]
    },
    {
      "cell_type": "code",
      "execution_count": 13,
      "metadata": {
        "id": "VaBHJdX7DY8_"
      },
      "outputs": [],
      "source": [
        "# Define the parameter grid\n",
        "param_grid = {\n",
        "    'hidden_layer_sizes': [(16, ),(32, ),(64, ),(128, ),(256, ), (256, 128), (128, 64), (64, 32),(64, 32, 16), (128, 64, 32), (256, 128, 64)],\n",
        "    'activation': ['relu', 'tanh'],\n",
        "    'learning_rate': ['constant', 'adaptive'],\n",
        "}"
      ]
    },
    {
      "cell_type": "code",
      "execution_count": 14,
      "metadata": {
        "id": "SMqEguJcDipR"
      },
      "outputs": [],
      "source": [
        "# Create the model\n",
        "model = MLPRegressor()"
      ]
    },
    {
      "cell_type": "code",
      "execution_count": 15,
      "metadata": {
        "id": "ZXR2RZod1P8k"
      },
      "outputs": [],
      "source": [
        "# Find best params (GridSearch Idea)\n",
        "best_val_mse = float('inf')\n",
        "best_params = None\n",
        "\n",
        "for hidden_layer_sizes in param_grid['hidden_layer_sizes']:\n",
        "    for activation in param_grid['activation']:\n",
        "        for learning_rate in param_grid['learning_rate']:\n",
        "            # Create the model\n",
        "            model = MLPRegressor(hidden_layer_sizes=hidden_layer_sizes, activation=activation, learning_rate=learning_rate,\n",
        "                                 max_iter=10, batch_size=32)\n",
        "\n",
        "            # Training with EarlyStopping\n",
        "            es = EarlyStopping(patience=3, verbose=1)\n",
        "            model.fit(X_train_2d, y_train)\n",
        "\n",
        "            # Evaluate on validate sets\n",
        "            y_pred_val=model.predict(X_val_2d)\n",
        "\n",
        "            # Inverse\n",
        "            y_pred_val = scaler.inverse_transform(y_pred_val.reshape(-1, 1))\n",
        "\n",
        "            # Assign y_val to y_val_temp\n",
        "            y_val_temp = y_val\n",
        "            y_val_temp = scaler.inverse_transform(y_val_temp.reshape(-1, 1))\n",
        "\n",
        "            val_mse = mean_squared_error(y_pred_val, y_val_temp)\n",
        "\n",
        "            # Update best model\n",
        "            if val_mse < best_val_mse:\n",
        "                best_val_mse = val_mse\n",
        "                best_params = {'hidden_layer_sizes': hidden_layer_sizes, 'activation': activation, 'learning_rate': learning_rate}\n",
        "\n"
      ]
    },
    {
      "cell_type": "code",
      "execution_count": 16,
      "metadata": {
        "colab": {
          "base_uri": "https://localhost:8080/"
        },
        "id": "ywIFZz3254mM",
        "outputId": "e7b9c618-cb4b-4e97-a1a7-85dd3fd8fae2"
      },
      "outputs": [
        {
          "output_type": "stream",
          "name": "stdout",
          "text": [
            "Best MSE: 15.000731054765376\n",
            "Best Parameters: {'hidden_layer_sizes': (128, 64, 32), 'activation': 'relu', 'learning_rate': 'adaptive'}\n"
          ]
        }
      ],
      "source": [
        "# In kết quả\n",
        "print(\"Best MSE:\", best_val_mse)\n",
        "print(\"Best Parameters:\", best_params)\n"
      ]
    },
    {
      "cell_type": "markdown",
      "metadata": {
        "id": "7-0XkExBCJdb"
      },
      "source": [
        "### Testing Processing"
      ]
    },
    {
      "cell_type": "code",
      "execution_count": 17,
      "metadata": {
        "id": "mQ3qCwUBCJdb"
      },
      "outputs": [],
      "source": [
        "y_pred=model.predict(X_test_2d)"
      ]
    },
    {
      "cell_type": "markdown",
      "metadata": {
        "id": "h9aGfZfXNzkT"
      },
      "source": [
        "### Inverse"
      ]
    },
    {
      "cell_type": "code",
      "execution_count": 18,
      "metadata": {
        "id": "NCz-W_r6IL5A"
      },
      "outputs": [],
      "source": [
        "test_data = scaler.inverse_transform(test_data.reshape(-1, 1))\n",
        "\n",
        "y_val = scaler.inverse_transform(y_val.reshape(-1, 1))\n",
        "\n",
        "y_pred = scaler.inverse_transform(y_pred.reshape(-1, 1))\n",
        "\n",
        "ytest = scaler.inverse_transform(ytest.reshape(-1, 1))"
      ]
    },
    {
      "cell_type": "markdown",
      "metadata": {
        "id": "I7PlKUm9CJdc"
      },
      "source": [
        "### Evaluate Model"
      ]
    },
    {
      "cell_type": "code",
      "execution_count": 19,
      "metadata": {
        "colab": {
          "base_uri": "https://localhost:8080/"
        },
        "id": "_Nw9qZRcJDmr",
        "outputId": "8ee1e931-3070-4f7a-ec0c-ef15543a885b"
      },
      "outputs": [
        {
          "output_type": "stream",
          "name": "stdout",
          "text": [
            "Validation MAPE:  0.04460626904255538\n",
            "Validation MSE:  15.000731054765376\n",
            "Validation RMSE:  3.873077723821893\n",
            "Validation MSLE:  0.0033604511064072185\n"
          ]
        }
      ],
      "source": [
        "# Evaluate the accuracy of validation\n",
        "val_mape = mean_absolute_percentage_error(y_pred_val, y_val)\n",
        "val_mse = mean_squared_error(y_pred_val, y_val)\n",
        "val_rmse = np.sqrt(best_val_mse)\n",
        "val_msle = mean_squared_log_error(y_pred_val, y_val)\n",
        "\n",
        "print(f\"Validation MAPE: \", val_mape)\n",
        "print(f\"Validation MSE: \", best_val_mse)\n",
        "print(f\"Validation RMSE: \", val_rmse)\n",
        "print(f\"Validation MSLE: \", val_msle)"
      ]
    },
    {
      "cell_type": "code",
      "execution_count": 20,
      "metadata": {
        "colab": {
          "base_uri": "https://localhost:8080/"
        },
        "id": "jfUGyt_2CJdc",
        "outputId": "3206cc90-7540-48c3-c9ad-f716cb2b6412"
      },
      "outputs": [
        {
          "output_type": "stream",
          "name": "stdout",
          "text": [
            "Testing MAPE:  0.07159668433962815\n",
            "Testing MSE:  39.925964914556616\n",
            "Testing RMSE:  6.318699622118195\n",
            "Testing MSLE:  0.010199264954398705\n"
          ]
        }
      ],
      "source": [
        "# Evaluate the accuracy of test\n",
        "test_mape = mean_absolute_percentage_error(y_pred, ytest)\n",
        "test_mse = mean_squared_error(y_pred, ytest)\n",
        "test_rmse = np.sqrt(test_mse)\n",
        "test_msle = mean_squared_log_error(y_pred, ytest)\n",
        "\n",
        "print(f\"Testing MAPE: \", test_mape)\n",
        "print(f\"Testing MSE: \", test_mse)\n",
        "print(f\"Testing RMSE: \", test_rmse)\n",
        "print(f\"Testing MSLE: \", test_msle)"
      ]
    },
    {
      "cell_type": "markdown",
      "metadata": {
        "id": "KckGDfMHCJdc"
      },
      "source": [
        "## Predicting the next 30 days"
      ]
    },
    {
      "cell_type": "markdown",
      "metadata": {
        "id": "Yk_IZcV8CJdc"
      },
      "source": [
        "### Preparing the prediction data"
      ]
    },
    {
      "cell_type": "code",
      "execution_count": 21,
      "metadata": {
        "id": "b300n-rPCJdc"
      },
      "outputs": [],
      "source": [
        "x_input = test_data_extended[5:].reshape(1,-1)\n",
        "temp_input = list(x_input)\n",
        "temp_input = temp_input[0].tolist()\n",
        "\n",
        "\n",
        "# Define i\n",
        "i = 0\n",
        "\n",
        "# List storage value for next 30 days\n",
        "prediction_next30_days = []\n",
        "\n",
        "while(i < 30):\n",
        "    if(len(temp_input) > time_step):\n",
        "        x_input = np.array(temp_input[-time_step:])\n",
        "\n",
        "        x_input = x_input.reshape((1, time_step, 1))\n",
        "        x_input = x_input.reshape((x_input.shape[0], x_input.shape[1]))\n",
        "\n",
        "        y_hat = model.predict(x_input)\n",
        "\n",
        "        temp_input.extend(y_hat.tolist())\n",
        "        temp_input = temp_input[1:]\n",
        "\n",
        "        prediction_next30_days.extend(y_hat.tolist())\n",
        "        i = i + 1\n",
        "    else:\n",
        "        x_input = x_input.reshape((1, time_step, 1))\n",
        "        y_hat = model.predict(x_input, verbose = 0)\n",
        "\n",
        "        temp_input.extend(y_hat.tolist())\n",
        "\n",
        "        prediction_next30_days.extend(y_hat.tolist())\n",
        "        i = i + 1"
      ]
    },
    {
      "cell_type": "code",
      "execution_count": 22,
      "metadata": {
        "colab": {
          "base_uri": "https://localhost:8080/"
        },
        "id": "JDORQyuSCJdc",
        "outputId": "9882d710-b39f-40f2-ef03-3db0843fa6a3"
      },
      "outputs": [
        {
          "output_type": "stream",
          "name": "stdout",
          "text": [
            "[0.10345425754934182, 0.10550261089374763, 0.11783529596541442, 0.1266500251129114, 0.1576204897220811, 0.15889539399369346, 0.16639604271516056, 0.1668945273140712, 0.16319738569901912, 0.17657994594274623, 0.1834164648377395, 0.1855551238272723, 0.19877537463325295, 0.19372163446634666, 0.20958926133046207, 0.22452644817095008, 0.22690804586076535, 0.24075599114772406, 0.23667036508345446, 0.24105941403615622, 0.25462001095480963, 0.25800905227519294, 0.2699336561131714, 0.27639975699940017, 0.28189890652867655, 0.2966115040347043, 0.3009548489687981, 0.3047495412636021, 0.30767183954517063, 0.3117562548806158]\n"
          ]
        }
      ],
      "source": [
        "# Print predict next 30 days\n",
        "print(prediction_next30_days)"
      ]
    },
    {
      "cell_type": "markdown",
      "metadata": {
        "id": "uLkThOWiCJdd"
      },
      "source": [
        "### Preparing the forecast date index"
      ]
    },
    {
      "cell_type": "code",
      "execution_count": 23,
      "metadata": {
        "id": "Vf1swdn-CJdd"
      },
      "outputs": [],
      "source": [
        "# Get the last date from the current index\n",
        "last_date = df.index.max()\n",
        "\n",
        "# Create a list of indices starting from the next date for 30 days\n",
        "future_dates = pd.date_range(start=pd.to_datetime(last_date) + pd.DateOffset(days=1), periods=30, freq='D')"
      ]
    },
    {
      "cell_type": "code",
      "execution_count": 24,
      "metadata": {
        "id": "NlwVnCLsCJdd"
      },
      "outputs": [],
      "source": [
        "# Convert from list to array\n",
        "prediction_next30_days = np.array(prediction_next30_days)\n",
        "\n",
        "# Convert to normal values from 0, 1\n",
        "prediction_next30_days = scaler.inverse_transform(prediction_next30_days.reshape(-1,1))"
      ]
    },
    {
      "cell_type": "code",
      "execution_count": 25,
      "metadata": {
        "colab": {
          "base_uri": "https://localhost:8080/"
        },
        "id": "JvJuujpULznt",
        "outputId": "31a2d398-c8a3-49f1-f0f6-428a3ebe1b04"
      },
      "outputs": [
        {
          "output_type": "execute_result",
          "data": {
            "text/plain": [
              "array([[41.47963914],\n",
              "       [41.71009938],\n",
              "       [43.09764986],\n",
              "       [44.08939509],\n",
              "       [47.57388224],\n",
              "       [47.71732173],\n",
              "       [48.56121976],\n",
              "       [48.61730427],\n",
              "       [48.20133884],\n",
              "       [49.70701078],\n",
              "       [50.47618756],\n",
              "       [50.7168081 ],\n",
              "       [52.20421859],\n",
              "       [51.63562226],\n",
              "       [53.42088905],\n",
              "       [55.10147203],\n",
              "       [55.3694256 ],\n",
              "       [56.92745801],\n",
              "       [56.4677842 ],\n",
              "       [56.96159612],\n",
              "       [58.48729896],\n",
              "       [58.86860002],\n",
              "       [60.21023727],\n",
              "       [60.93773832],\n",
              "       [61.55644766],\n",
              "       [63.2117621 ],\n",
              "       [63.70043186],\n",
              "       [64.12737272],\n",
              "       [64.45616051],\n",
              "       [64.91569811]])"
            ]
          },
          "metadata": {},
          "execution_count": 25
        }
      ],
      "source": [
        "prediction_next30_days"
      ]
    },
    {
      "cell_type": "markdown",
      "metadata": {
        "id": "7__ZhiaWCJdd"
      },
      "source": [
        "## Visualization"
      ]
    },
    {
      "cell_type": "code",
      "execution_count": 26,
      "metadata": {
        "colab": {
          "base_uri": "https://localhost:8080/",
          "height": 315
        },
        "id": "QIwSFshrCJdd",
        "outputId": "568e57b2-a54e-4830-f0fd-114d3ba2220b"
      },
      "outputs": [
        {
          "output_type": "display_data",
          "data": {
            "text/plain": [
              "<Figure size 1600x500 with 1 Axes>"
            ],
            "image/png": "[encoded data removed]"
          },
          "metadata": {}
        }
      ],
      "source": [
        "# Visualization\n",
        "plt.figure(figsize=(16, 5))\n",
        "\n",
        "plt.plot(df.index[:train_size], scaler.inverse_transform(train_data))\n",
        "\n",
        "plt.plot(df.index[train_size : train_size + val_size], scaler.inverse_transform(val_data))\n",
        "\n",
        "plt.plot(df.index[train_size + val_size : ], test_data)\n",
        "plt.plot(df.index[train_size + val_size : ], y_pred)\n",
        "\n",
        "plt.plot(future_dates, prediction_next30_days)\n",
        "\n",
        "plt.legend(['Train','Validate','Test','PredictTest','Next30days'])\n",
        "\n",
        "plt.grid()\n",
        "plt.title(f\"Catalent Closing Price Data from 2019-01-02 to 2023-07-12\")\n",
        "plt.xlabel(\"Date\")\n",
        "plt.ylabel(\"Close value\")\n",
        "#plt.savefig('../Image/DFNN_622_CTLT.png')\n",
        "plt.show()"
      ]
    }
  ],
  "metadata": {
    "colab": {
      "provenance": [],
      "toc_visible": true
    },
    "kernelspec": {
      "display_name": "Python 3",
      "name": "python3"
    },
    "language_info": {
      "codemirror_mode": {
        "name": "ipython",
        "version": 3
      },
      "file_extension": ".py",
      "mimetype": "text/x-python",
      "name": "python",
      "nbconvert_exporter": "python",
      "pygments_lexer": "ipython3",
      "version": "3.10.9"
    }
  },
  "nbformat": 4,
  "nbformat_minor": 0
}