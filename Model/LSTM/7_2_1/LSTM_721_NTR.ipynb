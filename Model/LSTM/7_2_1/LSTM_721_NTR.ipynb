{
 "cells": [
  {
   "attachments": {},
   "cell_type": "markdown",
   "metadata": {},
   "source": [
    "                            - DỰ ĐOÁN GIÁ CLOSE CHO TẬP DỮ LIỆU CTLT.csv"
   ]
  },
  {
   "attachments": {},
   "cell_type": "markdown",
   "metadata": {},
   "source": [
    "IMPORT THƯ VIỆN"
   ]
  },
  {
   "cell_type": "code",
   "execution_count": 1,
   "metadata": {},
   "outputs": [
    {
     "name": "stderr",
     "output_type": "stream",
     "text": [
      "<frozen importlib._bootstrap>:228: RuntimeWarning: scipy._lib.messagestream.MessageStream size changed, may indicate binary incompatibility. Expected 56 from C header, got 64 from PyObject\n"
     ]
    }
   ],
   "source": [
    "import numpy as np\n",
    "import pandas as pd\n",
    "import matplotlib.pyplot as plt\n",
    "\n",
    "from numpy import array\n",
    "from keras.models import Sequential\n",
    "from keras.layers import Dense, LSTM\n",
    "from keras.callbacks import EarlyStopping,ModelCheckpoint\n",
    "from sklearn.preprocessing import MinMaxScaler\n",
    "from sklearn.metrics import mean_absolute_error, mean_squared_error, mean_absolute_percentage_error"
   ]
  },
  {
   "attachments": {},
   "cell_type": "markdown",
   "metadata": {},
   "source": [
    "ĐỌC DỮ LIỆU"
   ]
  },
  {
   "cell_type": "code",
   "execution_count": 2,
   "metadata": {},
   "outputs": [],
   "source": [
    "# Đọc dữ liệu\n",
    "stock_ntr = pd.read_csv('../../Dataset/NTR.csv')\n",
    "\n",
    "# Column Date là object => đổi sang dạng datetime\n",
    "stock_ntr['Date'] = pd.to_datetime(stock_ntr.Date,format='%Y/%m/%d')\n",
    "\n",
    "# Cho Cột Date làm giá trị index => in đc giá trị x là cột Date\n",
    "stock_ntr = stock_ntr.set_index(pd.DatetimeIndex(stock_ntr['Date'].values))"
   ]
  },
  {
   "attachments": {},
   "cell_type": "markdown",
   "metadata": {},
   "source": [
    "THÔNG SỐ TẬP DỮ LIỆU"
   ]
  },
  {
   "cell_type": "code",
   "execution_count": 3,
   "metadata": {},
   "outputs": [
    {
     "name": "stdout",
     "output_type": "stream",
     "text": [
      "Độ dài giá trị có trong cột Close:  1051\n",
      "Giá trị max của cột Close: 114.5\n",
      "Giá trị min của cột Close: 25.1\n",
      "Q1: 48.0550005\n",
      "Q2: 54.439999\n",
      "Q3: 73.9350015\n"
     ]
    }
   ],
   "source": [
    "print(\"Độ dài giá trị có trong cột Close: \", stock_ntr['Close'].count())\n",
    "print(\"Giá trị max của cột Close:\", stock_ntr['Close'].max())\n",
    "print(\"Giá trị min của cột Close:\", stock_ntr['Close'].min())\n",
    "print(\"Q1:\", np.percentile(stock_ntr['Close'], 25))\n",
    "print(\"Q2:\", np.percentile(stock_ntr['Close'], 50))\n",
    "print(\"Q3:\", np.percentile(stock_ntr['Close'], 75))"
   ]
  },
  {
   "attachments": {},
   "cell_type": "markdown",
   "metadata": {},
   "source": [
    "CHUẨN HÓA DỮ LIỆU"
   ]
  },
  {
   "cell_type": "code",
   "execution_count": 4,
   "metadata": {},
   "outputs": [],
   "source": [
    "# Tạo dataframe mới chỉ chứa cột Date và giá trị Close\n",
    "df_ntr = pd.DataFrame(stock_ntr, columns=['Date', 'Close'])\n",
    "\n",
    "# Bỏ cột date khỏi dataframe\n",
    "df_ntr.drop('Date', axis=1, inplace=True)"
   ]
  },
  {
   "cell_type": "code",
   "execution_count": 5,
   "metadata": {},
   "outputs": [],
   "source": [
    "scaler = MinMaxScaler(feature_range=(0,1))\n",
    "df_ntr = scaler.fit_transform(np.array(df_ntr).reshape(-1,1))"
   ]
  },
  {
   "attachments": {},
   "cell_type": "markdown",
   "metadata": {},
   "source": [
    "CHIA CÁC TẬP DỮ LIỆU"
   ]
  },
  {
   "cell_type": "code",
   "execution_count": 6,
   "metadata": {},
   "outputs": [],
   "source": [
    "# Tính độ dài\n",
    "    # Train: 70%\n",
    "    # Test: 20%\n",
    "    # Val: 10%\n",
    "train_size = int(len(df_ntr) * 0.7)\n",
    "test_size = int(len(df_ntr) * 0.2)\n",
    "val_size = len(df_ntr) - train_size - test_size"
   ]
  },
  {
   "cell_type": "code",
   "execution_count": 7,
   "metadata": {},
   "outputs": [],
   "source": [
    "# Lấy dữ liệu\n",
    "train_data = df_ntr[:train_size]\n",
    "test_data = df_ntr[train_size:train_size+test_size]\n",
    "val_data = df_ntr[train_size+test_size:]"
   ]
  },
  {
   "cell_type": "code",
   "execution_count": 8,
   "metadata": {},
   "outputs": [],
   "source": [
    "# Tạo dataset cho X, Y train, test, val\n",
    "def create_dataset(dataset, time_step=1):\n",
    "\tdataX, dataY = [], []\n",
    "\tfor i in range(len(dataset) - time_step - 1):\n",
    "\t\ta = dataset[i:(i + time_step), 0]\n",
    "\t\tdataX.append(a)\n",
    "\t\tdataY.append(dataset[i + time_step, 0])\n",
    "\treturn np.array(dataX), np.array(dataY)"
   ]
  },
  {
   "cell_type": "code",
   "execution_count": 9,
   "metadata": {},
   "outputs": [],
   "source": [
    "time_step = 100\n",
    "X_train, y_train = create_dataset(train_data, time_step)\n",
    "X_val, yval = create_dataset(val_data, time_step)\n",
    "X_test, ytest = create_dataset(test_data, time_step)"
   ]
  },
  {
   "cell_type": "code",
   "execution_count": 10,
   "metadata": {},
   "outputs": [],
   "source": [
    "X_train = X_train.reshape(X_train.shape[0], X_train.shape[1] , 1)\n",
    "X_test = X_test.reshape(X_test.shape[0], X_test.shape[1] , 1)\n",
    "X_val = X_val.reshape(X_val.shape[0], X_val.shape[1] , 1)"
   ]
  },
  {
   "attachments": {},
   "cell_type": "markdown",
   "metadata": {},
   "source": [
    "HUẤN LUYỆN VÀ TRAIN MÔ HÌNH"
   ]
  },
  {
   "cell_type": "code",
   "execution_count": 11,
   "metadata": {},
   "outputs": [],
   "source": [
    "# Định nghĩa mô hình\n",
    "model = Sequential()\n",
    "model.add(LSTM(64, return_sequences=True, input_shape = (100, 1)))\n",
    "model.add(LSTM(64, return_sequences=True))\n",
    "model.add(LSTM(64))\n",
    "model.add(Dense(1))\n",
    "model.compile(loss='mean_squared_error', optimizer='adam')"
   ]
  },
  {
   "cell_type": "code",
   "execution_count": 12,
   "metadata": {},
   "outputs": [],
   "source": [
    "# Sử dụng early stoping để dừng khi không có cải thiện\n",
    "earlystop = EarlyStopping(monitor='val_loss', patience=10)"
   ]
  },
  {
   "cell_type": "code",
   "execution_count": 13,
   "metadata": {},
   "outputs": [
    {
     "name": "stdout",
     "output_type": "stream",
     "text": [
      "Epoch 1/100\n",
      "10/10 [==============================] - 12s 553ms/step - loss: 0.0301 - val_loss: 0.0498\n",
      "Epoch 2/100\n",
      "10/10 [==============================] - 3s 309ms/step - loss: 0.0058 - val_loss: 0.0069\n",
      "Epoch 3/100\n",
      "10/10 [==============================] - 5s 508ms/step - loss: 0.0031 - val_loss: 0.0223\n",
      "Epoch 4/100\n",
      "10/10 [==============================] - 3s 284ms/step - loss: 0.0017 - val_loss: 0.0048\n",
      "Epoch 5/100\n",
      "10/10 [==============================] - 3s 280ms/step - loss: 0.0011 - val_loss: 0.0123\n",
      "Epoch 6/100\n",
      "10/10 [==============================] - 3s 288ms/step - loss: 0.0011 - val_loss: 0.0095\n",
      "Epoch 7/100\n",
      "10/10 [==============================] - 3s 289ms/step - loss: 9.7468e-04 - val_loss: 0.0059\n",
      "Epoch 8/100\n",
      "10/10 [==============================] - 3s 314ms/step - loss: 9.3743e-04 - val_loss: 0.0059\n",
      "Epoch 9/100\n",
      "10/10 [==============================] - 3s 254ms/step - loss: 9.2697e-04 - val_loss: 0.0081\n",
      "Epoch 10/100\n",
      "10/10 [==============================] - 3s 255ms/step - loss: 9.1254e-04 - val_loss: 0.0089\n",
      "Epoch 11/100\n",
      "10/10 [==============================] - 2s 229ms/step - loss: 9.5271e-04 - val_loss: 0.0094\n",
      "Epoch 12/100\n",
      "10/10 [==============================] - 3s 272ms/step - loss: 9.2242e-04 - val_loss: 0.0066\n",
      "Epoch 13/100\n",
      "10/10 [==============================] - 3s 268ms/step - loss: 8.8790e-04 - val_loss: 0.0066\n",
      "Epoch 14/100\n",
      "10/10 [==============================] - 3s 261ms/step - loss: 8.9867e-04 - val_loss: 0.0056\n"
     ]
    },
    {
     "data": {
      "text/plain": [
       "<keras.callbacks.History at 0x1ae32cbd400>"
      ]
     },
     "execution_count": 13,
     "metadata": {},
     "output_type": "execute_result"
    }
   ],
   "source": [
    "# Train mô hình\n",
    "model.fit(X_train, y_train, validation_data=(X_test, ytest), epochs = 100, batch_size = 64,verbose = 1,  callbacks=earlystop)"
   ]
  },
  {
   "attachments": {},
   "cell_type": "markdown",
   "metadata": {},
   "source": [
    "DỰ ĐOÁN TRÊN TẬP TEST VÀ TRAIN"
   ]
  },
  {
   "cell_type": "code",
   "execution_count": 14,
   "metadata": {},
   "outputs": [
    {
     "name": "stdout",
     "output_type": "stream",
     "text": [
      "4/4 [==============================] - 5s 87ms/step\n",
      "1/1 [==============================] - 0s 81ms/step\n"
     ]
    }
   ],
   "source": [
    "# Dự đoán\n",
    "y_pred = model.predict(X_test)\n",
    "y_pred_val = model.predict(X_val)"
   ]
  },
  {
   "cell_type": "code",
   "execution_count": 15,
   "metadata": {},
   "outputs": [],
   "source": [
    "# Chuyển hóa dữ liệu lại như cũ\n",
    "y_pred = scaler.inverse_transform(y_pred)\n",
    "y_pred_val = scaler.inverse_transform(y_pred_val)"
   ]
  },
  {
   "attachments": {},
   "cell_type": "markdown",
   "metadata": {},
   "source": [
    "TÍNH ĐỘ LỖI CỦA MÔ HÌNH"
   ]
  },
  {
   "cell_type": "code",
   "execution_count": 16,
   "metadata": {},
   "outputs": [
    {
     "name": "stdout",
     "output_type": "stream",
     "text": [
      "Testing MAE:  91.07846373779142\n",
      "Testing MAPE:  0.9921752741347161\n",
      "Testing MSE:  8377.833585210896\n",
      "Testing RMSE:  91.53050630915845\n"
     ]
    }
   ],
   "source": [
    "# Độ lỗi mô hình trên tập test\n",
    "test_mae = mean_absolute_error(y_pred, ytest)\n",
    "test_mape = mean_absolute_percentage_error(y_pred, ytest)\n",
    "test_mse = mean_squared_error(y_pred, ytest)\n",
    "test_rmse = np.sqrt(test_mse)\n",
    "\n",
    "print(f\"Testing MAE: \", test_mae)\n",
    "print(f\"Testing MAPE: \", test_mape)\n",
    "print(f\"Testing MSE: \", test_mse)\n",
    "print(f\"Testing RMSE: \", test_rmse)"
   ]
  },
  {
   "cell_type": "code",
   "execution_count": 17,
   "metadata": {},
   "outputs": [
    {
     "name": "stdout",
     "output_type": "stream",
     "text": [
      "Validation MAE:  78.07561405698799\n",
      "Validation MAPE:  0.9922095926021814\n",
      "Validation MSE:  6095.927999022308\n",
      "Validation RMSE:  78.07642409218232\n"
     ]
    }
   ],
   "source": [
    "# Độ lỗi mô hình trên tập validation\n",
    "val_mae = mean_absolute_error(y_pred_val, yval)\n",
    "val_mape = mean_absolute_percentage_error(y_pred_val, yval)\n",
    "val_mse = mean_squared_error(y_pred_val, yval)\n",
    "val_rmse = np.sqrt(val_mse)\n",
    "\n",
    "print(f\"Validation MAE: \",val_mae)\n",
    "print(f\"Validation MAPE: \", val_mape)\n",
    "print(f\"Validation MSE: \", val_mse)\n",
    "print(f\"Validation RMSE: \", val_rmse)"
   ]
  },
  {
   "attachments": {},
   "cell_type": "markdown",
   "metadata": {},
   "source": [
    "                                - DỰ ĐOÁN 30 NGÀY TIẾP THEO"
   ]
  },
  {
   "cell_type": "code",
   "execution_count": 18,
   "metadata": {},
   "outputs": [],
   "source": [
    "x_input = val_data[5:].reshape(1,-1)\n",
    "temp_input = list(x_input)\n",
    "temp_input = temp_input[0].tolist()\n",
    "\n",
    "# Khởi tạo giá trị chạy\n",
    "i = 0\n",
    "\n",
    "# List lưu trữ giá trị 30 ngày tiếp theo\n",
    "prediction_next30_days = []\n",
    "\n",
    "while(i < 30):\n",
    "    if(len(temp_input) > time_step):\n",
    "        x_input = np.array(temp_input[-time_step:])\n",
    "\n",
    "        x_input = x_input.reshape((1, time_step, 1))\n",
    "        y_hat = model.predict(x_input, verbose=0)\n",
    "\n",
    "        temp_input.extend(y_hat[0].tolist())\n",
    "        temp_input = temp_input[1:]\n",
    "\n",
    "        prediction_next30_days.extend(y_hat.tolist())\n",
    "        i = i + 1\n",
    "    else:\n",
    "        x_input = x_input.reshape((1, time_step, 1))\n",
    "        y_hat = model.predict(x_input, verbose = 0)\n",
    "\n",
    "        temp_input.extend(y_hat[0].tolist())\n",
    "\n",
    "        prediction_next30_days.extend(y_hat.tolist())\n",
    "        i = i + 1"
   ]
  },
  {
   "cell_type": "code",
   "execution_count": 19,
   "metadata": {},
   "outputs": [
    {
     "name": "stdout",
     "output_type": "stream",
     "text": [
      "[[0.5956276655197144], [0.5969511866569519], [0.5984139442443848], [0.599821925163269], [0.6010745763778687], [0.6021330952644348], [0.6029970049858093], [0.6036860346794128], [0.6042296290397644], [0.6046586036682129], [0.6050020456314087], [0.6052842140197754], [0.6055251955986023], [0.6057401895523071], [0.6059399843215942], [0.6061317324638367], [0.6063211560249329], [0.6065107583999634], [0.6067022085189819], [0.606896698474884], [0.6070942282676697], [0.6072942018508911], [0.6074970960617065], [0.60770183801651], [0.6079087257385254], [0.6081169843673706], [0.6083264946937561], [0.6085370779037476], [0.608748733997345], [0.608961284160614]]\n"
     ]
    }
   ],
   "source": [
    "# In ra giá trị dự đoán\n",
    "print(prediction_next30_days)"
   ]
  },
  {
   "attachments": {},
   "cell_type": "markdown",
   "metadata": {},
   "source": [
    "TRỰC QUAN HÓA TẤT CẢ DỮ LIỆU"
   ]
  },
  {
   "cell_type": "code",
   "execution_count": 20,
   "metadata": {},
   "outputs": [],
   "source": [
    "# Lấy ra các ngày cuối cùng\n",
    "last_date = stock_ntr.index.max()\n",
    "future_dates = pd.date_range(start=pd.to_datetime(last_date) + pd.DateOffset(days=1), periods=30, freq='D')"
   ]
  },
  {
   "cell_type": "code",
   "execution_count": 21,
   "metadata": {},
   "outputs": [],
   "source": [
    "# Chuyển từ list thành dạng mảng\n",
    "prediction_next30_days = np.array(prediction_next30_days)\n",
    "\n",
    "# Chuyển đổi các giá trị trong đoạn 0 - 1 sang giá trị thực\n",
    "prediction_next30_days = scaler.inverse_transform(prediction_next30_days).reshape(-1)"
   ]
  },
  {
   "cell_type": "code",
   "execution_count": 22,
   "metadata": {},
   "outputs": [],
   "source": [
    "# Tạo dataframe chứa dữ liệu 30 ngày tới\n",
    "future_data = pd.DataFrame({'Date': future_dates,\n",
    "                            'Close': prediction_next30_days,\n",
    "                            })\n",
    "# Sắp xếp Date\n",
    "future_data = future_data.sort_values(by='Date')\n",
    "\n",
    "# Set index là Date\n",
    "future_data.set_index('Date', inplace=True)"
   ]
  },
  {
   "cell_type": "code",
   "execution_count": 23,
   "metadata": {},
   "outputs": [
    {
     "data": {
      "image/png": "[encoded data removed]",
      "text/plain": [
       "<Figure size 1600x500 with 1 Axes>"
      ]
     },
     "metadata": {},
     "output_type": "display_data"
    }
   ],
   "source": [
    "plt.figure(figsize=(16,5))\n",
    "\n",
    "# Tập dữ liệu train\n",
    "plt.plot(stock_ntr.index[:train_size], scaler.inverse_transform(train_data))\n",
    "\n",
    "# Tập dữ liệu Test\n",
    "plt.plot(stock_ntr.index[train_size:train_size + test_size], scaler.inverse_transform(test_data))\n",
    "\n",
    "# Dữ liệu predict trên tập Test\n",
    "plt.plot(stock_ntr.index[train_size + time_step + 1: train_size + test_size],(y_pred))\n",
    "\n",
    "# Tập dữ liệu Validate\n",
    "plt.plot(stock_ntr.index[train_size + test_size: train_size + test_size + val_size],scaler.inverse_transform(val_data))\n",
    "\n",
    "# Dữ liệu predict trên tập Validate\n",
    "plt.plot(stock_ntr.index[train_size + test_size + time_step + 1: train_size + test_size + val_size],y_pred_val)\n",
    "\n",
    "# Dự đoán cho 30 ngày tiếp theo\n",
    "plt.plot(future_data.index, future_data['Close'])\n",
    "\n",
    "plt.xlabel('Ngày')\n",
    "plt.ylabel('Giá đóng cửa')\n",
    "plt.title('Sử dụng model LSTM dự đoán 30 ngày tiếp theo')\n",
    "plt.legend(['Train','Test','Predict','Validate','ValidatePred','Predict30days'])\n",
    "plt.grid()\n",
    "plt.show()"
   ]
  },
  {
   "cell_type": "code",
   "execution_count": null,
   "metadata": {},
   "outputs": [],
   "source": []
  }
 ],
 "metadata": {
  "kernelspec": {
   "display_name": "base",
   "language": "python",
   "name": "python3"
  },
  "language_info": {
   "codemirror_mode": {
    "name": "ipython",
    "version": 3
   },
   "file_extension": ".py",
   "mimetype": "text/x-python",
   "name": "python",
   "nbconvert_exporter": "python",
   "pygments_lexer": "ipython3",
   "version": "3.9.16"
  },
  "orig_nbformat": 4
 },
 "nbformat": 4,
 "nbformat_minor": 2
}
