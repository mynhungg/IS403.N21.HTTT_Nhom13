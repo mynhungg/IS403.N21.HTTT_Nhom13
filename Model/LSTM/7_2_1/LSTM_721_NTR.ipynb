{
 "cells": [
  {
   "attachments": {},
   "cell_type": "markdown",
   "metadata": {},
   "source": [
    "                            - DỰ ĐOÁN GIÁ CLOSE CHO TẬP DỮ LIỆU NTR.csv"
   ]
  },
  {
   "attachments": {},
   "cell_type": "markdown",
   "metadata": {},
   "source": [
    "IMPORT THƯ VIỆN"
   ]
  },
  {
   "cell_type": "code",
   "execution_count": 16,
   "metadata": {},
   "outputs": [],
   "source": [
    "import numpy as np\n",
    "import pandas as pd\n",
    "import matplotlib.pyplot as plt\n",
    "\n",
    "from numpy import array\n",
    "from keras.models import Sequential\n",
    "from keras.layers import Dense, LSTM\n",
    "from keras.callbacks import EarlyStopping,ModelCheckpoint\n",
    "from sklearn.preprocessing import MinMaxScaler\n",
    "from sklearn.metrics import mean_absolute_error, mean_squared_error, mean_absolute_percentage_error, mean_squared_log_error"
   ]
  },
  {
   "attachments": {},
   "cell_type": "markdown",
   "metadata": {},
   "source": [
    "ĐỌC DỮ LIỆU"
   ]
  },
  {
   "cell_type": "code",
   "execution_count": 17,
   "metadata": {},
   "outputs": [],
   "source": [
    "# Đọc dữ liệu\n",
    "stock_ntr = pd.read_csv('../../Dataset/NTR.csv')\n",
    "\n",
    "# Column Date là object => đổi sang dạng datetime\n",
    "stock_ntr['Date'] = pd.to_datetime(stock_ntr['Date'])\n",
    "\n",
    "# Cho Cột Date làm giá trị index => in đc giá trị x là cột Date\n",
    "stock_ntr = stock_ntr.set_index(pd.DatetimeIndex(stock_ntr['Date'].values))"
   ]
  },
  {
   "attachments": {},
   "cell_type": "markdown",
   "metadata": {},
   "source": [
    "CHUẨN HÓA DỮ LIỆU"
   ]
  },
  {
   "cell_type": "code",
   "execution_count": 18,
   "metadata": {},
   "outputs": [],
   "source": [
    "# Tạo dataframe mới chỉ chứa cột Date và giá trị Close\n",
    "df_ntr = pd.DataFrame(stock_ntr, columns=['Date', 'Close'])\n",
    "\n",
    "# Bỏ cột date khỏi dataframe\n",
    "df_ntr.drop('Date', axis=1, inplace=True)"
   ]
  },
  {
   "cell_type": "code",
   "execution_count": 19,
   "metadata": {},
   "outputs": [],
   "source": [
    "scaler = MinMaxScaler(feature_range=(0,1))\n",
    "df_ntr = scaler.fit_transform(np.array(df_ntr).reshape(-1,1))"
   ]
  },
  {
   "attachments": {},
   "cell_type": "markdown",
   "metadata": {},
   "source": [
    "CHIA CÁC TẬP DỮ LIỆU"
   ]
  },
  {
   "cell_type": "code",
   "execution_count": 20,
   "metadata": {},
   "outputs": [],
   "source": [
    "# Tính độ dài\n",
    "    # Train: 60%\n",
    "    # Test: 20%\n",
    "    # Val: 20%\n",
    "train_size = int(len(df_ntr) * 0.7)\n",
    "test_size = int(len(df_ntr) * 0.2)\n",
    "val_size = len(df_ntr) - train_size - test_size"
   ]
  },
  {
   "cell_type": "code",
   "execution_count": 21,
   "metadata": {},
   "outputs": [],
   "source": [
    "# Lấy dữ liệu\n",
    "train_data = df_ntr[:train_size]\n",
    "test_data = df_ntr[train_size:train_size+test_size]\n",
    "val_data = df_ntr[train_size+test_size:]"
   ]
  },
  {
   "cell_type": "code",
   "execution_count": 22,
   "metadata": {},
   "outputs": [],
   "source": [
    "# Tạo dataset cho X, Y train, test, val\n",
    "def create_dataset(dataset, time_step=1):\n",
    "\tdataX, dataY = [], []\n",
    "\tfor i in range(len(dataset) - time_step - 1):\n",
    "\t\ta = dataset[i:(i + time_step), 0]\n",
    "\t\tdataX.append(a)\n",
    "\t\tdataY.append(dataset[i + time_step, 0])\n",
    "\treturn np.array(dataX), np.array(dataY)"
   ]
  },
  {
   "cell_type": "code",
   "execution_count": 23,
   "metadata": {},
   "outputs": [],
   "source": [
    "time_step = 100\n",
    "X_train, y_train = create_dataset(train_data, time_step)\n",
    "X_test, ytest = create_dataset(test_data, time_step)\n",
    "X_val, yval = create_dataset(val_data, time_step)"
   ]
  },
  {
   "cell_type": "code",
   "execution_count": 24,
   "metadata": {},
   "outputs": [],
   "source": [
    "# Tạo input cho dữ liệu đầu vào LSTM\n",
    "X_train = X_train.reshape(X_train.shape[0], X_train.shape[1] , 1)\n",
    "X_test = X_test.reshape(X_test.shape[0], X_test.shape[1] , 1)\n",
    "X_val = X_val.reshape(X_val.shape[0], X_val.shape[1] , 1)"
   ]
  },
  {
   "attachments": {},
   "cell_type": "markdown",
   "metadata": {},
   "source": [
    "HUẤN LUYỆN VÀ TRAIN MÔ HÌNH"
   ]
  },
  {
   "cell_type": "code",
   "execution_count": 25,
   "metadata": {},
   "outputs": [],
   "source": [
    "# Định nghĩa mô hình\n",
    "model = Sequential()\n",
    "model.add(LSTM(64, return_sequences=True, input_shape = (100, 1)))\n",
    "model.add(LSTM(64, return_sequences=True))\n",
    "model.add(LSTM(64))\n",
    "model.add(Dense(1))\n",
    "model.compile(loss='mean_squared_error', optimizer='adam')"
   ]
  },
  {
   "cell_type": "code",
   "execution_count": 26,
   "metadata": {},
   "outputs": [],
   "source": [
    "# Sử dụng early stoping để dừng khi không có cải thiện\n",
    "earlystop = EarlyStopping(monitor='val_loss', patience=10)"
   ]
  },
  {
   "cell_type": "code",
   "execution_count": 27,
   "metadata": {},
   "outputs": [
    {
     "name": "stdout",
     "output_type": "stream",
     "text": [
      "Epoch 1/100\n",
      "10/10 [==============================] - 40s 1s/step - loss: 0.0222 - val_loss: 0.0631\n",
      "Epoch 2/100\n",
      "10/10 [==============================] - 6s 604ms/step - loss: 0.0047 - val_loss: 0.0052\n",
      "Epoch 3/100\n",
      "10/10 [==============================] - 5s 541ms/step - loss: 0.0024 - val_loss: 0.0161\n",
      "Epoch 4/100\n",
      "10/10 [==============================] - 6s 589ms/step - loss: 0.0013 - val_loss: 0.0047\n",
      "Epoch 5/100\n",
      "10/10 [==============================] - 8s 789ms/step - loss: 0.0010 - val_loss: 0.0079\n",
      "Epoch 6/100\n",
      "10/10 [==============================] - 11s 1s/step - loss: 9.5754e-04 - val_loss: 0.0105\n",
      "Epoch 7/100\n",
      "10/10 [==============================] - 8s 867ms/step - loss: 9.3081e-04 - val_loss: 0.0060\n",
      "Epoch 8/100\n",
      "10/10 [==============================] - 6s 657ms/step - loss: 9.3984e-04 - val_loss: 0.0053\n",
      "Epoch 9/100\n",
      "10/10 [==============================] - 4s 449ms/step - loss: 9.0704e-04 - val_loss: 0.0060\n"
     ]
    },
    {
     "data": {
      "text/plain": [
       "<keras.callbacks.History at 0x12f271c55b0>"
      ]
     },
     "execution_count": 27,
     "metadata": {},
     "output_type": "execute_result"
    }
   ],
   "source": [
    "# Train mô hình\n",
    "model.fit(X_train, y_train, validation_data=(X_test, ytest), epochs = 100, batch_size = 64,verbose = 1,  callbacks=earlystop)"
   ]
  },
  {
   "attachments": {},
   "cell_type": "markdown",
   "metadata": {},
   "source": [
    "DỰ ĐOÁN TRÊN TẬP TEST VÀ TRAIN"
   ]
  },
  {
   "cell_type": "code",
   "execution_count": 28,
   "metadata": {},
   "outputs": [
    {
     "name": "stdout",
     "output_type": "stream",
     "text": [
      "4/4 [==============================] - 7s 75ms/step\n",
      "1/1 [==============================] - 0s 129ms/step\n"
     ]
    }
   ],
   "source": [
    "# Dự đoán\n",
    "y_pred = model.predict(X_test)\n",
    "y_pred_val = model.predict(X_val)"
   ]
  },
  {
   "attachments": {},
   "cell_type": "markdown",
   "metadata": {},
   "source": [
    "TÍNH ĐỘ LỖI CỦA MÔ HÌNH"
   ]
  },
  {
   "cell_type": "code",
   "execution_count": 29,
   "metadata": {},
   "outputs": [
    {
     "name": "stdout",
     "output_type": "stream",
     "text": [
      "Testing MAE:  0.06837757262763396\n",
      "Testing MAPE:  0.09250999673982256\n",
      "Testing MSE:  0.005998129076183636\n",
      "Testing RMSE:  0.07744758922125101\n",
      "Testing MSLE:  0.002023028805608108\n"
     ]
    }
   ],
   "source": [
    "# Độ lỗi mô hình trên tập test\n",
    "test_mae = mean_absolute_error(y_pred, ytest)\n",
    "test_mape = mean_absolute_percentage_error(y_pred, ytest)\n",
    "test_mse = mean_squared_error(y_pred, ytest)\n",
    "test_rmse = np.sqrt(test_mse)\n",
    "test_msle = mean_squared_log_error(y_pred, ytest)\n",
    "\n",
    "print(f\"Testing MAE: \", test_mae)\n",
    "print(f\"Testing MAPE: \", test_mape)\n",
    "print(f\"Testing MSE: \", test_mse)\n",
    "print(f\"Testing RMSE: \", test_rmse)\n",
    "print(f\"Testing MSLE: \", test_msle)"
   ]
  },
  {
   "cell_type": "code",
   "execution_count": 30,
   "metadata": {},
   "outputs": [
    {
     "name": "stdout",
     "output_type": "stream",
     "text": [
      "Validation MAE:  0.026895938383652895\n",
      "Validation MAPE:  0.04437208562131133\n",
      "Validation MSE:  0.0008808691656084234\n",
      "Validation RMSE:  0.029679440116154875\n",
      "Validation MSLE:  0.0003365088940157881\n"
     ]
    }
   ],
   "source": [
    "# Độ lỗi mô hình trên tập validation\n",
    "val_mae = mean_absolute_error(y_pred_val, yval)\n",
    "val_mape = mean_absolute_percentage_error(y_pred_val, yval)\n",
    "val_mse = mean_squared_error(y_pred_val, yval)\n",
    "val_rmse = np.sqrt(val_mse)\n",
    "val_msle = mean_squared_log_error(y_pred_val, yval)\n",
    "\n",
    "print(f\"Validation MAE: \",val_mae)\n",
    "print(f\"Validation MAPE: \", val_mape)\n",
    "print(f\"Validation MSE: \", val_mse)\n",
    "print(f\"Validation RMSE: \", val_rmse)\n",
    "print(f\"Validation MSLE: \", val_msle)"
   ]
  },
  {
   "attachments": {},
   "cell_type": "markdown",
   "metadata": {},
   "source": [
    "                                - DỰ ĐOÁN 30 NGÀY TIẾP THEO"
   ]
  },
  {
   "cell_type": "code",
   "execution_count": 31,
   "metadata": {},
   "outputs": [],
   "source": [
    "x_input = val_data[5:].reshape(1,-1)\n",
    "temp_input = list(x_input)\n",
    "temp_input = temp_input[0].tolist()\n",
    "\n",
    "# Khởi tạo giá trị chạy\n",
    "i = 0\n",
    "\n",
    "# List lưu trữ giá trị 30 ngày tiếp theo\n",
    "prediction_next30_days = []\n",
    "\n",
    "while(i < 30):\n",
    "    if(len(temp_input) > time_step):\n",
    "        x_input = np.array(temp_input[-time_step:])\n",
    "\n",
    "        x_input = x_input.reshape((1, time_step, 1))\n",
    "        y_hat = model.predict(x_input, verbose=0)\n",
    "\n",
    "        temp_input.extend(y_hat[0].tolist())\n",
    "        temp_input = temp_input[1:]\n",
    "\n",
    "        prediction_next30_days.extend(y_hat.tolist())\n",
    "        i = i + 1\n",
    "    else:\n",
    "        x_input = x_input.reshape((1, time_step, 1))\n",
    "        y_hat = model.predict(x_input, verbose = 0)\n",
    "\n",
    "        temp_input.extend(y_hat[0].tolist())\n",
    "\n",
    "        prediction_next30_days.extend(y_hat.tolist())\n",
    "        i = i + 1"
   ]
  },
  {
   "cell_type": "code",
   "execution_count": 32,
   "metadata": {},
   "outputs": [
    {
     "name": "stdout",
     "output_type": "stream",
     "text": [
      "[[0.6025193929672241], [0.6035900115966797], [0.6049463152885437], [0.6064066290855408], [0.6078606247901917], [0.6092479228973389], [0.6105419397354126], [0.6117374300956726], [0.6128409504890442], [0.6138660311698914], [0.6148272156715393], [0.6157395839691162], [0.6166159510612488], [0.6174672842025757], [0.618302047252655], [0.6191273927688599], [0.6199477314949036], [0.6207661628723145], [0.6215856075286865], [0.6224066615104675], [0.623230516910553], [0.624057412147522], [0.6248874068260193], [0.6257206797599792], [0.6265569925308228], [0.6273962259292603], [0.6282382011413574], [0.6290825605392456], [0.6299294829368591], [0.6307785511016846]]\n"
     ]
    }
   ],
   "source": [
    "# In ra giá trị dự đoán\n",
    "print(prediction_next30_days)"
   ]
  },
  {
   "attachments": {},
   "cell_type": "markdown",
   "metadata": {},
   "source": [
    "TRỰC QUAN HÓA TẤT CẢ DỮ LIỆU"
   ]
  },
  {
   "cell_type": "code",
   "execution_count": 33,
   "metadata": {},
   "outputs": [],
   "source": [
    "# Lấy ra các ngày cuối cùng\n",
    "last_date = stock_ntr.index.max()\n",
    "future_dates = pd.date_range(start=pd.to_datetime(last_date) + pd.DateOffset(days=1), periods=30, freq='D')"
   ]
  },
  {
   "cell_type": "code",
   "execution_count": 34,
   "metadata": {},
   "outputs": [],
   "source": [
    "# Chuyển từ list thành dạng mảng\n",
    "prediction_next30_days = np.array(prediction_next30_days)\n",
    "\n",
    "# Chuyển đổi các giá trị trong đoạn 0 - 1 sang giá trị thực\n",
    "prediction_next30_days = scaler.inverse_transform(prediction_next30_days).reshape(-1)"
   ]
  },
  {
   "cell_type": "code",
   "execution_count": 35,
   "metadata": {},
   "outputs": [],
   "source": [
    "# Tạo dataframe chứa dữ liệu 30 ngày tới\n",
    "future_data = pd.DataFrame({'Date': future_dates,\n",
    "                            'Close': prediction_next30_days,\n",
    "                            })\n",
    "# Sắp xếp Date\n",
    "future_data = future_data.sort_values(by='Date')\n",
    "\n",
    "# Set index là Date\n",
    "future_data.set_index('Date', inplace=True)"
   ]
  },
  {
   "cell_type": "code",
   "execution_count": 36,
   "metadata": {},
   "outputs": [],
   "source": [
    "# Chuyển hóa dữ liệu lại như cũ\n",
    "y_pred = scaler.inverse_transform(y_pred)\n",
    "y_pred_val = scaler.inverse_transform(y_pred_val)\n",
    "train_data = scaler.inverse_transform(train_data)\n",
    "test_data = scaler.inverse_transform(test_data)\n",
    "val_data = scaler.inverse_transform(val_data)"
   ]
  },
  {
   "cell_type": "code",
   "execution_count": 37,
   "metadata": {},
   "outputs": [
    {
     "data": {
      "image/png": "[encoded data removed]",
      "text/plain": [
       "<Figure size 1600x500 with 1 Axes>"
      ]
     },
     "metadata": {},
     "output_type": "display_data"
    }
   ],
   "source": [
    "plt.figure(figsize=(16,5))\n",
    "\n",
    "# Tập dữ liệu train\n",
    "plt.plot(stock_ntr.index[:train_size], train_data)\n",
    "\n",
    "# Tập dữ liệu Test\n",
    "plt.plot(stock_ntr.index[train_size:train_size + test_size], test_data)\n",
    "\n",
    "# Dữ liệu predict trên tập Test\n",
    "plt.plot(stock_ntr.index[train_size + time_step + 1: train_size + test_size],(y_pred))\n",
    "\n",
    "# Tập dữ liệu Validate\n",
    "plt.plot(stock_ntr.index[train_size + test_size: train_size + test_size + val_size],val_data)\n",
    "\n",
    "# Dữ liệu predict trên tập Validate\n",
    "plt.plot(stock_ntr.index[train_size + test_size + time_step + 1: train_size + test_size + val_size],y_pred_val)\n",
    "\n",
    "# Dự đoán cho 30 ngày tiếp theo\n",
    "plt.plot(future_data.index, future_data['Close'])\n",
    "\n",
    "plt.xlabel('Ngày')\n",
    "plt.ylabel('Giá đóng cửa')\n",
    "plt.title('Sử dụng model LSTM dự đoán 30 ngày tiếp theo')\n",
    "plt.legend(['Train','Test','Predict','Validate','ValidatePred','Predict30days'])\n",
    "plt.grid()\n",
    "plt.show()"
   ]
  },
  {
   "cell_type": "code",
   "execution_count": null,
   "metadata": {},
   "outputs": [],
   "source": []
  }
 ],
 "metadata": {
  "kernelspec": {
   "display_name": "base",
   "language": "python",
   "name": "python3"
  },
  "language_info": {
   "codemirror_mode": {
    "name": "ipython",
    "version": 3
   },
   "file_extension": ".py",
   "mimetype": "text/x-python",
   "name": "python",
   "nbconvert_exporter": "python",
   "pygments_lexer": "ipython3",
   "version": "3.9.16"
  },
  "orig_nbformat": 4
 },
 "nbformat": 4,
 "nbformat_minor": 2
}
