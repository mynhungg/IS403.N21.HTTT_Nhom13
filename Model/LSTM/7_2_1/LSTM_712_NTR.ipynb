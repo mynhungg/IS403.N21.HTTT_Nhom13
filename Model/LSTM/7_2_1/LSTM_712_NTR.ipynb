{
 "cells": [
  {
   "attachments": {},
   "cell_type": "markdown",
   "metadata": {},
   "source": [
    "## Import Libraries"
   ]
  },
  {
   "cell_type": "code",
   "execution_count": 1,
   "metadata": {},
   "outputs": [
    {
     "name": "stderr",
     "output_type": "stream",
     "text": [
      "<frozen importlib._bootstrap>:228: RuntimeWarning: scipy._lib.messagestream.MessageStream size changed, may indicate binary incompatibility. Expected 56 from C header, got 64 from PyObject\n"
     ]
    }
   ],
   "source": [
    "import numpy as np\n",
    "import pandas as pd\n",
    "import matplotlib.pyplot as plt\n",
    "\n",
    "from numpy import array\n",
    "from keras.models import Sequential\n",
    "from keras.layers import Dense, LSTM, Dropout\n",
    "from keras.callbacks import EarlyStopping,ModelCheckpoint\n",
    "from sklearn.preprocessing import MinMaxScaler\n",
    "from sklearn.metrics import  mean_squared_error, mean_absolute_percentage_error, mean_squared_log_error"
   ]
  },
  {
   "attachments": {},
   "cell_type": "markdown",
   "metadata": {},
   "source": [
    "## Data preprocessing"
   ]
  },
  {
   "attachments": {},
   "cell_type": "markdown",
   "metadata": {},
   "source": [
    "### Read data"
   ]
  },
  {
   "cell_type": "code",
   "execution_count": 2,
   "metadata": {},
   "outputs": [
    {
     "data": {
      "text/html": [
       "<div>\n",
       "<style scoped>\n",
       "    .dataframe tbody tr th:only-of-type {\n",
       "        vertical-align: middle;\n",
       "    }\n",
       "\n",
       "    .dataframe tbody tr th {\n",
       "        vertical-align: top;\n",
       "    }\n",
       "\n",
       "    .dataframe thead th {\n",
       "        text-align: right;\n",
       "    }\n",
       "</style>\n",
       "<table border=\"1\" class=\"dataframe\">\n",
       "  <thead>\n",
       "    <tr style=\"text-align: right;\">\n",
       "      <th></th>\n",
       "      <th>Date</th>\n",
       "      <th>Open</th>\n",
       "      <th>High</th>\n",
       "      <th>Low</th>\n",
       "      <th>Close</th>\n",
       "      <th>Adj Close</th>\n",
       "      <th>Volume</th>\n",
       "    </tr>\n",
       "  </thead>\n",
       "  <tbody>\n",
       "    <tr>\n",
       "      <th>0</th>\n",
       "      <td>2019-01-02</td>\n",
       "      <td>46.209999</td>\n",
       "      <td>46.990002</td>\n",
       "      <td>45.855000</td>\n",
       "      <td>46.259998</td>\n",
       "      <td>40.076599</td>\n",
       "      <td>1289100</td>\n",
       "    </tr>\n",
       "    <tr>\n",
       "      <th>1</th>\n",
       "      <td>2019-01-03</td>\n",
       "      <td>46.000000</td>\n",
       "      <td>46.099998</td>\n",
       "      <td>44.882999</td>\n",
       "      <td>45.049999</td>\n",
       "      <td>39.028332</td>\n",
       "      <td>1158800</td>\n",
       "    </tr>\n",
       "    <tr>\n",
       "      <th>2</th>\n",
       "      <td>2019-01-04</td>\n",
       "      <td>45.950001</td>\n",
       "      <td>47.180000</td>\n",
       "      <td>45.880001</td>\n",
       "      <td>47.130001</td>\n",
       "      <td>40.830311</td>\n",
       "      <td>1538500</td>\n",
       "    </tr>\n",
       "    <tr>\n",
       "      <th>3</th>\n",
       "      <td>2019-01-07</td>\n",
       "      <td>47.310001</td>\n",
       "      <td>48.110001</td>\n",
       "      <td>46.840000</td>\n",
       "      <td>47.740002</td>\n",
       "      <td>41.358780</td>\n",
       "      <td>954700</td>\n",
       "    </tr>\n",
       "    <tr>\n",
       "      <th>4</th>\n",
       "      <td>2019-01-08</td>\n",
       "      <td>48.709999</td>\n",
       "      <td>49.480000</td>\n",
       "      <td>48.520000</td>\n",
       "      <td>49.209999</td>\n",
       "      <td>42.632282</td>\n",
       "      <td>1921800</td>\n",
       "    </tr>\n",
       "    <tr>\n",
       "      <th>...</th>\n",
       "      <td>...</td>\n",
       "      <td>...</td>\n",
       "      <td>...</td>\n",
       "      <td>...</td>\n",
       "      <td>...</td>\n",
       "      <td>...</td>\n",
       "      <td>...</td>\n",
       "    </tr>\n",
       "    <tr>\n",
       "      <th>1046</th>\n",
       "      <td>2023-02-28</td>\n",
       "      <td>77.870003</td>\n",
       "      <td>78.595001</td>\n",
       "      <td>77.320000</td>\n",
       "      <td>77.779999</td>\n",
       "      <td>77.213043</td>\n",
       "      <td>1372900</td>\n",
       "    </tr>\n",
       "    <tr>\n",
       "      <th>1047</th>\n",
       "      <td>2023-03-01</td>\n",
       "      <td>77.989998</td>\n",
       "      <td>79.394997</td>\n",
       "      <td>77.709999</td>\n",
       "      <td>78.580002</td>\n",
       "      <td>78.007217</td>\n",
       "      <td>1375300</td>\n",
       "    </tr>\n",
       "    <tr>\n",
       "      <th>1048</th>\n",
       "      <td>2023-03-02</td>\n",
       "      <td>78.320000</td>\n",
       "      <td>82.904999</td>\n",
       "      <td>77.919998</td>\n",
       "      <td>82.550003</td>\n",
       "      <td>81.948280</td>\n",
       "      <td>2617200</td>\n",
       "    </tr>\n",
       "    <tr>\n",
       "      <th>1049</th>\n",
       "      <td>2023-03-03</td>\n",
       "      <td>81.750000</td>\n",
       "      <td>83.290001</td>\n",
       "      <td>80.779999</td>\n",
       "      <td>82.809998</td>\n",
       "      <td>82.206375</td>\n",
       "      <td>2040600</td>\n",
       "    </tr>\n",
       "    <tr>\n",
       "      <th>1050</th>\n",
       "      <td>2023-03-06</td>\n",
       "      <td>82.510002</td>\n",
       "      <td>82.680000</td>\n",
       "      <td>80.550003</td>\n",
       "      <td>81.169998</td>\n",
       "      <td>80.578331</td>\n",
       "      <td>1575600</td>\n",
       "    </tr>\n",
       "  </tbody>\n",
       "</table>\n",
       "<p>1051 rows × 7 columns</p>\n",
       "</div>"
      ],
      "text/plain": [
       "            Date       Open       High        Low      Close  Adj Close  \\\n",
       "0     2019-01-02  46.209999  46.990002  45.855000  46.259998  40.076599   \n",
       "1     2019-01-03  46.000000  46.099998  44.882999  45.049999  39.028332   \n",
       "2     2019-01-04  45.950001  47.180000  45.880001  47.130001  40.830311   \n",
       "3     2019-01-07  47.310001  48.110001  46.840000  47.740002  41.358780   \n",
       "4     2019-01-08  48.709999  49.480000  48.520000  49.209999  42.632282   \n",
       "...          ...        ...        ...        ...        ...        ...   \n",
       "1046  2023-02-28  77.870003  78.595001  77.320000  77.779999  77.213043   \n",
       "1047  2023-03-01  77.989998  79.394997  77.709999  78.580002  78.007217   \n",
       "1048  2023-03-02  78.320000  82.904999  77.919998  82.550003  81.948280   \n",
       "1049  2023-03-03  81.750000  83.290001  80.779999  82.809998  82.206375   \n",
       "1050  2023-03-06  82.510002  82.680000  80.550003  81.169998  80.578331   \n",
       "\n",
       "       Volume  \n",
       "0     1289100  \n",
       "1     1158800  \n",
       "2     1538500  \n",
       "3      954700  \n",
       "4     1921800  \n",
       "...       ...  \n",
       "1046  1372900  \n",
       "1047  1375300  \n",
       "1048  2617200  \n",
       "1049  2040600  \n",
       "1050  1575600  \n",
       "\n",
       "[1051 rows x 7 columns]"
      ]
     },
     "execution_count": 2,
     "metadata": {},
     "output_type": "execute_result"
    }
   ],
   "source": [
    "stock_ntr = pd.read_csv('../../Dataset/NTR.csv')\n",
    "stock_ntr"
   ]
  },
  {
   "attachments": {},
   "cell_type": "markdown",
   "metadata": {},
   "source": [
    "### Reset index"
   ]
  },
  {
   "cell_type": "code",
   "execution_count": 3,
   "metadata": {},
   "outputs": [],
   "source": [
    "# Convert the 'Date' column to datetime format\n",
    "stock_ntr['Date'] = pd.to_datetime(stock_ntr['Date'])\n",
    "\n",
    "# Set the 'Date' column as the index value\n",
    "stock_ntr = stock_ntr.set_index(pd.DatetimeIndex(stock_ntr['Date'].values))\n",
    "\n",
    "# Create new datafram with Date and Close\n",
    "df_ntr = pd.DataFrame(stock_ntr, columns=['Close'])"
   ]
  },
  {
   "attachments": {},
   "cell_type": "markdown",
   "metadata": {},
   "source": [
    "### Data normalization"
   ]
  },
  {
   "cell_type": "code",
   "execution_count": 4,
   "metadata": {},
   "outputs": [],
   "source": [
    "scaler = MinMaxScaler(feature_range=(0,1))\n",
    "df_ntr = scaler.fit_transform(np.array(df_ntr).reshape(-1,1))"
   ]
  },
  {
   "attachments": {},
   "cell_type": "markdown",
   "metadata": {},
   "source": [
    "### Data splitting"
   ]
  },
  {
   "cell_type": "code",
   "execution_count": 5,
   "metadata": {},
   "outputs": [],
   "source": [
    "# Length\n",
    "    # Train: 70%\n",
    "    # Val: 10%\n",
    "    # Test: 20%\n",
    "train_size = int(len(df_ntr) * 0.7)\n",
    "val_size = int(len(df_ntr) * 0.1)\n",
    "test_size = len(df_ntr) - train_size - val_size"
   ]
  },
  {
   "cell_type": "code",
   "execution_count": 6,
   "metadata": {},
   "outputs": [],
   "source": [
    "# Get Data \n",
    "train_data = df_ntr[:train_size]\n",
    "val_data = df_ntr[train_size:train_size+val_size]\n",
    "test_data = df_ntr[train_size+val_size:]"
   ]
  },
  {
   "cell_type": "code",
   "execution_count": 7,
   "metadata": {},
   "outputs": [],
   "source": [
    "# Create dataset\n",
    "def create_dataset(dataset, time_step=1):\n",
    "\tdataX, dataY = [], []\n",
    "\tfor i in range(len(dataset) - time_step - 1):\n",
    "\t\ta = dataset[i:(i + time_step), 0]\n",
    "\t\tdataX.append(a)\n",
    "\t\tdataY.append(dataset[i + time_step, 0])\n",
    "\treturn np.array(dataX), np.array(dataY)"
   ]
  },
  {
   "cell_type": "code",
   "execution_count": 8,
   "metadata": {},
   "outputs": [],
   "source": [
    "# Reshape into X=t,t+1,t+2..t+60 and Y=t+60\n",
    "time_step = 60\n",
    "X_train, y_train = create_dataset(train_data, time_step)\n",
    "X_val, yval = create_dataset(val_data, time_step)\n",
    "X_test, ytest = create_dataset(test_data, time_step)"
   ]
  },
  {
   "cell_type": "code",
   "execution_count": 9,
   "metadata": {},
   "outputs": [],
   "source": [
    "# Tạo input cho dữ liệu đầu vào LSTM\n",
    "X_train = X_train.reshape(X_train.shape[0], X_train.shape[1] , 1)\n",
    "X_val = X_val.reshape(X_val.shape[0], X_val.shape[1] , 1)\n",
    "X_test = X_test.reshape(X_test.shape[0], X_test.shape[1] , 1)"
   ]
  },
  {
   "attachments": {},
   "cell_type": "markdown",
   "metadata": {},
   "source": [
    "## Model training and testing"
   ]
  },
  {
   "cell_type": "code",
   "execution_count": 10,
   "metadata": {},
   "outputs": [],
   "source": [
    "# Define model\n",
    "    # Pack the sequence of the inner layers\n",
    "model = Sequential()\n",
    "model.add(LSTM(64, return_sequences=True, input_shape = (60, 1)))\n",
    "model.add(LSTM(64, return_sequences=True))\n",
    "    # Dropout: Avoid remembering too much information => disable part of the previous data\n",
    "model.add(Dropout(0.2))\n",
    "model.add(LSTM(64))\n",
    "    # 1 Dense layer (dense): 1 unit provides predictive value\n",
    "model.add(Dense(1))\n",
    "model.compile(loss='mean_squared_error', optimizer='adam')"
   ]
  },
  {
   "cell_type": "code",
   "execution_count": 11,
   "metadata": {},
   "outputs": [],
   "source": [
    "# Using earlystopping to prevent overfitting\n",
    "earlystop = EarlyStopping(monitor='val_loss', patience=10)"
   ]
  },
  {
   "cell_type": "code",
   "execution_count": 12,
   "metadata": {},
   "outputs": [
    {
     "name": "stdout",
     "output_type": "stream",
     "text": [
      "Epoch 1/100\n",
      "11/11 [==============================] - 32s 872ms/step - loss: 0.0239 - val_loss: 0.1643\n",
      "Epoch 2/100\n",
      "11/11 [==============================] - 4s 348ms/step - loss: 0.0050 - val_loss: 0.0388\n",
      "Epoch 3/100\n",
      "11/11 [==============================] - 4s 414ms/step - loss: 0.0025 - val_loss: 0.0418\n",
      "Epoch 4/100\n",
      "11/11 [==============================] - 4s 340ms/step - loss: 0.0013 - val_loss: 0.0277\n",
      "Epoch 5/100\n",
      "11/11 [==============================] - 4s 340ms/step - loss: 0.0011 - val_loss: 0.0132\n",
      "Epoch 6/100\n",
      "11/11 [==============================] - 4s 329ms/step - loss: 0.0010 - val_loss: 0.0129\n",
      "Epoch 7/100\n",
      "11/11 [==============================] - 4s 327ms/step - loss: 9.2117e-04 - val_loss: 0.0117\n",
      "Epoch 8/100\n",
      "11/11 [==============================] - 4s 341ms/step - loss: 9.7879e-04 - val_loss: 0.0117\n",
      "Epoch 9/100\n",
      "11/11 [==============================] - 10s 1s/step - loss: 9.5426e-04 - val_loss: 0.0112\n",
      "Epoch 10/100\n",
      "11/11 [==============================] - 4s 349ms/step - loss: 9.2883e-04 - val_loss: 0.0122\n",
      "Epoch 11/100\n",
      "11/11 [==============================] - 4s 323ms/step - loss: 8.9956e-04 - val_loss: 0.0135\n",
      "Epoch 12/100\n",
      "11/11 [==============================] - 4s 336ms/step - loss: 9.4990e-04 - val_loss: 0.0120\n",
      "Epoch 13/100\n",
      "11/11 [==============================] - 5s 456ms/step - loss: 8.8270e-04 - val_loss: 0.0123\n",
      "Epoch 14/100\n",
      "11/11 [==============================] - 3s 242ms/step - loss: 8.8329e-04 - val_loss: 0.0102\n",
      "Epoch 15/100\n",
      "11/11 [==============================] - 3s 269ms/step - loss: 8.5303e-04 - val_loss: 0.0089\n",
      "Epoch 16/100\n",
      "11/11 [==============================] - 3s 265ms/step - loss: 8.6862e-04 - val_loss: 0.0089\n",
      "Epoch 17/100\n",
      "11/11 [==============================] - 3s 253ms/step - loss: 8.8238e-04 - val_loss: 0.0090\n",
      "Epoch 18/100\n",
      "11/11 [==============================] - 3s 247ms/step - loss: 8.1289e-04 - val_loss: 0.0095\n",
      "Epoch 19/100\n",
      "11/11 [==============================] - 3s 244ms/step - loss: 8.1847e-04 - val_loss: 0.0088\n",
      "Epoch 20/100\n",
      "11/11 [==============================] - 2s 196ms/step - loss: 8.0987e-04 - val_loss: 0.0093\n",
      "Epoch 21/100\n",
      "11/11 [==============================] - 2s 198ms/step - loss: 7.8596e-04 - val_loss: 0.0082\n",
      "Epoch 22/100\n",
      "11/11 [==============================] - 2s 194ms/step - loss: 8.1194e-04 - val_loss: 0.0088\n",
      "Epoch 23/100\n",
      "11/11 [==============================] - 2s 197ms/step - loss: 7.4531e-04 - val_loss: 0.0078\n",
      "Epoch 24/100\n",
      "11/11 [==============================] - 2s 197ms/step - loss: 8.2696e-04 - val_loss: 0.0128\n",
      "Epoch 25/100\n",
      "11/11 [==============================] - 2s 213ms/step - loss: 9.3430e-04 - val_loss: 0.0072\n",
      "Epoch 26/100\n",
      "11/11 [==============================] - 2s 190ms/step - loss: 9.3044e-04 - val_loss: 0.0070\n",
      "Epoch 27/100\n",
      "11/11 [==============================] - 2s 199ms/step - loss: 7.7947e-04 - val_loss: 0.0074\n",
      "Epoch 28/100\n",
      "11/11 [==============================] - 2s 197ms/step - loss: 7.9303e-04 - val_loss: 0.0086\n",
      "Epoch 29/100\n",
      "11/11 [==============================] - 2s 199ms/step - loss: 7.1529e-04 - val_loss: 0.0069\n",
      "Epoch 30/100\n",
      "11/11 [==============================] - 2s 196ms/step - loss: 6.9948e-04 - val_loss: 0.0068\n",
      "Epoch 31/100\n",
      "11/11 [==============================] - 2s 202ms/step - loss: 6.4937e-04 - val_loss: 0.0065\n",
      "Epoch 32/100\n",
      "11/11 [==============================] - 2s 212ms/step - loss: 6.4986e-04 - val_loss: 0.0069\n",
      "Epoch 33/100\n",
      "11/11 [==============================] - 2s 198ms/step - loss: 6.3091e-04 - val_loss: 0.0069\n",
      "Epoch 34/100\n",
      "11/11 [==============================] - 2s 193ms/step - loss: 5.8639e-04 - val_loss: 0.0066\n",
      "Epoch 35/100\n",
      "11/11 [==============================] - 2s 188ms/step - loss: 6.1664e-04 - val_loss: 0.0062\n",
      "Epoch 36/100\n",
      "11/11 [==============================] - 2s 189ms/step - loss: 6.1454e-04 - val_loss: 0.0062\n",
      "Epoch 37/100\n",
      "11/11 [==============================] - 2s 190ms/step - loss: 5.6836e-04 - val_loss: 0.0062\n",
      "Epoch 38/100\n",
      "11/11 [==============================] - 2s 196ms/step - loss: 5.8270e-04 - val_loss: 0.0071\n",
      "Epoch 39/100\n",
      "11/11 [==============================] - 2s 197ms/step - loss: 5.7476e-04 - val_loss: 0.0059\n",
      "Epoch 40/100\n",
      "11/11 [==============================] - 2s 193ms/step - loss: 5.1224e-04 - val_loss: 0.0059\n",
      "Epoch 41/100\n",
      "11/11 [==============================] - 2s 189ms/step - loss: 5.2837e-04 - val_loss: 0.0059\n",
      "Epoch 42/100\n",
      "11/11 [==============================] - 2s 188ms/step - loss: 5.4576e-04 - val_loss: 0.0059\n",
      "Epoch 43/100\n",
      "11/11 [==============================] - 2s 197ms/step - loss: 5.2175e-04 - val_loss: 0.0069\n",
      "Epoch 44/100\n",
      "11/11 [==============================] - 2s 196ms/step - loss: 4.7615e-04 - val_loss: 0.0056\n",
      "Epoch 45/100\n",
      "11/11 [==============================] - 2s 193ms/step - loss: 4.7784e-04 - val_loss: 0.0061\n",
      "Epoch 46/100\n",
      "11/11 [==============================] - 2s 192ms/step - loss: 4.8587e-04 - val_loss: 0.0055\n",
      "Epoch 47/100\n",
      "11/11 [==============================] - 2s 190ms/step - loss: 4.7827e-04 - val_loss: 0.0061\n",
      "Epoch 48/100\n",
      "11/11 [==============================] - 2s 194ms/step - loss: 4.5566e-04 - val_loss: 0.0054\n",
      "Epoch 49/100\n",
      "11/11 [==============================] - 2s 193ms/step - loss: 4.8313e-04 - val_loss: 0.0078\n",
      "Epoch 50/100\n",
      "11/11 [==============================] - 2s 192ms/step - loss: 4.8513e-04 - val_loss: 0.0058\n",
      "Epoch 51/100\n",
      "11/11 [==============================] - 2s 188ms/step - loss: 4.6520e-04 - val_loss: 0.0068\n",
      "Epoch 52/100\n",
      "11/11 [==============================] - 2s 212ms/step - loss: 5.0331e-04 - val_loss: 0.0050\n",
      "Epoch 53/100\n",
      "11/11 [==============================] - 2s 190ms/step - loss: 4.2472e-04 - val_loss: 0.0056\n",
      "Epoch 54/100\n",
      "11/11 [==============================] - 2s 189ms/step - loss: 5.2374e-04 - val_loss: 0.0047\n",
      "Epoch 55/100\n",
      "11/11 [==============================] - 2s 193ms/step - loss: 4.4663e-04 - val_loss: 0.0052\n",
      "Epoch 56/100\n",
      "11/11 [==============================] - 2s 191ms/step - loss: 4.0783e-04 - val_loss: 0.0046\n",
      "Epoch 57/100\n",
      "11/11 [==============================] - 2s 188ms/step - loss: 4.0183e-04 - val_loss: 0.0055\n",
      "Epoch 58/100\n",
      "11/11 [==============================] - 3s 234ms/step - loss: 3.8698e-04 - val_loss: 0.0047\n",
      "Epoch 59/100\n",
      "11/11 [==============================] - 2s 190ms/step - loss: 3.7846e-04 - val_loss: 0.0054\n",
      "Epoch 60/100\n",
      "11/11 [==============================] - 2s 184ms/step - loss: 4.4189e-04 - val_loss: 0.0041\n",
      "Epoch 61/100\n",
      "11/11 [==============================] - 2s 182ms/step - loss: 4.1163e-04 - val_loss: 0.0058\n",
      "Epoch 62/100\n",
      "11/11 [==============================] - 2s 190ms/step - loss: 3.9948e-04 - val_loss: 0.0039\n",
      "Epoch 63/100\n",
      "11/11 [==============================] - 2s 191ms/step - loss: 3.6077e-04 - val_loss: 0.0041\n",
      "Epoch 64/100\n",
      "11/11 [==============================] - 2s 195ms/step - loss: 3.6964e-04 - val_loss: 0.0045\n",
      "Epoch 65/100\n",
      "11/11 [==============================] - 2s 194ms/step - loss: 3.5070e-04 - val_loss: 0.0038\n",
      "Epoch 66/100\n",
      "11/11 [==============================] - 2s 189ms/step - loss: 3.5528e-04 - val_loss: 0.0038\n",
      "Epoch 67/100\n",
      "11/11 [==============================] - 2s 195ms/step - loss: 3.9035e-04 - val_loss: 0.0045\n",
      "Epoch 68/100\n",
      "11/11 [==============================] - 2s 199ms/step - loss: 4.3779e-04 - val_loss: 0.0037\n",
      "Epoch 69/100\n",
      "11/11 [==============================] - 3s 270ms/step - loss: 3.9184e-04 - val_loss: 0.0044\n",
      "Epoch 70/100\n",
      "11/11 [==============================] - 2s 194ms/step - loss: 3.4613e-04 - val_loss: 0.0033\n",
      "Epoch 71/100\n",
      "11/11 [==============================] - 2s 195ms/step - loss: 3.5652e-04 - val_loss: 0.0033\n",
      "Epoch 72/100\n",
      "11/11 [==============================] - 2s 195ms/step - loss: 3.4870e-04 - val_loss: 0.0040\n",
      "Epoch 73/100\n",
      "11/11 [==============================] - 2s 204ms/step - loss: 3.3799e-04 - val_loss: 0.0032\n",
      "Epoch 74/100\n",
      "11/11 [==============================] - 3s 260ms/step - loss: 3.1872e-04 - val_loss: 0.0032\n",
      "Epoch 75/100\n",
      "11/11 [==============================] - 2s 194ms/step - loss: 3.5343e-04 - val_loss: 0.0039\n",
      "Epoch 76/100\n",
      "11/11 [==============================] - 2s 194ms/step - loss: 3.2415e-04 - val_loss: 0.0035\n",
      "Epoch 77/100\n",
      "11/11 [==============================] - 2s 198ms/step - loss: 3.4026e-04 - val_loss: 0.0028\n",
      "Epoch 78/100\n",
      "11/11 [==============================] - 2s 195ms/step - loss: 3.3680e-04 - val_loss: 0.0036\n",
      "Epoch 79/100\n",
      "11/11 [==============================] - 2s 199ms/step - loss: 3.2186e-04 - val_loss: 0.0032\n",
      "Epoch 80/100\n",
      "11/11 [==============================] - 2s 198ms/step - loss: 3.4501e-04 - val_loss: 0.0030\n",
      "Epoch 81/100\n",
      "11/11 [==============================] - 2s 190ms/step - loss: 3.1486e-04 - val_loss: 0.0030\n",
      "Epoch 82/100\n",
      "11/11 [==============================] - 2s 201ms/step - loss: 3.0307e-04 - val_loss: 0.0035\n",
      "Epoch 83/100\n",
      "11/11 [==============================] - 3s 230ms/step - loss: 3.1099e-04 - val_loss: 0.0025\n",
      "Epoch 84/100\n",
      "11/11 [==============================] - 3s 239ms/step - loss: 3.2574e-04 - val_loss: 0.0031\n",
      "Epoch 85/100\n",
      "11/11 [==============================] - 3s 240ms/step - loss: 3.2135e-04 - val_loss: 0.0025\n",
      "Epoch 86/100\n",
      "11/11 [==============================] - 3s 240ms/step - loss: 2.8894e-04 - val_loss: 0.0032\n",
      "Epoch 87/100\n",
      "11/11 [==============================] - 3s 238ms/step - loss: 3.2834e-04 - val_loss: 0.0026\n",
      "Epoch 88/100\n",
      "11/11 [==============================] - 3s 238ms/step - loss: 3.6337e-04 - val_loss: 0.0025\n",
      "Epoch 89/100\n",
      "11/11 [==============================] - 3s 241ms/step - loss: 3.8983e-04 - val_loss: 0.0040\n",
      "Epoch 90/100\n",
      "11/11 [==============================] - 3s 244ms/step - loss: 2.8550e-04 - val_loss: 0.0025\n",
      "Epoch 91/100\n",
      "11/11 [==============================] - 3s 246ms/step - loss: 2.7422e-04 - val_loss: 0.0029\n",
      "Epoch 92/100\n",
      "11/11 [==============================] - 3s 243ms/step - loss: 2.8748e-04 - val_loss: 0.0024\n",
      "Epoch 93/100\n",
      "11/11 [==============================] - 3s 241ms/step - loss: 2.8764e-04 - val_loss: 0.0024\n",
      "Epoch 94/100\n",
      "11/11 [==============================] - 3s 240ms/step - loss: 2.7258e-04 - val_loss: 0.0023\n",
      "Epoch 95/100\n",
      "11/11 [==============================] - 3s 240ms/step - loss: 2.8377e-04 - val_loss: 0.0034\n",
      "Epoch 96/100\n",
      "11/11 [==============================] - 3s 239ms/step - loss: 2.9786e-04 - val_loss: 0.0030\n",
      "Epoch 97/100\n",
      "11/11 [==============================] - 3s 239ms/step - loss: 3.1593e-04 - val_loss: 0.0022\n",
      "Epoch 98/100\n",
      "11/11 [==============================] - 3s 241ms/step - loss: 2.8762e-04 - val_loss: 0.0022\n",
      "Epoch 99/100\n",
      "11/11 [==============================] - 3s 244ms/step - loss: 2.6593e-04 - val_loss: 0.0024\n",
      "Epoch 100/100\n",
      "11/11 [==============================] - 3s 245ms/step - loss: 2.7843e-04 - val_loss: 0.0025\n"
     ]
    },
    {
     "data": {
      "text/plain": [
       "<keras.callbacks.History at 0x1c3015fbfa0>"
      ]
     },
     "execution_count": 12,
     "metadata": {},
     "output_type": "execute_result"
    }
   ],
   "source": [
    "# Training LSTM model\n",
    "model.fit(X_train, y_train, validation_data=(X_val, yval), epochs = 100, batch_size = 64,verbose = 1,  callbacks=earlystop)"
   ]
  },
  {
   "attachments": {},
   "cell_type": "markdown",
   "metadata": {},
   "source": [
    "### Testing process"
   ]
  },
  {
   "cell_type": "code",
   "execution_count": 13,
   "metadata": {},
   "outputs": [
    {
     "name": "stdout",
     "output_type": "stream",
     "text": [
      "5/5 [==============================] - 6s 67ms/step\n",
      "2/2 [==============================] - 0s 41ms/step\n"
     ]
    }
   ],
   "source": [
    "# Predict\n",
    "    # Test\n",
    "y_pred = model.predict(X_test)\n",
    "    # Validation\n",
    "y_pred_val = model.predict(X_val)"
   ]
  },
  {
   "attachments": {},
   "cell_type": "markdown",
   "metadata": {},
   "source": [
    "### Evaluate model"
   ]
  },
  {
   "cell_type": "code",
   "execution_count": 14,
   "metadata": {},
   "outputs": [
    {
     "name": "stdout",
     "output_type": "stream",
     "text": [
      "Validation MAPE:  0.052034054534507025\n",
      "Validation RMSE:  0.04979550373157734\n",
      "Validation MSLE:  0.0007592735449116819\n"
     ]
    }
   ],
   "source": [
    "# Evaluate the accuracy of validation\n",
    "val_mape = mean_absolute_percentage_error(y_pred_val, yval)\n",
    "val_mse = mean_squared_error(y_pred_val, yval)\n",
    "val_rmse = np.sqrt(val_mse)\n",
    "val_msle = mean_squared_log_error(y_pred_val, yval)\n",
    "\n",
    "print(f\"Validation MAPE: \", val_mape)\n",
    "print(f\"Validation RMSE: \", val_rmse)\n",
    "print(f\"Validation MSLE: \", val_msle)"
   ]
  },
  {
   "cell_type": "code",
   "execution_count": 15,
   "metadata": {},
   "outputs": [
    {
     "name": "stdout",
     "output_type": "stream",
     "text": [
      "Testing MAPE:  0.0360009036072482\n",
      "Testing RMSE:  0.03181308050679854\n",
      "Testing MSLE:  0.0003694181414351544\n"
     ]
    }
   ],
   "source": [
    "# Evaluate the accuracy of test\n",
    "test_mape = mean_absolute_percentage_error(y_pred, ytest)\n",
    "test_mse = mean_squared_error(y_pred, ytest)\n",
    "test_rmse = np.sqrt(test_mse)\n",
    "test_msle = mean_squared_log_error(y_pred, ytest)\n",
    "\n",
    "print(f\"Testing MAPE: \", test_mape)\n",
    "print(f\"Testing RMSE: \", test_rmse)\n",
    "print(f\"Testing MSLE: \", test_msle)"
   ]
  },
  {
   "attachments": {},
   "cell_type": "markdown",
   "metadata": {},
   "source": [
    "## Predicting the next 30 days"
   ]
  },
  {
   "attachments": {},
   "cell_type": "markdown",
   "metadata": {},
   "source": [
    "### Preparing the prediction data"
   ]
  },
  {
   "cell_type": "code",
   "execution_count": 16,
   "metadata": {},
   "outputs": [],
   "source": [
    "x_input = val_data[5:].reshape(1,-1)\n",
    "temp_input = list(x_input)\n",
    "temp_input = temp_input[0].tolist()\n",
    "\n",
    "# Define i\n",
    "i = 0\n",
    "\n",
    "# List storage value for next 30 days\n",
    "prediction_next30_days = []\n",
    "\n",
    "while(i < 30):\n",
    "    if(len(temp_input) > time_step):\n",
    "        x_input = np.array(temp_input[-time_step:])\n",
    "\n",
    "        x_input = x_input.reshape((1, time_step, 1))\n",
    "        y_hat = model.predict(x_input, verbose=0)\n",
    "\n",
    "        temp_input.extend(y_hat[0].tolist())\n",
    "        temp_input = temp_input[1:]\n",
    "\n",
    "        prediction_next30_days.extend(y_hat.tolist())\n",
    "        i = i + 1\n",
    "    else:\n",
    "        x_input = x_input.reshape((1, time_step, 1))\n",
    "        y_hat = model.predict(x_input, verbose = 0)\n",
    "\n",
    "        temp_input.extend(y_hat[0].tolist())\n",
    "\n",
    "        prediction_next30_days.extend(y_hat.tolist())\n",
    "        i = i + 1"
   ]
  },
  {
   "cell_type": "code",
   "execution_count": 17,
   "metadata": {},
   "outputs": [
    {
     "name": "stdout",
     "output_type": "stream",
     "text": [
      "[[0.8381626605987549], [0.8433827757835388], [0.8498320579528809], [0.8564004898071289], [0.8621975779533386], [0.8666754961013794], [0.8695698976516724], [0.8708309531211853], [0.8705713748931885], [0.8690195679664612], [0.8664760589599609], [0.863273024559021], [0.8597362637519836], [0.8561590909957886], [0.8527816534042358], [0.8497808575630188], [0.8472664952278137], [0.8452855944633484], [0.8438305258750916], [0.8428493142127991], [0.8422592282295227], [0.8419598340988159], [0.8418444991111755], [0.8418117761611938], [0.8417732119560242], [0.8416576385498047], [0.8414156436920166], [0.8410192728042603], [0.840459406375885], [0.8397449851036072]]\n"
     ]
    }
   ],
   "source": [
    "# Print predict next 30 days\n",
    "print(prediction_next30_days)"
   ]
  },
  {
   "attachments": {},
   "cell_type": "markdown",
   "metadata": {},
   "source": [
    "### Preparing the forecast date index"
   ]
  },
  {
   "cell_type": "code",
   "execution_count": 18,
   "metadata": {},
   "outputs": [],
   "source": [
    "# Get the last date from the current index\n",
    "last_date = stock_ntr.index.max()\n",
    "\n",
    "# Create a list of indices starting from the next date for 30 days\n",
    "future_dates = pd.date_range(start=pd.to_datetime(last_date) + pd.DateOffset(days=1), periods=30, freq='D')"
   ]
  },
  {
   "cell_type": "code",
   "execution_count": 19,
   "metadata": {},
   "outputs": [],
   "source": [
    "# Convert from list to array\n",
    "prediction_next30_days = np.array(prediction_next30_days)\n",
    "\n",
    "# Convert to normal values from 0, 1\n",
    "prediction_next30_days = scaler.inverse_transform(prediction_next30_days).reshape(-1)"
   ]
  },
  {
   "cell_type": "code",
   "execution_count": 20,
   "metadata": {},
   "outputs": [],
   "source": [
    "# Convert to normal values\n",
    "y_pred = scaler.inverse_transform(y_pred)\n",
    "y_pred_val = scaler.inverse_transform(y_pred_val)\n",
    "train_data = scaler.inverse_transform(train_data)\n",
    "test_data = scaler.inverse_transform(test_data)\n",
    "val_data = scaler.inverse_transform(val_data)"
   ]
  },
  {
   "cell_type": "code",
   "execution_count": 21,
   "metadata": {},
   "outputs": [
    {
     "data": {
      "image/png": "[encoded data removed]",
      "text/plain": [
       "<Figure size 1600x500 with 1 Axes>"
      ]
     },
     "metadata": {},
     "output_type": "display_data"
    }
   ],
   "source": [
    "plt.figure(figsize=(16,5))\n",
    "\n",
    "plt.plot(stock_ntr.index[:train_size], train_data)\n",
    "\n",
    "plt.plot(stock_ntr.index[train_size:train_size + val_size],val_data)\n",
    "\n",
    "plt.plot(stock_ntr.index[train_size + time_step + 1: train_size + val_size],y_pred_val)\n",
    "\n",
    "plt.plot(stock_ntr.index[train_size + val_size: train_size + test_size + val_size], test_data)\n",
    "\n",
    "plt.plot(stock_ntr.index[train_size + val_size + time_step + 1: train_size + test_size + val_size],(y_pred))\n",
    "\n",
    "plt.plot(future_dates, prediction_next30_days)\n",
    "\n",
    "plt.xlabel('Date')\n",
    "plt.ylabel('Close')\n",
    "plt.title('LSTM_712_NTR')\n",
    "plt.legend(['Train','Validate','PredictValidate','Test','PredictTest','Next30days'])\n",
    "plt.grid()\n",
    "plt.savefig('LSTM_712_NTR.png')\n",
    "plt.show()"
   ]
  },
  {
   "cell_type": "code",
   "execution_count": null,
   "metadata": {},
   "outputs": [],
   "source": []
  }
 ],
 "metadata": {
  "kernelspec": {
   "display_name": "base",
   "language": "python",
   "name": "python3"
  },
  "language_info": {
   "codemirror_mode": {
    "name": "ipython",
    "version": 3
   },
   "file_extension": ".py",
   "mimetype": "text/x-python",
   "name": "python",
   "nbconvert_exporter": "python",
   "pygments_lexer": "ipython3",
   "version": "3.9.16"
  },
  "orig_nbformat": 4
 },
 "nbformat": 4,
 "nbformat_minor": 2
}
