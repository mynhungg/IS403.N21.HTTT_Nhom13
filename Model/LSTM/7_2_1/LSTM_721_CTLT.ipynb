{
 "cells": [
  {
   "attachments": {},
   "cell_type": "markdown",
   "metadata": {},
   "source": [
    "                            - DỰ ĐOÁN GIÁ CLOSE CHO TẬP DỮ LIỆU CTLT.csv"
   ]
  },
  {
   "attachments": {},
   "cell_type": "markdown",
   "metadata": {},
   "source": [
    "IMPORT THƯ VIỆN"
   ]
  },
  {
   "cell_type": "code",
   "execution_count": 1,
   "metadata": {},
   "outputs": [
    {
     "name": "stderr",
     "output_type": "stream",
     "text": [
      "<frozen importlib._bootstrap>:228: RuntimeWarning: scipy._lib.messagestream.MessageStream size changed, may indicate binary incompatibility. Expected 56 from C header, got 64 from PyObject\n"
     ]
    }
   ],
   "source": [
    "import numpy as np\n",
    "import pandas as pd\n",
    "import matplotlib.pyplot as plt\n",
    "\n",
    "from numpy import array\n",
    "from keras.models import Sequential\n",
    "from keras.layers import Dense, LSTM\n",
    "from keras.callbacks import EarlyStopping,ModelCheckpoint\n",
    "from sklearn.preprocessing import MinMaxScaler\n",
    "from sklearn.metrics import mean_absolute_error, mean_squared_error, mean_absolute_percentage_error"
   ]
  },
  {
   "attachments": {},
   "cell_type": "markdown",
   "metadata": {},
   "source": [
    "ĐỌC DỮ LIỆU"
   ]
  },
  {
   "cell_type": "code",
   "execution_count": 2,
   "metadata": {},
   "outputs": [],
   "source": [
    "# Đọc dữ liệu\n",
    "stock_ctlt = pd.read_csv('../../Dataset/CTLT.csv')\n",
    "\n",
    "# Column Date là object => đổi sang dạng datetime\n",
    "stock_ctlt['Date'] = pd.to_datetime(stock_ctlt.Date,format='%Y/%m/%d')\n",
    "\n",
    "# Cho Cột Date làm giá trị index => in đc giá trị x là cột Date\n",
    "stock_ctlt = stock_ctlt.set_index(pd.DatetimeIndex(stock_ctlt['Date'].values))"
   ]
  },
  {
   "attachments": {},
   "cell_type": "markdown",
   "metadata": {},
   "source": [
    "THÔNG SỐ TẬP DỮ LIỆU"
   ]
  },
  {
   "cell_type": "code",
   "execution_count": 3,
   "metadata": {},
   "outputs": [
    {
     "name": "stdout",
     "output_type": "stream",
     "text": [
      "Độ dài giá trị có trong cột Close:  1051\n",
      "Giá trị max của cột Close: 142.350006\n",
      "Giá trị min của cột Close: 29.84\n",
      "Q1: 52.209999499999995\n",
      "Q2: 85.349998\n",
      "Q3: 107.06500249999999\n"
     ]
    }
   ],
   "source": [
    "print(\"Độ dài giá trị có trong cột Close: \", stock_ctlt['Close'].count())\n",
    "print(\"Giá trị max của cột Close:\", stock_ctlt['Close'].max())\n",
    "print(\"Giá trị min của cột Close:\", stock_ctlt['Close'].min())\n",
    "print(\"Q1:\", np.percentile(stock_ctlt['Close'], 25))\n",
    "print(\"Q2:\", np.percentile(stock_ctlt['Close'], 50))\n",
    "print(\"Q3:\", np.percentile(stock_ctlt['Close'], 75))"
   ]
  },
  {
   "attachments": {},
   "cell_type": "markdown",
   "metadata": {},
   "source": [
    "CHUẨN HÓA DỮ LIỆU"
   ]
  },
  {
   "cell_type": "code",
   "execution_count": 4,
   "metadata": {},
   "outputs": [],
   "source": [
    "# Tạo dataframe mới chỉ chứa cột Date và giá trị Close\n",
    "df_ctlt = pd.DataFrame(stock_ctlt, columns=['Date', 'Close'])\n",
    "\n",
    "# Bỏ cột date khỏi dataframe\n",
    "df_ctlt.drop('Date', axis=1, inplace=True)"
   ]
  },
  {
   "cell_type": "code",
   "execution_count": 5,
   "metadata": {},
   "outputs": [],
   "source": [
    "scaler = MinMaxScaler(feature_range=(0,1))\n",
    "df_ctlt = scaler.fit_transform(np.array(df_ctlt).reshape(-1,1))"
   ]
  },
  {
   "attachments": {},
   "cell_type": "markdown",
   "metadata": {},
   "source": [
    "CHIA CÁC TẬP DỮ LIỆU"
   ]
  },
  {
   "cell_type": "code",
   "execution_count": 6,
   "metadata": {},
   "outputs": [],
   "source": [
    "# Tính độ dài\n",
    "    # Train: 70%\n",
    "    # Test: 20%\n",
    "    # Val: 10%\n",
    "train_size = int(len(df_ctlt) * 0.7)\n",
    "test_size = int(len(df_ctlt) * 0.2)\n",
    "val_size = len(df_ctlt) - train_size - test_size"
   ]
  },
  {
   "cell_type": "code",
   "execution_count": 7,
   "metadata": {},
   "outputs": [],
   "source": [
    "# Lấy dữ liệu\n",
    "train_data = df_ctlt[:train_size]\n",
    "test_data = df_ctlt[train_size:train_size+test_size]\n",
    "val_data = df_ctlt[train_size+test_size:]"
   ]
  },
  {
   "cell_type": "code",
   "execution_count": 8,
   "metadata": {},
   "outputs": [],
   "source": [
    "# Tạo dataset cho X, Y train, test, val\n",
    "def create_dataset(dataset, time_step=1):\n",
    "\tdataX, dataY = [], []\n",
    "\tfor i in range(len(dataset) - time_step - 1):\n",
    "\t\ta = dataset[i:(i + time_step), 0]\n",
    "\t\tdataX.append(a)\n",
    "\t\tdataY.append(dataset[i + time_step, 0])\n",
    "\treturn np.array(dataX), np.array(dataY)"
   ]
  },
  {
   "cell_type": "code",
   "execution_count": 9,
   "metadata": {},
   "outputs": [],
   "source": [
    "time_step = 100\n",
    "X_train, y_train = create_dataset(train_data, time_step)\n",
    "X_test, ytest = create_dataset(test_data, time_step)\n",
    "X_val, yval = create_dataset(val_data, time_step)"
   ]
  },
  {
   "cell_type": "code",
   "execution_count": 10,
   "metadata": {},
   "outputs": [],
   "source": [
    "X_train = X_train.reshape(X_train.shape[0], X_train.shape[1] , 1)\n",
    "X_test = X_test.reshape(X_test.shape[0], X_test.shape[1] , 1)\n",
    "X_val = X_val.reshape(X_val.shape[0], X_val.shape[1] , 1)"
   ]
  },
  {
   "attachments": {},
   "cell_type": "markdown",
   "metadata": {},
   "source": [
    "HUẤN LUYỆN VÀ TRAIN MÔ HÌNH"
   ]
  },
  {
   "cell_type": "code",
   "execution_count": 11,
   "metadata": {},
   "outputs": [],
   "source": [
    "# Định nghĩa mô hình\n",
    "model = Sequential()\n",
    "model.add(LSTM(64, return_sequences=True, input_shape = (100, 1)))\n",
    "model.add(LSTM(64, return_sequences=True))\n",
    "model.add(LSTM(64))\n",
    "model.add(Dense(1))\n",
    "model.compile(loss='mean_squared_error', optimizer='adam')"
   ]
  },
  {
   "cell_type": "code",
   "execution_count": 12,
   "metadata": {},
   "outputs": [],
   "source": [
    "# Sử dụng early stoping để dừng khi không có cải thiện\n",
    "earlystop = EarlyStopping(monitor='val_loss', patience=10)"
   ]
  },
  {
   "cell_type": "code",
   "execution_count": 13,
   "metadata": {},
   "outputs": [
    {
     "name": "stdout",
     "output_type": "stream",
     "text": [
      "Epoch 1/100\n",
      "10/10 [==============================] - 15s 449ms/step - loss: 0.1176 - val_loss: 0.0068\n",
      "Epoch 2/100\n",
      "10/10 [==============================] - 3s 299ms/step - loss: 0.0154 - val_loss: 0.0092\n",
      "Epoch 3/100\n",
      "10/10 [==============================] - 3s 279ms/step - loss: 0.0083 - val_loss: 0.0069\n",
      "Epoch 4/100\n",
      "10/10 [==============================] - 3s 309ms/step - loss: 0.0046 - val_loss: 0.0097\n",
      "Epoch 5/100\n",
      "10/10 [==============================] - 3s 303ms/step - loss: 0.0027 - val_loss: 0.0074\n",
      "Epoch 6/100\n",
      "10/10 [==============================] - 4s 385ms/step - loss: 0.0024 - val_loss: 0.0055\n",
      "Epoch 7/100\n",
      "10/10 [==============================] - 3s 329ms/step - loss: 0.0023 - val_loss: 0.0054\n",
      "Epoch 8/100\n",
      "10/10 [==============================] - 3s 305ms/step - loss: 0.0022 - val_loss: 0.0054\n",
      "Epoch 9/100\n",
      "10/10 [==============================] - 5s 549ms/step - loss: 0.0022 - val_loss: 0.0051\n",
      "Epoch 10/100\n",
      "10/10 [==============================] - 4s 388ms/step - loss: 0.0021 - val_loss: 0.0055\n",
      "Epoch 11/100\n",
      "10/10 [==============================] - 3s 294ms/step - loss: 0.0021 - val_loss: 0.0052\n",
      "Epoch 12/100\n",
      "10/10 [==============================] - 3s 292ms/step - loss: 0.0021 - val_loss: 0.0050\n",
      "Epoch 13/100\n",
      "10/10 [==============================] - 3s 308ms/step - loss: 0.0021 - val_loss: 0.0050\n",
      "Epoch 14/100\n",
      "10/10 [==============================] - 3s 285ms/step - loss: 0.0020 - val_loss: 0.0057\n",
      "Epoch 15/100\n",
      "10/10 [==============================] - 3s 255ms/step - loss: 0.0022 - val_loss: 0.0064\n",
      "Epoch 16/100\n",
      "10/10 [==============================] - 3s 271ms/step - loss: 0.0021 - val_loss: 0.0054\n",
      "Epoch 17/100\n",
      "10/10 [==============================] - 3s 266ms/step - loss: 0.0020 - val_loss: 0.0047\n",
      "Epoch 18/100\n",
      "10/10 [==============================] - 3s 241ms/step - loss: 0.0019 - val_loss: 0.0052\n",
      "Epoch 19/100\n",
      "10/10 [==============================] - 4s 392ms/step - loss: 0.0019 - val_loss: 0.0051\n",
      "Epoch 20/100\n",
      "10/10 [==============================] - 3s 270ms/step - loss: 0.0019 - val_loss: 0.0048\n",
      "Epoch 21/100\n",
      "10/10 [==============================] - 3s 270ms/step - loss: 0.0018 - val_loss: 0.0049\n",
      "Epoch 22/100\n",
      "10/10 [==============================] - 3s 278ms/step - loss: 0.0018 - val_loss: 0.0050\n",
      "Epoch 23/100\n",
      "10/10 [==============================] - 3s 260ms/step - loss: 0.0019 - val_loss: 0.0043\n",
      "Epoch 24/100\n",
      "10/10 [==============================] - 2s 232ms/step - loss: 0.0019 - val_loss: 0.0038\n",
      "Epoch 25/100\n",
      "10/10 [==============================] - 3s 260ms/step - loss: 0.0018 - val_loss: 0.0040\n",
      "Epoch 26/100\n",
      "10/10 [==============================] - 3s 270ms/step - loss: 0.0017 - val_loss: 0.0043\n",
      "Epoch 27/100\n",
      "10/10 [==============================] - 3s 267ms/step - loss: 0.0017 - val_loss: 0.0036\n",
      "Epoch 28/100\n",
      "10/10 [==============================] - 2s 236ms/step - loss: 0.0017 - val_loss: 0.0040\n",
      "Epoch 29/100\n",
      "10/10 [==============================] - 2s 237ms/step - loss: 0.0017 - val_loss: 0.0038\n",
      "Epoch 30/100\n",
      "10/10 [==============================] - 2s 245ms/step - loss: 0.0016 - val_loss: 0.0036\n",
      "Epoch 31/100\n",
      "10/10 [==============================] - 2s 242ms/step - loss: 0.0017 - val_loss: 0.0045\n",
      "Epoch 32/100\n",
      "10/10 [==============================] - 2s 231ms/step - loss: 0.0016 - val_loss: 0.0036\n",
      "Epoch 33/100\n",
      "10/10 [==============================] - 2s 230ms/step - loss: 0.0016 - val_loss: 0.0034\n",
      "Epoch 34/100\n",
      "10/10 [==============================] - 3s 290ms/step - loss: 0.0015 - val_loss: 0.0047\n",
      "Epoch 35/100\n",
      "10/10 [==============================] - 3s 267ms/step - loss: 0.0015 - val_loss: 0.0033\n",
      "Epoch 36/100\n",
      "10/10 [==============================] - 3s 254ms/step - loss: 0.0016 - val_loss: 0.0057\n",
      "Epoch 37/100\n",
      "10/10 [==============================] - 3s 259ms/step - loss: 0.0017 - val_loss: 0.0032\n",
      "Epoch 38/100\n",
      "10/10 [==============================] - 3s 257ms/step - loss: 0.0015 - val_loss: 0.0040\n",
      "Epoch 39/100\n",
      "10/10 [==============================] - 3s 266ms/step - loss: 0.0017 - val_loss: 0.0031\n",
      "Epoch 40/100\n",
      "10/10 [==============================] - 3s 266ms/step - loss: 0.0016 - val_loss: 0.0033\n",
      "Epoch 41/100\n",
      "10/10 [==============================] - 3s 267ms/step - loss: 0.0014 - val_loss: 0.0032\n",
      "Epoch 42/100\n",
      "10/10 [==============================] - 3s 271ms/step - loss: 0.0014 - val_loss: 0.0035\n",
      "Epoch 43/100\n",
      "10/10 [==============================] - 2s 222ms/step - loss: 0.0014 - val_loss: 0.0040\n",
      "Epoch 44/100\n",
      "10/10 [==============================] - 2s 252ms/step - loss: 0.0015 - val_loss: 0.0030\n",
      "Epoch 45/100\n",
      "10/10 [==============================] - 3s 268ms/step - loss: 0.0013 - val_loss: 0.0035\n",
      "Epoch 46/100\n",
      "10/10 [==============================] - 3s 289ms/step - loss: 0.0013 - val_loss: 0.0031\n",
      "Epoch 47/100\n",
      "10/10 [==============================] - 3s 255ms/step - loss: 0.0013 - val_loss: 0.0035\n",
      "Epoch 48/100\n",
      "10/10 [==============================] - 3s 273ms/step - loss: 0.0013 - val_loss: 0.0030\n",
      "Epoch 49/100\n",
      "10/10 [==============================] - 3s 280ms/step - loss: 0.0012 - val_loss: 0.0038\n",
      "Epoch 50/100\n",
      "10/10 [==============================] - 3s 288ms/step - loss: 0.0012 - val_loss: 0.0031\n",
      "Epoch 51/100\n",
      "10/10 [==============================] - 3s 329ms/step - loss: 0.0012 - val_loss: 0.0038\n",
      "Epoch 52/100\n",
      "10/10 [==============================] - 4s 418ms/step - loss: 0.0012 - val_loss: 0.0029\n",
      "Epoch 53/100\n",
      "10/10 [==============================] - 3s 251ms/step - loss: 0.0013 - val_loss: 0.0030\n",
      "Epoch 54/100\n",
      "10/10 [==============================] - 2s 239ms/step - loss: 0.0012 - val_loss: 0.0031\n",
      "Epoch 55/100\n",
      "10/10 [==============================] - 2s 238ms/step - loss: 0.0011 - val_loss: 0.0028\n",
      "Epoch 56/100\n",
      "10/10 [==============================] - 2s 244ms/step - loss: 0.0012 - val_loss: 0.0039\n",
      "Epoch 57/100\n",
      "10/10 [==============================] - 3s 269ms/step - loss: 0.0011 - val_loss: 0.0027\n",
      "Epoch 58/100\n",
      "10/10 [==============================] - 2s 233ms/step - loss: 0.0011 - val_loss: 0.0036\n",
      "Epoch 59/100\n",
      "10/10 [==============================] - 2s 234ms/step - loss: 0.0013 - val_loss: 0.0037\n",
      "Epoch 60/100\n",
      "10/10 [==============================] - 2s 243ms/step - loss: 0.0015 - val_loss: 0.0029\n",
      "Epoch 61/100\n",
      "10/10 [==============================] - 5s 583ms/step - loss: 0.0013 - val_loss: 0.0040\n",
      "Epoch 62/100\n",
      "10/10 [==============================] - 4s 419ms/step - loss: 0.0010 - val_loss: 0.0028\n",
      "Epoch 63/100\n",
      "10/10 [==============================] - 2s 247ms/step - loss: 9.9195e-04 - val_loss: 0.0029\n",
      "Epoch 64/100\n",
      "10/10 [==============================] - 3s 297ms/step - loss: 0.0010 - val_loss: 0.0028\n",
      "Epoch 65/100\n",
      "10/10 [==============================] - 3s 303ms/step - loss: 0.0010 - val_loss: 0.0034\n",
      "Epoch 66/100\n",
      "10/10 [==============================] - 3s 275ms/step - loss: 0.0010 - val_loss: 0.0029\n",
      "Epoch 67/100\n",
      "10/10 [==============================] - 3s 290ms/step - loss: 9.7177e-04 - val_loss: 0.0027\n",
      "Epoch 68/100\n",
      "10/10 [==============================] - 3s 289ms/step - loss: 9.6866e-04 - val_loss: 0.0032\n",
      "Epoch 69/100\n",
      "10/10 [==============================] - 3s 312ms/step - loss: 9.9357e-04 - val_loss: 0.0026\n",
      "Epoch 70/100\n",
      "10/10 [==============================] - 3s 354ms/step - loss: 9.8991e-04 - val_loss: 0.0029\n",
      "Epoch 71/100\n",
      "10/10 [==============================] - 3s 279ms/step - loss: 9.0643e-04 - val_loss: 0.0025\n",
      "Epoch 72/100\n",
      "10/10 [==============================] - 3s 262ms/step - loss: 9.8867e-04 - val_loss: 0.0026\n",
      "Epoch 73/100\n",
      "10/10 [==============================] - 2s 221ms/step - loss: 9.2874e-04 - val_loss: 0.0027\n",
      "Epoch 74/100\n",
      "10/10 [==============================] - 3s 278ms/step - loss: 0.0010 - val_loss: 0.0025\n",
      "Epoch 75/100\n",
      "10/10 [==============================] - 2s 230ms/step - loss: 9.6071e-04 - val_loss: 0.0025\n",
      "Epoch 76/100\n",
      "10/10 [==============================] - 3s 276ms/step - loss: 9.4256e-04 - val_loss: 0.0024\n",
      "Epoch 77/100\n",
      "10/10 [==============================] - 2s 245ms/step - loss: 9.5975e-04 - val_loss: 0.0024\n",
      "Epoch 78/100\n",
      "10/10 [==============================] - 3s 253ms/step - loss: 8.3345e-04 - val_loss: 0.0024\n",
      "Epoch 79/100\n",
      "10/10 [==============================] - 2s 227ms/step - loss: 8.5537e-04 - val_loss: 0.0025\n",
      "Epoch 80/100\n",
      "10/10 [==============================] - 2s 231ms/step - loss: 8.2715e-04 - val_loss: 0.0022\n",
      "Epoch 81/100\n",
      "10/10 [==============================] - 2s 238ms/step - loss: 9.4207e-04 - val_loss: 0.0038\n",
      "Epoch 82/100\n",
      "10/10 [==============================] - 2s 232ms/step - loss: 9.1778e-04 - val_loss: 0.0022\n",
      "Epoch 83/100\n",
      "10/10 [==============================] - 2s 242ms/step - loss: 8.0295e-04 - val_loss: 0.0030\n",
      "Epoch 84/100\n",
      "10/10 [==============================] - 2s 235ms/step - loss: 8.8353e-04 - val_loss: 0.0027\n",
      "Epoch 85/100\n",
      "10/10 [==============================] - 2s 250ms/step - loss: 8.3240e-04 - val_loss: 0.0022\n",
      "Epoch 86/100\n",
      "10/10 [==============================] - 3s 264ms/step - loss: 8.0953e-04 - val_loss: 0.0029\n",
      "Epoch 87/100\n",
      "10/10 [==============================] - 3s 309ms/step - loss: 0.0011 - val_loss: 0.0032\n",
      "Epoch 88/100\n",
      "10/10 [==============================] - 3s 282ms/step - loss: 0.0011 - val_loss: 0.0022\n",
      "Epoch 89/100\n",
      "10/10 [==============================] - 4s 387ms/step - loss: 9.5417e-04 - val_loss: 0.0026\n",
      "Epoch 90/100\n",
      "10/10 [==============================] - 2s 250ms/step - loss: 9.8876e-04 - val_loss: 0.0034\n",
      "Epoch 91/100\n",
      "10/10 [==============================] - 3s 270ms/step - loss: 9.6287e-04 - val_loss: 0.0022\n",
      "Epoch 92/100\n",
      "10/10 [==============================] - 2s 248ms/step - loss: 0.0013 - val_loss: 0.0028\n",
      "Epoch 93/100\n",
      "10/10 [==============================] - 2s 235ms/step - loss: 8.4399e-04 - val_loss: 0.0020\n",
      "Epoch 94/100\n",
      "10/10 [==============================] - 2s 246ms/step - loss: 8.1347e-04 - val_loss: 0.0026\n",
      "Epoch 95/100\n",
      "10/10 [==============================] - 3s 299ms/step - loss: 7.8951e-04 - val_loss: 0.0021\n",
      "Epoch 96/100\n",
      "10/10 [==============================] - 2s 242ms/step - loss: 8.1331e-04 - val_loss: 0.0024\n",
      "Epoch 97/100\n",
      "10/10 [==============================] - 2s 242ms/step - loss: 8.0019e-04 - val_loss: 0.0019\n",
      "Epoch 98/100\n",
      "10/10 [==============================] - 3s 266ms/step - loss: 0.0010 - val_loss: 0.0022\n",
      "Epoch 99/100\n",
      "10/10 [==============================] - 3s 351ms/step - loss: 0.0011 - val_loss: 0.0026\n",
      "Epoch 100/100\n",
      "10/10 [==============================] - 3s 271ms/step - loss: 9.3522e-04 - val_loss: 0.0019\n"
     ]
    },
    {
     "data": {
      "text/plain": [
       "<keras.callbacks.History at 0x2391d59e400>"
      ]
     },
     "execution_count": 13,
     "metadata": {},
     "output_type": "execute_result"
    }
   ],
   "source": [
    "# Train mô hình\n",
    "model.fit(X_train, y_train, validation_data=(X_test, ytest), epochs = 100, batch_size = 64,verbose = 1,  callbacks=earlystop)"
   ]
  },
  {
   "attachments": {},
   "cell_type": "markdown",
   "metadata": {},
   "source": [
    "DỰ ĐOÁN TRÊN TẬP TEST VÀ TRAIN"
   ]
  },
  {
   "cell_type": "code",
   "execution_count": 14,
   "metadata": {},
   "outputs": [
    {
     "name": "stdout",
     "output_type": "stream",
     "text": [
      "4/4 [==============================] - 3s 66ms/step\n",
      "1/1 [==============================] - 0s 70ms/step\n"
     ]
    }
   ],
   "source": [
    "# Dự đoán\n",
    "y_pred = model.predict(X_test)\n",
    "y_pred_val = model.predict(X_val)"
   ]
  },
  {
   "cell_type": "code",
   "execution_count": 15,
   "metadata": {},
   "outputs": [],
   "source": [
    "# Chuyển hóa dữ liệu lại như cũ\n",
    "y_pred = scaler.inverse_transform(y_pred)\n",
    "y_pred_val = scaler.inverse_transform(y_pred_val)"
   ]
  },
  {
   "attachments": {},
   "cell_type": "markdown",
   "metadata": {},
   "source": [
    "TÍNH ĐỘ LỖI CỦA MÔ HÌNH"
   ]
  },
  {
   "cell_type": "code",
   "execution_count": 16,
   "metadata": {},
   "outputs": [
    {
     "name": "stdout",
     "output_type": "stream",
     "text": [
      "Testing MAE:  100.25667231048475\n",
      "Testing MAPE:  0.993793297005259\n",
      "Testing MSE:  10115.741973179212\n",
      "Testing RMSE:  100.57704496145834\n"
     ]
    }
   ],
   "source": [
    "# Độ lỗi mô hình trên tập test\n",
    "test_mae = mean_absolute_error(y_pred, ytest)\n",
    "test_mape = mean_absolute_percentage_error(y_pred, ytest)\n",
    "test_mse = mean_squared_error(y_pred, ytest)\n",
    "test_rmse = np.sqrt(test_mse)\n",
    "\n",
    "print(f\"Testing MAE: \", test_mae)\n",
    "print(f\"Testing MAPE: \", test_mape)\n",
    "print(f\"Testing MSE: \", test_mse)\n",
    "print(f\"Testing RMSE: \", test_rmse)"
   ]
  },
  {
   "cell_type": "code",
   "execution_count": 17,
   "metadata": {},
   "outputs": [
    {
     "name": "stdout",
     "output_type": "stream",
     "text": [
      "Validation MAE:  66.93953711286386\n",
      "Validation MAPE:  0.9946968117839147\n",
      "Validation MSE:  4481.1143549470335\n",
      "Validation RMSE:  66.94112603584611\n"
     ]
    }
   ],
   "source": [
    "# Độ lỗi mô hình trên tập validation\n",
    "val_mae = mean_absolute_error(y_pred_val, yval)\n",
    "val_mape = mean_absolute_percentage_error(y_pred_val, yval)\n",
    "val_mse = mean_squared_error(y_pred_val, yval)\n",
    "val_rmse = np.sqrt(val_mse)\n",
    "\n",
    "print(f\"Validation MAE: \",val_mae)\n",
    "print(f\"Validation MAPE: \", val_mape)\n",
    "print(f\"Validation MSE: \", val_mse)\n",
    "print(f\"Validation RMSE: \", val_rmse)"
   ]
  },
  {
   "attachments": {},
   "cell_type": "markdown",
   "metadata": {},
   "source": [
    "                                - DỰ ĐOÁN 30 NGÀY TIẾP THEO"
   ]
  },
  {
   "cell_type": "code",
   "execution_count": 18,
   "metadata": {},
   "outputs": [],
   "source": [
    "x_input = val_data[5:].reshape(1,-1)\n",
    "temp_input = list(x_input)\n",
    "temp_input = temp_input[0].tolist()\n",
    "\n",
    "# Khởi tạo giá trị chạy\n",
    "i = 0\n",
    "\n",
    "# List lưu trữ giá trị 30 ngày tiếp theo\n",
    "prediction_next30_days = []\n",
    "\n",
    "while(i < 30):\n",
    "    if(len(temp_input) > time_step):\n",
    "        x_input = np.array(temp_input[-time_step:])\n",
    "\n",
    "        x_input = x_input.reshape((1, time_step, 1))\n",
    "        y_hat = model.predict(x_input, verbose=0)\n",
    "\n",
    "        temp_input.extend(y_hat[0].tolist())\n",
    "        temp_input = temp_input[1:]\n",
    "\n",
    "        prediction_next30_days.extend(y_hat.tolist())\n",
    "        i = i + 1\n",
    "    else:\n",
    "        x_input = x_input.reshape((1, time_step, 1))\n",
    "        y_hat = model.predict(x_input, verbose = 0)\n",
    "\n",
    "        temp_input.extend(y_hat[0].tolist())\n",
    "\n",
    "        prediction_next30_days.extend(y_hat.tolist())\n",
    "        i = i + 1"
   ]
  },
  {
   "cell_type": "code",
   "execution_count": 19,
   "metadata": {},
   "outputs": [
    {
     "name": "stdout",
     "output_type": "stream",
     "text": [
      "[[0.353620707988739], [0.36246195435523987], [0.36834248900413513], [0.3717944025993347], [0.3736208379268646], [0.37449949979782104], [0.374877393245697], [0.3750014305114746], [0.3749900162220001], [0.3748946189880371], [0.3747406005859375], [0.37454700469970703], [0.37433329224586487], [0.37411996722221375], [0.3739253580570221], [0.3737647831439972], [0.37364912033081055], [0.37358400225639343], [0.3735714852809906], [0.37360987067222595], [0.3736950755119324], [0.37382128834724426], [0.3739818334579468], [0.3741699755191803], [0.37437885999679565], [0.3746022880077362], [0.374834805727005], [0.37507161498069763], [0.37530919909477234], [0.3755449056625366]]\n"
     ]
    }
   ],
   "source": [
    "# In ra giá trị dự đoán\n",
    "print(prediction_next30_days)"
   ]
  },
  {
   "attachments": {},
   "cell_type": "markdown",
   "metadata": {},
   "source": [
    "TRỰC QUAN HÓA TẤT CẢ DỮ LIỆU"
   ]
  },
  {
   "cell_type": "code",
   "execution_count": 20,
   "metadata": {},
   "outputs": [],
   "source": [
    "# Lấy ra các ngày cuối cùng\n",
    "last_date = stock_ctlt.index.max()\n",
    "future_dates = pd.date_range(start=pd.to_datetime(last_date) + pd.DateOffset(days=1), periods=30, freq='D')"
   ]
  },
  {
   "cell_type": "code",
   "execution_count": 21,
   "metadata": {},
   "outputs": [],
   "source": [
    "# Chuyển từ list thành dạng mảng\n",
    "prediction_next30_days = np.array(prediction_next30_days)\n",
    "\n",
    "# Chuyển đổi các giá trị trong đoạn 0 - 1 sang giá trị thực\n",
    "prediction_next30_days = scaler.inverse_transform(prediction_next30_days).reshape(-1)"
   ]
  },
  {
   "cell_type": "code",
   "execution_count": 22,
   "metadata": {},
   "outputs": [],
   "source": [
    "# Tạo dataframe chứa dữ liệu 30 ngày tới\n",
    "future_data = pd.DataFrame({'Date': future_dates,\n",
    "                            'Close': prediction_next30_days,\n",
    "                            })\n",
    "# Sắp xếp Date\n",
    "future_data = future_data.sort_values(by='Date')\n",
    "\n",
    "# Set index là Date\n",
    "future_data.set_index('Date', inplace=True)"
   ]
  },
  {
   "cell_type": "code",
   "execution_count": 23,
   "metadata": {},
   "outputs": [
    {
     "data": {
      "image/png": "[encoded data removed]",
      "text/plain": [
       "<Figure size 1600x500 with 1 Axes>"
      ]
     },
     "metadata": {},
     "output_type": "display_data"
    }
   ],
   "source": [
    "plt.figure(figsize=(16,5))\n",
    "\n",
    "# Tập dữ liệu train\n",
    "plt.plot(stock_ctlt.index[:train_size], scaler.inverse_transform(train_data))\n",
    "\n",
    "# Tập dữ liệu Test\n",
    "plt.plot(stock_ctlt.index[train_size:train_size + test_size], scaler.inverse_transform(test_data))\n",
    "\n",
    "# Dữ liệu predict trên tập Test\n",
    "plt.plot(stock_ctlt.index[train_size + time_step + 1: train_size + test_size],(y_pred))\n",
    "\n",
    "# Tập dữ liệu Validate\n",
    "plt.plot(stock_ctlt.index[train_size + test_size: train_size + test_size + val_size],scaler.inverse_transform(val_data))\n",
    "\n",
    "# Dữ liệu predict trên tập Validate\n",
    "plt.plot(stock_ctlt.index[train_size + test_size + time_step + 1: train_size + test_size + val_size],y_pred_val)\n",
    "\n",
    "# Dự đoán cho 30 ngày tiếp theo\n",
    "plt.plot(future_data.index, future_data['Close'])\n",
    "\n",
    "plt.xlabel('Ngày')\n",
    "plt.ylabel('Giá đóng cửa')\n",
    "plt.title('Sử dụng model LSTM dự đoán 30 ngày tiếp theo')\n",
    "plt.legend(['Train','Test','Predict','Validate','ValidatePred','Predict30days'])\n",
    "plt.grid()\n",
    "plt.show()"
   ]
  },
  {
   "cell_type": "code",
   "execution_count": null,
   "metadata": {},
   "outputs": [],
   "source": []
  }
 ],
 "metadata": {
  "kernelspec": {
   "display_name": "base",
   "language": "python",
   "name": "python3"
  },
  "language_info": {
   "codemirror_mode": {
    "name": "ipython",
    "version": 3
   },
   "file_extension": ".py",
   "mimetype": "text/x-python",
   "name": "python",
   "nbconvert_exporter": "python",
   "pygments_lexer": "ipython3",
   "version": "3.9.16"
  },
  "orig_nbformat": 4
 },
 "nbformat": 4,
 "nbformat_minor": 2
}
