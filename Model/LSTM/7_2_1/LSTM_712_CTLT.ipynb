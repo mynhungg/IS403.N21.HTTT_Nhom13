{
 "cells": [
  {
   "attachments": {},
   "cell_type": "markdown",
   "metadata": {},
   "source": [
    "## Import Libraries"
   ]
  },
  {
   "cell_type": "code",
   "execution_count": 1,
   "metadata": {},
   "outputs": [
    {
     "name": "stderr",
     "output_type": "stream",
     "text": [
      "<frozen importlib._bootstrap>:228: RuntimeWarning: scipy._lib.messagestream.MessageStream size changed, may indicate binary incompatibility. Expected 56 from C header, got 64 from PyObject\n"
     ]
    }
   ],
   "source": [
    "import numpy as np\n",
    "import pandas as pd\n",
    "import matplotlib.pyplot as plt\n",
    "\n",
    "from numpy import array\n",
    "from keras.models import Sequential\n",
    "from keras.layers import Dense, LSTM, Dropout\n",
    "from keras.callbacks import EarlyStopping,ModelCheckpoint\n",
    "from sklearn.preprocessing import MinMaxScaler\n",
    "from sklearn.metrics import  mean_squared_error, mean_absolute_percentage_error, mean_squared_log_error"
   ]
  },
  {
   "attachments": {},
   "cell_type": "markdown",
   "metadata": {},
   "source": [
    "## Data preprocessing"
   ]
  },
  {
   "attachments": {},
   "cell_type": "markdown",
   "metadata": {},
   "source": [
    "### Read data"
   ]
  },
  {
   "cell_type": "code",
   "execution_count": 2,
   "metadata": {},
   "outputs": [
    {
     "data": {
      "text/html": [
       "<div>\n",
       "<style scoped>\n",
       "    .dataframe tbody tr th:only-of-type {\n",
       "        vertical-align: middle;\n",
       "    }\n",
       "\n",
       "    .dataframe tbody tr th {\n",
       "        vertical-align: top;\n",
       "    }\n",
       "\n",
       "    .dataframe thead th {\n",
       "        text-align: right;\n",
       "    }\n",
       "</style>\n",
       "<table border=\"1\" class=\"dataframe\">\n",
       "  <thead>\n",
       "    <tr style=\"text-align: right;\">\n",
       "      <th></th>\n",
       "      <th>Date</th>\n",
       "      <th>Open</th>\n",
       "      <th>High</th>\n",
       "      <th>Low</th>\n",
       "      <th>Close</th>\n",
       "      <th>Adj Close</th>\n",
       "      <th>Volume</th>\n",
       "    </tr>\n",
       "  </thead>\n",
       "  <tbody>\n",
       "    <tr>\n",
       "      <th>0</th>\n",
       "      <td>2019-01-02</td>\n",
       "      <td>30.860001</td>\n",
       "      <td>31.260000</td>\n",
       "      <td>30.240000</td>\n",
       "      <td>30.910000</td>\n",
       "      <td>30.910000</td>\n",
       "      <td>1201700</td>\n",
       "    </tr>\n",
       "    <tr>\n",
       "      <th>1</th>\n",
       "      <td>2019-01-03</td>\n",
       "      <td>30.660000</td>\n",
       "      <td>30.660000</td>\n",
       "      <td>29.290001</td>\n",
       "      <td>29.840000</td>\n",
       "      <td>29.840000</td>\n",
       "      <td>1149900</td>\n",
       "    </tr>\n",
       "    <tr>\n",
       "      <th>2</th>\n",
       "      <td>2019-01-04</td>\n",
       "      <td>30.049999</td>\n",
       "      <td>31.360001</td>\n",
       "      <td>29.940001</td>\n",
       "      <td>31.080000</td>\n",
       "      <td>31.080000</td>\n",
       "      <td>3530400</td>\n",
       "    </tr>\n",
       "    <tr>\n",
       "      <th>3</th>\n",
       "      <td>2019-01-07</td>\n",
       "      <td>31.020000</td>\n",
       "      <td>32.180000</td>\n",
       "      <td>30.850000</td>\n",
       "      <td>32.000000</td>\n",
       "      <td>32.000000</td>\n",
       "      <td>1063400</td>\n",
       "    </tr>\n",
       "    <tr>\n",
       "      <th>4</th>\n",
       "      <td>2019-01-08</td>\n",
       "      <td>32.340000</td>\n",
       "      <td>33.060001</td>\n",
       "      <td>32.150002</td>\n",
       "      <td>32.790001</td>\n",
       "      <td>32.790001</td>\n",
       "      <td>1391000</td>\n",
       "    </tr>\n",
       "    <tr>\n",
       "      <th>...</th>\n",
       "      <td>...</td>\n",
       "      <td>...</td>\n",
       "      <td>...</td>\n",
       "      <td>...</td>\n",
       "      <td>...</td>\n",
       "      <td>...</td>\n",
       "      <td>...</td>\n",
       "    </tr>\n",
       "    <tr>\n",
       "      <th>1046</th>\n",
       "      <td>2023-02-28</td>\n",
       "      <td>66.779999</td>\n",
       "      <td>68.839996</td>\n",
       "      <td>66.320000</td>\n",
       "      <td>68.220001</td>\n",
       "      <td>68.220001</td>\n",
       "      <td>1972100</td>\n",
       "    </tr>\n",
       "    <tr>\n",
       "      <th>1047</th>\n",
       "      <td>2023-03-01</td>\n",
       "      <td>67.650002</td>\n",
       "      <td>69.480003</td>\n",
       "      <td>67.269997</td>\n",
       "      <td>69.010002</td>\n",
       "      <td>69.010002</td>\n",
       "      <td>1212300</td>\n",
       "    </tr>\n",
       "    <tr>\n",
       "      <th>1048</th>\n",
       "      <td>2023-03-02</td>\n",
       "      <td>68.589996</td>\n",
       "      <td>71.245003</td>\n",
       "      <td>68.099998</td>\n",
       "      <td>71.190002</td>\n",
       "      <td>71.190002</td>\n",
       "      <td>1543600</td>\n",
       "    </tr>\n",
       "    <tr>\n",
       "      <th>1049</th>\n",
       "      <td>2023-03-03</td>\n",
       "      <td>71.540001</td>\n",
       "      <td>74.489998</td>\n",
       "      <td>71.129997</td>\n",
       "      <td>74.260002</td>\n",
       "      <td>74.260002</td>\n",
       "      <td>1925800</td>\n",
       "    </tr>\n",
       "    <tr>\n",
       "      <th>1050</th>\n",
       "      <td>2023-03-06</td>\n",
       "      <td>74.250000</td>\n",
       "      <td>74.250000</td>\n",
       "      <td>71.320000</td>\n",
       "      <td>71.339996</td>\n",
       "      <td>71.339996</td>\n",
       "      <td>1153000</td>\n",
       "    </tr>\n",
       "  </tbody>\n",
       "</table>\n",
       "<p>1051 rows × 7 columns</p>\n",
       "</div>"
      ],
      "text/plain": [
       "            Date       Open       High        Low      Close  Adj Close  \\\n",
       "0     2019-01-02  30.860001  31.260000  30.240000  30.910000  30.910000   \n",
       "1     2019-01-03  30.660000  30.660000  29.290001  29.840000  29.840000   \n",
       "2     2019-01-04  30.049999  31.360001  29.940001  31.080000  31.080000   \n",
       "3     2019-01-07  31.020000  32.180000  30.850000  32.000000  32.000000   \n",
       "4     2019-01-08  32.340000  33.060001  32.150002  32.790001  32.790001   \n",
       "...          ...        ...        ...        ...        ...        ...   \n",
       "1046  2023-02-28  66.779999  68.839996  66.320000  68.220001  68.220001   \n",
       "1047  2023-03-01  67.650002  69.480003  67.269997  69.010002  69.010002   \n",
       "1048  2023-03-02  68.589996  71.245003  68.099998  71.190002  71.190002   \n",
       "1049  2023-03-03  71.540001  74.489998  71.129997  74.260002  74.260002   \n",
       "1050  2023-03-06  74.250000  74.250000  71.320000  71.339996  71.339996   \n",
       "\n",
       "       Volume  \n",
       "0     1201700  \n",
       "1     1149900  \n",
       "2     3530400  \n",
       "3     1063400  \n",
       "4     1391000  \n",
       "...       ...  \n",
       "1046  1972100  \n",
       "1047  1212300  \n",
       "1048  1543600  \n",
       "1049  1925800  \n",
       "1050  1153000  \n",
       "\n",
       "[1051 rows x 7 columns]"
      ]
     },
     "execution_count": 2,
     "metadata": {},
     "output_type": "execute_result"
    }
   ],
   "source": [
    "stock_ctlt = pd.read_csv('../../Dataset/CTLT.csv')\n",
    "stock_ctlt"
   ]
  },
  {
   "attachments": {},
   "cell_type": "markdown",
   "metadata": {},
   "source": [
    "### Reset index"
   ]
  },
  {
   "cell_type": "code",
   "execution_count": 3,
   "metadata": {},
   "outputs": [],
   "source": [
    "# Convert the 'Date' column to datetime format\n",
    "stock_ctlt['Date'] = pd.to_datetime(stock_ctlt['Date'])\n",
    "\n",
    "# Set the 'Date' column as the index value\n",
    "stock_ctlt = stock_ctlt.set_index(pd.DatetimeIndex(stock_ctlt['Date'].values))\n",
    "\n",
    "# Create new datafram with Date and Close\n",
    "df_ctlt = pd.DataFrame(stock_ctlt, columns=['Close'])"
   ]
  },
  {
   "attachments": {},
   "cell_type": "markdown",
   "metadata": {},
   "source": [
    "### Data normalization"
   ]
  },
  {
   "cell_type": "code",
   "execution_count": 4,
   "metadata": {},
   "outputs": [],
   "source": [
    "scaler = MinMaxScaler(feature_range=(0,1))\n",
    "df_ctlt = scaler.fit_transform(np.array(df_ctlt).reshape(-1,1))"
   ]
  },
  {
   "attachments": {},
   "cell_type": "markdown",
   "metadata": {},
   "source": [
    "### Data splitting"
   ]
  },
  {
   "cell_type": "code",
   "execution_count": 5,
   "metadata": {},
   "outputs": [],
   "source": [
    "# Length\n",
    "    # Train: 70%\n",
    "    # Val: 10%\n",
    "    # Test: 20%\n",
    "train_size = int(len(df_ctlt) * 0.7)\n",
    "val_size = int(len(df_ctlt) * 0.1)\n",
    "test_size = len(df_ctlt) - train_size - val_size"
   ]
  },
  {
   "cell_type": "code",
   "execution_count": 6,
   "metadata": {},
   "outputs": [],
   "source": [
    "# Get Data \n",
    "train_data = df_ctlt[:train_size]\n",
    "val_data = df_ctlt[train_size:train_size+val_size]\n",
    "test_data = df_ctlt[train_size+val_size:]"
   ]
  },
  {
   "cell_type": "code",
   "execution_count": 7,
   "metadata": {},
   "outputs": [],
   "source": [
    "# Create dataset\n",
    "def create_dataset(dataset, time_step=1):\n",
    "\tdataX, dataY = [], []\n",
    "\tfor i in range(len(dataset) - time_step - 1):\n",
    "\t\ta = dataset[i:(i + time_step), 0]\n",
    "\t\tdataX.append(a)\n",
    "\t\tdataY.append(dataset[i + time_step, 0])\n",
    "\treturn np.array(dataX), np.array(dataY)"
   ]
  },
  {
   "cell_type": "code",
   "execution_count": 8,
   "metadata": {},
   "outputs": [],
   "source": [
    "# Reshape into X=t,t+1,t+2..t+60 and Y=t+60\n",
    "time_step = 60\n",
    "X_train, y_train = create_dataset(train_data, time_step)\n",
    "X_val, yval = create_dataset(val_data, time_step)\n",
    "X_test, ytest = create_dataset(test_data, time_step)"
   ]
  },
  {
   "cell_type": "code",
   "execution_count": 9,
   "metadata": {},
   "outputs": [],
   "source": [
    "# Make input for LSTM\n",
    "X_train = X_train.reshape(X_train.shape[0], X_train.shape[1] , 1)\n",
    "X_val = X_val.reshape(X_val.shape[0], X_val.shape[1] , 1)\n",
    "X_test = X_test.reshape(X_test.shape[0], X_test.shape[1] , 1)"
   ]
  },
  {
   "attachments": {},
   "cell_type": "markdown",
   "metadata": {},
   "source": [
    "## Model training and testing"
   ]
  },
  {
   "cell_type": "code",
   "execution_count": 10,
   "metadata": {},
   "outputs": [],
   "source": [
    "# Define model\n",
    "    # Pack the sequence of the inner layers\n",
    "model = Sequential()\n",
    "model.add(LSTM(64, return_sequences=True, input_shape = (60, 1)))\n",
    "model.add(LSTM(64, return_sequences=True))\n",
    "    # Dropout: Avoid remembering too much information => disable part of the previous data\n",
    "model.add(Dropout(0.2))\n",
    "model.add(LSTM(64))\n",
    "    # 1 Dense layer (dense): 1 unit provides predictive value\n",
    "model.add(Dense(1))\n",
    "model.compile(loss='mean_squared_error', optimizer='adam')"
   ]
  },
  {
   "cell_type": "code",
   "execution_count": 11,
   "metadata": {},
   "outputs": [],
   "source": [
    "# Using earlystopping to prevent overfitting\n",
    "earlystop = EarlyStopping(monitor='val_loss', patience=10)"
   ]
  },
  {
   "cell_type": "code",
   "execution_count": 12,
   "metadata": {},
   "outputs": [
    {
     "name": "stdout",
     "output_type": "stream",
     "text": [
      "Epoch 1/100\n"
     ]
    },
    {
     "name": "stdout",
     "output_type": "stream",
     "text": [
      "11/11 [==============================] - 33s 974ms/step - loss: 0.0723 - val_loss: 0.0254\n",
      "Epoch 2/100\n",
      "11/11 [==============================] - 4s 354ms/step - loss: 0.0148 - val_loss: 0.0237\n",
      "Epoch 3/100\n",
      "11/11 [==============================] - 4s 408ms/step - loss: 0.0069 - val_loss: 0.0059\n",
      "Epoch 4/100\n",
      "11/11 [==============================] - 4s 339ms/step - loss: 0.0034 - val_loss: 0.0059\n",
      "Epoch 5/100\n",
      "11/11 [==============================] - 4s 335ms/step - loss: 0.0026 - val_loss: 0.0087\n",
      "Epoch 6/100\n",
      "11/11 [==============================] - 3s 319ms/step - loss: 0.0025 - val_loss: 0.0075\n",
      "Epoch 7/100\n",
      "11/11 [==============================] - 4s 323ms/step - loss: 0.0025 - val_loss: 0.0062\n",
      "Epoch 8/100\n",
      "11/11 [==============================] - 4s 324ms/step - loss: 0.0023 - val_loss: 0.0062\n",
      "Epoch 9/100\n",
      "11/11 [==============================] - 7s 674ms/step - loss: 0.0022 - val_loss: 0.0078\n",
      "Epoch 10/100\n",
      "11/11 [==============================] - 7s 455ms/step - loss: 0.0024 - val_loss: 0.0076\n",
      "Epoch 11/100\n",
      "11/11 [==============================] - 4s 330ms/step - loss: 0.0023 - val_loss: 0.0067\n",
      "Epoch 12/100\n",
      "11/11 [==============================] - 3s 316ms/step - loss: 0.0024 - val_loss: 0.0060\n",
      "Epoch 13/100\n",
      "11/11 [==============================] - 5s 479ms/step - loss: 0.0022 - val_loss: 0.0066\n"
     ]
    },
    {
     "data": {
      "text/plain": [
       "<keras.callbacks.History at 0x152b0069610>"
      ]
     },
     "execution_count": 12,
     "metadata": {},
     "output_type": "execute_result"
    }
   ],
   "source": [
    "# Training LSTM model\n",
    "model.fit(X_train, y_train, validation_data=(X_val, yval), epochs = 100, batch_size = 64,verbose = 1,  callbacks=earlystop)"
   ]
  },
  {
   "attachments": {},
   "cell_type": "markdown",
   "metadata": {},
   "source": [
    "### Testing process"
   ]
  },
  {
   "cell_type": "code",
   "execution_count": 13,
   "metadata": {},
   "outputs": [
    {
     "name": "stdout",
     "output_type": "stream",
     "text": [
      "5/5 [==============================] - 7s 89ms/step\n",
      "2/2 [==============================] - 0s 35ms/step\n"
     ]
    }
   ],
   "source": [
    "# Predict\n",
    "    # Test\n",
    "y_pred = model.predict(X_test)\n",
    "    # Validation\n",
    "y_pred_val = model.predict(X_val)"
   ]
  },
  {
   "attachments": {},
   "cell_type": "markdown",
   "metadata": {},
   "source": [
    "### Evaluate model"
   ]
  },
  {
   "cell_type": "code",
   "execution_count": 14,
   "metadata": {},
   "outputs": [
    {
     "name": "stdout",
     "output_type": "stream",
     "text": [
      "Validation MAPE:  0.09688420910955566\n",
      "Validation RMSE:  0.08127797896841295\n",
      "Validation MSLE:  0.002482347081930251\n"
     ]
    }
   ],
   "source": [
    "# Evaluate the accuracy of validation\n",
    "val_mape = mean_absolute_percentage_error(y_pred_val, yval)\n",
    "val_mse = mean_squared_error(y_pred_val, yval)\n",
    "val_rmse = np.sqrt(val_mse)\n",
    "val_msle = mean_squared_log_error(y_pred_val, yval)\n",
    "\n",
    "print(f\"Validation MAPE: \", val_mape)\n",
    "print(f\"Validation RMSE: \", val_rmse)\n",
    "print(f\"Validation MSLE: \", val_msle)"
   ]
  },
  {
   "cell_type": "code",
   "execution_count": 15,
   "metadata": {},
   "outputs": [
    {
     "name": "stdout",
     "output_type": "stream",
     "text": [
      "Testing MAPE:  0.20983422896603174\n",
      "Testing RMSE:  0.09225167693013595\n",
      "Testing MSLE:  0.004759203549407416\n"
     ]
    }
   ],
   "source": [
    "# Evaluate the accuracy of test\n",
    "test_mape = mean_absolute_percentage_error(y_pred, ytest)\n",
    "test_mse = mean_squared_error(y_pred, ytest)\n",
    "test_rmse = np.sqrt(test_mse)\n",
    "test_msle = mean_squared_log_error(y_pred, ytest)\n",
    "\n",
    "print(f\"Testing MAPE: \", test_mape)\n",
    "print(f\"Testing RMSE: \", test_rmse)\n",
    "print(f\"Testing MSLE: \", test_msle)"
   ]
  },
  {
   "attachments": {},
   "cell_type": "markdown",
   "metadata": {},
   "source": [
    "## Predicting the next 30 days"
   ]
  },
  {
   "attachments": {},
   "cell_type": "markdown",
   "metadata": {},
   "source": [
    "### Preparing the prediction data"
   ]
  },
  {
   "cell_type": "code",
   "execution_count": 16,
   "metadata": {},
   "outputs": [],
   "source": [
    "x_input = val_data[5:].reshape(1,-1)\n",
    "temp_input = list(x_input)\n",
    "temp_input = temp_input[0].tolist()\n",
    "\n",
    "# Define i\n",
    "i = 0\n",
    "\n",
    "# List storage value for next 30 days\n",
    "prediction_next30_days = []\n",
    "\n",
    "while(i < 30):\n",
    "    if(len(temp_input) > time_step):\n",
    "        x_input = np.array(temp_input[-time_step:])\n",
    "\n",
    "        x_input = x_input.reshape((1, time_step, 1))\n",
    "        y_hat = model.predict(x_input, verbose=0)\n",
    "\n",
    "        temp_input.extend(y_hat[0].tolist())\n",
    "        temp_input = temp_input[1:]\n",
    "\n",
    "        prediction_next30_days.extend(y_hat.tolist())\n",
    "        i = i + 1\n",
    "    else:\n",
    "        x_input = x_input.reshape((1, time_step, 1))\n",
    "        y_hat = model.predict(x_input, verbose = 0)\n",
    "\n",
    "        temp_input.extend(y_hat[0].tolist())\n",
    "\n",
    "        prediction_next30_days.extend(y_hat.tolist())\n",
    "        i = i + 1"
   ]
  },
  {
   "cell_type": "code",
   "execution_count": 17,
   "metadata": {},
   "outputs": [
    {
     "name": "stdout",
     "output_type": "stream",
     "text": [
      "[[0.620837926864624], [0.6115588545799255], [0.6042184233665466], [0.5988751649856567], [0.5953736305236816], [0.5934394598007202], [0.5927573442459106], [0.5930184125900269], [0.5939505100250244], [0.595330536365509], [0.5969870686531067], [0.5987964272499084], [0.6006747484207153], [0.6025689840316772], [0.6044501662254333], [0.6063042283058167], [0.6081264615058899], [0.6099192500114441], [0.6116869449615479], [0.6134352087974548], [0.615169107913971], [0.616893470287323], [0.6186110973358154], [0.6203257441520691], [0.6220381855964661], [0.6237491965293884], [0.6254595518112183], [0.6271690726280212], [0.6288783550262451], [0.6305866837501526]]\n"
     ]
    }
   ],
   "source": [
    "# Print predict next 30 days\n",
    "print(prediction_next30_days)"
   ]
  },
  {
   "attachments": {},
   "cell_type": "markdown",
   "metadata": {},
   "source": [
    "### Preparing the forecast date index"
   ]
  },
  {
   "cell_type": "code",
   "execution_count": 18,
   "metadata": {},
   "outputs": [],
   "source": [
    "# Get the last date from the current index\n",
    "last_date = stock_ctlt.index.max()\n",
    "\n",
    "# Create a list of indices starting from the next date for 30 days\n",
    "future_dates = pd.date_range(start=pd.to_datetime(last_date) + pd.DateOffset(days=1), periods=30, freq='D')"
   ]
  },
  {
   "cell_type": "code",
   "execution_count": 19,
   "metadata": {},
   "outputs": [],
   "source": [
    "# Convert from list to array\n",
    "prediction_next30_days = np.array(prediction_next30_days)\n",
    "\n",
    "# Convert to normal values from 0, 1\n",
    "prediction_next30_days = scaler.inverse_transform(prediction_next30_days).reshape(-1)"
   ]
  },
  {
   "cell_type": "code",
   "execution_count": 20,
   "metadata": {},
   "outputs": [],
   "source": [
    "# Convert to normal values\n",
    "y_pred = scaler.inverse_transform(y_pred)\n",
    "y_pred_val = scaler.inverse_transform(y_pred_val)\n",
    "train_data = scaler.inverse_transform(train_data)\n",
    "test_data = scaler.inverse_transform(test_data)\n",
    "val_data = scaler.inverse_transform(val_data)"
   ]
  },
  {
   "attachments": {},
   "cell_type": "markdown",
   "metadata": {},
   "source": [
    "## Visualization"
   ]
  },
  {
   "cell_type": "code",
   "execution_count": 21,
   "metadata": {},
   "outputs": [
    {
     "data": {
      "image/png": "[encoded data removed]",
      "text/plain": [
       "<Figure size 1600x500 with 1 Axes>"
      ]
     },
     "metadata": {},
     "output_type": "display_data"
    }
   ],
   "source": [
    "plt.figure(figsize=(16,5))\n",
    "\n",
    "plt.plot(stock_ctlt.index[:train_size], train_data)\n",
    "\n",
    "plt.plot(stock_ctlt.index[train_size:train_size + val_size],val_data)\n",
    "\n",
    "plt.plot(stock_ctlt.index[train_size + time_step + 1: train_size + val_size],y_pred_val)\n",
    "\n",
    "plt.plot(stock_ctlt.index[train_size + val_size: train_size + test_size + val_size], test_data)\n",
    "\n",
    "plt.plot(stock_ctlt.index[train_size + val_size + time_step + 1: train_size + test_size + val_size],(y_pred))\n",
    "\n",
    "plt.plot(future_dates, prediction_next30_days)\n",
    "\n",
    "plt.xlabel('Date')\n",
    "plt.ylabel('Close')\n",
    "plt.title('LSTM_712_CTLT')\n",
    "plt.legend(['Train','Validate','PredictValidate','Test','PredictTest','Next30days'])\n",
    "plt.grid()\n",
    "plt.savefig('LSTM_712_CTLT.png')\n",
    "plt.show()"
   ]
  }
 ],
 "metadata": {
  "kernelspec": {
   "display_name": "base",
   "language": "python",
   "name": "python3"
  },
  "language_info": {
   "codemirror_mode": {
    "name": "ipython",
    "version": 3
   },
   "file_extension": ".py",
   "mimetype": "text/x-python",
   "name": "python",
   "nbconvert_exporter": "python",
   "pygments_lexer": "ipython3",
   "version": "3.9.16"
  },
  "orig_nbformat": 4
 },
 "nbformat": 4,
 "nbformat_minor": 2
}
