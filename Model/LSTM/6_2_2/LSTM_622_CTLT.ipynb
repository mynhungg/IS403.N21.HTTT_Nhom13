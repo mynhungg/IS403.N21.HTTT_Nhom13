{
 "cells": [
  {
   "attachments": {},
   "cell_type": "markdown",
   "metadata": {},
   "source": [
    "## Import Libraries"
   ]
  },
  {
   "cell_type": "code",
   "execution_count": 1,
   "metadata": {},
   "outputs": [
    {
     "name": "stderr",
     "output_type": "stream",
     "text": [
      "<frozen importlib._bootstrap>:228: RuntimeWarning: scipy._lib.messagestream.MessageStream size changed, may indicate binary incompatibility. Expected 56 from C header, got 64 from PyObject\n"
     ]
    }
   ],
   "source": [
    "import numpy as np\n",
    "import pandas as pd\n",
    "import matplotlib.pyplot as plt\n",
    "\n",
    "from numpy import array\n",
    "from keras.models import Sequential\n",
    "from keras.layers import Dense, LSTM, Dropout\n",
    "from keras.callbacks import EarlyStopping,ModelCheckpoint\n",
    "from sklearn.preprocessing import MinMaxScaler\n",
    "from sklearn.metrics import  mean_squared_error, mean_absolute_percentage_error, mean_squared_log_error"
   ]
  },
  {
   "attachments": {},
   "cell_type": "markdown",
   "metadata": {},
   "source": [
    "## Data preprocessing"
   ]
  },
  {
   "attachments": {},
   "cell_type": "markdown",
   "metadata": {},
   "source": [
    "### Read data"
   ]
  },
  {
   "cell_type": "code",
   "execution_count": 2,
   "metadata": {},
   "outputs": [
    {
     "data": {
      "text/html": [
       "<div>\n",
       "<style scoped>\n",
       "    .dataframe tbody tr th:only-of-type {\n",
       "        vertical-align: middle;\n",
       "    }\n",
       "\n",
       "    .dataframe tbody tr th {\n",
       "        vertical-align: top;\n",
       "    }\n",
       "\n",
       "    .dataframe thead th {\n",
       "        text-align: right;\n",
       "    }\n",
       "</style>\n",
       "<table border=\"1\" class=\"dataframe\">\n",
       "  <thead>\n",
       "    <tr style=\"text-align: right;\">\n",
       "      <th></th>\n",
       "      <th>Date</th>\n",
       "      <th>Open</th>\n",
       "      <th>High</th>\n",
       "      <th>Low</th>\n",
       "      <th>Close</th>\n",
       "      <th>Adj Close</th>\n",
       "      <th>Volume</th>\n",
       "    </tr>\n",
       "  </thead>\n",
       "  <tbody>\n",
       "    <tr>\n",
       "      <th>0</th>\n",
       "      <td>2019-01-02</td>\n",
       "      <td>30.860001</td>\n",
       "      <td>31.260000</td>\n",
       "      <td>30.240000</td>\n",
       "      <td>30.910000</td>\n",
       "      <td>30.910000</td>\n",
       "      <td>1201700</td>\n",
       "    </tr>\n",
       "    <tr>\n",
       "      <th>1</th>\n",
       "      <td>2019-01-03</td>\n",
       "      <td>30.660000</td>\n",
       "      <td>30.660000</td>\n",
       "      <td>29.290001</td>\n",
       "      <td>29.840000</td>\n",
       "      <td>29.840000</td>\n",
       "      <td>1149900</td>\n",
       "    </tr>\n",
       "    <tr>\n",
       "      <th>2</th>\n",
       "      <td>2019-01-04</td>\n",
       "      <td>30.049999</td>\n",
       "      <td>31.360001</td>\n",
       "      <td>29.940001</td>\n",
       "      <td>31.080000</td>\n",
       "      <td>31.080000</td>\n",
       "      <td>3530400</td>\n",
       "    </tr>\n",
       "    <tr>\n",
       "      <th>3</th>\n",
       "      <td>2019-01-07</td>\n",
       "      <td>31.020000</td>\n",
       "      <td>32.180000</td>\n",
       "      <td>30.850000</td>\n",
       "      <td>32.000000</td>\n",
       "      <td>32.000000</td>\n",
       "      <td>1063400</td>\n",
       "    </tr>\n",
       "    <tr>\n",
       "      <th>4</th>\n",
       "      <td>2019-01-08</td>\n",
       "      <td>32.340000</td>\n",
       "      <td>33.060001</td>\n",
       "      <td>32.150002</td>\n",
       "      <td>32.790001</td>\n",
       "      <td>32.790001</td>\n",
       "      <td>1391000</td>\n",
       "    </tr>\n",
       "    <tr>\n",
       "      <th>...</th>\n",
       "      <td>...</td>\n",
       "      <td>...</td>\n",
       "      <td>...</td>\n",
       "      <td>...</td>\n",
       "      <td>...</td>\n",
       "      <td>...</td>\n",
       "      <td>...</td>\n",
       "    </tr>\n",
       "    <tr>\n",
       "      <th>1046</th>\n",
       "      <td>2023-02-28</td>\n",
       "      <td>66.779999</td>\n",
       "      <td>68.839996</td>\n",
       "      <td>66.320000</td>\n",
       "      <td>68.220001</td>\n",
       "      <td>68.220001</td>\n",
       "      <td>1972100</td>\n",
       "    </tr>\n",
       "    <tr>\n",
       "      <th>1047</th>\n",
       "      <td>2023-03-01</td>\n",
       "      <td>67.650002</td>\n",
       "      <td>69.480003</td>\n",
       "      <td>67.269997</td>\n",
       "      <td>69.010002</td>\n",
       "      <td>69.010002</td>\n",
       "      <td>1212300</td>\n",
       "    </tr>\n",
       "    <tr>\n",
       "      <th>1048</th>\n",
       "      <td>2023-03-02</td>\n",
       "      <td>68.589996</td>\n",
       "      <td>71.245003</td>\n",
       "      <td>68.099998</td>\n",
       "      <td>71.190002</td>\n",
       "      <td>71.190002</td>\n",
       "      <td>1543600</td>\n",
       "    </tr>\n",
       "    <tr>\n",
       "      <th>1049</th>\n",
       "      <td>2023-03-03</td>\n",
       "      <td>71.540001</td>\n",
       "      <td>74.489998</td>\n",
       "      <td>71.129997</td>\n",
       "      <td>74.260002</td>\n",
       "      <td>74.260002</td>\n",
       "      <td>1925800</td>\n",
       "    </tr>\n",
       "    <tr>\n",
       "      <th>1050</th>\n",
       "      <td>2023-03-06</td>\n",
       "      <td>74.250000</td>\n",
       "      <td>74.250000</td>\n",
       "      <td>71.320000</td>\n",
       "      <td>71.339996</td>\n",
       "      <td>71.339996</td>\n",
       "      <td>1153000</td>\n",
       "    </tr>\n",
       "  </tbody>\n",
       "</table>\n",
       "<p>1051 rows × 7 columns</p>\n",
       "</div>"
      ],
      "text/plain": [
       "            Date       Open       High        Low      Close  Adj Close  \\\n",
       "0     2019-01-02  30.860001  31.260000  30.240000  30.910000  30.910000   \n",
       "1     2019-01-03  30.660000  30.660000  29.290001  29.840000  29.840000   \n",
       "2     2019-01-04  30.049999  31.360001  29.940001  31.080000  31.080000   \n",
       "3     2019-01-07  31.020000  32.180000  30.850000  32.000000  32.000000   \n",
       "4     2019-01-08  32.340000  33.060001  32.150002  32.790001  32.790001   \n",
       "...          ...        ...        ...        ...        ...        ...   \n",
       "1046  2023-02-28  66.779999  68.839996  66.320000  68.220001  68.220001   \n",
       "1047  2023-03-01  67.650002  69.480003  67.269997  69.010002  69.010002   \n",
       "1048  2023-03-02  68.589996  71.245003  68.099998  71.190002  71.190002   \n",
       "1049  2023-03-03  71.540001  74.489998  71.129997  74.260002  74.260002   \n",
       "1050  2023-03-06  74.250000  74.250000  71.320000  71.339996  71.339996   \n",
       "\n",
       "       Volume  \n",
       "0     1201700  \n",
       "1     1149900  \n",
       "2     3530400  \n",
       "3     1063400  \n",
       "4     1391000  \n",
       "...       ...  \n",
       "1046  1972100  \n",
       "1047  1212300  \n",
       "1048  1543600  \n",
       "1049  1925800  \n",
       "1050  1153000  \n",
       "\n",
       "[1051 rows x 7 columns]"
      ]
     },
     "execution_count": 2,
     "metadata": {},
     "output_type": "execute_result"
    }
   ],
   "source": [
    "stock_ctlt = pd.read_csv('../../Dataset/CTLT.csv')\n",
    "stock_ctlt"
   ]
  },
  {
   "attachments": {},
   "cell_type": "markdown",
   "metadata": {},
   "source": [
    "### Reset index"
   ]
  },
  {
   "cell_type": "code",
   "execution_count": 3,
   "metadata": {},
   "outputs": [],
   "source": [
    "# Convert the 'Date' column to datetime format\n",
    "stock_ctlt['Date'] = pd.to_datetime(stock_ctlt['Date'])\n",
    "\n",
    "# Set the 'Date' column as the index value\n",
    "stock_ctlt = stock_ctlt.set_index(pd.DatetimeIndex(stock_ctlt['Date'].values))\n",
    "\n",
    "# Create new datafram with Date and Close\n",
    "df_ctlt = pd.DataFrame(stock_ctlt, columns=['Close'])"
   ]
  },
  {
   "attachments": {},
   "cell_type": "markdown",
   "metadata": {},
   "source": [
    "### Data normalization"
   ]
  },
  {
   "cell_type": "code",
   "execution_count": 4,
   "metadata": {},
   "outputs": [],
   "source": [
    "scaler = MinMaxScaler(feature_range=(0,1))\n",
    "df_ctlt = scaler.fit_transform(np.array(df_ctlt).reshape(-1,1))"
   ]
  },
  {
   "attachments": {},
   "cell_type": "markdown",
   "metadata": {},
   "source": [
    "### Data splitting"
   ]
  },
  {
   "cell_type": "code",
   "execution_count": 5,
   "metadata": {},
   "outputs": [],
   "source": [
    "# Length\n",
    "    # Train: 60%\n",
    "    # Val: 20%\n",
    "    # Test: 20%\n",
    "train_size = int(len(df_ctlt) * 0.6)\n",
    "val_size = int(len(df_ctlt) * 0.2)\n",
    "test_size = len(df_ctlt) - train_size - val_size"
   ]
  },
  {
   "cell_type": "code",
   "execution_count": 6,
   "metadata": {},
   "outputs": [],
   "source": [
    "# Get Data \n",
    "train_data = df_ctlt[:train_size]\n",
    "val_data = df_ctlt[train_size:train_size+val_size]\n",
    "test_data = df_ctlt[train_size+val_size:]"
   ]
  },
  {
   "cell_type": "code",
   "execution_count": 7,
   "metadata": {},
   "outputs": [],
   "source": [
    "# Create dataset\n",
    "def create_dataset(dataset, time_step=1):\n",
    "\tdataX, dataY = [], []\n",
    "\tfor i in range(len(dataset) - time_step - 1):\n",
    "\t\ta = dataset[i:(i + time_step), 0]\n",
    "\t\tdataX.append(a)\n",
    "\t\tdataY.append(dataset[i + time_step, 0])\n",
    "\treturn np.array(dataX), np.array(dataY)"
   ]
  },
  {
   "cell_type": "code",
   "execution_count": 8,
   "metadata": {},
   "outputs": [],
   "source": [
    "# Reshape into X=t,t+1,t+2..t+60 and Y=t+60\n",
    "time_step = 60\n",
    "X_train, y_train = create_dataset(train_data, time_step)\n",
    "X_val, yval = create_dataset(val_data, time_step)\n",
    "X_test, ytest = create_dataset(test_data, time_step)"
   ]
  },
  {
   "cell_type": "code",
   "execution_count": 9,
   "metadata": {},
   "outputs": [],
   "source": [
    "# Make input for LSTM\n",
    "X_train = X_train.reshape(X_train.shape[0], X_train.shape[1] , 1)\n",
    "X_val = X_val.reshape(X_val.shape[0], X_val.shape[1] , 1)\n",
    "X_test = X_test.reshape(X_test.shape[0], X_test.shape[1] , 1)"
   ]
  },
  {
   "attachments": {},
   "cell_type": "markdown",
   "metadata": {},
   "source": [
    "## Model training and testing"
   ]
  },
  {
   "cell_type": "code",
   "execution_count": 10,
   "metadata": {},
   "outputs": [],
   "source": [
    "# Define model\n",
    "    # Pack the sequence of the inner layers\n",
    "model = Sequential()\n",
    "model.add(LSTM(64, return_sequences=True, input_shape = (60, 1)))\n",
    "model.add(LSTM(64, return_sequences=True))\n",
    "    # Dropout: Avoid remembering too much information => disable part of the previous data\n",
    "model.add(Dropout(0.2))\n",
    "model.add(LSTM(64))\n",
    "    # 1 Dense layer (dense): 1 unit provides predictive value\n",
    "model.add(Dense(1))\n",
    "model.compile(loss='mean_squared_error', optimizer='adam')"
   ]
  },
  {
   "cell_type": "code",
   "execution_count": 11,
   "metadata": {},
   "outputs": [],
   "source": [
    "# Using earlystopping to prevent overfitting\n",
    "earlystop = EarlyStopping(monitor='val_loss', patience=10)"
   ]
  },
  {
   "cell_type": "code",
   "execution_count": 12,
   "metadata": {},
   "outputs": [
    {
     "name": "stdout",
     "output_type": "stream",
     "text": [
      "Epoch 1/100\n",
      "9/9 [==============================] - 34s 1s/step - loss: 0.0571 - val_loss: 0.0152\n",
      "Epoch 2/100\n",
      "9/9 [==============================] - 3s 390ms/step - loss: 0.0114 - val_loss: 0.0047\n",
      "Epoch 3/100\n",
      "9/9 [==============================] - 3s 368ms/step - loss: 0.0059 - val_loss: 0.0109\n",
      "Epoch 4/100\n",
      "9/9 [==============================] - 3s 391ms/step - loss: 0.0037 - val_loss: 0.0093\n",
      "Epoch 5/100\n",
      "9/9 [==============================] - 4s 428ms/step - loss: 0.0027 - val_loss: 0.0038\n",
      "Epoch 6/100\n",
      "9/9 [==============================] - 4s 407ms/step - loss: 0.0023 - val_loss: 0.0052\n",
      "Epoch 7/100\n",
      "9/9 [==============================] - 3s 381ms/step - loss: 0.0022 - val_loss: 0.0047\n",
      "Epoch 8/100\n",
      "9/9 [==============================] - 4s 414ms/step - loss: 0.0022 - val_loss: 0.0042\n",
      "Epoch 9/100\n",
      "9/9 [==============================] - 3s 389ms/step - loss: 0.0021 - val_loss: 0.0042\n",
      "Epoch 10/100\n",
      "9/9 [==============================] - 4s 432ms/step - loss: 0.0020 - val_loss: 0.0043\n",
      "Epoch 11/100\n",
      "9/9 [==============================] - 2s 184ms/step - loss: 0.0020 - val_loss: 0.0037\n",
      "Epoch 12/100\n",
      "9/9 [==============================] - 2s 169ms/step - loss: 0.0021 - val_loss: 0.0045\n",
      "Epoch 13/100\n",
      "9/9 [==============================] - 1s 164ms/step - loss: 0.0019 - val_loss: 0.0038\n",
      "Epoch 14/100\n",
      "9/9 [==============================] - 3s 383ms/step - loss: 0.0019 - val_loss: 0.0039\n",
      "Epoch 15/100\n",
      "9/9 [==============================] - 3s 339ms/step - loss: 0.0020 - val_loss: 0.0035\n",
      "Epoch 16/100\n",
      "9/9 [==============================] - 3s 349ms/step - loss: 0.0021 - val_loss: 0.0035\n",
      "Epoch 17/100\n",
      "9/9 [==============================] - 3s 303ms/step - loss: 0.0019 - val_loss: 0.0036\n",
      "Epoch 18/100\n",
      "9/9 [==============================] - 2s 275ms/step - loss: 0.0019 - val_loss: 0.0035\n",
      "Epoch 19/100\n",
      "9/9 [==============================] - 2s 270ms/step - loss: 0.0018 - val_loss: 0.0036\n",
      "Epoch 20/100\n",
      "9/9 [==============================] - 2s 270ms/step - loss: 0.0018 - val_loss: 0.0039\n",
      "Epoch 21/100\n",
      "9/9 [==============================] - 2s 274ms/step - loss: 0.0018 - val_loss: 0.0034\n",
      "Epoch 22/100\n",
      "9/9 [==============================] - 2s 277ms/step - loss: 0.0017 - val_loss: 0.0033\n",
      "Epoch 23/100\n",
      "9/9 [==============================] - 3s 397ms/step - loss: 0.0017 - val_loss: 0.0032\n",
      "Epoch 24/100\n",
      "9/9 [==============================] - 2s 284ms/step - loss: 0.0016 - val_loss: 0.0032\n",
      "Epoch 25/100\n",
      "9/9 [==============================] - 3s 292ms/step - loss: 0.0016 - val_loss: 0.0032\n",
      "Epoch 26/100\n",
      "9/9 [==============================] - 3s 305ms/step - loss: 0.0016 - val_loss: 0.0032\n",
      "Epoch 27/100\n",
      "9/9 [==============================] - 3s 287ms/step - loss: 0.0016 - val_loss: 0.0034\n",
      "Epoch 28/100\n",
      "9/9 [==============================] - 2s 273ms/step - loss: 0.0015 - val_loss: 0.0030\n",
      "Epoch 29/100\n",
      "9/9 [==============================] - 3s 287ms/step - loss: 0.0016 - val_loss: 0.0035\n",
      "Epoch 30/100\n",
      "9/9 [==============================] - 2s 279ms/step - loss: 0.0015 - val_loss: 0.0030\n",
      "Epoch 31/100\n",
      "9/9 [==============================] - 3s 301ms/step - loss: 0.0016 - val_loss: 0.0030\n",
      "Epoch 32/100\n",
      "9/9 [==============================] - 3s 282ms/step - loss: 0.0015 - val_loss: 0.0037\n",
      "Epoch 33/100\n",
      "9/9 [==============================] - 3s 283ms/step - loss: 0.0015 - val_loss: 0.0031\n",
      "Epoch 34/100\n",
      "9/9 [==============================] - 2s 270ms/step - loss: 0.0014 - val_loss: 0.0035\n",
      "Epoch 35/100\n",
      "9/9 [==============================] - 3s 309ms/step - loss: 0.0015 - val_loss: 0.0030\n",
      "Epoch 36/100\n",
      "9/9 [==============================] - 3s 315ms/step - loss: 0.0013 - val_loss: 0.0028\n",
      "Epoch 37/100\n",
      "9/9 [==============================] - 3s 301ms/step - loss: 0.0013 - val_loss: 0.0027\n",
      "Epoch 38/100\n",
      "9/9 [==============================] - 2s 276ms/step - loss: 0.0013 - val_loss: 0.0028\n",
      "Epoch 39/100\n",
      "9/9 [==============================] - 2s 276ms/step - loss: 0.0013 - val_loss: 0.0027\n",
      "Epoch 40/100\n",
      "9/9 [==============================] - 2s 257ms/step - loss: 0.0012 - val_loss: 0.0029\n",
      "Epoch 41/100\n",
      "9/9 [==============================] - 2s 276ms/step - loss: 0.0012 - val_loss: 0.0031\n",
      "Epoch 42/100\n",
      "9/9 [==============================] - 2s 265ms/step - loss: 0.0013 - val_loss: 0.0027\n",
      "Epoch 43/100\n",
      "9/9 [==============================] - 2s 273ms/step - loss: 0.0012 - val_loss: 0.0027\n",
      "Epoch 44/100\n",
      "9/9 [==============================] - 2s 269ms/step - loss: 0.0013 - val_loss: 0.0028\n",
      "Epoch 45/100\n",
      "9/9 [==============================] - 2s 265ms/step - loss: 0.0013 - val_loss: 0.0026\n",
      "Epoch 46/100\n",
      "9/9 [==============================] - 2s 269ms/step - loss: 0.0012 - val_loss: 0.0028\n",
      "Epoch 47/100\n",
      "9/9 [==============================] - 2s 269ms/step - loss: 0.0012 - val_loss: 0.0027\n",
      "Epoch 48/100\n",
      "9/9 [==============================] - 2s 190ms/step - loss: 0.0012 - val_loss: 0.0025\n",
      "Epoch 49/100\n",
      "9/9 [==============================] - 1s 127ms/step - loss: 0.0012 - val_loss: 0.0025\n",
      "Epoch 50/100\n",
      "9/9 [==============================] - 1s 155ms/step - loss: 0.0013 - val_loss: 0.0027\n",
      "Epoch 51/100\n",
      "9/9 [==============================] - 2s 284ms/step - loss: 0.0012 - val_loss: 0.0036\n",
      "Epoch 52/100\n",
      "9/9 [==============================] - 3s 301ms/step - loss: 0.0014 - val_loss: 0.0026\n",
      "Epoch 53/100\n",
      "9/9 [==============================] - 3s 285ms/step - loss: 0.0012 - val_loss: 0.0026\n",
      "Epoch 54/100\n",
      "9/9 [==============================] - 2s 278ms/step - loss: 0.0011 - val_loss: 0.0025\n",
      "Epoch 55/100\n",
      "9/9 [==============================] - 3s 283ms/step - loss: 0.0011 - val_loss: 0.0025\n",
      "Epoch 56/100\n",
      "9/9 [==============================] - 3s 284ms/step - loss: 0.0011 - val_loss: 0.0025\n",
      "Epoch 57/100\n",
      "9/9 [==============================] - 3s 287ms/step - loss: 0.0012 - val_loss: 0.0026\n",
      "Epoch 58/100\n",
      "9/9 [==============================] - 2s 272ms/step - loss: 0.0010 - val_loss: 0.0025\n",
      "Epoch 59/100\n",
      "9/9 [==============================] - 2s 266ms/step - loss: 0.0011 - val_loss: 0.0024\n",
      "Epoch 60/100\n",
      "9/9 [==============================] - 2s 277ms/step - loss: 0.0011 - val_loss: 0.0029\n",
      "Epoch 61/100\n",
      "9/9 [==============================] - 2s 272ms/step - loss: 0.0012 - val_loss: 0.0030\n",
      "Epoch 62/100\n",
      "9/9 [==============================] - 2s 266ms/step - loss: 9.9049e-04 - val_loss: 0.0024\n",
      "Epoch 63/100\n",
      "9/9 [==============================] - 2s 268ms/step - loss: 9.9111e-04 - val_loss: 0.0023\n",
      "Epoch 64/100\n",
      "9/9 [==============================] - 2s 269ms/step - loss: 0.0010 - val_loss: 0.0022\n",
      "Epoch 65/100\n",
      "9/9 [==============================] - 2s 272ms/step - loss: 0.0011 - val_loss: 0.0026\n",
      "Epoch 66/100\n",
      "9/9 [==============================] - 2s 278ms/step - loss: 0.0011 - val_loss: 0.0023\n",
      "Epoch 67/100\n",
      "9/9 [==============================] - 2s 280ms/step - loss: 0.0011 - val_loss: 0.0027\n",
      "Epoch 68/100\n",
      "9/9 [==============================] - 2s 266ms/step - loss: 0.0012 - val_loss: 0.0022\n",
      "Epoch 69/100\n",
      "9/9 [==============================] - 2s 266ms/step - loss: 9.2877e-04 - val_loss: 0.0028\n",
      "Epoch 70/100\n",
      "9/9 [==============================] - 2s 275ms/step - loss: 9.8328e-04 - val_loss: 0.0024\n",
      "Epoch 71/100\n",
      "9/9 [==============================] - 2s 269ms/step - loss: 0.0011 - val_loss: 0.0023\n",
      "Epoch 72/100\n",
      "9/9 [==============================] - 2s 272ms/step - loss: 0.0011 - val_loss: 0.0027\n",
      "Epoch 73/100\n",
      "9/9 [==============================] - 3s 281ms/step - loss: 9.9699e-04 - val_loss: 0.0023\n",
      "Epoch 74/100\n",
      "9/9 [==============================] - 3s 293ms/step - loss: 9.5038e-04 - val_loss: 0.0022\n",
      "Epoch 75/100\n",
      "9/9 [==============================] - 3s 287ms/step - loss: 9.3286e-04 - val_loss: 0.0023\n",
      "Epoch 76/100\n",
      "9/9 [==============================] - 3s 291ms/step - loss: 9.5567e-04 - val_loss: 0.0022\n",
      "Epoch 77/100\n",
      "9/9 [==============================] - 3s 308ms/step - loss: 0.0010 - val_loss: 0.0021\n",
      "Epoch 78/100\n",
      "9/9 [==============================] - 3s 302ms/step - loss: 9.1085e-04 - val_loss: 0.0024\n",
      "Epoch 79/100\n",
      "9/9 [==============================] - 3s 290ms/step - loss: 9.6048e-04 - val_loss: 0.0021\n",
      "Epoch 80/100\n",
      "9/9 [==============================] - 3s 293ms/step - loss: 0.0010 - val_loss: 0.0026\n",
      "Epoch 81/100\n",
      "9/9 [==============================] - 3s 291ms/step - loss: 9.1525e-04 - val_loss: 0.0022\n",
      "Epoch 82/100\n",
      "9/9 [==============================] - 2s 273ms/step - loss: 8.6755e-04 - val_loss: 0.0020\n",
      "Epoch 83/100\n",
      "9/9 [==============================] - 2s 273ms/step - loss: 8.3823e-04 - val_loss: 0.0021\n",
      "Epoch 84/100\n",
      "9/9 [==============================] - 2s 270ms/step - loss: 8.9713e-04 - val_loss: 0.0023\n",
      "Epoch 85/100\n",
      "9/9 [==============================] - 2s 271ms/step - loss: 9.7807e-04 - val_loss: 0.0021\n",
      "Epoch 86/100\n",
      "9/9 [==============================] - 2s 274ms/step - loss: 0.0011 - val_loss: 0.0023\n",
      "Epoch 87/100\n",
      "9/9 [==============================] - 2s 267ms/step - loss: 0.0010 - val_loss: 0.0022\n",
      "Epoch 88/100\n",
      "9/9 [==============================] - 2s 270ms/step - loss: 9.1067e-04 - val_loss: 0.0022\n",
      "Epoch 89/100\n",
      "9/9 [==============================] - 2s 272ms/step - loss: 9.0093e-04 - val_loss: 0.0021\n",
      "Epoch 90/100\n",
      "9/9 [==============================] - 2s 274ms/step - loss: 8.5513e-04 - val_loss: 0.0021\n",
      "Epoch 91/100\n",
      "9/9 [==============================] - 3s 296ms/step - loss: 8.7954e-04 - val_loss: 0.0019\n",
      "Epoch 92/100\n",
      "9/9 [==============================] - 2s 270ms/step - loss: 8.5151e-04 - val_loss: 0.0019\n",
      "Epoch 93/100\n",
      "9/9 [==============================] - 3s 308ms/step - loss: 8.2530e-04 - val_loss: 0.0027\n",
      "Epoch 94/100\n",
      "9/9 [==============================] - 3s 359ms/step - loss: 0.0010 - val_loss: 0.0021\n",
      "Epoch 95/100\n",
      "9/9 [==============================] - 2s 272ms/step - loss: 9.9512e-04 - val_loss: 0.0020\n",
      "Epoch 96/100\n",
      "9/9 [==============================] - 2s 272ms/step - loss: 8.5251e-04 - val_loss: 0.0021\n",
      "Epoch 97/100\n",
      "9/9 [==============================] - 2s 265ms/step - loss: 8.9087e-04 - val_loss: 0.0021\n",
      "Epoch 98/100\n",
      "9/9 [==============================] - 2s 270ms/step - loss: 8.4670e-04 - val_loss: 0.0019\n",
      "Epoch 99/100\n",
      "9/9 [==============================] - 2s 270ms/step - loss: 8.0752e-04 - val_loss: 0.0020\n",
      "Epoch 100/100\n",
      "9/9 [==============================] - 2s 254ms/step - loss: 8.2314e-04 - val_loss: 0.0021\n"
     ]
    },
    {
     "data": {
      "text/plain": [
       "<keras.callbacks.History at 0x1d42e574d30>"
      ]
     },
     "execution_count": 12,
     "metadata": {},
     "output_type": "execute_result"
    }
   ],
   "source": [
    "# Training LSTM model\n",
    "model.fit(X_train, y_train, validation_data=(X_val, yval), epochs = 100, batch_size = 64,verbose = 1,  callbacks=earlystop)"
   ]
  },
  {
   "attachments": {},
   "cell_type": "markdown",
   "metadata": {},
   "source": [
    "### Testing process"
   ]
  },
  {
   "cell_type": "code",
   "execution_count": 13,
   "metadata": {},
   "outputs": [
    {
     "name": "stdout",
     "output_type": "stream",
     "text": [
      "5/5 [==============================] - 5s 60ms/step\n",
      "5/5 [==============================] - 0s 56ms/step\n"
     ]
    }
   ],
   "source": [
    "# Predict\n",
    "    # Test\n",
    "y_pred = model.predict(X_test)\n",
    "    # Validation\n",
    "y_pred_val = model.predict(X_val)"
   ]
  },
  {
   "attachments": {},
   "cell_type": "markdown",
   "metadata": {},
   "source": [
    "### Evaluate model"
   ]
  },
  {
   "cell_type": "code",
   "execution_count": 14,
   "metadata": {},
   "outputs": [
    {
     "name": "stdout",
     "output_type": "stream",
     "text": [
      "Validation MAPE:  0.05274755011782216\n",
      "Validation RMSE:  0.04539093331290011\n",
      "Validation MSLE:  0.0006583158581400748\n"
     ]
    }
   ],
   "source": [
    "# Evaluate the accuracy of validation\n",
    "val_mape = mean_absolute_percentage_error(y_pred_val, yval)\n",
    "val_mse = mean_squared_error(y_pred_val, yval)\n",
    "val_rmse = np.sqrt(val_mse)\n",
    "val_msle = mean_squared_log_error(y_pred_val, yval)\n",
    "\n",
    "print(f\"Validation MAPE: \", val_mape)\n",
    "print(f\"Validation RMSE: \", val_rmse)\n",
    "print(f\"Validation MSLE: \", val_msle)"
   ]
  },
  {
   "cell_type": "code",
   "execution_count": 15,
   "metadata": {},
   "outputs": [
    {
     "name": "stdout",
     "output_type": "stream",
     "text": [
      "Testing MAPE:  0.14730987779974514\n",
      "Testing RMSE:  0.059077690987649874\n",
      "Testing MSLE:  0.0020563103742456054\n"
     ]
    }
   ],
   "source": [
    "# Evaluate the accuracy of test\n",
    "test_mape = mean_absolute_percentage_error(y_pred, ytest)\n",
    "test_mse = mean_squared_error(y_pred, ytest)\n",
    "test_rmse = np.sqrt(test_mse)\n",
    "test_msle = mean_squared_log_error(y_pred, ytest)\n",
    "\n",
    "print(f\"Testing MAPE: \", test_mape)\n",
    "print(f\"Testing RMSE: \", test_rmse)\n",
    "print(f\"Testing MSLE: \", test_msle)"
   ]
  },
  {
   "attachments": {},
   "cell_type": "markdown",
   "metadata": {},
   "source": [
    "## Predicting the next 30 days"
   ]
  },
  {
   "attachments": {},
   "cell_type": "markdown",
   "metadata": {},
   "source": [
    "### Preparing the prediction data"
   ]
  },
  {
   "cell_type": "code",
   "execution_count": 16,
   "metadata": {},
   "outputs": [],
   "source": [
    "x_input = val_data[5:].reshape(1,-1)\n",
    "temp_input = list(x_input)\n",
    "temp_input = temp_input[0].tolist()\n",
    "\n",
    "# Define i\n",
    "i = 0\n",
    "\n",
    "# List storage value for next 30 days\n",
    "prediction_next30_days = []\n",
    "\n",
    "while(i < 30):\n",
    "    if(len(temp_input) > time_step):\n",
    "        x_input = np.array(temp_input[-time_step:])\n",
    "\n",
    "        x_input = x_input.reshape((1, time_step, 1))\n",
    "        y_hat = model.predict(x_input, verbose=0)\n",
    "\n",
    "        temp_input.extend(y_hat[0].tolist())\n",
    "        temp_input = temp_input[1:]\n",
    "\n",
    "        prediction_next30_days.extend(y_hat.tolist())\n",
    "        i = i + 1\n",
    "    else:\n",
    "        x_input = x_input.reshape((1, time_step, 1))\n",
    "        y_hat = model.predict(x_input, verbose = 0)\n",
    "\n",
    "        temp_input.extend(y_hat[0].tolist())\n",
    "\n",
    "        prediction_next30_days.extend(y_hat.tolist())\n",
    "        i = i + 1"
   ]
  },
  {
   "cell_type": "code",
   "execution_count": 17,
   "metadata": {},
   "outputs": [
    {
     "name": "stdout",
     "output_type": "stream",
     "text": [
      "[[0.5285660028457642], [0.5316165685653687], [0.5353241562843323], [0.5393717885017395], [0.5435627102851868], [0.5479303598403931], [0.5524552464485168], [0.5570946931838989], [0.5618094801902771], [0.5665697455406189], [0.5713596343994141], [0.5760886073112488], [0.5807414054870605], [0.5853064060211182], [0.5896255970001221], [0.5936940312385559], [0.5975294709205627], [0.6010963916778564], [0.6043625473976135], [0.6073276400566101], [0.6099856495857239], [0.6123318672180176], [0.61439448595047], [0.6160611510276794], [0.6174049973487854], [0.6184538006782532], [0.6191907525062561], [0.6196103096008301], [0.6196577548980713], [0.6193886399269104]]\n"
     ]
    }
   ],
   "source": [
    "# Print predict next 30 days\n",
    "print(prediction_next30_days)"
   ]
  },
  {
   "attachments": {},
   "cell_type": "markdown",
   "metadata": {},
   "source": [
    "### Preparing the forecast date index"
   ]
  },
  {
   "cell_type": "code",
   "execution_count": 18,
   "metadata": {},
   "outputs": [],
   "source": [
    "# Get the last date from the current index\n",
    "last_date = stock_ctlt.index.max()\n",
    "\n",
    "# Create a list of indices starting from the next date for 30 days\n",
    "future_dates = pd.date_range(start=pd.to_datetime(last_date) + pd.DateOffset(days=1), periods=30, freq='D')"
   ]
  },
  {
   "cell_type": "code",
   "execution_count": 19,
   "metadata": {},
   "outputs": [],
   "source": [
    "# Convert from list to array\n",
    "prediction_next30_days = np.array(prediction_next30_days)\n",
    "\n",
    "# Convert to normal values from 0, 1\n",
    "prediction_next30_days = scaler.inverse_transform(prediction_next30_days).reshape(-1)"
   ]
  },
  {
   "cell_type": "code",
   "execution_count": 20,
   "metadata": {},
   "outputs": [],
   "source": [
    "# Convert to normal values\n",
    "y_pred = scaler.inverse_transform(y_pred)\n",
    "y_pred_val = scaler.inverse_transform(y_pred_val)\n",
    "train_data = scaler.inverse_transform(train_data)\n",
    "test_data = scaler.inverse_transform(test_data)\n",
    "val_data = scaler.inverse_transform(val_data)"
   ]
  },
  {
   "attachments": {},
   "cell_type": "markdown",
   "metadata": {},
   "source": [
    "## Visualization"
   ]
  },
  {
   "cell_type": "code",
   "execution_count": 21,
   "metadata": {},
   "outputs": [
    {
     "data": {
      "image/png": "[encoded data removed]",
      "text/plain": [
       "<Figure size 1600x500 with 1 Axes>"
      ]
     },
     "metadata": {},
     "output_type": "display_data"
    }
   ],
   "source": [
    "plt.figure(figsize=(16,5))\n",
    "\n",
    "plt.plot(stock_ctlt.index[:train_size], train_data)\n",
    "\n",
    "plt.plot(stock_ctlt.index[train_size:train_size + val_size],val_data)\n",
    "\n",
    "plt.plot(stock_ctlt.index[train_size + time_step + 1: train_size + val_size],y_pred_val)\n",
    "\n",
    "plt.plot(stock_ctlt.index[train_size + val_size: train_size + test_size + val_size], test_data)\n",
    "\n",
    "plt.plot(stock_ctlt.index[train_size + val_size + time_step + 1: train_size + test_size + val_size],(y_pred))\n",
    "\n",
    "plt.plot(future_dates, prediction_next30_days)\n",
    "\n",
    "plt.xlabel('Date')\n",
    "plt.ylabel('Close')\n",
    "plt.title('LSTM_622_CTLT')\n",
    "plt.legend(['Train','Validate','PredictValidate','Test','PredictTest','Next30days'])\n",
    "plt.grid()\n",
    "plt.savefig('LSTM_622_CTLT.png')\n",
    "plt.show()"
   ]
  }
 ],
 "metadata": {
  "kernelspec": {
   "display_name": "base",
   "language": "python",
   "name": "python3"
  },
  "language_info": {
   "codemirror_mode": {
    "name": "ipython",
    "version": 3
   },
   "file_extension": ".py",
   "mimetype": "text/x-python",
   "name": "python",
   "nbconvert_exporter": "python",
   "pygments_lexer": "ipython3",
   "version": "3.9.16"
  },
  "orig_nbformat": 4
 },
 "nbformat": 4,
 "nbformat_minor": 2
}
