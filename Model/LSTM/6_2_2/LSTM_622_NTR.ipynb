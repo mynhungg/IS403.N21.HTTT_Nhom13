{
 "cells": [
  {
   "attachments": {},
   "cell_type": "markdown",
   "metadata": {},
   "source": [
    "                            - DỰ ĐOÁN GIÁ CLOSE CHO TẬP DỮ LIỆU CTLT.csv"
   ]
  },
  {
   "attachments": {},
   "cell_type": "markdown",
   "metadata": {},
   "source": [
    "IMPORT THƯ VIỆN"
   ]
  },
  {
   "cell_type": "code",
   "execution_count": 1,
   "metadata": {},
   "outputs": [
    {
     "name": "stderr",
     "output_type": "stream",
     "text": [
      "<frozen importlib._bootstrap>:228: RuntimeWarning: scipy._lib.messagestream.MessageStream size changed, may indicate binary incompatibility. Expected 56 from C header, got 64 from PyObject\n"
     ]
    }
   ],
   "source": [
    "import numpy as np\n",
    "import pandas as pd\n",
    "import matplotlib.pyplot as plt\n",
    "\n",
    "from numpy import array\n",
    "from keras.models import Sequential\n",
    "from keras.layers import Dense, LSTM\n",
    "from keras.callbacks import EarlyStopping,ModelCheckpoint\n",
    "from sklearn.preprocessing import MinMaxScaler\n",
    "from sklearn.metrics import mean_absolute_error, mean_squared_error, mean_absolute_percentage_error"
   ]
  },
  {
   "attachments": {},
   "cell_type": "markdown",
   "metadata": {},
   "source": [
    "ĐỌC DỮ LIỆU"
   ]
  },
  {
   "cell_type": "code",
   "execution_count": 2,
   "metadata": {},
   "outputs": [],
   "source": [
    "# Đọc dữ liệu\n",
    "stock_ntr = pd.read_csv('../../Dataset/NTR.csv')\n",
    "\n",
    "# Column Date là object => đổi sang dạng datetime\n",
    "stock_ntr['Date'] = pd.to_datetime(stock_ntr.Date,format='%Y/%m/%d')\n",
    "\n",
    "# Cho Cột Date làm giá trị index => in đc giá trị x là cột Date\n",
    "stock_ntr = stock_ntr.set_index(pd.DatetimeIndex(stock_ntr['Date'].values))"
   ]
  },
  {
   "attachments": {},
   "cell_type": "markdown",
   "metadata": {},
   "source": [
    "THÔNG SỐ TẬP DỮ LIỆU"
   ]
  },
  {
   "cell_type": "code",
   "execution_count": 3,
   "metadata": {},
   "outputs": [
    {
     "name": "stdout",
     "output_type": "stream",
     "text": [
      "Độ dài giá trị có trong cột Close:  1051\n",
      "Giá trị max của cột Close: 114.5\n",
      "Giá trị min của cột Close: 25.1\n",
      "Q1: 48.0550005\n",
      "Q2: 54.439999\n",
      "Q3: 73.9350015\n"
     ]
    }
   ],
   "source": [
    "print(\"Độ dài giá trị có trong cột Close: \", stock_ntr['Close'].count())\n",
    "print(\"Giá trị max của cột Close:\", stock_ntr['Close'].max())\n",
    "print(\"Giá trị min của cột Close:\", stock_ntr['Close'].min())\n",
    "print(\"Q1:\", np.percentile(stock_ntr['Close'], 25))\n",
    "print(\"Q2:\", np.percentile(stock_ntr['Close'], 50))\n",
    "print(\"Q3:\", np.percentile(stock_ntr['Close'], 75))"
   ]
  },
  {
   "attachments": {},
   "cell_type": "markdown",
   "metadata": {},
   "source": [
    "CHUẨN HÓA DỮ LIỆU"
   ]
  },
  {
   "cell_type": "code",
   "execution_count": 4,
   "metadata": {},
   "outputs": [],
   "source": [
    "# Tạo dataframe mới chỉ chứa cột Date và giá trị Close\n",
    "df_ntr = pd.DataFrame(stock_ntr, columns=['Date', 'Close'])\n",
    "\n",
    "# Bỏ cột date khỏi dataframe\n",
    "df_ntr.drop('Date', axis=1, inplace=True)"
   ]
  },
  {
   "cell_type": "code",
   "execution_count": 5,
   "metadata": {},
   "outputs": [],
   "source": [
    "scaler = MinMaxScaler(feature_range=(0,1))\n",
    "df_ntr = scaler.fit_transform(np.array(df_ntr).reshape(-1,1))"
   ]
  },
  {
   "attachments": {},
   "cell_type": "markdown",
   "metadata": {},
   "source": [
    "CHIA CÁC TẬP DỮ LIỆU"
   ]
  },
  {
   "cell_type": "code",
   "execution_count": 6,
   "metadata": {},
   "outputs": [],
   "source": [
    "# Tính độ dài\n",
    "    # Train: 60%\n",
    "    # Test: 20%\n",
    "    # Val: 20%\n",
    "train_size = int(len(df_ntr) * 0.6)\n",
    "test_size = int(len(df_ntr) * 0.2)\n",
    "val_size = len(df_ntr) - train_size - test_size"
   ]
  },
  {
   "cell_type": "code",
   "execution_count": 7,
   "metadata": {},
   "outputs": [],
   "source": [
    "# Lấy dữ liệu\n",
    "train_data = df_ntr[:train_size]\n",
    "test_data = df_ntr[train_size:train_size+test_size]\n",
    "val_data = df_ntr[train_size+test_size:]"
   ]
  },
  {
   "cell_type": "code",
   "execution_count": 8,
   "metadata": {},
   "outputs": [],
   "source": [
    "# Tạo dataset cho X, Y train, test, val\n",
    "def create_dataset(dataset, time_step=1):\n",
    "\tdataX, dataY = [], []\n",
    "\tfor i in range(len(dataset) - time_step - 1):\n",
    "\t\ta = dataset[i:(i + time_step), 0]\n",
    "\t\tdataX.append(a)\n",
    "\t\tdataY.append(dataset[i + time_step, 0])\n",
    "\treturn np.array(dataX), np.array(dataY)"
   ]
  },
  {
   "cell_type": "code",
   "execution_count": 9,
   "metadata": {},
   "outputs": [],
   "source": [
    "time_step = 100\n",
    "X_train, y_train = create_dataset(train_data, time_step)\n",
    "X_test, ytest = create_dataset(test_data, time_step)\n",
    "X_val, yval = create_dataset(val_data, time_step)"
   ]
  },
  {
   "cell_type": "code",
   "execution_count": 10,
   "metadata": {},
   "outputs": [],
   "source": [
    "X_train = X_train.reshape(X_train.shape[0], X_train.shape[1] , 1)\n",
    "X_test = X_test.reshape(X_test.shape[0], X_test.shape[1] , 1)\n",
    "X_val = X_val.reshape(X_val.shape[0], X_val.shape[1] , 1)"
   ]
  },
  {
   "attachments": {},
   "cell_type": "markdown",
   "metadata": {},
   "source": [
    "HUẤN LUYỆN VÀ TRAIN MÔ HÌNH"
   ]
  },
  {
   "cell_type": "code",
   "execution_count": 11,
   "metadata": {},
   "outputs": [],
   "source": [
    "# Định nghĩa mô hình\n",
    "model = Sequential()\n",
    "model.add(LSTM(64, return_sequences=True, input_shape = (100, 1)))\n",
    "model.add(LSTM(64, return_sequences=True))\n",
    "model.add(LSTM(64))\n",
    "model.add(Dense(1))\n",
    "model.compile(loss='mean_squared_error', optimizer='adam')"
   ]
  },
  {
   "cell_type": "code",
   "execution_count": 12,
   "metadata": {},
   "outputs": [],
   "source": [
    "# Sử dụng early stoping để dừng khi không có cải thiện\n",
    "earlystop = EarlyStopping(monitor='val_loss', patience=10)"
   ]
  },
  {
   "cell_type": "code",
   "execution_count": 13,
   "metadata": {},
   "outputs": [
    {
     "name": "stdout",
     "output_type": "stream",
     "text": [
      "Epoch 1/100\n",
      "9/9 [==============================] - 15s 441ms/step - loss: 0.0173 - val_loss: 0.0863\n",
      "Epoch 2/100\n",
      "9/9 [==============================] - 2s 200ms/step - loss: 0.0045 - val_loss: 0.0256\n",
      "Epoch 3/100\n",
      "9/9 [==============================] - 3s 391ms/step - loss: 0.0027 - val_loss: 0.0503\n",
      "Epoch 4/100\n",
      "9/9 [==============================] - 7s 704ms/step - loss: 0.0019 - val_loss: 0.0141\n",
      "Epoch 5/100\n",
      "9/9 [==============================] - 4s 441ms/step - loss: 0.0013 - val_loss: 0.0126\n",
      "Epoch 6/100\n",
      "9/9 [==============================] - 3s 381ms/step - loss: 0.0010 - val_loss: 0.0066\n",
      "Epoch 7/100\n",
      "9/9 [==============================] - 4s 424ms/step - loss: 9.8529e-04 - val_loss: 0.0049\n",
      "Epoch 8/100\n",
      "9/9 [==============================] - 3s 325ms/step - loss: 0.0010 - val_loss: 0.0078\n",
      "Epoch 9/100\n",
      "9/9 [==============================] - 3s 299ms/step - loss: 9.5720e-04 - val_loss: 0.0062\n",
      "Epoch 10/100\n",
      "9/9 [==============================] - 3s 308ms/step - loss: 9.3520e-04 - val_loss: 0.0061\n",
      "Epoch 11/100\n",
      "9/9 [==============================] - 3s 298ms/step - loss: 9.5739e-04 - val_loss: 0.0070\n",
      "Epoch 12/100\n",
      "9/9 [==============================] - 3s 354ms/step - loss: 9.7279e-04 - val_loss: 0.0063\n",
      "Epoch 13/100\n",
      "9/9 [==============================] - 3s 362ms/step - loss: 9.0881e-04 - val_loss: 0.0057\n",
      "Epoch 14/100\n",
      "9/9 [==============================] - 5s 573ms/step - loss: 9.1812e-04 - val_loss: 0.0044\n",
      "Epoch 15/100\n",
      "9/9 [==============================] - 4s 374ms/step - loss: 8.9099e-04 - val_loss: 0.0052\n",
      "Epoch 16/100\n",
      "9/9 [==============================] - 3s 281ms/step - loss: 8.6491e-04 - val_loss: 0.0044\n",
      "Epoch 17/100\n",
      "9/9 [==============================] - 2s 265ms/step - loss: 8.6663e-04 - val_loss: 0.0045\n",
      "Epoch 18/100\n",
      "9/9 [==============================] - 2s 263ms/step - loss: 8.4789e-04 - val_loss: 0.0043\n",
      "Epoch 19/100\n",
      "9/9 [==============================] - 2s 257ms/step - loss: 8.3641e-04 - val_loss: 0.0050\n",
      "Epoch 20/100\n",
      "9/9 [==============================] - 2s 244ms/step - loss: 8.3211e-04 - val_loss: 0.0043\n",
      "Epoch 21/100\n",
      "9/9 [==============================] - 2s 266ms/step - loss: 8.1939e-04 - val_loss: 0.0041\n",
      "Epoch 22/100\n",
      "9/9 [==============================] - 3s 290ms/step - loss: 8.1494e-04 - val_loss: 0.0041\n",
      "Epoch 23/100\n",
      "9/9 [==============================] - 2s 263ms/step - loss: 8.0515e-04 - val_loss: 0.0041\n",
      "Epoch 24/100\n",
      "9/9 [==============================] - 2s 252ms/step - loss: 7.8023e-04 - val_loss: 0.0041\n",
      "Epoch 25/100\n",
      "9/9 [==============================] - 2s 266ms/step - loss: 7.6594e-04 - val_loss: 0.0042\n",
      "Epoch 26/100\n",
      "9/9 [==============================] - 2s 262ms/step - loss: 7.6274e-04 - val_loss: 0.0050\n",
      "Epoch 27/100\n",
      "9/9 [==============================] - 2s 257ms/step - loss: 8.5881e-04 - val_loss: 0.0044\n",
      "Epoch 28/100\n",
      "9/9 [==============================] - 3s 300ms/step - loss: 7.3837e-04 - val_loss: 0.0042\n",
      "Epoch 29/100\n",
      "9/9 [==============================] - 2s 254ms/step - loss: 7.5673e-04 - val_loss: 0.0039\n",
      "Epoch 30/100\n",
      "9/9 [==============================] - 2s 242ms/step - loss: 7.4571e-04 - val_loss: 0.0039\n",
      "Epoch 31/100\n",
      "9/9 [==============================] - 2s 255ms/step - loss: 7.2106e-04 - val_loss: 0.0045\n",
      "Epoch 32/100\n",
      "9/9 [==============================] - 2s 266ms/step - loss: 7.1415e-04 - val_loss: 0.0039\n",
      "Epoch 33/100\n",
      "9/9 [==============================] - 2s 279ms/step - loss: 6.8811e-04 - val_loss: 0.0039\n",
      "Epoch 34/100\n",
      "9/9 [==============================] - 2s 248ms/step - loss: 7.0140e-04 - val_loss: 0.0047\n",
      "Epoch 35/100\n",
      "9/9 [==============================] - 2s 212ms/step - loss: 9.5472e-04 - val_loss: 0.0051\n",
      "Epoch 36/100\n",
      "9/9 [==============================] - 2s 242ms/step - loss: 7.5674e-04 - val_loss: 0.0042\n",
      "Epoch 37/100\n",
      "9/9 [==============================] - 3s 326ms/step - loss: 6.5601e-04 - val_loss: 0.0037\n",
      "Epoch 38/100\n",
      "9/9 [==============================] - 2s 269ms/step - loss: 6.7082e-04 - val_loss: 0.0039\n",
      "Epoch 39/100\n",
      "9/9 [==============================] - 2s 277ms/step - loss: 6.8683e-04 - val_loss: 0.0035\n",
      "Epoch 40/100\n",
      "9/9 [==============================] - 3s 305ms/step - loss: 6.6519e-04 - val_loss: 0.0034\n",
      "Epoch 41/100\n",
      "9/9 [==============================] - 2s 264ms/step - loss: 6.3898e-04 - val_loss: 0.0040\n",
      "Epoch 42/100\n",
      "9/9 [==============================] - 3s 318ms/step - loss: 6.3645e-04 - val_loss: 0.0052\n",
      "Epoch 43/100\n",
      "9/9 [==============================] - 3s 320ms/step - loss: 7.1343e-04 - val_loss: 0.0034\n",
      "Epoch 44/100\n",
      "9/9 [==============================] - 2s 273ms/step - loss: 6.0007e-04 - val_loss: 0.0034\n",
      "Epoch 45/100\n",
      "9/9 [==============================] - 4s 411ms/step - loss: 5.6229e-04 - val_loss: 0.0035\n",
      "Epoch 46/100\n",
      "9/9 [==============================] - 3s 317ms/step - loss: 5.5498e-04 - val_loss: 0.0035\n",
      "Epoch 47/100\n",
      "9/9 [==============================] - 6s 706ms/step - loss: 5.6936e-04 - val_loss: 0.0031\n",
      "Epoch 48/100\n",
      "9/9 [==============================] - 3s 300ms/step - loss: 5.4294e-04 - val_loss: 0.0031\n",
      "Epoch 49/100\n",
      "9/9 [==============================] - 4s 492ms/step - loss: 5.2902e-04 - val_loss: 0.0031\n",
      "Epoch 50/100\n",
      "9/9 [==============================] - 3s 328ms/step - loss: 5.1674e-04 - val_loss: 0.0031\n",
      "Epoch 51/100\n",
      "9/9 [==============================] - 3s 305ms/step - loss: 5.1699e-04 - val_loss: 0.0033\n",
      "Epoch 52/100\n",
      "9/9 [==============================] - 3s 281ms/step - loss: 5.6781e-04 - val_loss: 0.0032\n",
      "Epoch 53/100\n",
      "9/9 [==============================] - 3s 283ms/step - loss: 4.7196e-04 - val_loss: 0.0032\n",
      "Epoch 54/100\n",
      "9/9 [==============================] - 3s 274ms/step - loss: 4.5575e-04 - val_loss: 0.0035\n",
      "Epoch 55/100\n",
      "9/9 [==============================] - 3s 290ms/step - loss: 4.5900e-04 - val_loss: 0.0039\n",
      "Epoch 56/100\n",
      "9/9 [==============================] - 3s 363ms/step - loss: 4.7176e-04 - val_loss: 0.0035\n",
      "Epoch 57/100\n",
      "9/9 [==============================] - 3s 297ms/step - loss: 4.2193e-04 - val_loss: 0.0032\n",
      "Epoch 58/100\n",
      "9/9 [==============================] - 3s 300ms/step - loss: 4.0747e-04 - val_loss: 0.0032\n",
      "Epoch 59/100\n",
      "9/9 [==============================] - 3s 283ms/step - loss: 4.1945e-04 - val_loss: 0.0030\n",
      "Epoch 60/100\n",
      "9/9 [==============================] - 2s 272ms/step - loss: 4.0724e-04 - val_loss: 0.0035\n",
      "Epoch 61/100\n",
      "9/9 [==============================] - 3s 303ms/step - loss: 3.9821e-04 - val_loss: 0.0046\n",
      "Epoch 62/100\n",
      "9/9 [==============================] - 3s 309ms/step - loss: 3.8773e-04 - val_loss: 0.0030\n",
      "Epoch 63/100\n",
      "9/9 [==============================] - 3s 321ms/step - loss: 4.1968e-04 - val_loss: 0.0030\n",
      "Epoch 64/100\n",
      "9/9 [==============================] - 3s 286ms/step - loss: 3.7413e-04 - val_loss: 0.0036\n",
      "Epoch 65/100\n",
      "9/9 [==============================] - 3s 278ms/step - loss: 3.5146e-04 - val_loss: 0.0032\n",
      "Epoch 66/100\n",
      "9/9 [==============================] - 3s 291ms/step - loss: 3.4103e-04 - val_loss: 0.0029\n",
      "Epoch 67/100\n",
      "9/9 [==============================] - 3s 327ms/step - loss: 3.4385e-04 - val_loss: 0.0037\n",
      "Epoch 68/100\n",
      "9/9 [==============================] - 3s 321ms/step - loss: 3.2321e-04 - val_loss: 0.0041\n",
      "Epoch 69/100\n",
      "9/9 [==============================] - 3s 303ms/step - loss: 3.1965e-04 - val_loss: 0.0032\n",
      "Epoch 70/100\n",
      "9/9 [==============================] - 3s 302ms/step - loss: 3.4632e-04 - val_loss: 0.0027\n",
      "Epoch 71/100\n",
      "9/9 [==============================] - 2s 251ms/step - loss: 3.7573e-04 - val_loss: 0.0035\n",
      "Epoch 72/100\n",
      "9/9 [==============================] - 2s 236ms/step - loss: 3.7188e-04 - val_loss: 0.0022\n",
      "Epoch 73/100\n",
      "9/9 [==============================] - 2s 243ms/step - loss: 3.2117e-04 - val_loss: 0.0024\n",
      "Epoch 74/100\n",
      "9/9 [==============================] - 2s 236ms/step - loss: 3.0191e-04 - val_loss: 0.0028\n",
      "Epoch 75/100\n",
      "9/9 [==============================] - 3s 284ms/step - loss: 2.9970e-04 - val_loss: 0.0025\n",
      "Epoch 76/100\n",
      "9/9 [==============================] - 3s 290ms/step - loss: 2.9319e-04 - val_loss: 0.0023\n",
      "Epoch 77/100\n",
      "9/9 [==============================] - 2s 258ms/step - loss: 3.4199e-04 - val_loss: 0.0021\n",
      "Epoch 78/100\n",
      "9/9 [==============================] - 2s 243ms/step - loss: 3.4199e-04 - val_loss: 0.0024\n",
      "Epoch 79/100\n",
      "9/9 [==============================] - 2s 232ms/step - loss: 2.8468e-04 - val_loss: 0.0018\n",
      "Epoch 80/100\n",
      "9/9 [==============================] - 2s 242ms/step - loss: 3.1597e-04 - val_loss: 0.0026\n",
      "Epoch 81/100\n",
      "9/9 [==============================] - 2s 238ms/step - loss: 3.3402e-04 - val_loss: 0.0018\n",
      "Epoch 82/100\n",
      "9/9 [==============================] - 2s 230ms/step - loss: 2.8400e-04 - val_loss: 0.0017\n",
      "Epoch 83/100\n",
      "9/9 [==============================] - 2s 242ms/step - loss: 2.7913e-04 - val_loss: 0.0020\n",
      "Epoch 84/100\n",
      "9/9 [==============================] - 2s 243ms/step - loss: 2.8519e-04 - val_loss: 0.0028\n",
      "Epoch 85/100\n",
      "9/9 [==============================] - 2s 235ms/step - loss: 2.9913e-04 - val_loss: 0.0019\n",
      "Epoch 86/100\n",
      "9/9 [==============================] - 2s 252ms/step - loss: 2.7367e-04 - val_loss: 0.0017\n",
      "Epoch 87/100\n",
      "9/9 [==============================] - 2s 245ms/step - loss: 2.6266e-04 - val_loss: 0.0017\n",
      "Epoch 88/100\n",
      "9/9 [==============================] - 2s 251ms/step - loss: 2.5779e-04 - val_loss: 0.0018\n",
      "Epoch 89/100\n",
      "9/9 [==============================] - 2s 240ms/step - loss: 2.6351e-04 - val_loss: 0.0016\n",
      "Epoch 90/100\n",
      "9/9 [==============================] - 2s 263ms/step - loss: 2.5052e-04 - val_loss: 0.0015\n",
      "Epoch 91/100\n",
      "9/9 [==============================] - 2s 265ms/step - loss: 2.5823e-04 - val_loss: 0.0015\n",
      "Epoch 92/100\n",
      "9/9 [==============================] - 2s 262ms/step - loss: 2.5897e-04 - val_loss: 0.0015\n",
      "Epoch 93/100\n",
      "9/9 [==============================] - 2s 260ms/step - loss: 2.8171e-04 - val_loss: 0.0015\n",
      "Epoch 94/100\n",
      "9/9 [==============================] - 2s 245ms/step - loss: 2.9185e-04 - val_loss: 0.0016\n",
      "Epoch 95/100\n",
      "9/9 [==============================] - 2s 266ms/step - loss: 2.4466e-04 - val_loss: 0.0021\n",
      "Epoch 96/100\n",
      "9/9 [==============================] - 2s 267ms/step - loss: 2.4960e-04 - val_loss: 0.0015\n",
      "Epoch 97/100\n",
      "9/9 [==============================] - 2s 245ms/step - loss: 2.4617e-04 - val_loss: 0.0014\n",
      "Epoch 98/100\n",
      "9/9 [==============================] - 3s 318ms/step - loss: 2.3406e-04 - val_loss: 0.0013\n",
      "Epoch 99/100\n",
      "9/9 [==============================] - 2s 246ms/step - loss: 2.4058e-04 - val_loss: 0.0018\n",
      "Epoch 100/100\n",
      "9/9 [==============================] - 2s 240ms/step - loss: 2.3402e-04 - val_loss: 0.0013\n"
     ]
    },
    {
     "data": {
      "text/plain": [
       "<keras.callbacks.History at 0x1dee0e3d400>"
      ]
     },
     "execution_count": 13,
     "metadata": {},
     "output_type": "execute_result"
    }
   ],
   "source": [
    "# Train mô hình\n",
    "model.fit(X_train, y_train, validation_data=(X_test, ytest), epochs = 100, batch_size = 64,verbose = 1,  callbacks=earlystop)"
   ]
  },
  {
   "attachments": {},
   "cell_type": "markdown",
   "metadata": {},
   "source": [
    "DỰ ĐOÁN TRÊN TẬP TEST VÀ TRAIN"
   ]
  },
  {
   "cell_type": "code",
   "execution_count": 14,
   "metadata": {},
   "outputs": [
    {
     "name": "stdout",
     "output_type": "stream",
     "text": [
      "4/4 [==============================] - 4s 62ms/step\n",
      "4/4 [==============================] - 0s 54ms/step\n"
     ]
    }
   ],
   "source": [
    "# Dự đoán\n",
    "y_pred = model.predict(X_test)\n",
    "y_pred_val = model.predict(X_val)"
   ]
  },
  {
   "cell_type": "code",
   "execution_count": 15,
   "metadata": {},
   "outputs": [],
   "source": [
    "# Chuyển hóa dữ liệu lại như cũ\n",
    "y_pred = scaler.inverse_transform(y_pred)\n",
    "y_pred_val = scaler.inverse_transform(y_pred_val)"
   ]
  },
  {
   "attachments": {},
   "cell_type": "markdown",
   "metadata": {},
   "source": [
    "TÍNH ĐỘ LỖI CỦA MÔ HÌNH"
   ]
  },
  {
   "cell_type": "code",
   "execution_count": 16,
   "metadata": {},
   "outputs": [
    {
     "name": "stdout",
     "output_type": "stream",
     "text": [
      "Testing MAE:  83.35474074844562\n",
      "Testing MAPE:  0.9922444794314763\n",
      "Testing MSE:  7205.559584063253\n",
      "Testing RMSE:  84.88556758403193\n"
     ]
    }
   ],
   "source": [
    "# Độ lỗi mô hình trên tập test\n",
    "test_mae = mean_absolute_error(y_pred, ytest)\n",
    "test_mape = mean_absolute_percentage_error(y_pred, ytest)\n",
    "test_mse = mean_squared_error(y_pred, ytest)\n",
    "test_rmse = np.sqrt(test_mse)\n",
    "\n",
    "print(f\"Testing MAE: \", test_mae)\n",
    "print(f\"Testing MAPE: \", test_mape)\n",
    "print(f\"Testing MSE: \", test_mse)\n",
    "print(f\"Testing RMSE: \", test_rmse)"
   ]
  },
  {
   "cell_type": "code",
   "execution_count": 17,
   "metadata": {},
   "outputs": [
    {
     "name": "stdout",
     "output_type": "stream",
     "text": [
      "Validation MAE:  78.96498706533069\n",
      "Validation MAPE:  0.9924307641108464\n",
      "Validation MSE:  6251.838105209691\n",
      "Validation RMSE:  79.06856584768495\n"
     ]
    }
   ],
   "source": [
    "# Độ lỗi mô hình trên tập validation\n",
    "val_mae = mean_absolute_error(y_pred_val, yval)\n",
    "val_mape = mean_absolute_percentage_error(y_pred_val, yval)\n",
    "val_mse = mean_squared_error(y_pred_val, yval)\n",
    "val_rmse = np.sqrt(val_mse)\n",
    "\n",
    "print(f\"Validation MAE: \",val_mae)\n",
    "print(f\"Validation MAPE: \", val_mape)\n",
    "print(f\"Validation MSE: \", val_mse)\n",
    "print(f\"Validation RMSE: \", val_rmse)"
   ]
  },
  {
   "attachments": {},
   "cell_type": "markdown",
   "metadata": {},
   "source": [
    "                                - DỰ ĐOÁN 30 NGÀY TIẾP THEO"
   ]
  },
  {
   "cell_type": "code",
   "execution_count": 18,
   "metadata": {},
   "outputs": [],
   "source": [
    "x_input = val_data[5:].reshape(1,-1)\n",
    "temp_input = list(x_input)\n",
    "temp_input = temp_input[0].tolist()\n",
    "\n",
    "# Khởi tạo giá trị chạy\n",
    "i = 0\n",
    "\n",
    "# List lưu trữ giá trị 30 ngày tiếp theo\n",
    "prediction_next30_days = []\n",
    "\n",
    "while(i < 30):\n",
    "    if(len(temp_input) > time_step):\n",
    "        x_input = np.array(temp_input[-time_step:])\n",
    "\n",
    "        x_input = x_input.reshape((1, time_step, 1))\n",
    "        y_hat = model.predict(x_input, verbose=0)\n",
    "\n",
    "        temp_input.extend(y_hat[0].tolist())\n",
    "        temp_input = temp_input[1:]\n",
    "\n",
    "        prediction_next30_days.extend(y_hat.tolist())\n",
    "        i = i + 1\n",
    "    else:\n",
    "        x_input = x_input.reshape((1, time_step, 1))\n",
    "        y_hat = model.predict(x_input, verbose = 0)\n",
    "\n",
    "        temp_input.extend(y_hat[0].tolist())\n",
    "\n",
    "        prediction_next30_days.extend(y_hat.tolist())\n",
    "        i = i + 1"
   ]
  },
  {
   "cell_type": "code",
   "execution_count": 19,
   "metadata": {},
   "outputs": [
    {
     "name": "stdout",
     "output_type": "stream",
     "text": [
      "[[0.6475765109062195], [0.6524105668067932], [0.6537037491798401], [0.6527621150016785], [0.6503509879112244], [0.6470983624458313], [0.6436505913734436], [0.6406533718109131], [0.6386755108833313], [0.6381410956382751], [0.6392946839332581], [0.6421934366226196], [0.6467210650444031], [0.6526175141334534], [0.6595157384872437], [0.6669819951057434], [0.6745651364326477], [0.681839644908905], [0.688449501991272], [0.6941432952880859], [0.6987976431846619], [0.7024247050285339], [0.7051647901535034], [0.7072620391845703], [0.70903080701828], [0.7108125686645508], [0.7129374146461487], [0.715686023235321], [0.7192641496658325], [0.723785936832428]]\n"
     ]
    }
   ],
   "source": [
    "# In ra giá trị dự đoán\n",
    "print(prediction_next30_days)"
   ]
  },
  {
   "attachments": {},
   "cell_type": "markdown",
   "metadata": {},
   "source": [
    "TRỰC QUAN HÓA TẤT CẢ DỮ LIỆU"
   ]
  },
  {
   "cell_type": "code",
   "execution_count": 20,
   "metadata": {},
   "outputs": [],
   "source": [
    "# Lấy ra các ngày cuối cùng\n",
    "last_date = stock_ntr.index.max()\n",
    "future_dates = pd.date_range(start=pd.to_datetime(last_date) + pd.DateOffset(days=1), periods=30, freq='D')"
   ]
  },
  {
   "cell_type": "code",
   "execution_count": 21,
   "metadata": {},
   "outputs": [],
   "source": [
    "# Chuyển từ list thành dạng mảng\n",
    "prediction_next30_days = np.array(prediction_next30_days)\n",
    "\n",
    "# Chuyển đổi các giá trị trong đoạn 0 - 1 sang giá trị thực\n",
    "prediction_next30_days = scaler.inverse_transform(prediction_next30_days).reshape(-1)"
   ]
  },
  {
   "cell_type": "code",
   "execution_count": 22,
   "metadata": {},
   "outputs": [],
   "source": [
    "# Tạo dataframe chứa dữ liệu 30 ngày tới\n",
    "future_data = pd.DataFrame({'Date': future_dates,\n",
    "                            'Close': prediction_next30_days,\n",
    "                            })\n",
    "# Sắp xếp Date\n",
    "future_data = future_data.sort_values(by='Date')\n",
    "\n",
    "# Set index là Date\n",
    "future_data.set_index('Date', inplace=True)"
   ]
  },
  {
   "cell_type": "code",
   "execution_count": 23,
   "metadata": {},
   "outputs": [
    {
     "data": {
      "image/png": "[encoded data removed]",
      "text/plain": [
       "<Figure size 1600x500 with 1 Axes>"
      ]
     },
     "metadata": {},
     "output_type": "display_data"
    }
   ],
   "source": [
    "plt.figure(figsize=(16,5))\n",
    "\n",
    "# Tập dữ liệu train\n",
    "plt.plot(stock_ntr.index[:train_size], scaler.inverse_transform(train_data))\n",
    "\n",
    "# Tập dữ liệu Test\n",
    "plt.plot(stock_ntr.index[train_size:train_size + test_size], scaler.inverse_transform(test_data))\n",
    "\n",
    "# Dữ liệu predict trên tập Test\n",
    "plt.plot(stock_ntr.index[train_size + time_step + 1: train_size + test_size],(y_pred))\n",
    "\n",
    "# Tập dữ liệu Validate\n",
    "plt.plot(stock_ntr.index[train_size + test_size: train_size + test_size + val_size],scaler.inverse_transform(val_data))\n",
    "\n",
    "# Dữ liệu predict trên tập Validate\n",
    "plt.plot(stock_ntr.index[train_size + test_size + time_step + 1: train_size + test_size + val_size],y_pred_val)\n",
    "\n",
    "# Dự đoán cho 30 ngày tiếp theo\n",
    "plt.plot(future_data.index, future_data['Close'])\n",
    "\n",
    "plt.xlabel('Ngày')\n",
    "plt.ylabel('Giá đóng cửa')\n",
    "plt.title('Sử dụng model LSTM dự đoán 30 ngày tiếp theo')\n",
    "plt.legend(['Train','Test','Predict','Validate','ValidatePred','Predict30days'])\n",
    "plt.grid()\n",
    "plt.show()"
   ]
  },
  {
   "cell_type": "code",
   "execution_count": null,
   "metadata": {},
   "outputs": [],
   "source": []
  }
 ],
 "metadata": {
  "kernelspec": {
   "display_name": "base",
   "language": "python",
   "name": "python3"
  },
  "language_info": {
   "codemirror_mode": {
    "name": "ipython",
    "version": 3
   },
   "file_extension": ".py",
   "mimetype": "text/x-python",
   "name": "python",
   "nbconvert_exporter": "python",
   "pygments_lexer": "ipython3",
   "version": "3.9.16"
  },
  "orig_nbformat": 4
 },
 "nbformat": 4,
 "nbformat_minor": 2
}
