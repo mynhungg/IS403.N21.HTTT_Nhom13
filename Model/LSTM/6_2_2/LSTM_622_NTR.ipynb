{
 "cells": [
  {
   "attachments": {},
   "cell_type": "markdown",
   "metadata": {},
   "source": [
    "                            - DỰ ĐOÁN GIÁ CLOSE CHO TẬP DỮ LIỆU NTR.csv"
   ]
  },
  {
   "attachments": {},
   "cell_type": "markdown",
   "metadata": {},
   "source": [
    "IMPORT THƯ VIỆN"
   ]
  },
  {
   "cell_type": "code",
   "execution_count": 23,
   "metadata": {},
   "outputs": [],
   "source": [
    "import numpy as np\n",
    "import pandas as pd\n",
    "import matplotlib.pyplot as plt\n",
    "\n",
    "from numpy import array\n",
    "from keras.models import Sequential\n",
    "from keras.layers import Dense, LSTM\n",
    "from keras.callbacks import EarlyStopping,ModelCheckpoint\n",
    "from sklearn.preprocessing import MinMaxScaler\n",
    "from sklearn.metrics import mean_absolute_error, mean_squared_error, mean_absolute_percentage_error, mean_squared_log_error"
   ]
  },
  {
   "attachments": {},
   "cell_type": "markdown",
   "metadata": {},
   "source": [
    "ĐỌC DỮ LIỆU"
   ]
  },
  {
   "cell_type": "code",
   "execution_count": 24,
   "metadata": {},
   "outputs": [],
   "source": [
    "# Đọc dữ liệu\n",
    "stock_ntr = pd.read_csv('../../Dataset/NTR.csv')\n",
    "\n",
    "# Column Date là object => đổi sang dạng datetime\n",
    "stock_ntr['Date'] = pd.to_datetime(stock_ntr['Date'])\n",
    "\n",
    "# Cho Cột Date làm giá trị index => in đc giá trị x là cột Date\n",
    "stock_ntr = stock_ntr.set_index(pd.DatetimeIndex(stock_ntr['Date'].values))"
   ]
  },
  {
   "attachments": {},
   "cell_type": "markdown",
   "metadata": {},
   "source": [
    "CHUẨN HÓA DỮ LIỆU"
   ]
  },
  {
   "cell_type": "code",
   "execution_count": 25,
   "metadata": {},
   "outputs": [],
   "source": [
    "# Tạo dataframe mới chỉ chứa cột Date và giá trị Close\n",
    "df_ntr = pd.DataFrame(stock_ntr, columns=['Date', 'Close'])\n",
    "\n",
    "# Bỏ cột date khỏi dataframe\n",
    "df_ntr.drop('Date', axis=1, inplace=True)"
   ]
  },
  {
   "cell_type": "code",
   "execution_count": 26,
   "metadata": {},
   "outputs": [],
   "source": [
    "scaler = MinMaxScaler(feature_range=(0,1))\n",
    "df_ntr = scaler.fit_transform(np.array(df_ntr).reshape(-1,1))"
   ]
  },
  {
   "attachments": {},
   "cell_type": "markdown",
   "metadata": {},
   "source": [
    "CHIA CÁC TẬP DỮ LIỆU"
   ]
  },
  {
   "cell_type": "code",
   "execution_count": 27,
   "metadata": {},
   "outputs": [],
   "source": [
    "# Tính độ dài\n",
    "    # Train: 60%\n",
    "    # Test: 20%\n",
    "    # Val: 20%\n",
    "train_size = int(len(df_ntr) * 0.6)\n",
    "test_size = int(len(df_ntr) * 0.2)\n",
    "val_size = len(df_ntr) - train_size - test_size"
   ]
  },
  {
   "cell_type": "code",
   "execution_count": 28,
   "metadata": {},
   "outputs": [],
   "source": [
    "# Lấy dữ liệu\n",
    "train_data = df_ntr[:train_size]\n",
    "test_data = df_ntr[train_size:train_size+test_size]\n",
    "val_data = df_ntr[train_size+test_size:]"
   ]
  },
  {
   "cell_type": "code",
   "execution_count": 29,
   "metadata": {},
   "outputs": [],
   "source": [
    "# Tạo dataset cho X, Y train, test, val\n",
    "def create_dataset(dataset, time_step=1):\n",
    "\tdataX, dataY = [], []\n",
    "\tfor i in range(len(dataset) - time_step - 1):\n",
    "\t\ta = dataset[i:(i + time_step), 0]\n",
    "\t\tdataX.append(a)\n",
    "\t\tdataY.append(dataset[i + time_step, 0])\n",
    "\treturn np.array(dataX), np.array(dataY)"
   ]
  },
  {
   "cell_type": "code",
   "execution_count": 30,
   "metadata": {},
   "outputs": [],
   "source": [
    "time_step = 100\n",
    "X_train, y_train = create_dataset(train_data, time_step)\n",
    "X_test, ytest = create_dataset(test_data, time_step)\n",
    "X_val, yval = create_dataset(val_data, time_step)"
   ]
  },
  {
   "cell_type": "code",
   "execution_count": 31,
   "metadata": {},
   "outputs": [],
   "source": [
    "# Tạo input cho dữ liệu đầu vào LSTM\n",
    "X_train = X_train.reshape(X_train.shape[0], X_train.shape[1] , 1)\n",
    "X_test = X_test.reshape(X_test.shape[0], X_test.shape[1] , 1)\n",
    "X_val = X_val.reshape(X_val.shape[0], X_val.shape[1] , 1)"
   ]
  },
  {
   "attachments": {},
   "cell_type": "markdown",
   "metadata": {},
   "source": [
    "HUẤN LUYỆN VÀ TRAIN MÔ HÌNH"
   ]
  },
  {
   "cell_type": "code",
   "execution_count": 32,
   "metadata": {},
   "outputs": [],
   "source": [
    "# Định nghĩa mô hình\n",
    "model = Sequential()\n",
    "model.add(LSTM(64, return_sequences=True, input_shape = (100, 1)))\n",
    "model.add(LSTM(64, return_sequences=True))\n",
    "model.add(LSTM(64))\n",
    "model.add(Dense(1))\n",
    "model.compile(loss='mean_squared_error', optimizer='adam')"
   ]
  },
  {
   "cell_type": "code",
   "execution_count": 33,
   "metadata": {},
   "outputs": [],
   "source": [
    "# Sử dụng early stoping để dừng khi không có cải thiện\n",
    "earlystop = EarlyStopping(monitor='val_loss', patience=10)"
   ]
  },
  {
   "cell_type": "code",
   "execution_count": 34,
   "metadata": {},
   "outputs": [
    {
     "name": "stdout",
     "output_type": "stream",
     "text": [
      "Epoch 1/100\n",
      "9/9 [==============================] - 40s 2s/step - loss: 0.0206 - val_loss: 0.0705\n",
      "Epoch 2/100\n",
      "9/9 [==============================] - 7s 766ms/step - loss: 0.0043 - val_loss: 0.0401\n",
      "Epoch 3/100\n",
      "9/9 [==============================] - 7s 831ms/step - loss: 0.0024 - val_loss: 0.0475\n",
      "Epoch 4/100\n",
      "9/9 [==============================] - 9s 998ms/step - loss: 0.0017 - val_loss: 0.0139\n",
      "Epoch 5/100\n",
      "9/9 [==============================] - 6s 676ms/step - loss: 0.0012 - val_loss: 0.0105\n",
      "Epoch 6/100\n",
      "9/9 [==============================] - 9s 1s/step - loss: 0.0010 - val_loss: 0.0057\n",
      "Epoch 7/100\n",
      "9/9 [==============================] - 5s 641ms/step - loss: 0.0010 - val_loss: 0.0063\n",
      "Epoch 8/100\n",
      "9/9 [==============================] - 5s 499ms/step - loss: 9.9873e-04 - val_loss: 0.0061\n",
      "Epoch 9/100\n",
      "9/9 [==============================] - 6s 700ms/step - loss: 9.6536e-04 - val_loss: 0.0052\n",
      "Epoch 10/100\n",
      "9/9 [==============================] - 4s 463ms/step - loss: 9.7717e-04 - val_loss: 0.0044\n",
      "Epoch 11/100\n",
      "9/9 [==============================] - 4s 392ms/step - loss: 0.0010 - val_loss: 0.0047\n",
      "Epoch 12/100\n",
      "9/9 [==============================] - 3s 376ms/step - loss: 0.0010 - val_loss: 0.0060\n",
      "Epoch 13/100\n",
      "9/9 [==============================] - 4s 461ms/step - loss: 8.9633e-04 - val_loss: 0.0054\n",
      "Epoch 14/100\n",
      "9/9 [==============================] - 2s 274ms/step - loss: 8.9105e-04 - val_loss: 0.0051\n",
      "Epoch 15/100\n",
      "9/9 [==============================] - 2s 249ms/step - loss: 8.6763e-04 - val_loss: 0.0043\n",
      "Epoch 16/100\n",
      "9/9 [==============================] - 2s 272ms/step - loss: 9.4539e-04 - val_loss: 0.0045\n",
      "Epoch 17/100\n",
      "9/9 [==============================] - 2s 260ms/step - loss: 8.9232e-04 - val_loss: 0.0043\n",
      "Epoch 18/100\n",
      "9/9 [==============================] - 2s 252ms/step - loss: 8.8832e-04 - val_loss: 0.0049\n",
      "Epoch 19/100\n",
      "9/9 [==============================] - 3s 297ms/step - loss: 9.1441e-04 - val_loss: 0.0044\n",
      "Epoch 20/100\n",
      "9/9 [==============================] - 3s 280ms/step - loss: 8.6891e-04 - val_loss: 0.0044\n",
      "Epoch 21/100\n",
      "9/9 [==============================] - 2s 268ms/step - loss: 7.9120e-04 - val_loss: 0.0041\n",
      "Epoch 22/100\n",
      "9/9 [==============================] - 2s 281ms/step - loss: 8.0047e-04 - val_loss: 0.0050\n",
      "Epoch 23/100\n",
      "9/9 [==============================] - 3s 296ms/step - loss: 8.3305e-04 - val_loss: 0.0040\n",
      "Epoch 24/100\n",
      "9/9 [==============================] - 2s 253ms/step - loss: 7.4213e-04 - val_loss: 0.0039\n",
      "Epoch 25/100\n",
      "9/9 [==============================] - 2s 250ms/step - loss: 7.3069e-04 - val_loss: 0.0038\n",
      "Epoch 26/100\n",
      "9/9 [==============================] - 2s 246ms/step - loss: 7.4199e-04 - val_loss: 0.0045\n",
      "Epoch 27/100\n",
      "9/9 [==============================] - 2s 253ms/step - loss: 7.4508e-04 - val_loss: 0.0061\n",
      "Epoch 28/100\n",
      "9/9 [==============================] - 2s 267ms/step - loss: 7.9891e-04 - val_loss: 0.0037\n",
      "Epoch 29/100\n",
      "9/9 [==============================] - 2s 250ms/step - loss: 6.9585e-04 - val_loss: 0.0037\n",
      "Epoch 30/100\n",
      "9/9 [==============================] - 2s 262ms/step - loss: 6.8942e-04 - val_loss: 0.0036\n",
      "Epoch 31/100\n",
      "9/9 [==============================] - 3s 295ms/step - loss: 6.7124e-04 - val_loss: 0.0038\n",
      "Epoch 32/100\n",
      "9/9 [==============================] - 3s 289ms/step - loss: 6.4925e-04 - val_loss: 0.0060\n",
      "Epoch 33/100\n",
      "9/9 [==============================] - 2s 230ms/step - loss: 7.4302e-04 - val_loss: 0.0044\n",
      "Epoch 34/100\n",
      "9/9 [==============================] - 2s 256ms/step - loss: 6.5206e-04 - val_loss: 0.0049\n",
      "Epoch 35/100\n",
      "9/9 [==============================] - 2s 237ms/step - loss: 6.5706e-04 - val_loss: 0.0038\n"
     ]
    },
    {
     "data": {
      "text/plain": [
       "<keras.callbacks.History at 0x2b47a52d580>"
      ]
     },
     "execution_count": 34,
     "metadata": {},
     "output_type": "execute_result"
    }
   ],
   "source": [
    "# Train mô hình\n",
    "model.fit(X_train, y_train, validation_data=(X_test, ytest), epochs = 100, batch_size = 64,verbose = 1,  callbacks=earlystop)"
   ]
  },
  {
   "attachments": {},
   "cell_type": "markdown",
   "metadata": {},
   "source": [
    "DỰ ĐOÁN TRÊN TẬP TEST VÀ TRAIN"
   ]
  },
  {
   "cell_type": "code",
   "execution_count": 35,
   "metadata": {},
   "outputs": [
    {
     "name": "stdout",
     "output_type": "stream",
     "text": [
      "4/4 [==============================] - 2s 43ms/step\n",
      "4/4 [==============================] - 0s 38ms/step\n"
     ]
    }
   ],
   "source": [
    "# Dự đoán\n",
    "y_pred = model.predict(X_test)\n",
    "y_pred_val = model.predict(X_val)"
   ]
  },
  {
   "attachments": {},
   "cell_type": "markdown",
   "metadata": {},
   "source": [
    "TÍNH ĐỘ LỖI CỦA MÔ HÌNH"
   ]
  },
  {
   "cell_type": "code",
   "execution_count": 36,
   "metadata": {},
   "outputs": [
    {
     "name": "stdout",
     "output_type": "stream",
     "text": [
      "Testing MAE:  0.042259238227294785\n",
      "Testing MAPE:  0.05856759040717199\n",
      "Testing MSE:  0.0037844194037608696\n",
      "Testing RMSE:  0.06151763490057847\n",
      "Testing MSLE:  0.0011728990022755838\n"
     ]
    }
   ],
   "source": [
    "# Độ lỗi mô hình trên tập test\n",
    "test_mae = mean_absolute_error(y_pred, ytest)\n",
    "test_mape = mean_absolute_percentage_error(y_pred, ytest)\n",
    "test_mse = mean_squared_error(y_pred, ytest)\n",
    "test_rmse = np.sqrt(test_mse)\n",
    "test_msle = mean_squared_log_error(y_pred, ytest)\n",
    "\n",
    "print(f\"Testing MAE: \", test_mae)\n",
    "print(f\"Testing MAPE: \", test_mape)\n",
    "print(f\"Testing MSE: \", test_mse)\n",
    "print(f\"Testing RMSE: \", test_rmse)\n",
    "print(f\"Testing MSLE: \", test_msle)"
   ]
  },
  {
   "cell_type": "code",
   "execution_count": 37,
   "metadata": {},
   "outputs": [
    {
     "name": "stdout",
     "output_type": "stream",
     "text": [
      "Validation MAE:  0.039770469784122034\n",
      "Validation MAPE:  0.06093830601352579\n",
      "Validation MSE:  0.002598802122578232\n",
      "Validation RMSE:  0.05097844762817157\n",
      "Validation MSLE:  0.0009847528842420947\n"
     ]
    }
   ],
   "source": [
    "# Độ lỗi mô hình trên tập validation\n",
    "val_mae = mean_absolute_error(y_pred_val, yval)\n",
    "val_mape = mean_absolute_percentage_error(y_pred_val, yval)\n",
    "val_mse = mean_squared_error(y_pred_val, yval)\n",
    "val_rmse = np.sqrt(val_mse)\n",
    "val_msle = mean_squared_log_error(y_pred_val, yval)\n",
    "\n",
    "print(f\"Validation MAE: \",val_mae)\n",
    "print(f\"Validation MAPE: \", val_mape)\n",
    "print(f\"Validation MSE: \", val_mse)\n",
    "print(f\"Validation RMSE: \", val_rmse)\n",
    "print(f\"Validation MSLE: \", val_msle)"
   ]
  },
  {
   "attachments": {},
   "cell_type": "markdown",
   "metadata": {},
   "source": [
    "                                - DỰ ĐOÁN 30 NGÀY TIẾP THEO"
   ]
  },
  {
   "cell_type": "code",
   "execution_count": 38,
   "metadata": {},
   "outputs": [],
   "source": [
    "x_input = val_data[5:].reshape(1,-1)\n",
    "temp_input = list(x_input)\n",
    "temp_input = temp_input[0].tolist()\n",
    "\n",
    "# Khởi tạo giá trị chạy\n",
    "i = 0\n",
    "\n",
    "# List lưu trữ giá trị 30 ngày tiếp theo\n",
    "prediction_next30_days = []\n",
    "\n",
    "while(i < 30):\n",
    "    if(len(temp_input) > time_step):\n",
    "        x_input = np.array(temp_input[-time_step:])\n",
    "\n",
    "        x_input = x_input.reshape((1, time_step, 1))\n",
    "        y_hat = model.predict(x_input, verbose=0)\n",
    "\n",
    "        temp_input.extend(y_hat[0].tolist())\n",
    "        temp_input = temp_input[1:]\n",
    "\n",
    "        prediction_next30_days.extend(y_hat.tolist())\n",
    "        i = i + 1\n",
    "    else:\n",
    "        x_input = x_input.reshape((1, time_step, 1))\n",
    "        y_hat = model.predict(x_input, verbose = 0)\n",
    "\n",
    "        temp_input.extend(y_hat[0].tolist())\n",
    "\n",
    "        prediction_next30_days.extend(y_hat.tolist())\n",
    "        i = i + 1"
   ]
  },
  {
   "cell_type": "code",
   "execution_count": 39,
   "metadata": {},
   "outputs": [
    {
     "name": "stdout",
     "output_type": "stream",
     "text": [
      "[[0.6268152594566345], [0.6366521120071411], [0.6459794640541077], [0.6546915769577026], [0.6628850698471069], [0.6707251667976379], [0.6783732771873474], [0.6859564185142517], [0.6935610771179199], [0.7012409567832947], [0.7090255618095398], [0.716931164264679], [0.7249671220779419], [0.7331417202949524], [0.7414628267288208], [0.7499403953552246], [0.7585856318473816], [0.7674109935760498], [0.7764298915863037], [0.7856560349464417], [0.7951031923294067], [0.8047850728034973], [0.8147146701812744], [0.8249050378799438], [0.8353688716888428], [0.8461179733276367], [0.8571645021438599], [0.8685199022293091], [0.8801956176757812], [0.8922023773193359]]\n"
     ]
    }
   ],
   "source": [
    "# In ra giá trị dự đoán\n",
    "print(prediction_next30_days)"
   ]
  },
  {
   "attachments": {},
   "cell_type": "markdown",
   "metadata": {},
   "source": [
    "TRỰC QUAN HÓA TẤT CẢ DỮ LIỆU"
   ]
  },
  {
   "cell_type": "code",
   "execution_count": 40,
   "metadata": {},
   "outputs": [],
   "source": [
    "# Lấy ra các ngày cuối cùng\n",
    "last_date = stock_ntr.index.max()\n",
    "future_dates = pd.date_range(start=pd.to_datetime(last_date) + pd.DateOffset(days=1), periods=30, freq='D')"
   ]
  },
  {
   "cell_type": "code",
   "execution_count": 41,
   "metadata": {},
   "outputs": [],
   "source": [
    "# Chuyển từ list thành dạng mảng\n",
    "prediction_next30_days = np.array(prediction_next30_days)\n",
    "\n",
    "# Chuyển đổi các giá trị trong đoạn 0 - 1 sang giá trị thực\n",
    "prediction_next30_days = scaler.inverse_transform(prediction_next30_days).reshape(-1)"
   ]
  },
  {
   "cell_type": "code",
   "execution_count": 42,
   "metadata": {},
   "outputs": [],
   "source": [
    "# Tạo dataframe chứa dữ liệu 30 ngày tới\n",
    "future_data = pd.DataFrame({'Date': future_dates,\n",
    "                            'Close': prediction_next30_days,\n",
    "                            })\n",
    "# Sắp xếp Date\n",
    "future_data = future_data.sort_values(by='Date')\n",
    "\n",
    "# Set index là Date\n",
    "future_data.set_index('Date', inplace=True)"
   ]
  },
  {
   "cell_type": "code",
   "execution_count": 43,
   "metadata": {},
   "outputs": [],
   "source": [
    "# Chuyển hóa dữ liệu lại như cũ\n",
    "y_pred = scaler.inverse_transform(y_pred)\n",
    "y_pred_val = scaler.inverse_transform(y_pred_val)\n",
    "train_data = scaler.inverse_transform(train_data)\n",
    "test_data = scaler.inverse_transform(test_data)\n",
    "val_data = scaler.inverse_transform(val_data)"
   ]
  },
  {
   "cell_type": "code",
   "execution_count": 44,
   "metadata": {},
   "outputs": [
    {
     "data": {
      "image/png": "[encoded data removed]",
      "text/plain": [
       "<Figure size 1600x500 with 1 Axes>"
      ]
     },
     "metadata": {},
     "output_type": "display_data"
    }
   ],
   "source": [
    "plt.figure(figsize=(16,5))\n",
    "\n",
    "# Tập dữ liệu train\n",
    "plt.plot(stock_ntr.index[:train_size], train_data)\n",
    "\n",
    "# Tập dữ liệu Test\n",
    "plt.plot(stock_ntr.index[train_size:train_size + test_size], test_data)\n",
    "\n",
    "# Dữ liệu predict trên tập Test\n",
    "plt.plot(stock_ntr.index[train_size + time_step + 1: train_size + test_size],(y_pred))\n",
    "\n",
    "# Tập dữ liệu Validate\n",
    "plt.plot(stock_ntr.index[train_size + test_size: train_size + test_size + val_size],val_data)\n",
    "\n",
    "# Dữ liệu predict trên tập Validate\n",
    "plt.plot(stock_ntr.index[train_size + test_size + time_step + 1: train_size + test_size + val_size],y_pred_val)\n",
    "\n",
    "# Dự đoán cho 30 ngày tiếp theo\n",
    "plt.plot(future_data.index, future_data['Close'])\n",
    "\n",
    "plt.xlabel('Ngày')\n",
    "plt.ylabel('Giá đóng cửa')\n",
    "plt.title('Sử dụng model LSTM dự đoán 30 ngày tiếp theo')\n",
    "plt.legend(['Train','Test','Predict','Validate','ValidatePred','Predict30days'])\n",
    "plt.grid()\n",
    "plt.show()"
   ]
  },
  {
   "cell_type": "code",
   "execution_count": null,
   "metadata": {},
   "outputs": [],
   "source": []
  }
 ],
 "metadata": {
  "kernelspec": {
   "display_name": "base",
   "language": "python",
   "name": "python3"
  },
  "language_info": {
   "codemirror_mode": {
    "name": "ipython",
    "version": 3
   },
   "file_extension": ".py",
   "mimetype": "text/x-python",
   "name": "python",
   "nbconvert_exporter": "python",
   "pygments_lexer": "ipython3",
   "version": "3.9.16"
  },
  "orig_nbformat": 4
 },
 "nbformat": 4,
 "nbformat_minor": 2
}
