{
 "cells": [
  {
   "attachments": {},
   "cell_type": "markdown",
   "metadata": {},
   "source": [
    "## Import Libraries"
   ]
  },
  {
   "cell_type": "code",
   "execution_count": 1,
   "metadata": {},
   "outputs": [
    {
     "name": "stderr",
     "output_type": "stream",
     "text": [
      "<frozen importlib._bootstrap>:228: RuntimeWarning: scipy._lib.messagestream.MessageStream size changed, may indicate binary incompatibility. Expected 56 from C header, got 64 from PyObject\n"
     ]
    }
   ],
   "source": [
    "import numpy as np\n",
    "import pandas as pd\n",
    "import matplotlib.pyplot as plt\n",
    "\n",
    "from numpy import array\n",
    "from keras.models import Sequential\n",
    "from keras.layers import Dense, LSTM, Dropout\n",
    "from keras.callbacks import EarlyStopping,ModelCheckpoint\n",
    "from sklearn.preprocessing import MinMaxScaler\n",
    "from sklearn.metrics import  mean_squared_error, mean_absolute_percentage_error, mean_squared_log_error"
   ]
  },
  {
   "attachments": {},
   "cell_type": "markdown",
   "metadata": {},
   "source": [
    "## Data preprocessing"
   ]
  },
  {
   "attachments": {},
   "cell_type": "markdown",
   "metadata": {},
   "source": [
    "### Read data"
   ]
  },
  {
   "cell_type": "code",
   "execution_count": 2,
   "metadata": {},
   "outputs": [
    {
     "data": {
      "text/html": [
       "<div>\n",
       "<style scoped>\n",
       "    .dataframe tbody tr th:only-of-type {\n",
       "        vertical-align: middle;\n",
       "    }\n",
       "\n",
       "    .dataframe tbody tr th {\n",
       "        vertical-align: top;\n",
       "    }\n",
       "\n",
       "    .dataframe thead th {\n",
       "        text-align: right;\n",
       "    }\n",
       "</style>\n",
       "<table border=\"1\" class=\"dataframe\">\n",
       "  <thead>\n",
       "    <tr style=\"text-align: right;\">\n",
       "      <th></th>\n",
       "      <th>Date</th>\n",
       "      <th>Open</th>\n",
       "      <th>High</th>\n",
       "      <th>Low</th>\n",
       "      <th>Close</th>\n",
       "      <th>Adj Close</th>\n",
       "      <th>Volume</th>\n",
       "    </tr>\n",
       "  </thead>\n",
       "  <tbody>\n",
       "    <tr>\n",
       "      <th>0</th>\n",
       "      <td>2019-01-02</td>\n",
       "      <td>45.959999</td>\n",
       "      <td>47.470001</td>\n",
       "      <td>45.770000</td>\n",
       "      <td>47.080002</td>\n",
       "      <td>41.343937</td>\n",
       "      <td>18774600</td>\n",
       "    </tr>\n",
       "    <tr>\n",
       "      <th>1</th>\n",
       "      <td>2019-01-03</td>\n",
       "      <td>46.150002</td>\n",
       "      <td>46.279999</td>\n",
       "      <td>44.389999</td>\n",
       "      <td>44.490002</td>\n",
       "      <td>39.069477</td>\n",
       "      <td>32267300</td>\n",
       "    </tr>\n",
       "    <tr>\n",
       "      <th>2</th>\n",
       "      <td>2019-01-04</td>\n",
       "      <td>45.840000</td>\n",
       "      <td>47.570000</td>\n",
       "      <td>45.540001</td>\n",
       "      <td>47.220001</td>\n",
       "      <td>41.466869</td>\n",
       "      <td>35447300</td>\n",
       "    </tr>\n",
       "    <tr>\n",
       "      <th>3</th>\n",
       "      <td>2019-01-07</td>\n",
       "      <td>47.099998</td>\n",
       "      <td>48.000000</td>\n",
       "      <td>46.750000</td>\n",
       "      <td>47.439999</td>\n",
       "      <td>41.660065</td>\n",
       "      <td>22736800</td>\n",
       "    </tr>\n",
       "    <tr>\n",
       "      <th>4</th>\n",
       "      <td>2019-01-08</td>\n",
       "      <td>47.799999</td>\n",
       "      <td>48.029999</td>\n",
       "      <td>46.779999</td>\n",
       "      <td>47.740002</td>\n",
       "      <td>41.923512</td>\n",
       "      <td>22749200</td>\n",
       "    </tr>\n",
       "    <tr>\n",
       "      <th>...</th>\n",
       "      <td>...</td>\n",
       "      <td>...</td>\n",
       "      <td>...</td>\n",
       "      <td>...</td>\n",
       "      <td>...</td>\n",
       "      <td>...</td>\n",
       "      <td>...</td>\n",
       "    </tr>\n",
       "    <tr>\n",
       "      <th>1114</th>\n",
       "      <td>2023-06-06</td>\n",
       "      <td>29.770000</td>\n",
       "      <td>31.450001</td>\n",
       "      <td>29.700001</td>\n",
       "      <td>30.959999</td>\n",
       "      <td>30.959999</td>\n",
       "      <td>42295300</td>\n",
       "    </tr>\n",
       "    <tr>\n",
       "      <th>1115</th>\n",
       "      <td>2023-06-07</td>\n",
       "      <td>31.030001</td>\n",
       "      <td>31.370001</td>\n",
       "      <td>30.930000</td>\n",
       "      <td>31.280001</td>\n",
       "      <td>31.280001</td>\n",
       "      <td>39098000</td>\n",
       "    </tr>\n",
       "    <tr>\n",
       "      <th>1116</th>\n",
       "      <td>2023-06-08</td>\n",
       "      <td>31.430000</td>\n",
       "      <td>31.850000</td>\n",
       "      <td>31.059999</td>\n",
       "      <td>31.820000</td>\n",
       "      <td>31.820000</td>\n",
       "      <td>35199000</td>\n",
       "    </tr>\n",
       "    <tr>\n",
       "      <th>1117</th>\n",
       "      <td>2023-06-09</td>\n",
       "      <td>31.930000</td>\n",
       "      <td>31.990000</td>\n",
       "      <td>30.680000</td>\n",
       "      <td>31.340000</td>\n",
       "      <td>31.340000</td>\n",
       "      <td>40218000</td>\n",
       "    </tr>\n",
       "    <tr>\n",
       "      <th>1118</th>\n",
       "      <td>2023-06-12</td>\n",
       "      <td>31.400000</td>\n",
       "      <td>33.299999</td>\n",
       "      <td>31.360001</td>\n",
       "      <td>33.070000</td>\n",
       "      <td>33.070000</td>\n",
       "      <td>59881600</td>\n",
       "    </tr>\n",
       "  </tbody>\n",
       "</table>\n",
       "<p>1119 rows × 7 columns</p>\n",
       "</div>"
      ],
      "text/plain": [
       "            Date       Open       High        Low      Close  Adj Close  \\\n",
       "0     2019-01-02  45.959999  47.470001  45.770000  47.080002  41.343937   \n",
       "1     2019-01-03  46.150002  46.279999  44.389999  44.490002  39.069477   \n",
       "2     2019-01-04  45.840000  47.570000  45.540001  47.220001  41.466869   \n",
       "3     2019-01-07  47.099998  48.000000  46.750000  47.439999  41.660065   \n",
       "4     2019-01-08  47.799999  48.029999  46.779999  47.740002  41.923512   \n",
       "...          ...        ...        ...        ...        ...        ...   \n",
       "1114  2023-06-06  29.770000  31.450001  29.700001  30.959999  30.959999   \n",
       "1115  2023-06-07  31.030001  31.370001  30.930000  31.280001  31.280001   \n",
       "1116  2023-06-08  31.430000  31.850000  31.059999  31.820000  31.820000   \n",
       "1117  2023-06-09  31.930000  31.990000  30.680000  31.340000  31.340000   \n",
       "1118  2023-06-12  31.400000  33.299999  31.360001  33.070000  33.070000   \n",
       "\n",
       "        Volume  \n",
       "0     18774600  \n",
       "1     32267300  \n",
       "2     35447300  \n",
       "3     22736800  \n",
       "4     22749200  \n",
       "...        ...  \n",
       "1114  42295300  \n",
       "1115  39098000  \n",
       "1116  35199000  \n",
       "1117  40218000  \n",
       "1118  59881600  \n",
       "\n",
       "[1119 rows x 7 columns]"
      ]
     },
     "execution_count": 2,
     "metadata": {},
     "output_type": "execute_result"
    }
   ],
   "source": [
    "stock_intc = pd.read_csv('../../../Dataset/INTC.csv')\n",
    "stock_intc"
   ]
  },
  {
   "attachments": {},
   "cell_type": "markdown",
   "metadata": {},
   "source": [
    "### Reset index"
   ]
  },
  {
   "cell_type": "code",
   "execution_count": 3,
   "metadata": {},
   "outputs": [],
   "source": [
    "# Convert the 'Date' column to datetime format\n",
    "stock_intc['Date'] = pd.to_datetime(stock_intc['Date'])\n",
    "\n",
    "# Set the 'Date' column as the index value\n",
    "stock_intc = stock_intc.set_index(pd.DatetimeIndex(stock_intc['Date'].values))\n",
    "\n",
    "# Create new datafram with Date and Close\n",
    "df_intc = pd.DataFrame(stock_intc, columns=['Close'])"
   ]
  },
  {
   "attachments": {},
   "cell_type": "markdown",
   "metadata": {},
   "source": [
    "### Data normalization"
   ]
  },
  {
   "cell_type": "code",
   "execution_count": 4,
   "metadata": {},
   "outputs": [],
   "source": [
    "scaler = MinMaxScaler(feature_range=(0,1))\n",
    "df_intc = scaler.fit_transform(np.array(df_intc).reshape(-1,1))"
   ]
  },
  {
   "attachments": {},
   "cell_type": "markdown",
   "metadata": {},
   "source": [
    "### Data splitting"
   ]
  },
  {
   "cell_type": "code",
   "execution_count": 5,
   "metadata": {},
   "outputs": [],
   "source": [
    "# Length\n",
    "    # Train: 60%\n",
    "    # Val: 20%\n",
    "    # Test: 20%\n",
    "train_size = int(len(df_intc) * 0.6)\n",
    "val_size = int(len(df_intc) * 0.2)\n",
    "test_size = len(df_intc) - train_size - val_size"
   ]
  },
  {
   "cell_type": "code",
   "execution_count": 6,
   "metadata": {},
   "outputs": [],
   "source": [
    "# Get Data \n",
    "train_data = df_intc[:train_size]\n",
    "val_data = df_intc[train_size:train_size+val_size]\n",
    "test_data = df_intc[train_size+val_size:]"
   ]
  },
  {
   "cell_type": "code",
   "execution_count": 7,
   "metadata": {},
   "outputs": [],
   "source": [
    "# Create dataset\n",
    "def create_dataset(dataset, time_step=1):\n",
    "\tdataX, dataY = [], []\n",
    "\tfor i in range(len(dataset) - time_step):\n",
    "\t\ta = dataset[i:(i + time_step), 0]\n",
    "\t\tdataX.append(a)\n",
    "\t\tdataY.append(dataset[i + time_step, 0])\n",
    "\treturn np.array(dataX), np.array(dataY)"
   ]
  },
  {
   "cell_type": "code",
   "execution_count": 8,
   "metadata": {},
   "outputs": [],
   "source": [
    "# Reshape into X=t,t+1,t+2..t+60 and Y=t+60\n",
    "time_step = 60\n",
    "X_train, y_train = create_dataset(train_data, time_step)\n",
    "X_val, yval = create_dataset(val_data, time_step)\n",
    "X_test, ytest = create_dataset(test_data, time_step)"
   ]
  },
  {
   "cell_type": "code",
   "execution_count": 9,
   "metadata": {},
   "outputs": [],
   "source": [
    "# Make input for LSTM\n",
    "X_train = X_train.reshape(X_train.shape[0], X_train.shape[1] , 1)\n",
    "X_val = X_val.reshape(X_val.shape[0], X_val.shape[1] , 1)\n",
    "X_test = X_test.reshape(X_test.shape[0], X_test.shape[1] , 1)"
   ]
  },
  {
   "attachments": {},
   "cell_type": "markdown",
   "metadata": {},
   "source": [
    "## Model training and testing"
   ]
  },
  {
   "cell_type": "code",
   "execution_count": 10,
   "metadata": {},
   "outputs": [],
   "source": [
    "# Define model\n",
    "    # Pack the sequence of the inner layers\n",
    "model = Sequential()\n",
    "    # LSTM with 128 units\n",
    "model.add(LSTM(128, return_sequences=True, input_shape = (60, 1)))\n",
    "    # LSTM with 64 units\n",
    "model.add(LSTM(64, return_sequences=False, input_shape = (60, 1)))\n",
    "    # Dropout: Avoid remembering too much information => disable part of the previous data\n",
    "model.add(Dropout(0.2))\n",
    "    # 1 Dense layer (dense): 1 unit provides predictive value, using activiation function: relu\n",
    "model.add(Dense(1,activation='relu'))\n",
    "    # Compile model with loss function: MST, optimize: adam \n",
    "model.compile(loss='mean_squared_error', optimizer='adam')"
   ]
  },
  {
   "cell_type": "code",
   "execution_count": 11,
   "metadata": {},
   "outputs": [],
   "source": [
    "# Using earlystopping to prevent overfitting\n",
    "earlystop = EarlyStopping(monitor='val_loss', patience=10)"
   ]
  },
  {
   "cell_type": "code",
   "execution_count": 12,
   "metadata": {},
   "outputs": [
    {
     "name": "stdout",
     "output_type": "stream",
     "text": [
      "Epoch 1/100\n",
      "10/10 [==============================] - 19s 1s/step - loss: 0.1622 - val_loss: 0.0048\n",
      "Epoch 2/100\n",
      "10/10 [==============================] - 7s 744ms/step - loss: 0.0198 - val_loss: 0.0072\n",
      "Epoch 3/100\n",
      "10/10 [==============================] - 7s 718ms/step - loss: 0.0129 - val_loss: 0.0034\n",
      "Epoch 4/100\n",
      "10/10 [==============================] - 5s 499ms/step - loss: 0.0098 - val_loss: 0.0072\n",
      "Epoch 5/100\n",
      "10/10 [==============================] - 4s 405ms/step - loss: 0.0083 - val_loss: 0.0035\n",
      "Epoch 6/100\n",
      "10/10 [==============================] - 9s 885ms/step - loss: 0.0082 - val_loss: 0.0046\n",
      "Epoch 7/100\n",
      "10/10 [==============================] - 5s 491ms/step - loss: 0.0072 - val_loss: 0.0039\n",
      "Epoch 8/100\n",
      "10/10 [==============================] - 7s 646ms/step - loss: 0.0072 - val_loss: 0.0053\n",
      "Epoch 9/100\n",
      "10/10 [==============================] - 5s 417ms/step - loss: 0.0065 - val_loss: 0.0039\n",
      "Epoch 10/100\n",
      "10/10 [==============================] - 6s 611ms/step - loss: 0.0067 - val_loss: 0.0032\n",
      "Epoch 11/100\n",
      "10/10 [==============================] - 10s 1s/step - loss: 0.0062 - val_loss: 0.0026\n",
      "Epoch 12/100\n",
      "10/10 [==============================] - 8s 811ms/step - loss: 0.0067 - val_loss: 0.0029\n",
      "Epoch 13/100\n",
      "10/10 [==============================] - 5s 443ms/step - loss: 0.0059 - val_loss: 0.0026\n",
      "Epoch 14/100\n",
      "10/10 [==============================] - 5s 458ms/step - loss: 0.0066 - val_loss: 0.0026\n",
      "Epoch 15/100\n",
      "10/10 [==============================] - 6s 582ms/step - loss: 0.0059 - val_loss: 0.0022\n",
      "Epoch 16/100\n",
      "10/10 [==============================] - 5s 510ms/step - loss: 0.0052 - val_loss: 0.0027\n",
      "Epoch 17/100\n",
      "10/10 [==============================] - 5s 469ms/step - loss: 0.0057 - val_loss: 0.0027\n",
      "Epoch 18/100\n",
      "10/10 [==============================] - 4s 367ms/step - loss: 0.0058 - val_loss: 0.0021\n",
      "Epoch 19/100\n",
      "10/10 [==============================] - 7s 695ms/step - loss: 0.0056 - val_loss: 0.0023\n",
      "Epoch 20/100\n",
      "10/10 [==============================] - 5s 490ms/step - loss: 0.0049 - val_loss: 0.0032\n",
      "Epoch 21/100\n",
      "10/10 [==============================] - 6s 547ms/step - loss: 0.0051 - val_loss: 0.0031\n",
      "Epoch 22/100\n",
      "10/10 [==============================] - 7s 675ms/step - loss: 0.0051 - val_loss: 0.0026\n",
      "Epoch 23/100\n",
      "10/10 [==============================] - 5s 545ms/step - loss: 0.0049 - val_loss: 0.0025\n",
      "Epoch 24/100\n",
      "10/10 [==============================] - 4s 378ms/step - loss: 0.0048 - val_loss: 0.0020\n",
      "Epoch 25/100\n",
      "10/10 [==============================] - 6s 607ms/step - loss: 0.0049 - val_loss: 0.0019\n",
      "Epoch 26/100\n",
      "10/10 [==============================] - 8s 816ms/step - loss: 0.0049 - val_loss: 0.0027\n",
      "Epoch 27/100\n",
      "10/10 [==============================] - 10s 963ms/step - loss: 0.0048 - val_loss: 0.0032\n",
      "Epoch 28/100\n",
      "10/10 [==============================] - 6s 574ms/step - loss: 0.0045 - val_loss: 0.0020\n",
      "Epoch 29/100\n",
      "10/10 [==============================] - 9s 936ms/step - loss: 0.0046 - val_loss: 0.0024\n",
      "Epoch 30/100\n",
      "10/10 [==============================] - 6s 468ms/step - loss: 0.0044 - val_loss: 0.0022\n",
      "Epoch 31/100\n",
      "10/10 [==============================] - 6s 509ms/step - loss: 0.0047 - val_loss: 0.0031\n",
      "Epoch 32/100\n",
      "10/10 [==============================] - 5s 526ms/step - loss: 0.0047 - val_loss: 0.0030\n",
      "Epoch 33/100\n",
      "10/10 [==============================] - 5s 514ms/step - loss: 0.0045 - val_loss: 0.0017\n",
      "Epoch 34/100\n",
      "10/10 [==============================] - 4s 419ms/step - loss: 0.0049 - val_loss: 0.0018\n",
      "Epoch 35/100\n",
      "10/10 [==============================] - 4s 462ms/step - loss: 0.0044 - val_loss: 0.0019\n",
      "Epoch 36/100\n",
      "10/10 [==============================] - 7s 644ms/step - loss: 0.0042 - val_loss: 0.0020\n",
      "Epoch 37/100\n",
      "10/10 [==============================] - 5s 482ms/step - loss: 0.0043 - val_loss: 0.0028\n",
      "Epoch 38/100\n",
      "10/10 [==============================] - 5s 525ms/step - loss: 0.0042 - val_loss: 0.0017\n",
      "Epoch 39/100\n",
      "10/10 [==============================] - 8s 830ms/step - loss: 0.0041 - val_loss: 0.0023\n",
      "Epoch 40/100\n",
      "10/10 [==============================] - 13s 1s/step - loss: 0.0041 - val_loss: 0.0016\n",
      "Epoch 41/100\n",
      "10/10 [==============================] - 13s 1s/step - loss: 0.0043 - val_loss: 0.0021\n",
      "Epoch 42/100\n",
      "10/10 [==============================] - 14s 1s/step - loss: 0.0046 - val_loss: 0.0022\n",
      "Epoch 43/100\n",
      "10/10 [==============================] - 9s 939ms/step - loss: 0.0044 - val_loss: 0.0018\n",
      "Epoch 44/100\n",
      "10/10 [==============================] - 5s 537ms/step - loss: 0.0042 - val_loss: 0.0017\n",
      "Epoch 45/100\n",
      "10/10 [==============================] - 5s 461ms/step - loss: 0.0040 - val_loss: 0.0029\n",
      "Epoch 46/100\n",
      "10/10 [==============================] - 13s 1s/step - loss: 0.0049 - val_loss: 0.0030\n",
      "Epoch 47/100\n",
      "10/10 [==============================] - 6s 617ms/step - loss: 0.0044 - val_loss: 0.0021\n",
      "Epoch 48/100\n",
      "10/10 [==============================] - 3s 311ms/step - loss: 0.0042 - val_loss: 0.0019\n",
      "Epoch 49/100\n",
      "10/10 [==============================] - 3s 262ms/step - loss: 0.0041 - val_loss: 0.0016\n",
      "Epoch 50/100\n",
      "10/10 [==============================] - 10s 1s/step - loss: 0.0046 - val_loss: 0.0015\n",
      "Epoch 51/100\n",
      "10/10 [==============================] - 3s 317ms/step - loss: 0.0042 - val_loss: 0.0017\n",
      "Epoch 52/100\n",
      "10/10 [==============================] - 2s 235ms/step - loss: 0.0042 - val_loss: 0.0022\n",
      "Epoch 53/100\n",
      "10/10 [==============================] - 8s 848ms/step - loss: 0.0043 - val_loss: 0.0017\n",
      "Epoch 54/100\n",
      "10/10 [==============================] - 9s 888ms/step - loss: 0.0041 - val_loss: 0.0015\n",
      "Epoch 55/100\n",
      "10/10 [==============================] - 10s 914ms/step - loss: 0.0040 - val_loss: 0.0014\n",
      "Epoch 56/100\n",
      "10/10 [==============================] - 10s 1s/step - loss: 0.0041 - val_loss: 0.0014\n",
      "Epoch 57/100\n",
      "10/10 [==============================] - 2s 231ms/step - loss: 0.0041 - val_loss: 0.0021\n",
      "Epoch 58/100\n",
      "10/10 [==============================] - 2s 234ms/step - loss: 0.0042 - val_loss: 0.0022\n",
      "Epoch 59/100\n",
      "10/10 [==============================] - 3s 284ms/step - loss: 0.0043 - val_loss: 0.0016\n",
      "Epoch 60/100\n",
      "10/10 [==============================] - 3s 310ms/step - loss: 0.0042 - val_loss: 0.0020\n",
      "Epoch 61/100\n",
      "10/10 [==============================] - 2s 252ms/step - loss: 0.0037 - val_loss: 0.0019\n",
      "Epoch 62/100\n",
      "10/10 [==============================] - 3s 335ms/step - loss: 0.0038 - val_loss: 0.0015\n",
      "Epoch 63/100\n",
      "10/10 [==============================] - 4s 357ms/step - loss: 0.0039 - val_loss: 0.0028\n",
      "Epoch 64/100\n",
      "10/10 [==============================] - 6s 634ms/step - loss: 0.0042 - val_loss: 0.0017\n",
      "Epoch 65/100\n",
      "10/10 [==============================] - 6s 601ms/step - loss: 0.0036 - val_loss: 0.0013\n",
      "Epoch 66/100\n",
      "10/10 [==============================] - 3s 321ms/step - loss: 0.0037 - val_loss: 0.0015\n",
      "Epoch 67/100\n",
      "10/10 [==============================] - 3s 285ms/step - loss: 0.0037 - val_loss: 0.0014\n",
      "Epoch 68/100\n",
      "10/10 [==============================] - 5s 571ms/step - loss: 0.0041 - val_loss: 0.0020\n",
      "Epoch 69/100\n",
      "10/10 [==============================] - 9s 852ms/step - loss: 0.0042 - val_loss: 0.0017\n",
      "Epoch 70/100\n",
      "10/10 [==============================] - 9s 906ms/step - loss: 0.0039 - val_loss: 0.0015\n",
      "Epoch 71/100\n",
      "10/10 [==============================] - 7s 699ms/step - loss: 0.0033 - val_loss: 0.0013\n",
      "Epoch 72/100\n",
      "10/10 [==============================] - 8s 702ms/step - loss: 0.0037 - val_loss: 0.0012\n",
      "Epoch 73/100\n",
      "10/10 [==============================] - 7s 691ms/step - loss: 0.0039 - val_loss: 0.0022\n",
      "Epoch 74/100\n",
      "10/10 [==============================] - 7s 747ms/step - loss: 0.0040 - val_loss: 0.0027\n",
      "Epoch 75/100\n",
      "10/10 [==============================] - 4s 390ms/step - loss: 0.0043 - val_loss: 0.0015\n",
      "Epoch 76/100\n",
      "10/10 [==============================] - 3s 335ms/step - loss: 0.0035 - val_loss: 0.0012\n",
      "Epoch 77/100\n",
      "10/10 [==============================] - 7s 710ms/step - loss: 0.0038 - val_loss: 0.0012\n",
      "Epoch 78/100\n",
      "10/10 [==============================] - 8s 919ms/step - loss: 0.0039 - val_loss: 0.0014\n",
      "Epoch 79/100\n",
      "10/10 [==============================] - 5s 564ms/step - loss: 0.0032 - val_loss: 0.0013\n",
      "Epoch 80/100\n",
      "10/10 [==============================] - 10s 970ms/step - loss: 0.0038 - val_loss: 0.0016\n",
      "Epoch 81/100\n",
      "10/10 [==============================] - 7s 766ms/step - loss: 0.0035 - val_loss: 0.0015\n",
      "Epoch 82/100\n",
      "10/10 [==============================] - 7s 774ms/step - loss: 0.0032 - val_loss: 0.0012\n",
      "Epoch 83/100\n",
      "10/10 [==============================] - 7s 783ms/step - loss: 0.0034 - val_loss: 0.0012\n",
      "Epoch 84/100\n",
      "10/10 [==============================] - 10s 1s/step - loss: 0.0032 - val_loss: 0.0013\n",
      "Epoch 85/100\n",
      "10/10 [==============================] - 11s 1s/step - loss: 0.0032 - val_loss: 0.0012\n",
      "Epoch 86/100\n",
      "10/10 [==============================] - 7s 806ms/step - loss: 0.0037 - val_loss: 0.0015\n",
      "Epoch 87/100\n",
      "10/10 [==============================] - 5s 445ms/step - loss: 0.0032 - val_loss: 0.0014\n",
      "Epoch 88/100\n",
      "10/10 [==============================] - 7s 702ms/step - loss: 0.0030 - val_loss: 0.0012\n",
      "Epoch 89/100\n",
      "10/10 [==============================] - 7s 751ms/step - loss: 0.0034 - val_loss: 0.0011\n",
      "Epoch 90/100\n",
      "10/10 [==============================] - 9s 977ms/step - loss: 0.0039 - val_loss: 0.0016\n",
      "Epoch 91/100\n",
      "10/10 [==============================] - 7s 733ms/step - loss: 0.0032 - val_loss: 0.0026\n",
      "Epoch 92/100\n",
      "10/10 [==============================] - 9s 964ms/step - loss: 0.0034 - val_loss: 0.0017\n",
      "Epoch 93/100\n",
      "10/10 [==============================] - 4s 341ms/step - loss: 0.0037 - val_loss: 0.0011\n",
      "Epoch 94/100\n",
      "10/10 [==============================] - 3s 288ms/step - loss: 0.0037 - val_loss: 0.0011\n",
      "Epoch 95/100\n",
      "10/10 [==============================] - 4s 402ms/step - loss: 0.0034 - val_loss: 0.0011\n",
      "Epoch 96/100\n",
      "10/10 [==============================] - 6s 679ms/step - loss: 0.0033 - val_loss: 0.0012\n",
      "Epoch 97/100\n",
      "10/10 [==============================] - 4s 400ms/step - loss: 0.0033 - val_loss: 0.0011\n",
      "Epoch 98/100\n",
      "10/10 [==============================] - 4s 430ms/step - loss: 0.0032 - val_loss: 9.9658e-04\n",
      "Epoch 99/100\n",
      "10/10 [==============================] - 3s 308ms/step - loss: 0.0036 - val_loss: 0.0010\n",
      "Epoch 100/100\n",
      "10/10 [==============================] - 10s 987ms/step - loss: 0.0035 - val_loss: 0.0017\n"
     ]
    },
    {
     "data": {
      "text/plain": [
       "<keras.callbacks.History at 0x1ec61fc2820>"
      ]
     },
     "execution_count": 12,
     "metadata": {},
     "output_type": "execute_result"
    }
   ],
   "source": [
    "# Training LSTM model\n",
    "model.fit(X_train, y_train, validation_data=(X_val, yval), epochs = 100, batch_size = 64,verbose = 1,  callbacks=earlystop)"
   ]
  },
  {
   "attachments": {},
   "cell_type": "markdown",
   "metadata": {},
   "source": [
    "### Testing process"
   ]
  },
  {
   "cell_type": "code",
   "execution_count": 13,
   "metadata": {},
   "outputs": [
    {
     "name": "stdout",
     "output_type": "stream",
     "text": [
      "6/6 [==============================] - 2s 25ms/step\n"
     ]
    }
   ],
   "source": [
    "# Predict\n",
    "y_pred = model.predict(X_test)"
   ]
  },
  {
   "attachments": {},
   "cell_type": "markdown",
   "metadata": {},
   "source": [
    "### Evaluate model"
   ]
  },
  {
   "cell_type": "code",
   "execution_count": 14,
   "metadata": {},
   "outputs": [
    {
     "name": "stdout",
     "output_type": "stream",
     "text": [
      "Testing MAPE:  0.3824151236893906\n",
      "Testing RMSE:  0.055193863235518\n",
      "Testing MSLE:  0.0024858053858138867\n"
     ]
    }
   ],
   "source": [
    "# Evaluate the accuracy of test\n",
    "test_mape = mean_absolute_percentage_error(y_pred, ytest)\n",
    "test_mse = mean_squared_error(y_pred, ytest)\n",
    "test_rmse = np.sqrt(test_mse)\n",
    "test_msle = mean_squared_log_error(y_pred, ytest)\n",
    "\n",
    "print(f\"Testing MAPE: \", test_mape)\n",
    "print(f\"Testing RMSE: \", test_rmse)\n",
    "print(f\"Testing MSLE: \", test_msle)"
   ]
  },
  {
   "attachments": {},
   "cell_type": "markdown",
   "metadata": {},
   "source": [
    "## Predicting the next 30 days"
   ]
  },
  {
   "attachments": {},
   "cell_type": "markdown",
   "metadata": {},
   "source": [
    "### Preparing the prediction data"
   ]
  },
  {
   "cell_type": "code",
   "execution_count": 15,
   "metadata": {},
   "outputs": [],
   "source": [
    "x_input = val_data[5:].reshape(1,-1)\n",
    "temp_input = list(x_input)\n",
    "temp_input = temp_input[0].tolist()\n",
    "\n",
    "# Define i\n",
    "i = 0\n",
    "\n",
    "# List storage value for next 30 days\n",
    "prediction_next30_days = []\n",
    "\n",
    "while(i < 30):\n",
    "    if(len(temp_input) > time_step):\n",
    "        x_input = np.array(temp_input[-time_step:])\n",
    "\n",
    "        x_input = x_input.reshape((1, time_step, 1))\n",
    "        y_hat = model.predict(x_input, verbose=0)\n",
    "\n",
    "        temp_input.extend(y_hat[0].tolist())\n",
    "        temp_input = temp_input[1:]\n",
    "\n",
    "        prediction_next30_days.extend(y_hat.tolist())\n",
    "        i = i + 1\n",
    "    else:\n",
    "        x_input = x_input.reshape((1, time_step, 1))\n",
    "        y_hat = model.predict(x_input, verbose = 0)\n",
    "\n",
    "        temp_input.extend(y_hat[0].tolist())\n",
    "\n",
    "        prediction_next30_days.extend(y_hat.tolist())\n",
    "        i = i + 1"
   ]
  },
  {
   "cell_type": "code",
   "execution_count": 16,
   "metadata": {},
   "outputs": [
    {
     "name": "stdout",
     "output_type": "stream",
     "text": [
      "[[0.36729902029037476], [0.3821338415145874], [0.3964262008666992], [0.41032475233078003], [0.42393046617507935], [0.4373021125793457], [0.4504706859588623], [0.46345120668411255], [0.47625046968460083], [0.4888721704483032], [0.5013192296028137], [0.5135952830314636], [0.5257037878036499], [0.5376489758491516], [0.5494357943534851], [0.561069130897522], [0.5725540518760681], [0.5838958024978638], [0.5950995683670044], [0.6061702370643616], [0.6171131134033203], [0.6279327273368835], [0.6386339664459229], [0.6492211818695068], [0.6596986055374146], [0.6700702905654907], [0.6803396940231323], [0.690510630607605], [0.700586199760437], [0.7105693817138672]]\n"
     ]
    }
   ],
   "source": [
    "# Print predict next 30 days\n",
    "print(prediction_next30_days)"
   ]
  },
  {
   "attachments": {},
   "cell_type": "markdown",
   "metadata": {},
   "source": [
    "### Preparing the forecast date index"
   ]
  },
  {
   "cell_type": "code",
   "execution_count": 17,
   "metadata": {},
   "outputs": [],
   "source": [
    "# Get the last date from the current index\n",
    "last_date = stock_intc.index.max()\n",
    "\n",
    "# Create a list of indices starting from the next date for 30 days\n",
    "future_dates = pd.date_range(start=pd.to_datetime(last_date) + pd.DateOffset(days=1), periods=30, freq='D')"
   ]
  },
  {
   "cell_type": "code",
   "execution_count": 18,
   "metadata": {},
   "outputs": [],
   "source": [
    "# Convert from list to array\n",
    "prediction_next30_days = np.array(prediction_next30_days)\n",
    "\n",
    "# Convert to normal values from 0, 1\n",
    "prediction_next30_days = scaler.inverse_transform(prediction_next30_days).reshape(-1)"
   ]
  },
  {
   "cell_type": "code",
   "execution_count": 19,
   "metadata": {},
   "outputs": [],
   "source": [
    "# Convert to normal values\n",
    "y_pred = scaler.inverse_transform(y_pred)\n",
    "train_data = scaler.inverse_transform(train_data)\n",
    "test_data = scaler.inverse_transform(test_data)\n",
    "val_data = scaler.inverse_transform(val_data)"
   ]
  },
  {
   "attachments": {},
   "cell_type": "markdown",
   "metadata": {},
   "source": [
    "## Visualization"
   ]
  },
  {
   "cell_type": "code",
   "execution_count": 20,
   "metadata": {},
   "outputs": [
    {
     "data": {
      "image/png": "[encoded data removed]",
      "text/plain": [
       "<Figure size 1600x500 with 1 Axes>"
      ]
     },
     "metadata": {},
     "output_type": "display_data"
    }
   ],
   "source": [
    "plt.figure(figsize=(16,5))\n",
    "\n",
    "plt.plot(stock_intc.index[:train_size], train_data)\n",
    "\n",
    "plt.plot(stock_intc.index[train_size:train_size + val_size],val_data)\n",
    "\n",
    "plt.plot(stock_intc.index[train_size + val_size: train_size + test_size + val_size], test_data)\n",
    "\n",
    "plt.plot(stock_intc.index[train_size + val_size + time_step: train_size + test_size + val_size],(y_pred))\n",
    "\n",
    "plt.plot(future_dates, prediction_next30_days)\n",
    "\n",
    "plt.xlabel('Date')\n",
    "plt.ylabel('Close Value')\n",
    "plt.title('Intel Corporation Closing Price Data from 2019-01-02 to 2023-07-12')\n",
    "plt.legend(['Train','Validate','Test','PredictTest','Next30days'])\n",
    "plt.grid()\n",
    "plt.savefig('../Image/LSTM_622_INTC.png')\n",
    "plt.show()"
   ]
  }
 ],
 "metadata": {
  "kernelspec": {
   "display_name": "base",
   "language": "python",
   "name": "python3"
  },
  "language_info": {
   "codemirror_mode": {
    "name": "ipython",
    "version": 3
   },
   "file_extension": ".py",
   "mimetype": "text/x-python",
   "name": "python",
   "nbconvert_exporter": "python",
   "pygments_lexer": "ipython3",
   "version": "3.9.16"
  },
  "orig_nbformat": 4
 },
 "nbformat": 4,
 "nbformat_minor": 2
}
