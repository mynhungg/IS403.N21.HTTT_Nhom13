{
 "cells": [
  {
   "attachments": {},
   "cell_type": "markdown",
   "metadata": {},
   "source": [
    "## Import Libraries"
   ]
  },
  {
   "cell_type": "code",
   "execution_count": 22,
   "metadata": {},
   "outputs": [],
   "source": [
    "import numpy as np\n",
    "import pandas as pd\n",
    "import matplotlib.pyplot as plt\n",
    "\n",
    "from numpy import array\n",
    "from keras.models import Sequential\n",
    "from keras.layers import Dense, LSTM, Dropout\n",
    "from keras.callbacks import EarlyStopping,ModelCheckpoint\n",
    "from sklearn.preprocessing import MinMaxScaler\n",
    "from sklearn.metrics import  mean_squared_error, mean_absolute_percentage_error, mean_squared_log_error"
   ]
  },
  {
   "attachments": {},
   "cell_type": "markdown",
   "metadata": {},
   "source": [
    "## Data preprocessing"
   ]
  },
  {
   "attachments": {},
   "cell_type": "markdown",
   "metadata": {},
   "source": [
    "### Read data"
   ]
  },
  {
   "cell_type": "code",
   "execution_count": 23,
   "metadata": {},
   "outputs": [
    {
     "data": {
      "text/html": [
       "<div>\n",
       "<style scoped>\n",
       "    .dataframe tbody tr th:only-of-type {\n",
       "        vertical-align: middle;\n",
       "    }\n",
       "\n",
       "    .dataframe tbody tr th {\n",
       "        vertical-align: top;\n",
       "    }\n",
       "\n",
       "    .dataframe thead th {\n",
       "        text-align: right;\n",
       "    }\n",
       "</style>\n",
       "<table border=\"1\" class=\"dataframe\">\n",
       "  <thead>\n",
       "    <tr style=\"text-align: right;\">\n",
       "      <th></th>\n",
       "      <th>Date</th>\n",
       "      <th>Open</th>\n",
       "      <th>High</th>\n",
       "      <th>Low</th>\n",
       "      <th>Close</th>\n",
       "      <th>Adj Close</th>\n",
       "      <th>Volume</th>\n",
       "    </tr>\n",
       "  </thead>\n",
       "  <tbody>\n",
       "    <tr>\n",
       "      <th>0</th>\n",
       "      <td>2019-01-02</td>\n",
       "      <td>30.860001</td>\n",
       "      <td>31.260000</td>\n",
       "      <td>30.240000</td>\n",
       "      <td>30.910000</td>\n",
       "      <td>30.910000</td>\n",
       "      <td>1201700</td>\n",
       "    </tr>\n",
       "    <tr>\n",
       "      <th>1</th>\n",
       "      <td>2019-01-03</td>\n",
       "      <td>30.660000</td>\n",
       "      <td>30.660000</td>\n",
       "      <td>29.290001</td>\n",
       "      <td>29.840000</td>\n",
       "      <td>29.840000</td>\n",
       "      <td>1149900</td>\n",
       "    </tr>\n",
       "    <tr>\n",
       "      <th>2</th>\n",
       "      <td>2019-01-04</td>\n",
       "      <td>30.049999</td>\n",
       "      <td>31.360001</td>\n",
       "      <td>29.940001</td>\n",
       "      <td>31.080000</td>\n",
       "      <td>31.080000</td>\n",
       "      <td>3530400</td>\n",
       "    </tr>\n",
       "    <tr>\n",
       "      <th>3</th>\n",
       "      <td>2019-01-07</td>\n",
       "      <td>31.020000</td>\n",
       "      <td>32.180000</td>\n",
       "      <td>30.850000</td>\n",
       "      <td>32.000000</td>\n",
       "      <td>32.000000</td>\n",
       "      <td>1063400</td>\n",
       "    </tr>\n",
       "    <tr>\n",
       "      <th>4</th>\n",
       "      <td>2019-01-08</td>\n",
       "      <td>32.340000</td>\n",
       "      <td>33.060001</td>\n",
       "      <td>32.150002</td>\n",
       "      <td>32.790001</td>\n",
       "      <td>32.790001</td>\n",
       "      <td>1391000</td>\n",
       "    </tr>\n",
       "    <tr>\n",
       "      <th>...</th>\n",
       "      <td>...</td>\n",
       "      <td>...</td>\n",
       "      <td>...</td>\n",
       "      <td>...</td>\n",
       "      <td>...</td>\n",
       "      <td>...</td>\n",
       "      <td>...</td>\n",
       "    </tr>\n",
       "    <tr>\n",
       "      <th>1114</th>\n",
       "      <td>2023-06-06</td>\n",
       "      <td>37.910000</td>\n",
       "      <td>39.049999</td>\n",
       "      <td>37.580002</td>\n",
       "      <td>38.820000</td>\n",
       "      <td>38.820000</td>\n",
       "      <td>2261700</td>\n",
       "    </tr>\n",
       "    <tr>\n",
       "      <th>1115</th>\n",
       "      <td>2023-06-07</td>\n",
       "      <td>39.160000</td>\n",
       "      <td>40.029999</td>\n",
       "      <td>38.250000</td>\n",
       "      <td>39.959999</td>\n",
       "      <td>39.959999</td>\n",
       "      <td>4382500</td>\n",
       "    </tr>\n",
       "    <tr>\n",
       "      <th>1116</th>\n",
       "      <td>2023-06-08</td>\n",
       "      <td>39.700001</td>\n",
       "      <td>39.840000</td>\n",
       "      <td>36.750000</td>\n",
       "      <td>39.000000</td>\n",
       "      <td>39.000000</td>\n",
       "      <td>9705500</td>\n",
       "    </tr>\n",
       "    <tr>\n",
       "      <th>1117</th>\n",
       "      <td>2023-06-09</td>\n",
       "      <td>39.250000</td>\n",
       "      <td>40.110001</td>\n",
       "      <td>38.480000</td>\n",
       "      <td>38.810001</td>\n",
       "      <td>38.810001</td>\n",
       "      <td>4493800</td>\n",
       "    </tr>\n",
       "    <tr>\n",
       "      <th>1118</th>\n",
       "      <td>2023-06-12</td>\n",
       "      <td>40.490002</td>\n",
       "      <td>44.450001</td>\n",
       "      <td>40.410000</td>\n",
       "      <td>42.779999</td>\n",
       "      <td>42.779999</td>\n",
       "      <td>10155800</td>\n",
       "    </tr>\n",
       "  </tbody>\n",
       "</table>\n",
       "<p>1119 rows × 7 columns</p>\n",
       "</div>"
      ],
      "text/plain": [
       "            Date       Open       High        Low      Close  Adj Close  \\\n",
       "0     2019-01-02  30.860001  31.260000  30.240000  30.910000  30.910000   \n",
       "1     2019-01-03  30.660000  30.660000  29.290001  29.840000  29.840000   \n",
       "2     2019-01-04  30.049999  31.360001  29.940001  31.080000  31.080000   \n",
       "3     2019-01-07  31.020000  32.180000  30.850000  32.000000  32.000000   \n",
       "4     2019-01-08  32.340000  33.060001  32.150002  32.790001  32.790001   \n",
       "...          ...        ...        ...        ...        ...        ...   \n",
       "1114  2023-06-06  37.910000  39.049999  37.580002  38.820000  38.820000   \n",
       "1115  2023-06-07  39.160000  40.029999  38.250000  39.959999  39.959999   \n",
       "1116  2023-06-08  39.700001  39.840000  36.750000  39.000000  39.000000   \n",
       "1117  2023-06-09  39.250000  40.110001  38.480000  38.810001  38.810001   \n",
       "1118  2023-06-12  40.490002  44.450001  40.410000  42.779999  42.779999   \n",
       "\n",
       "        Volume  \n",
       "0      1201700  \n",
       "1      1149900  \n",
       "2      3530400  \n",
       "3      1063400  \n",
       "4      1391000  \n",
       "...        ...  \n",
       "1114   2261700  \n",
       "1115   4382500  \n",
       "1116   9705500  \n",
       "1117   4493800  \n",
       "1118  10155800  \n",
       "\n",
       "[1119 rows x 7 columns]"
      ]
     },
     "execution_count": 23,
     "metadata": {},
     "output_type": "execute_result"
    }
   ],
   "source": [
    "stock_ctlt = pd.read_csv('../../../Dataset/CTLT.csv')\n",
    "stock_ctlt"
   ]
  },
  {
   "attachments": {},
   "cell_type": "markdown",
   "metadata": {},
   "source": [
    "### Reset index"
   ]
  },
  {
   "cell_type": "code",
   "execution_count": 24,
   "metadata": {},
   "outputs": [],
   "source": [
    "# Convert the 'Date' column to datetime format\n",
    "stock_ctlt['Date'] = pd.to_datetime(stock_ctlt['Date'])\n",
    "\n",
    "# Set the 'Date' column as the index value\n",
    "stock_ctlt = stock_ctlt.set_index(pd.DatetimeIndex(stock_ctlt['Date'].values))\n",
    "\n",
    "# Create new datafram with Date and Close\n",
    "df_ctlt = pd.DataFrame(stock_ctlt, columns=['Close'])"
   ]
  },
  {
   "attachments": {},
   "cell_type": "markdown",
   "metadata": {},
   "source": [
    "### Data normalization"
   ]
  },
  {
   "cell_type": "code",
   "execution_count": 25,
   "metadata": {},
   "outputs": [],
   "source": [
    "scaler = MinMaxScaler(feature_range=(0,1))\n",
    "df_ctlt = scaler.fit_transform(np.array(df_ctlt).reshape(-1,1))"
   ]
  },
  {
   "attachments": {},
   "cell_type": "markdown",
   "metadata": {},
   "source": [
    "### Data splitting"
   ]
  },
  {
   "cell_type": "code",
   "execution_count": 26,
   "metadata": {},
   "outputs": [],
   "source": [
    "# Length\n",
    "    # Train: 60%\n",
    "    # Val: 20%\n",
    "    # Test: 20%\n",
    "train_size = int(len(df_ctlt) * 0.6)\n",
    "val_size = int(len(df_ctlt) * 0.2)\n",
    "test_size = len(df_ctlt) - train_size - val_size"
   ]
  },
  {
   "cell_type": "code",
   "execution_count": 27,
   "metadata": {},
   "outputs": [],
   "source": [
    "# Get Data \n",
    "train_data = df_ctlt[:train_size]\n",
    "val_data = df_ctlt[train_size:train_size+val_size]\n",
    "test_data = df_ctlt[train_size+val_size:]"
   ]
  },
  {
   "cell_type": "code",
   "execution_count": 28,
   "metadata": {},
   "outputs": [],
   "source": [
    "# Create dataset\n",
    "def create_dataset(dataset, time_step=1):\n",
    "\tdataX, dataY = [], []\n",
    "\tfor i in range(len(dataset) - time_step):\n",
    "\t\ta = dataset[i:(i + time_step), 0]\n",
    "\t\tdataX.append(a)\n",
    "\t\tdataY.append(dataset[i + time_step, 0])\n",
    "\treturn np.array(dataX), np.array(dataY)"
   ]
  },
  {
   "cell_type": "code",
   "execution_count": 29,
   "metadata": {},
   "outputs": [],
   "source": [
    "# Reshape into X=t,t+1,t+2..t+60 and Y=t+60\n",
    "time_step = 60\n",
    "X_train, y_train = create_dataset(train_data, time_step)\n",
    "X_val, yval = create_dataset(val_data, time_step)\n",
    "X_test, ytest = create_dataset(test_data, time_step)"
   ]
  },
  {
   "cell_type": "code",
   "execution_count": 30,
   "metadata": {},
   "outputs": [],
   "source": [
    "# Make input for LSTM\n",
    "X_train = X_train.reshape(X_train.shape[0], X_train.shape[1] , 1)\n",
    "X_val = X_val.reshape(X_val.shape[0], X_val.shape[1] , 1)\n",
    "X_test = X_test.reshape(X_test.shape[0], X_test.shape[1] , 1)"
   ]
  },
  {
   "attachments": {},
   "cell_type": "markdown",
   "metadata": {},
   "source": [
    "## Model training and testing"
   ]
  },
  {
   "cell_type": "code",
   "execution_count": 31,
   "metadata": {},
   "outputs": [],
   "source": [
    "# Define model\n",
    "    # Pack the sequence of the inner layers\n",
    "model = Sequential()\n",
    "    # LSTM with 128 units\n",
    "model.add(LSTM(128, return_sequences=True, input_shape = (60, 1)))\n",
    "    # LSTM with 64 units\n",
    "model.add(LSTM(64, return_sequences=False, input_shape = (60, 1)))\n",
    "    # Dropout: Avoid remembering too much information => disable part of the previous data\n",
    "model.add(Dropout(0.2))\n",
    "    # 1 Dense layer (dense): 1 unit provides predictive value, using activiation function: relu\n",
    "model.add(Dense(1,activation='relu'))\n",
    "    # Compile model with loss function: MST, optimize: adam \n",
    "model.compile(loss='mean_squared_error', optimizer='adam')"
   ]
  },
  {
   "cell_type": "code",
   "execution_count": 32,
   "metadata": {},
   "outputs": [],
   "source": [
    "# Using earlystopping to prevent overfitting\n",
    "earlystop = EarlyStopping(monitor='val_loss', patience=10)"
   ]
  },
  {
   "cell_type": "code",
   "execution_count": 33,
   "metadata": {},
   "outputs": [
    {
     "name": "stdout",
     "output_type": "stream",
     "text": [
      "Epoch 1/100\n",
      "10/10 [==============================] - 19s 1s/step - loss: 0.0485 - val_loss: 0.0282\n",
      "Epoch 2/100\n",
      "10/10 [==============================] - 3s 341ms/step - loss: 0.0113 - val_loss: 0.0083\n",
      "Epoch 3/100\n",
      "10/10 [==============================] - 3s 300ms/step - loss: 0.0058 - val_loss: 0.0062\n",
      "Epoch 4/100\n",
      "10/10 [==============================] - 5s 544ms/step - loss: 0.0044 - val_loss: 0.0033\n",
      "Epoch 5/100\n",
      "10/10 [==============================] - 5s 498ms/step - loss: 0.0033 - val_loss: 0.0034\n",
      "Epoch 6/100\n",
      "10/10 [==============================] - 11s 1s/step - loss: 0.0032 - val_loss: 0.0034\n",
      "Epoch 7/100\n",
      "10/10 [==============================] - 7s 705ms/step - loss: 0.0028 - val_loss: 0.0027\n",
      "Epoch 8/100\n",
      "10/10 [==============================] - 6s 622ms/step - loss: 0.0026 - val_loss: 0.0028\n",
      "Epoch 9/100\n",
      "10/10 [==============================] - 5s 531ms/step - loss: 0.0026 - val_loss: 0.0040\n",
      "Epoch 10/100\n",
      "10/10 [==============================] - 6s 617ms/step - loss: 0.0026 - val_loss: 0.0028\n",
      "Epoch 11/100\n",
      "10/10 [==============================] - 8s 796ms/step - loss: 0.0025 - val_loss: 0.0027\n",
      "Epoch 12/100\n",
      "10/10 [==============================] - 5s 577ms/step - loss: 0.0027 - val_loss: 0.0026\n",
      "Epoch 13/100\n",
      "10/10 [==============================] - 7s 690ms/step - loss: 0.0026 - val_loss: 0.0027\n",
      "Epoch 14/100\n",
      "10/10 [==============================] - 5s 542ms/step - loss: 0.0028 - val_loss: 0.0028\n",
      "Epoch 15/100\n",
      "10/10 [==============================] - 7s 740ms/step - loss: 0.0026 - val_loss: 0.0029\n",
      "Epoch 16/100\n",
      "10/10 [==============================] - 10s 915ms/step - loss: 0.0023 - val_loss: 0.0034\n",
      "Epoch 17/100\n",
      "10/10 [==============================] - 7s 614ms/step - loss: 0.0026 - val_loss: 0.0027\n",
      "Epoch 18/100\n",
      "10/10 [==============================] - 5s 474ms/step - loss: 0.0022 - val_loss: 0.0030\n",
      "Epoch 19/100\n",
      "10/10 [==============================] - 5s 471ms/step - loss: 0.0019 - val_loss: 0.0034\n",
      "Epoch 20/100\n",
      "10/10 [==============================] - 5s 423ms/step - loss: 0.0023 - val_loss: 0.0037\n",
      "Epoch 21/100\n",
      "10/10 [==============================] - 6s 632ms/step - loss: 0.0022 - val_loss: 0.0027\n",
      "Epoch 22/100\n",
      "10/10 [==============================] - 4s 355ms/step - loss: 0.0023 - val_loss: 0.0025\n",
      "Epoch 23/100\n",
      "10/10 [==============================] - 6s 651ms/step - loss: 0.0023 - val_loss: 0.0026\n",
      "Epoch 24/100\n",
      "10/10 [==============================] - 6s 472ms/step - loss: 0.0021 - val_loss: 0.0023\n",
      "Epoch 25/100\n",
      "10/10 [==============================] - 5s 387ms/step - loss: 0.0020 - val_loss: 0.0023\n",
      "Epoch 26/100\n",
      "10/10 [==============================] - 8s 817ms/step - loss: 0.0019 - val_loss: 0.0026\n",
      "Epoch 27/100\n",
      "10/10 [==============================] - 4s 454ms/step - loss: 0.0021 - val_loss: 0.0023\n",
      "Epoch 28/100\n",
      "10/10 [==============================] - 6s 540ms/step - loss: 0.0023 - val_loss: 0.0022\n",
      "Epoch 29/100\n",
      "10/10 [==============================] - 5s 466ms/step - loss: 0.0023 - val_loss: 0.0022\n",
      "Epoch 30/100\n",
      "10/10 [==============================] - 7s 626ms/step - loss: 0.0022 - val_loss: 0.0023\n",
      "Epoch 31/100\n",
      "10/10 [==============================] - 9s 904ms/step - loss: 0.0020 - val_loss: 0.0025\n",
      "Epoch 32/100\n",
      "10/10 [==============================] - 9s 980ms/step - loss: 0.0020 - val_loss: 0.0022\n",
      "Epoch 33/100\n",
      "10/10 [==============================] - 9s 927ms/step - loss: 0.0020 - val_loss: 0.0022\n",
      "Epoch 34/100\n",
      "10/10 [==============================] - 7s 630ms/step - loss: 0.0017 - val_loss: 0.0025\n",
      "Epoch 35/100\n",
      "10/10 [==============================] - 5s 534ms/step - loss: 0.0022 - val_loss: 0.0037\n",
      "Epoch 36/100\n",
      "10/10 [==============================] - 4s 410ms/step - loss: 0.0021 - val_loss: 0.0022\n",
      "Epoch 37/100\n",
      "10/10 [==============================] - 5s 524ms/step - loss: 0.0019 - val_loss: 0.0021\n",
      "Epoch 38/100\n",
      "10/10 [==============================] - 5s 477ms/step - loss: 0.0017 - val_loss: 0.0021\n",
      "Epoch 39/100\n",
      "10/10 [==============================] - 4s 417ms/step - loss: 0.0020 - val_loss: 0.0020\n",
      "Epoch 40/100\n",
      "10/10 [==============================] - 6s 642ms/step - loss: 0.0016 - val_loss: 0.0020\n",
      "Epoch 41/100\n",
      "10/10 [==============================] - 5s 535ms/step - loss: 0.0017 - val_loss: 0.0027\n",
      "Epoch 42/100\n",
      "10/10 [==============================] - 4s 431ms/step - loss: 0.0019 - val_loss: 0.0032\n",
      "Epoch 43/100\n",
      "10/10 [==============================] - 9s 913ms/step - loss: 0.0018 - val_loss: 0.0021\n",
      "Epoch 44/100\n",
      "10/10 [==============================] - 14s 2s/step - loss: 0.0018 - val_loss: 0.0019\n",
      "Epoch 45/100\n",
      "10/10 [==============================] - 10s 1s/step - loss: 0.0018 - val_loss: 0.0019\n",
      "Epoch 46/100\n",
      "10/10 [==============================] - 16s 2s/step - loss: 0.0019 - val_loss: 0.0028\n",
      "Epoch 47/100\n",
      "10/10 [==============================] - 10s 1s/step - loss: 0.0018 - val_loss: 0.0019\n",
      "Epoch 48/100\n",
      "10/10 [==============================] - 6s 593ms/step - loss: 0.0017 - val_loss: 0.0020\n",
      "Epoch 49/100\n",
      "10/10 [==============================] - 4s 460ms/step - loss: 0.0017 - val_loss: 0.0021\n",
      "Epoch 50/100\n",
      "10/10 [==============================] - 13s 1s/step - loss: 0.0018 - val_loss: 0.0019\n",
      "Epoch 51/100\n",
      "10/10 [==============================] - 6s 671ms/step - loss: 0.0017 - val_loss: 0.0019\n",
      "Epoch 52/100\n",
      "10/10 [==============================] - 3s 329ms/step - loss: 0.0016 - val_loss: 0.0022\n",
      "Epoch 53/100\n",
      "10/10 [==============================] - 3s 267ms/step - loss: 0.0017 - val_loss: 0.0022\n",
      "Epoch 54/100\n",
      "10/10 [==============================] - 10s 1s/step - loss: 0.0017 - val_loss: 0.0018\n",
      "Epoch 55/100\n",
      "10/10 [==============================] - 4s 345ms/step - loss: 0.0019 - val_loss: 0.0031\n",
      "Epoch 56/100\n",
      "10/10 [==============================] - 2s 231ms/step - loss: 0.0020 - val_loss: 0.0020\n",
      "Epoch 57/100\n",
      "10/10 [==============================] - 8s 840ms/step - loss: 0.0019 - val_loss: 0.0020\n",
      "Epoch 58/100\n",
      "10/10 [==============================] - 9s 1s/step - loss: 0.0017 - val_loss: 0.0018\n",
      "Epoch 59/100\n",
      "10/10 [==============================] - 10s 1s/step - loss: 0.0016 - val_loss: 0.0022\n",
      "Epoch 60/100\n",
      "10/10 [==============================] - 10s 1s/step - loss: 0.0016 - val_loss: 0.0018\n",
      "Epoch 61/100\n",
      "10/10 [==============================] - 2s 241ms/step - loss: 0.0019 - val_loss: 0.0026\n",
      "Epoch 62/100\n",
      "10/10 [==============================] - 2s 253ms/step - loss: 0.0018 - val_loss: 0.0022\n",
      "Epoch 63/100\n",
      "10/10 [==============================] - 3s 285ms/step - loss: 0.0018 - val_loss: 0.0019\n",
      "Epoch 64/100\n",
      "10/10 [==============================] - 3s 312ms/step - loss: 0.0017 - val_loss: 0.0019\n",
      "Epoch 65/100\n",
      "10/10 [==============================] - 2s 253ms/step - loss: 0.0018 - val_loss: 0.0021\n",
      "Epoch 66/100\n",
      "10/10 [==============================] - 3s 335ms/step - loss: 0.0017 - val_loss: 0.0017\n",
      "Epoch 67/100\n",
      "10/10 [==============================] - 4s 365ms/step - loss: 0.0017 - val_loss: 0.0017\n",
      "Epoch 68/100\n",
      "10/10 [==============================] - 6s 690ms/step - loss: 0.0018 - val_loss: 0.0017\n",
      "Epoch 69/100\n",
      "10/10 [==============================] - 6s 601ms/step - loss: 0.0017 - val_loss: 0.0017\n",
      "Epoch 70/100\n",
      "10/10 [==============================] - 3s 325ms/step - loss: 0.0016 - val_loss: 0.0022\n",
      "Epoch 71/100\n",
      "10/10 [==============================] - 3s 291ms/step - loss: 0.0015 - val_loss: 0.0017\n",
      "Epoch 72/100\n",
      "10/10 [==============================] - 5s 581ms/step - loss: 0.0016 - val_loss: 0.0031\n",
      "Epoch 73/100\n",
      "10/10 [==============================] - 9s 854ms/step - loss: 0.0017 - val_loss: 0.0024\n",
      "Epoch 74/100\n",
      "10/10 [==============================] - 9s 904ms/step - loss: 0.0016 - val_loss: 0.0016\n",
      "Epoch 75/100\n",
      "10/10 [==============================] - 7s 722ms/step - loss: 0.0016 - val_loss: 0.0016\n",
      "Epoch 76/100\n",
      "10/10 [==============================] - 8s 717ms/step - loss: 0.0016 - val_loss: 0.0022\n",
      "Epoch 77/100\n",
      "10/10 [==============================] - 7s 647ms/step - loss: 0.0017 - val_loss: 0.0016\n",
      "Epoch 78/100\n",
      "10/10 [==============================] - 7s 654ms/step - loss: 0.0014 - val_loss: 0.0016\n",
      "Epoch 79/100\n",
      "10/10 [==============================] - 4s 372ms/step - loss: 0.0015 - val_loss: 0.0018\n",
      "Epoch 80/100\n",
      "10/10 [==============================] - 3s 338ms/step - loss: 0.0015 - val_loss: 0.0016\n",
      "Epoch 81/100\n",
      "10/10 [==============================] - 7s 684ms/step - loss: 0.0018 - val_loss: 0.0028\n",
      "Epoch 82/100\n",
      "10/10 [==============================] - 9s 920ms/step - loss: 0.0019 - val_loss: 0.0016\n",
      "Epoch 83/100\n",
      "10/10 [==============================] - 6s 590ms/step - loss: 0.0016 - val_loss: 0.0020\n",
      "Epoch 84/100\n",
      "10/10 [==============================] - 9s 922ms/step - loss: 0.0015 - val_loss: 0.0016\n",
      "Epoch 85/100\n",
      "10/10 [==============================] - 7s 685ms/step - loss: 0.0016 - val_loss: 0.0015\n",
      "Epoch 86/100\n",
      "10/10 [==============================] - 7s 697ms/step - loss: 0.0015 - val_loss: 0.0015\n",
      "Epoch 87/100\n",
      "10/10 [==============================] - 7s 740ms/step - loss: 0.0014 - val_loss: 0.0016\n",
      "Epoch 88/100\n",
      "10/10 [==============================] - 10s 957ms/step - loss: 0.0014 - val_loss: 0.0019\n",
      "Epoch 89/100\n",
      "10/10 [==============================] - 11s 987ms/step - loss: 0.0015 - val_loss: 0.0014\n",
      "Epoch 90/100\n",
      "10/10 [==============================] - 8s 749ms/step - loss: 0.0014 - val_loss: 0.0023\n",
      "Epoch 91/100\n",
      "10/10 [==============================] - 5s 482ms/step - loss: 0.0016 - val_loss: 0.0026\n",
      "Epoch 92/100\n",
      "10/10 [==============================] - 7s 691ms/step - loss: 0.0017 - val_loss: 0.0015\n",
      "Epoch 93/100\n",
      "10/10 [==============================] - 7s 682ms/step - loss: 0.0016 - val_loss: 0.0015\n",
      "Epoch 94/100\n",
      "10/10 [==============================] - 9s 949ms/step - loss: 0.0014 - val_loss: 0.0015\n",
      "Epoch 95/100\n",
      "10/10 [==============================] - 7s 675ms/step - loss: 0.0015 - val_loss: 0.0016\n",
      "Epoch 96/100\n",
      "10/10 [==============================] - 9s 951ms/step - loss: 0.0014 - val_loss: 0.0016\n",
      "Epoch 97/100\n",
      "10/10 [==============================] - 4s 375ms/step - loss: 0.0014 - val_loss: 0.0014\n",
      "Epoch 98/100\n",
      "10/10 [==============================] - 3s 335ms/step - loss: 0.0012 - val_loss: 0.0014\n",
      "Epoch 99/100\n",
      "10/10 [==============================] - 4s 394ms/step - loss: 0.0013 - val_loss: 0.0015\n",
      "Epoch 100/100\n",
      "10/10 [==============================] - 6s 546ms/step - loss: 0.0014 - val_loss: 0.0014\n"
     ]
    },
    {
     "data": {
      "text/plain": [
       "<keras.callbacks.History at 0x1f0e2181820>"
      ]
     },
     "execution_count": 33,
     "metadata": {},
     "output_type": "execute_result"
    }
   ],
   "source": [
    "# Training LSTM model\n",
    "model.fit(X_train, y_train, validation_data=(X_val, yval), epochs = 100, batch_size = 64,verbose = 1,  callbacks=earlystop)"
   ]
  },
  {
   "attachments": {},
   "cell_type": "markdown",
   "metadata": {},
   "source": [
    "### Testing process"
   ]
  },
  {
   "cell_type": "code",
   "execution_count": 34,
   "metadata": {},
   "outputs": [
    {
     "name": "stdout",
     "output_type": "stream",
     "text": [
      "6/6 [==============================] - 4s 92ms/step\n"
     ]
    }
   ],
   "source": [
    "# Predict\n",
    "y_pred = model.predict(X_test)"
   ]
  },
  {
   "attachments": {},
   "cell_type": "markdown",
   "metadata": {},
   "source": [
    "### Evaluate model"
   ]
  },
  {
   "cell_type": "code",
   "execution_count": 35,
   "metadata": {},
   "outputs": [
    {
     "name": "stdout",
     "output_type": "stream",
     "text": [
      "Testing MAPE:  0.208946904681166\n",
      "Testing RMSE:  0.04744331355847059\n",
      "Testing MSLE:  0.0015779029879930914\n"
     ]
    }
   ],
   "source": [
    "# Evaluate the accuracy of test\n",
    "test_mape = mean_absolute_percentage_error(y_pred, ytest)\n",
    "test_mse = mean_squared_error(y_pred, ytest)\n",
    "test_rmse = np.sqrt(test_mse)\n",
    "test_msle = mean_squared_log_error(y_pred, ytest)\n",
    "\n",
    "print(f\"Testing MAPE: \", test_mape)\n",
    "print(f\"Testing RMSE: \", test_rmse)\n",
    "print(f\"Testing MSLE: \", test_msle)"
   ]
  },
  {
   "attachments": {},
   "cell_type": "markdown",
   "metadata": {},
   "source": [
    "## Predicting the next 30 days"
   ]
  },
  {
   "attachments": {},
   "cell_type": "markdown",
   "metadata": {},
   "source": [
    "### Preparing the prediction data"
   ]
  },
  {
   "cell_type": "code",
   "execution_count": 36,
   "metadata": {},
   "outputs": [],
   "source": [
    "x_input = val_data[5:].reshape(1,-1)\n",
    "temp_input = list(x_input)\n",
    "temp_input = temp_input[0].tolist()\n",
    "\n",
    "# Define i\n",
    "i = 0\n",
    "\n",
    "# List storage value for next 30 days\n",
    "prediction_next30_days = []\n",
    "\n",
    "while(i < 30):\n",
    "    if(len(temp_input) > time_step):\n",
    "        x_input = np.array(temp_input[-time_step:])\n",
    "\n",
    "        x_input = x_input.reshape((1, time_step, 1))\n",
    "        y_hat = model.predict(x_input, verbose=0)\n",
    "\n",
    "        temp_input.extend(y_hat[0].tolist())\n",
    "        temp_input = temp_input[1:]\n",
    "\n",
    "        prediction_next30_days.extend(y_hat.tolist())\n",
    "        i = i + 1\n",
    "    else:\n",
    "        x_input = x_input.reshape((1, time_step, 1))\n",
    "        y_hat = model.predict(x_input, verbose = 0)\n",
    "\n",
    "        temp_input.extend(y_hat[0].tolist())\n",
    "\n",
    "        prediction_next30_days.extend(y_hat.tolist())\n",
    "        i = i + 1"
   ]
  },
  {
   "cell_type": "code",
   "execution_count": 37,
   "metadata": {},
   "outputs": [
    {
     "name": "stdout",
     "output_type": "stream",
     "text": [
      "[[0.6329243183135986], [0.6315879821777344], [0.6303999423980713], [0.6293603181838989], [0.6284518837928772], [0.6276475787162781], [0.626915693283081], [0.6262239813804626], [0.625542938709259], [0.6248476505279541], [0.6241187453269958], [0.623342752456665], [0.622511088848114], [0.621620237827301], [0.6206698417663574], [0.6196630597114563], [0.6186047792434692], [0.6175016760826111], [0.6163604855537415], [0.6151889562606812], [0.6139947175979614], [0.612784206867218], [0.6115641593933105], [0.6103403568267822], [0.6091172099113464], [0.6078992486000061], [0.6066892743110657], [0.6054902076721191], [0.6043035387992859], [0.6031308770179749]]\n"
     ]
    }
   ],
   "source": [
    "# Print predict next 30 days\n",
    "print(prediction_next30_days)"
   ]
  },
  {
   "attachments": {},
   "cell_type": "markdown",
   "metadata": {},
   "source": [
    "### Preparing the forecast date index"
   ]
  },
  {
   "cell_type": "code",
   "execution_count": 38,
   "metadata": {},
   "outputs": [],
   "source": [
    "# Get the last date from the current index\n",
    "last_date = stock_ctlt.index.max()\n",
    "\n",
    "# Create a list of indices starting from the next date for 30 days\n",
    "future_dates = pd.date_range(start=pd.to_datetime(last_date) + pd.DateOffset(days=1), periods=30, freq='D')"
   ]
  },
  {
   "cell_type": "code",
   "execution_count": 39,
   "metadata": {},
   "outputs": [],
   "source": [
    "# Convert to normal values from 0, 1\n",
    "prediction_next30_days = scaler.inverse_transform(prediction_next30_days).reshape(-1)"
   ]
  },
  {
   "cell_type": "code",
   "execution_count": 40,
   "metadata": {},
   "outputs": [],
   "source": [
    "# Convert to normal values\n",
    "y_pred = scaler.inverse_transform(y_pred)\n",
    "train_data = scaler.inverse_transform(train_data)\n",
    "test_data = scaler.inverse_transform(test_data)\n",
    "val_data = scaler.inverse_transform(val_data)"
   ]
  },
  {
   "attachments": {},
   "cell_type": "markdown",
   "metadata": {},
   "source": [
    "## Visualization"
   ]
  },
  {
   "cell_type": "code",
   "execution_count": 41,
   "metadata": {},
   "outputs": [
    {
     "data": {
      "image/png": "[encoded data removed]",
      "text/plain": [
       "<Figure size 1600x500 with 1 Axes>"
      ]
     },
     "metadata": {},
     "output_type": "display_data"
    }
   ],
   "source": [
    "plt.figure(figsize=(16,5))\n",
    "\n",
    "plt.plot(stock_ctlt.index[:train_size], train_data)\n",
    "\n",
    "plt.plot(stock_ctlt.index[train_size:train_size + val_size],val_data)\n",
    "\n",
    "plt.plot(stock_ctlt.index[train_size + val_size: train_size + test_size + val_size], test_data)\n",
    "\n",
    "plt.plot(stock_ctlt.index[train_size + val_size + time_step: train_size + test_size + val_size],(y_pred))\n",
    "\n",
    "plt.plot(future_dates, prediction_next30_days)\n",
    "\n",
    "plt.xlabel('Date')\n",
    "plt.ylabel('Close Value')\n",
    "plt.title('Catalent Closing Price Data from 2019-01-02 to 2023-07-12')\n",
    "plt.legend(['Train','Validate','Test','PredictTest','Next30days'])\n",
    "plt.grid()\n",
    "plt.savefig('../Image/LSTM_622_CTLT.png')\n",
    "plt.show()"
   ]
  }
 ],
 "metadata": {
  "kernelspec": {
   "display_name": "base",
   "language": "python",
   "name": "python3"
  },
  "language_info": {
   "codemirror_mode": {
    "name": "ipython",
    "version": 3
   },
   "file_extension": ".py",
   "mimetype": "text/x-python",
   "name": "python",
   "nbconvert_exporter": "python",
   "pygments_lexer": "ipython3",
   "version": "3.9.16"
  },
  "orig_nbformat": 4
 },
 "nbformat": 4,
 "nbformat_minor": 2
}
