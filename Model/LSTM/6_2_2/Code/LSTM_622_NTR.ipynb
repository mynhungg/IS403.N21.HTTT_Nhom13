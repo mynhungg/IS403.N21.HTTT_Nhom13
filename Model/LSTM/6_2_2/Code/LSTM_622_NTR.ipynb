{
 "cells": [
  {
   "attachments": {},
   "cell_type": "markdown",
   "metadata": {},
   "source": [
    "## Import Libraries"
   ]
  },
  {
   "cell_type": "code",
   "execution_count": 1,
   "metadata": {},
   "outputs": [
    {
     "name": "stderr",
     "output_type": "stream",
     "text": [
      "<frozen importlib._bootstrap>:228: RuntimeWarning: scipy._lib.messagestream.MessageStream size changed, may indicate binary incompatibility. Expected 56 from C header, got 64 from PyObject\n"
     ]
    }
   ],
   "source": [
    "import numpy as np\n",
    "import pandas as pd\n",
    "import matplotlib.pyplot as plt\n",
    "\n",
    "from numpy import array\n",
    "from keras.models import Sequential\n",
    "from keras.layers import Dense, LSTM, Dropout\n",
    "from keras.callbacks import EarlyStopping,ModelCheckpoint\n",
    "from sklearn.preprocessing import MinMaxScaler\n",
    "from sklearn.metrics import  mean_squared_error, mean_absolute_percentage_error, mean_squared_log_error"
   ]
  },
  {
   "attachments": {},
   "cell_type": "markdown",
   "metadata": {},
   "source": [
    "## Data preprocessing"
   ]
  },
  {
   "attachments": {},
   "cell_type": "markdown",
   "metadata": {},
   "source": [
    "### Read data"
   ]
  },
  {
   "cell_type": "code",
   "execution_count": 2,
   "metadata": {},
   "outputs": [
    {
     "data": {
      "text/html": [
       "<div>\n",
       "<style scoped>\n",
       "    .dataframe tbody tr th:only-of-type {\n",
       "        vertical-align: middle;\n",
       "    }\n",
       "\n",
       "    .dataframe tbody tr th {\n",
       "        vertical-align: top;\n",
       "    }\n",
       "\n",
       "    .dataframe thead th {\n",
       "        text-align: right;\n",
       "    }\n",
       "</style>\n",
       "<table border=\"1\" class=\"dataframe\">\n",
       "  <thead>\n",
       "    <tr style=\"text-align: right;\">\n",
       "      <th></th>\n",
       "      <th>Date</th>\n",
       "      <th>Open</th>\n",
       "      <th>High</th>\n",
       "      <th>Low</th>\n",
       "      <th>Close</th>\n",
       "      <th>Adj Close</th>\n",
       "      <th>Volume</th>\n",
       "    </tr>\n",
       "  </thead>\n",
       "  <tbody>\n",
       "    <tr>\n",
       "      <th>0</th>\n",
       "      <td>2019-01-02</td>\n",
       "      <td>46.209999</td>\n",
       "      <td>46.990002</td>\n",
       "      <td>45.855000</td>\n",
       "      <td>46.259998</td>\n",
       "      <td>40.076595</td>\n",
       "      <td>1289100</td>\n",
       "    </tr>\n",
       "    <tr>\n",
       "      <th>1</th>\n",
       "      <td>2019-01-03</td>\n",
       "      <td>46.000000</td>\n",
       "      <td>46.099998</td>\n",
       "      <td>44.882999</td>\n",
       "      <td>45.049999</td>\n",
       "      <td>39.028339</td>\n",
       "      <td>1158800</td>\n",
       "    </tr>\n",
       "    <tr>\n",
       "      <th>2</th>\n",
       "      <td>2019-01-04</td>\n",
       "      <td>45.950001</td>\n",
       "      <td>47.180000</td>\n",
       "      <td>45.880001</td>\n",
       "      <td>47.130001</td>\n",
       "      <td>40.830315</td>\n",
       "      <td>1538500</td>\n",
       "    </tr>\n",
       "    <tr>\n",
       "      <th>3</th>\n",
       "      <td>2019-01-07</td>\n",
       "      <td>47.310001</td>\n",
       "      <td>48.110001</td>\n",
       "      <td>46.840000</td>\n",
       "      <td>47.740002</td>\n",
       "      <td>41.358772</td>\n",
       "      <td>954700</td>\n",
       "    </tr>\n",
       "    <tr>\n",
       "      <th>4</th>\n",
       "      <td>2019-01-08</td>\n",
       "      <td>48.709999</td>\n",
       "      <td>49.480000</td>\n",
       "      <td>48.520000</td>\n",
       "      <td>49.209999</td>\n",
       "      <td>42.632286</td>\n",
       "      <td>1921800</td>\n",
       "    </tr>\n",
       "    <tr>\n",
       "      <th>...</th>\n",
       "      <td>...</td>\n",
       "      <td>...</td>\n",
       "      <td>...</td>\n",
       "      <td>...</td>\n",
       "      <td>...</td>\n",
       "      <td>...</td>\n",
       "      <td>...</td>\n",
       "    </tr>\n",
       "    <tr>\n",
       "      <th>1114</th>\n",
       "      <td>2023-06-06</td>\n",
       "      <td>53.000000</td>\n",
       "      <td>57.294998</td>\n",
       "      <td>52.820000</td>\n",
       "      <td>57.220001</td>\n",
       "      <td>57.220001</td>\n",
       "      <td>6397900</td>\n",
       "    </tr>\n",
       "    <tr>\n",
       "      <th>1115</th>\n",
       "      <td>2023-06-07</td>\n",
       "      <td>57.610001</td>\n",
       "      <td>59.750000</td>\n",
       "      <td>57.520000</td>\n",
       "      <td>59.340000</td>\n",
       "      <td>59.340000</td>\n",
       "      <td>2925500</td>\n",
       "    </tr>\n",
       "    <tr>\n",
       "      <th>1116</th>\n",
       "      <td>2023-06-08</td>\n",
       "      <td>59.400002</td>\n",
       "      <td>60.080002</td>\n",
       "      <td>57.910000</td>\n",
       "      <td>58.939999</td>\n",
       "      <td>58.939999</td>\n",
       "      <td>2828400</td>\n",
       "    </tr>\n",
       "    <tr>\n",
       "      <th>1117</th>\n",
       "      <td>2023-06-09</td>\n",
       "      <td>58.959999</td>\n",
       "      <td>59.349998</td>\n",
       "      <td>58.290001</td>\n",
       "      <td>58.790001</td>\n",
       "      <td>58.790001</td>\n",
       "      <td>1686600</td>\n",
       "    </tr>\n",
       "    <tr>\n",
       "      <th>1118</th>\n",
       "      <td>2023-06-12</td>\n",
       "      <td>58.279999</td>\n",
       "      <td>59.650002</td>\n",
       "      <td>58.279999</td>\n",
       "      <td>59.610001</td>\n",
       "      <td>59.610001</td>\n",
       "      <td>1563100</td>\n",
       "    </tr>\n",
       "  </tbody>\n",
       "</table>\n",
       "<p>1119 rows × 7 columns</p>\n",
       "</div>"
      ],
      "text/plain": [
       "            Date       Open       High        Low      Close  Adj Close  \\\n",
       "0     2019-01-02  46.209999  46.990002  45.855000  46.259998  40.076595   \n",
       "1     2019-01-03  46.000000  46.099998  44.882999  45.049999  39.028339   \n",
       "2     2019-01-04  45.950001  47.180000  45.880001  47.130001  40.830315   \n",
       "3     2019-01-07  47.310001  48.110001  46.840000  47.740002  41.358772   \n",
       "4     2019-01-08  48.709999  49.480000  48.520000  49.209999  42.632286   \n",
       "...          ...        ...        ...        ...        ...        ...   \n",
       "1114  2023-06-06  53.000000  57.294998  52.820000  57.220001  57.220001   \n",
       "1115  2023-06-07  57.610001  59.750000  57.520000  59.340000  59.340000   \n",
       "1116  2023-06-08  59.400002  60.080002  57.910000  58.939999  58.939999   \n",
       "1117  2023-06-09  58.959999  59.349998  58.290001  58.790001  58.790001   \n",
       "1118  2023-06-12  58.279999  59.650002  58.279999  59.610001  59.610001   \n",
       "\n",
       "       Volume  \n",
       "0     1289100  \n",
       "1     1158800  \n",
       "2     1538500  \n",
       "3      954700  \n",
       "4     1921800  \n",
       "...       ...  \n",
       "1114  6397900  \n",
       "1115  2925500  \n",
       "1116  2828400  \n",
       "1117  1686600  \n",
       "1118  1563100  \n",
       "\n",
       "[1119 rows x 7 columns]"
      ]
     },
     "execution_count": 2,
     "metadata": {},
     "output_type": "execute_result"
    }
   ],
   "source": [
    "stock_ntr = pd.read_csv('../../../Dataset/NTR.csv')\n",
    "stock_ntr"
   ]
  },
  {
   "attachments": {},
   "cell_type": "markdown",
   "metadata": {},
   "source": [
    "### Reset index"
   ]
  },
  {
   "cell_type": "code",
   "execution_count": 3,
   "metadata": {},
   "outputs": [],
   "source": [
    "# Convert the 'Date' column to datetime format\n",
    "stock_ntr['Date'] = pd.to_datetime(stock_ntr['Date'])\n",
    "\n",
    "# Set the 'Date' column as the index value\n",
    "stock_ntr = stock_ntr.set_index(pd.DatetimeIndex(stock_ntr['Date'].values))\n",
    "\n",
    "# Create new datafram with Date and Close\n",
    "df_ntr = pd.DataFrame(stock_ntr, columns=['Close'])"
   ]
  },
  {
   "attachments": {},
   "cell_type": "markdown",
   "metadata": {},
   "source": [
    "### Data normalization"
   ]
  },
  {
   "cell_type": "code",
   "execution_count": 4,
   "metadata": {},
   "outputs": [],
   "source": [
    "scaler = MinMaxScaler(feature_range=(0,1))\n",
    "df_ntr = scaler.fit_transform(np.array(df_ntr).reshape(-1,1))"
   ]
  },
  {
   "attachments": {},
   "cell_type": "markdown",
   "metadata": {},
   "source": [
    "### Data splitting"
   ]
  },
  {
   "cell_type": "code",
   "execution_count": 5,
   "metadata": {},
   "outputs": [],
   "source": [
    "# Length\n",
    "    # Train: 60%\n",
    "    # Val: 20%\n",
    "    # Test: 20%\n",
    "train_size = int(len(df_ntr) * 0.6)\n",
    "val_size = int(len(df_ntr) * 0.2)\n",
    "test_size = len(df_ntr) - train_size - val_size"
   ]
  },
  {
   "cell_type": "code",
   "execution_count": 6,
   "metadata": {},
   "outputs": [],
   "source": [
    "# Get Data \n",
    "train_data = df_ntr[:train_size]\n",
    "val_data = df_ntr[train_size:train_size+val_size]\n",
    "test_data = df_ntr[train_size+val_size:]"
   ]
  },
  {
   "cell_type": "code",
   "execution_count": 7,
   "metadata": {},
   "outputs": [],
   "source": [
    "# Create dataset\n",
    "def create_dataset(dataset, time_step=1):\n",
    "\tdataX, dataY = [], []\n",
    "\tfor i in range(len(dataset) - time_step):\n",
    "\t\ta = dataset[i:(i + time_step), 0]\n",
    "\t\tdataX.append(a)\n",
    "\t\tdataY.append(dataset[i + time_step, 0])\n",
    "\treturn np.array(dataX), np.array(dataY)"
   ]
  },
  {
   "cell_type": "code",
   "execution_count": 8,
   "metadata": {},
   "outputs": [],
   "source": [
    "# Reshape into X=t,t+1,t+2..t+60 and Y=t+60\n",
    "time_step = 60\n",
    "X_train, y_train = create_dataset(train_data, time_step)\n",
    "X_val, yval = create_dataset(val_data, time_step)\n",
    "X_test, ytest = create_dataset(test_data, time_step)"
   ]
  },
  {
   "cell_type": "code",
   "execution_count": 9,
   "metadata": {},
   "outputs": [],
   "source": [
    "# Tạo input cho dữ liệu đầu vào LSTM\n",
    "X_train = X_train.reshape(X_train.shape[0], X_train.shape[1] , 1)\n",
    "X_val = X_val.reshape(X_val.shape[0], X_val.shape[1] , 1)\n",
    "X_test = X_test.reshape(X_test.shape[0], X_test.shape[1] , 1)"
   ]
  },
  {
   "attachments": {},
   "cell_type": "markdown",
   "metadata": {},
   "source": [
    "## Model training and testing"
   ]
  },
  {
   "cell_type": "code",
   "execution_count": 10,
   "metadata": {},
   "outputs": [],
   "source": [
    "# Define model\n",
    "    # Pack the sequence of the inner layers\n",
    "model = Sequential()\n",
    "    # LSTM with 128 units\n",
    "model.add(LSTM(128, return_sequences=True, input_shape = (60, 1)))\n",
    "    # LSTM with 64 units\n",
    "model.add(LSTM(64, return_sequences=False, input_shape = (60, 1)))\n",
    "    # Dropout: Avoid remembering too much information => disable part of the previous data\n",
    "model.add(Dropout(0.2))\n",
    "    # 1 Dense layer (dense): 1 unit provides predictive value, using activiation function: relu\n",
    "model.add(Dense(1,activation='relu'))\n",
    "    # Compile model with loss function: MST, optimize: adam \n",
    "model.compile(loss='mean_squared_error', optimizer='adam')"
   ]
  },
  {
   "cell_type": "code",
   "execution_count": 11,
   "metadata": {},
   "outputs": [],
   "source": [
    "# Using earlystopping to prevent overfitting\n",
    "earlystop = EarlyStopping(monitor='val_loss', patience=10)"
   ]
  },
  {
   "cell_type": "code",
   "execution_count": 12,
   "metadata": {},
   "outputs": [
    {
     "name": "stdout",
     "output_type": "stream",
     "text": [
      "Epoch 1/100\n",
      "10/10 [==============================] - 21s 1s/step - loss: 0.0736 - val_loss: 0.4858\n",
      "Epoch 2/100\n",
      "10/10 [==============================] - 7s 616ms/step - loss: 0.0736 - val_loss: 0.4858\n",
      "Epoch 3/100\n",
      "10/10 [==============================] - 5s 440ms/step - loss: 0.0566 - val_loss: 0.0109\n",
      "Epoch 4/100\n",
      "10/10 [==============================] - 4s 365ms/step - loss: 0.0075 - val_loss: 0.0520\n",
      "Epoch 5/100\n",
      "10/10 [==============================] - 7s 710ms/step - loss: 0.0030 - val_loss: 0.0256\n",
      "Epoch 6/100\n",
      "10/10 [==============================] - 7s 636ms/step - loss: 0.0019 - val_loss: 0.0091\n",
      "Epoch 7/100\n",
      "10/10 [==============================] - 5s 528ms/step - loss: 0.0015 - val_loss: 0.0088\n",
      "Epoch 8/100\n",
      "10/10 [==============================] - 6s 623ms/step - loss: 0.0011 - val_loss: 0.0039\n",
      "Epoch 9/100\n",
      "10/10 [==============================] - 7s 665ms/step - loss: 0.0010 - val_loss: 0.0037\n",
      "Epoch 10/100\n",
      "10/10 [==============================] - 9s 964ms/step - loss: 0.0011 - val_loss: 0.0035\n",
      "Epoch 11/100\n",
      "10/10 [==============================] - 9s 971ms/step - loss: 9.7245e-04 - val_loss: 0.0041\n",
      "Epoch 12/100\n",
      "10/10 [==============================] - 5s 569ms/step - loss: 0.0010 - val_loss: 0.0036\n",
      "Epoch 13/100\n",
      "10/10 [==============================] - 5s 528ms/step - loss: 0.0010 - val_loss: 0.0040\n",
      "Epoch 14/100\n",
      "10/10 [==============================] - 5s 545ms/step - loss: 9.2048e-04 - val_loss: 0.0038\n",
      "Epoch 15/100\n",
      "10/10 [==============================] - 5s 479ms/step - loss: 9.1544e-04 - val_loss: 0.0032\n",
      "Epoch 16/100\n",
      "10/10 [==============================] - 6s 540ms/step - loss: 8.6769e-04 - val_loss: 0.0031\n",
      "Epoch 17/100\n",
      "10/10 [==============================] - 3s 310ms/step - loss: 9.5268e-04 - val_loss: 0.0032\n",
      "Epoch 18/100\n",
      "10/10 [==============================] - 8s 854ms/step - loss: 8.6548e-04 - val_loss: 0.0032\n",
      "Epoch 19/100\n",
      "10/10 [==============================] - 5s 575ms/step - loss: 8.5072e-04 - val_loss: 0.0030\n",
      "Epoch 20/100\n",
      "10/10 [==============================] - 4s 457ms/step - loss: 9.3473e-04 - val_loss: 0.0030\n",
      "Epoch 21/100\n",
      "10/10 [==============================] - 7s 678ms/step - loss: 8.6773e-04 - val_loss: 0.0033\n",
      "Epoch 22/100\n",
      "10/10 [==============================] - 5s 510ms/step - loss: 8.7941e-04 - val_loss: 0.0037\n",
      "Epoch 23/100\n",
      "10/10 [==============================] - 5s 564ms/step - loss: 9.5472e-04 - val_loss: 0.0032\n",
      "Epoch 24/100\n",
      "10/10 [==============================] - 6s 603ms/step - loss: 9.4736e-04 - val_loss: 0.0029\n",
      "Epoch 25/100\n",
      "10/10 [==============================] - 6s 677ms/step - loss: 7.9156e-04 - val_loss: 0.0031\n",
      "Epoch 26/100\n",
      "10/10 [==============================] - 8s 879ms/step - loss: 8.8086e-04 - val_loss: 0.0029\n",
      "Epoch 27/100\n",
      "10/10 [==============================] - 9s 849ms/step - loss: 8.3271e-04 - val_loss: 0.0029\n",
      "Epoch 28/100\n",
      "10/10 [==============================] - 9s 952ms/step - loss: 7.9518e-04 - val_loss: 0.0026\n",
      "Epoch 29/100\n",
      "10/10 [==============================] - 6s 645ms/step - loss: 7.9193e-04 - val_loss: 0.0026\n",
      "Epoch 30/100\n",
      "10/10 [==============================] - 5s 516ms/step - loss: 7.1824e-04 - val_loss: 0.0026\n",
      "Epoch 31/100\n",
      "10/10 [==============================] - 4s 383ms/step - loss: 7.6942e-04 - val_loss: 0.0028\n",
      "Epoch 32/100\n",
      "10/10 [==============================] - 5s 438ms/step - loss: 7.8652e-04 - val_loss: 0.0026\n",
      "Epoch 33/100\n",
      "10/10 [==============================] - 5s 379ms/step - loss: 7.6698e-04 - val_loss: 0.0025\n",
      "Epoch 34/100\n",
      "10/10 [==============================] - 4s 342ms/step - loss: 7.5266e-04 - val_loss: 0.0033\n",
      "Epoch 35/100\n",
      "10/10 [==============================] - 6s 542ms/step - loss: 8.1558e-04 - val_loss: 0.0027\n",
      "Epoch 36/100\n",
      "10/10 [==============================] - 5s 406ms/step - loss: 6.3809e-04 - val_loss: 0.0027\n",
      "Epoch 37/100\n",
      "10/10 [==============================] - 4s 317ms/step - loss: 7.4268e-04 - val_loss: 0.0035\n",
      "Epoch 38/100\n",
      "10/10 [==============================] - 9s 781ms/step - loss: 7.8917e-04 - val_loss: 0.0024\n",
      "Epoch 39/100\n",
      "10/10 [==============================] - 14s 1s/step - loss: 7.2771e-04 - val_loss: 0.0024\n",
      "Epoch 40/100\n",
      "10/10 [==============================] - 10s 1s/step - loss: 7.1787e-04 - val_loss: 0.0025\n",
      "Epoch 41/100\n",
      "10/10 [==============================] - 16s 2s/step - loss: 7.6036e-04 - val_loss: 0.0031\n",
      "Epoch 42/100\n",
      "10/10 [==============================] - 10s 1s/step - loss: 7.2337e-04 - val_loss: 0.0037\n",
      "Epoch 43/100\n",
      "10/10 [==============================] - 6s 596ms/step - loss: 7.7612e-04 - val_loss: 0.0026\n",
      "Epoch 44/100\n",
      "10/10 [==============================] - 4s 464ms/step - loss: 7.0056e-04 - val_loss: 0.0023\n",
      "Epoch 45/100\n",
      "10/10 [==============================] - 12s 1s/step - loss: 6.8041e-04 - val_loss: 0.0024\n",
      "Epoch 46/100\n",
      "10/10 [==============================] - 7s 616ms/step - loss: 6.9952e-04 - val_loss: 0.0022\n",
      "Epoch 47/100\n",
      "10/10 [==============================] - 4s 326ms/step - loss: 7.4823e-04 - val_loss: 0.0027\n",
      "Epoch 48/100\n",
      "10/10 [==============================] - 3s 274ms/step - loss: 6.2547e-04 - val_loss: 0.0023\n",
      "Epoch 49/100\n",
      "10/10 [==============================] - 9s 982ms/step - loss: 6.6729e-04 - val_loss: 0.0022\n",
      "Epoch 50/100\n",
      "10/10 [==============================] - 4s 363ms/step - loss: 6.5384e-04 - val_loss: 0.0023\n",
      "Epoch 51/100\n",
      "10/10 [==============================] - 2s 236ms/step - loss: 6.0227e-04 - val_loss: 0.0023\n",
      "Epoch 52/100\n",
      "10/10 [==============================] - 6s 679ms/step - loss: 5.9546e-04 - val_loss: 0.0021\n",
      "Epoch 53/100\n",
      "10/10 [==============================] - 10s 913ms/step - loss: 5.8568e-04 - val_loss: 0.0023\n",
      "Epoch 54/100\n",
      "10/10 [==============================] - 10s 932ms/step - loss: 5.6667e-04 - val_loss: 0.0026\n",
      "Epoch 55/100\n",
      "10/10 [==============================] - 10s 990ms/step - loss: 5.8506e-04 - val_loss: 0.0026\n",
      "Epoch 56/100\n",
      "10/10 [==============================] - 3s 204ms/step - loss: 5.8737e-04 - val_loss: 0.0029\n",
      "Epoch 57/100\n",
      "10/10 [==============================] - 2s 218ms/step - loss: 5.8631e-04 - val_loss: 0.0030\n",
      "Epoch 58/100\n",
      "10/10 [==============================] - 2s 201ms/step - loss: 5.8882e-04 - val_loss: 0.0023\n",
      "Epoch 59/100\n",
      "10/10 [==============================] - 3s 200ms/step - loss: 5.7257e-04 - val_loss: 0.0021\n",
      "Epoch 60/100\n",
      "10/10 [==============================] - 3s 214ms/step - loss: 5.8513e-04 - val_loss: 0.0025\n",
      "Epoch 61/100\n",
      "10/10 [==============================] - 3s 253ms/step - loss: 5.8159e-04 - val_loss: 0.0020\n",
      "Epoch 62/100\n",
      "10/10 [==============================] - 3s 263ms/step - loss: 5.3999e-04 - val_loss: 0.0021\n",
      "Epoch 63/100\n",
      "10/10 [==============================] - 7s 677ms/step - loss: 5.9332e-04 - val_loss: 0.0026\n",
      "Epoch 64/100\n",
      "10/10 [==============================] - 5s 527ms/step - loss: 6.6747e-04 - val_loss: 0.0024\n",
      "Epoch 65/100\n",
      "10/10 [==============================] - 4s 326ms/step - loss: 6.1722e-04 - val_loss: 0.0021\n",
      "Epoch 66/100\n",
      "10/10 [==============================] - 3s 237ms/step - loss: 5.4480e-04 - val_loss: 0.0025\n",
      "Epoch 67/100\n",
      "10/10 [==============================] - 4s 418ms/step - loss: 6.1029e-04 - val_loss: 0.0026\n",
      "Epoch 68/100\n",
      "10/10 [==============================] - 9s 891ms/step - loss: 5.9484e-04 - val_loss: 0.0028\n",
      "Epoch 69/100\n",
      "10/10 [==============================] - 8s 791ms/step - loss: 5.0013e-04 - val_loss: 0.0020\n",
      "Epoch 70/100\n",
      "10/10 [==============================] - 8s 679ms/step - loss: 4.7507e-04 - val_loss: 0.0020\n",
      "Epoch 71/100\n",
      "10/10 [==============================] - 8s 812ms/step - loss: 4.3909e-04 - val_loss: 0.0021\n",
      "Epoch 72/100\n",
      "10/10 [==============================] - 6s 649ms/step - loss: 5.0867e-04 - val_loss: 0.0021\n",
      "Epoch 73/100\n",
      "10/10 [==============================] - 8s 751ms/step - loss: 5.0255e-04 - val_loss: 0.0022\n",
      "Epoch 74/100\n",
      "10/10 [==============================] - 3s 315ms/step - loss: 5.3962e-04 - val_loss: 0.0021\n",
      "Epoch 75/100\n",
      "10/10 [==============================] - 3s 280ms/step - loss: 5.3370e-04 - val_loss: 0.0020\n",
      "Epoch 76/100\n",
      "10/10 [==============================] - 5s 515ms/step - loss: 4.6989e-04 - val_loss: 0.0020\n",
      "Epoch 77/100\n",
      "10/10 [==============================] - 9s 847ms/step - loss: 4.7492e-04 - val_loss: 0.0020\n",
      "Epoch 78/100\n",
      "10/10 [==============================] - 6s 542ms/step - loss: 4.7774e-04 - val_loss: 0.0020\n",
      "Epoch 79/100\n",
      "10/10 [==============================] - 11s 1s/step - loss: 5.3141e-04 - val_loss: 0.0020\n",
      "Epoch 80/100\n",
      "10/10 [==============================] - 7s 757ms/step - loss: 4.6815e-04 - val_loss: 0.0022\n",
      "Epoch 81/100\n",
      "10/10 [==============================] - 6s 663ms/step - loss: 5.0847e-04 - val_loss: 0.0021\n",
      "Epoch 82/100\n",
      "10/10 [==============================] - 8s 716ms/step - loss: 4.5579e-04 - val_loss: 0.0020\n",
      "Epoch 83/100\n",
      "10/10 [==============================] - 8s 752ms/step - loss: 4.6449e-04 - val_loss: 0.0020\n",
      "Epoch 84/100\n",
      "10/10 [==============================] - 12s 1s/step - loss: 4.6274e-04 - val_loss: 0.0020\n",
      "Epoch 85/100\n",
      "10/10 [==============================] - 7s 628ms/step - loss: 4.9331e-04 - val_loss: 0.0019\n",
      "Epoch 86/100\n",
      "10/10 [==============================] - 6s 465ms/step - loss: 4.9958e-04 - val_loss: 0.0027\n",
      "Epoch 87/100\n",
      "10/10 [==============================] - 6s 633ms/step - loss: 4.9745e-04 - val_loss: 0.0019\n",
      "Epoch 88/100\n",
      "10/10 [==============================] - 8s 772ms/step - loss: 5.1282e-04 - val_loss: 0.0021\n",
      "Epoch 89/100\n",
      "10/10 [==============================] - 8s 769ms/step - loss: 4.6190e-04 - val_loss: 0.0025\n",
      "Epoch 90/100\n",
      "10/10 [==============================] - 8s 662ms/step - loss: 5.3258e-04 - val_loss: 0.0019\n",
      "Epoch 91/100\n",
      "10/10 [==============================] - 8s 810ms/step - loss: 5.0572e-04 - val_loss: 0.0027\n",
      "Epoch 92/100\n",
      "10/10 [==============================] - 5s 371ms/step - loss: 4.5096e-04 - val_loss: 0.0018\n",
      "Epoch 93/100\n",
      "10/10 [==============================] - 3s 285ms/step - loss: 4.8401e-04 - val_loss: 0.0019\n",
      "Epoch 94/100\n",
      "10/10 [==============================] - 4s 403ms/step - loss: 4.7743e-04 - val_loss: 0.0019\n",
      "Epoch 95/100\n",
      "10/10 [==============================] - 6s 604ms/step - loss: 4.6309e-04 - val_loss: 0.0018\n",
      "Epoch 96/100\n",
      "10/10 [==============================] - 3s 269ms/step - loss: 5.0517e-04 - val_loss: 0.0018\n",
      "Epoch 97/100\n",
      "10/10 [==============================] - 4s 324ms/step - loss: 4.4792e-04 - val_loss: 0.0019\n",
      "Epoch 98/100\n",
      "10/10 [==============================] - 3s 232ms/step - loss: 4.6336e-04 - val_loss: 0.0017\n",
      "Epoch 99/100\n",
      "10/10 [==============================] - 10s 1s/step - loss: 4.4028e-04 - val_loss: 0.0018\n",
      "Epoch 100/100\n",
      "10/10 [==============================] - 2s 116ms/step - loss: 4.5877e-04 - val_loss: 0.0018\n"
     ]
    },
    {
     "data": {
      "text/plain": [
       "<keras.callbacks.History at 0x14b9d4a13a0>"
      ]
     },
     "execution_count": 12,
     "metadata": {},
     "output_type": "execute_result"
    }
   ],
   "source": [
    "# Training LSTM model\n",
    "model.fit(X_train, y_train, validation_data=(X_val, yval), epochs = 100, batch_size = 64,verbose = 1,  callbacks=earlystop)"
   ]
  },
  {
   "attachments": {},
   "cell_type": "markdown",
   "metadata": {},
   "source": [
    "### Testing process"
   ]
  },
  {
   "cell_type": "code",
   "execution_count": 13,
   "metadata": {},
   "outputs": [
    {
     "name": "stdout",
     "output_type": "stream",
     "text": [
      "6/6 [==============================] - 2s 27ms/step\n"
     ]
    }
   ],
   "source": [
    "# Predict\n",
    "y_pred = model.predict(X_test)"
   ]
  },
  {
   "attachments": {},
   "cell_type": "markdown",
   "metadata": {},
   "source": [
    "### Evaluate model"
   ]
  },
  {
   "cell_type": "code",
   "execution_count": 14,
   "metadata": {},
   "outputs": [
    {
     "name": "stdout",
     "output_type": "stream",
     "text": [
      "Testing MAPE:  0.04155801465333965\n",
      "Testing RMSE:  0.03046311241318746\n",
      "Testing MSLE:  0.000390098761504321\n"
     ]
    }
   ],
   "source": [
    "# Evaluate the accuracy of test\n",
    "test_mape = mean_absolute_percentage_error(y_pred, ytest)\n",
    "test_mse = mean_squared_error(y_pred, ytest)\n",
    "test_rmse = np.sqrt(test_mse)\n",
    "test_msle = mean_squared_log_error(y_pred, ytest)\n",
    "\n",
    "print(f\"Testing MAPE: \", test_mape)\n",
    "print(f\"Testing RMSE: \", test_rmse)\n",
    "print(f\"Testing MSLE: \", test_msle)"
   ]
  },
  {
   "attachments": {},
   "cell_type": "markdown",
   "metadata": {},
   "source": [
    "## Predicting the next 30 days"
   ]
  },
  {
   "attachments": {},
   "cell_type": "markdown",
   "metadata": {},
   "source": [
    "### Preparing the prediction data"
   ]
  },
  {
   "cell_type": "code",
   "execution_count": 15,
   "metadata": {},
   "outputs": [],
   "source": [
    "x_input = val_data[5:].reshape(1,-1)\n",
    "temp_input = list(x_input)\n",
    "temp_input = temp_input[0].tolist()\n",
    "\n",
    "# Define i\n",
    "i = 0\n",
    "\n",
    "# List storage value for next 30 days\n",
    "prediction_next30_days = []\n",
    "\n",
    "while(i < 30):\n",
    "    if(len(temp_input) > time_step):\n",
    "        x_input = np.array(temp_input[-time_step:])\n",
    "\n",
    "        x_input = x_input.reshape((1, time_step, 1))\n",
    "        y_hat = model.predict(x_input, verbose=0)\n",
    "\n",
    "        temp_input.extend(y_hat[0].tolist())\n",
    "        temp_input = temp_input[1:]\n",
    "\n",
    "        prediction_next30_days.extend(y_hat.tolist())\n",
    "        i = i + 1\n",
    "    else:\n",
    "        x_input = x_input.reshape((1, time_step, 1))\n",
    "        y_hat = model.predict(x_input, verbose = 0)\n",
    "\n",
    "        temp_input.extend(y_hat[0].tolist())\n",
    "\n",
    "        prediction_next30_days.extend(y_hat.tolist())\n",
    "        i = i + 1"
   ]
  },
  {
   "cell_type": "code",
   "execution_count": 16,
   "metadata": {},
   "outputs": [
    {
     "name": "stdout",
     "output_type": "stream",
     "text": [
      "[[0.5958046317100525], [0.6112367510795593], [0.6234942078590393], [0.6332499384880066], [0.6409037113189697], [0.6467432975769043], [0.651027500629425], [0.6540244817733765], [0.6560207009315491], [0.6573135852813721], [0.658197820186615], [0.6589489579200745], [0.6598084568977356], [0.6609742641448975], [0.6625939011573792], [0.6647620797157288], [0.6675234436988831], [0.6708775758743286], [0.6747854948043823], [0.6791805028915405], [0.6839748024940491], [0.689070999622345], [0.6943694353103638], [0.6997759938240051], [0.7052072882652283], [0.7105947732925415], [0.7158884406089783], [0.7210551500320435], [0.7260811924934387], [0.7309672236442566]]\n"
     ]
    }
   ],
   "source": [
    "# Print predict next 30 days\n",
    "print(prediction_next30_days)"
   ]
  },
  {
   "attachments": {},
   "cell_type": "markdown",
   "metadata": {},
   "source": [
    "### Preparing the forecast date index"
   ]
  },
  {
   "cell_type": "code",
   "execution_count": 17,
   "metadata": {},
   "outputs": [],
   "source": [
    "# Get the last date from the current index\n",
    "last_date = stock_ntr.index.max()\n",
    "\n",
    "# Create a list of indices starting from the next date for 30 days\n",
    "future_dates = pd.date_range(start=pd.to_datetime(last_date) + pd.DateOffset(days=1), periods=30, freq='D')"
   ]
  },
  {
   "cell_type": "code",
   "execution_count": 18,
   "metadata": {},
   "outputs": [],
   "source": [
    "# Convert from list to array\n",
    "prediction_next30_days = np.array(prediction_next30_days)\n",
    "\n",
    "# Convert to normal values from 0, 1\n",
    "prediction_next30_days = scaler.inverse_transform(prediction_next30_days).reshape(-1)"
   ]
  },
  {
   "cell_type": "code",
   "execution_count": 19,
   "metadata": {},
   "outputs": [],
   "source": [
    "# Convert to normal values\n",
    "y_pred = scaler.inverse_transform(y_pred)\n",
    "train_data = scaler.inverse_transform(train_data)\n",
    "test_data = scaler.inverse_transform(test_data)\n",
    "val_data = scaler.inverse_transform(val_data)"
   ]
  },
  {
   "cell_type": "code",
   "execution_count": 20,
   "metadata": {},
   "outputs": [
    {
     "data": {
      "image/png": "[encoded data removed]",
      "text/plain": [
       "<Figure size 1600x500 with 1 Axes>"
      ]
     },
     "metadata": {},
     "output_type": "display_data"
    }
   ],
   "source": [
    "plt.figure(figsize=(16,5))\n",
    "\n",
    "plt.plot(stock_ntr.index[:train_size], train_data)\n",
    "\n",
    "plt.plot(stock_ntr.index[train_size:train_size + val_size],val_data)\n",
    "\n",
    "plt.plot(stock_ntr.index[train_size + val_size: train_size + test_size + val_size], test_data)\n",
    "\n",
    "plt.plot(stock_ntr.index[train_size + val_size + time_step: train_size + test_size + val_size],(y_pred))\n",
    "\n",
    "plt.plot(future_dates, prediction_next30_days)\n",
    "\n",
    "plt.xlabel('Date')\n",
    "plt.ylabel('Close Value')\n",
    "plt.title('Nutrien Closing Price Data from 2019-01-02 to 2023-07-12')\n",
    "plt.legend(['Train','Validate','Test','PredictTest','Next30days'])\n",
    "plt.grid()\n",
    "plt.savefig('../Image/LSTM_622_NTR.png')\n",
    "plt.show()"
   ]
  }
 ],
 "metadata": {
  "kernelspec": {
   "display_name": "base",
   "language": "python",
   "name": "python3"
  },
  "language_info": {
   "codemirror_mode": {
    "name": "ipython",
    "version": 3
   },
   "file_extension": ".py",
   "mimetype": "text/x-python",
   "name": "python",
   "nbconvert_exporter": "python",
   "pygments_lexer": "ipython3",
   "version": "3.9.16"
  },
  "orig_nbformat": 4
 },
 "nbformat": 4,
 "nbformat_minor": 2
}
