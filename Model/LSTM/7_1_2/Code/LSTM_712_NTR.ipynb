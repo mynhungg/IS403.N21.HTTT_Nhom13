{
 "cells": [
  {
   "attachments": {},
   "cell_type": "markdown",
   "metadata": {},
   "source": [
    "## Import Libraries"
   ]
  },
  {
   "cell_type": "code",
   "execution_count": 1,
   "metadata": {},
   "outputs": [
    {
     "name": "stderr",
     "output_type": "stream",
     "text": [
      "<frozen importlib._bootstrap>:228: RuntimeWarning: scipy._lib.messagestream.MessageStream size changed, may indicate binary incompatibility. Expected 56 from C header, got 64 from PyObject\n"
     ]
    }
   ],
   "source": [
    "import numpy as np\n",
    "import pandas as pd\n",
    "import matplotlib.pyplot as plt\n",
    "\n",
    "from numpy import array\n",
    "from keras.models import Sequential\n",
    "from keras.layers import Dense, LSTM, Dropout\n",
    "from keras.callbacks import EarlyStopping,ModelCheckpoint\n",
    "from sklearn.preprocessing import MinMaxScaler\n",
    "from sklearn.metrics import  mean_squared_error, mean_absolute_percentage_error, mean_squared_log_error"
   ]
  },
  {
   "attachments": {},
   "cell_type": "markdown",
   "metadata": {},
   "source": [
    "## Data preprocessing"
   ]
  },
  {
   "attachments": {},
   "cell_type": "markdown",
   "metadata": {},
   "source": [
    "### Read data"
   ]
  },
  {
   "cell_type": "code",
   "execution_count": 2,
   "metadata": {},
   "outputs": [
    {
     "data": {
      "text/html": [
       "<div>\n",
       "<style scoped>\n",
       "    .dataframe tbody tr th:only-of-type {\n",
       "        vertical-align: middle;\n",
       "    }\n",
       "\n",
       "    .dataframe tbody tr th {\n",
       "        vertical-align: top;\n",
       "    }\n",
       "\n",
       "    .dataframe thead th {\n",
       "        text-align: right;\n",
       "    }\n",
       "</style>\n",
       "<table border=\"1\" class=\"dataframe\">\n",
       "  <thead>\n",
       "    <tr style=\"text-align: right;\">\n",
       "      <th></th>\n",
       "      <th>Date</th>\n",
       "      <th>Open</th>\n",
       "      <th>High</th>\n",
       "      <th>Low</th>\n",
       "      <th>Close</th>\n",
       "      <th>Adj Close</th>\n",
       "      <th>Volume</th>\n",
       "    </tr>\n",
       "  </thead>\n",
       "  <tbody>\n",
       "    <tr>\n",
       "      <th>0</th>\n",
       "      <td>2019-01-02</td>\n",
       "      <td>46.209999</td>\n",
       "      <td>46.990002</td>\n",
       "      <td>45.855000</td>\n",
       "      <td>46.259998</td>\n",
       "      <td>40.076595</td>\n",
       "      <td>1289100</td>\n",
       "    </tr>\n",
       "    <tr>\n",
       "      <th>1</th>\n",
       "      <td>2019-01-03</td>\n",
       "      <td>46.000000</td>\n",
       "      <td>46.099998</td>\n",
       "      <td>44.882999</td>\n",
       "      <td>45.049999</td>\n",
       "      <td>39.028339</td>\n",
       "      <td>1158800</td>\n",
       "    </tr>\n",
       "    <tr>\n",
       "      <th>2</th>\n",
       "      <td>2019-01-04</td>\n",
       "      <td>45.950001</td>\n",
       "      <td>47.180000</td>\n",
       "      <td>45.880001</td>\n",
       "      <td>47.130001</td>\n",
       "      <td>40.830315</td>\n",
       "      <td>1538500</td>\n",
       "    </tr>\n",
       "    <tr>\n",
       "      <th>3</th>\n",
       "      <td>2019-01-07</td>\n",
       "      <td>47.310001</td>\n",
       "      <td>48.110001</td>\n",
       "      <td>46.840000</td>\n",
       "      <td>47.740002</td>\n",
       "      <td>41.358772</td>\n",
       "      <td>954700</td>\n",
       "    </tr>\n",
       "    <tr>\n",
       "      <th>4</th>\n",
       "      <td>2019-01-08</td>\n",
       "      <td>48.709999</td>\n",
       "      <td>49.480000</td>\n",
       "      <td>48.520000</td>\n",
       "      <td>49.209999</td>\n",
       "      <td>42.632286</td>\n",
       "      <td>1921800</td>\n",
       "    </tr>\n",
       "    <tr>\n",
       "      <th>...</th>\n",
       "      <td>...</td>\n",
       "      <td>...</td>\n",
       "      <td>...</td>\n",
       "      <td>...</td>\n",
       "      <td>...</td>\n",
       "      <td>...</td>\n",
       "      <td>...</td>\n",
       "    </tr>\n",
       "    <tr>\n",
       "      <th>1114</th>\n",
       "      <td>2023-06-06</td>\n",
       "      <td>53.000000</td>\n",
       "      <td>57.294998</td>\n",
       "      <td>52.820000</td>\n",
       "      <td>57.220001</td>\n",
       "      <td>57.220001</td>\n",
       "      <td>6397900</td>\n",
       "    </tr>\n",
       "    <tr>\n",
       "      <th>1115</th>\n",
       "      <td>2023-06-07</td>\n",
       "      <td>57.610001</td>\n",
       "      <td>59.750000</td>\n",
       "      <td>57.520000</td>\n",
       "      <td>59.340000</td>\n",
       "      <td>59.340000</td>\n",
       "      <td>2925500</td>\n",
       "    </tr>\n",
       "    <tr>\n",
       "      <th>1116</th>\n",
       "      <td>2023-06-08</td>\n",
       "      <td>59.400002</td>\n",
       "      <td>60.080002</td>\n",
       "      <td>57.910000</td>\n",
       "      <td>58.939999</td>\n",
       "      <td>58.939999</td>\n",
       "      <td>2828400</td>\n",
       "    </tr>\n",
       "    <tr>\n",
       "      <th>1117</th>\n",
       "      <td>2023-06-09</td>\n",
       "      <td>58.959999</td>\n",
       "      <td>59.349998</td>\n",
       "      <td>58.290001</td>\n",
       "      <td>58.790001</td>\n",
       "      <td>58.790001</td>\n",
       "      <td>1686600</td>\n",
       "    </tr>\n",
       "    <tr>\n",
       "      <th>1118</th>\n",
       "      <td>2023-06-12</td>\n",
       "      <td>58.279999</td>\n",
       "      <td>59.650002</td>\n",
       "      <td>58.279999</td>\n",
       "      <td>59.610001</td>\n",
       "      <td>59.610001</td>\n",
       "      <td>1563100</td>\n",
       "    </tr>\n",
       "  </tbody>\n",
       "</table>\n",
       "<p>1119 rows × 7 columns</p>\n",
       "</div>"
      ],
      "text/plain": [
       "            Date       Open       High        Low      Close  Adj Close  \\\n",
       "0     2019-01-02  46.209999  46.990002  45.855000  46.259998  40.076595   \n",
       "1     2019-01-03  46.000000  46.099998  44.882999  45.049999  39.028339   \n",
       "2     2019-01-04  45.950001  47.180000  45.880001  47.130001  40.830315   \n",
       "3     2019-01-07  47.310001  48.110001  46.840000  47.740002  41.358772   \n",
       "4     2019-01-08  48.709999  49.480000  48.520000  49.209999  42.632286   \n",
       "...          ...        ...        ...        ...        ...        ...   \n",
       "1114  2023-06-06  53.000000  57.294998  52.820000  57.220001  57.220001   \n",
       "1115  2023-06-07  57.610001  59.750000  57.520000  59.340000  59.340000   \n",
       "1116  2023-06-08  59.400002  60.080002  57.910000  58.939999  58.939999   \n",
       "1117  2023-06-09  58.959999  59.349998  58.290001  58.790001  58.790001   \n",
       "1118  2023-06-12  58.279999  59.650002  58.279999  59.610001  59.610001   \n",
       "\n",
       "       Volume  \n",
       "0     1289100  \n",
       "1     1158800  \n",
       "2     1538500  \n",
       "3      954700  \n",
       "4     1921800  \n",
       "...       ...  \n",
       "1114  6397900  \n",
       "1115  2925500  \n",
       "1116  2828400  \n",
       "1117  1686600  \n",
       "1118  1563100  \n",
       "\n",
       "[1119 rows x 7 columns]"
      ]
     },
     "execution_count": 2,
     "metadata": {},
     "output_type": "execute_result"
    }
   ],
   "source": [
    "stock_ntr = pd.read_csv('../../../Dataset/NTR.csv')\n",
    "stock_ntr"
   ]
  },
  {
   "attachments": {},
   "cell_type": "markdown",
   "metadata": {},
   "source": [
    "### Reset index"
   ]
  },
  {
   "cell_type": "code",
   "execution_count": 3,
   "metadata": {},
   "outputs": [],
   "source": [
    "# Convert the 'Date' column to datetime format\n",
    "stock_ntr['Date'] = pd.to_datetime(stock_ntr['Date'])\n",
    "\n",
    "# Set the 'Date' column as the index value\n",
    "stock_ntr = stock_ntr.set_index(pd.DatetimeIndex(stock_ntr['Date'].values))\n",
    "\n",
    "# Create new datafram with Date and Close\n",
    "df_ntr = pd.DataFrame(stock_ntr, columns=['Close'])"
   ]
  },
  {
   "attachments": {},
   "cell_type": "markdown",
   "metadata": {},
   "source": [
    "### Data normalization"
   ]
  },
  {
   "cell_type": "code",
   "execution_count": 4,
   "metadata": {},
   "outputs": [],
   "source": [
    "scaler = MinMaxScaler(feature_range=(0,1))\n",
    "df_ntr = scaler.fit_transform(np.array(df_ntr).reshape(-1,1))"
   ]
  },
  {
   "attachments": {},
   "cell_type": "markdown",
   "metadata": {},
   "source": [
    "### Data splitting"
   ]
  },
  {
   "cell_type": "code",
   "execution_count": 5,
   "metadata": {},
   "outputs": [],
   "source": [
    "# Length\n",
    "    # Train: 70%\n",
    "    # Val: 10%\n",
    "    # Test: 20%\n",
    "train_size = int(len(df_ntr) * 0.7)\n",
    "val_size = int(len(df_ntr) * 0.1)\n",
    "test_size = len(df_ntr) - train_size - val_size"
   ]
  },
  {
   "cell_type": "code",
   "execution_count": 6,
   "metadata": {},
   "outputs": [],
   "source": [
    "# Get Data \n",
    "train_data = df_ntr[:train_size]\n",
    "val_data = df_ntr[train_size:train_size+val_size]\n",
    "test_data = df_ntr[train_size+val_size:]"
   ]
  },
  {
   "cell_type": "code",
   "execution_count": 7,
   "metadata": {},
   "outputs": [],
   "source": [
    "# Create dataset\n",
    "def create_dataset(dataset, time_step=1):\n",
    "\tdataX, dataY = [], []\n",
    "\tfor i in range(len(dataset) - time_step):\n",
    "\t\ta = dataset[i:(i + time_step), 0]\n",
    "\t\tdataX.append(a)\n",
    "\t\tdataY.append(dataset[i + time_step, 0])\n",
    "\treturn np.array(dataX), np.array(dataY)"
   ]
  },
  {
   "cell_type": "code",
   "execution_count": 8,
   "metadata": {},
   "outputs": [],
   "source": [
    "# Reshape into X=t,t+1,t+2..t+100 and Y=t+100\n",
    "time_step = 100\n",
    "\n",
    "# Get lost data for test\n",
    "train_last_windowsize = train_data[-time_step:]\n",
    "val_data_extended = np.concatenate((train_last_windowsize, val_data), axis=0)\n",
    "\n",
    "# Get lost data for val\n",
    "val_last_windowsize = val_data[-time_step:]\n",
    "test_data_extended = np.concatenate((val_last_windowsize, test_data), axis=0)\n",
    "\n",
    "X_train, y_train = create_dataset(train_data, time_step)\n",
    "X_val, yval = create_dataset(val_data_extended, time_step)\n",
    "X_test, ytest = create_dataset(test_data_extended, time_step)"
   ]
  },
  {
   "cell_type": "code",
   "execution_count": 9,
   "metadata": {},
   "outputs": [],
   "source": [
    "# Tạo input cho dữ liệu đầu vào LSTM\n",
    "X_train = X_train.reshape(X_train.shape[0], X_train.shape[1] , 1)\n",
    "X_val = X_val.reshape(X_val.shape[0], X_val.shape[1] , 1)\n",
    "X_test = X_test.reshape(X_test.shape[0], X_test.shape[1] , 1)"
   ]
  },
  {
   "attachments": {},
   "cell_type": "markdown",
   "metadata": {},
   "source": [
    "## Model training and testing"
   ]
  },
  {
   "cell_type": "code",
   "execution_count": 10,
   "metadata": {},
   "outputs": [],
   "source": [
    "# Define model\n",
    "    # Pack the sequence of the inner layers\n",
    "model = Sequential()\n",
    "    # LSTM with 64 units with reture_sequences = true => preidct along to the series\n",
    "model.add(LSTM(64, return_sequences=True, input_shape = (time_step, 1)))\n",
    "    # LSTM with 64 units with reture_sequences = false => get the last predict\n",
    "model.add(LSTM(64, return_sequences=False, input_shape = (time_step, 1)))\n",
    "    # Dropout: Avoid remembering too much information => disable part of the previous data\n",
    "model.add(Dropout(0.2))\n",
    "    # 1 Dense layer (dense): 1 unit provides predictive value, using activiation function: relu\n",
    "model.add(Dense(1,activation='relu'))\n",
    "    # Compile model with loss function: MST, optimize: adam \n",
    "model.compile(loss='mean_squared_error', optimizer='adam')"
   ]
  },
  {
   "cell_type": "code",
   "execution_count": 11,
   "metadata": {},
   "outputs": [],
   "source": [
    "# Using earlystopping to prevent overfitting\n",
    "earlystop = EarlyStopping(monitor='val_loss', patience=10)"
   ]
  },
  {
   "cell_type": "code",
   "execution_count": 12,
   "metadata": {},
   "outputs": [
    {
     "name": "stdout",
     "output_type": "stream",
     "text": [
      "Epoch 1/100\n",
      "11/11 [==============================] - 28s 1s/step - loss: 0.0204 - val_loss: 0.0445\n",
      "Epoch 2/100\n",
      "11/11 [==============================] - 6s 564ms/step - loss: 0.0046 - val_loss: 0.0072\n",
      "Epoch 3/100\n",
      "11/11 [==============================] - 6s 581ms/step - loss: 0.0027 - val_loss: 0.0172\n",
      "Epoch 4/100\n",
      "11/11 [==============================] - 7s 670ms/step - loss: 0.0018 - val_loss: 0.0070\n",
      "Epoch 5/100\n",
      "11/11 [==============================] - 6s 537ms/step - loss: 0.0014 - val_loss: 0.0066\n",
      "Epoch 6/100\n",
      "11/11 [==============================] - 6s 518ms/step - loss: 0.0013 - val_loss: 0.0071\n",
      "Epoch 7/100\n",
      "11/11 [==============================] - 6s 489ms/step - loss: 0.0013 - val_loss: 0.0078\n",
      "Epoch 8/100\n",
      "11/11 [==============================] - 6s 514ms/step - loss: 0.0012 - val_loss: 0.0070\n",
      "Epoch 9/100\n",
      "11/11 [==============================] - 6s 515ms/step - loss: 0.0011 - val_loss: 0.0072\n",
      "Epoch 10/100\n",
      "11/11 [==============================] - 8s 721ms/step - loss: 0.0012 - val_loss: 0.0080\n",
      "Epoch 11/100\n",
      "11/11 [==============================] - 10s 911ms/step - loss: 0.0013 - val_loss: 0.0080\n",
      "Epoch 12/100\n",
      "11/11 [==============================] - 9s 788ms/step - loss: 0.0011 - val_loss: 0.0067\n",
      "Epoch 13/100\n",
      "11/11 [==============================] - 9s 786ms/step - loss: 0.0012 - val_loss: 0.0070\n",
      "Epoch 14/100\n",
      "11/11 [==============================] - 10s 913ms/step - loss: 0.0012 - val_loss: 0.0054\n",
      "Epoch 15/100\n",
      "11/11 [==============================] - 9s 864ms/step - loss: 0.0011 - val_loss: 0.0053\n",
      "Epoch 16/100\n",
      "11/11 [==============================] - 6s 514ms/step - loss: 0.0011 - val_loss: 0.0052\n",
      "Epoch 17/100\n",
      "11/11 [==============================] - 7s 672ms/step - loss: 9.9830e-04 - val_loss: 0.0055\n",
      "Epoch 18/100\n",
      "11/11 [==============================] - 6s 535ms/step - loss: 0.0010 - val_loss: 0.0059\n",
      "Epoch 19/100\n",
      "11/11 [==============================] - 8s 730ms/step - loss: 0.0010 - val_loss: 0.0055\n",
      "Epoch 20/100\n",
      "11/11 [==============================] - 11s 553ms/step - loss: 9.5078e-04 - val_loss: 0.0053\n",
      "Epoch 21/100\n",
      "11/11 [==============================] - 14s 1s/step - loss: 0.0010 - val_loss: 0.0065\n",
      "Epoch 22/100\n",
      "11/11 [==============================] - 5s 487ms/step - loss: 0.0011 - val_loss: 0.0047\n",
      "Epoch 23/100\n",
      "11/11 [==============================] - 18s 2s/step - loss: 0.0010 - val_loss: 0.0052\n",
      "Epoch 24/100\n",
      "11/11 [==============================] - 5s 389ms/step - loss: 0.0010 - val_loss: 0.0057\n",
      "Epoch 25/100\n",
      "11/11 [==============================] - 6s 580ms/step - loss: 0.0010 - val_loss: 0.0078\n",
      "Epoch 26/100\n",
      "11/11 [==============================] - 9s 849ms/step - loss: 0.0011 - val_loss: 0.0052\n",
      "Epoch 27/100\n",
      "11/11 [==============================] - 6s 547ms/step - loss: 9.9125e-04 - val_loss: 0.0045\n",
      "Epoch 28/100\n",
      "11/11 [==============================] - 9s 863ms/step - loss: 9.3858e-04 - val_loss: 0.0042\n",
      "Epoch 29/100\n",
      "11/11 [==============================] - 7s 605ms/step - loss: 0.0010 - val_loss: 0.0040\n",
      "Epoch 30/100\n",
      "11/11 [==============================] - 6s 611ms/step - loss: 8.8567e-04 - val_loss: 0.0042\n",
      "Epoch 31/100\n",
      "11/11 [==============================] - 14s 1s/step - loss: 9.5092e-04 - val_loss: 0.0042\n",
      "Epoch 32/100\n",
      "11/11 [==============================] - 5s 381ms/step - loss: 9.6390e-04 - val_loss: 0.0040\n",
      "Epoch 33/100\n",
      "11/11 [==============================] - 17s 1s/step - loss: 9.7466e-04 - val_loss: 0.0047\n",
      "Epoch 34/100\n",
      "11/11 [==============================] - 8s 710ms/step - loss: 9.7436e-04 - val_loss: 0.0039\n",
      "Epoch 35/100\n",
      "11/11 [==============================] - 10s 997ms/step - loss: 8.4920e-04 - val_loss: 0.0039\n",
      "Epoch 36/100\n",
      "11/11 [==============================] - 18s 2s/step - loss: 8.1391e-04 - val_loss: 0.0041\n",
      "Epoch 37/100\n",
      "11/11 [==============================] - 11s 788ms/step - loss: 8.7873e-04 - val_loss: 0.0040\n",
      "Epoch 38/100\n",
      "11/11 [==============================] - 18s 2s/step - loss: 8.6927e-04 - val_loss: 0.0038\n",
      "Epoch 39/100\n",
      "11/11 [==============================] - 14s 1s/step - loss: 8.5451e-04 - val_loss: 0.0036\n",
      "Epoch 40/100\n",
      "11/11 [==============================] - 5s 447ms/step - loss: 8.8577e-04 - val_loss: 0.0036\n",
      "Epoch 41/100\n",
      "11/11 [==============================] - 5s 435ms/step - loss: 8.5043e-04 - val_loss: 0.0039\n",
      "Epoch 42/100\n",
      "11/11 [==============================] - 5s 471ms/step - loss: 8.5532e-04 - val_loss: 0.0035\n",
      "Epoch 43/100\n",
      "11/11 [==============================] - 5s 446ms/step - loss: 8.1204e-04 - val_loss: 0.0037\n",
      "Epoch 44/100\n",
      "11/11 [==============================] - 5s 439ms/step - loss: 9.3936e-04 - val_loss: 0.0038\n",
      "Epoch 45/100\n",
      "11/11 [==============================] - 6s 528ms/step - loss: 9.6726e-04 - val_loss: 0.0062\n",
      "Epoch 46/100\n",
      "11/11 [==============================] - 5s 499ms/step - loss: 0.0010 - val_loss: 0.0035\n",
      "Epoch 47/100\n",
      "11/11 [==============================] - 4s 339ms/step - loss: 9.5455e-04 - val_loss: 0.0034\n",
      "Epoch 48/100\n",
      "11/11 [==============================] - 4s 397ms/step - loss: 8.6467e-04 - val_loss: 0.0034\n",
      "Epoch 49/100\n",
      "11/11 [==============================] - 5s 433ms/step - loss: 7.6917e-04 - val_loss: 0.0035\n",
      "Epoch 50/100\n",
      "11/11 [==============================] - 5s 435ms/step - loss: 8.1090e-04 - val_loss: 0.0035\n",
      "Epoch 51/100\n",
      "11/11 [==============================] - 4s 315ms/step - loss: 7.5613e-04 - val_loss: 0.0033\n",
      "Epoch 52/100\n",
      "11/11 [==============================] - 3s 246ms/step - loss: 8.0676e-04 - val_loss: 0.0032\n",
      "Epoch 53/100\n",
      "11/11 [==============================] - 3s 288ms/step - loss: 7.5160e-04 - val_loss: 0.0033\n",
      "Epoch 54/100\n",
      "11/11 [==============================] - 3s 254ms/step - loss: 7.6668e-04 - val_loss: 0.0033\n",
      "Epoch 55/100\n",
      "11/11 [==============================] - 3s 284ms/step - loss: 7.6252e-04 - val_loss: 0.0031\n",
      "Epoch 56/100\n",
      "11/11 [==============================] - 3s 275ms/step - loss: 7.8294e-04 - val_loss: 0.0037\n",
      "Epoch 57/100\n",
      "11/11 [==============================] - 3s 298ms/step - loss: 7.3864e-04 - val_loss: 0.0031\n",
      "Epoch 58/100\n",
      "11/11 [==============================] - 3s 251ms/step - loss: 8.0985e-04 - val_loss: 0.0032\n",
      "Epoch 59/100\n",
      "11/11 [==============================] - 3s 272ms/step - loss: 7.3085e-04 - val_loss: 0.0034\n",
      "Epoch 60/100\n",
      "11/11 [==============================] - 3s 262ms/step - loss: 8.6168e-04 - val_loss: 0.0038\n",
      "Epoch 61/100\n",
      "11/11 [==============================] - 3s 258ms/step - loss: 7.2978e-04 - val_loss: 0.0031\n",
      "Epoch 62/100\n",
      "11/11 [==============================] - 3s 276ms/step - loss: 7.5261e-04 - val_loss: 0.0034\n",
      "Epoch 63/100\n",
      "11/11 [==============================] - 3s 279ms/step - loss: 7.2844e-04 - val_loss: 0.0031\n",
      "Epoch 64/100\n",
      "11/11 [==============================] - 3s 301ms/step - loss: 7.3468e-04 - val_loss: 0.0030\n",
      "Epoch 65/100\n",
      "11/11 [==============================] - 3s 280ms/step - loss: 7.5142e-04 - val_loss: 0.0030\n",
      "Epoch 66/100\n",
      "11/11 [==============================] - 3s 253ms/step - loss: 6.7651e-04 - val_loss: 0.0029\n",
      "Epoch 67/100\n",
      "11/11 [==============================] - 3s 298ms/step - loss: 6.6716e-04 - val_loss: 0.0031\n",
      "Epoch 68/100\n",
      "11/11 [==============================] - 3s 272ms/step - loss: 6.6517e-04 - val_loss: 0.0031\n",
      "Epoch 69/100\n",
      "11/11 [==============================] - 3s 273ms/step - loss: 7.4218e-04 - val_loss: 0.0032\n",
      "Epoch 70/100\n",
      "11/11 [==============================] - 3s 253ms/step - loss: 7.9774e-04 - val_loss: 0.0029\n",
      "Epoch 71/100\n",
      "11/11 [==============================] - 3s 249ms/step - loss: 7.3146e-04 - val_loss: 0.0029\n",
      "Epoch 72/100\n",
      "11/11 [==============================] - 3s 258ms/step - loss: 7.0697e-04 - val_loss: 0.0029\n",
      "Epoch 73/100\n",
      "11/11 [==============================] - 3s 275ms/step - loss: 6.8698e-04 - val_loss: 0.0031\n",
      "Epoch 74/100\n",
      "11/11 [==============================] - 3s 247ms/step - loss: 7.3584e-04 - val_loss: 0.0038\n",
      "Epoch 75/100\n",
      "11/11 [==============================] - 3s 250ms/step - loss: 7.1631e-04 - val_loss: 0.0029\n",
      "Epoch 76/100\n",
      "11/11 [==============================] - 3s 251ms/step - loss: 6.7340e-04 - val_loss: 0.0031\n",
      "Epoch 77/100\n",
      "11/11 [==============================] - 3s 231ms/step - loss: 6.5456e-04 - val_loss: 0.0030\n",
      "Epoch 78/100\n",
      "11/11 [==============================] - 3s 253ms/step - loss: 7.0007e-04 - val_loss: 0.0029\n",
      "Epoch 79/100\n",
      "11/11 [==============================] - 3s 256ms/step - loss: 6.0271e-04 - val_loss: 0.0032\n",
      "Epoch 80/100\n",
      "11/11 [==============================] - 3s 254ms/step - loss: 6.6573e-04 - val_loss: 0.0029\n",
      "Epoch 81/100\n",
      "11/11 [==============================] - 2s 227ms/step - loss: 6.8500e-04 - val_loss: 0.0031\n",
      "Epoch 82/100\n",
      "11/11 [==============================] - 3s 241ms/step - loss: 7.0492e-04 - val_loss: 0.0028\n",
      "Epoch 83/100\n",
      "11/11 [==============================] - 3s 276ms/step - loss: 6.9942e-04 - val_loss: 0.0034\n",
      "Epoch 84/100\n",
      "11/11 [==============================] - 3s 243ms/step - loss: 6.0716e-04 - val_loss: 0.0032\n",
      "Epoch 85/100\n",
      "11/11 [==============================] - 9s 906ms/step - loss: 6.6675e-04 - val_loss: 0.0029\n",
      "Epoch 86/100\n",
      "11/11 [==============================] - 3s 312ms/step - loss: 6.9987e-04 - val_loss: 0.0028\n",
      "Epoch 87/100\n",
      "11/11 [==============================] - 4s 356ms/step - loss: 5.9445e-04 - val_loss: 0.0032\n",
      "Epoch 88/100\n",
      "11/11 [==============================] - 3s 276ms/step - loss: 5.7024e-04 - val_loss: 0.0027\n",
      "Epoch 89/100\n",
      "11/11 [==============================] - 4s 375ms/step - loss: 6.2767e-04 - val_loss: 0.0029\n",
      "Epoch 90/100\n",
      "11/11 [==============================] - 6s 610ms/step - loss: 5.9791e-04 - val_loss: 0.0031\n",
      "Epoch 91/100\n",
      "11/11 [==============================] - 8s 732ms/step - loss: 5.8559e-04 - val_loss: 0.0027\n",
      "Epoch 92/100\n",
      "11/11 [==============================] - 6s 509ms/step - loss: 6.0678e-04 - val_loss: 0.0026\n",
      "Epoch 93/100\n",
      "11/11 [==============================] - 5s 447ms/step - loss: 7.0571e-04 - val_loss: 0.0027\n",
      "Epoch 94/100\n",
      "11/11 [==============================] - 5s 448ms/step - loss: 6.2706e-04 - val_loss: 0.0026\n",
      "Epoch 95/100\n",
      "11/11 [==============================] - 4s 333ms/step - loss: 5.7662e-04 - val_loss: 0.0029\n",
      "Epoch 96/100\n",
      "11/11 [==============================] - 5s 454ms/step - loss: 5.5859e-04 - val_loss: 0.0026\n",
      "Epoch 97/100\n",
      "11/11 [==============================] - 8s 780ms/step - loss: 5.8933e-04 - val_loss: 0.0028\n",
      "Epoch 98/100\n",
      "11/11 [==============================] - 8s 693ms/step - loss: 5.7494e-04 - val_loss: 0.0026\n",
      "Epoch 99/100\n",
      "11/11 [==============================] - 9s 732ms/step - loss: 5.8568e-04 - val_loss: 0.0033\n",
      "Epoch 100/100\n",
      "11/11 [==============================] - 4s 404ms/step - loss: 5.3956e-04 - val_loss: 0.0027\n"
     ]
    },
    {
     "data": {
      "text/plain": [
       "<keras.callbacks.History at 0x1808b2d7d30>"
      ]
     },
     "execution_count": 12,
     "metadata": {},
     "output_type": "execute_result"
    }
   ],
   "source": [
    "# Training LSTM model\n",
    "model.fit(X_train, y_train, validation_data=(X_val, yval), epochs = 100, batch_size = 64,verbose = 1,  callbacks=earlystop)"
   ]
  },
  {
   "attachments": {},
   "cell_type": "markdown",
   "metadata": {},
   "source": [
    "### Testing process"
   ]
  },
  {
   "cell_type": "code",
   "execution_count": 13,
   "metadata": {},
   "outputs": [
    {
     "name": "stdout",
     "output_type": "stream",
     "text": [
      "8/8 [==============================] - 7s 120ms/step\n",
      "4/4 [==============================] - 1s 99ms/step\n"
     ]
    }
   ],
   "source": [
    "# Predict\n",
    "    # Test\n",
    "y_pred = model.predict(X_test)\n",
    "    # Val\n",
    "y_pred_val = model.predict(X_val)"
   ]
  },
  {
   "attachments": {},
   "cell_type": "markdown",
   "metadata": {},
   "source": [
    "### Evaluate model"
   ]
  },
  {
   "cell_type": "code",
   "execution_count": 14,
   "metadata": {},
   "outputs": [
    {
     "name": "stdout",
     "output_type": "stream",
     "text": [
      "MAPE on Validate dataset:  0.05333639093180651\n",
      "RMSE on Validate dataset:  0.05165992557336608\n",
      "MSLE on Validate dataset:  0.0008468132067360579\n"
     ]
    }
   ],
   "source": [
    "# Evaluate the accuracy of validate\n",
    "val_mape = mean_absolute_percentage_error(y_pred_val, yval)\n",
    "val_mse = mean_squared_error(y_pred_val, yval)\n",
    "val_rmse = np.sqrt(val_mse)\n",
    "val_msle = mean_squared_log_error(y_pred_val, yval)\n",
    "\n",
    "print(f\"MAPE on Validate dataset: \", val_mape)\n",
    "print(f\"RMSE on Validate dataset: \", val_rmse)\n",
    "print(f\"MSLE on Validate dataset: \", val_msle)"
   ]
  },
  {
   "cell_type": "code",
   "execution_count": 15,
   "metadata": {},
   "outputs": [
    {
     "name": "stdout",
     "output_type": "stream",
     "text": [
      "MAPE on Test dataset:  0.04136113920450008\n",
      "RMSE on Test dataset:  0.032481249911835465\n",
      "MSLE on Test dataset:  0.00041084221476244044\n"
     ]
    }
   ],
   "source": [
    "# Evaluate the accuracy of test\n",
    "test_mape = mean_absolute_percentage_error(y_pred, ytest)\n",
    "test_mse = mean_squared_error(y_pred, ytest)\n",
    "test_rmse = np.sqrt(test_mse)\n",
    "test_msle = mean_squared_log_error(y_pred, ytest)\n",
    "\n",
    "print(f\"MAPE on Test dataset: \", test_mape)\n",
    "print(f\"RMSE on Test dataset: \", test_rmse)\n",
    "print(f\"MSLE on Test dataset: \", test_msle)"
   ]
  },
  {
   "attachments": {},
   "cell_type": "markdown",
   "metadata": {},
   "source": [
    "## Predicting the next 30 days"
   ]
  },
  {
   "attachments": {},
   "cell_type": "markdown",
   "metadata": {},
   "source": [
    "### Preparing the prediction data"
   ]
  },
  {
   "cell_type": "code",
   "execution_count": 16,
   "metadata": {},
   "outputs": [],
   "source": [
    "x_input = test_data[5:].reshape(1,-1)\n",
    "temp_input = list(x_input)\n",
    "temp_input = temp_input[0].tolist()\n",
    "\n",
    "# Define i\n",
    "i = 0\n",
    "\n",
    "# List storage value for next 30 days\n",
    "prediction_next30_days = []\n",
    "\n",
    "while(i < 30):\n",
    "    if(len(temp_input) > time_step):\n",
    "        x_input = np.array(temp_input[-time_step:])\n",
    "\n",
    "        x_input = x_input.reshape((1, time_step, 1))\n",
    "        y_hat = model.predict(x_input, verbose=0)\n",
    "\n",
    "        temp_input.extend(y_hat[0].tolist())\n",
    "        temp_input = temp_input[1:]\n",
    "\n",
    "        prediction_next30_days.extend(y_hat.tolist())\n",
    "        i = i + 1\n",
    "    else:\n",
    "        x_input = x_input.reshape((1, time_step, 1))\n",
    "        y_hat = model.predict(x_input, verbose = 0)\n",
    "\n",
    "        temp_input.extend(y_hat[0].tolist())\n",
    "\n",
    "        prediction_next30_days.extend(y_hat.tolist())\n",
    "        i = i + 1"
   ]
  },
  {
   "cell_type": "code",
   "execution_count": 17,
   "metadata": {},
   "outputs": [
    {
     "name": "stdout",
     "output_type": "stream",
     "text": [
      "[[0.38563743233680725], [0.39172208309173584], [0.39550307393074036], [0.39761555194854736], [0.3984569311141968], [0.39830830693244934], [0.39739546179771423], [0.3959185481071472], [0.3940613269805908], [0.3919919729232788], [0.38986045122146606], [0.38779500126838684], [0.3858991265296936], [0.38425078988075256], [0.38290175795555115], [0.3818797469139099], [0.3811911344528198], [0.3808232843875885], [0.3807491660118103], [0.3809303939342499], [0.3813216984272003], [0.3818739056587219], [0.38253727555274963], [0.3832642436027527], [0.384011447429657], [0.3847413957118988], [0.38542357087135315], [0.3860344886779785], [0.3865586221218109], [0.3869872987270355]]\n"
     ]
    }
   ],
   "source": [
    "# Print predict next 30 days\n",
    "print(prediction_next30_days)"
   ]
  },
  {
   "attachments": {},
   "cell_type": "markdown",
   "metadata": {},
   "source": [
    "### Preparing the forecast date index"
   ]
  },
  {
   "cell_type": "code",
   "execution_count": 18,
   "metadata": {},
   "outputs": [],
   "source": [
    "# Get the last date from the current index\n",
    "last_date = stock_ntr.index.max()\n",
    "\n",
    "# Create a list of indices starting from the next date for 30 days\n",
    "future_dates = pd.date_range(start=pd.to_datetime(last_date) + pd.DateOffset(days=1), periods=30, freq='D')"
   ]
  },
  {
   "cell_type": "code",
   "execution_count": 19,
   "metadata": {},
   "outputs": [],
   "source": [
    "# Convert to normal values from 0, 1\n",
    "prediction_next30_days = scaler.inverse_transform(prediction_next30_days).reshape(-1)"
   ]
  },
  {
   "cell_type": "code",
   "execution_count": 20,
   "metadata": {},
   "outputs": [],
   "source": [
    "# Convert to normal values\n",
    "y_pred = scaler.inverse_transform(y_pred)\n",
    "y_pred_val = scaler.inverse_transform(y_pred_val)\n",
    "train_data = scaler.inverse_transform(train_data)\n",
    "test_data = scaler.inverse_transform(test_data)\n",
    "val_data = scaler.inverse_transform(val_data)"
   ]
  },
  {
   "cell_type": "code",
   "execution_count": 21,
   "metadata": {},
   "outputs": [
    {
     "data": {
      "image/png": "[encoded data removed]",
      "text/plain": [
       "<Figure size 1600x500 with 1 Axes>"
      ]
     },
     "metadata": {},
     "output_type": "display_data"
    }
   ],
   "source": [
    "plt.figure(figsize=(16,5))\n",
    "\n",
    "plt.plot(stock_ntr.index[:train_size], train_data)\n",
    "\n",
    "plt.plot(stock_ntr.index[train_size:train_size + val_size],val_data)\n",
    "\n",
    "plt.plot(stock_ntr.index[train_size:train_size + val_size],y_pred_val)\n",
    "\n",
    "plt.plot(stock_ntr.index[train_size + val_size: ], test_data)\n",
    "\n",
    "plt.plot(stock_ntr.index[train_size + val_size: ],(y_pred))\n",
    "\n",
    "plt.plot(future_dates, prediction_next30_days)\n",
    "\n",
    "plt.xlabel('Date')\n",
    "plt.ylabel('Close Value')\n",
    "plt.title('Nutrien Closing Price Data from 2019-01-02 to 2023-07-12')\n",
    "plt.legend(['Train','Validate', 'PredictValidate','Test','PredictTest','Next30days'])\n",
    "plt.grid()\n",
    "plt.savefig('../Image/LSTM_712_NTR.png')\n",
    "plt.show()"
   ]
  }
 ],
 "metadata": {
  "kernelspec": {
   "display_name": "base",
   "language": "python",
   "name": "python3"
  },
  "language_info": {
   "codemirror_mode": {
    "name": "ipython",
    "version": 3
   },
   "file_extension": ".py",
   "mimetype": "text/x-python",
   "name": "python",
   "nbconvert_exporter": "python",
   "pygments_lexer": "ipython3",
   "version": "3.9.16"
  },
  "orig_nbformat": 4
 },
 "nbformat": 4,
 "nbformat_minor": 2
}
