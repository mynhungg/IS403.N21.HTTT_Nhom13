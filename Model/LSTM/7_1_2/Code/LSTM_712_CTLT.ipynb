{
 "cells": [
  {
   "attachments": {},
   "cell_type": "markdown",
   "metadata": {},
   "source": [
    "## Import Libraries"
   ]
  },
  {
   "cell_type": "code",
   "execution_count": 1,
   "metadata": {},
   "outputs": [
    {
     "name": "stderr",
     "output_type": "stream",
     "text": [
      "<frozen importlib._bootstrap>:228: RuntimeWarning: scipy._lib.messagestream.MessageStream size changed, may indicate binary incompatibility. Expected 56 from C header, got 64 from PyObject\n"
     ]
    }
   ],
   "source": [
    "import numpy as np\n",
    "import pandas as pd\n",
    "import matplotlib.pyplot as plt\n",
    "\n",
    "from numpy import array\n",
    "from keras.models import Sequential\n",
    "from keras.layers import Dense, LSTM, Dropout\n",
    "from keras.callbacks import EarlyStopping,ModelCheckpoint\n",
    "from sklearn.preprocessing import MinMaxScaler\n",
    "from sklearn.metrics import  mean_squared_error, mean_absolute_percentage_error, mean_squared_log_error"
   ]
  },
  {
   "attachments": {},
   "cell_type": "markdown",
   "metadata": {},
   "source": [
    "## Data preprocessing"
   ]
  },
  {
   "attachments": {},
   "cell_type": "markdown",
   "metadata": {},
   "source": [
    "### Read data"
   ]
  },
  {
   "cell_type": "code",
   "execution_count": 2,
   "metadata": {},
   "outputs": [
    {
     "data": {
      "text/html": [
       "<div>\n",
       "<style scoped>\n",
       "    .dataframe tbody tr th:only-of-type {\n",
       "        vertical-align: middle;\n",
       "    }\n",
       "\n",
       "    .dataframe tbody tr th {\n",
       "        vertical-align: top;\n",
       "    }\n",
       "\n",
       "    .dataframe thead th {\n",
       "        text-align: right;\n",
       "    }\n",
       "</style>\n",
       "<table border=\"1\" class=\"dataframe\">\n",
       "  <thead>\n",
       "    <tr style=\"text-align: right;\">\n",
       "      <th></th>\n",
       "      <th>Date</th>\n",
       "      <th>Open</th>\n",
       "      <th>High</th>\n",
       "      <th>Low</th>\n",
       "      <th>Close</th>\n",
       "      <th>Adj Close</th>\n",
       "      <th>Volume</th>\n",
       "    </tr>\n",
       "  </thead>\n",
       "  <tbody>\n",
       "    <tr>\n",
       "      <th>0</th>\n",
       "      <td>2019-01-02</td>\n",
       "      <td>30.860001</td>\n",
       "      <td>31.260000</td>\n",
       "      <td>30.240000</td>\n",
       "      <td>30.910000</td>\n",
       "      <td>30.910000</td>\n",
       "      <td>1201700</td>\n",
       "    </tr>\n",
       "    <tr>\n",
       "      <th>1</th>\n",
       "      <td>2019-01-03</td>\n",
       "      <td>30.660000</td>\n",
       "      <td>30.660000</td>\n",
       "      <td>29.290001</td>\n",
       "      <td>29.840000</td>\n",
       "      <td>29.840000</td>\n",
       "      <td>1149900</td>\n",
       "    </tr>\n",
       "    <tr>\n",
       "      <th>2</th>\n",
       "      <td>2019-01-04</td>\n",
       "      <td>30.049999</td>\n",
       "      <td>31.360001</td>\n",
       "      <td>29.940001</td>\n",
       "      <td>31.080000</td>\n",
       "      <td>31.080000</td>\n",
       "      <td>3530400</td>\n",
       "    </tr>\n",
       "    <tr>\n",
       "      <th>3</th>\n",
       "      <td>2019-01-07</td>\n",
       "      <td>31.020000</td>\n",
       "      <td>32.180000</td>\n",
       "      <td>30.850000</td>\n",
       "      <td>32.000000</td>\n",
       "      <td>32.000000</td>\n",
       "      <td>1063400</td>\n",
       "    </tr>\n",
       "    <tr>\n",
       "      <th>4</th>\n",
       "      <td>2019-01-08</td>\n",
       "      <td>32.340000</td>\n",
       "      <td>33.060001</td>\n",
       "      <td>32.150002</td>\n",
       "      <td>32.790001</td>\n",
       "      <td>32.790001</td>\n",
       "      <td>1391000</td>\n",
       "    </tr>\n",
       "    <tr>\n",
       "      <th>...</th>\n",
       "      <td>...</td>\n",
       "      <td>...</td>\n",
       "      <td>...</td>\n",
       "      <td>...</td>\n",
       "      <td>...</td>\n",
       "      <td>...</td>\n",
       "      <td>...</td>\n",
       "    </tr>\n",
       "    <tr>\n",
       "      <th>1114</th>\n",
       "      <td>2023-06-06</td>\n",
       "      <td>37.910000</td>\n",
       "      <td>39.049999</td>\n",
       "      <td>37.580002</td>\n",
       "      <td>38.820000</td>\n",
       "      <td>38.820000</td>\n",
       "      <td>2261700</td>\n",
       "    </tr>\n",
       "    <tr>\n",
       "      <th>1115</th>\n",
       "      <td>2023-06-07</td>\n",
       "      <td>39.160000</td>\n",
       "      <td>40.029999</td>\n",
       "      <td>38.250000</td>\n",
       "      <td>39.959999</td>\n",
       "      <td>39.959999</td>\n",
       "      <td>4382500</td>\n",
       "    </tr>\n",
       "    <tr>\n",
       "      <th>1116</th>\n",
       "      <td>2023-06-08</td>\n",
       "      <td>39.700001</td>\n",
       "      <td>39.840000</td>\n",
       "      <td>36.750000</td>\n",
       "      <td>39.000000</td>\n",
       "      <td>39.000000</td>\n",
       "      <td>9705500</td>\n",
       "    </tr>\n",
       "    <tr>\n",
       "      <th>1117</th>\n",
       "      <td>2023-06-09</td>\n",
       "      <td>39.250000</td>\n",
       "      <td>40.110001</td>\n",
       "      <td>38.480000</td>\n",
       "      <td>38.810001</td>\n",
       "      <td>38.810001</td>\n",
       "      <td>4493800</td>\n",
       "    </tr>\n",
       "    <tr>\n",
       "      <th>1118</th>\n",
       "      <td>2023-06-12</td>\n",
       "      <td>40.490002</td>\n",
       "      <td>44.450001</td>\n",
       "      <td>40.410000</td>\n",
       "      <td>42.779999</td>\n",
       "      <td>42.779999</td>\n",
       "      <td>10155800</td>\n",
       "    </tr>\n",
       "  </tbody>\n",
       "</table>\n",
       "<p>1119 rows × 7 columns</p>\n",
       "</div>"
      ],
      "text/plain": [
       "            Date       Open       High        Low      Close  Adj Close  \\\n",
       "0     2019-01-02  30.860001  31.260000  30.240000  30.910000  30.910000   \n",
       "1     2019-01-03  30.660000  30.660000  29.290001  29.840000  29.840000   \n",
       "2     2019-01-04  30.049999  31.360001  29.940001  31.080000  31.080000   \n",
       "3     2019-01-07  31.020000  32.180000  30.850000  32.000000  32.000000   \n",
       "4     2019-01-08  32.340000  33.060001  32.150002  32.790001  32.790001   \n",
       "...          ...        ...        ...        ...        ...        ...   \n",
       "1114  2023-06-06  37.910000  39.049999  37.580002  38.820000  38.820000   \n",
       "1115  2023-06-07  39.160000  40.029999  38.250000  39.959999  39.959999   \n",
       "1116  2023-06-08  39.700001  39.840000  36.750000  39.000000  39.000000   \n",
       "1117  2023-06-09  39.250000  40.110001  38.480000  38.810001  38.810001   \n",
       "1118  2023-06-12  40.490002  44.450001  40.410000  42.779999  42.779999   \n",
       "\n",
       "        Volume  \n",
       "0      1201700  \n",
       "1      1149900  \n",
       "2      3530400  \n",
       "3      1063400  \n",
       "4      1391000  \n",
       "...        ...  \n",
       "1114   2261700  \n",
       "1115   4382500  \n",
       "1116   9705500  \n",
       "1117   4493800  \n",
       "1118  10155800  \n",
       "\n",
       "[1119 rows x 7 columns]"
      ]
     },
     "execution_count": 2,
     "metadata": {},
     "output_type": "execute_result"
    }
   ],
   "source": [
    "stock_ctlt = pd.read_csv('../../../Dataset/CTLT.csv')\n",
    "stock_ctlt"
   ]
  },
  {
   "attachments": {},
   "cell_type": "markdown",
   "metadata": {},
   "source": [
    "### Reset index"
   ]
  },
  {
   "cell_type": "code",
   "execution_count": 3,
   "metadata": {},
   "outputs": [],
   "source": [
    "# Convert the 'Date' column to datetime format\n",
    "stock_ctlt['Date'] = pd.to_datetime(stock_ctlt['Date'])\n",
    "\n",
    "# Set the 'Date' column as the index value\n",
    "stock_ctlt = stock_ctlt.set_index(pd.DatetimeIndex(stock_ctlt['Date'].values))\n",
    "\n",
    "# Create new datafram with Date and Close\n",
    "df_ctlt = pd.DataFrame(stock_ctlt, columns=['Close'])"
   ]
  },
  {
   "attachments": {},
   "cell_type": "markdown",
   "metadata": {},
   "source": [
    "### Data normalization"
   ]
  },
  {
   "cell_type": "code",
   "execution_count": 4,
   "metadata": {},
   "outputs": [],
   "source": [
    "scaler = MinMaxScaler(feature_range=(0,1))\n",
    "df_ctlt = scaler.fit_transform(np.array(df_ctlt).reshape(-1,1))"
   ]
  },
  {
   "attachments": {},
   "cell_type": "markdown",
   "metadata": {},
   "source": [
    "### Data splitting"
   ]
  },
  {
   "cell_type": "code",
   "execution_count": 5,
   "metadata": {},
   "outputs": [],
   "source": [
    "# Length\n",
    "    # Train: 70%\n",
    "    # Val: 10%\n",
    "    # Test: 20%\n",
    "train_size = int(len(df_ctlt) * 0.7)\n",
    "val_size = int(len(df_ctlt) * 0.1)\n",
    "test_size = len(df_ctlt) - train_size - val_size"
   ]
  },
  {
   "cell_type": "code",
   "execution_count": 6,
   "metadata": {},
   "outputs": [],
   "source": [
    "# Get Data \n",
    "train_data = df_ctlt[:train_size]\n",
    "val_data = df_ctlt[train_size:train_size+val_size]\n",
    "test_data = df_ctlt[train_size+val_size:]"
   ]
  },
  {
   "cell_type": "code",
   "execution_count": 7,
   "metadata": {},
   "outputs": [],
   "source": [
    "# Create dataset\n",
    "def create_dataset(dataset, time_step=1):\n",
    "\tdataX, dataY = [], []\n",
    "\tfor i in range(len(dataset) - time_step):\n",
    "\t\ta = dataset[i:(i + time_step), 0]\n",
    "\t\tdataX.append(a)\n",
    "\t\tdataY.append(dataset[i + time_step, 0])\n",
    "\treturn np.array(dataX), np.array(dataY)"
   ]
  },
  {
   "cell_type": "code",
   "execution_count": 8,
   "metadata": {},
   "outputs": [],
   "source": [
    "# Reshape into X=t,t+1,t+2..t+100 and Y=t+100\n",
    "time_step = 100\n",
    "\n",
    "# Get lost data for test\n",
    "train_last_windowsize = train_data[-time_step:]\n",
    "val_data_extended = np.concatenate((train_last_windowsize, val_data), axis=0)\n",
    "\n",
    "# Get lost data for val\n",
    "val_last_windowsize = val_data[-time_step:]\n",
    "test_data_extended = np.concatenate((val_last_windowsize, test_data), axis=0)\n",
    "\n",
    "X_train, y_train = create_dataset(train_data, time_step)\n",
    "X_val, yval = create_dataset(val_data_extended, time_step)\n",
    "X_test, ytest = create_dataset(test_data_extended, time_step)"
   ]
  },
  {
   "cell_type": "code",
   "execution_count": 9,
   "metadata": {},
   "outputs": [],
   "source": [
    "# Make input for LSTM\n",
    "X_train = X_train.reshape(X_train.shape[0], X_train.shape[1] , 1)\n",
    "X_val = X_val.reshape(X_val.shape[0], X_val.shape[1] , 1)\n",
    "X_test = X_test.reshape(X_test.shape[0], X_test.shape[1] , 1)"
   ]
  },
  {
   "attachments": {},
   "cell_type": "markdown",
   "metadata": {},
   "source": [
    "## Model training and testing"
   ]
  },
  {
   "cell_type": "code",
   "execution_count": 10,
   "metadata": {},
   "outputs": [],
   "source": [
    "# Define model\n",
    "    # Pack the sequence of the inner layers\n",
    "model = Sequential()\n",
    "    # LSTM with 64 units with reture_sequences = true => preidct along to the series\n",
    "model.add(LSTM(64, return_sequences=True, input_shape = (time_step, 1)))\n",
    "    # LSTM with 64 units with reture_sequences = false => get the last predict\n",
    "model.add(LSTM(64, return_sequences=False, input_shape = (time_step, 1)))\n",
    "    # Dropout: Avoid remembering too much information => disable part of the previous data\n",
    "model.add(Dropout(0.2))\n",
    "    # 1 Dense layer (dense): 1 unit provides predictive value, using activiation function: relu\n",
    "model.add(Dense(1,activation='relu'))\n",
    "    # Compile model with loss function: MST, optimize: adam \n",
    "model.compile(loss='mean_squared_error', optimizer='adam')"
   ]
  },
  {
   "cell_type": "code",
   "execution_count": 11,
   "metadata": {},
   "outputs": [],
   "source": [
    "# Using earlystopping to prevent overfitting\n",
    "earlystop = EarlyStopping(monitor='val_loss', patience=10)"
   ]
  },
  {
   "cell_type": "code",
   "execution_count": 12,
   "metadata": {},
   "outputs": [
    {
     "name": "stdout",
     "output_type": "stream",
     "text": [
      "Epoch 1/100\n",
      "11/11 [==============================] - 29s 1s/step - loss: 0.1172 - val_loss: 0.0107\n",
      "Epoch 2/100\n",
      "11/11 [==============================] - 6s 572ms/step - loss: 0.0155 - val_loss: 0.0062\n",
      "Epoch 3/100\n",
      "11/11 [==============================] - 7s 605ms/step - loss: 0.0082 - val_loss: 0.0027\n",
      "Epoch 4/100\n",
      "11/11 [==============================] - 8s 732ms/step - loss: 0.0059 - val_loss: 0.0027\n",
      "Epoch 5/100\n",
      "11/11 [==============================] - 6s 542ms/step - loss: 0.0046 - val_loss: 0.0028\n",
      "Epoch 6/100\n",
      "11/11 [==============================] - 6s 572ms/step - loss: 0.0041 - val_loss: 0.0032\n",
      "Epoch 7/100\n",
      "11/11 [==============================] - 6s 564ms/step - loss: 0.0044 - val_loss: 0.0029\n",
      "Epoch 8/100\n",
      "11/11 [==============================] - 6s 555ms/step - loss: 0.0042 - val_loss: 0.0028\n",
      "Epoch 9/100\n",
      "11/11 [==============================] - 7s 637ms/step - loss: 0.0039 - val_loss: 0.0027\n",
      "Epoch 10/100\n",
      "11/11 [==============================] - 10s 971ms/step - loss: 0.0039 - val_loss: 0.0028\n",
      "Epoch 11/100\n",
      "11/11 [==============================] - 9s 863ms/step - loss: 0.0037 - val_loss: 0.0027\n",
      "Epoch 12/100\n",
      "11/11 [==============================] - 9s 834ms/step - loss: 0.0037 - val_loss: 0.0028\n",
      "Epoch 13/100\n",
      "11/11 [==============================] - 11s 982ms/step - loss: 0.0033 - val_loss: 0.0027\n",
      "Epoch 14/100\n",
      "11/11 [==============================] - 10s 942ms/step - loss: 0.0031 - val_loss: 0.0026\n",
      "Epoch 15/100\n",
      "11/11 [==============================] - 6s 570ms/step - loss: 0.0036 - val_loss: 0.0029\n",
      "Epoch 16/100\n",
      "11/11 [==============================] - 8s 752ms/step - loss: 0.0032 - val_loss: 0.0026\n",
      "Epoch 17/100\n",
      "11/11 [==============================] - 7s 572ms/step - loss: 0.0033 - val_loss: 0.0025\n",
      "Epoch 18/100\n",
      "11/11 [==============================] - 15s 1s/step - loss: 0.0029 - val_loss: 0.0026\n",
      "Epoch 19/100\n",
      "11/11 [==============================] - 15s 1s/step - loss: 0.0030 - val_loss: 0.0025\n",
      "Epoch 20/100\n",
      "11/11 [==============================] - 5s 452ms/step - loss: 0.0031 - val_loss: 0.0025\n",
      "Epoch 21/100\n",
      "11/11 [==============================] - 12s 1s/step - loss: 0.0032 - val_loss: 0.0025\n",
      "Epoch 22/100\n",
      "11/11 [==============================] - 12s 933ms/step - loss: 0.0036 - val_loss: 0.0030\n",
      "Epoch 23/100\n",
      "11/11 [==============================] - 5s 487ms/step - loss: 0.0034 - val_loss: 0.0025\n",
      "Epoch 24/100\n",
      "11/11 [==============================] - 11s 956ms/step - loss: 0.0029 - val_loss: 0.0025\n",
      "Epoch 25/100\n",
      "11/11 [==============================] - 6s 530ms/step - loss: 0.0030 - val_loss: 0.0026\n",
      "Epoch 26/100\n",
      "11/11 [==============================] - 10s 904ms/step - loss: 0.0032 - val_loss: 0.0025\n",
      "Epoch 27/100\n",
      "11/11 [==============================] - 7s 624ms/step - loss: 0.0030 - val_loss: 0.0025\n",
      "Epoch 28/100\n",
      "11/11 [==============================] - 7s 634ms/step - loss: 0.0026 - val_loss: 0.0024\n",
      "Epoch 29/100\n",
      "11/11 [==============================] - 19s 2s/step - loss: 0.0026 - val_loss: 0.0033\n",
      "Epoch 30/100\n",
      "11/11 [==============================] - 17s 1s/step - loss: 0.0033 - val_loss: 0.0025\n",
      "Epoch 31/100\n",
      "11/11 [==============================] - 8s 723ms/step - loss: 0.0030 - val_loss: 0.0024\n",
      "Epoch 32/100\n",
      "11/11 [==============================] - 12s 1s/step - loss: 0.0028 - val_loss: 0.0027\n",
      "Epoch 33/100\n",
      "11/11 [==============================] - 20s 2s/step - loss: 0.0025 - val_loss: 0.0027\n",
      "Epoch 34/100\n",
      "11/11 [==============================] - 10s 780ms/step - loss: 0.0030 - val_loss: 0.0023\n",
      "Epoch 35/100\n",
      "11/11 [==============================] - 20s 2s/step - loss: 0.0029 - val_loss: 0.0022\n",
      "Epoch 36/100\n",
      "11/11 [==============================] - 11s 1s/step - loss: 0.0025 - val_loss: 0.0023\n",
      "Epoch 37/100\n",
      "11/11 [==============================] - 5s 437ms/step - loss: 0.0026 - val_loss: 0.0022\n",
      "Epoch 38/100\n",
      "11/11 [==============================] - 5s 478ms/step - loss: 0.0025 - val_loss: 0.0027\n",
      "Epoch 39/100\n",
      "11/11 [==============================] - 5s 405ms/step - loss: 0.0027 - val_loss: 0.0022\n",
      "Epoch 40/100\n",
      "11/11 [==============================] - 5s 436ms/step - loss: 0.0028 - val_loss: 0.0023\n",
      "Epoch 41/100\n",
      "11/11 [==============================] - 5s 494ms/step - loss: 0.0023 - val_loss: 0.0023\n",
      "Epoch 42/100\n",
      "11/11 [==============================] - 6s 570ms/step - loss: 0.0026 - val_loss: 0.0021\n",
      "Epoch 43/100\n",
      "11/11 [==============================] - 4s 371ms/step - loss: 0.0028 - val_loss: 0.0023\n",
      "Epoch 44/100\n",
      "11/11 [==============================] - 4s 381ms/step - loss: 0.0023 - val_loss: 0.0021\n",
      "Epoch 45/100\n",
      "11/11 [==============================] - 5s 443ms/step - loss: 0.0023 - val_loss: 0.0021\n",
      "Epoch 46/100\n",
      "11/11 [==============================] - 5s 439ms/step - loss: 0.0024 - val_loss: 0.0021\n",
      "Epoch 47/100\n",
      "11/11 [==============================] - 5s 395ms/step - loss: 0.0022 - val_loss: 0.0021\n",
      "Epoch 48/100\n",
      "11/11 [==============================] - 3s 273ms/step - loss: 0.0025 - val_loss: 0.0020\n",
      "Epoch 49/100\n",
      "11/11 [==============================] - 3s 305ms/step - loss: 0.0023 - val_loss: 0.0021\n",
      "Epoch 50/100\n",
      "11/11 [==============================] - 3s 261ms/step - loss: 0.0022 - val_loss: 0.0022\n",
      "Epoch 51/100\n",
      "11/11 [==============================] - 3s 296ms/step - loss: 0.0027 - val_loss: 0.0021\n",
      "Epoch 52/100\n",
      "11/11 [==============================] - 3s 285ms/step - loss: 0.0022 - val_loss: 0.0020\n",
      "Epoch 53/100\n",
      "11/11 [==============================] - 3s 313ms/step - loss: 0.0023 - val_loss: 0.0020\n",
      "Epoch 54/100\n",
      "11/11 [==============================] - 3s 259ms/step - loss: 0.0024 - val_loss: 0.0020\n",
      "Epoch 55/100\n",
      "11/11 [==============================] - 3s 282ms/step - loss: 0.0025 - val_loss: 0.0020\n",
      "Epoch 56/100\n",
      "11/11 [==============================] - 3s 270ms/step - loss: 0.0024 - val_loss: 0.0025\n",
      "Epoch 57/100\n",
      "11/11 [==============================] - 3s 268ms/step - loss: 0.0023 - val_loss: 0.0022\n",
      "Epoch 58/100\n",
      "11/11 [==============================] - 3s 279ms/step - loss: 0.0024 - val_loss: 0.0025\n",
      "Epoch 59/100\n",
      "11/11 [==============================] - 3s 302ms/step - loss: 0.0025 - val_loss: 0.0020\n",
      "Epoch 60/100\n",
      "11/11 [==============================] - 3s 314ms/step - loss: 0.0021 - val_loss: 0.0020\n",
      "Epoch 61/100\n",
      "11/11 [==============================] - 3s 290ms/step - loss: 0.0025 - val_loss: 0.0021\n",
      "Epoch 62/100\n",
      "11/11 [==============================] - 3s 272ms/step - loss: 0.0022 - val_loss: 0.0019\n",
      "Epoch 63/100\n",
      "11/11 [==============================] - 3s 273ms/step - loss: 0.0023 - val_loss: 0.0023\n",
      "Epoch 64/100\n",
      "11/11 [==============================] - 3s 268ms/step - loss: 0.0026 - val_loss: 0.0019\n",
      "Epoch 65/100\n",
      "11/11 [==============================] - 3s 274ms/step - loss: 0.0029 - val_loss: 0.0028\n",
      "Epoch 66/100\n",
      "11/11 [==============================] - 3s 273ms/step - loss: 0.0030 - val_loss: 0.0023\n",
      "Epoch 67/100\n",
      "11/11 [==============================] - 3s 266ms/step - loss: 0.0027 - val_loss: 0.0018\n",
      "Epoch 68/100\n",
      "11/11 [==============================] - 3s 280ms/step - loss: 0.0020 - val_loss: 0.0018\n",
      "Epoch 69/100\n",
      "11/11 [==============================] - 3s 264ms/step - loss: 0.0023 - val_loss: 0.0019\n",
      "Epoch 70/100\n",
      "11/11 [==============================] - 3s 275ms/step - loss: 0.0021 - val_loss: 0.0019\n",
      "Epoch 71/100\n",
      "11/11 [==============================] - 3s 247ms/step - loss: 0.0023 - val_loss: 0.0017\n",
      "Epoch 72/100\n",
      "11/11 [==============================] - 3s 255ms/step - loss: 0.0021 - val_loss: 0.0018\n",
      "Epoch 73/100\n",
      "11/11 [==============================] - 3s 259ms/step - loss: 0.0021 - val_loss: 0.0018\n",
      "Epoch 74/100\n",
      "11/11 [==============================] - 3s 264ms/step - loss: 0.0023 - val_loss: 0.0017\n",
      "Epoch 75/100\n",
      "11/11 [==============================] - 3s 260ms/step - loss: 0.0019 - val_loss: 0.0017\n",
      "Epoch 76/100\n",
      "11/11 [==============================] - 3s 238ms/step - loss: 0.0020 - val_loss: 0.0017\n",
      "Epoch 77/100\n",
      "11/11 [==============================] - 3s 248ms/step - loss: 0.0020 - val_loss: 0.0017\n",
      "Epoch 78/100\n",
      "11/11 [==============================] - 3s 283ms/step - loss: 0.0019 - val_loss: 0.0017\n",
      "Epoch 79/100\n",
      "11/11 [==============================] - 3s 262ms/step - loss: 0.0021 - val_loss: 0.0018\n",
      "Epoch 80/100\n",
      "11/11 [==============================] - 10s 929ms/step - loss: 0.0021 - val_loss: 0.0017\n",
      "Epoch 81/100\n",
      "11/11 [==============================] - 4s 324ms/step - loss: 0.0021 - val_loss: 0.0018\n",
      "Epoch 82/100\n",
      "11/11 [==============================] - 4s 387ms/step - loss: 0.0024 - val_loss: 0.0016\n",
      "Epoch 83/100\n",
      "11/11 [==============================] - 3s 289ms/step - loss: 0.0021 - val_loss: 0.0018\n",
      "Epoch 84/100\n",
      "11/11 [==============================] - 4s 406ms/step - loss: 0.0021 - val_loss: 0.0016\n",
      "Epoch 85/100\n",
      "11/11 [==============================] - 9s 842ms/step - loss: 0.0022 - val_loss: 0.0017\n",
      "Epoch 86/100\n",
      "11/11 [==============================] - 8s 735ms/step - loss: 0.0018 - val_loss: 0.0016\n",
      "Epoch 87/100\n",
      "11/11 [==============================] - 6s 539ms/step - loss: 0.0018 - val_loss: 0.0016\n",
      "Epoch 88/100\n",
      "11/11 [==============================] - 4s 396ms/step - loss: 0.0020 - val_loss: 0.0018\n",
      "Epoch 89/100\n",
      "11/11 [==============================] - 5s 446ms/step - loss: 0.0020 - val_loss: 0.0016\n",
      "Epoch 90/100\n",
      "11/11 [==============================] - 5s 437ms/step - loss: 0.0017 - val_loss: 0.0018\n",
      "Epoch 91/100\n",
      "11/11 [==============================] - 6s 558ms/step - loss: 0.0020 - val_loss: 0.0017\n",
      "Epoch 92/100\n",
      "11/11 [==============================] - 11s 1s/step - loss: 0.0020 - val_loss: 0.0023\n",
      "Epoch 93/100\n",
      "11/11 [==============================] - 9s 881ms/step - loss: 0.0018 - val_loss: 0.0016\n",
      "Epoch 94/100\n",
      "11/11 [==============================] - 5s 420ms/step - loss: 0.0020 - val_loss: 0.0017\n",
      "Epoch 95/100\n",
      "11/11 [==============================] - 9s 722ms/step - loss: 0.0019 - val_loss: 0.0020\n",
      "Epoch 96/100\n",
      "11/11 [==============================] - 9s 824ms/step - loss: 0.0019 - val_loss: 0.0016\n",
      "Epoch 97/100\n",
      "11/11 [==============================] - 8s 722ms/step - loss: 0.0022 - val_loss: 0.0018\n",
      "Epoch 98/100\n",
      "11/11 [==============================] - 2s 205ms/step - loss: 0.0020 - val_loss: 0.0015\n",
      "Epoch 99/100\n",
      "11/11 [==============================] - 3s 331ms/step - loss: 0.0021 - val_loss: 0.0017\n",
      "Epoch 100/100\n",
      "11/11 [==============================] - 8s 724ms/step - loss: 0.0017 - val_loss: 0.0015\n"
     ]
    },
    {
     "data": {
      "text/plain": [
       "<keras.callbacks.History at 0x293ee3f8d30>"
      ]
     },
     "execution_count": 12,
     "metadata": {},
     "output_type": "execute_result"
    }
   ],
   "source": [
    "# Training LSTM model\n",
    "model.fit(X_train, y_train, validation_data=(X_val, yval), epochs = 100, batch_size = 64,verbose = 1,  callbacks=earlystop)"
   ]
  },
  {
   "attachments": {},
   "cell_type": "markdown",
   "metadata": {},
   "source": [
    "### Testing process"
   ]
  },
  {
   "cell_type": "code",
   "execution_count": 13,
   "metadata": {},
   "outputs": [
    {
     "name": "stdout",
     "output_type": "stream",
     "text": [
      "8/8 [==============================] - 8s 60ms/step\n",
      "4/4 [==============================] - 2s 506ms/step\n"
     ]
    }
   ],
   "source": [
    "# Predict\n",
    "    # Test\n",
    "y_pred = model.predict(X_test)\n",
    "    # Val\n",
    "y_pred_val = model.predict(X_val)"
   ]
  },
  {
   "attachments": {},
   "cell_type": "markdown",
   "metadata": {},
   "source": [
    "### Evaluate model"
   ]
  },
  {
   "cell_type": "code",
   "execution_count": 14,
   "metadata": {},
   "outputs": [
    {
     "name": "stdout",
     "output_type": "stream",
     "text": [
      "MAPE on Validate dataset:  0.048261250781449536\n",
      "RMSE on Validate dataset:  0.03884681310719935\n",
      "MSLE on Validate dataset:  0.0005601912927340663\n"
     ]
    }
   ],
   "source": [
    "# Evaluate the accuracy of validate\n",
    "val_mape = mean_absolute_percentage_error(y_pred_val, yval)\n",
    "val_mse = mean_squared_error(y_pred_val, yval)\n",
    "val_rmse = np.sqrt(val_mse)\n",
    "val_msle = mean_squared_log_error(y_pred_val, yval)\n",
    "\n",
    "print(f\"MAPE on Validate dataset: \", val_mape)\n",
    "print(f\"RMSE on Validate dataset: \", val_rmse)\n",
    "print(f\"MSLE on Validate dataset: \", val_msle)"
   ]
  },
  {
   "cell_type": "code",
   "execution_count": 15,
   "metadata": {},
   "outputs": [
    {
     "name": "stdout",
     "output_type": "stream",
     "text": [
      "MAPE on Test dataset:  0.1615711668329456\n",
      "RMSE on Test dataset:  0.04826254321623794\n",
      "MSLE on Test dataset:  0.001483977526587486\n"
     ]
    }
   ],
   "source": [
    "# Evaluate the accuracy of test\n",
    "test_mape = mean_absolute_percentage_error(y_pred, ytest)\n",
    "test_mse = mean_squared_error(y_pred, ytest)\n",
    "test_rmse = np.sqrt(test_mse)\n",
    "test_msle = mean_squared_log_error(y_pred, ytest)\n",
    "\n",
    "print(f\"MAPE on Test dataset: \", test_mape)\n",
    "print(f\"RMSE on Test dataset: \", test_rmse)\n",
    "print(f\"MSLE on Test dataset: \", test_msle)"
   ]
  },
  {
   "attachments": {},
   "cell_type": "markdown",
   "metadata": {},
   "source": [
    "## Predicting the next 30 days"
   ]
  },
  {
   "attachments": {},
   "cell_type": "markdown",
   "metadata": {},
   "source": [
    "### Preparing the prediction data"
   ]
  },
  {
   "cell_type": "code",
   "execution_count": 16,
   "metadata": {},
   "outputs": [],
   "source": [
    "x_input = test_data[5:].reshape(1,-1)\n",
    "temp_input = list(x_input)\n",
    "temp_input = temp_input[0].tolist()\n",
    "\n",
    "# Define i\n",
    "i = 0\n",
    "\n",
    "# List storage value for next 30 days\n",
    "prediction_next30_days = []\n",
    "\n",
    "while(i < 30):\n",
    "    if(len(temp_input) > time_step):\n",
    "        x_input = np.array(temp_input[-time_step:])\n",
    "\n",
    "        x_input = x_input.reshape((1, time_step, 1))\n",
    "        y_hat = model.predict(x_input, verbose=0)\n",
    "\n",
    "        temp_input.extend(y_hat[0].tolist())\n",
    "        temp_input = temp_input[1:]\n",
    "\n",
    "        prediction_next30_days.extend(y_hat.tolist())\n",
    "        i = i + 1\n",
    "    else:\n",
    "        x_input = x_input.reshape((1, time_step, 1))\n",
    "        y_hat = model.predict(x_input, verbose = 0)\n",
    "\n",
    "        temp_input.extend(y_hat[0].tolist())\n",
    "\n",
    "        prediction_next30_days.extend(y_hat.tolist())\n",
    "        i = i + 1"
   ]
  },
  {
   "cell_type": "code",
   "execution_count": 17,
   "metadata": {},
   "outputs": [
    {
     "name": "stdout",
     "output_type": "stream",
     "text": [
      "[[0.08859965950250626], [0.09219856560230255], [0.09483238309621811], [0.0968705266714096], [0.09854492545127869], [0.10000057518482208], [0.10132778435945511], [0.10258276015520096], [0.10380038619041443], [0.10500232130289078], [0.10620197653770447], [0.10740752518177032], [0.10862385481595993], [0.10985368490219116], [0.11109831929206848], [0.11235812306404114], [0.11363285779953003], [0.11492183804512024], [0.11622414737939835], [0.11753875017166138], [0.11886455118656158], [0.12020044028759003], [0.12154539674520493], [0.12289847433567047], [0.1242588460445404], [0.12562578916549683], [0.12699870765209198], [0.12837710976600647], [0.12976060807704926], [0.13114893436431885]]\n"
     ]
    }
   ],
   "source": [
    "# Print predict next 30 days\n",
    "print(prediction_next30_days)"
   ]
  },
  {
   "attachments": {},
   "cell_type": "markdown",
   "metadata": {},
   "source": [
    "### Preparing the forecast date index"
   ]
  },
  {
   "cell_type": "code",
   "execution_count": 18,
   "metadata": {},
   "outputs": [],
   "source": [
    "# Get the last date from the current index\n",
    "last_date = stock_ctlt.index.max()\n",
    "\n",
    "# Create a list of indices starting from the next date for 30 days\n",
    "future_dates = pd.date_range(start=pd.to_datetime(last_date) + pd.DateOffset(days=1), periods=30, freq='D')"
   ]
  },
  {
   "cell_type": "code",
   "execution_count": 19,
   "metadata": {},
   "outputs": [],
   "source": [
    "# Convert to normal values from 0, 1\n",
    "prediction_next30_days = scaler.inverse_transform(prediction_next30_days).reshape(-1)"
   ]
  },
  {
   "cell_type": "code",
   "execution_count": 20,
   "metadata": {},
   "outputs": [],
   "source": [
    "# Convert to normal values\n",
    "y_pred = scaler.inverse_transform(y_pred)\n",
    "y_pred_val = scaler.inverse_transform(y_pred_val)\n",
    "train_data = scaler.inverse_transform(train_data)\n",
    "test_data = scaler.inverse_transform(test_data)\n",
    "val_data = scaler.inverse_transform(val_data)"
   ]
  },
  {
   "attachments": {},
   "cell_type": "markdown",
   "metadata": {},
   "source": [
    "## Visualization"
   ]
  },
  {
   "cell_type": "code",
   "execution_count": 21,
   "metadata": {},
   "outputs": [
    {
     "data": {
      "image/png": "[encoded data removed]",
      "text/plain": [
       "<Figure size 1600x500 with 1 Axes>"
      ]
     },
     "metadata": {},
     "output_type": "display_data"
    }
   ],
   "source": [
    "plt.figure(figsize=(16,5))\n",
    "\n",
    "plt.plot(stock_ctlt.index[:train_size], train_data)\n",
    "\n",
    "plt.plot(stock_ctlt.index[train_size:train_size + val_size],val_data)\n",
    "\n",
    "plt.plot(stock_ctlt.index[train_size:train_size + val_size],y_pred_val)\n",
    "\n",
    "plt.plot(stock_ctlt.index[train_size + val_size: ], test_data)\n",
    "\n",
    "plt.plot(stock_ctlt.index[train_size + val_size: ],(y_pred))\n",
    "\n",
    "plt.plot(future_dates, prediction_next30_days)\n",
    "\n",
    "plt.xlabel('Date')\n",
    "plt.ylabel('Close Value')\n",
    "plt.title('Catalent Closing Price Data from 2019-01-02 to 2023-07-12')\n",
    "plt.legend(['Train','Validate', 'PredictValidate','Test','PredictTest','Next30days'])\n",
    "plt.grid()\n",
    "plt.savefig('../Image/LSTM_712_CTLT.png')\n",
    "plt.show()"
   ]
  }
 ],
 "metadata": {
  "kernelspec": {
   "display_name": "base",
   "language": "python",
   "name": "python3"
  },
  "language_info": {
   "codemirror_mode": {
    "name": "ipython",
    "version": 3
   },
   "file_extension": ".py",
   "mimetype": "text/x-python",
   "name": "python",
   "nbconvert_exporter": "python",
   "pygments_lexer": "ipython3",
   "version": "3.9.16"
  },
  "orig_nbformat": 4
 },
 "nbformat": 4,
 "nbformat_minor": 2
}
