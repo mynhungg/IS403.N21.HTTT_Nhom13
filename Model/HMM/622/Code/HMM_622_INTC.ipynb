{
 "cells": [
  {
   "attachments": {},
   "cell_type": "markdown",
   "metadata": {},
   "source": [
    "## Import the necessary libraries"
   ]
  },
  {
   "cell_type": "code",
   "execution_count": 1,
   "metadata": {},
   "outputs": [],
   "source": [
    "import pandas as pd\n",
    "import numpy as np\n",
    "from hmmlearn.hmm import GaussianHMM\n",
    "import itertools\n",
    "from tqdm import tqdm\n",
    "\n",
    "from sklearn.metrics import mean_squared_error, mean_absolute_percentage_error, mean_squared_log_error\n",
    "\n",
    "import matplotlib.pyplot as plt\n",
    "%matplotlib inline"
   ]
  },
  {
   "attachments": {},
   "cell_type": "markdown",
   "metadata": {},
   "source": [
    "## Load data"
   ]
  },
  {
   "cell_type": "code",
   "execution_count": 2,
   "metadata": {},
   "outputs": [
    {
     "data": {
      "text/html": [
       "<div>\n",
       "<style scoped>\n",
       "    .dataframe tbody tr th:only-of-type {\n",
       "        vertical-align: middle;\n",
       "    }\n",
       "\n",
       "    .dataframe tbody tr th {\n",
       "        vertical-align: top;\n",
       "    }\n",
       "\n",
       "    .dataframe thead th {\n",
       "        text-align: right;\n",
       "    }\n",
       "</style>\n",
       "<table border=\"1\" class=\"dataframe\">\n",
       "  <thead>\n",
       "    <tr style=\"text-align: right;\">\n",
       "      <th></th>\n",
       "      <th>Date</th>\n",
       "      <th>Open</th>\n",
       "      <th>High</th>\n",
       "      <th>Low</th>\n",
       "      <th>Close</th>\n",
       "      <th>Adj Close</th>\n",
       "      <th>Volume</th>\n",
       "    </tr>\n",
       "  </thead>\n",
       "  <tbody>\n",
       "    <tr>\n",
       "      <th>0</th>\n",
       "      <td>2019-01-02</td>\n",
       "      <td>45.959999</td>\n",
       "      <td>47.470001</td>\n",
       "      <td>45.770000</td>\n",
       "      <td>47.080002</td>\n",
       "      <td>41.343937</td>\n",
       "      <td>18774600</td>\n",
       "    </tr>\n",
       "    <tr>\n",
       "      <th>1</th>\n",
       "      <td>2019-01-03</td>\n",
       "      <td>46.150002</td>\n",
       "      <td>46.279999</td>\n",
       "      <td>44.389999</td>\n",
       "      <td>44.490002</td>\n",
       "      <td>39.069477</td>\n",
       "      <td>32267300</td>\n",
       "    </tr>\n",
       "    <tr>\n",
       "      <th>2</th>\n",
       "      <td>2019-01-04</td>\n",
       "      <td>45.840000</td>\n",
       "      <td>47.570000</td>\n",
       "      <td>45.540001</td>\n",
       "      <td>47.220001</td>\n",
       "      <td>41.466869</td>\n",
       "      <td>35447300</td>\n",
       "    </tr>\n",
       "    <tr>\n",
       "      <th>3</th>\n",
       "      <td>2019-01-07</td>\n",
       "      <td>47.099998</td>\n",
       "      <td>48.000000</td>\n",
       "      <td>46.750000</td>\n",
       "      <td>47.439999</td>\n",
       "      <td>41.660065</td>\n",
       "      <td>22736800</td>\n",
       "    </tr>\n",
       "    <tr>\n",
       "      <th>4</th>\n",
       "      <td>2019-01-08</td>\n",
       "      <td>47.799999</td>\n",
       "      <td>48.029999</td>\n",
       "      <td>46.779999</td>\n",
       "      <td>47.740002</td>\n",
       "      <td>41.923512</td>\n",
       "      <td>22749200</td>\n",
       "    </tr>\n",
       "    <tr>\n",
       "      <th>5</th>\n",
       "      <td>2019-01-09</td>\n",
       "      <td>47.959999</td>\n",
       "      <td>48.570000</td>\n",
       "      <td>47.779999</td>\n",
       "      <td>48.009998</td>\n",
       "      <td>42.160622</td>\n",
       "      <td>22554500</td>\n",
       "    </tr>\n",
       "    <tr>\n",
       "      <th>6</th>\n",
       "      <td>2019-01-10</td>\n",
       "      <td>47.750000</td>\n",
       "      <td>48.650002</td>\n",
       "      <td>47.410000</td>\n",
       "      <td>48.560001</td>\n",
       "      <td>42.643612</td>\n",
       "      <td>27202600</td>\n",
       "    </tr>\n",
       "    <tr>\n",
       "      <th>7</th>\n",
       "      <td>2019-01-11</td>\n",
       "      <td>48.099998</td>\n",
       "      <td>49.290001</td>\n",
       "      <td>48.049999</td>\n",
       "      <td>48.930000</td>\n",
       "      <td>42.968521</td>\n",
       "      <td>21751300</td>\n",
       "    </tr>\n",
       "    <tr>\n",
       "      <th>8</th>\n",
       "      <td>2019-01-14</td>\n",
       "      <td>48.459999</td>\n",
       "      <td>48.830002</td>\n",
       "      <td>48.299999</td>\n",
       "      <td>48.349998</td>\n",
       "      <td>42.459190</td>\n",
       "      <td>19193900</td>\n",
       "    </tr>\n",
       "    <tr>\n",
       "      <th>9</th>\n",
       "      <td>2019-01-15</td>\n",
       "      <td>48.709999</td>\n",
       "      <td>49.130001</td>\n",
       "      <td>48.439999</td>\n",
       "      <td>48.599998</td>\n",
       "      <td>42.678734</td>\n",
       "      <td>22480800</td>\n",
       "    </tr>\n",
       "  </tbody>\n",
       "</table>\n",
       "</div>"
      ],
      "text/plain": [
       "         Date       Open       High        Low      Close  Adj Close    Volume\n",
       "0  2019-01-02  45.959999  47.470001  45.770000  47.080002  41.343937  18774600\n",
       "1  2019-01-03  46.150002  46.279999  44.389999  44.490002  39.069477  32267300\n",
       "2  2019-01-04  45.840000  47.570000  45.540001  47.220001  41.466869  35447300\n",
       "3  2019-01-07  47.099998  48.000000  46.750000  47.439999  41.660065  22736800\n",
       "4  2019-01-08  47.799999  48.029999  46.779999  47.740002  41.923512  22749200\n",
       "5  2019-01-09  47.959999  48.570000  47.779999  48.009998  42.160622  22554500\n",
       "6  2019-01-10  47.750000  48.650002  47.410000  48.560001  42.643612  27202600\n",
       "7  2019-01-11  48.099998  49.290001  48.049999  48.930000  42.968521  21751300\n",
       "8  2019-01-14  48.459999  48.830002  48.299999  48.349998  42.459190  19193900\n",
       "9  2019-01-15  48.709999  49.130001  48.439999  48.599998  42.678734  22480800"
      ]
     },
     "execution_count": 2,
     "metadata": {},
     "output_type": "execute_result"
    }
   ],
   "source": [
    "df = pd.read_csv('E:/PTDLKD/Đồ án/dataset/INTC.csv')\n",
    "df.head(10)"
   ]
  },
  {
   "attachments": {},
   "cell_type": "markdown",
   "metadata": {},
   "source": [
    "## Data preprocessing"
   ]
  },
  {
   "cell_type": "code",
   "execution_count": 3,
   "metadata": {},
   "outputs": [],
   "source": [
    "# Convert the 'Date' column to datetime format\n",
    "df['Date'] = pd.to_datetime(df['Date'])\n",
    "\n",
    "# Set the 'Date' column as the index value\n",
    "df.set_index('Date', inplace=True)"
   ]
  },
  {
   "cell_type": "code",
   "execution_count": 4,
   "metadata": {},
   "outputs": [
    {
     "data": {
      "text/html": [
       "<div>\n",
       "<style scoped>\n",
       "    .dataframe tbody tr th:only-of-type {\n",
       "        vertical-align: middle;\n",
       "    }\n",
       "\n",
       "    .dataframe tbody tr th {\n",
       "        vertical-align: top;\n",
       "    }\n",
       "\n",
       "    .dataframe thead th {\n",
       "        text-align: right;\n",
       "    }\n",
       "</style>\n",
       "<table border=\"1\" class=\"dataframe\">\n",
       "  <thead>\n",
       "    <tr style=\"text-align: right;\">\n",
       "      <th></th>\n",
       "      <th>Open</th>\n",
       "      <th>High</th>\n",
       "      <th>Low</th>\n",
       "      <th>Close</th>\n",
       "      <th>Adj Close</th>\n",
       "      <th>Volume</th>\n",
       "    </tr>\n",
       "    <tr>\n",
       "      <th>Date</th>\n",
       "      <th></th>\n",
       "      <th></th>\n",
       "      <th></th>\n",
       "      <th></th>\n",
       "      <th></th>\n",
       "      <th></th>\n",
       "    </tr>\n",
       "  </thead>\n",
       "  <tbody>\n",
       "    <tr>\n",
       "      <th>2019-01-02</th>\n",
       "      <td>45.959999</td>\n",
       "      <td>47.470001</td>\n",
       "      <td>45.770000</td>\n",
       "      <td>47.080002</td>\n",
       "      <td>41.343937</td>\n",
       "      <td>18774600</td>\n",
       "    </tr>\n",
       "    <tr>\n",
       "      <th>2019-01-03</th>\n",
       "      <td>46.150002</td>\n",
       "      <td>46.279999</td>\n",
       "      <td>44.389999</td>\n",
       "      <td>44.490002</td>\n",
       "      <td>39.069477</td>\n",
       "      <td>32267300</td>\n",
       "    </tr>\n",
       "    <tr>\n",
       "      <th>2019-01-04</th>\n",
       "      <td>45.840000</td>\n",
       "      <td>47.570000</td>\n",
       "      <td>45.540001</td>\n",
       "      <td>47.220001</td>\n",
       "      <td>41.466869</td>\n",
       "      <td>35447300</td>\n",
       "    </tr>\n",
       "    <tr>\n",
       "      <th>2019-01-07</th>\n",
       "      <td>47.099998</td>\n",
       "      <td>48.000000</td>\n",
       "      <td>46.750000</td>\n",
       "      <td>47.439999</td>\n",
       "      <td>41.660065</td>\n",
       "      <td>22736800</td>\n",
       "    </tr>\n",
       "    <tr>\n",
       "      <th>2019-01-08</th>\n",
       "      <td>47.799999</td>\n",
       "      <td>48.029999</td>\n",
       "      <td>46.779999</td>\n",
       "      <td>47.740002</td>\n",
       "      <td>41.923512</td>\n",
       "      <td>22749200</td>\n",
       "    </tr>\n",
       "    <tr>\n",
       "      <th>...</th>\n",
       "      <td>...</td>\n",
       "      <td>...</td>\n",
       "      <td>...</td>\n",
       "      <td>...</td>\n",
       "      <td>...</td>\n",
       "      <td>...</td>\n",
       "    </tr>\n",
       "    <tr>\n",
       "      <th>2023-06-06</th>\n",
       "      <td>29.770000</td>\n",
       "      <td>31.450001</td>\n",
       "      <td>29.700001</td>\n",
       "      <td>30.959999</td>\n",
       "      <td>30.959999</td>\n",
       "      <td>42295300</td>\n",
       "    </tr>\n",
       "    <tr>\n",
       "      <th>2023-06-07</th>\n",
       "      <td>31.030001</td>\n",
       "      <td>31.370001</td>\n",
       "      <td>30.930000</td>\n",
       "      <td>31.280001</td>\n",
       "      <td>31.280001</td>\n",
       "      <td>39098000</td>\n",
       "    </tr>\n",
       "    <tr>\n",
       "      <th>2023-06-08</th>\n",
       "      <td>31.430000</td>\n",
       "      <td>31.850000</td>\n",
       "      <td>31.059999</td>\n",
       "      <td>31.820000</td>\n",
       "      <td>31.820000</td>\n",
       "      <td>35199000</td>\n",
       "    </tr>\n",
       "    <tr>\n",
       "      <th>2023-06-09</th>\n",
       "      <td>31.930000</td>\n",
       "      <td>31.990000</td>\n",
       "      <td>30.680000</td>\n",
       "      <td>31.340000</td>\n",
       "      <td>31.340000</td>\n",
       "      <td>40218000</td>\n",
       "    </tr>\n",
       "    <tr>\n",
       "      <th>2023-06-12</th>\n",
       "      <td>31.400000</td>\n",
       "      <td>33.299999</td>\n",
       "      <td>31.360001</td>\n",
       "      <td>33.070000</td>\n",
       "      <td>33.070000</td>\n",
       "      <td>59881600</td>\n",
       "    </tr>\n",
       "  </tbody>\n",
       "</table>\n",
       "<p>1119 rows × 6 columns</p>\n",
       "</div>"
      ],
      "text/plain": [
       "                 Open       High        Low      Close  Adj Close    Volume\n",
       "Date                                                                       \n",
       "2019-01-02  45.959999  47.470001  45.770000  47.080002  41.343937  18774600\n",
       "2019-01-03  46.150002  46.279999  44.389999  44.490002  39.069477  32267300\n",
       "2019-01-04  45.840000  47.570000  45.540001  47.220001  41.466869  35447300\n",
       "2019-01-07  47.099998  48.000000  46.750000  47.439999  41.660065  22736800\n",
       "2019-01-08  47.799999  48.029999  46.779999  47.740002  41.923512  22749200\n",
       "...               ...        ...        ...        ...        ...       ...\n",
       "2023-06-06  29.770000  31.450001  29.700001  30.959999  30.959999  42295300\n",
       "2023-06-07  31.030001  31.370001  30.930000  31.280001  31.280001  39098000\n",
       "2023-06-08  31.430000  31.850000  31.059999  31.820000  31.820000  35199000\n",
       "2023-06-09  31.930000  31.990000  30.680000  31.340000  31.340000  40218000\n",
       "2023-06-12  31.400000  33.299999  31.360001  33.070000  33.070000  59881600\n",
       "\n",
       "[1119 rows x 6 columns]"
      ]
     },
     "execution_count": 4,
     "metadata": {},
     "output_type": "execute_result"
    }
   ],
   "source": [
    "# Show Dataframe\n",
    "df"
   ]
  },
  {
   "attachments": {},
   "cell_type": "markdown",
   "metadata": {},
   "source": [
    "## Split the data into train, validation and test set with a ratio of 6 : 2 : 2"
   ]
  },
  {
   "cell_type": "code",
   "execution_count": 5,
   "metadata": {},
   "outputs": [],
   "source": [
    "# Define the size of train, validation, test set\n",
    "train_size = int(len(df) * 0.6)\n",
    "val_size = int(len(df) * 0.2)\n",
    "test_size = len(df) - train_size - val_size\n",
    "\n",
    "# Split the data into train, test and validation set\n",
    "train_data = df.iloc[0 : train_size, :]\n",
    "val_data = df.iloc[train_size : train_size + val_size, :]\n",
    "test_data = df.iloc[train_size + val_size : len(df), :]"
   ]
  },
  {
   "attachments": {},
   "cell_type": "markdown",
   "metadata": {},
   "source": [
    "## Extracting features"
   ]
  },
  {
   "attachments": {},
   "cell_type": "markdown",
   "metadata": {},
   "source": [
    "Create function augment_features to calculate the fractional change in:\n",
    "1. Opening and closing prices (fracocp)\n",
    "2. High prices (frachp)\n",
    "3. Low prices (fraclp)"
   ]
  },
  {
   "cell_type": "code",
   "execution_count": 6,
   "metadata": {},
   "outputs": [],
   "source": [
    "def augment_features(dataframe):\n",
    "    fracocp = (dataframe['Close']-dataframe['Open'])/dataframe['Open']\n",
    "    frachp = (dataframe['High']-dataframe['Open'])/dataframe['Open']\n",
    "    fraclp = (dataframe['Open']-dataframe['Low'])/dataframe['Open']\n",
    "    new_dataframe = pd.DataFrame({'delOpenClose': fracocp,\n",
    "                                 'delHighOpen': frachp,\n",
    "                                 'delLowOpen': fraclp})\n",
    "    new_dataframe.set_index(dataframe.index)\n",
    "    \n",
    "    return new_dataframe"
   ]
  },
  {
   "attachments": {},
   "cell_type": "markdown",
   "metadata": {},
   "source": [
    "Function extract_features will combine the 3 calculated fractional change into 1 array"
   ]
  },
  {
   "cell_type": "code",
   "execution_count": 7,
   "metadata": {},
   "outputs": [],
   "source": [
    "def extract_features(dataframe):\n",
    "    return np.column_stack((dataframe['delOpenClose'], dataframe['delHighOpen'], dataframe['delLowOpen']))"
   ]
  },
  {
   "attachments": {},
   "cell_type": "markdown",
   "metadata": {},
   "source": [
    "## Build Model"
   ]
  },
  {
   "cell_type": "code",
   "execution_count": 8,
   "metadata": {},
   "outputs": [],
   "source": [
    "# Set the quantity of hidden states is 10\n",
    "model = GaussianHMM(n_components=10)"
   ]
  },
  {
   "cell_type": "code",
   "execution_count": 9,
   "metadata": {},
   "outputs": [
    {
     "name": "stderr",
     "output_type": "stream",
     "text": [
      "c:\\Users\\Admin\\.conda\\envs\\user_env\\lib\\site-packages\\sklearn\\cluster\\_kmeans.py:1382: UserWarning: KMeans is known to have a memory leak on Windows with MKL, when there are less chunks than available threads. You can avoid it by setting the environment variable OMP_NUM_THREADS=3.\n",
      "  warnings.warn(\n"
     ]
    },
    {
     "data": {
      "text/html": [
       "<style>#sk-container-id-1 {color: black;background-color: white;}#sk-container-id-1 pre{padding: 0;}#sk-container-id-1 div.sk-toggleable {background-color: white;}#sk-container-id-1 label.sk-toggleable__label {cursor: pointer;display: block;width: 100%;margin-bottom: 0;padding: 0.3em;box-sizing: border-box;text-align: center;}#sk-container-id-1 label.sk-toggleable__label-arrow:before {content: \"▸\";float: left;margin-right: 0.25em;color: #696969;}#sk-container-id-1 label.sk-toggleable__label-arrow:hover:before {color: black;}#sk-container-id-1 div.sk-estimator:hover label.sk-toggleable__label-arrow:before {color: black;}#sk-container-id-1 div.sk-toggleable__content {max-height: 0;max-width: 0;overflow: hidden;text-align: left;background-color: #f0f8ff;}#sk-container-id-1 div.sk-toggleable__content pre {margin: 0.2em;color: black;border-radius: 0.25em;background-color: #f0f8ff;}#sk-container-id-1 input.sk-toggleable__control:checked~div.sk-toggleable__content {max-height: 200px;max-width: 100%;overflow: auto;}#sk-container-id-1 input.sk-toggleable__control:checked~label.sk-toggleable__label-arrow:before {content: \"▾\";}#sk-container-id-1 div.sk-estimator input.sk-toggleable__control:checked~label.sk-toggleable__label {background-color: #d4ebff;}#sk-container-id-1 div.sk-label input.sk-toggleable__control:checked~label.sk-toggleable__label {background-color: #d4ebff;}#sk-container-id-1 input.sk-hidden--visually {border: 0;clip: rect(1px 1px 1px 1px);clip: rect(1px, 1px, 1px, 1px);height: 1px;margin: -1px;overflow: hidden;padding: 0;position: absolute;width: 1px;}#sk-container-id-1 div.sk-estimator {font-family: monospace;background-color: #f0f8ff;border: 1px dotted black;border-radius: 0.25em;box-sizing: border-box;margin-bottom: 0.5em;}#sk-container-id-1 div.sk-estimator:hover {background-color: #d4ebff;}#sk-container-id-1 div.sk-parallel-item::after {content: \"\";width: 100%;border-bottom: 1px solid gray;flex-grow: 1;}#sk-container-id-1 div.sk-label:hover label.sk-toggleable__label {background-color: #d4ebff;}#sk-container-id-1 div.sk-serial::before {content: \"\";position: absolute;border-left: 1px solid gray;box-sizing: border-box;top: 0;bottom: 0;left: 50%;z-index: 0;}#sk-container-id-1 div.sk-serial {display: flex;flex-direction: column;align-items: center;background-color: white;padding-right: 0.2em;padding-left: 0.2em;position: relative;}#sk-container-id-1 div.sk-item {position: relative;z-index: 1;}#sk-container-id-1 div.sk-parallel {display: flex;align-items: stretch;justify-content: center;background-color: white;position: relative;}#sk-container-id-1 div.sk-item::before, #sk-container-id-1 div.sk-parallel-item::before {content: \"\";position: absolute;border-left: 1px solid gray;box-sizing: border-box;top: 0;bottom: 0;left: 50%;z-index: -1;}#sk-container-id-1 div.sk-parallel-item {display: flex;flex-direction: column;z-index: 1;position: relative;background-color: white;}#sk-container-id-1 div.sk-parallel-item:first-child::after {align-self: flex-end;width: 50%;}#sk-container-id-1 div.sk-parallel-item:last-child::after {align-self: flex-start;width: 50%;}#sk-container-id-1 div.sk-parallel-item:only-child::after {width: 0;}#sk-container-id-1 div.sk-dashed-wrapped {border: 1px dashed gray;margin: 0 0.4em 0.5em 0.4em;box-sizing: border-box;padding-bottom: 0.4em;background-color: white;}#sk-container-id-1 div.sk-label label {font-family: monospace;font-weight: bold;display: inline-block;line-height: 1.2em;}#sk-container-id-1 div.sk-label-container {text-align: center;}#sk-container-id-1 div.sk-container {/* jupyter's `normalize.less` sets `[hidden] { display: none; }` but bootstrap.min.css set `[hidden] { display: none !important; }` so we also need the `!important` here to be able to override the default hidden behavior on the sphinx rendered scikit-learn.org. See: https://github.com/scikit-learn/scikit-learn/issues/21755 */display: inline-block !important;position: relative;}#sk-container-id-1 div.sk-text-repr-fallback {display: none;}</style><div id=\"sk-container-id-1\" class=\"sk-top-container\"><div class=\"sk-text-repr-fallback\"><pre>GaussianHMM(n_components=10)</pre><b>In a Jupyter environment, please rerun this cell to show the HTML representation or trust the notebook. <br />On GitHub, the HTML representation is unable to render, please try loading this page with nbviewer.org.</b></div><div class=\"sk-container\" hidden><div class=\"sk-item\"><div class=\"sk-estimator sk-toggleable\"><input class=\"sk-toggleable__control sk-hidden--visually\" id=\"sk-estimator-id-1\" type=\"checkbox\" checked><label for=\"sk-estimator-id-1\" class=\"sk-toggleable__label sk-toggleable__label-arrow\">GaussianHMM</label><div class=\"sk-toggleable__content\"><pre>GaussianHMM(n_components=10)</pre></div></div></div></div></div>"
      ],
      "text/plain": [
       "GaussianHMM(n_components=10)"
      ]
     },
     "execution_count": 9,
     "metadata": {},
     "output_type": "execute_result"
    }
   ],
   "source": [
    "# Extract features of train set\n",
    "feature_train_data = augment_features(train_data)\n",
    "features_train = extract_features(feature_train_data)\n",
    "\n",
    "# Training model\n",
    "model.fit(features_train)"
   ]
  },
  {
   "cell_type": "code",
   "execution_count": 10,
   "metadata": {},
   "outputs": [],
   "source": [
    "# Using 50 days in the past to predict the closing price of the current day\n",
    "num_latent_days = 50\n",
    "\n",
    "# Determine the number of days will be predicted is 30 days\n",
    "# num_days_to_predict = 30"
   ]
  },
  {
   "attachments": {},
   "cell_type": "markdown",
   "metadata": {},
   "source": [
    "## Evaluate in validation set"
   ]
  },
  {
   "cell_type": "code",
   "execution_count": 11,
   "metadata": {},
   "outputs": [],
   "source": [
    "# Extract features of validation set\n",
    "val_augmented = augment_features(val_data) \n",
    "val_fracocp = val_augmented['delOpenClose']\n",
    "val_frachp = val_augmented['delHighOpen']\n",
    "val_fraclp = val_augmented['delLowOpen']\n",
    "\n",
    "# Divide validation set's feature values into parts\n",
    "val_sample_space_fracocp = np.linspace(val_fracocp.min(), val_fracocp.max(), 50) \n",
    "val_sample_space_fraclp = np.linspace(val_fraclp.min(), val_frachp.max(), 10)\n",
    "val_sample_space_frachp = np.linspace(val_frachp.min(), val_frachp.max(), 10)\n",
    "\n",
    "# Generate the possible permutations of values for the features of validation set\n",
    "possible_outcomes = np.array(list(itertools.product(val_sample_space_fracocp, val_sample_space_frachp, val_sample_space_fraclp)))"
   ]
  },
  {
   "cell_type": "code",
   "execution_count": 12,
   "metadata": {},
   "outputs": [],
   "source": [
    "# best_num_step stores the number of steps in the interval that the features take\n",
    "best_num_step = None\n",
    "\n",
    "# best_mae stores the best Mean Absolute Error value\n",
    "best_mae = float('inf')"
   ]
  },
  {
   "cell_type": "code",
   "execution_count": 13,
   "metadata": {},
   "outputs": [
    {
     "name": "stderr",
     "output_type": "stream",
     "text": [
      "100%|██████████| 223/223 [00:07<00:00, 28.39it/s]\n",
      "100%|██████████| 223/223 [00:42<00:00,  5.30it/s]\n",
      "100%|██████████| 223/223 [02:16<00:00,  1.63it/s]\n",
      "100%|██████████| 223/223 [06:38<00:00,  1.79s/it]\n"
     ]
    }
   ],
   "source": [
    "# Experiment and find the best number of steps between 10 and 50\n",
    "for num_step in np.arange(10, 50, 10):\n",
    "    sample_space_fracocp = np.linspace(val_fracocp.min(), val_fracocp.max(), num_step)\n",
    "    sample_space_fraclp = np.linspace(val_fraclp.min(), val_frachp.max(), int(num_step/5))\n",
    "    sample_space_frachp = np.linspace(val_frachp.min(), val_frachp.max(), int(num_step/5))\n",
    "    possible_outcomes = np.array(list(itertools.product(sample_space_fracocp, sample_space_frachp, sample_space_fraclp)))\n",
    "    \n",
    "    predicted_close_prices = []\n",
    "    \n",
    "    for i in tqdm(range(val_size)):\n",
    "        # Calculate start and end indices\n",
    "        previous_data_start_index = max(0, i - num_latent_days)\n",
    "        previous_data_end_index = max(0, i)\n",
    "        # Acquire validation data features for these days\n",
    "        previous_data = extract_features(augment_features(val_data.iloc[previous_data_start_index:previous_data_end_index]))\n",
    "\n",
    "        outcome_scores = []\n",
    "        for outcome in possible_outcomes:\n",
    "            # Append each outcome one by one with replacement to see which sequence generates the highest score\n",
    "            total_data = np.row_stack((previous_data, outcome))\n",
    "            outcome_scores.append(model.score(total_data))\n",
    "\n",
    "        # Take the most probable outcome as the one with the highest score\n",
    "        most_probable_outcome = possible_outcomes[np.argmax(outcome_scores)]\n",
    "        predicted_close_prices.append(test_data.iloc[i]['Open'] * (1 + most_probable_outcome[0]))\n",
    "    \n",
    "    # Calculate MAE value\n",
    "    mae = (abs(val_data['Close'] - predicted_close_prices)).mean()\n",
    "\n",
    "    # Compare and find the best number of steps and the best MAE value\n",
    "    if mae < best_mae:\n",
    "        best_num_step = num_step\n",
    "        best_mae = mae"
   ]
  },
  {
   "cell_type": "code",
   "execution_count": 14,
   "metadata": {},
   "outputs": [
    {
     "name": "stdout",
     "output_type": "stream",
     "text": [
      "The best number of steps is :  30\n"
     ]
    }
   ],
   "source": [
    "# Show the best number of steps\n",
    "print(\"The best number of steps is : \", best_num_step)"
   ]
  },
  {
   "attachments": {},
   "cell_type": "markdown",
   "metadata": {},
   "source": [
    "## Predict validate dataset with the best number of steps"
   ]
  },
  {
   "cell_type": "code",
   "execution_count": 15,
   "metadata": {},
   "outputs": [],
   "source": [
    "# Divide validate dataset's feature values into parts\n",
    "val_sample_space_fracocp = np.linspace(val_fracocp.min(), val_fracocp.max(), best_num_step) \n",
    "val_sample_space_fraclp = np.linspace(val_fraclp.min(), val_frachp.max(), int(best_num_step/5))\n",
    "val_sample_space_frachp = np.linspace(val_frachp.min(), val_frachp.max(), int(best_num_step/5))\n",
    "\n",
    "# Generate the possible permutations of values for the features of test set\n",
    "possible_outcomes = np.array(list(itertools.product(val_sample_space_fracocp, val_sample_space_frachp, val_sample_space_fraclp)))"
   ]
  },
  {
   "cell_type": "code",
   "execution_count": 16,
   "metadata": {},
   "outputs": [
    {
     "name": "stderr",
     "output_type": "stream",
     "text": [
      "100%|██████████| 223/223 [03:33<00:00,  1.04it/s]\n"
     ]
    }
   ],
   "source": [
    "y_pred_val = []\n",
    "\n",
    "for i in tqdm(range(val_size)):\n",
    "    # Calculate start and end indices\n",
    "    previous_data_start_index = max(0, i - num_latent_days)\n",
    "    previous_data_end_index = max(0, i)\n",
    "    # Calculate start and end indices\n",
    "    previous_data = extract_features(augment_features(val_data.iloc[previous_data_start_index:previous_data_end_index]))\n",
    "    \n",
    "    outcome_scores = []\n",
    "    for outcome in possible_outcomes:\n",
    "        # Append each outcome one by one with replacement to see which sequence generates the highest score\n",
    "        total_data = np.row_stack((previous_data, outcome))\n",
    "        outcome_scores.append(model.score(total_data)) \n",
    "        \n",
    "    # Take the most probable outcome as the one with the highest score\n",
    "    most_probable_outcome = possible_outcomes[np.argmax(outcome_scores)]\n",
    "    y_pred_val.append(val_data.iloc[i]['Open'] * (1 + most_probable_outcome[0])) "
   ]
  },
  {
   "attachments": {},
   "cell_type": "markdown",
   "metadata": {},
   "source": [
    "## Predict test dataset with the best number of steps"
   ]
  },
  {
   "cell_type": "code",
   "execution_count": 17,
   "metadata": {},
   "outputs": [],
   "source": [
    "# Extract features of test set\n",
    "test_augmented = augment_features(test_data) \n",
    "fracocp = test_augmented['delOpenClose']\n",
    "frachp = test_augmented['delHighOpen']\n",
    "fraclp = test_augmented['delLowOpen']\n",
    "\n",
    "# Divide test set's feature values into parts\n",
    "sample_space_fracocp = np.linspace(fracocp.min(), fracocp.max(), best_num_step) \n",
    "sample_space_fraclp = np.linspace(fraclp.min(), frachp.max(), int(best_num_step/5))\n",
    "sample_space_frachp = np.linspace(frachp.min(), frachp.max(), int(best_num_step/5))\n",
    "\n",
    "# Generate the possible permutations of values for the features of test set\n",
    "possible_outcomes = np.array(list(itertools.product(sample_space_fracocp, sample_space_frachp, sample_space_fraclp)))"
   ]
  },
  {
   "cell_type": "code",
   "execution_count": 18,
   "metadata": {},
   "outputs": [
    {
     "name": "stderr",
     "output_type": "stream",
     "text": [
      "100%|██████████| 225/225 [02:51<00:00,  1.31it/s]\n"
     ]
    }
   ],
   "source": [
    "y_pred = []\n",
    "\n",
    "for i in tqdm(range(test_size)):\n",
    "    # Calculate start and end indices\n",
    "    previous_data_start_index = max(0, i - num_latent_days)\n",
    "    previous_data_end_index = max(0, i)\n",
    "    # Calculate start and end indices\n",
    "    previous_data = extract_features(augment_features(test_data.iloc[previous_data_start_index:previous_data_end_index]))\n",
    "    \n",
    "    outcome_scores = []\n",
    "    for outcome in possible_outcomes:\n",
    "        # Append each outcome one by one with replacement to see which sequence generates the highest score\n",
    "        total_data = np.row_stack((previous_data, outcome))\n",
    "        outcome_scores.append(model.score(total_data)) \n",
    "        \n",
    "    # Take the most probable outcome as the one with the highest score\n",
    "    most_probable_outcome = possible_outcomes[np.argmax(outcome_scores)]\n",
    "    y_pred.append(test_data.iloc[i]['Open'] * (1 + most_probable_outcome[0])) "
   ]
  },
  {
   "attachments": {},
   "cell_type": "markdown",
   "metadata": {},
   "source": [
    "## Calculate the error of the model"
   ]
  },
  {
   "cell_type": "code",
   "execution_count": 19,
   "metadata": {},
   "outputs": [],
   "source": [
    "# Select the test values in reality\n",
    "y_act = test_data['Close']\n",
    "y_act = y_act.values"
   ]
  },
  {
   "cell_type": "code",
   "execution_count": 20,
   "metadata": {},
   "outputs": [
    {
     "name": "stdout",
     "output_type": "stream",
     "text": [
      "MAPE on Test dataset:  0.017352137767983663\n",
      "RMSE on Test dataset:  0.6549495677857314\n",
      "MSLE on Test dataset:  0.0004627739072094261\n"
     ]
    }
   ],
   "source": [
    "# The error in test set\n",
    "test_mape = mean_absolute_percentage_error(y_act, y_pred)\n",
    "test_mse = mean_squared_error(y_act, y_pred)\n",
    "test_rmse = np.sqrt(test_mse)\n",
    "test_msle = mean_squared_log_error(y_act, y_pred)\n",
    "\n",
    "print(f\"MAPE on Test dataset: \", test_mape)\n",
    "print(f\"RMSE on Test dataset: \", test_rmse)\n",
    "print(f\"MSLE on Test dataset: \", test_msle)"
   ]
  },
  {
   "cell_type": "code",
   "execution_count": 21,
   "metadata": {},
   "outputs": [],
   "source": [
    "# Select the validation values in reality\n",
    "y_act_val = val_data['Close']\n",
    "y_act_val = y_act_val.values"
   ]
  },
  {
   "cell_type": "code",
   "execution_count": 22,
   "metadata": {},
   "outputs": [
    {
     "name": "stdout",
     "output_type": "stream",
     "text": [
      "MAPE on Validate dataset:  0.01258622600131045\n",
      "RMSE on Validate dataset:  0.7771936238476207\n",
      "MSLE on Validate dataset:  0.00025625335635466714\n"
     ]
    }
   ],
   "source": [
    "# The error in test set\n",
    "val_mape = mean_absolute_percentage_error(y_act_val, y_pred_val)\n",
    "val_mse = mean_squared_error(y_act_val, y_pred_val)\n",
    "val_rmse = np.sqrt(val_mse)\n",
    "val_msle = mean_squared_log_error(y_act_val, y_pred_val)\n",
    "\n",
    "print(f\"MAPE on Validate dataset: \", val_mape)\n",
    "print(f\"RMSE on Validate dataset: \", val_rmse)\n",
    "print(f\"MSLE on Validate dataset: \", val_msle)"
   ]
  },
  {
   "attachments": {},
   "cell_type": "markdown",
   "metadata": {},
   "source": [
    "## Predict Close price for 30 next days"
   ]
  },
  {
   "cell_type": "code",
   "execution_count": 23,
   "metadata": {},
   "outputs": [],
   "source": [
    "# Extract features of test set\n",
    "test_augmented = augment_features(test_data) \n",
    "fracocp = test_augmented['delOpenClose']\n",
    "frachp = test_augmented['delHighOpen']\n",
    "fraclp = test_augmented['delLowOpen']\n",
    "\n",
    "# Divide test set's feature values into parts\n",
    "sample_space_fracocp = np.linspace(fracocp.min(), fracocp.max(), best_num_step) \n",
    "sample_space_fraclp = np.linspace(fraclp.min(), frachp.max(), int(best_num_step/5))\n",
    "sample_space_frachp = np.linspace(frachp.min(), frachp.max(), int(best_num_step/5))\n",
    "\n",
    "# Generate the possible permutations of values for the features of test set\n",
    "possible_outcomes = np.array(list(itertools.product(sample_space_fracocp, sample_space_frachp, sample_space_fraclp)))"
   ]
  },
  {
   "cell_type": "code",
   "execution_count": 24,
   "metadata": {},
   "outputs": [
    {
     "name": "stderr",
     "output_type": "stream",
     "text": [
      "100%|██████████| 30/30 [00:19<00:00,  1.54it/s]\n"
     ]
    }
   ],
   "source": [
    "y_next_30_days = []\n",
    "\n",
    "# Select the last day of current index\n",
    "last_date = df.index[-1]\n",
    "\n",
    "# Add a new day after the last day\n",
    "next_date = last_date + pd.DateOffset(days=1)\n",
    "\n",
    "# Generate a list of index only starting from the next day in 30 days\n",
    "index_next_30_days = pd.date_range(start=next_date, periods=30).tolist()\n",
    "\n",
    "# Select the close price of last date\n",
    "last_sequence_days = test_data.iloc[-1:,3].values.reshape(-1, 1)\n",
    "\n",
    "for i in tqdm(range(30)):\n",
    "    # Calculate start and end indices\n",
    "    previous_data_start_index = max(0, i - num_latent_days)\n",
    "    previous_data_end_index = max(0, i)\n",
    "    # Calculate start and end indices\n",
    "    previous_data = extract_features(augment_features(test_data.iloc[previous_data_start_index:previous_data_end_index]))\n",
    "    \n",
    "    outcome_scores = []\n",
    "    for outcome in possible_outcomes:\n",
    "        # Append each outcome one by one with replacement to see which sequence generates the highest score\n",
    "        total_data = np.row_stack((previous_data, outcome))\n",
    "        outcome_scores.append(model.score(total_data)) \n",
    "        \n",
    "    # Take the most probable outcome as the one with the highest score\n",
    "    most_probable_outcome = possible_outcomes[np.argmax(outcome_scores)]\n",
    "    y_next_30_days.append(last_sequence_days[0][i] * (1 + most_probable_outcome[0])) \n",
    "\n",
    "    last_sequence_days = np.concatenate([last_sequence_days[0:, :], y_next_30_days[-1].reshape(1,1)], axis=1)\n"
   ]
  },
  {
   "cell_type": "code",
   "execution_count": 25,
   "metadata": {},
   "outputs": [
    {
     "data": {
      "text/plain": [
       "[33.57636069879842,\n",
       " 33.40569427416268,\n",
       " 33.23589533569553,\n",
       " 33.06695947402206,\n",
       " 32.898882302179906,\n",
       " 32.731659455505344,\n",
       " 32.56528659151995,\n",
       " 32.39975938981784,\n",
       " 32.235073551953455,\n",
       " 32.07122480132996,\n",
       " 31.908208883088175,\n",
       " 31.746021563996088,\n",
       " 31.58465863233893,\n",
       " 31.424115897809795,\n",
       " 31.264389191400834,\n",
       " 31.10547436529499,\n",
       " 30.947367292758287,\n",
       " 30.790063868032657,\n",
       " 30.633560006229338,\n",
       " 30.477851643222785,\n",
       " 30.322934735545132,\n",
       " 30.1688052602812,\n",
       " 30.015459214964014,\n",
       " 29.862892617470884,\n",
       " 29.711101505919977,\n",
       " 29.560081938567453,\n",
       " 29.409829993705088,\n",
       " 29.260341769558444,\n",
       " 29.111613384185546,\n",
       " 28.963640975376073]"
      ]
     },
     "execution_count": 25,
     "metadata": {},
     "output_type": "execute_result"
    }
   ],
   "source": [
    "y_next_30_days"
   ]
  },
  {
   "attachments": {},
   "cell_type": "markdown",
   "metadata": {},
   "source": [
    "## Model visualization"
   ]
  },
  {
   "cell_type": "code",
   "execution_count": 26,
   "metadata": {},
   "outputs": [
    {
     "data": {
      "image/png": "[encoded data removed]",
      "text/plain": [
       "<Figure size 1200x500 with 1 Axes>"
      ]
     },
     "metadata": {},
     "output_type": "display_data"
    }
   ],
   "source": [
    "plt.figure(figsize=(12, 5))\n",
    "\n",
    "# Train set\n",
    "plt.plot(df[:train_size].index, train_data['Close'].values)\n",
    "\n",
    "# Validation set\n",
    "plt.plot(df[train_size : train_size + val_size].index, val_data['Close'].values)\n",
    "\n",
    "# Predict in validate dataset\n",
    "plt.plot(df[train_size : train_size + val_size].index, y_pred_val)\n",
    "\n",
    "# Test set\n",
    "plt.plot(df[train_size + val_size: ].index, test_data['Close'].values)\n",
    "\n",
    "# Predict in test set\n",
    "plt.plot(df[train_size + val_size:].index, y_pred)\n",
    "\n",
    "# Predict 30 next days\n",
    "plt.plot(index_next_30_days, y_next_30_days)\n",
    "\n",
    "plt.legend(['Train', 'Validate', 'Predict Validation', 'Test', 'Predict Test', 'Predict30days'])\n",
    "plt.grid()\n",
    "plt.title(\"INTC Closing Price Data With Ratio 6_2_2\")\n",
    "plt.xlabel(\"Date\")\n",
    "plt.ylabel(\"Close value\")\n",
    "plt.savefig('HMM_622_INTC.png')\n",
    "plt.show()"
   ]
  }
 ],
 "metadata": {
  "kernelspec": {
   "display_name": "user_env",
   "language": "python",
   "name": "python3"
  },
  "language_info": {
   "codemirror_mode": {
    "name": "ipython",
    "version": 3
   },
   "file_extension": ".py",
   "mimetype": "text/x-python",
   "name": "python",
   "nbconvert_exporter": "python",
   "pygments_lexer": "ipython3",
   "version": "3.9.16"
  },
  "orig_nbformat": 4
 },
 "nbformat": 4,
 "nbformat_minor": 2
}
