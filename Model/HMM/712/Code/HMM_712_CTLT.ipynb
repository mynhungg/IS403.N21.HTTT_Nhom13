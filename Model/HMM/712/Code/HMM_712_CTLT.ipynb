{
 "cells": [
  {
   "attachments": {},
   "cell_type": "markdown",
   "metadata": {},
   "source": [
    "## Import the necessary libraries"
   ]
  },
  {
   "cell_type": "code",
   "execution_count": 1,
   "metadata": {},
   "outputs": [],
   "source": [
    "import pandas as pd\n",
    "import numpy as np\n",
    "from hmmlearn.hmm import GaussianHMM\n",
    "import itertools\n",
    "from tqdm import tqdm\n",
    "\n",
    "from sklearn.metrics import mean_squared_error, mean_absolute_percentage_error, mean_squared_log_error\n",
    "\n",
    "import matplotlib.pyplot as plt\n",
    "%matplotlib inline"
   ]
  },
  {
   "attachments": {},
   "cell_type": "markdown",
   "metadata": {},
   "source": [
    "## Load data"
   ]
  },
  {
   "cell_type": "code",
   "execution_count": 2,
   "metadata": {},
   "outputs": [
    {
     "data": {
      "text/html": [
       "<div>\n",
       "<style scoped>\n",
       "    .dataframe tbody tr th:only-of-type {\n",
       "        vertical-align: middle;\n",
       "    }\n",
       "\n",
       "    .dataframe tbody tr th {\n",
       "        vertical-align: top;\n",
       "    }\n",
       "\n",
       "    .dataframe thead th {\n",
       "        text-align: right;\n",
       "    }\n",
       "</style>\n",
       "<table border=\"1\" class=\"dataframe\">\n",
       "  <thead>\n",
       "    <tr style=\"text-align: right;\">\n",
       "      <th></th>\n",
       "      <th>Date</th>\n",
       "      <th>Open</th>\n",
       "      <th>High</th>\n",
       "      <th>Low</th>\n",
       "      <th>Close</th>\n",
       "      <th>Adj Close</th>\n",
       "      <th>Volume</th>\n",
       "    </tr>\n",
       "  </thead>\n",
       "  <tbody>\n",
       "    <tr>\n",
       "      <th>0</th>\n",
       "      <td>2019-01-02</td>\n",
       "      <td>30.860001</td>\n",
       "      <td>31.260000</td>\n",
       "      <td>30.240000</td>\n",
       "      <td>30.910000</td>\n",
       "      <td>30.910000</td>\n",
       "      <td>1201700</td>\n",
       "    </tr>\n",
       "    <tr>\n",
       "      <th>1</th>\n",
       "      <td>2019-01-03</td>\n",
       "      <td>30.660000</td>\n",
       "      <td>30.660000</td>\n",
       "      <td>29.290001</td>\n",
       "      <td>29.840000</td>\n",
       "      <td>29.840000</td>\n",
       "      <td>1149900</td>\n",
       "    </tr>\n",
       "    <tr>\n",
       "      <th>2</th>\n",
       "      <td>2019-01-04</td>\n",
       "      <td>30.049999</td>\n",
       "      <td>31.360001</td>\n",
       "      <td>29.940001</td>\n",
       "      <td>31.080000</td>\n",
       "      <td>31.080000</td>\n",
       "      <td>3530400</td>\n",
       "    </tr>\n",
       "    <tr>\n",
       "      <th>3</th>\n",
       "      <td>2019-01-07</td>\n",
       "      <td>31.020000</td>\n",
       "      <td>32.180000</td>\n",
       "      <td>30.850000</td>\n",
       "      <td>32.000000</td>\n",
       "      <td>32.000000</td>\n",
       "      <td>1063400</td>\n",
       "    </tr>\n",
       "    <tr>\n",
       "      <th>4</th>\n",
       "      <td>2019-01-08</td>\n",
       "      <td>32.340000</td>\n",
       "      <td>33.060001</td>\n",
       "      <td>32.150002</td>\n",
       "      <td>32.790001</td>\n",
       "      <td>32.790001</td>\n",
       "      <td>1391000</td>\n",
       "    </tr>\n",
       "    <tr>\n",
       "      <th>5</th>\n",
       "      <td>2019-01-09</td>\n",
       "      <td>32.790001</td>\n",
       "      <td>33.430000</td>\n",
       "      <td>32.730000</td>\n",
       "      <td>33.380001</td>\n",
       "      <td>33.380001</td>\n",
       "      <td>894400</td>\n",
       "    </tr>\n",
       "    <tr>\n",
       "      <th>6</th>\n",
       "      <td>2019-01-10</td>\n",
       "      <td>33.189999</td>\n",
       "      <td>33.970001</td>\n",
       "      <td>32.970001</td>\n",
       "      <td>33.880001</td>\n",
       "      <td>33.880001</td>\n",
       "      <td>748700</td>\n",
       "    </tr>\n",
       "    <tr>\n",
       "      <th>7</th>\n",
       "      <td>2019-01-11</td>\n",
       "      <td>33.830002</td>\n",
       "      <td>33.930000</td>\n",
       "      <td>33.570000</td>\n",
       "      <td>33.750000</td>\n",
       "      <td>33.750000</td>\n",
       "      <td>639800</td>\n",
       "    </tr>\n",
       "    <tr>\n",
       "      <th>8</th>\n",
       "      <td>2019-01-14</td>\n",
       "      <td>33.540001</td>\n",
       "      <td>33.689999</td>\n",
       "      <td>33.299999</td>\n",
       "      <td>33.590000</td>\n",
       "      <td>33.590000</td>\n",
       "      <td>779700</td>\n",
       "    </tr>\n",
       "    <tr>\n",
       "      <th>9</th>\n",
       "      <td>2019-01-15</td>\n",
       "      <td>33.720001</td>\n",
       "      <td>34.264999</td>\n",
       "      <td>33.520000</td>\n",
       "      <td>34.070000</td>\n",
       "      <td>34.070000</td>\n",
       "      <td>867700</td>\n",
       "    </tr>\n",
       "  </tbody>\n",
       "</table>\n",
       "</div>"
      ],
      "text/plain": [
       "         Date       Open       High        Low      Close  Adj Close   Volume\n",
       "0  2019-01-02  30.860001  31.260000  30.240000  30.910000  30.910000  1201700\n",
       "1  2019-01-03  30.660000  30.660000  29.290001  29.840000  29.840000  1149900\n",
       "2  2019-01-04  30.049999  31.360001  29.940001  31.080000  31.080000  3530400\n",
       "3  2019-01-07  31.020000  32.180000  30.850000  32.000000  32.000000  1063400\n",
       "4  2019-01-08  32.340000  33.060001  32.150002  32.790001  32.790001  1391000\n",
       "5  2019-01-09  32.790001  33.430000  32.730000  33.380001  33.380001   894400\n",
       "6  2019-01-10  33.189999  33.970001  32.970001  33.880001  33.880001   748700\n",
       "7  2019-01-11  33.830002  33.930000  33.570000  33.750000  33.750000   639800\n",
       "8  2019-01-14  33.540001  33.689999  33.299999  33.590000  33.590000   779700\n",
       "9  2019-01-15  33.720001  34.264999  33.520000  34.070000  34.070000   867700"
      ]
     },
     "execution_count": 2,
     "metadata": {},
     "output_type": "execute_result"
    }
   ],
   "source": [
    "df = pd.read_csv('E:/PTDLKD/Đồ án/dataset/CTLT.csv')\n",
    "df.head(10)"
   ]
  },
  {
   "attachments": {},
   "cell_type": "markdown",
   "metadata": {},
   "source": [
    "## Data preprocessing"
   ]
  },
  {
   "cell_type": "code",
   "execution_count": 3,
   "metadata": {},
   "outputs": [],
   "source": [
    "# Convert the 'Date' column to datetime format\n",
    "df['Date'] = pd.to_datetime(df['Date'])\n",
    "\n",
    "# Set the 'Date' column as the index value\n",
    "df.set_index('Date', inplace=True)"
   ]
  },
  {
   "cell_type": "code",
   "execution_count": 4,
   "metadata": {},
   "outputs": [
    {
     "data": {
      "text/html": [
       "<div>\n",
       "<style scoped>\n",
       "    .dataframe tbody tr th:only-of-type {\n",
       "        vertical-align: middle;\n",
       "    }\n",
       "\n",
       "    .dataframe tbody tr th {\n",
       "        vertical-align: top;\n",
       "    }\n",
       "\n",
       "    .dataframe thead th {\n",
       "        text-align: right;\n",
       "    }\n",
       "</style>\n",
       "<table border=\"1\" class=\"dataframe\">\n",
       "  <thead>\n",
       "    <tr style=\"text-align: right;\">\n",
       "      <th></th>\n",
       "      <th>Open</th>\n",
       "      <th>High</th>\n",
       "      <th>Low</th>\n",
       "      <th>Close</th>\n",
       "      <th>Adj Close</th>\n",
       "      <th>Volume</th>\n",
       "    </tr>\n",
       "    <tr>\n",
       "      <th>Date</th>\n",
       "      <th></th>\n",
       "      <th></th>\n",
       "      <th></th>\n",
       "      <th></th>\n",
       "      <th></th>\n",
       "      <th></th>\n",
       "    </tr>\n",
       "  </thead>\n",
       "  <tbody>\n",
       "    <tr>\n",
       "      <th>2019-01-02</th>\n",
       "      <td>30.860001</td>\n",
       "      <td>31.260000</td>\n",
       "      <td>30.240000</td>\n",
       "      <td>30.910000</td>\n",
       "      <td>30.910000</td>\n",
       "      <td>1201700</td>\n",
       "    </tr>\n",
       "    <tr>\n",
       "      <th>2019-01-03</th>\n",
       "      <td>30.660000</td>\n",
       "      <td>30.660000</td>\n",
       "      <td>29.290001</td>\n",
       "      <td>29.840000</td>\n",
       "      <td>29.840000</td>\n",
       "      <td>1149900</td>\n",
       "    </tr>\n",
       "    <tr>\n",
       "      <th>2019-01-04</th>\n",
       "      <td>30.049999</td>\n",
       "      <td>31.360001</td>\n",
       "      <td>29.940001</td>\n",
       "      <td>31.080000</td>\n",
       "      <td>31.080000</td>\n",
       "      <td>3530400</td>\n",
       "    </tr>\n",
       "    <tr>\n",
       "      <th>2019-01-07</th>\n",
       "      <td>31.020000</td>\n",
       "      <td>32.180000</td>\n",
       "      <td>30.850000</td>\n",
       "      <td>32.000000</td>\n",
       "      <td>32.000000</td>\n",
       "      <td>1063400</td>\n",
       "    </tr>\n",
       "    <tr>\n",
       "      <th>2019-01-08</th>\n",
       "      <td>32.340000</td>\n",
       "      <td>33.060001</td>\n",
       "      <td>32.150002</td>\n",
       "      <td>32.790001</td>\n",
       "      <td>32.790001</td>\n",
       "      <td>1391000</td>\n",
       "    </tr>\n",
       "    <tr>\n",
       "      <th>...</th>\n",
       "      <td>...</td>\n",
       "      <td>...</td>\n",
       "      <td>...</td>\n",
       "      <td>...</td>\n",
       "      <td>...</td>\n",
       "      <td>...</td>\n",
       "    </tr>\n",
       "    <tr>\n",
       "      <th>2023-06-06</th>\n",
       "      <td>37.910000</td>\n",
       "      <td>39.049999</td>\n",
       "      <td>37.580002</td>\n",
       "      <td>38.820000</td>\n",
       "      <td>38.820000</td>\n",
       "      <td>2261700</td>\n",
       "    </tr>\n",
       "    <tr>\n",
       "      <th>2023-06-07</th>\n",
       "      <td>39.160000</td>\n",
       "      <td>40.029999</td>\n",
       "      <td>38.250000</td>\n",
       "      <td>39.959999</td>\n",
       "      <td>39.959999</td>\n",
       "      <td>4382500</td>\n",
       "    </tr>\n",
       "    <tr>\n",
       "      <th>2023-06-08</th>\n",
       "      <td>39.700001</td>\n",
       "      <td>39.840000</td>\n",
       "      <td>36.750000</td>\n",
       "      <td>39.000000</td>\n",
       "      <td>39.000000</td>\n",
       "      <td>9705500</td>\n",
       "    </tr>\n",
       "    <tr>\n",
       "      <th>2023-06-09</th>\n",
       "      <td>39.250000</td>\n",
       "      <td>40.110001</td>\n",
       "      <td>38.480000</td>\n",
       "      <td>38.810001</td>\n",
       "      <td>38.810001</td>\n",
       "      <td>4493800</td>\n",
       "    </tr>\n",
       "    <tr>\n",
       "      <th>2023-06-12</th>\n",
       "      <td>40.490002</td>\n",
       "      <td>44.450001</td>\n",
       "      <td>40.410000</td>\n",
       "      <td>42.779999</td>\n",
       "      <td>42.779999</td>\n",
       "      <td>10155800</td>\n",
       "    </tr>\n",
       "  </tbody>\n",
       "</table>\n",
       "<p>1119 rows × 6 columns</p>\n",
       "</div>"
      ],
      "text/plain": [
       "                 Open       High        Low      Close  Adj Close    Volume\n",
       "Date                                                                       \n",
       "2019-01-02  30.860001  31.260000  30.240000  30.910000  30.910000   1201700\n",
       "2019-01-03  30.660000  30.660000  29.290001  29.840000  29.840000   1149900\n",
       "2019-01-04  30.049999  31.360001  29.940001  31.080000  31.080000   3530400\n",
       "2019-01-07  31.020000  32.180000  30.850000  32.000000  32.000000   1063400\n",
       "2019-01-08  32.340000  33.060001  32.150002  32.790001  32.790001   1391000\n",
       "...               ...        ...        ...        ...        ...       ...\n",
       "2023-06-06  37.910000  39.049999  37.580002  38.820000  38.820000   2261700\n",
       "2023-06-07  39.160000  40.029999  38.250000  39.959999  39.959999   4382500\n",
       "2023-06-08  39.700001  39.840000  36.750000  39.000000  39.000000   9705500\n",
       "2023-06-09  39.250000  40.110001  38.480000  38.810001  38.810001   4493800\n",
       "2023-06-12  40.490002  44.450001  40.410000  42.779999  42.779999  10155800\n",
       "\n",
       "[1119 rows x 6 columns]"
      ]
     },
     "execution_count": 4,
     "metadata": {},
     "output_type": "execute_result"
    }
   ],
   "source": [
    "# Show Dataframe\n",
    "df"
   ]
  },
  {
   "attachments": {},
   "cell_type": "markdown",
   "metadata": {},
   "source": [
    "## Split the data into train, validation and test set with a ratio of 7 : 1 : 2"
   ]
  },
  {
   "cell_type": "code",
   "execution_count": 5,
   "metadata": {},
   "outputs": [],
   "source": [
    "# Define the size of train, validation, test set\n",
    "train_size = int(len(df) * 0.7)\n",
    "val_size = int(len(df) * 0.1)\n",
    "test_size = len(df) - train_size - val_size\n",
    "\n",
    "# Split the data into train, test and validation set\n",
    "train_data = df.iloc[0 : train_size, :]\n",
    "val_data = df.iloc[train_size : train_size + val_size, :]\n",
    "test_data = df.iloc[train_size + val_size : len(df), :]"
   ]
  },
  {
   "attachments": {},
   "cell_type": "markdown",
   "metadata": {},
   "source": [
    "## Extracting features"
   ]
  },
  {
   "attachments": {},
   "cell_type": "markdown",
   "metadata": {},
   "source": [
    "Create function augment_features to calculate the fractional change in:\n",
    "1. Opening and closing prices (fracocp)\n",
    "2. High prices (frachp)\n",
    "3. Low prices (fraclp)"
   ]
  },
  {
   "cell_type": "code",
   "execution_count": 6,
   "metadata": {},
   "outputs": [],
   "source": [
    "def augment_features(dataframe):\n",
    "    fracocp = (dataframe['Close']-dataframe['Open'])/dataframe['Open']\n",
    "    frachp = (dataframe['High']-dataframe['Open'])/dataframe['Open']\n",
    "    fraclp = (dataframe['Open']-dataframe['Low'])/dataframe['Open']\n",
    "    new_dataframe = pd.DataFrame({'delOpenClose': fracocp,\n",
    "                                 'delHighOpen': frachp,\n",
    "                                 'delLowOpen': fraclp})\n",
    "    new_dataframe.set_index(dataframe.index)\n",
    "    \n",
    "    return new_dataframe"
   ]
  },
  {
   "attachments": {},
   "cell_type": "markdown",
   "metadata": {},
   "source": [
    "Function extract_features will combine the 3 calculated fractional change into 1 array"
   ]
  },
  {
   "cell_type": "code",
   "execution_count": 7,
   "metadata": {},
   "outputs": [],
   "source": [
    "def extract_features(dataframe):\n",
    "    return np.column_stack((dataframe['delOpenClose'], dataframe['delHighOpen'], dataframe['delLowOpen']))"
   ]
  },
  {
   "attachments": {},
   "cell_type": "markdown",
   "metadata": {},
   "source": [
    "## Build Model"
   ]
  },
  {
   "cell_type": "code",
   "execution_count": 8,
   "metadata": {},
   "outputs": [],
   "source": [
    "# Set the quantity of hidden states is 10\n",
    "model = GaussianHMM(n_components=10)"
   ]
  },
  {
   "cell_type": "code",
   "execution_count": 9,
   "metadata": {},
   "outputs": [
    {
     "name": "stderr",
     "output_type": "stream",
     "text": [
      "c:\\Users\\Admin\\.conda\\envs\\user_env\\lib\\site-packages\\sklearn\\cluster\\_kmeans.py:1382: UserWarning: KMeans is known to have a memory leak on Windows with MKL, when there are less chunks than available threads. You can avoid it by setting the environment variable OMP_NUM_THREADS=4.\n",
      "  warnings.warn(\n"
     ]
    },
    {
     "data": {
      "text/html": [
       "<style>#sk-container-id-1 {color: black;background-color: white;}#sk-container-id-1 pre{padding: 0;}#sk-container-id-1 div.sk-toggleable {background-color: white;}#sk-container-id-1 label.sk-toggleable__label {cursor: pointer;display: block;width: 100%;margin-bottom: 0;padding: 0.3em;box-sizing: border-box;text-align: center;}#sk-container-id-1 label.sk-toggleable__label-arrow:before {content: \"▸\";float: left;margin-right: 0.25em;color: #696969;}#sk-container-id-1 label.sk-toggleable__label-arrow:hover:before {color: black;}#sk-container-id-1 div.sk-estimator:hover label.sk-toggleable__label-arrow:before {color: black;}#sk-container-id-1 div.sk-toggleable__content {max-height: 0;max-width: 0;overflow: hidden;text-align: left;background-color: #f0f8ff;}#sk-container-id-1 div.sk-toggleable__content pre {margin: 0.2em;color: black;border-radius: 0.25em;background-color: #f0f8ff;}#sk-container-id-1 input.sk-toggleable__control:checked~div.sk-toggleable__content {max-height: 200px;max-width: 100%;overflow: auto;}#sk-container-id-1 input.sk-toggleable__control:checked~label.sk-toggleable__label-arrow:before {content: \"▾\";}#sk-container-id-1 div.sk-estimator input.sk-toggleable__control:checked~label.sk-toggleable__label {background-color: #d4ebff;}#sk-container-id-1 div.sk-label input.sk-toggleable__control:checked~label.sk-toggleable__label {background-color: #d4ebff;}#sk-container-id-1 input.sk-hidden--visually {border: 0;clip: rect(1px 1px 1px 1px);clip: rect(1px, 1px, 1px, 1px);height: 1px;margin: -1px;overflow: hidden;padding: 0;position: absolute;width: 1px;}#sk-container-id-1 div.sk-estimator {font-family: monospace;background-color: #f0f8ff;border: 1px dotted black;border-radius: 0.25em;box-sizing: border-box;margin-bottom: 0.5em;}#sk-container-id-1 div.sk-estimator:hover {background-color: #d4ebff;}#sk-container-id-1 div.sk-parallel-item::after {content: \"\";width: 100%;border-bottom: 1px solid gray;flex-grow: 1;}#sk-container-id-1 div.sk-label:hover label.sk-toggleable__label {background-color: #d4ebff;}#sk-container-id-1 div.sk-serial::before {content: \"\";position: absolute;border-left: 1px solid gray;box-sizing: border-box;top: 0;bottom: 0;left: 50%;z-index: 0;}#sk-container-id-1 div.sk-serial {display: flex;flex-direction: column;align-items: center;background-color: white;padding-right: 0.2em;padding-left: 0.2em;position: relative;}#sk-container-id-1 div.sk-item {position: relative;z-index: 1;}#sk-container-id-1 div.sk-parallel {display: flex;align-items: stretch;justify-content: center;background-color: white;position: relative;}#sk-container-id-1 div.sk-item::before, #sk-container-id-1 div.sk-parallel-item::before {content: \"\";position: absolute;border-left: 1px solid gray;box-sizing: border-box;top: 0;bottom: 0;left: 50%;z-index: -1;}#sk-container-id-1 div.sk-parallel-item {display: flex;flex-direction: column;z-index: 1;position: relative;background-color: white;}#sk-container-id-1 div.sk-parallel-item:first-child::after {align-self: flex-end;width: 50%;}#sk-container-id-1 div.sk-parallel-item:last-child::after {align-self: flex-start;width: 50%;}#sk-container-id-1 div.sk-parallel-item:only-child::after {width: 0;}#sk-container-id-1 div.sk-dashed-wrapped {border: 1px dashed gray;margin: 0 0.4em 0.5em 0.4em;box-sizing: border-box;padding-bottom: 0.4em;background-color: white;}#sk-container-id-1 div.sk-label label {font-family: monospace;font-weight: bold;display: inline-block;line-height: 1.2em;}#sk-container-id-1 div.sk-label-container {text-align: center;}#sk-container-id-1 div.sk-container {/* jupyter's `normalize.less` sets `[hidden] { display: none; }` but bootstrap.min.css set `[hidden] { display: none !important; }` so we also need the `!important` here to be able to override the default hidden behavior on the sphinx rendered scikit-learn.org. See: https://github.com/scikit-learn/scikit-learn/issues/21755 */display: inline-block !important;position: relative;}#sk-container-id-1 div.sk-text-repr-fallback {display: none;}</style><div id=\"sk-container-id-1\" class=\"sk-top-container\"><div class=\"sk-text-repr-fallback\"><pre>GaussianHMM(n_components=10)</pre><b>In a Jupyter environment, please rerun this cell to show the HTML representation or trust the notebook. <br />On GitHub, the HTML representation is unable to render, please try loading this page with nbviewer.org.</b></div><div class=\"sk-container\" hidden><div class=\"sk-item\"><div class=\"sk-estimator sk-toggleable\"><input class=\"sk-toggleable__control sk-hidden--visually\" id=\"sk-estimator-id-1\" type=\"checkbox\" checked><label for=\"sk-estimator-id-1\" class=\"sk-toggleable__label sk-toggleable__label-arrow\">GaussianHMM</label><div class=\"sk-toggleable__content\"><pre>GaussianHMM(n_components=10)</pre></div></div></div></div></div>"
      ],
      "text/plain": [
       "GaussianHMM(n_components=10)"
      ]
     },
     "execution_count": 9,
     "metadata": {},
     "output_type": "execute_result"
    }
   ],
   "source": [
    "# Extract features of train set\n",
    "feature_train_data = augment_features(train_data)\n",
    "features_train = extract_features(feature_train_data)\n",
    "\n",
    "# Training model\n",
    "model.fit(features_train)"
   ]
  },
  {
   "cell_type": "code",
   "execution_count": 10,
   "metadata": {},
   "outputs": [],
   "source": [
    "# Using 50 days in the past to predict the closing price of the current day\n",
    "num_latent_days = 50\n",
    "\n",
    "# Determine the number of days will be predicted is 30 days\n",
    "# num_days_to_predict = 30"
   ]
  },
  {
   "attachments": {},
   "cell_type": "markdown",
   "metadata": {},
   "source": [
    "## Evaluate in validation set"
   ]
  },
  {
   "cell_type": "code",
   "execution_count": 11,
   "metadata": {},
   "outputs": [],
   "source": [
    "# Extract features of validation set\n",
    "val_augmented = augment_features(val_data) \n",
    "val_fracocp = val_augmented['delOpenClose']\n",
    "val_frachp = val_augmented['delHighOpen']\n",
    "val_fraclp = val_augmented['delLowOpen']\n",
    "\n",
    "# Divide validation set's feature values into parts\n",
    "val_sample_space_fracocp = np.linspace(val_fracocp.min(), val_fracocp.max(), 50) \n",
    "val_sample_space_fraclp = np.linspace(val_fraclp.min(), val_frachp.max(), 10)\n",
    "val_sample_space_frachp = np.linspace(val_frachp.min(), val_frachp.max(), 10)\n",
    "\n",
    "# Generate the possible permutations of values for the features of validation set\n",
    "possible_outcomes = np.array(list(itertools.product(val_sample_space_fracocp, val_sample_space_frachp, val_sample_space_fraclp)))"
   ]
  },
  {
   "cell_type": "code",
   "execution_count": 12,
   "metadata": {},
   "outputs": [],
   "source": [
    "# best_num_step stores the number of steps in the interval that the features take\n",
    "best_num_step = None\n",
    "\n",
    "# best_mae stores the best Mean Absolute Error value\n",
    "best_mae = float('inf')"
   ]
  },
  {
   "cell_type": "code",
   "execution_count": 13,
   "metadata": {},
   "outputs": [
    {
     "name": "stderr",
     "output_type": "stream",
     "text": [
      "  0%|          | 0/111 [00:00<?, ?it/s]"
     ]
    },
    {
     "name": "stderr",
     "output_type": "stream",
     "text": [
      "100%|██████████| 111/111 [00:03<00:00, 34.51it/s]\n",
      "100%|██████████| 111/111 [00:34<00:00,  3.20it/s]\n",
      "100%|██████████| 111/111 [02:02<00:00,  1.11s/it]\n",
      "100%|██████████| 111/111 [05:15<00:00,  2.84s/it]\n"
     ]
    }
   ],
   "source": [
    "# Experiment and find the best number of steps between 10 and 50\n",
    "for num_step in np.arange(10, 50, 10):\n",
    "    sample_space_fracocp = np.linspace(val_fracocp.min(), val_fracocp.max(), num_step)\n",
    "    sample_space_fraclp = np.linspace(val_fraclp.min(), val_frachp.max(), int(num_step/5))\n",
    "    sample_space_frachp = np.linspace(val_frachp.min(), val_frachp.max(), int(num_step/5))\n",
    "    possible_outcomes = np.array(list(itertools.product(sample_space_fracocp, sample_space_frachp, sample_space_fraclp)))\n",
    "    \n",
    "    predicted_close_prices = []\n",
    "    \n",
    "    for i in tqdm(range(val_size)):\n",
    "        # Calculate start and end indices\n",
    "        previous_data_start_index = max(0, i - num_latent_days)\n",
    "        previous_data_end_index = max(0, i)\n",
    "        # Acquire validation data features for these days\n",
    "        previous_data = extract_features(augment_features(val_data.iloc[previous_data_start_index:previous_data_end_index]))\n",
    "\n",
    "        outcome_scores = []\n",
    "        for outcome in possible_outcomes:\n",
    "            # Append each outcome one by one with replacement to see which sequence generates the highest score\n",
    "            total_data = np.row_stack((previous_data, outcome))\n",
    "            outcome_scores.append(model.score(total_data))\n",
    "\n",
    "        # Take the most probable outcome as the one with the highest score\n",
    "        most_probable_outcome = possible_outcomes[np.argmax(outcome_scores)]\n",
    "        predicted_close_prices.append(test_data.iloc[i]['Open'] * (1 + most_probable_outcome[0]))\n",
    "    \n",
    "    # Calculate MAE value\n",
    "    mae = (abs(val_data['Close'] - predicted_close_prices)).mean()\n",
    "\n",
    "    # Compare and find the best number of steps and the best MAE value\n",
    "    if mae < best_mae:\n",
    "        best_num_step = num_step\n",
    "        best_mae = mae"
   ]
  },
  {
   "cell_type": "code",
   "execution_count": 14,
   "metadata": {},
   "outputs": [
    {
     "name": "stdout",
     "output_type": "stream",
     "text": [
      "The best number of steps is :  10\n"
     ]
    }
   ],
   "source": [
    "# Show the best number of steps\n",
    "print(\"The best number of steps is : \", best_num_step)"
   ]
  },
  {
   "attachments": {},
   "cell_type": "markdown",
   "metadata": {},
   "source": [
    "## Predict validate dataset with the best number of steps"
   ]
  },
  {
   "cell_type": "code",
   "execution_count": 15,
   "metadata": {},
   "outputs": [],
   "source": [
    "# Divide validate dataset's feature values into parts\n",
    "val_sample_space_fracocp = np.linspace(val_fracocp.min(), val_fracocp.max(), best_num_step) \n",
    "val_sample_space_fraclp = np.linspace(val_fraclp.min(), val_frachp.max(), int(best_num_step/5))\n",
    "val_sample_space_frachp = np.linspace(val_frachp.min(), val_frachp.max(), int(best_num_step/5))\n",
    "\n",
    "# Generate the possible permutations of values for the features of test set\n",
    "possible_outcomes = np.array(list(itertools.product(val_sample_space_fracocp, val_sample_space_frachp, val_sample_space_fraclp)))"
   ]
  },
  {
   "cell_type": "code",
   "execution_count": 16,
   "metadata": {},
   "outputs": [
    {
     "name": "stderr",
     "output_type": "stream",
     "text": [
      "  5%|▌         | 6/111 [00:00<00:03, 26.48it/s]"
     ]
    },
    {
     "name": "stderr",
     "output_type": "stream",
     "text": [
      "100%|██████████| 111/111 [00:04<00:00, 25.01it/s]\n"
     ]
    }
   ],
   "source": [
    "y_pred_val = []\n",
    "\n",
    "for i in tqdm(range(val_size)):\n",
    "    # Calculate start and end indices\n",
    "    previous_data_start_index = max(0, i - num_latent_days)\n",
    "    previous_data_end_index = max(0, i)\n",
    "    # Calculate start and end indices\n",
    "    previous_data = extract_features(augment_features(val_data.iloc[previous_data_start_index:previous_data_end_index]))\n",
    "    \n",
    "    outcome_scores = []\n",
    "    for outcome in possible_outcomes:\n",
    "        # Append each outcome one by one with replacement to see which sequence generates the highest score\n",
    "        total_data = np.row_stack((previous_data, outcome))\n",
    "        outcome_scores.append(model.score(total_data)) \n",
    "        \n",
    "    # Take the most probable outcome as the one with the highest score\n",
    "    most_probable_outcome = possible_outcomes[np.argmax(outcome_scores)]\n",
    "    y_pred_val.append(val_data.iloc[i]['Open'] * (1 + most_probable_outcome[0])) "
   ]
  },
  {
   "attachments": {},
   "cell_type": "markdown",
   "metadata": {},
   "source": [
    "## Predict test dataset with the best number of steps"
   ]
  },
  {
   "cell_type": "code",
   "execution_count": 17,
   "metadata": {},
   "outputs": [],
   "source": [
    "# Extract features of test set\n",
    "test_augmented = augment_features(test_data) \n",
    "fracocp = test_augmented['delOpenClose']\n",
    "frachp = test_augmented['delHighOpen']\n",
    "fraclp = test_augmented['delLowOpen']\n",
    "\n",
    "# Divide test set's feature values into parts\n",
    "sample_space_fracocp = np.linspace(fracocp.min(), fracocp.max(), best_num_step) \n",
    "sample_space_fraclp = np.linspace(fraclp.min(), frachp.max(), int(best_num_step/5))\n",
    "sample_space_frachp = np.linspace(frachp.min(), frachp.max(), int(best_num_step/5))\n",
    "\n",
    "# Generate the possible permutations of values for the features of test set\n",
    "possible_outcomes = np.array(list(itertools.product(sample_space_fracocp, sample_space_frachp, sample_space_fraclp)))"
   ]
  },
  {
   "cell_type": "code",
   "execution_count": 18,
   "metadata": {},
   "outputs": [
    {
     "name": "stderr",
     "output_type": "stream",
     "text": [
      "100%|██████████| 225/225 [00:09<00:00, 23.66it/s]\n"
     ]
    }
   ],
   "source": [
    "y_pred = []\n",
    "\n",
    "for i in tqdm(range(test_size)):\n",
    "    # Calculate start and end indices\n",
    "    previous_data_start_index = max(0, i - num_latent_days)\n",
    "    previous_data_end_index = max(0, i)\n",
    "    # Calculate start and end indices\n",
    "    previous_data = extract_features(augment_features(test_data.iloc[previous_data_start_index:previous_data_end_index]))\n",
    "    \n",
    "    outcome_scores = []\n",
    "    for outcome in possible_outcomes:\n",
    "        # Append each outcome one by one with replacement to see which sequence generates the highest score\n",
    "        total_data = np.row_stack((previous_data, outcome))\n",
    "        outcome_scores.append(model.score(total_data)) \n",
    "        \n",
    "    # Take the most probable outcome as the one with the highest score\n",
    "    most_probable_outcome = possible_outcomes[np.argmax(outcome_scores)]\n",
    "    y_pred.append(test_data.iloc[i]['Open'] * (1 + most_probable_outcome[0])) "
   ]
  },
  {
   "attachments": {},
   "cell_type": "markdown",
   "metadata": {},
   "source": [
    "## Calculate the error of the model"
   ]
  },
  {
   "cell_type": "code",
   "execution_count": 19,
   "metadata": {},
   "outputs": [],
   "source": [
    "# Select the test values in reality\n",
    "y_act = test_data['Close']\n",
    "y_act = y_act.values"
   ]
  },
  {
   "cell_type": "code",
   "execution_count": 20,
   "metadata": {},
   "outputs": [
    {
     "name": "stdout",
     "output_type": "stream",
     "text": [
      "MAPE on Test dataset:  0.022498665637365738\n",
      "RMSE on Test dataset:  1.7910348932847282\n",
      "MSLE on Test dataset:  0.0008367254298879248\n"
     ]
    }
   ],
   "source": [
    "# The error in test set\n",
    "test_mape = mean_absolute_percentage_error(y_act, y_pred)\n",
    "test_mse = mean_squared_error(y_act, y_pred)\n",
    "test_rmse = np.sqrt(test_mse)\n",
    "test_msle = mean_squared_log_error(y_act, y_pred)\n",
    "\n",
    "print(f\"MAPE on Test dataset: \", test_mape)\n",
    "print(f\"RMSE on Test dataset: \", test_rmse)\n",
    "print(f\"MSLE on Test dataset: \", test_msle)"
   ]
  },
  {
   "cell_type": "code",
   "execution_count": 21,
   "metadata": {},
   "outputs": [],
   "source": [
    "# Select the validation values in reality\n",
    "y_act_val = val_data['Close']\n",
    "y_act_val = y_act_val.values"
   ]
  },
  {
   "cell_type": "code",
   "execution_count": 22,
   "metadata": {},
   "outputs": [
    {
     "name": "stdout",
     "output_type": "stream",
     "text": [
      "MAPE on Validate dataset:  0.017592601843276275\n",
      "RMSE on Validate dataset:  2.3098059001270532\n",
      "MSLE on Validate dataset:  0.0005126236946153614\n"
     ]
    }
   ],
   "source": [
    "# The error in test set\n",
    "val_mape = mean_absolute_percentage_error(y_act_val, y_pred_val)\n",
    "val_mse = mean_squared_error(y_act_val, y_pred_val)\n",
    "val_rmse = np.sqrt(val_mse)\n",
    "val_msle = mean_squared_log_error(y_act_val, y_pred_val)\n",
    "\n",
    "print(f\"MAPE on Validate dataset: \", val_mape)\n",
    "print(f\"RMSE on Validate dataset: \", val_rmse)\n",
    "print(f\"MSLE on Validate dataset: \", val_msle)"
   ]
  },
  {
   "attachments": {},
   "cell_type": "markdown",
   "metadata": {},
   "source": [
    "## Model visualization"
   ]
  },
  {
   "cell_type": "code",
   "execution_count": 23,
   "metadata": {},
   "outputs": [
    {
     "data": {
      "image/png": "[encoded data removed]",
      "text/plain": [
       "<Figure size 1200x500 with 1 Axes>"
      ]
     },
     "metadata": {},
     "output_type": "display_data"
    }
   ],
   "source": [
    "plt.figure(figsize=(12, 5))\n",
    "\n",
    "# Train set\n",
    "plt.plot(df[:train_size].index, train_data['Close'].values)\n",
    "\n",
    "# Validation set\n",
    "plt.plot(df[train_size : train_size + val_size].index, val_data['Close'].values)\n",
    "\n",
    "# Predict in validate dataset\n",
    "plt.plot(df[train_size : train_size + val_size].index, y_pred_val)\n",
    "\n",
    "# Test set\n",
    "plt.plot(df[train_size + val_size: ].index, test_data['Close'].values)\n",
    "\n",
    "# Predict in test set\n",
    "plt.plot(df[train_size + val_size:].index, y_pred)\n",
    "\n",
    "# Predict 30 next days\n",
    "# plt.plot(index_next_30_days, y_next_30_days)\n",
    "\n",
    "plt.legend(['Train', 'Validate', 'Predict Validation', 'Test', 'Predict Test'])\n",
    "plt.grid()\n",
    "plt.title(\"CTLT Closing Price Data With Ratio 7_1_2\")\n",
    "plt.xlabel(\"Date\")\n",
    "plt.ylabel(\"Close value\")\n",
    "plt.savefig('HMM_712_CTLT.png')\n",
    "plt.show()"
   ]
  }
 ],
 "metadata": {
  "kernelspec": {
   "display_name": "user_env",
   "language": "python",
   "name": "python3"
  },
  "language_info": {
   "codemirror_mode": {
    "name": "ipython",
    "version": 3
   },
   "file_extension": ".py",
   "mimetype": "text/x-python",
   "name": "python",
   "nbconvert_exporter": "python",
   "pygments_lexer": "ipython3",
   "version": "3.9.16"
  },
  "orig_nbformat": 4
 },
 "nbformat": 4,
 "nbformat_minor": 2
}
