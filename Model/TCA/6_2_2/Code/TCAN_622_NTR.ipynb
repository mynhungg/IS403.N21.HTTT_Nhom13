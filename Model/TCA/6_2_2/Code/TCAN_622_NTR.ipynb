{
  "cells": [
    {
      "cell_type": "markdown",
      "source": [
        "## Preparation"
      ],
      "metadata": {
        "id": "Ty-2HmFfAEUU"
      },
      "id": "Ty-2HmFfAEUU"
    },
    {
      "cell_type": "markdown",
      "source": [
        "### Download the optimization support library package"
      ],
      "metadata": {
        "id": "wCHCM3ifASoq"
      },
      "id": "wCHCM3ifASoq"
    },
    {
      "cell_type": "code",
      "source": [
        "!pip install optuna"
      ],
      "metadata": {
        "colab": {
          "base_uri": "https://localhost:8080/"
        },
        "id": "h-uK9HgR9_AM",
        "outputId": "ed2beda1-6767-4907-99ed-3926f3113f40"
      },
      "id": "h-uK9HgR9_AM",
      "execution_count": 1,
      "outputs": [
        {
          "output_type": "stream",
          "name": "stdout",
          "text": [
            "Looking in indexes: https://pypi.org/simple, https://us-python.pkg.dev/colab-wheels/public/simple/\n",
            "Collecting optuna\n",
            "  Downloading optuna-3.2.0-py3-none-any.whl (390 kB)\n",
            "\u001b[2K     \u001b[90m━━━━━━━━━━━━━━━━━━━━━━━━━━━━━━━━━━━━━━\u001b[0m \u001b[32m390.6/390.6 kB\u001b[0m \u001b[31m22.9 MB/s\u001b[0m eta \u001b[36m0:00:00\u001b[0m\n",
            "\u001b[?25hCollecting alembic>=1.5.0 (from optuna)\n",
            "  Downloading alembic-1.11.1-py3-none-any.whl (224 kB)\n",
            "\u001b[2K     \u001b[90m━━━━━━━━━━━━━━━━━━━━━━━━━━━━━━━━━━━━━━\u001b[0m \u001b[32m224.5/224.5 kB\u001b[0m \u001b[31m28.8 MB/s\u001b[0m eta \u001b[36m0:00:00\u001b[0m\n",
            "\u001b[?25hCollecting cmaes>=0.9.1 (from optuna)\n",
            "  Downloading cmaes-0.9.1-py3-none-any.whl (21 kB)\n",
            "Collecting colorlog (from optuna)\n",
            "  Downloading colorlog-6.7.0-py2.py3-none-any.whl (11 kB)\n",
            "Requirement already satisfied: numpy in /usr/local/lib/python3.10/dist-packages (from optuna) (1.22.4)\n",
            "Requirement already satisfied: packaging>=20.0 in /usr/local/lib/python3.10/dist-packages (from optuna) (23.1)\n",
            "Requirement already satisfied: sqlalchemy>=1.3.0 in /usr/local/lib/python3.10/dist-packages (from optuna) (2.0.10)\n",
            "Requirement already satisfied: tqdm in /usr/local/lib/python3.10/dist-packages (from optuna) (4.65.0)\n",
            "Requirement already satisfied: PyYAML in /usr/local/lib/python3.10/dist-packages (from optuna) (6.0)\n",
            "Collecting Mako (from alembic>=1.5.0->optuna)\n",
            "  Downloading Mako-1.2.4-py3-none-any.whl (78 kB)\n",
            "\u001b[2K     \u001b[90m━━━━━━━━━━━━━━━━━━━━━━━━━━━━━━━━━━━━━━━━\u001b[0m \u001b[32m78.7/78.7 kB\u001b[0m \u001b[31m9.9 MB/s\u001b[0m eta \u001b[36m0:00:00\u001b[0m\n",
            "\u001b[?25hRequirement already satisfied: typing-extensions>=4 in /usr/local/lib/python3.10/dist-packages (from alembic>=1.5.0->optuna) (4.5.0)\n",
            "Requirement already satisfied: greenlet!=0.4.17 in /usr/local/lib/python3.10/dist-packages (from sqlalchemy>=1.3.0->optuna) (2.0.2)\n",
            "Requirement already satisfied: MarkupSafe>=0.9.2 in /usr/local/lib/python3.10/dist-packages (from Mako->alembic>=1.5.0->optuna) (2.1.2)\n",
            "Installing collected packages: Mako, colorlog, cmaes, alembic, optuna\n",
            "Successfully installed Mako-1.2.4 alembic-1.11.1 cmaes-0.9.1 colorlog-6.7.0 optuna-3.2.0\n"
          ]
        }
      ]
    },
    {
      "cell_type": "markdown",
      "source": [
        "### Connect to Google Drive"
      ],
      "metadata": {
        "id": "-yVNLlKiAkLO"
      },
      "id": "-yVNLlKiAkLO"
    },
    {
      "cell_type": "code",
      "source": [
        "from google.colab import drive\n",
        "drive.mount('/content/drive', force_remount=True)"
      ],
      "metadata": {
        "colab": {
          "base_uri": "https://localhost:8080/"
        },
        "id": "O32NLGXv96h9",
        "outputId": "89dc7ade-b311-4811-da72-828bf168bc3f"
      },
      "id": "O32NLGXv96h9",
      "execution_count": 2,
      "outputs": [
        {
          "output_type": "stream",
          "name": "stdout",
          "text": [
            "Mounted at /content/drive\n"
          ]
        }
      ]
    },
    {
      "cell_type": "markdown",
      "source": [
        "## Import Libraries"
      ],
      "metadata": {
        "id": "W53Qynm-ZVZt"
      },
      "id": "W53Qynm-ZVZt"
    },
    {
      "cell_type": "code",
      "execution_count": 3,
      "id": "87d177e7",
      "metadata": {
        "id": "87d177e7"
      },
      "outputs": [],
      "source": [
        "# Library to support working with data\n",
        "import numpy as np\n",
        "import pandas as pd\n",
        "\n",
        "# Graphing support library\n",
        "import matplotlib.pyplot as plt\n",
        "\n",
        "# Data Normalization Support Library\n",
        "from sklearn.preprocessing import MinMaxScaler\n",
        "\n",
        "# Library to support building Temporal Convolutional Attention Networks models\n",
        "from tensorflow.keras.models import Model\n",
        "from tensorflow.keras.optimizers import Adam\n",
        "from tensorflow.keras.callbacks import EarlyStopping\n",
        "from tensorflow.keras.layers import Dense, Flatten, Conv1D, MaxPooling1D, GlobalMaxPooling1D, Dropout, SpatialDropout1D\n",
        "from tensorflow.keras.layers import Layer, RepeatVector, concatenate, Reshape, Input, Concatenate, Permute, Multiply, Add, Activation\n",
        "\n",
        "# Performance metrics calculation support library\n",
        "from sklearn.metrics import mean_squared_error, mean_absolute_percentage_error, mean_squared_log_error\n",
        "\n",
        "# Parameter optimization support library\n",
        "import optuna\n",
        "\n",
        "# Support library to ignore warnings\n",
        "import warnings\n",
        "warnings.filterwarnings(\"ignore\")\n",
        "\n",
        "# Support library to load models and data\n",
        "from keras.utils import custom_object_scope\n",
        "from tensorflow.keras.models import load_model"
      ]
    },
    {
      "cell_type": "markdown",
      "source": [
        "## Data preprocessing"
      ],
      "metadata": {
        "id": "-DlshO-2cJbs"
      },
      "id": "-DlshO-2cJbs"
    },
    {
      "cell_type": "markdown",
      "source": [
        "### Read data"
      ],
      "metadata": {
        "id": "ezxH2qTIcLnT"
      },
      "id": "ezxH2qTIcLnT"
    },
    {
      "cell_type": "code",
      "execution_count": 4,
      "id": "77ce5605",
      "metadata": {
        "colab": {
          "base_uri": "https://localhost:8080/",
          "height": 423
        },
        "id": "77ce5605",
        "outputId": "90d089b6-cede-46cc-8dcc-896f72da7464"
      },
      "outputs": [
        {
          "output_type": "execute_result",
          "data": {
            "text/plain": [
              "            Date       Open       High        Low      Close  Adj Close  \\\n",
              "0     2019-01-02  46.209999  46.990002  45.855000  46.259998  40.076595   \n",
              "1     2019-01-03  46.000000  46.099998  44.882999  45.049999  39.028339   \n",
              "2     2019-01-04  45.950001  47.180000  45.880001  47.130001  40.830315   \n",
              "3     2019-01-07  47.310001  48.110001  46.840000  47.740002  41.358772   \n",
              "4     2019-01-08  48.709999  49.480000  48.520000  49.209999  42.632286   \n",
              "...          ...        ...        ...        ...        ...        ...   \n",
              "1114  2023-06-06  53.000000  57.294998  52.820000  57.220001  57.220001   \n",
              "1115  2023-06-07  57.610001  59.750000  57.520000  59.340000  59.340000   \n",
              "1116  2023-06-08  59.400002  60.080002  57.910000  58.939999  58.939999   \n",
              "1117  2023-06-09  58.959999  59.349998  58.290001  58.790001  58.790001   \n",
              "1118  2023-06-12  58.279999  59.650002  58.279999  59.610001  59.610001   \n",
              "\n",
              "       Volume  \n",
              "0     1289100  \n",
              "1     1158800  \n",
              "2     1538500  \n",
              "3      954700  \n",
              "4     1921800  \n",
              "...       ...  \n",
              "1114  6397900  \n",
              "1115  2925500  \n",
              "1116  2828400  \n",
              "1117  1686600  \n",
              "1118  1563100  \n",
              "\n",
              "[1119 rows x 7 columns]"
            ],
            "text/html": [
              "\n",
              "  <div id=\"df-5843cc29-f070-44e1-a0f1-51d43bf2c8f8\">\n",
              "    <div class=\"colab-df-container\">\n",
              "      <div>\n",
              "<style scoped>\n",
              "    .dataframe tbody tr th:only-of-type {\n",
              "        vertical-align: middle;\n",
              "    }\n",
              "\n",
              "    .dataframe tbody tr th {\n",
              "        vertical-align: top;\n",
              "    }\n",
              "\n",
              "    .dataframe thead th {\n",
              "        text-align: right;\n",
              "    }\n",
              "</style>\n",
              "<table border=\"1\" class=\"dataframe\">\n",
              "  <thead>\n",
              "    <tr style=\"text-align: right;\">\n",
              "      <th></th>\n",
              "      <th>Date</th>\n",
              "      <th>Open</th>\n",
              "      <th>High</th>\n",
              "      <th>Low</th>\n",
              "      <th>Close</th>\n",
              "      <th>Adj Close</th>\n",
              "      <th>Volume</th>\n",
              "    </tr>\n",
              "  </thead>\n",
              "  <tbody>\n",
              "    <tr>\n",
              "      <th>0</th>\n",
              "      <td>2019-01-02</td>\n",
              "      <td>46.209999</td>\n",
              "      <td>46.990002</td>\n",
              "      <td>45.855000</td>\n",
              "      <td>46.259998</td>\n",
              "      <td>40.076595</td>\n",
              "      <td>1289100</td>\n",
              "    </tr>\n",
              "    <tr>\n",
              "      <th>1</th>\n",
              "      <td>2019-01-03</td>\n",
              "      <td>46.000000</td>\n",
              "      <td>46.099998</td>\n",
              "      <td>44.882999</td>\n",
              "      <td>45.049999</td>\n",
              "      <td>39.028339</td>\n",
              "      <td>1158800</td>\n",
              "    </tr>\n",
              "    <tr>\n",
              "      <th>2</th>\n",
              "      <td>2019-01-04</td>\n",
              "      <td>45.950001</td>\n",
              "      <td>47.180000</td>\n",
              "      <td>45.880001</td>\n",
              "      <td>47.130001</td>\n",
              "      <td>40.830315</td>\n",
              "      <td>1538500</td>\n",
              "    </tr>\n",
              "    <tr>\n",
              "      <th>3</th>\n",
              "      <td>2019-01-07</td>\n",
              "      <td>47.310001</td>\n",
              "      <td>48.110001</td>\n",
              "      <td>46.840000</td>\n",
              "      <td>47.740002</td>\n",
              "      <td>41.358772</td>\n",
              "      <td>954700</td>\n",
              "    </tr>\n",
              "    <tr>\n",
              "      <th>4</th>\n",
              "      <td>2019-01-08</td>\n",
              "      <td>48.709999</td>\n",
              "      <td>49.480000</td>\n",
              "      <td>48.520000</td>\n",
              "      <td>49.209999</td>\n",
              "      <td>42.632286</td>\n",
              "      <td>1921800</td>\n",
              "    </tr>\n",
              "    <tr>\n",
              "      <th>...</th>\n",
              "      <td>...</td>\n",
              "      <td>...</td>\n",
              "      <td>...</td>\n",
              "      <td>...</td>\n",
              "      <td>...</td>\n",
              "      <td>...</td>\n",
              "      <td>...</td>\n",
              "    </tr>\n",
              "    <tr>\n",
              "      <th>1114</th>\n",
              "      <td>2023-06-06</td>\n",
              "      <td>53.000000</td>\n",
              "      <td>57.294998</td>\n",
              "      <td>52.820000</td>\n",
              "      <td>57.220001</td>\n",
              "      <td>57.220001</td>\n",
              "      <td>6397900</td>\n",
              "    </tr>\n",
              "    <tr>\n",
              "      <th>1115</th>\n",
              "      <td>2023-06-07</td>\n",
              "      <td>57.610001</td>\n",
              "      <td>59.750000</td>\n",
              "      <td>57.520000</td>\n",
              "      <td>59.340000</td>\n",
              "      <td>59.340000</td>\n",
              "      <td>2925500</td>\n",
              "    </tr>\n",
              "    <tr>\n",
              "      <th>1116</th>\n",
              "      <td>2023-06-08</td>\n",
              "      <td>59.400002</td>\n",
              "      <td>60.080002</td>\n",
              "      <td>57.910000</td>\n",
              "      <td>58.939999</td>\n",
              "      <td>58.939999</td>\n",
              "      <td>2828400</td>\n",
              "    </tr>\n",
              "    <tr>\n",
              "      <th>1117</th>\n",
              "      <td>2023-06-09</td>\n",
              "      <td>58.959999</td>\n",
              "      <td>59.349998</td>\n",
              "      <td>58.290001</td>\n",
              "      <td>58.790001</td>\n",
              "      <td>58.790001</td>\n",
              "      <td>1686600</td>\n",
              "    </tr>\n",
              "    <tr>\n",
              "      <th>1118</th>\n",
              "      <td>2023-06-12</td>\n",
              "      <td>58.279999</td>\n",
              "      <td>59.650002</td>\n",
              "      <td>58.279999</td>\n",
              "      <td>59.610001</td>\n",
              "      <td>59.610001</td>\n",
              "      <td>1563100</td>\n",
              "    </tr>\n",
              "  </tbody>\n",
              "</table>\n",
              "<p>1119 rows × 7 columns</p>\n",
              "</div>\n",
              "      <button class=\"colab-df-convert\" onclick=\"convertToInteractive('df-5843cc29-f070-44e1-a0f1-51d43bf2c8f8')\"\n",
              "              title=\"Convert this dataframe to an interactive table.\"\n",
              "              style=\"display:none;\">\n",
              "        \n",
              "  <svg xmlns=\"http://www.w3.org/2000/svg\" height=\"24px\"viewBox=\"0 0 24 24\"\n",
              "       width=\"24px\">\n",
              "    <path d=\"M0 0h24v24H0V0z\" fill=\"none\"/>\n",
              "    <path d=\"M18.56 5.44l.94 2.06.94-2.06 2.06-.94-2.06-.94-.94-2.06-.94 2.06-2.06.94zm-11 1L8.5 8.5l.94-2.06 2.06-.94-2.06-.94L8.5 2.5l-.94 2.06-2.06.94zm10 10l.94 2.06.94-2.06 2.06-.94-2.06-.94-.94-2.06-.94 2.06-2.06.94z\"/><path d=\"M17.41 7.96l-1.37-1.37c-.4-.4-.92-.59-1.43-.59-.52 0-1.04.2-1.43.59L10.3 9.45l-7.72 7.72c-.78.78-.78 2.05 0 2.83L4 21.41c.39.39.9.59 1.41.59.51 0 1.02-.2 1.41-.59l7.78-7.78 2.81-2.81c.8-.78.8-2.07 0-2.86zM5.41 20L4 18.59l7.72-7.72 1.47 1.35L5.41 20z\"/>\n",
              "  </svg>\n",
              "      </button>\n",
              "      \n",
              "  <style>\n",
              "    .colab-df-container {\n",
              "      display:flex;\n",
              "      flex-wrap:wrap;\n",
              "      gap: 12px;\n",
              "    }\n",
              "\n",
              "    .colab-df-convert {\n",
              "      background-color: #E8F0FE;\n",
              "      border: none;\n",
              "      border-radius: 50%;\n",
              "      cursor: pointer;\n",
              "      display: none;\n",
              "      fill: #1967D2;\n",
              "      height: 32px;\n",
              "      padding: 0 0 0 0;\n",
              "      width: 32px;\n",
              "    }\n",
              "\n",
              "    .colab-df-convert:hover {\n",
              "      background-color: #E2EBFA;\n",
              "      box-shadow: 0px 1px 2px rgba(60, 64, 67, 0.3), 0px 1px 3px 1px rgba(60, 64, 67, 0.15);\n",
              "      fill: #174EA6;\n",
              "    }\n",
              "\n",
              "    [theme=dark] .colab-df-convert {\n",
              "      background-color: #3B4455;\n",
              "      fill: #D2E3FC;\n",
              "    }\n",
              "\n",
              "    [theme=dark] .colab-df-convert:hover {\n",
              "      background-color: #434B5C;\n",
              "      box-shadow: 0px 1px 3px 1px rgba(0, 0, 0, 0.15);\n",
              "      filter: drop-shadow(0px 1px 2px rgba(0, 0, 0, 0.3));\n",
              "      fill: #FFFFFF;\n",
              "    }\n",
              "  </style>\n",
              "\n",
              "      <script>\n",
              "        const buttonEl =\n",
              "          document.querySelector('#df-5843cc29-f070-44e1-a0f1-51d43bf2c8f8 button.colab-df-convert');\n",
              "        buttonEl.style.display =\n",
              "          google.colab.kernel.accessAllowed ? 'block' : 'none';\n",
              "\n",
              "        async function convertToInteractive(key) {\n",
              "          const element = document.querySelector('#df-5843cc29-f070-44e1-a0f1-51d43bf2c8f8');\n",
              "          const dataTable =\n",
              "            await google.colab.kernel.invokeFunction('convertToInteractive',\n",
              "                                                     [key], {});\n",
              "          if (!dataTable) return;\n",
              "\n",
              "          const docLinkHtml = 'Like what you see? Visit the ' +\n",
              "            '<a target=\"_blank\" href=https://colab.research.google.com/notebooks/data_table.ipynb>data table notebook</a>'\n",
              "            + ' to learn more about interactive tables.';\n",
              "          element.innerHTML = '';\n",
              "          dataTable['output_type'] = 'display_data';\n",
              "          await google.colab.output.renderOutput(dataTable, element);\n",
              "          const docLink = document.createElement('div');\n",
              "          docLink.innerHTML = docLinkHtml;\n",
              "          element.appendChild(docLink);\n",
              "        }\n",
              "      </script>\n",
              "    </div>\n",
              "  </div>\n",
              "  "
            ]
          },
          "metadata": {},
          "execution_count": 4
        }
      ],
      "source": [
        "# Load data\n",
        "df = pd.read_csv('NTR.csv')\n",
        "df"
      ]
    },
    {
      "cell_type": "markdown",
      "source": [
        "### Reset index"
      ],
      "metadata": {
        "id": "muKE0gL7cQs2"
      },
      "id": "muKE0gL7cQs2"
    },
    {
      "cell_type": "code",
      "source": [
        "# Convert the 'Date' column to datetime format\n",
        "df['Date'] = pd.to_datetime(df['Date'])\n",
        "\n",
        "# Set the 'Date' column as the index value\n",
        "df.set_index('Date', inplace=True)"
      ],
      "metadata": {
        "id": "vG4wgXOK2soU"
      },
      "id": "vG4wgXOK2soU",
      "execution_count": 5,
      "outputs": []
    },
    {
      "cell_type": "code",
      "source": [
        "# Select column 'Close'\n",
        "df_Close = df[['Close']]\n",
        "df_Close = df_Close.reset_index(drop=True)"
      ],
      "metadata": {
        "id": "DBeiREWjJ00j"
      },
      "id": "DBeiREWjJ00j",
      "execution_count": 6,
      "outputs": []
    },
    {
      "cell_type": "markdown",
      "source": [
        "### Data normalization"
      ],
      "metadata": {
        "id": "m9vvIvolcch8"
      },
      "id": "m9vvIvolcch8"
    },
    {
      "cell_type": "code",
      "execution_count": 7,
      "id": "b0cde421",
      "metadata": {
        "id": "b0cde421"
      },
      "outputs": [],
      "source": [
        "# Min-max normalization\n",
        "scaler = MinMaxScaler(feature_range=(0, 1))\n",
        "data_scaled = scaler.fit_transform(np.array(df_Close))"
      ]
    },
    {
      "cell_type": "markdown",
      "source": [
        "### Data splitting"
      ],
      "metadata": {
        "id": "WEnB5G3fcqPg"
      },
      "id": "WEnB5G3fcqPg"
    },
    {
      "cell_type": "code",
      "execution_count": 8,
      "id": "f29f31b1",
      "metadata": {
        "id": "f29f31b1"
      },
      "outputs": [],
      "source": [
        "# Split the data into train, validation, and test dataset in a ratio of 6:2:2\n",
        "train_size = int(len(data_scaled) * 0.6)\n",
        "val_size = int(len(data_scaled) * 0.2)\n",
        "test_size = len(data_scaled) - train_size - val_size\n",
        "\n",
        "train_data = data_scaled[: train_size]\n",
        "val_data = data_scaled[train_size : train_size + val_size]\n",
        "test_data = data_scaled[train_size + val_size :]"
      ]
    },
    {
      "cell_type": "markdown",
      "source": [
        "## Model training and testing"
      ],
      "metadata": {
        "id": "-IFkvqKRgmQX"
      },
      "id": "-IFkvqKRgmQX"
    },
    {
      "cell_type": "code",
      "execution_count": 9,
      "id": "224ff73f",
      "metadata": {
        "id": "224ff73f"
      },
      "outputs": [],
      "source": [
        "# Generating data using the window sliding method\n",
        "def create_dataset(data, window_size):\n",
        "    windows, targets = [], []\n",
        "    for i in range(len(data) - window_size - 1):\n",
        "        windows.append(data[i : (i + window_size), 0])\n",
        "        targets.append(data[i + window_size, 0])\n",
        "    return np.array(windows), np.array(targets)"
      ]
    },
    {
      "cell_type": "markdown",
      "source": [
        "### Building TCANs model"
      ],
      "metadata": {
        "id": "hRDWcZQ0jcRX"
      },
      "id": "hRDWcZQ0jcRX"
    },
    {
      "cell_type": "code",
      "execution_count": 10,
      "id": "HxKvihCf3-C1",
      "metadata": {
        "id": "HxKvihCf3-C1"
      },
      "outputs": [],
      "source": [
        "# Constructing sparse attention layer\n",
        "class AttentionLayer(Layer):\n",
        "    def __init__(self, attention_dim):\n",
        "        super(AttentionLayer, self).__init__()\n",
        "        self.attention_dim = attention_dim\n",
        "\n",
        "    def build(self, input_shape):\n",
        "        self.W1 = Dense(units=self.attention_dim, activation='tanh')\n",
        "        self.W2 = Dense(units=1, activation='linear')\n",
        "        super(AttentionLayer, self).build(input_shape)\n",
        "\n",
        "    def call(self, x):\n",
        "        score = self.W2(self.W1(x))\n",
        "        score = Flatten()(score)\n",
        "        score = Activation('softmax')(score)\n",
        "        score = RepeatVector(x.shape[-1])(score)\n",
        "        score = Permute([2, 1])(score)\n",
        "        return Multiply()([x, score])\n",
        "\n",
        "    def compute_output_shape(self, input_shape):\n",
        "        return input_shape"
      ]
    },
    {
      "cell_type": "code",
      "execution_count": 11,
      "id": "d01b50ee",
      "metadata": {
        "id": "d01b50ee"
      },
      "outputs": [],
      "source": [
        "# Build TCAN model\n",
        "def build_tcan(window_size, input_dim=1, tcn_filters=64, tcn_kernel_size=2, dropout_rate=0.2, attention_dim=16):\n",
        "    inputs = Input(shape=(window_size, input_dim))\n",
        "    x = inputs\n",
        "    x = Conv1D(filters=tcn_filters, kernel_size=tcn_kernel_size, padding='same', activation='relu')(x)\n",
        "    x = SpatialDropout1D(rate=dropout_rate)(x)\n",
        "    x = Conv1D(filters=tcn_filters, kernel_size=tcn_kernel_size, padding='same', activation='relu')(x)\n",
        "    x = SpatialDropout1D(rate=dropout_rate)(x)\n",
        "\n",
        "    # Additive Attention\n",
        "    att = AttentionLayer(attention_dim)(x)\n",
        "    max_pool_att = GlobalMaxPooling1D()(att)\n",
        "    max_pool_x = GlobalMaxPooling1D()(x)\n",
        "    x = concatenate([max_pool_att, max_pool_x])\n",
        "\n",
        "    outputs = Dense(1)(x)\n",
        "\n",
        "    model = Model(inputs=inputs, outputs=outputs)\n",
        "    optimizer = Adam(learning_rate=0.001)\n",
        "    model.compile(loss='mean_absolute_error', optimizer=optimizer)\n",
        "\n",
        "    return model"
      ]
    },
    {
      "cell_type": "markdown",
      "source": [
        "### Learning process with combined parameter optimization"
      ],
      "metadata": {
        "id": "kfSIcYf1jyjU"
      },
      "id": "kfSIcYf1jyjU"
    },
    {
      "cell_type": "code",
      "execution_count": 12,
      "id": "690ac169",
      "metadata": {
        "id": "690ac169"
      },
      "outputs": [],
      "source": [
        "# Initialization of optimization parameters\n",
        "best_mse = float('inf')\n",
        "best_model = None\n",
        "best_window_size = None\n",
        "best_train_windows = None\n",
        "best_train_targets = None\n",
        "best_test_windows = None\n",
        "best_test_targets = None\n",
        "best_val_windows = None\n",
        "best_val_targets = None\n",
        "best_y_pred = None\n",
        "best_mape = np.inf\n",
        "best_rmse = np.inf\n",
        "best_msle = np.inf"
      ]
    },
    {
      "cell_type": "code",
      "source": [
        "# Define the objective function for Optuna optimization\n",
        "def objective(trial):\n",
        "  global best_mse, best_model, best_window_size, best_train_windows\n",
        "  global best_train_targets, best_test_windows, best_test_targets, best_val_windows\n",
        "  global best_val_targets, best_y_pred, best_mape, best_rmse, best_msle\n",
        "\n",
        "  # Define the search space for hyperparameters\n",
        "  window_size = trial.suggest_int(\"window_size\", 10, 100)\n",
        "  tcn_filters = trial.suggest_int(\"tcn_filters\", 32, 128)\n",
        "  tcn_kernel_size = trial.suggest_int(\"tcn_kernel_size\", 2, 5)\n",
        "  dropout_rate = trial.suggest_float(\"dropout_rate\", 0.1, 0.5)\n",
        "  attention_dim = trial.suggest_int(\"attention_dim\", 8, 32)\n",
        "\n",
        "  # Build the TCAN model with the suggested hyperparameters\n",
        "  model = build_tcan(window_size,\n",
        "                     tcn_filters = tcn_filters,\n",
        "                     tcn_kernel_size = tcn_kernel_size,\n",
        "                     dropout_rate = dropout_rate,\n",
        "                     attention_dim = attention_dim)\n",
        "\n",
        "  train_windows, train_targets = create_dataset(train_data, window_size)\n",
        "  test_windows, test_targets = create_dataset(test_data, window_size)\n",
        "  val_windows, val_targets = create_dataset(val_data, window_size)\n",
        "\n",
        "  # Train the model\n",
        "  early_stop = EarlyStopping(monitor='val_loss', patience=5)\n",
        "  model.fit(train_windows, train_targets,\n",
        "            epochs=50, batch_size=32,\n",
        "            validation_data=(val_windows, val_targets),\n",
        "            shuffle=False, callbacks=[early_stop], verbose=0)\n",
        "\n",
        "  # Testing the model on Test dataset\n",
        "  y_pred = model.predict(test_windows)\n",
        "\n",
        "  # Evaluate on MAPE, RMSE, MSLE\n",
        "  temp_test_targets = test_targets\n",
        "  temp_test_targets = scaler.inverse_transform(temp_test_targets.reshape(-1, 1))\n",
        "  y_pred = scaler.inverse_transform(y_pred)\n",
        "\n",
        "  mse = mean_squared_error(temp_test_targets, y_pred)\n",
        "  rmse = np.sqrt(mse)\n",
        "  mape = mean_absolute_percentage_error(temp_test_targets, y_pred)\n",
        "  msle = mean_squared_log_error(temp_test_targets, y_pred)\n",
        "\n",
        "  # Save the best model and related information\n",
        "  if mse < best_mse or best_mse is None:\n",
        "    best_model = model\n",
        "    best_window_size = window_size\n",
        "    best_y_pred = y_pred\n",
        "    best_train_windows = train_windows\n",
        "    best_train_targets = train_targets\n",
        "    best_test_windows = test_windows\n",
        "    best_test_targets = test_targets\n",
        "    best_val_windows = val_windows\n",
        "    best_val_targets = val_targets\n",
        "    best_rmse = rmse\n",
        "    best_mape = mape\n",
        "    best_msle = msle\n",
        "    best_mse = mse\n",
        "\n",
        "  return mse"
      ],
      "metadata": {
        "id": "m3MDjWCd-kl8"
      },
      "id": "m3MDjWCd-kl8",
      "execution_count": 13,
      "outputs": []
    },
    {
      "cell_type": "code",
      "source": [
        "# Define the search space for the hyperparameters\n",
        "study = optuna.create_study(direction=\"minimize\")\n",
        "study.optimize(objective, n_trials=100)"
      ],
      "metadata": {
        "colab": {
          "base_uri": "https://localhost:8080/"
        },
        "id": "tAQaYsmr-mkW",
        "outputId": "d0c45e6b-d8f2-4bd0-fc0d-ac2f2d239767"
      },
      "id": "tAQaYsmr-mkW",
      "execution_count": 14,
      "outputs": [
        {
          "output_type": "stream",
          "name": "stderr",
          "text": [
            "[I 2023-06-14 07:32:45,592] A new study created in memory with name: no-name-ab4ab243-1134-400a-ac35-846e1e8052d5\n"
          ]
        },
        {
          "output_type": "stream",
          "name": "stdout",
          "text": [
            "7/7 [==============================] - 0s 5ms/step\n"
          ]
        },
        {
          "output_type": "stream",
          "name": "stderr",
          "text": [
            "[I 2023-06-14 07:33:13,029] Trial 0 finished with value: 15.828001743040309 and parameters: {'window_size': 28, 'tcn_filters': 122, 'tcn_kernel_size': 4, 'dropout_rate': 0.1566513795331752, 'attention_dim': 31}. Best is trial 0 with value: 15.828001743040309.\n"
          ]
        },
        {
          "output_type": "stream",
          "name": "stdout",
          "text": [
            "5/5 [==============================] - 0s 6ms/step\n"
          ]
        },
        {
          "output_type": "stream",
          "name": "stderr",
          "text": [
            "[I 2023-06-14 07:33:35,374] Trial 1 finished with value: 4.71609355874296 and parameters: {'window_size': 90, 'tcn_filters': 66, 'tcn_kernel_size': 3, 'dropout_rate': 0.1669681792582848, 'attention_dim': 15}. Best is trial 1 with value: 4.71609355874296.\n"
          ]
        },
        {
          "output_type": "stream",
          "name": "stdout",
          "text": [
            "5/5 [==============================] - 0s 5ms/step\n"
          ]
        },
        {
          "output_type": "stream",
          "name": "stderr",
          "text": [
            "[I 2023-06-14 07:33:43,792] Trial 2 finished with value: 6.595896388248179 and parameters: {'window_size': 71, 'tcn_filters': 37, 'tcn_kernel_size': 5, 'dropout_rate': 0.18635577875407217, 'attention_dim': 13}. Best is trial 1 with value: 4.71609355874296.\n"
          ]
        },
        {
          "output_type": "stream",
          "name": "stdout",
          "text": [
            "6/6 [==============================] - 0s 6ms/step\n"
          ]
        },
        {
          "output_type": "stream",
          "name": "stderr",
          "text": [
            "[I 2023-06-14 07:34:01,012] Trial 3 finished with value: 4.406950380609072 and parameters: {'window_size': 49, 'tcn_filters': 72, 'tcn_kernel_size': 2, 'dropout_rate': 0.20283777988342908, 'attention_dim': 12}. Best is trial 3 with value: 4.406950380609072.\n"
          ]
        },
        {
          "output_type": "stream",
          "name": "stdout",
          "text": [
            "6/6 [==============================] - 0s 4ms/step\n"
          ]
        },
        {
          "output_type": "stream",
          "name": "stderr",
          "text": [
            "[I 2023-06-14 07:34:10,553] Trial 4 finished with value: 5.524948343810288 and parameters: {'window_size': 33, 'tcn_filters': 55, 'tcn_kernel_size': 2, 'dropout_rate': 0.22902609012857522, 'attention_dim': 16}. Best is trial 3 with value: 4.406950380609072.\n"
          ]
        },
        {
          "output_type": "stream",
          "name": "stdout",
          "text": [
            "6/6 [==============================] - 1s 5ms/step\n"
          ]
        },
        {
          "output_type": "stream",
          "name": "stderr",
          "text": [
            "[I 2023-06-14 07:34:33,382] Trial 5 finished with value: 8.392725849628993 and parameters: {'window_size': 45, 'tcn_filters': 70, 'tcn_kernel_size': 4, 'dropout_rate': 0.22306655915449422, 'attention_dim': 26}. Best is trial 3 with value: 4.406950380609072.\n"
          ]
        },
        {
          "output_type": "stream",
          "name": "stdout",
          "text": [
            "6/6 [==============================] - 0s 4ms/step\n"
          ]
        },
        {
          "output_type": "stream",
          "name": "stderr",
          "text": [
            "[I 2023-06-14 07:34:45,515] Trial 6 finished with value: 4.603842921694632 and parameters: {'window_size': 47, 'tcn_filters': 49, 'tcn_kernel_size': 5, 'dropout_rate': 0.20859388373176635, 'attention_dim': 18}. Best is trial 3 with value: 4.406950380609072.\n"
          ]
        },
        {
          "output_type": "stream",
          "name": "stdout",
          "text": [
            "7/7 [==============================] - 0s 5ms/step\n"
          ]
        },
        {
          "output_type": "stream",
          "name": "stderr",
          "text": [
            "[I 2023-06-14 07:34:54,652] Trial 7 finished with value: 7.457347139691114 and parameters: {'window_size': 24, 'tcn_filters': 96, 'tcn_kernel_size': 5, 'dropout_rate': 0.28388065762723436, 'attention_dim': 10}. Best is trial 3 with value: 4.406950380609072.\n"
          ]
        },
        {
          "output_type": "stream",
          "name": "stdout",
          "text": [
            "6/6 [==============================] - 0s 4ms/step\n"
          ]
        },
        {
          "output_type": "stream",
          "name": "stderr",
          "text": [
            "[I 2023-06-14 07:35:05,062] Trial 8 finished with value: 10.970744236350075 and parameters: {'window_size': 56, 'tcn_filters': 45, 'tcn_kernel_size': 5, 'dropout_rate': 0.4175076534995221, 'attention_dim': 24}. Best is trial 3 with value: 4.406950380609072.\n"
          ]
        },
        {
          "output_type": "stream",
          "name": "stdout",
          "text": [
            "6/6 [==============================] - 0s 6ms/step\n"
          ]
        },
        {
          "output_type": "stream",
          "name": "stderr",
          "text": [
            "[I 2023-06-14 07:35:17,102] Trial 9 finished with value: 5.142325969887892 and parameters: {'window_size': 44, 'tcn_filters': 102, 'tcn_kernel_size': 2, 'dropout_rate': 0.44431375743955326, 'attention_dim': 30}. Best is trial 3 with value: 4.406950380609072.\n"
          ]
        },
        {
          "output_type": "stream",
          "name": "stdout",
          "text": [
            "7/7 [==============================] - 0s 3ms/step\n"
          ]
        },
        {
          "output_type": "stream",
          "name": "stderr",
          "text": [
            "[I 2023-06-14 07:35:22,193] Trial 10 finished with value: 8.947060283336542 and parameters: {'window_size': 11, 'tcn_filters': 88, 'tcn_kernel_size': 3, 'dropout_rate': 0.10936083679608366, 'attention_dim': 8}. Best is trial 3 with value: 4.406950380609072.\n"
          ]
        },
        {
          "output_type": "stream",
          "name": "stdout",
          "text": [
            "5/5 [==============================] - 0s 6ms/step\n"
          ]
        },
        {
          "output_type": "stream",
          "name": "stderr",
          "text": [
            "[I 2023-06-14 07:35:34,729] Trial 11 finished with value: 20.233430603841022 and parameters: {'window_size': 66, 'tcn_filters': 55, 'tcn_kernel_size': 3, 'dropout_rate': 0.30164982743590685, 'attention_dim': 19}. Best is trial 3 with value: 4.406950380609072.\n"
          ]
        },
        {
          "output_type": "stream",
          "name": "stdout",
          "text": [
            "5/5 [==============================] - 0s 7ms/step\n"
          ]
        },
        {
          "output_type": "stream",
          "name": "stderr",
          "text": [
            "[I 2023-06-14 07:35:51,094] Trial 12 finished with value: 4.806499213779686 and parameters: {'window_size': 73, 'tcn_filters': 77, 'tcn_kernel_size': 4, 'dropout_rate': 0.10448142143693252, 'attention_dim': 21}. Best is trial 3 with value: 4.406950380609072.\n"
          ]
        },
        {
          "output_type": "stream",
          "name": "stdout",
          "text": [
            "6/6 [==============================] - 0s 3ms/step\n"
          ]
        },
        {
          "output_type": "stream",
          "name": "stderr",
          "text": [
            "[I 2023-06-14 07:36:04,700] Trial 13 finished with value: 9.58869372664308 and parameters: {'window_size': 52, 'tcn_filters': 32, 'tcn_kernel_size': 2, 'dropout_rate': 0.2844581132187352, 'attention_dim': 12}. Best is trial 3 with value: 4.406950380609072.\n"
          ]
        },
        {
          "output_type": "stream",
          "name": "stdout",
          "text": [
            "6/6 [==============================] - 0s 5ms/step\n"
          ]
        },
        {
          "output_type": "stream",
          "name": "stderr",
          "text": [
            "[I 2023-06-14 07:36:27,212] Trial 14 finished with value: 6.955886310382549 and parameters: {'window_size': 59, 'tcn_filters': 58, 'tcn_kernel_size': 3, 'dropout_rate': 0.2385703381463817, 'attention_dim': 18}. Best is trial 3 with value: 4.406950380609072.\n"
          ]
        },
        {
          "output_type": "stream",
          "name": "stdout",
          "text": [
            "5/5 [==============================] - 0s 7ms/step\n"
          ]
        },
        {
          "output_type": "stream",
          "name": "stderr",
          "text": [
            "[I 2023-06-14 07:36:41,597] Trial 15 finished with value: 19.989920474612564 and parameters: {'window_size': 89, 'tcn_filters': 82, 'tcn_kernel_size': 4, 'dropout_rate': 0.38028792617697804, 'attention_dim': 14}. Best is trial 3 with value: 4.406950380609072.\n"
          ]
        },
        {
          "output_type": "stream",
          "name": "stdout",
          "text": [
            "6/6 [==============================] - 0s 5ms/step\n"
          ]
        },
        {
          "output_type": "stream",
          "name": "stderr",
          "text": [
            "[I 2023-06-14 07:36:52,338] Trial 16 finished with value: 7.556114087772147 and parameters: {'window_size': 39, 'tcn_filters': 110, 'tcn_kernel_size': 2, 'dropout_rate': 0.48957670968243117, 'attention_dim': 23}. Best is trial 3 with value: 4.406950380609072.\n"
          ]
        },
        {
          "output_type": "stream",
          "name": "stdout",
          "text": [
            "5/5 [==============================] - 0s 8ms/step\n"
          ]
        },
        {
          "output_type": "stream",
          "name": "stderr",
          "text": [
            "[I 2023-06-14 07:37:01,702] Trial 17 finished with value: 3.175098201523321 and parameters: {'window_size': 79, 'tcn_filters': 67, 'tcn_kernel_size': 5, 'dropout_rate': 0.34507256790491186, 'attention_dim': 17}. Best is trial 17 with value: 3.175098201523321.\n"
          ]
        },
        {
          "output_type": "stream",
          "name": "stdout",
          "text": [
            "5/5 [==============================] - 0s 6ms/step\n"
          ]
        },
        {
          "output_type": "stream",
          "name": "stderr",
          "text": [
            "[I 2023-06-14 07:37:14,344] Trial 18 finished with value: 3.2270546231095625 and parameters: {'window_size': 78, 'tcn_filters': 70, 'tcn_kernel_size': 3, 'dropout_rate': 0.32080929722275897, 'attention_dim': 10}. Best is trial 17 with value: 3.175098201523321.\n"
          ]
        },
        {
          "output_type": "stream",
          "name": "stdout",
          "text": [
            "5/5 [==============================] - 0s 8ms/step\n"
          ]
        },
        {
          "output_type": "stream",
          "name": "stderr",
          "text": [
            "[I 2023-06-14 07:37:27,316] Trial 19 finished with value: 9.62012840476599 and parameters: {'window_size': 82, 'tcn_filters': 90, 'tcn_kernel_size': 4, 'dropout_rate': 0.3394071814882494, 'attention_dim': 8}. Best is trial 17 with value: 3.175098201523321.\n"
          ]
        },
        {
          "output_type": "stream",
          "name": "stdout",
          "text": [
            "4/4 [==============================] - 0s 7ms/step\n"
          ]
        },
        {
          "output_type": "stream",
          "name": "stderr",
          "text": [
            "[I 2023-06-14 07:37:38,934] Trial 20 finished with value: 6.777692802290509 and parameters: {'window_size': 98, 'tcn_filters': 65, 'tcn_kernel_size': 3, 'dropout_rate': 0.3448429344535919, 'attention_dim': 27}. Best is trial 17 with value: 3.175098201523321.\n"
          ]
        },
        {
          "output_type": "stream",
          "name": "stdout",
          "text": [
            "5/5 [==============================] - 0s 5ms/step\n"
          ]
        },
        {
          "output_type": "stream",
          "name": "stderr",
          "text": [
            "[I 2023-06-14 07:37:53,655] Trial 21 finished with value: 2.7396403956643933 and parameters: {'window_size': 77, 'tcn_filters': 76, 'tcn_kernel_size': 2, 'dropout_rate': 0.2673165719659687, 'attention_dim': 11}. Best is trial 21 with value: 2.7396403956643933.\n"
          ]
        },
        {
          "output_type": "stream",
          "name": "stdout",
          "text": [
            "5/5 [==============================] - 0s 8ms/step\n"
          ]
        },
        {
          "output_type": "stream",
          "name": "stderr",
          "text": [
            "[I 2023-06-14 07:38:16,178] Trial 22 finished with value: 3.8639438198849256 and parameters: {'window_size': 82, 'tcn_filters': 80, 'tcn_kernel_size': 3, 'dropout_rate': 0.3209502663748211, 'attention_dim': 10}. Best is trial 21 with value: 2.7396403956643933.\n"
          ]
        },
        {
          "output_type": "stream",
          "name": "stdout",
          "text": [
            "5/5 [==============================] - 0s 9ms/step\n"
          ]
        },
        {
          "output_type": "stream",
          "name": "stderr",
          "text": [
            "[I 2023-06-14 07:38:28,883] Trial 23 finished with value: 8.332452919896136 and parameters: {'window_size': 81, 'tcn_filters': 63, 'tcn_kernel_size': 2, 'dropout_rate': 0.2721225751854002, 'attention_dim': 16}. Best is trial 21 with value: 2.7396403956643933.\n"
          ]
        },
        {
          "output_type": "stream",
          "name": "stdout",
          "text": [
            "5/5 [==============================] - 0s 5ms/step\n"
          ]
        },
        {
          "output_type": "stream",
          "name": "stderr",
          "text": [
            "[I 2023-06-14 07:38:38,328] Trial 24 finished with value: 7.00538273070898 and parameters: {'window_size': 65, 'tcn_filters': 72, 'tcn_kernel_size': 3, 'dropout_rate': 0.3649905545060634, 'attention_dim': 10}. Best is trial 21 with value: 2.7396403956643933.\n"
          ]
        },
        {
          "output_type": "stream",
          "name": "stdout",
          "text": [
            "4/4 [==============================] - 0s 9ms/step\n"
          ]
        },
        {
          "output_type": "stream",
          "name": "stderr",
          "text": [
            "[I 2023-06-14 07:39:05,004] Trial 25 finished with value: 26.41770205054663 and parameters: {'window_size': 98, 'tcn_filters': 88, 'tcn_kernel_size': 4, 'dropout_rate': 0.2607407234649418, 'attention_dim': 12}. Best is trial 21 with value: 2.7396403956643933.\n"
          ]
        },
        {
          "output_type": "stream",
          "name": "stdout",
          "text": [
            "5/5 [==============================] - 0s 7ms/step\n"
          ]
        },
        {
          "output_type": "stream",
          "name": "stderr",
          "text": [
            "[I 2023-06-14 07:39:27,381] Trial 26 finished with value: 5.890319942268404 and parameters: {'window_size': 75, 'tcn_filters': 78, 'tcn_kernel_size': 2, 'dropout_rate': 0.3083840454439282, 'attention_dim': 21}. Best is trial 21 with value: 2.7396403956643933.\n"
          ]
        },
        {
          "output_type": "stream",
          "name": "stdout",
          "text": [
            "5/5 [==============================] - 1s 11ms/step\n"
          ]
        },
        {
          "output_type": "stream",
          "name": "stderr",
          "text": [
            "[I 2023-06-14 07:39:40,704] Trial 27 finished with value: 9.391789648294006 and parameters: {'window_size': 91, 'tcn_filters': 48, 'tcn_kernel_size': 5, 'dropout_rate': 0.32635923010628937, 'attention_dim': 17}. Best is trial 21 with value: 2.7396403956643933.\n"
          ]
        },
        {
          "output_type": "stream",
          "name": "stdout",
          "text": [
            "5/5 [==============================] - 0s 9ms/step\n"
          ]
        },
        {
          "output_type": "stream",
          "name": "stderr",
          "text": [
            "[I 2023-06-14 07:39:54,994] Trial 28 finished with value: 4.5585042923388075 and parameters: {'window_size': 65, 'tcn_filters': 100, 'tcn_kernel_size': 3, 'dropout_rate': 0.25467575481957044, 'attention_dim': 14}. Best is trial 21 with value: 2.7396403956643933.\n"
          ]
        },
        {
          "output_type": "stream",
          "name": "stdout",
          "text": [
            "5/5 [==============================] - 0s 16ms/step\n"
          ]
        },
        {
          "output_type": "stream",
          "name": "stderr",
          "text": [
            "[I 2023-06-14 07:40:28,456] Trial 29 finished with value: 3.7260815607038773 and parameters: {'window_size': 79, 'tcn_filters': 119, 'tcn_kernel_size': 4, 'dropout_rate': 0.3015155618052551, 'attention_dim': 10}. Best is trial 21 with value: 2.7396403956643933.\n"
          ]
        },
        {
          "output_type": "stream",
          "name": "stdout",
          "text": [
            "6/6 [==============================] - 0s 7ms/step\n"
          ]
        },
        {
          "output_type": "stream",
          "name": "stderr",
          "text": [
            "[I 2023-06-14 07:40:41,651] Trial 30 finished with value: 8.358779969226688 and parameters: {'window_size': 60, 'tcn_filters': 84, 'tcn_kernel_size': 2, 'dropout_rate': 0.3684593663455308, 'attention_dim': 8}. Best is trial 21 with value: 2.7396403956643933.\n"
          ]
        },
        {
          "output_type": "stream",
          "name": "stdout",
          "text": [
            "5/5 [==============================] - 0s 11ms/step\n"
          ]
        },
        {
          "output_type": "stream",
          "name": "stderr",
          "text": [
            "[I 2023-06-14 07:41:00,172] Trial 31 finished with value: 10.375192537452257 and parameters: {'window_size': 80, 'tcn_filters': 127, 'tcn_kernel_size': 4, 'dropout_rate': 0.2946156851820498, 'attention_dim': 10}. Best is trial 21 with value: 2.7396403956643933.\n"
          ]
        },
        {
          "output_type": "stream",
          "name": "stdout",
          "text": [
            "5/5 [==============================] - 0s 13ms/step\n"
          ]
        },
        {
          "output_type": "stream",
          "name": "stderr",
          "text": [
            "[I 2023-06-14 07:41:22,727] Trial 32 finished with value: 49.30033902819858 and parameters: {'window_size': 88, 'tcn_filters': 121, 'tcn_kernel_size': 5, 'dropout_rate': 0.31734501150921385, 'attention_dim': 11}. Best is trial 21 with value: 2.7396403956643933.\n"
          ]
        },
        {
          "output_type": "stream",
          "name": "stdout",
          "text": [
            "5/5 [==============================] - 0s 14ms/step\n"
          ]
        },
        {
          "output_type": "stream",
          "name": "stderr",
          "text": [
            "[I 2023-06-14 07:42:05,935] Trial 33 finished with value: 4.821281404819354 and parameters: {'window_size': 71, 'tcn_filters': 113, 'tcn_kernel_size': 4, 'dropout_rate': 0.25686104782382024, 'attention_dim': 14}. Best is trial 21 with value: 2.7396403956643933.\n"
          ]
        },
        {
          "output_type": "stream",
          "name": "stdout",
          "text": [
            "5/5 [==============================] - 0s 7ms/step\n"
          ]
        },
        {
          "output_type": "stream",
          "name": "stderr",
          "text": [
            "[I 2023-06-14 07:42:18,853] Trial 34 finished with value: 5.164916429645214 and parameters: {'window_size': 92, 'tcn_filters': 60, 'tcn_kernel_size': 5, 'dropout_rate': 0.2886562686146603, 'attention_dim': 13}. Best is trial 21 with value: 2.7396403956643933.\n"
          ]
        },
        {
          "output_type": "stream",
          "name": "stdout",
          "text": [
            "5/5 [==============================] - 0s 7ms/step\n"
          ]
        },
        {
          "output_type": "stream",
          "name": "stderr",
          "text": [
            "[I 2023-06-14 07:42:29,941] Trial 35 finished with value: 3.0904701172372326 and parameters: {'window_size': 77, 'tcn_filters': 74, 'tcn_kernel_size': 4, 'dropout_rate': 0.3482889598037455, 'attention_dim': 9}. Best is trial 21 with value: 2.7396403956643933.\n"
          ]
        },
        {
          "output_type": "stream",
          "name": "stdout",
          "text": [
            "5/5 [==============================] - 0s 7ms/step\n"
          ]
        },
        {
          "output_type": "stream",
          "name": "stderr",
          "text": [
            "[I 2023-06-14 07:42:52,315] Trial 36 finished with value: 4.857519166771246 and parameters: {'window_size': 85, 'tcn_filters': 70, 'tcn_kernel_size': 3, 'dropout_rate': 0.3506682648422895, 'attention_dim': 15}. Best is trial 21 with value: 2.7396403956643933.\n"
          ]
        },
        {
          "output_type": "stream",
          "name": "stdout",
          "text": [
            "5/5 [==============================] - 0s 11ms/step\n"
          ]
        },
        {
          "output_type": "stream",
          "name": "stderr",
          "text": [
            "[I 2023-06-14 07:43:05,978] Trial 37 finished with value: 5.278596048206872 and parameters: {'window_size': 76, 'tcn_filters': 75, 'tcn_kernel_size': 5, 'dropout_rate': 0.38742123987705185, 'attention_dim': 9}. Best is trial 21 with value: 2.7396403956643933.\n"
          ]
        },
        {
          "output_type": "stream",
          "name": "stdout",
          "text": [
            "5/5 [==============================] - 0s 11ms/step\n"
          ]
        },
        {
          "output_type": "stream",
          "name": "stderr",
          "text": [
            "[I 2023-06-14 07:43:19,009] Trial 38 finished with value: 6.952453129459063 and parameters: {'window_size': 70, 'tcn_filters': 68, 'tcn_kernel_size': 4, 'dropout_rate': 0.3352284530098164, 'attention_dim': 12}. Best is trial 21 with value: 2.7396403956643933.\n"
          ]
        },
        {
          "output_type": "stream",
          "name": "stdout",
          "text": [
            "5/5 [==============================] - 0s 6ms/step\n"
          ]
        },
        {
          "output_type": "stream",
          "name": "stderr",
          "text": [
            "[I 2023-06-14 07:43:26,311] Trial 39 finished with value: 20.20997947382626 and parameters: {'window_size': 94, 'tcn_filters': 41, 'tcn_kernel_size': 5, 'dropout_rate': 0.40075225946246723, 'attention_dim': 32}. Best is trial 21 with value: 2.7396403956643933.\n"
          ]
        },
        {
          "output_type": "stream",
          "name": "stdout",
          "text": [
            "5/5 [==============================] - 0s 5ms/step\n"
          ]
        },
        {
          "output_type": "stream",
          "name": "stderr",
          "text": [
            "[I 2023-06-14 07:43:36,442] Trial 40 finished with value: 7.677992922945017 and parameters: {'window_size': 86, 'tcn_filters': 63, 'tcn_kernel_size': 3, 'dropout_rate': 0.3560767160491566, 'attention_dim': 11}. Best is trial 21 with value: 2.7396403956643933.\n"
          ]
        },
        {
          "output_type": "stream",
          "name": "stdout",
          "text": [
            "5/5 [==============================] - 0s 15ms/step\n"
          ]
        },
        {
          "output_type": "stream",
          "name": "stderr",
          "text": [
            "[I 2023-06-14 07:43:58,961] Trial 41 finished with value: 3.3376935864325867 and parameters: {'window_size': 78, 'tcn_filters': 93, 'tcn_kernel_size': 4, 'dropout_rate': 0.30599525003355943, 'attention_dim': 9}. Best is trial 21 with value: 2.7396403956643933.\n"
          ]
        },
        {
          "output_type": "stream",
          "name": "stdout",
          "text": [
            "5/5 [==============================] - 0s 8ms/step\n"
          ]
        },
        {
          "output_type": "stream",
          "name": "stderr",
          "text": [
            "[I 2023-06-14 07:44:22,154] Trial 42 finished with value: 4.976127484430392 and parameters: {'window_size': 70, 'tcn_filters': 94, 'tcn_kernel_size': 4, 'dropout_rate': 0.32016881683714343, 'attention_dim': 9}. Best is trial 21 with value: 2.7396403956643933.\n"
          ]
        },
        {
          "output_type": "stream",
          "name": "stdout",
          "text": [
            "5/5 [==============================] - 0s 7ms/step\n"
          ]
        },
        {
          "output_type": "stream",
          "name": "stderr",
          "text": [
            "[I 2023-06-14 07:44:34,264] Trial 43 finished with value: 7.0354157411687765 and parameters: {'window_size': 76, 'tcn_filters': 74, 'tcn_kernel_size': 4, 'dropout_rate': 0.33900392471178664, 'attention_dim': 8}. Best is trial 21 with value: 2.7396403956643933.\n"
          ]
        },
        {
          "output_type": "stream",
          "name": "stdout",
          "text": [
            "5/5 [==============================] - 0s 12ms/step\n"
          ]
        },
        {
          "output_type": "stream",
          "name": "stderr",
          "text": [
            "[I 2023-06-14 07:44:56,874] Trial 44 finished with value: 5.1221850010370495 and parameters: {'window_size': 67, 'tcn_filters': 84, 'tcn_kernel_size': 4, 'dropout_rate': 0.28178090007896567, 'attention_dim': 13}. Best is trial 21 with value: 2.7396403956643933.\n"
          ]
        },
        {
          "output_type": "stream",
          "name": "stdout",
          "text": [
            "5/5 [==============================] - 0s 6ms/step\n"
          ]
        },
        {
          "output_type": "stream",
          "name": "stderr",
          "text": [
            "[I 2023-06-14 07:45:06,122] Trial 45 finished with value: 7.606241168499031 and parameters: {'window_size': 85, 'tcn_filters': 56, 'tcn_kernel_size': 5, 'dropout_rate': 0.3073599488049067, 'attention_dim': 11}. Best is trial 21 with value: 2.7396403956643933.\n"
          ]
        },
        {
          "output_type": "stream",
          "name": "stdout",
          "text": [
            "6/6 [==============================] - 0s 6ms/step\n"
          ]
        },
        {
          "output_type": "stream",
          "name": "stderr",
          "text": [
            "[I 2023-06-14 07:45:29,427] Trial 46 finished with value: 4.556266376784876 and parameters: {'window_size': 59, 'tcn_filters': 93, 'tcn_kernel_size': 3, 'dropout_rate': 0.23625722028443663, 'attention_dim': 9}. Best is trial 21 with value: 2.7396403956643933.\n"
          ]
        },
        {
          "output_type": "stream",
          "name": "stdout",
          "text": [
            "5/5 [==============================] - 0s 7ms/step\n"
          ]
        },
        {
          "output_type": "stream",
          "name": "stderr",
          "text": [
            "[I 2023-06-14 07:45:50,774] Trial 47 finished with value: 2.822460988471662 and parameters: {'window_size': 77, 'tcn_filters': 101, 'tcn_kernel_size': 2, 'dropout_rate': 0.20796576140024545, 'attention_dim': 16}. Best is trial 21 with value: 2.7396403956643933.\n"
          ]
        },
        {
          "output_type": "stream",
          "name": "stdout",
          "text": [
            "6/6 [==============================] - 0s 6ms/step\n"
          ]
        },
        {
          "output_type": "stream",
          "name": "stderr",
          "text": [
            "[I 2023-06-14 07:46:05,374] Trial 48 finished with value: 7.41482634147836 and parameters: {'window_size': 63, 'tcn_filters': 107, 'tcn_kernel_size': 2, 'dropout_rate': 0.1897842406049126, 'attention_dim': 20}. Best is trial 21 with value: 2.7396403956643933.\n"
          ]
        },
        {
          "output_type": "stream",
          "name": "stdout",
          "text": [
            "7/7 [==============================] - 0s 4ms/step\n"
          ]
        },
        {
          "output_type": "stream",
          "name": "stderr",
          "text": [
            "[I 2023-06-14 07:46:12,646] Trial 49 finished with value: 6.327418455950674 and parameters: {'window_size': 24, 'tcn_filters': 67, 'tcn_kernel_size': 2, 'dropout_rate': 0.21746642046980547, 'attention_dim': 16}. Best is trial 21 with value: 2.7396403956643933.\n"
          ]
        },
        {
          "output_type": "stream",
          "name": "stdout",
          "text": [
            "6/6 [==============================] - 0s 4ms/step\n"
          ]
        },
        {
          "output_type": "stream",
          "name": "stderr",
          "text": [
            "[I 2023-06-14 07:46:19,916] Trial 50 finished with value: 10.054881414873298 and parameters: {'window_size': 54, 'tcn_filters': 52, 'tcn_kernel_size': 2, 'dropout_rate': 0.16105604519823574, 'attention_dim': 18}. Best is trial 21 with value: 2.7396403956643933.\n"
          ]
        },
        {
          "output_type": "stream",
          "name": "stdout",
          "text": [
            "5/5 [==============================] - 0s 10ms/step\n"
          ]
        },
        {
          "output_type": "stream",
          "name": "stderr",
          "text": [
            "[I 2023-06-14 07:46:38,579] Trial 51 finished with value: 2.630808492822421 and parameters: {'window_size': 75, 'tcn_filters': 99, 'tcn_kernel_size': 2, 'dropout_rate': 0.2711125552813028, 'attention_dim': 15}. Best is trial 51 with value: 2.630808492822421.\n"
          ]
        },
        {
          "output_type": "stream",
          "name": "stdout",
          "text": [
            "5/5 [==============================] - 0s 10ms/step\n"
          ]
        },
        {
          "output_type": "stream",
          "name": "stderr",
          "text": [
            "[I 2023-06-14 07:46:51,205] Trial 52 finished with value: 5.419853790346392 and parameters: {'window_size': 71, 'tcn_filters': 86, 'tcn_kernel_size': 2, 'dropout_rate': 0.21305699883733836, 'attention_dim': 17}. Best is trial 51 with value: 2.630808492822421.\n"
          ]
        },
        {
          "output_type": "stream",
          "name": "stdout",
          "text": [
            "5/5 [==============================] - 0s 12ms/step\n"
          ]
        },
        {
          "output_type": "stream",
          "name": "stderr",
          "text": [
            "[I 2023-06-14 07:47:04,123] Trial 53 finished with value: 7.178638791254914 and parameters: {'window_size': 74, 'tcn_filters': 104, 'tcn_kernel_size': 2, 'dropout_rate': 0.24378735590409867, 'attention_dim': 19}. Best is trial 51 with value: 2.630808492822421.\n"
          ]
        },
        {
          "output_type": "stream",
          "name": "stdout",
          "text": [
            "5/5 [==============================] - 0s 8ms/step\n"
          ]
        },
        {
          "output_type": "stream",
          "name": "stderr",
          "text": [
            "[I 2023-06-14 07:47:28,377] Trial 54 finished with value: 3.487272445997852 and parameters: {'window_size': 83, 'tcn_filters': 114, 'tcn_kernel_size': 2, 'dropout_rate': 0.2713800926983003, 'attention_dim': 15}. Best is trial 51 with value: 2.630808492822421.\n"
          ]
        },
        {
          "output_type": "stream",
          "name": "stdout",
          "text": [
            "5/5 [==============================] - 0s 6ms/step\n"
          ]
        },
        {
          "output_type": "stream",
          "name": "stderr",
          "text": [
            "[I 2023-06-14 07:47:44,875] Trial 55 finished with value: 3.4485398295203056 and parameters: {'window_size': 78, 'tcn_filters': 100, 'tcn_kernel_size': 2, 'dropout_rate': 0.20290686083637866, 'attention_dim': 13}. Best is trial 51 with value: 2.630808492822421.\n"
          ]
        },
        {
          "output_type": "stream",
          "name": "stdout",
          "text": [
            "5/5 [==============================] - 0s 7ms/step\n"
          ]
        },
        {
          "output_type": "stream",
          "name": "stderr",
          "text": [
            "[I 2023-06-14 07:48:07,308] Trial 56 finished with value: 4.244600562708703 and parameters: {'window_size': 94, 'tcn_filters': 79, 'tcn_kernel_size': 2, 'dropout_rate': 0.23201762426759193, 'attention_dim': 16}. Best is trial 51 with value: 2.630808492822421.\n"
          ]
        },
        {
          "output_type": "stream",
          "name": "stdout",
          "text": [
            "5/5 [==============================] - 0s 10ms/step\n"
          ]
        },
        {
          "output_type": "stream",
          "name": "stderr",
          "text": [
            "[I 2023-06-14 07:48:29,922] Trial 57 finished with value: 5.276446429245475 and parameters: {'window_size': 68, 'tcn_filters': 72, 'tcn_kernel_size': 3, 'dropout_rate': 0.18417477695659484, 'attention_dim': 17}. Best is trial 51 with value: 2.630808492822421.\n"
          ]
        },
        {
          "output_type": "stream",
          "name": "stdout",
          "text": [
            "5/5 [==============================] - 0s 10ms/step\n"
          ]
        },
        {
          "output_type": "stream",
          "name": "stderr",
          "text": [
            "[I 2023-06-14 07:48:47,739] Trial 58 finished with value: 3.5346882946392815 and parameters: {'window_size': 73, 'tcn_filters': 97, 'tcn_kernel_size': 2, 'dropout_rate': 0.2670152787230252, 'attention_dim': 23}. Best is trial 51 with value: 2.630808492822421.\n"
          ]
        },
        {
          "output_type": "stream",
          "name": "stdout",
          "text": [
            "6/6 [==============================] - 0s 7ms/step\n"
          ]
        },
        {
          "output_type": "stream",
          "name": "stderr",
          "text": [
            "[I 2023-06-14 07:49:10,527] Trial 59 finished with value: 5.706570362907705 and parameters: {'window_size': 63, 'tcn_filters': 81, 'tcn_kernel_size': 2, 'dropout_rate': 0.32874912645986115, 'attention_dim': 14}. Best is trial 51 with value: 2.630808492822421.\n"
          ]
        },
        {
          "output_type": "stream",
          "name": "stdout",
          "text": [
            "5/5 [==============================] - 0s 9ms/step\n"
          ]
        },
        {
          "output_type": "stream",
          "name": "stderr",
          "text": [
            "[I 2023-06-14 07:49:24,899] Trial 60 finished with value: 5.204927001236595 and parameters: {'window_size': 88, 'tcn_filters': 62, 'tcn_kernel_size': 3, 'dropout_rate': 0.24670195268744521, 'attention_dim': 19}. Best is trial 51 with value: 2.630808492822421.\n"
          ]
        },
        {
          "output_type": "stream",
          "name": "stdout",
          "text": [
            "5/5 [==============================] - 0s 8ms/step\n"
          ]
        },
        {
          "output_type": "stream",
          "name": "stderr",
          "text": [
            "[I 2023-06-14 07:49:47,975] Trial 61 finished with value: 2.7634115558278727 and parameters: {'window_size': 78, 'tcn_filters': 105, 'tcn_kernel_size': 4, 'dropout_rate': 0.28362148529087966, 'attention_dim': 11}. Best is trial 51 with value: 2.630808492822421.\n"
          ]
        },
        {
          "output_type": "stream",
          "name": "stdout",
          "text": [
            "5/5 [==============================] - 0s 8ms/step\n"
          ]
        },
        {
          "output_type": "stream",
          "name": "stderr",
          "text": [
            "[I 2023-06-14 07:50:05,524] Trial 62 finished with value: 7.275517344626314 and parameters: {'window_size': 83, 'tcn_filters': 108, 'tcn_kernel_size': 3, 'dropout_rate': 0.28014224903380197, 'attention_dim': 12}. Best is trial 51 with value: 2.630808492822421.\n"
          ]
        },
        {
          "output_type": "stream",
          "name": "stdout",
          "text": [
            "5/5 [==============================] - 0s 10ms/step\n"
          ]
        },
        {
          "output_type": "stream",
          "name": "stderr",
          "text": [
            "[I 2023-06-14 07:50:28,074] Trial 63 finished with value: 5.453626148984486 and parameters: {'window_size': 78, 'tcn_filters': 103, 'tcn_kernel_size': 4, 'dropout_rate': 0.2731109160227187, 'attention_dim': 11}. Best is trial 51 with value: 2.630808492822421.\n"
          ]
        },
        {
          "output_type": "stream",
          "name": "stdout",
          "text": [
            "5/5 [==============================] - 0s 9ms/step\n"
          ]
        },
        {
          "output_type": "stream",
          "name": "stderr",
          "text": [
            "[I 2023-06-14 07:50:50,638] Trial 64 finished with value: 4.926205624778212 and parameters: {'window_size': 81, 'tcn_filters': 76, 'tcn_kernel_size': 2, 'dropout_rate': 0.299697798339175, 'attention_dim': 15}. Best is trial 51 with value: 2.630808492822421.\n"
          ]
        },
        {
          "output_type": "stream",
          "name": "stdout",
          "text": [
            "5/5 [==============================] - 0s 7ms/step\n"
          ]
        },
        {
          "output_type": "stream",
          "name": "stderr",
          "text": [
            "[I 2023-06-14 07:51:03,545] Trial 65 finished with value: 6.318703413385027 and parameters: {'window_size': 75, 'tcn_filters': 69, 'tcn_kernel_size': 2, 'dropout_rate': 0.2935944839119783, 'attention_dim': 29}. Best is trial 51 with value: 2.630808492822421.\n"
          ]
        },
        {
          "output_type": "stream",
          "name": "stdout",
          "text": [
            "5/5 [==============================] - 0s 12ms/step\n"
          ]
        },
        {
          "output_type": "stream",
          "name": "stderr",
          "text": [
            "[I 2023-06-14 07:51:47,174] Trial 66 finished with value: 11.541261360137868 and parameters: {'window_size': 84, 'tcn_filters': 116, 'tcn_kernel_size': 5, 'dropout_rate': 0.2235067701413464, 'attention_dim': 11}. Best is trial 51 with value: 2.630808492822421.\n"
          ]
        },
        {
          "output_type": "stream",
          "name": "stdout",
          "text": [
            "5/5 [==============================] - 0s 8ms/step\n"
          ]
        },
        {
          "output_type": "stream",
          "name": "stderr",
          "text": [
            "[I 2023-06-14 07:52:03,243] Trial 67 finished with value: 4.034247081912878 and parameters: {'window_size': 73, 'tcn_filters': 98, 'tcn_kernel_size': 4, 'dropout_rate': 0.25540030648949175, 'attention_dim': 14}. Best is trial 51 with value: 2.630808492822421.\n"
          ]
        },
        {
          "output_type": "stream",
          "name": "stdout",
          "text": [
            "5/5 [==============================] - 0s 7ms/step\n"
          ]
        },
        {
          "output_type": "stream",
          "name": "stderr",
          "text": [
            "[I 2023-06-14 07:52:17,639] Trial 68 finished with value: 3.0548327135253452 and parameters: {'window_size': 87, 'tcn_filters': 90, 'tcn_kernel_size': 2, 'dropout_rate': 0.3188352183031889, 'attention_dim': 13}. Best is trial 51 with value: 2.630808492822421.\n"
          ]
        },
        {
          "output_type": "stream",
          "name": "stdout",
          "text": [
            "5/5 [==============================] - 0s 7ms/step\n"
          ]
        },
        {
          "output_type": "stream",
          "name": "stderr",
          "text": [
            "[I 2023-06-14 07:52:30,433] Trial 69 finished with value: 6.864670395875846 and parameters: {'window_size': 89, 'tcn_filters': 104, 'tcn_kernel_size': 2, 'dropout_rate': 0.34741763024205813, 'attention_dim': 13}. Best is trial 51 with value: 2.630808492822421.\n"
          ]
        },
        {
          "output_type": "stream",
          "name": "stdout",
          "text": [
            "4/4 [==============================] - 0s 12ms/step\n"
          ]
        },
        {
          "output_type": "stream",
          "name": "stderr",
          "text": [
            "[I 2023-06-14 07:52:43,607] Trial 70 finished with value: 2.6515043498545143 and parameters: {'window_size': 96, 'tcn_filters': 87, 'tcn_kernel_size': 2, 'dropout_rate': 0.284225889234138, 'attention_dim': 15}. Best is trial 51 with value: 2.630808492822421.\n"
          ]
        },
        {
          "output_type": "stream",
          "name": "stdout",
          "text": [
            "4/4 [==============================] - 0s 10ms/step\n"
          ]
        },
        {
          "output_type": "stream",
          "name": "stderr",
          "text": [
            "[I 2023-06-14 07:53:02,744] Trial 71 finished with value: 2.4885737197950295 and parameters: {'window_size': 96, 'tcn_filters': 89, 'tcn_kernel_size': 2, 'dropout_rate': 0.31452507372129535, 'attention_dim': 15}. Best is trial 71 with value: 2.4885737197950295.\n"
          ]
        },
        {
          "output_type": "stream",
          "name": "stdout",
          "text": [
            "4/4 [==============================] - 0s 12ms/step\n"
          ]
        },
        {
          "output_type": "stream",
          "name": "stderr",
          "text": [
            "[I 2023-06-14 07:53:25,330] Trial 72 finished with value: 2.6762978620836213 and parameters: {'window_size': 96, 'tcn_filters': 89, 'tcn_kernel_size': 2, 'dropout_rate': 0.28157354364968196, 'attention_dim': 12}. Best is trial 71 with value: 2.4885737197950295.\n"
          ]
        },
        {
          "output_type": "stream",
          "name": "stdout",
          "text": [
            "4/4 [==============================] - 0s 13ms/step\n"
          ]
        },
        {
          "output_type": "stream",
          "name": "stderr",
          "text": [
            "[I 2023-06-14 07:53:38,994] Trial 73 finished with value: 2.942286329758084 and parameters: {'window_size': 100, 'tcn_filters': 90, 'tcn_kernel_size': 2, 'dropout_rate': 0.2801454194426855, 'attention_dim': 15}. Best is trial 71 with value: 2.4885737197950295.\n"
          ]
        },
        {
          "output_type": "stream",
          "name": "stdout",
          "text": [
            "4/4 [==============================] - 0s 14ms/step\n"
          ]
        },
        {
          "output_type": "stream",
          "name": "stderr",
          "text": [
            "[I 2023-06-14 07:53:52,873] Trial 74 finished with value: 3.8098598847724245 and parameters: {'window_size': 97, 'tcn_filters': 90, 'tcn_kernel_size': 2, 'dropout_rate': 0.28892622176767163, 'attention_dim': 15}. Best is trial 71 with value: 2.4885737197950295.\n"
          ]
        },
        {
          "output_type": "stream",
          "name": "stdout",
          "text": [
            "4/4 [==============================] - 0s 8ms/step\n"
          ]
        },
        {
          "output_type": "stream",
          "name": "stderr",
          "text": [
            "[I 2023-06-14 07:54:04,390] Trial 75 finished with value: 10.155890879855948 and parameters: {'window_size': 99, 'tcn_filters': 87, 'tcn_kernel_size': 2, 'dropout_rate': 0.27562002027127164, 'attention_dim': 16}. Best is trial 71 with value: 2.4885737197950295.\n"
          ]
        },
        {
          "output_type": "stream",
          "name": "stdout",
          "text": [
            "5/5 [==============================] - 0s 6ms/step\n"
          ]
        },
        {
          "output_type": "stream",
          "name": "stderr",
          "text": [
            "[I 2023-06-14 07:54:26,948] Trial 76 finished with value: 8.331813307996132 and parameters: {'window_size': 93, 'tcn_filters': 94, 'tcn_kernel_size': 2, 'dropout_rate': 0.25846730247378025, 'attention_dim': 12}. Best is trial 71 with value: 2.4885737197950295.\n"
          ]
        },
        {
          "output_type": "stream",
          "name": "stdout",
          "text": [
            "4/4 [==============================] - 0s 9ms/step\n"
          ]
        },
        {
          "output_type": "stream",
          "name": "stderr",
          "text": [
            "[I 2023-06-14 07:54:39,140] Trial 77 finished with value: 3.4727216692094474 and parameters: {'window_size': 100, 'tcn_filters': 83, 'tcn_kernel_size': 2, 'dropout_rate': 0.266232001462392, 'attention_dim': 18}. Best is trial 71 with value: 2.4885737197950295.\n"
          ]
        },
        {
          "output_type": "stream",
          "name": "stdout",
          "text": [
            "5/5 [==============================] - 0s 8ms/step\n"
          ]
        },
        {
          "output_type": "stream",
          "name": "stderr",
          "text": [
            "[I 2023-06-14 07:55:01,541] Trial 78 finished with value: 3.35719103382906 and parameters: {'window_size': 95, 'tcn_filters': 99, 'tcn_kernel_size': 2, 'dropout_rate': 0.288723310669858, 'attention_dim': 15}. Best is trial 71 with value: 2.4885737197950295.\n"
          ]
        },
        {
          "output_type": "stream",
          "name": "stdout",
          "text": [
            "4/4 [==============================] - 0s 8ms/step\n"
          ]
        },
        {
          "output_type": "stream",
          "name": "stderr",
          "text": [
            "[I 2023-06-14 07:55:15,662] Trial 79 finished with value: 3.0316403945502985 and parameters: {'window_size': 96, 'tcn_filters': 91, 'tcn_kernel_size': 2, 'dropout_rate': 0.2475992876008439, 'attention_dim': 14}. Best is trial 71 with value: 2.4885737197950295.\n"
          ]
        },
        {
          "output_type": "stream",
          "name": "stdout",
          "text": [
            "5/5 [==============================] - 0s 8ms/step\n"
          ]
        },
        {
          "output_type": "stream",
          "name": "stderr",
          "text": [
            "[I 2023-06-14 07:55:30,213] Trial 80 finished with value: 3.2571526092600673 and parameters: {'window_size': 91, 'tcn_filters': 107, 'tcn_kernel_size': 2, 'dropout_rate': 0.309261613278075, 'attention_dim': 16}. Best is trial 71 with value: 2.4885737197950295.\n"
          ]
        },
        {
          "output_type": "stream",
          "name": "stdout",
          "text": [
            "5/5 [==============================] - 0s 6ms/step\n"
          ]
        },
        {
          "output_type": "stream",
          "name": "stderr",
          "text": [
            "[I 2023-06-14 07:55:53,231] Trial 81 finished with value: 4.1380214412994265 and parameters: {'window_size': 95, 'tcn_filters': 95, 'tcn_kernel_size': 2, 'dropout_rate': 0.24670947842840668, 'attention_dim': 14}. Best is trial 71 with value: 2.4885737197950295.\n"
          ]
        },
        {
          "output_type": "stream",
          "name": "stdout",
          "text": [
            "4/4 [==============================] - 0s 10ms/step\n"
          ]
        },
        {
          "output_type": "stream",
          "name": "stderr",
          "text": [
            "[I 2023-06-14 07:56:06,196] Trial 82 finished with value: 3.736806787313134 and parameters: {'window_size': 97, 'tcn_filters': 90, 'tcn_kernel_size': 2, 'dropout_rate': 0.2837611541156975, 'attention_dim': 12}. Best is trial 71 with value: 2.4885737197950295.\n"
          ]
        },
        {
          "output_type": "stream",
          "name": "stdout",
          "text": [
            "4/4 [==============================] - 0s 9ms/step\n"
          ]
        },
        {
          "output_type": "stream",
          "name": "stderr",
          "text": [
            "[I 2023-06-14 07:56:31,126] Trial 83 finished with value: 6.302989005485328 and parameters: {'window_size': 96, 'tcn_filters': 101, 'tcn_kernel_size': 2, 'dropout_rate': 0.22922277730058271, 'attention_dim': 14}. Best is trial 71 with value: 2.4885737197950295.\n"
          ]
        },
        {
          "output_type": "stream",
          "name": "stdout",
          "text": [
            "5/5 [==============================] - 0s 8ms/step\n"
          ]
        },
        {
          "output_type": "stream",
          "name": "stderr",
          "text": [
            "[I 2023-06-14 07:56:53,566] Trial 84 finished with value: 3.7487207157196005 and parameters: {'window_size': 90, 'tcn_filters': 85, 'tcn_kernel_size': 2, 'dropout_rate': 0.263448243013805, 'attention_dim': 13}. Best is trial 71 with value: 2.4885737197950295.\n"
          ]
        },
        {
          "output_type": "stream",
          "name": "stdout",
          "text": [
            "4/4 [==============================] - 0s 9ms/step\n"
          ]
        },
        {
          "output_type": "stream",
          "name": "stderr",
          "text": [
            "[I 2023-06-14 07:57:15,975] Trial 85 finished with value: 2.9596456009344476 and parameters: {'window_size': 99, 'tcn_filters': 92, 'tcn_kernel_size': 2, 'dropout_rate': 0.2944447343508635, 'attention_dim': 17}. Best is trial 71 with value: 2.4885737197950295.\n"
          ]
        },
        {
          "output_type": "stream",
          "name": "stdout",
          "text": [
            "4/4 [==============================] - 0s 8ms/step\n"
          ]
        },
        {
          "output_type": "stream",
          "name": "stderr",
          "text": [
            "[I 2023-06-14 07:57:29,110] Trial 86 finished with value: 5.230282867183353 and parameters: {'window_size': 100, 'tcn_filters': 96, 'tcn_kernel_size': 2, 'dropout_rate': 0.29591803086520563, 'attention_dim': 17}. Best is trial 71 with value: 2.4885737197950295.\n"
          ]
        },
        {
          "output_type": "stream",
          "name": "stdout",
          "text": [
            "5/5 [==============================] - 0s 10ms/step\n"
          ]
        },
        {
          "output_type": "stream",
          "name": "stderr",
          "text": [
            "[I 2023-06-14 07:57:45,742] Trial 87 finished with value: 3.025482286535523 and parameters: {'window_size': 92, 'tcn_filters': 92, 'tcn_kernel_size': 2, 'dropout_rate': 0.276542663777547, 'attention_dim': 15}. Best is trial 71 with value: 2.4885737197950295.\n"
          ]
        },
        {
          "output_type": "stream",
          "name": "stdout",
          "text": [
            "6/6 [==============================] - 0s 5ms/step\n"
          ]
        },
        {
          "output_type": "stream",
          "name": "stderr",
          "text": [
            "[I 2023-06-14 07:57:58,757] Trial 88 finished with value: 7.957328335214779 and parameters: {'window_size': 46, 'tcn_filters': 87, 'tcn_kernel_size': 2, 'dropout_rate': 0.311197668136477, 'attention_dim': 18}. Best is trial 71 with value: 2.4885737197950295.\n"
          ]
        },
        {
          "output_type": "stream",
          "name": "stdout",
          "text": [
            "4/4 [==============================] - 0s 15ms/step\n"
          ]
        },
        {
          "output_type": "stream",
          "name": "stderr",
          "text": [
            "[I 2023-06-14 07:58:12,666] Trial 89 finished with value: 4.144933194411221 and parameters: {'window_size': 99, 'tcn_filters': 81, 'tcn_kernel_size': 2, 'dropout_rate': 0.29706174869636365, 'attention_dim': 17}. Best is trial 71 with value: 2.4885737197950295.\n"
          ]
        },
        {
          "output_type": "stream",
          "name": "stdout",
          "text": [
            "6/6 [==============================] - 0s 6ms/step\n"
          ]
        },
        {
          "output_type": "stream",
          "name": "stderr",
          "text": [
            "[I 2023-06-14 07:58:35,248] Trial 90 finished with value: 6.9755479250884145 and parameters: {'window_size': 38, 'tcn_filters': 88, 'tcn_kernel_size': 2, 'dropout_rate': 0.2818123436457924, 'attention_dim': 16}. Best is trial 71 with value: 2.4885737197950295.\n"
          ]
        },
        {
          "output_type": "stream",
          "name": "stdout",
          "text": [
            "5/5 [==============================] - 0s 7ms/step\n"
          ]
        },
        {
          "output_type": "stream",
          "name": "stderr",
          "text": [
            "[I 2023-06-14 07:58:58,357] Trial 91 finished with value: 3.236904411799952 and parameters: {'window_size': 92, 'tcn_filters': 92, 'tcn_kernel_size': 2, 'dropout_rate': 0.26856392485440916, 'attention_dim': 15}. Best is trial 71 with value: 2.4885737197950295.\n"
          ]
        },
        {
          "output_type": "stream",
          "name": "stdout",
          "text": [
            "4/4 [==============================] - 0s 9ms/step\n"
          ]
        },
        {
          "output_type": "stream",
          "name": "stderr",
          "text": [
            "[I 2023-06-14 07:59:20,796] Trial 92 finished with value: 3.580342857549198 and parameters: {'window_size': 98, 'tcn_filters': 96, 'tcn_kernel_size': 2, 'dropout_rate': 0.3051709315082797, 'attention_dim': 16}. Best is trial 71 with value: 2.4885737197950295.\n"
          ]
        },
        {
          "output_type": "stream",
          "name": "stdout",
          "text": [
            "5/5 [==============================] - 0s 9ms/step\n"
          ]
        },
        {
          "output_type": "stream",
          "name": "stderr",
          "text": [
            "[I 2023-06-14 07:59:43,237] Trial 93 finished with value: 6.282905790498288 and parameters: {'window_size': 93, 'tcn_filters': 110, 'tcn_kernel_size': 2, 'dropout_rate': 0.27679957369427727, 'attention_dim': 15}. Best is trial 71 with value: 2.4885737197950295.\n"
          ]
        },
        {
          "output_type": "stream",
          "name": "stdout",
          "text": [
            "5/5 [==============================] - 0s 11ms/step\n"
          ]
        },
        {
          "output_type": "stream",
          "name": "stderr",
          "text": [
            "[I 2023-06-14 08:00:26,805] Trial 94 finished with value: 3.5011308175290994 and parameters: {'window_size': 86, 'tcn_filters': 102, 'tcn_kernel_size': 2, 'dropout_rate': 0.2552575992233356, 'attention_dim': 20}. Best is trial 71 with value: 2.4885737197950295.\n"
          ]
        },
        {
          "output_type": "stream",
          "name": "stdout",
          "text": [
            "7/7 [==============================] - 0s 3ms/step\n"
          ]
        },
        {
          "output_type": "stream",
          "name": "stderr",
          "text": [
            "[I 2023-06-14 08:00:34,467] Trial 95 finished with value: 8.671263870559423 and parameters: {'window_size': 11, 'tcn_filters': 85, 'tcn_kernel_size': 2, 'dropout_rate': 0.28534227679802354, 'attention_dim': 17}. Best is trial 71 with value: 2.4885737197950295.\n"
          ]
        },
        {
          "output_type": "stream",
          "name": "stdout",
          "text": [
            "5/5 [==============================] - 0s 7ms/step\n"
          ]
        },
        {
          "output_type": "stream",
          "name": "stderr",
          "text": [
            "[I 2023-06-14 08:00:46,888] Trial 96 finished with value: 4.635416384826389 and parameters: {'window_size': 89, 'tcn_filters': 99, 'tcn_kernel_size': 2, 'dropout_rate': 0.23957759105972126, 'attention_dim': 10}. Best is trial 71 with value: 2.4885737197950295.\n"
          ]
        },
        {
          "output_type": "stream",
          "name": "stdout",
          "text": [
            "4/4 [==============================] - 0s 10ms/step\n"
          ]
        },
        {
          "output_type": "stream",
          "name": "stderr",
          "text": [
            "[I 2023-06-14 08:01:09,518] Trial 97 finished with value: 2.2613458637212287 and parameters: {'window_size': 100, 'tcn_filters': 88, 'tcn_kernel_size': 2, 'dropout_rate': 0.29280597621391496, 'attention_dim': 13}. Best is trial 97 with value: 2.2613458637212287.\n"
          ]
        },
        {
          "output_type": "stream",
          "name": "stdout",
          "text": [
            "4/4 [==============================] - 0s 20ms/step\n"
          ]
        },
        {
          "output_type": "stream",
          "name": "stderr",
          "text": [
            "[I 2023-06-14 08:01:22,138] Trial 98 finished with value: 6.901840862327297 and parameters: {'window_size': 100, 'tcn_filters': 83, 'tcn_kernel_size': 2, 'dropout_rate': 0.3274030981766676, 'attention_dim': 13}. Best is trial 97 with value: 2.2613458637212287.\n"
          ]
        },
        {
          "output_type": "stream",
          "name": "stdout",
          "text": [
            "4/4 [==============================] - 0s 7ms/step\n"
          ]
        },
        {
          "output_type": "stream",
          "name": "stderr",
          "text": [
            "[I 2023-06-14 08:01:45,005] Trial 99 finished with value: 2.617694054901833 and parameters: {'window_size': 97, 'tcn_filters': 78, 'tcn_kernel_size': 2, 'dropout_rate': 0.3144258532950099, 'attention_dim': 12}. Best is trial 97 with value: 2.2613458637212287.\n"
          ]
        }
      ]
    },
    {
      "cell_type": "code",
      "source": [
        "# Display the optimal set of parameters\n",
        "best_params = study.best_params\n",
        "print(\"Best Hyperparameters:\", best_params)"
      ],
      "metadata": {
        "colab": {
          "base_uri": "https://localhost:8080/"
        },
        "id": "MIC7AbkU-qLy",
        "outputId": "750fd1b7-0045-4798-b8a6-7e62fd839ceb"
      },
      "id": "MIC7AbkU-qLy",
      "execution_count": 15,
      "outputs": [
        {
          "output_type": "stream",
          "name": "stdout",
          "text": [
            "Best Hyperparameters: {'window_size': 100, 'tcn_filters': 88, 'tcn_kernel_size': 2, 'dropout_rate': 0.29280597621391496, 'attention_dim': 13}\n"
          ]
        }
      ]
    },
    {
      "cell_type": "code",
      "source": [
        "# Evaluate the accuracy of test\n",
        "print(f\"MAPE on Test dataset: \", best_mape)\n",
        "print(f\"RMSE on Test dataset: \", best_rmse)\n",
        "print(f\"MSLE on Test dataset: \", best_msle)"
      ],
      "metadata": {
        "colab": {
          "base_uri": "https://localhost:8080/"
        },
        "id": "gIcsWJky-scK",
        "outputId": "0df3c7c3-009b-46d4-e857-6b498d021033"
      },
      "id": "gIcsWJky-scK",
      "execution_count": 16,
      "outputs": [
        {
          "output_type": "stream",
          "name": "stdout",
          "text": [
            "MAPE on Test dataset:  0.016898046331860636\n",
            "RMSE on Test dataset:  1.5037771988300757\n",
            "MSLE on Test dataset:  0.00042772061096720335\n"
          ]
        }
      ]
    },
    {
      "cell_type": "markdown",
      "source": [
        "### Save and Load the best model and related information"
      ],
      "metadata": {
        "id": "LAq2jnXOj6aI"
      },
      "id": "LAq2jnXOj6aI"
    },
    {
      "cell_type": "code",
      "source": [
        "# Save the best model and related information\n",
        "best_model.save('/content/drive/MyDrive/Colab Notebooks/Business Data Analysis/NTR/6:2:2/best_model.h5')\n",
        "\n",
        "np.save('/content/drive/MyDrive/Colab Notebooks/Business Data Analysis/NTR/6:2:2/best_window_size.npy', best_window_size)\n",
        "np.save('/content/drive/MyDrive/Colab Notebooks/Business Data Analysis/NTR/6:2:2/best_train_windows.npy', best_train_windows)\n",
        "np.save('/content/drive/MyDrive/Colab Notebooks/Business Data Analysis/NTR/6:2:2/best_train_targets.npy', best_train_targets)\n",
        "np.save('/content/drive/MyDrive/Colab Notebooks/Business Data Analysis/NTR/6:2:2/best_test_windows.npy', best_test_windows)\n",
        "np.save('/content/drive/MyDrive/Colab Notebooks/Business Data Analysis/NTR/6:2:2/best_test_targets.npy', best_test_targets)\n",
        "np.save('/content/drive/MyDrive/Colab Notebooks/Business Data Analysis/NTR/6:2:2/best_val_windows.npy', best_val_windows)\n",
        "np.save('/content/drive/MyDrive/Colab Notebooks/Business Data Analysis/NTR/6:2:2/best_val_targets.npy', best_val_targets)\n",
        "\n",
        "np.save('/content/drive/MyDrive/Colab Notebooks/Business Data Analysis/NTR/6:2:2/best_y_pred.npy', best_y_pred)\n",
        "\n",
        "np.save('/content/drive/MyDrive/Colab Notebooks/Business Data Analysis/NTR/6:2:2/best_mse.npy', best_mse)\n",
        "np.save('/content/drive/MyDrive/Colab Notebooks/Business Data Analysis/NTR/6:2:2/best_rmse.npy', best_rmse)\n",
        "np.save('/content/drive/MyDrive/Colab Notebooks/Business Data Analysis/NTR/6:2:2/best_mape.npy', best_mape)\n",
        "np.save('/content/drive/MyDrive/Colab Notebooks/Business Data Analysis/NTR/6:2:2/best_msle.npy', best_msle)"
      ],
      "metadata": {
        "id": "VOV_a65HsGiB"
      },
      "id": "VOV_a65HsGiB",
      "execution_count": 17,
      "outputs": []
    },
    {
      "cell_type": "code",
      "source": [
        "# Load the best model and related information\n",
        "with custom_object_scope({'AttentionLayer': AttentionLayer}):\n",
        "    loaded_best_model = load_model('/content/drive/MyDrive/Colab Notebooks/Business Data Analysis/NTR/6:2:2/best_model.h5')\n",
        "\n",
        "loaded_best_window_size = np.load('/content/drive/MyDrive/Colab Notebooks/Business Data Analysis/NTR/6:2:2/best_window_size.npy')\n",
        "loaded_best_train_windows = np.load('/content/drive/MyDrive/Colab Notebooks/Business Data Analysis/NTR/6:2:2/best_train_windows.npy')\n",
        "loaded_best_train_targets = np.load('/content/drive/MyDrive/Colab Notebooks/Business Data Analysis/NTR/6:2:2/best_train_targets.npy')\n",
        "loaded_best_test_windows = np.load('/content/drive/MyDrive/Colab Notebooks/Business Data Analysis/NTR/6:2:2/best_test_windows.npy')\n",
        "loaded_best_test_targets = np.load('/content/drive/MyDrive/Colab Notebooks/Business Data Analysis/NTR/6:2:2/best_test_targets.npy')\n",
        "loaded_best_val_windows = np.load('/content/drive/MyDrive/Colab Notebooks/Business Data Analysis/NTR/6:2:2/best_val_windows.npy')\n",
        "loaded_best_val_targets = np.load('/content/drive/MyDrive/Colab Notebooks/Business Data Analysis/NTR/6:2:2/best_val_targets.npy')\n",
        "\n",
        "loaded_best_y_pred = np.load('/content/drive/MyDrive/Colab Notebooks/Business Data Analysis/NTR/6:2:2/best_y_pred.npy')\n",
        "\n",
        "loaded_best_mse = np.load('/content/drive/MyDrive/Colab Notebooks/Business Data Analysis/NTR/6:2:2/best_mse.npy').item()\n",
        "loaded_best_rmse = np.load('/content/drive/MyDrive/Colab Notebooks/Business Data Analysis/NTR/6:2:2/best_rmse.npy').item()\n",
        "loaded_best_mape = np.load('/content/drive/MyDrive/Colab Notebooks/Business Data Analysis/NTR/6:2:2/best_mape.npy').item()\n",
        "loaded_best_msle = np.load('/content/drive/MyDrive/Colab Notebooks/Business Data Analysis/NTR/6:2:2/best_msle.npy').item()"
      ],
      "metadata": {
        "id": "CYIqqiJn-7Jp"
      },
      "id": "CYIqqiJn-7Jp",
      "execution_count": 18,
      "outputs": []
    },
    {
      "cell_type": "markdown",
      "source": [
        "## Predicting the next 30 days"
      ],
      "metadata": {
        "id": "ZV6VbX2qiTJ2"
      },
      "id": "ZV6VbX2qiTJ2"
    },
    {
      "cell_type": "markdown",
      "source": [
        "### Preparing the forecast date index"
      ],
      "metadata": {
        "id": "KheB_eYIiU4b"
      },
      "id": "KheB_eYIiU4b"
    },
    {
      "cell_type": "code",
      "source": [
        "# Get the last date from the current index\n",
        "last_date = df.index[-1]\n",
        "\n",
        "# Add one day to the last date\n",
        "next_date = last_date + pd.DateOffset(days=1)\n",
        "\n",
        "# Create a list of indices starting from the next date for 30 days\n",
        "index_next_30_days = pd.date_range(start=next_date, periods=30).tolist()"
      ],
      "metadata": {
        "id": "nEQ97NJuiPPW"
      },
      "id": "nEQ97NJuiPPW",
      "execution_count": 19,
      "outputs": []
    },
    {
      "cell_type": "markdown",
      "source": [
        "## Prediction process"
      ],
      "metadata": {
        "id": "35CEaBcIiX6-"
      },
      "id": "35CEaBcIiX6-"
    },
    {
      "cell_type": "code",
      "execution_count": 20,
      "id": "45367300",
      "metadata": {
        "colab": {
          "base_uri": "https://localhost:8080/"
        },
        "id": "45367300",
        "outputId": "430e159f-7167-409d-80dd-a52b7ed1ccd5"
      },
      "outputs": [
        {
          "output_type": "stream",
          "name": "stdout",
          "text": [
            "1/1 [==============================] - 0s 165ms/step\n",
            "1/1 [==============================] - 0s 25ms/step\n",
            "1/1 [==============================] - 0s 31ms/step\n",
            "1/1 [==============================] - 0s 25ms/step\n",
            "1/1 [==============================] - 0s 32ms/step\n",
            "1/1 [==============================] - 0s 27ms/step\n",
            "1/1 [==============================] - 0s 27ms/step\n",
            "1/1 [==============================] - 0s 27ms/step\n",
            "1/1 [==============================] - 0s 34ms/step\n",
            "1/1 [==============================] - 0s 26ms/step\n",
            "1/1 [==============================] - 0s 26ms/step\n",
            "1/1 [==============================] - 0s 25ms/step\n",
            "1/1 [==============================] - 0s 24ms/step\n",
            "1/1 [==============================] - 0s 22ms/step\n",
            "1/1 [==============================] - 0s 23ms/step\n",
            "1/1 [==============================] - 0s 25ms/step\n",
            "1/1 [==============================] - 0s 23ms/step\n",
            "1/1 [==============================] - 0s 30ms/step\n",
            "1/1 [==============================] - 0s 40ms/step\n",
            "1/1 [==============================] - 0s 36ms/step\n",
            "1/1 [==============================] - 0s 35ms/step\n",
            "1/1 [==============================] - 0s 40ms/step\n",
            "1/1 [==============================] - 0s 32ms/step\n",
            "1/1 [==============================] - 0s 32ms/step\n",
            "1/1 [==============================] - 0s 33ms/step\n",
            "1/1 [==============================] - 0s 31ms/step\n",
            "1/1 [==============================] - 0s 33ms/step\n",
            "1/1 [==============================] - 0s 41ms/step\n",
            "1/1 [==============================] - 0s 32ms/step\n",
            "1/1 [==============================] - 0s 32ms/step\n"
          ]
        }
      ],
      "source": [
        "# Predict the closing price for the next 30 days\n",
        "last_sequence_days = np.array(data_scaled[-best_window_size:]).reshape(1, -1, 1)\n",
        "y_next_30_days = []\n",
        "\n",
        "for i in range(30):\n",
        "    # Predict the next day's closing price\n",
        "    next_day_pred = loaded_best_model.predict(last_sequence_days)\n",
        "\n",
        "    # Save prediction\n",
        "    y_next_30_days.append(next_day_pred[0][0])\n",
        "\n",
        "    # Update data for the next day\n",
        "    last_sequence_days = np.concatenate([last_sequence_days[:, 1:, :], next_day_pred.reshape(1, 1, 1)], axis=1)"
      ]
    },
    {
      "cell_type": "markdown",
      "source": [
        "## Visualization"
      ],
      "metadata": {
        "id": "ONh3k9wBids4"
      },
      "id": "ONh3k9wBids4"
    },
    {
      "cell_type": "code",
      "source": [
        "plt.figure(figsize=(12, 5))\n",
        "\n",
        "plt.plot(df.index[:train_size], scaler.inverse_transform(train_data))\n",
        "\n",
        "plt.plot(df.index[train_size : train_size + val_size], scaler.inverse_transform(val_data))\n",
        "\n",
        "plt.plot(df.index[train_size + val_size : ], scaler.inverse_transform(test_data))\n",
        "\n",
        "plt.plot(df.index[train_size + val_size + best_window_size + 1: ], best_y_pred)\n",
        "\n",
        "plt.plot(index_next_30_days, scaler.inverse_transform(np.array(y_next_30_days).reshape(-1, 1)))\n",
        "\n",
        "plt.legend(['Train', 'Validate', 'Test', 'Predict', 'Predict30days'])\n",
        "\n",
        "plt.grid()\n",
        "plt.title(f\"Nutrien Closing Price Data from {df.index[0].strftime('%Y-%m-%d')} to {index_next_30_days[-1].strftime('%Y-%m-%d')}\")\n",
        "plt.xlabel(\"Date\")\n",
        "plt.ylabel(\"Close value\")\n",
        "plt.savefig('TCAN_622_NTR.png')\n",
        "plt.show()"
      ],
      "metadata": {
        "id": "NwtqPyJeMaGL",
        "colab": {
          "base_uri": "https://localhost:8080/",
          "height": 487
        },
        "outputId": "b58ef113-3180-40b5-abde-c420d999e7f9"
      },
      "id": "NwtqPyJeMaGL",
      "execution_count": 21,
      "outputs": [
        {
          "output_type": "display_data",
          "data": {
            "text/plain": [
              "<Figure size 1200x500 with 1 Axes>"
            ],
            "image/png": "[encoded data removed]"
          },
          "metadata": {}
        }
      ]
    }
  ],
  "metadata": {
    "colab": {
      "provenance": []
    },
    "kernelspec": {
      "display_name": "Python 3 (ipykernel)",
      "language": "python",
      "name": "python3"
    },
    "language_info": {
      "codemirror_mode": {
        "name": "ipython",
        "version": 3
      },
      "file_extension": ".py",
      "mimetype": "text/x-python",
      "name": "python",
      "nbconvert_exporter": "python",
      "pygments_lexer": "ipython3",
      "version": "3.9.13"
    }
  },
  "nbformat": 4,
  "nbformat_minor": 5
}