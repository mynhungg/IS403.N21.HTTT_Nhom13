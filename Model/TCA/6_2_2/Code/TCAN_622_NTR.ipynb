{
  "cells": [
    {
      "cell_type": "markdown",
      "source": [
        "## Preparation"
      ],
      "metadata": {
        "id": "Ty-2HmFfAEUU"
      },
      "id": "Ty-2HmFfAEUU"
    },
    {
      "cell_type": "markdown",
      "source": [
        "### Download the optimization support library package"
      ],
      "metadata": {
        "id": "wCHCM3ifASoq"
      },
      "id": "wCHCM3ifASoq"
    },
    {
      "cell_type": "code",
      "source": [
        "!pip install optuna"
      ],
      "metadata": {
        "colab": {
          "base_uri": "https://localhost:8080/"
        },
        "id": "h-uK9HgR9_AM",
        "outputId": "a80fde71-b00d-48b4-d9f3-c9d63cde0116"
      },
      "id": "h-uK9HgR9_AM",
      "execution_count": 1,
      "outputs": [
        {
          "output_type": "stream",
          "name": "stdout",
          "text": [
            "Looking in indexes: https://pypi.org/simple, https://us-python.pkg.dev/colab-wheels/public/simple/\n",
            "Collecting optuna\n",
            "  Downloading optuna-3.2.0-py3-none-any.whl (390 kB)\n",
            "\u001b[2K     \u001b[90m━━━━━━━━━━━━━━━━━━━━━━━━━━━━━━━━━━━━━━━\u001b[0m \u001b[32m390.6/390.6 kB\u001b[0m \u001b[31m7.3 MB/s\u001b[0m eta \u001b[36m0:00:00\u001b[0m\n",
            "\u001b[?25hCollecting alembic>=1.5.0 (from optuna)\n",
            "  Downloading alembic-1.11.1-py3-none-any.whl (224 kB)\n",
            "\u001b[2K     \u001b[90m━━━━━━━━━━━━━━━━━━━━━━━━━━━━━━━━━━━━━━\u001b[0m \u001b[32m224.5/224.5 kB\u001b[0m \u001b[31m16.1 MB/s\u001b[0m eta \u001b[36m0:00:00\u001b[0m\n",
            "\u001b[?25hCollecting cmaes>=0.9.1 (from optuna)\n",
            "  Downloading cmaes-0.9.1-py3-none-any.whl (21 kB)\n",
            "Collecting colorlog (from optuna)\n",
            "  Downloading colorlog-6.7.0-py2.py3-none-any.whl (11 kB)\n",
            "Requirement already satisfied: numpy in /usr/local/lib/python3.10/dist-packages (from optuna) (1.22.4)\n",
            "Requirement already satisfied: packaging>=20.0 in /usr/local/lib/python3.10/dist-packages (from optuna) (23.1)\n",
            "Requirement already satisfied: sqlalchemy>=1.3.0 in /usr/local/lib/python3.10/dist-packages (from optuna) (2.0.10)\n",
            "Requirement already satisfied: tqdm in /usr/local/lib/python3.10/dist-packages (from optuna) (4.65.0)\n",
            "Requirement already satisfied: PyYAML in /usr/local/lib/python3.10/dist-packages (from optuna) (6.0)\n",
            "Collecting Mako (from alembic>=1.5.0->optuna)\n",
            "  Downloading Mako-1.2.4-py3-none-any.whl (78 kB)\n",
            "\u001b[2K     \u001b[90m━━━━━━━━━━━━━━━━━━━━━━━━━━━━━━━━━━━━━━━━\u001b[0m \u001b[32m78.7/78.7 kB\u001b[0m \u001b[31m6.8 MB/s\u001b[0m eta \u001b[36m0:00:00\u001b[0m\n",
            "\u001b[?25hRequirement already satisfied: typing-extensions>=4 in /usr/local/lib/python3.10/dist-packages (from alembic>=1.5.0->optuna) (4.5.0)\n",
            "Requirement already satisfied: greenlet!=0.4.17 in /usr/local/lib/python3.10/dist-packages (from sqlalchemy>=1.3.0->optuna) (2.0.2)\n",
            "Requirement already satisfied: MarkupSafe>=0.9.2 in /usr/local/lib/python3.10/dist-packages (from Mako->alembic>=1.5.0->optuna) (2.1.2)\n",
            "Installing collected packages: Mako, colorlog, cmaes, alembic, optuna\n",
            "Successfully installed Mako-1.2.4 alembic-1.11.1 cmaes-0.9.1 colorlog-6.7.0 optuna-3.2.0\n"
          ]
        }
      ]
    },
    {
      "cell_type": "markdown",
      "source": [
        "### Connect to Google Drive"
      ],
      "metadata": {
        "id": "-yVNLlKiAkLO"
      },
      "id": "-yVNLlKiAkLO"
    },
    {
      "cell_type": "code",
      "source": [
        "from google.colab import drive\n",
        "drive.mount('/content/drive', force_remount=True)"
      ],
      "metadata": {
        "colab": {
          "base_uri": "https://localhost:8080/"
        },
        "id": "O32NLGXv96h9",
        "outputId": "2ac145b1-cf36-4339-e4f7-dad9bfa71be5"
      },
      "id": "O32NLGXv96h9",
      "execution_count": 2,
      "outputs": [
        {
          "output_type": "stream",
          "name": "stdout",
          "text": [
            "Mounted at /content/drive\n"
          ]
        }
      ]
    },
    {
      "cell_type": "markdown",
      "source": [
        "## Import Libraries"
      ],
      "metadata": {
        "id": "W53Qynm-ZVZt"
      },
      "id": "W53Qynm-ZVZt"
    },
    {
      "cell_type": "code",
      "execution_count": 3,
      "id": "87d177e7",
      "metadata": {
        "id": "87d177e7"
      },
      "outputs": [],
      "source": [
        "# Library to support working with data\n",
        "import numpy as np\n",
        "import pandas as pd\n",
        "\n",
        "# Graphing support library\n",
        "import matplotlib.pyplot as plt\n",
        "\n",
        "# Data Normalization Support Library\n",
        "from sklearn.preprocessing import MinMaxScaler\n",
        "\n",
        "# Library to support building Temporal Convolutional Attention Networks models\n",
        "from tensorflow.keras.models import Model\n",
        "from tensorflow.keras.optimizers import Adam\n",
        "from tensorflow.keras.callbacks import EarlyStopping\n",
        "from tensorflow.keras.layers import Dense, Flatten, Conv1D, MaxPooling1D, GlobalMaxPooling1D, Dropout, SpatialDropout1D\n",
        "from tensorflow.keras.layers import Layer, RepeatVector, concatenate, Reshape, Input, Concatenate, Permute, Multiply, Add, Activation\n",
        "\n",
        "# Performance metrics calculation support library\n",
        "from sklearn.metrics import mean_squared_error, mean_absolute_percentage_error, mean_squared_log_error\n",
        "\n",
        "# Parameter optimization support library\n",
        "import optuna\n",
        "\n",
        "# Support library to ignore warnings\n",
        "import warnings\n",
        "warnings.filterwarnings(\"ignore\")\n",
        "\n",
        "# Support library to load models and data\n",
        "from keras.utils import custom_object_scope\n",
        "from tensorflow.keras.models import load_model"
      ]
    },
    {
      "cell_type": "markdown",
      "source": [
        "## Data preprocessing"
      ],
      "metadata": {
        "id": "-DlshO-2cJbs"
      },
      "id": "-DlshO-2cJbs"
    },
    {
      "cell_type": "markdown",
      "source": [
        "### Read data"
      ],
      "metadata": {
        "id": "ezxH2qTIcLnT"
      },
      "id": "ezxH2qTIcLnT"
    },
    {
      "cell_type": "code",
      "execution_count": 4,
      "id": "77ce5605",
      "metadata": {
        "colab": {
          "base_uri": "https://localhost:8080/",
          "height": 423
        },
        "id": "77ce5605",
        "outputId": "b15b0808-b5ba-4610-c348-7cdea0d47c07"
      },
      "outputs": [
        {
          "output_type": "execute_result",
          "data": {
            "text/plain": [
              "            Date       Open       High        Low      Close  Adj Close  \\\n",
              "0     2019-01-02  46.209999  46.990002  45.855000  46.259998  40.076595   \n",
              "1     2019-01-03  46.000000  46.099998  44.882999  45.049999  39.028339   \n",
              "2     2019-01-04  45.950001  47.180000  45.880001  47.130001  40.830315   \n",
              "3     2019-01-07  47.310001  48.110001  46.840000  47.740002  41.358772   \n",
              "4     2019-01-08  48.709999  49.480000  48.520000  49.209999  42.632286   \n",
              "...          ...        ...        ...        ...        ...        ...   \n",
              "1114  2023-06-06  53.000000  57.294998  52.820000  57.220001  57.220001   \n",
              "1115  2023-06-07  57.610001  59.750000  57.520000  59.340000  59.340000   \n",
              "1116  2023-06-08  59.400002  60.080002  57.910000  58.939999  58.939999   \n",
              "1117  2023-06-09  58.959999  59.349998  58.290001  58.790001  58.790001   \n",
              "1118  2023-06-12  58.279999  59.650002  58.279999  59.610001  59.610001   \n",
              "\n",
              "       Volume  \n",
              "0     1289100  \n",
              "1     1158800  \n",
              "2     1538500  \n",
              "3      954700  \n",
              "4     1921800  \n",
              "...       ...  \n",
              "1114  6397900  \n",
              "1115  2925500  \n",
              "1116  2828400  \n",
              "1117  1686600  \n",
              "1118  1563100  \n",
              "\n",
              "[1119 rows x 7 columns]"
            ],
            "text/html": [
              "\n",
              "  <div id=\"df-dea0dbf9-868f-49a7-9b66-021bf4dc12ba\">\n",
              "    <div class=\"colab-df-container\">\n",
              "      <div>\n",
              "<style scoped>\n",
              "    .dataframe tbody tr th:only-of-type {\n",
              "        vertical-align: middle;\n",
              "    }\n",
              "\n",
              "    .dataframe tbody tr th {\n",
              "        vertical-align: top;\n",
              "    }\n",
              "\n",
              "    .dataframe thead th {\n",
              "        text-align: right;\n",
              "    }\n",
              "</style>\n",
              "<table border=\"1\" class=\"dataframe\">\n",
              "  <thead>\n",
              "    <tr style=\"text-align: right;\">\n",
              "      <th></th>\n",
              "      <th>Date</th>\n",
              "      <th>Open</th>\n",
              "      <th>High</th>\n",
              "      <th>Low</th>\n",
              "      <th>Close</th>\n",
              "      <th>Adj Close</th>\n",
              "      <th>Volume</th>\n",
              "    </tr>\n",
              "  </thead>\n",
              "  <tbody>\n",
              "    <tr>\n",
              "      <th>0</th>\n",
              "      <td>2019-01-02</td>\n",
              "      <td>46.209999</td>\n",
              "      <td>46.990002</td>\n",
              "      <td>45.855000</td>\n",
              "      <td>46.259998</td>\n",
              "      <td>40.076595</td>\n",
              "      <td>1289100</td>\n",
              "    </tr>\n",
              "    <tr>\n",
              "      <th>1</th>\n",
              "      <td>2019-01-03</td>\n",
              "      <td>46.000000</td>\n",
              "      <td>46.099998</td>\n",
              "      <td>44.882999</td>\n",
              "      <td>45.049999</td>\n",
              "      <td>39.028339</td>\n",
              "      <td>1158800</td>\n",
              "    </tr>\n",
              "    <tr>\n",
              "      <th>2</th>\n",
              "      <td>2019-01-04</td>\n",
              "      <td>45.950001</td>\n",
              "      <td>47.180000</td>\n",
              "      <td>45.880001</td>\n",
              "      <td>47.130001</td>\n",
              "      <td>40.830315</td>\n",
              "      <td>1538500</td>\n",
              "    </tr>\n",
              "    <tr>\n",
              "      <th>3</th>\n",
              "      <td>2019-01-07</td>\n",
              "      <td>47.310001</td>\n",
              "      <td>48.110001</td>\n",
              "      <td>46.840000</td>\n",
              "      <td>47.740002</td>\n",
              "      <td>41.358772</td>\n",
              "      <td>954700</td>\n",
              "    </tr>\n",
              "    <tr>\n",
              "      <th>4</th>\n",
              "      <td>2019-01-08</td>\n",
              "      <td>48.709999</td>\n",
              "      <td>49.480000</td>\n",
              "      <td>48.520000</td>\n",
              "      <td>49.209999</td>\n",
              "      <td>42.632286</td>\n",
              "      <td>1921800</td>\n",
              "    </tr>\n",
              "    <tr>\n",
              "      <th>...</th>\n",
              "      <td>...</td>\n",
              "      <td>...</td>\n",
              "      <td>...</td>\n",
              "      <td>...</td>\n",
              "      <td>...</td>\n",
              "      <td>...</td>\n",
              "      <td>...</td>\n",
              "    </tr>\n",
              "    <tr>\n",
              "      <th>1114</th>\n",
              "      <td>2023-06-06</td>\n",
              "      <td>53.000000</td>\n",
              "      <td>57.294998</td>\n",
              "      <td>52.820000</td>\n",
              "      <td>57.220001</td>\n",
              "      <td>57.220001</td>\n",
              "      <td>6397900</td>\n",
              "    </tr>\n",
              "    <tr>\n",
              "      <th>1115</th>\n",
              "      <td>2023-06-07</td>\n",
              "      <td>57.610001</td>\n",
              "      <td>59.750000</td>\n",
              "      <td>57.520000</td>\n",
              "      <td>59.340000</td>\n",
              "      <td>59.340000</td>\n",
              "      <td>2925500</td>\n",
              "    </tr>\n",
              "    <tr>\n",
              "      <th>1116</th>\n",
              "      <td>2023-06-08</td>\n",
              "      <td>59.400002</td>\n",
              "      <td>60.080002</td>\n",
              "      <td>57.910000</td>\n",
              "      <td>58.939999</td>\n",
              "      <td>58.939999</td>\n",
              "      <td>2828400</td>\n",
              "    </tr>\n",
              "    <tr>\n",
              "      <th>1117</th>\n",
              "      <td>2023-06-09</td>\n",
              "      <td>58.959999</td>\n",
              "      <td>59.349998</td>\n",
              "      <td>58.290001</td>\n",
              "      <td>58.790001</td>\n",
              "      <td>58.790001</td>\n",
              "      <td>1686600</td>\n",
              "    </tr>\n",
              "    <tr>\n",
              "      <th>1118</th>\n",
              "      <td>2023-06-12</td>\n",
              "      <td>58.279999</td>\n",
              "      <td>59.650002</td>\n",
              "      <td>58.279999</td>\n",
              "      <td>59.610001</td>\n",
              "      <td>59.610001</td>\n",
              "      <td>1563100</td>\n",
              "    </tr>\n",
              "  </tbody>\n",
              "</table>\n",
              "<p>1119 rows × 7 columns</p>\n",
              "</div>\n",
              "      <button class=\"colab-df-convert\" onclick=\"convertToInteractive('df-dea0dbf9-868f-49a7-9b66-021bf4dc12ba')\"\n",
              "              title=\"Convert this dataframe to an interactive table.\"\n",
              "              style=\"display:none;\">\n",
              "        \n",
              "  <svg xmlns=\"http://www.w3.org/2000/svg\" height=\"24px\"viewBox=\"0 0 24 24\"\n",
              "       width=\"24px\">\n",
              "    <path d=\"M0 0h24v24H0V0z\" fill=\"none\"/>\n",
              "    <path d=\"M18.56 5.44l.94 2.06.94-2.06 2.06-.94-2.06-.94-.94-2.06-.94 2.06-2.06.94zm-11 1L8.5 8.5l.94-2.06 2.06-.94-2.06-.94L8.5 2.5l-.94 2.06-2.06.94zm10 10l.94 2.06.94-2.06 2.06-.94-2.06-.94-.94-2.06-.94 2.06-2.06.94z\"/><path d=\"M17.41 7.96l-1.37-1.37c-.4-.4-.92-.59-1.43-.59-.52 0-1.04.2-1.43.59L10.3 9.45l-7.72 7.72c-.78.78-.78 2.05 0 2.83L4 21.41c.39.39.9.59 1.41.59.51 0 1.02-.2 1.41-.59l7.78-7.78 2.81-2.81c.8-.78.8-2.07 0-2.86zM5.41 20L4 18.59l7.72-7.72 1.47 1.35L5.41 20z\"/>\n",
              "  </svg>\n",
              "      </button>\n",
              "      \n",
              "  <style>\n",
              "    .colab-df-container {\n",
              "      display:flex;\n",
              "      flex-wrap:wrap;\n",
              "      gap: 12px;\n",
              "    }\n",
              "\n",
              "    .colab-df-convert {\n",
              "      background-color: #E8F0FE;\n",
              "      border: none;\n",
              "      border-radius: 50%;\n",
              "      cursor: pointer;\n",
              "      display: none;\n",
              "      fill: #1967D2;\n",
              "      height: 32px;\n",
              "      padding: 0 0 0 0;\n",
              "      width: 32px;\n",
              "    }\n",
              "\n",
              "    .colab-df-convert:hover {\n",
              "      background-color: #E2EBFA;\n",
              "      box-shadow: 0px 1px 2px rgba(60, 64, 67, 0.3), 0px 1px 3px 1px rgba(60, 64, 67, 0.15);\n",
              "      fill: #174EA6;\n",
              "    }\n",
              "\n",
              "    [theme=dark] .colab-df-convert {\n",
              "      background-color: #3B4455;\n",
              "      fill: #D2E3FC;\n",
              "    }\n",
              "\n",
              "    [theme=dark] .colab-df-convert:hover {\n",
              "      background-color: #434B5C;\n",
              "      box-shadow: 0px 1px 3px 1px rgba(0, 0, 0, 0.15);\n",
              "      filter: drop-shadow(0px 1px 2px rgba(0, 0, 0, 0.3));\n",
              "      fill: #FFFFFF;\n",
              "    }\n",
              "  </style>\n",
              "\n",
              "      <script>\n",
              "        const buttonEl =\n",
              "          document.querySelector('#df-dea0dbf9-868f-49a7-9b66-021bf4dc12ba button.colab-df-convert');\n",
              "        buttonEl.style.display =\n",
              "          google.colab.kernel.accessAllowed ? 'block' : 'none';\n",
              "\n",
              "        async function convertToInteractive(key) {\n",
              "          const element = document.querySelector('#df-dea0dbf9-868f-49a7-9b66-021bf4dc12ba');\n",
              "          const dataTable =\n",
              "            await google.colab.kernel.invokeFunction('convertToInteractive',\n",
              "                                                     [key], {});\n",
              "          if (!dataTable) return;\n",
              "\n",
              "          const docLinkHtml = 'Like what you see? Visit the ' +\n",
              "            '<a target=\"_blank\" href=https://colab.research.google.com/notebooks/data_table.ipynb>data table notebook</a>'\n",
              "            + ' to learn more about interactive tables.';\n",
              "          element.innerHTML = '';\n",
              "          dataTable['output_type'] = 'display_data';\n",
              "          await google.colab.output.renderOutput(dataTable, element);\n",
              "          const docLink = document.createElement('div');\n",
              "          docLink.innerHTML = docLinkHtml;\n",
              "          element.appendChild(docLink);\n",
              "        }\n",
              "      </script>\n",
              "    </div>\n",
              "  </div>\n",
              "  "
            ]
          },
          "metadata": {},
          "execution_count": 4
        }
      ],
      "source": [
        "# Load data\n",
        "df = pd.read_csv('NTR.csv')\n",
        "df"
      ]
    },
    {
      "cell_type": "markdown",
      "source": [
        "### Reset index"
      ],
      "metadata": {
        "id": "muKE0gL7cQs2"
      },
      "id": "muKE0gL7cQs2"
    },
    {
      "cell_type": "code",
      "source": [
        "# Convert the 'Date' column to datetime format\n",
        "df['Date'] = pd.to_datetime(df['Date'])\n",
        "\n",
        "# Set the 'Date' column as the index value\n",
        "df.set_index('Date', inplace=True)"
      ],
      "metadata": {
        "id": "vG4wgXOK2soU"
      },
      "id": "vG4wgXOK2soU",
      "execution_count": 5,
      "outputs": []
    },
    {
      "cell_type": "code",
      "source": [
        "# Select column 'Close'\n",
        "df_Close = df[['Close']]\n",
        "df_Close = df_Close.reset_index(drop=True)"
      ],
      "metadata": {
        "id": "DBeiREWjJ00j"
      },
      "id": "DBeiREWjJ00j",
      "execution_count": 6,
      "outputs": []
    },
    {
      "cell_type": "markdown",
      "source": [
        "### Data normalization"
      ],
      "metadata": {
        "id": "m9vvIvolcch8"
      },
      "id": "m9vvIvolcch8"
    },
    {
      "cell_type": "code",
      "execution_count": 7,
      "id": "b0cde421",
      "metadata": {
        "id": "b0cde421"
      },
      "outputs": [],
      "source": [
        "# Min-max normalization\n",
        "scaler = MinMaxScaler(feature_range=(0, 1))\n",
        "data_scaled = scaler.fit_transform(np.array(df_Close))"
      ]
    },
    {
      "cell_type": "markdown",
      "source": [
        "### Data splitting"
      ],
      "metadata": {
        "id": "WEnB5G3fcqPg"
      },
      "id": "WEnB5G3fcqPg"
    },
    {
      "cell_type": "code",
      "execution_count": 8,
      "id": "f29f31b1",
      "metadata": {
        "id": "f29f31b1"
      },
      "outputs": [],
      "source": [
        "# Split the data into train, validation, and test dataset in a ratio of 6:2:2\n",
        "train_size = int(len(data_scaled) * 0.6)\n",
        "val_size = int(len(data_scaled) * 0.2)\n",
        "test_size = len(data_scaled) - train_size - val_size\n",
        "\n",
        "train_data = data_scaled[: train_size]\n",
        "val_data = data_scaled[train_size : train_size + val_size]\n",
        "test_data = data_scaled[train_size + val_size :]"
      ]
    },
    {
      "cell_type": "markdown",
      "source": [
        "## Model training and testing"
      ],
      "metadata": {
        "id": "-IFkvqKRgmQX"
      },
      "id": "-IFkvqKRgmQX"
    },
    {
      "cell_type": "code",
      "execution_count": 9,
      "id": "224ff73f",
      "metadata": {
        "id": "224ff73f"
      },
      "outputs": [],
      "source": [
        "# Generating data using the window sliding method\n",
        "def create_dataset(data, window_size):\n",
        "    windows, targets = [], []\n",
        "    for i in range(len(data) - window_size):\n",
        "        windows.append(data[i : (i + window_size), 0])\n",
        "        targets.append(data[i + window_size, 0])\n",
        "    return np.array(windows), np.array(targets)"
      ]
    },
    {
      "cell_type": "markdown",
      "source": [
        "### Building TCANs model"
      ],
      "metadata": {
        "id": "hRDWcZQ0jcRX"
      },
      "id": "hRDWcZQ0jcRX"
    },
    {
      "cell_type": "code",
      "execution_count": 10,
      "id": "HxKvihCf3-C1",
      "metadata": {
        "id": "HxKvihCf3-C1"
      },
      "outputs": [],
      "source": [
        "# Constructing sparse attention layer\n",
        "class AttentionLayer(Layer):\n",
        "    def __init__(self, attention_dim):\n",
        "        super(AttentionLayer, self).__init__()\n",
        "        self.attention_dim = attention_dim\n",
        "\n",
        "    def build(self, input_shape):\n",
        "        self.W1 = Dense(units=self.attention_dim, activation='tanh')\n",
        "        self.W2 = Dense(units=1, activation='linear')\n",
        "        super(AttentionLayer, self).build(input_shape)\n",
        "\n",
        "    def call(self, x):\n",
        "        score = self.W2(self.W1(x))\n",
        "        score = Flatten()(score)\n",
        "        score = Activation('softmax')(score)\n",
        "        score = RepeatVector(x.shape[-1])(score)\n",
        "        score = Permute([2, 1])(score)\n",
        "        return Multiply()([x, score])\n",
        "\n",
        "    def compute_output_shape(self, input_shape):\n",
        "        return input_shape"
      ]
    },
    {
      "cell_type": "code",
      "execution_count": 11,
      "id": "d01b50ee",
      "metadata": {
        "id": "d01b50ee"
      },
      "outputs": [],
      "source": [
        "# Build TCAN model\n",
        "def build_tcan(window_size, input_dim=1, tcn_filters=64, tcn_kernel_size=2, dropout_rate=0.2, attention_dim=16):\n",
        "    inputs = Input(shape=(window_size, input_dim))\n",
        "    x = inputs\n",
        "    x = Conv1D(filters=tcn_filters, kernel_size=tcn_kernel_size, padding='same', activation='relu')(x)\n",
        "    x = SpatialDropout1D(rate=dropout_rate)(x)\n",
        "    x = Conv1D(filters=tcn_filters, kernel_size=tcn_kernel_size, padding='same', activation='relu')(x)\n",
        "    x = SpatialDropout1D(rate=dropout_rate)(x)\n",
        "\n",
        "    # Additive Attention\n",
        "    att = AttentionLayer(attention_dim)(x)\n",
        "    max_pool_att = GlobalMaxPooling1D()(att)\n",
        "    max_pool_x = GlobalMaxPooling1D()(x)\n",
        "    x = concatenate([max_pool_att, max_pool_x])\n",
        "\n",
        "    outputs = Dense(1)(x)\n",
        "\n",
        "    model = Model(inputs=inputs, outputs=outputs)\n",
        "    optimizer = Adam(learning_rate=0.001)\n",
        "    model.compile(loss='mean_absolute_error', optimizer=optimizer)\n",
        "\n",
        "    return model"
      ]
    },
    {
      "cell_type": "markdown",
      "source": [
        "### Learning process with combined parameter optimization"
      ],
      "metadata": {
        "id": "kfSIcYf1jyjU"
      },
      "id": "kfSIcYf1jyjU"
    },
    {
      "cell_type": "code",
      "execution_count": 12,
      "id": "690ac169",
      "metadata": {
        "id": "690ac169"
      },
      "outputs": [],
      "source": [
        "# Initialization of optimization parameters\n",
        "best_mse = float('inf')\n",
        "best_model = None\n",
        "best_window_size = None\n",
        "best_train_windows = None\n",
        "best_train_targets = None\n",
        "best_test_windows = None\n",
        "best_test_targets = None\n",
        "best_val_windows = None\n",
        "best_val_targets = None\n",
        "best_y_pred = None\n",
        "best_mape = np.inf\n",
        "best_rmse = np.inf\n",
        "best_msle = np.inf"
      ]
    },
    {
      "cell_type": "code",
      "source": [
        "# Define the objective function for Optuna optimization\n",
        "def objective(trial):\n",
        "  global best_mse, best_model, best_window_size, best_train_windows\n",
        "  global best_train_targets, best_test_windows, best_test_targets, best_val_windows\n",
        "  global best_val_targets, best_y_pred, best_mape, best_rmse, best_msle\n",
        "\n",
        "  # Define the search space for hyperparameters\n",
        "  window_size = trial.suggest_int(\"window_size\", 10, 100)\n",
        "  tcn_filters = trial.suggest_int(\"tcn_filters\", 32, 128)\n",
        "  tcn_kernel_size = trial.suggest_int(\"tcn_kernel_size\", 2, 5)\n",
        "  dropout_rate = trial.suggest_float(\"dropout_rate\", 0.1, 0.5)\n",
        "  attention_dim = trial.suggest_int(\"attention_dim\", 8, 32)\n",
        "\n",
        "  # Build the TCAN model with the suggested hyperparameters\n",
        "  model = build_tcan(window_size,\n",
        "                     tcn_filters = tcn_filters,\n",
        "                     tcn_kernel_size = tcn_kernel_size,\n",
        "                     dropout_rate = dropout_rate,\n",
        "                     attention_dim = attention_dim)\n",
        "\n",
        "  train_windows, train_targets = create_dataset(train_data, window_size)\n",
        "  test_windows, test_targets = create_dataset(test_data, window_size)\n",
        "  val_windows, val_targets = create_dataset(val_data, window_size)\n",
        "\n",
        "  # Train the model\n",
        "  early_stop = EarlyStopping(monitor='val_loss', patience=5)\n",
        "  model.fit(train_windows, train_targets,\n",
        "            epochs=50, batch_size=32,\n",
        "            validation_data=(val_windows, val_targets),\n",
        "            shuffle=False, callbacks=[early_stop], verbose=0)\n",
        "\n",
        "  # Testing the model on Test dataset\n",
        "  y_pred = model.predict(test_windows)\n",
        "\n",
        "  # Evaluate on MAPE, RMSE, MSLE\n",
        "  temp_test_targets = test_targets\n",
        "  temp_test_targets = scaler.inverse_transform(temp_test_targets.reshape(-1, 1))\n",
        "  y_pred = scaler.inverse_transform(y_pred)\n",
        "\n",
        "  mse = mean_squared_error(temp_test_targets, y_pred)\n",
        "  rmse = np.sqrt(mse)\n",
        "  mape = mean_absolute_percentage_error(temp_test_targets, y_pred)\n",
        "  msle = mean_squared_log_error(temp_test_targets, y_pred)\n",
        "\n",
        "  # Save the best model and related information\n",
        "  if mse < best_mse or best_mse is None:\n",
        "    best_model = model\n",
        "    best_window_size = window_size\n",
        "    best_y_pred = y_pred\n",
        "    best_train_windows = train_windows\n",
        "    best_train_targets = train_targets\n",
        "    best_test_windows = test_windows\n",
        "    best_test_targets = test_targets\n",
        "    best_val_windows = val_windows\n",
        "    best_val_targets = val_targets\n",
        "    best_rmse = rmse\n",
        "    best_mape = mape\n",
        "    best_msle = msle\n",
        "    best_mse = mse\n",
        "\n",
        "  return mse"
      ],
      "metadata": {
        "id": "m3MDjWCd-kl8"
      },
      "id": "m3MDjWCd-kl8",
      "execution_count": 13,
      "outputs": []
    },
    {
      "cell_type": "code",
      "source": [
        "# Define the search space for the hyperparameters\n",
        "study = optuna.create_study(direction=\"minimize\")\n",
        "study.optimize(objective, n_trials=100)"
      ],
      "metadata": {
        "colab": {
          "base_uri": "https://localhost:8080/"
        },
        "id": "tAQaYsmr-mkW",
        "outputId": "e42f7626-7835-46f0-d756-5bd238192b45"
      },
      "id": "tAQaYsmr-mkW",
      "execution_count": 14,
      "outputs": [
        {
          "output_type": "stream",
          "name": "stderr",
          "text": [
            "[I 2023-06-14 15:53:59,844] A new study created in memory with name: no-name-aa8a9a85-b321-490f-9207-8d616a625523\n"
          ]
        },
        {
          "output_type": "stream",
          "name": "stdout",
          "text": [
            "5/5 [==============================] - 0s 6ms/step\n"
          ]
        },
        {
          "output_type": "stream",
          "name": "stderr",
          "text": [
            "[I 2023-06-14 15:54:22,358] Trial 0 finished with value: 5.6438739379822085 and parameters: {'window_size': 91, 'tcn_filters': 61, 'tcn_kernel_size': 4, 'dropout_rate': 0.308885715826885, 'attention_dim': 27}. Best is trial 0 with value: 5.6438739379822085.\n"
          ]
        },
        {
          "output_type": "stream",
          "name": "stdout",
          "text": [
            "6/6 [==============================] - 0s 4ms/step\n"
          ]
        },
        {
          "output_type": "stream",
          "name": "stderr",
          "text": [
            "[I 2023-06-14 15:54:31,467] Trial 1 finished with value: 8.281082279421616 and parameters: {'window_size': 35, 'tcn_filters': 78, 'tcn_kernel_size': 4, 'dropout_rate': 0.3899753591863636, 'attention_dim': 12}. Best is trial 0 with value: 5.6438739379822085.\n"
          ]
        },
        {
          "output_type": "stream",
          "name": "stdout",
          "text": [
            "5/5 [==============================] - 0s 7ms/step\n"
          ]
        },
        {
          "output_type": "stream",
          "name": "stderr",
          "text": [
            "[I 2023-06-14 15:54:43,608] Trial 2 finished with value: 5.093034894530716 and parameters: {'window_size': 66, 'tcn_filters': 89, 'tcn_kernel_size': 2, 'dropout_rate': 0.3681326863522667, 'attention_dim': 14}. Best is trial 2 with value: 5.093034894530716.\n"
          ]
        },
        {
          "output_type": "stream",
          "name": "stdout",
          "text": [
            "4/4 [==============================] - 0s 10ms/step\n"
          ]
        },
        {
          "output_type": "stream",
          "name": "stderr",
          "text": [
            "[I 2023-06-14 15:55:05,979] Trial 3 finished with value: 2.7880504532205075 and parameters: {'window_size': 100, 'tcn_filters': 88, 'tcn_kernel_size': 2, 'dropout_rate': 0.1492542465648748, 'attention_dim': 27}. Best is trial 3 with value: 2.7880504532205075.\n"
          ]
        },
        {
          "output_type": "stream",
          "name": "stdout",
          "text": [
            "5/5 [==============================] - 0s 6ms/step\n"
          ]
        },
        {
          "output_type": "stream",
          "name": "stderr",
          "text": [
            "[I 2023-06-14 15:55:17,792] Trial 4 finished with value: 5.979210978613521 and parameters: {'window_size': 66, 'tcn_filters': 48, 'tcn_kernel_size': 5, 'dropout_rate': 0.2708992234237034, 'attention_dim': 32}. Best is trial 3 with value: 2.7880504532205075.\n"
          ]
        },
        {
          "output_type": "stream",
          "name": "stdout",
          "text": [
            "5/5 [==============================] - 0s 8ms/step\n"
          ]
        },
        {
          "output_type": "stream",
          "name": "stderr",
          "text": [
            "[I 2023-06-14 15:55:35,283] Trial 5 finished with value: 4.656201822762931 and parameters: {'window_size': 92, 'tcn_filters': 66, 'tcn_kernel_size': 5, 'dropout_rate': 0.26954964985862084, 'attention_dim': 15}. Best is trial 3 with value: 2.7880504532205075.\n"
          ]
        },
        {
          "output_type": "stream",
          "name": "stdout",
          "text": [
            "6/6 [==============================] - 0s 10ms/step\n"
          ]
        },
        {
          "output_type": "stream",
          "name": "stderr",
          "text": [
            "[I 2023-06-14 15:55:54,583] Trial 6 finished with value: 13.502296517823533 and parameters: {'window_size': 37, 'tcn_filters': 125, 'tcn_kernel_size': 3, 'dropout_rate': 0.23907028411492887, 'attention_dim': 23}. Best is trial 3 with value: 2.7880504532205075.\n"
          ]
        },
        {
          "output_type": "stream",
          "name": "stdout",
          "text": [
            "5/5 [==============================] - 0s 10ms/step\n"
          ]
        },
        {
          "output_type": "stream",
          "name": "stderr",
          "text": [
            "[I 2023-06-14 15:56:17,110] Trial 7 finished with value: 4.840304382176119 and parameters: {'window_size': 83, 'tcn_filters': 112, 'tcn_kernel_size': 3, 'dropout_rate': 0.4786248456362623, 'attention_dim': 10}. Best is trial 3 with value: 2.7880504532205075.\n"
          ]
        },
        {
          "output_type": "stream",
          "name": "stdout",
          "text": [
            "5/5 [==============================] - 0s 9ms/step\n"
          ]
        },
        {
          "output_type": "stream",
          "name": "stderr",
          "text": [
            "[I 2023-06-14 15:56:39,484] Trial 8 finished with value: 2.474526992304278 and parameters: {'window_size': 80, 'tcn_filters': 117, 'tcn_kernel_size': 2, 'dropout_rate': 0.2983986299377154, 'attention_dim': 16}. Best is trial 8 with value: 2.474526992304278.\n"
          ]
        },
        {
          "output_type": "stream",
          "name": "stdout",
          "text": [
            "5/5 [==============================] - 0s 7ms/step\n"
          ]
        },
        {
          "output_type": "stream",
          "name": "stderr",
          "text": [
            "[I 2023-06-14 15:57:01,948] Trial 9 finished with value: 2.9397198658745607 and parameters: {'window_size': 96, 'tcn_filters': 46, 'tcn_kernel_size': 2, 'dropout_rate': 0.3094215197721975, 'attention_dim': 32}. Best is trial 8 with value: 2.474526992304278.\n"
          ]
        },
        {
          "output_type": "stream",
          "name": "stdout",
          "text": [
            "7/7 [==============================] - 0s 4ms/step\n"
          ]
        },
        {
          "output_type": "stream",
          "name": "stderr",
          "text": [
            "[I 2023-06-14 15:57:10,255] Trial 10 finished with value: 11.823202893096232 and parameters: {'window_size': 16, 'tcn_filters': 106, 'tcn_kernel_size': 3, 'dropout_rate': 0.14343335971336021, 'attention_dim': 18}. Best is trial 8 with value: 2.474526992304278.\n"
          ]
        },
        {
          "output_type": "stream",
          "name": "stdout",
          "text": [
            "5/5 [==============================] - 0s 10ms/step\n"
          ]
        },
        {
          "output_type": "stream",
          "name": "stderr",
          "text": [
            "[I 2023-06-14 15:57:32,767] Trial 11 finished with value: 6.003722664688757 and parameters: {'window_size': 75, 'tcn_filters': 100, 'tcn_kernel_size': 2, 'dropout_rate': 0.11746163365361129, 'attention_dim': 23}. Best is trial 8 with value: 2.474526992304278.\n"
          ]
        },
        {
          "output_type": "stream",
          "name": "stdout",
          "text": [
            "4/4 [==============================] - 0s 11ms/step\n"
          ]
        },
        {
          "output_type": "stream",
          "name": "stderr",
          "text": [
            "[I 2023-06-14 15:57:54,582] Trial 12 finished with value: 4.637946946127806 and parameters: {'window_size': 100, 'tcn_filters': 122, 'tcn_kernel_size': 2, 'dropout_rate': 0.18868216425248419, 'attention_dim': 19}. Best is trial 8 with value: 2.474526992304278.\n"
          ]
        },
        {
          "output_type": "stream",
          "name": "stdout",
          "text": [
            "6/6 [==============================] - 0s 6ms/step\n"
          ]
        },
        {
          "output_type": "stream",
          "name": "stderr",
          "text": [
            "[I 2023-06-14 15:58:17,657] Trial 13 finished with value: 4.056088552723214 and parameters: {'window_size': 52, 'tcn_filters': 91, 'tcn_kernel_size': 2, 'dropout_rate': 0.1889882730439767, 'attention_dim': 26}. Best is trial 8 with value: 2.474526992304278.\n"
          ]
        },
        {
          "output_type": "stream",
          "name": "stdout",
          "text": [
            "5/5 [==============================] - 0s 7ms/step\n"
          ]
        },
        {
          "output_type": "stream",
          "name": "stderr",
          "text": [
            "[I 2023-06-14 15:58:34,920] Trial 14 finished with value: 4.556839672735061 and parameters: {'window_size': 78, 'tcn_filters': 77, 'tcn_kernel_size': 3, 'dropout_rate': 0.10751212182494986, 'attention_dim': 8}. Best is trial 8 with value: 2.474526992304278.\n"
          ]
        },
        {
          "output_type": "stream",
          "name": "stdout",
          "text": [
            "6/6 [==============================] - 0s 6ms/step\n"
          ]
        },
        {
          "output_type": "stream",
          "name": "stderr",
          "text": [
            "[I 2023-06-14 15:58:43,864] Trial 15 finished with value: 6.510328040471431 and parameters: {'window_size': 57, 'tcn_filters': 34, 'tcn_kernel_size': 2, 'dropout_rate': 0.20048627836660646, 'attention_dim': 28}. Best is trial 8 with value: 2.474526992304278.\n"
          ]
        },
        {
          "output_type": "stream",
          "name": "stdout",
          "text": [
            "5/5 [==============================] - 0s 9ms/step\n"
          ]
        },
        {
          "output_type": "stream",
          "name": "stderr",
          "text": [
            "[I 2023-06-14 15:59:03,511] Trial 16 finished with value: 14.877309987598583 and parameters: {'window_size': 84, 'tcn_filters': 96, 'tcn_kernel_size': 4, 'dropout_rate': 0.15454943727967027, 'attention_dim': 22}. Best is trial 8 with value: 2.474526992304278.\n"
          ]
        },
        {
          "output_type": "stream",
          "name": "stdout",
          "text": [
            "5/5 [==============================] - 0s 14ms/step\n"
          ]
        },
        {
          "output_type": "stream",
          "name": "stderr",
          "text": [
            "[I 2023-06-14 15:59:26,077] Trial 17 finished with value: 13.186857803058885 and parameters: {'window_size': 70, 'tcn_filters': 111, 'tcn_kernel_size': 3, 'dropout_rate': 0.2116118025887997, 'attention_dim': 16}. Best is trial 8 with value: 2.474526992304278.\n"
          ]
        },
        {
          "output_type": "stream",
          "name": "stdout",
          "text": [
            "5/5 [==============================] - 0s 9ms/step\n"
          ]
        },
        {
          "output_type": "stream",
          "name": "stderr",
          "text": [
            "[I 2023-06-14 15:59:52,787] Trial 18 finished with value: 4.268970896991755 and parameters: {'window_size': 88, 'tcn_filters': 128, 'tcn_kernel_size': 2, 'dropout_rate': 0.24049804445647066, 'attention_dim': 29}. Best is trial 8 with value: 2.474526992304278.\n"
          ]
        },
        {
          "output_type": "stream",
          "name": "stdout",
          "text": [
            "6/6 [==============================] - 0s 7ms/step\n"
          ]
        },
        {
          "output_type": "stream",
          "name": "stderr",
          "text": [
            "[I 2023-06-14 16:00:04,950] Trial 19 finished with value: 19.058796727306415 and parameters: {'window_size': 55, 'tcn_filters': 83, 'tcn_kernel_size': 3, 'dropout_rate': 0.10020103119310558, 'attention_dim': 21}. Best is trial 8 with value: 2.474526992304278.\n"
          ]
        },
        {
          "output_type": "stream",
          "name": "stdout",
          "text": [
            "4/4 [==============================] - 0s 12ms/step\n"
          ]
        },
        {
          "output_type": "stream",
          "name": "stderr",
          "text": [
            "[I 2023-06-14 16:00:29,949] Trial 20 finished with value: 3.831688362546977 and parameters: {'window_size': 100, 'tcn_filters': 116, 'tcn_kernel_size': 2, 'dropout_rate': 0.152470774144144, 'attention_dim': 17}. Best is trial 8 with value: 2.474526992304278.\n"
          ]
        },
        {
          "output_type": "stream",
          "name": "stdout",
          "text": [
            "4/4 [==============================] - 0s 6ms/step\n"
          ]
        },
        {
          "output_type": "stream",
          "name": "stderr",
          "text": [
            "[I 2023-06-14 16:00:43,876] Trial 21 finished with value: 9.985313730725295 and parameters: {'window_size': 98, 'tcn_filters': 32, 'tcn_kernel_size': 2, 'dropout_rate': 0.336842966107394, 'attention_dim': 32}. Best is trial 8 with value: 2.474526992304278.\n"
          ]
        },
        {
          "output_type": "stream",
          "name": "stdout",
          "text": [
            "5/5 [==============================] - 0s 8ms/step\n"
          ]
        },
        {
          "output_type": "stream",
          "name": "stderr",
          "text": [
            "[I 2023-06-14 16:01:06,357] Trial 22 finished with value: 5.3207849359341965 and parameters: {'window_size': 92, 'tcn_filters': 55, 'tcn_kernel_size': 2, 'dropout_rate': 0.3051541648124829, 'attention_dim': 30}. Best is trial 8 with value: 2.474526992304278.\n"
          ]
        },
        {
          "output_type": "stream",
          "name": "stdout",
          "text": [
            "5/5 [==============================] - 0s 6ms/step\n"
          ]
        },
        {
          "output_type": "stream",
          "name": "stderr",
          "text": [
            "[I 2023-06-14 16:01:29,065] Trial 23 finished with value: 4.491336215514636 and parameters: {'window_size': 80, 'tcn_filters': 68, 'tcn_kernel_size': 2, 'dropout_rate': 0.2699455879420346, 'attention_dim': 25}. Best is trial 8 with value: 2.474526992304278.\n"
          ]
        },
        {
          "output_type": "stream",
          "name": "stdout",
          "text": [
            "5/5 [==============================] - 0s 6ms/step\n"
          ]
        },
        {
          "output_type": "stream",
          "name": "stderr",
          "text": [
            "[I 2023-06-14 16:01:40,148] Trial 24 finished with value: 13.53596224754523 and parameters: {'window_size': 92, 'tcn_filters': 47, 'tcn_kernel_size': 3, 'dropout_rate': 0.34422908649671513, 'attention_dim': 30}. Best is trial 8 with value: 2.474526992304278.\n"
          ]
        },
        {
          "output_type": "stream",
          "name": "stdout",
          "text": [
            "5/5 [==============================] - 0s 9ms/step\n"
          ]
        },
        {
          "output_type": "stream",
          "name": "stderr",
          "text": [
            "[I 2023-06-14 16:01:52,356] Trial 25 finished with value: 10.447428900096853 and parameters: {'window_size': 73, 'tcn_filters': 42, 'tcn_kernel_size': 2, 'dropout_rate': 0.40353119519819947, 'attention_dim': 32}. Best is trial 8 with value: 2.474526992304278.\n"
          ]
        },
        {
          "output_type": "stream",
          "name": "stdout",
          "text": [
            "5/5 [==============================] - 0s 11ms/step\n"
          ]
        },
        {
          "output_type": "stream",
          "name": "stderr",
          "text": [
            "[I 2023-06-14 16:02:07,765] Trial 26 finished with value: 42.992102763635366 and parameters: {'window_size': 84, 'tcn_filters': 71, 'tcn_kernel_size': 3, 'dropout_rate': 0.23848422506979522, 'attention_dim': 25}. Best is trial 8 with value: 2.474526992304278.\n"
          ]
        },
        {
          "output_type": "stream",
          "name": "stdout",
          "text": [
            "5/5 [==============================] - 0s 7ms/step\n"
          ]
        },
        {
          "output_type": "stream",
          "name": "stderr",
          "text": [
            "[I 2023-06-14 16:02:23,171] Trial 27 finished with value: 5.351440716157911 and parameters: {'window_size': 96, 'tcn_filters': 102, 'tcn_kernel_size': 2, 'dropout_rate': 0.2930171057842113, 'attention_dim': 20}. Best is trial 8 with value: 2.474526992304278.\n"
          ]
        },
        {
          "output_type": "stream",
          "name": "stdout",
          "text": [
            "6/6 [==============================] - 0s 5ms/step\n"
          ]
        },
        {
          "output_type": "stream",
          "name": "stderr",
          "text": [
            "[I 2023-06-14 16:02:27,612] Trial 28 finished with value: 37.74947692244854 and parameters: {'window_size': 46, 'tcn_filters': 58, 'tcn_kernel_size': 4, 'dropout_rate': 0.33814385135786373, 'attention_dim': 14}. Best is trial 8 with value: 2.474526992304278.\n"
          ]
        },
        {
          "output_type": "stream",
          "name": "stdout",
          "text": [
            "5/5 [==============================] - 0s 7ms/step\n"
          ]
        },
        {
          "output_type": "stream",
          "name": "stderr",
          "text": [
            "[I 2023-06-14 16:02:43,175] Trial 29 finished with value: 3.0126474870472717 and parameters: {'window_size': 88, 'tcn_filters': 91, 'tcn_kernel_size': 2, 'dropout_rate': 0.3176349724897993, 'attention_dim': 27}. Best is trial 8 with value: 2.474526992304278.\n"
          ]
        },
        {
          "output_type": "stream",
          "name": "stdout",
          "text": [
            "5/5 [==============================] - 0s 12ms/step\n"
          ]
        },
        {
          "output_type": "stream",
          "name": "stderr",
          "text": [
            "[I 2023-06-14 16:03:01,731] Trial 30 finished with value: 18.20698052926773 and parameters: {'window_size': 94, 'tcn_filters': 120, 'tcn_kernel_size': 4, 'dropout_rate': 0.17333279087129053, 'attention_dim': 30}. Best is trial 8 with value: 2.474526992304278.\n"
          ]
        },
        {
          "output_type": "stream",
          "name": "stdout",
          "text": [
            "5/5 [==============================] - 0s 7ms/step\n"
          ]
        },
        {
          "output_type": "stream",
          "name": "stderr",
          "text": [
            "[I 2023-06-14 16:03:14,899] Trial 31 finished with value: 3.0152638912613092 and parameters: {'window_size': 87, 'tcn_filters': 87, 'tcn_kernel_size': 2, 'dropout_rate': 0.3184149758680083, 'attention_dim': 28}. Best is trial 8 with value: 2.474526992304278.\n"
          ]
        },
        {
          "output_type": "stream",
          "name": "stdout",
          "text": [
            "5/5 [==============================] - 0s 8ms/step\n"
          ]
        },
        {
          "output_type": "stream",
          "name": "stderr",
          "text": [
            "[I 2023-06-14 16:03:37,458] Trial 32 finished with value: 5.929824994766565 and parameters: {'window_size': 88, 'tcn_filters': 74, 'tcn_kernel_size': 2, 'dropout_rate': 0.29341267817607136, 'attention_dim': 27}. Best is trial 8 with value: 2.474526992304278.\n"
          ]
        },
        {
          "output_type": "stream",
          "name": "stdout",
          "text": [
            "7/7 [==============================] - 0s 6ms/step\n"
          ]
        },
        {
          "output_type": "stream",
          "name": "stderr",
          "text": [
            "[I 2023-06-14 16:03:44,701] Trial 33 finished with value: 7.274667941413965 and parameters: {'window_size': 16, 'tcn_filters': 94, 'tcn_kernel_size': 2, 'dropout_rate': 0.368543039440115, 'attention_dim': 12}. Best is trial 8 with value: 2.474526992304278.\n"
          ]
        },
        {
          "output_type": "stream",
          "name": "stdout",
          "text": [
            "5/5 [==============================] - 0s 6ms/step\n"
          ]
        },
        {
          "output_type": "stream",
          "name": "stderr",
          "text": [
            "[I 2023-06-14 16:04:03,235] Trial 34 finished with value: 5.51170902581392 and parameters: {'window_size': 65, 'tcn_filters': 81, 'tcn_kernel_size': 2, 'dropout_rate': 0.22100587548465703, 'attention_dim': 25}. Best is trial 8 with value: 2.474526992304278.\n"
          ]
        },
        {
          "output_type": "stream",
          "name": "stdout",
          "text": [
            "5/5 [==============================] - 0s 9ms/step\n"
          ]
        },
        {
          "output_type": "stream",
          "name": "stderr",
          "text": [
            "[I 2023-06-14 16:04:20,177] Trial 35 finished with value: 12.163435824986422 and parameters: {'window_size': 79, 'tcn_filters': 86, 'tcn_kernel_size': 5, 'dropout_rate': 0.2625117955220184, 'attention_dim': 31}. Best is trial 8 with value: 2.474526992304278.\n"
          ]
        },
        {
          "output_type": "stream",
          "name": "stdout",
          "text": [
            "6/6 [==============================] - 1s 8ms/step\n"
          ]
        },
        {
          "output_type": "stream",
          "name": "stderr",
          "text": [
            "[I 2023-06-14 16:04:43,540] Trial 36 finished with value: 8.783087039851498 and parameters: {'window_size': 62, 'tcn_filters': 63, 'tcn_kernel_size': 3, 'dropout_rate': 0.28940367211212564, 'attention_dim': 23}. Best is trial 8 with value: 2.474526992304278.\n"
          ]
        },
        {
          "output_type": "stream",
          "name": "stdout",
          "text": [
            "5/5 [==============================] - 0s 8ms/step\n"
          ]
        },
        {
          "output_type": "stream",
          "name": "stderr",
          "text": [
            "[I 2023-06-14 16:05:06,704] Trial 37 finished with value: 3.2342300926866283 and parameters: {'window_size': 95, 'tcn_filters': 100, 'tcn_kernel_size': 2, 'dropout_rate': 0.3198074248519585, 'attention_dim': 27}. Best is trial 8 with value: 2.474526992304278.\n"
          ]
        },
        {
          "output_type": "stream",
          "name": "stdout",
          "text": [
            "7/7 [==============================] - 0s 5ms/step\n"
          ]
        },
        {
          "output_type": "stream",
          "name": "stderr",
          "text": [
            "[I 2023-06-14 16:05:24,060] Trial 38 finished with value: 6.2656021361128795 and parameters: {'window_size': 31, 'tcn_filters': 106, 'tcn_kernel_size': 3, 'dropout_rate': 0.2559703834005106, 'attention_dim': 12}. Best is trial 8 with value: 2.474526992304278.\n"
          ]
        },
        {
          "output_type": "stream",
          "name": "stdout",
          "text": [
            "5/5 [==============================] - 0s 7ms/step\n"
          ]
        },
        {
          "output_type": "stream",
          "name": "stderr",
          "text": [
            "[I 2023-06-14 16:05:46,803] Trial 39 finished with value: 3.5718642785799455 and parameters: {'window_size': 72, 'tcn_filters': 78, 'tcn_kernel_size': 2, 'dropout_rate': 0.2830300973489579, 'attention_dim': 24}. Best is trial 8 with value: 2.474526992304278.\n"
          ]
        },
        {
          "output_type": "stream",
          "name": "stdout",
          "text": [
            "5/5 [==============================] - 0s 12ms/step\n"
          ]
        },
        {
          "output_type": "stream",
          "name": "stderr",
          "text": [
            "[I 2023-06-14 16:06:02,356] Trial 40 finished with value: 5.005433206662041 and parameters: {'window_size': 89, 'tcn_filters': 111, 'tcn_kernel_size': 5, 'dropout_rate': 0.4083683280880944, 'attention_dim': 14}. Best is trial 8 with value: 2.474526992304278.\n"
          ]
        },
        {
          "output_type": "stream",
          "name": "stdout",
          "text": [
            "5/5 [==============================] - 0s 7ms/step\n"
          ]
        },
        {
          "output_type": "stream",
          "name": "stderr",
          "text": [
            "[I 2023-06-14 16:06:15,219] Trial 41 finished with value: 5.481807232135722 and parameters: {'window_size': 86, 'tcn_filters': 91, 'tcn_kernel_size': 2, 'dropout_rate': 0.31719420799777287, 'attention_dim': 27}. Best is trial 8 with value: 2.474526992304278.\n"
          ]
        },
        {
          "output_type": "stream",
          "name": "stdout",
          "text": [
            "5/5 [==============================] - 0s 7ms/step\n"
          ]
        },
        {
          "output_type": "stream",
          "name": "stderr",
          "text": [
            "[I 2023-06-14 16:06:31,070] Trial 42 finished with value: 4.467844516359031 and parameters: {'window_size': 82, 'tcn_filters': 85, 'tcn_kernel_size': 2, 'dropout_rate': 0.3115986492295449, 'attention_dim': 29}. Best is trial 8 with value: 2.474526992304278.\n"
          ]
        },
        {
          "output_type": "stream",
          "name": "stdout",
          "text": [
            "5/5 [==============================] - 0s 7ms/step\n"
          ]
        },
        {
          "output_type": "stream",
          "name": "stderr",
          "text": [
            "[I 2023-06-14 16:06:45,463] Trial 43 finished with value: 6.427738479104775 and parameters: {'window_size': 91, 'tcn_filters': 96, 'tcn_kernel_size': 2, 'dropout_rate': 0.36084347953950136, 'attention_dim': 28}. Best is trial 8 with value: 2.474526992304278.\n"
          ]
        },
        {
          "output_type": "stream",
          "name": "stdout",
          "text": [
            "4/4 [==============================] - 0s 8ms/step\n"
          ]
        },
        {
          "output_type": "stream",
          "name": "stderr",
          "text": [
            "[I 2023-06-14 16:06:57,584] Trial 44 finished with value: 3.2290741392242253 and parameters: {'window_size': 100, 'tcn_filters': 89, 'tcn_kernel_size': 2, 'dropout_rate': 0.27842659017700877, 'attention_dim': 19}. Best is trial 8 with value: 2.474526992304278.\n"
          ]
        },
        {
          "output_type": "stream",
          "name": "stdout",
          "text": [
            "5/5 [==============================] - 0s 10ms/step\n"
          ]
        },
        {
          "output_type": "stream",
          "name": "stderr",
          "text": [
            "[I 2023-06-14 16:07:20,977] Trial 45 finished with value: 6.989513532548356 and parameters: {'window_size': 75, 'tcn_filters': 74, 'tcn_kernel_size': 2, 'dropout_rate': 0.1209856495705132, 'attention_dim': 29}. Best is trial 8 with value: 2.474526992304278.\n"
          ]
        },
        {
          "output_type": "stream",
          "name": "stdout",
          "text": [
            "5/5 [==============================] - 0s 9ms/step\n"
          ]
        },
        {
          "output_type": "stream",
          "name": "stderr",
          "text": [
            "[I 2023-06-14 16:07:43,221] Trial 46 finished with value: 3.7767082896821806 and parameters: {'window_size': 96, 'tcn_filters': 106, 'tcn_kernel_size': 3, 'dropout_rate': 0.254541961541827, 'attention_dim': 26}. Best is trial 8 with value: 2.474526992304278.\n"
          ]
        },
        {
          "output_type": "stream",
          "name": "stdout",
          "text": [
            "5/5 [==============================] - 0s 8ms/step\n"
          ]
        },
        {
          "output_type": "stream",
          "name": "stderr",
          "text": [
            "[I 2023-06-14 16:08:05,734] Trial 47 finished with value: 3.7927762835660164 and parameters: {'window_size': 77, 'tcn_filters': 54, 'tcn_kernel_size': 2, 'dropout_rate': 0.22443992415093333, 'attention_dim': 31}. Best is trial 8 with value: 2.474526992304278.\n"
          ]
        },
        {
          "output_type": "stream",
          "name": "stdout",
          "text": [
            "7/7 [==============================] - 0s 4ms/step\n"
          ]
        },
        {
          "output_type": "stream",
          "name": "stderr",
          "text": [
            "[I 2023-06-14 16:08:18,628] Trial 48 finished with value: 4.69382574674918 and parameters: {'window_size': 11, 'tcn_filters': 87, 'tcn_kernel_size': 2, 'dropout_rate': 0.3042568890268168, 'attention_dim': 22}. Best is trial 8 with value: 2.474526992304278.\n"
          ]
        },
        {
          "output_type": "stream",
          "name": "stdout",
          "text": [
            "5/5 [==============================] - 0s 5ms/step\n"
          ]
        },
        {
          "output_type": "stream",
          "name": "stderr",
          "text": [
            "[I 2023-06-14 16:08:28,671] Trial 49 finished with value: 8.362654777176182 and parameters: {'window_size': 86, 'tcn_filters': 39, 'tcn_kernel_size': 3, 'dropout_rate': 0.18429442224840675, 'attention_dim': 16}. Best is trial 8 with value: 2.474526992304278.\n"
          ]
        },
        {
          "output_type": "stream",
          "name": "stdout",
          "text": [
            "5/5 [==============================] - 0s 8ms/step\n"
          ]
        },
        {
          "output_type": "stream",
          "name": "stderr",
          "text": [
            "[I 2023-06-14 16:08:51,036] Trial 50 finished with value: 5.043009471374449 and parameters: {'window_size': 82, 'tcn_filters': 94, 'tcn_kernel_size': 2, 'dropout_rate': 0.3288487068262133, 'attention_dim': 31}. Best is trial 8 with value: 2.474526992304278.\n"
          ]
        },
        {
          "output_type": "stream",
          "name": "stdout",
          "text": [
            "4/4 [==============================] - 0s 12ms/step\n"
          ]
        },
        {
          "output_type": "stream",
          "name": "stderr",
          "text": [
            "[I 2023-06-14 16:09:01,378] Trial 51 finished with value: 5.442893791390036 and parameters: {'window_size': 100, 'tcn_filters': 82, 'tcn_kernel_size': 2, 'dropout_rate': 0.27475425215524574, 'attention_dim': 19}. Best is trial 8 with value: 2.474526992304278.\n"
          ]
        },
        {
          "output_type": "stream",
          "name": "stdout",
          "text": [
            "4/4 [==============================] - 0s 12ms/step\n"
          ]
        },
        {
          "output_type": "stream",
          "name": "stderr",
          "text": [
            "[I 2023-06-14 16:09:15,277] Trial 52 finished with value: 6.3452594685171375 and parameters: {'window_size': 97, 'tcn_filters': 89, 'tcn_kernel_size': 2, 'dropout_rate': 0.28451101699189896, 'attention_dim': 18}. Best is trial 8 with value: 2.474526992304278.\n"
          ]
        },
        {
          "output_type": "stream",
          "name": "stdout",
          "text": [
            "5/5 [==============================] - 0s 8ms/step\n"
          ]
        },
        {
          "output_type": "stream",
          "name": "stderr",
          "text": [
            "[I 2023-06-14 16:09:35,952] Trial 53 finished with value: 2.534944841025275 and parameters: {'window_size': 91, 'tcn_filters': 100, 'tcn_kernel_size': 2, 'dropout_rate': 0.3028452939935367, 'attention_dim': 20}. Best is trial 8 with value: 2.474526992304278.\n"
          ]
        },
        {
          "output_type": "stream",
          "name": "stdout",
          "text": [
            "5/5 [==============================] - 0s 13ms/step\n"
          ]
        },
        {
          "output_type": "stream",
          "name": "stderr",
          "text": [
            "[I 2023-06-14 16:09:58,557] Trial 54 finished with value: 3.204597981139815 and parameters: {'window_size': 90, 'tcn_filters': 116, 'tcn_kernel_size': 2, 'dropout_rate': 0.30162232560910274, 'attention_dim': 21}. Best is trial 8 with value: 2.474526992304278.\n"
          ]
        },
        {
          "output_type": "stream",
          "name": "stdout",
          "text": [
            "5/5 [==============================] - 0s 7ms/step\n"
          ]
        },
        {
          "output_type": "stream",
          "name": "stderr",
          "text": [
            "[I 2023-06-14 16:10:16,758] Trial 55 finished with value: 3.19457781204285 and parameters: {'window_size': 93, 'tcn_filters': 103, 'tcn_kernel_size': 2, 'dropout_rate': 0.3214808216679211, 'attention_dim': 28}. Best is trial 8 with value: 2.474526992304278.\n"
          ]
        },
        {
          "output_type": "stream",
          "name": "stdout",
          "text": [
            "5/5 [==============================] - 0s 9ms/step\n"
          ]
        },
        {
          "output_type": "stream",
          "name": "stderr",
          "text": [
            "[I 2023-06-14 16:10:39,185] Trial 56 finished with value: 4.695784574767897 and parameters: {'window_size': 86, 'tcn_filters': 98, 'tcn_kernel_size': 2, 'dropout_rate': 0.3463812693546013, 'attention_dim': 24}. Best is trial 8 with value: 2.474526992304278.\n"
          ]
        },
        {
          "output_type": "stream",
          "name": "stdout",
          "text": [
            "5/5 [==============================] - 0s 17ms/step\n"
          ]
        },
        {
          "output_type": "stream",
          "name": "stderr",
          "text": [
            "[I 2023-06-14 16:10:59,278] Trial 57 finished with value: 3.6043106013325628 and parameters: {'window_size': 89, 'tcn_filters': 124, 'tcn_kernel_size': 3, 'dropout_rate': 0.24507824840495768, 'attention_dim': 17}. Best is trial 8 with value: 2.474526992304278.\n"
          ]
        },
        {
          "output_type": "stream",
          "name": "stdout",
          "text": [
            "5/5 [==============================] - 0s 8ms/step\n"
          ]
        },
        {
          "output_type": "stream",
          "name": "stderr",
          "text": [
            "[I 2023-06-14 16:11:21,877] Trial 58 finished with value: 4.155542519538969 and parameters: {'window_size': 94, 'tcn_filters': 106, 'tcn_kernel_size': 2, 'dropout_rate': 0.3063991495610786, 'attention_dim': 10}. Best is trial 8 with value: 2.474526992304278.\n"
          ]
        },
        {
          "output_type": "stream",
          "name": "stdout",
          "text": [
            "5/5 [==============================] - 0s 9ms/step\n"
          ]
        },
        {
          "output_type": "stream",
          "name": "stderr",
          "text": [
            "[I 2023-06-14 16:11:31,526] Trial 59 finished with value: 7.952163844568149 and parameters: {'window_size': 68, 'tcn_filters': 92, 'tcn_kernel_size': 2, 'dropout_rate': 0.26597629735387396, 'attention_dim': 26}. Best is trial 8 with value: 2.474526992304278.\n"
          ]
        },
        {
          "output_type": "stream",
          "name": "stdout",
          "text": [
            "5/5 [==============================] - 0s 19ms/step\n"
          ]
        },
        {
          "output_type": "stream",
          "name": "stderr",
          "text": [
            "[I 2023-06-14 16:11:54,121] Trial 60 finished with value: 10.299272409500398 and parameters: {'window_size': 80, 'tcn_filters': 114, 'tcn_kernel_size': 2, 'dropout_rate': 0.3279261582610812, 'attention_dim': 21}. Best is trial 8 with value: 2.474526992304278.\n"
          ]
        },
        {
          "output_type": "stream",
          "name": "stdout",
          "text": [
            "5/5 [==============================] - 1s 8ms/step\n"
          ]
        },
        {
          "output_type": "stream",
          "name": "stderr",
          "text": [
            "[I 2023-06-14 16:12:38,764] Trial 61 finished with value: 3.7864951941411817 and parameters: {'window_size': 91, 'tcn_filters': 102, 'tcn_kernel_size': 2, 'dropout_rate': 0.31974115945468573, 'attention_dim': 28}. Best is trial 8 with value: 2.474526992304278.\n"
          ]
        },
        {
          "output_type": "stream",
          "name": "stdout",
          "text": [
            "5/5 [==============================] - 0s 8ms/step\n"
          ]
        },
        {
          "output_type": "stream",
          "name": "stderr",
          "text": [
            "[I 2023-06-14 16:12:58,964] Trial 62 finished with value: 3.0970005694750418 and parameters: {'window_size': 93, 'tcn_filters': 103, 'tcn_kernel_size': 2, 'dropout_rate': 0.29981842096905814, 'attention_dim': 29}. Best is trial 8 with value: 2.474526992304278.\n"
          ]
        },
        {
          "output_type": "stream",
          "name": "stdout",
          "text": [
            "4/4 [==============================] - 0s 14ms/step\n"
          ]
        },
        {
          "output_type": "stream",
          "name": "stderr",
          "text": [
            "[I 2023-06-14 16:13:18,345] Trial 63 finished with value: 3.3176255061698727 and parameters: {'window_size': 97, 'tcn_filters': 110, 'tcn_kernel_size': 2, 'dropout_rate': 0.2892330671163498, 'attention_dim': 30}. Best is trial 8 with value: 2.474526992304278.\n"
          ]
        },
        {
          "output_type": "stream",
          "name": "stdout",
          "text": [
            "5/5 [==============================] - 0s 8ms/step\n"
          ]
        },
        {
          "output_type": "stream",
          "name": "stderr",
          "text": [
            "[I 2023-06-14 16:13:43,560] Trial 64 finished with value: 3.117723159690455 and parameters: {'window_size': 85, 'tcn_filters': 120, 'tcn_kernel_size': 2, 'dropout_rate': 0.3002684781445786, 'attention_dim': 32}. Best is trial 8 with value: 2.474526992304278.\n"
          ]
        },
        {
          "output_type": "stream",
          "name": "stdout",
          "text": [
            "5/5 [==============================] - 0s 8ms/step\n"
          ]
        },
        {
          "output_type": "stream",
          "name": "stderr",
          "text": [
            "[I 2023-06-14 16:13:56,030] Trial 65 finished with value: 4.73317719445128 and parameters: {'window_size': 94, 'tcn_filters': 97, 'tcn_kernel_size': 2, 'dropout_rate': 0.2724416888688086, 'attention_dim': 26}. Best is trial 8 with value: 2.474526992304278.\n"
          ]
        },
        {
          "output_type": "stream",
          "name": "stdout",
          "text": [
            "5/5 [==============================] - 0s 11ms/step\n"
          ]
        },
        {
          "output_type": "stream",
          "name": "stderr",
          "text": [
            "[I 2023-06-14 16:14:16,698] Trial 66 finished with value: 3.6886480189725828 and parameters: {'window_size': 82, 'tcn_filters': 85, 'tcn_kernel_size': 2, 'dropout_rate': 0.35014872464758234, 'attention_dim': 29}. Best is trial 8 with value: 2.474526992304278.\n"
          ]
        },
        {
          "output_type": "stream",
          "name": "stdout",
          "text": [
            "7/7 [==============================] - 0s 4ms/step\n"
          ]
        },
        {
          "output_type": "stream",
          "name": "stderr",
          "text": [
            "[I 2023-06-14 16:14:29,563] Trial 67 finished with value: 7.580105857291735 and parameters: {'window_size': 32, 'tcn_filters': 80, 'tcn_kernel_size': 3, 'dropout_rate': 0.33146665012347565, 'attention_dim': 31}. Best is trial 8 with value: 2.474526992304278.\n"
          ]
        },
        {
          "output_type": "stream",
          "name": "stdout",
          "text": [
            "6/6 [==============================] - 0s 5ms/step\n"
          ]
        },
        {
          "output_type": "stream",
          "name": "stderr",
          "text": [
            "[I 2023-06-14 16:14:52,240] Trial 68 finished with value: 9.29725461230779 and parameters: {'window_size': 43, 'tcn_filters': 93, 'tcn_kernel_size': 2, 'dropout_rate': 0.20341044071491163, 'attention_dim': 15}. Best is trial 8 with value: 2.474526992304278.\n"
          ]
        },
        {
          "output_type": "stream",
          "name": "stdout",
          "text": [
            "4/4 [==============================] - 0s 21ms/step\n"
          ]
        },
        {
          "output_type": "stream",
          "name": "stderr",
          "text": [
            "[I 2023-06-14 16:15:14,747] Trial 69 finished with value: 2.9013683949320916 and parameters: {'window_size': 98, 'tcn_filters': 109, 'tcn_kernel_size': 2, 'dropout_rate': 0.3727477998079328, 'attention_dim': 24}. Best is trial 8 with value: 2.474526992304278.\n"
          ]
        },
        {
          "output_type": "stream",
          "name": "stdout",
          "text": [
            "5/5 [==============================] - 0s 10ms/step\n"
          ]
        },
        {
          "output_type": "stream",
          "name": "stderr",
          "text": [
            "[I 2023-06-14 16:15:38,976] Trial 70 finished with value: 6.450546674293483 and parameters: {'window_size': 88, 'tcn_filters': 110, 'tcn_kernel_size': 3, 'dropout_rate': 0.379035629806892, 'attention_dim': 24}. Best is trial 8 with value: 2.474526992304278.\n"
          ]
        },
        {
          "output_type": "stream",
          "name": "stdout",
          "text": [
            "4/4 [==============================] - 0s 11ms/step\n"
          ]
        },
        {
          "output_type": "stream",
          "name": "stderr",
          "text": [
            "[I 2023-06-14 16:16:01,525] Trial 71 finished with value: 2.4207071608716113 and parameters: {'window_size': 98, 'tcn_filters': 108, 'tcn_kernel_size': 2, 'dropout_rate': 0.3098515960677264, 'attention_dim': 27}. Best is trial 71 with value: 2.4207071608716113.\n"
          ]
        },
        {
          "output_type": "stream",
          "name": "stdout",
          "text": [
            "4/4 [==============================] - 0s 9ms/step\n"
          ]
        },
        {
          "output_type": "stream",
          "name": "stderr",
          "text": [
            "[I 2023-06-14 16:16:29,954] Trial 72 finished with value: 12.223197532988435 and parameters: {'window_size': 100, 'tcn_filters': 100, 'tcn_kernel_size': 2, 'dropout_rate': 0.33716041067630115, 'attention_dim': 25}. Best is trial 71 with value: 2.4207071608716113.\n"
          ]
        },
        {
          "output_type": "stream",
          "name": "stdout",
          "text": [
            "5/5 [==============================] - 0s 8ms/step\n"
          ]
        },
        {
          "output_type": "stream",
          "name": "stderr",
          "text": [
            "[I 2023-06-14 16:16:52,343] Trial 73 finished with value: 2.804615790261486 and parameters: {'window_size': 96, 'tcn_filters': 108, 'tcn_kernel_size': 2, 'dropout_rate': 0.31036112355912265, 'attention_dim': 23}. Best is trial 71 with value: 2.4207071608716113.\n"
          ]
        },
        {
          "output_type": "stream",
          "name": "stdout",
          "text": [
            "4/4 [==============================] - 0s 10ms/step\n"
          ]
        },
        {
          "output_type": "stream",
          "name": "stderr",
          "text": [
            "[I 2023-06-14 16:17:08,123] Trial 74 finished with value: 9.307373780367252 and parameters: {'window_size': 98, 'tcn_filters': 118, 'tcn_kernel_size': 2, 'dropout_rate': 0.3557503673789657, 'attention_dim': 22}. Best is trial 71 with value: 2.4207071608716113.\n"
          ]
        },
        {
          "output_type": "stream",
          "name": "stdout",
          "text": [
            "4/4 [==============================] - 0s 12ms/step\n"
          ]
        },
        {
          "output_type": "stream",
          "name": "stderr",
          "text": [
            "[I 2023-06-14 16:17:31,062] Trial 75 finished with value: 6.355799632329812 and parameters: {'window_size': 97, 'tcn_filters': 106, 'tcn_kernel_size': 2, 'dropout_rate': 0.34246170227294154, 'attention_dim': 24}. Best is trial 71 with value: 2.4207071608716113.\n"
          ]
        },
        {
          "output_type": "stream",
          "name": "stdout",
          "text": [
            "5/5 [==============================] - 0s 10ms/step\n"
          ]
        },
        {
          "output_type": "stream",
          "name": "stderr",
          "text": [
            "[I 2023-06-14 16:18:13,960] Trial 76 finished with value: 2.369749244136042 and parameters: {'window_size': 91, 'tcn_filters': 109, 'tcn_kernel_size': 2, 'dropout_rate': 0.36213528365287284, 'attention_dim': 20}. Best is trial 76 with value: 2.369749244136042.\n"
          ]
        },
        {
          "output_type": "stream",
          "name": "stdout",
          "text": [
            "5/5 [==============================] - 0s 10ms/step\n"
          ]
        },
        {
          "output_type": "stream",
          "name": "stderr",
          "text": [
            "[I 2023-06-14 16:18:30,949] Trial 77 finished with value: 5.630426923151059 and parameters: {'window_size': 91, 'tcn_filters': 114, 'tcn_kernel_size': 2, 'dropout_rate': 0.37366053353719153, 'attention_dim': 20}. Best is trial 76 with value: 2.369749244136042.\n"
          ]
        },
        {
          "output_type": "stream",
          "name": "stdout",
          "text": [
            "4/4 [==============================] - 0s 14ms/step\n"
          ]
        },
        {
          "output_type": "stream",
          "name": "stderr",
          "text": [
            "[I 2023-06-14 16:18:54,809] Trial 78 finished with value: 10.952806091961792 and parameters: {'window_size': 98, 'tcn_filters': 109, 'tcn_kernel_size': 4, 'dropout_rate': 0.39052767111472253, 'attention_dim': 23}. Best is trial 76 with value: 2.369749244136042.\n"
          ]
        },
        {
          "output_type": "stream",
          "name": "stdout",
          "text": [
            "5/5 [==============================] - 0s 9ms/step\n"
          ]
        },
        {
          "output_type": "stream",
          "name": "stderr",
          "text": [
            "[I 2023-06-14 16:19:37,906] Trial 79 finished with value: 4.081463276666245 and parameters: {'window_size': 96, 'tcn_filters': 113, 'tcn_kernel_size': 2, 'dropout_rate': 0.35779882766470517, 'attention_dim': 22}. Best is trial 76 with value: 2.369749244136042.\n"
          ]
        },
        {
          "output_type": "stream",
          "name": "stdout",
          "text": [
            "4/4 [==============================] - 0s 13ms/step\n"
          ]
        },
        {
          "output_type": "stream",
          "name": "stderr",
          "text": [
            "[I 2023-06-14 16:20:00,487] Trial 80 finished with value: 2.8696222378376284 and parameters: {'window_size': 100, 'tcn_filters': 108, 'tcn_kernel_size': 2, 'dropout_rate': 0.2812739659731278, 'attention_dim': 18}. Best is trial 76 with value: 2.369749244136042.\n"
          ]
        },
        {
          "output_type": "stream",
          "name": "stdout",
          "text": [
            "4/4 [==============================] - 0s 9ms/step\n"
          ]
        },
        {
          "output_type": "stream",
          "name": "stderr",
          "text": [
            "[I 2023-06-14 16:20:17,403] Trial 81 finished with value: 3.2683062628188835 and parameters: {'window_size': 100, 'tcn_filters': 108, 'tcn_kernel_size': 2, 'dropout_rate': 0.31123513938124875, 'attention_dim': 20}. Best is trial 76 with value: 2.369749244136042.\n"
          ]
        },
        {
          "output_type": "stream",
          "name": "stdout",
          "text": [
            "5/5 [==============================] - 0s 9ms/step\n"
          ]
        },
        {
          "output_type": "stream",
          "name": "stderr",
          "text": [
            "[I 2023-06-14 16:20:39,594] Trial 82 finished with value: 2.4145448017720557 and parameters: {'window_size': 95, 'tcn_filters': 127, 'tcn_kernel_size': 2, 'dropout_rate': 0.28195842991555015, 'attention_dim': 17}. Best is trial 76 with value: 2.369749244136042.\n"
          ]
        },
        {
          "output_type": "stream",
          "name": "stdout",
          "text": [
            "5/5 [==============================] - 0s 8ms/step\n"
          ]
        },
        {
          "output_type": "stream",
          "name": "stderr",
          "text": [
            "[I 2023-06-14 16:21:06,463] Trial 83 finished with value: 2.5308796733930383 and parameters: {'window_size': 94, 'tcn_filters': 123, 'tcn_kernel_size': 2, 'dropout_rate': 0.28049446630805525, 'attention_dim': 18}. Best is trial 76 with value: 2.369749244136042.\n"
          ]
        },
        {
          "output_type": "stream",
          "name": "stdout",
          "text": [
            "5/5 [==============================] - 0s 10ms/step\n"
          ]
        },
        {
          "output_type": "stream",
          "name": "stderr",
          "text": [
            "[I 2023-06-14 16:21:23,365] Trial 84 finished with value: 8.822093674395145 and parameters: {'window_size': 94, 'tcn_filters': 127, 'tcn_kernel_size': 2, 'dropout_rate': 0.28810613846376504, 'attention_dim': 18}. Best is trial 76 with value: 2.369749244136042.\n"
          ]
        },
        {
          "output_type": "stream",
          "name": "stdout",
          "text": [
            "5/5 [==============================] - 0s 14ms/step\n"
          ]
        },
        {
          "output_type": "stream",
          "name": "stderr",
          "text": [
            "[I 2023-06-14 16:22:06,867] Trial 85 finished with value: 2.5904958529911033 and parameters: {'window_size': 92, 'tcn_filters': 123, 'tcn_kernel_size': 2, 'dropout_rate': 0.2796516970695871, 'attention_dim': 17}. Best is trial 76 with value: 2.369749244136042.\n"
          ]
        },
        {
          "output_type": "stream",
          "name": "stdout",
          "text": [
            "5/5 [==============================] - 0s 10ms/step\n"
          ]
        },
        {
          "output_type": "stream",
          "name": "stderr",
          "text": [
            "[I 2023-06-14 16:22:50,602] Trial 86 finished with value: 3.913535854705279 and parameters: {'window_size': 92, 'tcn_filters': 122, 'tcn_kernel_size': 2, 'dropout_rate': 0.2601015445728585, 'attention_dim': 17}. Best is trial 76 with value: 2.369749244136042.\n"
          ]
        },
        {
          "output_type": "stream",
          "name": "stdout",
          "text": [
            "5/5 [==============================] - 0s 9ms/step\n"
          ]
        },
        {
          "output_type": "stream",
          "name": "stderr",
          "text": [
            "[I 2023-06-14 16:23:11,026] Trial 87 finished with value: 2.2527763501303544 and parameters: {'window_size': 90, 'tcn_filters': 125, 'tcn_kernel_size': 2, 'dropout_rate': 0.24858197900972026, 'attention_dim': 16}. Best is trial 87 with value: 2.2527763501303544.\n"
          ]
        },
        {
          "output_type": "stream",
          "name": "stdout",
          "text": [
            "5/5 [==============================] - 0s 17ms/step\n"
          ]
        },
        {
          "output_type": "stream",
          "name": "stderr",
          "text": [
            "[I 2023-06-14 16:23:32,809] Trial 88 finished with value: 4.084570888439204 and parameters: {'window_size': 90, 'tcn_filters': 125, 'tcn_kernel_size': 2, 'dropout_rate': 0.24930599405298634, 'attention_dim': 15}. Best is trial 87 with value: 2.2527763501303544.\n"
          ]
        },
        {
          "output_type": "stream",
          "name": "stdout",
          "text": [
            "5/5 [==============================] - 0s 9ms/step\n"
          ]
        },
        {
          "output_type": "stream",
          "name": "stderr",
          "text": [
            "[I 2023-06-14 16:23:53,925] Trial 89 finished with value: 2.6720704484790243 and parameters: {'window_size': 84, 'tcn_filters': 128, 'tcn_kernel_size': 2, 'dropout_rate': 0.2720110503233503, 'attention_dim': 16}. Best is trial 87 with value: 2.2527763501303544.\n"
          ]
        },
        {
          "output_type": "stream",
          "name": "stdout",
          "text": [
            "5/5 [==============================] - 0s 8ms/step\n"
          ]
        },
        {
          "output_type": "stream",
          "name": "stderr",
          "text": [
            "[I 2023-06-14 16:24:36,827] Trial 90 finished with value: 2.715809394426477 and parameters: {'window_size': 76, 'tcn_filters': 128, 'tcn_kernel_size': 2, 'dropout_rate': 0.27358222635674717, 'attention_dim': 16}. Best is trial 87 with value: 2.2527763501303544.\n"
          ]
        },
        {
          "output_type": "stream",
          "name": "stdout",
          "text": [
            "5/5 [==============================] - 0s 10ms/step\n"
          ]
        },
        {
          "output_type": "stream",
          "name": "stderr",
          "text": [
            "[I 2023-06-14 16:25:19,724] Trial 91 finished with value: 3.980253793148153 and parameters: {'window_size': 83, 'tcn_filters': 128, 'tcn_kernel_size': 2, 'dropout_rate': 0.2677472526817347, 'attention_dim': 16}. Best is trial 87 with value: 2.2527763501303544.\n"
          ]
        },
        {
          "output_type": "stream",
          "name": "stdout",
          "text": [
            "5/5 [==============================] - 0s 14ms/step\n"
          ]
        },
        {
          "output_type": "stream",
          "name": "stderr",
          "text": [
            "[I 2023-06-14 16:25:41,603] Trial 92 finished with value: 2.7017062379993084 and parameters: {'window_size': 76, 'tcn_filters': 122, 'tcn_kernel_size': 2, 'dropout_rate': 0.2723639595978041, 'attention_dim': 14}. Best is trial 87 with value: 2.2527763501303544.\n"
          ]
        },
        {
          "output_type": "stream",
          "name": "stdout",
          "text": [
            "5/5 [==============================] - 0s 8ms/step\n"
          ]
        },
        {
          "output_type": "stream",
          "name": "stderr",
          "text": [
            "[I 2023-06-14 16:26:04,187] Trial 93 finished with value: 3.7218713129097254 and parameters: {'window_size': 73, 'tcn_filters': 122, 'tcn_kernel_size': 2, 'dropout_rate': 0.29497783090096463, 'attention_dim': 13}. Best is trial 87 with value: 2.2527763501303544.\n"
          ]
        },
        {
          "output_type": "stream",
          "name": "stdout",
          "text": [
            "5/5 [==============================] - 0s 11ms/step\n"
          ]
        },
        {
          "output_type": "stream",
          "name": "stderr",
          "text": [
            "[I 2023-06-14 16:26:26,623] Trial 94 finished with value: 2.5297290166410673 and parameters: {'window_size': 84, 'tcn_filters': 119, 'tcn_kernel_size': 2, 'dropout_rate': 0.26180882012751194, 'attention_dim': 17}. Best is trial 87 with value: 2.2527763501303544.\n"
          ]
        },
        {
          "output_type": "stream",
          "name": "stdout",
          "text": [
            "5/5 [==============================] - 0s 9ms/step\n"
          ]
        },
        {
          "output_type": "stream",
          "name": "stderr",
          "text": [
            "[I 2023-06-14 16:26:48,681] Trial 95 finished with value: 7.448404270294911 and parameters: {'window_size': 84, 'tcn_filters': 119, 'tcn_kernel_size': 2, 'dropout_rate': 0.2366310757269268, 'attention_dim': 17}. Best is trial 87 with value: 2.2527763501303544.\n"
          ]
        },
        {
          "output_type": "stream",
          "name": "stdout",
          "text": [
            "5/5 [==============================] - 0s 8ms/step\n"
          ]
        },
        {
          "output_type": "stream",
          "name": "stderr",
          "text": [
            "[I 2023-06-14 16:27:09,942] Trial 96 finished with value: 2.454064060389551 and parameters: {'window_size': 79, 'tcn_filters': 116, 'tcn_kernel_size': 2, 'dropout_rate': 0.25892983572834155, 'attention_dim': 18}. Best is trial 87 with value: 2.2527763501303544.\n"
          ]
        },
        {
          "output_type": "stream",
          "name": "stdout",
          "text": [
            "5/5 [==============================] - 0s 14ms/step\n"
          ]
        },
        {
          "output_type": "stream",
          "name": "stderr",
          "text": [
            "[I 2023-06-14 16:27:32,227] Trial 97 finished with value: 16.60657138837232 and parameters: {'window_size': 79, 'tcn_filters': 117, 'tcn_kernel_size': 5, 'dropout_rate': 0.2577201090080592, 'attention_dim': 19}. Best is trial 87 with value: 2.2527763501303544.\n"
          ]
        },
        {
          "output_type": "stream",
          "name": "stdout",
          "text": [
            "5/5 [==============================] - 0s 12ms/step\n"
          ]
        },
        {
          "output_type": "stream",
          "name": "stderr",
          "text": [
            "[I 2023-06-14 16:27:51,359] Trial 98 finished with value: 4.112731091556176 and parameters: {'window_size': 87, 'tcn_filters': 116, 'tcn_kernel_size': 2, 'dropout_rate': 0.2843471958977558, 'attention_dim': 19}. Best is trial 87 with value: 2.2527763501303544.\n"
          ]
        },
        {
          "output_type": "stream",
          "name": "stdout",
          "text": [
            "5/5 [==============================] - 0s 12ms/step\n"
          ]
        },
        {
          "output_type": "stream",
          "name": "stderr",
          "text": [
            "[I 2023-06-14 16:28:14,124] Trial 99 finished with value: 6.065318626438988 and parameters: {'window_size': 89, 'tcn_filters': 125, 'tcn_kernel_size': 2, 'dropout_rate': 0.25367182371921104, 'attention_dim': 18}. Best is trial 87 with value: 2.2527763501303544.\n"
          ]
        }
      ]
    },
    {
      "cell_type": "code",
      "source": [
        "# Display the optimal set of parameters\n",
        "best_params = study.best_params\n",
        "print(\"Best Hyperparameters:\", best_params)"
      ],
      "metadata": {
        "colab": {
          "base_uri": "https://localhost:8080/"
        },
        "id": "MIC7AbkU-qLy",
        "outputId": "d68aaba9-d224-46c3-dcd7-6e43865e47c7"
      },
      "id": "MIC7AbkU-qLy",
      "execution_count": 15,
      "outputs": [
        {
          "output_type": "stream",
          "name": "stdout",
          "text": [
            "Best Hyperparameters: {'window_size': 90, 'tcn_filters': 125, 'tcn_kernel_size': 2, 'dropout_rate': 0.24858197900972026, 'attention_dim': 16}\n"
          ]
        }
      ]
    },
    {
      "cell_type": "code",
      "source": [
        "# Evaluate the accuracy of test\n",
        "print(f\"MAPE on Test dataset: \", best_mape)\n",
        "print(f\"RMSE on Test dataset: \", best_rmse)\n",
        "print(f\"MSLE on Test dataset: \", best_msle)"
      ],
      "metadata": {
        "colab": {
          "base_uri": "https://localhost:8080/"
        },
        "id": "gIcsWJky-scK",
        "outputId": "e723feb5-b6e0-42a5-cad4-6d7aee54d68b"
      },
      "id": "gIcsWJky-scK",
      "execution_count": 16,
      "outputs": [
        {
          "output_type": "stream",
          "name": "stdout",
          "text": [
            "MAPE on Test dataset:  0.0167444353502629\n",
            "RMSE on Test dataset:  1.5009251647335233\n",
            "MSLE on Test dataset:  0.00042891462794826795\n"
          ]
        }
      ]
    },
    {
      "cell_type": "markdown",
      "source": [
        "### Save and Load the best model and related information"
      ],
      "metadata": {
        "id": "LAq2jnXOj6aI"
      },
      "id": "LAq2jnXOj6aI"
    },
    {
      "cell_type": "code",
      "source": [
        "# Save the best model and related information\n",
        "best_model.save('/content/drive/MyDrive/Colab Notebooks/Business Data Analysis/NTR/6:2:2/best_model.h5')\n",
        "\n",
        "np.save('/content/drive/MyDrive/Colab Notebooks/Business Data Analysis/NTR/6:2:2/best_window_size.npy', best_window_size)\n",
        "np.save('/content/drive/MyDrive/Colab Notebooks/Business Data Analysis/NTR/6:2:2/best_train_windows.npy', best_train_windows)\n",
        "np.save('/content/drive/MyDrive/Colab Notebooks/Business Data Analysis/NTR/6:2:2/best_train_targets.npy', best_train_targets)\n",
        "np.save('/content/drive/MyDrive/Colab Notebooks/Business Data Analysis/NTR/6:2:2/best_test_windows.npy', best_test_windows)\n",
        "np.save('/content/drive/MyDrive/Colab Notebooks/Business Data Analysis/NTR/6:2:2/best_test_targets.npy', best_test_targets)\n",
        "np.save('/content/drive/MyDrive/Colab Notebooks/Business Data Analysis/NTR/6:2:2/best_val_windows.npy', best_val_windows)\n",
        "np.save('/content/drive/MyDrive/Colab Notebooks/Business Data Analysis/NTR/6:2:2/best_val_targets.npy', best_val_targets)\n",
        "\n",
        "np.save('/content/drive/MyDrive/Colab Notebooks/Business Data Analysis/NTR/6:2:2/best_y_pred.npy', best_y_pred)\n",
        "\n",
        "np.save('/content/drive/MyDrive/Colab Notebooks/Business Data Analysis/NTR/6:2:2/best_mse.npy', best_mse)\n",
        "np.save('/content/drive/MyDrive/Colab Notebooks/Business Data Analysis/NTR/6:2:2/best_rmse.npy', best_rmse)\n",
        "np.save('/content/drive/MyDrive/Colab Notebooks/Business Data Analysis/NTR/6:2:2/best_mape.npy', best_mape)\n",
        "np.save('/content/drive/MyDrive/Colab Notebooks/Business Data Analysis/NTR/6:2:2/best_msle.npy', best_msle)"
      ],
      "metadata": {
        "id": "VOV_a65HsGiB"
      },
      "id": "VOV_a65HsGiB",
      "execution_count": 17,
      "outputs": []
    },
    {
      "cell_type": "code",
      "source": [
        "# Load the best model and related information\n",
        "with custom_object_scope({'AttentionLayer': AttentionLayer}):\n",
        "    loaded_best_model = load_model('/content/drive/MyDrive/Colab Notebooks/Business Data Analysis/NTR/6:2:2/best_model.h5')\n",
        "\n",
        "loaded_best_window_size = np.load('/content/drive/MyDrive/Colab Notebooks/Business Data Analysis/NTR/6:2:2/best_window_size.npy')\n",
        "loaded_best_train_windows = np.load('/content/drive/MyDrive/Colab Notebooks/Business Data Analysis/NTR/6:2:2/best_train_windows.npy')\n",
        "loaded_best_train_targets = np.load('/content/drive/MyDrive/Colab Notebooks/Business Data Analysis/NTR/6:2:2/best_train_targets.npy')\n",
        "loaded_best_test_windows = np.load('/content/drive/MyDrive/Colab Notebooks/Business Data Analysis/NTR/6:2:2/best_test_windows.npy')\n",
        "loaded_best_test_targets = np.load('/content/drive/MyDrive/Colab Notebooks/Business Data Analysis/NTR/6:2:2/best_test_targets.npy')\n",
        "loaded_best_val_windows = np.load('/content/drive/MyDrive/Colab Notebooks/Business Data Analysis/NTR/6:2:2/best_val_windows.npy')\n",
        "loaded_best_val_targets = np.load('/content/drive/MyDrive/Colab Notebooks/Business Data Analysis/NTR/6:2:2/best_val_targets.npy')\n",
        "\n",
        "loaded_best_y_pred = np.load('/content/drive/MyDrive/Colab Notebooks/Business Data Analysis/NTR/6:2:2/best_y_pred.npy')\n",
        "\n",
        "loaded_best_mse = np.load('/content/drive/MyDrive/Colab Notebooks/Business Data Analysis/NTR/6:2:2/best_mse.npy').item()\n",
        "loaded_best_rmse = np.load('/content/drive/MyDrive/Colab Notebooks/Business Data Analysis/NTR/6:2:2/best_rmse.npy').item()\n",
        "loaded_best_mape = np.load('/content/drive/MyDrive/Colab Notebooks/Business Data Analysis/NTR/6:2:2/best_mape.npy').item()\n",
        "loaded_best_msle = np.load('/content/drive/MyDrive/Colab Notebooks/Business Data Analysis/NTR/6:2:2/best_msle.npy').item()"
      ],
      "metadata": {
        "id": "CYIqqiJn-7Jp"
      },
      "id": "CYIqqiJn-7Jp",
      "execution_count": 18,
      "outputs": []
    },
    {
      "cell_type": "markdown",
      "source": [
        "## Predicting the next 30 days"
      ],
      "metadata": {
        "id": "ZV6VbX2qiTJ2"
      },
      "id": "ZV6VbX2qiTJ2"
    },
    {
      "cell_type": "markdown",
      "source": [
        "### Preparing the forecast date index"
      ],
      "metadata": {
        "id": "KheB_eYIiU4b"
      },
      "id": "KheB_eYIiU4b"
    },
    {
      "cell_type": "code",
      "source": [
        "# Get the last date from the current index\n",
        "last_date = df.index[-1]\n",
        "\n",
        "# Add one day to the last date\n",
        "next_date = last_date + pd.DateOffset(days=1)\n",
        "\n",
        "# Create a list of indices starting from the next date for 30 days\n",
        "index_next_30_days = pd.date_range(start=next_date, periods=30).tolist()"
      ],
      "metadata": {
        "id": "nEQ97NJuiPPW"
      },
      "id": "nEQ97NJuiPPW",
      "execution_count": 19,
      "outputs": []
    },
    {
      "cell_type": "markdown",
      "source": [
        "## Prediction process"
      ],
      "metadata": {
        "id": "35CEaBcIiX6-"
      },
      "id": "35CEaBcIiX6-"
    },
    {
      "cell_type": "code",
      "execution_count": 20,
      "id": "45367300",
      "metadata": {
        "colab": {
          "base_uri": "https://localhost:8080/"
        },
        "id": "45367300",
        "outputId": "b00761e0-490f-43d6-f874-9fccdf6df97e"
      },
      "outputs": [
        {
          "output_type": "stream",
          "name": "stdout",
          "text": [
            "1/1 [==============================] - 0s 247ms/step\n",
            "1/1 [==============================] - 0s 35ms/step\n",
            "1/1 [==============================] - 0s 38ms/step\n",
            "1/1 [==============================] - 0s 57ms/step\n",
            "1/1 [==============================] - 0s 36ms/step\n",
            "1/1 [==============================] - 0s 35ms/step\n",
            "1/1 [==============================] - 0s 33ms/step\n",
            "1/1 [==============================] - 0s 54ms/step\n",
            "1/1 [==============================] - 0s 47ms/step\n",
            "1/1 [==============================] - 0s 36ms/step\n",
            "1/1 [==============================] - 0s 34ms/step\n",
            "1/1 [==============================] - 0s 33ms/step\n",
            "1/1 [==============================] - 0s 34ms/step\n",
            "1/1 [==============================] - 0s 37ms/step\n",
            "1/1 [==============================] - 0s 36ms/step\n",
            "1/1 [==============================] - 0s 38ms/step\n",
            "1/1 [==============================] - 0s 38ms/step\n",
            "1/1 [==============================] - 0s 27ms/step\n",
            "1/1 [==============================] - 0s 31ms/step\n",
            "1/1 [==============================] - 0s 23ms/step\n",
            "1/1 [==============================] - 0s 22ms/step\n",
            "1/1 [==============================] - 0s 23ms/step\n",
            "1/1 [==============================] - 0s 25ms/step\n",
            "1/1 [==============================] - 0s 25ms/step\n",
            "1/1 [==============================] - 0s 23ms/step\n",
            "1/1 [==============================] - 0s 25ms/step\n",
            "1/1 [==============================] - 0s 25ms/step\n",
            "1/1 [==============================] - 0s 27ms/step\n",
            "1/1 [==============================] - 0s 23ms/step\n",
            "1/1 [==============================] - 0s 22ms/step\n"
          ]
        }
      ],
      "source": [
        "# Predict the closing price for the next 30 days\n",
        "last_sequence_days = np.array(data_scaled[-best_window_size:]).reshape(1, -1, 1)\n",
        "y_next_30_days = []\n",
        "\n",
        "for i in range(30):\n",
        "    # Predict the next day's closing price\n",
        "    next_day_pred = loaded_best_model.predict(last_sequence_days)\n",
        "\n",
        "    # Save prediction\n",
        "    y_next_30_days.append(next_day_pred[0][0])\n",
        "\n",
        "    # Update data for the next day\n",
        "    last_sequence_days = np.concatenate([last_sequence_days[:, 1:, :], next_day_pred.reshape(1, 1, 1)], axis=1)"
      ]
    },
    {
      "cell_type": "code",
      "source": [
        "print('Predicted closing prices for the next 30 days:')\n",
        "y_next_30_days = scaler.inverse_transform(np.array(y_next_30_days).reshape(-1, 1))\n",
        "print(y_next_30_days.flatten())"
      ],
      "metadata": {
        "id": "nOjX46-5mss1",
        "colab": {
          "base_uri": "https://localhost:8080/"
        },
        "outputId": "0d802753-d32f-4636-fea1-570c28a7ac5f"
      },
      "id": "nOjX46-5mss1",
      "execution_count": 21,
      "outputs": [
        {
          "output_type": "stream",
          "name": "stdout",
          "text": [
            "Predicted closing prices for the next 30 days:\n",
            "[59.21758  58.815746 58.393726 57.950596 57.481762 56.983356 56.45382\n",
            " 55.892345 55.29699  54.664074 53.990307 53.272667 52.515545 51.71672\n",
            " 50.873886 49.983788 49.046547 48.066303 47.087425 46.13161  45.207684\n",
            " 44.33819  43.55154  42.800556 42.0599   41.369297 40.732162 40.06992\n",
            " 39.470825 38.937748]\n"
          ]
        }
      ]
    },
    {
      "cell_type": "markdown",
      "source": [
        "## Visualization"
      ],
      "metadata": {
        "id": "ONh3k9wBids4"
      },
      "id": "ONh3k9wBids4"
    },
    {
      "cell_type": "code",
      "source": [
        "plt.figure(figsize=(12, 5))\n",
        "\n",
        "plt.plot(df.index[:train_size], scaler.inverse_transform(train_data))\n",
        "\n",
        "plt.plot(df.index[train_size : train_size + val_size], scaler.inverse_transform(val_data))\n",
        "\n",
        "plt.plot(df.index[train_size + val_size : ], scaler.inverse_transform(test_data))\n",
        "\n",
        "plt.plot(df.index[train_size + val_size + best_window_size: ], best_y_pred)\n",
        "\n",
        "plt.plot(index_next_30_days, y_next_30_days)\n",
        "\n",
        "plt.legend(['Train', 'Validate', 'Test', 'Predict', 'Predict30days'])\n",
        "\n",
        "plt.grid()\n",
        "plt.title(f\"Nutrien Closing Price Data from {df.index[0].strftime('%Y-%m-%d')} to {index_next_30_days[-1].strftime('%Y-%m-%d')}\")\n",
        "plt.xlabel(\"Date\")\n",
        "plt.ylabel(\"Close value\")\n",
        "plt.savefig('TCAN_622_NTR.png')\n",
        "plt.show()"
      ],
      "metadata": {
        "id": "NwtqPyJeMaGL",
        "colab": {
          "base_uri": "https://localhost:8080/",
          "height": 487
        },
        "outputId": "975c0b72-5ffe-4c7e-bc3a-3a240a28476b"
      },
      "id": "NwtqPyJeMaGL",
      "execution_count": 22,
      "outputs": [
        {
          "output_type": "display_data",
          "data": {
            "text/plain": [
              "<Figure size 1200x500 with 1 Axes>"
            ],
            "image/png": "[encoded data removed]"
          },
          "metadata": {}
        }
      ]
    }
  ],
  "metadata": {
    "colab": {
      "provenance": []
    },
    "kernelspec": {
      "display_name": "Python 3 (ipykernel)",
      "language": "python",
      "name": "python3"
    },
    "language_info": {
      "codemirror_mode": {
        "name": "ipython",
        "version": 3
      },
      "file_extension": ".py",
      "mimetype": "text/x-python",
      "name": "python",
      "nbconvert_exporter": "python",
      "pygments_lexer": "ipython3",
      "version": "3.9.13"
    }
  },
  "nbformat": 4,
  "nbformat_minor": 5
}