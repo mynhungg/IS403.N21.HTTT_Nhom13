{
  "cells": [
    {
      "attachments": {},
      "cell_type": "markdown",
      "id": "Ty-2HmFfAEUU",
      "metadata": {
        "id": "Ty-2HmFfAEUU"
      },
      "source": [
        "## Preparation"
      ]
    },
    {
      "attachments": {},
      "cell_type": "markdown",
      "id": "wCHCM3ifASoq",
      "metadata": {
        "id": "wCHCM3ifASoq"
      },
      "source": [
        "### Download the optimization support library package"
      ]
    },
    {
      "cell_type": "code",
      "execution_count": 1,
      "id": "h-uK9HgR9_AM",
      "metadata": {
        "colab": {
          "base_uri": "https://localhost:8080/"
        },
        "id": "h-uK9HgR9_AM",
        "outputId": "9fcf1781-9228-4508-adb4-14715b504e85"
      },
      "outputs": [
        {
          "name": "stdout",
          "output_type": "stream",
          "text": [
            "Looking in indexes: https://pypi.org/simple, https://us-python.pkg.dev/colab-wheels/public/simple/\n",
            "Collecting optuna\n",
            "  Downloading optuna-3.2.0-py3-none-any.whl (390 kB)\n",
            "\u001b[2K     \u001b[90m━━━━━━━━━━━━━━━━━━━━━━━━━━━━━━━━━━━━━━\u001b[0m \u001b[32m390.6/390.6 kB\u001b[0m \u001b[31m12.2 MB/s\u001b[0m eta \u001b[36m0:00:00\u001b[0m\n",
            "\u001b[?25hCollecting alembic>=1.5.0 (from optuna)\n",
            "  Downloading alembic-1.11.1-py3-none-any.whl (224 kB)\n",
            "\u001b[2K     \u001b[90m━━━━━━━━━━━━━━━━━━━━━━━━━━━━━━━━━━━━━━\u001b[0m \u001b[32m224.5/224.5 kB\u001b[0m \u001b[31m17.7 MB/s\u001b[0m eta \u001b[36m0:00:00\u001b[0m\n",
            "\u001b[?25hCollecting cmaes>=0.9.1 (from optuna)\n",
            "  Downloading cmaes-0.9.1-py3-none-any.whl (21 kB)\n",
            "Collecting colorlog (from optuna)\n",
            "  Downloading colorlog-6.7.0-py2.py3-none-any.whl (11 kB)\n",
            "Requirement already satisfied: numpy in /usr/local/lib/python3.10/dist-packages (from optuna) (1.22.4)\n",
            "Requirement already satisfied: packaging>=20.0 in /usr/local/lib/python3.10/dist-packages (from optuna) (23.1)\n",
            "Requirement already satisfied: sqlalchemy>=1.3.0 in /usr/local/lib/python3.10/dist-packages (from optuna) (2.0.10)\n",
            "Requirement already satisfied: tqdm in /usr/local/lib/python3.10/dist-packages (from optuna) (4.65.0)\n",
            "Requirement already satisfied: PyYAML in /usr/local/lib/python3.10/dist-packages (from optuna) (6.0)\n",
            "Collecting Mako (from alembic>=1.5.0->optuna)\n",
            "  Downloading Mako-1.2.4-py3-none-any.whl (78 kB)\n",
            "\u001b[2K     \u001b[90m━━━━━━━━━━━━━━━━━━━━━━━━━━━━━━━━━━━━━━━━\u001b[0m \u001b[32m78.7/78.7 kB\u001b[0m \u001b[31m6.9 MB/s\u001b[0m eta \u001b[36m0:00:00\u001b[0m\n",
            "\u001b[?25hRequirement already satisfied: typing-extensions>=4 in /usr/local/lib/python3.10/dist-packages (from alembic>=1.5.0->optuna) (4.5.0)\n",
            "Requirement already satisfied: greenlet!=0.4.17 in /usr/local/lib/python3.10/dist-packages (from sqlalchemy>=1.3.0->optuna) (2.0.2)\n",
            "Requirement already satisfied: MarkupSafe>=0.9.2 in /usr/local/lib/python3.10/dist-packages (from Mako->alembic>=1.5.0->optuna) (2.1.2)\n",
            "Installing collected packages: Mako, colorlog, cmaes, alembic, optuna\n",
            "Successfully installed Mako-1.2.4 alembic-1.11.1 cmaes-0.9.1 colorlog-6.7.0 optuna-3.2.0\n"
          ]
        }
      ],
      "source": [
        "!pip install optuna"
      ]
    },
    {
      "attachments": {},
      "cell_type": "markdown",
      "id": "-yVNLlKiAkLO",
      "metadata": {
        "id": "-yVNLlKiAkLO"
      },
      "source": [
        "### Connect to Google Drive"
      ]
    },
    {
      "cell_type": "code",
      "execution_count": 2,
      "id": "O32NLGXv96h9",
      "metadata": {
        "colab": {
          "base_uri": "https://localhost:8080/"
        },
        "id": "O32NLGXv96h9",
        "outputId": "38061c18-20c2-4ec8-e929-9cf7f79f7c7f"
      },
      "outputs": [
        {
          "name": "stdout",
          "output_type": "stream",
          "text": [
            "Mounted at /content/drive\n"
          ]
        }
      ],
      "source": [
        "from google.colab import drive\n",
        "drive.mount('/content/drive', force_remount=True)"
      ]
    },
    {
      "attachments": {},
      "cell_type": "markdown",
      "id": "W53Qynm-ZVZt",
      "metadata": {
        "id": "W53Qynm-ZVZt"
      },
      "source": [
        "## Import Libraries"
      ]
    },
    {
      "cell_type": "code",
      "execution_count": 3,
      "id": "87d177e7",
      "metadata": {
        "id": "87d177e7"
      },
      "outputs": [],
      "source": [
        "# Library to support working with data\n",
        "import numpy as np\n",
        "import pandas as pd\n",
        "\n",
        "# Graphing support library\n",
        "import matplotlib.pyplot as plt\n",
        "\n",
        "# Data Normalization Support Library\n",
        "from sklearn.preprocessing import MinMaxScaler\n",
        "\n",
        "# Library to support building Temporal Convolutional Attention Networks models\n",
        "from tensorflow.keras.models import Model\n",
        "from tensorflow.keras.optimizers import Adam\n",
        "from tensorflow.keras.callbacks import EarlyStopping\n",
        "from tensorflow.keras.layers import Dense, Flatten, Conv1D, MaxPooling1D, GlobalMaxPooling1D, Dropout, SpatialDropout1D\n",
        "from tensorflow.keras.layers import Layer, RepeatVector, concatenate, Reshape, Input, Concatenate, Permute, Multiply, Add, Activation\n",
        "\n",
        "# Performance metrics calculation support library\n",
        "from sklearn.metrics import mean_squared_error, mean_absolute_percentage_error, mean_squared_log_error\n",
        "\n",
        "# Parameter optimization support library\n",
        "import optuna\n",
        "\n",
        "# Support library to ignore warnings\n",
        "import warnings\n",
        "warnings.filterwarnings(\"ignore\")\n",
        "\n",
        "# Support library to load models and data\n",
        "from keras.utils import custom_object_scope\n",
        "from tensorflow.keras.models import load_model"
      ]
    },
    {
      "attachments": {},
      "cell_type": "markdown",
      "id": "-DlshO-2cJbs",
      "metadata": {
        "id": "-DlshO-2cJbs"
      },
      "source": [
        "## Data preprocessing"
      ]
    },
    {
      "attachments": {},
      "cell_type": "markdown",
      "id": "ezxH2qTIcLnT",
      "metadata": {
        "id": "ezxH2qTIcLnT"
      },
      "source": [
        "### Read data"
      ]
    },
    {
      "cell_type": "code",
      "execution_count": 4,
      "id": "77ce5605",
      "metadata": {
        "colab": {
          "base_uri": "https://localhost:8080/",
          "height": 423
        },
        "id": "77ce5605",
        "outputId": "a3d02faf-7b6b-4717-ad04-be5983255277"
      },
      "outputs": [
        {
          "data": {
            "text/html": [
              "\n",
              "  <div id=\"df-e80798af-3071-40fb-b848-d2e8845f3367\">\n",
              "    <div class=\"colab-df-container\">\n",
              "      <div>\n",
              "<style scoped>\n",
              "    .dataframe tbody tr th:only-of-type {\n",
              "        vertical-align: middle;\n",
              "    }\n",
              "\n",
              "    .dataframe tbody tr th {\n",
              "        vertical-align: top;\n",
              "    }\n",
              "\n",
              "    .dataframe thead th {\n",
              "        text-align: right;\n",
              "    }\n",
              "</style>\n",
              "<table border=\"1\" class=\"dataframe\">\n",
              "  <thead>\n",
              "    <tr style=\"text-align: right;\">\n",
              "      <th></th>\n",
              "      <th>Date</th>\n",
              "      <th>Open</th>\n",
              "      <th>High</th>\n",
              "      <th>Low</th>\n",
              "      <th>Close</th>\n",
              "      <th>Adj Close</th>\n",
              "      <th>Volume</th>\n",
              "    </tr>\n",
              "  </thead>\n",
              "  <tbody>\n",
              "    <tr>\n",
              "      <th>0</th>\n",
              "      <td>2019-01-02</td>\n",
              "      <td>30.860001</td>\n",
              "      <td>31.260000</td>\n",
              "      <td>30.240000</td>\n",
              "      <td>30.910000</td>\n",
              "      <td>30.910000</td>\n",
              "      <td>1201700</td>\n",
              "    </tr>\n",
              "    <tr>\n",
              "      <th>1</th>\n",
              "      <td>2019-01-03</td>\n",
              "      <td>30.660000</td>\n",
              "      <td>30.660000</td>\n",
              "      <td>29.290001</td>\n",
              "      <td>29.840000</td>\n",
              "      <td>29.840000</td>\n",
              "      <td>1149900</td>\n",
              "    </tr>\n",
              "    <tr>\n",
              "      <th>2</th>\n",
              "      <td>2019-01-04</td>\n",
              "      <td>30.049999</td>\n",
              "      <td>31.360001</td>\n",
              "      <td>29.940001</td>\n",
              "      <td>31.080000</td>\n",
              "      <td>31.080000</td>\n",
              "      <td>3530400</td>\n",
              "    </tr>\n",
              "    <tr>\n",
              "      <th>3</th>\n",
              "      <td>2019-01-07</td>\n",
              "      <td>31.020000</td>\n",
              "      <td>32.180000</td>\n",
              "      <td>30.850000</td>\n",
              "      <td>32.000000</td>\n",
              "      <td>32.000000</td>\n",
              "      <td>1063400</td>\n",
              "    </tr>\n",
              "    <tr>\n",
              "      <th>4</th>\n",
              "      <td>2019-01-08</td>\n",
              "      <td>32.340000</td>\n",
              "      <td>33.060001</td>\n",
              "      <td>32.150002</td>\n",
              "      <td>32.790001</td>\n",
              "      <td>32.790001</td>\n",
              "      <td>1391000</td>\n",
              "    </tr>\n",
              "    <tr>\n",
              "      <th>...</th>\n",
              "      <td>...</td>\n",
              "      <td>...</td>\n",
              "      <td>...</td>\n",
              "      <td>...</td>\n",
              "      <td>...</td>\n",
              "      <td>...</td>\n",
              "      <td>...</td>\n",
              "    </tr>\n",
              "    <tr>\n",
              "      <th>1114</th>\n",
              "      <td>2023-06-06</td>\n",
              "      <td>37.910000</td>\n",
              "      <td>39.049999</td>\n",
              "      <td>37.580002</td>\n",
              "      <td>38.820000</td>\n",
              "      <td>38.820000</td>\n",
              "      <td>2261700</td>\n",
              "    </tr>\n",
              "    <tr>\n",
              "      <th>1115</th>\n",
              "      <td>2023-06-07</td>\n",
              "      <td>39.160000</td>\n",
              "      <td>40.029999</td>\n",
              "      <td>38.250000</td>\n",
              "      <td>39.959999</td>\n",
              "      <td>39.959999</td>\n",
              "      <td>4382500</td>\n",
              "    </tr>\n",
              "    <tr>\n",
              "      <th>1116</th>\n",
              "      <td>2023-06-08</td>\n",
              "      <td>39.700001</td>\n",
              "      <td>39.840000</td>\n",
              "      <td>36.750000</td>\n",
              "      <td>39.000000</td>\n",
              "      <td>39.000000</td>\n",
              "      <td>9705500</td>\n",
              "    </tr>\n",
              "    <tr>\n",
              "      <th>1117</th>\n",
              "      <td>2023-06-09</td>\n",
              "      <td>39.250000</td>\n",
              "      <td>40.110001</td>\n",
              "      <td>38.480000</td>\n",
              "      <td>38.810001</td>\n",
              "      <td>38.810001</td>\n",
              "      <td>4493800</td>\n",
              "    </tr>\n",
              "    <tr>\n",
              "      <th>1118</th>\n",
              "      <td>2023-06-12</td>\n",
              "      <td>40.490002</td>\n",
              "      <td>44.450001</td>\n",
              "      <td>40.410000</td>\n",
              "      <td>42.779999</td>\n",
              "      <td>42.779999</td>\n",
              "      <td>10155800</td>\n",
              "    </tr>\n",
              "  </tbody>\n",
              "</table>\n",
              "<p>1119 rows × 7 columns</p>\n",
              "</div>\n",
              "      <button class=\"colab-df-convert\" onclick=\"convertToInteractive('df-e80798af-3071-40fb-b848-d2e8845f3367')\"\n",
              "              title=\"Convert this dataframe to an interactive table.\"\n",
              "              style=\"display:none;\">\n",
              "        \n",
              "  <svg xmlns=\"http://www.w3.org/2000/svg\" height=\"24px\"viewBox=\"0 0 24 24\"\n",
              "       width=\"24px\">\n",
              "    <path d=\"M0 0h24v24H0V0z\" fill=\"none\"/>\n",
              "    <path d=\"M18.56 5.44l.94 2.06.94-2.06 2.06-.94-2.06-.94-.94-2.06-.94 2.06-2.06.94zm-11 1L8.5 8.5l.94-2.06 2.06-.94-2.06-.94L8.5 2.5l-.94 2.06-2.06.94zm10 10l.94 2.06.94-2.06 2.06-.94-2.06-.94-.94-2.06-.94 2.06-2.06.94z\"/><path d=\"M17.41 7.96l-1.37-1.37c-.4-.4-.92-.59-1.43-.59-.52 0-1.04.2-1.43.59L10.3 9.45l-7.72 7.72c-.78.78-.78 2.05 0 2.83L4 21.41c.39.39.9.59 1.41.59.51 0 1.02-.2 1.41-.59l7.78-7.78 2.81-2.81c.8-.78.8-2.07 0-2.86zM5.41 20L4 18.59l7.72-7.72 1.47 1.35L5.41 20z\"/>\n",
              "  </svg>\n",
              "      </button>\n",
              "      \n",
              "  <style>\n",
              "    .colab-df-container {\n",
              "      display:flex;\n",
              "      flex-wrap:wrap;\n",
              "      gap: 12px;\n",
              "    }\n",
              "\n",
              "    .colab-df-convert {\n",
              "      background-color: #E8F0FE;\n",
              "      border: none;\n",
              "      border-radius: 50%;\n",
              "      cursor: pointer;\n",
              "      display: none;\n",
              "      fill: #1967D2;\n",
              "      height: 32px;\n",
              "      padding: 0 0 0 0;\n",
              "      width: 32px;\n",
              "    }\n",
              "\n",
              "    .colab-df-convert:hover {\n",
              "      background-color: #E2EBFA;\n",
              "      box-shadow: 0px 1px 2px rgba(60, 64, 67, 0.3), 0px 1px 3px 1px rgba(60, 64, 67, 0.15);\n",
              "      fill: #174EA6;\n",
              "    }\n",
              "\n",
              "    [theme=dark] .colab-df-convert {\n",
              "      background-color: #3B4455;\n",
              "      fill: #D2E3FC;\n",
              "    }\n",
              "\n",
              "    [theme=dark] .colab-df-convert:hover {\n",
              "      background-color: #434B5C;\n",
              "      box-shadow: 0px 1px 3px 1px rgba(0, 0, 0, 0.15);\n",
              "      filter: drop-shadow(0px 1px 2px rgba(0, 0, 0, 0.3));\n",
              "      fill: #FFFFFF;\n",
              "    }\n",
              "  </style>\n",
              "\n",
              "      <script>\n",
              "        const buttonEl =\n",
              "          document.querySelector('#df-e80798af-3071-40fb-b848-d2e8845f3367 button.colab-df-convert');\n",
              "        buttonEl.style.display =\n",
              "          google.colab.kernel.accessAllowed ? 'block' : 'none';\n",
              "\n",
              "        async function convertToInteractive(key) {\n",
              "          const element = document.querySelector('#df-e80798af-3071-40fb-b848-d2e8845f3367');\n",
              "          const dataTable =\n",
              "            await google.colab.kernel.invokeFunction('convertToInteractive',\n",
              "                                                     [key], {});\n",
              "          if (!dataTable) return;\n",
              "\n",
              "          const docLinkHtml = 'Like what you see? Visit the ' +\n",
              "            '<a target=\"_blank\" href=https://colab.research.google.com/notebooks/data_table.ipynb>data table notebook</a>'\n",
              "            + ' to learn more about interactive tables.';\n",
              "          element.innerHTML = '';\n",
              "          dataTable['output_type'] = 'display_data';\n",
              "          await google.colab.output.renderOutput(dataTable, element);\n",
              "          const docLink = document.createElement('div');\n",
              "          docLink.innerHTML = docLinkHtml;\n",
              "          element.appendChild(docLink);\n",
              "        }\n",
              "      </script>\n",
              "    </div>\n",
              "  </div>\n",
              "  "
            ],
            "text/plain": [
              "            Date       Open       High        Low      Close  Adj Close  \\\n",
              "0     2019-01-02  30.860001  31.260000  30.240000  30.910000  30.910000   \n",
              "1     2019-01-03  30.660000  30.660000  29.290001  29.840000  29.840000   \n",
              "2     2019-01-04  30.049999  31.360001  29.940001  31.080000  31.080000   \n",
              "3     2019-01-07  31.020000  32.180000  30.850000  32.000000  32.000000   \n",
              "4     2019-01-08  32.340000  33.060001  32.150002  32.790001  32.790001   \n",
              "...          ...        ...        ...        ...        ...        ...   \n",
              "1114  2023-06-06  37.910000  39.049999  37.580002  38.820000  38.820000   \n",
              "1115  2023-06-07  39.160000  40.029999  38.250000  39.959999  39.959999   \n",
              "1116  2023-06-08  39.700001  39.840000  36.750000  39.000000  39.000000   \n",
              "1117  2023-06-09  39.250000  40.110001  38.480000  38.810001  38.810001   \n",
              "1118  2023-06-12  40.490002  44.450001  40.410000  42.779999  42.779999   \n",
              "\n",
              "        Volume  \n",
              "0      1201700  \n",
              "1      1149900  \n",
              "2      3530400  \n",
              "3      1063400  \n",
              "4      1391000  \n",
              "...        ...  \n",
              "1114   2261700  \n",
              "1115   4382500  \n",
              "1116   9705500  \n",
              "1117   4493800  \n",
              "1118  10155800  \n",
              "\n",
              "[1119 rows x 7 columns]"
            ]
          },
          "execution_count": 4,
          "metadata": {},
          "output_type": "execute_result"
        }
      ],
      "source": [
        "# Load data\n",
        "df = pd.read_csv('CTLT.csv')\n",
        "df"
      ]
    },
    {
      "attachments": {},
      "cell_type": "markdown",
      "id": "muKE0gL7cQs2",
      "metadata": {
        "id": "muKE0gL7cQs2"
      },
      "source": [
        "### Reset index"
      ]
    },
    {
      "cell_type": "code",
      "execution_count": 5,
      "id": "vG4wgXOK2soU",
      "metadata": {
        "id": "vG4wgXOK2soU"
      },
      "outputs": [],
      "source": [
        "# Convert the 'Date' column to datetime format\n",
        "df['Date'] = pd.to_datetime(df['Date'])\n",
        "\n",
        "# Set the 'Date' column as the index value\n",
        "df.set_index('Date', inplace=True)"
      ]
    },
    {
      "cell_type": "code",
      "execution_count": 6,
      "id": "DBeiREWjJ00j",
      "metadata": {
        "id": "DBeiREWjJ00j"
      },
      "outputs": [],
      "source": [
        "# Select column 'Close'\n",
        "df_Close = df[['Close']]\n",
        "df_Close = df_Close.reset_index(drop=True)"
      ]
    },
    {
      "attachments": {},
      "cell_type": "markdown",
      "id": "m9vvIvolcch8",
      "metadata": {
        "id": "m9vvIvolcch8"
      },
      "source": [
        "### Data normalization"
      ]
    },
    {
      "cell_type": "code",
      "execution_count": 7,
      "id": "b0cde421",
      "metadata": {
        "id": "b0cde421"
      },
      "outputs": [],
      "source": [
        "# Min-max normalization\n",
        "scaler = MinMaxScaler(feature_range=(0, 1))\n",
        "data_scaled = scaler.fit_transform(np.array(df_Close))"
      ]
    },
    {
      "attachments": {},
      "cell_type": "markdown",
      "id": "WEnB5G3fcqPg",
      "metadata": {
        "id": "WEnB5G3fcqPg"
      },
      "source": [
        "### Data splitting"
      ]
    },
    {
      "cell_type": "code",
      "execution_count": 8,
      "id": "f29f31b1",
      "metadata": {
        "id": "f29f31b1"
      },
      "outputs": [],
      "source": [
        "# Split the data into train, validation, and test dataset in a ratio of 6:2:2\n",
        "train_size = int(len(data_scaled) * 0.6)\n",
        "val_size = int(len(data_scaled) * 0.2)\n",
        "test_size = len(data_scaled) - train_size - val_size\n",
        "\n",
        "train_data = data_scaled[: train_size]\n",
        "val_data = data_scaled[train_size : train_size + val_size]\n",
        "test_data = data_scaled[train_size + val_size :]"
      ]
    },
    {
      "attachments": {},
      "cell_type": "markdown",
      "id": "-IFkvqKRgmQX",
      "metadata": {
        "id": "-IFkvqKRgmQX"
      },
      "source": [
        "## Model training and testing"
      ]
    },
    {
      "cell_type": "code",
      "execution_count": 9,
      "id": "224ff73f",
      "metadata": {
        "id": "224ff73f"
      },
      "outputs": [],
      "source": [
        "# Generating data using the window sliding method\n",
        "def create_dataset(data, window_size):\n",
        "    windows, targets = [], []\n",
        "    for i in range(len(data) - window_size):\n",
        "        windows.append(data[i : (i + window_size), 0])\n",
        "        targets.append(data[i + window_size, 0])\n",
        "    return np.array(windows), np.array(targets)"
      ]
    },
    {
      "attachments": {},
      "cell_type": "markdown",
      "id": "hRDWcZQ0jcRX",
      "metadata": {
        "id": "hRDWcZQ0jcRX"
      },
      "source": [
        "### Building TCANs model"
      ]
    },
    {
      "cell_type": "code",
      "execution_count": 10,
      "id": "HxKvihCf3-C1",
      "metadata": {
        "id": "HxKvihCf3-C1"
      },
      "outputs": [],
      "source": [
        "# Constructing sparse attention layer\n",
        "class AttentionLayer(Layer):\n",
        "    def __init__(self, attention_dim):\n",
        "        super(AttentionLayer, self).__init__()\n",
        "        self.attention_dim = attention_dim\n",
        "\n",
        "    def build(self, input_shape):\n",
        "        self.W1 = Dense(units=self.attention_dim, activation='tanh')\n",
        "        self.W2 = Dense(units=1, activation='linear')\n",
        "        super(AttentionLayer, self).build(input_shape)\n",
        "\n",
        "    def call(self, x):\n",
        "        score = self.W2(self.W1(x))\n",
        "        score = Flatten()(score)\n",
        "        score = Activation('softmax')(score)\n",
        "        score = RepeatVector(x.shape[-1])(score)\n",
        "        score = Permute([2, 1])(score)\n",
        "        return Multiply()([x, score])\n",
        "\n",
        "    def compute_output_shape(self, input_shape):\n",
        "        return input_shape"
      ]
    },
    {
      "cell_type": "code",
      "execution_count": 11,
      "id": "d01b50ee",
      "metadata": {
        "id": "d01b50ee"
      },
      "outputs": [],
      "source": [
        "# Build TCAN model\n",
        "def build_tcan(window_size, input_dim=1, tcn_filters=64, tcn_kernel_size=2, dropout_rate=0.2, attention_dim=16):\n",
        "    inputs = Input(shape=(window_size, input_dim))\n",
        "    x = inputs\n",
        "    x = Conv1D(filters=tcn_filters, kernel_size=tcn_kernel_size, padding='same', activation='relu')(x)\n",
        "    x = SpatialDropout1D(rate=dropout_rate)(x)\n",
        "    x = Conv1D(filters=tcn_filters, kernel_size=tcn_kernel_size, padding='same', activation='relu')(x)\n",
        "    x = SpatialDropout1D(rate=dropout_rate)(x)\n",
        "\n",
        "    # Additive Attention\n",
        "    att = AttentionLayer(attention_dim)(x)\n",
        "    max_pool_att = GlobalMaxPooling1D()(att)\n",
        "    max_pool_x = GlobalMaxPooling1D()(x)\n",
        "    x = concatenate([max_pool_att, max_pool_x])\n",
        "\n",
        "    outputs = Dense(1)(x)\n",
        "\n",
        "    model = Model(inputs=inputs, outputs=outputs)\n",
        "    optimizer = Adam(learning_rate=0.001)\n",
        "    model.compile(loss='mean_absolute_error', optimizer=optimizer)\n",
        "\n",
        "    return model"
      ]
    },
    {
      "attachments": {},
      "cell_type": "markdown",
      "id": "kfSIcYf1jyjU",
      "metadata": {
        "id": "kfSIcYf1jyjU"
      },
      "source": [
        "### Learning process with combined parameter optimization"
      ]
    },
    {
      "cell_type": "code",
      "execution_count": 12,
      "id": "690ac169",
      "metadata": {
        "id": "690ac169"
      },
      "outputs": [],
      "source": [
        "# Initialization of optimization parameters\n",
        "best_mse = float('inf')\n",
        "best_model = None\n",
        "best_window_size = None\n",
        "best_train_windows = None\n",
        "best_train_targets = None\n",
        "best_test_windows = None\n",
        "best_test_targets = None\n",
        "best_val_windows = None\n",
        "best_val_targets = None\n",
        "best_y_pred = None\n",
        "best_mape = np.inf\n",
        "best_rmse = np.inf\n",
        "best_msle = np.inf"
      ]
    },
    {
      "cell_type": "code",
      "execution_count": 13,
      "id": "m3MDjWCd-kl8",
      "metadata": {
        "id": "m3MDjWCd-kl8"
      },
      "outputs": [],
      "source": [
        "# Define the objective function for Optuna optimization\n",
        "def objective(trial):\n",
        "  global best_mse, best_model, best_window_size, best_train_windows\n",
        "  global best_train_targets, best_test_windows, best_test_targets, best_val_windows\n",
        "  global best_val_targets, best_y_pred, best_mape, best_rmse, best_msle\n",
        "\n",
        "  # Define the search space for hyperparameters\n",
        "  window_size = trial.suggest_int(\"window_size\", 10, 100)\n",
        "  tcn_filters = trial.suggest_int(\"tcn_filters\", 32, 128)\n",
        "  tcn_kernel_size = trial.suggest_int(\"tcn_kernel_size\", 2, 5)\n",
        "  dropout_rate = trial.suggest_float(\"dropout_rate\", 0.1, 0.5)\n",
        "  attention_dim = trial.suggest_int(\"attention_dim\", 8, 32)\n",
        "\n",
        "  # Build the TCAN model with the suggested hyperparameters\n",
        "  model = build_tcan(window_size,\n",
        "                     tcn_filters = tcn_filters,\n",
        "                     tcn_kernel_size = tcn_kernel_size,\n",
        "                     dropout_rate = dropout_rate,\n",
        "                     attention_dim = attention_dim)\n",
        "\n",
        "  train_windows, train_targets = create_dataset(train_data, window_size)\n",
        "  test_windows, test_targets = create_dataset(test_data, window_size)\n",
        "  val_windows, val_targets = create_dataset(val_data, window_size)\n",
        "\n",
        "  # Train the model\n",
        "  early_stop = EarlyStopping(monitor='val_loss', patience=5)\n",
        "  model.fit(train_windows, train_targets,\n",
        "            epochs=50, batch_size=32,\n",
        "            validation_data=(val_windows, val_targets),\n",
        "            shuffle=False, callbacks=[early_stop], verbose=0)\n",
        "\n",
        "  # Testing the model on Test dataset\n",
        "  y_pred = model.predict(test_windows)\n",
        "\n",
        "  # Evaluate on MAPE, RMSE, MSLE\n",
        "  temp_test_targets = test_targets\n",
        "  temp_test_targets = scaler.inverse_transform(temp_test_targets.reshape(-1, 1))\n",
        "  y_pred = scaler.inverse_transform(y_pred)\n",
        "\n",
        "  mse = mean_squared_error(temp_test_targets, y_pred)\n",
        "  rmse = np.sqrt(mse)\n",
        "  mape = mean_absolute_percentage_error(temp_test_targets, y_pred)\n",
        "  msle = mean_squared_log_error(temp_test_targets, y_pred)\n",
        "\n",
        "  # Save the best model and related information\n",
        "  if mse < best_mse or best_mse is None:\n",
        "    best_model = model\n",
        "    best_window_size = window_size\n",
        "    best_y_pred = y_pred\n",
        "    best_train_windows = train_windows\n",
        "    best_train_targets = train_targets\n",
        "    best_test_windows = test_windows\n",
        "    best_test_targets = test_targets\n",
        "    best_val_windows = val_windows\n",
        "    best_val_targets = val_targets\n",
        "    best_rmse = rmse\n",
        "    best_mape = mape\n",
        "    best_msle = msle\n",
        "    best_mse = mse\n",
        "\n",
        "  return mse"
      ]
    },
    {
      "cell_type": "code",
      "execution_count": 14,
      "id": "tAQaYsmr-mkW",
      "metadata": {
        "colab": {
          "base_uri": "https://localhost:8080/"
        },
        "id": "tAQaYsmr-mkW",
        "outputId": "68b33e43-386c-4aa1-9477-9b823f4713e2"
      },
      "outputs": [
        {
          "name": "stderr",
          "output_type": "stream",
          "text": [
            "[I 2023-06-14 15:03:11,938] A new study created in memory with name: no-name-f35a1816-6e53-40d7-98da-690bee69815a\n"
          ]
        },
        {
          "name": "stdout",
          "output_type": "stream",
          "text": [
            "5/5 [==============================] - 0s 12ms/step\n"
          ]
        },
        {
          "name": "stderr",
          "output_type": "stream",
          "text": [
            "[I 2023-06-14 15:03:36,867] Trial 0 finished with value: 461.16203627780095 and parameters: {'window_size': 83, 'tcn_filters': 50, 'tcn_kernel_size': 5, 'dropout_rate': 0.37791209551704386, 'attention_dim': 16}. Best is trial 0 with value: 461.16203627780095.\n"
          ]
        },
        {
          "name": "stdout",
          "output_type": "stream",
          "text": [
            "7/7 [==============================] - 0s 4ms/step\n"
          ]
        },
        {
          "name": "stderr",
          "output_type": "stream",
          "text": [
            "[I 2023-06-14 15:03:41,517] Trial 1 finished with value: 152.8357987023346 and parameters: {'window_size': 30, 'tcn_filters': 69, 'tcn_kernel_size': 3, 'dropout_rate': 0.4061442722488008, 'attention_dim': 31}. Best is trial 1 with value: 152.8357987023346.\n"
          ]
        },
        {
          "name": "stdout",
          "output_type": "stream",
          "text": [
            "5/5 [==============================] - 0s 7ms/step\n"
          ]
        },
        {
          "name": "stderr",
          "output_type": "stream",
          "text": [
            "[I 2023-06-14 15:03:55,894] Trial 2 finished with value: 86.94604797041565 and parameters: {'window_size': 68, 'tcn_filters': 84, 'tcn_kernel_size': 4, 'dropout_rate': 0.11385367788591205, 'attention_dim': 17}. Best is trial 2 with value: 86.94604797041565.\n"
          ]
        },
        {
          "name": "stdout",
          "output_type": "stream",
          "text": [
            "7/7 [==============================] - 0s 5ms/step\n"
          ]
        },
        {
          "name": "stderr",
          "output_type": "stream",
          "text": [
            "[I 2023-06-14 15:04:03,354] Trial 3 finished with value: 27.283957338491863 and parameters: {'window_size': 14, 'tcn_filters': 124, 'tcn_kernel_size': 2, 'dropout_rate': 0.23554057180386337, 'attention_dim': 23}. Best is trial 3 with value: 27.283957338491863.\n"
          ]
        },
        {
          "name": "stdout",
          "output_type": "stream",
          "text": [
            "6/6 [==============================] - 0s 6ms/step\n"
          ]
        },
        {
          "name": "stderr",
          "output_type": "stream",
          "text": [
            "[I 2023-06-14 15:04:11,371] Trial 4 finished with value: 164.61806317302572 and parameters: {'window_size': 46, 'tcn_filters': 63, 'tcn_kernel_size': 5, 'dropout_rate': 0.47085620240261117, 'attention_dim': 30}. Best is trial 3 with value: 27.283957338491863.\n"
          ]
        },
        {
          "name": "stdout",
          "output_type": "stream",
          "text": [
            "7/7 [==============================] - 0s 4ms/step\n"
          ]
        },
        {
          "name": "stderr",
          "output_type": "stream",
          "text": [
            "[I 2023-06-14 15:04:24,077] Trial 5 finished with value: 109.67953517563548 and parameters: {'window_size': 28, 'tcn_filters': 73, 'tcn_kernel_size': 3, 'dropout_rate': 0.30893600392238174, 'attention_dim': 12}. Best is trial 3 with value: 27.283957338491863.\n"
          ]
        },
        {
          "name": "stdout",
          "output_type": "stream",
          "text": [
            "5/5 [==============================] - 0s 5ms/step\n"
          ]
        },
        {
          "name": "stderr",
          "output_type": "stream",
          "text": [
            "[I 2023-06-14 15:04:34,873] Trial 6 finished with value: 218.3711322822123 and parameters: {'window_size': 72, 'tcn_filters': 55, 'tcn_kernel_size': 4, 'dropout_rate': 0.38432614694618583, 'attention_dim': 10}. Best is trial 3 with value: 27.283957338491863.\n"
          ]
        },
        {
          "name": "stdout",
          "output_type": "stream",
          "text": [
            "5/5 [==============================] - 0s 5ms/step\n"
          ]
        },
        {
          "name": "stderr",
          "output_type": "stream",
          "text": [
            "[I 2023-06-14 15:04:41,880] Trial 7 finished with value: 349.5350042068426 and parameters: {'window_size': 76, 'tcn_filters': 42, 'tcn_kernel_size': 2, 'dropout_rate': 0.4290095495297652, 'attention_dim': 19}. Best is trial 3 with value: 27.283957338491863.\n"
          ]
        },
        {
          "name": "stdout",
          "output_type": "stream",
          "text": [
            "6/6 [==============================] - 0s 6ms/step\n"
          ]
        },
        {
          "name": "stderr",
          "output_type": "stream",
          "text": [
            "[I 2023-06-14 15:04:52,062] Trial 8 finished with value: 78.34247168581705 and parameters: {'window_size': 34, 'tcn_filters': 113, 'tcn_kernel_size': 3, 'dropout_rate': 0.3879197771347974, 'attention_dim': 27}. Best is trial 3 with value: 27.283957338491863.\n"
          ]
        },
        {
          "name": "stdout",
          "output_type": "stream",
          "text": [
            "4/4 [==============================] - 0s 11ms/step\n"
          ]
        },
        {
          "name": "stderr",
          "output_type": "stream",
          "text": [
            "[I 2023-06-14 15:05:04,785] Trial 9 finished with value: 269.7009342078718 and parameters: {'window_size': 99, 'tcn_filters': 98, 'tcn_kernel_size': 4, 'dropout_rate': 0.49853096942008746, 'attention_dim': 26}. Best is trial 3 with value: 27.283957338491863.\n"
          ]
        },
        {
          "name": "stdout",
          "output_type": "stream",
          "text": [
            "7/7 [==============================] - 0s 4ms/step\n"
          ]
        },
        {
          "name": "stderr",
          "output_type": "stream",
          "text": [
            "[I 2023-06-14 15:05:10,497] Trial 10 finished with value: 31.919440286597805 and parameters: {'window_size': 13, 'tcn_filters': 120, 'tcn_kernel_size': 2, 'dropout_rate': 0.20276428446363298, 'attention_dim': 24}. Best is trial 3 with value: 27.283957338491863.\n"
          ]
        },
        {
          "name": "stdout",
          "output_type": "stream",
          "text": [
            "7/7 [==============================] - 0s 4ms/step\n"
          ]
        },
        {
          "name": "stderr",
          "output_type": "stream",
          "text": [
            "[I 2023-06-14 15:05:17,929] Trial 11 finished with value: 49.67241322839741 and parameters: {'window_size': 10, 'tcn_filters': 127, 'tcn_kernel_size': 2, 'dropout_rate': 0.20113199672131576, 'attention_dim': 23}. Best is trial 3 with value: 27.283957338491863.\n"
          ]
        },
        {
          "name": "stdout",
          "output_type": "stream",
          "text": [
            "7/7 [==============================] - 0s 4ms/step\n"
          ]
        },
        {
          "name": "stderr",
          "output_type": "stream",
          "text": [
            "[I 2023-06-14 15:05:25,744] Trial 12 finished with value: 34.57236462099951 and parameters: {'window_size': 10, 'tcn_filters': 128, 'tcn_kernel_size': 2, 'dropout_rate': 0.2349785865722597, 'attention_dim': 23}. Best is trial 3 with value: 27.283957338491863.\n"
          ]
        },
        {
          "name": "stdout",
          "output_type": "stream",
          "text": [
            "7/7 [==============================] - 0s 4ms/step\n"
          ]
        },
        {
          "name": "stderr",
          "output_type": "stream",
          "text": [
            "[I 2023-06-14 15:05:38,609] Trial 13 finished with value: 73.22861459472117 and parameters: {'window_size': 21, 'tcn_filters': 106, 'tcn_kernel_size': 2, 'dropout_rate': 0.22334327981410795, 'attention_dim': 23}. Best is trial 3 with value: 27.283957338491863.\n"
          ]
        },
        {
          "name": "stdout",
          "output_type": "stream",
          "text": [
            "6/6 [==============================] - 0s 6ms/step\n"
          ]
        },
        {
          "name": "stderr",
          "output_type": "stream",
          "text": [
            "[I 2023-06-14 15:05:48,732] Trial 14 finished with value: 254.73466335066925 and parameters: {'window_size': 47, 'tcn_filters': 90, 'tcn_kernel_size': 2, 'dropout_rate': 0.1646854729310988, 'attention_dim': 27}. Best is trial 3 with value: 27.283957338491863.\n"
          ]
        },
        {
          "name": "stdout",
          "output_type": "stream",
          "text": [
            "7/7 [==============================] - 0s 5ms/step\n"
          ]
        },
        {
          "name": "stderr",
          "output_type": "stream",
          "text": [
            "[I 2023-06-14 15:05:54,802] Trial 15 finished with value: 113.42877100472717 and parameters: {'window_size': 20, 'tcn_filters': 112, 'tcn_kernel_size': 3, 'dropout_rate': 0.2807547710033202, 'attention_dim': 21}. Best is trial 3 with value: 27.283957338491863.\n"
          ]
        },
        {
          "name": "stdout",
          "output_type": "stream",
          "text": [
            "6/6 [==============================] - 0s 7ms/step\n"
          ]
        },
        {
          "name": "stderr",
          "output_type": "stream",
          "text": [
            "[I 2023-06-14 15:06:08,596] Trial 16 finished with value: 129.2820084997612 and parameters: {'window_size': 42, 'tcn_filters': 118, 'tcn_kernel_size': 2, 'dropout_rate': 0.15344104917745044, 'attention_dim': 14}. Best is trial 3 with value: 27.283957338491863.\n"
          ]
        },
        {
          "name": "stdout",
          "output_type": "stream",
          "text": [
            "6/6 [==============================] - 0s 6ms/step\n"
          ]
        },
        {
          "name": "stderr",
          "output_type": "stream",
          "text": [
            "[I 2023-06-14 15:06:31,436] Trial 17 finished with value: 177.65515179404193 and parameters: {'window_size': 57, 'tcn_filters': 99, 'tcn_kernel_size': 3, 'dropout_rate': 0.2758562154548817, 'attention_dim': 20}. Best is trial 3 with value: 27.283957338491863.\n"
          ]
        },
        {
          "name": "stdout",
          "output_type": "stream",
          "text": [
            "7/7 [==============================] - 0s 7ms/step\n"
          ]
        },
        {
          "name": "stderr",
          "output_type": "stream",
          "text": [
            "[I 2023-06-14 15:06:38,659] Trial 18 finished with value: 70.8511297523794 and parameters: {'window_size': 19, 'tcn_filters': 123, 'tcn_kernel_size': 2, 'dropout_rate': 0.10051309161477412, 'attention_dim': 25}. Best is trial 3 with value: 27.283957338491863.\n"
          ]
        },
        {
          "name": "stdout",
          "output_type": "stream",
          "text": [
            "6/6 [==============================] - 0s 6ms/step\n"
          ]
        },
        {
          "name": "stderr",
          "output_type": "stream",
          "text": [
            "[I 2023-06-14 15:06:55,434] Trial 19 finished with value: 171.70895517591745 and parameters: {'window_size': 60, 'tcn_filters': 103, 'tcn_kernel_size': 3, 'dropout_rate': 0.3380208352213498, 'attention_dim': 29}. Best is trial 3 with value: 27.283957338491863.\n"
          ]
        },
        {
          "name": "stdout",
          "output_type": "stream",
          "text": [
            "6/6 [==============================] - 0s 6ms/step\n"
          ]
        },
        {
          "name": "stderr",
          "output_type": "stream",
          "text": [
            "[I 2023-06-14 15:07:10,276] Trial 20 finished with value: 175.69083405588583 and parameters: {'window_size': 37, 'tcn_filters': 90, 'tcn_kernel_size': 2, 'dropout_rate': 0.25123548544210805, 'attention_dim': 8}. Best is trial 3 with value: 27.283957338491863.\n"
          ]
        },
        {
          "name": "stdout",
          "output_type": "stream",
          "text": [
            "7/7 [==============================] - 0s 4ms/step\n"
          ]
        },
        {
          "name": "stderr",
          "output_type": "stream",
          "text": [
            "[I 2023-06-14 15:07:14,981] Trial 21 finished with value: 47.775916294406265 and parameters: {'window_size': 15, 'tcn_filters': 125, 'tcn_kernel_size': 2, 'dropout_rate': 0.232347676138841, 'attention_dim': 23}. Best is trial 3 with value: 27.283957338491863.\n"
          ]
        },
        {
          "name": "stdout",
          "output_type": "stream",
          "text": [
            "7/7 [==============================] - 0s 6ms/step\n"
          ]
        },
        {
          "name": "stderr",
          "output_type": "stream",
          "text": [
            "[I 2023-06-14 15:07:19,708] Trial 22 finished with value: 89.60212105712891 and parameters: {'window_size': 10, 'tcn_filters': 116, 'tcn_kernel_size': 2, 'dropout_rate': 0.1810420047199054, 'attention_dim': 24}. Best is trial 3 with value: 27.283957338491863.\n"
          ]
        },
        {
          "name": "stdout",
          "output_type": "stream",
          "text": [
            "7/7 [==============================] - 0s 4ms/step\n"
          ]
        },
        {
          "name": "stderr",
          "output_type": "stream",
          "text": [
            "[I 2023-06-14 15:07:32,628] Trial 23 finished with value: 86.94925389512947 and parameters: {'window_size': 26, 'tcn_filters': 128, 'tcn_kernel_size': 2, 'dropout_rate': 0.2096791789779443, 'attention_dim': 21}. Best is trial 3 with value: 27.283957338491863.\n"
          ]
        },
        {
          "name": "stdout",
          "output_type": "stream",
          "text": [
            "7/7 [==============================] - 0s 4ms/step\n"
          ]
        },
        {
          "name": "stderr",
          "output_type": "stream",
          "text": [
            "[I 2023-06-14 15:07:39,948] Trial 24 finished with value: 92.67901658993536 and parameters: {'window_size': 10, 'tcn_filters': 109, 'tcn_kernel_size': 3, 'dropout_rate': 0.24754479426977913, 'attention_dim': 18}. Best is trial 3 with value: 27.283957338491863.\n"
          ]
        },
        {
          "name": "stdout",
          "output_type": "stream",
          "text": [
            "7/7 [==============================] - 0s 4ms/step\n"
          ]
        },
        {
          "name": "stderr",
          "output_type": "stream",
          "text": [
            "[I 2023-06-14 15:07:46,304] Trial 25 finished with value: 52.55623117013303 and parameters: {'window_size': 24, 'tcn_filters': 120, 'tcn_kernel_size': 2, 'dropout_rate': 0.1943188204402881, 'attention_dim': 29}. Best is trial 3 with value: 27.283957338491863.\n"
          ]
        },
        {
          "name": "stdout",
          "output_type": "stream",
          "text": [
            "7/7 [==============================] - 0s 4ms/step\n"
          ]
        },
        {
          "name": "stderr",
          "output_type": "stream",
          "text": [
            "[I 2023-06-14 15:07:52,918] Trial 26 finished with value: 40.35681600029479 and parameters: {'window_size': 16, 'tcn_filters': 119, 'tcn_kernel_size': 3, 'dropout_rate': 0.25191303702541523, 'attention_dim': 22}. Best is trial 3 with value: 27.283957338491863.\n"
          ]
        },
        {
          "name": "stdout",
          "output_type": "stream",
          "text": [
            "7/7 [==============================] - 0s 3ms/step\n"
          ]
        },
        {
          "name": "stderr",
          "output_type": "stream",
          "text": [
            "[I 2023-06-14 15:07:57,417] Trial 27 finished with value: 66.17675339792505 and parameters: {'window_size': 16, 'tcn_filters': 33, 'tcn_kernel_size': 2, 'dropout_rate': 0.15437208496342103, 'attention_dim': 25}. Best is trial 3 with value: 27.283957338491863.\n"
          ]
        },
        {
          "name": "stdout",
          "output_type": "stream",
          "text": [
            "6/6 [==============================] - 0s 6ms/step\n"
          ]
        },
        {
          "name": "stderr",
          "output_type": "stream",
          "text": [
            "[I 2023-06-14 15:08:10,464] Trial 28 finished with value: 94.07279668914971 and parameters: {'window_size': 36, 'tcn_filters': 94, 'tcn_kernel_size': 4, 'dropout_rate': 0.22419395069617534, 'attention_dim': 28}. Best is trial 3 with value: 27.283957338491863.\n"
          ]
        },
        {
          "name": "stdout",
          "output_type": "stream",
          "text": [
            "5/5 [==============================] - 0s 19ms/step\n"
          ]
        },
        {
          "name": "stderr",
          "output_type": "stream",
          "text": [
            "[I 2023-06-14 15:08:33,227] Trial 29 finished with value: 176.0336978222849 and parameters: {'window_size': 85, 'tcn_filters': 107, 'tcn_kernel_size': 5, 'dropout_rate': 0.3344777693647947, 'attention_dim': 16}. Best is trial 3 with value: 27.283957338491863.\n"
          ]
        },
        {
          "name": "stdout",
          "output_type": "stream",
          "text": [
            "7/7 [==============================] - 0s 5ms/step\n"
          ]
        },
        {
          "name": "stderr",
          "output_type": "stream",
          "text": [
            "[I 2023-06-14 15:08:45,872] Trial 30 finished with value: 139.19956547571795 and parameters: {'window_size': 30, 'tcn_filters': 79, 'tcn_kernel_size': 2, 'dropout_rate': 0.1828236922538732, 'attention_dim': 32}. Best is trial 3 with value: 27.283957338491863.\n"
          ]
        },
        {
          "name": "stdout",
          "output_type": "stream",
          "text": [
            "7/7 [==============================] - 0s 4ms/step\n"
          ]
        },
        {
          "name": "stderr",
          "output_type": "stream",
          "text": [
            "[I 2023-06-14 15:08:53,067] Trial 31 finished with value: 72.54879747836581 and parameters: {'window_size': 15, 'tcn_filters': 119, 'tcn_kernel_size': 3, 'dropout_rate': 0.2553362657746947, 'attention_dim': 21}. Best is trial 3 with value: 27.283957338491863.\n"
          ]
        },
        {
          "name": "stdout",
          "output_type": "stream",
          "text": [
            "7/7 [==============================] - 0s 7ms/step\n"
          ]
        },
        {
          "name": "stderr",
          "output_type": "stream",
          "text": [
            "[I 2023-06-14 15:09:02,222] Trial 32 finished with value: 109.21688091174909 and parameters: {'window_size': 16, 'tcn_filters': 128, 'tcn_kernel_size': 3, 'dropout_rate': 0.27644366699805833, 'attention_dim': 22}. Best is trial 3 with value: 27.283957338491863.\n"
          ]
        },
        {
          "name": "stdout",
          "output_type": "stream",
          "text": [
            "7/7 [==============================] - 0s 6ms/step\n"
          ]
        },
        {
          "name": "stderr",
          "output_type": "stream",
          "text": [
            "[I 2023-06-14 15:09:14,500] Trial 33 finished with value: 95.12063227938272 and parameters: {'window_size': 25, 'tcn_filters': 114, 'tcn_kernel_size': 2, 'dropout_rate': 0.23018425560353134, 'attention_dim': 25}. Best is trial 3 with value: 27.283957338491863.\n"
          ]
        },
        {
          "name": "stdout",
          "output_type": "stream",
          "text": [
            "7/7 [==============================] - 0s 4ms/step\n"
          ]
        },
        {
          "name": "stderr",
          "output_type": "stream",
          "text": [
            "[I 2023-06-14 15:09:21,832] Trial 34 finished with value: 78.24596376191042 and parameters: {'window_size': 13, 'tcn_filters': 121, 'tcn_kernel_size': 3, 'dropout_rate': 0.20771416384895083, 'attention_dim': 19}. Best is trial 3 with value: 27.283957338491863.\n"
          ]
        },
        {
          "name": "stdout",
          "output_type": "stream",
          "text": [
            "7/7 [==============================] - 0s 5ms/step\n"
          ]
        },
        {
          "name": "stderr",
          "output_type": "stream",
          "text": [
            "[I 2023-06-14 15:09:34,066] Trial 35 finished with value: 47.16630677142507 and parameters: {'window_size': 20, 'tcn_filters': 122, 'tcn_kernel_size': 4, 'dropout_rate': 0.3022551884341706, 'attention_dim': 22}. Best is trial 3 with value: 27.283957338491863.\n"
          ]
        },
        {
          "name": "stdout",
          "output_type": "stream",
          "text": [
            "7/7 [==============================] - 0s 5ms/step\n"
          ]
        },
        {
          "name": "stderr",
          "output_type": "stream",
          "text": [
            "[I 2023-06-14 15:09:47,266] Trial 36 finished with value: 53.80026276735146 and parameters: {'window_size': 32, 'tcn_filters': 103, 'tcn_kernel_size': 3, 'dropout_rate': 0.13236501637868264, 'attention_dim': 24}. Best is trial 3 with value: 27.283957338491863.\n"
          ]
        },
        {
          "name": "stdout",
          "output_type": "stream",
          "text": [
            "6/6 [==============================] - 0s 6ms/step\n"
          ]
        },
        {
          "name": "stderr",
          "output_type": "stream",
          "text": [
            "[I 2023-06-14 15:10:00,026] Trial 37 finished with value: 118.71278782328788 and parameters: {'window_size': 41, 'tcn_filters': 111, 'tcn_kernel_size': 2, 'dropout_rate': 0.2631034526086188, 'attention_dim': 17}. Best is trial 3 with value: 27.283957338491863.\n"
          ]
        },
        {
          "name": "stdout",
          "output_type": "stream",
          "text": [
            "7/7 [==============================] - 0s 5ms/step\n"
          ]
        },
        {
          "name": "stderr",
          "output_type": "stream",
          "text": [
            "[I 2023-06-14 15:10:04,520] Trial 38 finished with value: 75.09822777830482 and parameters: {'window_size': 27, 'tcn_filters': 65, 'tcn_kernel_size': 5, 'dropout_rate': 0.2919723121480212, 'attention_dim': 19}. Best is trial 3 with value: 27.283957338491863.\n"
          ]
        },
        {
          "name": "stdout",
          "output_type": "stream",
          "text": [
            "6/6 [==============================] - 0s 6ms/step\n"
          ]
        },
        {
          "name": "stderr",
          "output_type": "stream",
          "text": [
            "[I 2023-06-14 15:10:16,751] Trial 39 finished with value: 291.4580761010848 and parameters: {'window_size': 52, 'tcn_filters': 80, 'tcn_kernel_size': 3, 'dropout_rate': 0.24595756411672762, 'attention_dim': 26}. Best is trial 3 with value: 27.283957338491863.\n"
          ]
        },
        {
          "name": "stdout",
          "output_type": "stream",
          "text": [
            "5/5 [==============================] - 0s 5ms/step\n"
          ]
        },
        {
          "name": "stderr",
          "output_type": "stream",
          "text": [
            "[I 2023-06-14 15:10:30,284] Trial 40 finished with value: 288.09198419661743 and parameters: {'window_size': 65, 'tcn_filters': 53, 'tcn_kernel_size': 2, 'dropout_rate': 0.18858764340084486, 'attention_dim': 15}. Best is trial 3 with value: 27.283957338491863.\n"
          ]
        },
        {
          "name": "stdout",
          "output_type": "stream",
          "text": [
            "7/7 [==============================] - 0s 8ms/step\n"
          ]
        },
        {
          "name": "stderr",
          "output_type": "stream",
          "text": [
            "[I 2023-06-14 15:10:37,561] Trial 41 finished with value: 147.24303010931402 and parameters: {'window_size': 20, 'tcn_filters': 124, 'tcn_kernel_size': 4, 'dropout_rate': 0.308157918735755, 'attention_dim': 22}. Best is trial 3 with value: 27.283957338491863.\n"
          ]
        },
        {
          "name": "stdout",
          "output_type": "stream",
          "text": [
            "7/7 [==============================] - 0s 6ms/step\n"
          ]
        },
        {
          "name": "stderr",
          "output_type": "stream",
          "text": [
            "[I 2023-06-14 15:10:46,283] Trial 42 finished with value: 39.59163652503586 and parameters: {'window_size': 22, 'tcn_filters': 116, 'tcn_kernel_size': 4, 'dropout_rate': 0.30402932578655417, 'attention_dim': 22}. Best is trial 3 with value: 27.283957338491863.\n"
          ]
        },
        {
          "name": "stdout",
          "output_type": "stream",
          "text": [
            "7/7 [==============================] - 0s 5ms/step\n"
          ]
        },
        {
          "name": "stderr",
          "output_type": "stream",
          "text": [
            "[I 2023-06-14 15:10:53,371] Trial 43 finished with value: 73.29320398292857 and parameters: {'window_size': 10, 'tcn_filters': 116, 'tcn_kernel_size': 4, 'dropout_rate': 0.21702626708651873, 'attention_dim': 24}. Best is trial 3 with value: 27.283957338491863.\n"
          ]
        },
        {
          "name": "stdout",
          "output_type": "stream",
          "text": [
            "7/7 [==============================] - 0s 7ms/step\n"
          ]
        },
        {
          "name": "stderr",
          "output_type": "stream",
          "text": [
            "[I 2023-06-14 15:11:06,992] Trial 44 finished with value: 63.47004768287855 and parameters: {'window_size': 24, 'tcn_filters': 114, 'tcn_kernel_size': 4, 'dropout_rate': 0.23278279351558173, 'attention_dim': 20}. Best is trial 3 with value: 27.283957338491863.\n"
          ]
        },
        {
          "name": "stdout",
          "output_type": "stream",
          "text": [
            "7/7 [==============================] - 0s 5ms/step\n"
          ]
        },
        {
          "name": "stderr",
          "output_type": "stream",
          "text": [
            "[I 2023-06-14 15:11:14,539] Trial 45 finished with value: 281.7605583891526 and parameters: {'window_size': 14, 'tcn_filters': 124, 'tcn_kernel_size': 4, 'dropout_rate': 0.2652493994732601, 'attention_dim': 27}. Best is trial 3 with value: 27.283957338491863.\n"
          ]
        },
        {
          "name": "stdout",
          "output_type": "stream",
          "text": [
            "7/7 [==============================] - 0s 5ms/step\n"
          ]
        },
        {
          "name": "stderr",
          "output_type": "stream",
          "text": [
            "[I 2023-06-14 15:11:23,911] Trial 46 finished with value: 67.71444258531534 and parameters: {'window_size': 18, 'tcn_filters': 103, 'tcn_kernel_size': 5, 'dropout_rate': 0.32099193998693193, 'attention_dim': 23}. Best is trial 3 with value: 27.283957338491863.\n"
          ]
        },
        {
          "name": "stdout",
          "output_type": "stream",
          "text": [
            "7/7 [==============================] - 0s 4ms/step\n"
          ]
        },
        {
          "name": "stderr",
          "output_type": "stream",
          "text": [
            "[I 2023-06-14 15:11:31,034] Trial 47 finished with value: 52.720983527714864 and parameters: {'window_size': 23, 'tcn_filters': 118, 'tcn_kernel_size': 2, 'dropout_rate': 0.2891697272898245, 'attention_dim': 26}. Best is trial 3 with value: 27.283957338491863.\n"
          ]
        },
        {
          "name": "stdout",
          "output_type": "stream",
          "text": [
            "7/7 [==============================] - 0s 5ms/step\n"
          ]
        },
        {
          "name": "stderr",
          "output_type": "stream",
          "text": [
            "[I 2023-06-14 15:11:41,682] Trial 48 finished with value: 61.51521461044276 and parameters: {'window_size': 29, 'tcn_filters': 110, 'tcn_kernel_size': 3, 'dropout_rate': 0.2657553025693614, 'attention_dim': 21}. Best is trial 3 with value: 27.283957338491863.\n"
          ]
        },
        {
          "name": "stdout",
          "output_type": "stream",
          "text": [
            "5/5 [==============================] - 0s 7ms/step\n"
          ]
        },
        {
          "name": "stderr",
          "output_type": "stream",
          "text": [
            "[I 2023-06-14 15:12:04,096] Trial 49 finished with value: 360.0270499399946 and parameters: {'window_size': 83, 'tcn_filters': 97, 'tcn_kernel_size': 2, 'dropout_rate': 0.2051894326304772, 'attention_dim': 20}. Best is trial 3 with value: 27.283957338491863.\n"
          ]
        },
        {
          "name": "stdout",
          "output_type": "stream",
          "text": [
            "4/4 [==============================] - 0s 14ms/step\n"
          ]
        },
        {
          "name": "stderr",
          "output_type": "stream",
          "text": [
            "[I 2023-06-14 15:12:23,476] Trial 50 finished with value: 220.6601316861024 and parameters: {'window_size': 100, 'tcn_filters': 128, 'tcn_kernel_size': 4, 'dropout_rate': 0.23831328593275414, 'attention_dim': 18}. Best is trial 3 with value: 27.283957338491863.\n"
          ]
        },
        {
          "name": "stdout",
          "output_type": "stream",
          "text": [
            "7/7 [==============================] - 0s 9ms/step\n"
          ]
        },
        {
          "name": "stderr",
          "output_type": "stream",
          "text": [
            "[I 2023-06-14 15:12:30,631] Trial 51 finished with value: 93.65899414299493 and parameters: {'window_size': 20, 'tcn_filters': 121, 'tcn_kernel_size': 4, 'dropout_rate': 0.2883414294057152, 'attention_dim': 22}. Best is trial 3 with value: 27.283957338491863.\n"
          ]
        },
        {
          "name": "stdout",
          "output_type": "stream",
          "text": [
            "7/7 [==============================] - 1s 5ms/step\n"
          ]
        },
        {
          "name": "stderr",
          "output_type": "stream",
          "text": [
            "[I 2023-06-14 15:12:37,535] Trial 52 finished with value: 65.42888432249462 and parameters: {'window_size': 13, 'tcn_filters': 123, 'tcn_kernel_size': 4, 'dropout_rate': 0.3029458512570042, 'attention_dim': 22}. Best is trial 3 with value: 27.283957338491863.\n"
          ]
        },
        {
          "name": "stdout",
          "output_type": "stream",
          "text": [
            "7/7 [==============================] - 0s 7ms/step\n"
          ]
        },
        {
          "name": "stderr",
          "output_type": "stream",
          "text": [
            "[I 2023-06-14 15:12:45,078] Trial 53 finished with value: 33.18428459921662 and parameters: {'window_size': 17, 'tcn_filters': 117, 'tcn_kernel_size': 4, 'dropout_rate': 0.27000454541995644, 'attention_dim': 24}. Best is trial 3 with value: 27.283957338491863.\n"
          ]
        },
        {
          "name": "stdout",
          "output_type": "stream",
          "text": [
            "7/7 [==============================] - 0s 5ms/step\n"
          ]
        },
        {
          "name": "stderr",
          "output_type": "stream",
          "text": [
            "[I 2023-06-14 15:12:52,558] Trial 54 finished with value: 193.8111404046717 and parameters: {'window_size': 17, 'tcn_filters': 116, 'tcn_kernel_size': 4, 'dropout_rate': 0.24633565354432577, 'attention_dim': 24}. Best is trial 3 with value: 27.283957338491863.\n"
          ]
        },
        {
          "name": "stdout",
          "output_type": "stream",
          "text": [
            "7/7 [==============================] - 0s 4ms/step\n"
          ]
        },
        {
          "name": "stderr",
          "output_type": "stream",
          "text": [
            "[I 2023-06-14 15:13:04,788] Trial 55 finished with value: 38.149395372156455 and parameters: {'window_size': 12, 'tcn_filters': 106, 'tcn_kernel_size': 2, 'dropout_rate': 0.21641963721608257, 'attention_dim': 23}. Best is trial 3 with value: 27.283957338491863.\n"
          ]
        },
        {
          "name": "stdout",
          "output_type": "stream",
          "text": [
            "7/7 [==============================] - 0s 4ms/step\n"
          ]
        },
        {
          "name": "stderr",
          "output_type": "stream",
          "text": [
            "[I 2023-06-14 15:13:11,175] Trial 56 finished with value: 34.05583057456326 and parameters: {'window_size': 12, 'tcn_filters': 108, 'tcn_kernel_size': 2, 'dropout_rate': 0.216424498607981, 'attention_dim': 25}. Best is trial 3 with value: 27.283957338491863.\n"
          ]
        },
        {
          "name": "stdout",
          "output_type": "stream",
          "text": [
            "7/7 [==============================] - 0s 4ms/step\n"
          ]
        },
        {
          "name": "stderr",
          "output_type": "stream",
          "text": [
            "[I 2023-06-14 15:13:18,984] Trial 57 finished with value: 29.15224803384516 and parameters: {'window_size': 10, 'tcn_filters': 105, 'tcn_kernel_size': 2, 'dropout_rate': 0.17166751646290845, 'attention_dim': 27}. Best is trial 3 with value: 27.283957338491863.\n"
          ]
        },
        {
          "name": "stdout",
          "output_type": "stream",
          "text": [
            "7/7 [==============================] - 0s 5ms/step\n"
          ]
        },
        {
          "name": "stderr",
          "output_type": "stream",
          "text": [
            "[I 2023-06-14 15:13:26,105] Trial 58 finished with value: 32.565961209248606 and parameters: {'window_size': 10, 'tcn_filters': 86, 'tcn_kernel_size': 2, 'dropout_rate': 0.17509552936337977, 'attention_dim': 28}. Best is trial 3 with value: 27.283957338491863.\n"
          ]
        },
        {
          "name": "stdout",
          "output_type": "stream",
          "text": [
            "7/7 [==============================] - 0s 3ms/step\n"
          ]
        },
        {
          "name": "stderr",
          "output_type": "stream",
          "text": [
            "[I 2023-06-14 15:13:33,942] Trial 59 finished with value: 35.36327355804289 and parameters: {'window_size': 10, 'tcn_filters': 71, 'tcn_kernel_size': 2, 'dropout_rate': 0.1726217589870198, 'attention_dim': 30}. Best is trial 3 with value: 27.283957338491863.\n"
          ]
        },
        {
          "name": "stdout",
          "output_type": "stream",
          "text": [
            "7/7 [==============================] - 0s 4ms/step\n"
          ]
        },
        {
          "name": "stderr",
          "output_type": "stream",
          "text": [
            "[I 2023-06-14 15:13:41,085] Trial 60 finished with value: 67.94939775660902 and parameters: {'window_size': 13, 'tcn_filters': 87, 'tcn_kernel_size': 2, 'dropout_rate': 0.16999884593414225, 'attention_dim': 28}. Best is trial 3 with value: 27.283957338491863.\n"
          ]
        },
        {
          "name": "stdout",
          "output_type": "stream",
          "text": [
            "7/7 [==============================] - 0s 6ms/step\n"
          ]
        },
        {
          "name": "stderr",
          "output_type": "stream",
          "text": [
            "[I 2023-06-14 15:13:47,792] Trial 61 finished with value: 48.373941969256975 and parameters: {'window_size': 17, 'tcn_filters': 99, 'tcn_kernel_size': 2, 'dropout_rate': 0.2020107276861659, 'attention_dim': 28}. Best is trial 3 with value: 27.283957338491863.\n"
          ]
        },
        {
          "name": "stdout",
          "output_type": "stream",
          "text": [
            "7/7 [==============================] - 0s 5ms/step\n"
          ]
        },
        {
          "name": "stderr",
          "output_type": "stream",
          "text": [
            "[I 2023-06-14 15:13:55,115] Trial 62 finished with value: 38.47112553586898 and parameters: {'window_size': 10, 'tcn_filters': 93, 'tcn_kernel_size': 2, 'dropout_rate': 0.18722716490835586, 'attention_dim': 26}. Best is trial 3 with value: 27.283957338491863.\n"
          ]
        },
        {
          "name": "stdout",
          "output_type": "stream",
          "text": [
            "7/7 [==============================] - 0s 3ms/step\n"
          ]
        },
        {
          "name": "stderr",
          "output_type": "stream",
          "text": [
            "[I 2023-06-14 15:14:02,440] Trial 63 finished with value: 39.19218823193775 and parameters: {'window_size': 13, 'tcn_filters': 84, 'tcn_kernel_size': 2, 'dropout_rate': 0.1982019230319563, 'attention_dim': 25}. Best is trial 3 with value: 27.283957338491863.\n"
          ]
        },
        {
          "name": "stdout",
          "output_type": "stream",
          "text": [
            "7/7 [==============================] - 0s 6ms/step\n"
          ]
        },
        {
          "name": "stderr",
          "output_type": "stream",
          "text": [
            "[I 2023-06-14 15:14:09,713] Trial 64 finished with value: 44.49107215305159 and parameters: {'window_size': 18, 'tcn_filters': 112, 'tcn_kernel_size': 2, 'dropout_rate': 0.22274249625122683, 'attention_dim': 27}. Best is trial 3 with value: 27.283957338491863.\n"
          ]
        },
        {
          "name": "stdout",
          "output_type": "stream",
          "text": [
            "7/7 [==============================] - 0s 5ms/step\n"
          ]
        },
        {
          "name": "stderr",
          "output_type": "stream",
          "text": [
            "[I 2023-06-14 15:14:17,264] Trial 65 finished with value: 73.79807643744601 and parameters: {'window_size': 22, 'tcn_filters': 126, 'tcn_kernel_size': 2, 'dropout_rate': 0.15489270378923667, 'attention_dim': 30}. Best is trial 3 with value: 27.283957338491863.\n"
          ]
        },
        {
          "name": "stdout",
          "output_type": "stream",
          "text": [
            "7/7 [==============================] - 0s 4ms/step\n"
          ]
        },
        {
          "name": "stderr",
          "output_type": "stream",
          "text": [
            "[I 2023-06-14 15:14:29,392] Trial 66 finished with value: 40.74853533908154 and parameters: {'window_size': 15, 'tcn_filters': 107, 'tcn_kernel_size': 2, 'dropout_rate': 0.13817258648649589, 'attention_dim': 29}. Best is trial 3 with value: 27.283957338491863.\n"
          ]
        },
        {
          "name": "stdout",
          "output_type": "stream",
          "text": [
            "7/7 [==============================] - 0s 3ms/step\n"
          ]
        },
        {
          "name": "stderr",
          "output_type": "stream",
          "text": [
            "[I 2023-06-14 15:14:35,029] Trial 67 finished with value: 54.56239899106971 and parameters: {'window_size': 10, 'tcn_filters': 58, 'tcn_kernel_size': 2, 'dropout_rate': 0.18162684022962203, 'attention_dim': 25}. Best is trial 3 with value: 27.283957338491863.\n"
          ]
        },
        {
          "name": "stdout",
          "output_type": "stream",
          "text": [
            "7/7 [==============================] - 0s 4ms/step\n"
          ]
        },
        {
          "name": "stderr",
          "output_type": "stream",
          "text": [
            "[I 2023-06-14 15:14:42,895] Trial 68 finished with value: 62.97083178587368 and parameters: {'window_size': 27, 'tcn_filters': 76, 'tcn_kernel_size': 2, 'dropout_rate': 0.21333261064330356, 'attention_dim': 31}. Best is trial 3 with value: 27.283957338491863.\n"
          ]
        },
        {
          "name": "stdout",
          "output_type": "stream",
          "text": [
            "7/7 [==============================] - 0s 5ms/step\n"
          ]
        },
        {
          "name": "stderr",
          "output_type": "stream",
          "text": [
            "[I 2023-06-14 15:14:48,792] Trial 69 finished with value: 50.757680384132286 and parameters: {'window_size': 18, 'tcn_filters': 100, 'tcn_kernel_size': 2, 'dropout_rate': 0.1983295246232357, 'attention_dim': 27}. Best is trial 3 with value: 27.283957338491863.\n"
          ]
        },
        {
          "name": "stdout",
          "output_type": "stream",
          "text": [
            "5/5 [==============================] - 0s 11ms/step\n"
          ]
        },
        {
          "name": "stderr",
          "output_type": "stream",
          "text": [
            "[I 2023-06-14 15:15:12,035] Trial 70 finished with value: 220.26512930149238 and parameters: {'window_size': 95, 'tcn_filters': 109, 'tcn_kernel_size': 2, 'dropout_rate': 0.23676668793244532, 'attention_dim': 26}. Best is trial 3 with value: 27.283957338491863.\n"
          ]
        },
        {
          "name": "stdout",
          "output_type": "stream",
          "text": [
            "7/7 [==============================] - 0s 6ms/step\n"
          ]
        },
        {
          "name": "stderr",
          "output_type": "stream",
          "text": [
            "[I 2023-06-14 15:15:17,694] Trial 71 finished with value: 39.541452577679806 and parameters: {'window_size': 13, 'tcn_filters': 74, 'tcn_kernel_size': 2, 'dropout_rate': 0.17116200203902066, 'attention_dim': 30}. Best is trial 3 with value: 27.283957338491863.\n"
          ]
        },
        {
          "name": "stdout",
          "output_type": "stream",
          "text": [
            "7/7 [==============================] - 0s 4ms/step\n"
          ]
        },
        {
          "name": "stderr",
          "output_type": "stream",
          "text": [
            "[I 2023-06-14 15:15:23,061] Trial 72 finished with value: 30.04732342882011 and parameters: {'window_size': 10, 'tcn_filters': 68, 'tcn_kernel_size': 2, 'dropout_rate': 0.17866406826804423, 'attention_dim': 24}. Best is trial 3 with value: 27.283957338491863.\n"
          ]
        },
        {
          "name": "stdout",
          "output_type": "stream",
          "text": [
            "7/7 [==============================] - 0s 4ms/step\n"
          ]
        },
        {
          "name": "stderr",
          "output_type": "stream",
          "text": [
            "[I 2023-06-14 15:15:27,073] Trial 73 finished with value: 34.68403594349836 and parameters: {'window_size': 12, 'tcn_filters': 65, 'tcn_kernel_size': 2, 'dropout_rate': 0.19238103869814827, 'attention_dim': 24}. Best is trial 3 with value: 27.283957338491863.\n"
          ]
        },
        {
          "name": "stdout",
          "output_type": "stream",
          "text": [
            "7/7 [==============================] - 0s 3ms/step\n"
          ]
        },
        {
          "name": "stderr",
          "output_type": "stream",
          "text": [
            "[I 2023-06-14 15:15:32,042] Trial 74 finished with value: 35.02915594720423 and parameters: {'window_size': 15, 'tcn_filters': 44, 'tcn_kernel_size': 2, 'dropout_rate': 0.22545327143715269, 'attention_dim': 25}. Best is trial 3 with value: 27.283957338491863.\n"
          ]
        },
        {
          "name": "stdout",
          "output_type": "stream",
          "text": [
            "7/7 [==============================] - 0s 4ms/step\n"
          ]
        },
        {
          "name": "stderr",
          "output_type": "stream",
          "text": [
            "[I 2023-06-14 15:15:45,083] Trial 75 finished with value: 79.30695498867225 and parameters: {'window_size': 22, 'tcn_filters': 69, 'tcn_kernel_size': 2, 'dropout_rate': 0.21109572621566722, 'attention_dim': 23}. Best is trial 3 with value: 27.283957338491863.\n"
          ]
        },
        {
          "name": "stdout",
          "output_type": "stream",
          "text": [
            "7/7 [==============================] - 0s 3ms/step\n"
          ]
        },
        {
          "name": "stderr",
          "output_type": "stream",
          "text": [
            "[I 2023-06-14 15:15:51,259] Trial 76 finished with value: 42.126804860337614 and parameters: {'window_size': 16, 'tcn_filters': 60, 'tcn_kernel_size': 2, 'dropout_rate': 0.16254929564334233, 'attention_dim': 26}. Best is trial 3 with value: 27.283957338491863.\n"
          ]
        },
        {
          "name": "stdout",
          "output_type": "stream",
          "text": [
            "7/7 [==============================] - 0s 7ms/step\n"
          ]
        },
        {
          "name": "stderr",
          "output_type": "stream",
          "text": [
            "[I 2023-06-14 15:15:57,855] Trial 77 finished with value: 146.6437320773195 and parameters: {'window_size': 32, 'tcn_filters': 118, 'tcn_kernel_size': 2, 'dropout_rate': 0.18659757018424197, 'attention_dim': 24}. Best is trial 3 with value: 27.283957338491863.\n"
          ]
        },
        {
          "name": "stdout",
          "output_type": "stream",
          "text": [
            "7/7 [==============================] - 0s 5ms/step\n"
          ]
        },
        {
          "name": "stderr",
          "output_type": "stream",
          "text": [
            "[I 2023-06-14 15:16:05,370] Trial 78 finished with value: 56.27506890785406 and parameters: {'window_size': 19, 'tcn_filters': 105, 'tcn_kernel_size': 3, 'dropout_rate': 0.1759243540829277, 'attention_dim': 28}. Best is trial 3 with value: 27.283957338491863.\n"
          ]
        },
        {
          "name": "stdout",
          "output_type": "stream",
          "text": [
            "7/7 [==============================] - 0s 4ms/step\n"
          ]
        },
        {
          "name": "stderr",
          "output_type": "stream",
          "text": [
            "[I 2023-06-14 15:16:12,609] Trial 79 finished with value: 75.85962557904406 and parameters: {'window_size': 12, 'tcn_filters': 126, 'tcn_kernel_size': 2, 'dropout_rate': 0.2230723843227509, 'attention_dim': 12}. Best is trial 3 with value: 27.283957338491863.\n"
          ]
        },
        {
          "name": "stdout",
          "output_type": "stream",
          "text": [
            "6/6 [==============================] - 0s 6ms/step\n"
          ]
        },
        {
          "name": "stderr",
          "output_type": "stream",
          "text": [
            "[I 2023-06-14 15:16:25,297] Trial 80 finished with value: 157.13877987486745 and parameters: {'window_size': 48, 'tcn_filters': 114, 'tcn_kernel_size': 2, 'dropout_rate': 0.23788196252571756, 'attention_dim': 23}. Best is trial 3 with value: 27.283957338491863.\n"
          ]
        },
        {
          "name": "stdout",
          "output_type": "stream",
          "text": [
            "7/7 [==============================] - 0s 4ms/step\n"
          ]
        },
        {
          "name": "stderr",
          "output_type": "stream",
          "text": [
            "[I 2023-06-14 15:16:30,125] Trial 81 finished with value: 45.45304901227257 and parameters: {'window_size': 12, 'tcn_filters': 64, 'tcn_kernel_size': 2, 'dropout_rate': 0.1939168042595445, 'attention_dim': 24}. Best is trial 3 with value: 27.283957338491863.\n"
          ]
        },
        {
          "name": "stdout",
          "output_type": "stream",
          "text": [
            "7/7 [==============================] - 0s 3ms/step\n"
          ]
        },
        {
          "name": "stderr",
          "output_type": "stream",
          "text": [
            "[I 2023-06-14 15:16:35,278] Trial 82 finished with value: 42.37677941215751 and parameters: {'window_size': 10, 'tcn_filters': 68, 'tcn_kernel_size': 2, 'dropout_rate': 0.19372504636652352, 'attention_dim': 24}. Best is trial 3 with value: 27.283957338491863.\n"
          ]
        },
        {
          "name": "stdout",
          "output_type": "stream",
          "text": [
            "7/7 [==============================] - 0s 3ms/step\n"
          ]
        },
        {
          "name": "stderr",
          "output_type": "stream",
          "text": [
            "[I 2023-06-14 15:16:39,831] Trial 83 finished with value: 57.17216746137352 and parameters: {'window_size': 15, 'tcn_filters': 61, 'tcn_kernel_size': 2, 'dropout_rate': 0.2083349340474829, 'attention_dim': 25}. Best is trial 3 with value: 27.283957338491863.\n"
          ]
        },
        {
          "name": "stdout",
          "output_type": "stream",
          "text": [
            "7/7 [==============================] - 0s 4ms/step\n"
          ]
        },
        {
          "name": "stderr",
          "output_type": "stream",
          "text": [
            "[I 2023-06-14 15:16:44,958] Trial 84 finished with value: 36.731966633082024 and parameters: {'window_size': 12, 'tcn_filters': 66, 'tcn_kernel_size': 2, 'dropout_rate': 0.16273387578207538, 'attention_dim': 27}. Best is trial 3 with value: 27.283957338491863.\n"
          ]
        },
        {
          "name": "stdout",
          "output_type": "stream",
          "text": [
            "7/7 [==============================] - 0s 4ms/step\n"
          ]
        },
        {
          "name": "stderr",
          "output_type": "stream",
          "text": [
            "[I 2023-06-14 15:16:49,559] Trial 85 finished with value: 55.07319727135097 and parameters: {'window_size': 19, 'tcn_filters': 55, 'tcn_kernel_size': 2, 'dropout_rate': 0.25860169057398946, 'attention_dim': 21}. Best is trial 3 with value: 27.283957338491863.\n"
          ]
        },
        {
          "name": "stdout",
          "output_type": "stream",
          "text": [
            "7/7 [==============================] - 0s 4ms/step\n"
          ]
        },
        {
          "name": "stderr",
          "output_type": "stream",
          "text": [
            "[I 2023-06-14 15:17:03,159] Trial 86 finished with value: 189.49771415622823 and parameters: {'window_size': 24, 'tcn_filters': 120, 'tcn_kernel_size': 2, 'dropout_rate': 0.18057833230079612, 'attention_dim': 24}. Best is trial 3 with value: 27.283957338491863.\n"
          ]
        },
        {
          "name": "stdout",
          "output_type": "stream",
          "text": [
            "7/7 [==============================] - 0s 4ms/step\n"
          ]
        },
        {
          "name": "stderr",
          "output_type": "stream",
          "text": [
            "[I 2023-06-14 15:17:07,168] Trial 87 finished with value: 61.220907665375506 and parameters: {'window_size': 15, 'tcn_filters': 76, 'tcn_kernel_size': 2, 'dropout_rate': 0.20396098887850986, 'attention_dim': 26}. Best is trial 3 with value: 27.283957338491863.\n"
          ]
        },
        {
          "name": "stdout",
          "output_type": "stream",
          "text": [
            "7/7 [==============================] - 0s 3ms/step\n"
          ]
        },
        {
          "name": "stderr",
          "output_type": "stream",
          "text": [
            "[I 2023-06-14 15:17:14,306] Trial 88 finished with value: 51.818584333102315 and parameters: {'window_size': 12, 'tcn_filters': 84, 'tcn_kernel_size': 3, 'dropout_rate': 0.14581105411011516, 'attention_dim': 23}. Best is trial 3 with value: 27.283957338491863.\n"
          ]
        },
        {
          "name": "stdout",
          "output_type": "stream",
          "text": [
            "7/7 [==============================] - 0s 7ms/step\n"
          ]
        },
        {
          "name": "stderr",
          "output_type": "stream",
          "text": [
            "[I 2023-06-14 15:17:26,706] Trial 89 finished with value: 69.3310645164646 and parameters: {'window_size': 21, 'tcn_filters': 123, 'tcn_kernel_size': 2, 'dropout_rate': 0.2169923045863991, 'attention_dim': 25}. Best is trial 3 with value: 27.283957338491863.\n"
          ]
        },
        {
          "name": "stdout",
          "output_type": "stream",
          "text": [
            "5/5 [==============================] - 0s 6ms/step\n"
          ]
        },
        {
          "name": "stderr",
          "output_type": "stream",
          "text": [
            "[I 2023-06-14 15:17:49,363] Trial 90 finished with value: 373.6838790204017 and parameters: {'window_size': 68, 'tcn_filters': 95, 'tcn_kernel_size': 2, 'dropout_rate': 0.19069409142900398, 'attention_dim': 29}. Best is trial 3 with value: 27.283957338491863.\n"
          ]
        },
        {
          "name": "stdout",
          "output_type": "stream",
          "text": [
            "7/7 [==============================] - 0s 3ms/step\n"
          ]
        },
        {
          "name": "stderr",
          "output_type": "stream",
          "text": [
            "[I 2023-06-14 15:17:57,374] Trial 91 finished with value: 45.43794194266443 and parameters: {'window_size': 15, 'tcn_filters': 48, 'tcn_kernel_size': 2, 'dropout_rate': 0.22769709275330818, 'attention_dim': 25}. Best is trial 3 with value: 27.283957338491863.\n"
          ]
        },
        {
          "name": "stdout",
          "output_type": "stream",
          "text": [
            "7/7 [==============================] - 0s 3ms/step\n"
          ]
        },
        {
          "name": "stderr",
          "output_type": "stream",
          "text": [
            "[I 2023-06-14 15:18:02,380] Trial 92 finished with value: 64.54238832572352 and parameters: {'window_size': 17, 'tcn_filters': 52, 'tcn_kernel_size': 2, 'dropout_rate': 0.24849899940425338, 'attention_dim': 23}. Best is trial 3 with value: 27.283957338491863.\n"
          ]
        },
        {
          "name": "stdout",
          "output_type": "stream",
          "text": [
            "7/7 [==============================] - 0s 3ms/step\n"
          ]
        },
        {
          "name": "stderr",
          "output_type": "stream",
          "text": [
            "[I 2023-06-14 15:18:09,410] Trial 93 finished with value: 36.62351619469422 and parameters: {'window_size': 10, 'tcn_filters': 36, 'tcn_kernel_size': 2, 'dropout_rate': 0.2258600143482859, 'attention_dim': 26}. Best is trial 3 with value: 27.283957338491863.\n"
          ]
        },
        {
          "name": "stdout",
          "output_type": "stream",
          "text": [
            "7/7 [==============================] - 0s 3ms/step\n"
          ]
        },
        {
          "name": "stderr",
          "output_type": "stream",
          "text": [
            "[I 2023-06-14 15:18:15,261] Trial 94 finished with value: 65.11624770834105 and parameters: {'window_size': 14, 'tcn_filters': 43, 'tcn_kernel_size': 2, 'dropout_rate': 0.24163236769958296, 'attention_dim': 27}. Best is trial 3 with value: 27.283957338491863.\n"
          ]
        },
        {
          "name": "stdout",
          "output_type": "stream",
          "text": [
            "7/7 [==============================] - 0s 3ms/step\n"
          ]
        },
        {
          "name": "stderr",
          "output_type": "stream",
          "text": [
            "[I 2023-06-14 15:18:22,455] Trial 95 finished with value: 47.36930807559543 and parameters: {'window_size': 17, 'tcn_filters': 49, 'tcn_kernel_size': 2, 'dropout_rate': 0.2546004639581458, 'attention_dim': 24}. Best is trial 3 with value: 27.283957338491863.\n"
          ]
        },
        {
          "name": "stdout",
          "output_type": "stream",
          "text": [
            "7/7 [==============================] - 0s 4ms/step\n"
          ]
        },
        {
          "name": "stderr",
          "output_type": "stream",
          "text": [
            "[I 2023-06-14 15:18:29,652] Trial 96 finished with value: 44.10031023168182 and parameters: {'window_size': 12, 'tcn_filters': 46, 'tcn_kernel_size': 2, 'dropout_rate': 0.23105346145170993, 'attention_dim': 25}. Best is trial 3 with value: 27.283957338491863.\n"
          ]
        },
        {
          "name": "stdout",
          "output_type": "stream",
          "text": [
            "7/7 [==============================] - 0s 4ms/step\n"
          ]
        },
        {
          "name": "stderr",
          "output_type": "stream",
          "text": [
            "[I 2023-06-14 15:18:36,742] Trial 97 finished with value: 52.03099383243936 and parameters: {'window_size': 14, 'tcn_filters': 90, 'tcn_kernel_size': 2, 'dropout_rate': 0.26794502544526, 'attention_dim': 22}. Best is trial 3 with value: 27.283957338491863.\n"
          ]
        },
        {
          "name": "stdout",
          "output_type": "stream",
          "text": [
            "7/7 [==============================] - 0s 6ms/step\n"
          ]
        },
        {
          "name": "stderr",
          "output_type": "stream",
          "text": [
            "[I 2023-06-14 15:18:43,909] Trial 98 finished with value: 117.78056044264504 and parameters: {'window_size': 20, 'tcn_filters': 125, 'tcn_kernel_size': 5, 'dropout_rate': 0.20145988862971906, 'attention_dim': 28}. Best is trial 3 with value: 27.283957338491863.\n"
          ]
        },
        {
          "name": "stdout",
          "output_type": "stream",
          "text": [
            "6/6 [==============================] - 0s 7ms/step\n"
          ]
        },
        {
          "name": "stderr",
          "output_type": "stream",
          "text": [
            "[I 2023-06-14 15:19:05,211] Trial 99 finished with value: 183.78701421212625 and parameters: {'window_size': 60, 'tcn_filters': 116, 'tcn_kernel_size': 2, 'dropout_rate': 0.21929215457151677, 'attention_dim': 25}. Best is trial 3 with value: 27.283957338491863.\n"
          ]
        }
      ],
      "source": [
        "# Define the search space for the hyperparameters\n",
        "study = optuna.create_study(direction=\"minimize\")\n",
        "study.optimize(objective, n_trials=100)"
      ]
    },
    {
      "cell_type": "code",
      "execution_count": 15,
      "id": "MIC7AbkU-qLy",
      "metadata": {
        "colab": {
          "base_uri": "https://localhost:8080/"
        },
        "id": "MIC7AbkU-qLy",
        "outputId": "687c38cc-0841-4694-c622-d2a3991977b0"
      },
      "outputs": [
        {
          "name": "stdout",
          "output_type": "stream",
          "text": [
            "Best Hyperparameters: {'window_size': 14, 'tcn_filters': 124, 'tcn_kernel_size': 2, 'dropout_rate': 0.23554057180386337, 'attention_dim': 23}\n"
          ]
        }
      ],
      "source": [
        "# Display the optimal set of parameters\n",
        "best_params = study.best_params\n",
        "print(\"Best Hyperparameters:\", best_params)"
      ]
    },
    {
      "cell_type": "code",
      "execution_count": 16,
      "id": "gIcsWJky-scK",
      "metadata": {
        "colab": {
          "base_uri": "https://localhost:8080/"
        },
        "id": "gIcsWJky-scK",
        "outputId": "66bb2120-e652-483f-c397-74458c3117b6"
      },
      "outputs": [
        {
          "name": "stdout",
          "output_type": "stream",
          "text": [
            "MAPE on Test dataset:  0.07283506604923667\n",
            "RMSE on Test dataset:  5.223404764948994\n",
            "MSLE on Test dataset:  0.01073622521240748\n"
          ]
        }
      ],
      "source": [
        "# Evaluate the accuracy of test\n",
        "print(f\"MAPE on Test dataset: \", best_mape)\n",
        "print(f\"RMSE on Test dataset: \", best_rmse)\n",
        "print(f\"MSLE on Test dataset: \", best_msle)"
      ]
    },
    {
      "attachments": {},
      "cell_type": "markdown",
      "id": "LAq2jnXOj6aI",
      "metadata": {
        "id": "LAq2jnXOj6aI"
      },
      "source": [
        "### Save and Load the best model and related information"
      ]
    },
    {
      "cell_type": "code",
      "execution_count": 17,
      "id": "VOV_a65HsGiB",
      "metadata": {
        "id": "VOV_a65HsGiB"
      },
      "outputs": [],
      "source": [
        "# Save the best model and related information\n",
        "best_model.save('/content/drive/MyDrive/Colab Notebooks/Business Data Analysis/CTLT/6:2:2/best_model.h5')\n",
        "\n",
        "np.save('/content/drive/MyDrive/Colab Notebooks/Business Data Analysis/CTLT/6:2:2/best_window_size.npy', best_window_size)\n",
        "np.save('/content/drive/MyDrive/Colab Notebooks/Business Data Analysis/CTLT/6:2:2/best_train_windows.npy', best_train_windows)\n",
        "np.save('/content/drive/MyDrive/Colab Notebooks/Business Data Analysis/CTLT/6:2:2/best_train_targets.npy', best_train_targets)\n",
        "np.save('/content/drive/MyDrive/Colab Notebooks/Business Data Analysis/CTLT/6:2:2/best_test_windows.npy', best_test_windows)\n",
        "np.save('/content/drive/MyDrive/Colab Notebooks/Business Data Analysis/CTLT/6:2:2/best_test_targets.npy', best_test_targets)\n",
        "np.save('/content/drive/MyDrive/Colab Notebooks/Business Data Analysis/CTLT/6:2:2/best_val_windows.npy', best_val_windows)\n",
        "np.save('/content/drive/MyDrive/Colab Notebooks/Business Data Analysis/CTLT/6:2:2/best_val_targets.npy', best_val_targets)\n",
        "\n",
        "np.save('/content/drive/MyDrive/Colab Notebooks/Business Data Analysis/CTLT/6:2:2/best_y_pred.npy', best_y_pred)\n",
        "\n",
        "np.save('/content/drive/MyDrive/Colab Notebooks/Business Data Analysis/CTLT/6:2:2/best_mse.npy', best_mse)\n",
        "np.save('/content/drive/MyDrive/Colab Notebooks/Business Data Analysis/CTLT/6:2:2/best_rmse.npy', best_rmse)\n",
        "np.save('/content/drive/MyDrive/Colab Notebooks/Business Data Analysis/CTLT/6:2:2/best_mape.npy', best_mape)\n",
        "np.save('/content/drive/MyDrive/Colab Notebooks/Business Data Analysis/CTLT/6:2:2/best_msle.npy', best_msle)"
      ]
    },
    {
      "cell_type": "code",
      "execution_count": 18,
      "id": "CYIqqiJn-7Jp",
      "metadata": {
        "id": "CYIqqiJn-7Jp"
      },
      "outputs": [],
      "source": [
        "# Load the best model and related information\n",
        "with custom_object_scope({'AttentionLayer': AttentionLayer}):\n",
        "    loaded_best_model = load_model('/content/drive/MyDrive/Colab Notebooks/Business Data Analysis/CTLT/6:2:2/best_model.h5')\n",
        "\n",
        "loaded_best_window_size = np.load('/content/drive/MyDrive/Colab Notebooks/Business Data Analysis/CTLT/6:2:2/best_window_size.npy')\n",
        "loaded_best_train_windows = np.load('/content/drive/MyDrive/Colab Notebooks/Business Data Analysis/CTLT/6:2:2/best_train_windows.npy')\n",
        "loaded_best_train_targets = np.load('/content/drive/MyDrive/Colab Notebooks/Business Data Analysis/CTLT/6:2:2/best_train_targets.npy')\n",
        "loaded_best_test_windows = np.load('/content/drive/MyDrive/Colab Notebooks/Business Data Analysis/CTLT/6:2:2/best_test_windows.npy')\n",
        "loaded_best_test_targets = np.load('/content/drive/MyDrive/Colab Notebooks/Business Data Analysis/CTLT/6:2:2/best_test_targets.npy')\n",
        "loaded_best_val_windows = np.load('/content/drive/MyDrive/Colab Notebooks/Business Data Analysis/CTLT/6:2:2/best_val_windows.npy')\n",
        "loaded_best_val_targets = np.load('/content/drive/MyDrive/Colab Notebooks/Business Data Analysis/CTLT/6:2:2/best_val_targets.npy')\n",
        "\n",
        "loaded_best_y_pred = np.load('/content/drive/MyDrive/Colab Notebooks/Business Data Analysis/CTLT/6:2:2/best_y_pred.npy')\n",
        "\n",
        "loaded_best_mse = np.load('/content/drive/MyDrive/Colab Notebooks/Business Data Analysis/CTLT/6:2:2/best_mse.npy').item()\n",
        "loaded_best_rmse = np.load('/content/drive/MyDrive/Colab Notebooks/Business Data Analysis/CTLT/6:2:2/best_rmse.npy').item()\n",
        "loaded_best_mape = np.load('/content/drive/MyDrive/Colab Notebooks/Business Data Analysis/CTLT/6:2:2/best_mape.npy').item()\n",
        "loaded_best_msle = np.load('/content/drive/MyDrive/Colab Notebooks/Business Data Analysis/CTLT/6:2:2/best_msle.npy').item()"
      ]
    },
    {
      "attachments": {},
      "cell_type": "markdown",
      "id": "ZV6VbX2qiTJ2",
      "metadata": {
        "id": "ZV6VbX2qiTJ2"
      },
      "source": [
        "## Predicting the next 30 days"
      ]
    },
    {
      "attachments": {},
      "cell_type": "markdown",
      "id": "KheB_eYIiU4b",
      "metadata": {
        "id": "KheB_eYIiU4b"
      },
      "source": [
        "### Preparing the forecast date index"
      ]
    },
    {
      "cell_type": "code",
      "execution_count": 19,
      "id": "nEQ97NJuiPPW",
      "metadata": {
        "id": "nEQ97NJuiPPW"
      },
      "outputs": [],
      "source": [
        "# Get the last date from the current index\n",
        "last_date = df.index[-1]\n",
        "\n",
        "# Add one day to the last date\n",
        "next_date = last_date + pd.DateOffset(days=1)\n",
        "\n",
        "# Create a list of indices starting from the next date for 30 days\n",
        "index_next_30_days = pd.date_range(start=next_date, periods=30).tolist()"
      ]
    },
    {
      "attachments": {},
      "cell_type": "markdown",
      "id": "35CEaBcIiX6-",
      "metadata": {
        "id": "35CEaBcIiX6-"
      },
      "source": [
        "## Prediction process"
      ]
    },
    {
      "cell_type": "code",
      "execution_count": 20,
      "id": "45367300",
      "metadata": {
        "colab": {
          "base_uri": "https://localhost:8080/"
        },
        "id": "45367300",
        "outputId": "53051bf1-b4ce-4a80-9883-5db271e49687"
      },
      "outputs": [
        {
          "name": "stdout",
          "output_type": "stream",
          "text": [
            "1/1 [==============================] - 0s 166ms/step\n",
            "1/1 [==============================] - 0s 27ms/step\n",
            "1/1 [==============================] - 0s 26ms/step\n",
            "1/1 [==============================] - 0s 26ms/step\n",
            "1/1 [==============================] - 0s 24ms/step\n",
            "1/1 [==============================] - 0s 24ms/step\n",
            "1/1 [==============================] - 0s 24ms/step\n",
            "1/1 [==============================] - 0s 25ms/step\n",
            "1/1 [==============================] - 0s 24ms/step\n",
            "1/1 [==============================] - 0s 24ms/step\n",
            "1/1 [==============================] - 0s 24ms/step\n",
            "1/1 [==============================] - 0s 27ms/step\n",
            "1/1 [==============================] - 0s 24ms/step\n",
            "1/1 [==============================] - 0s 31ms/step\n",
            "1/1 [==============================] - 0s 26ms/step\n",
            "1/1 [==============================] - 0s 24ms/step\n",
            "1/1 [==============================] - 0s 26ms/step\n",
            "1/1 [==============================] - 0s 22ms/step\n",
            "1/1 [==============================] - 0s 22ms/step\n",
            "1/1 [==============================] - 0s 23ms/step\n",
            "1/1 [==============================] - 0s 26ms/step\n",
            "1/1 [==============================] - 0s 23ms/step\n",
            "1/1 [==============================] - 0s 22ms/step\n",
            "1/1 [==============================] - 0s 26ms/step\n",
            "1/1 [==============================] - 0s 21ms/step\n",
            "1/1 [==============================] - 0s 21ms/step\n",
            "1/1 [==============================] - 0s 31ms/step\n",
            "1/1 [==============================] - 0s 23ms/step\n",
            "1/1 [==============================] - 0s 30ms/step\n",
            "1/1 [==============================] - 0s 29ms/step\n"
          ]
        }
      ],
      "source": [
        "# Predict the closing price for the next 30 days\n",
        "last_sequence_days = np.array(data_scaled[-loaded_best_window_size:]).reshape(1, -1, 1)\n",
        "y_next_30_days = []\n",
        "\n",
        "for i in range(30):\n",
        "    # Predict the next day's closing price\n",
        "    next_day_pred = loaded_best_model.predict(last_sequence_days)\n",
        "\n",
        "    # Save prediction\n",
        "    y_next_30_days.append(next_day_pred[0][0])\n",
        "\n",
        "    # Update data for the next day\n",
        "    last_sequence_days = np.concatenate([last_sequence_days[:, 1:, :], next_day_pred.reshape(1, 1, 1)], axis=1)"
      ]
    },
    {
      "cell_type": "code",
      "execution_count": 21,
      "id": "RwHSkGBQmjEV",
      "metadata": {
        "colab": {
          "base_uri": "https://localhost:8080/"
        },
        "id": "RwHSkGBQmjEV",
        "outputId": "fb0d4096-2c40-4bbd-dc5b-8c85d1b4dcc8"
      },
      "outputs": [
        {
          "name": "stdout",
          "output_type": "stream",
          "text": [
            "Predicted closing prices for the next 30 days:\n",
            "[39.78482  38.687305 38.522987 38.50425  38.501404 38.50099  38.50093\n",
            " 38.500904 38.5009   38.5009   38.5009   38.5009   38.46685  38.22321\n",
            " 38.15469  38.13933  38.13701  38.136776 38.13676  38.13676  38.13676\n",
            " 38.13676  38.13676  38.136765 38.135868 38.12933  38.125263 38.124237\n",
            " 38.124035 38.124   ]\n"
          ]
        }
      ],
      "source": [
        "print('Predicted closing prices for the next 30 days:')\n",
        "y_next_30_days = scaler.inverse_transform(np.array(y_next_30_days).reshape(-1, 1))\n",
        "print(y_next_30_days.flatten())"
      ]
    },
    {
      "attachments": {},
      "cell_type": "markdown",
      "id": "ONh3k9wBids4",
      "metadata": {
        "id": "ONh3k9wBids4"
      },
      "source": [
        "## Visualization"
      ]
    },
    {
      "cell_type": "code",
      "execution_count": 22,
      "id": "NwtqPyJeMaGL",
      "metadata": {
        "colab": {
          "base_uri": "https://localhost:8080/",
          "height": 487
        },
        "id": "NwtqPyJeMaGL",
        "outputId": "50a2b8be-08f7-4800-aa9b-b5858a8f9910"
      },
      "outputs": [
        {
          "data": {
            "image/png": "[encoded data removed]",
            "text/plain": [
              "<Figure size 1200x500 with 1 Axes>"
            ]
          },
          "metadata": {},
          "output_type": "display_data"
        }
      ],
      "source": [
        "plt.figure(figsize=(12, 5))\n",
        "\n",
        "plt.plot(df.index[:train_size], scaler.inverse_transform(train_data))\n",
        "\n",
        "plt.plot(df.index[train_size : train_size + val_size], scaler.inverse_transform(val_data))\n",
        "\n",
        "plt.plot(df.index[train_size + val_size : ], scaler.inverse_transform(test_data))\n",
        "\n",
        "plt.plot(df.index[train_size + val_size + best_window_size: ], best_y_pred)\n",
        "\n",
        "plt.plot(index_next_30_days, y_next_30_days)\n",
        "\n",
        "plt.legend(['Train', 'Validate', 'Test', 'Predict', 'Predict30days'])\n",
        "\n",
        "plt.grid()\n",
        "plt.title(f\"Catalent Closing Price Data from {df.index[0].strftime('%Y-%m-%d')} to {index_next_30_days[-1].strftime('%Y-%m-%d')}\")\n",
        "plt.xlabel(\"Date\")\n",
        "plt.ylabel(\"Close value\")\n",
        "plt.savefig('TCAN_622_CTLT.png')\n",
        "plt.show()"
      ]
    }
  ],
  "metadata": {
    "colab": {
      "provenance": []
    },
    "kernelspec": {
      "display_name": "Python 3 (ipykernel)",
      "language": "python",
      "name": "python3"
    },
    "language_info": {
      "codemirror_mode": {
        "name": "ipython",
        "version": 3
      },
      "file_extension": ".py",
      "mimetype": "text/x-python",
      "name": "python",
      "nbconvert_exporter": "python",
      "pygments_lexer": "ipython3",
      "version": "3.9.13"
    }
  },
  "nbformat": 4,
  "nbformat_minor": 5
}
