{
  "cells": [
    {
      "attachments": {},
      "cell_type": "markdown",
      "id": "Ty-2HmFfAEUU",
      "metadata": {
        "id": "Ty-2HmFfAEUU"
      },
      "source": [
        "## Preparation"
      ]
    },
    {
      "attachments": {},
      "cell_type": "markdown",
      "id": "wCHCM3ifASoq",
      "metadata": {
        "id": "wCHCM3ifASoq"
      },
      "source": [
        "### Download the optimization support library package"
      ]
    },
    {
      "cell_type": "code",
      "execution_count": 1,
      "id": "h-uK9HgR9_AM",
      "metadata": {
        "colab": {
          "base_uri": "https://localhost:8080/"
        },
        "id": "h-uK9HgR9_AM",
        "outputId": "81f2e70f-9795-402f-b852-34884a6566b7"
      },
      "outputs": [
        {
          "name": "stdout",
          "output_type": "stream",
          "text": [
            "Looking in indexes: https://pypi.org/simple, https://us-python.pkg.dev/colab-wheels/public/simple/\n",
            "Collecting optuna\n",
            "  Downloading optuna-3.2.0-py3-none-any.whl (390 kB)\n",
            "\u001b[2K     \u001b[90m━━━━━━━━━━━━━━━━━━━━━━━━━━━━━━━━━━━━━━━\u001b[0m \u001b[32m390.6/390.6 kB\u001b[0m \u001b[31m7.5 MB/s\u001b[0m eta \u001b[36m0:00:00\u001b[0m\n",
            "\u001b[?25hCollecting alembic>=1.5.0 (from optuna)\n",
            "  Downloading alembic-1.11.1-py3-none-any.whl (224 kB)\n",
            "\u001b[2K     \u001b[90m━━━━━━━━━━━━━━━━━━━━━━━━━━━━━━━━━━━━━━\u001b[0m \u001b[32m224.5/224.5 kB\u001b[0m \u001b[31m19.8 MB/s\u001b[0m eta \u001b[36m0:00:00\u001b[0m\n",
            "\u001b[?25hCollecting cmaes>=0.9.1 (from optuna)\n",
            "  Downloading cmaes-0.9.1-py3-none-any.whl (21 kB)\n",
            "Collecting colorlog (from optuna)\n",
            "  Downloading colorlog-6.7.0-py2.py3-none-any.whl (11 kB)\n",
            "Requirement already satisfied: numpy in /usr/local/lib/python3.10/dist-packages (from optuna) (1.22.4)\n",
            "Requirement already satisfied: packaging>=20.0 in /usr/local/lib/python3.10/dist-packages (from optuna) (23.1)\n",
            "Requirement already satisfied: sqlalchemy>=1.3.0 in /usr/local/lib/python3.10/dist-packages (from optuna) (2.0.10)\n",
            "Requirement already satisfied: tqdm in /usr/local/lib/python3.10/dist-packages (from optuna) (4.65.0)\n",
            "Requirement already satisfied: PyYAML in /usr/local/lib/python3.10/dist-packages (from optuna) (6.0)\n",
            "Collecting Mako (from alembic>=1.5.0->optuna)\n",
            "  Downloading Mako-1.2.4-py3-none-any.whl (78 kB)\n",
            "\u001b[2K     \u001b[90m━━━━━━━━━━━━━━━━━━━━━━━━━━━━━━━━━━━━━━━━\u001b[0m \u001b[32m78.7/78.7 kB\u001b[0m \u001b[31m5.4 MB/s\u001b[0m eta \u001b[36m0:00:00\u001b[0m\n",
            "\u001b[?25hRequirement already satisfied: typing-extensions>=4 in /usr/local/lib/python3.10/dist-packages (from alembic>=1.5.0->optuna) (4.5.0)\n",
            "Requirement already satisfied: greenlet!=0.4.17 in /usr/local/lib/python3.10/dist-packages (from sqlalchemy>=1.3.0->optuna) (2.0.2)\n",
            "Requirement already satisfied: MarkupSafe>=0.9.2 in /usr/local/lib/python3.10/dist-packages (from Mako->alembic>=1.5.0->optuna) (2.1.2)\n",
            "Installing collected packages: Mako, colorlog, cmaes, alembic, optuna\n",
            "Successfully installed Mako-1.2.4 alembic-1.11.1 cmaes-0.9.1 colorlog-6.7.0 optuna-3.2.0\n"
          ]
        }
      ],
      "source": [
        "!pip install optuna"
      ]
    },
    {
      "attachments": {},
      "cell_type": "markdown",
      "id": "-yVNLlKiAkLO",
      "metadata": {
        "id": "-yVNLlKiAkLO"
      },
      "source": [
        "### Connect to Google Drive"
      ]
    },
    {
      "cell_type": "code",
      "execution_count": 2,
      "id": "O32NLGXv96h9",
      "metadata": {
        "colab": {
          "base_uri": "https://localhost:8080/"
        },
        "id": "O32NLGXv96h9",
        "outputId": "c24170d2-8b01-4145-8e09-8eb7429691d3"
      },
      "outputs": [
        {
          "name": "stdout",
          "output_type": "stream",
          "text": [
            "Mounted at /content/drive\n"
          ]
        }
      ],
      "source": [
        "from google.colab import drive\n",
        "drive.mount('/content/drive', force_remount=True)"
      ]
    },
    {
      "attachments": {},
      "cell_type": "markdown",
      "id": "W53Qynm-ZVZt",
      "metadata": {
        "id": "W53Qynm-ZVZt"
      },
      "source": [
        "## Import Libraries"
      ]
    },
    {
      "cell_type": "code",
      "execution_count": 3,
      "id": "87d177e7",
      "metadata": {
        "id": "87d177e7"
      },
      "outputs": [],
      "source": [
        "# Library to support working with data\n",
        "import numpy as np\n",
        "import pandas as pd\n",
        "\n",
        "# Graphing support library\n",
        "import matplotlib.pyplot as plt\n",
        "\n",
        "# Data Normalization Support Library\n",
        "from sklearn.preprocessing import MinMaxScaler\n",
        "\n",
        "# Library to support building Temporal Convolutional Attention Networks models\n",
        "from tensorflow.keras.models import Model\n",
        "from tensorflow.keras.optimizers import Adam\n",
        "from tensorflow.keras.callbacks import EarlyStopping\n",
        "from tensorflow.keras.layers import Dense, Flatten, Conv1D, MaxPooling1D, GlobalMaxPooling1D, Dropout, SpatialDropout1D\n",
        "from tensorflow.keras.layers import Layer, RepeatVector, concatenate, Reshape, Input, Concatenate, Permute, Multiply, Add, Activation\n",
        "\n",
        "# Performance metrics calculation support library\n",
        "from sklearn.metrics import mean_squared_error, mean_absolute_percentage_error, mean_squared_log_error\n",
        "\n",
        "# Parameter optimization support library\n",
        "import optuna\n",
        "\n",
        "# Support library to ignore warnings\n",
        "import warnings\n",
        "warnings.filterwarnings(\"ignore\")\n",
        "\n",
        "# Support library to load models and data\n",
        "from keras.utils import custom_object_scope\n",
        "from tensorflow.keras.models import load_model"
      ]
    },
    {
      "attachments": {},
      "cell_type": "markdown",
      "id": "-DlshO-2cJbs",
      "metadata": {
        "id": "-DlshO-2cJbs"
      },
      "source": [
        "## Data preprocessing"
      ]
    },
    {
      "attachments": {},
      "cell_type": "markdown",
      "id": "ezxH2qTIcLnT",
      "metadata": {
        "id": "ezxH2qTIcLnT"
      },
      "source": [
        "### Read data"
      ]
    },
    {
      "cell_type": "code",
      "execution_count": 4,
      "id": "77ce5605",
      "metadata": {
        "colab": {
          "base_uri": "https://localhost:8080/",
          "height": 423
        },
        "id": "77ce5605",
        "outputId": "828edaa1-b101-44bd-8995-08a59246af60"
      },
      "outputs": [
        {
          "data": {
            "text/html": [
              "\n",
              "  <div id=\"df-1375234f-1dbb-4ebd-a585-5b2c7b0e4762\">\n",
              "    <div class=\"colab-df-container\">\n",
              "      <div>\n",
              "<style scoped>\n",
              "    .dataframe tbody tr th:only-of-type {\n",
              "        vertical-align: middle;\n",
              "    }\n",
              "\n",
              "    .dataframe tbody tr th {\n",
              "        vertical-align: top;\n",
              "    }\n",
              "\n",
              "    .dataframe thead th {\n",
              "        text-align: right;\n",
              "    }\n",
              "</style>\n",
              "<table border=\"1\" class=\"dataframe\">\n",
              "  <thead>\n",
              "    <tr style=\"text-align: right;\">\n",
              "      <th></th>\n",
              "      <th>Date</th>\n",
              "      <th>Open</th>\n",
              "      <th>High</th>\n",
              "      <th>Low</th>\n",
              "      <th>Close</th>\n",
              "      <th>Adj Close</th>\n",
              "      <th>Volume</th>\n",
              "    </tr>\n",
              "  </thead>\n",
              "  <tbody>\n",
              "    <tr>\n",
              "      <th>0</th>\n",
              "      <td>2019-01-02</td>\n",
              "      <td>30.860001</td>\n",
              "      <td>31.260000</td>\n",
              "      <td>30.240000</td>\n",
              "      <td>30.910000</td>\n",
              "      <td>30.910000</td>\n",
              "      <td>1201700</td>\n",
              "    </tr>\n",
              "    <tr>\n",
              "      <th>1</th>\n",
              "      <td>2019-01-03</td>\n",
              "      <td>30.660000</td>\n",
              "      <td>30.660000</td>\n",
              "      <td>29.290001</td>\n",
              "      <td>29.840000</td>\n",
              "      <td>29.840000</td>\n",
              "      <td>1149900</td>\n",
              "    </tr>\n",
              "    <tr>\n",
              "      <th>2</th>\n",
              "      <td>2019-01-04</td>\n",
              "      <td>30.049999</td>\n",
              "      <td>31.360001</td>\n",
              "      <td>29.940001</td>\n",
              "      <td>31.080000</td>\n",
              "      <td>31.080000</td>\n",
              "      <td>3530400</td>\n",
              "    </tr>\n",
              "    <tr>\n",
              "      <th>3</th>\n",
              "      <td>2019-01-07</td>\n",
              "      <td>31.020000</td>\n",
              "      <td>32.180000</td>\n",
              "      <td>30.850000</td>\n",
              "      <td>32.000000</td>\n",
              "      <td>32.000000</td>\n",
              "      <td>1063400</td>\n",
              "    </tr>\n",
              "    <tr>\n",
              "      <th>4</th>\n",
              "      <td>2019-01-08</td>\n",
              "      <td>32.340000</td>\n",
              "      <td>33.060001</td>\n",
              "      <td>32.150002</td>\n",
              "      <td>32.790001</td>\n",
              "      <td>32.790001</td>\n",
              "      <td>1391000</td>\n",
              "    </tr>\n",
              "    <tr>\n",
              "      <th>...</th>\n",
              "      <td>...</td>\n",
              "      <td>...</td>\n",
              "      <td>...</td>\n",
              "      <td>...</td>\n",
              "      <td>...</td>\n",
              "      <td>...</td>\n",
              "      <td>...</td>\n",
              "    </tr>\n",
              "    <tr>\n",
              "      <th>1114</th>\n",
              "      <td>2023-06-06</td>\n",
              "      <td>37.910000</td>\n",
              "      <td>39.049999</td>\n",
              "      <td>37.580002</td>\n",
              "      <td>38.820000</td>\n",
              "      <td>38.820000</td>\n",
              "      <td>2261700</td>\n",
              "    </tr>\n",
              "    <tr>\n",
              "      <th>1115</th>\n",
              "      <td>2023-06-07</td>\n",
              "      <td>39.160000</td>\n",
              "      <td>40.029999</td>\n",
              "      <td>38.250000</td>\n",
              "      <td>39.959999</td>\n",
              "      <td>39.959999</td>\n",
              "      <td>4382500</td>\n",
              "    </tr>\n",
              "    <tr>\n",
              "      <th>1116</th>\n",
              "      <td>2023-06-08</td>\n",
              "      <td>39.700001</td>\n",
              "      <td>39.840000</td>\n",
              "      <td>36.750000</td>\n",
              "      <td>39.000000</td>\n",
              "      <td>39.000000</td>\n",
              "      <td>9705500</td>\n",
              "    </tr>\n",
              "    <tr>\n",
              "      <th>1117</th>\n",
              "      <td>2023-06-09</td>\n",
              "      <td>39.250000</td>\n",
              "      <td>40.110001</td>\n",
              "      <td>38.480000</td>\n",
              "      <td>38.810001</td>\n",
              "      <td>38.810001</td>\n",
              "      <td>4493800</td>\n",
              "    </tr>\n",
              "    <tr>\n",
              "      <th>1118</th>\n",
              "      <td>2023-06-12</td>\n",
              "      <td>40.490002</td>\n",
              "      <td>44.450001</td>\n",
              "      <td>40.410000</td>\n",
              "      <td>42.779999</td>\n",
              "      <td>42.779999</td>\n",
              "      <td>10155800</td>\n",
              "    </tr>\n",
              "  </tbody>\n",
              "</table>\n",
              "<p>1119 rows × 7 columns</p>\n",
              "</div>\n",
              "      <button class=\"colab-df-convert\" onclick=\"convertToInteractive('df-1375234f-1dbb-4ebd-a585-5b2c7b0e4762')\"\n",
              "              title=\"Convert this dataframe to an interactive table.\"\n",
              "              style=\"display:none;\">\n",
              "        \n",
              "  <svg xmlns=\"http://www.w3.org/2000/svg\" height=\"24px\"viewBox=\"0 0 24 24\"\n",
              "       width=\"24px\">\n",
              "    <path d=\"M0 0h24v24H0V0z\" fill=\"none\"/>\n",
              "    <path d=\"M18.56 5.44l.94 2.06.94-2.06 2.06-.94-2.06-.94-.94-2.06-.94 2.06-2.06.94zm-11 1L8.5 8.5l.94-2.06 2.06-.94-2.06-.94L8.5 2.5l-.94 2.06-2.06.94zm10 10l.94 2.06.94-2.06 2.06-.94-2.06-.94-.94-2.06-.94 2.06-2.06.94z\"/><path d=\"M17.41 7.96l-1.37-1.37c-.4-.4-.92-.59-1.43-.59-.52 0-1.04.2-1.43.59L10.3 9.45l-7.72 7.72c-.78.78-.78 2.05 0 2.83L4 21.41c.39.39.9.59 1.41.59.51 0 1.02-.2 1.41-.59l7.78-7.78 2.81-2.81c.8-.78.8-2.07 0-2.86zM5.41 20L4 18.59l7.72-7.72 1.47 1.35L5.41 20z\"/>\n",
              "  </svg>\n",
              "      </button>\n",
              "      \n",
              "  <style>\n",
              "    .colab-df-container {\n",
              "      display:flex;\n",
              "      flex-wrap:wrap;\n",
              "      gap: 12px;\n",
              "    }\n",
              "\n",
              "    .colab-df-convert {\n",
              "      background-color: #E8F0FE;\n",
              "      border: none;\n",
              "      border-radius: 50%;\n",
              "      cursor: pointer;\n",
              "      display: none;\n",
              "      fill: #1967D2;\n",
              "      height: 32px;\n",
              "      padding: 0 0 0 0;\n",
              "      width: 32px;\n",
              "    }\n",
              "\n",
              "    .colab-df-convert:hover {\n",
              "      background-color: #E2EBFA;\n",
              "      box-shadow: 0px 1px 2px rgba(60, 64, 67, 0.3), 0px 1px 3px 1px rgba(60, 64, 67, 0.15);\n",
              "      fill: #174EA6;\n",
              "    }\n",
              "\n",
              "    [theme=dark] .colab-df-convert {\n",
              "      background-color: #3B4455;\n",
              "      fill: #D2E3FC;\n",
              "    }\n",
              "\n",
              "    [theme=dark] .colab-df-convert:hover {\n",
              "      background-color: #434B5C;\n",
              "      box-shadow: 0px 1px 3px 1px rgba(0, 0, 0, 0.15);\n",
              "      filter: drop-shadow(0px 1px 2px rgba(0, 0, 0, 0.3));\n",
              "      fill: #FFFFFF;\n",
              "    }\n",
              "  </style>\n",
              "\n",
              "      <script>\n",
              "        const buttonEl =\n",
              "          document.querySelector('#df-1375234f-1dbb-4ebd-a585-5b2c7b0e4762 button.colab-df-convert');\n",
              "        buttonEl.style.display =\n",
              "          google.colab.kernel.accessAllowed ? 'block' : 'none';\n",
              "\n",
              "        async function convertToInteractive(key) {\n",
              "          const element = document.querySelector('#df-1375234f-1dbb-4ebd-a585-5b2c7b0e4762');\n",
              "          const dataTable =\n",
              "            await google.colab.kernel.invokeFunction('convertToInteractive',\n",
              "                                                     [key], {});\n",
              "          if (!dataTable) return;\n",
              "\n",
              "          const docLinkHtml = 'Like what you see? Visit the ' +\n",
              "            '<a target=\"_blank\" href=https://colab.research.google.com/notebooks/data_table.ipynb>data table notebook</a>'\n",
              "            + ' to learn more about interactive tables.';\n",
              "          element.innerHTML = '';\n",
              "          dataTable['output_type'] = 'display_data';\n",
              "          await google.colab.output.renderOutput(dataTable, element);\n",
              "          const docLink = document.createElement('div');\n",
              "          docLink.innerHTML = docLinkHtml;\n",
              "          element.appendChild(docLink);\n",
              "        }\n",
              "      </script>\n",
              "    </div>\n",
              "  </div>\n",
              "  "
            ],
            "text/plain": [
              "            Date       Open       High        Low      Close  Adj Close  \\\n",
              "0     2019-01-02  30.860001  31.260000  30.240000  30.910000  30.910000   \n",
              "1     2019-01-03  30.660000  30.660000  29.290001  29.840000  29.840000   \n",
              "2     2019-01-04  30.049999  31.360001  29.940001  31.080000  31.080000   \n",
              "3     2019-01-07  31.020000  32.180000  30.850000  32.000000  32.000000   \n",
              "4     2019-01-08  32.340000  33.060001  32.150002  32.790001  32.790001   \n",
              "...          ...        ...        ...        ...        ...        ...   \n",
              "1114  2023-06-06  37.910000  39.049999  37.580002  38.820000  38.820000   \n",
              "1115  2023-06-07  39.160000  40.029999  38.250000  39.959999  39.959999   \n",
              "1116  2023-06-08  39.700001  39.840000  36.750000  39.000000  39.000000   \n",
              "1117  2023-06-09  39.250000  40.110001  38.480000  38.810001  38.810001   \n",
              "1118  2023-06-12  40.490002  44.450001  40.410000  42.779999  42.779999   \n",
              "\n",
              "        Volume  \n",
              "0      1201700  \n",
              "1      1149900  \n",
              "2      3530400  \n",
              "3      1063400  \n",
              "4      1391000  \n",
              "...        ...  \n",
              "1114   2261700  \n",
              "1115   4382500  \n",
              "1116   9705500  \n",
              "1117   4493800  \n",
              "1118  10155800  \n",
              "\n",
              "[1119 rows x 7 columns]"
            ]
          },
          "execution_count": 4,
          "metadata": {},
          "output_type": "execute_result"
        }
      ],
      "source": [
        "# Load data\n",
        "df = pd.read_csv('CTLT.csv')\n",
        "df"
      ]
    },
    {
      "attachments": {},
      "cell_type": "markdown",
      "id": "muKE0gL7cQs2",
      "metadata": {
        "id": "muKE0gL7cQs2"
      },
      "source": [
        "### Reset index"
      ]
    },
    {
      "cell_type": "code",
      "execution_count": 5,
      "id": "vG4wgXOK2soU",
      "metadata": {
        "id": "vG4wgXOK2soU"
      },
      "outputs": [],
      "source": [
        "# Convert the 'Date' column to datetime format\n",
        "df['Date'] = pd.to_datetime(df['Date'])\n",
        "\n",
        "# Set the 'Date' column as the index value\n",
        "df.set_index('Date', inplace=True)"
      ]
    },
    {
      "cell_type": "code",
      "execution_count": 6,
      "id": "DBeiREWjJ00j",
      "metadata": {
        "id": "DBeiREWjJ00j"
      },
      "outputs": [],
      "source": [
        "# Select column 'Close'\n",
        "df_Close = df[['Close']]\n",
        "df_Close = df_Close.reset_index(drop=True)"
      ]
    },
    {
      "attachments": {},
      "cell_type": "markdown",
      "id": "m9vvIvolcch8",
      "metadata": {
        "id": "m9vvIvolcch8"
      },
      "source": [
        "### Data normalization"
      ]
    },
    {
      "cell_type": "code",
      "execution_count": 7,
      "id": "b0cde421",
      "metadata": {
        "id": "b0cde421"
      },
      "outputs": [],
      "source": [
        "# Min-max normalization\n",
        "scaler = MinMaxScaler(feature_range=(0, 1))\n",
        "data_scaled = scaler.fit_transform(np.array(df_Close))"
      ]
    },
    {
      "attachments": {},
      "cell_type": "markdown",
      "id": "WEnB5G3fcqPg",
      "metadata": {
        "id": "WEnB5G3fcqPg"
      },
      "source": [
        "### Data splitting"
      ]
    },
    {
      "cell_type": "code",
      "execution_count": 8,
      "id": "f29f31b1",
      "metadata": {
        "id": "f29f31b1"
      },
      "outputs": [],
      "source": [
        "# Split the data into train, validation, and test dataset in a ratio of 7:1:2\n",
        "train_size = int(len(data_scaled) * 0.7)\n",
        "val_size = int(len(data_scaled) * 0.1)\n",
        "test_size = len(data_scaled) - train_size - val_size\n",
        "\n",
        "train_data = data_scaled[: train_size]\n",
        "val_data = data_scaled[train_size : train_size + val_size]\n",
        "test_data = data_scaled[train_size + val_size :]"
      ]
    },
    {
      "attachments": {},
      "cell_type": "markdown",
      "id": "-IFkvqKRgmQX",
      "metadata": {
        "id": "-IFkvqKRgmQX"
      },
      "source": [
        "## Model training and testing"
      ]
    },
    {
      "cell_type": "code",
      "execution_count": 9,
      "id": "224ff73f",
      "metadata": {
        "id": "224ff73f"
      },
      "outputs": [],
      "source": [
        "# Generating data using the window sliding method\n",
        "def create_dataset(data, window_size):\n",
        "    windows, targets = [], []\n",
        "    for i in range(len(data) - window_size):\n",
        "        windows.append(data[i : (i + window_size), 0])\n",
        "        targets.append(data[i + window_size, 0])\n",
        "    return np.array(windows), np.array(targets)"
      ]
    },
    {
      "attachments": {},
      "cell_type": "markdown",
      "id": "hRDWcZQ0jcRX",
      "metadata": {
        "id": "hRDWcZQ0jcRX"
      },
      "source": [
        "### Building TCANs model"
      ]
    },
    {
      "cell_type": "code",
      "execution_count": 10,
      "id": "HxKvihCf3-C1",
      "metadata": {
        "id": "HxKvihCf3-C1"
      },
      "outputs": [],
      "source": [
        "# Constructing sparse attention layer\n",
        "class AttentionLayer(Layer):\n",
        "    def __init__(self, attention_dim):\n",
        "        super(AttentionLayer, self).__init__()\n",
        "        self.attention_dim = attention_dim\n",
        "\n",
        "    def build(self, input_shape):\n",
        "        self.W1 = Dense(units=self.attention_dim, activation='tanh')\n",
        "        self.W2 = Dense(units=1, activation='linear')\n",
        "        super(AttentionLayer, self).build(input_shape)\n",
        "\n",
        "    def call(self, x):\n",
        "        score = self.W2(self.W1(x))\n",
        "        score = Flatten()(score)\n",
        "        score = Activation('softmax')(score)\n",
        "        score = RepeatVector(x.shape[-1])(score)\n",
        "        score = Permute([2, 1])(score)\n",
        "        return Multiply()([x, score])\n",
        "\n",
        "    def compute_output_shape(self, input_shape):\n",
        "        return input_shape"
      ]
    },
    {
      "cell_type": "code",
      "execution_count": 11,
      "id": "d01b50ee",
      "metadata": {
        "id": "d01b50ee"
      },
      "outputs": [],
      "source": [
        "# Build TCAN model\n",
        "def build_tcan(window_size, input_dim=1, tcn_filters=64, tcn_kernel_size=2, dropout_rate=0.2, attention_dim=16):\n",
        "    inputs = Input(shape=(window_size, input_dim))\n",
        "    x = inputs\n",
        "    x = Conv1D(filters=tcn_filters, kernel_size=tcn_kernel_size, padding='same', activation='relu')(x)\n",
        "    x = SpatialDropout1D(rate=dropout_rate)(x)\n",
        "    x = Conv1D(filters=tcn_filters, kernel_size=tcn_kernel_size, padding='same', activation='relu')(x)\n",
        "    x = SpatialDropout1D(rate=dropout_rate)(x)\n",
        "\n",
        "    # Additive Attention\n",
        "    att = AttentionLayer(attention_dim)(x)\n",
        "    max_pool_att = GlobalMaxPooling1D()(att)\n",
        "    max_pool_x = GlobalMaxPooling1D()(x)\n",
        "    x = concatenate([max_pool_att, max_pool_x])\n",
        "\n",
        "    outputs = Dense(1)(x)\n",
        "\n",
        "    model = Model(inputs=inputs, outputs=outputs)\n",
        "    optimizer = Adam(learning_rate=0.001)\n",
        "    model.compile(loss='mean_absolute_error', optimizer=optimizer)\n",
        "\n",
        "    return model"
      ]
    },
    {
      "attachments": {},
      "cell_type": "markdown",
      "id": "kfSIcYf1jyjU",
      "metadata": {
        "id": "kfSIcYf1jyjU"
      },
      "source": [
        "### Learning process with combined parameter optimization"
      ]
    },
    {
      "cell_type": "code",
      "execution_count": 12,
      "id": "690ac169",
      "metadata": {
        "id": "690ac169"
      },
      "outputs": [],
      "source": [
        "# Initialization of optimization parameters\n",
        "best_mse = float('inf')\n",
        "best_model = None\n",
        "best_window_size = None\n",
        "best_train_windows = None\n",
        "best_train_targets = None\n",
        "best_test_windows = None\n",
        "best_test_targets = None\n",
        "best_val_windows = None\n",
        "best_val_targets = None\n",
        "best_y_pred = None\n",
        "best_mape = np.inf\n",
        "best_rmse = np.inf\n",
        "best_msle = np.inf"
      ]
    },
    {
      "cell_type": "code",
      "execution_count": 13,
      "id": "m3MDjWCd-kl8",
      "metadata": {
        "id": "m3MDjWCd-kl8"
      },
      "outputs": [],
      "source": [
        "# Define the objective function for Optuna optimization\n",
        "def objective(trial):\n",
        "  global best_mse, best_model, best_window_size, best_train_windows\n",
        "  global best_train_targets, best_test_windows, best_test_targets, best_val_windows\n",
        "  global best_val_targets, best_y_pred, best_mape, best_rmse, best_msle\n",
        "\n",
        "  # Define the search space for hyperparameters\n",
        "  window_size = trial.suggest_int(\"window_size\", 10, 100)\n",
        "  tcn_filters = trial.suggest_int(\"tcn_filters\", 32, 128)\n",
        "  tcn_kernel_size = trial.suggest_int(\"tcn_kernel_size\", 2, 5)\n",
        "  dropout_rate = trial.suggest_float(\"dropout_rate\", 0.1, 0.5)\n",
        "  attention_dim = trial.suggest_int(\"attention_dim\", 8, 32)\n",
        "\n",
        "  # Build the TCAN model with the suggested hyperparameters\n",
        "  model = build_tcan(window_size,\n",
        "                     tcn_filters = tcn_filters,\n",
        "                     tcn_kernel_size = tcn_kernel_size,\n",
        "                     dropout_rate = dropout_rate,\n",
        "                     attention_dim = attention_dim)\n",
        "\n",
        "  train_windows, train_targets = create_dataset(train_data, window_size)\n",
        "  val_windows, val_targets = create_dataset(val_data, window_size)\n",
        "  test_windows, test_targets = create_dataset(test_data, window_size)\n",
        "\n",
        "  # Train the model\n",
        "  early_stop = EarlyStopping(monitor='val_loss', patience=5)\n",
        "  model.fit(train_windows, train_targets,\n",
        "            epochs=50, batch_size=32,\n",
        "            validation_data=(val_windows, val_targets),\n",
        "            shuffle=False, callbacks=[early_stop], verbose=0)\n",
        "\n",
        "  # Testing the model on Test dataset\n",
        "  y_pred = model.predict(test_windows)\n",
        "\n",
        "  # Evaluate on MAPE, RMSE, MSLE\n",
        "  temp_test_targets = test_targets\n",
        "  temp_test_targets = scaler.inverse_transform(temp_test_targets.reshape(-1, 1))\n",
        "  y_pred = scaler.inverse_transform(y_pred)\n",
        "\n",
        "  mse = mean_squared_error(temp_test_targets, y_pred)\n",
        "  rmse = np.sqrt(mse)\n",
        "  mape = mean_absolute_percentage_error(temp_test_targets, y_pred)\n",
        "  msle = mean_squared_log_error(temp_test_targets, y_pred)\n",
        "\n",
        "  # Save the best model and related information\n",
        "  if mse < best_mse or best_mse is None:\n",
        "    best_model = model\n",
        "    best_window_size = window_size\n",
        "    best_y_pred = y_pred\n",
        "    best_train_windows = train_windows\n",
        "    best_train_targets = train_targets\n",
        "    best_test_windows = test_windows\n",
        "    best_test_targets = test_targets\n",
        "    best_val_windows = val_windows\n",
        "    best_val_targets = val_targets\n",
        "    best_rmse = rmse\n",
        "    best_mape = mape\n",
        "    best_msle = msle\n",
        "    best_mse = mse\n",
        "\n",
        "  return mse"
      ]
    },
    {
      "cell_type": "code",
      "execution_count": 14,
      "id": "tAQaYsmr-mkW",
      "metadata": {
        "colab": {
          "base_uri": "https://localhost:8080/"
        },
        "id": "tAQaYsmr-mkW",
        "outputId": "3a2555f6-068e-476c-efd5-6afd2a0c9f8b"
      },
      "outputs": [
        {
          "name": "stderr",
          "output_type": "stream",
          "text": [
            "[I 2023-06-14 13:21:25,650] A new study created in memory with name: no-name-35bf13c6-cb4b-469e-9c80-d021e86882f9\n"
          ]
        },
        {
          "name": "stdout",
          "output_type": "stream",
          "text": [
            "5/5 [==============================] - 0s 9ms/step\n"
          ]
        },
        {
          "name": "stderr",
          "output_type": "stream",
          "text": [
            "[I 2023-06-14 13:22:11,579] Trial 0 finished with value: 292.26142082047147 and parameters: {'window_size': 91, 'tcn_filters': 113, 'tcn_kernel_size': 3, 'dropout_rate': 0.33018498885998404, 'attention_dim': 16}. Best is trial 0 with value: 292.26142082047147.\n"
          ]
        },
        {
          "name": "stdout",
          "output_type": "stream",
          "text": [
            "4/4 [==============================] - 0s 10ms/step\n"
          ]
        },
        {
          "name": "stderr",
          "output_type": "stream",
          "text": [
            "[I 2023-06-14 13:22:25,253] Trial 1 finished with value: 343.7236468218162 and parameters: {'window_size': 97, 'tcn_filters': 100, 'tcn_kernel_size': 3, 'dropout_rate': 0.3174024222821119, 'attention_dim': 19}. Best is trial 0 with value: 292.26142082047147.\n"
          ]
        },
        {
          "name": "stdout",
          "output_type": "stream",
          "text": [
            "4/4 [==============================] - 0s 8ms/step\n"
          ]
        },
        {
          "name": "stderr",
          "output_type": "stream",
          "text": [
            "[I 2023-06-14 13:22:37,289] Trial 2 finished with value: 315.41860487724625 and parameters: {'window_size': 97, 'tcn_filters': 68, 'tcn_kernel_size': 3, 'dropout_rate': 0.37779343912489627, 'attention_dim': 16}. Best is trial 0 with value: 292.26142082047147.\n"
          ]
        },
        {
          "name": "stdout",
          "output_type": "stream",
          "text": [
            "5/5 [==============================] - 0s 24ms/step\n"
          ]
        },
        {
          "name": "stderr",
          "output_type": "stream",
          "text": [
            "[I 2023-06-14 13:22:59,818] Trial 3 finished with value: 550.5488834349431 and parameters: {'window_size': 84, 'tcn_filters': 126, 'tcn_kernel_size': 5, 'dropout_rate': 0.10626909190661667, 'attention_dim': 9}. Best is trial 0 with value: 292.26142082047147.\n"
          ]
        },
        {
          "name": "stdout",
          "output_type": "stream",
          "text": [
            "6/6 [==============================] - 0s 4ms/step\n"
          ]
        },
        {
          "name": "stderr",
          "output_type": "stream",
          "text": [
            "[I 2023-06-14 13:23:12,840] Trial 4 finished with value: 211.75773210456882 and parameters: {'window_size': 50, 'tcn_filters': 45, 'tcn_kernel_size': 3, 'dropout_rate': 0.19859258073258937, 'attention_dim': 12}. Best is trial 4 with value: 211.75773210456882.\n"
          ]
        },
        {
          "name": "stdout",
          "output_type": "stream",
          "text": [
            "5/5 [==============================] - 1s 12ms/step\n"
          ]
        },
        {
          "name": "stderr",
          "output_type": "stream",
          "text": [
            "[I 2023-06-14 13:23:23,449] Trial 5 finished with value: 563.8121547960881 and parameters: {'window_size': 74, 'tcn_filters': 121, 'tcn_kernel_size': 2, 'dropout_rate': 0.2283351430919158, 'attention_dim': 9}. Best is trial 4 with value: 211.75773210456882.\n"
          ]
        },
        {
          "name": "stdout",
          "output_type": "stream",
          "text": [
            "5/5 [==============================] - 0s 8ms/step\n"
          ]
        },
        {
          "name": "stderr",
          "output_type": "stream",
          "text": [
            "[I 2023-06-14 13:23:35,674] Trial 6 finished with value: 610.2696334599639 and parameters: {'window_size': 95, 'tcn_filters': 95, 'tcn_kernel_size': 2, 'dropout_rate': 0.2763034426027833, 'attention_dim': 29}. Best is trial 4 with value: 211.75773210456882.\n"
          ]
        },
        {
          "name": "stdout",
          "output_type": "stream",
          "text": [
            "6/6 [==============================] - 0s 6ms/step\n"
          ]
        },
        {
          "name": "stderr",
          "output_type": "stream",
          "text": [
            "[I 2023-06-14 13:23:47,828] Trial 7 finished with value: 198.10551532089397 and parameters: {'window_size': 55, 'tcn_filters': 80, 'tcn_kernel_size': 4, 'dropout_rate': 0.20532994229777396, 'attention_dim': 9}. Best is trial 7 with value: 198.10551532089397.\n"
          ]
        },
        {
          "name": "stdout",
          "output_type": "stream",
          "text": [
            "5/5 [==============================] - 0s 10ms/step\n"
          ]
        },
        {
          "name": "stderr",
          "output_type": "stream",
          "text": [
            "[I 2023-06-14 13:24:00,136] Trial 8 finished with value: 271.38400832968216 and parameters: {'window_size': 66, 'tcn_filters': 96, 'tcn_kernel_size': 2, 'dropout_rate': 0.39286901989127687, 'attention_dim': 30}. Best is trial 7 with value: 198.10551532089397.\n"
          ]
        },
        {
          "name": "stdout",
          "output_type": "stream",
          "text": [
            "5/5 [==============================] - 0s 7ms/step\n"
          ]
        },
        {
          "name": "stderr",
          "output_type": "stream",
          "text": [
            "[I 2023-06-14 13:24:07,922] Trial 9 finished with value: 368.52719221480345 and parameters: {'window_size': 74, 'tcn_filters': 84, 'tcn_kernel_size': 3, 'dropout_rate': 0.32483438842476653, 'attention_dim': 17}. Best is trial 7 with value: 198.10551532089397.\n"
          ]
        },
        {
          "name": "stdout",
          "output_type": "stream",
          "text": [
            "7/7 [==============================] - 0s 4ms/step\n"
          ]
        },
        {
          "name": "stderr",
          "output_type": "stream",
          "text": [
            "[I 2023-06-14 13:24:16,867] Trial 10 finished with value: 58.470643332227745 and parameters: {'window_size': 22, 'tcn_filters': 59, 'tcn_kernel_size': 5, 'dropout_rate': 0.44385585324995563, 'attention_dim': 25}. Best is trial 10 with value: 58.470643332227745.\n"
          ]
        },
        {
          "name": "stdout",
          "output_type": "stream",
          "text": [
            "7/7 [==============================] - 0s 4ms/step\n"
          ]
        },
        {
          "name": "stderr",
          "output_type": "stream",
          "text": [
            "[I 2023-06-14 13:24:20,917] Trial 11 finished with value: 84.60406154251073 and parameters: {'window_size': 19, 'tcn_filters': 58, 'tcn_kernel_size': 5, 'dropout_rate': 0.4888600460546493, 'attention_dim': 25}. Best is trial 10 with value: 58.470643332227745.\n"
          ]
        },
        {
          "name": "stdout",
          "output_type": "stream",
          "text": [
            "7/7 [==============================] - 0s 5ms/step\n"
          ]
        },
        {
          "name": "stderr",
          "output_type": "stream",
          "text": [
            "[I 2023-06-14 13:24:25,433] Trial 12 finished with value: 69.79917099873268 and parameters: {'window_size': 21, 'tcn_filters': 53, 'tcn_kernel_size': 5, 'dropout_rate': 0.48038649285795026, 'attention_dim': 24}. Best is trial 10 with value: 58.470643332227745.\n"
          ]
        },
        {
          "name": "stdout",
          "output_type": "stream",
          "text": [
            "7/7 [==============================] - 0s 4ms/step\n"
          ]
        },
        {
          "name": "stderr",
          "output_type": "stream",
          "text": [
            "[I 2023-06-14 13:24:30,368] Trial 13 finished with value: 72.07651303320091 and parameters: {'window_size': 10, 'tcn_filters': 35, 'tcn_kernel_size': 5, 'dropout_rate': 0.4917909451233118, 'attention_dim': 24}. Best is trial 10 with value: 58.470643332227745.\n"
          ]
        },
        {
          "name": "stdout",
          "output_type": "stream",
          "text": [
            "7/7 [==============================] - 0s 4ms/step\n"
          ]
        },
        {
          "name": "stderr",
          "output_type": "stream",
          "text": [
            "[I 2023-06-14 13:24:37,641] Trial 14 finished with value: 133.26464022390957 and parameters: {'window_size': 32, 'tcn_filters': 55, 'tcn_kernel_size': 4, 'dropout_rate': 0.4324643172827528, 'attention_dim': 24}. Best is trial 10 with value: 58.470643332227745.\n"
          ]
        },
        {
          "name": "stdout",
          "output_type": "stream",
          "text": [
            "6/6 [==============================] - 0s 5ms/step\n"
          ]
        },
        {
          "name": "stderr",
          "output_type": "stream",
          "text": [
            "[I 2023-06-14 13:24:45,782] Trial 15 finished with value: 149.35977949264037 and parameters: {'window_size': 34, 'tcn_filters': 67, 'tcn_kernel_size': 4, 'dropout_rate': 0.4450721140408062, 'attention_dim': 27}. Best is trial 10 with value: 58.470643332227745.\n"
          ]
        },
        {
          "name": "stdout",
          "output_type": "stream",
          "text": [
            "6/6 [==============================] - 0s 4ms/step\n"
          ]
        },
        {
          "name": "stderr",
          "output_type": "stream",
          "text": [
            "[I 2023-06-14 13:24:50,250] Trial 16 finished with value: 214.93344014724264 and parameters: {'window_size': 36, 'tcn_filters': 32, 'tcn_kernel_size': 5, 'dropout_rate': 0.49681297853498174, 'attention_dim': 32}. Best is trial 10 with value: 58.470643332227745.\n"
          ]
        },
        {
          "name": "stdout",
          "output_type": "stream",
          "text": [
            "7/7 [==============================] - 0s 4ms/step\n"
          ]
        },
        {
          "name": "stderr",
          "output_type": "stream",
          "text": [
            "[I 2023-06-14 13:24:54,744] Trial 17 finished with value: 71.10707514761226 and parameters: {'window_size': 23, 'tcn_filters': 48, 'tcn_kernel_size': 4, 'dropout_rate': 0.44934295361517523, 'attention_dim': 21}. Best is trial 10 with value: 58.470643332227745.\n"
          ]
        },
        {
          "name": "stdout",
          "output_type": "stream",
          "text": [
            "6/6 [==============================] - 0s 12ms/step\n"
          ]
        },
        {
          "name": "stderr",
          "output_type": "stream",
          "text": [
            "[I 2023-06-14 13:25:07,831] Trial 18 finished with value: 127.1820237117615 and parameters: {'window_size': 45, 'tcn_filters': 68, 'tcn_kernel_size': 5, 'dropout_rate': 0.3768290927170635, 'attention_dim': 21}. Best is trial 10 with value: 58.470643332227745.\n"
          ]
        },
        {
          "name": "stdout",
          "output_type": "stream",
          "text": [
            "7/7 [==============================] - 0s 3ms/step\n"
          ]
        },
        {
          "name": "stderr",
          "output_type": "stream",
          "text": [
            "[I 2023-06-14 13:25:12,389] Trial 19 finished with value: 51.556936180443614 and parameters: {'window_size': 11, 'tcn_filters': 43, 'tcn_kernel_size': 5, 'dropout_rate': 0.42928041059973815, 'attention_dim': 26}. Best is trial 19 with value: 51.556936180443614.\n"
          ]
        },
        {
          "name": "stdout",
          "output_type": "stream",
          "text": [
            "7/7 [==============================] - 0s 3ms/step\n"
          ]
        },
        {
          "name": "stderr",
          "output_type": "stream",
          "text": [
            "[I 2023-06-14 13:25:16,275] Trial 20 finished with value: 52.04541165115336 and parameters: {'window_size': 10, 'tcn_filters': 41, 'tcn_kernel_size': 4, 'dropout_rate': 0.40946405259876295, 'attention_dim': 27}. Best is trial 19 with value: 51.556936180443614.\n"
          ]
        },
        {
          "name": "stdout",
          "output_type": "stream",
          "text": [
            "7/7 [==============================] - 0s 3ms/step\n"
          ]
        },
        {
          "name": "stderr",
          "output_type": "stream",
          "text": [
            "[I 2023-06-14 13:25:21,606] Trial 21 finished with value: 55.92252824993424 and parameters: {'window_size': 11, 'tcn_filters': 43, 'tcn_kernel_size': 4, 'dropout_rate': 0.40681326086710323, 'attention_dim': 28}. Best is trial 19 with value: 51.556936180443614.\n"
          ]
        },
        {
          "name": "stdout",
          "output_type": "stream",
          "text": [
            "7/7 [==============================] - 0s 3ms/step\n"
          ]
        },
        {
          "name": "stderr",
          "output_type": "stream",
          "text": [
            "[I 2023-06-14 13:25:27,408] Trial 22 finished with value: 68.39219824911515 and parameters: {'window_size': 11, 'tcn_filters': 41, 'tcn_kernel_size': 4, 'dropout_rate': 0.3948574589231377, 'attention_dim': 28}. Best is trial 19 with value: 51.556936180443614.\n"
          ]
        },
        {
          "name": "stdout",
          "output_type": "stream",
          "text": [
            "7/7 [==============================] - 0s 3ms/step\n"
          ]
        },
        {
          "name": "stderr",
          "output_type": "stream",
          "text": [
            "[I 2023-06-14 13:25:30,784] Trial 23 finished with value: 52.98182889341446 and parameters: {'window_size': 10, 'tcn_filters': 42, 'tcn_kernel_size': 4, 'dropout_rate': 0.41377613915393263, 'attention_dim': 30}. Best is trial 19 with value: 51.556936180443614.\n"
          ]
        },
        {
          "name": "stdout",
          "output_type": "stream",
          "text": [
            "7/7 [==============================] - 0s 4ms/step\n"
          ]
        },
        {
          "name": "stderr",
          "output_type": "stream",
          "text": [
            "[I 2023-06-14 13:25:37,878] Trial 24 finished with value: 50.97994149915985 and parameters: {'window_size': 29, 'tcn_filters': 37, 'tcn_kernel_size': 4, 'dropout_rate': 0.3487032914823207, 'attention_dim': 32}. Best is trial 24 with value: 50.97994149915985.\n"
          ]
        },
        {
          "name": "stdout",
          "output_type": "stream",
          "text": [
            "7/7 [==============================] - 0s 4ms/step\n"
          ]
        },
        {
          "name": "stderr",
          "output_type": "stream",
          "text": [
            "[I 2023-06-14 13:25:45,467] Trial 25 finished with value: 80.80597928043979 and parameters: {'window_size': 28, 'tcn_filters': 36, 'tcn_kernel_size': 4, 'dropout_rate': 0.355851962770919, 'attention_dim': 31}. Best is trial 24 with value: 50.97994149915985.\n"
          ]
        },
        {
          "name": "stdout",
          "output_type": "stream",
          "text": [
            "6/6 [==============================] - 0s 5ms/step\n"
          ]
        },
        {
          "name": "stderr",
          "output_type": "stream",
          "text": [
            "[I 2023-06-14 13:25:57,655] Trial 26 finished with value: 303.43611924141015 and parameters: {'window_size': 41, 'tcn_filters': 50, 'tcn_kernel_size': 4, 'dropout_rate': 0.35693901421711377, 'attention_dim': 32}. Best is trial 24 with value: 50.97994149915985.\n"
          ]
        },
        {
          "name": "stdout",
          "output_type": "stream",
          "text": [
            "7/7 [==============================] - 0s 5ms/step\n"
          ]
        },
        {
          "name": "stderr",
          "output_type": "stream",
          "text": [
            "[I 2023-06-14 13:26:06,953] Trial 27 finished with value: 51.56760437203014 and parameters: {'window_size': 17, 'tcn_filters': 62, 'tcn_kernel_size': 5, 'dropout_rate': 0.4122769059142329, 'attention_dim': 26}. Best is trial 24 with value: 50.97994149915985.\n"
          ]
        },
        {
          "name": "stdout",
          "output_type": "stream",
          "text": [
            "7/7 [==============================] - 0s 4ms/step\n"
          ]
        },
        {
          "name": "stderr",
          "output_type": "stream",
          "text": [
            "[I 2023-06-14 13:26:12,877] Trial 28 finished with value: 140.97603099705748 and parameters: {'window_size': 27, 'tcn_filters': 61, 'tcn_kernel_size': 5, 'dropout_rate': 0.35491154542782, 'attention_dim': 22}. Best is trial 24 with value: 50.97994149915985.\n"
          ]
        },
        {
          "name": "stdout",
          "output_type": "stream",
          "text": [
            "7/7 [==============================] - 0s 5ms/step\n"
          ]
        },
        {
          "name": "stderr",
          "output_type": "stream",
          "text": [
            "[I 2023-06-14 13:26:21,026] Trial 29 finished with value: 185.91167539821248 and parameters: {'window_size': 17, 'tcn_filters': 74, 'tcn_kernel_size': 5, 'dropout_rate': 0.46636070438140353, 'attention_dim': 19}. Best is trial 24 with value: 50.97994149915985.\n"
          ]
        },
        {
          "name": "stdout",
          "output_type": "stream",
          "text": [
            "6/6 [==============================] - 0s 8ms/step\n"
          ]
        },
        {
          "name": "stderr",
          "output_type": "stream",
          "text": [
            "[I 2023-06-14 13:26:33,644] Trial 30 finished with value: 263.73064274601757 and parameters: {'window_size': 59, 'tcn_filters': 50, 'tcn_kernel_size': 5, 'dropout_rate': 0.42989930598620546, 'attention_dim': 26}. Best is trial 24 with value: 50.97994149915985.\n"
          ]
        },
        {
          "name": "stdout",
          "output_type": "stream",
          "text": [
            "7/7 [==============================] - 0s 3ms/step\n"
          ]
        },
        {
          "name": "stderr",
          "output_type": "stream",
          "text": [
            "[I 2023-06-14 13:26:38,415] Trial 31 finished with value: 107.51475215017916 and parameters: {'window_size': 16, 'tcn_filters': 39, 'tcn_kernel_size': 4, 'dropout_rate': 0.41184800331480914, 'attention_dim': 28}. Best is trial 24 with value: 50.97994149915985.\n"
          ]
        },
        {
          "name": "stdout",
          "output_type": "stream",
          "text": [
            "7/7 [==============================] - 0s 3ms/step\n"
          ]
        },
        {
          "name": "stderr",
          "output_type": "stream",
          "text": [
            "[I 2023-06-14 13:26:41,562] Trial 32 finished with value: 79.80801571278502 and parameters: {'window_size': 17, 'tcn_filters': 35, 'tcn_kernel_size': 3, 'dropout_rate': 0.4209959356254356, 'attention_dim': 26}. Best is trial 24 with value: 50.97994149915985.\n"
          ]
        },
        {
          "name": "stdout",
          "output_type": "stream",
          "text": [
            "7/7 [==============================] - 0s 5ms/step\n"
          ]
        },
        {
          "name": "stderr",
          "output_type": "stream",
          "text": [
            "[I 2023-06-14 13:26:53,700] Trial 33 finished with value: 86.90750049342607 and parameters: {'window_size': 27, 'tcn_filters': 62, 'tcn_kernel_size': 5, 'dropout_rate': 0.4583443666520159, 'attention_dim': 23}. Best is trial 24 with value: 50.97994149915985.\n"
          ]
        },
        {
          "name": "stdout",
          "output_type": "stream",
          "text": [
            "7/7 [==============================] - 0s 5ms/step\n"
          ]
        },
        {
          "name": "stderr",
          "output_type": "stream",
          "text": [
            "[I 2023-06-14 13:27:00,935] Trial 34 finished with value: 107.29854685189258 and parameters: {'window_size': 16, 'tcn_filters': 47, 'tcn_kernel_size': 4, 'dropout_rate': 0.37956308820470314, 'attention_dim': 30}. Best is trial 24 with value: 50.97994149915985.\n"
          ]
        },
        {
          "name": "stdout",
          "output_type": "stream",
          "text": [
            "6/6 [==============================] - 0s 8ms/step\n"
          ]
        },
        {
          "name": "stderr",
          "output_type": "stream",
          "text": [
            "[I 2023-06-14 13:27:14,061] Trial 35 finished with value: 100.67790256009609 and parameters: {'window_size': 41, 'tcn_filters': 73, 'tcn_kernel_size': 3, 'dropout_rate': 0.34021251801157293, 'attention_dim': 27}. Best is trial 24 with value: 50.97994149915985.\n"
          ]
        },
        {
          "name": "stdout",
          "output_type": "stream",
          "text": [
            "7/7 [==============================] - 0s 4ms/step\n"
          ]
        },
        {
          "name": "stderr",
          "output_type": "stream",
          "text": [
            "[I 2023-06-14 13:27:21,775] Trial 36 finished with value: 128.26468142985675 and parameters: {'window_size': 24, 'tcn_filters': 32, 'tcn_kernel_size': 5, 'dropout_rate': 0.29790153388337104, 'attention_dim': 17}. Best is trial 24 with value: 50.97994149915985.\n"
          ]
        },
        {
          "name": "stdout",
          "output_type": "stream",
          "text": [
            "7/7 [==============================] - 0s 3ms/step\n"
          ]
        },
        {
          "name": "stderr",
          "output_type": "stream",
          "text": [
            "[I 2023-06-14 13:27:26,587] Trial 37 finished with value: 63.93154324309256 and parameters: {'window_size': 14, 'tcn_filters': 55, 'tcn_kernel_size': 3, 'dropout_rate': 0.3872492675053398, 'attention_dim': 13}. Best is trial 24 with value: 50.97994149915985.\n"
          ]
        },
        {
          "name": "stdout",
          "output_type": "stream",
          "text": [
            "7/7 [==============================] - 0s 4ms/step\n"
          ]
        },
        {
          "name": "stderr",
          "output_type": "stream",
          "text": [
            "[I 2023-06-14 13:27:33,954] Trial 38 finished with value: 135.74713379073503 and parameters: {'window_size': 31, 'tcn_filters': 45, 'tcn_kernel_size': 4, 'dropout_rate': 0.4717899838727362, 'attention_dim': 29}. Best is trial 24 with value: 50.97994149915985.\n"
          ]
        },
        {
          "name": "stdout",
          "output_type": "stream",
          "text": [
            "7/7 [==============================] - 0s 5ms/step\n"
          ]
        },
        {
          "name": "stderr",
          "output_type": "stream",
          "text": [
            "[I 2023-06-14 13:27:41,360] Trial 39 finished with value: 49.23668103041834 and parameters: {'window_size': 20, 'tcn_filters': 89, 'tcn_kernel_size': 5, 'dropout_rate': 0.4237351765703447, 'attention_dim': 32}. Best is trial 39 with value: 49.23668103041834.\n"
          ]
        },
        {
          "name": "stdout",
          "output_type": "stream",
          "text": [
            "6/6 [==============================] - 0s 6ms/step\n"
          ]
        },
        {
          "name": "stderr",
          "output_type": "stream",
          "text": [
            "[I 2023-06-14 13:27:49,860] Trial 40 finished with value: 237.62544744336668 and parameters: {'window_size': 41, 'tcn_filters': 88, 'tcn_kernel_size': 5, 'dropout_rate': 0.43911430767873993, 'attention_dim': 32}. Best is trial 39 with value: 49.23668103041834.\n"
          ]
        },
        {
          "name": "stdout",
          "output_type": "stream",
          "text": [
            "7/7 [==============================] - 0s 5ms/step\n"
          ]
        },
        {
          "name": "stderr",
          "output_type": "stream",
          "text": [
            "[I 2023-06-14 13:28:02,008] Trial 41 finished with value: 53.862562728580585 and parameters: {'window_size': 21, 'tcn_filters': 101, 'tcn_kernel_size': 5, 'dropout_rate': 0.4034508457997648, 'attention_dim': 31}. Best is trial 39 with value: 49.23668103041834.\n"
          ]
        },
        {
          "name": "stdout",
          "output_type": "stream",
          "text": [
            "5/5 [==============================] - 0s 12ms/step\n"
          ]
        },
        {
          "name": "stderr",
          "output_type": "stream",
          "text": [
            "[I 2023-06-14 13:28:20,615] Trial 42 finished with value: 207.8922932675098 and parameters: {'window_size': 87, 'tcn_filters': 108, 'tcn_kernel_size': 5, 'dropout_rate': 0.4222322077579277, 'attention_dim': 29}. Best is trial 39 with value: 49.23668103041834.\n"
          ]
        },
        {
          "name": "stdout",
          "output_type": "stream",
          "text": [
            "7/7 [==============================] - 0s 5ms/step\n"
          ]
        },
        {
          "name": "stderr",
          "output_type": "stream",
          "text": [
            "[I 2023-06-14 13:28:27,575] Trial 43 finished with value: 164.45169380282653 and parameters: {'window_size': 15, 'tcn_filters': 91, 'tcn_kernel_size': 5, 'dropout_rate': 0.45834815357250913, 'attention_dim': 26}. Best is trial 39 with value: 49.23668103041834.\n"
          ]
        },
        {
          "name": "stdout",
          "output_type": "stream",
          "text": [
            "7/7 [==============================] - 0s 5ms/step\n"
          ]
        },
        {
          "name": "stderr",
          "output_type": "stream",
          "text": [
            "[I 2023-06-14 13:28:34,451] Trial 44 finished with value: 113.84695352890704 and parameters: {'window_size': 26, 'tcn_filters': 81, 'tcn_kernel_size': 5, 'dropout_rate': 0.3736273248012547, 'attention_dim': 31}. Best is trial 39 with value: 49.23668103041834.\n"
          ]
        },
        {
          "name": "stdout",
          "output_type": "stream",
          "text": [
            "7/7 [==============================] - 0s 4ms/step\n"
          ]
        },
        {
          "name": "stderr",
          "output_type": "stream",
          "text": [
            "[I 2023-06-14 13:28:47,621] Trial 45 finished with value: 57.99505949487892 and parameters: {'window_size': 20, 'tcn_filters': 104, 'tcn_kernel_size': 2, 'dropout_rate': 0.3945916855519435, 'attention_dim': 27}. Best is trial 39 with value: 49.23668103041834.\n"
          ]
        },
        {
          "name": "stdout",
          "output_type": "stream",
          "text": [
            "7/7 [==============================] - 0s 3ms/step\n"
          ]
        },
        {
          "name": "stderr",
          "output_type": "stream",
          "text": [
            "[I 2023-06-14 13:28:52,183] Trial 46 finished with value: 48.928642757661365 and parameters: {'window_size': 13, 'tcn_filters': 73, 'tcn_kernel_size': 4, 'dropout_rate': 0.42612563850277885, 'attention_dim': 23}. Best is trial 46 with value: 48.928642757661365.\n"
          ]
        },
        {
          "name": "stdout",
          "output_type": "stream",
          "text": [
            "6/6 [==============================] - 0s 6ms/step\n"
          ]
        },
        {
          "name": "stderr",
          "output_type": "stream",
          "text": [
            "[I 2023-06-14 13:28:59,022] Trial 47 finished with value: 143.6018424921013 and parameters: {'window_size': 36, 'tcn_filters': 74, 'tcn_kernel_size': 5, 'dropout_rate': 0.46597549105832, 'attention_dim': 23}. Best is trial 46 with value: 48.928642757661365.\n"
          ]
        },
        {
          "name": "stdout",
          "output_type": "stream",
          "text": [
            "7/7 [==============================] - 0s 5ms/step\n"
          ]
        },
        {
          "name": "stderr",
          "output_type": "stream",
          "text": [
            "[I 2023-06-14 13:29:06,042] Trial 48 finished with value: 68.95464338424502 and parameters: {'window_size': 31, 'tcn_filters': 86, 'tcn_kernel_size': 4, 'dropout_rate': 0.43715964397523893, 'attention_dim': 19}. Best is trial 46 with value: 48.928642757661365.\n"
          ]
        },
        {
          "name": "stdout",
          "output_type": "stream",
          "text": [
            "5/5 [==============================] - 0s 7ms/step\n"
          ]
        },
        {
          "name": "stderr",
          "output_type": "stream",
          "text": [
            "[I 2023-06-14 13:29:18,201] Trial 49 finished with value: 257.44091322542 and parameters: {'window_size': 76, 'tcn_filters': 66, 'tcn_kernel_size': 3, 'dropout_rate': 0.30902369450448175, 'attention_dim': 25}. Best is trial 46 with value: 48.928642757661365.\n"
          ]
        },
        {
          "name": "stdout",
          "output_type": "stream",
          "text": [
            "7/7 [==============================] - 0s 8ms/step\n"
          ]
        },
        {
          "name": "stderr",
          "output_type": "stream",
          "text": [
            "[I 2023-06-14 13:29:24,876] Trial 50 finished with value: 94.8876314793395 and parameters: {'window_size': 20, 'tcn_filters': 119, 'tcn_kernel_size': 5, 'dropout_rate': 0.43129639001533726, 'attention_dim': 21}. Best is trial 46 with value: 48.928642757661365.\n"
          ]
        },
        {
          "name": "stdout",
          "output_type": "stream",
          "text": [
            "7/7 [==============================] - 0s 3ms/step\n"
          ]
        },
        {
          "name": "stderr",
          "output_type": "stream",
          "text": [
            "[I 2023-06-14 13:29:30,281] Trial 51 finished with value: 71.95510064456093 and parameters: {'window_size': 14, 'tcn_filters': 78, 'tcn_kernel_size': 4, 'dropout_rate': 0.40789539445734785, 'attention_dim': 23}. Best is trial 46 with value: 48.928642757661365.\n"
          ]
        },
        {
          "name": "stdout",
          "output_type": "stream",
          "text": [
            "7/7 [==============================] - 0s 4ms/step\n"
          ]
        },
        {
          "name": "stderr",
          "output_type": "stream",
          "text": [
            "[I 2023-06-14 13:29:35,885] Trial 52 finished with value: 60.990663456170054 and parameters: {'window_size': 13, 'tcn_filters': 92, 'tcn_kernel_size': 4, 'dropout_rate': 0.41934940053626096, 'attention_dim': 25}. Best is trial 46 with value: 48.928642757661365.\n"
          ]
        },
        {
          "name": "stdout",
          "output_type": "stream",
          "text": [
            "7/7 [==============================] - 0s 3ms/step\n"
          ]
        },
        {
          "name": "stderr",
          "output_type": "stream",
          "text": [
            "[I 2023-06-14 13:29:41,679] Trial 53 finished with value: 72.86990123137595 and parameters: {'window_size': 10, 'tcn_filters': 52, 'tcn_kernel_size': 4, 'dropout_rate': 0.4492315542282549, 'attention_dim': 29}. Best is trial 46 with value: 48.928642757661365.\n"
          ]
        },
        {
          "name": "stdout",
          "output_type": "stream",
          "text": [
            "7/7 [==============================] - 0s 3ms/step\n"
          ]
        },
        {
          "name": "stderr",
          "output_type": "stream",
          "text": [
            "[I 2023-06-14 13:29:48,928] Trial 54 finished with value: 63.05021503345464 and parameters: {'window_size': 24, 'tcn_filters': 64, 'tcn_kernel_size': 4, 'dropout_rate': 0.4818948555261449, 'attention_dim': 24}. Best is trial 46 with value: 48.928642757661365.\n"
          ]
        },
        {
          "name": "stdout",
          "output_type": "stream",
          "text": [
            "7/7 [==============================] - 0s 3ms/step\n"
          ]
        },
        {
          "name": "stderr",
          "output_type": "stream",
          "text": [
            "[I 2023-06-14 13:29:56,622] Trial 55 finished with value: 127.27041561649787 and parameters: {'window_size': 19, 'tcn_filters': 38, 'tcn_kernel_size': 5, 'dropout_rate': 0.3959633535802568, 'attention_dim': 28}. Best is trial 46 with value: 48.928642757661365.\n"
          ]
        },
        {
          "name": "stdout",
          "output_type": "stream",
          "text": [
            "7/7 [==============================] - 0s 4ms/step\n"
          ]
        },
        {
          "name": "stderr",
          "output_type": "stream",
          "text": [
            "[I 2023-06-14 13:30:01,130] Trial 56 finished with value: 46.62067422311439 and parameters: {'window_size': 13, 'tcn_filters': 56, 'tcn_kernel_size': 4, 'dropout_rate': 0.3704594339834086, 'attention_dim': 27}. Best is trial 56 with value: 46.62067422311439.\n"
          ]
        },
        {
          "name": "stdout",
          "output_type": "stream",
          "text": [
            "7/7 [==============================] - 0s 4ms/step\n"
          ]
        },
        {
          "name": "stderr",
          "output_type": "stream",
          "text": [
            "[I 2023-06-14 13:30:12,234] Trial 57 finished with value: 110.96100772033317 and parameters: {'window_size': 23, 'tcn_filters': 57, 'tcn_kernel_size': 5, 'dropout_rate': 0.368089938383202, 'attention_dim': 30}. Best is trial 56 with value: 46.62067422311439.\n"
          ]
        },
        {
          "name": "stdout",
          "output_type": "stream",
          "text": [
            "6/6 [==============================] - 0s 8ms/step\n"
          ]
        },
        {
          "name": "stderr",
          "output_type": "stream",
          "text": [
            "[I 2023-06-14 13:30:21,266] Trial 58 finished with value: 177.48344364869928 and parameters: {'window_size': 51, 'tcn_filters': 71, 'tcn_kernel_size': 4, 'dropout_rate': 0.39021338995565896, 'attention_dim': 20}. Best is trial 56 with value: 46.62067422311439.\n"
          ]
        },
        {
          "name": "stdout",
          "output_type": "stream",
          "text": [
            "7/7 [==============================] - 0s 4ms/step\n"
          ]
        },
        {
          "name": "stderr",
          "output_type": "stream",
          "text": [
            "[I 2023-06-14 13:30:29,768] Trial 59 finished with value: 56.97527412892769 and parameters: {'window_size': 18, 'tcn_filters': 77, 'tcn_kernel_size': 3, 'dropout_rate': 0.3271646972998941, 'attention_dim': 22}. Best is trial 56 with value: 46.62067422311439.\n"
          ]
        },
        {
          "name": "stdout",
          "output_type": "stream",
          "text": [
            "7/7 [==============================] - 0s 6ms/step\n"
          ]
        },
        {
          "name": "stderr",
          "output_type": "stream",
          "text": [
            "[I 2023-06-14 13:30:36,913] Trial 60 finished with value: 95.50623103505596 and parameters: {'window_size': 13, 'tcn_filters': 82, 'tcn_kernel_size': 4, 'dropout_rate': 0.3671486468143681, 'attention_dim': 31}. Best is trial 56 with value: 46.62067422311439.\n"
          ]
        },
        {
          "name": "stdout",
          "output_type": "stream",
          "text": [
            "7/7 [==============================] - 1s 3ms/step\n"
          ]
        },
        {
          "name": "stderr",
          "output_type": "stream",
          "text": [
            "[I 2023-06-14 13:30:42,489] Trial 61 finished with value: 50.56842472225138 and parameters: {'window_size': 10, 'tcn_filters': 45, 'tcn_kernel_size': 4, 'dropout_rate': 0.4021470535192708, 'attention_dim': 27}. Best is trial 56 with value: 46.62067422311439.\n"
          ]
        },
        {
          "name": "stdout",
          "output_type": "stream",
          "text": [
            "7/7 [==============================] - 0s 4ms/step\n"
          ]
        },
        {
          "name": "stderr",
          "output_type": "stream",
          "text": [
            "[I 2023-06-14 13:30:47,470] Trial 62 finished with value: 40.111311066914155 and parameters: {'window_size': 14, 'tcn_filters': 45, 'tcn_kernel_size': 4, 'dropout_rate': 0.3838848902409361, 'attention_dim': 26}. Best is trial 62 with value: 40.111311066914155.\n"
          ]
        },
        {
          "name": "stdout",
          "output_type": "stream",
          "text": [
            "7/7 [==============================] - 0s 6ms/step\n"
          ]
        },
        {
          "name": "stderr",
          "output_type": "stream",
          "text": [
            "[I 2023-06-14 13:30:52,761] Trial 63 finished with value: 46.56764245494699 and parameters: {'window_size': 13, 'tcn_filters': 45, 'tcn_kernel_size': 4, 'dropout_rate': 0.38327219566847154, 'attention_dim': 25}. Best is trial 62 with value: 40.111311066914155.\n"
          ]
        },
        {
          "name": "stdout",
          "output_type": "stream",
          "text": [
            "7/7 [==============================] - 0s 3ms/step\n"
          ]
        },
        {
          "name": "stderr",
          "output_type": "stream",
          "text": [
            "[I 2023-06-14 13:30:57,462] Trial 64 finished with value: 52.47027166494458 and parameters: {'window_size': 13, 'tcn_filters': 46, 'tcn_kernel_size': 4, 'dropout_rate': 0.339482660391214, 'attention_dim': 24}. Best is trial 62 with value: 40.111311066914155.\n"
          ]
        },
        {
          "name": "stdout",
          "output_type": "stream",
          "text": [
            "4/4 [==============================] - 0s 10ms/step\n"
          ]
        },
        {
          "name": "stderr",
          "output_type": "stream",
          "text": [
            "[I 2023-06-14 13:31:07,403] Trial 65 finished with value: 292.6565905136151 and parameters: {'window_size': 100, 'tcn_filters': 52, 'tcn_kernel_size': 4, 'dropout_rate': 0.38019256336067025, 'attention_dim': 25}. Best is trial 62 with value: 40.111311066914155.\n"
          ]
        },
        {
          "name": "stdout",
          "output_type": "stream",
          "text": [
            "7/7 [==============================] - 0s 3ms/step\n"
          ]
        },
        {
          "name": "stderr",
          "output_type": "stream",
          "text": [
            "[I 2023-06-14 13:31:12,040] Trial 66 finished with value: 209.82649866846586 and parameters: {'window_size': 22, 'tcn_filters': 48, 'tcn_kernel_size': 4, 'dropout_rate': 0.35938995918577055, 'attention_dim': 29}. Best is trial 62 with value: 40.111311066914155.\n"
          ]
        },
        {
          "name": "stdout",
          "output_type": "stream",
          "text": [
            "6/6 [==============================] - 0s 7ms/step\n"
          ]
        },
        {
          "name": "stderr",
          "output_type": "stream",
          "text": [
            "[I 2023-06-14 13:31:19,204] Trial 67 finished with value: 341.7242717628856 and parameters: {'window_size': 64, 'tcn_filters': 38, 'tcn_kernel_size': 4, 'dropout_rate': 0.3828584303563891, 'attention_dim': 27}. Best is trial 62 with value: 40.111311066914155.\n"
          ]
        },
        {
          "name": "stdout",
          "output_type": "stream",
          "text": [
            "7/7 [==============================] - 0s 3ms/step\n"
          ]
        },
        {
          "name": "stderr",
          "output_type": "stream",
          "text": [
            "[I 2023-06-14 13:31:26,888] Trial 68 finished with value: 57.1321454329091 and parameters: {'window_size': 19, 'tcn_filters': 43, 'tcn_kernel_size': 4, 'dropout_rate': 0.3475641703397183, 'attention_dim': 8}. Best is trial 62 with value: 40.111311066914155.\n"
          ]
        },
        {
          "name": "stdout",
          "output_type": "stream",
          "text": [
            "7/7 [==============================] - 0s 5ms/step\n"
          ]
        },
        {
          "name": "stderr",
          "output_type": "stream",
          "text": [
            "[I 2023-06-14 13:31:31,487] Trial 69 finished with value: 208.8428433844464 and parameters: {'window_size': 13, 'tcn_filters': 55, 'tcn_kernel_size': 4, 'dropout_rate': 0.37314295340589415, 'attention_dim': 22}. Best is trial 62 with value: 40.111311066914155.\n"
          ]
        },
        {
          "name": "stdout",
          "output_type": "stream",
          "text": [
            "7/7 [==============================] - 0s 4ms/step\n"
          ]
        },
        {
          "name": "stderr",
          "output_type": "stream",
          "text": [
            "[I 2023-06-14 13:31:40,668] Trial 70 finished with value: 57.009067634413725 and parameters: {'window_size': 25, 'tcn_filters': 50, 'tcn_kernel_size': 4, 'dropout_rate': 0.36300458827896104, 'attention_dim': 32}. Best is trial 62 with value: 40.111311066914155.\n"
          ]
        },
        {
          "name": "stdout",
          "output_type": "stream",
          "text": [
            "7/7 [==============================] - 0s 3ms/step\n"
          ]
        },
        {
          "name": "stderr",
          "output_type": "stream",
          "text": [
            "[I 2023-06-14 13:31:43,967] Trial 71 finished with value: 57.680629687221035 and parameters: {'window_size': 10, 'tcn_filters': 35, 'tcn_kernel_size': 4, 'dropout_rate': 0.39958230748031254, 'attention_dim': 26}. Best is trial 62 with value: 40.111311066914155.\n"
          ]
        },
        {
          "name": "stdout",
          "output_type": "stream",
          "text": [
            "7/7 [==============================] - 0s 4ms/step\n"
          ]
        },
        {
          "name": "stderr",
          "output_type": "stream",
          "text": [
            "[I 2023-06-14 13:31:49,544] Trial 72 finished with value: 54.08968348673248 and parameters: {'window_size': 15, 'tcn_filters': 44, 'tcn_kernel_size': 4, 'dropout_rate': 0.38797136864386206, 'attention_dim': 28}. Best is trial 62 with value: 40.111311066914155.\n"
          ]
        },
        {
          "name": "stdout",
          "output_type": "stream",
          "text": [
            "7/7 [==============================] - 0s 3ms/step\n"
          ]
        },
        {
          "name": "stderr",
          "output_type": "stream",
          "text": [
            "[I 2023-06-14 13:31:54,372] Trial 73 finished with value: 74.48553866577174 and parameters: {'window_size': 12, 'tcn_filters': 41, 'tcn_kernel_size': 4, 'dropout_rate': 0.4268174510705542, 'attention_dim': 27}. Best is trial 62 with value: 40.111311066914155.\n"
          ]
        },
        {
          "name": "stdout",
          "output_type": "stream",
          "text": [
            "7/7 [==============================] - 0s 3ms/step\n"
          ]
        },
        {
          "name": "stderr",
          "output_type": "stream",
          "text": [
            "[I 2023-06-14 13:31:58,568] Trial 74 finished with value: 55.84456873180972 and parameters: {'window_size': 17, 'tcn_filters': 39, 'tcn_kernel_size': 4, 'dropout_rate': 0.416486904886162, 'attention_dim': 24}. Best is trial 62 with value: 40.111311066914155.\n"
          ]
        },
        {
          "name": "stdout",
          "output_type": "stream",
          "text": [
            "7/7 [==============================] - 0s 4ms/step\n"
          ]
        },
        {
          "name": "stderr",
          "output_type": "stream",
          "text": [
            "[I 2023-06-14 13:32:10,953] Trial 75 finished with value: 85.90001092872637 and parameters: {'window_size': 28, 'tcn_filters': 59, 'tcn_kernel_size': 3, 'dropout_rate': 0.44175231291251144, 'attention_dim': 26}. Best is trial 62 with value: 40.111311066914155.\n"
          ]
        },
        {
          "name": "stdout",
          "output_type": "stream",
          "text": [
            "7/7 [==============================] - 0s 3ms/step\n"
          ]
        },
        {
          "name": "stderr",
          "output_type": "stream",
          "text": [
            "[I 2023-06-14 13:32:14,821] Trial 76 finished with value: 48.069616581316325 and parameters: {'window_size': 10, 'tcn_filters': 34, 'tcn_kernel_size': 2, 'dropout_rate': 0.4056059352007529, 'attention_dim': 25}. Best is trial 62 with value: 40.111311066914155.\n"
          ]
        },
        {
          "name": "stdout",
          "output_type": "stream",
          "text": [
            "7/7 [==============================] - 0s 3ms/step\n"
          ]
        },
        {
          "name": "stderr",
          "output_type": "stream",
          "text": [
            "[I 2023-06-14 13:32:20,041] Trial 77 finished with value: 48.74096338897306 and parameters: {'window_size': 16, 'tcn_filters': 33, 'tcn_kernel_size': 2, 'dropout_rate': 0.4020885148641884, 'attention_dim': 23}. Best is trial 62 with value: 40.111311066914155.\n"
          ]
        },
        {
          "name": "stdout",
          "output_type": "stream",
          "text": [
            "7/7 [==============================] - 0s 4ms/step\n"
          ]
        },
        {
          "name": "stderr",
          "output_type": "stream",
          "text": [
            "[I 2023-06-14 13:32:25,269] Trial 78 finished with value: 56.70117499870449 and parameters: {'window_size': 15, 'tcn_filters': 48, 'tcn_kernel_size': 2, 'dropout_rate': 0.40307190771161105, 'attention_dim': 23}. Best is trial 62 with value: 40.111311066914155.\n"
          ]
        },
        {
          "name": "stdout",
          "output_type": "stream",
          "text": [
            "7/7 [==============================] - 0s 3ms/step\n"
          ]
        },
        {
          "name": "stderr",
          "output_type": "stream",
          "text": [
            "[I 2023-06-14 13:32:28,683] Trial 79 finished with value: 70.86776082686205 and parameters: {'window_size': 22, 'tcn_filters': 34, 'tcn_kernel_size': 2, 'dropout_rate': 0.40322066340233215, 'attention_dim': 25}. Best is trial 62 with value: 40.111311066914155.\n"
          ]
        },
        {
          "name": "stdout",
          "output_type": "stream",
          "text": [
            "7/7 [==============================] - 0s 3ms/step\n"
          ]
        },
        {
          "name": "stderr",
          "output_type": "stream",
          "text": [
            "[I 2023-06-14 13:32:33,082] Trial 80 finished with value: 47.70557826880169 and parameters: {'window_size': 10, 'tcn_filters': 32, 'tcn_kernel_size': 2, 'dropout_rate': 0.4196863738248013, 'attention_dim': 21}. Best is trial 62 with value: 40.111311066914155.\n"
          ]
        },
        {
          "name": "stdout",
          "output_type": "stream",
          "text": [
            "7/7 [==============================] - 0s 3ms/step\n"
          ]
        },
        {
          "name": "stderr",
          "output_type": "stream",
          "text": [
            "[I 2023-06-14 13:32:37,430] Trial 81 finished with value: 79.75397954557391 and parameters: {'window_size': 10, 'tcn_filters': 33, 'tcn_kernel_size': 2, 'dropout_rate': 0.42373123722932615, 'attention_dim': 20}. Best is trial 62 with value: 40.111311066914155.\n"
          ]
        },
        {
          "name": "stdout",
          "output_type": "stream",
          "text": [
            "7/7 [==============================] - 0s 5ms/step\n"
          ]
        },
        {
          "name": "stderr",
          "output_type": "stream",
          "text": [
            "[I 2023-06-14 13:32:40,661] Trial 82 finished with value: 68.33703241806246 and parameters: {'window_size': 17, 'tcn_filters': 32, 'tcn_kernel_size': 2, 'dropout_rate': 0.3865759674337038, 'attention_dim': 21}. Best is trial 62 with value: 40.111311066914155.\n"
          ]
        },
        {
          "name": "stdout",
          "output_type": "stream",
          "text": [
            "7/7 [==============================] - 0s 5ms/step\n"
          ]
        },
        {
          "name": "stderr",
          "output_type": "stream",
          "text": [
            "[I 2023-06-14 13:32:45,325] Trial 83 finished with value: 48.144533094374744 and parameters: {'window_size': 12, 'tcn_filters': 40, 'tcn_kernel_size': 2, 'dropout_rate': 0.4094692642328951, 'attention_dim': 18}. Best is trial 62 with value: 40.111311066914155.\n"
          ]
        },
        {
          "name": "stdout",
          "output_type": "stream",
          "text": [
            "7/7 [==============================] - 0s 3ms/step\n"
          ]
        },
        {
          "name": "stderr",
          "output_type": "stream",
          "text": [
            "[I 2023-06-14 13:32:48,686] Trial 84 finished with value: 42.28672857880779 and parameters: {'window_size': 12, 'tcn_filters': 40, 'tcn_kernel_size': 2, 'dropout_rate': 0.4316199428807495, 'attention_dim': 16}. Best is trial 62 with value: 40.111311066914155.\n"
          ]
        },
        {
          "name": "stdout",
          "output_type": "stream",
          "text": [
            "7/7 [==============================] - 0s 3ms/step\n"
          ]
        },
        {
          "name": "stderr",
          "output_type": "stream",
          "text": [
            "[I 2023-06-14 13:32:53,107] Trial 85 finished with value: 72.91796984884888 and parameters: {'window_size': 13, 'tcn_filters': 40, 'tcn_kernel_size': 2, 'dropout_rate': 0.41314340160451396, 'attention_dim': 12}. Best is trial 62 with value: 40.111311066914155.\n"
          ]
        },
        {
          "name": "stdout",
          "output_type": "stream",
          "text": [
            "7/7 [==============================] - 1s 4ms/step\n"
          ]
        },
        {
          "name": "stderr",
          "output_type": "stream",
          "text": [
            "[I 2023-06-14 13:32:57,338] Trial 86 finished with value: 52.15789792611728 and parameters: {'window_size': 12, 'tcn_filters': 36, 'tcn_kernel_size': 2, 'dropout_rate': 0.44066748382334, 'attention_dim': 16}. Best is trial 62 with value: 40.111311066914155.\n"
          ]
        },
        {
          "name": "stdout",
          "output_type": "stream",
          "text": [
            "7/7 [==============================] - 0s 3ms/step\n"
          ]
        },
        {
          "name": "stderr",
          "output_type": "stream",
          "text": [
            "[I 2023-06-14 13:33:05,461] Trial 87 finished with value: 53.16515224302 and parameters: {'window_size': 16, 'tcn_filters': 36, 'tcn_kernel_size': 2, 'dropout_rate': 0.43321657558163645, 'attention_dim': 18}. Best is trial 62 with value: 40.111311066914155.\n"
          ]
        },
        {
          "name": "stdout",
          "output_type": "stream",
          "text": [
            "7/7 [==============================] - 0s 3ms/step\n"
          ]
        },
        {
          "name": "stderr",
          "output_type": "stream",
          "text": [
            "[I 2023-06-14 13:33:10,279] Trial 88 finished with value: 57.03380573647148 and parameters: {'window_size': 15, 'tcn_filters': 42, 'tcn_kernel_size': 2, 'dropout_rate': 0.37867970837430553, 'attention_dim': 15}. Best is trial 62 with value: 40.111311066914155.\n"
          ]
        },
        {
          "name": "stdout",
          "output_type": "stream",
          "text": [
            "7/7 [==============================] - 0s 3ms/step\n"
          ]
        },
        {
          "name": "stderr",
          "output_type": "stream",
          "text": [
            "[I 2023-06-14 13:33:16,410] Trial 89 finished with value: 72.81360618873575 and parameters: {'window_size': 18, 'tcn_filters': 32, 'tcn_kernel_size': 2, 'dropout_rate': 0.41280319083073047, 'attention_dim': 15}. Best is trial 62 with value: 40.111311066914155.\n"
          ]
        },
        {
          "name": "stdout",
          "output_type": "stream",
          "text": [
            "7/7 [==============================] - 0s 3ms/step\n"
          ]
        },
        {
          "name": "stderr",
          "output_type": "stream",
          "text": [
            "[I 2023-06-14 13:33:19,624] Trial 90 finished with value: 71.50087737669055 and parameters: {'window_size': 12, 'tcn_filters': 37, 'tcn_kernel_size': 2, 'dropout_rate': 0.45226580540134376, 'attention_dim': 18}. Best is trial 62 with value: 40.111311066914155.\n"
          ]
        },
        {
          "name": "stdout",
          "output_type": "stream",
          "text": [
            "7/7 [==============================] - 0s 3ms/step\n"
          ]
        },
        {
          "name": "stderr",
          "output_type": "stream",
          "text": [
            "[I 2023-06-14 13:33:23,662] Trial 91 finished with value: 85.906332669575 and parameters: {'window_size': 19, 'tcn_filters': 40, 'tcn_kernel_size': 2, 'dropout_rate': 0.4229500746461533, 'attention_dim': 22}. Best is trial 62 with value: 40.111311066914155.\n"
          ]
        },
        {
          "name": "stdout",
          "output_type": "stream",
          "text": [
            "7/7 [==============================] - 0s 3ms/step\n"
          ]
        },
        {
          "name": "stderr",
          "output_type": "stream",
          "text": [
            "[I 2023-06-14 13:33:30,906] Trial 92 finished with value: 90.72364385447915 and parameters: {'window_size': 21, 'tcn_filters': 34, 'tcn_kernel_size': 2, 'dropout_rate': 0.4303353098426439, 'attention_dim': 19}. Best is trial 62 with value: 40.111311066914155.\n"
          ]
        },
        {
          "name": "stdout",
          "output_type": "stream",
          "text": [
            "7/7 [==============================] - 0s 4ms/step\n"
          ]
        },
        {
          "name": "stderr",
          "output_type": "stream",
          "text": [
            "[I 2023-06-14 13:33:37,741] Trial 93 finished with value: 113.2150149877506 and parameters: {'window_size': 15, 'tcn_filters': 95, 'tcn_kernel_size': 2, 'dropout_rate': 0.3953900602689714, 'attention_dim': 16}. Best is trial 62 with value: 40.111311066914155.\n"
          ]
        },
        {
          "name": "stdout",
          "output_type": "stream",
          "text": [
            "7/7 [==============================] - 0s 7ms/step\n"
          ]
        },
        {
          "name": "stderr",
          "output_type": "stream",
          "text": [
            "[I 2023-06-14 13:33:42,456] Trial 94 finished with value: 59.104815548209544 and parameters: {'window_size': 12, 'tcn_filters': 38, 'tcn_kernel_size': 3, 'dropout_rate': 0.4158648545184935, 'attention_dim': 24}. Best is trial 62 with value: 40.111311066914155.\n"
          ]
        },
        {
          "name": "stdout",
          "output_type": "stream",
          "text": [
            "7/7 [==============================] - 0s 3ms/step\n"
          ]
        },
        {
          "name": "stderr",
          "output_type": "stream",
          "text": [
            "[I 2023-06-14 13:33:47,630] Trial 95 finished with value: 54.678758715399624 and parameters: {'window_size': 10, 'tcn_filters': 43, 'tcn_kernel_size': 2, 'dropout_rate': 0.40717952088204884, 'attention_dim': 21}. Best is trial 62 with value: 40.111311066914155.\n"
          ]
        },
        {
          "name": "stdout",
          "output_type": "stream",
          "text": [
            "7/7 [==============================] - 0s 4ms/step\n"
          ]
        },
        {
          "name": "stderr",
          "output_type": "stream",
          "text": [
            "[I 2023-06-14 13:33:54,880] Trial 96 finished with value: 41.50310267465768 and parameters: {'window_size': 17, 'tcn_filters': 85, 'tcn_kernel_size': 2, 'dropout_rate': 0.4472657530760159, 'attention_dim': 17}. Best is trial 62 with value: 40.111311066914155.\n"
          ]
        },
        {
          "name": "stdout",
          "output_type": "stream",
          "text": [
            "7/7 [==============================] - 0s 3ms/step\n"
          ]
        },
        {
          "name": "stderr",
          "output_type": "stream",
          "text": [
            "[I 2023-06-14 13:33:59,064] Trial 97 finished with value: 59.28804427719872 and parameters: {'window_size': 17, 'tcn_filters': 46, 'tcn_kernel_size': 2, 'dropout_rate': 0.44682389096500896, 'attention_dim': 17}. Best is trial 62 with value: 40.111311066914155.\n"
          ]
        },
        {
          "name": "stdout",
          "output_type": "stream",
          "text": [
            "7/7 [==============================] - 0s 3ms/step\n"
          ]
        },
        {
          "name": "stderr",
          "output_type": "stream",
          "text": [
            "[I 2023-06-14 13:34:04,706] Trial 98 finished with value: 72.07721868675767 and parameters: {'window_size': 14, 'tcn_filters': 85, 'tcn_kernel_size': 2, 'dropout_rate': 0.43490386198056996, 'attention_dim': 18}. Best is trial 62 with value: 40.111311066914155.\n"
          ]
        },
        {
          "name": "stdout",
          "output_type": "stream",
          "text": [
            "7/7 [==============================] - 0s 4ms/step\n"
          ]
        },
        {
          "name": "stderr",
          "output_type": "stream",
          "text": [
            "[I 2023-06-14 13:34:09,297] Trial 99 finished with value: 45.2481047196315 and parameters: {'window_size': 12, 'tcn_filters': 70, 'tcn_kernel_size': 2, 'dropout_rate': 0.457626590774595, 'attention_dim': 17}. Best is trial 62 with value: 40.111311066914155.\n"
          ]
        }
      ],
      "source": [
        "# Define the search space for the hyperparameters\n",
        "study = optuna.create_study(direction=\"minimize\")\n",
        "study.optimize(objective, n_trials=100)"
      ]
    },
    {
      "cell_type": "code",
      "execution_count": 15,
      "id": "MIC7AbkU-qLy",
      "metadata": {
        "colab": {
          "base_uri": "https://localhost:8080/"
        },
        "id": "MIC7AbkU-qLy",
        "outputId": "61595ce7-d927-464a-b1ca-bce7bfb1d480"
      },
      "outputs": [
        {
          "name": "stdout",
          "output_type": "stream",
          "text": [
            "Best Hyperparameters: {'window_size': 14, 'tcn_filters': 45, 'tcn_kernel_size': 4, 'dropout_rate': 0.3838848902409361, 'attention_dim': 26}\n"
          ]
        }
      ],
      "source": [
        "# Display the optimal set of parameters\n",
        "best_params = study.best_params\n",
        "print(\"Best Hyperparameters:\", best_params)"
      ]
    },
    {
      "cell_type": "code",
      "execution_count": 16,
      "id": "gIcsWJky-scK",
      "metadata": {
        "colab": {
          "base_uri": "https://localhost:8080/"
        },
        "id": "gIcsWJky-scK",
        "outputId": "6dcddc16-c50e-4a3a-a1ec-2754f9e9bc62"
      },
      "outputs": [
        {
          "name": "stdout",
          "output_type": "stream",
          "text": [
            "MAPE on Test dataset:  0.09206451432922337\n",
            "RMSE on Test dataset:  6.333349119298111\n",
            "MSLE on Test dataset:  0.014883675815589201\n"
          ]
        }
      ],
      "source": [
        "# Evaluate the accuracy of test\n",
        "print(f\"MAPE on Test dataset: \", best_mape)\n",
        "print(f\"RMSE on Test dataset: \", best_rmse)\n",
        "print(f\"MSLE on Test dataset: \", best_msle)"
      ]
    },
    {
      "attachments": {},
      "cell_type": "markdown",
      "id": "LAq2jnXOj6aI",
      "metadata": {
        "id": "LAq2jnXOj6aI"
      },
      "source": [
        "### Save and Load the best model and related information"
      ]
    },
    {
      "cell_type": "code",
      "execution_count": 17,
      "id": "VOV_a65HsGiB",
      "metadata": {
        "id": "VOV_a65HsGiB"
      },
      "outputs": [],
      "source": [
        "# Save the best model and related information\n",
        "best_model.save('/content/drive/MyDrive/Colab Notebooks/Business Data Analysis/CTLT/7:1:2/best_model.h5')\n",
        "\n",
        "np.save('/content/drive/MyDrive/Colab Notebooks/Business Data Analysis/CTLT/7:1:2/best_window_size.npy', best_window_size)\n",
        "np.save('/content/drive/MyDrive/Colab Notebooks/Business Data Analysis/CTLT/7:1:2/best_train_windows.npy', best_train_windows)\n",
        "np.save('/content/drive/MyDrive/Colab Notebooks/Business Data Analysis/CTLT/7:1:2/best_train_targets.npy', best_train_targets)\n",
        "np.save('/content/drive/MyDrive/Colab Notebooks/Business Data Analysis/CTLT/7:1:2/best_test_windows.npy', best_test_windows)\n",
        "np.save('/content/drive/MyDrive/Colab Notebooks/Business Data Analysis/CTLT/7:1:2/best_test_targets.npy', best_test_targets)\n",
        "np.save('/content/drive/MyDrive/Colab Notebooks/Business Data Analysis/CTLT/7:1:2/best_val_windows.npy', best_val_windows)\n",
        "np.save('/content/drive/MyDrive/Colab Notebooks/Business Data Analysis/CTLT/7:1:2/best_val_targets.npy', best_val_targets)\n",
        "\n",
        "np.save('/content/drive/MyDrive/Colab Notebooks/Business Data Analysis/CTLT/7:1:2/best_y_pred.npy', best_y_pred)\n",
        "\n",
        "np.save('/content/drive/MyDrive/Colab Notebooks/Business Data Analysis/CTLT/7:1:2/best_mse.npy', best_mse)\n",
        "np.save('/content/drive/MyDrive/Colab Notebooks/Business Data Analysis/CTLT/7:1:2/best_rmse.npy', best_rmse)\n",
        "np.save('/content/drive/MyDrive/Colab Notebooks/Business Data Analysis/CTLT/7:1:2/best_mape.npy', best_mape)\n",
        "np.save('/content/drive/MyDrive/Colab Notebooks/Business Data Analysis/CTLT/7:1:2/best_msle.npy', best_msle)"
      ]
    },
    {
      "cell_type": "code",
      "execution_count": 18,
      "id": "CYIqqiJn-7Jp",
      "metadata": {
        "id": "CYIqqiJn-7Jp"
      },
      "outputs": [],
      "source": [
        "# Load the best model and related information\n",
        "with custom_object_scope({'AttentionLayer': AttentionLayer}):\n",
        "    loaded_best_model = load_model('/content/drive/MyDrive/Colab Notebooks/Business Data Analysis/CTLT/7:1:2/best_model.h5')\n",
        "\n",
        "loaded_best_window_size = np.load('/content/drive/MyDrive/Colab Notebooks/Business Data Analysis/CTLT/7:1:2/best_window_size.npy')\n",
        "loaded_best_train_windows = np.load('/content/drive/MyDrive/Colab Notebooks/Business Data Analysis/CTLT/7:1:2/best_train_windows.npy')\n",
        "loaded_best_train_targets = np.load('/content/drive/MyDrive/Colab Notebooks/Business Data Analysis/CTLT/7:1:2/best_train_targets.npy')\n",
        "loaded_best_test_windows = np.load('/content/drive/MyDrive/Colab Notebooks/Business Data Analysis/CTLT/7:1:2/best_test_windows.npy')\n",
        "loaded_best_test_targets = np.load('/content/drive/MyDrive/Colab Notebooks/Business Data Analysis/CTLT/7:1:2/best_test_targets.npy')\n",
        "loaded_best_val_windows = np.load('/content/drive/MyDrive/Colab Notebooks/Business Data Analysis/CTLT/7:1:2/best_val_windows.npy')\n",
        "loaded_best_val_targets = np.load('/content/drive/MyDrive/Colab Notebooks/Business Data Analysis/CTLT/7:1:2/best_val_targets.npy')\n",
        "\n",
        "loaded_best_y_pred = np.load('/content/drive/MyDrive/Colab Notebooks/Business Data Analysis/CTLT/7:1:2/best_y_pred.npy')\n",
        "\n",
        "loaded_best_mse = np.load('/content/drive/MyDrive/Colab Notebooks/Business Data Analysis/CTLT/7:1:2/best_mse.npy').item()\n",
        "loaded_best_rmse = np.load('/content/drive/MyDrive/Colab Notebooks/Business Data Analysis/CTLT/7:1:2/best_rmse.npy').item()\n",
        "loaded_best_mape = np.load('/content/drive/MyDrive/Colab Notebooks/Business Data Analysis/CTLT/7:1:2/best_mape.npy').item()\n",
        "loaded_best_msle = np.load('/content/drive/MyDrive/Colab Notebooks/Business Data Analysis/CTLT/7:1:2/best_msle.npy').item()"
      ]
    },
    {
      "attachments": {},
      "cell_type": "markdown",
      "id": "ZV6VbX2qiTJ2",
      "metadata": {
        "id": "ZV6VbX2qiTJ2"
      },
      "source": [
        "## Predicting the next 30 days"
      ]
    },
    {
      "attachments": {},
      "cell_type": "markdown",
      "id": "KheB_eYIiU4b",
      "metadata": {
        "id": "KheB_eYIiU4b"
      },
      "source": [
        "### Preparing the forecast date index"
      ]
    },
    {
      "cell_type": "code",
      "execution_count": 19,
      "id": "nEQ97NJuiPPW",
      "metadata": {
        "id": "nEQ97NJuiPPW"
      },
      "outputs": [],
      "source": [
        "# Get the last date from the current index\n",
        "last_date = df.index[-1]\n",
        "\n",
        "# Add one day to the last date\n",
        "next_date = last_date + pd.DateOffset(days=1)\n",
        "\n",
        "# Create a list of indices starting from the next date for 30 days\n",
        "index_next_30_days = pd.date_range(start=next_date, periods=30).tolist()"
      ]
    },
    {
      "attachments": {},
      "cell_type": "markdown",
      "id": "35CEaBcIiX6-",
      "metadata": {
        "id": "35CEaBcIiX6-"
      },
      "source": [
        "## Prediction process"
      ]
    },
    {
      "cell_type": "code",
      "execution_count": 20,
      "id": "45367300",
      "metadata": {
        "colab": {
          "base_uri": "https://localhost:8080/"
        },
        "id": "45367300",
        "outputId": "c1c0a046-7f5c-4d75-f794-936f00162891"
      },
      "outputs": [
        {
          "name": "stdout",
          "output_type": "stream",
          "text": [
            "1/1 [==============================] - 0s 189ms/step\n",
            "1/1 [==============================] - 0s 23ms/step\n",
            "1/1 [==============================] - 0s 36ms/step\n",
            "1/1 [==============================] - 0s 22ms/step\n",
            "1/1 [==============================] - 0s 28ms/step\n",
            "1/1 [==============================] - 0s 25ms/step\n",
            "1/1 [==============================] - 0s 22ms/step\n",
            "1/1 [==============================] - 0s 23ms/step\n",
            "1/1 [==============================] - 0s 25ms/step\n",
            "1/1 [==============================] - 0s 22ms/step\n",
            "1/1 [==============================] - 0s 22ms/step\n",
            "1/1 [==============================] - 0s 23ms/step\n",
            "1/1 [==============================] - 0s 22ms/step\n",
            "1/1 [==============================] - 0s 23ms/step\n",
            "1/1 [==============================] - 0s 25ms/step\n",
            "1/1 [==============================] - 0s 23ms/step\n",
            "1/1 [==============================] - 0s 22ms/step\n",
            "1/1 [==============================] - 0s 23ms/step\n",
            "1/1 [==============================] - 0s 21ms/step\n",
            "1/1 [==============================] - 0s 22ms/step\n",
            "1/1 [==============================] - 0s 24ms/step\n",
            "1/1 [==============================] - 0s 24ms/step\n",
            "1/1 [==============================] - 0s 23ms/step\n",
            "1/1 [==============================] - 0s 23ms/step\n",
            "1/1 [==============================] - 0s 28ms/step\n",
            "1/1 [==============================] - 0s 22ms/step\n",
            "1/1 [==============================] - 0s 24ms/step\n",
            "1/1 [==============================] - 0s 24ms/step\n",
            "1/1 [==============================] - 0s 22ms/step\n",
            "1/1 [==============================] - 0s 26ms/step\n"
          ]
        }
      ],
      "source": [
        "# Predict the closing price for the next 30 days\n",
        "last_sequence_days = np.array(data_scaled[-loaded_best_window_size:]).reshape(1, -1, 1)\n",
        "y_next_30_days = []\n",
        "\n",
        "for i in range(30):\n",
        "    # Predict the next day's closing price\n",
        "    next_day_pred = loaded_best_model.predict(last_sequence_days)\n",
        "\n",
        "    # Save prediction\n",
        "    y_next_30_days.append(next_day_pred[0][0])\n",
        "\n",
        "    # Update data for the next day\n",
        "    last_sequence_days = np.concatenate([last_sequence_days[:, 1:, :], next_day_pred.reshape(1, 1, 1)], axis=1)"
      ]
    },
    {
      "cell_type": "code",
      "execution_count": 21,
      "id": "3ncvl1BxmTdL",
      "metadata": {
        "colab": {
          "base_uri": "https://localhost:8080/"
        },
        "id": "3ncvl1BxmTdL",
        "outputId": "303c2027-430f-4910-fa1b-53a803c1383c"
      },
      "outputs": [
        {
          "name": "stdout",
          "output_type": "stream",
          "text": [
            "Predicted closing prices for the next 30 days:\n",
            "[43.614147 44.201096 44.442284 44.639713 44.791027 44.92887  45.029408\n",
            " 45.103985 45.1586   45.199757 45.231243 45.25517  45.273697 45.287865\n",
            " 45.298775 45.307358 45.31403  45.31922  45.323246 45.326363 45.328785\n",
            " 45.33067  45.33214  45.333294 45.33419  45.33489  45.335438 45.335857\n",
            " 45.33619  45.336445]\n"
          ]
        }
      ],
      "source": [
        "print('Predicted closing prices for the next 30 days:')\n",
        "y_next_30_days = scaler.inverse_transform(np.array(y_next_30_days).reshape(-1, 1))\n",
        "print(y_next_30_days.flatten())"
      ]
    },
    {
      "attachments": {},
      "cell_type": "markdown",
      "id": "ONh3k9wBids4",
      "metadata": {
        "id": "ONh3k9wBids4"
      },
      "source": [
        "## Visualization"
      ]
    },
    {
      "cell_type": "code",
      "execution_count": 22,
      "id": "NwtqPyJeMaGL",
      "metadata": {
        "colab": {
          "base_uri": "https://localhost:8080/",
          "height": 487
        },
        "id": "NwtqPyJeMaGL",
        "outputId": "2ddb914c-53b2-47cb-c241-aa019a6947c9"
      },
      "outputs": [
        {
          "data": {
            "image/png": "[encoded data removed]",
            "text/plain": [
              "<Figure size 1200x500 with 1 Axes>"
            ]
          },
          "metadata": {},
          "output_type": "display_data"
        }
      ],
      "source": [
        "plt.figure(figsize=(12, 5))\n",
        "\n",
        "plt.plot(df.index[:train_size], scaler.inverse_transform(train_data))\n",
        "\n",
        "plt.plot(df.index[train_size : train_size + val_size], scaler.inverse_transform(val_data))\n",
        "\n",
        "plt.plot(df.index[train_size + val_size : ], scaler.inverse_transform(test_data))\n",
        "\n",
        "plt.plot(df.index[train_size + val_size + loaded_best_window_size: ], loaded_best_y_pred)\n",
        "\n",
        "plt.plot(index_next_30_days, y_next_30_days)\n",
        "\n",
        "plt.legend(['Train', 'Validate', 'Test', 'Predict', 'Predict30days'])\n",
        "\n",
        "plt.grid()\n",
        "plt.title(f\"Catalent Closing Price Data from {df.index[0].strftime('%Y-%m-%d')} to {index_next_30_days[-1].strftime('%Y-%m-%d')}\")\n",
        "plt.xlabel(\"Date\")\n",
        "plt.ylabel(\"Close value\")\n",
        "plt.savefig('TCAN_712_CTLT.png')\n",
        "plt.show()"
      ]
    }
  ],
  "metadata": {
    "colab": {
      "provenance": []
    },
    "kernelspec": {
      "display_name": "Python 3 (ipykernel)",
      "language": "python",
      "name": "python3"
    },
    "language_info": {
      "codemirror_mode": {
        "name": "ipython",
        "version": 3
      },
      "file_extension": ".py",
      "mimetype": "text/x-python",
      "name": "python",
      "nbconvert_exporter": "python",
      "pygments_lexer": "ipython3",
      "version": "3.9.13"
    }
  },
  "nbformat": 4,
  "nbformat_minor": 5
}
