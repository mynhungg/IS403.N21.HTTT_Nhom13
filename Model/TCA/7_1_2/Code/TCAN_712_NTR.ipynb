{
  "cells": [
    {
      "cell_type": "markdown",
      "source": [
        "## Preparation"
      ],
      "metadata": {
        "id": "Ty-2HmFfAEUU"
      },
      "id": "Ty-2HmFfAEUU"
    },
    {
      "cell_type": "markdown",
      "source": [
        "### Download the optimization support library package"
      ],
      "metadata": {
        "id": "wCHCM3ifASoq"
      },
      "id": "wCHCM3ifASoq"
    },
    {
      "cell_type": "code",
      "source": [
        "!pip install optuna"
      ],
      "metadata": {
        "colab": {
          "base_uri": "https://localhost:8080/"
        },
        "id": "h-uK9HgR9_AM",
        "outputId": "7e2cfd6c-6014-4f2d-c82c-70905b95f0e0"
      },
      "id": "h-uK9HgR9_AM",
      "execution_count": 1,
      "outputs": [
        {
          "output_type": "stream",
          "name": "stdout",
          "text": [
            "Looking in indexes: https://pypi.org/simple, https://us-python.pkg.dev/colab-wheels/public/simple/\n",
            "Collecting optuna\n",
            "  Downloading optuna-3.2.0-py3-none-any.whl (390 kB)\n",
            "\u001b[2K     \u001b[90m━━━━━━━━━━━━━━━━━━━━━━━━━━━━━━━━━━━━━━\u001b[0m \u001b[32m390.6/390.6 kB\u001b[0m \u001b[31m27.0 MB/s\u001b[0m eta \u001b[36m0:00:00\u001b[0m\n",
            "\u001b[?25hCollecting alembic>=1.5.0 (from optuna)\n",
            "  Downloading alembic-1.11.1-py3-none-any.whl (224 kB)\n",
            "\u001b[2K     \u001b[90m━━━━━━━━━━━━━━━━━━━━━━━━━━━━━━━━━━━━━━\u001b[0m \u001b[32m224.5/224.5 kB\u001b[0m \u001b[31m25.8 MB/s\u001b[0m eta \u001b[36m0:00:00\u001b[0m\n",
            "\u001b[?25hCollecting cmaes>=0.9.1 (from optuna)\n",
            "  Downloading cmaes-0.9.1-py3-none-any.whl (21 kB)\n",
            "Collecting colorlog (from optuna)\n",
            "  Downloading colorlog-6.7.0-py2.py3-none-any.whl (11 kB)\n",
            "Requirement already satisfied: numpy in /usr/local/lib/python3.10/dist-packages (from optuna) (1.22.4)\n",
            "Requirement already satisfied: packaging>=20.0 in /usr/local/lib/python3.10/dist-packages (from optuna) (23.1)\n",
            "Requirement already satisfied: sqlalchemy>=1.3.0 in /usr/local/lib/python3.10/dist-packages (from optuna) (2.0.10)\n",
            "Requirement already satisfied: tqdm in /usr/local/lib/python3.10/dist-packages (from optuna) (4.65.0)\n",
            "Requirement already satisfied: PyYAML in /usr/local/lib/python3.10/dist-packages (from optuna) (6.0)\n",
            "Collecting Mako (from alembic>=1.5.0->optuna)\n",
            "  Downloading Mako-1.2.4-py3-none-any.whl (78 kB)\n",
            "\u001b[2K     \u001b[90m━━━━━━━━━━━━━━━━━━━━━━━━━━━━━━━━━━━━━━━━\u001b[0m \u001b[32m78.7/78.7 kB\u001b[0m \u001b[31m10.7 MB/s\u001b[0m eta \u001b[36m0:00:00\u001b[0m\n",
            "\u001b[?25hRequirement already satisfied: typing-extensions>=4 in /usr/local/lib/python3.10/dist-packages (from alembic>=1.5.0->optuna) (4.5.0)\n",
            "Requirement already satisfied: greenlet!=0.4.17 in /usr/local/lib/python3.10/dist-packages (from sqlalchemy>=1.3.0->optuna) (2.0.2)\n",
            "Requirement already satisfied: MarkupSafe>=0.9.2 in /usr/local/lib/python3.10/dist-packages (from Mako->alembic>=1.5.0->optuna) (2.1.2)\n",
            "Installing collected packages: Mako, colorlog, cmaes, alembic, optuna\n",
            "Successfully installed Mako-1.2.4 alembic-1.11.1 cmaes-0.9.1 colorlog-6.7.0 optuna-3.2.0\n"
          ]
        }
      ]
    },
    {
      "cell_type": "markdown",
      "source": [
        "### Connect to Google Drive"
      ],
      "metadata": {
        "id": "-yVNLlKiAkLO"
      },
      "id": "-yVNLlKiAkLO"
    },
    {
      "cell_type": "code",
      "source": [
        "from google.colab import drive\n",
        "drive.mount('/content/drive', force_remount=True)"
      ],
      "metadata": {
        "colab": {
          "base_uri": "https://localhost:8080/"
        },
        "id": "O32NLGXv96h9",
        "outputId": "a6e534ca-0b3e-4f44-c327-a22ac6a131e3"
      },
      "id": "O32NLGXv96h9",
      "execution_count": 2,
      "outputs": [
        {
          "output_type": "stream",
          "name": "stdout",
          "text": [
            "Mounted at /content/drive\n"
          ]
        }
      ]
    },
    {
      "cell_type": "markdown",
      "source": [
        "## Import Libraries"
      ],
      "metadata": {
        "id": "W53Qynm-ZVZt"
      },
      "id": "W53Qynm-ZVZt"
    },
    {
      "cell_type": "code",
      "execution_count": 3,
      "id": "87d177e7",
      "metadata": {
        "id": "87d177e7"
      },
      "outputs": [],
      "source": [
        "# Library to support working with data\n",
        "import numpy as np\n",
        "import pandas as pd\n",
        "\n",
        "# Graphing support library\n",
        "import matplotlib.pyplot as plt\n",
        "\n",
        "# Data Normalization Support Library\n",
        "from sklearn.preprocessing import MinMaxScaler\n",
        "\n",
        "# Library to support building Temporal Convolutional Attention Networks models\n",
        "from tensorflow.keras.models import Model\n",
        "from tensorflow.keras.optimizers import Adam\n",
        "from tensorflow.keras.callbacks import EarlyStopping\n",
        "from tensorflow.keras.layers import Dense, Flatten, Conv1D, MaxPooling1D, GlobalMaxPooling1D, Dropout, SpatialDropout1D\n",
        "from tensorflow.keras.layers import Layer, RepeatVector, concatenate, Reshape, Input, Concatenate, Permute, Multiply, Add, Activation\n",
        "\n",
        "# Performance metrics calculation support library\n",
        "from sklearn.metrics import mean_squared_error, mean_absolute_percentage_error, mean_squared_log_error\n",
        "\n",
        "# Parameter optimization support library\n",
        "import optuna\n",
        "\n",
        "# Support library to ignore warnings\n",
        "import warnings\n",
        "warnings.filterwarnings(\"ignore\")\n",
        "\n",
        "# Support library to load models and data\n",
        "from keras.utils import custom_object_scope\n",
        "from tensorflow.keras.models import load_model"
      ]
    },
    {
      "cell_type": "markdown",
      "source": [
        "## Data preprocessing"
      ],
      "metadata": {
        "id": "-DlshO-2cJbs"
      },
      "id": "-DlshO-2cJbs"
    },
    {
      "cell_type": "markdown",
      "source": [
        "### Read data"
      ],
      "metadata": {
        "id": "ezxH2qTIcLnT"
      },
      "id": "ezxH2qTIcLnT"
    },
    {
      "cell_type": "code",
      "execution_count": 4,
      "id": "77ce5605",
      "metadata": {
        "colab": {
          "base_uri": "https://localhost:8080/",
          "height": 423
        },
        "id": "77ce5605",
        "outputId": "88566ba3-57ff-4869-e936-af3fc15afb9f"
      },
      "outputs": [
        {
          "output_type": "execute_result",
          "data": {
            "text/plain": [
              "            Date       Open       High        Low      Close  Adj Close  \\\n",
              "0     2019-01-02  46.209999  46.990002  45.855000  46.259998  40.076595   \n",
              "1     2019-01-03  46.000000  46.099998  44.882999  45.049999  39.028339   \n",
              "2     2019-01-04  45.950001  47.180000  45.880001  47.130001  40.830315   \n",
              "3     2019-01-07  47.310001  48.110001  46.840000  47.740002  41.358772   \n",
              "4     2019-01-08  48.709999  49.480000  48.520000  49.209999  42.632286   \n",
              "...          ...        ...        ...        ...        ...        ...   \n",
              "1114  2023-06-06  53.000000  57.294998  52.820000  57.220001  57.220001   \n",
              "1115  2023-06-07  57.610001  59.750000  57.520000  59.340000  59.340000   \n",
              "1116  2023-06-08  59.400002  60.080002  57.910000  58.939999  58.939999   \n",
              "1117  2023-06-09  58.959999  59.349998  58.290001  58.790001  58.790001   \n",
              "1118  2023-06-12  58.279999  59.650002  58.279999  59.610001  59.610001   \n",
              "\n",
              "       Volume  \n",
              "0     1289100  \n",
              "1     1158800  \n",
              "2     1538500  \n",
              "3      954700  \n",
              "4     1921800  \n",
              "...       ...  \n",
              "1114  6397900  \n",
              "1115  2925500  \n",
              "1116  2828400  \n",
              "1117  1686600  \n",
              "1118  1563100  \n",
              "\n",
              "[1119 rows x 7 columns]"
            ],
            "text/html": [
              "\n",
              "  <div id=\"df-71bddbc2-a9d0-4411-a997-742b31c11335\">\n",
              "    <div class=\"colab-df-container\">\n",
              "      <div>\n",
              "<style scoped>\n",
              "    .dataframe tbody tr th:only-of-type {\n",
              "        vertical-align: middle;\n",
              "    }\n",
              "\n",
              "    .dataframe tbody tr th {\n",
              "        vertical-align: top;\n",
              "    }\n",
              "\n",
              "    .dataframe thead th {\n",
              "        text-align: right;\n",
              "    }\n",
              "</style>\n",
              "<table border=\"1\" class=\"dataframe\">\n",
              "  <thead>\n",
              "    <tr style=\"text-align: right;\">\n",
              "      <th></th>\n",
              "      <th>Date</th>\n",
              "      <th>Open</th>\n",
              "      <th>High</th>\n",
              "      <th>Low</th>\n",
              "      <th>Close</th>\n",
              "      <th>Adj Close</th>\n",
              "      <th>Volume</th>\n",
              "    </tr>\n",
              "  </thead>\n",
              "  <tbody>\n",
              "    <tr>\n",
              "      <th>0</th>\n",
              "      <td>2019-01-02</td>\n",
              "      <td>46.209999</td>\n",
              "      <td>46.990002</td>\n",
              "      <td>45.855000</td>\n",
              "      <td>46.259998</td>\n",
              "      <td>40.076595</td>\n",
              "      <td>1289100</td>\n",
              "    </tr>\n",
              "    <tr>\n",
              "      <th>1</th>\n",
              "      <td>2019-01-03</td>\n",
              "      <td>46.000000</td>\n",
              "      <td>46.099998</td>\n",
              "      <td>44.882999</td>\n",
              "      <td>45.049999</td>\n",
              "      <td>39.028339</td>\n",
              "      <td>1158800</td>\n",
              "    </tr>\n",
              "    <tr>\n",
              "      <th>2</th>\n",
              "      <td>2019-01-04</td>\n",
              "      <td>45.950001</td>\n",
              "      <td>47.180000</td>\n",
              "      <td>45.880001</td>\n",
              "      <td>47.130001</td>\n",
              "      <td>40.830315</td>\n",
              "      <td>1538500</td>\n",
              "    </tr>\n",
              "    <tr>\n",
              "      <th>3</th>\n",
              "      <td>2019-01-07</td>\n",
              "      <td>47.310001</td>\n",
              "      <td>48.110001</td>\n",
              "      <td>46.840000</td>\n",
              "      <td>47.740002</td>\n",
              "      <td>41.358772</td>\n",
              "      <td>954700</td>\n",
              "    </tr>\n",
              "    <tr>\n",
              "      <th>4</th>\n",
              "      <td>2019-01-08</td>\n",
              "      <td>48.709999</td>\n",
              "      <td>49.480000</td>\n",
              "      <td>48.520000</td>\n",
              "      <td>49.209999</td>\n",
              "      <td>42.632286</td>\n",
              "      <td>1921800</td>\n",
              "    </tr>\n",
              "    <tr>\n",
              "      <th>...</th>\n",
              "      <td>...</td>\n",
              "      <td>...</td>\n",
              "      <td>...</td>\n",
              "      <td>...</td>\n",
              "      <td>...</td>\n",
              "      <td>...</td>\n",
              "      <td>...</td>\n",
              "    </tr>\n",
              "    <tr>\n",
              "      <th>1114</th>\n",
              "      <td>2023-06-06</td>\n",
              "      <td>53.000000</td>\n",
              "      <td>57.294998</td>\n",
              "      <td>52.820000</td>\n",
              "      <td>57.220001</td>\n",
              "      <td>57.220001</td>\n",
              "      <td>6397900</td>\n",
              "    </tr>\n",
              "    <tr>\n",
              "      <th>1115</th>\n",
              "      <td>2023-06-07</td>\n",
              "      <td>57.610001</td>\n",
              "      <td>59.750000</td>\n",
              "      <td>57.520000</td>\n",
              "      <td>59.340000</td>\n",
              "      <td>59.340000</td>\n",
              "      <td>2925500</td>\n",
              "    </tr>\n",
              "    <tr>\n",
              "      <th>1116</th>\n",
              "      <td>2023-06-08</td>\n",
              "      <td>59.400002</td>\n",
              "      <td>60.080002</td>\n",
              "      <td>57.910000</td>\n",
              "      <td>58.939999</td>\n",
              "      <td>58.939999</td>\n",
              "      <td>2828400</td>\n",
              "    </tr>\n",
              "    <tr>\n",
              "      <th>1117</th>\n",
              "      <td>2023-06-09</td>\n",
              "      <td>58.959999</td>\n",
              "      <td>59.349998</td>\n",
              "      <td>58.290001</td>\n",
              "      <td>58.790001</td>\n",
              "      <td>58.790001</td>\n",
              "      <td>1686600</td>\n",
              "    </tr>\n",
              "    <tr>\n",
              "      <th>1118</th>\n",
              "      <td>2023-06-12</td>\n",
              "      <td>58.279999</td>\n",
              "      <td>59.650002</td>\n",
              "      <td>58.279999</td>\n",
              "      <td>59.610001</td>\n",
              "      <td>59.610001</td>\n",
              "      <td>1563100</td>\n",
              "    </tr>\n",
              "  </tbody>\n",
              "</table>\n",
              "<p>1119 rows × 7 columns</p>\n",
              "</div>\n",
              "      <button class=\"colab-df-convert\" onclick=\"convertToInteractive('df-71bddbc2-a9d0-4411-a997-742b31c11335')\"\n",
              "              title=\"Convert this dataframe to an interactive table.\"\n",
              "              style=\"display:none;\">\n",
              "        \n",
              "  <svg xmlns=\"http://www.w3.org/2000/svg\" height=\"24px\"viewBox=\"0 0 24 24\"\n",
              "       width=\"24px\">\n",
              "    <path d=\"M0 0h24v24H0V0z\" fill=\"none\"/>\n",
              "    <path d=\"M18.56 5.44l.94 2.06.94-2.06 2.06-.94-2.06-.94-.94-2.06-.94 2.06-2.06.94zm-11 1L8.5 8.5l.94-2.06 2.06-.94-2.06-.94L8.5 2.5l-.94 2.06-2.06.94zm10 10l.94 2.06.94-2.06 2.06-.94-2.06-.94-.94-2.06-.94 2.06-2.06.94z\"/><path d=\"M17.41 7.96l-1.37-1.37c-.4-.4-.92-.59-1.43-.59-.52 0-1.04.2-1.43.59L10.3 9.45l-7.72 7.72c-.78.78-.78 2.05 0 2.83L4 21.41c.39.39.9.59 1.41.59.51 0 1.02-.2 1.41-.59l7.78-7.78 2.81-2.81c.8-.78.8-2.07 0-2.86zM5.41 20L4 18.59l7.72-7.72 1.47 1.35L5.41 20z\"/>\n",
              "  </svg>\n",
              "      </button>\n",
              "      \n",
              "  <style>\n",
              "    .colab-df-container {\n",
              "      display:flex;\n",
              "      flex-wrap:wrap;\n",
              "      gap: 12px;\n",
              "    }\n",
              "\n",
              "    .colab-df-convert {\n",
              "      background-color: #E8F0FE;\n",
              "      border: none;\n",
              "      border-radius: 50%;\n",
              "      cursor: pointer;\n",
              "      display: none;\n",
              "      fill: #1967D2;\n",
              "      height: 32px;\n",
              "      padding: 0 0 0 0;\n",
              "      width: 32px;\n",
              "    }\n",
              "\n",
              "    .colab-df-convert:hover {\n",
              "      background-color: #E2EBFA;\n",
              "      box-shadow: 0px 1px 2px rgba(60, 64, 67, 0.3), 0px 1px 3px 1px rgba(60, 64, 67, 0.15);\n",
              "      fill: #174EA6;\n",
              "    }\n",
              "\n",
              "    [theme=dark] .colab-df-convert {\n",
              "      background-color: #3B4455;\n",
              "      fill: #D2E3FC;\n",
              "    }\n",
              "\n",
              "    [theme=dark] .colab-df-convert:hover {\n",
              "      background-color: #434B5C;\n",
              "      box-shadow: 0px 1px 3px 1px rgba(0, 0, 0, 0.15);\n",
              "      filter: drop-shadow(0px 1px 2px rgba(0, 0, 0, 0.3));\n",
              "      fill: #FFFFFF;\n",
              "    }\n",
              "  </style>\n",
              "\n",
              "      <script>\n",
              "        const buttonEl =\n",
              "          document.querySelector('#df-71bddbc2-a9d0-4411-a997-742b31c11335 button.colab-df-convert');\n",
              "        buttonEl.style.display =\n",
              "          google.colab.kernel.accessAllowed ? 'block' : 'none';\n",
              "\n",
              "        async function convertToInteractive(key) {\n",
              "          const element = document.querySelector('#df-71bddbc2-a9d0-4411-a997-742b31c11335');\n",
              "          const dataTable =\n",
              "            await google.colab.kernel.invokeFunction('convertToInteractive',\n",
              "                                                     [key], {});\n",
              "          if (!dataTable) return;\n",
              "\n",
              "          const docLinkHtml = 'Like what you see? Visit the ' +\n",
              "            '<a target=\"_blank\" href=https://colab.research.google.com/notebooks/data_table.ipynb>data table notebook</a>'\n",
              "            + ' to learn more about interactive tables.';\n",
              "          element.innerHTML = '';\n",
              "          dataTable['output_type'] = 'display_data';\n",
              "          await google.colab.output.renderOutput(dataTable, element);\n",
              "          const docLink = document.createElement('div');\n",
              "          docLink.innerHTML = docLinkHtml;\n",
              "          element.appendChild(docLink);\n",
              "        }\n",
              "      </script>\n",
              "    </div>\n",
              "  </div>\n",
              "  "
            ]
          },
          "metadata": {},
          "execution_count": 4
        }
      ],
      "source": [
        "# Load data\n",
        "df = pd.read_csv('NTR.csv')\n",
        "df"
      ]
    },
    {
      "cell_type": "markdown",
      "source": [
        "### Reset index"
      ],
      "metadata": {
        "id": "muKE0gL7cQs2"
      },
      "id": "muKE0gL7cQs2"
    },
    {
      "cell_type": "code",
      "source": [
        "# Convert the 'Date' column to datetime format\n",
        "df['Date'] = pd.to_datetime(df['Date'])\n",
        "\n",
        "# Set the 'Date' column as the index value\n",
        "df.set_index('Date', inplace=True)"
      ],
      "metadata": {
        "id": "vG4wgXOK2soU"
      },
      "id": "vG4wgXOK2soU",
      "execution_count": 5,
      "outputs": []
    },
    {
      "cell_type": "code",
      "source": [
        "# Select column 'Close'\n",
        "df_Close = df[['Close']]\n",
        "df_Close = df_Close.reset_index(drop=True)"
      ],
      "metadata": {
        "id": "DBeiREWjJ00j"
      },
      "id": "DBeiREWjJ00j",
      "execution_count": 6,
      "outputs": []
    },
    {
      "cell_type": "markdown",
      "source": [
        "### Data normalization"
      ],
      "metadata": {
        "id": "m9vvIvolcch8"
      },
      "id": "m9vvIvolcch8"
    },
    {
      "cell_type": "code",
      "execution_count": 7,
      "id": "b0cde421",
      "metadata": {
        "id": "b0cde421"
      },
      "outputs": [],
      "source": [
        "# Min-max normalization\n",
        "scaler = MinMaxScaler(feature_range=(0, 1))\n",
        "data_scaled = scaler.fit_transform(np.array(df_Close))"
      ]
    },
    {
      "cell_type": "markdown",
      "source": [
        "### Data splitting"
      ],
      "metadata": {
        "id": "WEnB5G3fcqPg"
      },
      "id": "WEnB5G3fcqPg"
    },
    {
      "cell_type": "code",
      "execution_count": 8,
      "id": "f29f31b1",
      "metadata": {
        "id": "f29f31b1"
      },
      "outputs": [],
      "source": [
        "# Split the data into train, validation, and test dataset in a ratio of 7:1:2\n",
        "train_size = int(len(data_scaled) * 0.7)\n",
        "val_size = int(len(data_scaled) * 0.1)\n",
        "test_size = len(data_scaled) - train_size - val_size\n",
        "\n",
        "train_data = data_scaled[: train_size]\n",
        "val_data = data_scaled[train_size : train_size + val_size]\n",
        "test_data = data_scaled[train_size + val_size :]"
      ]
    },
    {
      "cell_type": "markdown",
      "source": [
        "## Model training and testing"
      ],
      "metadata": {
        "id": "-IFkvqKRgmQX"
      },
      "id": "-IFkvqKRgmQX"
    },
    {
      "cell_type": "code",
      "execution_count": 9,
      "id": "224ff73f",
      "metadata": {
        "id": "224ff73f"
      },
      "outputs": [],
      "source": [
        "# Generating data using the window sliding method\n",
        "def create_dataset(data, window_size):\n",
        "    windows, targets = [], []\n",
        "    for i in range(len(data) - window_size):\n",
        "        windows.append(data[i : (i + window_size), 0])\n",
        "        targets.append(data[i + window_size, 0])\n",
        "    return np.array(windows), np.array(targets)"
      ]
    },
    {
      "cell_type": "markdown",
      "source": [
        "### Building TCANs model"
      ],
      "metadata": {
        "id": "hRDWcZQ0jcRX"
      },
      "id": "hRDWcZQ0jcRX"
    },
    {
      "cell_type": "code",
      "execution_count": 10,
      "id": "HxKvihCf3-C1",
      "metadata": {
        "id": "HxKvihCf3-C1"
      },
      "outputs": [],
      "source": [
        "# Constructing sparse attention layer\n",
        "class AttentionLayer(Layer):\n",
        "    def __init__(self, attention_dim):\n",
        "        super(AttentionLayer, self).__init__()\n",
        "        self.attention_dim = attention_dim\n",
        "\n",
        "    def build(self, input_shape):\n",
        "        self.W1 = Dense(units=self.attention_dim, activation='tanh')\n",
        "        self.W2 = Dense(units=1, activation='linear')\n",
        "        super(AttentionLayer, self).build(input_shape)\n",
        "\n",
        "    def call(self, x):\n",
        "        score = self.W2(self.W1(x))\n",
        "        score = Flatten()(score)\n",
        "        score = Activation('softmax')(score)\n",
        "        score = RepeatVector(x.shape[-1])(score)\n",
        "        score = Permute([2, 1])(score)\n",
        "        return Multiply()([x, score])\n",
        "\n",
        "    def compute_output_shape(self, input_shape):\n",
        "        return input_shape"
      ]
    },
    {
      "cell_type": "code",
      "execution_count": 11,
      "id": "d01b50ee",
      "metadata": {
        "id": "d01b50ee"
      },
      "outputs": [],
      "source": [
        "# Build TCAN model\n",
        "def build_tcan(window_size, input_dim=1, tcn_filters=64, tcn_kernel_size=2, dropout_rate=0.2, attention_dim=16):\n",
        "    inputs = Input(shape=(window_size, input_dim))\n",
        "    x = inputs\n",
        "    x = Conv1D(filters=tcn_filters, kernel_size=tcn_kernel_size, padding='same', activation='relu')(x)\n",
        "    x = SpatialDropout1D(rate=dropout_rate)(x)\n",
        "    x = Conv1D(filters=tcn_filters, kernel_size=tcn_kernel_size, padding='same', activation='relu')(x)\n",
        "    x = SpatialDropout1D(rate=dropout_rate)(x)\n",
        "\n",
        "    # Additive Attention\n",
        "    att = AttentionLayer(attention_dim)(x)\n",
        "    max_pool_att = GlobalMaxPooling1D()(att)\n",
        "    max_pool_x = GlobalMaxPooling1D()(x)\n",
        "    x = concatenate([max_pool_att, max_pool_x])\n",
        "\n",
        "    outputs = Dense(1)(x)\n",
        "\n",
        "    model = Model(inputs=inputs, outputs=outputs)\n",
        "    optimizer = Adam(learning_rate=0.001)\n",
        "    model.compile(loss='mean_absolute_error', optimizer=optimizer)\n",
        "\n",
        "    return model"
      ]
    },
    {
      "cell_type": "markdown",
      "source": [
        "### Learning process with combined parameter optimization"
      ],
      "metadata": {
        "id": "kfSIcYf1jyjU"
      },
      "id": "kfSIcYf1jyjU"
    },
    {
      "cell_type": "code",
      "execution_count": 12,
      "id": "690ac169",
      "metadata": {
        "id": "690ac169"
      },
      "outputs": [],
      "source": [
        "# Initialization of optimization parameters\n",
        "best_mse = float('inf')\n",
        "best_model = None\n",
        "best_window_size = None\n",
        "best_train_windows = None\n",
        "best_train_targets = None\n",
        "best_test_windows = None\n",
        "best_test_targets = None\n",
        "best_val_windows = None\n",
        "best_val_targets = None\n",
        "best_y_pred = None\n",
        "best_mape = np.inf\n",
        "best_rmse = np.inf\n",
        "best_msle = np.inf"
      ]
    },
    {
      "cell_type": "code",
      "source": [
        "# Define the objective function for Optuna optimization\n",
        "def objective(trial):\n",
        "  global best_mse, best_model, best_window_size, best_train_windows\n",
        "  global best_train_targets, best_test_windows, best_test_targets, best_val_windows\n",
        "  global best_val_targets, best_y_pred, best_mape, best_rmse, best_msle\n",
        "\n",
        "  # Define the search space for hyperparameters\n",
        "  window_size = trial.suggest_int(\"window_size\", 10, 100)\n",
        "  tcn_filters = trial.suggest_int(\"tcn_filters\", 32, 128)\n",
        "  tcn_kernel_size = trial.suggest_int(\"tcn_kernel_size\", 2, 5)\n",
        "  dropout_rate = trial.suggest_float(\"dropout_rate\", 0.1, 0.5)\n",
        "  attention_dim = trial.suggest_int(\"attention_dim\", 8, 32)\n",
        "\n",
        "  # Build the TCAN model with the suggested hyperparameters\n",
        "  model = build_tcan(window_size,\n",
        "                     tcn_filters = tcn_filters,\n",
        "                     tcn_kernel_size = tcn_kernel_size,\n",
        "                     dropout_rate = dropout_rate,\n",
        "                     attention_dim = attention_dim)\n",
        "\n",
        "  val_last_windowsize = val_data[-window_size:]\n",
        "  test_data_extended = np.concatenate((val_last_windowsize, test_data), axis=0)\n",
        "\n",
        "  train_windows, train_targets = create_dataset(train_data, window_size)\n",
        "  val_windows, val_targets = create_dataset(val_data, window_size)\n",
        "  test_windows, test_targets = create_dataset(test_data_extended, window_size)\n",
        "\n",
        "  # Train the model\n",
        "  early_stop = EarlyStopping(monitor='val_loss', patience=5)\n",
        "  model.fit(train_windows, train_targets,\n",
        "            epochs=50, batch_size=32,\n",
        "            validation_data=(val_windows, val_targets),\n",
        "            shuffle=False, callbacks=[early_stop], verbose=0)\n",
        "\n",
        "  # Testing the model on Test dataset\n",
        "  y_pred = model.predict(test_windows)\n",
        "\n",
        "  # Evaluate on MAPE, RMSE, MSLE\n",
        "  temp_test_targets = test_targets\n",
        "  temp_test_targets = scaler.inverse_transform(temp_test_targets.reshape(-1, 1))\n",
        "  y_pred = scaler.inverse_transform(y_pred)\n",
        "\n",
        "  mse = mean_squared_error(temp_test_targets, y_pred)\n",
        "  rmse = np.sqrt(mse)\n",
        "  mape = mean_absolute_percentage_error(temp_test_targets, y_pred)\n",
        "  msle = mean_squared_log_error(temp_test_targets, y_pred)\n",
        "\n",
        "  # Save the best model and related information\n",
        "  if mse < best_mse or best_mse is None:\n",
        "    best_model = model\n",
        "    best_window_size = window_size\n",
        "    best_y_pred = y_pred\n",
        "    best_train_windows = train_windows\n",
        "    best_train_targets = train_targets\n",
        "    best_test_windows = test_windows\n",
        "    best_test_targets = test_targets\n",
        "    best_val_windows = val_windows\n",
        "    best_val_targets = val_targets\n",
        "    best_rmse = rmse\n",
        "    best_mape = mape\n",
        "    best_msle = msle\n",
        "    best_mse = mse\n",
        "\n",
        "  return mse"
      ],
      "metadata": {
        "id": "m3MDjWCd-kl8"
      },
      "id": "m3MDjWCd-kl8",
      "execution_count": 13,
      "outputs": []
    },
    {
      "cell_type": "code",
      "source": [
        "# Define the search space for the hyperparameters\n",
        "study = optuna.create_study(direction=\"minimize\")\n",
        "study.optimize(objective, n_trials=100)"
      ],
      "metadata": {
        "colab": {
          "base_uri": "https://localhost:8080/"
        },
        "id": "tAQaYsmr-mkW",
        "outputId": "ef17ba14-1634-460f-94e9-afcade449c19"
      },
      "id": "tAQaYsmr-mkW",
      "execution_count": 14,
      "outputs": [
        {
          "output_type": "stream",
          "name": "stderr",
          "text": [
            "[I 2023-06-17 00:32:04,319] A new study created in memory with name: no-name-041937b7-ecee-4cb7-90d1-3a29ca4e5ffe\n"
          ]
        },
        {
          "output_type": "stream",
          "name": "stdout",
          "text": [
            "8/8 [==============================] - 1s 5ms/step\n"
          ]
        },
        {
          "output_type": "stream",
          "name": "stderr",
          "text": [
            "[I 2023-06-17 00:32:19,073] Trial 0 finished with value: 11.337009240388776 and parameters: {'window_size': 13, 'tcn_filters': 95, 'tcn_kernel_size': 3, 'dropout_rate': 0.21219859046190642, 'attention_dim': 26}. Best is trial 0 with value: 11.337009240388776.\n"
          ]
        },
        {
          "output_type": "stream",
          "name": "stdout",
          "text": [
            "8/8 [==============================] - 0s 4ms/step\n"
          ]
        },
        {
          "output_type": "stream",
          "name": "stderr",
          "text": [
            "[I 2023-06-17 00:32:29,363] Trial 1 finished with value: 9.090234909862188 and parameters: {'window_size': 29, 'tcn_filters': 37, 'tcn_kernel_size': 2, 'dropout_rate': 0.1491422893776663, 'attention_dim': 17}. Best is trial 1 with value: 9.090234909862188.\n"
          ]
        },
        {
          "output_type": "stream",
          "name": "stdout",
          "text": [
            "8/8 [==============================] - 0s 3ms/step\n"
          ]
        },
        {
          "output_type": "stream",
          "name": "stderr",
          "text": [
            "[I 2023-06-17 00:32:34,409] Trial 2 finished with value: 7.919432337901014 and parameters: {'window_size': 13, 'tcn_filters': 124, 'tcn_kernel_size': 2, 'dropout_rate': 0.41227548680494175, 'attention_dim': 13}. Best is trial 2 with value: 7.919432337901014.\n"
          ]
        },
        {
          "output_type": "stream",
          "name": "stdout",
          "text": [
            "8/8 [==============================] - 0s 3ms/step\n"
          ]
        },
        {
          "output_type": "stream",
          "name": "stderr",
          "text": [
            "[I 2023-06-17 00:32:41,243] Trial 3 finished with value: 9.446722286346475 and parameters: {'window_size': 25, 'tcn_filters': 77, 'tcn_kernel_size': 3, 'dropout_rate': 0.39881607052200396, 'attention_dim': 18}. Best is trial 2 with value: 7.919432337901014.\n"
          ]
        },
        {
          "output_type": "stream",
          "name": "stdout",
          "text": [
            "8/8 [==============================] - 0s 6ms/step\n"
          ]
        },
        {
          "output_type": "stream",
          "name": "stderr",
          "text": [
            "[I 2023-06-17 00:32:48,199] Trial 4 finished with value: 6.584973383806969 and parameters: {'window_size': 15, 'tcn_filters': 50, 'tcn_kernel_size': 4, 'dropout_rate': 0.25555414770330265, 'attention_dim': 19}. Best is trial 4 with value: 6.584973383806969.\n"
          ]
        },
        {
          "output_type": "stream",
          "name": "stdout",
          "text": [
            "8/8 [==============================] - 0s 4ms/step\n"
          ]
        },
        {
          "output_type": "stream",
          "name": "stderr",
          "text": [
            "[I 2023-06-17 00:32:53,390] Trial 5 finished with value: 34.51234963804393 and parameters: {'window_size': 36, 'tcn_filters': 98, 'tcn_kernel_size': 2, 'dropout_rate': 0.22499195196391503, 'attention_dim': 20}. Best is trial 4 with value: 6.584973383806969.\n"
          ]
        },
        {
          "output_type": "stream",
          "name": "stdout",
          "text": [
            "8/8 [==============================] - 0s 3ms/step\n"
          ]
        },
        {
          "output_type": "stream",
          "name": "stderr",
          "text": [
            "[I 2023-06-17 00:33:04,330] Trial 6 finished with value: 6.739594091918926 and parameters: {'window_size': 21, 'tcn_filters': 116, 'tcn_kernel_size': 2, 'dropout_rate': 0.4880130578410028, 'attention_dim': 29}. Best is trial 4 with value: 6.584973383806969.\n"
          ]
        },
        {
          "output_type": "stream",
          "name": "stdout",
          "text": [
            "8/8 [==============================] - 0s 5ms/step\n"
          ]
        },
        {
          "output_type": "stream",
          "name": "stderr",
          "text": [
            "[I 2023-06-17 00:33:19,216] Trial 7 finished with value: 30.579183244944822 and parameters: {'window_size': 41, 'tcn_filters': 86, 'tcn_kernel_size': 5, 'dropout_rate': 0.11214196128350942, 'attention_dim': 14}. Best is trial 4 with value: 6.584973383806969.\n"
          ]
        },
        {
          "output_type": "stream",
          "name": "stdout",
          "text": [
            "8/8 [==============================] - 0s 6ms/step\n"
          ]
        },
        {
          "output_type": "stream",
          "name": "stderr",
          "text": [
            "[I 2023-06-17 00:33:26,045] Trial 8 finished with value: 9.057394392549732 and parameters: {'window_size': 81, 'tcn_filters': 66, 'tcn_kernel_size': 5, 'dropout_rate': 0.35936470719128055, 'attention_dim': 24}. Best is trial 4 with value: 6.584973383806969.\n"
          ]
        },
        {
          "output_type": "stream",
          "name": "stdout",
          "text": [
            "8/8 [==============================] - 0s 4ms/step\n"
          ]
        },
        {
          "output_type": "stream",
          "name": "stderr",
          "text": [
            "[I 2023-06-17 00:33:32,888] Trial 9 finished with value: 12.790431701845172 and parameters: {'window_size': 81, 'tcn_filters': 44, 'tcn_kernel_size': 4, 'dropout_rate': 0.15817790341728255, 'attention_dim': 9}. Best is trial 4 with value: 6.584973383806969.\n"
          ]
        },
        {
          "output_type": "stream",
          "name": "stdout",
          "text": [
            "8/8 [==============================] - 0s 4ms/step\n"
          ]
        },
        {
          "output_type": "stream",
          "name": "stderr",
          "text": [
            "[I 2023-06-17 00:33:44,892] Trial 10 finished with value: 6.528511100495602 and parameters: {'window_size': 59, 'tcn_filters': 57, 'tcn_kernel_size': 4, 'dropout_rate': 0.28877462141596927, 'attention_dim': 31}. Best is trial 10 with value: 6.528511100495602.\n"
          ]
        },
        {
          "output_type": "stream",
          "name": "stdout",
          "text": [
            "8/8 [==============================] - 0s 4ms/step\n"
          ]
        },
        {
          "output_type": "stream",
          "name": "stderr",
          "text": [
            "[I 2023-06-17 00:34:07,099] Trial 11 finished with value: 8.015378369887475 and parameters: {'window_size': 61, 'tcn_filters': 57, 'tcn_kernel_size': 4, 'dropout_rate': 0.27779604347499165, 'attention_dim': 31}. Best is trial 10 with value: 6.528511100495602.\n"
          ]
        },
        {
          "output_type": "stream",
          "name": "stdout",
          "text": [
            "8/8 [==============================] - 0s 4ms/step\n"
          ]
        },
        {
          "output_type": "stream",
          "name": "stderr",
          "text": [
            "[I 2023-06-17 00:34:16,835] Trial 12 finished with value: 9.79520905306777 and parameters: {'window_size': 59, 'tcn_filters': 53, 'tcn_kernel_size': 4, 'dropout_rate': 0.30983765296628735, 'attention_dim': 23}. Best is trial 10 with value: 6.528511100495602.\n"
          ]
        },
        {
          "output_type": "stream",
          "name": "stdout",
          "text": [
            "8/8 [==============================] - 0s 4ms/step\n"
          ]
        },
        {
          "output_type": "stream",
          "name": "stderr",
          "text": [
            "[I 2023-06-17 00:34:29,196] Trial 13 finished with value: 5.490512787372311 and parameters: {'window_size': 47, 'tcn_filters': 67, 'tcn_kernel_size': 4, 'dropout_rate': 0.2803848049610493, 'attention_dim': 32}. Best is trial 13 with value: 5.490512787372311.\n"
          ]
        },
        {
          "output_type": "stream",
          "name": "stdout",
          "text": [
            "8/8 [==============================] - 0s 4ms/step\n"
          ]
        },
        {
          "output_type": "stream",
          "name": "stderr",
          "text": [
            "[I 2023-06-17 00:34:33,971] Trial 14 finished with value: 17.812346220971015 and parameters: {'window_size': 49, 'tcn_filters': 71, 'tcn_kernel_size': 5, 'dropout_rate': 0.31205700804010583, 'attention_dim': 32}. Best is trial 13 with value: 5.490512787372311.\n"
          ]
        },
        {
          "output_type": "stream",
          "name": "stdout",
          "text": [
            "8/8 [==============================] - 0s 6ms/step\n"
          ]
        },
        {
          "output_type": "stream",
          "name": "stderr",
          "text": [
            "[I 2023-06-17 00:34:38,828] Trial 15 finished with value: 14.05574011900442 and parameters: {'window_size': 100, 'tcn_filters': 32, 'tcn_kernel_size': 3, 'dropout_rate': 0.3312857474094626, 'attention_dim': 28}. Best is trial 13 with value: 5.490512787372311.\n"
          ]
        },
        {
          "output_type": "stream",
          "name": "stdout",
          "text": [
            "8/8 [==============================] - 0s 4ms/step\n"
          ]
        },
        {
          "output_type": "stream",
          "name": "stderr",
          "text": [
            "[I 2023-06-17 00:34:51,502] Trial 16 finished with value: 10.993299583922886 and parameters: {'window_size': 69, 'tcn_filters': 62, 'tcn_kernel_size': 4, 'dropout_rate': 0.2532208289893411, 'attention_dim': 32}. Best is trial 13 with value: 5.490512787372311.\n"
          ]
        },
        {
          "output_type": "stream",
          "name": "stdout",
          "text": [
            "8/8 [==============================] - 0s 4ms/step\n"
          ]
        },
        {
          "output_type": "stream",
          "name": "stderr",
          "text": [
            "[I 2023-06-17 00:35:02,111] Trial 17 finished with value: 6.805689349696216 and parameters: {'window_size': 48, 'tcn_filters': 80, 'tcn_kernel_size': 3, 'dropout_rate': 0.21351633011773757, 'attention_dim': 28}. Best is trial 13 with value: 5.490512787372311.\n"
          ]
        },
        {
          "output_type": "stream",
          "name": "stdout",
          "text": [
            "8/8 [==============================] - 0s 11ms/step\n"
          ]
        },
        {
          "output_type": "stream",
          "name": "stderr",
          "text": [
            "[I 2023-06-17 00:35:24,472] Trial 18 finished with value: 7.8433010142714235 and parameters: {'window_size': 69, 'tcn_filters': 91, 'tcn_kernel_size': 5, 'dropout_rate': 0.2845045846181363, 'attention_dim': 23}. Best is trial 13 with value: 5.490512787372311.\n"
          ]
        },
        {
          "output_type": "stream",
          "name": "stdout",
          "text": [
            "8/8 [==============================] - 0s 5ms/step\n"
          ]
        },
        {
          "output_type": "stream",
          "name": "stderr",
          "text": [
            "[I 2023-06-17 00:35:33,066] Trial 19 finished with value: 8.003049235570119 and parameters: {'window_size': 42, 'tcn_filters': 104, 'tcn_kernel_size': 4, 'dropout_rate': 0.35792769513260714, 'attention_dim': 25}. Best is trial 13 with value: 5.490512787372311.\n"
          ]
        },
        {
          "output_type": "stream",
          "name": "stdout",
          "text": [
            "8/8 [==============================] - 0s 5ms/step\n"
          ]
        },
        {
          "output_type": "stream",
          "name": "stderr",
          "text": [
            "[I 2023-06-17 00:35:39,987] Trial 20 finished with value: 30.12853901388633 and parameters: {'window_size': 78, 'tcn_filters': 69, 'tcn_kernel_size': 3, 'dropout_rate': 0.24587099322151088, 'attention_dim': 30}. Best is trial 13 with value: 5.490512787372311.\n"
          ]
        },
        {
          "output_type": "stream",
          "name": "stdout",
          "text": [
            "8/8 [==============================] - 0s 4ms/step\n"
          ]
        },
        {
          "output_type": "stream",
          "name": "stderr",
          "text": [
            "[I 2023-06-17 00:35:47,603] Trial 21 finished with value: 12.527707431034495 and parameters: {'window_size': 53, 'tcn_filters': 48, 'tcn_kernel_size': 4, 'dropout_rate': 0.2579713160473624, 'attention_dim': 21}. Best is trial 13 with value: 5.490512787372311.\n"
          ]
        },
        {
          "output_type": "stream",
          "name": "stdout",
          "text": [
            "8/8 [==============================] - 0s 3ms/step\n"
          ]
        },
        {
          "output_type": "stream",
          "name": "stderr",
          "text": [
            "[I 2023-06-17 00:35:59,787] Trial 22 finished with value: 6.380502699582357 and parameters: {'window_size': 34, 'tcn_filters': 42, 'tcn_kernel_size': 4, 'dropout_rate': 0.28993992732041923, 'attention_dim': 17}. Best is trial 13 with value: 5.490512787372311.\n"
          ]
        },
        {
          "output_type": "stream",
          "name": "stdout",
          "text": [
            "8/8 [==============================] - 0s 4ms/step\n"
          ]
        },
        {
          "output_type": "stream",
          "name": "stderr",
          "text": [
            "[I 2023-06-17 00:36:04,198] Trial 23 finished with value: 8.851524862846766 and parameters: {'window_size': 35, 'tcn_filters': 39, 'tcn_kernel_size': 4, 'dropout_rate': 0.2871096046885401, 'attention_dim': 16}. Best is trial 13 with value: 5.490512787372311.\n"
          ]
        },
        {
          "output_type": "stream",
          "name": "stdout",
          "text": [
            "8/8 [==============================] - 0s 5ms/step\n"
          ]
        },
        {
          "output_type": "stream",
          "name": "stderr",
          "text": [
            "[I 2023-06-17 00:36:16,859] Trial 24 finished with value: 6.664689311624825 and parameters: {'window_size': 66, 'tcn_filters': 57, 'tcn_kernel_size': 5, 'dropout_rate': 0.3256350473102126, 'attention_dim': 9}. Best is trial 13 with value: 5.490512787372311.\n"
          ]
        },
        {
          "output_type": "stream",
          "name": "stdout",
          "text": [
            "8/8 [==============================] - 0s 3ms/step\n"
          ]
        },
        {
          "output_type": "stream",
          "name": "stderr",
          "text": [
            "[I 2023-06-17 00:36:26,639] Trial 25 finished with value: 31.94044484593806 and parameters: {'window_size': 42, 'tcn_filters': 44, 'tcn_kernel_size': 4, 'dropout_rate': 0.28544301555799795, 'attention_dim': 27}. Best is trial 13 with value: 5.490512787372311.\n"
          ]
        },
        {
          "output_type": "stream",
          "name": "stdout",
          "text": [
            "8/8 [==============================] - 0s 4ms/step\n"
          ]
        },
        {
          "output_type": "stream",
          "name": "stderr",
          "text": [
            "[I 2023-06-17 00:36:33,612] Trial 26 finished with value: 6.647759518510375 and parameters: {'window_size': 31, 'tcn_filters': 61, 'tcn_kernel_size': 3, 'dropout_rate': 0.19303900873116156, 'attention_dim': 12}. Best is trial 13 with value: 5.490512787372311.\n"
          ]
        },
        {
          "output_type": "stream",
          "name": "stdout",
          "text": [
            "8/8 [==============================] - 0s 4ms/step\n"
          ]
        },
        {
          "output_type": "stream",
          "name": "stderr",
          "text": [
            "[I 2023-06-17 00:36:38,741] Trial 27 finished with value: 16.43514019073071 and parameters: {'window_size': 54, 'tcn_filters': 72, 'tcn_kernel_size': 4, 'dropout_rate': 0.2343013038433071, 'attention_dim': 15}. Best is trial 13 with value: 5.490512787372311.\n"
          ]
        },
        {
          "output_type": "stream",
          "name": "stdout",
          "text": [
            "8/8 [==============================] - 0s 5ms/step\n"
          ]
        },
        {
          "output_type": "stream",
          "name": "stderr",
          "text": [
            "[I 2023-06-17 00:36:52,511] Trial 28 finished with value: 14.163567287233535 and parameters: {'window_size': 45, 'tcn_filters': 82, 'tcn_kernel_size': 5, 'dropout_rate': 0.2667219488412793, 'attention_dim': 22}. Best is trial 13 with value: 5.490512787372311.\n"
          ]
        },
        {
          "output_type": "stream",
          "name": "stdout",
          "text": [
            "8/8 [==============================] - 0s 4ms/step\n"
          ]
        },
        {
          "output_type": "stream",
          "name": "stderr",
          "text": [
            "[I 2023-06-17 00:36:57,359] Trial 29 finished with value: 6.680719687958087 and parameters: {'window_size': 90, 'tcn_filters': 32, 'tcn_kernel_size': 4, 'dropout_rate': 0.1972509592933242, 'attention_dim': 26}. Best is trial 13 with value: 5.490512787372311.\n"
          ]
        },
        {
          "output_type": "stream",
          "name": "stdout",
          "text": [
            "8/8 [==============================] - 0s 3ms/step\n"
          ]
        },
        {
          "output_type": "stream",
          "name": "stderr",
          "text": [
            "[I 2023-06-17 00:37:05,400] Trial 30 finished with value: 13.444351315678386 and parameters: {'window_size': 20, 'tcn_filters': 55, 'tcn_kernel_size': 3, 'dropout_rate': 0.30636172001483697, 'attention_dim': 30}. Best is trial 13 with value: 5.490512787372311.\n"
          ]
        },
        {
          "output_type": "stream",
          "name": "stdout",
          "text": [
            "8/8 [==============================] - 0s 3ms/step\n"
          ]
        },
        {
          "output_type": "stream",
          "name": "stderr",
          "text": [
            "[I 2023-06-17 00:37:10,842] Trial 31 finished with value: 5.696617714510948 and parameters: {'window_size': 12, 'tcn_filters': 50, 'tcn_kernel_size': 4, 'dropout_rate': 0.24118840864198254, 'attention_dim': 19}. Best is trial 13 with value: 5.490512787372311.\n"
          ]
        },
        {
          "output_type": "stream",
          "name": "stdout",
          "text": [
            "8/8 [==============================] - 0s 4ms/step\n"
          ]
        },
        {
          "output_type": "stream",
          "name": "stderr",
          "text": [
            "[I 2023-06-17 00:37:15,327] Trial 32 finished with value: 8.107269482555878 and parameters: {'window_size': 11, 'tcn_filters': 43, 'tcn_kernel_size': 4, 'dropout_rate': 0.23325663806894387, 'attention_dim': 18}. Best is trial 13 with value: 5.490512787372311.\n"
          ]
        },
        {
          "output_type": "stream",
          "name": "stdout",
          "text": [
            "8/8 [==============================] - 0s 4ms/step\n"
          ]
        },
        {
          "output_type": "stream",
          "name": "stderr",
          "text": [
            "[I 2023-06-17 00:37:22,994] Trial 33 finished with value: 11.935600140394044 and parameters: {'window_size': 34, 'tcn_filters': 63, 'tcn_kernel_size': 4, 'dropout_rate': 0.26779128511294314, 'attention_dim': 17}. Best is trial 13 with value: 5.490512787372311.\n"
          ]
        },
        {
          "output_type": "stream",
          "name": "stdout",
          "text": [
            "8/8 [==============================] - 0s 3ms/step\n"
          ]
        },
        {
          "output_type": "stream",
          "name": "stderr",
          "text": [
            "[I 2023-06-17 00:37:35,121] Trial 34 finished with value: 5.967606641923634 and parameters: {'window_size': 26, 'tcn_filters': 38, 'tcn_kernel_size': 4, 'dropout_rate': 0.19283662457808634, 'attention_dim': 21}. Best is trial 13 with value: 5.490512787372311.\n"
          ]
        },
        {
          "output_type": "stream",
          "name": "stdout",
          "text": [
            "8/8 [==============================] - 0s 3ms/step\n"
          ]
        },
        {
          "output_type": "stream",
          "name": "stderr",
          "text": [
            "[I 2023-06-17 00:37:43,031] Trial 35 finished with value: 7.487387992077627 and parameters: {'window_size': 25, 'tcn_filters': 38, 'tcn_kernel_size': 4, 'dropout_rate': 0.19405199295762365, 'attention_dim': 12}. Best is trial 13 with value: 5.490512787372311.\n"
          ]
        },
        {
          "output_type": "stream",
          "name": "stdout",
          "text": [
            "8/8 [==============================] - 0s 3ms/step\n"
          ]
        },
        {
          "output_type": "stream",
          "name": "stderr",
          "text": [
            "[I 2023-06-17 00:37:50,604] Trial 36 finished with value: 6.860821852470377 and parameters: {'window_size': 18, 'tcn_filters': 50, 'tcn_kernel_size': 5, 'dropout_rate': 0.16718079816405385, 'attention_dim': 20}. Best is trial 13 with value: 5.490512787372311.\n"
          ]
        },
        {
          "output_type": "stream",
          "name": "stdout",
          "text": [
            "8/8 [==============================] - 0s 5ms/step\n"
          ]
        },
        {
          "output_type": "stream",
          "name": "stderr",
          "text": [
            "[I 2023-06-17 00:37:58,238] Trial 37 finished with value: 6.545729060422657 and parameters: {'window_size': 26, 'tcn_filters': 37, 'tcn_kernel_size': 3, 'dropout_rate': 0.20462968470787063, 'attention_dim': 19}. Best is trial 13 with value: 5.490512787372311.\n"
          ]
        },
        {
          "output_type": "stream",
          "name": "stdout",
          "text": [
            "8/8 [==============================] - 0s 3ms/step\n"
          ]
        },
        {
          "output_type": "stream",
          "name": "stderr",
          "text": [
            "[I 2023-06-17 00:38:02,972] Trial 38 finished with value: 7.519501957611533 and parameters: {'window_size': 16, 'tcn_filters': 48, 'tcn_kernel_size': 4, 'dropout_rate': 0.22601487134895662, 'attention_dim': 16}. Best is trial 13 with value: 5.490512787372311.\n"
          ]
        },
        {
          "output_type": "stream",
          "name": "stdout",
          "text": [
            "8/8 [==============================] - 0s 3ms/step\n"
          ]
        },
        {
          "output_type": "stream",
          "name": "stderr",
          "text": [
            "[I 2023-06-17 00:38:09,337] Trial 39 finished with value: 11.239484060503509 and parameters: {'window_size': 28, 'tcn_filters': 41, 'tcn_kernel_size': 5, 'dropout_rate': 0.17583401776189975, 'attention_dim': 21}. Best is trial 13 with value: 5.490512787372311.\n"
          ]
        },
        {
          "output_type": "stream",
          "name": "stdout",
          "text": [
            "8/8 [==============================] - 0s 2ms/step\n"
          ]
        },
        {
          "output_type": "stream",
          "name": "stderr",
          "text": [
            "[I 2023-06-17 00:38:15,064] Trial 40 finished with value: 9.159477672818584 and parameters: {'window_size': 10, 'tcn_filters': 46, 'tcn_kernel_size': 2, 'dropout_rate': 0.133962441844631, 'attention_dim': 14}. Best is trial 13 with value: 5.490512787372311.\n"
          ]
        },
        {
          "output_type": "stream",
          "name": "stdout",
          "text": [
            "8/8 [==============================] - 0s 6ms/step\n"
          ]
        },
        {
          "output_type": "stream",
          "name": "stderr",
          "text": [
            "[I 2023-06-17 00:38:27,248] Trial 41 finished with value: 6.676600982796323 and parameters: {'window_size': 37, 'tcn_filters': 76, 'tcn_kernel_size': 4, 'dropout_rate': 0.24577840367879142, 'attention_dim': 18}. Best is trial 13 with value: 5.490512787372311.\n"
          ]
        },
        {
          "output_type": "stream",
          "name": "stdout",
          "text": [
            "8/8 [==============================] - 0s 4ms/step\n"
          ]
        },
        {
          "output_type": "stream",
          "name": "stderr",
          "text": [
            "[I 2023-06-17 00:38:39,443] Trial 42 finished with value: 8.019465687206372 and parameters: {'window_size': 32, 'tcn_filters': 54, 'tcn_kernel_size': 4, 'dropout_rate': 0.21354866930705402, 'attention_dim': 30}. Best is trial 13 with value: 5.490512787372311.\n"
          ]
        },
        {
          "output_type": "stream",
          "name": "stdout",
          "text": [
            "8/8 [==============================] - 0s 3ms/step\n"
          ]
        },
        {
          "output_type": "stream",
          "name": "stderr",
          "text": [
            "[I 2023-06-17 00:38:46,721] Trial 43 finished with value: 6.57562892557801 and parameters: {'window_size': 23, 'tcn_filters': 60, 'tcn_kernel_size': 4, 'dropout_rate': 0.2963777096279996, 'attention_dim': 19}. Best is trial 13 with value: 5.490512787372311.\n"
          ]
        },
        {
          "output_type": "stream",
          "name": "stdout",
          "text": [
            "8/8 [==============================] - 0s 5ms/step\n"
          ]
        },
        {
          "output_type": "stream",
          "name": "stderr",
          "text": [
            "[I 2023-06-17 00:38:52,615] Trial 44 finished with value: 12.041326039300486 and parameters: {'window_size': 58, 'tcn_filters': 36, 'tcn_kernel_size': 4, 'dropout_rate': 0.2715489806255414, 'attention_dim': 25}. Best is trial 13 with value: 5.490512787372311.\n"
          ]
        },
        {
          "output_type": "stream",
          "name": "stdout",
          "text": [
            "8/8 [==============================] - 0s 5ms/step\n"
          ]
        },
        {
          "output_type": "stream",
          "name": "stderr",
          "text": [
            "[I 2023-06-17 00:39:06,002] Trial 45 finished with value: 10.117948884280745 and parameters: {'window_size': 39, 'tcn_filters': 66, 'tcn_kernel_size': 4, 'dropout_rate': 0.23824302009841644, 'attention_dim': 32}. Best is trial 13 with value: 5.490512787372311.\n"
          ]
        },
        {
          "output_type": "stream",
          "name": "stdout",
          "text": [
            "8/8 [==============================] - 0s 3ms/step\n"
          ]
        },
        {
          "output_type": "stream",
          "name": "stderr",
          "text": [
            "[I 2023-06-17 00:39:10,762] Trial 46 finished with value: 25.643494983237776 and parameters: {'window_size': 15, 'tcn_filters': 128, 'tcn_kernel_size': 4, 'dropout_rate': 0.2564008006878017, 'attention_dim': 11}. Best is trial 13 with value: 5.490512787372311.\n"
          ]
        },
        {
          "output_type": "stream",
          "name": "stdout",
          "text": [
            "8/8 [==============================] - 0s 4ms/step\n"
          ]
        },
        {
          "output_type": "stream",
          "name": "stderr",
          "text": [
            "[I 2023-06-17 00:39:17,632] Trial 47 finished with value: 6.271300393176895 and parameters: {'window_size': 48, 'tcn_filters': 50, 'tcn_kernel_size': 3, 'dropout_rate': 0.22047772479659544, 'attention_dim': 28}. Best is trial 13 with value: 5.490512787372311.\n"
          ]
        },
        {
          "output_type": "stream",
          "name": "stdout",
          "text": [
            "8/8 [==============================] - 0s 4ms/step\n"
          ]
        },
        {
          "output_type": "stream",
          "name": "stderr",
          "text": [
            "[I 2023-06-17 00:39:24,521] Trial 48 finished with value: 22.133184398649174 and parameters: {'window_size': 48, 'tcn_filters': 52, 'tcn_kernel_size': 3, 'dropout_rate': 0.1759512584949871, 'attention_dim': 28}. Best is trial 13 with value: 5.490512787372311.\n"
          ]
        },
        {
          "output_type": "stream",
          "name": "stdout",
          "text": [
            "8/8 [==============================] - 0s 3ms/step\n"
          ]
        },
        {
          "output_type": "stream",
          "name": "stderr",
          "text": [
            "[I 2023-06-17 00:39:30,303] Trial 49 finished with value: 13.721937257601244 and parameters: {'window_size': 29, 'tcn_filters': 33, 'tcn_kernel_size': 3, 'dropout_rate': 0.21649417323738532, 'attention_dim': 17}. Best is trial 13 with value: 5.490512787372311.\n"
          ]
        },
        {
          "output_type": "stream",
          "name": "stdout",
          "text": [
            "8/8 [==============================] - 0s 4ms/step\n"
          ]
        },
        {
          "output_type": "stream",
          "name": "stderr",
          "text": [
            "[I 2023-06-17 00:39:34,249] Trial 50 finished with value: 70.13757261548433 and parameters: {'window_size': 51, 'tcn_filters': 43, 'tcn_kernel_size': 3, 'dropout_rate': 0.15033556731737802, 'attention_dim': 21}. Best is trial 13 with value: 5.490512787372311.\n"
          ]
        },
        {
          "output_type": "stream",
          "name": "stdout",
          "text": [
            "8/8 [==============================] - 0s 4ms/step\n"
          ]
        },
        {
          "output_type": "stream",
          "name": "stderr",
          "text": [
            "[I 2023-06-17 00:39:41,774] Trial 51 finished with value: 11.931953537978758 and parameters: {'window_size': 57, 'tcn_filters': 57, 'tcn_kernel_size': 2, 'dropout_rate': 0.2728770399894986, 'attention_dim': 31}. Best is trial 13 with value: 5.490512787372311.\n"
          ]
        },
        {
          "output_type": "stream",
          "name": "stdout",
          "text": [
            "8/8 [==============================] - 0s 4ms/step\n"
          ]
        },
        {
          "output_type": "stream",
          "name": "stderr",
          "text": [
            "[I 2023-06-17 00:39:53,106] Trial 52 finished with value: 7.850795362165948 and parameters: {'window_size': 63, 'tcn_filters': 49, 'tcn_kernel_size': 4, 'dropout_rate': 0.2978368293308734, 'attention_dim': 29}. Best is trial 13 with value: 5.490512787372311.\n"
          ]
        },
        {
          "output_type": "stream",
          "name": "stdout",
          "text": [
            "8/8 [==============================] - 0s 6ms/step\n"
          ]
        },
        {
          "output_type": "stream",
          "name": "stderr",
          "text": [
            "[I 2023-06-17 00:40:05,846] Trial 53 finished with value: 22.301616879058017 and parameters: {'window_size': 45, 'tcn_filters': 67, 'tcn_kernel_size': 4, 'dropout_rate': 0.2242899209007142, 'attention_dim': 31}. Best is trial 13 with value: 5.490512787372311.\n"
          ]
        },
        {
          "output_type": "stream",
          "name": "stdout",
          "text": [
            "8/8 [==============================] - 0s 4ms/step\n"
          ]
        },
        {
          "output_type": "stream",
          "name": "stderr",
          "text": [
            "[I 2023-06-17 00:40:18,116] Trial 54 finished with value: 5.4591769286618765 and parameters: {'window_size': 45, 'tcn_filters': 46, 'tcn_kernel_size': 4, 'dropout_rate': 0.32243276131544185, 'attention_dim': 29}. Best is trial 54 with value: 5.4591769286618765.\n"
          ]
        },
        {
          "output_type": "stream",
          "name": "stdout",
          "text": [
            "8/8 [==============================] - 0s 5ms/step\n"
          ]
        },
        {
          "output_type": "stream",
          "name": "stderr",
          "text": [
            "[I 2023-06-17 00:40:28,498] Trial 55 finished with value: 12.514895881133945 and parameters: {'window_size': 39, 'tcn_filters': 114, 'tcn_kernel_size': 4, 'dropout_rate': 0.3417451906416491, 'attention_dim': 23}. Best is trial 54 with value: 5.4591769286618765.\n"
          ]
        },
        {
          "output_type": "stream",
          "name": "stdout",
          "text": [
            "8/8 [==============================] - 0s 3ms/step\n"
          ]
        },
        {
          "output_type": "stream",
          "name": "stderr",
          "text": [
            "[I 2023-06-17 00:40:35,439] Trial 56 finished with value: 12.660040405235641 and parameters: {'window_size': 44, 'tcn_filters': 40, 'tcn_kernel_size': 3, 'dropout_rate': 0.31536175291722573, 'attention_dim': 29}. Best is trial 54 with value: 5.4591769286618765.\n"
          ]
        },
        {
          "output_type": "stream",
          "name": "stdout",
          "text": [
            "8/8 [==============================] - 0s 3ms/step\n"
          ]
        },
        {
          "output_type": "stream",
          "name": "stderr",
          "text": [
            "[I 2023-06-17 00:40:47,405] Trial 57 finished with value: 8.696460216867996 and parameters: {'window_size': 37, 'tcn_filters': 46, 'tcn_kernel_size': 4, 'dropout_rate': 0.24769420001896056, 'attention_dim': 27}. Best is trial 54 with value: 5.4591769286618765.\n"
          ]
        },
        {
          "output_type": "stream",
          "name": "stdout",
          "text": [
            "8/8 [==============================] - 0s 3ms/step\n"
          ]
        },
        {
          "output_type": "stream",
          "name": "stderr",
          "text": [
            "[I 2023-06-17 00:40:53,381] Trial 58 finished with value: 31.436744369115516 and parameters: {'window_size': 47, 'tcn_filters': 35, 'tcn_kernel_size': 4, 'dropout_rate': 0.28463407954057834, 'attention_dim': 24}. Best is trial 54 with value: 5.4591769286618765.\n"
          ]
        },
        {
          "output_type": "stream",
          "name": "stdout",
          "text": [
            "8/8 [==============================] - 0s 6ms/step\n"
          ]
        },
        {
          "output_type": "stream",
          "name": "stderr",
          "text": [
            "[I 2023-06-17 00:40:58,825] Trial 59 finished with value: 13.928164602119278 and parameters: {'window_size': 52, 'tcn_filters': 53, 'tcn_kernel_size': 3, 'dropout_rate': 0.3797252043713121, 'attention_dim': 27}. Best is trial 54 with value: 5.4591769286618765.\n"
          ]
        },
        {
          "output_type": "stream",
          "name": "stdout",
          "text": [
            "8/8 [==============================] - 0s 3ms/step\n"
          ]
        },
        {
          "output_type": "stream",
          "name": "stderr",
          "text": [
            "[I 2023-06-17 00:41:06,285] Trial 60 finished with value: 7.392124556718521 and parameters: {'window_size': 21, 'tcn_filters': 74, 'tcn_kernel_size': 5, 'dropout_rate': 0.3198747138226975, 'attention_dim': 20}. Best is trial 54 with value: 5.4591769286618765.\n"
          ]
        },
        {
          "output_type": "stream",
          "name": "stdout",
          "text": [
            "8/8 [==============================] - 0s 4ms/step\n"
          ]
        },
        {
          "output_type": "stream",
          "name": "stderr",
          "text": [
            "[I 2023-06-17 00:41:18,280] Trial 61 finished with value: 5.876530316541343 and parameters: {'window_size': 62, 'tcn_filters': 57, 'tcn_kernel_size': 4, 'dropout_rate': 0.2988803967381863, 'attention_dim': 31}. Best is trial 54 with value: 5.4591769286618765.\n"
          ]
        },
        {
          "output_type": "stream",
          "name": "stdout",
          "text": [
            "8/8 [==============================] - 0s 5ms/step\n"
          ]
        },
        {
          "output_type": "stream",
          "name": "stderr",
          "text": [
            "[I 2023-06-17 00:41:25,256] Trial 62 finished with value: 5.690861124457129 and parameters: {'window_size': 75, 'tcn_filters': 58, 'tcn_kernel_size': 4, 'dropout_rate': 0.30446766924616747, 'attention_dim': 30}. Best is trial 54 with value: 5.4591769286618765.\n"
          ]
        },
        {
          "output_type": "stream",
          "name": "stdout",
          "text": [
            "8/8 [==============================] - 0s 5ms/step\n"
          ]
        },
        {
          "output_type": "stream",
          "name": "stderr",
          "text": [
            "[I 2023-06-17 00:41:35,146] Trial 63 finished with value: 5.2702639206638535 and parameters: {'window_size': 75, 'tcn_filters': 59, 'tcn_kernel_size': 4, 'dropout_rate': 0.2982002030599316, 'attention_dim': 32}. Best is trial 63 with value: 5.2702639206638535.\n"
          ]
        },
        {
          "output_type": "stream",
          "name": "stdout",
          "text": [
            "8/8 [==============================] - 0s 5ms/step\n"
          ]
        },
        {
          "output_type": "stream",
          "name": "stderr",
          "text": [
            "[I 2023-06-17 00:41:46,009] Trial 64 finished with value: 7.2047754718509225 and parameters: {'window_size': 74, 'tcn_filters': 59, 'tcn_kernel_size': 4, 'dropout_rate': 0.3038371281554897, 'attention_dim': 32}. Best is trial 63 with value: 5.2702639206638535.\n"
          ]
        },
        {
          "output_type": "stream",
          "name": "stdout",
          "text": [
            "8/8 [==============================] - 0s 6ms/step\n"
          ]
        },
        {
          "output_type": "stream",
          "name": "stderr",
          "text": [
            "[I 2023-06-17 00:41:52,857] Trial 65 finished with value: 21.697259686541074 and parameters: {'window_size': 88, 'tcn_filters': 63, 'tcn_kernel_size': 4, 'dropout_rate': 0.33648927394687744, 'attention_dim': 31}. Best is trial 63 with value: 5.2702639206638535.\n"
          ]
        },
        {
          "output_type": "stream",
          "name": "stdout",
          "text": [
            "8/8 [==============================] - 0s 5ms/step\n"
          ]
        },
        {
          "output_type": "stream",
          "name": "stderr",
          "text": [
            "[I 2023-06-17 00:42:04,882] Trial 66 finished with value: 5.816918843112764 and parameters: {'window_size': 77, 'tcn_filters': 68, 'tcn_kernel_size': 4, 'dropout_rate': 0.3219311891221101, 'attention_dim': 30}. Best is trial 63 with value: 5.2702639206638535.\n"
          ]
        },
        {
          "output_type": "stream",
          "name": "stdout",
          "text": [
            "8/8 [==============================] - 0s 5ms/step\n"
          ]
        },
        {
          "output_type": "stream",
          "name": "stderr",
          "text": [
            "[I 2023-06-17 00:42:16,832] Trial 67 finished with value: 10.73907734456523 and parameters: {'window_size': 75, 'tcn_filters': 70, 'tcn_kernel_size': 4, 'dropout_rate': 0.3195345849942248, 'attention_dim': 30}. Best is trial 63 with value: 5.2702639206638535.\n"
          ]
        },
        {
          "output_type": "stream",
          "name": "stdout",
          "text": [
            "8/8 [==============================] - 0s 5ms/step\n"
          ]
        },
        {
          "output_type": "stream",
          "name": "stderr",
          "text": [
            "[I 2023-06-17 00:42:28,940] Trial 68 finished with value: 39.209028709418625 and parameters: {'window_size': 83, 'tcn_filters': 66, 'tcn_kernel_size': 4, 'dropout_rate': 0.3449089498053017, 'attention_dim': 29}. Best is trial 63 with value: 5.2702639206638535.\n"
          ]
        },
        {
          "output_type": "stream",
          "name": "stdout",
          "text": [
            "8/8 [==============================] - 0s 5ms/step\n"
          ]
        },
        {
          "output_type": "stream",
          "name": "stderr",
          "text": [
            "[I 2023-06-17 00:42:36,111] Trial 69 finished with value: 22.107694034842183 and parameters: {'window_size': 70, 'tcn_filters': 78, 'tcn_kernel_size': 4, 'dropout_rate': 0.3050982671828497, 'attention_dim': 32}. Best is trial 63 with value: 5.2702639206638535.\n"
          ]
        },
        {
          "output_type": "stream",
          "name": "stdout",
          "text": [
            "8/8 [==============================] - 0s 5ms/step\n"
          ]
        },
        {
          "output_type": "stream",
          "name": "stderr",
          "text": [
            "[I 2023-06-17 00:42:48,391] Trial 70 finished with value: 5.6281899814916185 and parameters: {'window_size': 65, 'tcn_filters': 84, 'tcn_kernel_size': 4, 'dropout_rate': 0.323342033653729, 'attention_dim': 31}. Best is trial 63 with value: 5.2702639206638535.\n"
          ]
        },
        {
          "output_type": "stream",
          "name": "stdout",
          "text": [
            "8/8 [==============================] - 0s 6ms/step\n"
          ]
        },
        {
          "output_type": "stream",
          "name": "stderr",
          "text": [
            "[I 2023-06-17 00:43:02,863] Trial 71 finished with value: 7.130672312815011 and parameters: {'window_size': 64, 'tcn_filters': 93, 'tcn_kernel_size': 4, 'dropout_rate': 0.325972175008669, 'attention_dim': 31}. Best is trial 63 with value: 5.2702639206638535.\n"
          ]
        },
        {
          "output_type": "stream",
          "name": "stdout",
          "text": [
            "8/8 [==============================] - 0s 6ms/step\n"
          ]
        },
        {
          "output_type": "stream",
          "name": "stderr",
          "text": [
            "[I 2023-06-17 00:43:14,903] Trial 72 finished with value: 10.954658482853294 and parameters: {'window_size': 73, 'tcn_filters': 85, 'tcn_kernel_size': 4, 'dropout_rate': 0.29735488133805027, 'attention_dim': 30}. Best is trial 63 with value: 5.2702639206638535.\n"
          ]
        },
        {
          "output_type": "stream",
          "name": "stdout",
          "text": [
            "8/8 [==============================] - 0s 12ms/step\n"
          ]
        },
        {
          "output_type": "stream",
          "name": "stderr",
          "text": [
            "[I 2023-06-17 00:43:37,260] Trial 73 finished with value: 7.741564583831702 and parameters: {'window_size': 78, 'tcn_filters': 101, 'tcn_kernel_size': 4, 'dropout_rate': 0.31172753860649743, 'attention_dim': 29}. Best is trial 63 with value: 5.2702639206638535.\n"
          ]
        },
        {
          "output_type": "stream",
          "name": "stdout",
          "text": [
            "8/8 [==============================] - 0s 6ms/step\n"
          ]
        },
        {
          "output_type": "stream",
          "name": "stderr",
          "text": [
            "[I 2023-06-17 00:43:54,363] Trial 74 finished with value: 5.662277835948934 and parameters: {'window_size': 68, 'tcn_filters': 83, 'tcn_kernel_size': 4, 'dropout_rate': 0.2771902052488102, 'attention_dim': 32}. Best is trial 63 with value: 5.2702639206638535.\n"
          ]
        },
        {
          "output_type": "stream",
          "name": "stdout",
          "text": [
            "8/8 [==============================] - 0s 6ms/step\n"
          ]
        },
        {
          "output_type": "stream",
          "name": "stderr",
          "text": [
            "[I 2023-06-17 00:44:16,577] Trial 75 finished with value: 5.596282530315238 and parameters: {'window_size': 67, 'tcn_filters': 89, 'tcn_kernel_size': 4, 'dropout_rate': 0.27718020314320024, 'attention_dim': 32}. Best is trial 63 with value: 5.2702639206638535.\n"
          ]
        },
        {
          "output_type": "stream",
          "name": "stdout",
          "text": [
            "8/8 [==============================] - 0s 7ms/step\n"
          ]
        },
        {
          "output_type": "stream",
          "name": "stderr",
          "text": [
            "[I 2023-06-17 00:44:36,688] Trial 76 finished with value: 5.802370335452288 and parameters: {'window_size': 67, 'tcn_filters': 86, 'tcn_kernel_size': 5, 'dropout_rate': 0.26841472331309024, 'attention_dim': 32}. Best is trial 63 with value: 5.2702639206638535.\n"
          ]
        },
        {
          "output_type": "stream",
          "name": "stdout",
          "text": [
            "8/8 [==============================] - 1s 5ms/step\n"
          ]
        },
        {
          "output_type": "stream",
          "name": "stderr",
          "text": [
            "[I 2023-06-17 00:44:49,308] Trial 77 finished with value: 10.736661270984445 and parameters: {'window_size': 71, 'tcn_filters': 82, 'tcn_kernel_size': 4, 'dropout_rate': 0.2814272930452763, 'attention_dim': 32}. Best is trial 63 with value: 5.2702639206638535.\n"
          ]
        },
        {
          "output_type": "stream",
          "name": "stdout",
          "text": [
            "8/8 [==============================] - 0s 6ms/step\n"
          ]
        },
        {
          "output_type": "stream",
          "name": "stderr",
          "text": [
            "[I 2023-06-17 00:45:11,726] Trial 78 finished with value: 4.867126642034194 and parameters: {'window_size': 81, 'tcn_filters': 96, 'tcn_kernel_size': 4, 'dropout_rate': 0.2899788997684992, 'attention_dim': 32}. Best is trial 78 with value: 4.867126642034194.\n"
          ]
        },
        {
          "output_type": "stream",
          "name": "stdout",
          "text": [
            "8/8 [==============================] - 0s 7ms/step\n"
          ]
        },
        {
          "output_type": "stream",
          "name": "stderr",
          "text": [
            "[I 2023-06-17 00:45:26,737] Trial 79 finished with value: 5.891241999857864 and parameters: {'window_size': 85, 'tcn_filters': 90, 'tcn_kernel_size': 4, 'dropout_rate': 0.2591371960571078, 'attention_dim': 31}. Best is trial 78 with value: 4.867126642034194.\n"
          ]
        },
        {
          "output_type": "stream",
          "name": "stdout",
          "text": [
            "8/8 [==============================] - 0s 7ms/step\n"
          ]
        },
        {
          "output_type": "stream",
          "name": "stderr",
          "text": [
            "[I 2023-06-17 00:45:38,609] Trial 80 finished with value: 9.543730099856152 and parameters: {'window_size': 79, 'tcn_filters': 97, 'tcn_kernel_size': 4, 'dropout_rate': 0.2769959391963211, 'attention_dim': 30}. Best is trial 78 with value: 4.867126642034194.\n"
          ]
        },
        {
          "output_type": "stream",
          "name": "stdout",
          "text": [
            "8/8 [==============================] - 0s 10ms/step\n"
          ]
        },
        {
          "output_type": "stream",
          "name": "stderr",
          "text": [
            "[I 2023-06-17 00:46:01,028] Trial 81 finished with value: 5.143484361150665 and parameters: {'window_size': 66, 'tcn_filters': 85, 'tcn_kernel_size': 4, 'dropout_rate': 0.2792110731545138, 'attention_dim': 32}. Best is trial 78 with value: 4.867126642034194.\n"
          ]
        },
        {
          "output_type": "stream",
          "name": "stdout",
          "text": [
            "8/8 [==============================] - 0s 6ms/step\n"
          ]
        },
        {
          "output_type": "stream",
          "name": "stderr",
          "text": [
            "[I 2023-06-17 00:46:13,647] Trial 82 finished with value: 10.395674091131186 and parameters: {'window_size': 66, 'tcn_filters': 89, 'tcn_kernel_size': 4, 'dropout_rate': 0.2890213430035878, 'attention_dim': 32}. Best is trial 78 with value: 4.867126642034194.\n"
          ]
        },
        {
          "output_type": "stream",
          "name": "stdout",
          "text": [
            "8/8 [==============================] - 0s 5ms/step\n"
          ]
        },
        {
          "output_type": "stream",
          "name": "stderr",
          "text": [
            "[I 2023-06-17 00:46:26,297] Trial 83 finished with value: 13.507665502131774 and parameters: {'window_size': 56, 'tcn_filters': 82, 'tcn_kernel_size': 4, 'dropout_rate': 0.3100293274566432, 'attention_dim': 31}. Best is trial 78 with value: 4.867126642034194.\n"
          ]
        },
        {
          "output_type": "stream",
          "name": "stdout",
          "text": [
            "8/8 [==============================] - 0s 6ms/step\n"
          ]
        },
        {
          "output_type": "stream",
          "name": "stderr",
          "text": [
            "[I 2023-06-17 00:46:35,255] Trial 84 finished with value: 13.99017010040462 and parameters: {'window_size': 60, 'tcn_filters': 108, 'tcn_kernel_size': 4, 'dropout_rate': 0.26246765890651635, 'attention_dim': 32}. Best is trial 78 with value: 4.867126642034194.\n"
          ]
        },
        {
          "output_type": "stream",
          "name": "stdout",
          "text": [
            "8/8 [==============================] - 0s 11ms/step\n"
          ]
        },
        {
          "output_type": "stream",
          "name": "stderr",
          "text": [
            "[I 2023-06-17 00:46:57,575] Trial 85 finished with value: 7.07602689497482 and parameters: {'window_size': 72, 'tcn_filters': 93, 'tcn_kernel_size': 4, 'dropout_rate': 0.27776142958410427, 'attention_dim': 30}. Best is trial 78 with value: 4.867126642034194.\n"
          ]
        },
        {
          "output_type": "stream",
          "name": "stdout",
          "text": [
            "8/8 [==============================] - 0s 9ms/step\n"
          ]
        },
        {
          "output_type": "stream",
          "name": "stderr",
          "text": [
            "[I 2023-06-17 00:47:11,286] Trial 86 finished with value: 19.595909875120636 and parameters: {'window_size': 68, 'tcn_filters': 87, 'tcn_kernel_size': 4, 'dropout_rate': 0.29175820989486556, 'attention_dim': 31}. Best is trial 78 with value: 4.867126642034194.\n"
          ]
        },
        {
          "output_type": "stream",
          "name": "stdout",
          "text": [
            "8/8 [==============================] - 0s 7ms/step\n"
          ]
        },
        {
          "output_type": "stream",
          "name": "stderr",
          "text": [
            "[I 2023-06-17 00:47:34,300] Trial 87 finished with value: 14.09097712127643 and parameters: {'window_size': 81, 'tcn_filters': 96, 'tcn_kernel_size': 4, 'dropout_rate': 0.33291900238928873, 'attention_dim': 32}. Best is trial 78 with value: 4.867126642034194.\n"
          ]
        },
        {
          "output_type": "stream",
          "name": "stdout",
          "text": [
            "8/8 [==============================] - 0s 9ms/step\n"
          ]
        },
        {
          "output_type": "stream",
          "name": "stderr",
          "text": [
            "[I 2023-06-17 00:47:41,322] Trial 88 finished with value: 30.51555691697288 and parameters: {'window_size': 76, 'tcn_filters': 78, 'tcn_kernel_size': 4, 'dropout_rate': 0.2516175930012978, 'attention_dim': 29}. Best is trial 78 with value: 4.867126642034194.\n"
          ]
        },
        {
          "output_type": "stream",
          "name": "stdout",
          "text": [
            "8/8 [==============================] - 0s 6ms/step\n"
          ]
        },
        {
          "output_type": "stream",
          "name": "stderr",
          "text": [
            "[I 2023-06-17 00:47:56,577] Trial 89 finished with value: 8.318555783038668 and parameters: {'window_size': 64, 'tcn_filters': 94, 'tcn_kernel_size': 4, 'dropout_rate': 0.2813332811698656, 'attention_dim': 28}. Best is trial 78 with value: 4.867126642034194.\n"
          ]
        },
        {
          "output_type": "stream",
          "name": "stdout",
          "text": [
            "8/8 [==============================] - 0s 8ms/step\n"
          ]
        },
        {
          "output_type": "stream",
          "name": "stderr",
          "text": [
            "[I 2023-06-17 00:48:18,812] Trial 90 finished with value: 8.68655016393795 and parameters: {'window_size': 70, 'tcn_filters': 101, 'tcn_kernel_size': 5, 'dropout_rate': 0.2942889084844015, 'attention_dim': 31}. Best is trial 78 with value: 4.867126642034194.\n"
          ]
        },
        {
          "output_type": "stream",
          "name": "stdout",
          "text": [
            "8/8 [==============================] - 0s 7ms/step\n"
          ]
        },
        {
          "output_type": "stream",
          "name": "stderr",
          "text": [
            "[I 2023-06-17 00:48:30,874] Trial 91 finished with value: 9.52551539776019 and parameters: {'window_size': 92, 'tcn_filters': 84, 'tcn_kernel_size': 4, 'dropout_rate': 0.26524679868738593, 'attention_dim': 32}. Best is trial 78 with value: 4.867126642034194.\n"
          ]
        },
        {
          "output_type": "stream",
          "name": "stdout",
          "text": [
            "8/8 [==============================] - 0s 6ms/step\n"
          ]
        },
        {
          "output_type": "stream",
          "name": "stderr",
          "text": [
            "[I 2023-06-17 00:48:37,851] Trial 92 finished with value: 39.33303592521101 and parameters: {'window_size': 66, 'tcn_filters': 72, 'tcn_kernel_size': 4, 'dropout_rate': 0.3040853955663147, 'attention_dim': 31}. Best is trial 78 with value: 4.867126642034194.\n"
          ]
        },
        {
          "output_type": "stream",
          "name": "stdout",
          "text": [
            "8/8 [==============================] - 0s 7ms/step\n"
          ]
        },
        {
          "output_type": "stream",
          "name": "stderr",
          "text": [
            "[I 2023-06-17 00:48:44,788] Trial 93 finished with value: 26.26017049837823 and parameters: {'window_size': 84, 'tcn_filters': 89, 'tcn_kernel_size': 4, 'dropout_rate': 0.27566113043692403, 'attention_dim': 30}. Best is trial 78 with value: 4.867126642034194.\n"
          ]
        },
        {
          "output_type": "stream",
          "name": "stdout",
          "text": [
            "8/8 [==============================] - 0s 5ms/step\n"
          ]
        },
        {
          "output_type": "stream",
          "name": "stderr",
          "text": [
            "[I 2023-06-17 00:48:57,474] Trial 94 finished with value: 5.382187807465367 and parameters: {'window_size': 73, 'tcn_filters': 80, 'tcn_kernel_size': 4, 'dropout_rate': 0.3131972942113659, 'attention_dim': 32}. Best is trial 78 with value: 4.867126642034194.\n"
          ]
        },
        {
          "output_type": "stream",
          "name": "stdout",
          "text": [
            "8/8 [==============================] - 0s 5ms/step\n"
          ]
        },
        {
          "output_type": "stream",
          "name": "stderr",
          "text": [
            "[I 2023-06-17 00:49:19,566] Trial 95 finished with value: 4.961820311795948 and parameters: {'window_size': 79, 'tcn_filters': 80, 'tcn_kernel_size': 4, 'dropout_rate': 0.3113665507087426, 'attention_dim': 32}. Best is trial 78 with value: 4.867126642034194.\n"
          ]
        },
        {
          "output_type": "stream",
          "name": "stdout",
          "text": [
            "8/8 [==============================] - 0s 10ms/step\n"
          ]
        },
        {
          "output_type": "stream",
          "name": "stderr",
          "text": [
            "[I 2023-06-17 00:49:30,128] Trial 96 finished with value: 12.395793155976635 and parameters: {'window_size': 80, 'tcn_filters': 75, 'tcn_kernel_size': 4, 'dropout_rate': 0.2888339842198057, 'attention_dim': 32}. Best is trial 78 with value: 4.867126642034194.\n"
          ]
        },
        {
          "output_type": "stream",
          "name": "stdout",
          "text": [
            "8/8 [==============================] - 0s 6ms/step\n"
          ]
        },
        {
          "output_type": "stream",
          "name": "stderr",
          "text": [
            "[I 2023-06-17 00:49:37,707] Trial 97 finished with value: 12.866141332490091 and parameters: {'window_size': 87, 'tcn_filters': 79, 'tcn_kernel_size': 4, 'dropout_rate': 0.314106887750552, 'attention_dim': 32}. Best is trial 78 with value: 4.867126642034194.\n"
          ]
        },
        {
          "output_type": "stream",
          "name": "stdout",
          "text": [
            "8/8 [==============================] - 0s 6ms/step\n"
          ]
        },
        {
          "output_type": "stream",
          "name": "stderr",
          "text": [
            "[I 2023-06-17 00:49:48,650] Trial 98 finished with value: 7.308986021016438 and parameters: {'window_size': 72, 'tcn_filters': 83, 'tcn_kernel_size': 4, 'dropout_rate': 0.3224425398443488, 'attention_dim': 8}. Best is trial 78 with value: 4.867126642034194.\n"
          ]
        },
        {
          "output_type": "stream",
          "name": "stdout",
          "text": [
            "8/8 [==============================] - 0s 12ms/step\n"
          ]
        },
        {
          "output_type": "stream",
          "name": "stderr",
          "text": [
            "[I 2023-06-17 00:50:00,902] Trial 99 finished with value: 9.440532828477709 and parameters: {'window_size': 55, 'tcn_filters': 87, 'tcn_kernel_size': 4, 'dropout_rate': 0.3297584509242034, 'attention_dim': 31}. Best is trial 78 with value: 4.867126642034194.\n"
          ]
        }
      ]
    },
    {
      "cell_type": "code",
      "source": [
        "# Display the optimal set of parameters\n",
        "best_params = study.best_params\n",
        "print(\"Best Hyperparameters:\", best_params)"
      ],
      "metadata": {
        "colab": {
          "base_uri": "https://localhost:8080/"
        },
        "id": "MIC7AbkU-qLy",
        "outputId": "1e031cd7-f845-47eb-92b8-53e2b340287d"
      },
      "id": "MIC7AbkU-qLy",
      "execution_count": 15,
      "outputs": [
        {
          "output_type": "stream",
          "name": "stdout",
          "text": [
            "Best Hyperparameters: {'window_size': 81, 'tcn_filters': 96, 'tcn_kernel_size': 4, 'dropout_rate': 0.2899788997684992, 'attention_dim': 32}\n"
          ]
        }
      ]
    },
    {
      "cell_type": "code",
      "source": [
        "# Evaluate the accuracy of test\n",
        "print(f\"MAPE on Test dataset: \", best_mape)\n",
        "print(f\"RMSE on Test dataset: \", best_rmse)\n",
        "print(f\"MSLE on Test dataset: \", best_msle)"
      ],
      "metadata": {
        "colab": {
          "base_uri": "https://localhost:8080/"
        },
        "id": "gIcsWJky-scK",
        "outputId": "fb143cad-8c18-464b-b824-501366bf80f6"
      },
      "id": "gIcsWJky-scK",
      "execution_count": 16,
      "outputs": [
        {
          "output_type": "stream",
          "name": "stdout",
          "text": [
            "MAPE on Test dataset:  0.021379483016505243\n",
            "RMSE on Test dataset:  2.2061565316255765\n",
            "MSLE on Test dataset:  0.0007673788753740547\n"
          ]
        }
      ]
    },
    {
      "cell_type": "markdown",
      "source": [
        "### Save and Load the best model and related information"
      ],
      "metadata": {
        "id": "LAq2jnXOj6aI"
      },
      "id": "LAq2jnXOj6aI"
    },
    {
      "cell_type": "code",
      "source": [
        "# Save the best model and related information\n",
        "best_model.save('/content/drive/MyDrive/Colab Notebooks/Business Data Analysis/NTR/7:1:2/best_model.h5')\n",
        "\n",
        "np.save('/content/drive/MyDrive/Colab Notebooks/Business Data Analysis/NTR/7:1:2/best_window_size.npy', best_window_size)\n",
        "np.save('/content/drive/MyDrive/Colab Notebooks/Business Data Analysis/NTR/7:1:2/best_train_windows.npy', best_train_windows)\n",
        "np.save('/content/drive/MyDrive/Colab Notebooks/Business Data Analysis/NTR/7:1:2/best_train_targets.npy', best_train_targets)\n",
        "np.save('/content/drive/MyDrive/Colab Notebooks/Business Data Analysis/NTR/7:1:2/best_test_windows.npy', best_test_windows)\n",
        "np.save('/content/drive/MyDrive/Colab Notebooks/Business Data Analysis/NTR/7:1:2/best_test_targets.npy', best_test_targets)\n",
        "np.save('/content/drive/MyDrive/Colab Notebooks/Business Data Analysis/NTR/7:1:2/best_val_windows.npy', best_val_windows)\n",
        "np.save('/content/drive/MyDrive/Colab Notebooks/Business Data Analysis/NTR/7:1:2/best_val_targets.npy', best_val_targets)\n",
        "\n",
        "np.save('/content/drive/MyDrive/Colab Notebooks/Business Data Analysis/NTR/7:1:2/best_y_pred.npy', best_y_pred)\n",
        "\n",
        "np.save('/content/drive/MyDrive/Colab Notebooks/Business Data Analysis/NTR/7:1:2/best_mse.npy', best_mse)\n",
        "np.save('/content/drive/MyDrive/Colab Notebooks/Business Data Analysis/NTR/7:1:2/best_rmse.npy', best_rmse)\n",
        "np.save('/content/drive/MyDrive/Colab Notebooks/Business Data Analysis/NTR/7:1:2/best_mape.npy', best_mape)\n",
        "np.save('/content/drive/MyDrive/Colab Notebooks/Business Data Analysis/NTR/7:1:2/best_msle.npy', best_msle)"
      ],
      "metadata": {
        "id": "VOV_a65HsGiB"
      },
      "id": "VOV_a65HsGiB",
      "execution_count": 17,
      "outputs": []
    },
    {
      "cell_type": "code",
      "source": [
        "# Load the best model and related information\n",
        "with custom_object_scope({'AttentionLayer': AttentionLayer}):\n",
        "    loaded_best_model = load_model('/content/drive/MyDrive/Colab Notebooks/Business Data Analysis/NTR/7:1:2/best_model.h5')\n",
        "\n",
        "loaded_best_window_size = np.load('/content/drive/MyDrive/Colab Notebooks/Business Data Analysis/NTR/7:1:2/best_window_size.npy')\n",
        "loaded_best_train_windows = np.load('/content/drive/MyDrive/Colab Notebooks/Business Data Analysis/NTR/7:1:2/best_train_windows.npy')\n",
        "loaded_best_train_targets = np.load('/content/drive/MyDrive/Colab Notebooks/Business Data Analysis/NTR/7:1:2/best_train_targets.npy')\n",
        "loaded_best_test_windows = np.load('/content/drive/MyDrive/Colab Notebooks/Business Data Analysis/NTR/7:1:2/best_test_windows.npy')\n",
        "loaded_best_test_targets = np.load('/content/drive/MyDrive/Colab Notebooks/Business Data Analysis/NTR/7:1:2/best_test_targets.npy')\n",
        "loaded_best_val_windows = np.load('/content/drive/MyDrive/Colab Notebooks/Business Data Analysis/NTR/7:1:2/best_val_windows.npy')\n",
        "loaded_best_val_targets = np.load('/content/drive/MyDrive/Colab Notebooks/Business Data Analysis/NTR/7:1:2/best_val_targets.npy')\n",
        "\n",
        "loaded_best_y_pred = np.load('/content/drive/MyDrive/Colab Notebooks/Business Data Analysis/NTR/7:1:2/best_y_pred.npy')\n",
        "\n",
        "loaded_best_mse = np.load('/content/drive/MyDrive/Colab Notebooks/Business Data Analysis/NTR/7:1:2/best_mse.npy').item()\n",
        "loaded_best_rmse = np.load('/content/drive/MyDrive/Colab Notebooks/Business Data Analysis/NTR/7:1:2/best_rmse.npy').item()\n",
        "loaded_best_mape = np.load('/content/drive/MyDrive/Colab Notebooks/Business Data Analysis/NTR/7:1:2/best_mape.npy').item()\n",
        "loaded_best_msle = np.load('/content/drive/MyDrive/Colab Notebooks/Business Data Analysis/NTR/7:1:2/best_msle.npy').item()"
      ],
      "metadata": {
        "id": "CYIqqiJn-7Jp"
      },
      "id": "CYIqqiJn-7Jp",
      "execution_count": 18,
      "outputs": []
    },
    {
      "cell_type": "markdown",
      "source": [
        "## Predicting the next 30 days"
      ],
      "metadata": {
        "id": "ZV6VbX2qiTJ2"
      },
      "id": "ZV6VbX2qiTJ2"
    },
    {
      "cell_type": "markdown",
      "source": [
        "### Preparing the forecast date index"
      ],
      "metadata": {
        "id": "KheB_eYIiU4b"
      },
      "id": "KheB_eYIiU4b"
    },
    {
      "cell_type": "code",
      "source": [
        "# Get the last date from the current index\n",
        "last_date = df.index[-1]\n",
        "\n",
        "# Add one day to the last date\n",
        "next_date = last_date + pd.DateOffset(days=1)\n",
        "\n",
        "# Create a list of indices starting from the next date for 30 days\n",
        "index_next_30_days = pd.date_range(start=next_date, periods=30).tolist()"
      ],
      "metadata": {
        "id": "nEQ97NJuiPPW"
      },
      "id": "nEQ97NJuiPPW",
      "execution_count": 19,
      "outputs": []
    },
    {
      "cell_type": "markdown",
      "source": [
        "## Prediction process"
      ],
      "metadata": {
        "id": "35CEaBcIiX6-"
      },
      "id": "35CEaBcIiX6-"
    },
    {
      "cell_type": "code",
      "execution_count": 20,
      "id": "45367300",
      "metadata": {
        "colab": {
          "base_uri": "https://localhost:8080/"
        },
        "id": "45367300",
        "outputId": "ffaad0e0-9e3a-445c-ba6b-11319d78bdd1"
      },
      "outputs": [
        {
          "output_type": "stream",
          "name": "stdout",
          "text": [
            "1/1 [==============================] - 0s 208ms/step\n",
            "1/1 [==============================] - 0s 40ms/step\n",
            "1/1 [==============================] - 0s 41ms/step\n",
            "1/1 [==============================] - 0s 39ms/step\n",
            "1/1 [==============================] - 0s 32ms/step\n",
            "1/1 [==============================] - 0s 36ms/step\n",
            "1/1 [==============================] - 0s 43ms/step\n",
            "1/1 [==============================] - 0s 47ms/step\n",
            "1/1 [==============================] - 0s 66ms/step\n",
            "1/1 [==============================] - 0s 46ms/step\n",
            "1/1 [==============================] - 0s 48ms/step\n",
            "1/1 [==============================] - 0s 49ms/step\n",
            "1/1 [==============================] - 0s 47ms/step\n",
            "1/1 [==============================] - 0s 35ms/step\n",
            "1/1 [==============================] - 0s 40ms/step\n",
            "1/1 [==============================] - 0s 34ms/step\n",
            "1/1 [==============================] - 0s 33ms/step\n",
            "1/1 [==============================] - 0s 29ms/step\n",
            "1/1 [==============================] - 0s 29ms/step\n",
            "1/1 [==============================] - 0s 20ms/step\n",
            "1/1 [==============================] - 0s 20ms/step\n",
            "1/1 [==============================] - 0s 19ms/step\n",
            "1/1 [==============================] - 0s 20ms/step\n",
            "1/1 [==============================] - 0s 21ms/step\n",
            "1/1 [==============================] - 0s 21ms/step\n",
            "1/1 [==============================] - 0s 19ms/step\n",
            "1/1 [==============================] - 0s 21ms/step\n",
            "1/1 [==============================] - 0s 20ms/step\n",
            "1/1 [==============================] - 0s 20ms/step\n",
            "1/1 [==============================] - 0s 21ms/step\n"
          ]
        }
      ],
      "source": [
        "# Predict the closing price for the next 30 days\n",
        "last_sequence_days = np.array(data_scaled[-loaded_best_window_size:]).reshape(1, -1, 1)\n",
        "y_next_30_days = []\n",
        "\n",
        "for i in range(30):\n",
        "    # Predict the next day's closing price\n",
        "    next_day_pred = loaded_best_model.predict(last_sequence_days)\n",
        "\n",
        "    # Save prediction\n",
        "    y_next_30_days.append(next_day_pred[0][0])\n",
        "\n",
        "    # Update data for the next day\n",
        "    last_sequence_days = np.concatenate([last_sequence_days[:, 1:, :], next_day_pred.reshape(1, 1, 1)], axis=1)"
      ]
    },
    {
      "cell_type": "code",
      "source": [
        "print('Predicted closing prices for the next 30 days:')\n",
        "y_next_30_days = scaler.inverse_transform(np.array(y_next_30_days).reshape(-1, 1))\n",
        "print(y_next_30_days.flatten())"
      ],
      "metadata": {
        "id": "HcgBUVZlmeeA",
        "colab": {
          "base_uri": "https://localhost:8080/"
        },
        "outputId": "1d20e7d3-d857-4ee2-b2f1-a1b93252b9ab"
      },
      "id": "HcgBUVZlmeeA",
      "execution_count": 21,
      "outputs": [
        {
          "output_type": "stream",
          "name": "stdout",
          "text": [
            "Predicted closing prices for the next 30 days:\n",
            "[60.150917 60.748417 61.307648 61.857536 62.38727  62.930573 63.477577\n",
            " 64.00907  64.471634 64.87966  65.263374 65.64182  65.99781  66.35724\n",
            " 66.7576   67.18267  67.62168  68.06877  68.52577  68.99409  69.44653\n",
            " 69.88501  70.31233  70.74955  71.19687  71.64469  72.08446  72.512825\n",
            " 72.92994  73.3282  ]\n"
          ]
        }
      ]
    },
    {
      "cell_type": "markdown",
      "source": [
        "## Visualization"
      ],
      "metadata": {
        "id": "ONh3k9wBids4"
      },
      "id": "ONh3k9wBids4"
    },
    {
      "cell_type": "code",
      "source": [
        "plt.figure(figsize=(12, 5))\n",
        "\n",
        "plt.plot(df.index[:train_size], scaler.inverse_transform(train_data))\n",
        "\n",
        "plt.plot(df.index[train_size : train_size + val_size], scaler.inverse_transform(val_data))\n",
        "\n",
        "plt.plot(df.index[train_size + val_size : ], scaler.inverse_transform(test_data))\n",
        "\n",
        "plt.plot(df.index[train_size + val_size : ], loaded_best_y_pred)\n",
        "\n",
        "plt.plot(index_next_30_days, y_next_30_days)\n",
        "\n",
        "plt.legend(['Train', 'Validate', 'Test', 'Predict', 'Predict30days'])\n",
        "\n",
        "plt.grid()\n",
        "plt.title(f\"Nutrien Closing Price Data from {df.index[0].strftime('%Y-%m-%d')} to {index_next_30_days[-1].strftime('%Y-%m-%d')}\")\n",
        "plt.xlabel(\"Date\")\n",
        "plt.ylabel(\"Close value\")\n",
        "plt.savefig('TCAN_712_NTR.png')\n",
        "plt.show()"
      ],
      "metadata": {
        "id": "NwtqPyJeMaGL",
        "colab": {
          "base_uri": "https://localhost:8080/",
          "height": 487
        },
        "outputId": "58b23c7b-b993-428e-a675-23dad4664ba1"
      },
      "id": "NwtqPyJeMaGL",
      "execution_count": 22,
      "outputs": [
        {
          "output_type": "display_data",
          "data": {
            "text/plain": [
              "<Figure size 1200x500 with 1 Axes>"
            ],
            "image/png": "[encoded data removed]"
          },
          "metadata": {}
        }
      ]
    }
  ],
  "metadata": {
    "colab": {
      "provenance": []
    },
    "kernelspec": {
      "display_name": "Python 3 (ipykernel)",
      "language": "python",
      "name": "python3"
    },
    "language_info": {
      "codemirror_mode": {
        "name": "ipython",
        "version": 3
      },
      "file_extension": ".py",
      "mimetype": "text/x-python",
      "name": "python",
      "nbconvert_exporter": "python",
      "pygments_lexer": "ipython3",
      "version": "3.9.13"
    }
  },
  "nbformat": 4,
  "nbformat_minor": 5
}