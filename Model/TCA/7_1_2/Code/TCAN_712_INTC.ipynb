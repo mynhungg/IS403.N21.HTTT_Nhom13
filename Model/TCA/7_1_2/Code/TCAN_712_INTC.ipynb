{
  "cells": [
    {
      "attachments": {},
      "cell_type": "markdown",
      "id": "Ty-2HmFfAEUU",
      "metadata": {
        "id": "Ty-2HmFfAEUU"
      },
      "source": [
        "## Preparation"
      ]
    },
    {
      "attachments": {},
      "cell_type": "markdown",
      "id": "wCHCM3ifASoq",
      "metadata": {
        "id": "wCHCM3ifASoq"
      },
      "source": [
        "### Download the optimization support library package"
      ]
    },
    {
      "cell_type": "code",
      "execution_count": 1,
      "id": "h-uK9HgR9_AM",
      "metadata": {
        "colab": {
          "base_uri": "https://localhost:8080/"
        },
        "id": "h-uK9HgR9_AM",
        "outputId": "5efeb9b4-8a3d-4d3e-ddde-5211c985245b"
      },
      "outputs": [
        {
          "name": "stdout",
          "output_type": "stream",
          "text": [
            "Looking in indexes: https://pypi.org/simple, https://us-python.pkg.dev/colab-wheels/public/simple/\n",
            "Requirement already satisfied: optuna in /usr/local/lib/python3.10/dist-packages (3.2.0)\n",
            "Requirement already satisfied: alembic>=1.5.0 in /usr/local/lib/python3.10/dist-packages (from optuna) (1.11.1)\n",
            "Requirement already satisfied: cmaes>=0.9.1 in /usr/local/lib/python3.10/dist-packages (from optuna) (0.9.1)\n",
            "Requirement already satisfied: colorlog in /usr/local/lib/python3.10/dist-packages (from optuna) (6.7.0)\n",
            "Requirement already satisfied: numpy in /usr/local/lib/python3.10/dist-packages (from optuna) (1.22.4)\n",
            "Requirement already satisfied: packaging>=20.0 in /usr/local/lib/python3.10/dist-packages (from optuna) (23.1)\n",
            "Requirement already satisfied: sqlalchemy>=1.3.0 in /usr/local/lib/python3.10/dist-packages (from optuna) (2.0.10)\n",
            "Requirement already satisfied: tqdm in /usr/local/lib/python3.10/dist-packages (from optuna) (4.65.0)\n",
            "Requirement already satisfied: PyYAML in /usr/local/lib/python3.10/dist-packages (from optuna) (6.0)\n",
            "Requirement already satisfied: Mako in /usr/local/lib/python3.10/dist-packages (from alembic>=1.5.0->optuna) (1.2.4)\n",
            "Requirement already satisfied: typing-extensions>=4 in /usr/local/lib/python3.10/dist-packages (from alembic>=1.5.0->optuna) (4.5.0)\n",
            "Requirement already satisfied: greenlet!=0.4.17 in /usr/local/lib/python3.10/dist-packages (from sqlalchemy>=1.3.0->optuna) (2.0.2)\n",
            "Requirement already satisfied: MarkupSafe>=0.9.2 in /usr/local/lib/python3.10/dist-packages (from Mako->alembic>=1.5.0->optuna) (2.1.2)\n"
          ]
        }
      ],
      "source": [
        "!pip install optuna"
      ]
    },
    {
      "attachments": {},
      "cell_type": "markdown",
      "id": "-yVNLlKiAkLO",
      "metadata": {
        "id": "-yVNLlKiAkLO"
      },
      "source": [
        "### Connect to Google Drive"
      ]
    },
    {
      "cell_type": "code",
      "execution_count": 2,
      "id": "O32NLGXv96h9",
      "metadata": {
        "colab": {
          "base_uri": "https://localhost:8080/"
        },
        "id": "O32NLGXv96h9",
        "outputId": "5038c577-e54f-408e-81a0-86217469579e"
      },
      "outputs": [
        {
          "name": "stdout",
          "output_type": "stream",
          "text": [
            "Mounted at /content/drive\n"
          ]
        }
      ],
      "source": [
        "from google.colab import drive\n",
        "drive.mount('/content/drive', force_remount=True)"
      ]
    },
    {
      "attachments": {},
      "cell_type": "markdown",
      "id": "W53Qynm-ZVZt",
      "metadata": {
        "id": "W53Qynm-ZVZt"
      },
      "source": [
        "## Import Libraries"
      ]
    },
    {
      "cell_type": "code",
      "execution_count": 3,
      "id": "87d177e7",
      "metadata": {
        "id": "87d177e7"
      },
      "outputs": [],
      "source": [
        "# Library to support working with data\n",
        "import numpy as np\n",
        "import pandas as pd\n",
        "\n",
        "# Graphing support library\n",
        "import matplotlib.pyplot as plt\n",
        "\n",
        "# Data Normalization Support Library\n",
        "from sklearn.preprocessing import MinMaxScaler\n",
        "\n",
        "# Library to support building Temporal Convolutional Attention Networks models\n",
        "from tensorflow.keras.models import Model\n",
        "from tensorflow.keras.optimizers import Adam\n",
        "from tensorflow.keras.callbacks import EarlyStopping\n",
        "from tensorflow.keras.layers import Dense, Flatten, Conv1D, MaxPooling1D, GlobalMaxPooling1D, Dropout, SpatialDropout1D\n",
        "from tensorflow.keras.layers import Layer, RepeatVector, concatenate, Reshape, Input, Concatenate, Permute, Multiply, Add, Activation\n",
        "\n",
        "# Performance metrics calculation support library\n",
        "from sklearn.metrics import mean_squared_error, mean_absolute_percentage_error, mean_squared_log_error\n",
        "\n",
        "# Parameter optimization support library\n",
        "import optuna\n",
        "\n",
        "# Support library to ignore warnings\n",
        "import warnings\n",
        "warnings.filterwarnings(\"ignore\")\n",
        "\n",
        "# Support library to load models and data\n",
        "from keras.utils import custom_object_scope\n",
        "from tensorflow.keras.models import load_model"
      ]
    },
    {
      "attachments": {},
      "cell_type": "markdown",
      "id": "-DlshO-2cJbs",
      "metadata": {
        "id": "-DlshO-2cJbs"
      },
      "source": [
        "## Data preprocessing"
      ]
    },
    {
      "attachments": {},
      "cell_type": "markdown",
      "id": "ezxH2qTIcLnT",
      "metadata": {
        "id": "ezxH2qTIcLnT"
      },
      "source": [
        "### Read data"
      ]
    },
    {
      "cell_type": "code",
      "execution_count": 4,
      "id": "77ce5605",
      "metadata": {
        "colab": {
          "base_uri": "https://localhost:8080/",
          "height": 423
        },
        "id": "77ce5605",
        "outputId": "eedeffc7-20a1-44d5-b22a-6b008c447a5a"
      },
      "outputs": [
        {
          "data": {
            "text/html": [
              "\n",
              "  <div id=\"df-e89a42c3-e1d6-41be-9433-fd081bc3cd7c\">\n",
              "    <div class=\"colab-df-container\">\n",
              "      <div>\n",
              "<style scoped>\n",
              "    .dataframe tbody tr th:only-of-type {\n",
              "        vertical-align: middle;\n",
              "    }\n",
              "\n",
              "    .dataframe tbody tr th {\n",
              "        vertical-align: top;\n",
              "    }\n",
              "\n",
              "    .dataframe thead th {\n",
              "        text-align: right;\n",
              "    }\n",
              "</style>\n",
              "<table border=\"1\" class=\"dataframe\">\n",
              "  <thead>\n",
              "    <tr style=\"text-align: right;\">\n",
              "      <th></th>\n",
              "      <th>Date</th>\n",
              "      <th>Open</th>\n",
              "      <th>High</th>\n",
              "      <th>Low</th>\n",
              "      <th>Close</th>\n",
              "      <th>Adj Close</th>\n",
              "      <th>Volume</th>\n",
              "    </tr>\n",
              "  </thead>\n",
              "  <tbody>\n",
              "    <tr>\n",
              "      <th>0</th>\n",
              "      <td>2019-01-02</td>\n",
              "      <td>45.959999</td>\n",
              "      <td>47.470001</td>\n",
              "      <td>45.770000</td>\n",
              "      <td>47.080002</td>\n",
              "      <td>41.343937</td>\n",
              "      <td>18774600</td>\n",
              "    </tr>\n",
              "    <tr>\n",
              "      <th>1</th>\n",
              "      <td>2019-01-03</td>\n",
              "      <td>46.150002</td>\n",
              "      <td>46.279999</td>\n",
              "      <td>44.389999</td>\n",
              "      <td>44.490002</td>\n",
              "      <td>39.069477</td>\n",
              "      <td>32267300</td>\n",
              "    </tr>\n",
              "    <tr>\n",
              "      <th>2</th>\n",
              "      <td>2019-01-04</td>\n",
              "      <td>45.840000</td>\n",
              "      <td>47.570000</td>\n",
              "      <td>45.540001</td>\n",
              "      <td>47.220001</td>\n",
              "      <td>41.466869</td>\n",
              "      <td>35447300</td>\n",
              "    </tr>\n",
              "    <tr>\n",
              "      <th>3</th>\n",
              "      <td>2019-01-07</td>\n",
              "      <td>47.099998</td>\n",
              "      <td>48.000000</td>\n",
              "      <td>46.750000</td>\n",
              "      <td>47.439999</td>\n",
              "      <td>41.660065</td>\n",
              "      <td>22736800</td>\n",
              "    </tr>\n",
              "    <tr>\n",
              "      <th>4</th>\n",
              "      <td>2019-01-08</td>\n",
              "      <td>47.799999</td>\n",
              "      <td>48.029999</td>\n",
              "      <td>46.779999</td>\n",
              "      <td>47.740002</td>\n",
              "      <td>41.923512</td>\n",
              "      <td>22749200</td>\n",
              "    </tr>\n",
              "    <tr>\n",
              "      <th>...</th>\n",
              "      <td>...</td>\n",
              "      <td>...</td>\n",
              "      <td>...</td>\n",
              "      <td>...</td>\n",
              "      <td>...</td>\n",
              "      <td>...</td>\n",
              "      <td>...</td>\n",
              "    </tr>\n",
              "    <tr>\n",
              "      <th>1114</th>\n",
              "      <td>2023-06-06</td>\n",
              "      <td>29.770000</td>\n",
              "      <td>31.450001</td>\n",
              "      <td>29.700001</td>\n",
              "      <td>30.959999</td>\n",
              "      <td>30.959999</td>\n",
              "      <td>42295300</td>\n",
              "    </tr>\n",
              "    <tr>\n",
              "      <th>1115</th>\n",
              "      <td>2023-06-07</td>\n",
              "      <td>31.030001</td>\n",
              "      <td>31.370001</td>\n",
              "      <td>30.930000</td>\n",
              "      <td>31.280001</td>\n",
              "      <td>31.280001</td>\n",
              "      <td>39098000</td>\n",
              "    </tr>\n",
              "    <tr>\n",
              "      <th>1116</th>\n",
              "      <td>2023-06-08</td>\n",
              "      <td>31.430000</td>\n",
              "      <td>31.850000</td>\n",
              "      <td>31.059999</td>\n",
              "      <td>31.820000</td>\n",
              "      <td>31.820000</td>\n",
              "      <td>35199000</td>\n",
              "    </tr>\n",
              "    <tr>\n",
              "      <th>1117</th>\n",
              "      <td>2023-06-09</td>\n",
              "      <td>31.930000</td>\n",
              "      <td>31.990000</td>\n",
              "      <td>30.680000</td>\n",
              "      <td>31.340000</td>\n",
              "      <td>31.340000</td>\n",
              "      <td>40218000</td>\n",
              "    </tr>\n",
              "    <tr>\n",
              "      <th>1118</th>\n",
              "      <td>2023-06-12</td>\n",
              "      <td>31.400000</td>\n",
              "      <td>33.299999</td>\n",
              "      <td>31.360001</td>\n",
              "      <td>33.070000</td>\n",
              "      <td>33.070000</td>\n",
              "      <td>59881600</td>\n",
              "    </tr>\n",
              "  </tbody>\n",
              "</table>\n",
              "<p>1119 rows × 7 columns</p>\n",
              "</div>\n",
              "      <button class=\"colab-df-convert\" onclick=\"convertToInteractive('df-e89a42c3-e1d6-41be-9433-fd081bc3cd7c')\"\n",
              "              title=\"Convert this dataframe to an interactive table.\"\n",
              "              style=\"display:none;\">\n",
              "        \n",
              "  <svg xmlns=\"http://www.w3.org/2000/svg\" height=\"24px\"viewBox=\"0 0 24 24\"\n",
              "       width=\"24px\">\n",
              "    <path d=\"M0 0h24v24H0V0z\" fill=\"none\"/>\n",
              "    <path d=\"M18.56 5.44l.94 2.06.94-2.06 2.06-.94-2.06-.94-.94-2.06-.94 2.06-2.06.94zm-11 1L8.5 8.5l.94-2.06 2.06-.94-2.06-.94L8.5 2.5l-.94 2.06-2.06.94zm10 10l.94 2.06.94-2.06 2.06-.94-2.06-.94-.94-2.06-.94 2.06-2.06.94z\"/><path d=\"M17.41 7.96l-1.37-1.37c-.4-.4-.92-.59-1.43-.59-.52 0-1.04.2-1.43.59L10.3 9.45l-7.72 7.72c-.78.78-.78 2.05 0 2.83L4 21.41c.39.39.9.59 1.41.59.51 0 1.02-.2 1.41-.59l7.78-7.78 2.81-2.81c.8-.78.8-2.07 0-2.86zM5.41 20L4 18.59l7.72-7.72 1.47 1.35L5.41 20z\"/>\n",
              "  </svg>\n",
              "      </button>\n",
              "      \n",
              "  <style>\n",
              "    .colab-df-container {\n",
              "      display:flex;\n",
              "      flex-wrap:wrap;\n",
              "      gap: 12px;\n",
              "    }\n",
              "\n",
              "    .colab-df-convert {\n",
              "      background-color: #E8F0FE;\n",
              "      border: none;\n",
              "      border-radius: 50%;\n",
              "      cursor: pointer;\n",
              "      display: none;\n",
              "      fill: #1967D2;\n",
              "      height: 32px;\n",
              "      padding: 0 0 0 0;\n",
              "      width: 32px;\n",
              "    }\n",
              "\n",
              "    .colab-df-convert:hover {\n",
              "      background-color: #E2EBFA;\n",
              "      box-shadow: 0px 1px 2px rgba(60, 64, 67, 0.3), 0px 1px 3px 1px rgba(60, 64, 67, 0.15);\n",
              "      fill: #174EA6;\n",
              "    }\n",
              "\n",
              "    [theme=dark] .colab-df-convert {\n",
              "      background-color: #3B4455;\n",
              "      fill: #D2E3FC;\n",
              "    }\n",
              "\n",
              "    [theme=dark] .colab-df-convert:hover {\n",
              "      background-color: #434B5C;\n",
              "      box-shadow: 0px 1px 3px 1px rgba(0, 0, 0, 0.15);\n",
              "      filter: drop-shadow(0px 1px 2px rgba(0, 0, 0, 0.3));\n",
              "      fill: #FFFFFF;\n",
              "    }\n",
              "  </style>\n",
              "\n",
              "      <script>\n",
              "        const buttonEl =\n",
              "          document.querySelector('#df-e89a42c3-e1d6-41be-9433-fd081bc3cd7c button.colab-df-convert');\n",
              "        buttonEl.style.display =\n",
              "          google.colab.kernel.accessAllowed ? 'block' : 'none';\n",
              "\n",
              "        async function convertToInteractive(key) {\n",
              "          const element = document.querySelector('#df-e89a42c3-e1d6-41be-9433-fd081bc3cd7c');\n",
              "          const dataTable =\n",
              "            await google.colab.kernel.invokeFunction('convertToInteractive',\n",
              "                                                     [key], {});\n",
              "          if (!dataTable) return;\n",
              "\n",
              "          const docLinkHtml = 'Like what you see? Visit the ' +\n",
              "            '<a target=\"_blank\" href=https://colab.research.google.com/notebooks/data_table.ipynb>data table notebook</a>'\n",
              "            + ' to learn more about interactive tables.';\n",
              "          element.innerHTML = '';\n",
              "          dataTable['output_type'] = 'display_data';\n",
              "          await google.colab.output.renderOutput(dataTable, element);\n",
              "          const docLink = document.createElement('div');\n",
              "          docLink.innerHTML = docLinkHtml;\n",
              "          element.appendChild(docLink);\n",
              "        }\n",
              "      </script>\n",
              "    </div>\n",
              "  </div>\n",
              "  "
            ],
            "text/plain": [
              "            Date       Open       High        Low      Close  Adj Close  \\\n",
              "0     2019-01-02  45.959999  47.470001  45.770000  47.080002  41.343937   \n",
              "1     2019-01-03  46.150002  46.279999  44.389999  44.490002  39.069477   \n",
              "2     2019-01-04  45.840000  47.570000  45.540001  47.220001  41.466869   \n",
              "3     2019-01-07  47.099998  48.000000  46.750000  47.439999  41.660065   \n",
              "4     2019-01-08  47.799999  48.029999  46.779999  47.740002  41.923512   \n",
              "...          ...        ...        ...        ...        ...        ...   \n",
              "1114  2023-06-06  29.770000  31.450001  29.700001  30.959999  30.959999   \n",
              "1115  2023-06-07  31.030001  31.370001  30.930000  31.280001  31.280001   \n",
              "1116  2023-06-08  31.430000  31.850000  31.059999  31.820000  31.820000   \n",
              "1117  2023-06-09  31.930000  31.990000  30.680000  31.340000  31.340000   \n",
              "1118  2023-06-12  31.400000  33.299999  31.360001  33.070000  33.070000   \n",
              "\n",
              "        Volume  \n",
              "0     18774600  \n",
              "1     32267300  \n",
              "2     35447300  \n",
              "3     22736800  \n",
              "4     22749200  \n",
              "...        ...  \n",
              "1114  42295300  \n",
              "1115  39098000  \n",
              "1116  35199000  \n",
              "1117  40218000  \n",
              "1118  59881600  \n",
              "\n",
              "[1119 rows x 7 columns]"
            ]
          },
          "execution_count": 4,
          "metadata": {},
          "output_type": "execute_result"
        }
      ],
      "source": [
        "# Load data\n",
        "df = pd.read_csv('INTC.csv')\n",
        "df"
      ]
    },
    {
      "attachments": {},
      "cell_type": "markdown",
      "id": "muKE0gL7cQs2",
      "metadata": {
        "id": "muKE0gL7cQs2"
      },
      "source": [
        "### Reset index"
      ]
    },
    {
      "cell_type": "code",
      "execution_count": 5,
      "id": "vG4wgXOK2soU",
      "metadata": {
        "id": "vG4wgXOK2soU"
      },
      "outputs": [],
      "source": [
        "# Convert the 'Date' column to datetime format\n",
        "df['Date'] = pd.to_datetime(df['Date'])\n",
        "\n",
        "# Set the 'Date' column as the index value\n",
        "df.set_index('Date', inplace=True)"
      ]
    },
    {
      "cell_type": "code",
      "execution_count": 6,
      "id": "DBeiREWjJ00j",
      "metadata": {
        "id": "DBeiREWjJ00j"
      },
      "outputs": [],
      "source": [
        "# Select column 'Close'\n",
        "df_Close = df[['Close']]\n",
        "df_Close = df_Close.reset_index(drop=True)"
      ]
    },
    {
      "attachments": {},
      "cell_type": "markdown",
      "id": "m9vvIvolcch8",
      "metadata": {
        "id": "m9vvIvolcch8"
      },
      "source": [
        "### Data normalization"
      ]
    },
    {
      "cell_type": "code",
      "execution_count": 7,
      "id": "b0cde421",
      "metadata": {
        "id": "b0cde421"
      },
      "outputs": [],
      "source": [
        "# Min-max normalization\n",
        "scaler = MinMaxScaler(feature_range=(0, 1))\n",
        "data_scaled = scaler.fit_transform(np.array(df_Close))"
      ]
    },
    {
      "attachments": {},
      "cell_type": "markdown",
      "id": "WEnB5G3fcqPg",
      "metadata": {
        "id": "WEnB5G3fcqPg"
      },
      "source": [
        "### Data splitting"
      ]
    },
    {
      "cell_type": "code",
      "execution_count": 8,
      "id": "f29f31b1",
      "metadata": {
        "id": "f29f31b1"
      },
      "outputs": [],
      "source": [
        "# Split the data into train, validation, and test dataset in a ratio of 7:1:2\n",
        "train_size = int(len(data_scaled) * 0.7)\n",
        "val_size = int(len(data_scaled) * 0.1)\n",
        "test_size = len(data_scaled) - train_size - val_size\n",
        "\n",
        "train_data = data_scaled[: train_size]\n",
        "val_data = data_scaled[train_size : train_size + val_size]\n",
        "test_data = data_scaled[train_size + val_size :]"
      ]
    },
    {
      "attachments": {},
      "cell_type": "markdown",
      "id": "-IFkvqKRgmQX",
      "metadata": {
        "id": "-IFkvqKRgmQX"
      },
      "source": [
        "## Model training and testing"
      ]
    },
    {
      "cell_type": "code",
      "execution_count": 9,
      "id": "224ff73f",
      "metadata": {
        "id": "224ff73f"
      },
      "outputs": [],
      "source": [
        "# Generating data using the window sliding method\n",
        "def create_dataset(data, window_size):\n",
        "    windows, targets = [], []\n",
        "    for i in range(len(data) - window_size):\n",
        "        windows.append(data[i : (i + window_size), 0])\n",
        "        targets.append(data[i + window_size, 0])\n",
        "    return np.array(windows), np.array(targets)"
      ]
    },
    {
      "attachments": {},
      "cell_type": "markdown",
      "id": "hRDWcZQ0jcRX",
      "metadata": {
        "id": "hRDWcZQ0jcRX"
      },
      "source": [
        "### Building TCANs model"
      ]
    },
    {
      "cell_type": "code",
      "execution_count": 10,
      "id": "HxKvihCf3-C1",
      "metadata": {
        "id": "HxKvihCf3-C1"
      },
      "outputs": [],
      "source": [
        "# Constructing sparse attention layer\n",
        "class AttentionLayer(Layer):\n",
        "    def __init__(self, attention_dim):\n",
        "        super(AttentionLayer, self).__init__()\n",
        "        self.attention_dim = attention_dim\n",
        "\n",
        "    def build(self, input_shape):\n",
        "        self.W1 = Dense(units=self.attention_dim, activation='tanh')\n",
        "        self.W2 = Dense(units=1, activation='linear')\n",
        "        super(AttentionLayer, self).build(input_shape)\n",
        "\n",
        "    def call(self, x):\n",
        "        score = self.W2(self.W1(x))\n",
        "        score = Flatten()(score)\n",
        "        score = Activation('softmax')(score)\n",
        "        score = RepeatVector(x.shape[-1])(score)\n",
        "        score = Permute([2, 1])(score)\n",
        "        return Multiply()([x, score])\n",
        "\n",
        "    def compute_output_shape(self, input_shape):\n",
        "        return input_shape"
      ]
    },
    {
      "cell_type": "code",
      "execution_count": 11,
      "id": "d01b50ee",
      "metadata": {
        "id": "d01b50ee"
      },
      "outputs": [],
      "source": [
        "# Build TCAN model\n",
        "def build_tcan(window_size, input_dim=1, tcn_filters=64, tcn_kernel_size=2, dropout_rate=0.2, attention_dim=16):\n",
        "    inputs = Input(shape=(window_size, input_dim))\n",
        "    x = inputs\n",
        "    x = Conv1D(filters=tcn_filters, kernel_size=tcn_kernel_size, padding='same', activation='relu')(x)\n",
        "    x = SpatialDropout1D(rate=dropout_rate)(x)\n",
        "    x = Conv1D(filters=tcn_filters, kernel_size=tcn_kernel_size, padding='same', activation='relu')(x)\n",
        "    x = SpatialDropout1D(rate=dropout_rate)(x)\n",
        "\n",
        "    # Additive Attention\n",
        "    att = AttentionLayer(attention_dim)(x)\n",
        "    max_pool_att = GlobalMaxPooling1D()(att)\n",
        "    max_pool_x = GlobalMaxPooling1D()(x)\n",
        "    x = concatenate([max_pool_att, max_pool_x])\n",
        "\n",
        "    outputs = Dense(1)(x)\n",
        "\n",
        "    model = Model(inputs=inputs, outputs=outputs)\n",
        "    optimizer = Adam(learning_rate=0.001)\n",
        "    model.compile(loss='mean_absolute_error', optimizer=optimizer)\n",
        "\n",
        "    return model"
      ]
    },
    {
      "attachments": {},
      "cell_type": "markdown",
      "id": "kfSIcYf1jyjU",
      "metadata": {
        "id": "kfSIcYf1jyjU"
      },
      "source": [
        "### Learning process with combined parameter optimization"
      ]
    },
    {
      "cell_type": "code",
      "execution_count": 12,
      "id": "690ac169",
      "metadata": {
        "id": "690ac169"
      },
      "outputs": [],
      "source": [
        "# Initialization of optimization parameters\n",
        "best_mse = float('inf')\n",
        "best_model = None\n",
        "best_window_size = None\n",
        "best_train_windows = None\n",
        "best_train_targets = None\n",
        "best_test_windows = None\n",
        "best_test_targets = None\n",
        "best_val_windows = None\n",
        "best_val_targets = None\n",
        "best_y_pred = None\n",
        "best_mape = np.inf\n",
        "best_rmse = np.inf\n",
        "best_msle = np.inf"
      ]
    },
    {
      "cell_type": "code",
      "execution_count": 13,
      "id": "m3MDjWCd-kl8",
      "metadata": {
        "id": "m3MDjWCd-kl8"
      },
      "outputs": [],
      "source": [
        "# Define the objective function for Optuna optimization\n",
        "def objective(trial):\n",
        "  global best_mse, best_model, best_window_size, best_train_windows\n",
        "  global best_train_targets, best_test_windows, best_test_targets, best_val_windows\n",
        "  global best_val_targets, best_y_pred, best_mape, best_rmse, best_msle\n",
        "\n",
        "  # Define the search space for hyperparameters\n",
        "  window_size = trial.suggest_int(\"window_size\", 10, 100)\n",
        "  tcn_filters = trial.suggest_int(\"tcn_filters\", 32, 128)\n",
        "  tcn_kernel_size = trial.suggest_int(\"tcn_kernel_size\", 2, 5)\n",
        "  dropout_rate = trial.suggest_float(\"dropout_rate\", 0.1, 0.5)\n",
        "  attention_dim = trial.suggest_int(\"attention_dim\", 8, 32)\n",
        "\n",
        "  # Build the TCAN model with the suggested hyperparameters\n",
        "  model = build_tcan(window_size,\n",
        "                     tcn_filters = tcn_filters,\n",
        "                     tcn_kernel_size = tcn_kernel_size,\n",
        "                     dropout_rate = dropout_rate,\n",
        "                     attention_dim = attention_dim)\n",
        "\n",
        "  train_windows, train_targets = create_dataset(train_data, window_size)\n",
        "  test_windows, test_targets = create_dataset(test_data, window_size)\n",
        "  val_windows, val_targets = create_dataset(val_data, window_size)\n",
        "\n",
        "  # Train the model\n",
        "  early_stop = EarlyStopping(monitor='val_loss', patience=5)\n",
        "  model.fit(train_windows, train_targets,\n",
        "            epochs=50, batch_size=32,\n",
        "            validation_data=(val_windows, val_targets),\n",
        "            shuffle=False, callbacks=[early_stop], verbose=0)\n",
        "\n",
        "  # Testing the model on Test dataset\n",
        "  y_pred = model.predict(test_windows)\n",
        "\n",
        "  # Evaluate on MAPE, RMSE, MSLE\n",
        "  temp_test_targets = test_targets\n",
        "  temp_test_targets = scaler.inverse_transform(temp_test_targets.reshape(-1, 1))\n",
        "  y_pred = scaler.inverse_transform(y_pred)\n",
        "\n",
        "  mse = mean_squared_error(temp_test_targets, y_pred)\n",
        "  rmse = np.sqrt(mse)\n",
        "  mape = mean_absolute_percentage_error(temp_test_targets, y_pred)\n",
        "  msle = mean_squared_log_error(temp_test_targets, y_pred)\n",
        "\n",
        "  # Save the best model and related information\n",
        "  if mse < best_mse or best_mse is None:\n",
        "    best_model = model\n",
        "    best_window_size = window_size\n",
        "    best_y_pred = y_pred\n",
        "    best_train_windows = train_windows\n",
        "    best_train_targets = train_targets\n",
        "    best_test_windows = test_windows\n",
        "    best_test_targets = test_targets\n",
        "    best_val_windows = val_windows\n",
        "    best_val_targets = val_targets\n",
        "    best_rmse = rmse\n",
        "    best_mape = mape\n",
        "    best_msle = msle\n",
        "    best_mse = mse\n",
        "\n",
        "  return mse"
      ]
    },
    {
      "cell_type": "code",
      "execution_count": 14,
      "id": "tAQaYsmr-mkW",
      "metadata": {
        "colab": {
          "base_uri": "https://localhost:8080/"
        },
        "id": "tAQaYsmr-mkW",
        "outputId": "ace02ac9-15a1-4c75-d32e-ed962621bfdd"
      },
      "outputs": [
        {
          "name": "stderr",
          "output_type": "stream",
          "text": [
            "[I 2023-06-14 14:04:23,791] A new study created in memory with name: no-name-f649ada4-d748-4ace-9134-99ef6fd08858\n"
          ]
        },
        {
          "name": "stdout",
          "output_type": "stream",
          "text": [
            "6/6 [==============================] - 0s 8ms/step\n"
          ]
        },
        {
          "name": "stderr",
          "output_type": "stream",
          "text": [
            "[I 2023-06-14 14:04:52,095] Trial 0 finished with value: 29.356472508998756 and parameters: {'window_size': 56, 'tcn_filters': 121, 'tcn_kernel_size': 4, 'dropout_rate': 0.30706059517075035, 'attention_dim': 17}. Best is trial 0 with value: 29.356472508998756.\n"
          ]
        },
        {
          "name": "stdout",
          "output_type": "stream",
          "text": [
            "5/5 [==============================] - 0s 5ms/step\n"
          ]
        },
        {
          "name": "stderr",
          "output_type": "stream",
          "text": [
            "[I 2023-06-14 14:04:56,635] Trial 1 finished with value: 52.93215708878149 and parameters: {'window_size': 70, 'tcn_filters': 45, 'tcn_kernel_size': 4, 'dropout_rate': 0.4984975736595336, 'attention_dim': 30}. Best is trial 0 with value: 29.356472508998756.\n"
          ]
        },
        {
          "name": "stdout",
          "output_type": "stream",
          "text": [
            "7/7 [==============================] - 0s 6ms/step\n"
          ]
        },
        {
          "name": "stderr",
          "output_type": "stream",
          "text": [
            "[I 2023-06-14 14:05:08,881] Trial 2 finished with value: 33.85170378651646 and parameters: {'window_size': 26, 'tcn_filters': 124, 'tcn_kernel_size': 5, 'dropout_rate': 0.35416226063758005, 'attention_dim': 18}. Best is trial 0 with value: 29.356472508998756.\n"
          ]
        },
        {
          "name": "stdout",
          "output_type": "stream",
          "text": [
            "6/6 [==============================] - 0s 4ms/step\n"
          ]
        },
        {
          "name": "stderr",
          "output_type": "stream",
          "text": [
            "[I 2023-06-14 14:05:14,565] Trial 3 finished with value: 52.27825263465372 and parameters: {'window_size': 45, 'tcn_filters': 43, 'tcn_kernel_size': 4, 'dropout_rate': 0.3673386628087554, 'attention_dim': 17}. Best is trial 0 with value: 29.356472508998756.\n"
          ]
        },
        {
          "name": "stdout",
          "output_type": "stream",
          "text": [
            "7/7 [==============================] - 0s 3ms/step\n"
          ]
        },
        {
          "name": "stderr",
          "output_type": "stream",
          "text": [
            "[I 2023-06-14 14:05:21,724] Trial 4 finished with value: 43.626765304375546 and parameters: {'window_size': 14, 'tcn_filters': 32, 'tcn_kernel_size': 4, 'dropout_rate': 0.21839269901365396, 'attention_dim': 28}. Best is trial 0 with value: 29.356472508998756.\n"
          ]
        },
        {
          "name": "stdout",
          "output_type": "stream",
          "text": [
            "7/7 [==============================] - 0s 4ms/step\n"
          ]
        },
        {
          "name": "stderr",
          "output_type": "stream",
          "text": [
            "[I 2023-06-14 14:05:26,732] Trial 5 finished with value: 54.00888898939629 and parameters: {'window_size': 18, 'tcn_filters': 49, 'tcn_kernel_size': 2, 'dropout_rate': 0.2261264993976161, 'attention_dim': 23}. Best is trial 0 with value: 29.356472508998756.\n"
          ]
        },
        {
          "name": "stdout",
          "output_type": "stream",
          "text": [
            "5/5 [==============================] - 0s 11ms/step\n"
          ]
        },
        {
          "name": "stderr",
          "output_type": "stream",
          "text": [
            "[I 2023-06-14 14:05:49,262] Trial 6 finished with value: 33.54257307608602 and parameters: {'window_size': 80, 'tcn_filters': 113, 'tcn_kernel_size': 5, 'dropout_rate': 0.3846691375169503, 'attention_dim': 20}. Best is trial 0 with value: 29.356472508998756.\n"
          ]
        },
        {
          "name": "stdout",
          "output_type": "stream",
          "text": [
            "5/5 [==============================] - 0s 12ms/step\n"
          ]
        },
        {
          "name": "stderr",
          "output_type": "stream",
          "text": [
            "[I 2023-06-14 14:06:01,092] Trial 7 finished with value: 28.336683645937867 and parameters: {'window_size': 80, 'tcn_filters': 105, 'tcn_kernel_size': 2, 'dropout_rate': 0.36476013170671273, 'attention_dim': 31}. Best is trial 7 with value: 28.336683645937867.\n"
          ]
        },
        {
          "name": "stdout",
          "output_type": "stream",
          "text": [
            "5/5 [==============================] - 1s 7ms/step\n"
          ]
        },
        {
          "name": "stderr",
          "output_type": "stream",
          "text": [
            "[I 2023-06-14 14:06:11,811] Trial 8 finished with value: 8.920231351686446 and parameters: {'window_size': 78, 'tcn_filters': 77, 'tcn_kernel_size': 4, 'dropout_rate': 0.13318346422532035, 'attention_dim': 30}. Best is trial 8 with value: 8.920231351686446.\n"
          ]
        },
        {
          "name": "stdout",
          "output_type": "stream",
          "text": [
            "5/5 [==============================] - 0s 7ms/step\n"
          ]
        },
        {
          "name": "stderr",
          "output_type": "stream",
          "text": [
            "[I 2023-06-14 14:06:24,536] Trial 9 finished with value: 20.548141923685957 and parameters: {'window_size': 81, 'tcn_filters': 58, 'tcn_kernel_size': 2, 'dropout_rate': 0.1709796171630492, 'attention_dim': 18}. Best is trial 8 with value: 8.920231351686446.\n"
          ]
        },
        {
          "name": "stdout",
          "output_type": "stream",
          "text": [
            "5/5 [==============================] - 0s 7ms/step\n"
          ]
        },
        {
          "name": "stderr",
          "output_type": "stream",
          "text": [
            "[I 2023-06-14 14:06:40,024] Trial 10 finished with value: 10.236292845816692 and parameters: {'window_size': 96, 'tcn_filters': 80, 'tcn_kernel_size': 3, 'dropout_rate': 0.1023180810212841, 'attention_dim': 8}. Best is trial 8 with value: 8.920231351686446.\n"
          ]
        },
        {
          "name": "stdout",
          "output_type": "stream",
          "text": [
            "4/4 [==============================] - 0s 8ms/step\n"
          ]
        },
        {
          "name": "stderr",
          "output_type": "stream",
          "text": [
            "[I 2023-06-14 14:07:07,259] Trial 11 finished with value: 45.47550342514769 and parameters: {'window_size': 98, 'tcn_filters': 81, 'tcn_kernel_size': 3, 'dropout_rate': 0.1033734644019163, 'attention_dim': 8}. Best is trial 8 with value: 8.920231351686446.\n"
          ]
        },
        {
          "name": "stdout",
          "output_type": "stream",
          "text": [
            "4/4 [==============================] - 0s 8ms/step\n"
          ]
        },
        {
          "name": "stderr",
          "output_type": "stream",
          "text": [
            "[I 2023-06-14 14:07:23,175] Trial 12 finished with value: 13.17738499481276 and parameters: {'window_size': 99, 'tcn_filters': 85, 'tcn_kernel_size': 3, 'dropout_rate': 0.12541505429823077, 'attention_dim': 8}. Best is trial 8 with value: 8.920231351686446.\n"
          ]
        },
        {
          "name": "stdout",
          "output_type": "stream",
          "text": [
            "6/6 [==============================] - 0s 6ms/step\n"
          ]
        },
        {
          "name": "stderr",
          "output_type": "stream",
          "text": [
            "[I 2023-06-14 14:07:46,838] Trial 13 finished with value: 21.32081554867618 and parameters: {'window_size': 64, 'tcn_filters': 91, 'tcn_kernel_size': 3, 'dropout_rate': 0.11271738952676656, 'attention_dim': 12}. Best is trial 8 with value: 8.920231351686446.\n"
          ]
        },
        {
          "name": "stdout",
          "output_type": "stream",
          "text": [
            "5/5 [==============================] - 0s 7ms/step\n"
          ]
        },
        {
          "name": "stderr",
          "output_type": "stream",
          "text": [
            "[I 2023-06-14 14:08:09,505] Trial 14 finished with value: 45.25244256379946 and parameters: {'window_size': 87, 'tcn_filters': 67, 'tcn_kernel_size': 3, 'dropout_rate': 0.17376524910628358, 'attention_dim': 25}. Best is trial 8 with value: 8.920231351686446.\n"
          ]
        },
        {
          "name": "stdout",
          "output_type": "stream",
          "text": [
            "6/6 [==============================] - 0s 10ms/step\n"
          ]
        },
        {
          "name": "stderr",
          "output_type": "stream",
          "text": [
            "[I 2023-06-14 14:08:19,809] Trial 15 finished with value: 10.318517820859585 and parameters: {'window_size': 46, 'tcn_filters': 96, 'tcn_kernel_size': 5, 'dropout_rate': 0.16299189429390942, 'attention_dim': 13}. Best is trial 8 with value: 8.920231351686446.\n"
          ]
        },
        {
          "name": "stdout",
          "output_type": "stream",
          "text": [
            "5/5 [==============================] - 0s 7ms/step\n"
          ]
        },
        {
          "name": "stderr",
          "output_type": "stream",
          "text": [
            "[I 2023-06-14 14:08:38,462] Trial 16 finished with value: 20.890555142134772 and parameters: {'window_size': 90, 'tcn_filters': 68, 'tcn_kernel_size': 4, 'dropout_rate': 0.10347483888729772, 'attention_dim': 25}. Best is trial 8 with value: 8.920231351686446.\n"
          ]
        },
        {
          "name": "stdout",
          "output_type": "stream",
          "text": [
            "5/5 [==============================] - 0s 6ms/step\n"
          ]
        },
        {
          "name": "stderr",
          "output_type": "stream",
          "text": [
            "[I 2023-06-14 14:09:00,985] Trial 17 finished with value: 37.88704377363023 and parameters: {'window_size': 71, 'tcn_filters': 74, 'tcn_kernel_size': 3, 'dropout_rate': 0.22265194813241798, 'attention_dim': 13}. Best is trial 8 with value: 8.920231351686446.\n"
          ]
        },
        {
          "name": "stdout",
          "output_type": "stream",
          "text": [
            "5/5 [==============================] - 0s 9ms/step\n"
          ]
        },
        {
          "name": "stderr",
          "output_type": "stream",
          "text": [
            "[I 2023-06-14 14:09:15,441] Trial 18 finished with value: 9.562231575417407 and parameters: {'window_size': 91, 'tcn_filters': 97, 'tcn_kernel_size': 4, 'dropout_rate': 0.15590064472434803, 'attention_dim': 27}. Best is trial 8 with value: 8.920231351686446.\n"
          ]
        },
        {
          "name": "stdout",
          "output_type": "stream",
          "text": [
            "6/6 [==============================] - 0s 8ms/step\n"
          ]
        },
        {
          "name": "stderr",
          "output_type": "stream",
          "text": [
            "[I 2023-06-14 14:09:38,208] Trial 19 finished with value: 8.919345796972603 and parameters: {'window_size': 63, 'tcn_filters': 99, 'tcn_kernel_size': 5, 'dropout_rate': 0.15392082086240533, 'attention_dim': 28}. Best is trial 19 with value: 8.919345796972603.\n"
          ]
        },
        {
          "name": "stdout",
          "output_type": "stream",
          "text": [
            "6/6 [==============================] - 0s 7ms/step\n"
          ]
        },
        {
          "name": "stderr",
          "output_type": "stream",
          "text": [
            "[I 2023-06-14 14:09:51,243] Trial 20 finished with value: 15.550487886279209 and parameters: {'window_size': 45, 'tcn_filters': 105, 'tcn_kernel_size': 5, 'dropout_rate': 0.2037355788039238, 'attention_dim': 32}. Best is trial 19 with value: 8.919345796972603.\n"
          ]
        },
        {
          "name": "stdout",
          "output_type": "stream",
          "text": [
            "6/6 [==============================] - 0s 14ms/step\n"
          ]
        },
        {
          "name": "stderr",
          "output_type": "stream",
          "text": [
            "[I 2023-06-14 14:10:14,868] Trial 21 finished with value: 14.170420593371572 and parameters: {'window_size': 59, 'tcn_filters': 98, 'tcn_kernel_size': 5, 'dropout_rate': 0.15035619733034913, 'attention_dim': 28}. Best is trial 19 with value: 8.919345796972603.\n"
          ]
        },
        {
          "name": "stdout",
          "output_type": "stream",
          "text": [
            "5/5 [==============================] - 0s 10ms/step\n"
          ]
        },
        {
          "name": "stderr",
          "output_type": "stream",
          "text": [
            "[I 2023-06-14 14:10:31,691] Trial 22 finished with value: 10.192816530428322 and parameters: {'window_size': 72, 'tcn_filters': 110, 'tcn_kernel_size': 4, 'dropout_rate': 0.14535656228795485, 'attention_dim': 28}. Best is trial 19 with value: 8.919345796972603.\n"
          ]
        },
        {
          "name": "stdout",
          "output_type": "stream",
          "text": [
            "5/5 [==============================] - 0s 10ms/step\n"
          ]
        },
        {
          "name": "stderr",
          "output_type": "stream",
          "text": [
            "[I 2023-06-14 14:10:47,107] Trial 23 finished with value: 13.549645991134314 and parameters: {'window_size': 88, 'tcn_filters': 89, 'tcn_kernel_size': 5, 'dropout_rate': 0.19057811537554598, 'attention_dim': 24}. Best is trial 19 with value: 8.919345796972603.\n"
          ]
        },
        {
          "name": "stdout",
          "output_type": "stream",
          "text": [
            "5/5 [==============================] - 0s 9ms/step\n"
          ]
        },
        {
          "name": "stderr",
          "output_type": "stream",
          "text": [
            "[I 2023-06-14 14:11:05,001] Trial 24 finished with value: 31.351351061623816 and parameters: {'window_size': 75, 'tcn_filters': 99, 'tcn_kernel_size': 4, 'dropout_rate': 0.24952142713545133, 'attention_dim': 27}. Best is trial 19 with value: 8.919345796972603.\n"
          ]
        },
        {
          "name": "stdout",
          "output_type": "stream",
          "text": [
            "6/6 [==============================] - 0s 6ms/step\n"
          ]
        },
        {
          "name": "stderr",
          "output_type": "stream",
          "text": [
            "[I 2023-06-14 14:11:17,354] Trial 25 finished with value: 11.84385053518399 and parameters: {'window_size': 64, 'tcn_filters': 75, 'tcn_kernel_size': 4, 'dropout_rate': 0.14611758408495545, 'attention_dim': 22}. Best is trial 19 with value: 8.919345796972603.\n"
          ]
        },
        {
          "name": "stdout",
          "output_type": "stream",
          "text": [
            "6/6 [==============================] - 0s 7ms/step\n"
          ]
        },
        {
          "name": "stderr",
          "output_type": "stream",
          "text": [
            "[I 2023-06-14 14:11:29,502] Trial 26 finished with value: 10.932465382295703 and parameters: {'window_size': 33, 'tcn_filters': 117, 'tcn_kernel_size': 5, 'dropout_rate': 0.13361681442056522, 'attention_dim': 30}. Best is trial 19 with value: 8.919345796972603.\n"
          ]
        },
        {
          "name": "stdout",
          "output_type": "stream",
          "text": [
            "6/6 [==============================] - 0s 7ms/step\n"
          ]
        },
        {
          "name": "stderr",
          "output_type": "stream",
          "text": [
            "[I 2023-06-14 14:11:44,871] Trial 27 finished with value: 33.96151796371434 and parameters: {'window_size': 52, 'tcn_filters': 93, 'tcn_kernel_size': 4, 'dropout_rate': 0.18645004927620856, 'attention_dim': 26}. Best is trial 19 with value: 8.919345796972603.\n"
          ]
        },
        {
          "name": "stdout",
          "output_type": "stream",
          "text": [
            "5/5 [==============================] - 0s 11ms/step\n"
          ]
        },
        {
          "name": "stderr",
          "output_type": "stream",
          "text": [
            "[I 2023-06-14 14:12:02,280] Trial 28 finished with value: 20.41063428979525 and parameters: {'window_size': 91, 'tcn_filters': 105, 'tcn_kernel_size': 5, 'dropout_rate': 0.2511336286401955, 'attention_dim': 30}. Best is trial 19 with value: 8.919345796972603.\n"
          ]
        },
        {
          "name": "stdout",
          "output_type": "stream",
          "text": [
            "6/6 [==============================] - 0s 6ms/step\n"
          ]
        },
        {
          "name": "stderr",
          "output_type": "stream",
          "text": [
            "[I 2023-06-14 14:12:15,496] Trial 29 finished with value: 21.949797673781248 and parameters: {'window_size': 62, 'tcn_filters': 62, 'tcn_kernel_size': 4, 'dropout_rate': 0.15043928536605522, 'attention_dim': 32}. Best is trial 19 with value: 8.919345796972603.\n"
          ]
        },
        {
          "name": "stdout",
          "output_type": "stream",
          "text": [
            "6/6 [==============================] - 0s 10ms/step\n"
          ]
        },
        {
          "name": "stderr",
          "output_type": "stream",
          "text": [
            "[I 2023-06-14 14:12:38,325] Trial 30 finished with value: 30.64722440831226 and parameters: {'window_size': 52, 'tcn_filters': 87, 'tcn_kernel_size': 4, 'dropout_rate': 0.19209103244226455, 'attention_dim': 21}. Best is trial 19 with value: 8.919345796972603.\n"
          ]
        },
        {
          "name": "stdout",
          "output_type": "stream",
          "text": [
            "5/5 [==============================] - 0s 11ms/step\n"
          ]
        },
        {
          "name": "stderr",
          "output_type": "stream",
          "text": [
            "[I 2023-06-14 14:13:01,676] Trial 31 finished with value: 7.365817734319288 and parameters: {'window_size': 76, 'tcn_filters': 112, 'tcn_kernel_size': 4, 'dropout_rate': 0.1415299836782344, 'attention_dim': 28}. Best is trial 31 with value: 7.365817734319288.\n"
          ]
        },
        {
          "name": "stdout",
          "output_type": "stream",
          "text": [
            "5/5 [==============================] - 0s 10ms/step\n"
          ]
        },
        {
          "name": "stderr",
          "output_type": "stream",
          "text": [
            "[I 2023-06-14 14:13:44,736] Trial 32 finished with value: 18.046969317765367 and parameters: {'window_size': 82, 'tcn_filters': 119, 'tcn_kernel_size': 4, 'dropout_rate': 0.13452994601824042, 'attention_dim': 29}. Best is trial 31 with value: 7.365817734319288.\n"
          ]
        },
        {
          "name": "stdout",
          "output_type": "stream",
          "text": [
            "5/5 [==============================] - 0s 10ms/step\n"
          ]
        },
        {
          "name": "stderr",
          "output_type": "stream",
          "text": [
            "[I 2023-06-14 14:14:07,263] Trial 33 finished with value: 5.664572104796519 and parameters: {'window_size': 75, 'tcn_filters': 125, 'tcn_kernel_size': 4, 'dropout_rate': 0.12534253665459286, 'attention_dim': 26}. Best is trial 33 with value: 5.664572104796519.\n"
          ]
        },
        {
          "name": "stdout",
          "output_type": "stream",
          "text": [
            "5/5 [==============================] - 0s 16ms/step\n"
          ]
        },
        {
          "name": "stderr",
          "output_type": "stream",
          "text": [
            "[I 2023-06-14 14:14:37,196] Trial 34 finished with value: 12.868924352135158 and parameters: {'window_size': 75, 'tcn_filters': 128, 'tcn_kernel_size': 5, 'dropout_rate': 0.1162819860449387, 'attention_dim': 26}. Best is trial 33 with value: 5.664572104796519.\n"
          ]
        },
        {
          "name": "stdout",
          "output_type": "stream",
          "text": [
            "5/5 [==============================] - 0s 12ms/step\n"
          ]
        },
        {
          "name": "stderr",
          "output_type": "stream",
          "text": [
            "[I 2023-06-14 14:14:52,906] Trial 35 finished with value: 5.8940352987338605 and parameters: {'window_size': 69, 'tcn_filters': 124, 'tcn_kernel_size': 4, 'dropout_rate': 0.12674905788916796, 'attention_dim': 29}. Best is trial 33 with value: 5.664572104796519.\n"
          ]
        },
        {
          "name": "stdout",
          "output_type": "stream",
          "text": [
            "5/5 [==============================] - 1s 11ms/step\n"
          ]
        },
        {
          "name": "stderr",
          "output_type": "stream",
          "text": [
            "[I 2023-06-14 14:15:09,268] Trial 36 finished with value: 8.752157543352451 and parameters: {'window_size': 66, 'tcn_filters': 125, 'tcn_kernel_size': 4, 'dropout_rate': 0.1233339779264654, 'attention_dim': 23}. Best is trial 33 with value: 5.664572104796519.\n"
          ]
        },
        {
          "name": "stdout",
          "output_type": "stream",
          "text": [
            "5/5 [==============================] - 0s 10ms/step\n"
          ]
        },
        {
          "name": "stderr",
          "output_type": "stream",
          "text": [
            "[I 2023-06-14 14:15:26,761] Trial 37 finished with value: 8.032262250116636 and parameters: {'window_size': 67, 'tcn_filters': 124, 'tcn_kernel_size': 4, 'dropout_rate': 0.12654579249319495, 'attention_dim': 23}. Best is trial 33 with value: 5.664572104796519.\n"
          ]
        },
        {
          "name": "stdout",
          "output_type": "stream",
          "text": [
            "6/6 [==============================] - 0s 9ms/step\n"
          ]
        },
        {
          "name": "stderr",
          "output_type": "stream",
          "text": [
            "[I 2023-06-14 14:15:42,300] Trial 38 finished with value: 11.305785527046405 and parameters: {'window_size': 55, 'tcn_filters': 121, 'tcn_kernel_size': 4, 'dropout_rate': 0.1721361539721167, 'attention_dim': 24}. Best is trial 33 with value: 5.664572104796519.\n"
          ]
        },
        {
          "name": "stdout",
          "output_type": "stream",
          "text": [
            "5/5 [==============================] - 0s 9ms/step\n"
          ]
        },
        {
          "name": "stderr",
          "output_type": "stream",
          "text": [
            "[I 2023-06-14 14:16:05,622] Trial 39 finished with value: 20.29002383864361 and parameters: {'window_size': 69, 'tcn_filters': 115, 'tcn_kernel_size': 3, 'dropout_rate': 0.12848861909777712, 'attention_dim': 26}. Best is trial 33 with value: 5.664572104796519.\n"
          ]
        },
        {
          "name": "stdout",
          "output_type": "stream",
          "text": [
            "5/5 [==============================] - 0s 10ms/step\n"
          ]
        },
        {
          "name": "stderr",
          "output_type": "stream",
          "text": [
            "[I 2023-06-14 14:16:20,759] Trial 40 finished with value: 14.50563510747603 and parameters: {'window_size': 85, 'tcn_filters': 111, 'tcn_kernel_size': 4, 'dropout_rate': 0.2043249722322248, 'attention_dim': 19}. Best is trial 33 with value: 5.664572104796519.\n"
          ]
        },
        {
          "name": "stdout",
          "output_type": "stream",
          "text": [
            "5/5 [==============================] - 0s 11ms/step\n"
          ]
        },
        {
          "name": "stderr",
          "output_type": "stream",
          "text": [
            "[I 2023-06-14 14:16:36,413] Trial 41 finished with value: 9.49108109726956 and parameters: {'window_size': 68, 'tcn_filters': 128, 'tcn_kernel_size': 4, 'dropout_rate': 0.12492741909360945, 'attention_dim': 22}. Best is trial 33 with value: 5.664572104796519.\n"
          ]
        },
        {
          "name": "stdout",
          "output_type": "stream",
          "text": [
            "5/5 [==============================] - 0s 12ms/step\n"
          ]
        },
        {
          "name": "stderr",
          "output_type": "stream",
          "text": [
            "[I 2023-06-14 14:16:52,567] Trial 42 finished with value: 5.054352626497158 and parameters: {'window_size': 75, 'tcn_filters': 124, 'tcn_kernel_size': 4, 'dropout_rate': 0.11816392266267124, 'attention_dim': 23}. Best is trial 42 with value: 5.054352626497158.\n"
          ]
        },
        {
          "name": "stdout",
          "output_type": "stream",
          "text": [
            "5/5 [==============================] - 0s 11ms/step\n"
          ]
        },
        {
          "name": "stderr",
          "output_type": "stream",
          "text": [
            "[I 2023-06-14 14:17:15,463] Trial 43 finished with value: 6.480510890985566 and parameters: {'window_size': 76, 'tcn_filters': 122, 'tcn_kernel_size': 4, 'dropout_rate': 0.11069970047374075, 'attention_dim': 20}. Best is trial 42 with value: 5.054352626497158.\n"
          ]
        },
        {
          "name": "stdout",
          "output_type": "stream",
          "text": [
            "5/5 [==============================] - 0s 10ms/step\n"
          ]
        },
        {
          "name": "stderr",
          "output_type": "stream",
          "text": [
            "[I 2023-06-14 14:17:33,138] Trial 44 finished with value: 4.1709321834174675 and parameters: {'window_size': 76, 'tcn_filters': 120, 'tcn_kernel_size': 4, 'dropout_rate': 0.1026140604920322, 'attention_dim': 17}. Best is trial 44 with value: 4.1709321834174675.\n"
          ]
        },
        {
          "name": "stdout",
          "output_type": "stream",
          "text": [
            "5/5 [==============================] - 0s 11ms/step\n"
          ]
        },
        {
          "name": "stderr",
          "output_type": "stream",
          "text": [
            "[I 2023-06-14 14:17:55,962] Trial 45 finished with value: 3.3676475258888656 and parameters: {'window_size': 83, 'tcn_filters': 120, 'tcn_kernel_size': 4, 'dropout_rate': 0.10467565711724636, 'attention_dim': 16}. Best is trial 45 with value: 3.3676475258888656.\n"
          ]
        },
        {
          "name": "stdout",
          "output_type": "stream",
          "text": [
            "5/5 [==============================] - 0s 10ms/step\n"
          ]
        },
        {
          "name": "stderr",
          "output_type": "stream",
          "text": [
            "[I 2023-06-14 14:18:24,499] Trial 46 finished with value: 15.391799952538497 and parameters: {'window_size': 83, 'tcn_filters': 117, 'tcn_kernel_size': 4, 'dropout_rate': 0.10026764268710632, 'attention_dim': 16}. Best is trial 45 with value: 3.3676475258888656.\n"
          ]
        },
        {
          "name": "stdout",
          "output_type": "stream",
          "text": [
            "5/5 [==============================] - 0s 9ms/step\n"
          ]
        },
        {
          "name": "stderr",
          "output_type": "stream",
          "text": [
            "[I 2023-06-14 14:19:07,389] Trial 47 finished with value: 45.867409205025666 and parameters: {'window_size': 79, 'tcn_filters': 107, 'tcn_kernel_size': 3, 'dropout_rate': 0.17382435242303368, 'attention_dim': 16}. Best is trial 45 with value: 3.3676475258888656.\n"
          ]
        },
        {
          "name": "stdout",
          "output_type": "stream",
          "text": [
            "5/5 [==============================] - 0s 10ms/step\n"
          ]
        },
        {
          "name": "stderr",
          "output_type": "stream",
          "text": [
            "[I 2023-06-14 14:19:50,434] Trial 48 finished with value: 7.120727956113893 and parameters: {'window_size': 72, 'tcn_filters': 120, 'tcn_kernel_size': 4, 'dropout_rate': 0.10265014146409086, 'attention_dim': 15}. Best is trial 45 with value: 3.3676475258888656.\n"
          ]
        },
        {
          "name": "stdout",
          "output_type": "stream",
          "text": [
            "5/5 [==============================] - 0s 19ms/step\n"
          ]
        },
        {
          "name": "stderr",
          "output_type": "stream",
          "text": [
            "[I 2023-06-14 14:20:13,137] Trial 49 finished with value: 11.8162257535207 and parameters: {'window_size': 95, 'tcn_filters': 128, 'tcn_kernel_size': 3, 'dropout_rate': 0.12039182838978975, 'attention_dim': 17}. Best is trial 45 with value: 3.3676475258888656.\n"
          ]
        },
        {
          "name": "stdout",
          "output_type": "stream",
          "text": [
            "6/6 [==============================] - 0s 4ms/step\n"
          ]
        },
        {
          "name": "stderr",
          "output_type": "stream",
          "text": [
            "[I 2023-06-14 14:20:22,193] Trial 50 finished with value: 25.123058395039845 and parameters: {'window_size': 58, 'tcn_filters': 35, 'tcn_kernel_size': 4, 'dropout_rate': 0.13811208528267205, 'attention_dim': 10}. Best is trial 45 with value: 3.3676475258888656.\n"
          ]
        },
        {
          "name": "stdout",
          "output_type": "stream",
          "text": [
            "5/5 [==============================] - 0s 11ms/step\n"
          ]
        },
        {
          "name": "stderr",
          "output_type": "stream",
          "text": [
            "[I 2023-06-14 14:20:44,667] Trial 51 finished with value: 5.926334571231265 and parameters: {'window_size': 77, 'tcn_filters': 123, 'tcn_kernel_size': 4, 'dropout_rate': 0.11361325178637084, 'attention_dim': 19}. Best is trial 45 with value: 3.3676475258888656.\n"
          ]
        },
        {
          "name": "stdout",
          "output_type": "stream",
          "text": [
            "5/5 [==============================] - 0s 11ms/step\n"
          ]
        },
        {
          "name": "stderr",
          "output_type": "stream",
          "text": [
            "[I 2023-06-14 14:21:01,512] Trial 52 finished with value: 5.9043134033863796 and parameters: {'window_size': 83, 'tcn_filters': 124, 'tcn_kernel_size': 4, 'dropout_rate': 0.11363428169023379, 'attention_dim': 18}. Best is trial 45 with value: 3.3676475258888656.\n"
          ]
        },
        {
          "name": "stdout",
          "output_type": "stream",
          "text": [
            "5/5 [==============================] - 0s 11ms/step\n"
          ]
        },
        {
          "name": "stderr",
          "output_type": "stream",
          "text": [
            "[I 2023-06-14 14:21:25,005] Trial 53 finished with value: 7.166983768657814 and parameters: {'window_size': 85, 'tcn_filters': 114, 'tcn_kernel_size': 4, 'dropout_rate': 0.10239182248614827, 'attention_dim': 15}. Best is trial 45 with value: 3.3676475258888656.\n"
          ]
        },
        {
          "name": "stdout",
          "output_type": "stream",
          "text": [
            "5/5 [==============================] - 0s 14ms/step\n"
          ]
        },
        {
          "name": "stderr",
          "output_type": "stream",
          "text": [
            "[I 2023-06-14 14:22:08,212] Trial 54 finished with value: 12.129137188895243 and parameters: {'window_size': 94, 'tcn_filters': 125, 'tcn_kernel_size': 4, 'dropout_rate': 0.16261493109135086, 'attention_dim': 19}. Best is trial 45 with value: 3.3676475258888656.\n"
          ]
        },
        {
          "name": "stdout",
          "output_type": "stream",
          "text": [
            "5/5 [==============================] - 0s 11ms/step\n"
          ]
        },
        {
          "name": "stderr",
          "output_type": "stream",
          "text": [
            "[I 2023-06-14 14:22:30,842] Trial 55 finished with value: 7.355898041188823 and parameters: {'window_size': 81, 'tcn_filters': 117, 'tcn_kernel_size': 4, 'dropout_rate': 0.1363221292021259, 'attention_dim': 18}. Best is trial 45 with value: 3.3676475258888656.\n"
          ]
        },
        {
          "name": "stdout",
          "output_type": "stream",
          "text": [
            "5/5 [==============================] - 0s 9ms/step\n"
          ]
        },
        {
          "name": "stderr",
          "output_type": "stream",
          "text": [
            "[I 2023-06-14 14:22:44,270] Trial 56 finished with value: 11.137817071873283 and parameters: {'window_size': 72, 'tcn_filters': 108, 'tcn_kernel_size': 2, 'dropout_rate': 0.15922725042567645, 'attention_dim': 13}. Best is trial 45 with value: 3.3676475258888656.\n"
          ]
        },
        {
          "name": "stdout",
          "output_type": "stream",
          "text": [
            "7/7 [==============================] - 0s 4ms/step\n"
          ]
        },
        {
          "name": "stderr",
          "output_type": "stream",
          "text": [
            "[I 2023-06-14 14:22:51,846] Trial 57 finished with value: 8.898932441922499 and parameters: {'window_size': 10, 'tcn_filters': 120, 'tcn_kernel_size': 4, 'dropout_rate': 0.12289513198091509, 'attention_dim': 17}. Best is trial 45 with value: 3.3676475258888656.\n"
          ]
        },
        {
          "name": "stdout",
          "output_type": "stream",
          "text": [
            "5/5 [==============================] - 0s 16ms/step\n"
          ]
        },
        {
          "name": "stderr",
          "output_type": "stream",
          "text": [
            "[I 2023-06-14 14:23:14,576] Trial 58 finished with value: 17.215360133066834 and parameters: {'window_size': 87, 'tcn_filters': 125, 'tcn_kernel_size': 3, 'dropout_rate': 0.1163098954057839, 'attention_dim': 14}. Best is trial 45 with value: 3.3676475258888656.\n"
          ]
        },
        {
          "name": "stdout",
          "output_type": "stream",
          "text": [
            "5/5 [==============================] - 0s 11ms/step\n"
          ]
        },
        {
          "name": "stderr",
          "output_type": "stream",
          "text": [
            "[I 2023-06-14 14:23:27,689] Trial 59 finished with value: 7.126670505485895 and parameters: {'window_size': 84, 'tcn_filters': 103, 'tcn_kernel_size': 4, 'dropout_rate': 0.14541167381170295, 'attention_dim': 21}. Best is trial 45 with value: 3.3676475258888656.\n"
          ]
        },
        {
          "name": "stdout",
          "output_type": "stream",
          "text": [
            "5/5 [==============================] - 0s 10ms/step\n"
          ]
        },
        {
          "name": "stderr",
          "output_type": "stream",
          "text": [
            "[I 2023-06-14 14:23:48,076] Trial 60 finished with value: 18.461415246570272 and parameters: {'window_size': 79, 'tcn_filters': 115, 'tcn_kernel_size': 4, 'dropout_rate': 0.16535996979045364, 'attention_dim': 11}. Best is trial 45 with value: 3.3676475258888656.\n"
          ]
        },
        {
          "name": "stdout",
          "output_type": "stream",
          "text": [
            "5/5 [==============================] - 0s 10ms/step\n"
          ]
        },
        {
          "name": "stderr",
          "output_type": "stream",
          "text": [
            "[I 2023-06-14 14:24:11,566] Trial 61 finished with value: 3.6420287197121226 and parameters: {'window_size': 77, 'tcn_filters': 123, 'tcn_kernel_size': 4, 'dropout_rate': 0.10004532866111963, 'attention_dim': 19}. Best is trial 45 with value: 3.3676475258888656.\n"
          ]
        },
        {
          "name": "stdout",
          "output_type": "stream",
          "text": [
            "5/5 [==============================] - 0s 18ms/step\n"
          ]
        },
        {
          "name": "stderr",
          "output_type": "stream",
          "text": [
            "[I 2023-06-14 14:24:27,477] Trial 62 finished with value: 7.901424507823473 and parameters: {'window_size': 74, 'tcn_filters': 119, 'tcn_kernel_size': 4, 'dropout_rate': 0.10094078037004724, 'attention_dim': 17}. Best is trial 45 with value: 3.3676475258888656.\n"
          ]
        },
        {
          "name": "stdout",
          "output_type": "stream",
          "text": [
            "5/5 [==============================] - 0s 11ms/step\n"
          ]
        },
        {
          "name": "stderr",
          "output_type": "stream",
          "text": [
            "[I 2023-06-14 14:24:50,547] Trial 63 finished with value: 4.257064513422585 and parameters: {'window_size': 79, 'tcn_filters': 126, 'tcn_kernel_size': 4, 'dropout_rate': 0.13472069832256212, 'attention_dim': 20}. Best is trial 45 with value: 3.3676475258888656.\n"
          ]
        },
        {
          "name": "stdout",
          "output_type": "stream",
          "text": [
            "5/5 [==============================] - 0s 10ms/step\n"
          ]
        },
        {
          "name": "stderr",
          "output_type": "stream",
          "text": [
            "[I 2023-06-14 14:25:13,079] Trial 64 finished with value: 8.0283033877381 and parameters: {'window_size': 70, 'tcn_filters': 128, 'tcn_kernel_size': 4, 'dropout_rate': 0.13599195622542704, 'attention_dim': 21}. Best is trial 45 with value: 3.3676475258888656.\n"
          ]
        },
        {
          "name": "stdout",
          "output_type": "stream",
          "text": [
            "6/6 [==============================] - 0s 5ms/step\n"
          ]
        },
        {
          "name": "stderr",
          "output_type": "stream",
          "text": [
            "[I 2023-06-14 14:25:22,225] Trial 65 finished with value: 23.834162021868362 and parameters: {'window_size': 61, 'tcn_filters': 52, 'tcn_kernel_size': 4, 'dropout_rate': 0.113323882500838, 'attention_dim': 20}. Best is trial 45 with value: 3.3676475258888656.\n"
          ]
        },
        {
          "name": "stdout",
          "output_type": "stream",
          "text": [
            "5/5 [==============================] - 0s 10ms/step\n"
          ]
        },
        {
          "name": "stderr",
          "output_type": "stream",
          "text": [
            "[I 2023-06-14 14:25:44,986] Trial 66 finished with value: 9.025049178099886 and parameters: {'window_size': 79, 'tcn_filters': 112, 'tcn_kernel_size': 4, 'dropout_rate': 0.15335417686583783, 'attention_dim': 31}. Best is trial 45 with value: 3.3676475258888656.\n"
          ]
        },
        {
          "name": "stdout",
          "output_type": "stream",
          "text": [
            "7/7 [==============================] - 0s 5ms/step\n"
          ]
        },
        {
          "name": "stderr",
          "output_type": "stream",
          "text": [
            "[I 2023-06-14 14:25:57,264] Trial 67 finished with value: 21.434200259541505 and parameters: {'window_size': 30, 'tcn_filters': 102, 'tcn_kernel_size': 3, 'dropout_rate': 0.14202739718045948, 'attention_dim': 25}. Best is trial 45 with value: 3.3676475258888656.\n"
          ]
        },
        {
          "name": "stdout",
          "output_type": "stream",
          "text": [
            "5/5 [==============================] - 0s 17ms/step\n"
          ]
        },
        {
          "name": "stderr",
          "output_type": "stream",
          "text": [
            "[I 2023-06-14 14:26:20,060] Trial 68 finished with value: 12.259949945332435 and parameters: {'window_size': 73, 'tcn_filters': 117, 'tcn_kernel_size': 5, 'dropout_rate': 0.12780553062396646, 'attention_dim': 22}. Best is trial 45 with value: 3.3676475258888656.\n"
          ]
        },
        {
          "name": "stdout",
          "output_type": "stream",
          "text": [
            "5/5 [==============================] - 0s 11ms/step\n"
          ]
        },
        {
          "name": "stderr",
          "output_type": "stream",
          "text": [
            "[I 2023-06-14 14:26:42,594] Trial 69 finished with value: 11.516805686607082 and parameters: {'window_size': 88, 'tcn_filters': 122, 'tcn_kernel_size': 4, 'dropout_rate': 0.11280230597721674, 'attention_dim': 24}. Best is trial 45 with value: 3.3676475258888656.\n"
          ]
        },
        {
          "name": "stdout",
          "output_type": "stream",
          "text": [
            "5/5 [==============================] - 0s 12ms/step\n"
          ]
        },
        {
          "name": "stderr",
          "output_type": "stream",
          "text": [
            "[I 2023-06-14 14:27:06,054] Trial 70 finished with value: 11.38917933051473 and parameters: {'window_size': 66, 'tcn_filters': 110, 'tcn_kernel_size': 4, 'dropout_rate': 0.1532136832572239, 'attention_dim': 29}. Best is trial 45 with value: 3.3676475258888656.\n"
          ]
        },
        {
          "name": "stdout",
          "output_type": "stream",
          "text": [
            "5/5 [==============================] - 0s 11ms/step\n"
          ]
        },
        {
          "name": "stderr",
          "output_type": "stream",
          "text": [
            "[I 2023-06-14 14:27:28,604] Trial 71 finished with value: 8.555703416034131 and parameters: {'window_size': 82, 'tcn_filters': 123, 'tcn_kernel_size': 4, 'dropout_rate': 0.11287535512258606, 'attention_dim': 18}. Best is trial 45 with value: 3.3676475258888656.\n"
          ]
        },
        {
          "name": "stdout",
          "output_type": "stream",
          "text": [
            "5/5 [==============================] - 0s 19ms/step\n"
          ]
        },
        {
          "name": "stderr",
          "output_type": "stream",
          "text": [
            "[I 2023-06-14 14:28:01,575] Trial 72 finished with value: 11.058163953478541 and parameters: {'window_size': 91, 'tcn_filters': 126, 'tcn_kernel_size': 4, 'dropout_rate': 0.10044191158071732, 'attention_dim': 16}. Best is trial 45 with value: 3.3676475258888656.\n"
          ]
        },
        {
          "name": "stdout",
          "output_type": "stream",
          "text": [
            "5/5 [==============================] - 0s 10ms/step\n"
          ]
        },
        {
          "name": "stderr",
          "output_type": "stream",
          "text": [
            "[I 2023-06-14 14:28:24,549] Trial 73 finished with value: 8.540196242632401 and parameters: {'window_size': 78, 'tcn_filters': 118, 'tcn_kernel_size': 4, 'dropout_rate': 0.12927527952914844, 'attention_dim': 18}. Best is trial 45 with value: 3.3676475258888656.\n"
          ]
        },
        {
          "name": "stdout",
          "output_type": "stream",
          "text": [
            "5/5 [==============================] - 0s 11ms/step\n"
          ]
        },
        {
          "name": "stderr",
          "output_type": "stream",
          "text": [
            "[I 2023-06-14 14:28:47,133] Trial 74 finished with value: 7.700739277155301 and parameters: {'window_size': 81, 'tcn_filters': 126, 'tcn_kernel_size': 4, 'dropout_rate': 0.14134497144928881, 'attention_dim': 19}. Best is trial 45 with value: 3.3676475258888656.\n"
          ]
        },
        {
          "name": "stdout",
          "output_type": "stream",
          "text": [
            "5/5 [==============================] - 0s 11ms/step\n"
          ]
        },
        {
          "name": "stderr",
          "output_type": "stream",
          "text": [
            "[I 2023-06-14 14:29:05,133] Trial 75 finished with value: 8.197441580573633 and parameters: {'window_size': 86, 'tcn_filters': 121, 'tcn_kernel_size': 4, 'dropout_rate': 0.11970836225208356, 'attention_dim': 20}. Best is trial 45 with value: 3.3676475258888656.\n"
          ]
        },
        {
          "name": "stdout",
          "output_type": "stream",
          "text": [
            "6/6 [==============================] - 0s 7ms/step\n"
          ]
        },
        {
          "name": "stderr",
          "output_type": "stream",
          "text": [
            "[I 2023-06-14 14:29:27,615] Trial 76 finished with value: 10.629955047267588 and parameters: {'window_size': 40, 'tcn_filters': 114, 'tcn_kernel_size': 4, 'dropout_rate': 0.13075941904643074, 'attention_dim': 15}. Best is trial 45 with value: 3.3676475258888656.\n"
          ]
        },
        {
          "name": "stdout",
          "output_type": "stream",
          "text": [
            "5/5 [==============================] - 0s 11ms/step\n"
          ]
        },
        {
          "name": "stderr",
          "output_type": "stream",
          "text": [
            "[I 2023-06-14 14:29:48,367] Trial 77 finished with value: 13.045345253225314 and parameters: {'window_size': 70, 'tcn_filters': 123, 'tcn_kernel_size': 4, 'dropout_rate': 0.11057208783173389, 'attention_dim': 27}. Best is trial 45 with value: 3.3676475258888656.\n"
          ]
        },
        {
          "name": "stdout",
          "output_type": "stream",
          "text": [
            "5/5 [==============================] - 0s 11ms/step\n"
          ]
        },
        {
          "name": "stderr",
          "output_type": "stream",
          "text": [
            "[I 2023-06-14 14:30:11,931] Trial 78 finished with value: 8.697072388555515 and parameters: {'window_size': 76, 'tcn_filters': 126, 'tcn_kernel_size': 4, 'dropout_rate': 0.1483762305133623, 'attention_dim': 23}. Best is trial 45 with value: 3.3676475258888656.\n"
          ]
        },
        {
          "name": "stdout",
          "output_type": "stream",
          "text": [
            "5/5 [==============================] - 0s 12ms/step\n"
          ]
        },
        {
          "name": "stderr",
          "output_type": "stream",
          "text": [
            "[I 2023-06-14 14:30:33,784] Trial 79 finished with value: 16.214954391078123 and parameters: {'window_size': 74, 'tcn_filters': 116, 'tcn_kernel_size': 5, 'dropout_rate': 0.17546324651917963, 'attention_dim': 21}. Best is trial 45 with value: 3.3676475258888656.\n"
          ]
        },
        {
          "name": "stdout",
          "output_type": "stream",
          "text": [
            "6/6 [==============================] - 0s 8ms/step\n"
          ]
        },
        {
          "name": "stderr",
          "output_type": "stream",
          "text": [
            "[I 2023-06-14 14:30:55,992] Trial 80 finished with value: 17.32239817202466 and parameters: {'window_size': 64, 'tcn_filters': 120, 'tcn_kernel_size': 4, 'dropout_rate': 0.12102529929000684, 'attention_dim': 16}. Best is trial 45 with value: 3.3676475258888656.\n"
          ]
        },
        {
          "name": "stdout",
          "output_type": "stream",
          "text": [
            "5/5 [==============================] - 0s 18ms/step\n"
          ]
        },
        {
          "name": "stderr",
          "output_type": "stream",
          "text": [
            "[I 2023-06-14 14:31:18,638] Trial 81 finished with value: 5.856581850905334 and parameters: {'window_size': 77, 'tcn_filters': 123, 'tcn_kernel_size': 4, 'dropout_rate': 0.11056412437520467, 'attention_dim': 19}. Best is trial 45 with value: 3.3676475258888656.\n"
          ]
        },
        {
          "name": "stdout",
          "output_type": "stream",
          "text": [
            "5/5 [==============================] - 0s 19ms/step\n"
          ]
        },
        {
          "name": "stderr",
          "output_type": "stream",
          "text": [
            "[I 2023-06-14 14:31:36,054] Trial 82 finished with value: 5.526899465355536 and parameters: {'window_size': 77, 'tcn_filters': 128, 'tcn_kernel_size': 4, 'dropout_rate': 0.10857284126517691, 'attention_dim': 17}. Best is trial 45 with value: 3.3676475258888656.\n"
          ]
        },
        {
          "name": "stdout",
          "output_type": "stream",
          "text": [
            "5/5 [==============================] - 0s 11ms/step\n"
          ]
        },
        {
          "name": "stderr",
          "output_type": "stream",
          "text": [
            "[I 2023-06-14 14:31:58,792] Trial 83 finished with value: 9.064895859745738 and parameters: {'window_size': 78, 'tcn_filters': 128, 'tcn_kernel_size': 4, 'dropout_rate': 0.13029776477070848, 'attention_dim': 17}. Best is trial 45 with value: 3.3676475258888656.\n"
          ]
        },
        {
          "name": "stdout",
          "output_type": "stream",
          "text": [
            "7/7 [==============================] - 0s 5ms/step\n"
          ]
        },
        {
          "name": "stderr",
          "output_type": "stream",
          "text": [
            "[I 2023-06-14 14:32:07,238] Trial 84 finished with value: 7.839889353303403 and parameters: {'window_size': 20, 'tcn_filters': 121, 'tcn_kernel_size': 4, 'dropout_rate': 0.10802217995774019, 'attention_dim': 19}. Best is trial 45 with value: 3.3676475258888656.\n"
          ]
        },
        {
          "name": "stdout",
          "output_type": "stream",
          "text": [
            "5/5 [==============================] - 0s 10ms/step\n"
          ]
        },
        {
          "name": "stderr",
          "output_type": "stream",
          "text": [
            "[I 2023-06-14 14:32:29,701] Trial 85 finished with value: 7.422841739906336 and parameters: {'window_size': 67, 'tcn_filters': 126, 'tcn_kernel_size': 4, 'dropout_rate': 0.1365440396950884, 'attention_dim': 14}. Best is trial 45 with value: 3.3676475258888656.\n"
          ]
        },
        {
          "name": "stdout",
          "output_type": "stream",
          "text": [
            "5/5 [==============================] - 0s 16ms/step\n"
          ]
        },
        {
          "name": "stderr",
          "output_type": "stream",
          "text": [
            "[I 2023-06-14 14:32:45,938] Trial 86 finished with value: 4.991247594927862 and parameters: {'window_size': 71, 'tcn_filters': 123, 'tcn_kernel_size': 4, 'dropout_rate': 0.10070818748930413, 'attention_dim': 20}. Best is trial 45 with value: 3.3676475258888656.\n"
          ]
        },
        {
          "name": "stdout",
          "output_type": "stream",
          "text": [
            "5/5 [==============================] - 0s 11ms/step\n"
          ]
        },
        {
          "name": "stderr",
          "output_type": "stream",
          "text": [
            "[I 2023-06-14 14:33:00,940] Trial 87 finished with value: 6.806514453935566 and parameters: {'window_size': 89, 'tcn_filters': 83, 'tcn_kernel_size': 4, 'dropout_rate': 0.1054559086762202, 'attention_dim': 20}. Best is trial 45 with value: 3.3676475258888656.\n"
          ]
        },
        {
          "name": "stdout",
          "output_type": "stream",
          "text": [
            "5/5 [==============================] - 0s 13ms/step\n"
          ]
        },
        {
          "name": "stderr",
          "output_type": "stream",
          "text": [
            "[I 2023-06-14 14:33:24,221] Trial 88 finished with value: 7.092669156185716 and parameters: {'window_size': 75, 'tcn_filters': 119, 'tcn_kernel_size': 4, 'dropout_rate': 0.10079997184737699, 'attention_dim': 21}. Best is trial 45 with value: 3.3676475258888656.\n"
          ]
        },
        {
          "name": "stdout",
          "output_type": "stream",
          "text": [
            "5/5 [==============================] - 0s 10ms/step\n"
          ]
        },
        {
          "name": "stderr",
          "output_type": "stream",
          "text": [
            "[I 2023-06-14 14:33:40,330] Trial 89 finished with value: 5.823869379632923 and parameters: {'window_size': 93, 'tcn_filters': 109, 'tcn_kernel_size': 4, 'dropout_rate': 0.12002391362895487, 'attention_dim': 22}. Best is trial 45 with value: 3.3676475258888656.\n"
          ]
        },
        {
          "name": "stdout",
          "output_type": "stream",
          "text": [
            "5/5 [==============================] - 0s 9ms/step\n"
          ]
        },
        {
          "name": "stderr",
          "output_type": "stream",
          "text": [
            "[I 2023-06-14 14:34:02,913] Trial 90 finished with value: 8.362411099089968 and parameters: {'window_size': 80, 'tcn_filters': 113, 'tcn_kernel_size': 3, 'dropout_rate': 0.12222270364967125, 'attention_dim': 22}. Best is trial 45 with value: 3.3676475258888656.\n"
          ]
        },
        {
          "name": "stdout",
          "output_type": "stream",
          "text": [
            "4/4 [==============================] - 0s 15ms/step\n"
          ]
        },
        {
          "name": "stderr",
          "output_type": "stream",
          "text": [
            "[I 2023-06-14 14:34:45,885] Trial 91 finished with value: 12.116738532353365 and parameters: {'window_size': 98, 'tcn_filters': 122, 'tcn_kernel_size': 4, 'dropout_rate': 0.11686183771320025, 'attention_dim': 18}. Best is trial 45 with value: 3.3676475258888656.\n"
          ]
        },
        {
          "name": "stdout",
          "output_type": "stream",
          "text": [
            "5/5 [==============================] - 0s 10ms/step\n"
          ]
        },
        {
          "name": "stderr",
          "output_type": "stream",
          "text": [
            "[I 2023-06-14 14:35:10,630] Trial 92 finished with value: 7.061243686247496 and parameters: {'window_size': 93, 'tcn_filters': 117, 'tcn_kernel_size': 4, 'dropout_rate': 0.10929937272839152, 'attention_dim': 19}. Best is trial 45 with value: 3.3676475258888656.\n"
          ]
        },
        {
          "name": "stdout",
          "output_type": "stream",
          "text": [
            "5/5 [==============================] - 0s 10ms/step\n"
          ]
        },
        {
          "name": "stderr",
          "output_type": "stream",
          "text": [
            "[I 2023-06-14 14:35:29,079] Trial 93 finished with value: 12.463385724778972 and parameters: {'window_size': 71, 'tcn_filters': 127, 'tcn_kernel_size': 4, 'dropout_rate': 0.1424119612006507, 'attention_dim': 22}. Best is trial 45 with value: 3.3676475258888656.\n"
          ]
        },
        {
          "name": "stdout",
          "output_type": "stream",
          "text": [
            "5/5 [==============================] - 0s 18ms/step\n"
          ]
        },
        {
          "name": "stderr",
          "output_type": "stream",
          "text": [
            "[I 2023-06-14 14:35:51,897] Trial 94 finished with value: 6.445307548696403 and parameters: {'window_size': 77, 'tcn_filters': 108, 'tcn_kernel_size': 4, 'dropout_rate': 0.11930538527467432, 'attention_dim': 20}. Best is trial 45 with value: 3.3676475258888656.\n"
          ]
        },
        {
          "name": "stdout",
          "output_type": "stream",
          "text": [
            "4/4 [==============================] - 0s 16ms/step\n"
          ]
        },
        {
          "name": "stderr",
          "output_type": "stream",
          "text": [
            "[I 2023-06-14 14:36:35,391] Trial 95 finished with value: 10.406180540963472 and parameters: {'window_size': 100, 'tcn_filters': 123, 'tcn_kernel_size': 4, 'dropout_rate': 0.1074663576721614, 'attention_dim': 17}. Best is trial 45 with value: 3.3676475258888656.\n"
          ]
        },
        {
          "name": "stdout",
          "output_type": "stream",
          "text": [
            "5/5 [==============================] - 0s 17ms/step\n"
          ]
        },
        {
          "name": "stderr",
          "output_type": "stream",
          "text": [
            "[I 2023-06-14 14:36:58,616] Trial 96 finished with value: 10.295043668529173 and parameters: {'window_size': 84, 'tcn_filters': 119, 'tcn_kernel_size': 4, 'dropout_rate': 0.13258941255924886, 'attention_dim': 24}. Best is trial 45 with value: 3.3676475258888656.\n"
          ]
        },
        {
          "name": "stdout",
          "output_type": "stream",
          "text": [
            "5/5 [==============================] - 0s 11ms/step\n"
          ]
        },
        {
          "name": "stderr",
          "output_type": "stream",
          "text": [
            "[I 2023-06-14 14:37:20,442] Trial 97 finished with value: 11.686343671788618 and parameters: {'window_size': 72, 'tcn_filters': 124, 'tcn_kernel_size': 4, 'dropout_rate': 0.1586711243420098, 'attention_dim': 19}. Best is trial 45 with value: 3.3676475258888656.\n"
          ]
        },
        {
          "name": "stdout",
          "output_type": "stream",
          "text": [
            "5/5 [==============================] - 0s 12ms/step\n"
          ]
        },
        {
          "name": "stderr",
          "output_type": "stream",
          "text": [
            "[I 2023-06-14 14:37:38,846] Trial 98 finished with value: 6.0754429173855815 and parameters: {'window_size': 82, 'tcn_filters': 114, 'tcn_kernel_size': 4, 'dropout_rate': 0.12347220576233993, 'attention_dim': 23}. Best is trial 45 with value: 3.3676475258888656.\n"
          ]
        },
        {
          "name": "stdout",
          "output_type": "stream",
          "text": [
            "5/5 [==============================] - 0s 15ms/step\n"
          ]
        },
        {
          "name": "stderr",
          "output_type": "stream",
          "text": [
            "[I 2023-06-14 14:37:57,689] Trial 99 finished with value: 8.853138732997005 and parameters: {'window_size': 86, 'tcn_filters': 110, 'tcn_kernel_size': 4, 'dropout_rate': 0.15181852062979315, 'attention_dim': 20}. Best is trial 45 with value: 3.3676475258888656.\n"
          ]
        }
      ],
      "source": [
        "# Define the search space for the hyperparameters\n",
        "study = optuna.create_study(direction=\"minimize\")\n",
        "study.optimize(objective, n_trials=100)"
      ]
    },
    {
      "cell_type": "code",
      "execution_count": 15,
      "id": "MIC7AbkU-qLy",
      "metadata": {
        "colab": {
          "base_uri": "https://localhost:8080/"
        },
        "id": "MIC7AbkU-qLy",
        "outputId": "fe6bb0f0-14e1-4e74-8bc2-ebd5dc71c897"
      },
      "outputs": [
        {
          "name": "stdout",
          "output_type": "stream",
          "text": [
            "Best Hyperparameters: {'window_size': 83, 'tcn_filters': 120, 'tcn_kernel_size': 4, 'dropout_rate': 0.10467565711724636, 'attention_dim': 16}\n"
          ]
        }
      ],
      "source": [
        "# Display the optimal set of parameters\n",
        "best_params = study.best_params\n",
        "print(\"Best Hyperparameters:\", best_params)"
      ]
    },
    {
      "cell_type": "code",
      "execution_count": 16,
      "id": "gIcsWJky-scK",
      "metadata": {
        "colab": {
          "base_uri": "https://localhost:8080/"
        },
        "id": "gIcsWJky-scK",
        "outputId": "1da72737-8f8e-4703-d1dc-87bd61d1e3b4"
      },
      "outputs": [
        {
          "name": "stdout",
          "output_type": "stream",
          "text": [
            "MAPE on Test dataset:  0.05130747406262656\n",
            "RMSE on Test dataset:  1.8351151260585439\n",
            "MSLE on Test dataset:  0.0038992779067752825\n"
          ]
        }
      ],
      "source": [
        "# Evaluate the accuracy of test\n",
        "print(f\"MAPE on Test dataset: \", best_mape)\n",
        "print(f\"RMSE on Test dataset: \", best_rmse)\n",
        "print(f\"MSLE on Test dataset: \", best_msle)"
      ]
    },
    {
      "attachments": {},
      "cell_type": "markdown",
      "id": "LAq2jnXOj6aI",
      "metadata": {
        "id": "LAq2jnXOj6aI"
      },
      "source": [
        "### Save and Load the best model and related information"
      ]
    },
    {
      "cell_type": "code",
      "execution_count": 17,
      "id": "VOV_a65HsGiB",
      "metadata": {
        "id": "VOV_a65HsGiB"
      },
      "outputs": [],
      "source": [
        "# Save the best model and related information\n",
        "best_model.save('/content/drive/MyDrive/Colab Notebooks/Business Data Analysis/INTC/7:1:2/best_model.h5')\n",
        "\n",
        "np.save('/content/drive/MyDrive/Colab Notebooks/Business Data Analysis/INTC/7:1:2/best_window_size.npy', best_window_size)\n",
        "np.save('/content/drive/MyDrive/Colab Notebooks/Business Data Analysis/INTC/7:1:2/best_train_windows.npy', best_train_windows)\n",
        "np.save('/content/drive/MyDrive/Colab Notebooks/Business Data Analysis/INTC/7:1:2/best_train_targets.npy', best_train_targets)\n",
        "np.save('/content/drive/MyDrive/Colab Notebooks/Business Data Analysis/INTC/7:1:2/best_test_windows.npy', best_test_windows)\n",
        "np.save('/content/drive/MyDrive/Colab Notebooks/Business Data Analysis/INTC/7:1:2/best_test_targets.npy', best_test_targets)\n",
        "np.save('/content/drive/MyDrive/Colab Notebooks/Business Data Analysis/INTC/7:1:2/best_val_windows.npy', best_val_windows)\n",
        "np.save('/content/drive/MyDrive/Colab Notebooks/Business Data Analysis/INTC/7:1:2/best_val_targets.npy', best_val_targets)\n",
        "\n",
        "np.save('/content/drive/MyDrive/Colab Notebooks/Business Data Analysis/INTC/7:1:2/best_y_pred.npy', best_y_pred)\n",
        "\n",
        "np.save('/content/drive/MyDrive/Colab Notebooks/Business Data Analysis/INTC/7:1:2/best_mse.npy', best_mse)\n",
        "np.save('/content/drive/MyDrive/Colab Notebooks/Business Data Analysis/INTC/7:1:2/best_rmse.npy', best_rmse)\n",
        "np.save('/content/drive/MyDrive/Colab Notebooks/Business Data Analysis/INTC/7:1:2/best_mape.npy', best_mape)\n",
        "np.save('/content/drive/MyDrive/Colab Notebooks/Business Data Analysis/INTC/7:1:2/best_msle.npy', best_msle)"
      ]
    },
    {
      "cell_type": "code",
      "execution_count": 18,
      "id": "CYIqqiJn-7Jp",
      "metadata": {
        "id": "CYIqqiJn-7Jp"
      },
      "outputs": [],
      "source": [
        "# Load the best model and related information\n",
        "with custom_object_scope({'AttentionLayer': AttentionLayer}):\n",
        "    loaded_best_model = load_model('/content/drive/MyDrive/Colab Notebooks/Business Data Analysis/INTC/7:1:2/best_model.h5')\n",
        "\n",
        "loaded_best_window_size = np.load('/content/drive/MyDrive/Colab Notebooks/Business Data Analysis/INTC/7:1:2/best_window_size.npy')\n",
        "loaded_best_train_windows = np.load('/content/drive/MyDrive/Colab Notebooks/Business Data Analysis/INTC/7:1:2/best_train_windows.npy')\n",
        "loaded_best_train_targets = np.load('/content/drive/MyDrive/Colab Notebooks/Business Data Analysis/INTC/7:1:2/best_train_targets.npy')\n",
        "loaded_best_test_windows = np.load('/content/drive/MyDrive/Colab Notebooks/Business Data Analysis/INTC/7:1:2/best_test_windows.npy')\n",
        "loaded_best_test_targets = np.load('/content/drive/MyDrive/Colab Notebooks/Business Data Analysis/INTC/7:1:2/best_test_targets.npy')\n",
        "loaded_best_val_windows = np.load('/content/drive/MyDrive/Colab Notebooks/Business Data Analysis/INTC/7:1:2/best_val_windows.npy')\n",
        "loaded_best_val_targets = np.load('/content/drive/MyDrive/Colab Notebooks/Business Data Analysis/INTC/7:1:2/best_val_targets.npy')\n",
        "\n",
        "loaded_best_y_pred = np.load('/content/drive/MyDrive/Colab Notebooks/Business Data Analysis/INTC/7:1:2/best_y_pred.npy')\n",
        "\n",
        "loaded_best_mse = np.load('/content/drive/MyDrive/Colab Notebooks/Business Data Analysis/INTC/7:1:2/best_mse.npy').item()\n",
        "loaded_best_rmse = np.load('/content/drive/MyDrive/Colab Notebooks/Business Data Analysis/INTC/7:1:2/best_rmse.npy').item()\n",
        "loaded_best_mape = np.load('/content/drive/MyDrive/Colab Notebooks/Business Data Analysis/INTC/7:1:2/best_mape.npy').item()\n",
        "loaded_best_msle = np.load('/content/drive/MyDrive/Colab Notebooks/Business Data Analysis/INTC/7:1:2/best_msle.npy').item()"
      ]
    },
    {
      "attachments": {},
      "cell_type": "markdown",
      "id": "ZV6VbX2qiTJ2",
      "metadata": {
        "id": "ZV6VbX2qiTJ2"
      },
      "source": [
        "## Predicting the next 30 days"
      ]
    },
    {
      "attachments": {},
      "cell_type": "markdown",
      "id": "KheB_eYIiU4b",
      "metadata": {
        "id": "KheB_eYIiU4b"
      },
      "source": [
        "### Preparing the forecast date index"
      ]
    },
    {
      "cell_type": "code",
      "execution_count": 19,
      "id": "nEQ97NJuiPPW",
      "metadata": {
        "id": "nEQ97NJuiPPW"
      },
      "outputs": [],
      "source": [
        "# Get the last date from the current index\n",
        "last_date = df.index[-1]\n",
        "\n",
        "# Add one day to the last date\n",
        "next_date = last_date + pd.DateOffset(days=1)\n",
        "\n",
        "# Create a list of indices starting from the next date for 30 days\n",
        "index_next_30_days = pd.date_range(start=next_date, periods=30).tolist()"
      ]
    },
    {
      "attachments": {},
      "cell_type": "markdown",
      "id": "35CEaBcIiX6-",
      "metadata": {
        "id": "35CEaBcIiX6-"
      },
      "source": [
        "## Prediction process"
      ]
    },
    {
      "cell_type": "code",
      "execution_count": 20,
      "id": "45367300",
      "metadata": {
        "colab": {
          "base_uri": "https://localhost:8080/"
        },
        "id": "45367300",
        "outputId": "74aa576a-61ea-4708-ec6d-0e0d7f047f4f"
      },
      "outputs": [
        {
          "name": "stdout",
          "output_type": "stream",
          "text": [
            "1/1 [==============================] - 0s 249ms/step\n",
            "1/1 [==============================] - 0s 38ms/step\n",
            "1/1 [==============================] - 0s 35ms/step\n",
            "1/1 [==============================] - 0s 35ms/step\n",
            "1/1 [==============================] - 0s 36ms/step\n",
            "1/1 [==============================] - 0s 44ms/step\n",
            "1/1 [==============================] - 0s 40ms/step\n",
            "1/1 [==============================] - 0s 39ms/step\n",
            "1/1 [==============================] - 0s 41ms/step\n",
            "1/1 [==============================] - 0s 39ms/step\n",
            "1/1 [==============================] - 0s 43ms/step\n",
            "1/1 [==============================] - 0s 24ms/step\n",
            "1/1 [==============================] - 0s 28ms/step\n",
            "1/1 [==============================] - 0s 24ms/step\n",
            "1/1 [==============================] - 0s 25ms/step\n",
            "1/1 [==============================] - 0s 32ms/step\n",
            "1/1 [==============================] - 0s 29ms/step\n",
            "1/1 [==============================] - 0s 25ms/step\n",
            "1/1 [==============================] - 0s 28ms/step\n",
            "1/1 [==============================] - 0s 25ms/step\n",
            "1/1 [==============================] - 0s 25ms/step\n",
            "1/1 [==============================] - 0s 24ms/step\n",
            "1/1 [==============================] - 0s 23ms/step\n",
            "1/1 [==============================] - 0s 30ms/step\n",
            "1/1 [==============================] - 0s 23ms/step\n",
            "1/1 [==============================] - 0s 31ms/step\n",
            "1/1 [==============================] - 0s 28ms/step\n",
            "1/1 [==============================] - 0s 27ms/step\n",
            "1/1 [==============================] - 0s 23ms/step\n",
            "1/1 [==============================] - 0s 29ms/step\n"
          ]
        }
      ],
      "source": [
        "# Predict the closing price for the next 30 days\n",
        "last_sequence_days = np.array(data_scaled[-loaded_best_window_size:]).reshape(1, -1, 1)\n",
        "y_next_30_days = []\n",
        "\n",
        "for i in range(30):\n",
        "    # Predict the next day's closing price\n",
        "    next_day_pred = loaded_best_model.predict(last_sequence_days)\n",
        "\n",
        "    # Save prediction\n",
        "    y_next_30_days.append(next_day_pred[0][0])\n",
        "\n",
        "    # Update data for the next day\n",
        "    last_sequence_days = np.concatenate([last_sequence_days[:, 1:, :], next_day_pred.reshape(1, 1, 1)], axis=1)"
      ]
    },
    {
      "cell_type": "code",
      "execution_count": 21,
      "id": "c42DFmmWmRHK",
      "metadata": {
        "colab": {
          "base_uri": "https://localhost:8080/"
        },
        "id": "c42DFmmWmRHK",
        "outputId": "c329866d-1d51-4ce6-d241-0034f8486d15"
      },
      "outputs": [
        {
          "name": "stdout",
          "output_type": "stream",
          "text": [
            "Predicted closing prices for the next 30 days:\n",
            "[32.485847 32.584343 32.55378  32.55644  32.585663 32.605587 32.618793\n",
            " 32.634956 32.653862 32.67538  32.69468  32.70728  32.714798 32.72846\n",
            " 32.745068 32.765423 32.78059  32.799088 32.82159  32.846024 32.86808\n",
            " 32.88189  32.895393 32.90492  32.924168 32.94415  32.95799  32.973812\n",
            " 32.991302 33.007206]\n"
          ]
        }
      ],
      "source": [
        "print('Predicted closing prices for the next 30 days:')\n",
        "y_next_30_days = scaler.inverse_transform(np.array(y_next_30_days).reshape(-1, 1))\n",
        "print(y_next_30_days.flatten())"
      ]
    },
    {
      "attachments": {},
      "cell_type": "markdown",
      "id": "ONh3k9wBids4",
      "metadata": {
        "id": "ONh3k9wBids4"
      },
      "source": [
        "## Visualization"
      ]
    },
    {
      "cell_type": "code",
      "execution_count": 22,
      "id": "KgMEXFr_ZYqb",
      "metadata": {
        "colab": {
          "base_uri": "https://localhost:8080/",
          "height": 487
        },
        "id": "KgMEXFr_ZYqb",
        "outputId": "577848e9-226e-470e-fd90-208f42cba5bb"
      },
      "outputs": [
        {
          "data": {
            "image/png": "[encoded data removed]",
            "text/plain": [
              "<Figure size 1200x500 with 1 Axes>"
            ]
          },
          "metadata": {},
          "output_type": "display_data"
        }
      ],
      "source": [
        "plt.figure(figsize=(12, 5))\n",
        "\n",
        "plt.plot(df.index[:train_size], scaler.inverse_transform(train_data))\n",
        "\n",
        "plt.plot(df.index[train_size : train_size + val_size], scaler.inverse_transform(val_data))\n",
        "\n",
        "plt.plot(df.index[train_size + val_size : ], scaler.inverse_transform(test_data))\n",
        "\n",
        "plt.plot(df.index[train_size + val_size + loaded_best_window_size: ], loaded_best_y_pred)\n",
        "\n",
        "plt.plot(index_next_30_days, y_next_30_days)\n",
        "\n",
        "plt.legend(['Train', 'Validate', 'Test', 'Predict', 'Predict30days'])\n",
        "\n",
        "plt.grid()\n",
        "plt.title(f\"Intel Corporation Closing Price Data from {df.index[0].strftime('%Y-%m-%d')} to {index_next_30_days[-1].strftime('%Y-%m-%d')}\")\n",
        "plt.xlabel(\"Date\")\n",
        "plt.ylabel(\"Close value\")\n",
        "plt.savefig('TCAN_712_INTC.png')\n",
        "plt.show()"
      ]
    }
  ],
  "metadata": {
    "colab": {
      "provenance": []
    },
    "kernelspec": {
      "display_name": "Python 3 (ipykernel)",
      "language": "python",
      "name": "python3"
    },
    "language_info": {
      "codemirror_mode": {
        "name": "ipython",
        "version": 3
      },
      "file_extension": ".py",
      "mimetype": "text/x-python",
      "name": "python",
      "nbconvert_exporter": "python",
      "pygments_lexer": "ipython3",
      "version": "3.9.13"
    }
  },
  "nbformat": 4,
  "nbformat_minor": 5
}
