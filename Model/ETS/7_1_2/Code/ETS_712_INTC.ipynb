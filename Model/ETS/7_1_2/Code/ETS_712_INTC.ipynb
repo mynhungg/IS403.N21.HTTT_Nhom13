{
  "cells": [
    {
      "cell_type": "markdown",
      "source": [
        "## Import Libraries"
      ],
      "metadata": {
        "id": "w7bH_VwDG9H-"
      },
      "id": "w7bH_VwDG9H-"
    },
    {
      "cell_type": "code",
      "execution_count": 1,
      "id": "66c67be8",
      "metadata": {
        "id": "66c67be8"
      },
      "outputs": [],
      "source": [
        "# Library to support working with data\n",
        "import numpy as np\n",
        "import pandas as pd\n",
        "\n",
        "# Graphing support library\n",
        "import matplotlib.pyplot as plt\n",
        "\n",
        "# Data Normalization Support Library\n",
        "from sklearn.preprocessing import MinMaxScaler\n",
        "\n",
        "# Library to support building Simple Exponential Smoothing models\n",
        "from statsmodels.tsa.holtwinters import SimpleExpSmoothing\n",
        "\n",
        "# Performance metrics calculation support library\n",
        "from sklearn.metrics import mean_squared_error, mean_absolute_percentage_error, mean_squared_log_error"
      ]
    },
    {
      "cell_type": "markdown",
      "source": [
        "## Data preprocessing"
      ],
      "metadata": {
        "id": "wSmDbdIDHmAW"
      },
      "id": "wSmDbdIDHmAW"
    },
    {
      "cell_type": "markdown",
      "source": [
        "### Read data"
      ],
      "metadata": {
        "id": "-k6kA1g8Hm04"
      },
      "id": "-k6kA1g8Hm04"
    },
    {
      "cell_type": "code",
      "execution_count": 2,
      "id": "ecda5b81",
      "metadata": {
        "scrolled": true,
        "colab": {
          "base_uri": "https://localhost:8080/",
          "height": 423
        },
        "id": "ecda5b81",
        "outputId": "afc95d39-5d84-43af-c061-b0c792c4baf8"
      },
      "outputs": [
        {
          "output_type": "execute_result",
          "data": {
            "text/plain": [
              "            Date       Open       High        Low      Close  Adj Close  \\\n",
              "0     2019-01-02  45.959999  47.470001  45.770000  47.080002  41.343937   \n",
              "1     2019-01-03  46.150002  46.279999  44.389999  44.490002  39.069477   \n",
              "2     2019-01-04  45.840000  47.570000  45.540001  47.220001  41.466869   \n",
              "3     2019-01-07  47.099998  48.000000  46.750000  47.439999  41.660065   \n",
              "4     2019-01-08  47.799999  48.029999  46.779999  47.740002  41.923512   \n",
              "...          ...        ...        ...        ...        ...        ...   \n",
              "1114  2023-06-06  29.770000  31.450001  29.700001  30.959999  30.959999   \n",
              "1115  2023-06-07  31.030001  31.370001  30.930000  31.280001  31.280001   \n",
              "1116  2023-06-08  31.430000  31.850000  31.059999  31.820000  31.820000   \n",
              "1117  2023-06-09  31.930000  31.990000  30.680000  31.340000  31.340000   \n",
              "1118  2023-06-12  31.400000  33.299999  31.360001  33.070000  33.070000   \n",
              "\n",
              "        Volume  \n",
              "0     18774600  \n",
              "1     32267300  \n",
              "2     35447300  \n",
              "3     22736800  \n",
              "4     22749200  \n",
              "...        ...  \n",
              "1114  42295300  \n",
              "1115  39098000  \n",
              "1116  35199000  \n",
              "1117  40218000  \n",
              "1118  59881600  \n",
              "\n",
              "[1119 rows x 7 columns]"
            ],
            "text/html": [
              "\n",
              "  <div id=\"df-e16d665d-31b5-4947-9054-f922f6b041bf\">\n",
              "    <div class=\"colab-df-container\">\n",
              "      <div>\n",
              "<style scoped>\n",
              "    .dataframe tbody tr th:only-of-type {\n",
              "        vertical-align: middle;\n",
              "    }\n",
              "\n",
              "    .dataframe tbody tr th {\n",
              "        vertical-align: top;\n",
              "    }\n",
              "\n",
              "    .dataframe thead th {\n",
              "        text-align: right;\n",
              "    }\n",
              "</style>\n",
              "<table border=\"1\" class=\"dataframe\">\n",
              "  <thead>\n",
              "    <tr style=\"text-align: right;\">\n",
              "      <th></th>\n",
              "      <th>Date</th>\n",
              "      <th>Open</th>\n",
              "      <th>High</th>\n",
              "      <th>Low</th>\n",
              "      <th>Close</th>\n",
              "      <th>Adj Close</th>\n",
              "      <th>Volume</th>\n",
              "    </tr>\n",
              "  </thead>\n",
              "  <tbody>\n",
              "    <tr>\n",
              "      <th>0</th>\n",
              "      <td>2019-01-02</td>\n",
              "      <td>45.959999</td>\n",
              "      <td>47.470001</td>\n",
              "      <td>45.770000</td>\n",
              "      <td>47.080002</td>\n",
              "      <td>41.343937</td>\n",
              "      <td>18774600</td>\n",
              "    </tr>\n",
              "    <tr>\n",
              "      <th>1</th>\n",
              "      <td>2019-01-03</td>\n",
              "      <td>46.150002</td>\n",
              "      <td>46.279999</td>\n",
              "      <td>44.389999</td>\n",
              "      <td>44.490002</td>\n",
              "      <td>39.069477</td>\n",
              "      <td>32267300</td>\n",
              "    </tr>\n",
              "    <tr>\n",
              "      <th>2</th>\n",
              "      <td>2019-01-04</td>\n",
              "      <td>45.840000</td>\n",
              "      <td>47.570000</td>\n",
              "      <td>45.540001</td>\n",
              "      <td>47.220001</td>\n",
              "      <td>41.466869</td>\n",
              "      <td>35447300</td>\n",
              "    </tr>\n",
              "    <tr>\n",
              "      <th>3</th>\n",
              "      <td>2019-01-07</td>\n",
              "      <td>47.099998</td>\n",
              "      <td>48.000000</td>\n",
              "      <td>46.750000</td>\n",
              "      <td>47.439999</td>\n",
              "      <td>41.660065</td>\n",
              "      <td>22736800</td>\n",
              "    </tr>\n",
              "    <tr>\n",
              "      <th>4</th>\n",
              "      <td>2019-01-08</td>\n",
              "      <td>47.799999</td>\n",
              "      <td>48.029999</td>\n",
              "      <td>46.779999</td>\n",
              "      <td>47.740002</td>\n",
              "      <td>41.923512</td>\n",
              "      <td>22749200</td>\n",
              "    </tr>\n",
              "    <tr>\n",
              "      <th>...</th>\n",
              "      <td>...</td>\n",
              "      <td>...</td>\n",
              "      <td>...</td>\n",
              "      <td>...</td>\n",
              "      <td>...</td>\n",
              "      <td>...</td>\n",
              "      <td>...</td>\n",
              "    </tr>\n",
              "    <tr>\n",
              "      <th>1114</th>\n",
              "      <td>2023-06-06</td>\n",
              "      <td>29.770000</td>\n",
              "      <td>31.450001</td>\n",
              "      <td>29.700001</td>\n",
              "      <td>30.959999</td>\n",
              "      <td>30.959999</td>\n",
              "      <td>42295300</td>\n",
              "    </tr>\n",
              "    <tr>\n",
              "      <th>1115</th>\n",
              "      <td>2023-06-07</td>\n",
              "      <td>31.030001</td>\n",
              "      <td>31.370001</td>\n",
              "      <td>30.930000</td>\n",
              "      <td>31.280001</td>\n",
              "      <td>31.280001</td>\n",
              "      <td>39098000</td>\n",
              "    </tr>\n",
              "    <tr>\n",
              "      <th>1116</th>\n",
              "      <td>2023-06-08</td>\n",
              "      <td>31.430000</td>\n",
              "      <td>31.850000</td>\n",
              "      <td>31.059999</td>\n",
              "      <td>31.820000</td>\n",
              "      <td>31.820000</td>\n",
              "      <td>35199000</td>\n",
              "    </tr>\n",
              "    <tr>\n",
              "      <th>1117</th>\n",
              "      <td>2023-06-09</td>\n",
              "      <td>31.930000</td>\n",
              "      <td>31.990000</td>\n",
              "      <td>30.680000</td>\n",
              "      <td>31.340000</td>\n",
              "      <td>31.340000</td>\n",
              "      <td>40218000</td>\n",
              "    </tr>\n",
              "    <tr>\n",
              "      <th>1118</th>\n",
              "      <td>2023-06-12</td>\n",
              "      <td>31.400000</td>\n",
              "      <td>33.299999</td>\n",
              "      <td>31.360001</td>\n",
              "      <td>33.070000</td>\n",
              "      <td>33.070000</td>\n",
              "      <td>59881600</td>\n",
              "    </tr>\n",
              "  </tbody>\n",
              "</table>\n",
              "<p>1119 rows × 7 columns</p>\n",
              "</div>\n",
              "      <button class=\"colab-df-convert\" onclick=\"convertToInteractive('df-e16d665d-31b5-4947-9054-f922f6b041bf')\"\n",
              "              title=\"Convert this dataframe to an interactive table.\"\n",
              "              style=\"display:none;\">\n",
              "        \n",
              "  <svg xmlns=\"http://www.w3.org/2000/svg\" height=\"24px\"viewBox=\"0 0 24 24\"\n",
              "       width=\"24px\">\n",
              "    <path d=\"M0 0h24v24H0V0z\" fill=\"none\"/>\n",
              "    <path d=\"M18.56 5.44l.94 2.06.94-2.06 2.06-.94-2.06-.94-.94-2.06-.94 2.06-2.06.94zm-11 1L8.5 8.5l.94-2.06 2.06-.94-2.06-.94L8.5 2.5l-.94 2.06-2.06.94zm10 10l.94 2.06.94-2.06 2.06-.94-2.06-.94-.94-2.06-.94 2.06-2.06.94z\"/><path d=\"M17.41 7.96l-1.37-1.37c-.4-.4-.92-.59-1.43-.59-.52 0-1.04.2-1.43.59L10.3 9.45l-7.72 7.72c-.78.78-.78 2.05 0 2.83L4 21.41c.39.39.9.59 1.41.59.51 0 1.02-.2 1.41-.59l7.78-7.78 2.81-2.81c.8-.78.8-2.07 0-2.86zM5.41 20L4 18.59l7.72-7.72 1.47 1.35L5.41 20z\"/>\n",
              "  </svg>\n",
              "      </button>\n",
              "      \n",
              "  <style>\n",
              "    .colab-df-container {\n",
              "      display:flex;\n",
              "      flex-wrap:wrap;\n",
              "      gap: 12px;\n",
              "    }\n",
              "\n",
              "    .colab-df-convert {\n",
              "      background-color: #E8F0FE;\n",
              "      border: none;\n",
              "      border-radius: 50%;\n",
              "      cursor: pointer;\n",
              "      display: none;\n",
              "      fill: #1967D2;\n",
              "      height: 32px;\n",
              "      padding: 0 0 0 0;\n",
              "      width: 32px;\n",
              "    }\n",
              "\n",
              "    .colab-df-convert:hover {\n",
              "      background-color: #E2EBFA;\n",
              "      box-shadow: 0px 1px 2px rgba(60, 64, 67, 0.3), 0px 1px 3px 1px rgba(60, 64, 67, 0.15);\n",
              "      fill: #174EA6;\n",
              "    }\n",
              "\n",
              "    [theme=dark] .colab-df-convert {\n",
              "      background-color: #3B4455;\n",
              "      fill: #D2E3FC;\n",
              "    }\n",
              "\n",
              "    [theme=dark] .colab-df-convert:hover {\n",
              "      background-color: #434B5C;\n",
              "      box-shadow: 0px 1px 3px 1px rgba(0, 0, 0, 0.15);\n",
              "      filter: drop-shadow(0px 1px 2px rgba(0, 0, 0, 0.3));\n",
              "      fill: #FFFFFF;\n",
              "    }\n",
              "  </style>\n",
              "\n",
              "      <script>\n",
              "        const buttonEl =\n",
              "          document.querySelector('#df-e16d665d-31b5-4947-9054-f922f6b041bf button.colab-df-convert');\n",
              "        buttonEl.style.display =\n",
              "          google.colab.kernel.accessAllowed ? 'block' : 'none';\n",
              "\n",
              "        async function convertToInteractive(key) {\n",
              "          const element = document.querySelector('#df-e16d665d-31b5-4947-9054-f922f6b041bf');\n",
              "          const dataTable =\n",
              "            await google.colab.kernel.invokeFunction('convertToInteractive',\n",
              "                                                     [key], {});\n",
              "          if (!dataTable) return;\n",
              "\n",
              "          const docLinkHtml = 'Like what you see? Visit the ' +\n",
              "            '<a target=\"_blank\" href=https://colab.research.google.com/notebooks/data_table.ipynb>data table notebook</a>'\n",
              "            + ' to learn more about interactive tables.';\n",
              "          element.innerHTML = '';\n",
              "          dataTable['output_type'] = 'display_data';\n",
              "          await google.colab.output.renderOutput(dataTable, element);\n",
              "          const docLink = document.createElement('div');\n",
              "          docLink.innerHTML = docLinkHtml;\n",
              "          element.appendChild(docLink);\n",
              "        }\n",
              "      </script>\n",
              "    </div>\n",
              "  </div>\n",
              "  "
            ]
          },
          "metadata": {},
          "execution_count": 2
        }
      ],
      "source": [
        "df = pd.read_csv('INTC.csv')\n",
        "df"
      ]
    },
    {
      "cell_type": "markdown",
      "source": [
        "### Reset index"
      ],
      "metadata": {
        "id": "Emq3CWirIaQk"
      },
      "id": "Emq3CWirIaQk"
    },
    {
      "cell_type": "code",
      "source": [
        "# Convert the 'Date' column to datetime format\n",
        "df['Date'] = pd.to_datetime(df['Date'])\n",
        "\n",
        "# Set the 'Date' column as the index value\n",
        "df.set_index('Date', inplace=True)"
      ],
      "metadata": {
        "id": "-WVidHhskswO"
      },
      "id": "-WVidHhskswO",
      "execution_count": 3,
      "outputs": []
    },
    {
      "cell_type": "code",
      "source": [
        "# Select column 'Close'\n",
        "df_Close = df[['Close']]"
      ],
      "metadata": {
        "id": "gSUoXj6hYo0J"
      },
      "id": "gSUoXj6hYo0J",
      "execution_count": 4,
      "outputs": []
    },
    {
      "cell_type": "markdown",
      "source": [
        "### Data normalization"
      ],
      "metadata": {
        "id": "FDhoxmVUIhwl"
      },
      "id": "FDhoxmVUIhwl"
    },
    {
      "cell_type": "code",
      "source": [
        "# Min-max normalization\n",
        "scaler = MinMaxScaler(feature_range=(0, 1))\n",
        "data_scaled = scaler.fit_transform(np.array(df_Close))"
      ],
      "metadata": {
        "id": "sp4OFW8a34GP"
      },
      "id": "sp4OFW8a34GP",
      "execution_count": 5,
      "outputs": []
    },
    {
      "cell_type": "markdown",
      "source": [
        "### Data splitting"
      ],
      "metadata": {
        "id": "b-ZVAR2ZIlnO"
      },
      "id": "b-ZVAR2ZIlnO"
    },
    {
      "cell_type": "code",
      "source": [
        "# Split the data into training, validation and test dataset in a ratio of 7:1:2\n",
        "train_size = int(0.7 * len(data_scaled))\n",
        "val_size = int(0.1 * len(data_scaled))\n",
        "test_size = len(data_scaled) - train_size - val_size\n",
        "\n",
        "train_data = data_scaled[: train_size]\n",
        "val_data = data_scaled[train_size : train_size + val_size]\n",
        "test_data = data_scaled[train_size + val_size :]"
      ],
      "metadata": {
        "id": "lwf-3tVj3G1t"
      },
      "id": "lwf-3tVj3G1t",
      "execution_count": 6,
      "outputs": []
    },
    {
      "cell_type": "markdown",
      "source": [
        "## Model training and testing"
      ],
      "metadata": {
        "id": "YoO83iEkJJnU"
      },
      "id": "YoO83iEkJJnU"
    },
    {
      "cell_type": "code",
      "source": [
        "best_alpha = None\n",
        "best_mse = float('inf')"
      ],
      "metadata": {
        "id": "fDbJ7A0Z43y5"
      },
      "id": "fDbJ7A0Z43y5",
      "execution_count": 7,
      "outputs": []
    },
    {
      "cell_type": "markdown",
      "source": [
        "### Training process"
      ],
      "metadata": {
        "id": "P_tcBOVwNZEi"
      },
      "id": "P_tcBOVwNZEi"
    },
    {
      "cell_type": "code",
      "source": [
        "for alpha in np.arange(0.1, 1, 0.1):\n",
        "    alpha = round(alpha, 1)\n",
        "\n",
        "    history = train_data\n",
        "    y_pred_val = []\n",
        "\n",
        "    for i in val_data:\n",
        "        model = SimpleExpSmoothing(history)\n",
        "        model_fit = model.fit(smoothing_level=alpha)\n",
        "        prediction = model_fit.forecast()\n",
        "        y_pred_val.append(prediction[0])\n",
        "        history = np.append(history, i)\n",
        "\n",
        "    mse = mean_squared_error(val_data, y_pred_val)\n",
        "\n",
        "    if mse < best_mse:\n",
        "        best_alpha = alpha\n",
        "        best_mse = mse"
      ],
      "metadata": {
        "id": "Le6mW5Q9dNi1"
      },
      "id": "Le6mW5Q9dNi1",
      "execution_count": 8,
      "outputs": []
    },
    {
      "cell_type": "code",
      "source": [
        "print(f\"Best alpha: \", best_alpha)"
      ],
      "metadata": {
        "colab": {
          "base_uri": "https://localhost:8080/"
        },
        "id": "7mYbmzn9Njki",
        "outputId": "149c2cc6-1f29-47d7-fdac-b53b156f1351"
      },
      "id": "7mYbmzn9Njki",
      "execution_count": 9,
      "outputs": [
        {
          "output_type": "stream",
          "name": "stdout",
          "text": [
            "Best alpha:  0.9\n"
          ]
        }
      ]
    },
    {
      "cell_type": "markdown",
      "source": [
        "### Testing process"
      ],
      "metadata": {
        "id": "zwcqd31ZPH61"
      },
      "id": "zwcqd31ZPH61"
    },
    {
      "cell_type": "code",
      "source": [
        "y_pred = []\n",
        "\n",
        "for i in test_data:\n",
        "  model = SimpleExpSmoothing(history)\n",
        "  model_fit = model.fit(smoothing_level = best_alpha)\n",
        "  prediction = model_fit.forecast()\n",
        "  y_pred.append(prediction[0])\n",
        "  history = np.append(history, i)"
      ],
      "metadata": {
        "id": "o9VZdzSucBtR"
      },
      "id": "o9VZdzSucBtR",
      "execution_count": 10,
      "outputs": []
    },
    {
      "cell_type": "code",
      "source": [
        "# Evaluate the accuracy of test\n",
        "test_data = scaler.inverse_transform(test_data)\n",
        "y_pred = scaler.inverse_transform(np.array([y_pred]).reshape(-1, 1))\n",
        "\n",
        "test_mape = mean_absolute_percentage_error(test_data, y_pred)\n",
        "test_mse = mean_squared_error(test_data, y_pred)\n",
        "test_rmse = np.sqrt(test_mse)\n",
        "test_msle = mean_squared_log_error(test_data, y_pred)\n",
        "\n",
        "print(f\"MAPE on Test dataset: \", test_mape)\n",
        "print(f\"RMSE on Test dataset: \", test_rmse)\n",
        "print(f\"MSLE on Test dataset: \", test_msle)"
      ],
      "metadata": {
        "colab": {
          "base_uri": "https://localhost:8080/"
        },
        "id": "qzUSUekyBInK",
        "outputId": "c80641f0-254a-465a-f125-3da8c418df51"
      },
      "id": "qzUSUekyBInK",
      "execution_count": 11,
      "outputs": [
        {
          "output_type": "stream",
          "name": "stdout",
          "text": [
            "MAPE on Test dataset:  0.019669899311791902\n",
            "RMSE on Test dataset:  0.7705789533452202\n",
            "MSLE on Test dataset:  0.0006194086100949966\n"
          ]
        }
      ]
    },
    {
      "cell_type": "markdown",
      "source": [
        "## Predicting the next 30 days"
      ],
      "metadata": {
        "id": "S4Qp3GMBPeMq"
      },
      "id": "S4Qp3GMBPeMq"
    },
    {
      "cell_type": "markdown",
      "source": [
        "### Preparing the forecast date index"
      ],
      "metadata": {
        "id": "bq_adMgCPiag"
      },
      "id": "bq_adMgCPiag"
    },
    {
      "cell_type": "code",
      "source": [
        "# Get the last date from the current index\n",
        "last_date = df.index[-1]\n",
        "\n",
        "# Add one day to the last date\n",
        "next_date = last_date + pd.DateOffset(days=1)\n",
        "\n",
        "# Create a list of indices starting from the next date for 30 days\n",
        "index_next_30_days = pd.date_range(start=next_date, periods=30).tolist()"
      ],
      "metadata": {
        "id": "eUhSH5oZPi_i"
      },
      "id": "eUhSH5oZPi_i",
      "execution_count": 12,
      "outputs": []
    },
    {
      "cell_type": "markdown",
      "source": [
        "### Prediction process"
      ],
      "metadata": {
        "id": "eB1pNlReRaBa"
      },
      "id": "eB1pNlReRaBa"
    },
    {
      "cell_type": "code",
      "source": [
        "# Predict the closing prices for the next 30 days\n",
        "y_next_30_days = []\n",
        "\n",
        "for i in range(30):\n",
        "  model = SimpleExpSmoothing(history)\n",
        "  model_fit = model.fit(smoothing_level = 0.7)\n",
        "  prediction = model_fit.forecast()\n",
        "  y_next_30_days.append(prediction[0])\n",
        "  history = np.append(history, prediction[0])\n",
        "\n",
        "# Print the predicted closing prices for the next 30 days\n",
        "y_next_30_days = scaler.inverse_transform(np.array([y_next_30_days]).reshape(-1, 1))\n",
        "print('Predicted closing prices for the next 30 days:')\n",
        "print(y_next_30_days.flatten())"
      ],
      "metadata": {
        "colab": {
          "base_uri": "https://localhost:8080/"
        },
        "id": "jTWxsjI77H4L",
        "outputId": "1dcab093-1306-457d-edd6-30b40f94836f"
      },
      "id": "jTWxsjI77H4L",
      "execution_count": 13,
      "outputs": [
        {
          "output_type": "stream",
          "name": "stdout",
          "text": [
            "Predicted closing prices for the next 30 days:\n",
            "[32.57535678 32.57535678 32.57535678 32.57535678 32.57535678 32.57535678\n",
            " 32.57535678 32.57535678 32.57535678 32.57535678 32.57535678 32.57535678\n",
            " 32.57535678 32.57535678 32.57535678 32.57535678 32.57535678 32.57535678\n",
            " 32.57535678 32.57535678 32.57535678 32.57535678 32.57535678 32.57535678\n",
            " 32.57535678 32.57535678 32.57535678 32.57535678 32.57535678 32.57535678]\n"
          ]
        }
      ]
    },
    {
      "cell_type": "markdown",
      "source": [
        "## Visualization"
      ],
      "metadata": {
        "id": "05lt6D4sRW6m"
      },
      "id": "05lt6D4sRW6m"
    },
    {
      "cell_type": "code",
      "source": [
        "# Drawing\n",
        "plt.figure(figsize=(14, 5))\n",
        "\n",
        "plt.plot(df.index[:train_size], scaler.inverse_transform(np.array([train_data]).reshape(-1, 1)).flatten())\n",
        "\n",
        "plt.plot(df.index[train_size : train_size + val_size], scaler.inverse_transform(np.array([val_data]).reshape(-1, 1)).flatten())\n",
        "\n",
        "plt.plot(df.index[train_size + val_size :], test_data)\n",
        "\n",
        "plt.plot(df.index[train_size + val_size :], y_pred)\n",
        "\n",
        "plt.plot(index_next_30_days, y_next_30_days)\n",
        "\n",
        "plt.legend(['Train', 'Validate', 'Test', 'PredictTest', 'Next30Day'])\n",
        "\n",
        "plt.grid()\n",
        "plt.title(f\"Intel Corporation Closing Price Data from {df.index[0].strftime('%Y-%m-%d')} to {index_next_30_days[-1].strftime('%Y-%m-%d')}\")\n",
        "plt.xlabel(\"Date\")\n",
        "plt.ylabel(\"Close value\")\n",
        "plt.savefig('ETS_712_INTC.png')\n",
        "plt.show()"
      ],
      "metadata": {
        "colab": {
          "base_uri": "https://localhost:8080/",
          "height": 472
        },
        "id": "cXm8cLkQ4_Jp",
        "outputId": "21c2063b-8d11-4d6a-abee-624741f74cc5"
      },
      "id": "cXm8cLkQ4_Jp",
      "execution_count": 14,
      "outputs": [
        {
          "output_type": "display_data",
          "data": {
            "text/plain": [
              "<Figure size 1400x500 with 1 Axes>"
            ],
            "image/png": "[encoded data removed]"
          },
          "metadata": {}
        }
      ]
    }
  ],
  "metadata": {
    "kernelspec": {
      "display_name": "Python 3 (ipykernel)",
      "language": "python",
      "name": "python3"
    },
    "language_info": {
      "codemirror_mode": {
        "name": "ipython",
        "version": 3
      },
      "file_extension": ".py",
      "mimetype": "text/x-python",
      "name": "python",
      "nbconvert_exporter": "python",
      "pygments_lexer": "ipython3",
      "version": "3.9.13"
    },
    "colab": {
      "provenance": []
    }
  },
  "nbformat": 4,
  "nbformat_minor": 5
}