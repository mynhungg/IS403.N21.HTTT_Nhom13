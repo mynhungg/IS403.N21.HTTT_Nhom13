{
 "cells": [
  {
   "attachments": {},
   "cell_type": "markdown",
   "metadata": {},
   "source": [
    "## Import the necessary libraries"
   ]
  },
  {
   "cell_type": "code",
   "execution_count": 1,
   "metadata": {},
   "outputs": [],
   "source": [
    "import pandas as pd\n",
    "import numpy as np\n",
    "\n",
    "from tensorflow.keras.models import Sequential\n",
    "from tensorflow.keras.layers import Dense, Dropout, LSTM\n",
    "\n",
    "from sklearn.metrics import mean_squared_error, mean_absolute_percentage_error, mean_squared_log_error\n",
    "from sklearn.preprocessing import MinMaxScaler\n",
    "\n",
    "import matplotlib.pyplot as plt\n",
    "%matplotlib inline"
   ]
  },
  {
   "attachments": {},
   "cell_type": "markdown",
   "metadata": {},
   "source": [
    "## Load data"
   ]
  },
  {
   "cell_type": "code",
   "execution_count": 2,
   "metadata": {},
   "outputs": [
    {
     "data": {
      "text/html": [
       "<div>\n",
       "<style scoped>\n",
       "    .dataframe tbody tr th:only-of-type {\n",
       "        vertical-align: middle;\n",
       "    }\n",
       "\n",
       "    .dataframe tbody tr th {\n",
       "        vertical-align: top;\n",
       "    }\n",
       "\n",
       "    .dataframe thead th {\n",
       "        text-align: right;\n",
       "    }\n",
       "</style>\n",
       "<table border=\"1\" class=\"dataframe\">\n",
       "  <thead>\n",
       "    <tr style=\"text-align: right;\">\n",
       "      <th></th>\n",
       "      <th>Date</th>\n",
       "      <th>Open</th>\n",
       "      <th>High</th>\n",
       "      <th>Low</th>\n",
       "      <th>Close</th>\n",
       "      <th>Adj Close</th>\n",
       "      <th>Volume</th>\n",
       "    </tr>\n",
       "  </thead>\n",
       "  <tbody>\n",
       "    <tr>\n",
       "      <th>0</th>\n",
       "      <td>2019-01-02</td>\n",
       "      <td>45.959999</td>\n",
       "      <td>47.470001</td>\n",
       "      <td>45.770000</td>\n",
       "      <td>47.080002</td>\n",
       "      <td>41.343937</td>\n",
       "      <td>18774600</td>\n",
       "    </tr>\n",
       "    <tr>\n",
       "      <th>1</th>\n",
       "      <td>2019-01-03</td>\n",
       "      <td>46.150002</td>\n",
       "      <td>46.279999</td>\n",
       "      <td>44.389999</td>\n",
       "      <td>44.490002</td>\n",
       "      <td>39.069477</td>\n",
       "      <td>32267300</td>\n",
       "    </tr>\n",
       "    <tr>\n",
       "      <th>2</th>\n",
       "      <td>2019-01-04</td>\n",
       "      <td>45.840000</td>\n",
       "      <td>47.570000</td>\n",
       "      <td>45.540001</td>\n",
       "      <td>47.220001</td>\n",
       "      <td>41.466869</td>\n",
       "      <td>35447300</td>\n",
       "    </tr>\n",
       "    <tr>\n",
       "      <th>3</th>\n",
       "      <td>2019-01-07</td>\n",
       "      <td>47.099998</td>\n",
       "      <td>48.000000</td>\n",
       "      <td>46.750000</td>\n",
       "      <td>47.439999</td>\n",
       "      <td>41.660065</td>\n",
       "      <td>22736800</td>\n",
       "    </tr>\n",
       "    <tr>\n",
       "      <th>4</th>\n",
       "      <td>2019-01-08</td>\n",
       "      <td>47.799999</td>\n",
       "      <td>48.029999</td>\n",
       "      <td>46.779999</td>\n",
       "      <td>47.740002</td>\n",
       "      <td>41.923512</td>\n",
       "      <td>22749200</td>\n",
       "    </tr>\n",
       "    <tr>\n",
       "      <th>5</th>\n",
       "      <td>2019-01-09</td>\n",
       "      <td>47.959999</td>\n",
       "      <td>48.570000</td>\n",
       "      <td>47.779999</td>\n",
       "      <td>48.009998</td>\n",
       "      <td>42.160622</td>\n",
       "      <td>22554500</td>\n",
       "    </tr>\n",
       "    <tr>\n",
       "      <th>6</th>\n",
       "      <td>2019-01-10</td>\n",
       "      <td>47.750000</td>\n",
       "      <td>48.650002</td>\n",
       "      <td>47.410000</td>\n",
       "      <td>48.560001</td>\n",
       "      <td>42.643612</td>\n",
       "      <td>27202600</td>\n",
       "    </tr>\n",
       "    <tr>\n",
       "      <th>7</th>\n",
       "      <td>2019-01-11</td>\n",
       "      <td>48.099998</td>\n",
       "      <td>49.290001</td>\n",
       "      <td>48.049999</td>\n",
       "      <td>48.930000</td>\n",
       "      <td>42.968521</td>\n",
       "      <td>21751300</td>\n",
       "    </tr>\n",
       "    <tr>\n",
       "      <th>8</th>\n",
       "      <td>2019-01-14</td>\n",
       "      <td>48.459999</td>\n",
       "      <td>48.830002</td>\n",
       "      <td>48.299999</td>\n",
       "      <td>48.349998</td>\n",
       "      <td>42.459190</td>\n",
       "      <td>19193900</td>\n",
       "    </tr>\n",
       "    <tr>\n",
       "      <th>9</th>\n",
       "      <td>2019-01-15</td>\n",
       "      <td>48.709999</td>\n",
       "      <td>49.130001</td>\n",
       "      <td>48.439999</td>\n",
       "      <td>48.599998</td>\n",
       "      <td>42.678734</td>\n",
       "      <td>22480800</td>\n",
       "    </tr>\n",
       "  </tbody>\n",
       "</table>\n",
       "</div>"
      ],
      "text/plain": [
       "         Date       Open       High        Low      Close  Adj Close    Volume\n",
       "0  2019-01-02  45.959999  47.470001  45.770000  47.080002  41.343937  18774600\n",
       "1  2019-01-03  46.150002  46.279999  44.389999  44.490002  39.069477  32267300\n",
       "2  2019-01-04  45.840000  47.570000  45.540001  47.220001  41.466869  35447300\n",
       "3  2019-01-07  47.099998  48.000000  46.750000  47.439999  41.660065  22736800\n",
       "4  2019-01-08  47.799999  48.029999  46.779999  47.740002  41.923512  22749200\n",
       "5  2019-01-09  47.959999  48.570000  47.779999  48.009998  42.160622  22554500\n",
       "6  2019-01-10  47.750000  48.650002  47.410000  48.560001  42.643612  27202600\n",
       "7  2019-01-11  48.099998  49.290001  48.049999  48.930000  42.968521  21751300\n",
       "8  2019-01-14  48.459999  48.830002  48.299999  48.349998  42.459190  19193900\n",
       "9  2019-01-15  48.709999  49.130001  48.439999  48.599998  42.678734  22480800"
      ]
     },
     "execution_count": 2,
     "metadata": {},
     "output_type": "execute_result"
    }
   ],
   "source": [
    "df = pd.read_csv('E:/PTDLKD/Đồ án/dataset/INTC.csv')\n",
    "df.head(10)"
   ]
  },
  {
   "attachments": {},
   "cell_type": "markdown",
   "metadata": {},
   "source": [
    "## Data preprocessing"
   ]
  },
  {
   "cell_type": "code",
   "execution_count": 3,
   "metadata": {},
   "outputs": [],
   "source": [
    "# Convert the 'Date' column to datetime format\n",
    "df['Date'] = pd.to_datetime(df['Date'])\n",
    "\n",
    "# Set the 'Date' column as the index value\n",
    "df.set_index('Date', inplace=True)"
   ]
  },
  {
   "cell_type": "code",
   "execution_count": 4,
   "metadata": {},
   "outputs": [
    {
     "data": {
      "text/html": [
       "<div>\n",
       "<style scoped>\n",
       "    .dataframe tbody tr th:only-of-type {\n",
       "        vertical-align: middle;\n",
       "    }\n",
       "\n",
       "    .dataframe tbody tr th {\n",
       "        vertical-align: top;\n",
       "    }\n",
       "\n",
       "    .dataframe thead th {\n",
       "        text-align: right;\n",
       "    }\n",
       "</style>\n",
       "<table border=\"1\" class=\"dataframe\">\n",
       "  <thead>\n",
       "    <tr style=\"text-align: right;\">\n",
       "      <th></th>\n",
       "      <th>Open</th>\n",
       "      <th>High</th>\n",
       "      <th>Low</th>\n",
       "      <th>Close</th>\n",
       "      <th>Adj Close</th>\n",
       "      <th>Volume</th>\n",
       "    </tr>\n",
       "    <tr>\n",
       "      <th>Date</th>\n",
       "      <th></th>\n",
       "      <th></th>\n",
       "      <th></th>\n",
       "      <th></th>\n",
       "      <th></th>\n",
       "      <th></th>\n",
       "    </tr>\n",
       "  </thead>\n",
       "  <tbody>\n",
       "    <tr>\n",
       "      <th>2019-01-02</th>\n",
       "      <td>45.959999</td>\n",
       "      <td>47.470001</td>\n",
       "      <td>45.770000</td>\n",
       "      <td>47.080002</td>\n",
       "      <td>41.343937</td>\n",
       "      <td>18774600</td>\n",
       "    </tr>\n",
       "    <tr>\n",
       "      <th>2019-01-03</th>\n",
       "      <td>46.150002</td>\n",
       "      <td>46.279999</td>\n",
       "      <td>44.389999</td>\n",
       "      <td>44.490002</td>\n",
       "      <td>39.069477</td>\n",
       "      <td>32267300</td>\n",
       "    </tr>\n",
       "    <tr>\n",
       "      <th>2019-01-04</th>\n",
       "      <td>45.840000</td>\n",
       "      <td>47.570000</td>\n",
       "      <td>45.540001</td>\n",
       "      <td>47.220001</td>\n",
       "      <td>41.466869</td>\n",
       "      <td>35447300</td>\n",
       "    </tr>\n",
       "    <tr>\n",
       "      <th>2019-01-07</th>\n",
       "      <td>47.099998</td>\n",
       "      <td>48.000000</td>\n",
       "      <td>46.750000</td>\n",
       "      <td>47.439999</td>\n",
       "      <td>41.660065</td>\n",
       "      <td>22736800</td>\n",
       "    </tr>\n",
       "    <tr>\n",
       "      <th>2019-01-08</th>\n",
       "      <td>47.799999</td>\n",
       "      <td>48.029999</td>\n",
       "      <td>46.779999</td>\n",
       "      <td>47.740002</td>\n",
       "      <td>41.923512</td>\n",
       "      <td>22749200</td>\n",
       "    </tr>\n",
       "    <tr>\n",
       "      <th>...</th>\n",
       "      <td>...</td>\n",
       "      <td>...</td>\n",
       "      <td>...</td>\n",
       "      <td>...</td>\n",
       "      <td>...</td>\n",
       "      <td>...</td>\n",
       "    </tr>\n",
       "    <tr>\n",
       "      <th>2023-06-06</th>\n",
       "      <td>29.770000</td>\n",
       "      <td>31.450001</td>\n",
       "      <td>29.700001</td>\n",
       "      <td>30.959999</td>\n",
       "      <td>30.959999</td>\n",
       "      <td>42295300</td>\n",
       "    </tr>\n",
       "    <tr>\n",
       "      <th>2023-06-07</th>\n",
       "      <td>31.030001</td>\n",
       "      <td>31.370001</td>\n",
       "      <td>30.930000</td>\n",
       "      <td>31.280001</td>\n",
       "      <td>31.280001</td>\n",
       "      <td>39098000</td>\n",
       "    </tr>\n",
       "    <tr>\n",
       "      <th>2023-06-08</th>\n",
       "      <td>31.430000</td>\n",
       "      <td>31.850000</td>\n",
       "      <td>31.059999</td>\n",
       "      <td>31.820000</td>\n",
       "      <td>31.820000</td>\n",
       "      <td>35199000</td>\n",
       "    </tr>\n",
       "    <tr>\n",
       "      <th>2023-06-09</th>\n",
       "      <td>31.930000</td>\n",
       "      <td>31.990000</td>\n",
       "      <td>30.680000</td>\n",
       "      <td>31.340000</td>\n",
       "      <td>31.340000</td>\n",
       "      <td>40218000</td>\n",
       "    </tr>\n",
       "    <tr>\n",
       "      <th>2023-06-12</th>\n",
       "      <td>31.400000</td>\n",
       "      <td>33.299999</td>\n",
       "      <td>31.360001</td>\n",
       "      <td>33.070000</td>\n",
       "      <td>33.070000</td>\n",
       "      <td>59881600</td>\n",
       "    </tr>\n",
       "  </tbody>\n",
       "</table>\n",
       "<p>1119 rows × 6 columns</p>\n",
       "</div>"
      ],
      "text/plain": [
       "                 Open       High        Low      Close  Adj Close    Volume\n",
       "Date                                                                       \n",
       "2019-01-02  45.959999  47.470001  45.770000  47.080002  41.343937  18774600\n",
       "2019-01-03  46.150002  46.279999  44.389999  44.490002  39.069477  32267300\n",
       "2019-01-04  45.840000  47.570000  45.540001  47.220001  41.466869  35447300\n",
       "2019-01-07  47.099998  48.000000  46.750000  47.439999  41.660065  22736800\n",
       "2019-01-08  47.799999  48.029999  46.779999  47.740002  41.923512  22749200\n",
       "...               ...        ...        ...        ...        ...       ...\n",
       "2023-06-06  29.770000  31.450001  29.700001  30.959999  30.959999  42295300\n",
       "2023-06-07  31.030001  31.370001  30.930000  31.280001  31.280001  39098000\n",
       "2023-06-08  31.430000  31.850000  31.059999  31.820000  31.820000  35199000\n",
       "2023-06-09  31.930000  31.990000  30.680000  31.340000  31.340000  40218000\n",
       "2023-06-12  31.400000  33.299999  31.360001  33.070000  33.070000  59881600\n",
       "\n",
       "[1119 rows x 6 columns]"
      ]
     },
     "execution_count": 4,
     "metadata": {},
     "output_type": "execute_result"
    }
   ],
   "source": [
    "# Show Dataframe\n",
    "df"
   ]
  },
  {
   "attachments": {},
   "cell_type": "markdown",
   "metadata": {},
   "source": [
    "## Describe Data"
   ]
  },
  {
   "cell_type": "code",
   "execution_count": 5,
   "metadata": {},
   "outputs": [
    {
     "data": {
      "text/html": [
       "<div>\n",
       "<style scoped>\n",
       "    .dataframe tbody tr th:only-of-type {\n",
       "        vertical-align: middle;\n",
       "    }\n",
       "\n",
       "    .dataframe tbody tr th {\n",
       "        vertical-align: top;\n",
       "    }\n",
       "\n",
       "    .dataframe thead th {\n",
       "        text-align: right;\n",
       "    }\n",
       "</style>\n",
       "<table border=\"1\" class=\"dataframe\">\n",
       "  <thead>\n",
       "    <tr style=\"text-align: right;\">\n",
       "      <th></th>\n",
       "      <th>Open</th>\n",
       "      <th>High</th>\n",
       "      <th>Low</th>\n",
       "      <th>Close</th>\n",
       "      <th>Adj Close</th>\n",
       "      <th>Volume</th>\n",
       "    </tr>\n",
       "  </thead>\n",
       "  <tbody>\n",
       "    <tr>\n",
       "      <th>count</th>\n",
       "      <td>1119.000000</td>\n",
       "      <td>1119.000000</td>\n",
       "      <td>1119.000000</td>\n",
       "      <td>1119.000000</td>\n",
       "      <td>1119.000000</td>\n",
       "      <td>1.119000e+03</td>\n",
       "    </tr>\n",
       "    <tr>\n",
       "      <th>mean</th>\n",
       "      <td>48.118436</td>\n",
       "      <td>48.726944</td>\n",
       "      <td>47.526783</td>\n",
       "      <td>48.129062</td>\n",
       "      <td>44.573581</td>\n",
       "      <td>3.174412e+07</td>\n",
       "    </tr>\n",
       "    <tr>\n",
       "      <th>std</th>\n",
       "      <td>10.864467</td>\n",
       "      <td>10.954926</td>\n",
       "      <td>10.768599</td>\n",
       "      <td>10.864532</td>\n",
       "      <td>9.254501</td>\n",
       "      <td>1.653383e+07</td>\n",
       "    </tr>\n",
       "    <tr>\n",
       "      <th>min</th>\n",
       "      <td>24.730000</td>\n",
       "      <td>25.120001</td>\n",
       "      <td>24.590000</td>\n",
       "      <td>24.900000</td>\n",
       "      <td>24.309347</td>\n",
       "      <td>6.313200e+06</td>\n",
       "    </tr>\n",
       "    <tr>\n",
       "      <th>25%</th>\n",
       "      <td>44.185000</td>\n",
       "      <td>44.765000</td>\n",
       "      <td>43.620001</td>\n",
       "      <td>44.265000</td>\n",
       "      <td>40.537487</td>\n",
       "      <td>2.079205e+07</td>\n",
       "    </tr>\n",
       "    <tr>\n",
       "      <th>50%</th>\n",
       "      <td>50.240002</td>\n",
       "      <td>50.939999</td>\n",
       "      <td>49.709999</td>\n",
       "      <td>50.310001</td>\n",
       "      <td>46.126808</td>\n",
       "      <td>2.845030e+07</td>\n",
       "    </tr>\n",
       "    <tr>\n",
       "      <th>75%</th>\n",
       "      <td>56.055000</td>\n",
       "      <td>56.520000</td>\n",
       "      <td>55.450001</td>\n",
       "      <td>55.980002</td>\n",
       "      <td>51.632650</td>\n",
       "      <td>3.746805e+07</td>\n",
       "    </tr>\n",
       "    <tr>\n",
       "      <th>max</th>\n",
       "      <td>68.199997</td>\n",
       "      <td>69.290001</td>\n",
       "      <td>67.309998</td>\n",
       "      <td>68.470001</td>\n",
       "      <td>63.348759</td>\n",
       "      <td>1.822699e+08</td>\n",
       "    </tr>\n",
       "  </tbody>\n",
       "</table>\n",
       "</div>"
      ],
      "text/plain": [
       "              Open         High          Low        Close    Adj Close  \\\n",
       "count  1119.000000  1119.000000  1119.000000  1119.000000  1119.000000   \n",
       "mean     48.118436    48.726944    47.526783    48.129062    44.573581   \n",
       "std      10.864467    10.954926    10.768599    10.864532     9.254501   \n",
       "min      24.730000    25.120001    24.590000    24.900000    24.309347   \n",
       "25%      44.185000    44.765000    43.620001    44.265000    40.537487   \n",
       "50%      50.240002    50.939999    49.709999    50.310001    46.126808   \n",
       "75%      56.055000    56.520000    55.450001    55.980002    51.632650   \n",
       "max      68.199997    69.290001    67.309998    68.470001    63.348759   \n",
       "\n",
       "             Volume  \n",
       "count  1.119000e+03  \n",
       "mean   3.174412e+07  \n",
       "std    1.653383e+07  \n",
       "min    6.313200e+06  \n",
       "25%    2.079205e+07  \n",
       "50%    2.845030e+07  \n",
       "75%    3.746805e+07  \n",
       "max    1.822699e+08  "
      ]
     },
     "execution_count": 5,
     "metadata": {},
     "output_type": "execute_result"
    }
   ],
   "source": [
    "df.describe()"
   ]
  },
  {
   "attachments": {},
   "cell_type": "markdown",
   "metadata": {},
   "source": [
    "## Visualize Data"
   ]
  },
  {
   "cell_type": "code",
   "execution_count": 6,
   "metadata": {},
   "outputs": [
    {
     "data": {
      "image/png": "[encoded data removed]",
      "text/plain": [
       "<Figure size 640x480 with 1 Axes>"
      ]
     },
     "metadata": {},
     "output_type": "display_data"
    }
   ],
   "source": [
    "# Draw a histogram \n",
    "plt.hist(df['Close'])\n",
    "\n",
    "# Set label and title\n",
    "plt.xlabel('Close value')\n",
    "plt.ylabel('Frequency')\n",
    "plt.title('Histogram of Close Value')\n",
    "\n",
    "# Display histogram\n",
    "plt.show()"
   ]
  },
  {
   "cell_type": "code",
   "execution_count": 7,
   "metadata": {},
   "outputs": [
    {
     "data": {
      "image/png": "[encoded data removed]",
      "text/plain": [
       "<Figure size 640x480 with 1 Axes>"
      ]
     },
     "metadata": {},
     "output_type": "display_data"
    }
   ],
   "source": [
    "# Draw a boxplot\n",
    "plt.boxplot(df.Close)\n",
    "\n",
    "# Set label and title\n",
    "plt.title(\"Boxplot of Close Value\")\n",
    "plt.ylabel(\"Close value\")\n",
    "\n",
    "# Display boxplot\n",
    "plt.show()"
   ]
  },
  {
   "attachments": {},
   "cell_type": "markdown",
   "metadata": {},
   "source": [
    "## Scale Data"
   ]
  },
  {
   "cell_type": "code",
   "execution_count": 8,
   "metadata": {},
   "outputs": [],
   "source": [
    "# Select 'Close' column\n",
    "data = df['Close'].values"
   ]
  },
  {
   "cell_type": "code",
   "execution_count": 9,
   "metadata": {},
   "outputs": [],
   "source": [
    "# Scale data\n",
    "scaler = MinMaxScaler(feature_range=(0,1))\n",
    "data_scaled = scaler.fit_transform(data.reshape(-1, 1))"
   ]
  },
  {
   "attachments": {},
   "cell_type": "markdown",
   "metadata": {},
   "source": [
    "## Split the data into train, validation and test set with a ratio of 6 : 2 : 2"
   ]
  },
  {
   "cell_type": "code",
   "execution_count": 10,
   "metadata": {},
   "outputs": [],
   "source": [
    "# Define the size of train, validation, test set\n",
    "train_size = int(len(data_scaled) * 0.6)\n",
    "val_size = int(len(data_scaled) * 0.2)\n",
    "test_size = len(data_scaled) - train_size - val_size\n",
    "\n",
    "# Split the data into train, test and validation set\n",
    "train_data = data_scaled[0 : train_size, :]\n",
    "val_data = data_scaled[train_size : train_size + val_size, :]\n",
    "test_data = data_scaled[train_size + val_size : len(data_scaled), :]"
   ]
  },
  {
   "attachments": {},
   "cell_type": "markdown",
   "metadata": {},
   "source": [
    "## Create and add data into X, y"
   ]
  },
  {
   "cell_type": "code",
   "execution_count": 11,
   "metadata": {},
   "outputs": [],
   "source": [
    "def add_data(data, sequence_length=1):\n",
    "    X, Y = [], []\n",
    "    for i in range(len(data) - sequence_length):\n",
    "        X.append(data[i : (i + sequence_length), 0])\n",
    "        Y.append(data[i + sequence_length, 0])\n",
    "    return np.array(X), np.array(Y)"
   ]
  },
  {
   "cell_type": "code",
   "execution_count": 12,
   "metadata": {},
   "outputs": [],
   "source": [
    "# Reshape into X=t,t+1,t+2..t+60 and Y=t+60\n",
    "sequence_length = 60\n",
    "\n",
    "# Get lost data for test\n",
    "val_last_windowsize = val_data[-sequence_length:]\n",
    "test_data_extended = np.concatenate((val_last_windowsize, test_data), axis=0)\n",
    "\n",
    "X_train, y_train = add_data(train_data, sequence_length)\n",
    "X_test, y_test = add_data(test_data_extended, sequence_length)\n",
    "X_val, y_val = add_data(val_data, sequence_length)"
   ]
  },
  {
   "attachments": {},
   "cell_type": "markdown",
   "metadata": {},
   "source": [
    "## Build Model"
   ]
  },
  {
   "cell_type": "code",
   "execution_count": 13,
   "metadata": {},
   "outputs": [],
   "source": [
    "model = Sequential() # Encapsulate the sequence of the inner layers\n",
    "\n",
    "# 4 LSTM layers\n",
    "model.add(LSTM(units = 50,return_sequences=True,input_shape=(X_train.shape[1],1)))\n",
    "model.add(Dropout(0.2))\n",
    "model.add(LSTM(units = 50,return_sequences=True))\n",
    "model.add(Dropout(0.2))\n",
    "model.add(LSTM(units = 50,return_sequences=True))\n",
    "model.add(Dropout(0.2))\n",
    "model.add(LSTM(units=50))\n",
    "model.add(Dropout(0.2))\n",
    "\n",
    "# 1 Dense layer\n",
    "model.add(Dense(units=1)) \n",
    "\n",
    "# Optimizer\n",
    "model.compile(optimizer = 'adam',loss='mean_squared_error')"
   ]
  },
  {
   "attachments": {},
   "cell_type": "markdown",
   "metadata": {},
   "source": [
    "## Training Model"
   ]
  },
  {
   "cell_type": "code",
   "execution_count": 14,
   "metadata": {},
   "outputs": [
    {
     "name": "stdout",
     "output_type": "stream",
     "text": [
      "Epoch 1/50\n",
      "20/20 - 50s - loss: 0.1129 - val_loss: 0.0253 - 50s/epoch - 3s/step\n",
      "Epoch 2/50\n",
      "20/20 - 7s - loss: 0.0204 - val_loss: 0.0218 - 7s/epoch - 350ms/step\n",
      "Epoch 3/50\n",
      "20/20 - 9s - loss: 0.0167 - val_loss: 0.0221 - 9s/epoch - 455ms/step\n",
      "Epoch 4/50\n",
      "20/20 - 8s - loss: 0.0167 - val_loss: 0.0072 - 8s/epoch - 402ms/step\n",
      "Epoch 5/50\n",
      "20/20 - 7s - loss: 0.0208 - val_loss: 0.0117 - 7s/epoch - 351ms/step\n",
      "Epoch 6/50\n",
      "20/20 - 5s - loss: 0.0145 - val_loss: 0.0094 - 5s/epoch - 263ms/step\n",
      "Epoch 7/50\n",
      "20/20 - 6s - loss: 0.0137 - val_loss: 0.0093 - 6s/epoch - 306ms/step\n",
      "Epoch 8/50\n",
      "20/20 - 6s - loss: 0.0135 - val_loss: 0.0084 - 6s/epoch - 321ms/step\n",
      "Epoch 9/50\n",
      "20/20 - 7s - loss: 0.0129 - val_loss: 0.0143 - 7s/epoch - 338ms/step\n",
      "Epoch 10/50\n",
      "20/20 - 6s - loss: 0.0128 - val_loss: 0.0130 - 6s/epoch - 314ms/step\n",
      "Epoch 11/50\n",
      "20/20 - 7s - loss: 0.0132 - val_loss: 0.0067 - 7s/epoch - 358ms/step\n",
      "Epoch 12/50\n",
      "20/20 - 8s - loss: 0.0118 - val_loss: 0.0058 - 8s/epoch - 376ms/step\n",
      "Epoch 13/50\n",
      "20/20 - 7s - loss: 0.0124 - val_loss: 0.0105 - 7s/epoch - 369ms/step\n",
      "Epoch 14/50\n",
      "20/20 - 7s - loss: 0.0122 - val_loss: 0.0072 - 7s/epoch - 342ms/step\n",
      "Epoch 15/50\n",
      "20/20 - 5s - loss: 0.0091 - val_loss: 0.0051 - 5s/epoch - 225ms/step\n",
      "Epoch 16/50\n",
      "20/20 - 5s - loss: 0.0093 - val_loss: 0.0063 - 5s/epoch - 228ms/step\n",
      "Epoch 17/50\n",
      "20/20 - 5s - loss: 0.0099 - val_loss: 0.0072 - 5s/epoch - 241ms/step\n",
      "Epoch 18/50\n",
      "20/20 - 5s - loss: 0.0102 - val_loss: 0.0078 - 5s/epoch - 232ms/step\n",
      "Epoch 19/50\n",
      "20/20 - 4s - loss: 0.0115 - val_loss: 0.0038 - 4s/epoch - 214ms/step\n",
      "Epoch 20/50\n",
      "20/20 - 5s - loss: 0.0101 - val_loss: 0.0040 - 5s/epoch - 243ms/step\n",
      "Epoch 21/50\n",
      "20/20 - 5s - loss: 0.0098 - val_loss: 0.0069 - 5s/epoch - 241ms/step\n",
      "Epoch 22/50\n",
      "20/20 - 5s - loss: 0.0090 - val_loss: 0.0039 - 5s/epoch - 231ms/step\n",
      "Epoch 23/50\n",
      "20/20 - 5s - loss: 0.0089 - val_loss: 0.0064 - 5s/epoch - 248ms/step\n",
      "Epoch 24/50\n",
      "20/20 - 4s - loss: 0.0089 - val_loss: 0.0062 - 4s/epoch - 224ms/step\n",
      "Epoch 25/50\n",
      "20/20 - 5s - loss: 0.0078 - val_loss: 0.0035 - 5s/epoch - 227ms/step\n",
      "Epoch 26/50\n",
      "20/20 - 5s - loss: 0.0084 - val_loss: 0.0040 - 5s/epoch - 251ms/step\n",
      "Epoch 27/50\n",
      "20/20 - 6s - loss: 0.0080 - val_loss: 0.0065 - 6s/epoch - 305ms/step\n",
      "Epoch 28/50\n",
      "20/20 - 5s - loss: 0.0081 - val_loss: 0.0037 - 5s/epoch - 226ms/step\n",
      "Epoch 29/50\n",
      "20/20 - 5s - loss: 0.0085 - val_loss: 0.0082 - 5s/epoch - 226ms/step\n",
      "Epoch 30/50\n",
      "20/20 - 5s - loss: 0.0078 - val_loss: 0.0072 - 5s/epoch - 232ms/step\n",
      "Epoch 31/50\n",
      "20/20 - 5s - loss: 0.0076 - val_loss: 0.0027 - 5s/epoch - 234ms/step\n",
      "Epoch 32/50\n",
      "20/20 - 6s - loss: 0.0071 - val_loss: 0.0032 - 6s/epoch - 282ms/step\n",
      "Epoch 33/50\n",
      "20/20 - 5s - loss: 0.0073 - val_loss: 0.0053 - 5s/epoch - 239ms/step\n",
      "Epoch 34/50\n",
      "20/20 - 5s - loss: 0.0068 - val_loss: 0.0030 - 5s/epoch - 251ms/step\n",
      "Epoch 35/50\n",
      "20/20 - 5s - loss: 0.0067 - val_loss: 0.0032 - 5s/epoch - 243ms/step\n",
      "Epoch 36/50\n",
      "20/20 - 5s - loss: 0.0068 - val_loss: 0.0040 - 5s/epoch - 234ms/step\n",
      "Epoch 37/50\n",
      "20/20 - 4s - loss: 0.0070 - val_loss: 0.0033 - 4s/epoch - 219ms/step\n",
      "Epoch 38/50\n",
      "20/20 - 5s - loss: 0.0062 - val_loss: 0.0026 - 5s/epoch - 235ms/step\n",
      "Epoch 39/50\n",
      "20/20 - 5s - loss: 0.0068 - val_loss: 0.0032 - 5s/epoch - 245ms/step\n",
      "Epoch 40/50\n",
      "20/20 - 4s - loss: 0.0054 - val_loss: 0.0024 - 4s/epoch - 215ms/step\n",
      "Epoch 41/50\n",
      "20/20 - 6s - loss: 0.0068 - val_loss: 0.0029 - 6s/epoch - 286ms/step\n",
      "Epoch 42/50\n",
      "20/20 - 5s - loss: 0.0066 - val_loss: 0.0045 - 5s/epoch - 256ms/step\n",
      "Epoch 43/50\n",
      "20/20 - 5s - loss: 0.0065 - val_loss: 0.0029 - 5s/epoch - 240ms/step\n",
      "Epoch 44/50\n",
      "20/20 - 5s - loss: 0.0063 - val_loss: 0.0023 - 5s/epoch - 242ms/step\n",
      "Epoch 45/50\n",
      "20/20 - 5s - loss: 0.0064 - val_loss: 0.0030 - 5s/epoch - 237ms/step\n",
      "Epoch 46/50\n",
      "20/20 - 5s - loss: 0.0068 - val_loss: 0.0034 - 5s/epoch - 229ms/step\n",
      "Epoch 47/50\n",
      "20/20 - 6s - loss: 0.0059 - val_loss: 0.0023 - 6s/epoch - 286ms/step\n",
      "Epoch 48/50\n",
      "20/20 - 5s - loss: 0.0071 - val_loss: 0.0027 - 5s/epoch - 235ms/step\n",
      "Epoch 49/50\n",
      "20/20 - 6s - loss: 0.0076 - val_loss: 0.0039 - 6s/epoch - 287ms/step\n",
      "Epoch 50/50\n",
      "20/20 - 7s - loss: 0.0061 - val_loss: 0.0030 - 7s/epoch - 359ms/step\n"
     ]
    }
   ],
   "source": [
    "history = model.fit(X_train, y_train, validation_data=(X_val, y_val), epochs=50, batch_size=32, verbose=2)"
   ]
  },
  {
   "attachments": {},
   "cell_type": "markdown",
   "metadata": {},
   "source": [
    "## Predict Close price in test and validation set"
   ]
  },
  {
   "cell_type": "code",
   "execution_count": 15,
   "metadata": {},
   "outputs": [
    {
     "name": "stdout",
     "output_type": "stream",
     "text": [
      "8/8 [==============================] - 7s 82ms/step\n",
      "6/6 [==============================] - 1s 82ms/step\n"
     ]
    }
   ],
   "source": [
    "y_pred = model.predict(X_test)\n",
    "y_pred_val = model.predict(X_val)"
   ]
  },
  {
   "attachments": {},
   "cell_type": "markdown",
   "metadata": {},
   "source": [
    "## Transform data back to the original"
   ]
  },
  {
   "cell_type": "code",
   "execution_count": 16,
   "metadata": {},
   "outputs": [],
   "source": [
    "y_pred = scaler.inverse_transform(y_pred)\n",
    "y_val = scaler.inverse_transform(y_val.reshape(-1, 1))\n",
    "y_pred_val = scaler.inverse_transform(y_pred_val)\n",
    "train_data = scaler.inverse_transform(train_data)\n",
    "test_data = scaler.inverse_transform(test_data)\n",
    "val_data = scaler.inverse_transform(val_data)"
   ]
  },
  {
   "attachments": {},
   "cell_type": "markdown",
   "metadata": {},
   "source": [
    "## Calculate the error of the model"
   ]
  },
  {
   "cell_type": "code",
   "execution_count": 17,
   "metadata": {},
   "outputs": [
    {
     "name": "stdout",
     "output_type": "stream",
     "text": [
      "MAPE on Test set:  0.9965676778194189\n",
      "RMSE on Test set:  31.248889128584313\n",
      "MSLE on Test set:  11.31292289311009\n"
     ]
    }
   ],
   "source": [
    "# The error in test set\n",
    "test_mape = mean_absolute_percentage_error(y_pred, y_test)\n",
    "test_mse = mean_squared_error(y_test, y_pred)\n",
    "test_rmse = np.sqrt(test_mse)\n",
    "test_msle = mean_squared_log_error(y_test, y_pred)\n",
    "\n",
    "print(f\"MAPE on Test set: \", test_mape)\n",
    "print(f\"RMSE on Test set: \", test_rmse)\n",
    "print(f\"MSLE on Test set: \", test_msle)"
   ]
  },
  {
   "attachments": {},
   "cell_type": "markdown",
   "metadata": {},
   "source": [
    "## Predict Close price for 30 next days"
   ]
  },
  {
   "cell_type": "code",
   "execution_count": 18,
   "metadata": {},
   "outputs": [
    {
     "name": "stdout",
     "output_type": "stream",
     "text": [
      "1/1 [==============================] - 7s 7s/step\n",
      "1/1 [==============================] - 0s 83ms/step\n",
      "1/1 [==============================] - 0s 78ms/step\n",
      "1/1 [==============================] - 0s 74ms/step\n",
      "1/1 [==============================] - 0s 76ms/step\n",
      "1/1 [==============================] - 0s 73ms/step\n",
      "1/1 [==============================] - 0s 81ms/step\n",
      "1/1 [==============================] - 0s 76ms/step\n",
      "1/1 [==============================] - 0s 81ms/step\n",
      "1/1 [==============================] - 0s 77ms/step\n",
      "1/1 [==============================] - 0s 69ms/step\n",
      "1/1 [==============================] - 0s 72ms/step\n",
      "1/1 [==============================] - 0s 74ms/step\n",
      "1/1 [==============================] - 0s 80ms/step\n",
      "1/1 [==============================] - 0s 77ms/step\n",
      "1/1 [==============================] - 0s 75ms/step\n",
      "1/1 [==============================] - 0s 81ms/step\n",
      "1/1 [==============================] - 0s 75ms/step\n",
      "1/1 [==============================] - 0s 76ms/step\n",
      "1/1 [==============================] - 0s 79ms/step\n",
      "1/1 [==============================] - 0s 71ms/step\n",
      "1/1 [==============================] - 0s 80ms/step\n",
      "1/1 [==============================] - 0s 70ms/step\n",
      "1/1 [==============================] - 0s 75ms/step\n",
      "1/1 [==============================] - 0s 74ms/step\n",
      "1/1 [==============================] - 0s 73ms/step\n",
      "1/1 [==============================] - 0s 236ms/step\n",
      "1/1 [==============================] - 0s 190ms/step\n",
      "1/1 [==============================] - 0s 82ms/step\n",
      "1/1 [==============================] - 0s 76ms/step\n"
     ]
    }
   ],
   "source": [
    "# Select the last day of current index\n",
    "last_date = df.index[-1]\n",
    "\n",
    "# Add a new day after the last day\n",
    "next_date = last_date + pd.DateOffset(days=1)\n",
    "\n",
    "# Generate a list of index only starting from the next day in 30 days\n",
    "index_next_30_days = pd.date_range(start=next_date, periods=30).tolist()\n",
    "\n",
    "# Predict Close price for 30 next days\n",
    "last_sequence_days = data_scaled[-sequence_length:].reshape(1, -1, 1)\n",
    "\n",
    "y_next_30_days = []\n",
    "\n",
    "for i in range(30):\n",
    "    # Predict Close price for next day\n",
    "    next_day_pred = model.predict(last_sequence_days)\n",
    "    \n",
    "    # Save the predict value\n",
    "    y_next_30_days.append(next_day_pred[0][0])\n",
    "    \n",
    "    # Update information of the  next day\n",
    "    last_sequence_days = np.concatenate([last_sequence_days[:, 1:, :], next_day_pred.reshape(1, 1, 1)], axis=1)"
   ]
  },
  {
   "cell_type": "code",
   "execution_count": 19,
   "metadata": {},
   "outputs": [
    {
     "name": "stdout",
     "output_type": "stream",
     "text": [
      "[31.890444 32.11972  32.34401  32.55464  32.74794  32.92453  33.08765\n",
      " 33.241467 33.389885 33.535976 33.68177  33.828396 33.976326 34.125637\n",
      " 34.276207 34.42787  34.580482 34.73394  34.888203 35.043247 35.199066\n",
      " 35.355663 35.51302  35.671104 35.829895 35.98934  36.149403 36.310036\n",
      " 36.47119  36.632847]\n"
     ]
    }
   ],
   "source": [
    "# Show the result of predict 30 next days \n",
    "y_next_30_days = scaler.inverse_transform(np.array(y_next_30_days).reshape(-1, 1))\n",
    "print(y_next_30_days.flatten())"
   ]
  },
  {
   "attachments": {},
   "cell_type": "markdown",
   "metadata": {},
   "source": [
    "## Model visualization"
   ]
  },
  {
   "cell_type": "code",
   "execution_count": 20,
   "metadata": {},
   "outputs": [
    {
     "data": {
      "image/png": "[encoded data removed]",
      "text/plain": [
       "<Figure size 1200x500 with 1 Axes>"
      ]
     },
     "metadata": {},
     "output_type": "display_data"
    }
   ],
   "source": [
    "plt.figure(figsize=(12, 5))\n",
    "\n",
    "# Train set\n",
    "plt.plot(df[:train_size].index, train_data)\n",
    "\n",
    "# Validation set\n",
    "plt.plot(df[train_size : train_size + val_size].index, val_data)\n",
    "\n",
    "# Test set\n",
    "plt.plot(df[train_size + val_size: ].index, test_data)\n",
    "\n",
    "# Predict in test set\n",
    "plt.plot(df[train_size + val_size:].index, y_pred)\n",
    "\n",
    "# Predict 30 next days\n",
    "plt.plot(index_next_30_days, y_next_30_days)\n",
    "\n",
    "plt.legend(['Train', 'Validate', 'Test', 'Predict Test', 'Predict30days'])\n",
    "plt.grid()\n",
    "plt.title(\"INTC Closing Price Data With Ratio 6_2_2\")\n",
    "plt.xlabel(\"Date\")\n",
    "plt.ylabel(\"Close value\")\n",
    "plt.savefig('RNN_622_INTC.png')\n",
    "plt.show()"
   ]
  }
 ],
 "metadata": {
  "kernelspec": {
   "display_name": "user_env",
   "language": "python",
   "name": "python3"
  },
  "language_info": {
   "codemirror_mode": {
    "name": "ipython",
    "version": 3
   },
   "file_extension": ".py",
   "mimetype": "text/x-python",
   "name": "python",
   "nbconvert_exporter": "python",
   "pygments_lexer": "ipython3",
   "version": "3.9.16"
  },
  "orig_nbformat": 4
 },
 "nbformat": 4,
 "nbformat_minor": 2
}
