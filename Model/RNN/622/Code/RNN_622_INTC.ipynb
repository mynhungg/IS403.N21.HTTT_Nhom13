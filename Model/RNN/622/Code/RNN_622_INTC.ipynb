{
 "cells": [
  {
   "attachments": {},
   "cell_type": "markdown",
   "metadata": {},
   "source": [
    "## Import the necessary libraries"
   ]
  },
  {
   "cell_type": "code",
   "execution_count": 1,
   "metadata": {},
   "outputs": [],
   "source": [
    "import pandas as pd\n",
    "import numpy as np\n",
    "\n",
    "from tensorflow.keras.models import Sequential\n",
    "from tensorflow.keras.layers import Dense, Dropout, LSTM\n",
    "\n",
    "from sklearn.metrics import mean_squared_error, mean_absolute_percentage_error, mean_squared_log_error\n",
    "from sklearn.preprocessing import MinMaxScaler\n",
    "\n",
    "import matplotlib.pyplot as plt\n",
    "%matplotlib inline"
   ]
  },
  {
   "attachments": {},
   "cell_type": "markdown",
   "metadata": {},
   "source": [
    "## Load data"
   ]
  },
  {
   "cell_type": "code",
   "execution_count": 2,
   "metadata": {},
   "outputs": [
    {
     "data": {
      "text/html": [
       "<div>\n",
       "<style scoped>\n",
       "    .dataframe tbody tr th:only-of-type {\n",
       "        vertical-align: middle;\n",
       "    }\n",
       "\n",
       "    .dataframe tbody tr th {\n",
       "        vertical-align: top;\n",
       "    }\n",
       "\n",
       "    .dataframe thead th {\n",
       "        text-align: right;\n",
       "    }\n",
       "</style>\n",
       "<table border=\"1\" class=\"dataframe\">\n",
       "  <thead>\n",
       "    <tr style=\"text-align: right;\">\n",
       "      <th></th>\n",
       "      <th>Date</th>\n",
       "      <th>Open</th>\n",
       "      <th>High</th>\n",
       "      <th>Low</th>\n",
       "      <th>Close</th>\n",
       "      <th>Adj Close</th>\n",
       "      <th>Volume</th>\n",
       "    </tr>\n",
       "  </thead>\n",
       "  <tbody>\n",
       "    <tr>\n",
       "      <th>0</th>\n",
       "      <td>2019-01-02</td>\n",
       "      <td>45.959999</td>\n",
       "      <td>47.470001</td>\n",
       "      <td>45.770000</td>\n",
       "      <td>47.080002</td>\n",
       "      <td>41.343937</td>\n",
       "      <td>18774600</td>\n",
       "    </tr>\n",
       "    <tr>\n",
       "      <th>1</th>\n",
       "      <td>2019-01-03</td>\n",
       "      <td>46.150002</td>\n",
       "      <td>46.279999</td>\n",
       "      <td>44.389999</td>\n",
       "      <td>44.490002</td>\n",
       "      <td>39.069477</td>\n",
       "      <td>32267300</td>\n",
       "    </tr>\n",
       "    <tr>\n",
       "      <th>2</th>\n",
       "      <td>2019-01-04</td>\n",
       "      <td>45.840000</td>\n",
       "      <td>47.570000</td>\n",
       "      <td>45.540001</td>\n",
       "      <td>47.220001</td>\n",
       "      <td>41.466869</td>\n",
       "      <td>35447300</td>\n",
       "    </tr>\n",
       "    <tr>\n",
       "      <th>3</th>\n",
       "      <td>2019-01-07</td>\n",
       "      <td>47.099998</td>\n",
       "      <td>48.000000</td>\n",
       "      <td>46.750000</td>\n",
       "      <td>47.439999</td>\n",
       "      <td>41.660065</td>\n",
       "      <td>22736800</td>\n",
       "    </tr>\n",
       "    <tr>\n",
       "      <th>4</th>\n",
       "      <td>2019-01-08</td>\n",
       "      <td>47.799999</td>\n",
       "      <td>48.029999</td>\n",
       "      <td>46.779999</td>\n",
       "      <td>47.740002</td>\n",
       "      <td>41.923512</td>\n",
       "      <td>22749200</td>\n",
       "    </tr>\n",
       "    <tr>\n",
       "      <th>5</th>\n",
       "      <td>2019-01-09</td>\n",
       "      <td>47.959999</td>\n",
       "      <td>48.570000</td>\n",
       "      <td>47.779999</td>\n",
       "      <td>48.009998</td>\n",
       "      <td>42.160622</td>\n",
       "      <td>22554500</td>\n",
       "    </tr>\n",
       "    <tr>\n",
       "      <th>6</th>\n",
       "      <td>2019-01-10</td>\n",
       "      <td>47.750000</td>\n",
       "      <td>48.650002</td>\n",
       "      <td>47.410000</td>\n",
       "      <td>48.560001</td>\n",
       "      <td>42.643612</td>\n",
       "      <td>27202600</td>\n",
       "    </tr>\n",
       "    <tr>\n",
       "      <th>7</th>\n",
       "      <td>2019-01-11</td>\n",
       "      <td>48.099998</td>\n",
       "      <td>49.290001</td>\n",
       "      <td>48.049999</td>\n",
       "      <td>48.930000</td>\n",
       "      <td>42.968521</td>\n",
       "      <td>21751300</td>\n",
       "    </tr>\n",
       "    <tr>\n",
       "      <th>8</th>\n",
       "      <td>2019-01-14</td>\n",
       "      <td>48.459999</td>\n",
       "      <td>48.830002</td>\n",
       "      <td>48.299999</td>\n",
       "      <td>48.349998</td>\n",
       "      <td>42.459190</td>\n",
       "      <td>19193900</td>\n",
       "    </tr>\n",
       "    <tr>\n",
       "      <th>9</th>\n",
       "      <td>2019-01-15</td>\n",
       "      <td>48.709999</td>\n",
       "      <td>49.130001</td>\n",
       "      <td>48.439999</td>\n",
       "      <td>48.599998</td>\n",
       "      <td>42.678734</td>\n",
       "      <td>22480800</td>\n",
       "    </tr>\n",
       "  </tbody>\n",
       "</table>\n",
       "</div>"
      ],
      "text/plain": [
       "         Date       Open       High        Low      Close  Adj Close    Volume\n",
       "0  2019-01-02  45.959999  47.470001  45.770000  47.080002  41.343937  18774600\n",
       "1  2019-01-03  46.150002  46.279999  44.389999  44.490002  39.069477  32267300\n",
       "2  2019-01-04  45.840000  47.570000  45.540001  47.220001  41.466869  35447300\n",
       "3  2019-01-07  47.099998  48.000000  46.750000  47.439999  41.660065  22736800\n",
       "4  2019-01-08  47.799999  48.029999  46.779999  47.740002  41.923512  22749200\n",
       "5  2019-01-09  47.959999  48.570000  47.779999  48.009998  42.160622  22554500\n",
       "6  2019-01-10  47.750000  48.650002  47.410000  48.560001  42.643612  27202600\n",
       "7  2019-01-11  48.099998  49.290001  48.049999  48.930000  42.968521  21751300\n",
       "8  2019-01-14  48.459999  48.830002  48.299999  48.349998  42.459190  19193900\n",
       "9  2019-01-15  48.709999  49.130001  48.439999  48.599998  42.678734  22480800"
      ]
     },
     "execution_count": 2,
     "metadata": {},
     "output_type": "execute_result"
    }
   ],
   "source": [
    "df = pd.read_csv('E:/PTDLKD/Đồ án/dataset/INTC.csv')\n",
    "df.head(10)"
   ]
  },
  {
   "attachments": {},
   "cell_type": "markdown",
   "metadata": {},
   "source": [
    "## Data preprocessing"
   ]
  },
  {
   "cell_type": "code",
   "execution_count": 3,
   "metadata": {},
   "outputs": [],
   "source": [
    "# Convert the 'Date' column to datetime format\n",
    "df['Date'] = pd.to_datetime(df['Date'])\n",
    "\n",
    "# Set the 'Date' column as the index value\n",
    "df.set_index('Date', inplace=True)"
   ]
  },
  {
   "cell_type": "code",
   "execution_count": 4,
   "metadata": {},
   "outputs": [
    {
     "data": {
      "text/html": [
       "<div>\n",
       "<style scoped>\n",
       "    .dataframe tbody tr th:only-of-type {\n",
       "        vertical-align: middle;\n",
       "    }\n",
       "\n",
       "    .dataframe tbody tr th {\n",
       "        vertical-align: top;\n",
       "    }\n",
       "\n",
       "    .dataframe thead th {\n",
       "        text-align: right;\n",
       "    }\n",
       "</style>\n",
       "<table border=\"1\" class=\"dataframe\">\n",
       "  <thead>\n",
       "    <tr style=\"text-align: right;\">\n",
       "      <th></th>\n",
       "      <th>Open</th>\n",
       "      <th>High</th>\n",
       "      <th>Low</th>\n",
       "      <th>Close</th>\n",
       "      <th>Adj Close</th>\n",
       "      <th>Volume</th>\n",
       "    </tr>\n",
       "    <tr>\n",
       "      <th>Date</th>\n",
       "      <th></th>\n",
       "      <th></th>\n",
       "      <th></th>\n",
       "      <th></th>\n",
       "      <th></th>\n",
       "      <th></th>\n",
       "    </tr>\n",
       "  </thead>\n",
       "  <tbody>\n",
       "    <tr>\n",
       "      <th>2019-01-02</th>\n",
       "      <td>45.959999</td>\n",
       "      <td>47.470001</td>\n",
       "      <td>45.770000</td>\n",
       "      <td>47.080002</td>\n",
       "      <td>41.343937</td>\n",
       "      <td>18774600</td>\n",
       "    </tr>\n",
       "    <tr>\n",
       "      <th>2019-01-03</th>\n",
       "      <td>46.150002</td>\n",
       "      <td>46.279999</td>\n",
       "      <td>44.389999</td>\n",
       "      <td>44.490002</td>\n",
       "      <td>39.069477</td>\n",
       "      <td>32267300</td>\n",
       "    </tr>\n",
       "    <tr>\n",
       "      <th>2019-01-04</th>\n",
       "      <td>45.840000</td>\n",
       "      <td>47.570000</td>\n",
       "      <td>45.540001</td>\n",
       "      <td>47.220001</td>\n",
       "      <td>41.466869</td>\n",
       "      <td>35447300</td>\n",
       "    </tr>\n",
       "    <tr>\n",
       "      <th>2019-01-07</th>\n",
       "      <td>47.099998</td>\n",
       "      <td>48.000000</td>\n",
       "      <td>46.750000</td>\n",
       "      <td>47.439999</td>\n",
       "      <td>41.660065</td>\n",
       "      <td>22736800</td>\n",
       "    </tr>\n",
       "    <tr>\n",
       "      <th>2019-01-08</th>\n",
       "      <td>47.799999</td>\n",
       "      <td>48.029999</td>\n",
       "      <td>46.779999</td>\n",
       "      <td>47.740002</td>\n",
       "      <td>41.923512</td>\n",
       "      <td>22749200</td>\n",
       "    </tr>\n",
       "    <tr>\n",
       "      <th>...</th>\n",
       "      <td>...</td>\n",
       "      <td>...</td>\n",
       "      <td>...</td>\n",
       "      <td>...</td>\n",
       "      <td>...</td>\n",
       "      <td>...</td>\n",
       "    </tr>\n",
       "    <tr>\n",
       "      <th>2023-06-06</th>\n",
       "      <td>29.770000</td>\n",
       "      <td>31.450001</td>\n",
       "      <td>29.700001</td>\n",
       "      <td>30.959999</td>\n",
       "      <td>30.959999</td>\n",
       "      <td>42295300</td>\n",
       "    </tr>\n",
       "    <tr>\n",
       "      <th>2023-06-07</th>\n",
       "      <td>31.030001</td>\n",
       "      <td>31.370001</td>\n",
       "      <td>30.930000</td>\n",
       "      <td>31.280001</td>\n",
       "      <td>31.280001</td>\n",
       "      <td>39098000</td>\n",
       "    </tr>\n",
       "    <tr>\n",
       "      <th>2023-06-08</th>\n",
       "      <td>31.430000</td>\n",
       "      <td>31.850000</td>\n",
       "      <td>31.059999</td>\n",
       "      <td>31.820000</td>\n",
       "      <td>31.820000</td>\n",
       "      <td>35199000</td>\n",
       "    </tr>\n",
       "    <tr>\n",
       "      <th>2023-06-09</th>\n",
       "      <td>31.930000</td>\n",
       "      <td>31.990000</td>\n",
       "      <td>30.680000</td>\n",
       "      <td>31.340000</td>\n",
       "      <td>31.340000</td>\n",
       "      <td>40218000</td>\n",
       "    </tr>\n",
       "    <tr>\n",
       "      <th>2023-06-12</th>\n",
       "      <td>31.400000</td>\n",
       "      <td>33.299999</td>\n",
       "      <td>31.360001</td>\n",
       "      <td>33.070000</td>\n",
       "      <td>33.070000</td>\n",
       "      <td>59881600</td>\n",
       "    </tr>\n",
       "  </tbody>\n",
       "</table>\n",
       "<p>1119 rows × 6 columns</p>\n",
       "</div>"
      ],
      "text/plain": [
       "                 Open       High        Low      Close  Adj Close    Volume\n",
       "Date                                                                       \n",
       "2019-01-02  45.959999  47.470001  45.770000  47.080002  41.343937  18774600\n",
       "2019-01-03  46.150002  46.279999  44.389999  44.490002  39.069477  32267300\n",
       "2019-01-04  45.840000  47.570000  45.540001  47.220001  41.466869  35447300\n",
       "2019-01-07  47.099998  48.000000  46.750000  47.439999  41.660065  22736800\n",
       "2019-01-08  47.799999  48.029999  46.779999  47.740002  41.923512  22749200\n",
       "...               ...        ...        ...        ...        ...       ...\n",
       "2023-06-06  29.770000  31.450001  29.700001  30.959999  30.959999  42295300\n",
       "2023-06-07  31.030001  31.370001  30.930000  31.280001  31.280001  39098000\n",
       "2023-06-08  31.430000  31.850000  31.059999  31.820000  31.820000  35199000\n",
       "2023-06-09  31.930000  31.990000  30.680000  31.340000  31.340000  40218000\n",
       "2023-06-12  31.400000  33.299999  31.360001  33.070000  33.070000  59881600\n",
       "\n",
       "[1119 rows x 6 columns]"
      ]
     },
     "execution_count": 4,
     "metadata": {},
     "output_type": "execute_result"
    }
   ],
   "source": [
    "# Show Dataframe\n",
    "df"
   ]
  },
  {
   "attachments": {},
   "cell_type": "markdown",
   "metadata": {},
   "source": [
    "## Scale Data"
   ]
  },
  {
   "cell_type": "code",
   "execution_count": 5,
   "metadata": {},
   "outputs": [],
   "source": [
    "# Select 'Close' column\n",
    "data = df['Close'].values"
   ]
  },
  {
   "cell_type": "code",
   "execution_count": 6,
   "metadata": {},
   "outputs": [],
   "source": [
    "# Scale data\n",
    "scaler = MinMaxScaler(feature_range=(0,1))\n",
    "data_scaled = scaler.fit_transform(data.reshape(-1, 1))"
   ]
  },
  {
   "attachments": {},
   "cell_type": "markdown",
   "metadata": {},
   "source": [
    "## Split the data into train, validation and test set with a ratio of 6 : 2 : 2"
   ]
  },
  {
   "cell_type": "code",
   "execution_count": 7,
   "metadata": {},
   "outputs": [],
   "source": [
    "# Define the size of train, validation, test set\n",
    "train_size = int(len(data_scaled) * 0.6)\n",
    "val_size = int(len(data_scaled) * 0.2)\n",
    "test_size = len(data_scaled) - train_size - val_size\n",
    "\n",
    "# Split the data into train, test and validation set\n",
    "train_data = data_scaled[0 : train_size, :]\n",
    "val_data = data_scaled[train_size : train_size + val_size, :]\n",
    "test_data = data_scaled[train_size + val_size : len(data_scaled), :]"
   ]
  },
  {
   "attachments": {},
   "cell_type": "markdown",
   "metadata": {},
   "source": [
    "## Create and add data into X, y"
   ]
  },
  {
   "cell_type": "code",
   "execution_count": 8,
   "metadata": {},
   "outputs": [],
   "source": [
    "def add_data(data, sequence_length=1):\n",
    "    X, Y = [], []\n",
    "    for i in range(len(data) - sequence_length):\n",
    "        X.append(data[i : (i + sequence_length), 0])\n",
    "        Y.append(data[i + sequence_length, 0])\n",
    "    return np.array(X), np.array(Y)"
   ]
  },
  {
   "cell_type": "code",
   "execution_count": 9,
   "metadata": {},
   "outputs": [],
   "source": [
    "# Reshape into X=t,t+1,t+2..t+60 and Y=t+60\n",
    "sequence_length = 60\n",
    "\n",
    "# Get lost data for test\n",
    "train_last_windowsize = train_data[-sequence_length:]\n",
    "val_last_windowsize = val_data[-sequence_length:]\n",
    "\n",
    "val_data_extended = np.concatenate((train_last_windowsize, val_data), axis=0)\n",
    "test_data_extended = np.concatenate((val_last_windowsize, test_data), axis=0)\n",
    "\n",
    "X_train, y_train = add_data(train_data, sequence_length)\n",
    "X_test, y_test = add_data(test_data_extended, sequence_length)\n",
    "X_val, y_val = add_data(val_data_extended, sequence_length)"
   ]
  },
  {
   "attachments": {},
   "cell_type": "markdown",
   "metadata": {},
   "source": [
    "## Build Model"
   ]
  },
  {
   "cell_type": "code",
   "execution_count": 10,
   "metadata": {},
   "outputs": [],
   "source": [
    "model = Sequential() # Encapsulate the sequence of the inner layers\n",
    "\n",
    "# 4 LSTM layers\n",
    "model.add(LSTM(units = 50,return_sequences=True,input_shape=(X_train.shape[1],1)))\n",
    "model.add(Dropout(0.2))\n",
    "model.add(LSTM(units = 50,return_sequences=True))\n",
    "model.add(Dropout(0.2))\n",
    "model.add(LSTM(units = 50,return_sequences=True))\n",
    "model.add(Dropout(0.2))\n",
    "model.add(LSTM(units=50))\n",
    "model.add(Dropout(0.2))\n",
    "\n",
    "# 1 Dense layer\n",
    "model.add(Dense(units=1)) \n",
    "\n",
    "# Optimizer\n",
    "model.compile(optimizer = 'adam',loss='mean_squared_error')"
   ]
  },
  {
   "attachments": {},
   "cell_type": "markdown",
   "metadata": {},
   "source": [
    "## Training Model"
   ]
  },
  {
   "cell_type": "code",
   "execution_count": 11,
   "metadata": {},
   "outputs": [
    {
     "name": "stdout",
     "output_type": "stream",
     "text": [
      "Epoch 1/50\n",
      "20/20 - 58s - loss: 0.1123 - val_loss: 0.0145 - 58s/epoch - 3s/step\n",
      "Epoch 2/50\n",
      "20/20 - 18s - loss: 0.0200 - val_loss: 0.0134 - 18s/epoch - 890ms/step\n",
      "Epoch 3/50\n",
      "20/20 - 17s - loss: 0.0157 - val_loss: 0.0117 - 17s/epoch - 845ms/step\n",
      "Epoch 4/50\n",
      "20/20 - 21s - loss: 0.0154 - val_loss: 0.0076 - 21s/epoch - 1s/step\n",
      "Epoch 5/50\n",
      "20/20 - 27s - loss: 0.0155 - val_loss: 0.0076 - 27s/epoch - 1s/step\n",
      "Epoch 6/50\n",
      "20/20 - 12s - loss: 0.0131 - val_loss: 0.0071 - 12s/epoch - 610ms/step\n",
      "Epoch 7/50\n",
      "20/20 - 8s - loss: 0.0125 - val_loss: 0.0085 - 8s/epoch - 425ms/step\n",
      "Epoch 8/50\n",
      "20/20 - 11s - loss: 0.0134 - val_loss: 0.0051 - 11s/epoch - 526ms/step\n",
      "Epoch 9/50\n",
      "20/20 - 10s - loss: 0.0126 - val_loss: 0.0049 - 10s/epoch - 500ms/step\n",
      "Epoch 10/50\n",
      "20/20 - 14s - loss: 0.0125 - val_loss: 0.0162 - 14s/epoch - 702ms/step\n",
      "Epoch 11/50\n",
      "20/20 - 11s - loss: 0.0128 - val_loss: 0.0049 - 11s/epoch - 558ms/step\n",
      "Epoch 12/50\n",
      "20/20 - 19s - loss: 0.0110 - val_loss: 0.0060 - 19s/epoch - 955ms/step\n",
      "Epoch 13/50\n",
      "20/20 - 10s - loss: 0.0109 - val_loss: 0.0108 - 10s/epoch - 504ms/step\n",
      "Epoch 14/50\n",
      "20/20 - 8s - loss: 0.0116 - val_loss: 0.0044 - 8s/epoch - 417ms/step\n",
      "Epoch 15/50\n",
      "20/20 - 9s - loss: 0.0097 - val_loss: 0.0044 - 9s/epoch - 462ms/step\n",
      "Epoch 16/50\n",
      "20/20 - 8s - loss: 0.0093 - val_loss: 0.0032 - 8s/epoch - 381ms/step\n",
      "Epoch 17/50\n",
      "20/20 - 7s - loss: 0.0109 - val_loss: 0.0062 - 7s/epoch - 370ms/step\n",
      "Epoch 18/50\n",
      "20/20 - 8s - loss: 0.0098 - val_loss: 0.0090 - 8s/epoch - 391ms/step\n",
      "Epoch 19/50\n",
      "20/20 - 8s - loss: 0.0082 - val_loss: 0.0041 - 8s/epoch - 397ms/step\n",
      "Epoch 20/50\n",
      "20/20 - 8s - loss: 0.0081 - val_loss: 0.0031 - 8s/epoch - 387ms/step\n",
      "Epoch 21/50\n",
      "20/20 - 7s - loss: 0.0080 - val_loss: 0.0052 - 7s/epoch - 368ms/step\n",
      "Epoch 22/50\n",
      "20/20 - 8s - loss: 0.0082 - val_loss: 0.0055 - 8s/epoch - 400ms/step\n",
      "Epoch 23/50\n",
      "20/20 - 9s - loss: 0.0088 - val_loss: 0.0096 - 9s/epoch - 437ms/step\n",
      "Epoch 24/50\n",
      "20/20 - 17s - loss: 0.0076 - val_loss: 0.0045 - 17s/epoch - 835ms/step\n",
      "Epoch 25/50\n",
      "20/20 - 8s - loss: 0.0080 - val_loss: 0.0040 - 8s/epoch - 421ms/step\n",
      "Epoch 26/50\n",
      "20/20 - 8s - loss: 0.0075 - val_loss: 0.0028 - 8s/epoch - 421ms/step\n",
      "Epoch 27/50\n",
      "20/20 - 7s - loss: 0.0078 - val_loss: 0.0030 - 7s/epoch - 374ms/step\n",
      "Epoch 28/50\n",
      "20/20 - 8s - loss: 0.0077 - val_loss: 0.0029 - 8s/epoch - 390ms/step\n",
      "Epoch 29/50\n",
      "20/20 - 15s - loss: 0.0067 - val_loss: 0.0030 - 15s/epoch - 753ms/step\n",
      "Epoch 30/50\n",
      "20/20 - 8s - loss: 0.0069 - val_loss: 0.0072 - 8s/epoch - 418ms/step\n",
      "Epoch 31/50\n",
      "20/20 - 8s - loss: 0.0080 - val_loss: 0.0055 - 8s/epoch - 419ms/step\n",
      "Epoch 32/50\n",
      "20/20 - 10s - loss: 0.0079 - val_loss: 0.0027 - 10s/epoch - 491ms/step\n",
      "Epoch 33/50\n",
      "20/20 - 15s - loss: 0.0077 - val_loss: 0.0032 - 15s/epoch - 751ms/step\n",
      "Epoch 34/50\n",
      "20/20 - 20s - loss: 0.0073 - val_loss: 0.0033 - 20s/epoch - 1s/step\n",
      "Epoch 35/50\n",
      "20/20 - 9s - loss: 0.0065 - val_loss: 0.0031 - 9s/epoch - 460ms/step\n",
      "Epoch 36/50\n",
      "20/20 - 11s - loss: 0.0064 - val_loss: 0.0034 - 11s/epoch - 533ms/step\n",
      "Epoch 37/50\n",
      "20/20 - 14s - loss: 0.0081 - val_loss: 0.0050 - 14s/epoch - 692ms/step\n",
      "Epoch 38/50\n",
      "20/20 - 13s - loss: 0.0065 - val_loss: 0.0033 - 13s/epoch - 635ms/step\n",
      "Epoch 39/50\n",
      "20/20 - 10s - loss: 0.0070 - val_loss: 0.0061 - 10s/epoch - 518ms/step\n",
      "Epoch 40/50\n",
      "20/20 - 10s - loss: 0.0088 - val_loss: 0.0030 - 10s/epoch - 492ms/step\n",
      "Epoch 41/50\n",
      "20/20 - 9s - loss: 0.0060 - val_loss: 0.0078 - 9s/epoch - 464ms/step\n",
      "Epoch 42/50\n",
      "20/20 - 13s - loss: 0.0075 - val_loss: 0.0025 - 13s/epoch - 656ms/step\n",
      "Epoch 43/50\n",
      "20/20 - 10s - loss: 0.0063 - val_loss: 0.0023 - 10s/epoch - 509ms/step\n",
      "Epoch 44/50\n",
      "20/20 - 9s - loss: 0.0070 - val_loss: 0.0028 - 9s/epoch - 462ms/step\n",
      "Epoch 45/50\n",
      "20/20 - 10s - loss: 0.0057 - val_loss: 0.0044 - 10s/epoch - 490ms/step\n",
      "Epoch 46/50\n",
      "20/20 - 11s - loss: 0.0066 - val_loss: 0.0024 - 11s/epoch - 558ms/step\n",
      "Epoch 47/50\n",
      "20/20 - 10s - loss: 0.0056 - val_loss: 0.0029 - 10s/epoch - 499ms/step\n",
      "Epoch 48/50\n",
      "20/20 - 8s - loss: 0.0062 - val_loss: 0.0031 - 8s/epoch - 407ms/step\n",
      "Epoch 49/50\n",
      "20/20 - 7s - loss: 0.0067 - val_loss: 0.0024 - 7s/epoch - 346ms/step\n",
      "Epoch 50/50\n",
      "20/20 - 9s - loss: 0.0062 - val_loss: 0.0037 - 9s/epoch - 463ms/step\n"
     ]
    }
   ],
   "source": [
    "history = model.fit(X_train, y_train, validation_data=(X_val, y_val), epochs=50, batch_size=32, verbose=2)"
   ]
  },
  {
   "attachments": {},
   "cell_type": "markdown",
   "metadata": {},
   "source": [
    "## Predict Close price in test and validation set"
   ]
  },
  {
   "cell_type": "code",
   "execution_count": 12,
   "metadata": {},
   "outputs": [
    {
     "name": "stdout",
     "output_type": "stream",
     "text": [
      "8/8 [==============================] - 8s 158ms/step\n",
      "7/7 [==============================] - 1s 138ms/step\n"
     ]
    }
   ],
   "source": [
    "y_pred = model.predict(X_test)\n",
    "y_pred_val = model.predict(X_val)"
   ]
  },
  {
   "attachments": {},
   "cell_type": "markdown",
   "metadata": {},
   "source": [
    "## Transform data back to the original"
   ]
  },
  {
   "cell_type": "code",
   "execution_count": 13,
   "metadata": {},
   "outputs": [],
   "source": [
    "y_pred = scaler.inverse_transform(y_pred)\n",
    "y_val = scaler.inverse_transform(y_val.reshape(-1, 1))\n",
    "y_pred_val = scaler.inverse_transform(y_pred_val)\n",
    "train_data = scaler.inverse_transform(train_data)\n",
    "test_data = scaler.inverse_transform(test_data)\n",
    "val_data = scaler.inverse_transform(val_data)"
   ]
  },
  {
   "attachments": {},
   "cell_type": "markdown",
   "metadata": {},
   "source": [
    "## Calculate the error of the model"
   ]
  },
  {
   "cell_type": "code",
   "execution_count": 14,
   "metadata": {},
   "outputs": [
    {
     "name": "stdout",
     "output_type": "stream",
     "text": [
      "MAPE on Test set:  0.99679183959204\n",
      "RMSE on Test set:  33.55773233462901\n",
      "MSLE on Test set:  11.801767177664235\n"
     ]
    }
   ],
   "source": [
    "# The error in test set\n",
    "test_mape = mean_absolute_percentage_error(y_pred, y_test)\n",
    "test_mse = mean_squared_error(y_test, y_pred)\n",
    "test_rmse = np.sqrt(test_mse)\n",
    "test_msle = mean_squared_log_error(y_test, y_pred)\n",
    "\n",
    "print(f\"MAPE on Test set: \", test_mape)\n",
    "print(f\"RMSE on Test set: \", test_rmse)\n",
    "print(f\"MSLE on Test set: \", test_msle)"
   ]
  },
  {
   "cell_type": "code",
   "execution_count": 18,
   "metadata": {},
   "outputs": [
    {
     "name": "stdout",
     "output_type": "stream",
     "text": [
      "MAPE on Validate set:  0.04299071012552784\n",
      "RMSE on Validate set:  2.6397803277781247\n",
      "MSLE on Validate set:  0.003184081463847007\n"
     ]
    }
   ],
   "source": [
    "# The error in validation set\n",
    "val_mape = mean_absolute_percentage_error(y_pred_val, y_val)\n",
    "val_mse = mean_squared_error(y_val, y_pred_val)\n",
    "val_rmse = np.sqrt(val_mse)\n",
    "val_msle = mean_squared_log_error(y_val, y_pred_val)\n",
    "\n",
    "print(f\"MAPE on Validate set: \", val_mape)\n",
    "print(f\"RMSE on Validate set: \", val_rmse)\n",
    "print(f\"MSLE on Validate set: \", val_msle)"
   ]
  },
  {
   "attachments": {},
   "cell_type": "markdown",
   "metadata": {},
   "source": [
    "## Predict Close price for 30 next days"
   ]
  },
  {
   "cell_type": "code",
   "execution_count": 15,
   "metadata": {},
   "outputs": [
    {
     "name": "stdout",
     "output_type": "stream",
     "text": [
      "1/1 [==============================] - 7s 7s/step\n",
      "1/1 [==============================] - 0s 149ms/step\n",
      "1/1 [==============================] - 0s 104ms/step\n",
      "1/1 [==============================] - 0s 71ms/step\n",
      "1/1 [==============================] - 0s 83ms/step\n",
      "1/1 [==============================] - 0s 105ms/step\n",
      "1/1 [==============================] - 0s 69ms/step\n",
      "1/1 [==============================] - 0s 118ms/step\n",
      "1/1 [==============================] - 0s 61ms/step\n",
      "1/1 [==============================] - 0s 80ms/step\n",
      "1/1 [==============================] - 0s 49ms/step\n",
      "1/1 [==============================] - 0s 66ms/step\n",
      "1/1 [==============================] - 0s 65ms/step\n",
      "1/1 [==============================] - 0s 39ms/step\n",
      "1/1 [==============================] - 0s 76ms/step\n",
      "1/1 [==============================] - 0s 106ms/step\n",
      "1/1 [==============================] - 0s 68ms/step\n",
      "1/1 [==============================] - 0s 67ms/step\n",
      "1/1 [==============================] - 0s 76ms/step\n",
      "1/1 [==============================] - 0s 77ms/step\n",
      "1/1 [==============================] - 0s 167ms/step\n",
      "1/1 [==============================] - 0s 48ms/step\n",
      "1/1 [==============================] - 0s 44ms/step\n",
      "1/1 [==============================] - 0s 43ms/step\n",
      "1/1 [==============================] - 0s 41ms/step\n",
      "1/1 [==============================] - 0s 41ms/step\n",
      "1/1 [==============================] - 0s 38ms/step\n",
      "1/1 [==============================] - 0s 50ms/step\n",
      "1/1 [==============================] - 0s 39ms/step\n",
      "1/1 [==============================] - 0s 53ms/step\n"
     ]
    }
   ],
   "source": [
    "# Select the last day of current index\n",
    "last_date = df.index[-1]\n",
    "\n",
    "# Add a new day after the last day\n",
    "next_date = last_date + pd.DateOffset(days=1)\n",
    "\n",
    "# Generate a list of index only starting from the next day in 30 days\n",
    "index_next_30_days = pd.date_range(start=next_date, periods=30).tolist()\n",
    "\n",
    "# Predict Close price for 30 next days\n",
    "last_sequence_days = data_scaled[-sequence_length:].reshape(1, -1, 1)\n",
    "\n",
    "y_next_30_days = []\n",
    "\n",
    "for i in range(30):\n",
    "    # Predict Close price for next day\n",
    "    next_day_pred = model.predict(last_sequence_days)\n",
    "    \n",
    "    # Save the predict value\n",
    "    y_next_30_days.append(next_day_pred[0][0])\n",
    "    \n",
    "    # Update information of the  next day\n",
    "    last_sequence_days = np.concatenate([last_sequence_days[:, 1:, :], next_day_pred.reshape(1, 1, 1)], axis=1)"
   ]
  },
  {
   "cell_type": "code",
   "execution_count": 16,
   "metadata": {},
   "outputs": [
    {
     "name": "stdout",
     "output_type": "stream",
     "text": [
      "[34.31154  34.548943 34.848965 35.216087 35.639153 36.098686 36.574093\n",
      " 37.048454 37.510593 37.954956 38.380337 38.788174 39.18106  39.56175\n",
      " 39.932583 40.295315 40.651184 41.001034 41.34546  41.684956 42.01994\n",
      " 42.350796 42.67787  43.001472 43.3218   43.63903  43.95323  44.26444\n",
      " 44.572605 44.87766 ]\n"
     ]
    }
   ],
   "source": [
    "# Show the result of predict 30 next days \n",
    "y_next_30_days = scaler.inverse_transform(np.array(y_next_30_days).reshape(-1, 1))\n",
    "print(y_next_30_days.flatten())"
   ]
  },
  {
   "attachments": {},
   "cell_type": "markdown",
   "metadata": {},
   "source": [
    "## Model visualization"
   ]
  },
  {
   "cell_type": "code",
   "execution_count": 17,
   "metadata": {},
   "outputs": [
    {
     "data": {
      "image/png": "[encoded data removed]",
      "text/plain": [
       "<Figure size 1200x500 with 1 Axes>"
      ]
     },
     "metadata": {},
     "output_type": "display_data"
    }
   ],
   "source": [
    "plt.figure(figsize=(12, 5))\n",
    "\n",
    "# Train set\n",
    "plt.plot(df[:train_size].index, train_data)\n",
    "\n",
    "# Validation set\n",
    "plt.plot(df[train_size : train_size + val_size].index, val_data)\n",
    "\n",
    "# Predict in validation set\n",
    "plt.plot(df[train_size : train_size + val_size].index, y_pred_val)\n",
    "\n",
    "# Test set\n",
    "plt.plot(df[train_size + val_size: ].index, test_data)\n",
    "\n",
    "# Predict in test set\n",
    "plt.plot(df[train_size + val_size:].index, y_pred)\n",
    "\n",
    "# Predict 30 next days\n",
    "plt.plot(index_next_30_days, y_next_30_days)\n",
    "\n",
    "plt.legend(['Train', 'Validate', 'Predict Validation', 'Test', 'Predict Test', 'Predict30days'])\n",
    "plt.grid()\n",
    "plt.title(\"INTC Closing Price Data With Ratio 6_2_2\")\n",
    "plt.xlabel(\"Date\")\n",
    "plt.ylabel(\"Close value\")\n",
    "plt.savefig('RNN_622_INTC.png')\n",
    "plt.show()"
   ]
  }
 ],
 "metadata": {
  "kernelspec": {
   "display_name": "user_env",
   "language": "python",
   "name": "python3"
  },
  "language_info": {
   "codemirror_mode": {
    "name": "ipython",
    "version": 3
   },
   "file_extension": ".py",
   "mimetype": "text/x-python",
   "name": "python",
   "nbconvert_exporter": "python",
   "pygments_lexer": "ipython3",
   "version": "3.9.16"
  },
  "orig_nbformat": 4
 },
 "nbformat": 4,
 "nbformat_minor": 2
}
