{
 "cells": [
  {
   "attachments": {},
   "cell_type": "markdown",
   "metadata": {},
   "source": [
    "## Import the necessary libraries"
   ]
  },
  {
   "cell_type": "code",
   "execution_count": 1,
   "metadata": {},
   "outputs": [],
   "source": [
    "import pandas as pd\n",
    "import numpy as np\n",
    "\n",
    "from tensorflow.keras.models import Sequential\n",
    "from tensorflow.keras.layers import Dense, Dropout, LSTM\n",
    "\n",
    "from sklearn.metrics import mean_squared_error, mean_absolute_percentage_error, mean_squared_log_error\n",
    "from sklearn.preprocessing import MinMaxScaler\n",
    "\n",
    "import matplotlib.pyplot as plt\n",
    "%matplotlib inline"
   ]
  },
  {
   "attachments": {},
   "cell_type": "markdown",
   "metadata": {},
   "source": [
    "## Load data"
   ]
  },
  {
   "cell_type": "code",
   "execution_count": 2,
   "metadata": {},
   "outputs": [
    {
     "data": {
      "text/html": [
       "<div>\n",
       "<style scoped>\n",
       "    .dataframe tbody tr th:only-of-type {\n",
       "        vertical-align: middle;\n",
       "    }\n",
       "\n",
       "    .dataframe tbody tr th {\n",
       "        vertical-align: top;\n",
       "    }\n",
       "\n",
       "    .dataframe thead th {\n",
       "        text-align: right;\n",
       "    }\n",
       "</style>\n",
       "<table border=\"1\" class=\"dataframe\">\n",
       "  <thead>\n",
       "    <tr style=\"text-align: right;\">\n",
       "      <th></th>\n",
       "      <th>Date</th>\n",
       "      <th>Open</th>\n",
       "      <th>High</th>\n",
       "      <th>Low</th>\n",
       "      <th>Close</th>\n",
       "      <th>Adj Close</th>\n",
       "      <th>Volume</th>\n",
       "    </tr>\n",
       "  </thead>\n",
       "  <tbody>\n",
       "    <tr>\n",
       "      <th>0</th>\n",
       "      <td>2019-01-02</td>\n",
       "      <td>46.209999</td>\n",
       "      <td>46.990002</td>\n",
       "      <td>45.855000</td>\n",
       "      <td>46.259998</td>\n",
       "      <td>40.076595</td>\n",
       "      <td>1289100</td>\n",
       "    </tr>\n",
       "    <tr>\n",
       "      <th>1</th>\n",
       "      <td>2019-01-03</td>\n",
       "      <td>46.000000</td>\n",
       "      <td>46.099998</td>\n",
       "      <td>44.882999</td>\n",
       "      <td>45.049999</td>\n",
       "      <td>39.028339</td>\n",
       "      <td>1158800</td>\n",
       "    </tr>\n",
       "    <tr>\n",
       "      <th>2</th>\n",
       "      <td>2019-01-04</td>\n",
       "      <td>45.950001</td>\n",
       "      <td>47.180000</td>\n",
       "      <td>45.880001</td>\n",
       "      <td>47.130001</td>\n",
       "      <td>40.830315</td>\n",
       "      <td>1538500</td>\n",
       "    </tr>\n",
       "    <tr>\n",
       "      <th>3</th>\n",
       "      <td>2019-01-07</td>\n",
       "      <td>47.310001</td>\n",
       "      <td>48.110001</td>\n",
       "      <td>46.840000</td>\n",
       "      <td>47.740002</td>\n",
       "      <td>41.358772</td>\n",
       "      <td>954700</td>\n",
       "    </tr>\n",
       "    <tr>\n",
       "      <th>4</th>\n",
       "      <td>2019-01-08</td>\n",
       "      <td>48.709999</td>\n",
       "      <td>49.480000</td>\n",
       "      <td>48.520000</td>\n",
       "      <td>49.209999</td>\n",
       "      <td>42.632286</td>\n",
       "      <td>1921800</td>\n",
       "    </tr>\n",
       "    <tr>\n",
       "      <th>5</th>\n",
       "      <td>2019-01-09</td>\n",
       "      <td>49.689999</td>\n",
       "      <td>49.689999</td>\n",
       "      <td>48.779999</td>\n",
       "      <td>49.410000</td>\n",
       "      <td>42.805553</td>\n",
       "      <td>1839700</td>\n",
       "    </tr>\n",
       "    <tr>\n",
       "      <th>6</th>\n",
       "      <td>2019-01-10</td>\n",
       "      <td>49.070000</td>\n",
       "      <td>50.080002</td>\n",
       "      <td>48.560001</td>\n",
       "      <td>50.049999</td>\n",
       "      <td>43.360012</td>\n",
       "      <td>1808100</td>\n",
       "    </tr>\n",
       "    <tr>\n",
       "      <th>7</th>\n",
       "      <td>2019-01-11</td>\n",
       "      <td>49.799999</td>\n",
       "      <td>50.139999</td>\n",
       "      <td>49.279999</td>\n",
       "      <td>49.869999</td>\n",
       "      <td>43.204067</td>\n",
       "      <td>826500</td>\n",
       "    </tr>\n",
       "    <tr>\n",
       "      <th>8</th>\n",
       "      <td>2019-01-14</td>\n",
       "      <td>49.430000</td>\n",
       "      <td>50.130001</td>\n",
       "      <td>49.200001</td>\n",
       "      <td>49.680000</td>\n",
       "      <td>43.039463</td>\n",
       "      <td>763400</td>\n",
       "    </tr>\n",
       "    <tr>\n",
       "      <th>9</th>\n",
       "      <td>2019-01-15</td>\n",
       "      <td>49.869999</td>\n",
       "      <td>50.160000</td>\n",
       "      <td>49.200001</td>\n",
       "      <td>49.669998</td>\n",
       "      <td>43.030800</td>\n",
       "      <td>898100</td>\n",
       "    </tr>\n",
       "  </tbody>\n",
       "</table>\n",
       "</div>"
      ],
      "text/plain": [
       "         Date       Open       High        Low      Close  Adj Close   Volume\n",
       "0  2019-01-02  46.209999  46.990002  45.855000  46.259998  40.076595  1289100\n",
       "1  2019-01-03  46.000000  46.099998  44.882999  45.049999  39.028339  1158800\n",
       "2  2019-01-04  45.950001  47.180000  45.880001  47.130001  40.830315  1538500\n",
       "3  2019-01-07  47.310001  48.110001  46.840000  47.740002  41.358772   954700\n",
       "4  2019-01-08  48.709999  49.480000  48.520000  49.209999  42.632286  1921800\n",
       "5  2019-01-09  49.689999  49.689999  48.779999  49.410000  42.805553  1839700\n",
       "6  2019-01-10  49.070000  50.080002  48.560001  50.049999  43.360012  1808100\n",
       "7  2019-01-11  49.799999  50.139999  49.279999  49.869999  43.204067   826500\n",
       "8  2019-01-14  49.430000  50.130001  49.200001  49.680000  43.039463   763400\n",
       "9  2019-01-15  49.869999  50.160000  49.200001  49.669998  43.030800   898100"
      ]
     },
     "execution_count": 2,
     "metadata": {},
     "output_type": "execute_result"
    }
   ],
   "source": [
    "df = pd.read_csv('E:/PTDLKD/Đồ án/dataset/NTR.csv')\n",
    "df.head(10)"
   ]
  },
  {
   "attachments": {},
   "cell_type": "markdown",
   "metadata": {},
   "source": [
    "## Data preprocessing"
   ]
  },
  {
   "cell_type": "code",
   "execution_count": 3,
   "metadata": {},
   "outputs": [],
   "source": [
    "# Convert the 'Date' column to datetime format\n",
    "df['Date'] = pd.to_datetime(df['Date'])\n",
    "\n",
    "# Set the 'Date' column as the index value\n",
    "df.set_index('Date', inplace=True)"
   ]
  },
  {
   "cell_type": "code",
   "execution_count": 4,
   "metadata": {},
   "outputs": [
    {
     "data": {
      "text/html": [
       "<div>\n",
       "<style scoped>\n",
       "    .dataframe tbody tr th:only-of-type {\n",
       "        vertical-align: middle;\n",
       "    }\n",
       "\n",
       "    .dataframe tbody tr th {\n",
       "        vertical-align: top;\n",
       "    }\n",
       "\n",
       "    .dataframe thead th {\n",
       "        text-align: right;\n",
       "    }\n",
       "</style>\n",
       "<table border=\"1\" class=\"dataframe\">\n",
       "  <thead>\n",
       "    <tr style=\"text-align: right;\">\n",
       "      <th></th>\n",
       "      <th>Open</th>\n",
       "      <th>High</th>\n",
       "      <th>Low</th>\n",
       "      <th>Close</th>\n",
       "      <th>Adj Close</th>\n",
       "      <th>Volume</th>\n",
       "    </tr>\n",
       "    <tr>\n",
       "      <th>Date</th>\n",
       "      <th></th>\n",
       "      <th></th>\n",
       "      <th></th>\n",
       "      <th></th>\n",
       "      <th></th>\n",
       "      <th></th>\n",
       "    </tr>\n",
       "  </thead>\n",
       "  <tbody>\n",
       "    <tr>\n",
       "      <th>2019-01-02</th>\n",
       "      <td>46.209999</td>\n",
       "      <td>46.990002</td>\n",
       "      <td>45.855000</td>\n",
       "      <td>46.259998</td>\n",
       "      <td>40.076595</td>\n",
       "      <td>1289100</td>\n",
       "    </tr>\n",
       "    <tr>\n",
       "      <th>2019-01-03</th>\n",
       "      <td>46.000000</td>\n",
       "      <td>46.099998</td>\n",
       "      <td>44.882999</td>\n",
       "      <td>45.049999</td>\n",
       "      <td>39.028339</td>\n",
       "      <td>1158800</td>\n",
       "    </tr>\n",
       "    <tr>\n",
       "      <th>2019-01-04</th>\n",
       "      <td>45.950001</td>\n",
       "      <td>47.180000</td>\n",
       "      <td>45.880001</td>\n",
       "      <td>47.130001</td>\n",
       "      <td>40.830315</td>\n",
       "      <td>1538500</td>\n",
       "    </tr>\n",
       "    <tr>\n",
       "      <th>2019-01-07</th>\n",
       "      <td>47.310001</td>\n",
       "      <td>48.110001</td>\n",
       "      <td>46.840000</td>\n",
       "      <td>47.740002</td>\n",
       "      <td>41.358772</td>\n",
       "      <td>954700</td>\n",
       "    </tr>\n",
       "    <tr>\n",
       "      <th>2019-01-08</th>\n",
       "      <td>48.709999</td>\n",
       "      <td>49.480000</td>\n",
       "      <td>48.520000</td>\n",
       "      <td>49.209999</td>\n",
       "      <td>42.632286</td>\n",
       "      <td>1921800</td>\n",
       "    </tr>\n",
       "    <tr>\n",
       "      <th>...</th>\n",
       "      <td>...</td>\n",
       "      <td>...</td>\n",
       "      <td>...</td>\n",
       "      <td>...</td>\n",
       "      <td>...</td>\n",
       "      <td>...</td>\n",
       "    </tr>\n",
       "    <tr>\n",
       "      <th>2023-06-06</th>\n",
       "      <td>53.000000</td>\n",
       "      <td>57.294998</td>\n",
       "      <td>52.820000</td>\n",
       "      <td>57.220001</td>\n",
       "      <td>57.220001</td>\n",
       "      <td>6397900</td>\n",
       "    </tr>\n",
       "    <tr>\n",
       "      <th>2023-06-07</th>\n",
       "      <td>57.610001</td>\n",
       "      <td>59.750000</td>\n",
       "      <td>57.520000</td>\n",
       "      <td>59.340000</td>\n",
       "      <td>59.340000</td>\n",
       "      <td>2925500</td>\n",
       "    </tr>\n",
       "    <tr>\n",
       "      <th>2023-06-08</th>\n",
       "      <td>59.400002</td>\n",
       "      <td>60.080002</td>\n",
       "      <td>57.910000</td>\n",
       "      <td>58.939999</td>\n",
       "      <td>58.939999</td>\n",
       "      <td>2828400</td>\n",
       "    </tr>\n",
       "    <tr>\n",
       "      <th>2023-06-09</th>\n",
       "      <td>58.959999</td>\n",
       "      <td>59.349998</td>\n",
       "      <td>58.290001</td>\n",
       "      <td>58.790001</td>\n",
       "      <td>58.790001</td>\n",
       "      <td>1686600</td>\n",
       "    </tr>\n",
       "    <tr>\n",
       "      <th>2023-06-12</th>\n",
       "      <td>58.279999</td>\n",
       "      <td>59.650002</td>\n",
       "      <td>58.279999</td>\n",
       "      <td>59.610001</td>\n",
       "      <td>59.610001</td>\n",
       "      <td>1563100</td>\n",
       "    </tr>\n",
       "  </tbody>\n",
       "</table>\n",
       "<p>1119 rows × 6 columns</p>\n",
       "</div>"
      ],
      "text/plain": [
       "                 Open       High        Low      Close  Adj Close   Volume\n",
       "Date                                                                      \n",
       "2019-01-02  46.209999  46.990002  45.855000  46.259998  40.076595  1289100\n",
       "2019-01-03  46.000000  46.099998  44.882999  45.049999  39.028339  1158800\n",
       "2019-01-04  45.950001  47.180000  45.880001  47.130001  40.830315  1538500\n",
       "2019-01-07  47.310001  48.110001  46.840000  47.740002  41.358772   954700\n",
       "2019-01-08  48.709999  49.480000  48.520000  49.209999  42.632286  1921800\n",
       "...               ...        ...        ...        ...        ...      ...\n",
       "2023-06-06  53.000000  57.294998  52.820000  57.220001  57.220001  6397900\n",
       "2023-06-07  57.610001  59.750000  57.520000  59.340000  59.340000  2925500\n",
       "2023-06-08  59.400002  60.080002  57.910000  58.939999  58.939999  2828400\n",
       "2023-06-09  58.959999  59.349998  58.290001  58.790001  58.790001  1686600\n",
       "2023-06-12  58.279999  59.650002  58.279999  59.610001  59.610001  1563100\n",
       "\n",
       "[1119 rows x 6 columns]"
      ]
     },
     "execution_count": 4,
     "metadata": {},
     "output_type": "execute_result"
    }
   ],
   "source": [
    "# Show Dataframe\n",
    "df"
   ]
  },
  {
   "attachments": {},
   "cell_type": "markdown",
   "metadata": {},
   "source": [
    "## Scale Data"
   ]
  },
  {
   "cell_type": "code",
   "execution_count": 5,
   "metadata": {},
   "outputs": [],
   "source": [
    "# Select 'Close' column\n",
    "data = df['Close'].values"
   ]
  },
  {
   "cell_type": "code",
   "execution_count": 6,
   "metadata": {},
   "outputs": [],
   "source": [
    "# Scale data\n",
    "scaler = MinMaxScaler(feature_range=(0,1))\n",
    "data_scaled = scaler.fit_transform(data.reshape(-1, 1))"
   ]
  },
  {
   "attachments": {},
   "cell_type": "markdown",
   "metadata": {},
   "source": [
    "## Split the data into train, validation and test set with a ratio of 6 : 2 : 2"
   ]
  },
  {
   "cell_type": "code",
   "execution_count": 7,
   "metadata": {},
   "outputs": [],
   "source": [
    "# Define the size of train, validation, test set\n",
    "train_size = int(len(data_scaled) * 0.6)\n",
    "val_size = int(len(data_scaled) * 0.2)\n",
    "test_size = len(data_scaled) - train_size - val_size\n",
    "\n",
    "# Split the data into train, test and validation set\n",
    "train_data = data_scaled[0 : train_size, :]\n",
    "val_data = data_scaled[train_size : train_size + val_size, :]\n",
    "test_data = data_scaled[train_size + val_size : len(data_scaled), :]"
   ]
  },
  {
   "attachments": {},
   "cell_type": "markdown",
   "metadata": {},
   "source": [
    "## Create and add data into X, y"
   ]
  },
  {
   "cell_type": "code",
   "execution_count": 8,
   "metadata": {},
   "outputs": [],
   "source": [
    "def add_data(data, sequence_length=1):\n",
    "    X, Y = [], []\n",
    "    for i in range(len(data) - sequence_length):\n",
    "        X.append(data[i : (i + sequence_length), 0])\n",
    "        Y.append(data[i + sequence_length, 0])\n",
    "    return np.array(X), np.array(Y)"
   ]
  },
  {
   "cell_type": "code",
   "execution_count": 9,
   "metadata": {},
   "outputs": [],
   "source": [
    "# Reshape into X=t,t+1,t+2..t+60 and Y=t+60\n",
    "sequence_length = 60\n",
    "\n",
    "# Get lost data for test\n",
    "train_last_windowsize = train_data[-sequence_length:]\n",
    "val_last_windowsize = val_data[-sequence_length:]\n",
    "\n",
    "val_data_extended = np.concatenate((train_last_windowsize, val_data), axis=0)\n",
    "test_data_extended = np.concatenate((val_last_windowsize, test_data), axis=0)\n",
    "\n",
    "X_train, y_train = add_data(train_data, sequence_length)\n",
    "X_test, y_test = add_data(test_data_extended, sequence_length)\n",
    "X_val, y_val = add_data(val_data_extended, sequence_length)"
   ]
  },
  {
   "attachments": {},
   "cell_type": "markdown",
   "metadata": {},
   "source": [
    "## Build Model"
   ]
  },
  {
   "cell_type": "code",
   "execution_count": 10,
   "metadata": {},
   "outputs": [],
   "source": [
    "model = Sequential() # Encapsulate the sequence of the inner layers\n",
    "\n",
    "# 4 LSTM layers\n",
    "model.add(LSTM(units = 50,return_sequences=True,input_shape=(X_train.shape[1],1)))\n",
    "model.add(Dropout(0.2))\n",
    "model.add(LSTM(units = 50,return_sequences=True))\n",
    "model.add(Dropout(0.2))\n",
    "model.add(LSTM(units = 50,return_sequences=True))\n",
    "model.add(Dropout(0.2))\n",
    "model.add(LSTM(units=50))\n",
    "model.add(Dropout(0.2))\n",
    "\n",
    "# 1 Dense layer\n",
    "model.add(Dense(units=1)) \n",
    "\n",
    "# Optimizer\n",
    "model.compile(optimizer = 'adam',loss='mean_squared_error')"
   ]
  },
  {
   "attachments": {},
   "cell_type": "markdown",
   "metadata": {},
   "source": [
    "## Training Model"
   ]
  },
  {
   "cell_type": "code",
   "execution_count": 11,
   "metadata": {},
   "outputs": [
    {
     "name": "stdout",
     "output_type": "stream",
     "text": [
      "Epoch 1/50\n",
      "20/20 - 65s - loss: 0.0139 - val_loss: 0.0252 - 65s/epoch - 3s/step\n",
      "Epoch 2/50\n",
      "20/20 - 19s - loss: 0.0031 - val_loss: 0.0155 - 19s/epoch - 958ms/step\n",
      "Epoch 3/50\n",
      "20/20 - 27s - loss: 0.0024 - val_loss: 0.0109 - 27s/epoch - 1s/step\n",
      "Epoch 4/50\n",
      "20/20 - 12s - loss: 0.0024 - val_loss: 0.0091 - 12s/epoch - 605ms/step\n",
      "Epoch 5/50\n",
      "20/20 - 9s - loss: 0.0018 - val_loss: 0.0081 - 9s/epoch - 428ms/step\n",
      "Epoch 6/50\n",
      "20/20 - 11s - loss: 0.0020 - val_loss: 0.0077 - 11s/epoch - 530ms/step\n",
      "Epoch 7/50\n",
      "20/20 - 10s - loss: 0.0020 - val_loss: 0.0073 - 10s/epoch - 506ms/step\n",
      "Epoch 8/50\n",
      "20/20 - 14s - loss: 0.0019 - val_loss: 0.0064 - 14s/epoch - 698ms/step\n",
      "Epoch 9/50\n",
      "20/20 - 11s - loss: 0.0019 - val_loss: 0.0061 - 11s/epoch - 559ms/step\n",
      "Epoch 10/50\n",
      "20/20 - 19s - loss: 0.0017 - val_loss: 0.0080 - 19s/epoch - 955ms/step\n",
      "Epoch 11/50\n",
      "20/20 - 10s - loss: 0.0019 - val_loss: 0.0060 - 10s/epoch - 502ms/step\n",
      "Epoch 12/50\n",
      "20/20 - 8s - loss: 0.0020 - val_loss: 0.0055 - 8s/epoch - 417ms/step\n",
      "Epoch 13/50\n",
      "20/20 - 9s - loss: 0.0017 - val_loss: 0.0056 - 9s/epoch - 469ms/step\n",
      "Epoch 14/50\n",
      "20/20 - 7s - loss: 0.0016 - val_loss: 0.0053 - 7s/epoch - 375ms/step\n",
      "Epoch 15/50\n",
      "20/20 - 7s - loss: 0.0017 - val_loss: 0.0050 - 7s/epoch - 369ms/step\n",
      "Epoch 16/50\n",
      "20/20 - 8s - loss: 0.0015 - val_loss: 0.0059 - 8s/epoch - 394ms/step\n",
      "Epoch 17/50\n",
      "20/20 - 8s - loss: 0.0018 - val_loss: 0.0047 - 8s/epoch - 396ms/step\n",
      "Epoch 18/50\n",
      "20/20 - 8s - loss: 0.0014 - val_loss: 0.0050 - 8s/epoch - 389ms/step\n",
      "Epoch 19/50\n",
      "20/20 - 7s - loss: 0.0017 - val_loss: 0.0059 - 7s/epoch - 370ms/step\n",
      "Epoch 20/50\n",
      "20/20 - 8s - loss: 0.0013 - val_loss: 0.0054 - 8s/epoch - 400ms/step\n",
      "Epoch 21/50\n",
      "20/20 - 9s - loss: 0.0014 - val_loss: 0.0044 - 9s/epoch - 449ms/step\n",
      "Epoch 22/50\n",
      "20/20 - 17s - loss: 0.0013 - val_loss: 0.0041 - 17s/epoch - 849ms/step\n",
      "Epoch 23/50\n",
      "20/20 - 8s - loss: 0.0013 - val_loss: 0.0046 - 8s/epoch - 391ms/step\n",
      "Epoch 24/50\n",
      "20/20 - 8s - loss: 0.0013 - val_loss: 0.0053 - 8s/epoch - 416ms/step\n",
      "Epoch 25/50\n",
      "20/20 - 7s - loss: 0.0015 - val_loss: 0.0039 - 7s/epoch - 374ms/step\n",
      "Epoch 26/50\n",
      "20/20 - 8s - loss: 0.0013 - val_loss: 0.0037 - 8s/epoch - 390ms/step\n",
      "Epoch 27/50\n",
      "20/20 - 15s - loss: 0.0014 - val_loss: 0.0036 - 15s/epoch - 755ms/step\n",
      "Epoch 28/50\n",
      "20/20 - 9s - loss: 0.0016 - val_loss: 0.0038 - 9s/epoch - 426ms/step\n",
      "Epoch 29/50\n",
      "20/20 - 8s - loss: 0.0012 - val_loss: 0.0035 - 8s/epoch - 414ms/step\n",
      "Epoch 30/50\n",
      "20/20 - 10s - loss: 0.0012 - val_loss: 0.0047 - 10s/epoch - 492ms/step\n",
      "Epoch 31/50\n",
      "20/20 - 15s - loss: 0.0012 - val_loss: 0.0047 - 15s/epoch - 758ms/step\n",
      "Epoch 32/50\n",
      "20/20 - 20s - loss: 0.0012 - val_loss: 0.0033 - 20s/epoch - 994ms/step\n",
      "Epoch 33/50\n",
      "20/20 - 9s - loss: 0.0011 - val_loss: 0.0032 - 9s/epoch - 462ms/step\n",
      "Epoch 34/50\n",
      "20/20 - 11s - loss: 0.0012 - val_loss: 0.0030 - 11s/epoch - 537ms/step\n",
      "Epoch 35/50\n",
      "20/20 - 14s - loss: 0.0011 - val_loss: 0.0043 - 14s/epoch - 687ms/step\n",
      "Epoch 36/50\n",
      "20/20 - 13s - loss: 0.0011 - val_loss: 0.0031 - 13s/epoch - 629ms/step\n",
      "Epoch 37/50\n",
      "20/20 - 10s - loss: 0.0011 - val_loss: 0.0029 - 10s/epoch - 518ms/step\n",
      "Epoch 38/50\n",
      "20/20 - 10s - loss: 0.0012 - val_loss: 0.0029 - 10s/epoch - 499ms/step\n",
      "Epoch 39/50\n",
      "20/20 - 10s - loss: 0.0013 - val_loss: 0.0028 - 10s/epoch - 484ms/step\n",
      "Epoch 40/50\n",
      "20/20 - 13s - loss: 9.8953e-04 - val_loss: 0.0035 - 13s/epoch - 634ms/step\n",
      "Epoch 41/50\n",
      "20/20 - 10s - loss: 0.0011 - val_loss: 0.0081 - 10s/epoch - 510ms/step\n",
      "Epoch 42/50\n",
      "20/20 - 9s - loss: 0.0010 - val_loss: 0.0031 - 9s/epoch - 468ms/step\n",
      "Epoch 43/50\n",
      "20/20 - 10s - loss: 9.5155e-04 - val_loss: 0.0032 - 10s/epoch - 478ms/step\n",
      "Epoch 44/50\n",
      "20/20 - 11s - loss: 0.0010 - val_loss: 0.0030 - 11s/epoch - 555ms/step\n",
      "Epoch 45/50\n",
      "20/20 - 10s - loss: 8.5983e-04 - val_loss: 0.0028 - 10s/epoch - 499ms/step\n",
      "Epoch 46/50\n",
      "20/20 - 8s - loss: 8.5088e-04 - val_loss: 0.0049 - 8s/epoch - 411ms/step\n",
      "Epoch 47/50\n",
      "20/20 - 7s - loss: 0.0011 - val_loss: 0.0027 - 7s/epoch - 346ms/step\n",
      "Epoch 48/50\n",
      "20/20 - 9s - loss: 8.7180e-04 - val_loss: 0.0029 - 9s/epoch - 464ms/step\n",
      "Epoch 49/50\n",
      "20/20 - 6s - loss: 7.8933e-04 - val_loss: 0.0030 - 6s/epoch - 280ms/step\n",
      "Epoch 50/50\n",
      "20/20 - 8s - loss: 8.0374e-04 - val_loss: 0.0037 - 8s/epoch - 380ms/step\n"
     ]
    }
   ],
   "source": [
    "history = model.fit(X_train, y_train, validation_data=(X_val, y_val), epochs=50, batch_size=32, verbose=2)"
   ]
  },
  {
   "attachments": {},
   "cell_type": "markdown",
   "metadata": {},
   "source": [
    "## Predict Close price in test and validation set"
   ]
  },
  {
   "cell_type": "code",
   "execution_count": 12,
   "metadata": {},
   "outputs": [
    {
     "name": "stdout",
     "output_type": "stream",
     "text": [
      "8/8 [==============================] - 7s 60ms/step\n",
      "7/7 [==============================] - 0s 61ms/step\n"
     ]
    }
   ],
   "source": [
    "y_pred = model.predict(X_test)\n",
    "y_pred_val = model.predict(X_val)"
   ]
  },
  {
   "attachments": {},
   "cell_type": "markdown",
   "metadata": {},
   "source": [
    "## Transform data back to the original"
   ]
  },
  {
   "cell_type": "code",
   "execution_count": 13,
   "metadata": {},
   "outputs": [],
   "source": [
    "y_pred = scaler.inverse_transform(y_pred)\n",
    "y_val = scaler.inverse_transform(y_val.reshape(-1, 1))\n",
    "y_pred_val = scaler.inverse_transform(y_pred_val)\n",
    "train_data = scaler.inverse_transform(train_data)\n",
    "test_data = scaler.inverse_transform(test_data)\n",
    "val_data = scaler.inverse_transform(val_data)"
   ]
  },
  {
   "attachments": {},
   "cell_type": "markdown",
   "metadata": {},
   "source": [
    "## Calculate the error of the model"
   ]
  },
  {
   "cell_type": "code",
   "execution_count": 14,
   "metadata": {},
   "outputs": [
    {
     "name": "stdout",
     "output_type": "stream",
     "text": [
      "MAPE on Test set:  0.992300762805169\n",
      "RMSE on Test set:  75.53717310174824\n",
      "MSLE on Test set:  15.01599915425157\n"
     ]
    }
   ],
   "source": [
    "# The error in test set\n",
    "test_mape = mean_absolute_percentage_error(y_pred, y_test)\n",
    "test_mse = mean_squared_error(y_test, y_pred)\n",
    "test_rmse = np.sqrt(test_mse)\n",
    "test_msle = mean_squared_log_error(y_test, y_pred)\n",
    "\n",
    "print(f\"MAPE on Test set: \", test_mape)\n",
    "print(f\"RMSE on Test set: \", test_rmse)\n",
    "print(f\"MSLE on Test set: \", test_msle)"
   ]
  },
  {
   "cell_type": "code",
   "execution_count": 18,
   "metadata": {},
   "outputs": [
    {
     "name": "stdout",
     "output_type": "stream",
     "text": [
      "MAPE on Validate set:  0.05276540669400064\n",
      "RMSE on Validate set:  5.4639346207251664\n",
      "MSLE on Validate set:  0.003950334325612557\n"
     ]
    }
   ],
   "source": [
    "# The error in validation set\n",
    "val_mape = mean_absolute_percentage_error(y_pred_val, y_val)\n",
    "val_mse = mean_squared_error(y_val, y_pred_val)\n",
    "val_rmse = np.sqrt(val_mse)\n",
    "val_msle = mean_squared_log_error(y_val, y_pred_val)\n",
    "\n",
    "print(f\"MAPE on Validate set: \", val_mape)\n",
    "print(f\"RMSE on Validate set: \", val_rmse)\n",
    "print(f\"MSLE on Validate set: \", val_msle)"
   ]
  },
  {
   "attachments": {},
   "cell_type": "markdown",
   "metadata": {},
   "source": [
    "## Predict Close price for 30 next days"
   ]
  },
  {
   "cell_type": "code",
   "execution_count": 15,
   "metadata": {},
   "outputs": [
    {
     "name": "stdout",
     "output_type": "stream",
     "text": [
      "1/1 [==============================] - 3s 3s/step\n",
      "1/1 [==============================] - 0s 65ms/step\n",
      "1/1 [==============================] - 0s 34ms/step\n",
      "1/1 [==============================] - 0s 31ms/step\n",
      "1/1 [==============================] - 0s 36ms/step\n",
      "1/1 [==============================] - 0s 34ms/step\n",
      "1/1 [==============================] - 0s 32ms/step\n",
      "1/1 [==============================] - 0s 31ms/step\n",
      "1/1 [==============================] - 0s 55ms/step\n",
      "1/1 [==============================] - 0s 38ms/step\n",
      "1/1 [==============================] - 0s 31ms/step\n",
      "1/1 [==============================] - 0s 30ms/step\n",
      "1/1 [==============================] - 0s 34ms/step\n",
      "1/1 [==============================] - 0s 228ms/step\n",
      "1/1 [==============================] - 0s 66ms/step\n",
      "1/1 [==============================] - 0s 36ms/step\n",
      "1/1 [==============================] - 0s 38ms/step\n",
      "1/1 [==============================] - 0s 52ms/step\n",
      "1/1 [==============================] - 0s 47ms/step\n",
      "1/1 [==============================] - 0s 35ms/step\n",
      "1/1 [==============================] - 0s 43ms/step\n",
      "1/1 [==============================] - 0s 57ms/step\n",
      "1/1 [==============================] - 0s 36ms/step\n",
      "1/1 [==============================] - 0s 31ms/step\n",
      "1/1 [==============================] - 0s 30ms/step\n",
      "1/1 [==============================] - 0s 46ms/step\n",
      "1/1 [==============================] - 0s 47ms/step\n",
      "1/1 [==============================] - 0s 34ms/step\n",
      "1/1 [==============================] - 0s 38ms/step\n",
      "1/1 [==============================] - 0s 35ms/step\n"
     ]
    }
   ],
   "source": [
    "# Select the last day of current index\n",
    "last_date = df.index[-1]\n",
    "\n",
    "# Add a new day after the last day\n",
    "next_date = last_date + pd.DateOffset(days=1)\n",
    "\n",
    "# Generate a list of index only starting from the next day in 30 days\n",
    "index_next_30_days = pd.date_range(start=next_date, periods=30).tolist()\n",
    "\n",
    "# Predict Close price for 30 next days\n",
    "last_sequence_days = data_scaled[-sequence_length:].reshape(1, -1, 1)\n",
    "\n",
    "y_next_30_days = []\n",
    "\n",
    "for i in range(30):\n",
    "    # Predict Close price for next day\n",
    "    next_day_pred = model.predict(last_sequence_days)\n",
    "    \n",
    "    # Save the predict value\n",
    "    y_next_30_days.append(next_day_pred[0][0])\n",
    "    \n",
    "    # Update information of the  next day\n",
    "    last_sequence_days = np.concatenate([last_sequence_days[:, 1:, :], next_day_pred.reshape(1, 1, 1)], axis=1)"
   ]
  },
  {
   "cell_type": "code",
   "execution_count": 16,
   "metadata": {},
   "outputs": [
    {
     "name": "stdout",
     "output_type": "stream",
     "text": [
      "[55.760838 56.717865 57.38245  57.688927 57.673214 57.420578 57.023026\n",
      " 56.555042 56.065807 55.581913 55.11441  54.66624  54.23754  53.828606\n",
      " 53.440742 53.076015 52.73645  52.423294 52.1366   51.875145 51.6365\n",
      " 51.41739  51.213993 51.02229  50.838314 50.658333 50.47904  50.297565\n",
      " 50.11161  49.919407]\n"
     ]
    }
   ],
   "source": [
    "# Show the result of predict 30 next days \n",
    "y_next_30_days = scaler.inverse_transform(np.array(y_next_30_days).reshape(-1, 1))\n",
    "print(y_next_30_days.flatten())"
   ]
  },
  {
   "attachments": {},
   "cell_type": "markdown",
   "metadata": {},
   "source": [
    "## Model visualization"
   ]
  },
  {
   "cell_type": "code",
   "execution_count": 17,
   "metadata": {},
   "outputs": [
    {
     "data": {
      "image/png": "[encoded data removed]",
      "text/plain": [
       "<Figure size 1200x500 with 1 Axes>"
      ]
     },
     "metadata": {},
     "output_type": "display_data"
    }
   ],
   "source": [
    "plt.figure(figsize=(12, 5))\n",
    "\n",
    "# Train set\n",
    "plt.plot(df[:train_size].index, train_data)\n",
    "\n",
    "# Validation set\n",
    "plt.plot(df[train_size : train_size + val_size].index, val_data)\n",
    "\n",
    "# Predict in validation set\n",
    "plt.plot(df[train_size : train_size + val_size].index, y_pred_val)\n",
    "\n",
    "# Test set\n",
    "plt.plot(df[train_size + val_size: ].index, test_data)\n",
    "\n",
    "# Predict in test set\n",
    "plt.plot(df[train_size + val_size:].index, y_pred)\n",
    "\n",
    "# Predict 30 next days\n",
    "plt.plot(index_next_30_days, y_next_30_days)\n",
    "\n",
    "plt.legend(['Train', 'Validate', 'Predict Validation', 'Test', 'Predict Test', 'Predict30days'])\n",
    "plt.grid()\n",
    "plt.title(\"NTR Closing Price Data With Ratio 6_2_2\")\n",
    "plt.xlabel(\"Date\")\n",
    "plt.ylabel(\"Close value\")\n",
    "plt.savefig('RNN_622_NTR.png')\n",
    "plt.show()"
   ]
  }
 ],
 "metadata": {
  "kernelspec": {
   "display_name": "user_env",
   "language": "python",
   "name": "python3"
  },
  "language_info": {
   "codemirror_mode": {
    "name": "ipython",
    "version": 3
   },
   "file_extension": ".py",
   "mimetype": "text/x-python",
   "name": "python",
   "nbconvert_exporter": "python",
   "pygments_lexer": "ipython3",
   "version": "3.9.16"
  },
  "orig_nbformat": 4
 },
 "nbformat": 4,
 "nbformat_minor": 2
}
