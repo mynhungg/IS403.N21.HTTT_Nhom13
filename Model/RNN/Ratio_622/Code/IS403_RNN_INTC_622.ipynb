{
 "cells": [
  {
   "attachments": {},
   "cell_type": "markdown",
   "metadata": {},
   "source": [
    "<h2>Import thư viện"
   ]
  },
  {
   "cell_type": "code",
   "execution_count": 1,
   "metadata": {},
   "outputs": [],
   "source": [
    "# Thư viện đọc file và chuyển kiểu\n",
    "import pandas as pd\n",
    "import numpy as np\n",
    "\n",
    "# Đổi kiểu dữ liệu datetime\n",
    "import datetime as dt\n",
    "\n",
    "# Import các thư viện train\n",
    "from tensorflow.keras.models import Sequential\n",
    "from tensorflow.keras.layers import Dense, Dropout, LSTM\n",
    "from keras.models import load_model\n",
    "from keras.callbacks import ModelCheckpoint\n",
    "from keras.regularizers import l2\n",
    "\n",
    "# Import sklearn để tính toán các giá trị cũng như scaled dataset\n",
    "from sklearn.metrics import mean_absolute_error, mean_squared_error, mean_absolute_percentage_error, mean_squared_log_error\n",
    "from sklearn.preprocessing import MinMaxScaler\n",
    "\n",
    "# Thư viện trực quan hóa dữ liệu\n",
    "import matplotlib.pyplot as plt\n",
    "%matplotlib inline"
   ]
  },
  {
   "attachments": {},
   "cell_type": "markdown",
   "metadata": {},
   "source": [
    "<h2>Đọc dữ liệu"
   ]
  },
  {
   "cell_type": "code",
   "execution_count": 2,
   "metadata": {},
   "outputs": [
    {
     "data": {
      "text/html": [
       "<div>\n",
       "<style scoped>\n",
       "    .dataframe tbody tr th:only-of-type {\n",
       "        vertical-align: middle;\n",
       "    }\n",
       "\n",
       "    .dataframe tbody tr th {\n",
       "        vertical-align: top;\n",
       "    }\n",
       "\n",
       "    .dataframe thead th {\n",
       "        text-align: right;\n",
       "    }\n",
       "</style>\n",
       "<table border=\"1\" class=\"dataframe\">\n",
       "  <thead>\n",
       "    <tr style=\"text-align: right;\">\n",
       "      <th></th>\n",
       "      <th>Date</th>\n",
       "      <th>Open</th>\n",
       "      <th>High</th>\n",
       "      <th>Low</th>\n",
       "      <th>Close</th>\n",
       "      <th>Adj Close</th>\n",
       "      <th>Volume</th>\n",
       "    </tr>\n",
       "  </thead>\n",
       "  <tbody>\n",
       "    <tr>\n",
       "      <th>0</th>\n",
       "      <td>2019-01-02</td>\n",
       "      <td>45.959999</td>\n",
       "      <td>47.470001</td>\n",
       "      <td>45.770000</td>\n",
       "      <td>47.080002</td>\n",
       "      <td>41.343922</td>\n",
       "      <td>18774600</td>\n",
       "    </tr>\n",
       "    <tr>\n",
       "      <th>1</th>\n",
       "      <td>2019-01-03</td>\n",
       "      <td>46.150002</td>\n",
       "      <td>46.279999</td>\n",
       "      <td>44.389999</td>\n",
       "      <td>44.490002</td>\n",
       "      <td>39.069489</td>\n",
       "      <td>32267300</td>\n",
       "    </tr>\n",
       "    <tr>\n",
       "      <th>2</th>\n",
       "      <td>2019-01-04</td>\n",
       "      <td>45.840000</td>\n",
       "      <td>47.570000</td>\n",
       "      <td>45.540001</td>\n",
       "      <td>47.220001</td>\n",
       "      <td>41.466866</td>\n",
       "      <td>35447300</td>\n",
       "    </tr>\n",
       "    <tr>\n",
       "      <th>3</th>\n",
       "      <td>2019-01-07</td>\n",
       "      <td>47.099998</td>\n",
       "      <td>48.000000</td>\n",
       "      <td>46.750000</td>\n",
       "      <td>47.439999</td>\n",
       "      <td>41.660061</td>\n",
       "      <td>22736800</td>\n",
       "    </tr>\n",
       "    <tr>\n",
       "      <th>4</th>\n",
       "      <td>2019-01-08</td>\n",
       "      <td>47.799999</td>\n",
       "      <td>48.029999</td>\n",
       "      <td>46.779999</td>\n",
       "      <td>47.740002</td>\n",
       "      <td>41.923508</td>\n",
       "      <td>22749200</td>\n",
       "    </tr>\n",
       "    <tr>\n",
       "      <th>5</th>\n",
       "      <td>2019-01-09</td>\n",
       "      <td>47.959999</td>\n",
       "      <td>48.570000</td>\n",
       "      <td>47.779999</td>\n",
       "      <td>48.009998</td>\n",
       "      <td>42.160610</td>\n",
       "      <td>22554500</td>\n",
       "    </tr>\n",
       "    <tr>\n",
       "      <th>6</th>\n",
       "      <td>2019-01-10</td>\n",
       "      <td>47.750000</td>\n",
       "      <td>48.650002</td>\n",
       "      <td>47.410000</td>\n",
       "      <td>48.560001</td>\n",
       "      <td>42.643612</td>\n",
       "      <td>27202600</td>\n",
       "    </tr>\n",
       "    <tr>\n",
       "      <th>7</th>\n",
       "      <td>2019-01-11</td>\n",
       "      <td>48.099998</td>\n",
       "      <td>49.290001</td>\n",
       "      <td>48.049999</td>\n",
       "      <td>48.930000</td>\n",
       "      <td>42.968529</td>\n",
       "      <td>21751300</td>\n",
       "    </tr>\n",
       "    <tr>\n",
       "      <th>8</th>\n",
       "      <td>2019-01-14</td>\n",
       "      <td>48.459999</td>\n",
       "      <td>48.830002</td>\n",
       "      <td>48.299999</td>\n",
       "      <td>48.349998</td>\n",
       "      <td>42.459183</td>\n",
       "      <td>19193900</td>\n",
       "    </tr>\n",
       "    <tr>\n",
       "      <th>9</th>\n",
       "      <td>2019-01-15</td>\n",
       "      <td>48.709999</td>\n",
       "      <td>49.130001</td>\n",
       "      <td>48.439999</td>\n",
       "      <td>48.599998</td>\n",
       "      <td>42.678730</td>\n",
       "      <td>22480800</td>\n",
       "    </tr>\n",
       "  </tbody>\n",
       "</table>\n",
       "</div>"
      ],
      "text/plain": [
       "         Date       Open       High        Low      Close  Adj Close    Volume\n",
       "0  2019-01-02  45.959999  47.470001  45.770000  47.080002  41.343922  18774600\n",
       "1  2019-01-03  46.150002  46.279999  44.389999  44.490002  39.069489  32267300\n",
       "2  2019-01-04  45.840000  47.570000  45.540001  47.220001  41.466866  35447300\n",
       "3  2019-01-07  47.099998  48.000000  46.750000  47.439999  41.660061  22736800\n",
       "4  2019-01-08  47.799999  48.029999  46.779999  47.740002  41.923508  22749200\n",
       "5  2019-01-09  47.959999  48.570000  47.779999  48.009998  42.160610  22554500\n",
       "6  2019-01-10  47.750000  48.650002  47.410000  48.560001  42.643612  27202600\n",
       "7  2019-01-11  48.099998  49.290001  48.049999  48.930000  42.968529  21751300\n",
       "8  2019-01-14  48.459999  48.830002  48.299999  48.349998  42.459183  19193900\n",
       "9  2019-01-15  48.709999  49.130001  48.439999  48.599998  42.678730  22480800"
      ]
     },
     "execution_count": 2,
     "metadata": {},
     "output_type": "execute_result"
    }
   ],
   "source": [
    "# Đọc dữ liệu từ file csv\n",
    "df = pd.read_csv('./dataset/INTC.csv')\n",
    "df.head(10)"
   ]
  },
  {
   "cell_type": "code",
   "execution_count": 3,
   "metadata": {},
   "outputs": [],
   "source": [
    "# Chuyển đổi cột thuộc tính 'Date' về dạng DateTime\n",
    "df['Date'] = pd.to_datetime(df['Date'])\n",
    "\n",
    "# Chọn thuộc tính 'Date' làm Index\n",
    "df.set_index('Date', inplace=True)"
   ]
  },
  {
   "cell_type": "code",
   "execution_count": 4,
   "metadata": {},
   "outputs": [
    {
     "data": {
      "text/html": [
       "<div>\n",
       "<style scoped>\n",
       "    .dataframe tbody tr th:only-of-type {\n",
       "        vertical-align: middle;\n",
       "    }\n",
       "\n",
       "    .dataframe tbody tr th {\n",
       "        vertical-align: top;\n",
       "    }\n",
       "\n",
       "    .dataframe thead th {\n",
       "        text-align: right;\n",
       "    }\n",
       "</style>\n",
       "<table border=\"1\" class=\"dataframe\">\n",
       "  <thead>\n",
       "    <tr style=\"text-align: right;\">\n",
       "      <th></th>\n",
       "      <th>Open</th>\n",
       "      <th>High</th>\n",
       "      <th>Low</th>\n",
       "      <th>Close</th>\n",
       "      <th>Adj Close</th>\n",
       "      <th>Volume</th>\n",
       "    </tr>\n",
       "    <tr>\n",
       "      <th>Date</th>\n",
       "      <th></th>\n",
       "      <th></th>\n",
       "      <th></th>\n",
       "      <th></th>\n",
       "      <th></th>\n",
       "      <th></th>\n",
       "    </tr>\n",
       "  </thead>\n",
       "  <tbody>\n",
       "    <tr>\n",
       "      <th>2019-01-02</th>\n",
       "      <td>45.959999</td>\n",
       "      <td>47.470001</td>\n",
       "      <td>45.770000</td>\n",
       "      <td>47.080002</td>\n",
       "      <td>41.343922</td>\n",
       "      <td>18774600</td>\n",
       "    </tr>\n",
       "    <tr>\n",
       "      <th>2019-01-03</th>\n",
       "      <td>46.150002</td>\n",
       "      <td>46.279999</td>\n",
       "      <td>44.389999</td>\n",
       "      <td>44.490002</td>\n",
       "      <td>39.069489</td>\n",
       "      <td>32267300</td>\n",
       "    </tr>\n",
       "    <tr>\n",
       "      <th>2019-01-04</th>\n",
       "      <td>45.840000</td>\n",
       "      <td>47.570000</td>\n",
       "      <td>45.540001</td>\n",
       "      <td>47.220001</td>\n",
       "      <td>41.466866</td>\n",
       "      <td>35447300</td>\n",
       "    </tr>\n",
       "    <tr>\n",
       "      <th>2019-01-07</th>\n",
       "      <td>47.099998</td>\n",
       "      <td>48.000000</td>\n",
       "      <td>46.750000</td>\n",
       "      <td>47.439999</td>\n",
       "      <td>41.660061</td>\n",
       "      <td>22736800</td>\n",
       "    </tr>\n",
       "    <tr>\n",
       "      <th>2019-01-08</th>\n",
       "      <td>47.799999</td>\n",
       "      <td>48.029999</td>\n",
       "      <td>46.779999</td>\n",
       "      <td>47.740002</td>\n",
       "      <td>41.923508</td>\n",
       "      <td>22749200</td>\n",
       "    </tr>\n",
       "    <tr>\n",
       "      <th>...</th>\n",
       "      <td>...</td>\n",
       "      <td>...</td>\n",
       "      <td>...</td>\n",
       "      <td>...</td>\n",
       "      <td>...</td>\n",
       "      <td>...</td>\n",
       "    </tr>\n",
       "    <tr>\n",
       "      <th>2023-05-26</th>\n",
       "      <td>27.440001</td>\n",
       "      <td>29.090000</td>\n",
       "      <td>27.100000</td>\n",
       "      <td>29.000000</td>\n",
       "      <td>29.000000</td>\n",
       "      <td>71910600</td>\n",
       "    </tr>\n",
       "    <tr>\n",
       "      <th>2023-05-30</th>\n",
       "      <td>29.700001</td>\n",
       "      <td>30.040001</td>\n",
       "      <td>29.000000</td>\n",
       "      <td>29.990000</td>\n",
       "      <td>29.990000</td>\n",
       "      <td>54874800</td>\n",
       "    </tr>\n",
       "    <tr>\n",
       "      <th>2023-05-31</th>\n",
       "      <td>29.700001</td>\n",
       "      <td>32.290001</td>\n",
       "      <td>29.670000</td>\n",
       "      <td>31.440001</td>\n",
       "      <td>31.440001</td>\n",
       "      <td>136243800</td>\n",
       "    </tr>\n",
       "    <tr>\n",
       "      <th>2023-06-01</th>\n",
       "      <td>31.799999</td>\n",
       "      <td>31.940001</td>\n",
       "      <td>31.020000</td>\n",
       "      <td>31.129999</td>\n",
       "      <td>31.129999</td>\n",
       "      <td>52667400</td>\n",
       "    </tr>\n",
       "    <tr>\n",
       "      <th>2023-06-02</th>\n",
       "      <td>31.400000</td>\n",
       "      <td>31.590000</td>\n",
       "      <td>30.830000</td>\n",
       "      <td>31.309999</td>\n",
       "      <td>31.309999</td>\n",
       "      <td>36496200</td>\n",
       "    </tr>\n",
       "  </tbody>\n",
       "</table>\n",
       "<p>1113 rows × 6 columns</p>\n",
       "</div>"
      ],
      "text/plain": [
       "                 Open       High        Low      Close  Adj Close     Volume\n",
       "Date                                                                        \n",
       "2019-01-02  45.959999  47.470001  45.770000  47.080002  41.343922   18774600\n",
       "2019-01-03  46.150002  46.279999  44.389999  44.490002  39.069489   32267300\n",
       "2019-01-04  45.840000  47.570000  45.540001  47.220001  41.466866   35447300\n",
       "2019-01-07  47.099998  48.000000  46.750000  47.439999  41.660061   22736800\n",
       "2019-01-08  47.799999  48.029999  46.779999  47.740002  41.923508   22749200\n",
       "...               ...        ...        ...        ...        ...        ...\n",
       "2023-05-26  27.440001  29.090000  27.100000  29.000000  29.000000   71910600\n",
       "2023-05-30  29.700001  30.040001  29.000000  29.990000  29.990000   54874800\n",
       "2023-05-31  29.700001  32.290001  29.670000  31.440001  31.440001  136243800\n",
       "2023-06-01  31.799999  31.940001  31.020000  31.129999  31.129999   52667400\n",
       "2023-06-02  31.400000  31.590000  30.830000  31.309999  31.309999   36496200\n",
       "\n",
       "[1113 rows x 6 columns]"
      ]
     },
     "execution_count": 4,
     "metadata": {},
     "output_type": "execute_result"
    }
   ],
   "source": [
    "# Xem các dòng dữ liệu vừa được thêm vào\n",
    "df"
   ]
  },
  {
   "attachments": {},
   "cell_type": "markdown",
   "metadata": {},
   "source": [
    "<h2> Mô tả tập dữ liệu"
   ]
  },
  {
   "cell_type": "code",
   "execution_count": 5,
   "metadata": {},
   "outputs": [
    {
     "data": {
      "text/html": [
       "<div>\n",
       "<style scoped>\n",
       "    .dataframe tbody tr th:only-of-type {\n",
       "        vertical-align: middle;\n",
       "    }\n",
       "\n",
       "    .dataframe tbody tr th {\n",
       "        vertical-align: top;\n",
       "    }\n",
       "\n",
       "    .dataframe thead th {\n",
       "        text-align: right;\n",
       "    }\n",
       "</style>\n",
       "<table border=\"1\" class=\"dataframe\">\n",
       "  <thead>\n",
       "    <tr style=\"text-align: right;\">\n",
       "      <th></th>\n",
       "      <th>Open</th>\n",
       "      <th>High</th>\n",
       "      <th>Low</th>\n",
       "      <th>Close</th>\n",
       "      <th>Adj Close</th>\n",
       "      <th>Volume</th>\n",
       "    </tr>\n",
       "  </thead>\n",
       "  <tbody>\n",
       "    <tr>\n",
       "      <th>count</th>\n",
       "      <td>1113.000000</td>\n",
       "      <td>1113.000000</td>\n",
       "      <td>1113.000000</td>\n",
       "      <td>1113.000000</td>\n",
       "      <td>1113.000000</td>\n",
       "      <td>1.113000e+03</td>\n",
       "    </tr>\n",
       "    <tr>\n",
       "      <th>mean</th>\n",
       "      <td>48.209937</td>\n",
       "      <td>48.817691</td>\n",
       "      <td>47.618068</td>\n",
       "      <td>48.219308</td>\n",
       "      <td>44.644661</td>\n",
       "      <td>3.167721e+07</td>\n",
       "    </tr>\n",
       "    <tr>\n",
       "      <th>std</th>\n",
       "      <td>10.821657</td>\n",
       "      <td>10.914132</td>\n",
       "      <td>10.725243</td>\n",
       "      <td>10.823570</td>\n",
       "      <td>9.228208</td>\n",
       "      <td>1.654258e+07</td>\n",
       "    </tr>\n",
       "    <tr>\n",
       "      <th>min</th>\n",
       "      <td>24.730000</td>\n",
       "      <td>25.120001</td>\n",
       "      <td>24.590000</td>\n",
       "      <td>24.900000</td>\n",
       "      <td>24.309349</td>\n",
       "      <td>6.313200e+06</td>\n",
       "    </tr>\n",
       "    <tr>\n",
       "      <th>25%</th>\n",
       "      <td>44.299999</td>\n",
       "      <td>44.900002</td>\n",
       "      <td>43.770000</td>\n",
       "      <td>44.419998</td>\n",
       "      <td>40.716064</td>\n",
       "      <td>2.077590e+07</td>\n",
       "    </tr>\n",
       "    <tr>\n",
       "      <th>50%</th>\n",
       "      <td>50.250000</td>\n",
       "      <td>51.000000</td>\n",
       "      <td>49.730000</td>\n",
       "      <td>50.369999</td>\n",
       "      <td>46.146706</td>\n",
       "      <td>2.832090e+07</td>\n",
       "    </tr>\n",
       "    <tr>\n",
       "      <th>75%</th>\n",
       "      <td>56.130001</td>\n",
       "      <td>56.560001</td>\n",
       "      <td>55.570000</td>\n",
       "      <td>56.000000</td>\n",
       "      <td>51.681534</td>\n",
       "      <td>3.740790e+07</td>\n",
       "    </tr>\n",
       "    <tr>\n",
       "      <th>max</th>\n",
       "      <td>68.199997</td>\n",
       "      <td>69.290001</td>\n",
       "      <td>67.309998</td>\n",
       "      <td>68.470001</td>\n",
       "      <td>63.348766</td>\n",
       "      <td>1.822699e+08</td>\n",
       "    </tr>\n",
       "  </tbody>\n",
       "</table>\n",
       "</div>"
      ],
      "text/plain": [
       "              Open         High          Low        Close    Adj Close  \\\n",
       "count  1113.000000  1113.000000  1113.000000  1113.000000  1113.000000   \n",
       "mean     48.209937    48.817691    47.618068    48.219308    44.644661   \n",
       "std      10.821657    10.914132    10.725243    10.823570     9.228208   \n",
       "min      24.730000    25.120001    24.590000    24.900000    24.309349   \n",
       "25%      44.299999    44.900002    43.770000    44.419998    40.716064   \n",
       "50%      50.250000    51.000000    49.730000    50.369999    46.146706   \n",
       "75%      56.130001    56.560001    55.570000    56.000000    51.681534   \n",
       "max      68.199997    69.290001    67.309998    68.470001    63.348766   \n",
       "\n",
       "             Volume  \n",
       "count  1.113000e+03  \n",
       "mean   3.167721e+07  \n",
       "std    1.654258e+07  \n",
       "min    6.313200e+06  \n",
       "25%    2.077590e+07  \n",
       "50%    2.832090e+07  \n",
       "75%    3.740790e+07  \n",
       "max    1.822699e+08  "
      ]
     },
     "execution_count": 5,
     "metadata": {},
     "output_type": "execute_result"
    }
   ],
   "source": [
    "# Các độ đo về các thuộc tính của tập dữ liệu\n",
    "df.describe()"
   ]
  },
  {
   "cell_type": "code",
   "execution_count": 6,
   "metadata": {},
   "outputs": [
    {
     "data": {
      "image/png": "[encoded data removed]",
      "text/plain": [
       "<Figure size 640x480 with 1 Axes>"
      ]
     },
     "metadata": {},
     "output_type": "display_data"
    }
   ],
   "source": [
    "# Vẽ biểu đồ Histogram\n",
    "plt.hist(df['Close'])\n",
    "\n",
    "# Thiết lập label và title\n",
    "plt.xlabel('Close value')\n",
    "plt.ylabel('Frequency')\n",
    "plt.title('Histogram of Close Value')\n",
    "\n",
    "# Hiển thị biểu đồ histogram\n",
    "plt.show()"
   ]
  },
  {
   "cell_type": "code",
   "execution_count": 7,
   "metadata": {},
   "outputs": [
    {
     "data": {
      "image/png": "[encoded data removed]",
      "text/plain": [
       "<Figure size 640x480 with 1 Axes>"
      ]
     },
     "metadata": {},
     "output_type": "display_data"
    }
   ],
   "source": [
    "# Vẽ biểu đồ boxplot\n",
    "plt.boxplot(df.Close)\n",
    "\n",
    "# Thiết lập label và title\n",
    "plt.title(\"Boxplot of Close Value\")\n",
    "plt.ylabel(\"Close value\")\n",
    "\n",
    "# Hiển thị biểu đồ box plot\n",
    "plt.show()"
   ]
  },
  {
   "attachments": {},
   "cell_type": "markdown",
   "metadata": {},
   "source": [
    "<h2> Scale dữ liệu và phân chia các tập dữ liệu train, validation và test"
   ]
  },
  {
   "cell_type": "code",
   "execution_count": 8,
   "metadata": {},
   "outputs": [],
   "source": [
    "#Lấy cột thuộc tính 'Close'\n",
    "data = df['Close'].values"
   ]
  },
  {
   "cell_type": "code",
   "execution_count": 9,
   "metadata": {},
   "outputs": [],
   "source": [
    "# Scale dữ liệu\n",
    "scaler = MinMaxScaler()\n",
    "data_scaled = scaler.fit_transform(data.reshape(-1, 1))"
   ]
  },
  {
   "cell_type": "code",
   "execution_count": 10,
   "metadata": {},
   "outputs": [],
   "source": [
    "# Chia dữ liệu thành tập train, validation và test theo tỉ lệ 6:2:2\n",
    "train_size = int(len(data_scaled) * 0.6)\n",
    "val_size = int(len(data_scaled) * 0.2)\n",
    "test_size = len(data_scaled) - train_size - val_size\n",
    "\n",
    "train_data = data_scaled[0 : train_size, :]\n",
    "val_data = data_scaled[train_size : train_size + val_size, :]\n",
    "test_data = data_scaled[train_size + val_size : len(data_scaled), :]"
   ]
  },
  {
   "cell_type": "code",
   "execution_count": 11,
   "metadata": {},
   "outputs": [],
   "source": [
    "sequence_length = 30 #sử dụng 30 ngày trước đó để dự đoán ngày tiếp theo \n",
    "\n",
    "def add_data(data, sequence_length):\n",
    "    X, Y = [], []\n",
    "    for i in range(len(data) - sequence_length - 1):\n",
    "        X.append(data[i : (i + sequence_length), :])\n",
    "        Y.append(data[i + sequence_length, 0])\n",
    "    return np.array(X), np.array(Y)\n",
    "\n",
    "# Thêm dữ liệu cho tập train, validation và test\n",
    "X_train, y_train = add_data(train_data, sequence_length)\n",
    "X_test, y_test = add_data(test_data, sequence_length)\n",
    "X_val, y_val = add_data(val_data, sequence_length)"
   ]
  },
  {
   "attachments": {},
   "cell_type": "markdown",
   "metadata": {},
   "source": [
    "<h2>Xây dựng mô hình\n"
   ]
  },
  {
   "cell_type": "code",
   "execution_count": 12,
   "metadata": {},
   "outputs": [],
   "source": [
    "model = Sequential() #Đóng gói trình tự của các layer bên trong\n",
    "\n",
    "#4 lớp LSTM\n",
    "#Dropout: tránh việc nhớ quá nhiều thông tin => vô hiệu hóa một phần dữ liệu trước đó\n",
    "model.add(LSTM(units = 50,return_sequences=True,input_shape=(X_train.shape[1],1)))\n",
    "model.add(Dropout(0.2))\n",
    "model.add(LSTM(units = 50,return_sequences=True))\n",
    "model.add(Dropout(0.2))\n",
    "model.add(LSTM(units = 50,return_sequences=True))\n",
    "model.add(Dropout(0.2))\n",
    "model.add(LSTM(units=50))\n",
    "model.add(Dropout(0.2))\n",
    "\n",
    "#1 lớp Dense (dày đặc)\n",
    "model.add(Dense(units=1)) #1: 1 đơn vị cung cấp giá trị dự đoán\n",
    "\n",
    "#Tối ưu hóa mô hình bằng adam\n",
    "model.compile(optimizer = 'adam',loss='mean_squared_error')"
   ]
  },
  {
   "attachments": {},
   "cell_type": "markdown",
   "metadata": {},
   "source": [
    "<h2>Huấn luyện mô hình"
   ]
  },
  {
   "cell_type": "code",
   "execution_count": 13,
   "metadata": {},
   "outputs": [
    {
     "name": "stdout",
     "output_type": "stream",
     "text": [
      "Epoch 1/50\n",
      "20/20 - 14s - loss: 0.0909 - val_loss: 0.0124 - 14s/epoch - 675ms/step\n",
      "Epoch 2/50\n",
      "20/20 - 1s - loss: 0.0174 - val_loss: 0.0153 - 1s/epoch - 64ms/step\n",
      "Epoch 3/50\n",
      "20/20 - 1s - loss: 0.0160 - val_loss: 0.0220 - 1s/epoch - 65ms/step\n",
      "Epoch 4/50\n",
      "20/20 - 1s - loss: 0.0146 - val_loss: 0.0124 - 1s/epoch - 65ms/step\n",
      "Epoch 5/50\n",
      "20/20 - 2s - loss: 0.0138 - val_loss: 0.0087 - 2s/epoch - 81ms/step\n",
      "Epoch 6/50\n",
      "20/20 - 2s - loss: 0.0122 - val_loss: 0.0085 - 2s/epoch - 84ms/step\n",
      "Epoch 7/50\n",
      "20/20 - 2s - loss: 0.0121 - val_loss: 0.0052 - 2s/epoch - 85ms/step\n",
      "Epoch 8/50\n",
      "20/20 - 2s - loss: 0.0128 - val_loss: 0.0075 - 2s/epoch - 84ms/step\n",
      "Epoch 9/50\n",
      "20/20 - 2s - loss: 0.0121 - val_loss: 0.0053 - 2s/epoch - 83ms/step\n",
      "Epoch 10/50\n",
      "20/20 - 2s - loss: 0.0146 - val_loss: 0.0045 - 2s/epoch - 87ms/step\n",
      "Epoch 11/50\n",
      "20/20 - 2s - loss: 0.0132 - val_loss: 0.0060 - 2s/epoch - 84ms/step\n",
      "Epoch 12/50\n",
      "20/20 - 2s - loss: 0.0111 - val_loss: 0.0092 - 2s/epoch - 83ms/step\n",
      "Epoch 13/50\n",
      "20/20 - 2s - loss: 0.0103 - val_loss: 0.0066 - 2s/epoch - 84ms/step\n",
      "Epoch 14/50\n",
      "20/20 - 2s - loss: 0.0098 - val_loss: 0.0049 - 2s/epoch - 84ms/step\n",
      "Epoch 15/50\n",
      "20/20 - 2s - loss: 0.0096 - val_loss: 0.0068 - 2s/epoch - 83ms/step\n",
      "Epoch 16/50\n",
      "20/20 - 2s - loss: 0.0101 - val_loss: 0.0047 - 2s/epoch - 83ms/step\n",
      "Epoch 17/50\n",
      "20/20 - 2s - loss: 0.0090 - val_loss: 0.0090 - 2s/epoch - 84ms/step\n",
      "Epoch 18/50\n",
      "20/20 - 2s - loss: 0.0103 - val_loss: 0.0037 - 2s/epoch - 84ms/step\n",
      "Epoch 19/50\n",
      "20/20 - 2s - loss: 0.0092 - val_loss: 0.0037 - 2s/epoch - 85ms/step\n",
      "Epoch 20/50\n",
      "20/20 - 2s - loss: 0.0095 - val_loss: 0.0043 - 2s/epoch - 84ms/step\n",
      "Epoch 21/50\n",
      "20/20 - 2s - loss: 0.0091 - val_loss: 0.0047 - 2s/epoch - 83ms/step\n",
      "Epoch 22/50\n",
      "20/20 - 2s - loss: 0.0091 - val_loss: 0.0056 - 2s/epoch - 83ms/step\n",
      "Epoch 23/50\n",
      "20/20 - 2s - loss: 0.0082 - val_loss: 0.0045 - 2s/epoch - 83ms/step\n",
      "Epoch 24/50\n",
      "20/20 - 2s - loss: 0.0083 - val_loss: 0.0040 - 2s/epoch - 83ms/step\n",
      "Epoch 25/50\n",
      "20/20 - 2s - loss: 0.0076 - val_loss: 0.0031 - 2s/epoch - 83ms/step\n",
      "Epoch 26/50\n",
      "20/20 - 2s - loss: 0.0082 - val_loss: 0.0034 - 2s/epoch - 83ms/step\n",
      "Epoch 27/50\n",
      "20/20 - 2s - loss: 0.0073 - val_loss: 0.0054 - 2s/epoch - 83ms/step\n",
      "Epoch 28/50\n",
      "20/20 - 2s - loss: 0.0078 - val_loss: 0.0029 - 2s/epoch - 84ms/step\n",
      "Epoch 29/50\n",
      "20/20 - 2s - loss: 0.0072 - val_loss: 0.0029 - 2s/epoch - 85ms/step\n",
      "Epoch 30/50\n",
      "20/20 - 2s - loss: 0.0071 - val_loss: 0.0040 - 2s/epoch - 83ms/step\n",
      "Epoch 31/50\n",
      "20/20 - 2s - loss: 0.0071 - val_loss: 0.0033 - 2s/epoch - 83ms/step\n",
      "Epoch 32/50\n",
      "20/20 - 2s - loss: 0.0082 - val_loss: 0.0029 - 2s/epoch - 83ms/step\n",
      "Epoch 33/50\n",
      "20/20 - 2s - loss: 0.0079 - val_loss: 0.0031 - 2s/epoch - 83ms/step\n",
      "Epoch 34/50\n",
      "20/20 - 2s - loss: 0.0066 - val_loss: 0.0031 - 2s/epoch - 83ms/step\n",
      "Epoch 35/50\n",
      "20/20 - 2s - loss: 0.0070 - val_loss: 0.0029 - 2s/epoch - 83ms/step\n",
      "Epoch 36/50\n",
      "20/20 - 2s - loss: 0.0068 - val_loss: 0.0040 - 2s/epoch - 84ms/step\n",
      "Epoch 37/50\n",
      "20/20 - 2s - loss: 0.0067 - val_loss: 0.0036 - 2s/epoch - 83ms/step\n",
      "Epoch 38/50\n",
      "20/20 - 2s - loss: 0.0065 - val_loss: 0.0041 - 2s/epoch - 86ms/step\n",
      "Epoch 39/50\n",
      "20/20 - 2s - loss: 0.0071 - val_loss: 0.0068 - 2s/epoch - 83ms/step\n",
      "Epoch 40/50\n",
      "20/20 - 2s - loss: 0.0067 - val_loss: 0.0045 - 2s/epoch - 83ms/step\n",
      "Epoch 41/50\n",
      "20/20 - 2s - loss: 0.0063 - val_loss: 0.0038 - 2s/epoch - 84ms/step\n",
      "Epoch 42/50\n",
      "20/20 - 2s - loss: 0.0060 - val_loss: 0.0038 - 2s/epoch - 83ms/step\n",
      "Epoch 43/50\n",
      "20/20 - 2s - loss: 0.0060 - val_loss: 0.0029 - 2s/epoch - 82ms/step\n",
      "Epoch 44/50\n",
      "20/20 - 2s - loss: 0.0056 - val_loss: 0.0032 - 2s/epoch - 84ms/step\n",
      "Epoch 45/50\n",
      "20/20 - 2s - loss: 0.0063 - val_loss: 0.0031 - 2s/epoch - 85ms/step\n",
      "Epoch 46/50\n",
      "20/20 - 2s - loss: 0.0059 - val_loss: 0.0027 - 2s/epoch - 83ms/step\n",
      "Epoch 47/50\n",
      "20/20 - 2s - loss: 0.0061 - val_loss: 0.0028 - 2s/epoch - 83ms/step\n",
      "Epoch 48/50\n",
      "20/20 - 2s - loss: 0.0054 - val_loss: 0.0038 - 2s/epoch - 83ms/step\n",
      "Epoch 49/50\n",
      "20/20 - 2s - loss: 0.0059 - val_loss: 0.0036 - 2s/epoch - 83ms/step\n",
      "Epoch 50/50\n",
      "20/20 - 2s - loss: 0.0060 - val_loss: 0.0031 - 2s/epoch - 83ms/step\n"
     ]
    }
   ],
   "source": [
    "history = model.fit(X_train, y_train, validation_data=(X_val, y_val), epochs=50, batch_size=32, verbose=2)"
   ]
  },
  {
   "attachments": {},
   "cell_type": "markdown",
   "metadata": {},
   "source": [
    "<h2>Dự đoán CLose Price trên tập test và validation"
   ]
  },
  {
   "cell_type": "code",
   "execution_count": 14,
   "metadata": {},
   "outputs": [
    {
     "name": "stdout",
     "output_type": "stream",
     "text": [
      "7/7 [==============================] - 2s 19ms/step\n",
      "6/6 [==============================] - 0s 23ms/step\n"
     ]
    }
   ],
   "source": [
    "y_pred = model.predict(X_test)\n",
    "y_pred_val = model.predict(X_val)"
   ]
  },
  {
   "attachments": {},
   "cell_type": "markdown",
   "metadata": {},
   "source": [
    "<h2>Tính độ lỗi của mô hình"
   ]
  },
  {
   "cell_type": "code",
   "execution_count": 15,
   "metadata": {},
   "outputs": [
    {
     "name": "stdout",
     "output_type": "stream",
     "text": [
      "MAE on Test set:  0.062027304522364574\n",
      "MAPE on Test set:  2907167636912.1465\n",
      "MSE on Test set:  0.00487653976240184\n",
      "RMSE on Test set:  0.06983222581589277\n",
      "MSLE on Test set:  0.003925979379673462\n"
     ]
    }
   ],
   "source": [
    "# Độ lỗi trên tập test\n",
    "test_mae = mean_absolute_error(y_test, y_pred)\n",
    "test_mape = mean_absolute_percentage_error(y_test, y_pred)\n",
    "test_mse = mean_squared_error(y_test, y_pred)\n",
    "test_rmse = np.sqrt(test_mse)\n",
    "test_msle = mean_squared_log_error(y_test, y_pred)\n",
    "\n",
    "print(f\"MAE on Test set: \", test_mae)\n",
    "print(f\"MAPE on Test set: \", test_mape)\n",
    "print(f\"MSE on Test set: \", test_mse)\n",
    "print(f\"RMSE on Test set: \", test_rmse)\n",
    "print(f\"MSLE on Test set: \", test_msle)"
   ]
  },
  {
   "cell_type": "code",
   "execution_count": 16,
   "metadata": {},
   "outputs": [
    {
     "name": "stdout",
     "output_type": "stream",
     "text": [
      "MAE on Validation set:  0.04414967435271025\n",
      "MAPE on Validation set:  0.09666646264508245\n",
      "MSE on Validation set:  0.0031073638649375835\n",
      "RMSE on Validation set:  0.05574373386253906\n",
      "MSLE on Validation set:  0.0013910411907081856\n"
     ]
    }
   ],
   "source": [
    "# Độ lỗi trên tập validation\n",
    "val_mae = mean_absolute_error(y_val, y_pred_val)\n",
    "val_mape = mean_absolute_percentage_error(y_val, y_pred_val)\n",
    "val_mse = mean_squared_error(y_val, y_pred_val)\n",
    "val_rmse = np.sqrt(val_mse)\n",
    "val_msle = mean_squared_log_error(y_val, y_pred_val)\n",
    "\n",
    "print(f\"MAE on Validation set: \", val_mae)\n",
    "print(f\"MAPE on Validation set: \", val_mape)\n",
    "print(f\"MSE on Validation set: \", val_mse)\n",
    "print(f\"RMSE on Validation set: \", val_rmse)\n",
    "print(f\"MSLE on Validation set: \", val_msle)"
   ]
  },
  {
   "attachments": {},
   "cell_type": "markdown",
   "metadata": {},
   "source": [
    "<h2>Dự đoán giá đóng cửa cho 30 ngày tiếp theo"
   ]
  },
  {
   "cell_type": "code",
   "execution_count": 17,
   "metadata": {},
   "outputs": [
    {
     "name": "stdout",
     "output_type": "stream",
     "text": [
      "1/1 [==============================] - 0s 30ms/step\n",
      "1/1 [==============================] - 0s 31ms/step\n",
      "1/1 [==============================] - 0s 27ms/step\n",
      "1/1 [==============================] - 0s 28ms/step\n",
      "1/1 [==============================] - 0s 25ms/step\n",
      "1/1 [==============================] - 0s 26ms/step\n",
      "1/1 [==============================] - 0s 29ms/step\n",
      "1/1 [==============================] - 0s 26ms/step\n",
      "1/1 [==============================] - 0s 26ms/step\n",
      "1/1 [==============================] - 0s 25ms/step\n",
      "1/1 [==============================] - 0s 24ms/step\n",
      "1/1 [==============================] - 0s 27ms/step\n",
      "1/1 [==============================] - 0s 26ms/step\n",
      "1/1 [==============================] - 0s 26ms/step\n",
      "1/1 [==============================] - 0s 29ms/step\n",
      "1/1 [==============================] - 0s 23ms/step\n",
      "1/1 [==============================] - 0s 26ms/step\n",
      "1/1 [==============================] - 0s 26ms/step\n",
      "1/1 [==============================] - 0s 25ms/step\n",
      "1/1 [==============================] - 0s 23ms/step\n",
      "1/1 [==============================] - 0s 25ms/step\n",
      "1/1 [==============================] - 0s 24ms/step\n",
      "1/1 [==============================] - 0s 25ms/step\n",
      "1/1 [==============================] - 0s 24ms/step\n",
      "1/1 [==============================] - 0s 23ms/step\n",
      "1/1 [==============================] - 0s 24ms/step\n",
      "1/1 [==============================] - 0s 24ms/step\n",
      "1/1 [==============================] - 0s 24ms/step\n",
      "1/1 [==============================] - 0s 23ms/step\n",
      "1/1 [==============================] - 0s 25ms/step\n"
     ]
    }
   ],
   "source": [
    "# Lấy ngày cuối cùng từ vị trí hiện tại\n",
    "last_date = df.index[-1]\n",
    "\n",
    "# Thêm một ngày mới sau ngày cuối cùng\n",
    "next_date = last_date + pd.DateOffset(days=1)\n",
    "\n",
    "# Tạo danh sách các chỉ số bắt đầu từ ngày tiếp theo trong 30 ngày\n",
    "index_next_30_days = pd.date_range(start=next_date, periods=30).tolist()\n",
    "\n",
    "# Dự đoán giá đóng cửa cho 30 ngày tiếp theo\n",
    "last_sequence_days = data[-sequence_length:].reshape(1, -1, 1)\n",
    "y_next_30_days = []\n",
    "\n",
    "for i in range(30):\n",
    "    # Dự đoán giá đóng cửa của ngày kế tiếp\n",
    "    next_day_pred = model.predict(last_sequence_days)\n",
    "    \n",
    "    # Lưu giá trị dự đoán\n",
    "    y_next_30_days.append(next_day_pred[0][0])\n",
    "    \n",
    "    # Cập nhật thông tin về ngày kế tiếp\n",
    "    last_sequence_days = np.concatenate([last_sequence_days[:, 1:, :], next_day_pred.reshape(1, 1, 1)], axis=1)"
   ]
  },
  {
   "cell_type": "code",
   "execution_count": 18,
   "metadata": {},
   "outputs": [
    {
     "name": "stdout",
     "output_type": "stream",
     "text": [
      "[2.8964498, 2.8740084, 2.827451, 2.754224, 2.6521163, 2.519991, 2.358405, 2.1749382, 1.9826308, 1.7893015, 1.5970734, 1.4080622, 1.2246075, 1.0495632, 0.8891934, 0.74735045, 0.62076664, 0.50168574, 0.38631424, 0.27613997, 0.17529292, 0.089296356, 0.023807604, -0.01664342, -0.030384958, -0.020031922, 0.0078095943, 0.04233828, 0.06977065, 0.07244219]\n"
     ]
    }
   ],
   "source": [
    "# Hiển thị giá trị dự đoán\n",
    "print(y_next_30_days)"
   ]
  },
  {
   "cell_type": "code",
   "execution_count": 19,
   "metadata": {},
   "outputs": [],
   "source": [
    "# Chuyển hóa dữ liệu lại như cũ\n",
    "y_pred = scaler.inverse_transform(y_pred)\n",
    "y_pred_val = scaler.inverse_transform(y_pred_val)\n",
    "train_data = scaler.inverse_transform(train_data)\n",
    "test_data = scaler.inverse_transform(test_data)\n",
    "val_data = scaler.inverse_transform(val_data)"
   ]
  },
  {
   "attachments": {},
   "cell_type": "markdown",
   "metadata": {},
   "source": [
    "<h2>Trực quan hóa mô hình"
   ]
  },
  {
   "cell_type": "code",
   "execution_count": 20,
   "metadata": {},
   "outputs": [
    {
     "data": {
      "image/png": "[encoded data removed]",
      "text/plain": [
       "<Figure size 1200x500 with 1 Axes>"
      ]
     },
     "metadata": {},
     "output_type": "display_data"
    }
   ],
   "source": [
    "plt.figure(figsize=(12, 5))\n",
    "\n",
    "# Tập train\n",
    "plt.plot(df[:train_size].index, train_data)\n",
    "\n",
    "# Tập test\n",
    "plt.plot(df[train_size + val_size: ].index, test_data)\n",
    "\n",
    "# Predict trên test\n",
    "plt.plot(df[train_size + val_size + sequence_length + 1:].index, y_pred)\n",
    "\n",
    "# Tập val\n",
    "plt.plot(df[train_size : train_size + val_size].index, val_data)\n",
    "\n",
    "# Predict trên tập Val\n",
    "plt.plot(df[train_size + sequence_length + 1: train_size + val_size].index, y_pred_val)\n",
    "\n",
    "# Dự đoán 30 ngày\n",
    "plt.plot(index_next_30_days, y_next_30_days)\n",
    "\n",
    "plt.legend(['Train', 'Test', 'Predict Test','Validate',  'Predict Validate', 'Predict30days'])\n",
    "plt.grid()\n",
    "plt.savefig('IS403_RNN_INTC_622.png')\n",
    "plt.show()"
   ]
  }
 ],
 "metadata": {
  "kernelspec": {
   "display_name": "user_env",
   "language": "python",
   "name": "python3"
  },
  "language_info": {
   "codemirror_mode": {
    "name": "ipython",
    "version": 3
   },
   "file_extension": ".py",
   "mimetype": "text/x-python",
   "name": "python",
   "nbconvert_exporter": "python",
   "pygments_lexer": "ipython3",
   "version": "3.9.16"
  },
  "orig_nbformat": 4
 },
 "nbformat": 4,
 "nbformat_minor": 2
}
