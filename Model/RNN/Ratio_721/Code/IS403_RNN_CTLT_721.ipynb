{
 "cells": [
  {
   "attachments": {},
   "cell_type": "markdown",
   "metadata": {},
   "source": [
    "<h2>Import thư viện"
   ]
  },
  {
   "cell_type": "code",
   "execution_count": 1,
   "metadata": {},
   "outputs": [],
   "source": [
    "# Thư viện đọc file và chuyển kiểu\n",
    "import pandas as pd\n",
    "import numpy as np\n",
    "\n",
    "# Đổi kiểu dữ liệu datetime\n",
    "import datetime as dt\n",
    "\n",
    "# Import các thư viện train\n",
    "from tensorflow.keras.models import Sequential\n",
    "from tensorflow.keras.layers import Dense, Dropout, LSTM\n",
    "from keras.models import load_model\n",
    "from keras.callbacks import ModelCheckpoint\n",
    "from keras.regularizers import l2\n",
    "\n",
    "# Import sklearn để tính toán các giá trị cũng như scaled dataset\n",
    "from sklearn.metrics import mean_absolute_error, mean_squared_error, mean_absolute_percentage_error, mean_squared_log_error\n",
    "from sklearn.preprocessing import MinMaxScaler\n",
    "\n",
    "# Thư viện trực quan hóa dữ liệu\n",
    "import matplotlib.pyplot as plt\n",
    "%matplotlib inline"
   ]
  },
  {
   "attachments": {},
   "cell_type": "markdown",
   "metadata": {},
   "source": [
    "<h2>Đọc dữ liệu"
   ]
  },
  {
   "cell_type": "code",
   "execution_count": 2,
   "metadata": {},
   "outputs": [
    {
     "data": {
      "text/html": [
       "<div>\n",
       "<style scoped>\n",
       "    .dataframe tbody tr th:only-of-type {\n",
       "        vertical-align: middle;\n",
       "    }\n",
       "\n",
       "    .dataframe tbody tr th {\n",
       "        vertical-align: top;\n",
       "    }\n",
       "\n",
       "    .dataframe thead th {\n",
       "        text-align: right;\n",
       "    }\n",
       "</style>\n",
       "<table border=\"1\" class=\"dataframe\">\n",
       "  <thead>\n",
       "    <tr style=\"text-align: right;\">\n",
       "      <th></th>\n",
       "      <th>Date</th>\n",
       "      <th>Open</th>\n",
       "      <th>High</th>\n",
       "      <th>Low</th>\n",
       "      <th>Close</th>\n",
       "      <th>Adj Close</th>\n",
       "      <th>Volume</th>\n",
       "    </tr>\n",
       "  </thead>\n",
       "  <tbody>\n",
       "    <tr>\n",
       "      <th>0</th>\n",
       "      <td>2019-01-02</td>\n",
       "      <td>30.860001</td>\n",
       "      <td>31.260000</td>\n",
       "      <td>30.240000</td>\n",
       "      <td>30.910000</td>\n",
       "      <td>30.910000</td>\n",
       "      <td>1201700</td>\n",
       "    </tr>\n",
       "    <tr>\n",
       "      <th>1</th>\n",
       "      <td>2019-01-03</td>\n",
       "      <td>30.660000</td>\n",
       "      <td>30.660000</td>\n",
       "      <td>29.290001</td>\n",
       "      <td>29.840000</td>\n",
       "      <td>29.840000</td>\n",
       "      <td>1149900</td>\n",
       "    </tr>\n",
       "    <tr>\n",
       "      <th>2</th>\n",
       "      <td>2019-01-04</td>\n",
       "      <td>30.049999</td>\n",
       "      <td>31.360001</td>\n",
       "      <td>29.940001</td>\n",
       "      <td>31.080000</td>\n",
       "      <td>31.080000</td>\n",
       "      <td>3530400</td>\n",
       "    </tr>\n",
       "    <tr>\n",
       "      <th>3</th>\n",
       "      <td>2019-01-07</td>\n",
       "      <td>31.020000</td>\n",
       "      <td>32.180000</td>\n",
       "      <td>30.850000</td>\n",
       "      <td>32.000000</td>\n",
       "      <td>32.000000</td>\n",
       "      <td>1063400</td>\n",
       "    </tr>\n",
       "    <tr>\n",
       "      <th>4</th>\n",
       "      <td>2019-01-08</td>\n",
       "      <td>32.340000</td>\n",
       "      <td>33.060001</td>\n",
       "      <td>32.150002</td>\n",
       "      <td>32.790001</td>\n",
       "      <td>32.790001</td>\n",
       "      <td>1391000</td>\n",
       "    </tr>\n",
       "    <tr>\n",
       "      <th>5</th>\n",
       "      <td>2019-01-09</td>\n",
       "      <td>32.790001</td>\n",
       "      <td>33.430000</td>\n",
       "      <td>32.730000</td>\n",
       "      <td>33.380001</td>\n",
       "      <td>33.380001</td>\n",
       "      <td>894400</td>\n",
       "    </tr>\n",
       "    <tr>\n",
       "      <th>6</th>\n",
       "      <td>2019-01-10</td>\n",
       "      <td>33.189999</td>\n",
       "      <td>33.970001</td>\n",
       "      <td>32.970001</td>\n",
       "      <td>33.880001</td>\n",
       "      <td>33.880001</td>\n",
       "      <td>748700</td>\n",
       "    </tr>\n",
       "    <tr>\n",
       "      <th>7</th>\n",
       "      <td>2019-01-11</td>\n",
       "      <td>33.830002</td>\n",
       "      <td>33.930000</td>\n",
       "      <td>33.570000</td>\n",
       "      <td>33.750000</td>\n",
       "      <td>33.750000</td>\n",
       "      <td>639800</td>\n",
       "    </tr>\n",
       "    <tr>\n",
       "      <th>8</th>\n",
       "      <td>2019-01-14</td>\n",
       "      <td>33.540001</td>\n",
       "      <td>33.689999</td>\n",
       "      <td>33.299999</td>\n",
       "      <td>33.590000</td>\n",
       "      <td>33.590000</td>\n",
       "      <td>779700</td>\n",
       "    </tr>\n",
       "    <tr>\n",
       "      <th>9</th>\n",
       "      <td>2019-01-15</td>\n",
       "      <td>33.720001</td>\n",
       "      <td>34.264999</td>\n",
       "      <td>33.520000</td>\n",
       "      <td>34.070000</td>\n",
       "      <td>34.070000</td>\n",
       "      <td>867700</td>\n",
       "    </tr>\n",
       "  </tbody>\n",
       "</table>\n",
       "</div>"
      ],
      "text/plain": [
       "         Date       Open       High        Low      Close  Adj Close   Volume\n",
       "0  2019-01-02  30.860001  31.260000  30.240000  30.910000  30.910000  1201700\n",
       "1  2019-01-03  30.660000  30.660000  29.290001  29.840000  29.840000  1149900\n",
       "2  2019-01-04  30.049999  31.360001  29.940001  31.080000  31.080000  3530400\n",
       "3  2019-01-07  31.020000  32.180000  30.850000  32.000000  32.000000  1063400\n",
       "4  2019-01-08  32.340000  33.060001  32.150002  32.790001  32.790001  1391000\n",
       "5  2019-01-09  32.790001  33.430000  32.730000  33.380001  33.380001   894400\n",
       "6  2019-01-10  33.189999  33.970001  32.970001  33.880001  33.880001   748700\n",
       "7  2019-01-11  33.830002  33.930000  33.570000  33.750000  33.750000   639800\n",
       "8  2019-01-14  33.540001  33.689999  33.299999  33.590000  33.590000   779700\n",
       "9  2019-01-15  33.720001  34.264999  33.520000  34.070000  34.070000   867700"
      ]
     },
     "execution_count": 2,
     "metadata": {},
     "output_type": "execute_result"
    }
   ],
   "source": [
    "# Đọc dữ liệu từ file csv\n",
    "df = pd.read_csv('./dataset/CTLT.csv')\n",
    "df.head(10)"
   ]
  },
  {
   "cell_type": "code",
   "execution_count": 3,
   "metadata": {},
   "outputs": [],
   "source": [
    "# Chuyển đổi cột thuộc tính 'Date' về dạng DateTime\n",
    "df['Date'] = pd.to_datetime(df['Date'])\n",
    "\n",
    "# Chọn thuộc tính 'Date' làm Index\n",
    "df.set_index('Date', inplace=True)"
   ]
  },
  {
   "cell_type": "code",
   "execution_count": 4,
   "metadata": {},
   "outputs": [
    {
     "data": {
      "text/html": [
       "<div>\n",
       "<style scoped>\n",
       "    .dataframe tbody tr th:only-of-type {\n",
       "        vertical-align: middle;\n",
       "    }\n",
       "\n",
       "    .dataframe tbody tr th {\n",
       "        vertical-align: top;\n",
       "    }\n",
       "\n",
       "    .dataframe thead th {\n",
       "        text-align: right;\n",
       "    }\n",
       "</style>\n",
       "<table border=\"1\" class=\"dataframe\">\n",
       "  <thead>\n",
       "    <tr style=\"text-align: right;\">\n",
       "      <th></th>\n",
       "      <th>Open</th>\n",
       "      <th>High</th>\n",
       "      <th>Low</th>\n",
       "      <th>Close</th>\n",
       "      <th>Adj Close</th>\n",
       "      <th>Volume</th>\n",
       "    </tr>\n",
       "    <tr>\n",
       "      <th>Date</th>\n",
       "      <th></th>\n",
       "      <th></th>\n",
       "      <th></th>\n",
       "      <th></th>\n",
       "      <th></th>\n",
       "      <th></th>\n",
       "    </tr>\n",
       "  </thead>\n",
       "  <tbody>\n",
       "    <tr>\n",
       "      <th>2019-01-02</th>\n",
       "      <td>30.860001</td>\n",
       "      <td>31.260000</td>\n",
       "      <td>30.240000</td>\n",
       "      <td>30.910000</td>\n",
       "      <td>30.910000</td>\n",
       "      <td>1201700</td>\n",
       "    </tr>\n",
       "    <tr>\n",
       "      <th>2019-01-03</th>\n",
       "      <td>30.660000</td>\n",
       "      <td>30.660000</td>\n",
       "      <td>29.290001</td>\n",
       "      <td>29.840000</td>\n",
       "      <td>29.840000</td>\n",
       "      <td>1149900</td>\n",
       "    </tr>\n",
       "    <tr>\n",
       "      <th>2019-01-04</th>\n",
       "      <td>30.049999</td>\n",
       "      <td>31.360001</td>\n",
       "      <td>29.940001</td>\n",
       "      <td>31.080000</td>\n",
       "      <td>31.080000</td>\n",
       "      <td>3530400</td>\n",
       "    </tr>\n",
       "    <tr>\n",
       "      <th>2019-01-07</th>\n",
       "      <td>31.020000</td>\n",
       "      <td>32.180000</td>\n",
       "      <td>30.850000</td>\n",
       "      <td>32.000000</td>\n",
       "      <td>32.000000</td>\n",
       "      <td>1063400</td>\n",
       "    </tr>\n",
       "    <tr>\n",
       "      <th>2019-01-08</th>\n",
       "      <td>32.340000</td>\n",
       "      <td>33.060001</td>\n",
       "      <td>32.150002</td>\n",
       "      <td>32.790001</td>\n",
       "      <td>32.790001</td>\n",
       "      <td>1391000</td>\n",
       "    </tr>\n",
       "    <tr>\n",
       "      <th>...</th>\n",
       "      <td>...</td>\n",
       "      <td>...</td>\n",
       "      <td>...</td>\n",
       "      <td>...</td>\n",
       "      <td>...</td>\n",
       "      <td>...</td>\n",
       "    </tr>\n",
       "    <tr>\n",
       "      <th>2023-05-26</th>\n",
       "      <td>37.220001</td>\n",
       "      <td>37.799999</td>\n",
       "      <td>36.643002</td>\n",
       "      <td>37.119999</td>\n",
       "      <td>37.119999</td>\n",
       "      <td>1918900</td>\n",
       "    </tr>\n",
       "    <tr>\n",
       "      <th>2023-05-30</th>\n",
       "      <td>37.040001</td>\n",
       "      <td>37.634998</td>\n",
       "      <td>36.279999</td>\n",
       "      <td>36.419998</td>\n",
       "      <td>36.419998</td>\n",
       "      <td>2525900</td>\n",
       "    </tr>\n",
       "    <tr>\n",
       "      <th>2023-05-31</th>\n",
       "      <td>36.230000</td>\n",
       "      <td>37.680000</td>\n",
       "      <td>36.110001</td>\n",
       "      <td>37.230000</td>\n",
       "      <td>37.230000</td>\n",
       "      <td>4375700</td>\n",
       "    </tr>\n",
       "    <tr>\n",
       "      <th>2023-06-01</th>\n",
       "      <td>37.200001</td>\n",
       "      <td>37.314999</td>\n",
       "      <td>36.150002</td>\n",
       "      <td>37.000000</td>\n",
       "      <td>37.000000</td>\n",
       "      <td>3050700</td>\n",
       "    </tr>\n",
       "    <tr>\n",
       "      <th>2023-06-02</th>\n",
       "      <td>37.820000</td>\n",
       "      <td>38.279999</td>\n",
       "      <td>36.630001</td>\n",
       "      <td>37.720001</td>\n",
       "      <td>37.720001</td>\n",
       "      <td>2739900</td>\n",
       "    </tr>\n",
       "  </tbody>\n",
       "</table>\n",
       "<p>1113 rows × 6 columns</p>\n",
       "</div>"
      ],
      "text/plain": [
       "                 Open       High        Low      Close  Adj Close   Volume\n",
       "Date                                                                      \n",
       "2019-01-02  30.860001  31.260000  30.240000  30.910000  30.910000  1201700\n",
       "2019-01-03  30.660000  30.660000  29.290001  29.840000  29.840000  1149900\n",
       "2019-01-04  30.049999  31.360001  29.940001  31.080000  31.080000  3530400\n",
       "2019-01-07  31.020000  32.180000  30.850000  32.000000  32.000000  1063400\n",
       "2019-01-08  32.340000  33.060001  32.150002  32.790001  32.790001  1391000\n",
       "...               ...        ...        ...        ...        ...      ...\n",
       "2023-05-26  37.220001  37.799999  36.643002  37.119999  37.119999  1918900\n",
       "2023-05-30  37.040001  37.634998  36.279999  36.419998  36.419998  2525900\n",
       "2023-05-31  36.230000  37.680000  36.110001  37.230000  37.230000  4375700\n",
       "2023-06-01  37.200001  37.314999  36.150002  37.000000  37.000000  3050700\n",
       "2023-06-02  37.820000  38.279999  36.630001  37.720001  37.720001  2739900\n",
       "\n",
       "[1113 rows x 6 columns]"
      ]
     },
     "execution_count": 4,
     "metadata": {},
     "output_type": "execute_result"
    }
   ],
   "source": [
    "# Xem các dòng dữ liệu vừa được thêm vào\n",
    "df"
   ]
  },
  {
   "attachments": {},
   "cell_type": "markdown",
   "metadata": {},
   "source": [
    "<h2> Mô tả tập dữ liệu"
   ]
  },
  {
   "cell_type": "code",
   "execution_count": 5,
   "metadata": {},
   "outputs": [
    {
     "data": {
      "text/html": [
       "<div>\n",
       "<style scoped>\n",
       "    .dataframe tbody tr th:only-of-type {\n",
       "        vertical-align: middle;\n",
       "    }\n",
       "\n",
       "    .dataframe tbody tr th {\n",
       "        vertical-align: top;\n",
       "    }\n",
       "\n",
       "    .dataframe thead th {\n",
       "        text-align: right;\n",
       "    }\n",
       "</style>\n",
       "<table border=\"1\" class=\"dataframe\">\n",
       "  <thead>\n",
       "    <tr style=\"text-align: right;\">\n",
       "      <th></th>\n",
       "      <th>Open</th>\n",
       "      <th>High</th>\n",
       "      <th>Low</th>\n",
       "      <th>Close</th>\n",
       "      <th>Adj Close</th>\n",
       "      <th>Volume</th>\n",
       "    </tr>\n",
       "  </thead>\n",
       "  <tbody>\n",
       "    <tr>\n",
       "      <th>count</th>\n",
       "      <td>1113.000000</td>\n",
       "      <td>1113.000000</td>\n",
       "      <td>1113.000000</td>\n",
       "      <td>1113.000000</td>\n",
       "      <td>1113.000000</td>\n",
       "      <td>1.113000e+03</td>\n",
       "    </tr>\n",
       "    <tr>\n",
       "      <th>mean</th>\n",
       "      <td>80.292525</td>\n",
       "      <td>81.485028</td>\n",
       "      <td>78.993591</td>\n",
       "      <td>80.269686</td>\n",
       "      <td>80.269686</td>\n",
       "      <td>1.429496e+06</td>\n",
       "    </tr>\n",
       "    <tr>\n",
       "      <th>std</th>\n",
       "      <td>30.007033</td>\n",
       "      <td>30.303490</td>\n",
       "      <td>29.607527</td>\n",
       "      <td>29.934850</td>\n",
       "      <td>29.934850</td>\n",
       "      <td>1.878427e+06</td>\n",
       "    </tr>\n",
       "    <tr>\n",
       "      <th>min</th>\n",
       "      <td>30.049999</td>\n",
       "      <td>30.660000</td>\n",
       "      <td>29.290001</td>\n",
       "      <td>29.840000</td>\n",
       "      <td>29.840000</td>\n",
       "      <td>2.197000e+05</td>\n",
       "    </tr>\n",
       "    <tr>\n",
       "      <th>25%</th>\n",
       "      <td>51.250000</td>\n",
       "      <td>51.910000</td>\n",
       "      <td>50.570000</td>\n",
       "      <td>51.529999</td>\n",
       "      <td>51.529999</td>\n",
       "      <td>7.132000e+05</td>\n",
       "    </tr>\n",
       "    <tr>\n",
       "      <th>50%</th>\n",
       "      <td>78.660004</td>\n",
       "      <td>80.519997</td>\n",
       "      <td>77.750000</td>\n",
       "      <td>79.059998</td>\n",
       "      <td>79.059998</td>\n",
       "      <td>9.983000e+05</td>\n",
       "    </tr>\n",
       "    <tr>\n",
       "      <th>75%</th>\n",
       "      <td>105.980003</td>\n",
       "      <td>107.290001</td>\n",
       "      <td>104.400002</td>\n",
       "      <td>106.150002</td>\n",
       "      <td>106.150002</td>\n",
       "      <td>1.471200e+06</td>\n",
       "    </tr>\n",
       "    <tr>\n",
       "      <th>max</th>\n",
       "      <td>142.639999</td>\n",
       "      <td>142.639999</td>\n",
       "      <td>140.779999</td>\n",
       "      <td>142.350006</td>\n",
       "      <td>142.350006</td>\n",
       "      <td>3.083880e+07</td>\n",
       "    </tr>\n",
       "  </tbody>\n",
       "</table>\n",
       "</div>"
      ],
      "text/plain": [
       "              Open         High          Low        Close    Adj Close  \\\n",
       "count  1113.000000  1113.000000  1113.000000  1113.000000  1113.000000   \n",
       "mean     80.292525    81.485028    78.993591    80.269686    80.269686   \n",
       "std      30.007033    30.303490    29.607527    29.934850    29.934850   \n",
       "min      30.049999    30.660000    29.290001    29.840000    29.840000   \n",
       "25%      51.250000    51.910000    50.570000    51.529999    51.529999   \n",
       "50%      78.660004    80.519997    77.750000    79.059998    79.059998   \n",
       "75%     105.980003   107.290001   104.400002   106.150002   106.150002   \n",
       "max     142.639999   142.639999   140.779999   142.350006   142.350006   \n",
       "\n",
       "             Volume  \n",
       "count  1.113000e+03  \n",
       "mean   1.429496e+06  \n",
       "std    1.878427e+06  \n",
       "min    2.197000e+05  \n",
       "25%    7.132000e+05  \n",
       "50%    9.983000e+05  \n",
       "75%    1.471200e+06  \n",
       "max    3.083880e+07  "
      ]
     },
     "execution_count": 5,
     "metadata": {},
     "output_type": "execute_result"
    }
   ],
   "source": [
    "# Các độ đo về các thuộc tính của tập dữ liệu\n",
    "df.describe()"
   ]
  },
  {
   "cell_type": "code",
   "execution_count": 6,
   "metadata": {},
   "outputs": [
    {
     "data": {
      "image/png": "[encoded data removed]",
      "text/plain": [
       "<Figure size 640x480 with 1 Axes>"
      ]
     },
     "metadata": {},
     "output_type": "display_data"
    }
   ],
   "source": [
    "# Vẽ biểu đồ Histogram\n",
    "plt.hist(df['Close'])\n",
    "\n",
    "# Thiết lập label và title\n",
    "plt.xlabel('Close value')\n",
    "plt.ylabel('Frequency')\n",
    "plt.title('Histogram of Close Value')\n",
    "\n",
    "# Hiển thị biểu đồ histogram\n",
    "plt.show()"
   ]
  },
  {
   "cell_type": "code",
   "execution_count": 7,
   "metadata": {},
   "outputs": [
    {
     "data": {
      "image/png": "[encoded data removed]",
      "text/plain": [
       "<Figure size 640x480 with 1 Axes>"
      ]
     },
     "metadata": {},
     "output_type": "display_data"
    }
   ],
   "source": [
    "# Vẽ biểu đồ boxplot\n",
    "plt.boxplot(df.Close)\n",
    "\n",
    "# Thiết lập label và title\n",
    "plt.title(\"Boxplot of Close Value\")\n",
    "plt.ylabel(\"Close value\")\n",
    "\n",
    "# Hiển thị biểu đồ box plot\n",
    "plt.show()"
   ]
  },
  {
   "attachments": {},
   "cell_type": "markdown",
   "metadata": {},
   "source": [
    "<h2> Scale dữ liệu và phân chia các tập dữ liệu train, validation và test"
   ]
  },
  {
   "cell_type": "code",
   "execution_count": 8,
   "metadata": {},
   "outputs": [],
   "source": [
    "#Lấy cột thuộc tính 'Close'\n",
    "data = df['Close'].values"
   ]
  },
  {
   "cell_type": "code",
   "execution_count": 9,
   "metadata": {},
   "outputs": [],
   "source": [
    "# Scale dữ liệu\n",
    "scaler = MinMaxScaler()\n",
    "data_scaled = scaler.fit_transform(data.reshape(-1, 1))"
   ]
  },
  {
   "cell_type": "code",
   "execution_count": 10,
   "metadata": {},
   "outputs": [],
   "source": [
    "# Chia dữ liệu thành tập train, validation và test theo tỉ lệ 7:2:1\n",
    "train_size = int(len(data_scaled) * 0.7)\n",
    "val_size = int(len(data_scaled) * 0.2)\n",
    "test_size = len(data_scaled) - train_size - val_size\n",
    "\n",
    "train_data = data_scaled[0 : train_size, :]\n",
    "val_data = data_scaled[train_size : train_size + val_size, :]\n",
    "test_data = data_scaled[train_size + val_size : len(data_scaled), :]"
   ]
  },
  {
   "cell_type": "code",
   "execution_count": 11,
   "metadata": {},
   "outputs": [],
   "source": [
    "sequence_length = 30 #sử dụng 30 ngày trước đó để dự đoán ngày tiếp theo \n",
    "\n",
    "def add_data(data, sequence_length):\n",
    "    X, Y = [], []\n",
    "    for i in range(len(data) - sequence_length - 1):\n",
    "        X.append(data[i : (i + sequence_length), :])\n",
    "        Y.append(data[i + sequence_length, 0])\n",
    "    return np.array(X), np.array(Y)\n",
    "\n",
    "# Thêm dữ liệu cho tập train, validation và test\n",
    "X_train, y_train = add_data(train_data, sequence_length)\n",
    "X_test, y_test = add_data(test_data, sequence_length)\n",
    "X_val, y_val = add_data(val_data, sequence_length)"
   ]
  },
  {
   "attachments": {},
   "cell_type": "markdown",
   "metadata": {},
   "source": [
    "<h2>Xây dựng mô hình\n"
   ]
  },
  {
   "cell_type": "code",
   "execution_count": 12,
   "metadata": {},
   "outputs": [],
   "source": [
    "model = Sequential() #Đóng gói trình tự của các layer bên trong\n",
    "\n",
    "#4 lớp LSTM\n",
    "#Dropout: tránh việc nhớ quá nhiều thông tin => vô hiệu hóa một phần dữ liệu trước đó\n",
    "model.add(LSTM(units = 50,return_sequences=True,input_shape=(X_train.shape[1],1)))\n",
    "model.add(Dropout(0.2))\n",
    "model.add(LSTM(units = 50,return_sequences=True))\n",
    "model.add(Dropout(0.2))\n",
    "model.add(LSTM(units = 50,return_sequences=True))\n",
    "model.add(Dropout(0.2))\n",
    "model.add(LSTM(units=50))\n",
    "model.add(Dropout(0.2))\n",
    "\n",
    "#1 lớp Dense (dày đặc)\n",
    "model.add(Dense(units=1)) #1: 1 đơn vị cung cấp giá trị dự đoán\n",
    "\n",
    "#Tối ưu hóa mô hình bằng adam\n",
    "model.compile(optimizer = 'adam',loss='mean_squared_error')"
   ]
  },
  {
   "attachments": {},
   "cell_type": "markdown",
   "metadata": {},
   "source": [
    "<h2>Huấn luyện mô hình"
   ]
  },
  {
   "cell_type": "code",
   "execution_count": 13,
   "metadata": {},
   "outputs": [
    {
     "name": "stdout",
     "output_type": "stream",
     "text": [
      "Epoch 1/50\n",
      "24/24 - 28s - loss: 0.0634 - val_loss: 0.0336 - 28s/epoch - 1s/step\n",
      "Epoch 2/50\n",
      "24/24 - 2s - loss: 0.0088 - val_loss: 0.0098 - 2s/epoch - 100ms/step\n",
      "Epoch 3/50\n",
      "24/24 - 2s - loss: 0.0068 - val_loss: 0.0138 - 2s/epoch - 104ms/step\n",
      "Epoch 4/50\n",
      "24/24 - 2s - loss: 0.0060 - val_loss: 0.0133 - 2s/epoch - 100ms/step\n",
      "Epoch 5/50\n",
      "24/24 - 2s - loss: 0.0060 - val_loss: 0.0132 - 2s/epoch - 100ms/step\n",
      "Epoch 6/50\n",
      "24/24 - 2s - loss: 0.0058 - val_loss: 0.0099 - 2s/epoch - 99ms/step\n",
      "Epoch 7/50\n",
      "24/24 - 2s - loss: 0.0056 - val_loss: 0.0116 - 2s/epoch - 103ms/step\n",
      "Epoch 8/50\n",
      "24/24 - 2s - loss: 0.0051 - val_loss: 0.0082 - 2s/epoch - 100ms/step\n",
      "Epoch 9/50\n",
      "24/24 - 2s - loss: 0.0060 - val_loss: 0.0144 - 2s/epoch - 102ms/step\n",
      "Epoch 10/50\n",
      "24/24 - 2s - loss: 0.0058 - val_loss: 0.0080 - 2s/epoch - 101ms/step\n",
      "Epoch 11/50\n",
      "24/24 - 2s - loss: 0.0051 - val_loss: 0.0094 - 2s/epoch - 103ms/step\n",
      "Epoch 12/50\n",
      "24/24 - 2s - loss: 0.0047 - val_loss: 0.0109 - 2s/epoch - 100ms/step\n",
      "Epoch 13/50\n",
      "24/24 - 2s - loss: 0.0060 - val_loss: 0.0073 - 2s/epoch - 101ms/step\n",
      "Epoch 14/50\n",
      "24/24 - 2s - loss: 0.0050 - val_loss: 0.0095 - 2s/epoch - 100ms/step\n",
      "Epoch 15/50\n",
      "24/24 - 3s - loss: 0.0052 - val_loss: 0.0097 - 3s/epoch - 105ms/step\n",
      "Epoch 16/50\n",
      "24/24 - 2s - loss: 0.0049 - val_loss: 0.0073 - 2s/epoch - 102ms/step\n",
      "Epoch 17/50\n",
      "24/24 - 2s - loss: 0.0050 - val_loss: 0.0070 - 2s/epoch - 100ms/step\n",
      "Epoch 18/50\n",
      "24/24 - 2s - loss: 0.0054 - val_loss: 0.0084 - 2s/epoch - 104ms/step\n",
      "Epoch 19/50\n",
      "24/24 - 2s - loss: 0.0047 - val_loss: 0.0093 - 2s/epoch - 101ms/step\n",
      "Epoch 20/50\n",
      "24/24 - 3s - loss: 0.0054 - val_loss: 0.0067 - 3s/epoch - 115ms/step\n",
      "Epoch 21/50\n",
      "24/24 - 3s - loss: 0.0045 - val_loss: 0.0067 - 3s/epoch - 113ms/step\n",
      "Epoch 22/50\n",
      "24/24 - 3s - loss: 0.0048 - val_loss: 0.0072 - 3s/epoch - 109ms/step\n",
      "Epoch 23/50\n",
      "24/24 - 3s - loss: 0.0039 - val_loss: 0.0077 - 3s/epoch - 106ms/step\n",
      "Epoch 24/50\n",
      "24/24 - 3s - loss: 0.0048 - val_loss: 0.0062 - 3s/epoch - 107ms/step\n",
      "Epoch 25/50\n",
      "24/24 - 3s - loss: 0.0047 - val_loss: 0.0078 - 3s/epoch - 106ms/step\n",
      "Epoch 26/50\n",
      "24/24 - 3s - loss: 0.0043 - val_loss: 0.0103 - 3s/epoch - 109ms/step\n",
      "Epoch 27/50\n",
      "24/24 - 3s - loss: 0.0040 - val_loss: 0.0083 - 3s/epoch - 125ms/step\n",
      "Epoch 28/50\n",
      "24/24 - 3s - loss: 0.0041 - val_loss: 0.0061 - 3s/epoch - 106ms/step\n",
      "Epoch 29/50\n",
      "24/24 - 3s - loss: 0.0037 - val_loss: 0.0063 - 3s/epoch - 106ms/step\n",
      "Epoch 30/50\n",
      "24/24 - 3s - loss: 0.0042 - val_loss: 0.0067 - 3s/epoch - 108ms/step\n",
      "Epoch 31/50\n",
      "24/24 - 3s - loss: 0.0036 - val_loss: 0.0057 - 3s/epoch - 130ms/step\n",
      "Epoch 32/50\n",
      "24/24 - 3s - loss: 0.0036 - val_loss: 0.0058 - 3s/epoch - 143ms/step\n",
      "Epoch 33/50\n",
      "24/24 - 4s - loss: 0.0036 - val_loss: 0.0055 - 4s/epoch - 147ms/step\n",
      "Epoch 34/50\n",
      "24/24 - 3s - loss: 0.0041 - val_loss: 0.0054 - 3s/epoch - 143ms/step\n",
      "Epoch 35/50\n",
      "24/24 - 3s - loss: 0.0037 - val_loss: 0.0050 - 3s/epoch - 115ms/step\n",
      "Epoch 36/50\n",
      "24/24 - 3s - loss: 0.0037 - val_loss: 0.0054 - 3s/epoch - 115ms/step\n",
      "Epoch 37/50\n",
      "24/24 - 2s - loss: 0.0039 - val_loss: 0.0056 - 2s/epoch - 97ms/step\n",
      "Epoch 38/50\n",
      "24/24 - 2s - loss: 0.0032 - val_loss: 0.0051 - 2s/epoch - 95ms/step\n",
      "Epoch 39/50\n",
      "24/24 - 2s - loss: 0.0033 - val_loss: 0.0050 - 2s/epoch - 86ms/step\n",
      "Epoch 40/50\n",
      "24/24 - 2s - loss: 0.0033 - val_loss: 0.0062 - 2s/epoch - 91ms/step\n",
      "Epoch 41/50\n",
      "24/24 - 2s - loss: 0.0031 - val_loss: 0.0045 - 2s/epoch - 94ms/step\n",
      "Epoch 42/50\n",
      "24/24 - 2s - loss: 0.0035 - val_loss: 0.0047 - 2s/epoch - 84ms/step\n",
      "Epoch 43/50\n",
      "24/24 - 2s - loss: 0.0033 - val_loss: 0.0073 - 2s/epoch - 79ms/step\n",
      "Epoch 44/50\n",
      "24/24 - 2s - loss: 0.0031 - val_loss: 0.0044 - 2s/epoch - 80ms/step\n",
      "Epoch 45/50\n",
      "24/24 - 2s - loss: 0.0030 - val_loss: 0.0045 - 2s/epoch - 79ms/step\n",
      "Epoch 46/50\n",
      "24/24 - 2s - loss: 0.0031 - val_loss: 0.0045 - 2s/epoch - 77ms/step\n",
      "Epoch 47/50\n",
      "24/24 - 3s - loss: 0.0032 - val_loss: 0.0042 - 3s/epoch - 139ms/step\n",
      "Epoch 48/50\n",
      "24/24 - 5s - loss: 0.0028 - val_loss: 0.0058 - 5s/epoch - 218ms/step\n",
      "Epoch 49/50\n",
      "24/24 - 4s - loss: 0.0032 - val_loss: 0.0056 - 4s/epoch - 152ms/step\n",
      "Epoch 50/50\n",
      "24/24 - 4s - loss: 0.0028 - val_loss: 0.0040 - 4s/epoch - 168ms/step\n"
     ]
    }
   ],
   "source": [
    "history = model.fit(X_train, y_train, validation_data=(X_val, y_val), epochs=50, batch_size=32, verbose=2)"
   ]
  },
  {
   "attachments": {},
   "cell_type": "markdown",
   "metadata": {},
   "source": [
    "<h2>Dự đoán CLose Price trên tập test và validation"
   ]
  },
  {
   "cell_type": "code",
   "execution_count": 14,
   "metadata": {},
   "outputs": [
    {
     "name": "stdout",
     "output_type": "stream",
     "text": [
      "3/3 [==============================] - 5s 27ms/step\n",
      "6/6 [==============================] - 0s 27ms/step\n"
     ]
    }
   ],
   "source": [
    "y_pred = model.predict(X_test)\n",
    "y_pred_val = model.predict(X_val)"
   ]
  },
  {
   "attachments": {},
   "cell_type": "markdown",
   "metadata": {},
   "source": [
    "<h2>Tính độ lỗi của mô hình"
   ]
  },
  {
   "cell_type": "code",
   "execution_count": 15,
   "metadata": {},
   "outputs": [
    {
     "name": "stdout",
     "output_type": "stream",
     "text": [
      "MAE on Test set:  0.051283922718605136\n",
      "MAPE on Test set:  0.5910727238200318\n",
      "MSE on Test set:  0.004778682559938601\n",
      "RMSE on Test set:  0.06912801573847321\n",
      "MSLE on Test set:  0.0033437333019775473\n"
     ]
    }
   ],
   "source": [
    "# Độ lỗi trên tập test\n",
    "test_mae = mean_absolute_error(y_test, y_pred)\n",
    "test_mape = mean_absolute_percentage_error(y_test, y_pred)\n",
    "test_mse = mean_squared_error(y_test, y_pred)\n",
    "test_rmse = np.sqrt(test_mse)\n",
    "test_msle = mean_squared_log_error(y_test, y_pred)\n",
    "\n",
    "print(f\"MAE on Test set: \", test_mae)\n",
    "print(f\"MAPE on Test set: \", test_mape)\n",
    "print(f\"MSE on Test set: \", test_mse)\n",
    "print(f\"RMSE on Test set: \", test_rmse)\n",
    "print(f\"MSLE on Test set: \", test_msle)"
   ]
  },
  {
   "cell_type": "code",
   "execution_count": 16,
   "metadata": {},
   "outputs": [
    {
     "name": "stdout",
     "output_type": "stream",
     "text": [
      "MAE on Validation set:  0.04792336742076981\n",
      "MAPE on Validation set:  0.14828713782804542\n",
      "MSE on Validation set:  0.004040317284966019\n",
      "RMSE on Validation set:  0.06356349018867687\n",
      "MSLE on Validation set:  0.002014329362799692\n"
     ]
    }
   ],
   "source": [
    "# Độ lỗi trên tập validation\n",
    "val_mae = mean_absolute_error(y_val, y_pred_val)\n",
    "val_mape = mean_absolute_percentage_error(y_val, y_pred_val)\n",
    "val_mse = mean_squared_error(y_val, y_pred_val)\n",
    "val_rmse = np.sqrt(val_mse)\n",
    "val_msle = mean_squared_log_error(y_val, y_pred_val)\n",
    "\n",
    "print(f\"MAE on Validation set: \", val_mae)\n",
    "print(f\"MAPE on Validation set: \", val_mape)\n",
    "print(f\"MSE on Validation set: \", val_mse)\n",
    "print(f\"RMSE on Validation set: \", val_rmse)\n",
    "print(f\"MSLE on Validation set: \", val_msle)"
   ]
  },
  {
   "attachments": {},
   "cell_type": "markdown",
   "metadata": {},
   "source": [
    "<h2>Dự đoán giá đóng cửa cho 30 ngày tiếp theo"
   ]
  },
  {
   "cell_type": "code",
   "execution_count": 17,
   "metadata": {},
   "outputs": [
    {
     "name": "stdout",
     "output_type": "stream",
     "text": [
      "1/1 [==============================] - 0s 59ms/step\n",
      "1/1 [==============================] - 0s 33ms/step\n",
      "1/1 [==============================] - 0s 47ms/step\n",
      "1/1 [==============================] - 0s 42ms/step\n",
      "1/1 [==============================] - 0s 46ms/step\n",
      "1/1 [==============================] - 0s 43ms/step\n",
      "1/1 [==============================] - 0s 58ms/step\n",
      "1/1 [==============================] - 0s 100ms/step\n",
      "1/1 [==============================] - 0s 85ms/step\n",
      "1/1 [==============================] - 0s 39ms/step\n",
      "1/1 [==============================] - 0s 35ms/step\n",
      "1/1 [==============================] - 0s 31ms/step\n",
      "1/1 [==============================] - 0s 30ms/step\n",
      "1/1 [==============================] - 0s 27ms/step\n",
      "1/1 [==============================] - 0s 28ms/step\n",
      "1/1 [==============================] - 0s 27ms/step\n",
      "1/1 [==============================] - 0s 36ms/step\n",
      "1/1 [==============================] - 0s 36ms/step\n",
      "1/1 [==============================] - 0s 48ms/step\n",
      "1/1 [==============================] - 0s 32ms/step\n",
      "1/1 [==============================] - 0s 30ms/step\n",
      "1/1 [==============================] - 0s 51ms/step\n",
      "1/1 [==============================] - 0s 29ms/step\n",
      "1/1 [==============================] - 0s 37ms/step\n",
      "1/1 [==============================] - 0s 36ms/step\n",
      "1/1 [==============================] - 0s 33ms/step\n",
      "1/1 [==============================] - 0s 32ms/step\n",
      "1/1 [==============================] - 0s 28ms/step\n",
      "1/1 [==============================] - 0s 27ms/step\n",
      "1/1 [==============================] - 0s 26ms/step\n"
     ]
    }
   ],
   "source": [
    "# Lấy ngày cuối cùng từ vị trí hiện tại\n",
    "last_date = df.index[-1]\n",
    "\n",
    "# Thêm một ngày mới sau ngày cuối cùng\n",
    "next_date = last_date + pd.DateOffset(days=1)\n",
    "\n",
    "# Tạo danh sách các chỉ số bắt đầu từ ngày tiếp theo trong 30 ngày\n",
    "index_next_30_days = pd.date_range(start=next_date, periods=30).tolist()\n",
    "\n",
    "# Dự đoán giá đóng cửa cho 30 ngày tiếp theo\n",
    "last_sequence_days = data[-sequence_length:].reshape(1, -1, 1)\n",
    "y_next_30_days = []\n",
    "\n",
    "for i in range(30):\n",
    "    # Dự đoán giá đóng cửa của ngày kế tiếp\n",
    "    next_day_pred = model.predict(last_sequence_days)\n",
    "    \n",
    "    # Lưu giá trị dự đoán\n",
    "    y_next_30_days.append(next_day_pred[0][0])\n",
    "    \n",
    "    # Cập nhật thông tin về ngày kế tiếp\n",
    "    last_sequence_days = np.concatenate([last_sequence_days[:, 1:, :], next_day_pred.reshape(1, 1, 1)], axis=1)"
   ]
  },
  {
   "cell_type": "code",
   "execution_count": 18,
   "metadata": {},
   "outputs": [
    {
     "name": "stdout",
     "output_type": "stream",
     "text": [
      "[2.0856428, 2.0856938, 2.0853364, 2.0835626, 2.079765, 2.0735326, 2.0644965, 2.0521233, 2.0355563, 2.0135405, 1.9844904, 1.9470271, 1.9004471, 1.8445977, 1.777842, 1.6982572, 1.6061785, 1.5059128, 1.4051236, 1.3123865, 1.2353215, 1.1789057, 1.1445013, 1.1287129, 1.1247602, 1.1249527, 1.1227374, 1.1136813, 1.0964847, 1.0743527]\n"
     ]
    }
   ],
   "source": [
    "# Hiển thị giá trị dự đoán\n",
    "print(y_next_30_days)"
   ]
  },
  {
   "cell_type": "code",
   "execution_count": 19,
   "metadata": {},
   "outputs": [],
   "source": [
    "# Chuyển hóa dữ liệu lại như cũ\n",
    "y_pred = scaler.inverse_transform(y_pred)\n",
    "y_pred_val = scaler.inverse_transform(y_pred_val)\n",
    "train_data = scaler.inverse_transform(train_data)\n",
    "test_data = scaler.inverse_transform(test_data)\n",
    "val_data = scaler.inverse_transform(val_data)"
   ]
  },
  {
   "attachments": {},
   "cell_type": "markdown",
   "metadata": {},
   "source": [
    "<h2>Trực quan hóa mô hình"
   ]
  },
  {
   "cell_type": "code",
   "execution_count": 20,
   "metadata": {},
   "outputs": [
    {
     "data": {
      "image/png": "[encoded data removed]",
      "text/plain": [
       "<Figure size 1200x500 with 1 Axes>"
      ]
     },
     "metadata": {},
     "output_type": "display_data"
    }
   ],
   "source": [
    "plt.figure(figsize=(12, 5))\n",
    "\n",
    "# Tập train\n",
    "plt.plot(df[:train_size].index, train_data)\n",
    "\n",
    "# Tập test\n",
    "plt.plot(df[train_size + val_size: ].index, test_data)\n",
    "\n",
    "# Predict trên test\n",
    "plt.plot(df[train_size + val_size + sequence_length + 1:].index, y_pred)\n",
    "\n",
    "# Tập val\n",
    "plt.plot(df[train_size : train_size + val_size].index, val_data)\n",
    "\n",
    "# Predict trên tập Val\n",
    "plt.plot(df[train_size + sequence_length + 1: train_size + val_size].index, y_pred_val)\n",
    "\n",
    "# Dự đoán 30 ngày\n",
    "plt.plot(index_next_30_days, y_next_30_days)\n",
    "\n",
    "plt.legend(['Train', 'Test', 'Predict Test','Validate',  'Predict Validate', 'Predict30days'])\n",
    "plt.grid()\n",
    "plt.savefig('IS403_RNN_CTLT_721.png')\n",
    "plt.show()"
   ]
  }
 ],
 "metadata": {
  "kernelspec": {
   "display_name": "user_env",
   "language": "python",
   "name": "python3"
  },
  "language_info": {
   "codemirror_mode": {
    "name": "ipython",
    "version": 3
   },
   "file_extension": ".py",
   "mimetype": "text/x-python",
   "name": "python",
   "nbconvert_exporter": "python",
   "pygments_lexer": "ipython3",
   "version": "3.9.16"
  },
  "orig_nbformat": 4
 },
 "nbformat": 4,
 "nbformat_minor": 2
}
