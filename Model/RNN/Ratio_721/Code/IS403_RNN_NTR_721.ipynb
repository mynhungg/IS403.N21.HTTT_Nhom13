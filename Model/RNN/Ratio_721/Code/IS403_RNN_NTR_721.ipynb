{
 "cells": [
  {
   "attachments": {},
   "cell_type": "markdown",
   "metadata": {},
   "source": [
    "<h2>Import thư viện"
   ]
  },
  {
   "cell_type": "code",
   "execution_count": 1,
   "metadata": {},
   "outputs": [],
   "source": [
    "# Thư viện đọc file và chuyển kiểu\n",
    "import pandas as pd\n",
    "import numpy as np\n",
    "\n",
    "# Đổi kiểu dữ liệu datetime\n",
    "import datetime as dt\n",
    "\n",
    "# Import các thư viện train\n",
    "from tensorflow.keras.models import Sequential\n",
    "from tensorflow.keras.layers import Dense, Dropout, LSTM\n",
    "from keras.models import load_model\n",
    "from keras.callbacks import ModelCheckpoint\n",
    "from keras.regularizers import l2\n",
    "\n",
    "# Import sklearn để tính toán các giá trị cũng như scaled dataset\n",
    "from sklearn.metrics import mean_absolute_error, mean_squared_error, mean_absolute_percentage_error, mean_squared_log_error\n",
    "from sklearn.preprocessing import MinMaxScaler\n",
    "\n",
    "# Thư viện trực quan hóa dữ liệu\n",
    "import matplotlib.pyplot as plt\n",
    "%matplotlib inline"
   ]
  },
  {
   "attachments": {},
   "cell_type": "markdown",
   "metadata": {},
   "source": [
    "<h2>Đọc dữ liệu"
   ]
  },
  {
   "cell_type": "code",
   "execution_count": 2,
   "metadata": {},
   "outputs": [
    {
     "data": {
      "text/html": [
       "<div>\n",
       "<style scoped>\n",
       "    .dataframe tbody tr th:only-of-type {\n",
       "        vertical-align: middle;\n",
       "    }\n",
       "\n",
       "    .dataframe tbody tr th {\n",
       "        vertical-align: top;\n",
       "    }\n",
       "\n",
       "    .dataframe thead th {\n",
       "        text-align: right;\n",
       "    }\n",
       "</style>\n",
       "<table border=\"1\" class=\"dataframe\">\n",
       "  <thead>\n",
       "    <tr style=\"text-align: right;\">\n",
       "      <th></th>\n",
       "      <th>Date</th>\n",
       "      <th>Open</th>\n",
       "      <th>High</th>\n",
       "      <th>Low</th>\n",
       "      <th>Close</th>\n",
       "      <th>Adj Close</th>\n",
       "      <th>Volume</th>\n",
       "    </tr>\n",
       "  </thead>\n",
       "  <tbody>\n",
       "    <tr>\n",
       "      <th>0</th>\n",
       "      <td>2019-01-02</td>\n",
       "      <td>46.209999</td>\n",
       "      <td>46.990002</td>\n",
       "      <td>45.855000</td>\n",
       "      <td>46.259998</td>\n",
       "      <td>40.076603</td>\n",
       "      <td>1289100</td>\n",
       "    </tr>\n",
       "    <tr>\n",
       "      <th>1</th>\n",
       "      <td>2019-01-03</td>\n",
       "      <td>46.000000</td>\n",
       "      <td>46.099998</td>\n",
       "      <td>44.882999</td>\n",
       "      <td>45.049999</td>\n",
       "      <td>39.028336</td>\n",
       "      <td>1158800</td>\n",
       "    </tr>\n",
       "    <tr>\n",
       "      <th>2</th>\n",
       "      <td>2019-01-04</td>\n",
       "      <td>45.950001</td>\n",
       "      <td>47.180000</td>\n",
       "      <td>45.880001</td>\n",
       "      <td>47.130001</td>\n",
       "      <td>40.830311</td>\n",
       "      <td>1538500</td>\n",
       "    </tr>\n",
       "    <tr>\n",
       "      <th>3</th>\n",
       "      <td>2019-01-07</td>\n",
       "      <td>47.310001</td>\n",
       "      <td>48.110001</td>\n",
       "      <td>46.840000</td>\n",
       "      <td>47.740002</td>\n",
       "      <td>41.358780</td>\n",
       "      <td>954700</td>\n",
       "    </tr>\n",
       "    <tr>\n",
       "      <th>4</th>\n",
       "      <td>2019-01-08</td>\n",
       "      <td>48.709999</td>\n",
       "      <td>49.480000</td>\n",
       "      <td>48.520000</td>\n",
       "      <td>49.209999</td>\n",
       "      <td>42.632290</td>\n",
       "      <td>1921800</td>\n",
       "    </tr>\n",
       "    <tr>\n",
       "      <th>5</th>\n",
       "      <td>2019-01-09</td>\n",
       "      <td>49.689999</td>\n",
       "      <td>49.689999</td>\n",
       "      <td>48.779999</td>\n",
       "      <td>49.410000</td>\n",
       "      <td>42.805561</td>\n",
       "      <td>1839700</td>\n",
       "    </tr>\n",
       "    <tr>\n",
       "      <th>6</th>\n",
       "      <td>2019-01-10</td>\n",
       "      <td>49.070000</td>\n",
       "      <td>50.080002</td>\n",
       "      <td>48.560001</td>\n",
       "      <td>50.049999</td>\n",
       "      <td>43.360016</td>\n",
       "      <td>1808100</td>\n",
       "    </tr>\n",
       "    <tr>\n",
       "      <th>7</th>\n",
       "      <td>2019-01-11</td>\n",
       "      <td>49.799999</td>\n",
       "      <td>50.139999</td>\n",
       "      <td>49.279999</td>\n",
       "      <td>49.869999</td>\n",
       "      <td>43.204063</td>\n",
       "      <td>826500</td>\n",
       "    </tr>\n",
       "    <tr>\n",
       "      <th>8</th>\n",
       "      <td>2019-01-14</td>\n",
       "      <td>49.430000</td>\n",
       "      <td>50.130001</td>\n",
       "      <td>49.200001</td>\n",
       "      <td>49.680000</td>\n",
       "      <td>43.039471</td>\n",
       "      <td>763400</td>\n",
       "    </tr>\n",
       "    <tr>\n",
       "      <th>9</th>\n",
       "      <td>2019-01-15</td>\n",
       "      <td>49.869999</td>\n",
       "      <td>50.160000</td>\n",
       "      <td>49.200001</td>\n",
       "      <td>49.669998</td>\n",
       "      <td>43.030796</td>\n",
       "      <td>898100</td>\n",
       "    </tr>\n",
       "  </tbody>\n",
       "</table>\n",
       "</div>"
      ],
      "text/plain": [
       "         Date       Open       High        Low      Close  Adj Close   Volume\n",
       "0  2019-01-02  46.209999  46.990002  45.855000  46.259998  40.076603  1289100\n",
       "1  2019-01-03  46.000000  46.099998  44.882999  45.049999  39.028336  1158800\n",
       "2  2019-01-04  45.950001  47.180000  45.880001  47.130001  40.830311  1538500\n",
       "3  2019-01-07  47.310001  48.110001  46.840000  47.740002  41.358780   954700\n",
       "4  2019-01-08  48.709999  49.480000  48.520000  49.209999  42.632290  1921800\n",
       "5  2019-01-09  49.689999  49.689999  48.779999  49.410000  42.805561  1839700\n",
       "6  2019-01-10  49.070000  50.080002  48.560001  50.049999  43.360016  1808100\n",
       "7  2019-01-11  49.799999  50.139999  49.279999  49.869999  43.204063   826500\n",
       "8  2019-01-14  49.430000  50.130001  49.200001  49.680000  43.039471   763400\n",
       "9  2019-01-15  49.869999  50.160000  49.200001  49.669998  43.030796   898100"
      ]
     },
     "execution_count": 2,
     "metadata": {},
     "output_type": "execute_result"
    }
   ],
   "source": [
    "# Đọc dữ liệu từ file csv\n",
    "df = pd.read_csv('./dataset/NTR.csv')\n",
    "df.head(10)"
   ]
  },
  {
   "cell_type": "code",
   "execution_count": 3,
   "metadata": {},
   "outputs": [],
   "source": [
    "# Chuyển đổi cột thuộc tính 'Date' về dạng DateTime\n",
    "df['Date'] = pd.to_datetime(df['Date'])\n",
    "\n",
    "# Chọn thuộc tính 'Date' làm Index\n",
    "df.set_index('Date', inplace=True)"
   ]
  },
  {
   "cell_type": "code",
   "execution_count": 4,
   "metadata": {},
   "outputs": [
    {
     "data": {
      "text/html": [
       "<div>\n",
       "<style scoped>\n",
       "    .dataframe tbody tr th:only-of-type {\n",
       "        vertical-align: middle;\n",
       "    }\n",
       "\n",
       "    .dataframe tbody tr th {\n",
       "        vertical-align: top;\n",
       "    }\n",
       "\n",
       "    .dataframe thead th {\n",
       "        text-align: right;\n",
       "    }\n",
       "</style>\n",
       "<table border=\"1\" class=\"dataframe\">\n",
       "  <thead>\n",
       "    <tr style=\"text-align: right;\">\n",
       "      <th></th>\n",
       "      <th>Open</th>\n",
       "      <th>High</th>\n",
       "      <th>Low</th>\n",
       "      <th>Close</th>\n",
       "      <th>Adj Close</th>\n",
       "      <th>Volume</th>\n",
       "    </tr>\n",
       "    <tr>\n",
       "      <th>Date</th>\n",
       "      <th></th>\n",
       "      <th></th>\n",
       "      <th></th>\n",
       "      <th></th>\n",
       "      <th></th>\n",
       "      <th></th>\n",
       "    </tr>\n",
       "  </thead>\n",
       "  <tbody>\n",
       "    <tr>\n",
       "      <th>2019-01-02</th>\n",
       "      <td>46.209999</td>\n",
       "      <td>46.990002</td>\n",
       "      <td>45.855000</td>\n",
       "      <td>46.259998</td>\n",
       "      <td>40.076603</td>\n",
       "      <td>1289100</td>\n",
       "    </tr>\n",
       "    <tr>\n",
       "      <th>2019-01-03</th>\n",
       "      <td>46.000000</td>\n",
       "      <td>46.099998</td>\n",
       "      <td>44.882999</td>\n",
       "      <td>45.049999</td>\n",
       "      <td>39.028336</td>\n",
       "      <td>1158800</td>\n",
       "    </tr>\n",
       "    <tr>\n",
       "      <th>2019-01-04</th>\n",
       "      <td>45.950001</td>\n",
       "      <td>47.180000</td>\n",
       "      <td>45.880001</td>\n",
       "      <td>47.130001</td>\n",
       "      <td>40.830311</td>\n",
       "      <td>1538500</td>\n",
       "    </tr>\n",
       "    <tr>\n",
       "      <th>2019-01-07</th>\n",
       "      <td>47.310001</td>\n",
       "      <td>48.110001</td>\n",
       "      <td>46.840000</td>\n",
       "      <td>47.740002</td>\n",
       "      <td>41.358780</td>\n",
       "      <td>954700</td>\n",
       "    </tr>\n",
       "    <tr>\n",
       "      <th>2019-01-08</th>\n",
       "      <td>48.709999</td>\n",
       "      <td>49.480000</td>\n",
       "      <td>48.520000</td>\n",
       "      <td>49.209999</td>\n",
       "      <td>42.632290</td>\n",
       "      <td>1921800</td>\n",
       "    </tr>\n",
       "    <tr>\n",
       "      <th>...</th>\n",
       "      <td>...</td>\n",
       "      <td>...</td>\n",
       "      <td>...</td>\n",
       "      <td>...</td>\n",
       "      <td>...</td>\n",
       "      <td>...</td>\n",
       "    </tr>\n",
       "    <tr>\n",
       "      <th>2023-05-26</th>\n",
       "      <td>56.849998</td>\n",
       "      <td>56.900002</td>\n",
       "      <td>55.790001</td>\n",
       "      <td>55.889999</td>\n",
       "      <td>55.889999</td>\n",
       "      <td>3027700</td>\n",
       "    </tr>\n",
       "    <tr>\n",
       "      <th>2023-05-30</th>\n",
       "      <td>56.040001</td>\n",
       "      <td>56.270000</td>\n",
       "      <td>53.805000</td>\n",
       "      <td>54.430000</td>\n",
       "      <td>54.430000</td>\n",
       "      <td>4421300</td>\n",
       "    </tr>\n",
       "    <tr>\n",
       "      <th>2023-05-31</th>\n",
       "      <td>53.930000</td>\n",
       "      <td>53.970001</td>\n",
       "      <td>52.349998</td>\n",
       "      <td>52.700001</td>\n",
       "      <td>52.700001</td>\n",
       "      <td>4043300</td>\n",
       "    </tr>\n",
       "    <tr>\n",
       "      <th>2023-06-01</th>\n",
       "      <td>53.020000</td>\n",
       "      <td>53.959999</td>\n",
       "      <td>52.229000</td>\n",
       "      <td>53.430000</td>\n",
       "      <td>53.430000</td>\n",
       "      <td>4505200</td>\n",
       "    </tr>\n",
       "    <tr>\n",
       "      <th>2023-06-02</th>\n",
       "      <td>54.480000</td>\n",
       "      <td>55.338001</td>\n",
       "      <td>53.771000</td>\n",
       "      <td>54.790001</td>\n",
       "      <td>54.790001</td>\n",
       "      <td>6305600</td>\n",
       "    </tr>\n",
       "  </tbody>\n",
       "</table>\n",
       "<p>1113 rows × 6 columns</p>\n",
       "</div>"
      ],
      "text/plain": [
       "                 Open       High        Low      Close  Adj Close   Volume\n",
       "Date                                                                      \n",
       "2019-01-02  46.209999  46.990002  45.855000  46.259998  40.076603  1289100\n",
       "2019-01-03  46.000000  46.099998  44.882999  45.049999  39.028336  1158800\n",
       "2019-01-04  45.950001  47.180000  45.880001  47.130001  40.830311  1538500\n",
       "2019-01-07  47.310001  48.110001  46.840000  47.740002  41.358780   954700\n",
       "2019-01-08  48.709999  49.480000  48.520000  49.209999  42.632290  1921800\n",
       "...               ...        ...        ...        ...        ...      ...\n",
       "2023-05-26  56.849998  56.900002  55.790001  55.889999  55.889999  3027700\n",
       "2023-05-30  56.040001  56.270000  53.805000  54.430000  54.430000  4421300\n",
       "2023-05-31  53.930000  53.970001  52.349998  52.700001  52.700001  4043300\n",
       "2023-06-01  53.020000  53.959999  52.229000  53.430000  53.430000  4505200\n",
       "2023-06-02  54.480000  55.338001  53.771000  54.790001  54.790001  6305600\n",
       "\n",
       "[1113 rows x 6 columns]"
      ]
     },
     "execution_count": 4,
     "metadata": {},
     "output_type": "execute_result"
    }
   ],
   "source": [
    "# Xem các dòng dữ liệu vừa được thêm vào\n",
    "df"
   ]
  },
  {
   "attachments": {},
   "cell_type": "markdown",
   "metadata": {},
   "source": [
    "<h2> Mô tả tập dữ liệu"
   ]
  },
  {
   "cell_type": "code",
   "execution_count": 5,
   "metadata": {},
   "outputs": [
    {
     "data": {
      "text/html": [
       "<div>\n",
       "<style scoped>\n",
       "    .dataframe tbody tr th:only-of-type {\n",
       "        vertical-align: middle;\n",
       "    }\n",
       "\n",
       "    .dataframe tbody tr th {\n",
       "        vertical-align: top;\n",
       "    }\n",
       "\n",
       "    .dataframe thead th {\n",
       "        text-align: right;\n",
       "    }\n",
       "</style>\n",
       "<table border=\"1\" class=\"dataframe\">\n",
       "  <thead>\n",
       "    <tr style=\"text-align: right;\">\n",
       "      <th></th>\n",
       "      <th>Open</th>\n",
       "      <th>High</th>\n",
       "      <th>Low</th>\n",
       "      <th>Close</th>\n",
       "      <th>Adj Close</th>\n",
       "      <th>Volume</th>\n",
       "    </tr>\n",
       "  </thead>\n",
       "  <tbody>\n",
       "    <tr>\n",
       "      <th>count</th>\n",
       "      <td>1113.000000</td>\n",
       "      <td>1113.000000</td>\n",
       "      <td>1113.000000</td>\n",
       "      <td>1113.000000</td>\n",
       "      <td>1113.000000</td>\n",
       "      <td>1.113000e+03</td>\n",
       "    </tr>\n",
       "    <tr>\n",
       "      <th>mean</th>\n",
       "      <td>60.527728</td>\n",
       "      <td>61.390447</td>\n",
       "      <td>59.638964</td>\n",
       "      <td>60.507996</td>\n",
       "      <td>57.282885</td>\n",
       "      <td>2.074894e+06</td>\n",
       "    </tr>\n",
       "    <tr>\n",
       "      <th>std</th>\n",
       "      <td>18.465554</td>\n",
       "      <td>18.880184</td>\n",
       "      <td>18.051778</td>\n",
       "      <td>18.476367</td>\n",
       "      <td>19.416189</td>\n",
       "      <td>1.209581e+06</td>\n",
       "    </tr>\n",
       "    <tr>\n",
       "      <th>min</th>\n",
       "      <td>24.820000</td>\n",
       "      <td>26.750999</td>\n",
       "      <td>23.848000</td>\n",
       "      <td>25.100000</td>\n",
       "      <td>22.519356</td>\n",
       "      <td>4.274000e+05</td>\n",
       "    </tr>\n",
       "    <tr>\n",
       "      <th>25%</th>\n",
       "      <td>48.500000</td>\n",
       "      <td>48.939999</td>\n",
       "      <td>48.119999</td>\n",
       "      <td>48.470001</td>\n",
       "      <td>43.079746</td>\n",
       "      <td>1.294700e+06</td>\n",
       "    </tr>\n",
       "    <tr>\n",
       "      <th>50%</th>\n",
       "      <td>55.360001</td>\n",
       "      <td>55.930000</td>\n",
       "      <td>54.549999</td>\n",
       "      <td>55.139999</td>\n",
       "      <td>52.403740</td>\n",
       "      <td>1.753500e+06</td>\n",
       "    </tr>\n",
       "    <tr>\n",
       "      <th>75%</th>\n",
       "      <td>73.580002</td>\n",
       "      <td>74.629997</td>\n",
       "      <td>72.489998</td>\n",
       "      <td>73.699997</td>\n",
       "      <td>72.680000</td>\n",
       "      <td>2.562700e+06</td>\n",
       "    </tr>\n",
       "    <tr>\n",
       "      <th>max</th>\n",
       "      <td>113.760002</td>\n",
       "      <td>117.250000</td>\n",
       "      <td>111.910004</td>\n",
       "      <td>114.500000</td>\n",
       "      <td>111.642052</td>\n",
       "      <td>1.133740e+07</td>\n",
       "    </tr>\n",
       "  </tbody>\n",
       "</table>\n",
       "</div>"
      ],
      "text/plain": [
       "              Open         High          Low        Close    Adj Close  \\\n",
       "count  1113.000000  1113.000000  1113.000000  1113.000000  1113.000000   \n",
       "mean     60.527728    61.390447    59.638964    60.507996    57.282885   \n",
       "std      18.465554    18.880184    18.051778    18.476367    19.416189   \n",
       "min      24.820000    26.750999    23.848000    25.100000    22.519356   \n",
       "25%      48.500000    48.939999    48.119999    48.470001    43.079746   \n",
       "50%      55.360001    55.930000    54.549999    55.139999    52.403740   \n",
       "75%      73.580002    74.629997    72.489998    73.699997    72.680000   \n",
       "max     113.760002   117.250000   111.910004   114.500000   111.642052   \n",
       "\n",
       "             Volume  \n",
       "count  1.113000e+03  \n",
       "mean   2.074894e+06  \n",
       "std    1.209581e+06  \n",
       "min    4.274000e+05  \n",
       "25%    1.294700e+06  \n",
       "50%    1.753500e+06  \n",
       "75%    2.562700e+06  \n",
       "max    1.133740e+07  "
      ]
     },
     "execution_count": 5,
     "metadata": {},
     "output_type": "execute_result"
    }
   ],
   "source": [
    "# Các độ đo về các thuộc tính của tập dữ liệu\n",
    "df.describe()"
   ]
  },
  {
   "cell_type": "code",
   "execution_count": 6,
   "metadata": {},
   "outputs": [
    {
     "data": {
      "image/png": "[encoded data removed]",
      "text/plain": [
       "<Figure size 640x480 with 1 Axes>"
      ]
     },
     "metadata": {},
     "output_type": "display_data"
    }
   ],
   "source": [
    "# Vẽ biểu đồ Histogram\n",
    "plt.hist(df['Close'])\n",
    "\n",
    "# Thiết lập label và title\n",
    "plt.xlabel('Close value')\n",
    "plt.ylabel('Frequency')\n",
    "plt.title('Histogram of Close Value')\n",
    "\n",
    "# Hiển thị biểu đồ histogram\n",
    "plt.show()"
   ]
  },
  {
   "cell_type": "code",
   "execution_count": 7,
   "metadata": {},
   "outputs": [
    {
     "data": {
      "image/png": "[encoded data removed]",
      "text/plain": [
       "<Figure size 640x480 with 1 Axes>"
      ]
     },
     "metadata": {},
     "output_type": "display_data"
    }
   ],
   "source": [
    "# Vẽ biểu đồ boxplot\n",
    "plt.boxplot(df.Close)\n",
    "\n",
    "# Thiết lập label và title\n",
    "plt.title(\"Boxplot of Close Value\")\n",
    "plt.ylabel(\"Close value\")\n",
    "\n",
    "# Hiển thị biểu đồ box plot\n",
    "plt.show()"
   ]
  },
  {
   "attachments": {},
   "cell_type": "markdown",
   "metadata": {},
   "source": [
    "<h2> Scale dữ liệu và phân chia các tập dữ liệu train, validation và test"
   ]
  },
  {
   "cell_type": "code",
   "execution_count": 8,
   "metadata": {},
   "outputs": [],
   "source": [
    "#Lấy cột thuộc tính 'Close'\n",
    "data = df['Close'].values"
   ]
  },
  {
   "cell_type": "code",
   "execution_count": 9,
   "metadata": {},
   "outputs": [],
   "source": [
    "# Scale dữ liệu\n",
    "scaler = MinMaxScaler()\n",
    "data_scaled = scaler.fit_transform(data.reshape(-1, 1))"
   ]
  },
  {
   "cell_type": "code",
   "execution_count": 10,
   "metadata": {},
   "outputs": [],
   "source": [
    "# Chia dữ liệu thành tập train, validation và test theo tỉ lệ 7:2:1\n",
    "train_size = int(len(data_scaled) * 0.7)\n",
    "val_size = int(len(data_scaled) * 0.2)\n",
    "test_size = len(data_scaled) - train_size - val_size\n",
    "\n",
    "train_data = data_scaled[0 : train_size, :]\n",
    "val_data = data_scaled[train_size : train_size + val_size, :]\n",
    "test_data = data_scaled[train_size + val_size : len(data_scaled), :]"
   ]
  },
  {
   "cell_type": "code",
   "execution_count": 11,
   "metadata": {},
   "outputs": [],
   "source": [
    "sequence_length = 30 #sử dụng 30 ngày trước đó để dự đoán ngày tiếp theo \n",
    "\n",
    "def add_data(data, sequence_length):\n",
    "    X, Y = [], []\n",
    "    for i in range(len(data) - sequence_length - 1):\n",
    "        X.append(data[i : (i + sequence_length), :])\n",
    "        Y.append(data[i + sequence_length, 0])\n",
    "    return np.array(X), np.array(Y)\n",
    "\n",
    "# Thêm dữ liệu cho tập train, validation và test\n",
    "X_train, y_train = add_data(train_data, sequence_length)\n",
    "X_test, y_test = add_data(test_data, sequence_length)\n",
    "X_val, y_val = add_data(val_data, sequence_length)"
   ]
  },
  {
   "attachments": {},
   "cell_type": "markdown",
   "metadata": {},
   "source": [
    "<h2>Xây dựng mô hình\n"
   ]
  },
  {
   "cell_type": "code",
   "execution_count": 12,
   "metadata": {},
   "outputs": [],
   "source": [
    "model = Sequential() #Đóng gói trình tự của các layer bên trong\n",
    "\n",
    "#4 lớp LSTM\n",
    "#Dropout: tránh việc nhớ quá nhiều thông tin => vô hiệu hóa một phần dữ liệu trước đó\n",
    "model.add(LSTM(units = 50,return_sequences=True,input_shape=(X_train.shape[1],1)))\n",
    "model.add(Dropout(0.2))\n",
    "model.add(LSTM(units = 50,return_sequences=True))\n",
    "model.add(Dropout(0.2))\n",
    "model.add(LSTM(units = 50,return_sequences=True))\n",
    "model.add(Dropout(0.2))\n",
    "model.add(LSTM(units=50))\n",
    "model.add(Dropout(0.2))\n",
    "\n",
    "#1 lớp Dense (dày đặc)\n",
    "model.add(Dense(units=1)) #1: 1 đơn vị cung cấp giá trị dự đoán\n",
    "\n",
    "#Tối ưu hóa mô hình bằng adam\n",
    "model.compile(optimizer = 'adam',loss='mean_squared_error')"
   ]
  },
  {
   "attachments": {},
   "cell_type": "markdown",
   "metadata": {},
   "source": [
    "<h2>Huấn luyện mô hình"
   ]
  },
  {
   "cell_type": "code",
   "execution_count": 13,
   "metadata": {},
   "outputs": [
    {
     "name": "stdout",
     "output_type": "stream",
     "text": [
      "Epoch 1/50\n",
      "24/24 - 15s - loss: 0.0165 - val_loss: 0.0213 - 15s/epoch - 620ms/step\n",
      "Epoch 2/50\n",
      "24/24 - 2s - loss: 0.0033 - val_loss: 0.0075 - 2s/epoch - 82ms/step\n",
      "Epoch 3/50\n",
      "24/24 - 2s - loss: 0.0024 - val_loss: 0.0075 - 2s/epoch - 80ms/step\n",
      "Epoch 4/50\n",
      "24/24 - 7s - loss: 0.0021 - val_loss: 0.0073 - 7s/epoch - 287ms/step\n",
      "Epoch 5/50\n",
      "24/24 - 6s - loss: 0.0020 - val_loss: 0.0075 - 6s/epoch - 252ms/step\n",
      "Epoch 6/50\n",
      "24/24 - 3s - loss: 0.0021 - val_loss: 0.0076 - 3s/epoch - 121ms/step\n",
      "Epoch 7/50\n",
      "24/24 - 3s - loss: 0.0020 - val_loss: 0.0078 - 3s/epoch - 122ms/step\n",
      "Epoch 8/50\n",
      "24/24 - 3s - loss: 0.0021 - val_loss: 0.0065 - 3s/epoch - 113ms/step\n",
      "Epoch 9/50\n",
      "24/24 - 3s - loss: 0.0020 - val_loss: 0.0059 - 3s/epoch - 124ms/step\n",
      "Epoch 10/50\n",
      "24/24 - 2s - loss: 0.0019 - val_loss: 0.0096 - 2s/epoch - 86ms/step\n",
      "Epoch 11/50\n",
      "24/24 - 2s - loss: 0.0018 - val_loss: 0.0064 - 2s/epoch - 88ms/step\n",
      "Epoch 12/50\n",
      "24/24 - 2s - loss: 0.0018 - val_loss: 0.0122 - 2s/epoch - 83ms/step\n",
      "Epoch 13/50\n",
      "24/24 - 2s - loss: 0.0018 - val_loss: 0.0072 - 2s/epoch - 92ms/step\n",
      "Epoch 14/50\n",
      "24/24 - 2s - loss: 0.0017 - val_loss: 0.0052 - 2s/epoch - 96ms/step\n",
      "Epoch 15/50\n",
      "24/24 - 2s - loss: 0.0017 - val_loss: 0.0049 - 2s/epoch - 92ms/step\n",
      "Epoch 16/50\n",
      "24/24 - 2s - loss: 0.0016 - val_loss: 0.0051 - 2s/epoch - 84ms/step\n",
      "Epoch 17/50\n",
      "24/24 - 2s - loss: 0.0018 - val_loss: 0.0079 - 2s/epoch - 82ms/step\n",
      "Epoch 18/50\n",
      "24/24 - 2s - loss: 0.0017 - val_loss: 0.0061 - 2s/epoch - 79ms/step\n",
      "Epoch 19/50\n",
      "24/24 - 2s - loss: 0.0015 - val_loss: 0.0044 - 2s/epoch - 85ms/step\n",
      "Epoch 20/50\n",
      "24/24 - 3s - loss: 0.0015 - val_loss: 0.0053 - 3s/epoch - 113ms/step\n",
      "Epoch 21/50\n",
      "24/24 - 3s - loss: 0.0020 - val_loss: 0.0054 - 3s/epoch - 109ms/step\n",
      "Epoch 22/50\n",
      "24/24 - 3s - loss: 0.0017 - val_loss: 0.0042 - 3s/epoch - 105ms/step\n",
      "Epoch 23/50\n",
      "24/24 - 2s - loss: 0.0016 - val_loss: 0.0041 - 2s/epoch - 95ms/step\n",
      "Epoch 24/50\n",
      "24/24 - 2s - loss: 0.0015 - val_loss: 0.0039 - 2s/epoch - 89ms/step\n",
      "Epoch 25/50\n",
      "24/24 - 2s - loss: 0.0014 - val_loss: 0.0041 - 2s/epoch - 89ms/step\n",
      "Epoch 26/50\n",
      "24/24 - 2s - loss: 0.0014 - val_loss: 0.0041 - 2s/epoch - 89ms/step\n",
      "Epoch 27/50\n",
      "24/24 - 2s - loss: 0.0014 - val_loss: 0.0038 - 2s/epoch - 98ms/step\n",
      "Epoch 28/50\n",
      "24/24 - 2s - loss: 0.0014 - val_loss: 0.0036 - 2s/epoch - 92ms/step\n",
      "Epoch 29/50\n",
      "24/24 - 2s - loss: 0.0014 - val_loss: 0.0038 - 2s/epoch - 88ms/step\n",
      "Epoch 30/50\n",
      "24/24 - 2s - loss: 0.0012 - val_loss: 0.0036 - 2s/epoch - 88ms/step\n",
      "Epoch 31/50\n",
      "24/24 - 2s - loss: 0.0014 - val_loss: 0.0035 - 2s/epoch - 90ms/step\n",
      "Epoch 32/50\n",
      "24/24 - 2s - loss: 0.0012 - val_loss: 0.0034 - 2s/epoch - 87ms/step\n",
      "Epoch 33/50\n",
      "24/24 - 2s - loss: 0.0014 - val_loss: 0.0032 - 2s/epoch - 88ms/step\n",
      "Epoch 34/50\n",
      "24/24 - 2s - loss: 0.0012 - val_loss: 0.0035 - 2s/epoch - 87ms/step\n",
      "Epoch 35/50\n",
      "24/24 - 2s - loss: 0.0012 - val_loss: 0.0031 - 2s/epoch - 87ms/step\n",
      "Epoch 36/50\n",
      "24/24 - 2s - loss: 0.0012 - val_loss: 0.0038 - 2s/epoch - 88ms/step\n",
      "Epoch 37/50\n",
      "24/24 - 2s - loss: 0.0013 - val_loss: 0.0049 - 2s/epoch - 87ms/step\n",
      "Epoch 38/50\n",
      "24/24 - 2s - loss: 0.0011 - val_loss: 0.0057 - 2s/epoch - 87ms/step\n",
      "Epoch 39/50\n",
      "24/24 - 2s - loss: 0.0012 - val_loss: 0.0031 - 2s/epoch - 91ms/step\n",
      "Epoch 40/50\n",
      "24/24 - 2s - loss: 0.0011 - val_loss: 0.0031 - 2s/epoch - 87ms/step\n",
      "Epoch 41/50\n",
      "24/24 - 2s - loss: 0.0011 - val_loss: 0.0029 - 2s/epoch - 88ms/step\n",
      "Epoch 42/50\n",
      "24/24 - 2s - loss: 0.0011 - val_loss: 0.0035 - 2s/epoch - 91ms/step\n",
      "Epoch 43/50\n",
      "24/24 - 3s - loss: 0.0011 - val_loss: 0.0029 - 3s/epoch - 106ms/step\n",
      "Epoch 44/50\n",
      "24/24 - 2s - loss: 9.7074e-04 - val_loss: 0.0030 - 2s/epoch - 87ms/step\n",
      "Epoch 45/50\n",
      "24/24 - 2s - loss: 9.7347e-04 - val_loss: 0.0035 - 2s/epoch - 87ms/step\n",
      "Epoch 46/50\n",
      "24/24 - 2s - loss: 0.0011 - val_loss: 0.0029 - 2s/epoch - 92ms/step\n",
      "Epoch 47/50\n",
      "24/24 - 3s - loss: 9.0730e-04 - val_loss: 0.0031 - 3s/epoch - 111ms/step\n",
      "Epoch 48/50\n",
      "24/24 - 3s - loss: 8.5125e-04 - val_loss: 0.0029 - 3s/epoch - 109ms/step\n",
      "Epoch 49/50\n",
      "24/24 - 3s - loss: 9.3279e-04 - val_loss: 0.0038 - 3s/epoch - 111ms/step\n",
      "Epoch 50/50\n",
      "24/24 - 3s - loss: 8.3214e-04 - val_loss: 0.0028 - 3s/epoch - 108ms/step\n"
     ]
    }
   ],
   "source": [
    "history = model.fit(X_train, y_train, validation_data=(X_val, y_val), epochs=50, batch_size=32, verbose=2)"
   ]
  },
  {
   "attachments": {},
   "cell_type": "markdown",
   "metadata": {},
   "source": [
    "<h2>Dự đoán CLose Price trên tập test và validation"
   ]
  },
  {
   "cell_type": "code",
   "execution_count": 14,
   "metadata": {},
   "outputs": [
    {
     "name": "stdout",
     "output_type": "stream",
     "text": [
      "3/3 [==============================] - 6s 34ms/step\n",
      "6/6 [==============================] - 0s 36ms/step\n"
     ]
    }
   ],
   "source": [
    "y_pred = model.predict(X_test)\n",
    "y_pred_val = model.predict(X_val)"
   ]
  },
  {
   "attachments": {},
   "cell_type": "markdown",
   "metadata": {},
   "source": [
    "<h2>Tính độ lỗi của mô hình"
   ]
  },
  {
   "cell_type": "code",
   "execution_count": 15,
   "metadata": {},
   "outputs": [
    {
     "name": "stdout",
     "output_type": "stream",
     "text": [
      "MAE on Test set:  0.03329418161124658\n",
      "MAPE on Test set:  0.071804595756225\n",
      "MSE on Test set:  0.0016671565984496214\n",
      "RMSE on Test set:  0.0408308290198671\n",
      "MSLE on Test set:  0.000758415706721212\n"
     ]
    }
   ],
   "source": [
    "# Độ lỗi trên tập test\n",
    "test_mae = mean_absolute_error(y_test, y_pred)\n",
    "test_mape = mean_absolute_percentage_error(y_test, y_pred)\n",
    "test_mse = mean_squared_error(y_test, y_pred)\n",
    "test_rmse = np.sqrt(test_mse)\n",
    "test_msle = mean_squared_log_error(y_test, y_pred)\n",
    "\n",
    "print(f\"MAE on Test set: \", test_mae)\n",
    "print(f\"MAPE on Test set: \", test_mape)\n",
    "print(f\"MSE on Test set: \", test_mse)\n",
    "print(f\"RMSE on Test set: \", test_rmse)\n",
    "print(f\"MSLE on Test set: \", test_msle)"
   ]
  },
  {
   "cell_type": "code",
   "execution_count": 16,
   "metadata": {},
   "outputs": [
    {
     "name": "stdout",
     "output_type": "stream",
     "text": [
      "MAE on Validation set:  0.04318647994898988\n",
      "MAPE on Validation set:  0.061148364180559724\n",
      "MSE on Validation set:  0.002839968703895139\n",
      "RMSE on Validation set:  0.05329135674661641\n",
      "MSLE on Validation set:  0.000942069952444792\n"
     ]
    }
   ],
   "source": [
    "# Độ lỗi trên tập validation\n",
    "val_mae = mean_absolute_error(y_val, y_pred_val)\n",
    "val_mape = mean_absolute_percentage_error(y_val, y_pred_val)\n",
    "val_mse = mean_squared_error(y_val, y_pred_val)\n",
    "val_rmse = np.sqrt(val_mse)\n",
    "val_msle = mean_squared_log_error(y_val, y_pred_val)\n",
    "\n",
    "print(f\"MAE on Validation set: \", val_mae)\n",
    "print(f\"MAPE on Validation set: \", val_mape)\n",
    "print(f\"MSE on Validation set: \", val_mse)\n",
    "print(f\"RMSE on Validation set: \", val_rmse)\n",
    "print(f\"MSLE on Validation set: \", val_msle)"
   ]
  },
  {
   "attachments": {},
   "cell_type": "markdown",
   "metadata": {},
   "source": [
    "<h2>Dự đoán giá đóng cửa cho 30 ngày tiếp theo"
   ]
  },
  {
   "cell_type": "code",
   "execution_count": 17,
   "metadata": {},
   "outputs": [
    {
     "name": "stdout",
     "output_type": "stream",
     "text": [
      "1/1 [==============================] - 0s 54ms/step\n",
      "1/1 [==============================] - 0s 98ms/step\n",
      "1/1 [==============================] - 0s 63ms/step\n",
      "1/1 [==============================] - 0s 62ms/step\n",
      "1/1 [==============================] - 0s 57ms/step\n",
      "1/1 [==============================] - 0s 62ms/step\n",
      "1/1 [==============================] - 0s 62ms/step\n",
      "1/1 [==============================] - 0s 61ms/step\n",
      "1/1 [==============================] - 0s 60ms/step\n",
      "1/1 [==============================] - 0s 66ms/step\n",
      "1/1 [==============================] - 0s 54ms/step\n",
      "1/1 [==============================] - 0s 60ms/step\n",
      "1/1 [==============================] - 0s 62ms/step\n",
      "1/1 [==============================] - 0s 58ms/step\n",
      "1/1 [==============================] - 0s 59ms/step\n",
      "1/1 [==============================] - 0s 63ms/step\n",
      "1/1 [==============================] - 0s 59ms/step\n",
      "1/1 [==============================] - 0s 61ms/step\n",
      "1/1 [==============================] - 0s 61ms/step\n",
      "1/1 [==============================] - 0s 59ms/step\n",
      "1/1 [==============================] - 0s 56ms/step\n",
      "1/1 [==============================] - 0s 61ms/step\n",
      "1/1 [==============================] - 0s 63ms/step\n",
      "1/1 [==============================] - 0s 68ms/step\n",
      "1/1 [==============================] - 0s 59ms/step\n",
      "1/1 [==============================] - 0s 60ms/step\n",
      "1/1 [==============================] - 0s 62ms/step\n",
      "1/1 [==============================] - 0s 61ms/step\n",
      "1/1 [==============================] - 0s 66ms/step\n",
      "1/1 [==============================] - 0s 62ms/step\n"
     ]
    }
   ],
   "source": [
    "# Lấy ngày cuối cùng từ vị trí hiện tại\n",
    "last_date = df.index[-1]\n",
    "\n",
    "# Thêm một ngày mới sau ngày cuối cùng\n",
    "next_date = last_date + pd.DateOffset(days=1)\n",
    "\n",
    "# Tạo danh sách các chỉ số bắt đầu từ ngày tiếp theo trong 30 ngày\n",
    "index_next_30_days = pd.date_range(start=next_date, periods=30).tolist()\n",
    "\n",
    "# Dự đoán giá đóng cửa cho 30 ngày tiếp theo\n",
    "last_sequence_days = data[-sequence_length:].reshape(1, -1, 1)\n",
    "y_next_30_days = []\n",
    "\n",
    "for i in range(30):\n",
    "    # Dự đoán giá đóng cửa của ngày kế tiếp\n",
    "    next_day_pred = model.predict(last_sequence_days)\n",
    "    \n",
    "    # Lưu giá trị dự đoán\n",
    "    y_next_30_days.append(next_day_pred[0][0])\n",
    "    \n",
    "    # Cập nhật thông tin về ngày kế tiếp\n",
    "    last_sequence_days = np.concatenate([last_sequence_days[:, 1:, :], next_day_pred.reshape(1, 1, 1)], axis=1)"
   ]
  },
  {
   "cell_type": "code",
   "execution_count": 18,
   "metadata": {},
   "outputs": [
    {
     "name": "stdout",
     "output_type": "stream",
     "text": [
      "[2.0274105, 2.0350664, 2.0402522, 2.0417027, 2.0379996, 2.0286026, 2.0135174, 1.9932597, 1.9687401, 1.9411734, 1.9117604, 1.8816484, 1.8512543, 1.820618, 1.7895062, 1.7576631, 1.725076, 1.6920795, 1.6591746, 1.6270413, 1.5963024, 1.5673736, 1.5404063, 1.5153043, 1.4917873, 1.4694697, 1.4479532, 1.4268752, 1.4058949, 1.3846573]\n"
     ]
    }
   ],
   "source": [
    "# Hiển thị giá trị dự đoán\n",
    "print(y_next_30_days)"
   ]
  },
  {
   "cell_type": "code",
   "execution_count": 19,
   "metadata": {},
   "outputs": [],
   "source": [
    "# Chuyển hóa dữ liệu lại như cũ\n",
    "y_pred = scaler.inverse_transform(y_pred)\n",
    "y_pred_val = scaler.inverse_transform(y_pred_val)\n",
    "train_data = scaler.inverse_transform(train_data)\n",
    "test_data = scaler.inverse_transform(test_data)\n",
    "val_data = scaler.inverse_transform(val_data)"
   ]
  },
  {
   "attachments": {},
   "cell_type": "markdown",
   "metadata": {},
   "source": [
    "<h2>Trực quan hóa mô hình"
   ]
  },
  {
   "cell_type": "code",
   "execution_count": 20,
   "metadata": {},
   "outputs": [
    {
     "data": {
      "image/png": "[encoded data removed]",
      "text/plain": [
       "<Figure size 1200x500 with 1 Axes>"
      ]
     },
     "metadata": {},
     "output_type": "display_data"
    }
   ],
   "source": [
    "plt.figure(figsize=(12, 5))\n",
    "\n",
    "# Tập train\n",
    "plt.plot(df[:train_size].index, train_data)\n",
    "\n",
    "# Tập test\n",
    "plt.plot(df[train_size + val_size: ].index, test_data)\n",
    "\n",
    "# Predict trên test\n",
    "plt.plot(df[train_size + val_size + sequence_length + 1:].index, y_pred)\n",
    "\n",
    "# Tập val\n",
    "plt.plot(df[train_size : train_size + val_size].index, val_data)\n",
    "\n",
    "# Predict trên tập Val\n",
    "plt.plot(df[train_size + sequence_length + 1: train_size + val_size].index, y_pred_val)\n",
    "\n",
    "# Dự đoán 30 ngày\n",
    "plt.plot(index_next_30_days, y_next_30_days)\n",
    "\n",
    "plt.legend(['Train', 'Test', 'Predict Test','Validate',  'Predict Validate', 'Predict30days'])\n",
    "plt.grid()\n",
    "plt.savefig('IS403_RNN_NTR_721.png')\n",
    "plt.show()"
   ]
  }
 ],
 "metadata": {
  "kernelspec": {
   "display_name": "user_env",
   "language": "python",
   "name": "python3"
  },
  "language_info": {
   "codemirror_mode": {
    "name": "ipython",
    "version": 3
   },
   "file_extension": ".py",
   "mimetype": "text/x-python",
   "name": "python",
   "nbconvert_exporter": "python",
   "pygments_lexer": "ipython3",
   "version": "3.9.16"
  },
  "orig_nbformat": 4
 },
 "nbformat": 4,
 "nbformat_minor": 2
}
