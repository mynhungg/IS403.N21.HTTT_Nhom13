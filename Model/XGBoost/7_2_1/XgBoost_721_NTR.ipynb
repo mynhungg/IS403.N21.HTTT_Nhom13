{
 "cells": [
  {
   "attachments": {},
   "cell_type": "markdown",
   "metadata": {},
   "source": [
    "                            - DỰ ĐOÁN GIÁ CLOSE CHO CTLT.csv BẰNG XGBOOST"
   ]
  },
  {
   "attachments": {},
   "cell_type": "markdown",
   "metadata": {},
   "source": [
    "IMPORT THƯ VIỆN"
   ]
  },
  {
   "cell_type": "code",
   "execution_count": 1,
   "metadata": {},
   "outputs": [
    {
     "name": "stderr",
     "output_type": "stream",
     "text": [
      "<frozen importlib._bootstrap>:228: RuntimeWarning: scipy._lib.messagestream.MessageStream size changed, may indicate binary incompatibility. Expected 56 from C header, got 64 from PyObject\n"
     ]
    }
   ],
   "source": [
    "import numpy as np\n",
    "import pandas as pd\n",
    "from pandas import DataFrame\n",
    "from pandas import concat\n",
    "from sklearn.metrics import mean_absolute_error\n",
    "from sklearn.preprocessing import MinMaxScaler\n",
    "from xgboost import XGBRegressor\n",
    "import matplotlib.pyplot as plt\n",
    "from sklearn.metrics import mean_absolute_error, mean_squared_error, mean_absolute_percentage_error, mean_squared_log_error"
   ]
  },
  {
   "attachments": {},
   "cell_type": "markdown",
   "metadata": {},
   "source": [
    "ĐỌC DỮ LIỆU"
   ]
  },
  {
   "cell_type": "code",
   "execution_count": 2,
   "metadata": {},
   "outputs": [],
   "source": [
    "# Đọc dữ liệu\n",
    "stock_ntr = pd.read_csv('../../Dataset/NTR.csv')\n",
    "\n",
    "# Đổi kiểu dữ liệu Date\n",
    "stock_ntr['Date'] = pd.to_datetime(stock_ntr['Date'])\n",
    "\n",
    "# Set index là dữ liệu cột Date\n",
    "stock_ntr = stock_ntr.set_index('Date')"
   ]
  },
  {
   "attachments": {},
   "cell_type": "markdown",
   "metadata": {},
   "source": [
    "CHUYỂN ĐỔI KIỂU DỮ LIỆU TỪ TIME SERIES SANG HỌC CÓ GIÁM SÁT"
   ]
  },
  {
   "cell_type": "code",
   "execution_count": 3,
   "metadata": {},
   "outputs": [],
   "source": [
    "def series_to_supervised(data, n_in=1, n_out=1, dropnan=True):\n",
    "\tdf = DataFrame(data)\n",
    "\tcols = list()\n",
    "\t# input sequence (t-n, ... t-1)\n",
    "\tfor i in range(n_in, 0, -1):\n",
    "\t\tcols.append(df.shift(i))\n",
    "\t# forecast sequence (t, t+1, ... t+n)\n",
    "\tfor i in range(0, n_out):\n",
    "\t\tcols.append(df.shift(-i))\n",
    "\t# put it all together\n",
    "\tagg = concat(cols, axis=1)\n",
    "\t# drop rows with NaN values\n",
    "\tif dropnan:\n",
    "\t\tagg.dropna(inplace=True)\n",
    "\treturn agg.values"
   ]
  },
  {
   "cell_type": "code",
   "execution_count": 4,
   "metadata": {},
   "outputs": [],
   "source": [
    "# n_in : 5  : Số lượng quan sát trong quá khứ\n",
    "n_in = 5\n",
    "# n_out: 1: số lượng dự đoán trong tương lai\n",
    "n_out = 1"
   ]
  },
  {
   "cell_type": "code",
   "execution_count": 5,
   "metadata": {},
   "outputs": [],
   "source": [
    "# Dự đoán cột Close\n",
    "stock_ntr_close = stock_ntr['Close']"
   ]
  },
  {
   "cell_type": "code",
   "execution_count": 6,
   "metadata": {},
   "outputs": [],
   "source": [
    "# Lấy ra giá trị của stock\n",
    "values = stock_ntr_close.values\n",
    "\n",
    "# Đổi giá trị sang học có giám sát\n",
    "data_supervised = series_to_supervised(values, n_in, n_out)"
   ]
  },
  {
   "attachments": {},
   "cell_type": "markdown",
   "metadata": {},
   "source": [
    "CHIA TẬP DỮ LIỆU"
   ]
  },
  {
   "cell_type": "code",
   "execution_count": 7,
   "metadata": {},
   "outputs": [],
   "source": [
    "# Tạo các size cho tập dữ liệu\n",
    "train_size = int(len(stock_ntr) * 0.7)\n",
    "test_size = int(len(stock_ntr) * 0.2)\n",
    "val_size = len(stock_ntr) - train_size - test_size"
   ]
  },
  {
   "cell_type": "code",
   "execution_count": 8,
   "metadata": {},
   "outputs": [],
   "source": [
    "# Lấy dữ liệu cho các tập\n",
    "train_data = data_supervised[:train_size]\n",
    "test_data = data_supervised[train_size:train_size+test_size]\n",
    "val_data = data_supervised[train_size+test_size:]"
   ]
  },
  {
   "cell_type": "code",
   "execution_count": 9,
   "metadata": {},
   "outputs": [],
   "source": [
    "X_train, y_train = train_data[:, :-n_out], train_data[:, -n_out:]\n",
    "X_test, y_test = test_data[:, :-n_out], test_data[:, -n_out:]\n",
    "X_val, y_val = val_data[:, :-n_out], val_data[:, -n_out:]"
   ]
  },
  {
   "attachments": {},
   "cell_type": "markdown",
   "metadata": {},
   "source": [
    "ĐỊNH NGHĨA MODEL"
   ]
  },
  {
   "cell_type": "code",
   "execution_count": 10,
   "metadata": {},
   "outputs": [],
   "source": [
    "# Định nghĩa mô hình\n",
    "    # objective: Cấu hình hàm mất mát: sử dụng hàm mất mát là mean squared error (MSE)\n",
    "    # n_estimators: số lượng cây quyết định: 1000\n",
    "model = XGBRegressor(objective='reg:squarederror', n_estimators=1000)"
   ]
  },
  {
   "cell_type": "code",
   "execution_count": 11,
   "metadata": {},
   "outputs": [
    {
     "name": "stdout",
     "output_type": "stream",
     "text": [
      "[0]\tvalidation_0-rmse:59.24375\n",
      "[1]\tvalidation_0-rmse:45.04936\n",
      "[2]\tvalidation_0-rmse:34.79006\n",
      "[3]\tvalidation_0-rmse:27.37050\n",
      "[4]\tvalidation_0-rmse:22.53689\n",
      "[5]\tvalidation_0-rmse:18.71505\n",
      "[6]\tvalidation_0-rmse:16.04152\n",
      "[7]\tvalidation_0-rmse:13.92358\n",
      "[8]\tvalidation_0-rmse:12.37170\n",
      "[9]\tvalidation_0-rmse:11.32835\n",
      "[10]\tvalidation_0-rmse:10.52851\n",
      "[11]\tvalidation_0-rmse:9.92185\n",
      "[12]\tvalidation_0-rmse:9.78366\n",
      "[13]\tvalidation_0-rmse:9.64881\n",
      "[14]\tvalidation_0-rmse:9.53947\n",
      "[15]\tvalidation_0-rmse:9.47072\n",
      "[16]\tvalidation_0-rmse:9.41721\n",
      "[17]\tvalidation_0-rmse:9.36941\n",
      "[18]\tvalidation_0-rmse:9.29372\n",
      "[19]\tvalidation_0-rmse:9.27082\n",
      "[20]\tvalidation_0-rmse:9.25178\n",
      "[21]\tvalidation_0-rmse:9.23715\n",
      "[22]\tvalidation_0-rmse:9.23084\n",
      "[23]\tvalidation_0-rmse:9.22669\n",
      "[24]\tvalidation_0-rmse:9.21281\n",
      "[25]\tvalidation_0-rmse:9.20879\n",
      "[26]\tvalidation_0-rmse:9.20692\n",
      "[27]\tvalidation_0-rmse:9.20126\n",
      "[28]\tvalidation_0-rmse:9.19180\n",
      "[29]\tvalidation_0-rmse:9.18972\n",
      "[30]\tvalidation_0-rmse:9.18911\n",
      "[31]\tvalidation_0-rmse:9.15425\n",
      "[32]\tvalidation_0-rmse:9.16217\n",
      "[33]\tvalidation_0-rmse:9.16112\n",
      "[34]\tvalidation_0-rmse:9.15940\n",
      "[35]\tvalidation_0-rmse:9.15922\n",
      "[36]\tvalidation_0-rmse:9.15891\n",
      "[37]\tvalidation_0-rmse:9.16176\n",
      "[38]\tvalidation_0-rmse:9.16175\n",
      "[39]\tvalidation_0-rmse:9.15985\n",
      "[40]\tvalidation_0-rmse:9.16408\n"
     ]
    },
    {
     "name": "stderr",
     "output_type": "stream",
     "text": [
      "n:\\UIThoc\\Nam3\\Anaconda\\envs\\user_env\\lib\\site-packages\\xgboost\\sklearn.py:835: UserWarning: `early_stopping_rounds` in `fit` method is deprecated for better compatibility with scikit-learn, use `early_stopping_rounds` in constructor or`set_params` instead.\n",
      "  warnings.warn(\n"
     ]
    },
    {
     "data": {
      "text/html": [
       "<style>#sk-container-id-1 {color: black;background-color: white;}#sk-container-id-1 pre{padding: 0;}#sk-container-id-1 div.sk-toggleable {background-color: white;}#sk-container-id-1 label.sk-toggleable__label {cursor: pointer;display: block;width: 100%;margin-bottom: 0;padding: 0.3em;box-sizing: border-box;text-align: center;}#sk-container-id-1 label.sk-toggleable__label-arrow:before {content: \"▸\";float: left;margin-right: 0.25em;color: #696969;}#sk-container-id-1 label.sk-toggleable__label-arrow:hover:before {color: black;}#sk-container-id-1 div.sk-estimator:hover label.sk-toggleable__label-arrow:before {color: black;}#sk-container-id-1 div.sk-toggleable__content {max-height: 0;max-width: 0;overflow: hidden;text-align: left;background-color: #f0f8ff;}#sk-container-id-1 div.sk-toggleable__content pre {margin: 0.2em;color: black;border-radius: 0.25em;background-color: #f0f8ff;}#sk-container-id-1 input.sk-toggleable__control:checked~div.sk-toggleable__content {max-height: 200px;max-width: 100%;overflow: auto;}#sk-container-id-1 input.sk-toggleable__control:checked~label.sk-toggleable__label-arrow:before {content: \"▾\";}#sk-container-id-1 div.sk-estimator input.sk-toggleable__control:checked~label.sk-toggleable__label {background-color: #d4ebff;}#sk-container-id-1 div.sk-label input.sk-toggleable__control:checked~label.sk-toggleable__label {background-color: #d4ebff;}#sk-container-id-1 input.sk-hidden--visually {border: 0;clip: rect(1px 1px 1px 1px);clip: rect(1px, 1px, 1px, 1px);height: 1px;margin: -1px;overflow: hidden;padding: 0;position: absolute;width: 1px;}#sk-container-id-1 div.sk-estimator {font-family: monospace;background-color: #f0f8ff;border: 1px dotted black;border-radius: 0.25em;box-sizing: border-box;margin-bottom: 0.5em;}#sk-container-id-1 div.sk-estimator:hover {background-color: #d4ebff;}#sk-container-id-1 div.sk-parallel-item::after {content: \"\";width: 100%;border-bottom: 1px solid gray;flex-grow: 1;}#sk-container-id-1 div.sk-label:hover label.sk-toggleable__label {background-color: #d4ebff;}#sk-container-id-1 div.sk-serial::before {content: \"\";position: absolute;border-left: 1px solid gray;box-sizing: border-box;top: 0;bottom: 0;left: 50%;z-index: 0;}#sk-container-id-1 div.sk-serial {display: flex;flex-direction: column;align-items: center;background-color: white;padding-right: 0.2em;padding-left: 0.2em;position: relative;}#sk-container-id-1 div.sk-item {position: relative;z-index: 1;}#sk-container-id-1 div.sk-parallel {display: flex;align-items: stretch;justify-content: center;background-color: white;position: relative;}#sk-container-id-1 div.sk-item::before, #sk-container-id-1 div.sk-parallel-item::before {content: \"\";position: absolute;border-left: 1px solid gray;box-sizing: border-box;top: 0;bottom: 0;left: 50%;z-index: -1;}#sk-container-id-1 div.sk-parallel-item {display: flex;flex-direction: column;z-index: 1;position: relative;background-color: white;}#sk-container-id-1 div.sk-parallel-item:first-child::after {align-self: flex-end;width: 50%;}#sk-container-id-1 div.sk-parallel-item:last-child::after {align-self: flex-start;width: 50%;}#sk-container-id-1 div.sk-parallel-item:only-child::after {width: 0;}#sk-container-id-1 div.sk-dashed-wrapped {border: 1px dashed gray;margin: 0 0.4em 0.5em 0.4em;box-sizing: border-box;padding-bottom: 0.4em;background-color: white;}#sk-container-id-1 div.sk-label label {font-family: monospace;font-weight: bold;display: inline-block;line-height: 1.2em;}#sk-container-id-1 div.sk-label-container {text-align: center;}#sk-container-id-1 div.sk-container {/* jupyter's `normalize.less` sets `[hidden] { display: none; }` but bootstrap.min.css set `[hidden] { display: none !important; }` so we also need the `!important` here to be able to override the default hidden behavior on the sphinx rendered scikit-learn.org. See: https://github.com/scikit-learn/scikit-learn/issues/21755 */display: inline-block !important;position: relative;}#sk-container-id-1 div.sk-text-repr-fallback {display: none;}</style><div id=\"sk-container-id-1\" class=\"sk-top-container\"><div class=\"sk-text-repr-fallback\"><pre>XGBRegressor(base_score=None, booster=None, callbacks=None,\n",
       "             colsample_bylevel=None, colsample_bynode=None,\n",
       "             colsample_bytree=None, early_stopping_rounds=None,\n",
       "             enable_categorical=False, eval_metric=None, feature_types=None,\n",
       "             gamma=None, gpu_id=None, grow_policy=None, importance_type=None,\n",
       "             interaction_constraints=None, learning_rate=None, max_bin=None,\n",
       "             max_cat_threshold=None, max_cat_to_onehot=None,\n",
       "             max_delta_step=None, max_depth=None, max_leaves=None,\n",
       "             min_child_weight=None, missing=nan, monotone_constraints=None,\n",
       "             n_estimators=1000, n_jobs=None, num_parallel_tree=None,\n",
       "             predictor=None, random_state=None, ...)</pre><b>In a Jupyter environment, please rerun this cell to show the HTML representation or trust the notebook. <br />On GitHub, the HTML representation is unable to render, please try loading this page with nbviewer.org.</b></div><div class=\"sk-container\" hidden><div class=\"sk-item\"><div class=\"sk-estimator sk-toggleable\"><input class=\"sk-toggleable__control sk-hidden--visually\" id=\"sk-estimator-id-1\" type=\"checkbox\" checked><label for=\"sk-estimator-id-1\" class=\"sk-toggleable__label sk-toggleable__label-arrow\">XGBRegressor</label><div class=\"sk-toggleable__content\"><pre>XGBRegressor(base_score=None, booster=None, callbacks=None,\n",
       "             colsample_bylevel=None, colsample_bynode=None,\n",
       "             colsample_bytree=None, early_stopping_rounds=None,\n",
       "             enable_categorical=False, eval_metric=None, feature_types=None,\n",
       "             gamma=None, gpu_id=None, grow_policy=None, importance_type=None,\n",
       "             interaction_constraints=None, learning_rate=None, max_bin=None,\n",
       "             max_cat_threshold=None, max_cat_to_onehot=None,\n",
       "             max_delta_step=None, max_depth=None, max_leaves=None,\n",
       "             min_child_weight=None, missing=nan, monotone_constraints=None,\n",
       "             n_estimators=1000, n_jobs=None, num_parallel_tree=None,\n",
       "             predictor=None, random_state=None, ...)</pre></div></div></div></div></div>"
      ],
      "text/plain": [
       "XGBRegressor(base_score=None, booster=None, callbacks=None,\n",
       "             colsample_bylevel=None, colsample_bynode=None,\n",
       "             colsample_bytree=None, early_stopping_rounds=None,\n",
       "             enable_categorical=False, eval_metric=None, feature_types=None,\n",
       "             gamma=None, gpu_id=None, grow_policy=None, importance_type=None,\n",
       "             interaction_constraints=None, learning_rate=None, max_bin=None,\n",
       "             max_cat_threshold=None, max_cat_to_onehot=None,\n",
       "             max_delta_step=None, max_depth=None, max_leaves=None,\n",
       "             min_child_weight=None, missing=nan, monotone_constraints=None,\n",
       "             n_estimators=1000, n_jobs=None, num_parallel_tree=None,\n",
       "             predictor=None, random_state=None, ...)"
      ]
     },
     "execution_count": 11,
     "metadata": {},
     "output_type": "execute_result"
    }
   ],
   "source": [
    "# Huấn luyện mô hình\n",
    "model.fit(X_train, y_train, eval_set=[(X_val, y_val)], early_stopping_rounds = 10)"
   ]
  },
  {
   "attachments": {},
   "cell_type": "markdown",
   "metadata": {},
   "source": [
    "DỰ ĐOÁN TRÊN TẬP TEST VÀ VAL"
   ]
  },
  {
   "cell_type": "code",
   "execution_count": 12,
   "metadata": {},
   "outputs": [],
   "source": [
    "# Dự đoán\n",
    "    # Tập test\n",
    "y_pred = model.predict(X_test)\n",
    "\n",
    "    # Tập val\n",
    "y_pred_val = model.predict(X_val)"
   ]
  },
  {
   "attachments": {},
   "cell_type": "markdown",
   "metadata": {},
   "source": [
    "TÍNH ĐỘ LỖI CỦA MÔ HÌNH"
   ]
  },
  {
   "cell_type": "code",
   "execution_count": 13,
   "metadata": {},
   "outputs": [
    {
     "name": "stdout",
     "output_type": "stream",
     "text": [
      "Testing MAE:  17.416504369242933\n",
      "Testing MAPE:  0.24902737814533674\n",
      "Testing MSE:  445.1421099614018\n",
      "Testing RMSE:  21.09839116997791\n",
      "Testing MSLE:  0.06239309145295313\n"
     ]
    }
   ],
   "source": [
    "# Độ lỗi mô hình trên tập test\n",
    "test_mae = mean_absolute_error(y_pred, y_test)\n",
    "test_mape = mean_absolute_percentage_error(y_pred, y_test)\n",
    "test_mse = mean_squared_error(y_pred, y_test)\n",
    "test_rmse = np.sqrt(test_mse)\n",
    "test_msle = mean_squared_log_error(y_pred, y_test)\n",
    "\n",
    "print(f\"Testing MAE: \", test_mae)\n",
    "print(f\"Testing MAPE: \", test_mape)\n",
    "print(f\"Testing MSE: \", test_mse)\n",
    "print(f\"Testing RMSE: \", test_rmse)\n",
    "print(f\"Testing MSLE: \", test_msle)"
   ]
  },
  {
   "cell_type": "code",
   "execution_count": 14,
   "metadata": {},
   "outputs": [
    {
     "name": "stdout",
     "output_type": "stream",
     "text": [
      "Validation MAE:  8.452032633542503\n",
      "Validation MAPE:  0.1208281019284114\n",
      "Validation MSE:  83.8003837516448\n",
      "Validation RMSE:  9.154254953388877\n",
      "Validation MSLE:  0.014408202127036616\n"
     ]
    }
   ],
   "source": [
    "# Độ lỗi mô hình trên tập validation\n",
    "val_mae = mean_absolute_error(y_pred_val, y_val)\n",
    "val_mape = mean_absolute_percentage_error(y_pred_val, y_val)\n",
    "val_mse = mean_squared_error(y_pred_val, y_val)\n",
    "val_rmse = np.sqrt(val_mse)\n",
    "val_msle = mean_squared_log_error(y_pred_val, y_val)\n",
    "\n",
    "print(f\"Validation MAE: \",val_mae)\n",
    "print(f\"Validation MAPE: \", val_mape)\n",
    "print(f\"Validation MSE: \", val_mse)\n",
    "print(f\"Validation RMSE: \", val_rmse)\n",
    "print(f\"Validation MSLE: \", val_msle)"
   ]
  },
  {
   "attachments": {},
   "cell_type": "markdown",
   "metadata": {},
   "source": [
    "                                    - DỰ ĐOÁN 30 NGÀY TIẾP THEO"
   ]
  },
  {
   "cell_type": "code",
   "execution_count": 15,
   "metadata": {},
   "outputs": [],
   "source": [
    "# Lấy ra các ngày cuối cùng\n",
    "last_date = stock_ntr.index.max()\n",
    "future_dates = pd.date_range(start=pd.to_datetime(last_date) + pd.DateOffset(days=1), periods=30, freq='D')"
   ]
  },
  {
   "cell_type": "code",
   "execution_count": 16,
   "metadata": {},
   "outputs": [],
   "source": [
    "future_features = data_supervised[:, :-n_out] "
   ]
  },
  {
   "cell_type": "code",
   "execution_count": 17,
   "metadata": {},
   "outputs": [],
   "source": [
    "predicted_close_30 = []  # Danh sách dự đoán giá Close"
   ]
  },
  {
   "cell_type": "code",
   "execution_count": 18,
   "metadata": {},
   "outputs": [],
   "source": [
    "for _ in range(30):\n",
    "    # Dự đoán giá Close cho ngày hiện tại\n",
    "    y_pred_30day = model.predict(future_features)\n",
    "    predicted_close_30.append(y_pred_30day[0])  # Lấy giá trị dự đoán đầu tiên\n",
    "\n",
    "    # # Tạo dữ liệu mới cho ngày kế tiếp\n",
    "    future_features = np.roll(future_features, -1, axis=1)\n",
    "    future_features[:, -1] = y_pred_30day"
   ]
  },
  {
   "cell_type": "code",
   "execution_count": 19,
   "metadata": {},
   "outputs": [
    {
     "name": "stdout",
     "output_type": "stream",
     "text": [
      "[49.32748, 49.62148, 48.825104, 48.68501, 49.13557, 48.829235, 48.829235, 48.913174, 48.941277, 48.874744, 48.874744, 48.874744, 48.874744, 48.874744, 48.874744, 48.874744, 48.874744, 48.874744, 48.874744, 48.874744, 48.874744, 48.874744, 48.874744, 48.874744, 48.874744, 48.874744, 48.874744, 48.874744, 48.874744, 48.874744]\n"
     ]
    }
   ],
   "source": [
    "# In ra danh sách dự đoán giá Close\n",
    "print(predicted_close_30)"
   ]
  },
  {
   "cell_type": "code",
   "execution_count": 20,
   "metadata": {},
   "outputs": [],
   "source": [
    "# Tạo dataframe chứa dữ liệu 30 ngày tới\n",
    "future_data = pd.DataFrame({'Date': future_dates,\n",
    "                            'Close': predicted_close_30,\n",
    "                            })\n",
    "# Sắp xếp Date\n",
    "future_data = future_data.sort_values(by='Date')\n",
    "\n",
    "# Set index là Date\n",
    "future_data.set_index('Date', inplace=True)"
   ]
  },
  {
   "cell_type": "code",
   "execution_count": 21,
   "metadata": {},
   "outputs": [
    {
     "data": {
      "image/png": "[encoded data removed]",
      "text/plain": [
       "<Figure size 1600x500 with 1 Axes>"
      ]
     },
     "metadata": {},
     "output_type": "display_data"
    }
   ],
   "source": [
    "# Vẽ biểu đồ dự đoán và giá trị thực tế trên tập test\n",
    "plt.figure(figsize=(16,5))\n",
    "\n",
    "# Tập train\n",
    "plt.plot(stock_ntr.index[:train_size], y_train)\n",
    "\n",
    "# Tập test\n",
    "plt.plot(stock_ntr.index[train_size:train_size+test_size], y_test)\n",
    "\n",
    "# Dự đoán tập test\n",
    "plt.plot(stock_ntr.index[train_size:train_size+test_size], y_pred)\n",
    "\n",
    "# # Tập validate\n",
    "plt.plot(stock_ntr.index[train_size + test_size + 5: train_size + test_size + val_size], y_val)\n",
    "\n",
    "# # Dự đoán tập validate\n",
    "plt.plot(stock_ntr.index[train_size + test_size + 5: train_size + test_size + val_size], y_pred_val)\n",
    "\n",
    "# Dự đoán cho 30 ngày tiếp theo\n",
    "plt.plot(future_data.index, future_data['Close'])\n",
    "\n",
    "plt.xlabel('Ngày')\n",
    "plt.ylabel('Giá đóng cửa')\n",
    "plt.title('Mô hình dự đoán giá đóng cửa với XgBoost')\n",
    "plt.grid()\n",
    "plt.legend(['Train','Test','Predict','Validate','ValidatePred','Predict30days'])\n",
    "plt.show()"
   ]
  }
 ],
 "metadata": {
  "kernelspec": {
   "display_name": "user_env",
   "language": "python",
   "name": "python3"
  },
  "language_info": {
   "codemirror_mode": {
    "name": "ipython",
    "version": 3
   },
   "file_extension": ".py",
   "mimetype": "text/x-python",
   "name": "python",
   "nbconvert_exporter": "python",
   "pygments_lexer": "ipython3",
   "version": "3.9.16"
  },
  "orig_nbformat": 4
 },
 "nbformat": 4,
 "nbformat_minor": 2
}
